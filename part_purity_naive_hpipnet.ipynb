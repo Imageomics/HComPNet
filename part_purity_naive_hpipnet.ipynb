{
 "cells": [
  {
   "cell_type": "code",
   "execution_count": 1,
   "id": "9b0ba329",
   "metadata": {},
   "outputs": [],
   "source": [
    "import torch.nn as nn\n",
    "import torch\n",
    "\n",
    "import sys, os\n",
    "import random\n",
    "import numpy as np\n",
    "from shutil import copy\n",
    "import matplotlib.pyplot as plt\n",
    "from copy import deepcopy\n",
    "\n",
    "from omegaconf import OmegaConf\n",
    "import shutil\n",
    "import pickle\n",
    "import random\n",
    "from tqdm import tqdm\n",
    "\n",
    "from torchvision.datasets.folder import ImageFolder\n",
    "from torch.utils.data import DataLoader\n",
    "from skimage.filters import threshold_local, gaussian\n",
    "\n",
    "import pdb"
   ]
  },
  {
   "cell_type": "code",
   "execution_count": 2,
   "id": "d7743f7e",
   "metadata": {},
   "outputs": [],
   "source": [
    "# run_path = '/home/harishbabu/projects/PIPNet/runs/010-CUB-27-imgnet_OOD_cnext26_img=224_nprotos=20'\n",
    "# run_path = '/home/harishbabu/projects/PIPNet/runs/031-CUB-18-imgnet_cnext26_img=224_nprotos=20_orth-on-rel'\n",
    "# run_path = '/home/harishbabu/projects/PIPNet/runs/032-CUB-18-imgnet_cnext26_img=224_nprotos=20_orth-on-rel'\n",
    "\n",
    "# run_path = '/home/harishbabu/projects/PIPNet/runs/035-CUB-18-imgnet_OOD_cnext26_img=224_nprotos=20_orth-on-rel'\n",
    "\n",
    "# run_path = '/home/harishbabu/projects/PIPNet/runs/043-035_clone-CUB-18-imgnet_OOD_cnext26_img=224_nprotos=20_orth-on-rel'\n",
    "# run_path = \"/home/harishbabu/projects/PIPNet/runs/036-CUB-18-imgnet_OOD_cnext26_img=224_nprotos=20_orth-on-rel_uniformity\"\n",
    "# run_path = \"/home/harishbabu/projects/PIPNet/runs/041-035_clone-CUB-18-imgnet_OOD_cnext26_img=224_nprotos=20_orth-on-rel\"\n",
    "# run_path = \"/home/harishbabu/projects/PIPNet/runs/042-035_clone-CUB-18-imgnet_OOD_cnext26_img=224_nprotos=20_orth-on-rel\"\n",
    "\n",
    "# run_path = \"/home/harishbabu/projects/PIPNet/runs/044-CUB-18-imgnet_OOD_cnext26_img=224_nprotos=20-or-4per-desc_orth-on-rel\"\n",
    "\n",
    "# run_path = \"/home/harishbabu/projects/PIPNet/runs/046-CUB-18-imgnet_OOD_cnext26_img=224_nprotos=10per-desc_orth-on-rel\"\n",
    "# run_path = \"/home/harishbabu/projects/PIPNet/runs/047-CUB-18-imgnet_OOD_cnext26_img=224_nprotos=5per-desc_tanh-desc\"\n",
    "# run_path = \"/home/harishbabu/projects/PIPNet/runs/048-CUB-18-imgnet_OOD_cnext26_img=224_nprotos=5per-desc_tanh-desc_unit-sphere\"\n",
    "# run_path = \"/home/harishbabu/projects/PIPNet/runs/051-CUB-18-imgnet_cnext26_img=224_nprotos=4per-desc_tanh-desc_unit-sphere_AW=5-TW=2-UW=2-CW=2\"\n",
    "# run_path = \"/home/harishbabu/projects/PIPNet/runs/052-CUB-18-imgnet_OOD_cnext26_img=224_nprotos=4per-desc_tanh-desc_unit-sphere_AW=5-TW=2-UW=2-CW=2\"\n",
    "# run_path = \"/home/harishbabu/projects/PIPNet/runs/055-CUB-18_cnext26_img=224_nprotos=4per-desc_unit-sphere_no-softmax_AW=3-TW=2-UW=3-CW=2\"\n",
    "# run_path = \"/home/harishbabu/projects/PIPNet/runs/056-CUB-18-imgnet_cnext26_img=224_nprotos=4per-desc_unit-sphere_no-softmax_AW=3-TW=2-UW=3-CW=2\"\n",
    "# run_path = \"/home/harishbabu/projects/PIPNet/runs/057-CUB-18-imgnet_cnext26_img=224_nprotos=4per-desc_unit-sphere_no-meanpool_no-softmax_AW=3-TW=2-UW=3-CW=2\"\n",
    "# run_path = \"/home/harishbabu/projects/PIPNet/runs/058-CUB-18-imgnet_with-equalize-aug_cnext26_img=224_nprotos=4per-desc_unit-sphere_no-meanpool_no-softmax_AW=3-TW=2-UW=3-CW=2\"\n",
    "\n",
    "# with unit sphere\n",
    "# run_path = \"/home/harishbabu/projects/PIPNet/runs/059-CUB-18-imgnet_with-equalize-aug_cnext26_img=224_nprotos=4per-desc_unit-sphere_finetune=5_no-meanpool_no-softmax_AW=3-TW=2-UW=3-CW=2_batch=20\"\n",
    "\n",
    "# unit sphere with softmax\n",
    "# run_path = \"/home/harishbabu/projects/PIPNet/runs/065-CUB-18-imgnet_with-equalize-aug_cnext26_img=224_nprotos=4per-desc_unit-sphere_finetune=5_no-meanpool_with-softmax_AW=3-TW=2-UW=3-CW=2_batch=20\"\n",
    "\n",
    "# original hpipnet with 20 protos per node no KO, no OOD, no tanh-desc\n",
    "run_path = \"/home/harishbabu/projects/PIPNet/runs/062-CUB-18-imgnet_with-equalize-aug_cnext26_img=224_nprotos=20_no-KO_no-OOD\"\n",
    "\n",
    "# original hpipnet with 20 protos per node no KO, no OOD, WITH tanh-desc\n",
    "# run_path = \"/home/harishbabu/projects/PIPNet/runs/063-CUB-18-imgnet_with-equalize-aug_cnext26_img=224_nprotos=20_no-KO_no-OOD_tanh-desc\"\n",
    "\n",
    "# with unit sphere but no AL+UNI\n",
    "# run_path = \"/home/harishbabu/projects/PIPNet/runs/066-CUB-18-imgnet_with-equalize-aug_cnext26_img=224_nprotos=4per-desc_unit-sphere_finetune=5_no-meanpool_no-softmax_no-align_no-uni_AW=3-TW=2-UW=3-CW=2_batch=20\"\n",
    "\n",
    "# with unit sphere, protopool, with softmax, no tanh-desc\n",
    "# run_path = \"/home/harishbabu/projects/PIPNet/runs/067-CUB-18-imgnet_with-equalize-aug_cnext26_img=224_nprotos=4per-desc_unit-sphere-protopool_finetune=5_no-meanpool_with-softmax_AW=3-TW=2-UW=3-CW=2_batch=20\"\n",
    "\n",
    "# with unit sphere, protopool, with softmax, no tanh-desc, INCORRECT\n",
    "# run_path = \"/home/harishbabu/projects/PIPNet/runs/067-incorrect-CUB-18-imgnet_with-equalize-aug_cnext26_img=224_nprotos=4per-desc_unit-sphere-protopool_finetune=5_no-meanpool_with-softmax_AW=3-TW=2-UW=3-CW=2_batch=20\"\n",
    "\n",
    "# with unit sphere, protopool, no softmax, no tanh-desc\n",
    "# run_path = \"/home/harishbabu/projects/PIPNet/runs/068-CUB-18-imgnet_with-equalize-aug_cnext26_img=224_nprotos=4per-desc_unit-sphere-protopool_finetune=5_no-meanpool_no-softmax_AW=3-TW=2-UW=3-CW=2_batch=20\"\n",
    "\n",
    "# 071 with bias\n",
    "# run_path = \"/home/harishbabu/projects/PIPNet/runs/071-CUB-18-imgnet_with-equalize-aug_cnext26_img=224_nprotos=4per-desc_unit-sphere-protopool_finetune=5_no-meanpool_with-softmax_with-addon-bias_AW=3-TW=2-UW=3-CW=2_batch=20\"\n",
    "\n",
    "# 072 gumbel softmax\n",
    "# run_path = \"/home/harishbabu/projects/PIPNet/runs/072-CUB-18-imgnet_with-equalize-aug_cnext26_img=224_nprotos=4per-desc_unit-sphere-protopool_finetune=5_no-meanpool_with-gumbel-softmax_no-addon-bias_AW=3-TW=2-UW=3-CW=2_batch=20\"\n",
    "\n",
    "# 073 gumbel softmax, tau-1.0\n",
    "# run_path = \"/home/harishbabu/projects/PIPNet/runs/073-CUB-18-imgnet_with-equalize-aug_cnext26_img=224_nprotos=4per-desc_unit-sphere-protopool_finetune=5_no-meanpool_with-gumbel-softmax-tau=1_no-addon-bias_AW=3-TW=2-UW=3-CW=2_batch=20\"\n",
    "\n",
    "# 075 068 with focal loss\n",
    "# run_path = \"/home/harishbabu/projects/PIPNet/runs/075-068-with-focal_CUB-18-imgnet_with-equalize-aug_cnext26_img=224_nprotos=4per-desc_unit-sphere-protopool_finetune=5_no-meanpool_no-softmax_no-addon-bias_AW=3-TW=2-UW=3-CW=2_batch=20\"\n",
    "\n",
    "# 076 cs followed by softmax. Uses align_pf along with align+uni\n",
    "# run_path = \"/home/harishbabu/projects/PIPNet/runs/076_CUB-18-imgnet_with-equalize-aug_cnext26_img=224_nprotos=4per-desc_unit-sphere-protopool_finetune=5_align-pf-during-training_no-meanpool_no-softmax_no-addon-bias_AW=3-TW=2-UW=3-CW=2-APW=5_batch=20\"\n",
    "\n",
    "# 074 multiply_cs_softmax\n",
    "# run_path = \"/home/harishbabu/projects/PIPNet/runs/074-CUB-18-imgnet_with-equalize-aug_cnext26_img=224_nprotos=4per-desc_unit-sphere-protopool_finetune=5_no-meanpool_with-softmax_multi-cs-softmax_no-addon-bias_AW=3-TW=2-UW=3-CW=2_batch=20\"\n",
    "\n",
    "# 077 unit sphere protopool with cosin no softmax constant 20 protos per node\n",
    "# run_path = \"/home/harishbabu/projects/PIPNet/runs/077_CUB-18-imgnet_with-equalize-aug_cnext26_img=224_nprotos=20-sphere-protopool_finetune=5_align-pf-during-training_no-meanpool_no-softmax_no-addon-bias_AW=3-TW=2-UW=3-CW=2_batch=20\"\n",
    "\n",
    "# 082 unit sphere cs followed by softmax with minmazimize loss\n",
    "# run_path = \"/home/harishbabu/projects/PIPNet/runs/082-CUB-18-imgnet_with-equalize-aug_cnext26_img=224_nprotos=4per-leaf-desc_unit-sphere_finetune=5_no-meanpool_with-softmax_no-addon-bias_AW=3-TW=2-MMW=2-UW=3-CW=2_mm-loss_batch=48\"\n",
    "\n",
    "# 083 unit sphere cs followed by softmax with minmazimize loss\n",
    "# run_path = \"/home/harishbabu/projects/PIPNet/runs/083-CUB-18-imgnet_with-equalize-aug_cnext26_img=224_nprotos=4per-leaf-desc_unit-sphere_finetune=5_no-meanpool_with-softmax_no-addon-bias_AW=3-TW=2-MMW=2-UW=3-CW=2_no-align_no-uni_no-mm-loss_batch=48\"\n",
    "\n",
    "# 085 unit sphere cs followed by softmax-with-tau with minmazimize loss\n",
    "# run_path = \"/home/harishbabu/projects/PIPNet/runs/085-notebook-CUB-18-imgnet_with-equalize-aug_cnext26_img=224_nprotos=4per-leaf-desc_unit-sphere_finetune=5_no-meanpool_with-softmax-tau=0.2_no-addon-bias_AW=3-TW=2-MMW=2-UW=3-CW=2_mm-loss_batch=12\"\n",
    "\n",
    "# 091 basic gaussian multiplier on stage 4\n",
    "# run_path = \"/home/harishbabu/projects/PIPNet/runs/091-CUB-18-imgnet_with-equalize-aug_cnext26_BGM=4|1.0|50_img=224_latent-dim=256_nprotos=4per-leaf-desc_unit-sphere_finetune=5_no-meanpool_with-softmax-tau=0.2_no-addon-bias_AW=3-TW=2-MMW=2-UW=3-CW=2_mm-loss_batch=48\"\n",
    "\n",
    "# 092 basic gaussian multiplier on stage 3, 4\n",
    "# run_path = \"/home/harishbabu/projects/PIPNet/runs/092-CUB-18-imgnet_with-equalize-aug_cnext26_BGM=3,4|1.0|50_img=224_latent-dim=256_nprotos=4per-leaf-desc_unit-sphere_finetune=5_no-meanpool_with-softmax-tau=0.2_no-addon-bias_AW=3-TW=2-MMW=2-UW=3-CW=2_mm-loss_batch=48\"\n",
    "\n",
    "# 093 128 dim linear\n",
    "# run_path = \"/home/harishbabu/projects/PIPNet/runs/093-CUB-18-imgnet_with-equalize-aug_cnext26_BGM=4|1.0|50_img=224_latent-dim=128_nprotos=20_unit-sphere_finetune=5_no-meanpool_with-softmax-tau=0.2_no-addon-bias_AW=3-TW=2-MMW=2-UW=1-CW=2_mm-loss_batch=48\"\n",
    "\n",
    "# 094 128 dim linear\n",
    "# run_path = \"/home/harishbabu/projects/PIPNet/runs/094-CUB-18-imgnet_with-equalize-aug_cnext26_BGM=4|1.0|50_img=224_latent-dim=128_nprotos=20_unit-sphere_finetune=5_no-meanpool_with-softmax-tau=0.2_no-addon-bias_AW=3-TW=2-MMW=2-UW=1-CW=2_mm-loss_batch=48\"\n",
    "\n",
    "# 095 ablation 091 without AL+UNI\n",
    "# run_path = \"/home/harishbabu/projects/PIPNet/runs/095-091-woALUNI-CUB-18-imgnet_with-equalize-aug_cnext26_BGM=4|1.0|50_img=224_nprotos=4per-leaf-desc_unit-sphere_finetune=5_no-meanpool_with-softmax-tau=0.2_no-addon-bias_AW=3-TW=2-MMW=2-UW=3-CW=2_no-AL_no-UNI_mm-loss_batch=48\"\n",
    "\n",
    "# 096 ablation 091 without AL+UNI\n",
    "# run_path = \"/home/harishbabu/projects/PIPNet/runs/096-091-wfocal-CUB-18-imgnet_with-equalize-aug_cnext26_BGM=4|1.0|50_img=224_nprotos=4per-leaf-desc_unit-sphere_finetune=5_no-meanpool_with-softmax-tau=0.2_no-addon-bias_AW=3-TW=2-MMW=2-UW=3-CW=2_mm-loss_batch=48\"\n",
    "\n",
    "# 097 - 091 with bg\n",
    "# run_path = \"/home/harishbabu/projects/PIPNet/runs/097-091-wbg-CUB-18_with-equalize-aug_cnext26_BGM=4|1.0|50_img=224_nprotos=4per-leaf-desc_unit-sphere_finetune=5_no-meanpool_with-softmax-tau=0.2_no-addon-bias_AW=3-TW=2-MMW=2-UW=3-CW=2_mm-loss_batch=48\"\n",
    "\n",
    "# 0100 cub29 with 20 per node\n",
    "# run_path = \"/home/harishbabu/projects/PIPNet/runs/100_CUB-29-imgnet_with-equalize-aug_cnext26_BGM=4|1.0|50_img=224_nprotos=20_unit-sphere-protopool_no-meanpool_with-softmax-tau=0.2_no-addon-bias_AW=3-TW=2-MMW=2-UW=3-CW=2_mm-loss_batch=48\"\n",
    "\n",
    "# 0101 baseline with 4 per desc per node\n",
    "# run_path = \"/home/harishbabu/projects/PIPNet/runs/101-baseline-CUB-18-imgnet_with-equalize-aug_cnext26_img=224_nprotos=4per-desc_no-KO_no-OOD\"\n",
    "\n",
    "# 0103 091 with 20 per node\n",
    "# run_path = \"/home/harishbabu/projects/PIPNet/runs/103-091-wProtoPool20PerNode_CUB-18-imgnet_with-equalize-aug_cnext26_BGM=4|1.0|50_img=224_nprotos=20_unit-sphere-protopool_no-meanpool_with-softmax-tau=0.2_no-addon-bias_AW=3-TW=2-MMW=2-UW=3-CW=2_batch=48\"\n",
    "\n",
    "try:\n",
    "    sys.path.remove('/home/harishbabu/projects/PIPNet')\n",
    "except:\n",
    "    pass\n",
    "sys.path.insert(0, os.path.join(run_path, 'source_clone'))\n"
   ]
  },
  {
   "cell_type": "code",
   "execution_count": 3,
   "id": "e7f39153",
   "metadata": {},
   "outputs": [],
   "source": [
    "from pipnet.pipnet import PIPNet, get_network\n",
    "from util.log import Log\n",
    "from util.args import get_args, save_args, get_optimizer_nn\n",
    "from util.data import get_dataloaders\n",
    "from util.func import init_weights_xavier\n",
    "from pipnet.train import train_pipnet, test_pipnet\n",
    "# from pipnet.test import eval_pipnet, get_thresholds, eval_ood\n",
    "from util.eval_cub_csv import eval_prototypes_cub_parts_csv, get_topk_cub, get_proto_patches_cub\n",
    "from util.vis_pipnet import visualize, visualize_topk\n",
    "from util.visualize_prediction import vis_pred, vis_pred_experiments\n",
    "from util.node import Node\n",
    "from util.phylo_utils import construct_phylo_tree, construct_discretized_phylo_tree\n",
    "from util.func import get_patch_size\n",
    "from util.data import ModifiedLabelLoader"
   ]
  },
  {
   "cell_type": "markdown",
   "id": "6eba5e1c",
   "metadata": {},
   "source": [
    "# Load model"
   ]
  },
  {
   "cell_type": "code",
   "execution_count": 4,
   "id": "c79f958f",
   "metadata": {},
   "outputs": [
    {
     "name": "stdout",
     "output_type": "stream",
     "text": [
      "------------------------- No discretization -------------------------\n"
     ]
    }
   ],
   "source": [
    "args_file = open(os.path.join(run_path, 'metadata', 'args.pickle'), 'rb')\n",
    "args = pickle.load(args_file)\n",
    "\n",
    "if args.phylo_config:\n",
    "    phylo_config = OmegaConf.load(args.phylo_config)\n",
    "\n",
    "if args.phylo_config:\n",
    "    # construct the phylo tree\n",
    "    if phylo_config.phyloDistances_string == 'None':\n",
    "        if '031' in run_path: # this run uses a different phylogeny file that had an extra root node which is a mistake\n",
    "            root = construct_phylo_tree('/home/harishbabu/data/phlyogenyCUB/18Species-with-extra-root-node/1_tree-consensus-Hacket-18Species-modified_cub-names_v1.phy')\n",
    "        else:\n",
    "            root = construct_phylo_tree(phylo_config.phylogeny_path)\n",
    "        print('-'*25 + ' No discretization ' + '-'*25)\n",
    "    else:\n",
    "        root = construct_discretized_phylo_tree(phylo_config.phylogeny_path, phylo_config.phyloDistances_string)\n",
    "        print('-'*25 + ' Discretized ' + '-'*25)\n",
    "else:\n",
    "    # construct the tree (original hierarchy as described in the paper)\n",
    "    root = Node(\"root\")\n",
    "    root.add_children(['animal','vehicle','everyday_object','weapon','scuba_diver'])\n",
    "    root.add_children_to('animal',['non_primate','primate'])\n",
    "    root.add_children_to('non_primate',['African_elephant','giant_panda','lion'])\n",
    "    root.add_children_to('primate',['capuchin','gibbon','orangutan'])\n",
    "    root.add_children_to('vehicle',['ambulance','pickup','sports_car'])\n",
    "    root.add_children_to('everyday_object',['laptop','sandal','wine_bottle'])\n",
    "    root.add_children_to('weapon',['assault_rifle','rifle'])\n",
    "    # flat root\n",
    "    # root.add_children(['scuba_diver','African_elephant','giant_panda','lion','capuchin','gibbon','orangutan','ambulance','pickup','sports_car','laptop','sandal','wine_bottle','assault_rifle','rifle'])\n",
    "root.assign_all_descendents()\n",
    "\n",
    "exp_no = int(os.path.basename(run_path)[:3])\n",
    "\n",
    "if exp_no < 77:\n",
    "    if ('num_protos_per_descendant' in args) and (args.num_protos_per_descendant > 0):\n",
    "        for node in root.nodes_with_children():\n",
    "            node.set_num_protos(args.num_protos_per_descendant)\n",
    "else:\n",
    "    if ('num_protos_per_descendant' in args):\n",
    "        # update num of protos per node based on num_protos_per_descendant\n",
    "        if args.num_features == 0 and args.num_protos_per_descendant == 0:\n",
    "            raise Exception('Either of num_features or num_protos_per_descendant must be greater than zero')\n",
    "        for node in root.nodes_with_children():\n",
    "            node.set_num_protos(num_protos_per_descendant=args.num_protos_per_descendant,\\\n",
    "                                min_protos=args.num_features,\\\n",
    "                                split_protos=('protopool' in args) and (args.protopool == 'n'))"
   ]
  },
  {
   "cell_type": "code",
   "execution_count": 5,
   "id": "d8ef999b",
   "metadata": {},
   "outputs": [
    {
     "name": "stdout",
     "output_type": "stream",
     "text": [
      "Num classes (k) =  18 ['cub_001_Black_footed_Albatross', 'cub_002_Laysan_Albatross', 'cub_003_Sooty_Albatross', 'cub_004_Groove_billed_Ani', 'cub_023_Brandt_Cormorant'] etc.\n",
      "64 64\n",
      "Classes:  {'cub_001_Black_footed_Albatross': 0, 'cub_002_Laysan_Albatross': 1, 'cub_003_Sooty_Albatross': 2, 'cub_004_Groove_billed_Ani': 3, 'cub_023_Brandt_Cormorant': 4, 'cub_024_Red_faced_Cormorant': 5, 'cub_025_Pelagic_Cormorant': 6, 'cub_031_Black_billed_Cuckoo': 7, 'cub_032_Mangrove_Cuckoo': 8, 'cub_033_Yellow_billed_Cuckoo': 9, 'cub_045_Northern_Fulmar': 10, 'cub_050_Eared_Grebe': 11, 'cub_051_Horned_Grebe': 12, 'cub_052_Pied_billed_Grebe': 13, 'cub_053_Western_Grebe': 14, 'cub_086_Pacific_Loon': 15, 'cub_100_Brown_Pelican': 16, 'cub_101_White_Pelican': 17}\n",
      "Number of prototypes:  20\n",
      "Assigned 20 protos to node root\n",
      "Assigned 20 protos to node 052+053\n",
      "Assigned 20 protos to node 004+086\n",
      "Assigned 20 protos to node 053+050\n",
      "Assigned 20 protos to node 004+032\n",
      "Assigned 20 protos to node 086+045\n",
      "Assigned 20 protos to node 050+051\n",
      "Assigned 20 protos to node 032+033\n",
      "Assigned 20 protos to node 045+101\n",
      "Assigned 20 protos to node 033+031\n",
      "Assigned 20 protos to node 045+003\n",
      "Assigned 20 protos to node 101+023\n",
      "Assigned 20 protos to node 003+002\n",
      "Assigned 20 protos to node 101+100\n",
      "Assigned 20 protos to node 023+025\n",
      "Assigned 20 protos to node 002+001\n",
      "Assigned 20 protos to node 025+024\n",
      "DataParallel(\n",
      "  (module): PIPNet(\n",
      "    (_net): ConvNeXt(\n",
      "      (features): Sequential(\n",
      "        (0): Conv2dNormActivation(\n",
      "          (0): Conv2d(3, 96, kernel_size=(4, 4), stride=(4, 4))\n",
      "          (1): LayerNorm2d((96,), eps=1e-06, elementwise_affine=True)\n",
      "        )\n",
      "        (1): Sequential(\n",
      "          (0): CNBlock(\n",
      "            (block): Sequential(\n",
      "              (0): Conv2d(96, 96, kernel_size=(7, 7), stride=(1, 1), padding=(3, 3), groups=96)\n",
      "              (1): Permute()\n",
      "              (2): LayerNorm((96,), eps=1e-06, elementwise_affine=True)\n",
      "              (3): Linear(in_features=96, out_features=384, bias=True)\n",
      "              (4): GELU(approximate='none')\n",
      "              (5): Linear(in_features=384, out_features=96, bias=True)\n",
      "              (6): Permute()\n",
      "            )\n",
      "            (stochastic_depth): StochasticDepth(p=0.0, mode=row)\n",
      "          )\n",
      "          (1): CNBlock(\n",
      "            (block): Sequential(\n",
      "              (0): Conv2d(96, 96, kernel_size=(7, 7), stride=(1, 1), padding=(3, 3), groups=96)\n",
      "              (1): Permute()\n",
      "              (2): LayerNorm((96,), eps=1e-06, elementwise_affine=True)\n",
      "              (3): Linear(in_features=96, out_features=384, bias=True)\n",
      "              (4): GELU(approximate='none')\n",
      "              (5): Linear(in_features=384, out_features=96, bias=True)\n",
      "              (6): Permute()\n",
      "            )\n",
      "            (stochastic_depth): StochasticDepth(p=0.0058823529411764705, mode=row)\n",
      "          )\n",
      "          (2): CNBlock(\n",
      "            (block): Sequential(\n",
      "              (0): Conv2d(96, 96, kernel_size=(7, 7), stride=(1, 1), padding=(3, 3), groups=96)\n",
      "              (1): Permute()\n",
      "              (2): LayerNorm((96,), eps=1e-06, elementwise_affine=True)\n",
      "              (3): Linear(in_features=96, out_features=384, bias=True)\n",
      "              (4): GELU(approximate='none')\n",
      "              (5): Linear(in_features=384, out_features=96, bias=True)\n",
      "              (6): Permute()\n",
      "            )\n",
      "            (stochastic_depth): StochasticDepth(p=0.011764705882352941, mode=row)\n",
      "          )\n",
      "        )\n",
      "        (2): Sequential(\n",
      "          (0): LayerNorm2d((96,), eps=1e-06, elementwise_affine=True)\n",
      "          (1): Conv2d(96, 192, kernel_size=(2, 2), stride=(2, 2))\n",
      "        )\n",
      "        (3): Sequential(\n",
      "          (0): CNBlock(\n",
      "            (block): Sequential(\n",
      "              (0): Conv2d(192, 192, kernel_size=(7, 7), stride=(1, 1), padding=(3, 3), groups=192)\n",
      "              (1): Permute()\n",
      "              (2): LayerNorm((192,), eps=1e-06, elementwise_affine=True)\n",
      "              (3): Linear(in_features=192, out_features=768, bias=True)\n",
      "              (4): GELU(approximate='none')\n",
      "              (5): Linear(in_features=768, out_features=192, bias=True)\n",
      "              (6): Permute()\n",
      "            )\n",
      "            (stochastic_depth): StochasticDepth(p=0.017647058823529415, mode=row)\n",
      "          )\n",
      "          (1): CNBlock(\n",
      "            (block): Sequential(\n",
      "              (0): Conv2d(192, 192, kernel_size=(7, 7), stride=(1, 1), padding=(3, 3), groups=192)\n",
      "              (1): Permute()\n",
      "              (2): LayerNorm((192,), eps=1e-06, elementwise_affine=True)\n",
      "              (3): Linear(in_features=192, out_features=768, bias=True)\n",
      "              (4): GELU(approximate='none')\n",
      "              (5): Linear(in_features=768, out_features=192, bias=True)\n",
      "              (6): Permute()\n",
      "            )\n",
      "            (stochastic_depth): StochasticDepth(p=0.023529411764705882, mode=row)\n",
      "          )\n",
      "          (2): CNBlock(\n",
      "            (block): Sequential(\n",
      "              (0): Conv2d(192, 192, kernel_size=(7, 7), stride=(1, 1), padding=(3, 3), groups=192)\n",
      "              (1): Permute()\n",
      "              (2): LayerNorm((192,), eps=1e-06, elementwise_affine=True)\n",
      "              (3): Linear(in_features=192, out_features=768, bias=True)\n",
      "              (4): GELU(approximate='none')\n",
      "              (5): Linear(in_features=768, out_features=192, bias=True)\n",
      "              (6): Permute()\n",
      "            )\n",
      "            (stochastic_depth): StochasticDepth(p=0.029411764705882353, mode=row)\n",
      "          )\n",
      "        )\n",
      "        (4): Sequential(\n",
      "          (0): LayerNorm2d((192,), eps=1e-06, elementwise_affine=True)\n",
      "          (1): Conv2d(192, 384, kernel_size=(2, 2), stride=(1, 1))\n",
      "        )\n",
      "        (5): Sequential(\n",
      "          (0): CNBlock(\n",
      "            (block): Sequential(\n",
      "              (0): Conv2d(384, 384, kernel_size=(7, 7), stride=(1, 1), padding=(3, 3), groups=384)\n",
      "              (1): Permute()\n",
      "              (2): LayerNorm((384,), eps=1e-06, elementwise_affine=True)\n",
      "              (3): Linear(in_features=384, out_features=1536, bias=True)\n",
      "              (4): GELU(approximate='none')\n",
      "              (5): Linear(in_features=1536, out_features=384, bias=True)\n",
      "              (6): Permute()\n",
      "            )\n",
      "            (stochastic_depth): StochasticDepth(p=0.03529411764705883, mode=row)\n",
      "          )\n",
      "          (1): CNBlock(\n",
      "            (block): Sequential(\n",
      "              (0): Conv2d(384, 384, kernel_size=(7, 7), stride=(1, 1), padding=(3, 3), groups=384)\n",
      "              (1): Permute()\n",
      "              (2): LayerNorm((384,), eps=1e-06, elementwise_affine=True)\n",
      "              (3): Linear(in_features=384, out_features=1536, bias=True)\n",
      "              (4): GELU(approximate='none')\n",
      "              (5): Linear(in_features=1536, out_features=384, bias=True)\n",
      "              (6): Permute()\n",
      "            )\n",
      "            (stochastic_depth): StochasticDepth(p=0.0411764705882353, mode=row)\n",
      "          )\n",
      "          (2): CNBlock(\n",
      "            (block): Sequential(\n",
      "              (0): Conv2d(384, 384, kernel_size=(7, 7), stride=(1, 1), padding=(3, 3), groups=384)\n",
      "              (1): Permute()\n",
      "              (2): LayerNorm((384,), eps=1e-06, elementwise_affine=True)\n",
      "              (3): Linear(in_features=384, out_features=1536, bias=True)\n",
      "              (4): GELU(approximate='none')\n",
      "              (5): Linear(in_features=1536, out_features=384, bias=True)\n",
      "              (6): Permute()\n",
      "            )\n",
      "            (stochastic_depth): StochasticDepth(p=0.047058823529411764, mode=row)\n",
      "          )\n",
      "          (3): CNBlock(\n",
      "            (block): Sequential(\n",
      "              (0): Conv2d(384, 384, kernel_size=(7, 7), stride=(1, 1), padding=(3, 3), groups=384)\n",
      "              (1): Permute()\n",
      "              (2): LayerNorm((384,), eps=1e-06, elementwise_affine=True)\n",
      "              (3): Linear(in_features=384, out_features=1536, bias=True)\n",
      "              (4): GELU(approximate='none')\n",
      "              (5): Linear(in_features=1536, out_features=384, bias=True)\n",
      "              (6): Permute()\n",
      "            )\n",
      "            (stochastic_depth): StochasticDepth(p=0.052941176470588235, mode=row)\n",
      "          )\n",
      "          (4): CNBlock(\n",
      "            (block): Sequential(\n",
      "              (0): Conv2d(384, 384, kernel_size=(7, 7), stride=(1, 1), padding=(3, 3), groups=384)\n",
      "              (1): Permute()\n",
      "              (2): LayerNorm((384,), eps=1e-06, elementwise_affine=True)\n",
      "              (3): Linear(in_features=384, out_features=1536, bias=True)\n",
      "              (4): GELU(approximate='none')\n",
      "              (5): Linear(in_features=1536, out_features=384, bias=True)\n",
      "              (6): Permute()\n",
      "            )\n",
      "            (stochastic_depth): StochasticDepth(p=0.058823529411764705, mode=row)\n",
      "          )\n",
      "          (5): CNBlock(\n",
      "            (block): Sequential(\n",
      "              (0): Conv2d(384, 384, kernel_size=(7, 7), stride=(1, 1), padding=(3, 3), groups=384)\n",
      "              (1): Permute()\n",
      "              (2): LayerNorm((384,), eps=1e-06, elementwise_affine=True)\n",
      "              (3): Linear(in_features=384, out_features=1536, bias=True)\n",
      "              (4): GELU(approximate='none')\n",
      "              (5): Linear(in_features=1536, out_features=384, bias=True)\n",
      "              (6): Permute()\n",
      "            )\n",
      "            (stochastic_depth): StochasticDepth(p=0.06470588235294118, mode=row)\n",
      "          )\n",
      "          (6): CNBlock(\n",
      "            (block): Sequential(\n",
      "              (0): Conv2d(384, 384, kernel_size=(7, 7), stride=(1, 1), padding=(3, 3), groups=384)\n",
      "              (1): Permute()\n",
      "              (2): LayerNorm((384,), eps=1e-06, elementwise_affine=True)\n",
      "              (3): Linear(in_features=384, out_features=1536, bias=True)\n",
      "              (4): GELU(approximate='none')\n",
      "              (5): Linear(in_features=1536, out_features=384, bias=True)\n",
      "              (6): Permute()\n",
      "            )\n",
      "            (stochastic_depth): StochasticDepth(p=0.07058823529411766, mode=row)\n",
      "          )\n",
      "          (7): CNBlock(\n",
      "            (block): Sequential(\n",
      "              (0): Conv2d(384, 384, kernel_size=(7, 7), stride=(1, 1), padding=(3, 3), groups=384)\n",
      "              (1): Permute()\n",
      "              (2): LayerNorm((384,), eps=1e-06, elementwise_affine=True)\n",
      "              (3): Linear(in_features=384, out_features=1536, bias=True)\n",
      "              (4): GELU(approximate='none')\n",
      "              (5): Linear(in_features=1536, out_features=384, bias=True)\n",
      "              (6): Permute()\n",
      "            )\n",
      "            (stochastic_depth): StochasticDepth(p=0.07647058823529412, mode=row)\n",
      "          )\n",
      "          (8): CNBlock(\n",
      "            (block): Sequential(\n",
      "              (0): Conv2d(384, 384, kernel_size=(7, 7), stride=(1, 1), padding=(3, 3), groups=384)\n",
      "              (1): Permute()\n",
      "              (2): LayerNorm((384,), eps=1e-06, elementwise_affine=True)\n",
      "              (3): Linear(in_features=384, out_features=1536, bias=True)\n",
      "              (4): GELU(approximate='none')\n",
      "              (5): Linear(in_features=1536, out_features=384, bias=True)\n",
      "              (6): Permute()\n",
      "            )\n",
      "            (stochastic_depth): StochasticDepth(p=0.0823529411764706, mode=row)\n",
      "          )\n",
      "        )\n",
      "        (6): Sequential(\n",
      "          (0): LayerNorm2d((384,), eps=1e-06, elementwise_affine=True)\n",
      "          (1): Conv2d(384, 768, kernel_size=(2, 2), stride=(1, 1))\n",
      "        )\n",
      "        (7): Sequential(\n",
      "          (0): CNBlock(\n",
      "            (block): Sequential(\n",
      "              (0): Conv2d(768, 768, kernel_size=(7, 7), stride=(1, 1), padding=(3, 3), groups=768)\n",
      "              (1): Permute()\n",
      "              (2): LayerNorm((768,), eps=1e-06, elementwise_affine=True)\n",
      "              (3): Linear(in_features=768, out_features=3072, bias=True)\n",
      "              (4): GELU(approximate='none')\n",
      "              (5): Linear(in_features=3072, out_features=768, bias=True)\n",
      "              (6): Permute()\n",
      "            )\n",
      "            (stochastic_depth): StochasticDepth(p=0.08823529411764706, mode=row)\n",
      "          )\n",
      "          (1): CNBlock(\n",
      "            (block): Sequential(\n",
      "              (0): Conv2d(768, 768, kernel_size=(7, 7), stride=(1, 1), padding=(3, 3), groups=768)\n",
      "              (1): Permute()\n",
      "              (2): LayerNorm((768,), eps=1e-06, elementwise_affine=True)\n",
      "              (3): Linear(in_features=768, out_features=3072, bias=True)\n",
      "              (4): GELU(approximate='none')\n",
      "              (5): Linear(in_features=3072, out_features=768, bias=True)\n",
      "              (6): Permute()\n",
      "            )\n",
      "            (stochastic_depth): StochasticDepth(p=0.09411764705882353, mode=row)\n",
      "          )\n",
      "          (2): CNBlock(\n",
      "            (block): Sequential(\n",
      "              (0): Conv2d(768, 768, kernel_size=(7, 7), stride=(1, 1), padding=(3, 3), groups=768)\n",
      "              (1): Permute()\n",
      "              (2): LayerNorm((768,), eps=1e-06, elementwise_affine=True)\n",
      "              (3): Linear(in_features=768, out_features=3072, bias=True)\n",
      "              (4): GELU(approximate='none')\n",
      "              (5): Linear(in_features=3072, out_features=768, bias=True)\n",
      "              (6): Permute()\n",
      "            )\n",
      "            (stochastic_depth): StochasticDepth(p=0.1, mode=row)\n",
      "          )\n",
      "        )\n",
      "      )\n",
      "      (avgpool): Identity()\n",
      "      (classifier): Identity()\n",
      "    )\n",
      "    (_root_add_on): Conv2d(768, 20, kernel_size=(1, 1), stride=(1, 1))\n",
      "    (_052+053_add_on): Conv2d(768, 20, kernel_size=(1, 1), stride=(1, 1))\n",
      "    (_004+086_add_on): Conv2d(768, 20, kernel_size=(1, 1), stride=(1, 1))\n",
      "    (_053+050_add_on): Conv2d(768, 20, kernel_size=(1, 1), stride=(1, 1))\n",
      "    (_004+032_add_on): Conv2d(768, 20, kernel_size=(1, 1), stride=(1, 1))\n",
      "    (_086+045_add_on): Conv2d(768, 20, kernel_size=(1, 1), stride=(1, 1))\n",
      "    (_050+051_add_on): Conv2d(768, 20, kernel_size=(1, 1), stride=(1, 1))\n",
      "    (_032+033_add_on): Conv2d(768, 20, kernel_size=(1, 1), stride=(1, 1))\n",
      "    (_045+101_add_on): Conv2d(768, 20, kernel_size=(1, 1), stride=(1, 1))\n",
      "    (_033+031_add_on): Conv2d(768, 20, kernel_size=(1, 1), stride=(1, 1))\n",
      "    (_045+003_add_on): Conv2d(768, 20, kernel_size=(1, 1), stride=(1, 1))\n",
      "    (_101+023_add_on): Conv2d(768, 20, kernel_size=(1, 1), stride=(1, 1))\n",
      "    (_003+002_add_on): Conv2d(768, 20, kernel_size=(1, 1), stride=(1, 1))\n",
      "    (_101+100_add_on): Conv2d(768, 20, kernel_size=(1, 1), stride=(1, 1))\n",
      "    (_023+025_add_on): Conv2d(768, 20, kernel_size=(1, 1), stride=(1, 1))\n",
      "    (_002+001_add_on): Conv2d(768, 20, kernel_size=(1, 1), stride=(1, 1))\n",
      "    (_025+024_add_on): Conv2d(768, 20, kernel_size=(1, 1), stride=(1, 1))\n",
      "    (_pool): Sequential(\n",
      "      (0): AdaptiveMaxPool2d(output_size=(1, 1))\n",
      "      (1): Flatten(start_dim=1, end_dim=-1)\n",
      "    )\n",
      "    (_root_classification): NonNegLinear()\n",
      "    (_052+053_classification): NonNegLinear()\n",
      "    (_004+086_classification): NonNegLinear()\n",
      "    (_053+050_classification): NonNegLinear()\n",
      "    (_004+032_classification): NonNegLinear()\n",
      "    (_086+045_classification): NonNegLinear()\n",
      "    (_050+051_classification): NonNegLinear()\n",
      "    (_032+033_classification): NonNegLinear()\n",
      "    (_045+101_classification): NonNegLinear()\n",
      "    (_033+031_classification): NonNegLinear()\n",
      "    (_045+003_classification): NonNegLinear()\n",
      "    (_101+023_classification): NonNegLinear()\n",
      "    (_003+002_classification): NonNegLinear()\n",
      "    (_101+100_classification): NonNegLinear()\n",
      "    (_023+025_classification): NonNegLinear()\n",
      "    (_002+001_classification): NonNegLinear()\n",
      "    (_025+024_classification): NonNegLinear()\n",
      "    (_softmax): Softmax(dim=1)\n",
      "  )\n",
      ")\n"
     ]
    }
   ],
   "source": [
    "if torch.cuda.is_available():\n",
    "    device = torch.device('cuda')\n",
    "    device_ids = [torch.cuda.current_device()]\n",
    "else:\n",
    "    device = torch.device('cpu')\n",
    "    device_ids = []\n",
    "\n",
    "# args_file = open(os.path.join(run_path, 'metadata', 'args.pickle'), 'rb')\n",
    "# args = pickle.load(args_file)\n",
    "\n",
    "# ckpt_file_name = 'net_overspecific_pruned_replaced_thresh=0.5_last'\n",
    "ckpt_file_name = 'net_trained_last'\n",
    "# ckpt_file_name = 'net_trained_10'\n",
    "# ckpt_file_name = 'net_pretrained'\n",
    "epoch = ckpt_file_name.split('_')[-1]\n",
    "\n",
    "ckpt_path = os.path.join(run_path, 'checkpoints', ckpt_file_name)\n",
    "checkpoint = torch.load(ckpt_path, map_location=device)\n",
    "\n",
    "if ckpt_file_name != 'net_trained_last':\n",
    "    print('\\n', (10*'-')+'WARNING: Not using the final trained model'+(10*'-'), '\\n')\n",
    "\n",
    "# Obtain the dataset and dataloaders\n",
    "trainloader, trainloader_pretraining, trainloader_normal, trainloader_normal_augment, projectloader, testloader, test_projectloader, classes = get_dataloaders(args, device)\n",
    "\n",
    "print(args.batch_size, trainloader.batch_size)\n",
    "\n",
    "if len(classes)<=20:\n",
    "    if args.validation_size == 0.:\n",
    "        print(\"Classes: \", testloader.dataset.class_to_idx, flush=True)\n",
    "    else:\n",
    "        print(\"Classes: \", str(classes), flush=True)\n",
    "\n",
    "# Create a convolutional network based on arguments and add 1x1 conv layer\n",
    "feature_net, add_on_layers, pool_layer, classification_layers, num_prototypes = get_network(len(classes), args, root=root)\n",
    "   \n",
    "# Create a PIP-Net\n",
    "net = PIPNet(num_classes=len(classes),\n",
    "                    num_prototypes=num_prototypes,\n",
    "                    feature_net = feature_net,\n",
    "                    args = args,\n",
    "                    add_on_layers = add_on_layers,\n",
    "                    pool_layer = pool_layer,\n",
    "                    classification_layers = classification_layers,\n",
    "                    num_parent_nodes = len(root.nodes_with_children()),\n",
    "                    root = root\n",
    "                    )\n",
    "net = net.to(device=device)\n",
    "net = nn.DataParallel(net, device_ids = device_ids)    \n",
    "net.load_state_dict(checkpoint['model_state_dict'],strict=True)\n",
    "print(net.eval())\n",
    "criterion = nn.NLLLoss(reduction='mean').to(device)\n",
    "\n",
    "# Forward one batch through the backbone to get the latent output size\n",
    "# with torch.no_grad():\n",
    "#     xs1, _, _ = next(iter(trainloader))\n",
    "#     xs1 = xs1.to(device)\n",
    "#     proto_features, _, _ = net(xs1)\n",
    "#     wshape = proto_features['root'].shape[-1]\n",
    "#     args.wshape = wshape #needed for calculating image patch size\n",
    "#     print(\"Output shape: \", proto_features['root'].shape, flush=True)\n",
    "    \n",
    "args.wshape = 26"
   ]
  },
  {
   "cell_type": "code",
   "execution_count": 23,
   "id": "8dd56802",
   "metadata": {},
   "outputs": [],
   "source": [
    "from collections import defaultdict\n",
    "import csv\n",
    "import pandas as pd\n",
    "import csv\n",
    "import numpy as np\n",
    "import pandas as pd\n",
    "import os\n",
    "from PIL import Image\n",
    "from tqdm import tqdm\n",
    "import torch\n",
    "from util.func import get_patch_size\n",
    "import csv\n",
    "import torchvision.transforms as transforms\n",
    "import torchvision\n",
    "from util.vis_pipnet import get_img_coordinates\n",
    "\n",
    "def get_topk_cub_nodewise(net, node, projectloader, k, epoch, device, args):    \n",
    "\n",
    "    if isinstance(projectloader.sampler, torch.utils.data.RandomSampler):\n",
    "        raise Exception('Dataset should not be in shuffle')\n",
    "    # Make sure the model is in evaluation mode\n",
    "    net.eval()\n",
    "\n",
    "    modifiedLabelLoader = ModifiedLabelLoader(projectloader, node)\n",
    "    coarse_label2name = modifiedLabelLoader.modifiedlabel2name\n",
    "    node_label_to_children = {label: name for name, label in node.children_to_labels.items()}\n",
    "    project_iter = tqdm(enumerate(modifiedLabelLoader),\n",
    "                        total=len(modifiedLabelLoader),\n",
    "                        desc='Collecting top-k Prototypes CUB parts for '  + node.name,\n",
    "                        mininterval=50.,\n",
    "                        ncols=0)\n",
    "    # IMPORTANT: dataloader should NOT be in shuffle, because imgs will not be shuffled, indexing wont be right\n",
    "    imgs = modifiedLabelLoader.filtered_imgs\n",
    "    if type(projectloader.dataset) == ImageFolder:\n",
    "        name2label = projectloader.dataset.class_to_idx\n",
    "        label2name = {label:name for name, label in name2label.items()}\n",
    "    else:\n",
    "        name2label = projectloader.dataset.dataset.dataset.class_to_idx\n",
    "        label2name = {label:name for name, label in name2label.items()}\n",
    "    \n",
    "    # # Show progress on progress bar\n",
    "    # project_iter = tqdm(enumerate(projectloader),\n",
    "    #                     total=len(projectloader),\n",
    "    #                     desc='Collecting top-k Prototypes CUB parts',\n",
    "    #                     mininterval=50.,\n",
    "    #                     ncols=0)\n",
    "    # imgs = projectloader.dataset.imgs\n",
    "\n",
    "    classification_weights = getattr(net.module, '_'+node.name+'_classification').weight\n",
    "    # classification_weights = net.module._classification.weight\n",
    "\n",
    "    patchsize, skip = get_patch_size(args)\n",
    "\n",
    "    scores_per_prototype = defaultdict(lambda: defaultdict(list))\n",
    "    # scores_per_prototype = dict()\n",
    "    \n",
    "    # Iterate through the projection set\n",
    "    for i, (xs, orig_y, ys) in project_iter:\n",
    "        xs, ys = xs.to(device), ys.to(device)\n",
    "\n",
    "        coarse_label = ys.item()\n",
    "        leaf_label = orig_y.item()\n",
    "\n",
    "        # leaf_descendent = label2name[orig_y.item()][4:7]\n",
    "\n",
    "        with torch.no_grad():\n",
    "            # Use the model to classify this batch of input data\n",
    "            pfs, pooled, _ = net(xs)\n",
    "            pfs = pfs[node.name]\n",
    "            pooled = pooled[node.name]\n",
    "            pooled = pooled.squeeze(0) \n",
    "            pfs = pfs.squeeze(0) \n",
    "            for p in range(pooled.shape[0]):\n",
    "\n",
    "                relevant_proto_classes = torch.nonzero(classification_weights[:, p] > 1e-3)\n",
    "                relevant_proto_class_names = [node_label_to_children[class_idx.item()] for class_idx in relevant_proto_classes]\n",
    "\n",
    "                #ignore prototypes that are not relevant to any class\n",
    "                if len(relevant_proto_class_names) == 0:\n",
    "                    continue\n",
    "\n",
    "                if (coarse_label2name[coarse_label] in relevant_proto_class_names):\n",
    "                    scores_per_prototype[p][leaf_label].append((i, pooled[p].item()))\n",
    "\n",
    "                # c_weight = torch.max(classification_weights[:,p]) \n",
    "                # if c_weight > 1e-5:#ignore prototypes that are not relevant to any class\n",
    "                #     # if p not in scores_per_prototype:\n",
    "                #     #     scores_per_prototype[p] = []\n",
    "                #     scores_per_prototype[p][leaf_descendent].append((i, pooled[p].item()))\n",
    "    \n",
    "    proto_img_coordinates = []\n",
    "    csvfolderpath = os.path.join(args.log_dir, f'node_wise_top{k}')\n",
    "    os.makedirs(csvfolderpath, exist_ok=True)\n",
    "    csvfilepath = os.path.join(csvfolderpath, f'{node.name}_prototypes_top{k}_{str(epoch)}.csv')\n",
    "    too_small = set()\n",
    "    protoype_iter = tqdm(enumerate(scores_per_prototype.keys()), total=len(list(scores_per_prototype.keys())),mininterval=5.,ncols=0,desc='Collecting top-k patch coordinates CUB')\n",
    "    with open(csvfilepath, \"w\", newline='') as csvfile:\n",
    "        print(\"Writing CSV file with top k image patches..\", flush=True)\n",
    "        writer = csv.writer(csvfile, delimiter=',')\n",
    "        writer.writerow([\"node\", \"child\", \"leaf\", \"prototype\", \\\n",
    "                         \"img name\", \"h_min_224\", \"h_max_224\", \\\n",
    "                         \"w_min_224\", \"w_max_224\", \"scores\"])\n",
    "        for _, prototype in protoype_iter:\n",
    "            for leaf_label in scores_per_prototype[prototype]:\n",
    "                leaf_descendent_name = label2name[leaf_label]\n",
    "                child_name = node.closest_descendent_for(leaf_descendent_name).name\n",
    "                leaf_descendent_name = leaf_descendent_name[4:7] # taking only the number from class name\n",
    "                df = pd.DataFrame(scores_per_prototype[prototype][leaf_label], columns=['img_id', 'scores'])\n",
    "                topk = df.nlargest(k, 'scores')\n",
    "                for index, row in topk.iterrows():\n",
    "                    imgid = int(row['img_id'])\n",
    "                    imgname = imgs[imgid][0]\n",
    "                    imgtensor = projectloader.dataset[imgid][0].unsqueeze(0)\n",
    "                    with torch.no_grad():\n",
    "                        # Use the model to classify this batch of input data\n",
    "                        pfs, pooled, _ = net(imgtensor)\n",
    "                        pfs = pfs[node.name]\n",
    "                        pooled = pooled[node.name]\n",
    "                        pfs = pfs.squeeze(0) \n",
    "                        pooled = pooled.squeeze(0)\n",
    "                        if pooled[p].item() < 0.1:\n",
    "                            too_small.add(p)\n",
    "                        location_h, location_h_idx = torch.max(pfs[prototype,:,:], dim=0)\n",
    "                        _, location_w_idx = torch.max(location_h, dim=0)\n",
    "                        location = (location_h_idx[location_w_idx].item(), location_w_idx.item())\n",
    "                        h_coor_min, h_coor_max, w_coor_min, w_coor_max = get_img_coordinates(args.image_size, pfs.shape, patchsize, skip, location[0], location[1])\n",
    "                        proto_img_coordinates.append([node.name, child_name, leaf_descendent_name, \\\n",
    "                                                      prototype, imgname, h_coor_min, h_coor_max, \\\n",
    "                                                      w_coor_min, w_coor_max, row['scores']])\n",
    "            # write intermediate results in case of large dataset\n",
    "            if len(proto_img_coordinates)> 10000:\n",
    "                writer.writerows(proto_img_coordinates) \n",
    "                proto_img_coordinates = []\n",
    "        print(\"Warning: image patches included in topk, but similarity < 0.1! This might unfairly reduce the purity metric because prototype has less than k similar image patches. You could consider reducing k for prototypes\", too_small, flush=True)\n",
    "\n",
    "        writer.writerows(proto_img_coordinates) \n",
    "    return csvfilepath\n",
    "\n",
    "def eval_prototypes_cub_parts_csv_nodewise(node, csvfile, parts_loc_path, parts_name_path, imgs_id_path, epoch, args, desc_threshold=0, log=None):\n",
    "    patchsize, _ = get_patch_size(args)\n",
    "    imgresize = float(args.image_size)\n",
    "    path_to_id = dict()\n",
    "    id_to_path = dict()\n",
    "    with open(imgs_id_path) as f:\n",
    "        for line in f:\n",
    "            id, path = line.split('\\n')[0].split(' ')\n",
    "            path_to_id[path]=id\n",
    "            id_to_path[id]=path\n",
    "\n",
    "    img_to_part_xy_vis = dict()\n",
    "    with open(parts_loc_path) as f:\n",
    "        for line in f:\n",
    "            img, partid, x, y, vis = line.split('\\n')[0].split(' ')\n",
    "            x =float(x)\n",
    "            y =float(y)\n",
    "            if x > 1.06 or y > 1.05:\n",
    "                raise Exception('Provide normalized coordinated for part loc')\n",
    "            if img not in img_to_part_xy_vis.keys():\n",
    "                img_to_part_xy_vis[img]=dict()\n",
    "            if vis == '1':\n",
    "                img_to_part_xy_vis[img][partid]=(x,y)\n",
    "\n",
    "    parts_id_to_name = dict()\n",
    "    parts_name_to_id = dict()\n",
    "    with open (parts_name_path) as f:\n",
    "        for line in f:\n",
    "            id, name = line.split('\\n')[0].split(' ',1)\n",
    "            parts_id_to_name[id]=name\n",
    "            parts_name_to_id[name]=id\n",
    "#     print(parts_id_to_name)\n",
    "\n",
    "    # merge left and right cub parts\n",
    "    duplicate_part_ids = []\n",
    "    with open (parts_name_path) as f:\n",
    "        for line in f:\n",
    "            id, name = line.split('\\n')[0].split(' ',1)\n",
    "            if 'left' in name:\n",
    "                new_name = name.replace('left', 'right')\n",
    "                \n",
    "                duplicate_part_ids.append((id, parts_name_to_id[new_name]))\n",
    "           \n",
    "    proto_parts_presences = dict()\n",
    "    child_name_to_protos = defaultdict(set)\n",
    "    \n",
    "    protos_to_leafs = defaultdict(lambda: defaultdict(list))\n",
    "    bad_protos = set()\n",
    "    with open (csvfile, newline='') as f:\n",
    "        filereader = csv.reader(f, delimiter=',')\n",
    "        next(filereader) #skip header\n",
    "        for (node_name, child_name, leaf_descendant_name, prototype, \\\n",
    "             imgname, h_min_224, h_max_224, w_min_224, w_max_224, score) in filereader:\n",
    "            protos_to_leafs[prototype][leaf_descendant_name].append(float(score))\n",
    "    \n",
    "    # If the mean activation for any of the descendant is less than desc_threshold that is a bad proto\n",
    "    for prototype in protos_to_leafs:\n",
    "        for leaf_descendant_name in protos_to_leafs[prototype]:\n",
    "            if np.mean(protos_to_leafs[prototype][leaf_descendant_name]) < desc_threshold:\n",
    "                bad_protos.add(prototype)\n",
    "                break\n",
    "\n",
    "    with open (csvfile, newline='') as f:\n",
    "        filereader = csv.reader(f, delimiter=',')\n",
    "        next(filereader) #skip header\n",
    "#         pdb.set_trace()\n",
    "        for (node_name, child_name, leaf_descendant_name, prototype, imgname, h_min_224, h_max_224, w_min_224, w_max_224, scores) in filereader:\n",
    "            \n",
    "            if prototype in bad_protos:\n",
    "                continue\n",
    "            \n",
    "            child_name_to_protos[child_name].add(prototype)\n",
    "            \n",
    "            if prototype not in proto_parts_presences.keys():\n",
    "                proto_parts_presences[prototype]=dict()\n",
    "            p = prototype\n",
    "            img = Image.open(imgname)\n",
    "            imgname = imgname.replace('\\\\', '/')\n",
    "            imgnamec, imgnamef = imgname.split('/')[-2:]\n",
    "            if 'normal_' in imgnamef:\n",
    "                imgnamef = imgnamef.split('normal_')[-1]\n",
    "            imgname = imgnamec+'/'+imgnamef\n",
    "            img_id = path_to_id[imgname]\n",
    "            img_orig_width, img_orig_height = img.size\n",
    "            h_min_224, h_max_224, w_min_224, w_max_224 = float(h_min_224), float(h_max_224), float(w_min_224), float(w_max_224)\n",
    "            \n",
    "            \n",
    "            diffh = h_max_224 - h_min_224\n",
    "            diffw = w_max_224 - w_min_224\n",
    "            # IMPORTANT NOTE:\n",
    "            # this could be affecting the part consistency of ProtoPNet quite a lot \n",
    "            # because their activations are not precisely on the foreground always\n",
    "            if diffh > patchsize: #patch size too big, we take the center. otherwise the bigger the patch, the higher the purity.\n",
    "                correction = diffh-patchsize\n",
    "                h_min_224 = h_min_224 + correction//2.\n",
    "                h_max_224 = h_max_224 - correction//2.\n",
    "            if diffw > patchsize:\n",
    "                correction = diffw-patchsize\n",
    "                w_min_224 = w_min_224 + correction//2.\n",
    "                w_max_224 = w_max_224 - correction//2.\n",
    "\n",
    "            orig_img_location_h_min = (img_orig_height/imgresize) * h_min_224 \n",
    "            orig_img_location_h_max = (img_orig_height/imgresize) * h_max_224 \n",
    "            orig_img_location_w_min = (img_orig_width/imgresize) * w_min_224 \n",
    "            orig_img_location_w_max = (img_orig_width/imgresize) * w_max_224 \n",
    "            \n",
    "            orig_img_location_h_min = (h_min_224/imgresize)  \n",
    "            orig_img_location_h_max = (h_max_224/imgresize) \n",
    "            orig_img_location_w_min = (w_min_224/imgresize)  \n",
    "            orig_img_location_w_max = (w_max_224/imgresize) \n",
    "                        \n",
    "            part_dict_img = img_to_part_xy_vis[img_id]\n",
    "            for part in part_dict_img.keys():\n",
    "                x,y = part_dict_img[part]                \n",
    "                part_in_patch = 0 \n",
    "                if y >= orig_img_location_h_min and y <= orig_img_location_h_max:\n",
    "                    if x >= orig_img_location_w_min and x <= orig_img_location_w_max:\n",
    "                        part_in_patch = 1\n",
    "                if part not in proto_parts_presences[p].keys():\n",
    "                    proto_parts_presences[p][part]=[]\n",
    "                    \n",
    "#                 pdb.set_trace()\n",
    "                proto_parts_presences[p][part].append(part_in_patch)\n",
    "            \n",
    "            for pair in duplicate_part_ids:\n",
    "                if pair[0] in part_dict_img.keys():\n",
    "                    if pair[1] in part_dict_img.keys():\n",
    "                        presence0 = proto_parts_presences[p][pair[0]][-1]\n",
    "                        presence1 = proto_parts_presences[p][pair[1]][-1]\n",
    "                        if presence0 > presence1: \n",
    "                            proto_parts_presences[p][pair[1]][-1] = presence0\n",
    "\n",
    "                        del proto_parts_presences[p][pair[0]]\n",
    "                    else:\n",
    "\n",
    "                        if pair[1] not in proto_parts_presences[p].keys():\n",
    "                            proto_parts_presences[p][pair[1]]=[]\n",
    "                        proto_parts_presences[p][pair[1]].append(proto_parts_presences[p][pair[0]][-1])\n",
    "                        del proto_parts_presences[p][pair[0]]\n",
    "                        \n",
    "#     print(\"\\n Eval CUB Parts - Epoch: \", epoch, flush=True)\n",
    "    print(\"Number of prototypes in parts_presences: \", len(proto_parts_presences.keys()), flush=True)\n",
    "    \n",
    "    prototypes_part_related = 0\n",
    "    max_presence_purity = dict()\n",
    "    max_presence_purity_part = dict()\n",
    "    max_presence_purity_sum = dict()\n",
    "\n",
    "    most_often_present_purity = dict()\n",
    "    part_most_present = dict()\n",
    "    \n",
    "    for proto in proto_parts_presences.keys():\n",
    "        \n",
    "        max_presence_purity[proto]= 0.\n",
    "        part_most_present[proto] = ('0',0)\n",
    "        most_often_present_purity[proto] = 0.\n",
    "\n",
    "        # CUB parts 7,8 and 9 are  duplicate (right and left). additional check that these should not occur (already fixed earlier in this function)\n",
    "        if ('7' in proto_parts_presences[proto].keys() or '8' in proto_parts_presences[proto].keys() or '9' in proto_parts_presences[proto].keys()):\n",
    "            print(\"unused part in keys! \", proto, proto_parts_presences[proto].keys(), proto_parts_presences[proto], flush=True)\n",
    "            raise ValueError()\n",
    "        \n",
    "        for part in proto_parts_presences[proto].keys():\n",
    "            presence_purity = np.mean(proto_parts_presences[proto][part])\n",
    "            sum_occurs = np.array(proto_parts_presences[proto][part]).sum()\n",
    "        \n",
    "            # evaluate whether the purity of this prototype for this part is higher than for other parts\n",
    "            if presence_purity > max_presence_purity[proto]:\n",
    "                max_presence_purity[proto]=presence_purity\n",
    "                max_presence_purity_part[proto]=parts_id_to_name[part]\n",
    "                max_presence_purity_sum[proto] = sum_occurs\n",
    "            elif presence_purity == max_presence_purity[proto]:\n",
    "                if presence_purity == 0.:\n",
    "                    max_presence_purity[proto]=presence_purity\n",
    "                    max_presence_purity_part[proto]=parts_id_to_name[part]\n",
    "                    max_presence_purity_sum[proto] = sum_occurs\n",
    "                elif sum_occurs > max_presence_purity_sum[proto]:\n",
    "                    max_presence_purity[proto]=presence_purity\n",
    "                    max_presence_purity_part[proto]=parts_id_to_name[part]\n",
    "                    max_presence_purity_sum[proto] = sum_occurs\n",
    "        \n",
    "            if sum_occurs > part_most_present[proto][1]:\n",
    "                part_most_present[proto] = (part, sum_occurs)\n",
    "                most_often_present_purity[proto]=presence_purity         \n",
    "        if max_presence_purity[proto] > 0.5:\n",
    "            prototypes_part_related += 1 \n",
    "        \n",
    "            \n",
    "    print(f\"Part-related (purity>0.5): {prototypes_part_related}\", flush=True)\n",
    "    purity_of_child = {}\n",
    "    for child_name in child_name_to_protos:\n",
    "        purity_of_child[child_name] = np.mean([max_presence_purity[p] for p in child_name_to_protos[child_name]])\n",
    "        std = np.std([max_presence_purity[p] for p in child_name_to_protos[child_name]])\n",
    "        num_descendants = node.get_node(child_name).num_leaf_descendents()\n",
    "        print('Node:', node.name, '| Child:', child_name, '| Purity:', purity_of_child[child_name], '| Num desc:', num_descendants, '| Num protos:', len(child_name_to_protos[child_name]))\n",
    "\n",
    "#     print(f\"Purity: {}\", np.mean(list(max_presence_purity.values())), \"std: \", np.std(list(max_presence_purity.values())), flush=True)\n",
    "#     print(\"Prototypes with highest-purity part (no contraints): \", max_presence_purity_part, flush=True)\n",
    "#     print(\"Prototype with part that has most often overlap with prototype: \", part_most_present, flush=True)\n",
    "    \n",
    "    if log:\n",
    "        log.log_values('log_epoch_overview', \"p_cub_\"+str(epoch), \"mean purity (averaged over all prototypes, corresponding to purest part)\", \"std purity\", \"mean purity (averaged over all prototypes, corresponding to part with most often overlap)\", \"std purity\", \"# prototypes in csv\", \"#part-related prototypes (purity > 0.5)\",\"\",\"\")\n",
    "\n",
    "        log.log_values('log_epoch_overview', \"p_cub_\"+str(epoch), np.mean(list(max_presence_purity.values())), np.std(list(max_presence_purity.values())), np.mean(list(most_often_present_purity.values())), np.std(list(most_often_present_purity.values())), len(list(proto_parts_presences.keys())), prototypes_part_related, \"\", \"\")\n"
   ]
  },
  {
   "cell_type": "code",
   "execution_count": 24,
   "id": "41f52b8e",
   "metadata": {},
   "outputs": [
    {
     "name": "stderr",
     "output_type": "stream",
     "text": [
      "Collecting top-k Prototypes CUB parts for root: 540it [00:07, 69.81it/s]\n",
      "Collecting top-k patch coordinates CUB:   0% 0/17 [00:00<?, ?it/s]"
     ]
    },
    {
     "name": "stdout",
     "output_type": "stream",
     "text": [
      "Writing CSV file with top k image patches..\n"
     ]
    },
    {
     "name": "stderr",
     "output_type": "stream",
     "text": [
      "Collecting top-k patch coordinates CUB: 100% 17/17 [00:18<00:00,  1.10s/it]"
     ]
    },
    {
     "name": "stdout",
     "output_type": "stream",
     "text": [
      "Warning: image patches included in topk, but similarity < 0.1! This might unfairly reduce the purity metric because prototype has less than k similar image patches. You could consider reducing k for prototypes {19}\n"
     ]
    },
    {
     "name": "stderr",
     "output_type": "stream",
     "text": [
      "\n"
     ]
    },
    {
     "name": "stdout",
     "output_type": "stream",
     "text": [
      "Number of prototypes in parts_presences:  5\n",
      "Part-related (purity>0.5): 4\n",
      "Node: root | Child: 004+086 | Purity: 0.4366977225672878 | Num desc: 14 | Num protos: 2\n",
      "Node: root | Child: 052+053 | Purity: 0.9491452991452992 | Num desc: 4 | Num protos: 3\n"
     ]
    },
    {
     "name": "stderr",
     "output_type": "stream",
     "text": [
      "Collecting top-k Prototypes CUB parts for 052+053: 120it [00:02, 50.67it/s]  \n",
      "Collecting top-k patch coordinates CUB:   0% 0/17 [00:00<?, ?it/s]"
     ]
    },
    {
     "name": "stdout",
     "output_type": "stream",
     "text": [
      "Writing CSV file with top k image patches..\n"
     ]
    },
    {
     "name": "stderr",
     "output_type": "stream",
     "text": [
      "\r",
      "Collecting top-k patch coordinates CUB: 100% 17/17 [00:04<00:00,  3.97it/s]"
     ]
    },
    {
     "name": "stdout",
     "output_type": "stream",
     "text": [
      "Warning: image patches included in topk, but similarity < 0.1! This might unfairly reduce the purity metric because prototype has less than k similar image patches. You could consider reducing k for prototypes {19}\n"
     ]
    },
    {
     "name": "stderr",
     "output_type": "stream",
     "text": [
      "\n"
     ]
    },
    {
     "name": "stdout",
     "output_type": "stream",
     "text": [
      "Number of prototypes in parts_presences:  16\n",
      "Part-related (purity>0.5): 1\n",
      "Node: 052+053 | Child: 053+050 | Purity: 0.1341954022988506 | Num desc: 3 | Num protos: 12\n",
      "Node: 052+053 | Child: cub_052_Pied_billed_Grebe | Purity: 0.4583333333333333 | Num desc: 0 | Num protos: 4\n"
     ]
    },
    {
     "name": "stderr",
     "output_type": "stream",
     "text": [
      "Collecting top-k Prototypes CUB parts for 004+086: 420it [00:06, 68.46it/s]\n",
      "Collecting top-k patch coordinates CUB:   0% 0/18 [00:00<?, ?it/s]"
     ]
    },
    {
     "name": "stdout",
     "output_type": "stream",
     "text": [
      "Writing CSV file with top k image patches..\n"
     ]
    },
    {
     "name": "stderr",
     "output_type": "stream",
     "text": [
      "Collecting top-k patch coordinates CUB: 100% 18/18 [00:13<00:00,  1.31it/s]"
     ]
    },
    {
     "name": "stdout",
     "output_type": "stream",
     "text": [
      "Warning: image patches included in topk, but similarity < 0.1! This might unfairly reduce the purity metric because prototype has less than k similar image patches. You could consider reducing k for prototypes {19}\n"
     ]
    },
    {
     "name": "stderr",
     "output_type": "stream",
     "text": [
      "\n"
     ]
    },
    {
     "name": "stdout",
     "output_type": "stream",
     "text": [
      "Number of prototypes in parts_presences:  6\n",
      "Part-related (purity>0.5): 4\n",
      "Node: 004+086 | Child: 086+045 | Purity: 0.46605301914580266 | Num desc: 10 | Num protos: 2\n",
      "Node: 004+086 | Child: 004+032 | Purity: 0.6642857142857144 | Num desc: 4 | Num protos: 4\n"
     ]
    },
    {
     "name": "stderr",
     "output_type": "stream",
     "text": [
      "Collecting top-k Prototypes CUB parts for 053+050: 90it [00:01, 45.90it/s]   \n",
      "Collecting top-k patch coordinates CUB:   0% 0/16 [00:00<?, ?it/s]"
     ]
    },
    {
     "name": "stdout",
     "output_type": "stream",
     "text": [
      "Writing CSV file with top k image patches..\n"
     ]
    },
    {
     "name": "stderr",
     "output_type": "stream",
     "text": [
      "\r",
      "Collecting top-k patch coordinates CUB: 100% 16/16 [00:02<00:00,  6.07it/s]"
     ]
    },
    {
     "name": "stdout",
     "output_type": "stream",
     "text": [
      "Warning: image patches included in topk, but similarity < 0.1! This might unfairly reduce the purity metric because prototype has less than k similar image patches. You could consider reducing k for prototypes {19}\n"
     ]
    },
    {
     "name": "stderr",
     "output_type": "stream",
     "text": [
      "\n"
     ]
    },
    {
     "name": "stdout",
     "output_type": "stream",
     "text": [
      "Number of prototypes in parts_presences:  16\n",
      "Part-related (purity>0.5): 0\n",
      "Node: 053+050 | Child: 050+051 | Purity: 0.22605263157894737 | Num desc: 2 | Num protos: 10\n",
      "Node: 053+050 | Child: cub_053_Western_Grebe | Purity: 0.275 | Num desc: 0 | Num protos: 6\n"
     ]
    },
    {
     "name": "stderr",
     "output_type": "stream",
     "text": [
      "Collecting top-k Prototypes CUB parts for 004+032: 120it [00:02, 50.99it/s]  \n",
      "Collecting top-k patch coordinates CUB:   0% 0/18 [00:00<?, ?it/s]"
     ]
    },
    {
     "name": "stdout",
     "output_type": "stream",
     "text": [
      "Writing CSV file with top k image patches..\n"
     ]
    },
    {
     "name": "stderr",
     "output_type": "stream",
     "text": [
      "\r",
      "Collecting top-k patch coordinates CUB: 100% 18/18 [00:04<00:00,  3.77it/s]"
     ]
    },
    {
     "name": "stdout",
     "output_type": "stream",
     "text": [
      "Warning: image patches included in topk, but similarity < 0.1! This might unfairly reduce the purity metric because prototype has less than k similar image patches. You could consider reducing k for prototypes {19}\n"
     ]
    },
    {
     "name": "stderr",
     "output_type": "stream",
     "text": [
      "\n"
     ]
    },
    {
     "name": "stdout",
     "output_type": "stream",
     "text": [
      "Number of prototypes in parts_presences:  18\n",
      "Part-related (purity>0.5): 0\n",
      "Node: 004+032 | Child: cub_004_Groove_billed_Ani | Purity: 0.1416666666666667 | Num desc: 0 | Num protos: 3\n",
      "Node: 004+032 | Child: 032+033 | Purity: 0.16756490102287794 | Num desc: 3 | Num protos: 15\n"
     ]
    },
    {
     "name": "stderr",
     "output_type": "stream",
     "text": [
      "Collecting top-k Prototypes CUB parts for 086+045: 300it [00:04, 64.45it/s]  \n",
      "Collecting top-k patch coordinates CUB:   0% 0/19 [00:00<?, ?it/s]"
     ]
    },
    {
     "name": "stdout",
     "output_type": "stream",
     "text": [
      "Writing CSV file with top k image patches..\n"
     ]
    },
    {
     "name": "stderr",
     "output_type": "stream",
     "text": [
      "Collecting top-k patch coordinates CUB: 100% 19/19 [00:14<00:00,  1.30it/s]"
     ]
    },
    {
     "name": "stdout",
     "output_type": "stream",
     "text": [
      "Warning: image patches included in topk, but similarity < 0.1! This might unfairly reduce the purity metric because prototype has less than k similar image patches. You could consider reducing k for prototypes {19}\n"
     ]
    },
    {
     "name": "stderr",
     "output_type": "stream",
     "text": [
      "\n"
     ]
    },
    {
     "name": "stdout",
     "output_type": "stream",
     "text": [
      "Number of prototypes in parts_presences:  4\n",
      "Part-related (purity>0.5): 0\n",
      "Node: 086+045 | Child: 045+101 | Purity: 0.011235955056179775 | Num desc: 9 | Num protos: 1\n",
      "Node: 086+045 | Child: cub_086_Pacific_Loon | Purity: 0.2518518518518518 | Num desc: 0 | Num protos: 3\n"
     ]
    },
    {
     "name": "stderr",
     "output_type": "stream",
     "text": [
      "Collecting top-k Prototypes CUB parts for 050+051: 100% 60/60 [00:01<00:00, 37.03it/s]\n",
      "Collecting top-k patch coordinates CUB:   0% 0/12 [00:00<?, ?it/s]"
     ]
    },
    {
     "name": "stdout",
     "output_type": "stream",
     "text": [
      "Writing CSV file with top k image patches..\n"
     ]
    },
    {
     "name": "stderr",
     "output_type": "stream",
     "text": [
      "\r",
      "Collecting top-k patch coordinates CUB: 100% 12/12 [00:01<00:00,  9.72it/s]"
     ]
    },
    {
     "name": "stdout",
     "output_type": "stream",
     "text": [
      "Warning: image patches included in topk, but similarity < 0.1! This might unfairly reduce the purity metric because prototype has less than k similar image patches. You could consider reducing k for prototypes {19}\n"
     ]
    },
    {
     "name": "stderr",
     "output_type": "stream",
     "text": [
      "\n"
     ]
    },
    {
     "name": "stdout",
     "output_type": "stream",
     "text": [
      "Number of prototypes in parts_presences:  12\n",
      "Part-related (purity>0.5): 0\n",
      "Node: 050+051 | Child: cub_050_Eared_Grebe | Purity: 0.25 | Num desc: 0 | Num protos: 6\n",
      "Node: 050+051 | Child: cub_051_Horned_Grebe | Purity: 0.225 | Num desc: 0 | Num protos: 6\n"
     ]
    },
    {
     "name": "stderr",
     "output_type": "stream",
     "text": [
      "Collecting top-k Prototypes CUB parts for 032+033: 90it [00:01, 46.93it/s]   \n",
      "Collecting top-k patch coordinates CUB:   0% 0/11 [00:00<?, ?it/s]"
     ]
    },
    {
     "name": "stdout",
     "output_type": "stream",
     "text": [
      "Writing CSV file with top k image patches..\n"
     ]
    },
    {
     "name": "stderr",
     "output_type": "stream",
     "text": [
      "\r",
      "Collecting top-k patch coordinates CUB: 100% 11/11 [00:01<00:00,  6.44it/s]"
     ]
    },
    {
     "name": "stdout",
     "output_type": "stream",
     "text": [
      "Warning: image patches included in topk, but similarity < 0.1! This might unfairly reduce the purity metric because prototype has less than k similar image patches. You could consider reducing k for prototypes {19}\n"
     ]
    },
    {
     "name": "stderr",
     "output_type": "stream",
     "text": [
      "\n"
     ]
    },
    {
     "name": "stdout",
     "output_type": "stream",
     "text": [
      "Number of prototypes in parts_presences:  11\n",
      "Part-related (purity>0.5): 0\n",
      "Node: 032+033 | Child: 033+031 | Purity: 0.21666451668386655 | Num desc: 2 | Num protos: 6\n",
      "Node: 032+033 | Child: cub_032_Mangrove_Cuckoo | Purity: 0.21714285714285717 | Num desc: 0 | Num protos: 5\n"
     ]
    },
    {
     "name": "stderr",
     "output_type": "stream",
     "text": [
      "Collecting top-k Prototypes CUB parts for 045+101: 270it [00:04, 65.39it/s]\n",
      "Collecting top-k patch coordinates CUB:   0% 0/17 [00:00<?, ?it/s]"
     ]
    },
    {
     "name": "stdout",
     "output_type": "stream",
     "text": [
      "Writing CSV file with top k image patches..\n"
     ]
    },
    {
     "name": "stderr",
     "output_type": "stream",
     "text": [
      "Collecting top-k patch coordinates CUB: 100% 17/17 [00:07<00:00,  2.25it/s]"
     ]
    },
    {
     "name": "stdout",
     "output_type": "stream",
     "text": [
      "Warning: image patches included in topk, but similarity < 0.1! This might unfairly reduce the purity metric because prototype has less than k similar image patches. You could consider reducing k for prototypes {19}\n"
     ]
    },
    {
     "name": "stderr",
     "output_type": "stream",
     "text": [
      "\n"
     ]
    },
    {
     "name": "stdout",
     "output_type": "stream",
     "text": [
      "Number of prototypes in parts_presences:  14\n",
      "Part-related (purity>0.5): 7\n",
      "Node: 045+101 | Child: 045+003 | Purity: 0.6026442307692308 | Num desc: 4 | Num protos: 8\n",
      "Node: 045+101 | Child: 101+023 | Purity: 0.12839285714285711 | Num desc: 5 | Num protos: 6\n"
     ]
    },
    {
     "name": "stderr",
     "output_type": "stream",
     "text": [
      "Collecting top-k Prototypes CUB parts for 033+031: 100% 60/60 [00:01<00:00, 38.24it/s]\n",
      "Collecting top-k patch coordinates CUB:   0% 0/10 [00:00<?, ?it/s]"
     ]
    },
    {
     "name": "stdout",
     "output_type": "stream",
     "text": [
      "Writing CSV file with top k image patches..\n"
     ]
    },
    {
     "name": "stderr",
     "output_type": "stream",
     "text": [
      "\r",
      "Collecting top-k patch coordinates CUB: 100% 10/10 [00:01<00:00,  9.73it/s]"
     ]
    },
    {
     "name": "stdout",
     "output_type": "stream",
     "text": [
      "Warning: image patches included in topk, but similarity < 0.1! This might unfairly reduce the purity metric because prototype has less than k similar image patches. You could consider reducing k for prototypes {19}\n"
     ]
    },
    {
     "name": "stderr",
     "output_type": "stream",
     "text": [
      "\n"
     ]
    },
    {
     "name": "stdout",
     "output_type": "stream",
     "text": [
      "Number of prototypes in parts_presences:  10\n",
      "Part-related (purity>0.5): 0\n",
      "Node: 033+031 | Child: cub_031_Black_billed_Cuckoo | Purity: 0.3055555555555556 | Num desc: 0 | Num protos: 6\n",
      "Node: 033+031 | Child: cub_033_Yellow_billed_Cuckoo | Purity: 0.20198412698412696 | Num desc: 0 | Num protos: 4\n"
     ]
    },
    {
     "name": "stderr",
     "output_type": "stream",
     "text": [
      "Collecting top-k Prototypes CUB parts for 045+003: 120it [00:02, 50.81it/s]  \n",
      "Collecting top-k patch coordinates CUB:   0% 0/16 [00:00<?, ?it/s]"
     ]
    },
    {
     "name": "stdout",
     "output_type": "stream",
     "text": [
      "Writing CSV file with top k image patches..\n"
     ]
    },
    {
     "name": "stderr",
     "output_type": "stream",
     "text": [
      "\r",
      "Collecting top-k patch coordinates CUB: 100% 16/16 [00:03<00:00,  4.02it/s]"
     ]
    },
    {
     "name": "stdout",
     "output_type": "stream",
     "text": [
      "Warning: image patches included in topk, but similarity < 0.1! This might unfairly reduce the purity metric because prototype has less than k similar image patches. You could consider reducing k for prototypes {19}\n"
     ]
    },
    {
     "name": "stderr",
     "output_type": "stream",
     "text": [
      "\n"
     ]
    },
    {
     "name": "stdout",
     "output_type": "stream",
     "text": [
      "Number of prototypes in parts_presences:  16\n",
      "Part-related (purity>0.5): 9\n",
      "Node: 045+003 | Child: 003+002 | Purity: 0.6413603052970868 | Num desc: 3 | Num protos: 12\n",
      "Node: 045+003 | Child: cub_045_Northern_Fulmar | Purity: 0.2548611111111111 | Num desc: 0 | Num protos: 4\n"
     ]
    },
    {
     "name": "stderr",
     "output_type": "stream",
     "text": [
      "Collecting top-k Prototypes CUB parts for 101+023: 150it [00:02, 53.61it/s]\n",
      "Collecting top-k patch coordinates CUB:   0% 0/15 [00:00<?, ?it/s]"
     ]
    },
    {
     "name": "stdout",
     "output_type": "stream",
     "text": [
      "Writing CSV file with top k image patches..\n"
     ]
    },
    {
     "name": "stderr",
     "output_type": "stream",
     "text": [
      "\r",
      "Collecting top-k patch coordinates CUB: 100% 15/15 [00:03<00:00,  3.97it/s]"
     ]
    },
    {
     "name": "stdout",
     "output_type": "stream",
     "text": [
      "Warning: image patches included in topk, but similarity < 0.1! This might unfairly reduce the purity metric because prototype has less than k similar image patches. You could consider reducing k for prototypes {19}\n"
     ]
    },
    {
     "name": "stderr",
     "output_type": "stream",
     "text": [
      "\n"
     ]
    },
    {
     "name": "stdout",
     "output_type": "stream",
     "text": [
      "Number of prototypes in parts_presences:  15\n",
      "Part-related (purity>0.5): 0\n",
      "Node: 101+023 | Child: 023+025 | Purity: 0.15463594276094278 | Num desc: 3 | Num protos: 8\n",
      "Node: 101+023 | Child: 101+100 | Purity: 0.16888511814982404 | Num desc: 2 | Num protos: 7\n"
     ]
    },
    {
     "name": "stderr",
     "output_type": "stream",
     "text": [
      "Collecting top-k Prototypes CUB parts for 003+002: 90it [00:01, 47.20it/s]   \n",
      "Collecting top-k patch coordinates CUB:   0% 0/13 [00:00<?, ?it/s]"
     ]
    },
    {
     "name": "stdout",
     "output_type": "stream",
     "text": [
      "Writing CSV file with top k image patches..\n"
     ]
    },
    {
     "name": "stderr",
     "output_type": "stream",
     "text": [
      "\r",
      "Collecting top-k patch coordinates CUB: 100% 13/13 [00:02<00:00,  5.83it/s]"
     ]
    },
    {
     "name": "stdout",
     "output_type": "stream",
     "text": [
      "Warning: image patches included in topk, but similarity < 0.1! This might unfairly reduce the purity metric because prototype has less than k similar image patches. You could consider reducing k for prototypes {19}\n"
     ]
    },
    {
     "name": "stderr",
     "output_type": "stream",
     "text": [
      "\n"
     ]
    },
    {
     "name": "stdout",
     "output_type": "stream",
     "text": [
      "Number of prototypes in parts_presences:  13\n",
      "Part-related (purity>0.5): 12\n",
      "Node: 003+002 | Child: 002+001 | Purity: 0.7143274853801169 | Num desc: 2 | Num protos: 9\n",
      "Node: 003+002 | Child: cub_003_Sooty_Albatross | Purity: 0.825 | Num desc: 0 | Num protos: 4\n"
     ]
    },
    {
     "name": "stderr",
     "output_type": "stream",
     "text": [
      "Collecting top-k Prototypes CUB parts for 101+100: 100% 60/60 [00:01<00:00, 41.31it/s]\n",
      "Collecting top-k patch coordinates CUB:   0% 0/11 [00:00<?, ?it/s]"
     ]
    },
    {
     "name": "stdout",
     "output_type": "stream",
     "text": [
      "Writing CSV file with top k image patches..\n"
     ]
    },
    {
     "name": "stderr",
     "output_type": "stream",
     "text": [
      "\r",
      "Collecting top-k patch coordinates CUB: 100% 11/11 [00:01<00:00,  9.48it/s]"
     ]
    },
    {
     "name": "stdout",
     "output_type": "stream",
     "text": [
      "Warning: image patches included in topk, but similarity < 0.1! This might unfairly reduce the purity metric because prototype has less than k similar image patches. You could consider reducing k for prototypes set()\n"
     ]
    },
    {
     "name": "stderr",
     "output_type": "stream",
     "text": [
      "\n"
     ]
    },
    {
     "name": "stdout",
     "output_type": "stream",
     "text": [
      "Number of prototypes in parts_presences:  11\n",
      "Part-related (purity>0.5): 0\n",
      "Node: 101+100 | Child: cub_100_Brown_Pelican | Purity: 0.1307142857142857 | Num desc: 0 | Num protos: 5\n",
      "Node: 101+100 | Child: cub_101_White_Pelican | Purity: 0.2611111111111111 | Num desc: 0 | Num protos: 6\n"
     ]
    },
    {
     "name": "stderr",
     "output_type": "stream",
     "text": [
      "Collecting top-k Prototypes CUB parts for 023+025: 90it [00:01, 48.24it/s]   \n",
      "Collecting top-k patch coordinates CUB:   0% 0/13 [00:00<?, ?it/s]"
     ]
    },
    {
     "name": "stdout",
     "output_type": "stream",
     "text": [
      "Writing CSV file with top k image patches..\n"
     ]
    },
    {
     "name": "stderr",
     "output_type": "stream",
     "text": [
      "\r",
      "Collecting top-k patch coordinates CUB: 100% 13/13 [00:02<00:00,  6.20it/s]"
     ]
    },
    {
     "name": "stdout",
     "output_type": "stream",
     "text": [
      "Warning: image patches included in topk, but similarity < 0.1! This might unfairly reduce the purity metric because prototype has less than k similar image patches. You could consider reducing k for prototypes set()\n"
     ]
    },
    {
     "name": "stderr",
     "output_type": "stream",
     "text": [
      "\n"
     ]
    },
    {
     "name": "stdout",
     "output_type": "stream",
     "text": [
      "Number of prototypes in parts_presences:  13\n",
      "Part-related (purity>0.5): 0\n",
      "Node: 023+025 | Child: cub_023_Brandt_Cormorant | Purity: 0.23333333333333334 | Num desc: 0 | Num protos: 5\n",
      "Node: 023+025 | Child: 025+024 | Purity: 0.20936041083099904 | Num desc: 2 | Num protos: 8\n"
     ]
    },
    {
     "name": "stderr",
     "output_type": "stream",
     "text": [
      "Collecting top-k Prototypes CUB parts for 002+001: 100% 60/60 [00:01<00:00, 39.31it/s]\n",
      "Collecting top-k patch coordinates CUB:   0% 0/9 [00:00<?, ?it/s]"
     ]
    },
    {
     "name": "stdout",
     "output_type": "stream",
     "text": [
      "Writing CSV file with top k image patches..\n"
     ]
    },
    {
     "name": "stderr",
     "output_type": "stream",
     "text": [
      "\r",
      "Collecting top-k patch coordinates CUB: 100% 9/9 [00:00<00:00,  9.24it/s]"
     ]
    },
    {
     "name": "stdout",
     "output_type": "stream",
     "text": [
      "Warning: image patches included in topk, but similarity < 0.1! This might unfairly reduce the purity metric because prototype has less than k similar image patches. You could consider reducing k for prototypes {19}\n"
     ]
    },
    {
     "name": "stderr",
     "output_type": "stream",
     "text": [
      "\n"
     ]
    },
    {
     "name": "stdout",
     "output_type": "stream",
     "text": [
      "Number of prototypes in parts_presences:  9\n",
      "Part-related (purity>0.5): 8\n",
      "Node: 002+001 | Child: cub_001_Black_footed_Albatross | Purity: 0.7777777777777778 | Num desc: 0 | Num protos: 5\n",
      "Node: 002+001 | Child: cub_002_Laysan_Albatross | Purity: 0.7 | Num desc: 0 | Num protos: 4\n"
     ]
    },
    {
     "name": "stderr",
     "output_type": "stream",
     "text": [
      "Collecting top-k Prototypes CUB parts for 025+024: 100% 60/60 [00:01<00:00, 40.26it/s]\n",
      "Collecting top-k patch coordinates CUB:   0% 0/10 [00:00<?, ?it/s]"
     ]
    },
    {
     "name": "stdout",
     "output_type": "stream",
     "text": [
      "Writing CSV file with top k image patches..\n"
     ]
    },
    {
     "name": "stderr",
     "output_type": "stream",
     "text": [
      "\r",
      "Collecting top-k patch coordinates CUB: 100% 10/10 [00:01<00:00,  9.24it/s]"
     ]
    },
    {
     "name": "stdout",
     "output_type": "stream",
     "text": [
      "Warning: image patches included in topk, but similarity < 0.1! This might unfairly reduce the purity metric because prototype has less than k similar image patches. You could consider reducing k for prototypes set()\n"
     ]
    },
    {
     "name": "stderr",
     "output_type": "stream",
     "text": [
      "\n"
     ]
    },
    {
     "name": "stdout",
     "output_type": "stream",
     "text": [
      "Number of prototypes in parts_presences:  10\n",
      "Part-related (purity>0.5): 0\n",
      "Node: 025+024 | Child: cub_024_Red_faced_Cormorant | Purity: 0.16357142857142856 | Num desc: 0 | Num protos: 5\n",
      "Node: 025+024 | Child: cub_025_Pelagic_Cormorant | Purity: 0.26999999999999996 | Num desc: 0 | Num protos: 5\n"
     ]
    }
   ],
   "source": [
    "projectset_img0_path = projectloader.dataset.samples[0][0]\n",
    "project_path = os.path.split(os.path.split(projectset_img0_path)[0])[0].split(\"dataset\")[0]\n",
    "parts_loc_path = os.path.join(project_path, \"parts/part_locs_normalized.txt\")\n",
    "if not os.path.exists(parts_loc_path):\n",
    "    raise Exception(f'Not found {parts_loc_path}')\n",
    "parts_name_path = os.path.join(project_path, \"parts/parts.txt\")\n",
    "imgs_id_path = os.path.join(project_path, \"images.txt\")\n",
    "\n",
    "for node in root.nodes_with_children():\n",
    "#     if node.name != '003+002':\n",
    "#         continue\n",
    "    csvfile_topk = get_topk_cub_nodewise(net, node, projectloader, \\\n",
    "                                         10, 'projectloader_'+str(epoch), device, args)\n",
    "    eval_prototypes_cub_parts_csv_nodewise(node, csvfile_topk, parts_loc_path, parts_name_path, \\\n",
    "                              imgs_id_path, 'projectloader_topk_'+str(epoch), args, desc_threshold=0.2)\n"
   ]
  },
  {
   "cell_type": "code",
   "execution_count": 33,
   "id": "dd3184f5",
   "metadata": {},
   "outputs": [
    {
     "data": {
      "image/png": "[encoded data removed]",
      "text/plain": [
       "<Figure size 1500x600 with 10 Axes>"
      ]
     },
     "metadata": {},
     "output_type": "display_data"
    }
   ],
   "source": [
    "import os\n",
    "import pandas as pd\n",
    "import matplotlib.pyplot as plt\n",
    "import matplotlib.patches as patches\n",
    "from PIL import Image\n",
    "\n",
    "# Define a function to plot images in a grid with bounding boxes\n",
    "def plot_images_with_bboxes(csv_file_path, grid_size=(5, 2), bbox_size=(64, 64)):\n",
    "    # Read the CSV file\n",
    "    data = pd.read_csv(csv_file_path)\n",
    "\n",
    "    # Set up the matplotlib figure and axes based on the grid size\n",
    "    fig, axes = plt.subplots(*grid_size, figsize=(15, 6))\n",
    "    axes = axes.flatten()\n",
    "\n",
    "    # Iterate over the first ten rows of the dataframe\n",
    "    for i, (idx, row) in enumerate(data.head(10).iterrows()):\n",
    "        # Read the image\n",
    "        img_path = row['img name']\n",
    "        image = Image.open(img_path)\n",
    "\n",
    "        # Get the bounding box coordinates\n",
    "        h_min = row['h_min_224']\n",
    "        h_max = row['h_max_224']\n",
    "        w_min = row['w_min_224']\n",
    "        w_max = row['w_max_224']\n",
    "\n",
    "        # Draw the bounding box as a rectangle\n",
    "        rect = patches.Rectangle((w_min, h_min), w_max - w_min, h_max - h_min,\n",
    "                                 linewidth=1, edgecolor='r', facecolor='none')\n",
    "\n",
    "        # Plot the image and the bounding box\n",
    "        axes[i].imshow(image)\n",
    "        axes[i].add_patch(rect)\n",
    "        axes[i].axis('off')\n",
    "\n",
    "    # Adjust the layout\n",
    "    plt.tight_layout()\n",
    "    plt.show()\n",
    "\n",
    "# Example usage\n",
    "csv_file_path = '/home/harishbabu/projects/PIPNet/runs/062-CUB-18-imgnet_with-equalize-aug_cnext26_img=224_nprotos=20_no-KO_no-OOD/node_wise_top10/003+002_prototypes_top10_projectloader_last.csv'  # Replace with your CSV file path\n",
    "# images_dir = 'path_to_your_images_directory'  # Replace with your images directory path\n",
    "plot_images_with_bboxes(csv_file_path)\n"
   ]
  },
  {
   "cell_type": "code",
   "execution_count": 52,
   "id": "6c8ddc7b",
   "metadata": {},
   "outputs": [
    {
     "name": "stdout",
     "output_type": "stream",
     "text": [
      "Normalized bounding boxes written to /projects/ml4science/harishbabu/data/CUB_200_2011/bounding_boxes_normalized.txt\n"
     ]
    }
   ],
   "source": [
    "import os\n",
    "from PIL import Image\n",
    "\n",
    "# Define the paths to the bounding_boxes.txt and images.txt files\n",
    "bounding_boxes_file = \"/projects/ml4science/harishbabu/data/CUB_200_2011/bounding_boxes.txt\"\n",
    "images_file = \"/projects/ml4science/harishbabu/data/CUB_200_2011/images.txt\"  # This file contains image paths\n",
    "\n",
    "# Create a dictionary to store image paths and dimensions\n",
    "image_info = {}\n",
    "\n",
    "# Read image paths and dimensions from the images.txt file\n",
    "with open(images_file, \"r\") as image_file:\n",
    "    for line in image_file:\n",
    "        image_id, image_path = line.strip().split()\n",
    "        image = Image.open(os.path.join(\"/projects/ml4science/harishbabu/data/CUB_200_2011/images\", image_path))  # Assuming images are in a subdirectory\n",
    "        image_width, image_height = image.size\n",
    "        image_info[image_id] = {\n",
    "            \"path\": image_path,\n",
    "            \"width\": image_width,\n",
    "            \"height\": image_height,\n",
    "        }\n",
    "\n",
    "# Create a list to store normalized bounding box coordinates\n",
    "normalized_bboxes = []\n",
    "\n",
    "# Open the bounding_boxes.txt file and process each line\n",
    "with open(bounding_boxes_file, \"r\") as bbox_file:\n",
    "    for line in bbox_file:\n",
    "        components = line.strip().split()\n",
    "        \n",
    "        if len(components) == 5:\n",
    "            image_id, x, y, width, height = map(float, components)\n",
    "            \n",
    "            # Get image dimensions from the dictionary\n",
    "            image_data = image_info.get(image_id)\n",
    "            if image_data is not None:\n",
    "                image_width = image_data[\"width\"]\n",
    "                image_height = image_data[\"height\"]\n",
    "                \n",
    "                # Calculate normalized coordinates\n",
    "                normalized_x = x / image_width\n",
    "                normalized_y = y / image_height\n",
    "                normalized_width = width / image_width\n",
    "                normalized_height = height / image_height\n",
    "                \n",
    "                # Append normalized coordinates to the list\n",
    "                normalized_bboxes.append((image_id, normalized_x, normalized_y, normalized_width, normalized_height))\n",
    "\n",
    "# Write the normalized bounding boxes to a new file \"bounding_boxes_normalized.txt\"\n",
    "output_file = \"/projects/ml4science/harishbabu/data/CUB_200_2011/bounding_boxes_normalized.txt\"\n",
    "with open(output_file, \"w\") as output:\n",
    "    for bbox in normalized_bboxes:\n",
    "        image_id, norm_x, norm_y, norm_width, norm_height = bbox\n",
    "        output.write(f\"{image_id} {norm_x} {norm_y} {norm_width} {norm_height}\\n\")\n",
    "\n",
    "print(f\"Normalized bounding boxes written to {output_file}\")\n"
   ]
  },
  {
   "cell_type": "code",
   "execution_count": 8,
   "id": "a2e3b443",
   "metadata": {},
   "outputs": [
    {
     "name": "stderr",
     "output_type": "stream",
     "text": [
      "/home/harishbabu/.conda/envs/hpnet1/lib/python3.8/site-packages/numpy/core/fromnumeric.py:3464: RuntimeWarning: Mean of empty slice.\n",
      "  return _methods._mean(a, axis=axis, dtype=dtype,\n",
      "/home/harishbabu/.conda/envs/hpnet1/lib/python3.8/site-packages/numpy/core/_methods.py:192: RuntimeWarning: invalid value encountered in scalar divide\n",
      "  ret = ret.dtype.type(ret / rcount)\n"
     ]
    },
    {
     "data": {
      "text/plain": [
       "nan"
      ]
     },
     "execution_count": 8,
     "metadata": {},
     "output_type": "execute_result"
    }
   ],
   "source": [
    "np.mean([])"
   ]
  },
  {
   "cell_type": "code",
   "execution_count": 20,
   "id": "45f3ef76",
   "metadata": {},
   "outputs": [
    {
     "name": "stdout",
     "output_type": "stream",
     "text": [
      "1\n",
      "2\n",
      "3\n"
     ]
    }
   ],
   "source": [
    "x = set([1, 2, 3])\n",
    "\n",
    "for _ in x:\n",
    "    print(_)"
   ]
  },
  {
   "cell_type": "code",
   "execution_count": null,
   "id": "9ad55cc3",
   "metadata": {},
   "outputs": [],
   "source": []
  }
 ],
 "metadata": {
  "kernelspec": {
   "display_name": "Python 3 (ipykernel)",
   "language": "python",
   "name": "python3"
  },
  "language_info": {
   "codemirror_mode": {
    "name": "ipython",
    "version": 3
   },
   "file_extension": ".py",
   "mimetype": "text/x-python",
   "name": "python",
   "nbconvert_exporter": "python",
   "pygments_lexer": "ipython3",
   "version": "3.8.5"
  }
 },
 "nbformat": 4,
 "nbformat_minor": 5
}
