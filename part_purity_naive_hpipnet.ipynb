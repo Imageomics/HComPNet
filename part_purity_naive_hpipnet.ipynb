{
 "cells": [
  {
   "cell_type": "code",
   "execution_count": 1,
   "id": "9b0ba329",
   "metadata": {},
   "outputs": [],
   "source": [
    "import torch.nn as nn\n",
    "import torch\n",
    "\n",
    "import sys, os\n",
    "import random\n",
    "import numpy as np\n",
    "from shutil import copy\n",
    "import matplotlib.pyplot as plt\n",
    "from copy import deepcopy\n",
    "\n",
    "from omegaconf import OmegaConf\n",
    "import shutil\n",
    "import pickle\n",
    "import random\n",
    "from tqdm import tqdm\n",
    "\n",
    "from torchvision.datasets.folder import ImageFolder\n",
    "from torch.utils.data import DataLoader\n",
    "# from skimage.filters import threshold_local, gaussian\n",
    "\n",
    "import pdb"
   ]
  },
  {
   "cell_type": "code",
   "execution_count": 2,
   "id": "d7743f7e",
   "metadata": {},
   "outputs": [
    {
     "name": "stdout",
     "output_type": "stream",
     "text": [
      "/home/harishbabu/projects/PIPNet/runs/184-PruningBF=1.1NaiveHPIPNetMaskL1=0.5MaskTrainExtra=15epsEps=60TanhDesc=0.05MinCont=0.1_cnext26_CUB-190-imgnet-224_WeightedCE_with-equalize-aug_img=224_nprotos=20\n"
     ]
    }
   ],
   "source": [
    "# run_path = '/home/harishbabu/projects/PIPNet/runs/010-CUB-27-imgnet_OOD_cnext26_img=224_nprotos=20'\n",
    "# run_path = '/home/harishbabu/projects/PIPNet/runs/031-CUB-18-imgnet_cnext26_img=224_nprotos=20_orth-on-rel'\n",
    "# run_path = '/home/harishbabu/projects/PIPNet/runs/032-CUB-18-imgnet_cnext26_img=224_nprotos=20_orth-on-rel'\n",
    "\n",
    "# run_path = '/home/harishbabu/projects/PIPNet/runs/035-CUB-18-imgnet_OOD_cnext26_img=224_nprotos=20_orth-on-rel'\n",
    "\n",
    "# run_path = '/home/harishbabu/projects/PIPNet/runs/043-035_clone-CUB-18-imgnet_OOD_cnext26_img=224_nprotos=20_orth-on-rel'\n",
    "# run_path = \"/home/harishbabu/projects/PIPNet/runs/036-CUB-18-imgnet_OOD_cnext26_img=224_nprotos=20_orth-on-rel_uniformity\"\n",
    "# run_path = \"/home/harishbabu/projects/PIPNet/runs/041-035_clone-CUB-18-imgnet_OOD_cnext26_img=224_nprotos=20_orth-on-rel\"\n",
    "# run_path = \"/home/harishbabu/projects/PIPNet/runs/042-035_clone-CUB-18-imgnet_OOD_cnext26_img=224_nprotos=20_orth-on-rel\"\n",
    "\n",
    "# run_path = \"/home/harishbabu/projects/PIPNet/runs/044-CUB-18-imgnet_OOD_cnext26_img=224_nprotos=20-or-4per-desc_orth-on-rel\"\n",
    "\n",
    "# run_path = \"/home/harishbabu/projects/PIPNet/runs/046-CUB-18-imgnet_OOD_cnext26_img=224_nprotos=10per-desc_orth-on-rel\"\n",
    "# run_path = \"/home/harishbabu/projects/PIPNet/runs/047-CUB-18-imgnet_OOD_cnext26_img=224_nprotos=5per-desc_tanh-desc\"\n",
    "# run_path = \"/home/harishbabu/projects/PIPNet/runs/048-CUB-18-imgnet_OOD_cnext26_img=224_nprotos=5per-desc_tanh-desc_unit-sphere\"\n",
    "# run_path = \"/home/harishbabu/projects/PIPNet/runs/051-CUB-18-imgnet_cnext26_img=224_nprotos=4per-desc_tanh-desc_unit-sphere_AW=5-TW=2-UW=2-CW=2\"\n",
    "# run_path = \"/home/harishbabu/projects/PIPNet/runs/052-CUB-18-imgnet_OOD_cnext26_img=224_nprotos=4per-desc_tanh-desc_unit-sphere_AW=5-TW=2-UW=2-CW=2\"\n",
    "# run_path = \"/home/harishbabu/projects/PIPNet/runs/055-CUB-18_cnext26_img=224_nprotos=4per-desc_unit-sphere_no-softmax_AW=3-TW=2-UW=3-CW=2\"\n",
    "# run_path = \"/home/harishbabu/projects/PIPNet/runs/056-CUB-18-imgnet_cnext26_img=224_nprotos=4per-desc_unit-sphere_no-softmax_AW=3-TW=2-UW=3-CW=2\"\n",
    "# run_path = \"/home/harishbabu/projects/PIPNet/runs/057-CUB-18-imgnet_cnext26_img=224_nprotos=4per-desc_unit-sphere_no-meanpool_no-softmax_AW=3-TW=2-UW=3-CW=2\"\n",
    "# run_path = \"/home/harishbabu/projects/PIPNet/runs/058-CUB-18-imgnet_with-equalize-aug_cnext26_img=224_nprotos=4per-desc_unit-sphere_no-meanpool_no-softmax_AW=3-TW=2-UW=3-CW=2\"\n",
    "\n",
    "# with unit sphere\n",
    "# run_path = \"/home/harishbabu/projects/PIPNet/runs/059-CUB-18-imgnet_with-equalize-aug_cnext26_img=224_nprotos=4per-desc_unit-sphere_finetune=5_no-meanpool_no-softmax_AW=3-TW=2-UW=3-CW=2_batch=20\"\n",
    "\n",
    "# unit sphere with softmax\n",
    "# run_path = \"/home/harishbabu/projects/PIPNet/runs/065-CUB-18-imgnet_with-equalize-aug_cnext26_img=224_nprotos=4per-desc_unit-sphere_finetune=5_no-meanpool_with-softmax_AW=3-TW=2-UW=3-CW=2_batch=20\"\n",
    "\n",
    "# original hpipnet with 20 protos per node no KO, no OOD, no tanh-desc\n",
    "# run_path = \"/home/harishbabu/projects/PIPNet/runs/062-CUB-18-imgnet_with-equalize-aug_cnext26_img=224_nprotos=20_no-KO_no-OOD\"\n",
    "\n",
    "# original hpipnet with 20 protos per node no KO, no OOD, WITH tanh-desc\n",
    "# run_path = \"/home/harishbabu/projects/PIPNet/runs/063-CUB-18-imgnet_with-equalize-aug_cnext26_img=224_nprotos=20_no-KO_no-OOD_tanh-desc\"\n",
    "\n",
    "# with unit sphere but no AL+UNI\n",
    "# run_path = \"/home/harishbabu/projects/PIPNet/runs/066-CUB-18-imgnet_with-equalize-aug_cnext26_img=224_nprotos=4per-desc_unit-sphere_finetune=5_no-meanpool_no-softmax_no-align_no-uni_AW=3-TW=2-UW=3-CW=2_batch=20\"\n",
    "\n",
    "# with unit sphere, protopool, with softmax, no tanh-desc\n",
    "# run_path = \"/home/harishbabu/projects/PIPNet/runs/067-CUB-18-imgnet_with-equalize-aug_cnext26_img=224_nprotos=4per-desc_unit-sphere-protopool_finetune=5_no-meanpool_with-softmax_AW=3-TW=2-UW=3-CW=2_batch=20\"\n",
    "\n",
    "# with unit sphere, protopool, with softmax, no tanh-desc, INCORRECT\n",
    "# run_path = \"/home/harishbabu/projects/PIPNet/runs/067-incorrect-CUB-18-imgnet_with-equalize-aug_cnext26_img=224_nprotos=4per-desc_unit-sphere-protopool_finetune=5_no-meanpool_with-softmax_AW=3-TW=2-UW=3-CW=2_batch=20\"\n",
    "\n",
    "# with unit sphere, protopool, no softmax, no tanh-desc\n",
    "# run_path = \"/home/harishbabu/projects/PIPNet/runs/068-CUB-18-imgnet_with-equalize-aug_cnext26_img=224_nprotos=4per-desc_unit-sphere-protopool_finetune=5_no-meanpool_no-softmax_AW=3-TW=2-UW=3-CW=2_batch=20\"\n",
    "\n",
    "# 071 with bias\n",
    "# run_path = \"/home/harishbabu/projects/PIPNet/runs/071-CUB-18-imgnet_with-equalize-aug_cnext26_img=224_nprotos=4per-desc_unit-sphere-protopool_finetune=5_no-meanpool_with-softmax_with-addon-bias_AW=3-TW=2-UW=3-CW=2_batch=20\"\n",
    "\n",
    "# 072 gumbel softmax\n",
    "# run_path = \"/home/harishbabu/projects/PIPNet/runs/072-CUB-18-imgnet_with-equalize-aug_cnext26_img=224_nprotos=4per-desc_unit-sphere-protopool_finetune=5_no-meanpool_with-gumbel-softmax_no-addon-bias_AW=3-TW=2-UW=3-CW=2_batch=20\"\n",
    "\n",
    "# 073 gumbel softmax, tau-1.0\n",
    "# run_path = \"/home/harishbabu/projects/PIPNet/runs/073-CUB-18-imgnet_with-equalize-aug_cnext26_img=224_nprotos=4per-desc_unit-sphere-protopool_finetune=5_no-meanpool_with-gumbel-softmax-tau=1_no-addon-bias_AW=3-TW=2-UW=3-CW=2_batch=20\"\n",
    "\n",
    "# 075 068 with focal loss\n",
    "# run_path = \"/home/harishbabu/projects/PIPNet/runs/075-068-with-focal_CUB-18-imgnet_with-equalize-aug_cnext26_img=224_nprotos=4per-desc_unit-sphere-protopool_finetune=5_no-meanpool_no-softmax_no-addon-bias_AW=3-TW=2-UW=3-CW=2_batch=20\"\n",
    "\n",
    "# 076 cs followed by softmax. Uses align_pf along with align+uni\n",
    "# run_path = \"/home/harishbabu/projects/PIPNet/runs/076_CUB-18-imgnet_with-equalize-aug_cnext26_img=224_nprotos=4per-desc_unit-sphere-protopool_finetune=5_align-pf-during-training_no-meanpool_no-softmax_no-addon-bias_AW=3-TW=2-UW=3-CW=2-APW=5_batch=20\"\n",
    "\n",
    "# 074 multiply_cs_softmax\n",
    "# run_path = \"/home/harishbabu/projects/PIPNet/runs/074-CUB-18-imgnet_with-equalize-aug_cnext26_img=224_nprotos=4per-desc_unit-sphere-protopool_finetune=5_no-meanpool_with-softmax_multi-cs-softmax_no-addon-bias_AW=3-TW=2-UW=3-CW=2_batch=20\"\n",
    "\n",
    "# 077 unit sphere protopool with cosin no softmax constant 20 protos per node\n",
    "# run_path = \"/home/harishbabu/projects/PIPNet/runs/077_CUB-18-imgnet_with-equalize-aug_cnext26_img=224_nprotos=20-sphere-protopool_finetune=5_align-pf-during-training_no-meanpool_no-softmax_no-addon-bias_AW=3-TW=2-UW=3-CW=2_batch=20\"\n",
    "\n",
    "# 082 unit sphere cs followed by softmax with minmazimize loss\n",
    "# run_path = \"/home/harishbabu/projects/PIPNet/runs/082-CUB-18-imgnet_with-equalize-aug_cnext26_img=224_nprotos=4per-leaf-desc_unit-sphere_finetune=5_no-meanpool_with-softmax_no-addon-bias_AW=3-TW=2-MMW=2-UW=3-CW=2_mm-loss_batch=48\"\n",
    "\n",
    "# 083 unit sphere cs followed by softmax with minmazimize loss\n",
    "# run_path = \"/home/harishbabu/projects/PIPNet/runs/083-CUB-18-imgnet_with-equalize-aug_cnext26_img=224_nprotos=4per-leaf-desc_unit-sphere_finetune=5_no-meanpool_with-softmax_no-addon-bias_AW=3-TW=2-MMW=2-UW=3-CW=2_no-align_no-uni_no-mm-loss_batch=48\"\n",
    "\n",
    "# 085 unit sphere cs followed by softmax-with-tau with minmazimize loss\n",
    "# run_path = \"/home/harishbabu/projects/PIPNet/runs/085-notebook-CUB-18-imgnet_with-equalize-aug_cnext26_img=224_nprotos=4per-leaf-desc_unit-sphere_finetune=5_no-meanpool_with-softmax-tau=0.2_no-addon-bias_AW=3-TW=2-MMW=2-UW=3-CW=2_mm-loss_batch=12\"\n",
    "\n",
    "# 091 basic gaussian multiplier on stage 4\n",
    "# run_path = \"/home/harishbabu/projects/PIPNet/runs/091-CUB-18-imgnet_with-equalize-aug_cnext26_BGM=4|1.0|50_img=224_latent-dim=256_nprotos=4per-leaf-desc_unit-sphere_finetune=5_no-meanpool_with-softmax-tau=0.2_no-addon-bias_AW=3-TW=2-MMW=2-UW=3-CW=2_mm-loss_batch=48\"\n",
    "\n",
    "# 092 basic gaussian multiplier on stage 3, 4\n",
    "# run_path = \"/home/harishbabu/projects/PIPNet/runs/092-CUB-18-imgnet_with-equalize-aug_cnext26_BGM=3,4|1.0|50_img=224_latent-dim=256_nprotos=4per-leaf-desc_unit-sphere_finetune=5_no-meanpool_with-softmax-tau=0.2_no-addon-bias_AW=3-TW=2-MMW=2-UW=3-CW=2_mm-loss_batch=48\"\n",
    "\n",
    "# 093 128 dim linear\n",
    "# run_path = \"/home/harishbabu/projects/PIPNet/runs/093-CUB-18-imgnet_with-equalize-aug_cnext26_BGM=4|1.0|50_img=224_latent-dim=128_nprotos=20_unit-sphere_finetune=5_no-meanpool_with-softmax-tau=0.2_no-addon-bias_AW=3-TW=2-MMW=2-UW=1-CW=2_mm-loss_batch=48\"\n",
    "\n",
    "# 094 128 dim linear\n",
    "# run_path = \"/home/harishbabu/projects/PIPNet/runs/094-CUB-18-imgnet_with-equalize-aug_cnext26_BGM=4|1.0|50_img=224_latent-dim=128_nprotos=20_unit-sphere_finetune=5_no-meanpool_with-softmax-tau=0.2_no-addon-bias_AW=3-TW=2-MMW=2-UW=1-CW=2_mm-loss_batch=48\"\n",
    "\n",
    "# 095 ablation 091 without AL+UNI\n",
    "# run_path = \"/home/harishbabu/projects/PIPNet/runs/095-091-woALUNI-CUB-18-imgnet_with-equalize-aug_cnext26_BGM=4|1.0|50_img=224_nprotos=4per-leaf-desc_unit-sphere_finetune=5_no-meanpool_with-softmax-tau=0.2_no-addon-bias_AW=3-TW=2-MMW=2-UW=3-CW=2_no-AL_no-UNI_mm-loss_batch=48\"\n",
    "\n",
    "# 096 ablation 091 without AL+UNI\n",
    "# run_path = \"/home/harishbabu/projects/PIPNet/runs/096-091-wfocal-CUB-18-imgnet_with-equalize-aug_cnext26_BGM=4|1.0|50_img=224_nprotos=4per-leaf-desc_unit-sphere_finetune=5_no-meanpool_with-softmax-tau=0.2_no-addon-bias_AW=3-TW=2-MMW=2-UW=3-CW=2_mm-loss_batch=48\"\n",
    "\n",
    "# 097 - 091 with bg\n",
    "# run_path = \"/home/harishbabu/projects/PIPNet/runs/097-091-wbg-CUB-18_with-equalize-aug_cnext26_BGM=4|1.0|50_img=224_nprotos=4per-leaf-desc_unit-sphere_finetune=5_no-meanpool_with-softmax-tau=0.2_no-addon-bias_AW=3-TW=2-MMW=2-UW=3-CW=2_mm-loss_batch=48\"\n",
    "\n",
    "# 0100 cub29 with 20 per node\n",
    "# run_path = \"/home/harishbabu/projects/PIPNet/runs/100_CUB-29-imgnet_with-equalize-aug_cnext26_BGM=4|1.0|50_img=224_nprotos=20_unit-sphere-protopool_no-meanpool_with-softmax-tau=0.2_no-addon-bias_AW=3-TW=2-MMW=2-UW=3-CW=2_mm-loss_batch=48\"\n",
    "\n",
    "# 0101 baseline with 4 per desc per node\n",
    "# run_path = \"/home/harishbabu/projects/PIPNet/runs/101-baseline-CUB-18-imgnet_with-equalize-aug_cnext26_img=224_nprotos=4per-desc_no-KO_no-OOD\"\n",
    "\n",
    "# 0103 091 with 20 per node\n",
    "# run_path = \"/home/harishbabu/projects/PIPNet/runs/103-091-wProtoPool20PerNode_CUB-18-imgnet_with-equalize-aug_cnext26_BGM=4|1.0|50_img=224_nprotos=20_unit-sphere-protopool_no-meanpool_with-softmax-tau=0.2_no-addon-bias_AW=3-TW=2-MMW=2-UW=3-CW=2_batch=48\"\n",
    "\n",
    "# run_path = \"/home/harishbabu/projects/PIPNet/runs/136-NaiveHPIPNet_cnext26_CUB-18-imgnet-224_with-equalize-aug_img=224_nprotos=20\"\n",
    "\n",
    "# run_path = \"/home/harishbabu/projects/PIPNet/runs/138-NaiveHPIPNetwithTanhDesc_cnext26_CUB-18-imgnet-224_with-equalize-aug_img=224_nprotos=20\"\n",
    "\n",
    "# 154 18 species Naive hpipnet with mask\n",
    "# run_path = \"/home/harishbabu/projects/PIPNet/runs/154-PruningNaiveHPIPNet_cnext13_CUB-18-imgnet-224_with-equalize-aug_img=224_nprotos=20\"\n",
    "\n",
    "# run_path = \"/home/harishbabu/projects/PIPNet/runs/162-PruningNaiveHPIPNetMaskL1=0.5MaskTrainExtra=15epsEps=60_cnext13_CUB-18-imgnet-224_with-equalize-aug_img=224_nprotos=20\"\n",
    "\n",
    "# run_path = \"/home/harishbabu/projects/PIPNet/runs/163-PruningNaiveHPIPNetMaskL1=0.5MaskTrainExtra=15epsEps=60TanhDesc=0.2MinCont=0.1_cnext13_CUB-18-imgnet-224_with-equalize-aug_img=224_nprotos=20\"\n",
    "\n",
    "# run_path = \"/home/harishbabu/projects/PIPNet/runs/164-PruningNaiveHPIPNetMaskL1=0.5MaskTrainExtra=15epsEps=60TanhDesc=0.05MinCont=0.1_cnext13_CUB-18-imgnet-224_with-equalize-aug_img=224_nprotos=20\"\n",
    "\n",
    "# run_path = \"/home/harishbabu/projects/PIPNet/runs/165-PruningNaiveHPIPNetMaskL1=0.5MaskTrainExtra=15epsEps=60TanhDesc=2.0MinCont=0.1_cnext13_CUB-18-imgnet-224_with-equalize-aug_img=224_nprotos=20\"\n",
    "\n",
    "# run_path = \"/home/harishbabu/projects/PIPNet/runs/166-PruningNaiveHPIPNetMaskL1=0.5MaskTrainExtra=15epsEps=60TanhDesc=2.0MinCont=0.1_cnext26_CUB-18-imgnet-224_with-equalize-aug_img=224_nprotos=20\"\n",
    "\n",
    "# run_path = \"/home/harishbabu/projects/PIPNet/runs/167-PruningNaiveHPIPNetMaskL1=0.5MaskTrainExtra=15epsEps=60TanhDesc=0.05MinCont=0.1_cnext26_CUB-18-imgnet-224_with-equalize-aug_img=224_nprotos=20\"\n",
    "\n",
    "# run_path = \"/home/harishbabu/projects/PIPNet/runs/168-PruningNaiveHPIPNetMaskL1=0.5MaskTrainExtra=15epsEps=60TanhDesc=0.05MinCont=0.1_cnext26_CUB-29-imgnet-224_with-equalize-aug_img=224_nprotos=20\"\n",
    "\n",
    "# run_path = \"/home/harishbabu/projects/PIPNet/runs/169-PruningNaiveHPIPNetMaskL1=0.5MaskTrainExtra=15epsEps=60TanhDesc=2.0MinCont=0.1_cnext26_CUB-29-imgnet-224_with-equalize-aug_img=224_nprotos=20\"\n",
    "\n",
    "# run_path = \"/home/harishbabu/projects/PIPNet/runs/170-PruningNaiveHPIPNetMaskL1=0.5MaskTrainExtra=15epsEps=60MinCont=0.1_cnext26_CUB-18-imgnet-224_with-equalize-aug_img=224_nprotos=20\"\n",
    "\n",
    "# run_path = \"/home/harishbabu/projects/PIPNet/runs/171-PruningNaiveHPIPNetMaskL1=0.5MaskTrainExtra=15epsEps=60MinCont=0.1_cnext26_CUB-29-imgnet-224_with-equalize-aug_img=224_nprotos=20\"\n",
    "\n",
    "# run_path = \"/home/harishbabu/projects/PIPNet/runs/172-PruningNaiveHPIPNetMaskL1=0.5MaskTrainExtra=15epsEps=60TanhDesc=0.1MinCont=0.1_cnext26_CUB-29-imgnet-224_with-equalize-aug_img=224_nprotos=20\"\n",
    "\n",
    "# run_path = \"/home/harishbabu/projects/PIPNet/runs/173-PruningNaiveHPIPNetMaskL1=0.5MaskTrainExtra=15epsEps=60TanhDesc=0.1MinCont=0.1_cnext26_CUB-18-imgnet-224_with-equalize-aug_img=224_nprotos=20\"\n",
    "\n",
    "# run_path = \"/home/harishbabu/projects/PIPNet/runs/176-PruningNaiveHPIPNetMaskL1=0.5MaskTrainExtra=15epsEps=60TanhDesc=2.0MinCont=0.1_cnext26_CUB-190-imgnet-224_with-equalize-aug_img=224_nprotos=20\"\n",
    "\n",
    "# run_path = \"/home/harishbabu/projects/PIPNet/runs/178-PruningNaiveHPIPNetMaskL1=0.5MaskTrainExtra=15epsEps=60TanhDesc=0.05MinCont=0.1_cnext26_CUB-190-imgnet-224_WeightedCE_with-equalize-aug_img=224_nprotos=20\"\n",
    "\n",
    "# run_path = \"/home/harishbabu/projects/PIPNet/runs/179-PruningNaiveHPIPNetMaskL1=0.5MaskTrainExtra=15epsEps=60TanhDesc=0.05MinCont=0.1_cnext26_CUB-190-224_WeightedCE_with-equalize-aug_img=224_nprotos=20\"\n",
    "\n",
    "# run_path = \"/home/harishbabu/projects/PIPNet/runs/180-PruningNaiveHPIPNetMaskL1=0.5MaskTrainExtra=15epsEps=60TanhDesc=2.0MinCont=0.1_cnext26_CUB-190-imgnet-224_WeightedCE_with-equalize-aug_img=224_nprotos=20\"\n",
    "\n",
    "# run_path = \"/home/harishbabu/projects/PIPNet/runs/181-PruningNaiveHPIPNetMaskL1=0.5MaskTrainExtra=15epsEps=60TanhDesc=2.0MinCont=0.1_cnext26_CUB-190-224_WeightedCE_with-equalize-aug_img=224_nprotos=20\"\n",
    "\n",
    "# run_path = \"/home/harishbabu/projects/PIPNet/runs/182-PruningNaiveHPIPNetMaskL1=0.5MaskTrainExtra=15epsEps=60TanhDesc=0.1MinCont=0.1_cnext26_CUB-190-imgnet-224_WeightedCE_with-equalize-aug_img=224_nprotos=20\"\n",
    "\n",
    "# run_path = \"/home/harishbabu/projects/PIPNet/runs/183-PruningBF=1.1NaiveHPIPNetMaskL1=0.5MaskTrainExtra=15epsEps=60TanhDesc=0.05MinCont=0.1_cnext26_CUB-190-imgnet-224_WeightedCE_with-equalize-aug_img=224_nprotos=20\"\n",
    "\n",
    "run_path = \"/home/harishbabu/projects/PIPNet/runs/184-PruningBF=1.1NaiveHPIPNetMaskL1=0.5MaskTrainExtra=15epsEps=60TanhDesc=0.05MinCont=0.1_cnext26_CUB-190-imgnet-224_WeightedCE_with-equalize-aug_img=224_nprotos=20\"\n",
    "\n",
    "try:\n",
    "    sys.path.remove('/home/harishbabu/projects/PIPNet')\n",
    "except:\n",
    "    pass\n",
    "sys.path.insert(0, os.path.join(run_path, 'source_clone'))\n",
    "\n",
    "print(run_path)"
   ]
  },
  {
   "cell_type": "code",
   "execution_count": 3,
   "id": "e7f39153",
   "metadata": {},
   "outputs": [
    {
     "name": "stdout",
     "output_type": "stream",
     "text": [
      "Heatmaps showing where a prototype is found will not be generated because OpenCV is not installed.\n"
     ]
    }
   ],
   "source": [
    "from pipnet.pipnet import PIPNet, get_network\n",
    "from util.log import Log\n",
    "from util.args import get_args, save_args, get_optimizer_nn\n",
    "from util.data import get_dataloaders\n",
    "from util.func import init_weights_xavier\n",
    "from pipnet.train import train_pipnet, test_pipnet\n",
    "# from pipnet.test import eval_pipnet, get_thresholds, eval_ood\n",
    "from util.eval_cub_csv import eval_prototypes_cub_parts_csv, get_topk_cub, get_proto_patches_cub\n",
    "from util.vis_pipnet import visualize, visualize_topk\n",
    "from util.visualize_prediction import vis_pred, vis_pred_experiments\n",
    "from util.node import Node\n",
    "from util.phylo_utils import construct_phylo_tree, construct_discretized_phylo_tree\n",
    "from util.func import get_patch_size\n",
    "from util.data import ModifiedLabelLoader"
   ]
  },
  {
   "cell_type": "markdown",
   "id": "6eba5e1c",
   "metadata": {},
   "source": [
    "# Load model"
   ]
  },
  {
   "cell_type": "code",
   "execution_count": 4,
   "id": "c79f958f",
   "metadata": {},
   "outputs": [
    {
     "name": "stdout",
     "output_type": "stream",
     "text": [
      "------------------------- No discretization -------------------------\n"
     ]
    }
   ],
   "source": [
    "args_file = open(os.path.join(run_path, 'metadata', 'args.pickle'), 'rb')\n",
    "args = pickle.load(args_file)\n",
    "\n",
    "if args.phylo_config:\n",
    "    phylo_config = OmegaConf.load(args.phylo_config)\n",
    "\n",
    "if args.phylo_config:\n",
    "    # construct the phylo tree\n",
    "    if phylo_config.phyloDistances_string == 'None':\n",
    "        if '031' in run_path: # this run uses a different phylogeny file that had an extra root node which is a mistake\n",
    "            root = construct_phylo_tree('/home/harishbabu/data/phlyogenyCUB/18Species-with-extra-root-node/1_tree-consensus-Hacket-18Species-modified_cub-names_v1.phy')\n",
    "        else:\n",
    "            root = construct_phylo_tree(phylo_config.phylogeny_path)\n",
    "        print('-'*25 + ' No discretization ' + '-'*25)\n",
    "    else:\n",
    "        root = construct_discretized_phylo_tree(phylo_config.phylogeny_path, phylo_config.phyloDistances_string)\n",
    "        print('-'*25 + ' Discretized ' + '-'*25)\n",
    "else:\n",
    "    # construct the tree (original hierarchy as described in the paper)\n",
    "    root = Node(\"root\")\n",
    "    root.add_children(['animal','vehicle','everyday_object','weapon','scuba_diver'])\n",
    "    root.add_children_to('animal',['non_primate','primate'])\n",
    "    root.add_children_to('non_primate',['African_elephant','giant_panda','lion'])\n",
    "    root.add_children_to('primate',['capuchin','gibbon','orangutan'])\n",
    "    root.add_children_to('vehicle',['ambulance','pickup','sports_car'])\n",
    "    root.add_children_to('everyday_object',['laptop','sandal','wine_bottle'])\n",
    "    root.add_children_to('weapon',['assault_rifle','rifle'])\n",
    "    # flat root\n",
    "    # root.add_children(['scuba_diver','African_elephant','giant_panda','lion','capuchin','gibbon','orangutan','ambulance','pickup','sports_car','laptop','sandal','wine_bottle','assault_rifle','rifle'])\n",
    "root.assign_all_descendents()\n",
    "\n",
    "exp_no = int(os.path.basename(run_path)[:3])\n",
    "\n",
    "if exp_no < 77:\n",
    "    if ('num_protos_per_descendant' in args) and (args.num_protos_per_descendant > 0):\n",
    "        for node in root.nodes_with_children():\n",
    "            node.set_num_protos(args.num_protos_per_descendant)\n",
    "if exp_no == 77:\n",
    "    # update num of protos per node based on num_protos_per_descendant\n",
    "    if args.num_features == 0 and args.num_protos_per_descendant == 0:\n",
    "        raise Exception('Either of num_features or num_protos_per_descendant must be greater than zero')\n",
    "    for node in root.nodes_with_children():\n",
    "        node.set_num_protos(num_protos_per_descendant=args.num_protos_per_descendant,\\\n",
    "                                                            min_protos=args.num_features)\n",
    "else:\n",
    "    if ('num_protos_per_descendant' in args):\n",
    "        # update num of protos per node based on num_protos_per_descendant\n",
    "        if args.num_features == 0 and args.num_protos_per_descendant == 0:\n",
    "            raise Exception('Either of num_features or num_protos_per_descendant must be greater than zero')\n",
    "        for node in root.nodes_with_children():\n",
    "            node.set_num_protos(num_protos_per_descendant=args.num_protos_per_descendant,\\\n",
    "                                min_protos=args.num_features,\\\n",
    "                                split_protos=('protopool' in args) and (args.protopool == 'n'))"
   ]
  },
  {
   "cell_type": "code",
   "execution_count": 5,
   "id": "d8ef999b",
   "metadata": {},
   "outputs": [
    {
     "name": "stdout",
     "output_type": "stream",
     "text": [
      "Num classes (k) =  190 ['cub_001_Black_footed_Albatross', 'cub_002_Laysan_Albatross', 'cub_003_Sooty_Albatross', 'cub_004_Groove_billed_Ani', 'cub_005_Crested_Auklet'] etc.\n",
      "256 256\n",
      "Number of prototypes:  20\n",
      "----------Prototypes per descendant: 0----------\n",
      "Assigned 20 protos to node root\n",
      "Assigned 20 protos to node 129+024+067\n",
      "Assigned 20 protos to node 089+046\n",
      "Assigned 20 protos to node 129+065\n",
      "Assigned 20 protos to node 024+051\n",
      "Assigned 20 protos to node 067+070\n",
      "Assigned 20 protos to node 089+090\n",
      "Assigned 20 protos to node 046+087\n",
      "Assigned 20 protos to node 129+192\n",
      "Assigned 20 protos to node 065+006\n",
      "Assigned 20 protos to node 024+031\n",
      "Assigned 20 protos to node 051+052\n",
      "Assigned 20 protos to node 067+068\n",
      "Assigned 20 protos to node 129+043\n",
      "Assigned 20 protos to node 192+081\n",
      "Assigned 20 protos to node 065+144\n",
      "Assigned 20 protos to node 006+071\n",
      "Assigned 20 protos to node 024+086\n",
      "Assigned 20 protos to node 031+004\n",
      "Assigned 20 protos to node 051+053\n",
      "Assigned 20 protos to node 067+069\n",
      "Assigned 20 protos to node 129+018\n",
      "Assigned 20 protos to node 043+078\n",
      "Assigned 20 protos to node 192+036\n",
      "Assigned 20 protos to node 081+083\n",
      "Assigned 20 protos to node 065+084\n",
      "Assigned 20 protos to node 144+147\n",
      "Assigned 20 protos to node 006+058\n",
      "Assigned 20 protos to node 071+072\n",
      "Assigned 20 protos to node 024+001\n",
      "Assigned 20 protos to node 031+032\n",
      "Assigned 20 protos to node 051+050\n",
      "Assigned 20 protos to node 129+107\n",
      "Assigned 20 protos to node 043+042\n",
      "Assigned 20 protos to node 078+038\n",
      "Assigned 20 protos to node 192+191\n",
      "Assigned 20 protos to node 036+188\n",
      "Assigned 20 protos to node 081+082\n",
      "Assigned 20 protos to node 065+061\n",
      "Assigned 20 protos to node 084+063\n",
      "Assigned 20 protos to node 144+143\n",
      "Assigned 20 protos to node 006+008\n",
      "Assigned 20 protos to node 024+100\n",
      "Assigned 20 protos to node 001+045\n",
      "Assigned 20 protos to node 031+033\n",
      "Assigned 20 protos to node 129+136\n",
      "Assigned 20 protos to node 107+151\n",
      "Assigned 20 protos to node 043+040\n",
      "Assigned 20 protos to node 078+041\n",
      "Assigned 20 protos to node 192+187\n",
      "Assigned 20 protos to node 191+189\n",
      "Assigned 20 protos to node 081+080\n",
      "Assigned 20 protos to node 082+079\n",
      "Assigned 20 protos to node 065+066\n",
      "Assigned 20 protos to node 061+064\n",
      "Assigned 20 protos to node 144+142\n",
      "Assigned 20 protos to node 006+005\n",
      "Assigned 20 protos to node 008+106\n",
      "Assigned 20 protos to node 024+023\n",
      "Assigned 20 protos to node 100+101\n",
      "Assigned 20 protos to node 001+003\n",
      "Assigned 20 protos to node 129+199\n",
      "Assigned 20 protos to node 136+085\n",
      "Assigned 20 protos to node 107+111\n",
      "Assigned 20 protos to node 151+153\n",
      "Assigned 20 protos to node 043+037\n",
      "Assigned 20 protos to node 040+102\n",
      "Assigned 20 protos to node 078+077\n",
      "Assigned 20 protos to node 192+190\n",
      "Assigned 20 protos to node 065+062\n",
      "Assigned 20 protos to node 144+145\n",
      "Assigned 20 protos to node 006+007\n",
      "Assigned 20 protos to node 024+025\n",
      "Assigned 20 protos to node 001+002\n",
      "Assigned 20 protos to node 129+118\n",
      "Assigned 20 protos to node 199+186\n",
      "Assigned 20 protos to node 136+138\n",
      "Assigned 20 protos to node 107+073\n",
      "Assigned 20 protos to node 111+112\n",
      "Assigned 20 protos to node 151+157\n",
      "Assigned 20 protos to node 153+154\n",
      "Assigned 20 protos to node 043+039\n",
      "Assigned 20 protos to node 065+059\n",
      "Assigned 20 protos to node 144+146\n",
      "Assigned 20 protos to node 129+104\n",
      "Assigned 20 protos to node 199+150\n",
      "Assigned 20 protos to node 186+185\n",
      "Assigned 20 protos to node 136+137\n",
      "Assigned 20 protos to node 107+093\n",
      "Assigned 20 protos to node 073+074\n",
      "Assigned 20 protos to node 151+156\n",
      "Assigned 20 protos to node 157+152\n",
      "Assigned 20 protos to node 153+155\n",
      "Assigned 20 protos to node 065+060\n",
      "Assigned 20 protos to node 144+141\n",
      "Assigned 20 protos to node 129+035\n",
      "Assigned 20 protos to node 199+094\n",
      "Assigned 20 protos to node 150+019\n",
      "Assigned 20 protos to node 107+030\n",
      "Assigned 20 protos to node 129+054\n",
      "Assigned 20 protos to node 035+055\n",
      "Assigned 20 protos to node 199+028\n",
      "Assigned 20 protos to node 150+149\n",
      "Assigned 20 protos to node 107+029\n",
      "Assigned 20 protos to node 129+175\n",
      "Assigned 20 protos to node 054+140\n",
      "Assigned 20 protos to node 035+048\n",
      "Assigned 20 protos to node 199+198\n",
      "Assigned 20 protos to node 150+091\n",
      "Assigned 20 protos to node 107+108\n",
      "Assigned 20 protos to node 129+011\n",
      "Assigned 20 protos to node 175+020\n",
      "Assigned 20 protos to node 054+057\n",
      "Assigned 20 protos to node 140+017\n",
      "Assigned 20 protos to node 035+056\n",
      "Assigned 20 protos to node 048+047\n",
      "Assigned 20 protos to node 199+194\n",
      "Assigned 20 protos to node 129+121\n",
      "Assigned 20 protos to node 011+013\n",
      "Assigned 20 protos to node 175+099\n",
      "Assigned 20 protos to node 054+014\n",
      "Assigned 20 protos to node 140+139\n",
      "Assigned 20 protos to node 035+034\n",
      "Assigned 20 protos to node 199+193\n",
      "Assigned 20 protos to node 129+117\n",
      "Assigned 20 protos to node 011+095\n",
      "Assigned 20 protos to node 013+088\n",
      "Assigned 20 protos to node 175+181\n",
      "Assigned 20 protos to node 054+016\n",
      "Assigned 20 protos to node 199+197\n",
      "Assigned 20 protos to node 193+195\n",
      "Assigned 20 protos to node 129+133\n",
      "Assigned 20 protos to node 117+114\n",
      "Assigned 20 protos to node 011+026\n",
      "Assigned 20 protos to node 095+096\n",
      "Assigned 20 protos to node 013+012\n",
      "Assigned 20 protos to node 175+168+173+183\n",
      "Assigned 20 protos to node 054+015\n",
      "Assigned 20 protos to node 199+196\n",
      "Assigned 20 protos to node 129+021\n",
      "Assigned 20 protos to node 133+130\n",
      "Assigned 20 protos to node 117+115\n",
      "Assigned 20 protos to node 011+049\n",
      "Assigned 20 protos to node 026+010\n",
      "Assigned 20 protos to node 095+098\n",
      "Assigned 20 protos to node 096+097\n",
      "Assigned 20 protos to node 175+162\n",
      "Assigned 20 protos to node 168+177\n",
      "Assigned 20 protos to node 173+161\n",
      "Assigned 20 protos to node 183+159\n",
      "Assigned 20 protos to node 129+128\n",
      "Assigned 20 protos to node 021+148\n",
      "Assigned 20 protos to node 133+076\n",
      "Assigned 20 protos to node 130+120\n",
      "Assigned 20 protos to node 117+116\n",
      "Assigned 20 protos to node 115+119\n",
      "Assigned 20 protos to node 011+009\n",
      "Assigned 20 protos to node 026+027\n",
      "Assigned 20 protos to node 175+167\n",
      "Assigned 20 protos to node 162+180\n",
      "Assigned 20 protos to node 168+200\n",
      "Assigned 20 protos to node 177+178\n",
      "Assigned 20 protos to node 173+179\n",
      "Assigned 20 protos to node 161+166\n",
      "Assigned 20 protos to node 183+184\n",
      "Assigned 20 protos to node 129+127\n",
      "Assigned 20 protos to node 128+131\n",
      "Assigned 20 protos to node 133+132\n",
      "Assigned 20 protos to node 175+169\n",
      "Assigned 20 protos to node 168+170\n",
      "Assigned 20 protos to node 173+172\n",
      "Assigned 20 protos to node 129+123\n",
      "Assigned 20 protos to node 128+124\n",
      "Assigned 20 protos to node 133+122\n",
      "Assigned 20 protos to node 175+165+182\n",
      "Assigned 20 protos to node 129+125\n",
      "Assigned 20 protos to node 123+113\n",
      "Assigned 20 protos to node 128+126\n",
      "Assigned 20 protos to node 175+160\n",
      "Assigned 20 protos to node 165+164+163\n",
      "Assigned 20 protos to node 175+176\n",
      "Assigned 20 protos to node 160+109\n",
      "Assigned 20 protos to node 165+158\n",
      "Assigned 20 protos to node 175+174\n",
      "Output shape:  torch.Size([256, 20, 26, 26])\n",
      "26\n"
     ]
    }
   ],
   "source": [
    "if torch.cuda.is_available():\n",
    "    device = torch.device('cuda')\n",
    "    device_ids = [torch.cuda.current_device()]\n",
    "else:\n",
    "    device = torch.device('cpu')\n",
    "    device_ids = []\n",
    "\n",
    "# args_file = open(os.path.join(run_path, 'metadata', 'args.pickle'), 'rb')\n",
    "# args = pickle.load(args_file)\n",
    "\n",
    "# ckpt_file_name = 'net_overspecific_pruned_replaced_thresh=0.5_last'\n",
    "ckpt_file_name = 'net_trained_last'\n",
    "# ckpt_file_name = 'net_trained_10'\n",
    "# ckpt_file_name = 'net_pretrained'\n",
    "epoch = ckpt_file_name.split('_')[-1]\n",
    "\n",
    "ckpt_path = os.path.join(run_path, 'checkpoints', ckpt_file_name)\n",
    "checkpoint = torch.load(ckpt_path, map_location=device)\n",
    "\n",
    "if ckpt_file_name != 'net_trained_last':\n",
    "    print('\\n', (10*'-')+'WARNING: Not using the final trained model'+(10*'-'), '\\n')\n",
    "\n",
    "# Obtain the dataset and dataloaders\n",
    "trainloader, trainloader_pretraining, trainloader_normal, trainloader_normal_augment, projectloader, testloader, test_projectloader, classes = get_dataloaders(args, device)\n",
    "\n",
    "print(args.batch_size, trainloader.batch_size)\n",
    "\n",
    "if len(classes)<=20:\n",
    "    if args.validation_size == 0.:\n",
    "        print(\"Classes: \", testloader.dataset.class_to_idx, flush=True)\n",
    "    else:\n",
    "        print(\"Classes: \", str(classes), flush=True)\n",
    "\n",
    "# Create a convolutional network based on arguments and add 1x1 conv layer\n",
    "feature_net, add_on_layers, pool_layer, classification_layers, num_prototypes = get_network(len(classes), args, root=root)\n",
    "   \n",
    "# Create a PIP-Net\n",
    "net = PIPNet(num_classes=len(classes),\n",
    "                    num_prototypes=num_prototypes,\n",
    "                    feature_net = feature_net,\n",
    "                    args = args,\n",
    "                    add_on_layers = add_on_layers,\n",
    "                    pool_layer = pool_layer,\n",
    "                    classification_layers = classification_layers,\n",
    "                    num_parent_nodes = len(root.nodes_with_children()),\n",
    "                    root = root\n",
    "                    )\n",
    "net = net.to(device=device)\n",
    "net = nn.DataParallel(net, device_ids = device_ids)    \n",
    "net.load_state_dict(checkpoint['model_state_dict'],strict=True)\n",
    "# print(net.eval())\n",
    "criterion = nn.NLLLoss(reduction='mean').to(device)\n",
    "\n",
    "# Forward one batch through the backbone to get the latent output size\n",
    "with torch.no_grad():\n",
    "    xs1, _, _ = next(iter(trainloader))\n",
    "    xs1 = xs1.to(device)\n",
    "    _, proto_features, _, _ = net(xs1)\n",
    "    wshape = proto_features['root'].shape[-1]\n",
    "    args.wshape = wshape #needed for calculating image patch size\n",
    "    print(\"Output shape: \", proto_features['root'].shape, flush=True)\n",
    "    \n",
    "print(args.wshape)"
   ]
  },
  {
   "cell_type": "code",
   "execution_count": 6,
   "id": "8dd56802",
   "metadata": {},
   "outputs": [],
   "source": [
    "from collections import defaultdict\n",
    "import csv\n",
    "import pandas as pd\n",
    "import csv\n",
    "import numpy as np\n",
    "import pandas as pd\n",
    "import os\n",
    "from PIL import Image\n",
    "from tqdm import tqdm\n",
    "import torch\n",
    "from util.func import get_patch_size\n",
    "import csv\n",
    "import torchvision.transforms as transforms\n",
    "import torchvision\n",
    "from util.vis_pipnet import get_img_coordinates\n",
    "\n",
    "def eval_prototypes_cub_parts_csv_nodewise(node, csvfile, parts_loc_path, parts_name_path, imgs_id_path, epoch, args, desc_threshold=0, log=None):\n",
    "    patchsize, _ = get_patch_size(args)\n",
    "    imgresize = float(args.image_size)\n",
    "    path_to_id = dict()\n",
    "    id_to_path = dict()\n",
    "    with open(imgs_id_path) as f:\n",
    "        for line in f:\n",
    "            id, path = line.split('\\n')[0].split(' ')\n",
    "            path_to_id[path]=id\n",
    "            id_to_path[id]=path\n",
    "\n",
    "    img_to_part_xy_vis = dict()\n",
    "    with open(parts_loc_path) as f:\n",
    "        for line in f:\n",
    "            img, partid, x, y, vis = line.split('\\n')[0].split(' ')\n",
    "            vis = str(int(float(vis)))\n",
    "            x =float(x)\n",
    "            y =float(y)\n",
    "            if x > 1.06 or y > 1.05:\n",
    "                raise Exception('Provide normalized coordinated for part loc')\n",
    "            if img not in img_to_part_xy_vis.keys():\n",
    "                img_to_part_xy_vis[img]=dict()\n",
    "            if vis == '1':\n",
    "                img_to_part_xy_vis[img][partid]=(x,y)\n",
    "\n",
    "    parts_id_to_name = dict()\n",
    "    parts_name_to_id = dict()\n",
    "    with open (parts_name_path) as f:\n",
    "        for line in f:\n",
    "            id, name = line.split('\\n')[0].split(' ',1)\n",
    "            parts_id_to_name[id]=name\n",
    "            parts_name_to_id[name]=id\n",
    "#     print(parts_id_to_name)\n",
    "\n",
    "    # merge left and right cub parts\n",
    "    duplicate_part_ids = []\n",
    "    with open (parts_name_path) as f:\n",
    "        for line in f:\n",
    "            id, name = line.split('\\n')[0].split(' ',1)\n",
    "            if 'left' in name:\n",
    "                new_name = name.replace('left', 'right')\n",
    "                \n",
    "                duplicate_part_ids.append((id, parts_name_to_id[new_name]))\n",
    "           \n",
    "    proto_parts_presences = dict()\n",
    "    child_name_to_protos = defaultdict(set)\n",
    "    \n",
    "    protos_to_leafs = defaultdict(lambda: defaultdict(list))\n",
    "    bad_protos = set()\n",
    "    with open (csvfile, newline='') as f:\n",
    "        filereader = csv.reader(f, delimiter=',')\n",
    "        next(filereader) #skip header\n",
    "        for (node_name, child_name, leaf_descendant_name, prototype, \\\n",
    "             imgname, h_min_224, h_max_224, w_min_224, w_max_224, score) in filereader:\n",
    "            protos_to_leafs[prototype][leaf_descendant_name].append(float(score))\n",
    "    \n",
    "    # If the mean activation for any of the descendant is less than desc_threshold that is a bad proto\n",
    "    for prototype in protos_to_leafs:\n",
    "        for leaf_descendant_name in protos_to_leafs[prototype]:\n",
    "            if np.mean(protos_to_leafs[prototype][leaf_descendant_name]) < desc_threshold:\n",
    "                bad_protos.add(prototype)\n",
    "                break\n",
    "\n",
    "    with open (csvfile, newline='') as f:\n",
    "        filereader = csv.reader(f, delimiter=',')\n",
    "        next(filereader) #skip header\n",
    "#         pdb.set_trace()\n",
    "        for (node_name, child_name, leaf_descendant_name, prototype, imgname, h_min_224, h_max_224, w_min_224, w_max_224, scores) in filereader:\n",
    "            \n",
    "            if prototype in bad_protos:\n",
    "                continue\n",
    "            \n",
    "            child_name_to_protos[child_name].add(prototype)\n",
    "            \n",
    "            if prototype not in proto_parts_presences.keys():\n",
    "                proto_parts_presences[prototype]=dict()\n",
    "            p = prototype\n",
    "            img = Image.open(imgname)\n",
    "            imgname = imgname.replace('\\\\', '/')\n",
    "            imgnamec, imgnamef = imgname.split('/')[-2:]\n",
    "            if 'normal_' in imgnamef:\n",
    "                imgnamef = imgnamef.split('normal_')[-1]\n",
    "            imgname = imgnamec+'/'+imgnamef\n",
    "            img_id = path_to_id[imgname]\n",
    "            img_orig_width, img_orig_height = img.size\n",
    "            h_min_224, h_max_224, w_min_224, w_max_224 = float(h_min_224), float(h_max_224), float(w_min_224), float(w_max_224)\n",
    "            \n",
    "            \n",
    "            diffh = h_max_224 - h_min_224\n",
    "            diffw = w_max_224 - w_min_224\n",
    "            # IMPORTANT NOTE:\n",
    "            # this could be affecting the part consistency of ProtoPNet quite a lot \n",
    "            # because their activations are not precisely on the foreground always\n",
    "            if diffh > patchsize: #patch size too big, we take the center. otherwise the bigger the patch, the higher the purity.\n",
    "                correction = diffh-patchsize\n",
    "                h_min_224 = h_min_224 + correction//2.\n",
    "                h_max_224 = h_max_224 - correction//2.\n",
    "            if diffw > patchsize:\n",
    "                correction = diffw-patchsize\n",
    "                w_min_224 = w_min_224 + correction//2.\n",
    "                w_max_224 = w_max_224 - correction//2.\n",
    "\n",
    "            # orig_img_location_h_min = (img_orig_height/imgresize) * h_min_224 \n",
    "            # orig_img_location_h_max = (img_orig_height/imgresize) * h_max_224 \n",
    "            # orig_img_location_w_min = (img_orig_width/imgresize) * w_min_224 \n",
    "            # orig_img_location_w_max = (img_orig_width/imgresize) * w_max_224 \n",
    "            \n",
    "            # orig_img_location_h_min = (h_min_224/imgresize)  \n",
    "            # orig_img_location_h_max = (h_max_224/imgresize) \n",
    "            # orig_img_location_w_min = (w_min_224/imgresize)  \n",
    "            # orig_img_location_w_max = (w_max_224/imgresize) \n",
    "\n",
    "            normalized_h_min = (h_min_224/imgresize) \n",
    "            normalized_h_max = (h_max_224/imgresize) \n",
    "            normalized_w_min = (w_min_224/imgresize) \n",
    "            normalized_w_max = (w_max_224/imgresize) \n",
    "                        \n",
    "            part_dict_img = img_to_part_xy_vis[img_id]\n",
    "            for part in part_dict_img.keys():\n",
    "                x,y = part_dict_img[part]                \n",
    "                part_in_patch = 0 \n",
    "                if y >= normalized_h_min and y <= normalized_h_max:\n",
    "                    if x >= normalized_w_min and x <= normalized_w_max:\n",
    "                        part_in_patch = 1\n",
    "                if part not in proto_parts_presences[p].keys():\n",
    "                    proto_parts_presences[p][part]=[]\n",
    "                    \n",
    "#                 pdb.set_trace()\n",
    "                proto_parts_presences[p][part].append(part_in_patch)\n",
    "            \n",
    "            for pair in duplicate_part_ids:\n",
    "                if pair[0] in part_dict_img.keys():\n",
    "                    if pair[1] in part_dict_img.keys():\n",
    "                        presence0 = proto_parts_presences[p][pair[0]][-1]\n",
    "                        presence1 = proto_parts_presences[p][pair[1]][-1]\n",
    "                        if presence0 > presence1: \n",
    "                            proto_parts_presences[p][pair[1]][-1] = presence0\n",
    "\n",
    "                        del proto_parts_presences[p][pair[0]]\n",
    "                    else:\n",
    "\n",
    "                        if pair[1] not in proto_parts_presences[p].keys():\n",
    "                            proto_parts_presences[p][pair[1]]=[]\n",
    "                        proto_parts_presences[p][pair[1]].append(proto_parts_presences[p][pair[0]][-1])\n",
    "                        del proto_parts_presences[p][pair[0]]\n",
    "                        \n",
    "#     print(\"\\n Eval CUB Parts - Epoch: \", epoch, flush=True)\n",
    "    print(\"Number of prototypes in parts_presences: \", len(proto_parts_presences.keys()), flush=True)\n",
    "\n",
    "    # if node.name == '004+086':\n",
    "    #     pdb.set_trace()\n",
    "    \n",
    "    prototypes_part_related = 0\n",
    "    max_presence_purity = dict()\n",
    "    max_presence_purity_part = dict()\n",
    "    max_presence_purity_sum = dict()\n",
    "\n",
    "    most_often_present_purity = dict()\n",
    "    part_most_present = dict()\n",
    "    \n",
    "    for proto in proto_parts_presences.keys():\n",
    "        \n",
    "        max_presence_purity[proto]= 0.\n",
    "        part_most_present[proto] = ('0',0)\n",
    "        most_often_present_purity[proto] = 0.\n",
    "\n",
    "        # CUB parts 7,8 and 9 are  duplicate (right and left). additional check that these should not occur (already fixed earlier in this function)\n",
    "        if ('7' in proto_parts_presences[proto].keys() or '8' in proto_parts_presences[proto].keys() or '9' in proto_parts_presences[proto].keys()):\n",
    "            print(\"unused part in keys! \", proto, proto_parts_presences[proto].keys(), proto_parts_presences[proto], flush=True)\n",
    "            raise ValueError()\n",
    "        \n",
    "        for part in proto_parts_presences[proto].keys():\n",
    "            presence_purity = np.mean(proto_parts_presences[proto][part])\n",
    "            sum_occurs = np.array(proto_parts_presences[proto][part]).sum()\n",
    "        \n",
    "            # evaluate whether the purity of this prototype for this part is higher than for other parts\n",
    "            if presence_purity > max_presence_purity[proto]:\n",
    "                max_presence_purity[proto]=presence_purity\n",
    "                max_presence_purity_part[proto]=parts_id_to_name[part]\n",
    "                max_presence_purity_sum[proto] = sum_occurs\n",
    "            elif presence_purity == max_presence_purity[proto]:\n",
    "                if presence_purity == 0.:\n",
    "                    max_presence_purity[proto]=presence_purity\n",
    "                    max_presence_purity_part[proto]=parts_id_to_name[part]\n",
    "                    max_presence_purity_sum[proto] = sum_occurs\n",
    "                elif sum_occurs > max_presence_purity_sum[proto]:\n",
    "                    max_presence_purity[proto]=presence_purity\n",
    "                    max_presence_purity_part[proto]=parts_id_to_name[part]\n",
    "                    max_presence_purity_sum[proto] = sum_occurs\n",
    "        \n",
    "            if sum_occurs > part_most_present[proto][1]:\n",
    "                part_most_present[proto] = (part, sum_occurs)\n",
    "                most_often_present_purity[proto]=presence_purity         \n",
    "        if max_presence_purity[proto] > 0.5:\n",
    "            prototypes_part_related += 1 \n",
    "        \n",
    "            \n",
    "    print(f\"Part-related (purity>0.5): {prototypes_part_related}\", flush=True)\n",
    "    purity_of_child = {}\n",
    "    for child_name in child_name_to_protos:\n",
    "        purity_of_child[child_name] = np.mean([max_presence_purity[p] for p in child_name_to_protos[child_name]])\n",
    "        std = np.std([max_presence_purity[p] for p in child_name_to_protos[child_name]])\n",
    "        num_descendants = node.get_node(child_name).num_leaf_descendents()\n",
    "        print('Node:', node.name, '| Child:', child_name, '| Purity:', purity_of_child[child_name], '| Num desc:', num_descendants, '| Num protos:', len(child_name_to_protos[child_name]))\n",
    "        for p in child_name_to_protos[child_name]:\n",
    "            print('\\tProto:', p, max_presence_purity[p])\n",
    "            \n",
    "#     print(f\"Purity: {}\", np.mean(list(max_presence_purity.values())), \"std: \", np.std(list(max_presence_purity.values())), flush=True)\n",
    "#     print(\"Prototypes with highest-purity part (no contraints): \", max_presence_purity_part, flush=True)\n",
    "#     print(\"Prototype with part that has most often overlap with prototype: \", part_most_present, flush=True)\n",
    "    \n",
    "    if log:\n",
    "        log.log_values('log_epoch_overview', \"p_cub_\"+str(epoch), \"mean purity (averaged over all prototypes, corresponding to purest part)\", \"std purity\", \"mean purity (averaged over all prototypes, corresponding to part with most often overlap)\", \"std purity\", \"# prototypes in csv\", \"#part-related prototypes (purity > 0.5)\",\"\",\"\")\n",
    "\n",
    "        log.log_values('log_epoch_overview', \"p_cub_\"+str(epoch), np.mean(list(max_presence_purity.values())), np.std(list(max_presence_purity.values())), np.mean(list(most_often_present_purity.values())), np.std(list(most_often_present_purity.values())), len(list(proto_parts_presences.keys())), prototypes_part_related, \"\", \"\")\n",
    "\n",
    "    overall_node_purity = np.mean([max_presence_purity[p] for child_name in child_name_to_protos for p in child_name_to_protos[child_name]])\n",
    "    return overall_node_purity\n",
    "\n",
    "def get_topk_cub_nodewise(net, root, projectloader, k, epoch, device, args):   \n",
    "\n",
    "    list_csvfile_topk = []\n",
    "    list_node_wise_df = []\n",
    "    dict_node_wise_df = {}\n",
    "\n",
    "    if isinstance(projectloader.sampler, torch.utils.data.RandomSampler):\n",
    "        raise Exception('Dataset should not be in shuffle')\n",
    "    # Make sure the model is in evaluation mode\n",
    "    net.eval()\n",
    "\n",
    "    # modifiedLabelLoader = ModifiedLabelLoader(projectloader, node)\n",
    "    # coarse_label2name = modifiedLabelLoader.modifiedlabel2name\n",
    "    # node_label_to_children = {label: name for name, label in node.children_to_labels.items()}\n",
    "    # project_iter = tqdm(enumerate(modifiedLabelLoader),\n",
    "    #                     total=len(modifiedLabelLoader),\n",
    "    #                     desc='Collecting top-k Prototypes CUB parts for '  + node.name,\n",
    "    #                     mininterval=50.,\n",
    "    #                     ncols=0)\n",
    "    \n",
    "    # IMPORTANT: dataloader should NOT be in shuffle, because imgs will not be shuffled, indexing wont be right\n",
    "    name2label = projectloader.dataset.class_to_idx\n",
    "    label2name = {label:name for name, label in name2label.items()}\n",
    "    # Show progress on progress bar\n",
    "    project_iter = tqdm(enumerate(projectloader),\n",
    "                        total=len(projectloader),\n",
    "                        desc='Collecting top-k Prototypes CUB parts',\n",
    "                        mininterval=50.,\n",
    "                        ncols=0)\n",
    "    imgs = projectloader.dataset.imgs\n",
    "\n",
    "    # classification_weights = getattr(net.module, '_'+node.name+'_classification').weight\n",
    "    # classification_weights = net.module._classification.weight\n",
    "\n",
    "    patchsize, skip = get_patch_size(args)\n",
    "\n",
    "    # scores_per_prototype = defaultdict(lambda: defaultdict(list))\n",
    "    # scores_per_prototype = defaultdict(lambda: defaultdict(lambda: defaultdict(list)))\n",
    "    scores_per_prototype = dict() # maps node.name -> proto_idx -> leaf_name -> list(topk)\n",
    "    for node in root.nodes_with_children():\n",
    "        scores_per_prototype[node.name] = defaultdict(lambda: defaultdict(list))\n",
    "    # scores_per_prototype = dict()\n",
    "    \n",
    "    # Iterate through the projection set\n",
    "    for i, (xs, orig_y) in project_iter:\n",
    "        xs= xs.to(device)\n",
    "\n",
    "        # coarse_label = ys.item()\n",
    "        leaf_label = orig_y.item()\n",
    "        leaf_name = label2name[leaf_label]\n",
    "\n",
    "        with torch.no_grad():\n",
    "            # Use the model to classify this batch of input data\n",
    "            _, pfs_dict, pooled_dict, _ = net(xs)\n",
    "\n",
    "            for node in root.nodes_with_children():\n",
    "\n",
    "                if leaf_name not in node.leaf_descendents:\n",
    "                    continue\n",
    "\n",
    "                classification_weights = getattr(net.module, '_'+node.name+'_classification').weight\n",
    "\n",
    "                child_name = node.closest_descendent_for(leaf_name).name\n",
    "                coarse_label = node.children_to_labels[child_name]\n",
    "                coarse_label2name = {label: name for name, label in node.children_to_labels.items()}\n",
    "                # node_label_to_children = {label: name for name, label in node.children_to_labels.items()}\n",
    "                \n",
    "                pfs = pfs_dict[node.name]\n",
    "                pooled = pooled_dict[node.name]\n",
    "                pooled = pooled.squeeze(0) \n",
    "                pfs = pfs.squeeze(0) \n",
    "                for p in range(pooled.shape[0]):\n",
    "\n",
    "                    if (classification_weights[coarse_label, p].item() > 1e-3):\n",
    "                        scores_per_prototype[node.name][p][leaf_label].append((i, pooled[p].item(), pfs[p,:,:]))\n",
    "    \n",
    "                    # relevant_proto_classes = torch.nonzero(classification_weights[:, p] > 1e-3)\n",
    "                    # relevant_proto_class_names = [coarse_label2name[class_idx.item()] for class_idx in relevant_proto_classes]\n",
    "    \n",
    "                    # #ignore prototypes that are not relevant to any class\n",
    "                    # if len(relevant_proto_class_names) == 0:\n",
    "                    #     continue\n",
    "    \n",
    "                    # if (coarse_label2name[coarse_label] in relevant_proto_class_names):\n",
    "                    #     scores_per_prototype[p][leaf_label].append((i, pooled[p].item(), pfs[p,:,:]))\n",
    "    \n",
    "                    # c_weight = torch.max(classification_weights[:,p]) \n",
    "                    # if c_weight > 1e-5:#ignore prototypes that are not relevant to any class\n",
    "                    #     # if p not in scores_per_prototype:\n",
    "                    #     #     scores_per_prototype[p] = []\n",
    "                    #     scores_per_prototype[p][leaf_descendent].append((i, pooled[p].item()))\n",
    "    \n",
    "    \n",
    "    csvfolderpath = os.path.join(args.log_dir, f'node_wise_top{k}')\n",
    "    os.makedirs(csvfolderpath, exist_ok=True)\n",
    "\n",
    "    for node in root.nodes_with_children():\n",
    "        proto_img_coordinates = []\n",
    "        proto_img_coordinates_df = []\n",
    "        csvfilepath = os.path.join(csvfolderpath, f'{node.name}_prototypes_top{k}_{str(epoch)}.csv')\n",
    "        too_small = set()\n",
    "        protoype_iter = tqdm(enumerate(scores_per_prototype[node.name].keys()), total=len(list(scores_per_prototype[node.name].keys())),mininterval=5.,ncols=0,desc='Collecting top-k patch coordinates CUB')\n",
    "        with open(csvfilepath, \"w\", newline='') as csvfile:\n",
    "            print(\"Writing CSV file with top k image patches..\", flush=True)\n",
    "            writer = csv.writer(csvfile, delimiter=',')\n",
    "            writer.writerow([\"node\", \"child\", \"leaf\", \"prototype\", \\\n",
    "                             \"img name\", \"h_min_224\", \"h_max_224\", \\\n",
    "                             \"w_min_224\", \"w_max_224\", \"scores\"])\n",
    "            for _, prototype in protoype_iter:\n",
    "                for leaf_label in scores_per_prototype[node.name][prototype]:\n",
    "                    leaf_descendent_name = label2name[leaf_label]\n",
    "                    child_name = node.closest_descendent_for(leaf_descendent_name).name\n",
    "                    leaf_descendent_name = leaf_descendent_name[4:7] # taking only the number from class name\n",
    "                    df = pd.DataFrame(scores_per_prototype[node.name][prototype][leaf_label], columns=['img_id', 'scores', 'latent_activation'])\n",
    "                    topk = df.nlargest(k, 'scores')\n",
    "                    for index, row in topk.iterrows():\n",
    "                        imgid = int(row['img_id'])\n",
    "                        imgname = imgs[imgid][0]\n",
    "                        # imgtensor = projectloader.dataset[imgid][0].unsqueeze(0)\n",
    "                        # image = transforms.Resize(size=(args.image_size, args.image_size))(Image.open(imgname))\n",
    "                        # imgtensor = transforms.ToTensor()(image).unsqueeze_(0) #shape (1, 3, h, w)\n",
    "                        with torch.no_grad():\n",
    "                            # # Use the model to classify this batch of input data\n",
    "                            # _, pfs, pooled, _ = net(imgtensor)\n",
    "                            # pfs = pfs[node.name]\n",
    "                            # pooled = pooled[node.name]\n",
    "                            # pfs = pfs.squeeze(0) \n",
    "                            # pooled = pooled.squeeze(0)\n",
    "                            \n",
    "                            # if pooled[p].item() < 0.1:\n",
    "                            #     too_small.add(p)\n",
    "                            # location_h, location_h_idx = torch.max(pfs[prototype,:,:], dim=0)\n",
    "    \n",
    "                            if row['scores'] < 0.1:\n",
    "                                too_small.add(p)\n",
    "                                \n",
    "                            location_h, location_h_idx = torch.max(row['latent_activation'], dim=0)\n",
    "                            _, location_w_idx = torch.max(location_h, dim=0)\n",
    "                            location = (location_h_idx[location_w_idx].item(), location_w_idx.item())\n",
    "                            h_coor_min, h_coor_max, w_coor_min, w_coor_max = get_img_coordinates(args.image_size, row['latent_activation'].unsqueeze(0).shape, patchsize, skip, location[0], location[1])\n",
    "                            \n",
    "                            proto_img_coordinates.append([node.name, child_name, leaf_descendent_name, \\\n",
    "                                                          prototype, imgname, h_coor_min, h_coor_max, \\\n",
    "                                                          w_coor_min, w_coor_max, row['scores']])\n",
    "                            proto_img_coordinates_df.append([node.name, child_name, leaf_descendent_name, \\\n",
    "                                                          prototype, imgname, h_coor_min, h_coor_max, \\\n",
    "                                                          w_coor_min, w_coor_max, row['scores'], row['latent_activation']])\n",
    "                # write intermediate results in case of large dataset\n",
    "                if len(proto_img_coordinates) > 10000:\n",
    "                    writer.writerows(proto_img_coordinates)\n",
    "                    proto_img_coordinates = []\n",
    "            print(\"Warning: image patches included in topk, but similarity < 0.1! This might unfairly reduce the purity metric because prototype has less than k similar image patches. You could consider reducing k for prototypes\", too_small, flush=True)\n",
    "    \n",
    "            writer.writerows(proto_img_coordinates) \n",
    "        # do something about this\n",
    "        df = pd.DataFrame(proto_img_coordinates_df, columns=[\"node\", \"child\", \"leaf\", \"prototype\", \\\n",
    "                                                         \"img name\", \"h_min_224\", \"h_max_224\", \\\n",
    "                                                         \"w_min_224\", \"w_max_224\", \"scores\", 'latent_activation'])\n",
    "        list_csvfile_topk.append(csvfilepath)\n",
    "        list_node_wise_df.append(df)\n",
    "        dict_node_wise_df[node.name] = df\n",
    "    # return df\n",
    "    return list_csvfile_topk, list_node_wise_df, dict_node_wise_df\n",
    "\n",
    "def eval_prototypes_cub_parts_csv_nodewise_maxmin(node, csvfile, parts_loc_path, parts_name_path, imgs_id_path, epoch, args, desc_threshold=0, log=None):\n",
    "    patchsize, _ = get_patch_size(args)\n",
    "    imgresize = float(args.image_size)\n",
    "    path_to_id = dict()\n",
    "    id_to_path = dict()\n",
    "    with open(imgs_id_path) as f:\n",
    "        for line in f:\n",
    "            id, path = line.split('\\n')[0].split(' ')\n",
    "            path_to_id[path]=id\n",
    "            id_to_path[id]=path\n",
    "\n",
    "    img_to_part_xy_vis = dict()\n",
    "    with open(parts_loc_path) as f:\n",
    "        for line in f:\n",
    "            img, partid, x, y, vis = line.split('\\n')[0].split(' ')\n",
    "            vis = str(int(float(vis)))\n",
    "            x =float(x)\n",
    "            y =float(y)\n",
    "            if x > 1.06 or y > 1.05:\n",
    "                raise Exception('Provide normalized coordinated for part loc')\n",
    "            if img not in img_to_part_xy_vis.keys():\n",
    "                img_to_part_xy_vis[img]=dict()\n",
    "            if vis == '1':\n",
    "                img_to_part_xy_vis[img][partid]=(x,y)\n",
    "\n",
    "    parts_id_to_name = dict()\n",
    "    parts_name_to_id = dict()\n",
    "    with open (parts_name_path) as f:\n",
    "        for line in f:\n",
    "            id, name = line.split('\\n')[0].split(' ',1)\n",
    "            parts_id_to_name[id]=name\n",
    "            parts_name_to_id[name]=id\n",
    "#     print(parts_id_to_name)\n",
    "\n",
    "    # merge left and right cub parts\n",
    "    duplicate_part_ids = []\n",
    "    with open (parts_name_path) as f:\n",
    "        for line in f:\n",
    "            id, name = line.split('\\n')[0].split(' ',1)\n",
    "            if 'left' in name:\n",
    "                new_name = name.replace('left', 'right')\n",
    "                \n",
    "                duplicate_part_ids.append((id, parts_name_to_id[new_name]))\n",
    "           \n",
    "    proto_parts_presences = dict()\n",
    "    child_name_to_protos = defaultdict(set)\n",
    "    \n",
    "    # protos_to_leafs = defaultdict(lambda: defaultdict(list))\n",
    "    # bad_protos = set()\n",
    "    # with open (csvfile, newline='') as f:\n",
    "    #     filereader = csv.reader(f, delimiter=',')\n",
    "    #     next(filereader) #skip header\n",
    "    #     for (node_name, child_name, leaf_descendant_name, prototype, \\\n",
    "    #          imgname, h_min_224, h_max_224, w_min_224, w_max_224, score) in filereader:\n",
    "    #         protos_to_leafs[prototype][leaf_descendant_name].append(float(score))\n",
    "    # # If the mean activation for any of the descendant is less than desc_threshold that is a bad proto\n",
    "    # for prototype in protos_to_leafs:\n",
    "    #     for leaf_descendant_name in protos_to_leafs[prototype]:\n",
    "    #         if np.mean(protos_to_leafs[prototype][leaf_descendant_name]) < desc_threshold:\n",
    "    #             bad_protos.add(prototype)\n",
    "    #             break\n",
    "\n",
    "    with open (csvfile, newline='') as f:\n",
    "        filereader = csv.reader(f, delimiter=',')\n",
    "        next(filereader) #skip header\n",
    "#         pdb.set_trace()\n",
    "        for (node_name, child_name, leaf_descendant_name, prototype, imgname, h_min_224, h_max_224, w_min_224, w_max_224, scores) in filereader:\n",
    "            \n",
    "            # if prototype in bad_protos:\n",
    "            #     continue\n",
    "            \n",
    "            child_name_to_protos[child_name].add(prototype)\n",
    "            \n",
    "            if prototype not in proto_parts_presences.keys():\n",
    "                proto_parts_presences[prototype]=dict()\n",
    "            if leaf_descendant_name not in proto_parts_presences[prototype].keys():\n",
    "                proto_parts_presences[prototype][leaf_descendant_name]=dict()\n",
    "            p = prototype\n",
    "            img = Image.open(imgname)\n",
    "            imgname = imgname.replace('\\\\', '/')\n",
    "            imgnamec, imgnamef = imgname.split('/')[-2:]\n",
    "            if 'normal_' in imgnamef:\n",
    "                imgnamef = imgnamef.split('normal_')[-1]\n",
    "            imgname = imgnamec+'/'+imgnamef\n",
    "            img_id = path_to_id[imgname]\n",
    "            img_orig_width, img_orig_height = img.size\n",
    "            h_min_224, h_max_224, w_min_224, w_max_224 = float(h_min_224), float(h_max_224), float(w_min_224), float(w_max_224)\n",
    "            \n",
    "            \n",
    "            diffh = h_max_224 - h_min_224\n",
    "            diffw = w_max_224 - w_min_224\n",
    "            # IMPORTANT NOTE:\n",
    "            # this could be affecting the part consistency of ProtoPNet quite a lot \n",
    "            # because their activations are not precisely on the foreground always\n",
    "            if diffh > patchsize: #patch size too big, we take the center. otherwise the bigger the patch, the higher the purity.\n",
    "                correction = diffh-patchsize\n",
    "                h_min_224 = h_min_224 + correction//2.\n",
    "                h_max_224 = h_max_224 - correction//2.\n",
    "            if diffw > patchsize:\n",
    "                correction = diffw-patchsize\n",
    "                w_min_224 = w_min_224 + correction//2.\n",
    "                w_max_224 = w_max_224 - correction//2.\n",
    "\n",
    "            # orig_img_location_h_min = (img_orig_height/imgresize) * h_min_224 \n",
    "            # orig_img_location_h_max = (img_orig_height/imgresize) * h_max_224 \n",
    "            # orig_img_location_w_min = (img_orig_width/imgresize) * w_min_224 \n",
    "            # orig_img_location_w_max = (img_orig_width/imgresize) * w_max_224 \n",
    "            \n",
    "            # orig_img_location_h_min = (h_min_224/imgresize)  \n",
    "            # orig_img_location_h_max = (h_max_224/imgresize) \n",
    "            # orig_img_location_w_min = (w_min_224/imgresize)  \n",
    "            # orig_img_location_w_max = (w_max_224/imgresize) \n",
    "\n",
    "            normalized_h_min = (h_min_224/imgresize) \n",
    "            normalized_h_max = (h_max_224/imgresize) \n",
    "            normalized_w_min = (w_min_224/imgresize) \n",
    "            normalized_w_max = (w_max_224/imgresize) \n",
    "                        \n",
    "            part_dict_img = img_to_part_xy_vis[img_id]\n",
    "            for part in part_dict_img.keys():\n",
    "                x,y = part_dict_img[part]                \n",
    "                part_in_patch = 0 \n",
    "                if y >= normalized_h_min and y <= normalized_h_max:\n",
    "                    if x >= normalized_w_min and x <= normalized_w_max:\n",
    "                        part_in_patch = 1\n",
    "                if part not in proto_parts_presences[p][leaf_descendant_name].keys():\n",
    "                    proto_parts_presences[p][leaf_descendant_name][part]=[]\n",
    "                    \n",
    "#                 pdb.set_trace()\n",
    "                proto_parts_presences[p][leaf_descendant_name][part].append(part_in_patch)\n",
    "            \n",
    "            for pair in duplicate_part_ids:\n",
    "                if pair[0] in part_dict_img.keys():\n",
    "                    if pair[1] in part_dict_img.keys():\n",
    "                        presence0 = proto_parts_presences[p][leaf_descendant_name][pair[0]][-1]\n",
    "                        presence1 = proto_parts_presences[p][leaf_descendant_name][pair[1]][-1]\n",
    "                        if presence0 > presence1: \n",
    "                            proto_parts_presences[p][leaf_descendant_name][pair[1]][-1] = presence0\n",
    "\n",
    "                        del proto_parts_presences[p][leaf_descendant_name][pair[0]]\n",
    "                    else:\n",
    "\n",
    "                        if pair[1] not in proto_parts_presences[p][leaf_descendant_name].keys():\n",
    "                            proto_parts_presences[p][leaf_descendant_name][pair[1]]=[]\n",
    "                        proto_parts_presences[p][leaf_descendant_name][pair[1]].append(proto_parts_presences[p][leaf_descendant_name][pair[0]][-1])\n",
    "                        del proto_parts_presences[p][leaf_descendant_name][pair[0]]\n",
    "                        \n",
    "#     print(\"\\n Eval CUB Parts - Epoch: \", epoch, flush=True)\n",
    "    print(\"Number of prototypes in parts_presences: \", len(proto_parts_presences.keys()), flush=True)\n",
    "    \n",
    "    prototypes_part_related = 0\n",
    "    max_presence_purity = dict()\n",
    "    max_presence_purity_part = dict()\n",
    "    max_presence_purity_sum = dict()\n",
    "\n",
    "    most_often_present_purity = dict()\n",
    "    part_most_present = dict()\n",
    "\n",
    "    # for each of a proto taking the least occurence with respect to topk from each descendant\n",
    "    proto_parts_presences_copy = dict()\n",
    "    for proto in proto_parts_presences.keys():\n",
    "        proto_parts_presences_copy[proto] = dict()\n",
    "        for part in part_dict_img.keys():\n",
    "            # if 'left' in parts_id_to_name[part]:\n",
    "            #     continue\n",
    "            proto_parts_presences_copy[proto][part] = None\n",
    "            for leaf_descendant_name in proto_parts_presences[proto].keys():\n",
    "\n",
    "                # to avoid the keyvalue error\n",
    "                if part not in proto_parts_presences[proto][leaf_descendant_name]:\n",
    "                    continue\n",
    "                \n",
    "                if proto_parts_presences_copy[proto][part] is None:\n",
    "                    proto_parts_presences_copy[proto][part] = proto_parts_presences[proto][leaf_descendant_name][part]\n",
    "                else:\n",
    "                    # try:\n",
    "                    if np.array(proto_parts_presences_copy[proto][part]).sum() > np.array(proto_parts_presences[proto][leaf_descendant_name][part]).sum():\n",
    "                        proto_parts_presences_copy[proto][part] = proto_parts_presences[proto][leaf_descendant_name][part]\n",
    "                    # except:\n",
    "                    #     pdb.set_trace()\n",
    "            if proto_parts_presences_copy[proto][part] is None:\n",
    "                # meaning the part did not occur in any of the descendant\n",
    "                del proto_parts_presences_copy[proto][part]\n",
    "    proto_parts_presences = proto_parts_presences_copy\n",
    "\n",
    "    # if node.name == '004+086':\n",
    "    #     pdb.set_trace()\n",
    "    \n",
    "    for proto in proto_parts_presences.keys():\n",
    "        \n",
    "        max_presence_purity[proto]= 0.\n",
    "        part_most_present[proto] = ('0',0)\n",
    "        most_often_present_purity[proto] = 0.\n",
    "\n",
    "        # CUB parts 7,8 and 9 are  duplicate (right and left). additional check that these should not occur (already fixed earlier in this function)\n",
    "        if ('7' in proto_parts_presences[proto].keys() or '8' in proto_parts_presences[proto].keys() or '9' in proto_parts_presences[proto].keys()):\n",
    "            print(\"unused part in keys! \", proto, proto_parts_presences[proto].keys(), proto_parts_presences[proto], flush=True)\n",
    "            raise ValueError()\n",
    "        \n",
    "        for part in proto_parts_presences[proto].keys():\n",
    "            presence_purity = np.mean(proto_parts_presences[proto][part])\n",
    "            sum_occurs = np.array(proto_parts_presences[proto][part]).sum()\n",
    "        \n",
    "            # evaluate whether the purity of this prototype for this part is higher than for other parts\n",
    "            if presence_purity > max_presence_purity[proto]:\n",
    "                max_presence_purity[proto]=presence_purity\n",
    "                max_presence_purity_part[proto]=parts_id_to_name[part]\n",
    "                max_presence_purity_sum[proto] = sum_occurs\n",
    "            elif presence_purity == max_presence_purity[proto]:\n",
    "                if presence_purity == 0.:\n",
    "                    max_presence_purity[proto]=presence_purity\n",
    "                    max_presence_purity_part[proto]=parts_id_to_name[part]\n",
    "                    max_presence_purity_sum[proto] = sum_occurs\n",
    "                elif sum_occurs > max_presence_purity_sum[proto]:\n",
    "                    max_presence_purity[proto]=presence_purity\n",
    "                    max_presence_purity_part[proto]=parts_id_to_name[part]\n",
    "                    max_presence_purity_sum[proto] = sum_occurs\n",
    "        \n",
    "            if sum_occurs > part_most_present[proto][1]:\n",
    "                part_most_present[proto] = (part, sum_occurs)\n",
    "                most_often_present_purity[proto]=presence_purity         \n",
    "        if max_presence_purity[proto] > 0.5:\n",
    "            prototypes_part_related += 1 \n",
    "        \n",
    "            \n",
    "    print(f\"Part-related (purity>0.5): {prototypes_part_related}\", flush=True)\n",
    "    purity_of_child = {}\n",
    "    for child_name in child_name_to_protos:\n",
    "        purity_of_child[child_name] = np.mean([max_presence_purity[p] for p in child_name_to_protos[child_name]])\n",
    "        std = np.std([max_presence_purity[p] for p in child_name_to_protos[child_name]])\n",
    "        num_descendants = node.get_node(child_name).num_leaf_descendents()\n",
    "        print('Node:', node.name, '| Child:', child_name, '| Purity:', purity_of_child[child_name], '| Num desc:', num_descendants, '| Num protos:', len(child_name_to_protos[child_name]))\n",
    "        for p in child_name_to_protos[child_name]:\n",
    "            print('\\tProto:', p, max_presence_purity[p])\n",
    "\n",
    "#     print(f\"Purity: {}\", np.mean(list(max_presence_purity.values())), \"std: \", np.std(list(max_presence_purity.values())), flush=True)\n",
    "#     print(\"Prototypes with highest-purity part (no contraints): \", max_presence_purity_part, flush=True)\n",
    "#     print(\"Prototype with part that has most often overlap with prototype: \", part_most_present, flush=True)\n",
    "    \n",
    "    if log:\n",
    "        log.log_values('log_epoch_overview', \"p_cub_\"+str(epoch), \"mean purity (averaged over all prototypes, corresponding to purest part)\", \"std purity\", \"mean purity (averaged over all prototypes, corresponding to part with most often overlap)\", \"std purity\", \"# prototypes in csv\", \"#part-related prototypes (purity > 0.5)\",\"\",\"\")\n",
    "\n",
    "        log.log_values('log_epoch_overview', \"p_cub_\"+str(epoch), np.mean(list(max_presence_purity.values())), np.std(list(max_presence_purity.values())), np.mean(list(most_often_present_purity.values())), np.std(list(most_often_present_purity.values())), len(list(proto_parts_presences.keys())), prototypes_part_related, \"\", \"\")\n",
    "\n",
    "    overall_node_purity = np.mean([max_presence_purity[p] for child_name in child_name_to_protos for p in child_name_to_protos[child_name]])\n",
    "    return overall_node_purity, max_presence_purity"
   ]
  },
  {
   "cell_type": "markdown",
   "id": "e73ed5a9-8381-4ab7-b990-df38778cbb13",
   "metadata": {},
   "source": [
    "# Hyperparameters"
   ]
  },
  {
   "cell_type": "code",
   "execution_count": 7,
   "id": "39cb500e-3df6-4be0-ab4d-c10dda5bd067",
   "metadata": {},
   "outputs": [],
   "source": [
    "TOPK = 10\n",
    "maindataloader = trainloader_normal # projectloader, trainloader_normal, trainloader_normal_augment, projectloader, testloader, test_projectloader"
   ]
  },
  {
   "cell_type": "markdown",
   "id": "7ad862fe-d979-43a3-b5ec-035e17a8cd9d",
   "metadata": {},
   "source": [
    "# For PIPNet"
   ]
  },
  {
   "cell_type": "code",
   "execution_count": 8,
   "id": "4d685874-b788-4686-ad9a-17329ea92f71",
   "metadata": {},
   "outputs": [
    {
     "name": "stdout",
     "output_type": "stream",
     "text": [
      "/projects/ml4science/harishbabu/data/CUB_190_pt_224/dataset_segmented_imgnet_pt/train_segmented_imagenet_background_crop/cub_001_Black_footed_Albatross/Black_Footed_Albatross_0007_796138.jpg\n"
     ]
    }
   ],
   "source": [
    "try:\n",
    "    projectset_img0_path = maindataloader.dataset.samples[0][0]\n",
    "except:\n",
    "    projectset_img0_path = maindataloader.dataset.dataset.samples[0][0]\n",
    "\n",
    "# project_path = os.path.split(os.path.split(projectset_img0_path)[0])[0].split(\"dataset\")[0]\n",
    "# # parts_loc_path = os.path.join(project_path, \"parts/part_locs_normalized.txt\")\n",
    "# # if not os.path.exists(parts_loc_path):\n",
    "# #     raise Exception(f'Not found {parts_loc_path}')\n",
    "# parts_name_path = os.path.join(project_path, \"parts/parts.txt\")\n",
    "# imgs_id_path = os.path.join(project_path, \"images.txt\")\n",
    "# print(projectset_img0_path)\n",
    "# print(project_path)\n",
    "\n",
    "parts_name_path = '/projects/ml4science/harishbabu/data/CUB_200_2011/parts/parts.txt'\n",
    "imgs_id_path = '/projects/ml4science/harishbabu/data/CUB_200_2011/images_cub.txt'\n",
    "print(projectset_img0_path)\n",
    "# print(project_path)"
   ]
  },
  {
   "cell_type": "code",
   "execution_count": 9,
   "id": "85ab565e-c0c5-440a-a64e-3eece22651cb",
   "metadata": {},
   "outputs": [
    {
     "name": "stdout",
     "output_type": "stream",
     "text": [
      "{'cropped': True, 'padded': True, 'segmented': True, 'imagenet_background': True, 'sample_class_name': 'cub_001_Black_footed_Albatross'}\n"
     ]
    }
   ],
   "source": [
    "image_meta_file_base_path = os.path.dirname(os.path.dirname(projectset_img0_path))\n",
    "image_meta_filepath = os.path.join(image_meta_file_base_path, 'image_meta_file.json')\n",
    "\n",
    "import json\n",
    "\n",
    "with open(image_meta_filepath, 'r') as file:\n",
    "    image_meta = json.load(file)\n",
    "    \n",
    "print(image_meta)"
   ]
  },
  {
   "cell_type": "code",
   "execution_count": 10,
   "id": "d098d6fa-e4cb-47e4-b591-1472c0557daf",
   "metadata": {},
   "outputs": [
    {
     "name": "stdout",
     "output_type": "stream",
     "text": [
      "*-*-*-*-*-*-*-*-*-*-*-*-*-*-*-*-*-*-*-*-*-*-*-*-*-*-*-*-*-*-*-*-*-*-*-*-*-*-*-*-\n",
      "\t\t\tIMPORTANT: Using CROPPED and PADDED part locations\n",
      "*-*-*-*-*-*-*-*-*-*-*-*-*-*-*-*-*-*-*-*-*-*-*-*-*-*-*-*-*-*-*-*-*-*-*-*-*-*-*-*-\n"
     ]
    }
   ],
   "source": [
    "dataset_path = '/projects/ml4science/harishbabu/data/CUB_200_2011/'  # part locs are loaded from here\n",
    "\n",
    "if image_meta['cropped'] and image_meta['padded']:\n",
    "    part_locs_file = os.path.join(dataset_path, 'parts', 'part_locs_normalized_after_cropped_after_padded.txt') \n",
    "    print('*-'*40)\n",
    "    print('\\t\\t\\tIMPORTANT: Using CROPPED and PADDED part locations')\n",
    "    print('*-'*40)\n",
    "elif not image_meta['cropped'] and image_meta['padded']:\n",
    "    part_locs_file = os.path.join(dataset_path, 'parts', 'part_locs_normalized_after_padded.txt') \n",
    "    print('*-'*40)\n",
    "    print('\\t\\t\\tIMPORTANT: Using NOT CROPPED and PADDED part locations')\n",
    "    print('*-'*40)\n",
    "elif image_meta['cropped'] and not image_meta['padded']:\n",
    "    part_locs_file = os.path.join(dataset_path, 'parts', 'part_locs_normalized_after_cropped.txt') \n",
    "    print('*-'*40)\n",
    "    print('\\t\\t\\tIMPORTANT: Using CROPPED and NOT PADDED part locations')\n",
    "    print('*-'*40)\n",
    "elif not image_meta['cropped'] and not image_meta['padded']:\n",
    "    part_locs_file = os.path.join(dataset_path, 'parts', 'part_locs_normalized.txt') \n",
    "    print('*-'*40)\n",
    "    print('\\t\\t\\tIMPORTANT: Using NOT CROPPED and NOT PADDED part locations')\n",
    "    print('*-'*40)"
   ]
  },
  {
   "cell_type": "code",
   "execution_count": 11,
   "id": "2cf78fa1-0739-4899-ac15-51cac061fac9",
   "metadata": {},
   "outputs": [],
   "source": [
    "import ntpath\n",
    "NUM_PARTS = 15\n",
    "images_file = os.path.join(dataset_path, 'images_cub.txt')\n",
    "\n",
    "# Read the image index to filename mapping\n",
    "img_filename_to_index = {} # image filename to image index\n",
    "with open(images_file, 'r') as file:\n",
    "    for line in file:\n",
    "        index, filename = line.strip().split()\n",
    "        img_filename = ntpath.basename(filename)\n",
    "        img_filename_to_index[img_filename] = int(index)\n",
    "\n",
    "# Load part locations\n",
    "image_part_locs = defaultdict(list)\n",
    "with open(part_locs_file, 'r') as file:\n",
    "    for line in file:\n",
    "        parts = line.strip().split()\n",
    "        image_index, part_id, x, y, visible = int(parts[0]), int(parts[1]), float(parts[2]), float(parts[3]), bool(float(parts[4]))\n",
    "        image_part_locs[image_index].append((part_id, x, y, visible))"
   ]
  },
  {
   "cell_type": "code",
   "execution_count": 12,
   "id": "a9de0b3e-0902-4c5c-83d1-627b182edbe7",
   "metadata": {},
   "outputs": [
    {
     "name": "stdout",
     "output_type": "stream",
     "text": [
      "1\n"
     ]
    }
   ],
   "source": [
    "def unshuffle_dataloader(dataloader, batch_size=1):\n",
    "    if type(dataloader.dataset) == ImageFolder:\n",
    "        dataset = dataloader.dataset\n",
    "    else:\n",
    "        dataset = dataloader.dataset.dataset#.dataset\n",
    "    new_dataloader = DataLoader(\n",
    "        dataset=dataset,\n",
    "        batch_size=batch_size,\n",
    "        shuffle=False,\n",
    "        num_workers=dataloader.num_workers,\n",
    "        pin_memory=dataloader.pin_memory,\n",
    "        drop_last=dataloader.drop_last,\n",
    "        timeout=dataloader.timeout,\n",
    "        worker_init_fn=dataloader.worker_init_fn,\n",
    "        multiprocessing_context=dataloader.multiprocessing_context,\n",
    "        generator=dataloader.generator,\n",
    "        prefetch_factor=dataloader.prefetch_factor,\n",
    "        persistent_workers=dataloader.persistent_workers\n",
    "    )\n",
    "    return new_dataloader\n",
    "\n",
    "maindataloader = unshuffle_dataloader(maindataloader, batch_size=1)\n",
    "print(maindataloader.batch_size)"
   ]
  },
  {
   "cell_type": "markdown",
   "id": "39585984-4500-4303-bfcd-0fc75bf7f93d",
   "metadata": {},
   "source": [
    "# Before masking prototypes"
   ]
  },
  {
   "cell_type": "code",
   "execution_count": 13,
   "id": "32827f87-d87a-4aff-aaf4-d398974ef4e3",
   "metadata": {
    "scrolled": true
   },
   "outputs": [
    {
     "name": "stderr",
     "output_type": "stream",
     "text": [
      "Collecting top-k Prototypes CUB parts: 100% 5695/5695 [04:19<00:00, 21.97it/s]\n",
      "Collecting top-k patch coordinates CUB:   0% 0/10 [00:00<?, ?it/s]"
     ]
    },
    {
     "name": "stdout",
     "output_type": "stream",
     "text": [
      "Writing CSV file with top k image patches..\n"
     ]
    },
    {
     "name": "stderr",
     "output_type": "stream",
     "text": [
      "Collecting top-k patch coordinates CUB: 100% 10/10 [00:03<00:00,  3.29it/s]"
     ]
    },
    {
     "name": "stdout",
     "output_type": "stream",
     "text": [
      "Warning: image patches included in topk, but similarity < 0.1! This might unfairly reduce the purity metric because prototype has less than k similar image patches. You could consider reducing k for prototypes {19}\n"
     ]
    },
    {
     "name": "stderr",
     "output_type": "stream",
     "text": [
      "\n",
      "Collecting top-k patch coordinates CUB:   0% 0/6 [00:00<?, ?it/s]"
     ]
    },
    {
     "name": "stdout",
     "output_type": "stream",
     "text": [
      "Writing CSV file with top k image patches..\n"
     ]
    },
    {
     "name": "stderr",
     "output_type": "stream",
     "text": [
      "Collecting top-k patch coordinates CUB: 100% 6/6 [00:00<00:00, 10.07it/s]"
     ]
    },
    {
     "name": "stdout",
     "output_type": "stream",
     "text": [
      "Warning: image patches included in topk, but similarity < 0.1! This might unfairly reduce the purity metric because prototype has less than k similar image patches. You could consider reducing k for prototypes {19}\n"
     ]
    },
    {
     "name": "stderr",
     "output_type": "stream",
     "text": [
      "\n",
      "Collecting top-k patch coordinates CUB:   0% 0/7 [00:00<?, ?it/s]"
     ]
    },
    {
     "name": "stdout",
     "output_type": "stream",
     "text": [
      "Writing CSV file with top k image patches..\n"
     ]
    },
    {
     "name": "stderr",
     "output_type": "stream",
     "text": [
      "Collecting top-k patch coordinates CUB: 100% 7/7 [00:00<00:00, 179.27it/s]"
     ]
    },
    {
     "name": "stdout",
     "output_type": "stream",
     "text": [
      "Warning: image patches included in topk, but similarity < 0.1! This might unfairly reduce the purity metric because prototype has less than k similar image patches. You could consider reducing k for prototypes set()\n"
     ]
    },
    {
     "name": "stderr",
     "output_type": "stream",
     "text": [
      "\n",
      "Collecting top-k patch coordinates CUB:   0% 0/7 [00:00<?, ?it/s]"
     ]
    },
    {
     "name": "stdout",
     "output_type": "stream",
     "text": [
      "Writing CSV file with top k image patches..\n"
     ]
    },
    {
     "name": "stderr",
     "output_type": "stream",
     "text": [
      "Collecting top-k patch coordinates CUB: 100% 7/7 [00:01<00:00,  5.20it/s]"
     ]
    },
    {
     "name": "stdout",
     "output_type": "stream",
     "text": [
      "Warning: image patches included in topk, but similarity < 0.1! This might unfairly reduce the purity metric because prototype has less than k similar image patches. You could consider reducing k for prototypes {19}\n"
     ]
    },
    {
     "name": "stderr",
     "output_type": "stream",
     "text": [
      "\n",
      "Collecting top-k patch coordinates CUB:   0% 0/10 [00:00<?, ?it/s]"
     ]
    },
    {
     "name": "stdout",
     "output_type": "stream",
     "text": [
      "Writing CSV file with top k image patches..\n"
     ]
    },
    {
     "name": "stderr",
     "output_type": "stream",
     "text": [
      "Collecting top-k patch coordinates CUB: 100% 10/10 [00:00<00:00, 38.13it/s]"
     ]
    },
    {
     "name": "stdout",
     "output_type": "stream",
     "text": [
      "Warning: image patches included in topk, but similarity < 0.1! This might unfairly reduce the purity metric because prototype has less than k similar image patches. You could consider reducing k for prototypes {19}\n"
     ]
    },
    {
     "name": "stderr",
     "output_type": "stream",
     "text": [
      "\n",
      "Collecting top-k patch coordinates CUB:   0% 0/7 [00:00<?, ?it/s]"
     ]
    },
    {
     "name": "stdout",
     "output_type": "stream",
     "text": [
      "Writing CSV file with top k image patches..\n"
     ]
    },
    {
     "name": "stderr",
     "output_type": "stream",
     "text": [
      "Collecting top-k patch coordinates CUB: 100% 7/7 [00:00<00:00, 150.24it/s]"
     ]
    },
    {
     "name": "stdout",
     "output_type": "stream",
     "text": [
      "Warning: image patches included in topk, but similarity < 0.1! This might unfairly reduce the purity metric because prototype has less than k similar image patches. You could consider reducing k for prototypes set()\n"
     ]
    },
    {
     "name": "stderr",
     "output_type": "stream",
     "text": [
      "\n",
      "Collecting top-k patch coordinates CUB:   0% 0/5 [00:00<?, ?it/s]"
     ]
    },
    {
     "name": "stdout",
     "output_type": "stream",
     "text": [
      "Writing CSV file with top k image patches..\n"
     ]
    },
    {
     "name": "stderr",
     "output_type": "stream",
     "text": [
      "Collecting top-k patch coordinates CUB: 100% 5/5 [00:00<00:00, 294.38it/s]"
     ]
    },
    {
     "name": "stdout",
     "output_type": "stream",
     "text": [
      "Warning: image patches included in topk, but similarity < 0.1! This might unfairly reduce the purity metric because prototype has less than k similar image patches. You could consider reducing k for prototypes set()\n"
     ]
    },
    {
     "name": "stderr",
     "output_type": "stream",
     "text": [
      "\n",
      "Collecting top-k patch coordinates CUB:   0% 0/4 [00:00<?, ?it/s]"
     ]
    },
    {
     "name": "stdout",
     "output_type": "stream",
     "text": [
      "Writing CSV file with top k image patches..\n"
     ]
    },
    {
     "name": "stderr",
     "output_type": "stream",
     "text": [
      "Collecting top-k patch coordinates CUB: 100% 4/4 [00:00<00:00, 316.50it/s]"
     ]
    },
    {
     "name": "stdout",
     "output_type": "stream",
     "text": [
      "Warning: image patches included in topk, but similarity < 0.1! This might unfairly reduce the purity metric because prototype has less than k similar image patches. You could consider reducing k for prototypes set()\n"
     ]
    },
    {
     "name": "stderr",
     "output_type": "stream",
     "text": [
      "\n",
      "Collecting top-k patch coordinates CUB:   0% 0/8 [00:00<?, ?it/s]"
     ]
    },
    {
     "name": "stdout",
     "output_type": "stream",
     "text": [
      "Writing CSV file with top k image patches..\n"
     ]
    },
    {
     "name": "stderr",
     "output_type": "stream",
     "text": [
      "Collecting top-k patch coordinates CUB: 100% 8/8 [00:01<00:00,  5.48it/s]"
     ]
    },
    {
     "name": "stdout",
     "output_type": "stream",
     "text": [
      "Warning: image patches included in topk, but similarity < 0.1! This might unfairly reduce the purity metric because prototype has less than k similar image patches. You could consider reducing k for prototypes {19}\n"
     ]
    },
    {
     "name": "stderr",
     "output_type": "stream",
     "text": [
      "\n",
      "Collecting top-k patch coordinates CUB:   0% 0/12 [00:00<?, ?it/s]"
     ]
    },
    {
     "name": "stdout",
     "output_type": "stream",
     "text": [
      "Writing CSV file with top k image patches..\n"
     ]
    },
    {
     "name": "stderr",
     "output_type": "stream",
     "text": [
      "Collecting top-k patch coordinates CUB: 100% 12/12 [00:00<00:00, 28.83it/s]"
     ]
    },
    {
     "name": "stdout",
     "output_type": "stream",
     "text": [
      "Warning: image patches included in topk, but similarity < 0.1! This might unfairly reduce the purity metric because prototype has less than k similar image patches. You could consider reducing k for prototypes {19}\n"
     ]
    },
    {
     "name": "stderr",
     "output_type": "stream",
     "text": [
      "\n",
      "Collecting top-k patch coordinates CUB:   0% 0/9 [00:00<?, ?it/s]"
     ]
    },
    {
     "name": "stdout",
     "output_type": "stream",
     "text": [
      "Writing CSV file with top k image patches..\n"
     ]
    },
    {
     "name": "stderr",
     "output_type": "stream",
     "text": [
      "Collecting top-k patch coordinates CUB: 100% 9/9 [00:00<00:00, 50.87it/s]"
     ]
    },
    {
     "name": "stdout",
     "output_type": "stream",
     "text": [
      "Warning: image patches included in topk, but similarity < 0.1! This might unfairly reduce the purity metric because prototype has less than k similar image patches. You could consider reducing k for prototypes set()\n"
     ]
    },
    {
     "name": "stderr",
     "output_type": "stream",
     "text": [
      "\n",
      "Collecting top-k patch coordinates CUB:   0% 0/7 [00:00<?, ?it/s]"
     ]
    },
    {
     "name": "stdout",
     "output_type": "stream",
     "text": [
      "Writing CSV file with top k image patches..\n"
     ]
    },
    {
     "name": "stderr",
     "output_type": "stream",
     "text": [
      "Collecting top-k patch coordinates CUB: 100% 7/7 [00:00<00:00, 170.31it/s]"
     ]
    },
    {
     "name": "stdout",
     "output_type": "stream",
     "text": [
      "Warning: image patches included in topk, but similarity < 0.1! This might unfairly reduce the purity metric because prototype has less than k similar image patches. You could consider reducing k for prototypes set()\n"
     ]
    },
    {
     "name": "stderr",
     "output_type": "stream",
     "text": [
      "\n",
      "Collecting top-k patch coordinates CUB:   0% 0/6 [00:00<?, ?it/s]"
     ]
    },
    {
     "name": "stdout",
     "output_type": "stream",
     "text": [
      "Writing CSV file with top k image patches..\n"
     ]
    },
    {
     "name": "stderr",
     "output_type": "stream",
     "text": [
      "Collecting top-k patch coordinates CUB: 100% 6/6 [00:00<00:00, 213.81it/s]"
     ]
    },
    {
     "name": "stdout",
     "output_type": "stream",
     "text": [
      "Warning: image patches included in topk, but similarity < 0.1! This might unfairly reduce the purity metric because prototype has less than k similar image patches. You could consider reducing k for prototypes set()\n"
     ]
    },
    {
     "name": "stderr",
     "output_type": "stream",
     "text": [
      "\n",
      "Collecting top-k patch coordinates CUB:   0% 0/8 [00:00<?, ?it/s]"
     ]
    },
    {
     "name": "stdout",
     "output_type": "stream",
     "text": [
      "Writing CSV file with top k image patches..\n"
     ]
    },
    {
     "name": "stderr",
     "output_type": "stream",
     "text": [
      "Collecting top-k patch coordinates CUB: 100% 8/8 [00:01<00:00,  4.96it/s]"
     ]
    },
    {
     "name": "stdout",
     "output_type": "stream",
     "text": [
      "Warning: image patches included in topk, but similarity < 0.1! This might unfairly reduce the purity metric because prototype has less than k similar image patches. You could consider reducing k for prototypes {19}\n"
     ]
    },
    {
     "name": "stderr",
     "output_type": "stream",
     "text": [
      "\n",
      "Collecting top-k patch coordinates CUB:   0% 0/10 [00:00<?, ?it/s]"
     ]
    },
    {
     "name": "stdout",
     "output_type": "stream",
     "text": [
      "Writing CSV file with top k image patches..\n"
     ]
    },
    {
     "name": "stderr",
     "output_type": "stream",
     "text": [
      "Collecting top-k patch coordinates CUB: 100% 10/10 [00:00<00:00, 62.66it/s]"
     ]
    },
    {
     "name": "stdout",
     "output_type": "stream",
     "text": [
      "Warning: image patches included in topk, but similarity < 0.1! This might unfairly reduce the purity metric because prototype has less than k similar image patches. You could consider reducing k for prototypes set()\n"
     ]
    },
    {
     "name": "stderr",
     "output_type": "stream",
     "text": [
      "\n",
      "Collecting top-k patch coordinates CUB:   0% 0/12 [00:00<?, ?it/s]"
     ]
    },
    {
     "name": "stdout",
     "output_type": "stream",
     "text": [
      "Writing CSV file with top k image patches..\n"
     ]
    },
    {
     "name": "stderr",
     "output_type": "stream",
     "text": [
      "Collecting top-k patch coordinates CUB: 100% 12/12 [00:00<00:00, 47.23it/s]"
     ]
    },
    {
     "name": "stdout",
     "output_type": "stream",
     "text": [
      "Warning: image patches included in topk, but similarity < 0.1! This might unfairly reduce the purity metric because prototype has less than k similar image patches. You could consider reducing k for prototypes set()\n"
     ]
    },
    {
     "name": "stderr",
     "output_type": "stream",
     "text": [
      "\n",
      "Collecting top-k patch coordinates CUB:   0% 0/9 [00:00<?, ?it/s]"
     ]
    },
    {
     "name": "stdout",
     "output_type": "stream",
     "text": [
      "Writing CSV file with top k image patches..\n"
     ]
    },
    {
     "name": "stderr",
     "output_type": "stream",
     "text": [
      "Collecting top-k patch coordinates CUB: 100% 9/9 [00:00<00:00, 89.68it/s]"
     ]
    },
    {
     "name": "stdout",
     "output_type": "stream",
     "text": [
      "Warning: image patches included in topk, but similarity < 0.1! This might unfairly reduce the purity metric because prototype has less than k similar image patches. You could consider reducing k for prototypes set()\n"
     ]
    },
    {
     "name": "stderr",
     "output_type": "stream",
     "text": [
      "\n",
      "Collecting top-k patch coordinates CUB:   0% 0/11 [00:00<?, ?it/s]"
     ]
    },
    {
     "name": "stdout",
     "output_type": "stream",
     "text": [
      "Writing CSV file with top k image patches..\n"
     ]
    },
    {
     "name": "stderr",
     "output_type": "stream",
     "text": [
      "Collecting top-k patch coordinates CUB: 100% 11/11 [00:00<00:00, 62.50it/s]"
     ]
    },
    {
     "name": "stdout",
     "output_type": "stream",
     "text": [
      "Warning: image patches included in topk, but similarity < 0.1! This might unfairly reduce the purity metric because prototype has less than k similar image patches. You could consider reducing k for prototypes set()\n"
     ]
    },
    {
     "name": "stderr",
     "output_type": "stream",
     "text": [
      "\n",
      "Collecting top-k patch coordinates CUB:   0% 0/7 [00:00<?, ?it/s]"
     ]
    },
    {
     "name": "stdout",
     "output_type": "stream",
     "text": [
      "Writing CSV file with top k image patches..\n"
     ]
    },
    {
     "name": "stderr",
     "output_type": "stream",
     "text": [
      "Collecting top-k patch coordinates CUB: 100% 7/7 [00:00<00:00, 150.46it/s]"
     ]
    },
    {
     "name": "stdout",
     "output_type": "stream",
     "text": [
      "Warning: image patches included in topk, but similarity < 0.1! This might unfairly reduce the purity metric because prototype has less than k similar image patches. You could consider reducing k for prototypes set()\n"
     ]
    },
    {
     "name": "stderr",
     "output_type": "stream",
     "text": [
      "\n",
      "Collecting top-k patch coordinates CUB:   0% 0/5 [00:00<?, ?it/s]"
     ]
    },
    {
     "name": "stdout",
     "output_type": "stream",
     "text": [
      "Writing CSV file with top k image patches..\n"
     ]
    },
    {
     "name": "stderr",
     "output_type": "stream",
     "text": [
      "Collecting top-k patch coordinates CUB: 100% 5/5 [00:00<00:00, 218.34it/s]"
     ]
    },
    {
     "name": "stdout",
     "output_type": "stream",
     "text": [
      "Warning: image patches included in topk, but similarity < 0.1! This might unfairly reduce the purity metric because prototype has less than k similar image patches. You could consider reducing k for prototypes set()\n"
     ]
    },
    {
     "name": "stderr",
     "output_type": "stream",
     "text": [
      "\n",
      "Collecting top-k patch coordinates CUB:   0% 0/5 [00:00<?, ?it/s]"
     ]
    },
    {
     "name": "stdout",
     "output_type": "stream",
     "text": [
      "Writing CSV file with top k image patches..\n"
     ]
    },
    {
     "name": "stderr",
     "output_type": "stream",
     "text": [
      "Collecting top-k patch coordinates CUB: 100% 5/5 [00:00<00:00, 327.74it/s]"
     ]
    },
    {
     "name": "stdout",
     "output_type": "stream",
     "text": [
      "Warning: image patches included in topk, but similarity < 0.1! This might unfairly reduce the purity metric because prototype has less than k similar image patches. You could consider reducing k for prototypes set()\n"
     ]
    },
    {
     "name": "stderr",
     "output_type": "stream",
     "text": [
      "\n",
      "Collecting top-k patch coordinates CUB:   0% 0/9 [00:00<?, ?it/s]"
     ]
    },
    {
     "name": "stdout",
     "output_type": "stream",
     "text": [
      "Writing CSV file with top k image patches..\n"
     ]
    },
    {
     "name": "stderr",
     "output_type": "stream",
     "text": [
      "Collecting top-k patch coordinates CUB: 100% 9/9 [00:01<00:00,  5.88it/s]"
     ]
    },
    {
     "name": "stdout",
     "output_type": "stream",
     "text": [
      "Warning: image patches included in topk, but similarity < 0.1! This might unfairly reduce the purity metric because prototype has less than k similar image patches. You could consider reducing k for prototypes {19}\n"
     ]
    },
    {
     "name": "stderr",
     "output_type": "stream",
     "text": [
      "\n",
      "Collecting top-k patch coordinates CUB:   0% 0/8 [00:00<?, ?it/s]"
     ]
    },
    {
     "name": "stdout",
     "output_type": "stream",
     "text": [
      "Writing CSV file with top k image patches..\n"
     ]
    },
    {
     "name": "stderr",
     "output_type": "stream",
     "text": [
      "Collecting top-k patch coordinates CUB: 100% 8/8 [00:00<00:00, 73.71it/s]"
     ]
    },
    {
     "name": "stdout",
     "output_type": "stream",
     "text": [
      "Warning: image patches included in topk, but similarity < 0.1! This might unfairly reduce the purity metric because prototype has less than k similar image patches. You could consider reducing k for prototypes set()\n"
     ]
    },
    {
     "name": "stderr",
     "output_type": "stream",
     "text": [
      "\n",
      "Collecting top-k patch coordinates CUB:   0% 0/9 [00:00<?, ?it/s]"
     ]
    },
    {
     "name": "stdout",
     "output_type": "stream",
     "text": [
      "Writing CSV file with top k image patches..\n"
     ]
    },
    {
     "name": "stderr",
     "output_type": "stream",
     "text": [
      "Collecting top-k patch coordinates CUB: 100% 9/9 [00:00<00:00, 100.62it/s]"
     ]
    },
    {
     "name": "stdout",
     "output_type": "stream",
     "text": [
      "Warning: image patches included in topk, but similarity < 0.1! This might unfairly reduce the purity metric because prototype has less than k similar image patches. You could consider reducing k for prototypes set()\n"
     ]
    },
    {
     "name": "stderr",
     "output_type": "stream",
     "text": [
      "\n",
      "Collecting top-k patch coordinates CUB:   0% 0/7 [00:00<?, ?it/s]"
     ]
    },
    {
     "name": "stdout",
     "output_type": "stream",
     "text": [
      "Writing CSV file with top k image patches..\n"
     ]
    },
    {
     "name": "stderr",
     "output_type": "stream",
     "text": [
      "Collecting top-k patch coordinates CUB: 100% 7/7 [00:00<00:00, 116.07it/s]"
     ]
    },
    {
     "name": "stdout",
     "output_type": "stream",
     "text": [
      "Warning: image patches included in topk, but similarity < 0.1! This might unfairly reduce the purity metric because prototype has less than k similar image patches. You could consider reducing k for prototypes set()\n"
     ]
    },
    {
     "name": "stderr",
     "output_type": "stream",
     "text": [
      "\n",
      "Collecting top-k patch coordinates CUB:   0% 0/7 [00:00<?, ?it/s]"
     ]
    },
    {
     "name": "stdout",
     "output_type": "stream",
     "text": [
      "Writing CSV file with top k image patches..\n"
     ]
    },
    {
     "name": "stderr",
     "output_type": "stream",
     "text": [
      "Collecting top-k patch coordinates CUB: 100% 7/7 [00:00<00:00, 66.87it/s]"
     ]
    },
    {
     "name": "stdout",
     "output_type": "stream",
     "text": [
      "Warning: image patches included in topk, but similarity < 0.1! This might unfairly reduce the purity metric because prototype has less than k similar image patches. You could consider reducing k for prototypes set()\n"
     ]
    },
    {
     "name": "stderr",
     "output_type": "stream",
     "text": [
      "\n",
      "Collecting top-k patch coordinates CUB:   0% 0/10 [00:00<?, ?it/s]"
     ]
    },
    {
     "name": "stdout",
     "output_type": "stream",
     "text": [
      "Writing CSV file with top k image patches..\n"
     ]
    },
    {
     "name": "stderr",
     "output_type": "stream",
     "text": [
      "Collecting top-k patch coordinates CUB: 100% 10/10 [00:00<00:00, 92.87it/s]"
     ]
    },
    {
     "name": "stdout",
     "output_type": "stream",
     "text": [
      "Warning: image patches included in topk, but similarity < 0.1! This might unfairly reduce the purity metric because prototype has less than k similar image patches. You could consider reducing k for prototypes set()\n"
     ]
    },
    {
     "name": "stderr",
     "output_type": "stream",
     "text": [
      "\n",
      "Collecting top-k patch coordinates CUB:   0% 0/10 [00:00<?, ?it/s]"
     ]
    },
    {
     "name": "stdout",
     "output_type": "stream",
     "text": [
      "Writing CSV file with top k image patches..\n"
     ]
    },
    {
     "name": "stderr",
     "output_type": "stream",
     "text": [
      "Collecting top-k patch coordinates CUB: 100% 10/10 [00:00<00:00, 108.42it/s]"
     ]
    },
    {
     "name": "stdout",
     "output_type": "stream",
     "text": [
      "Warning: image patches included in topk, but similarity < 0.1! This might unfairly reduce the purity metric because prototype has less than k similar image patches. You could consider reducing k for prototypes set()\n"
     ]
    },
    {
     "name": "stderr",
     "output_type": "stream",
     "text": [
      "\n",
      "Collecting top-k patch coordinates CUB:   0% 0/5 [00:00<?, ?it/s]"
     ]
    },
    {
     "name": "stdout",
     "output_type": "stream",
     "text": [
      "Writing CSV file with top k image patches..\n"
     ]
    },
    {
     "name": "stderr",
     "output_type": "stream",
     "text": [
      "Collecting top-k patch coordinates CUB: 100% 5/5 [00:00<00:00, 321.90it/s]"
     ]
    },
    {
     "name": "stdout",
     "output_type": "stream",
     "text": [
      "Warning: image patches included in topk, but similarity < 0.1! This might unfairly reduce the purity metric because prototype has less than k similar image patches. You could consider reducing k for prototypes set()\n"
     ]
    },
    {
     "name": "stderr",
     "output_type": "stream",
     "text": [
      "\n",
      "Collecting top-k patch coordinates CUB:   0% 0/8 [00:00<?, ?it/s]"
     ]
    },
    {
     "name": "stdout",
     "output_type": "stream",
     "text": [
      "Writing CSV file with top k image patches..\n"
     ]
    },
    {
     "name": "stderr",
     "output_type": "stream",
     "text": [
      "Collecting top-k patch coordinates CUB: 100% 8/8 [00:00<00:00, 80.10it/s]"
     ]
    },
    {
     "name": "stdout",
     "output_type": "stream",
     "text": [
      "Warning: image patches included in topk, but similarity < 0.1! This might unfairly reduce the purity metric because prototype has less than k similar image patches. You could consider reducing k for prototypes set()\n"
     ]
    },
    {
     "name": "stderr",
     "output_type": "stream",
     "text": [
      "\n",
      "Collecting top-k patch coordinates CUB:   0% 0/4 [00:00<?, ?it/s]"
     ]
    },
    {
     "name": "stdout",
     "output_type": "stream",
     "text": [
      "Writing CSV file with top k image patches..\n"
     ]
    },
    {
     "name": "stderr",
     "output_type": "stream",
     "text": [
      "Collecting top-k patch coordinates CUB: 100% 4/4 [00:00<00:00, 223.46it/s]"
     ]
    },
    {
     "name": "stdout",
     "output_type": "stream",
     "text": [
      "Warning: image patches included in topk, but similarity < 0.1! This might unfairly reduce the purity metric because prototype has less than k similar image patches. You could consider reducing k for prototypes set()\n"
     ]
    },
    {
     "name": "stderr",
     "output_type": "stream",
     "text": [
      "\n",
      "Collecting top-k patch coordinates CUB:   0% 0/6 [00:00<?, ?it/s]"
     ]
    },
    {
     "name": "stdout",
     "output_type": "stream",
     "text": [
      "Writing CSV file with top k image patches..\n"
     ]
    },
    {
     "name": "stderr",
     "output_type": "stream",
     "text": [
      "Collecting top-k patch coordinates CUB: 100% 6/6 [00:00<00:00, 334.11it/s]"
     ]
    },
    {
     "name": "stdout",
     "output_type": "stream",
     "text": [
      "Warning: image patches included in topk, but similarity < 0.1! This might unfairly reduce the purity metric because prototype has less than k similar image patches. You could consider reducing k for prototypes set()\n"
     ]
    },
    {
     "name": "stderr",
     "output_type": "stream",
     "text": [
      "\n",
      "Collecting top-k patch coordinates CUB:   0% 0/10 [00:00<?, ?it/s]"
     ]
    },
    {
     "name": "stdout",
     "output_type": "stream",
     "text": [
      "Writing CSV file with top k image patches..\n"
     ]
    },
    {
     "name": "stderr",
     "output_type": "stream",
     "text": [
      "Collecting top-k patch coordinates CUB: 100% 10/10 [00:01<00:00,  6.49it/s]"
     ]
    },
    {
     "name": "stdout",
     "output_type": "stream",
     "text": [
      "Warning: image patches included in topk, but similarity < 0.1! This might unfairly reduce the purity metric because prototype has less than k similar image patches. You could consider reducing k for prototypes {19}\n"
     ]
    },
    {
     "name": "stderr",
     "output_type": "stream",
     "text": [
      "\n",
      "Collecting top-k patch coordinates CUB:   0% 0/7 [00:00<?, ?it/s]"
     ]
    },
    {
     "name": "stdout",
     "output_type": "stream",
     "text": [
      "Writing CSV file with top k image patches..\n"
     ]
    },
    {
     "name": "stderr",
     "output_type": "stream",
     "text": [
      "Collecting top-k patch coordinates CUB: 100% 7/7 [00:00<00:00, 94.84it/s]"
     ]
    },
    {
     "name": "stdout",
     "output_type": "stream",
     "text": [
      "Warning: image patches included in topk, but similarity < 0.1! This might unfairly reduce the purity metric because prototype has less than k similar image patches. You could consider reducing k for prototypes set()\n"
     ]
    },
    {
     "name": "stderr",
     "output_type": "stream",
     "text": [
      "\n",
      "Collecting top-k patch coordinates CUB:   0% 0/6 [00:00<?, ?it/s]"
     ]
    },
    {
     "name": "stdout",
     "output_type": "stream",
     "text": [
      "Writing CSV file with top k image patches..\n"
     ]
    },
    {
     "name": "stderr",
     "output_type": "stream",
     "text": [
      "Collecting top-k patch coordinates CUB: 100% 6/6 [00:00<00:00, 153.60it/s]"
     ]
    },
    {
     "name": "stdout",
     "output_type": "stream",
     "text": [
      "Warning: image patches included in topk, but similarity < 0.1! This might unfairly reduce the purity metric because prototype has less than k similar image patches. You could consider reducing k for prototypes set()\n"
     ]
    },
    {
     "name": "stderr",
     "output_type": "stream",
     "text": [
      "\n",
      "Collecting top-k patch coordinates CUB:   0% 0/7 [00:00<?, ?it/s]"
     ]
    },
    {
     "name": "stdout",
     "output_type": "stream",
     "text": [
      "Writing CSV file with top k image patches..\n"
     ]
    },
    {
     "name": "stderr",
     "output_type": "stream",
     "text": [
      "Collecting top-k patch coordinates CUB: 100% 7/7 [00:00<00:00, 141.62it/s]"
     ]
    },
    {
     "name": "stdout",
     "output_type": "stream",
     "text": [
      "Warning: image patches included in topk, but similarity < 0.1! This might unfairly reduce the purity metric because prototype has less than k similar image patches. You could consider reducing k for prototypes set()\n"
     ]
    },
    {
     "name": "stderr",
     "output_type": "stream",
     "text": [
      "\n",
      "Collecting top-k patch coordinates CUB:   0% 0/5 [00:00<?, ?it/s]"
     ]
    },
    {
     "name": "stdout",
     "output_type": "stream",
     "text": [
      "Writing CSV file with top k image patches..\n"
     ]
    },
    {
     "name": "stderr",
     "output_type": "stream",
     "text": [
      "Collecting top-k patch coordinates CUB: 100% 5/5 [00:00<00:00, 320.15it/s]"
     ]
    },
    {
     "name": "stdout",
     "output_type": "stream",
     "text": [
      "Warning: image patches included in topk, but similarity < 0.1! This might unfairly reduce the purity metric because prototype has less than k similar image patches. You could consider reducing k for prototypes set()\n"
     ]
    },
    {
     "name": "stderr",
     "output_type": "stream",
     "text": [
      "\n",
      "Collecting top-k patch coordinates CUB:   0% 0/6 [00:00<?, ?it/s]"
     ]
    },
    {
     "name": "stdout",
     "output_type": "stream",
     "text": [
      "Writing CSV file with top k image patches..\n"
     ]
    },
    {
     "name": "stderr",
     "output_type": "stream",
     "text": [
      "Collecting top-k patch coordinates CUB: 100% 6/6 [00:00<00:00, 176.93it/s]"
     ]
    },
    {
     "name": "stdout",
     "output_type": "stream",
     "text": [
      "Warning: image patches included in topk, but similarity < 0.1! This might unfairly reduce the purity metric because prototype has less than k similar image patches. You could consider reducing k for prototypes set()\n"
     ]
    },
    {
     "name": "stderr",
     "output_type": "stream",
     "text": [
      "\n",
      "Collecting top-k patch coordinates CUB:   0% 0/8 [00:00<?, ?it/s]"
     ]
    },
    {
     "name": "stdout",
     "output_type": "stream",
     "text": [
      "Writing CSV file with top k image patches..\n"
     ]
    },
    {
     "name": "stderr",
     "output_type": "stream",
     "text": [
      "Collecting top-k patch coordinates CUB: 100% 8/8 [00:00<00:00, 95.42it/s]"
     ]
    },
    {
     "name": "stdout",
     "output_type": "stream",
     "text": [
      "Warning: image patches included in topk, but similarity < 0.1! This might unfairly reduce the purity metric because prototype has less than k similar image patches. You could consider reducing k for prototypes set()\n"
     ]
    },
    {
     "name": "stderr",
     "output_type": "stream",
     "text": [
      "\n",
      "Collecting top-k patch coordinates CUB:   0% 0/4 [00:00<?, ?it/s]"
     ]
    },
    {
     "name": "stdout",
     "output_type": "stream",
     "text": [
      "Writing CSV file with top k image patches..\n"
     ]
    },
    {
     "name": "stderr",
     "output_type": "stream",
     "text": [
      "Collecting top-k patch coordinates CUB: 100% 4/4 [00:00<00:00, 311.26it/s]"
     ]
    },
    {
     "name": "stdout",
     "output_type": "stream",
     "text": [
      "Warning: image patches included in topk, but similarity < 0.1! This might unfairly reduce the purity metric because prototype has less than k similar image patches. You could consider reducing k for prototypes set()\n"
     ]
    },
    {
     "name": "stderr",
     "output_type": "stream",
     "text": [
      "\n",
      "Collecting top-k patch coordinates CUB:   0% 0/7 [00:00<?, ?it/s]"
     ]
    },
    {
     "name": "stdout",
     "output_type": "stream",
     "text": [
      "Writing CSV file with top k image patches..\n"
     ]
    },
    {
     "name": "stderr",
     "output_type": "stream",
     "text": [
      "Collecting top-k patch coordinates CUB: 100% 7/7 [00:00<00:00, 110.56it/s]"
     ]
    },
    {
     "name": "stdout",
     "output_type": "stream",
     "text": [
      "Warning: image patches included in topk, but similarity < 0.1! This might unfairly reduce the purity metric because prototype has less than k similar image patches. You could consider reducing k for prototypes set()\n"
     ]
    },
    {
     "name": "stderr",
     "output_type": "stream",
     "text": [
      "\n",
      "Collecting top-k patch coordinates CUB:   0% 0/8 [00:00<?, ?it/s]"
     ]
    },
    {
     "name": "stdout",
     "output_type": "stream",
     "text": [
      "Writing CSV file with top k image patches..\n"
     ]
    },
    {
     "name": "stderr",
     "output_type": "stream",
     "text": [
      "Collecting top-k patch coordinates CUB: 100% 8/8 [00:00<00:00, 137.12it/s]"
     ]
    },
    {
     "name": "stdout",
     "output_type": "stream",
     "text": [
      "Warning: image patches included in topk, but similarity < 0.1! This might unfairly reduce the purity metric because prototype has less than k similar image patches. You could consider reducing k for prototypes set()\n"
     ]
    },
    {
     "name": "stderr",
     "output_type": "stream",
     "text": [
      "\n",
      "Collecting top-k patch coordinates CUB:   0% 0/8 [00:00<?, ?it/s]"
     ]
    },
    {
     "name": "stdout",
     "output_type": "stream",
     "text": [
      "Writing CSV file with top k image patches..\n"
     ]
    },
    {
     "name": "stderr",
     "output_type": "stream",
     "text": [
      "Collecting top-k patch coordinates CUB: 100% 8/8 [00:00<00:00, 138.16it/s]"
     ]
    },
    {
     "name": "stdout",
     "output_type": "stream",
     "text": [
      "Warning: image patches included in topk, but similarity < 0.1! This might unfairly reduce the purity metric because prototype has less than k similar image patches. You could consider reducing k for prototypes set()\n"
     ]
    },
    {
     "name": "stderr",
     "output_type": "stream",
     "text": [
      "\n",
      "Collecting top-k patch coordinates CUB:   0% 0/6 [00:00<?, ?it/s]"
     ]
    },
    {
     "name": "stdout",
     "output_type": "stream",
     "text": [
      "Writing CSV file with top k image patches..\n"
     ]
    },
    {
     "name": "stderr",
     "output_type": "stream",
     "text": [
      "Collecting top-k patch coordinates CUB: 100% 6/6 [00:00<00:00, 151.22it/s]"
     ]
    },
    {
     "name": "stdout",
     "output_type": "stream",
     "text": [
      "Warning: image patches included in topk, but similarity < 0.1! This might unfairly reduce the purity metric because prototype has less than k similar image patches. You could consider reducing k for prototypes set()\n"
     ]
    },
    {
     "name": "stderr",
     "output_type": "stream",
     "text": [
      "\n",
      "Collecting top-k patch coordinates CUB:   0% 0/5 [00:00<?, ?it/s]"
     ]
    },
    {
     "name": "stdout",
     "output_type": "stream",
     "text": [
      "Writing CSV file with top k image patches..\n"
     ]
    },
    {
     "name": "stderr",
     "output_type": "stream",
     "text": [
      "Collecting top-k patch coordinates CUB: 100% 5/5 [00:00<00:00, 319.91it/s]"
     ]
    },
    {
     "name": "stdout",
     "output_type": "stream",
     "text": [
      "Warning: image patches included in topk, but similarity < 0.1! This might unfairly reduce the purity metric because prototype has less than k similar image patches. You could consider reducing k for prototypes set()\n"
     ]
    },
    {
     "name": "stderr",
     "output_type": "stream",
     "text": [
      "\n",
      "Collecting top-k patch coordinates CUB:   0% 0/12 [00:00<?, ?it/s]"
     ]
    },
    {
     "name": "stdout",
     "output_type": "stream",
     "text": [
      "Writing CSV file with top k image patches..\n"
     ]
    },
    {
     "name": "stderr",
     "output_type": "stream",
     "text": [
      "Collecting top-k patch coordinates CUB: 100% 12/12 [00:01<00:00,  6.48it/s]"
     ]
    },
    {
     "name": "stdout",
     "output_type": "stream",
     "text": [
      "Warning: image patches included in topk, but similarity < 0.1! This might unfairly reduce the purity metric because prototype has less than k similar image patches. You could consider reducing k for prototypes {19}\n"
     ]
    },
    {
     "name": "stderr",
     "output_type": "stream",
     "text": [
      "\n",
      "Collecting top-k patch coordinates CUB:   0% 0/12 [00:00<?, ?it/s]"
     ]
    },
    {
     "name": "stdout",
     "output_type": "stream",
     "text": [
      "Writing CSV file with top k image patches..\n"
     ]
    },
    {
     "name": "stderr",
     "output_type": "stream",
     "text": [
      "Collecting top-k patch coordinates CUB: 100% 12/12 [00:00<00:00, 47.15it/s]"
     ]
    },
    {
     "name": "stdout",
     "output_type": "stream",
     "text": [
      "Warning: image patches included in topk, but similarity < 0.1! This might unfairly reduce the purity metric because prototype has less than k similar image patches. You could consider reducing k for prototypes {19}\n"
     ]
    },
    {
     "name": "stderr",
     "output_type": "stream",
     "text": [
      "\n",
      "Collecting top-k patch coordinates CUB:   0% 0/8 [00:00<?, ?it/s]"
     ]
    },
    {
     "name": "stdout",
     "output_type": "stream",
     "text": [
      "Writing CSV file with top k image patches..\n"
     ]
    },
    {
     "name": "stderr",
     "output_type": "stream",
     "text": [
      "Collecting top-k patch coordinates CUB: 100% 8/8 [00:00<00:00, 145.81it/s]"
     ]
    },
    {
     "name": "stdout",
     "output_type": "stream",
     "text": [
      "Warning: image patches included in topk, but similarity < 0.1! This might unfairly reduce the purity metric because prototype has less than k similar image patches. You could consider reducing k for prototypes set()\n"
     ]
    },
    {
     "name": "stderr",
     "output_type": "stream",
     "text": [
      "\n",
      "Collecting top-k patch coordinates CUB:   0% 0/7 [00:00<?, ?it/s]"
     ]
    },
    {
     "name": "stdout",
     "output_type": "stream",
     "text": [
      "Writing CSV file with top k image patches..\n"
     ]
    },
    {
     "name": "stderr",
     "output_type": "stream",
     "text": [
      "Collecting top-k patch coordinates CUB: 100% 7/7 [00:00<00:00, 223.81it/s]"
     ]
    },
    {
     "name": "stdout",
     "output_type": "stream",
     "text": [
      "Warning: image patches included in topk, but similarity < 0.1! This might unfairly reduce the purity metric because prototype has less than k similar image patches. You could consider reducing k for prototypes set()\n"
     ]
    },
    {
     "name": "stderr",
     "output_type": "stream",
     "text": [
      "\n",
      "Collecting top-k patch coordinates CUB:   0% 0/4 [00:00<?, ?it/s]"
     ]
    },
    {
     "name": "stdout",
     "output_type": "stream",
     "text": [
      "Writing CSV file with top k image patches..\n"
     ]
    },
    {
     "name": "stderr",
     "output_type": "stream",
     "text": [
      "Collecting top-k patch coordinates CUB: 100% 4/4 [00:00<00:00, 223.84it/s]"
     ]
    },
    {
     "name": "stdout",
     "output_type": "stream",
     "text": [
      "Warning: image patches included in topk, but similarity < 0.1! This might unfairly reduce the purity metric because prototype has less than k similar image patches. You could consider reducing k for prototypes set()\n"
     ]
    },
    {
     "name": "stderr",
     "output_type": "stream",
     "text": [
      "\n",
      "Collecting top-k patch coordinates CUB:   0% 0/4 [00:00<?, ?it/s]"
     ]
    },
    {
     "name": "stdout",
     "output_type": "stream",
     "text": [
      "Writing CSV file with top k image patches..\n"
     ]
    },
    {
     "name": "stderr",
     "output_type": "stream",
     "text": [
      "Collecting top-k patch coordinates CUB: 100% 4/4 [00:00<00:00, 314.16it/s]"
     ]
    },
    {
     "name": "stdout",
     "output_type": "stream",
     "text": [
      "Warning: image patches included in topk, but similarity < 0.1! This might unfairly reduce the purity metric because prototype has less than k similar image patches. You could consider reducing k for prototypes set()\n"
     ]
    },
    {
     "name": "stderr",
     "output_type": "stream",
     "text": [
      "\n",
      "Collecting top-k patch coordinates CUB:   0% 0/4 [00:00<?, ?it/s]"
     ]
    },
    {
     "name": "stdout",
     "output_type": "stream",
     "text": [
      "Writing CSV file with top k image patches..\n"
     ]
    },
    {
     "name": "stderr",
     "output_type": "stream",
     "text": [
      "Collecting top-k patch coordinates CUB: 100% 4/4 [00:00<00:00, 315.75it/s]"
     ]
    },
    {
     "name": "stdout",
     "output_type": "stream",
     "text": [
      "Warning: image patches included in topk, but similarity < 0.1! This might unfairly reduce the purity metric because prototype has less than k similar image patches. You could consider reducing k for prototypes set()\n"
     ]
    },
    {
     "name": "stderr",
     "output_type": "stream",
     "text": [
      "\n",
      "Collecting top-k patch coordinates CUB:   0% 0/5 [00:00<?, ?it/s]"
     ]
    },
    {
     "name": "stdout",
     "output_type": "stream",
     "text": [
      "Writing CSV file with top k image patches..\n"
     ]
    },
    {
     "name": "stderr",
     "output_type": "stream",
     "text": [
      "Collecting top-k patch coordinates CUB: 100% 5/5 [00:00<00:00, 330.52it/s]"
     ]
    },
    {
     "name": "stdout",
     "output_type": "stream",
     "text": [
      "Warning: image patches included in topk, but similarity < 0.1! This might unfairly reduce the purity metric because prototype has less than k similar image patches. You could consider reducing k for prototypes set()\n"
     ]
    },
    {
     "name": "stderr",
     "output_type": "stream",
     "text": [
      "\n",
      "Collecting top-k patch coordinates CUB:   0% 0/9 [00:00<?, ?it/s]"
     ]
    },
    {
     "name": "stdout",
     "output_type": "stream",
     "text": [
      "Writing CSV file with top k image patches..\n"
     ]
    },
    {
     "name": "stderr",
     "output_type": "stream",
     "text": [
      "Collecting top-k patch coordinates CUB: 100% 9/9 [00:00<00:00, 138.11it/s]"
     ]
    },
    {
     "name": "stdout",
     "output_type": "stream",
     "text": [
      "Warning: image patches included in topk, but similarity < 0.1! This might unfairly reduce the purity metric because prototype has less than k similar image patches. You could consider reducing k for prototypes set()\n"
     ]
    },
    {
     "name": "stderr",
     "output_type": "stream",
     "text": [
      "\n",
      "Collecting top-k patch coordinates CUB:   0% 0/6 [00:00<?, ?it/s]"
     ]
    },
    {
     "name": "stdout",
     "output_type": "stream",
     "text": [
      "Writing CSV file with top k image patches..\n"
     ]
    },
    {
     "name": "stderr",
     "output_type": "stream",
     "text": [
      "Collecting top-k patch coordinates CUB: 100% 6/6 [00:00<00:00, 325.76it/s]"
     ]
    },
    {
     "name": "stdout",
     "output_type": "stream",
     "text": [
      "Warning: image patches included in topk, but similarity < 0.1! This might unfairly reduce the purity metric because prototype has less than k similar image patches. You could consider reducing k for prototypes set()\n"
     ]
    },
    {
     "name": "stderr",
     "output_type": "stream",
     "text": [
      "\n",
      "Collecting top-k patch coordinates CUB:   0% 0/7 [00:00<?, ?it/s]"
     ]
    },
    {
     "name": "stdout",
     "output_type": "stream",
     "text": [
      "Writing CSV file with top k image patches..\n"
     ]
    },
    {
     "name": "stderr",
     "output_type": "stream",
     "text": [
      "Collecting top-k patch coordinates CUB: 100% 7/7 [00:00<00:00, 115.23it/s]"
     ]
    },
    {
     "name": "stdout",
     "output_type": "stream",
     "text": [
      "Warning: image patches included in topk, but similarity < 0.1! This might unfairly reduce the purity metric because prototype has less than k similar image patches. You could consider reducing k for prototypes set()\n"
     ]
    },
    {
     "name": "stderr",
     "output_type": "stream",
     "text": [
      "\n",
      "Collecting top-k patch coordinates CUB:   0% 0/5 [00:00<?, ?it/s]"
     ]
    },
    {
     "name": "stdout",
     "output_type": "stream",
     "text": [
      "Writing CSV file with top k image patches..\n"
     ]
    },
    {
     "name": "stderr",
     "output_type": "stream",
     "text": [
      "Collecting top-k patch coordinates CUB: 100% 5/5 [00:00<00:00, 213.26it/s]"
     ]
    },
    {
     "name": "stdout",
     "output_type": "stream",
     "text": [
      "Warning: image patches included in topk, but similarity < 0.1! This might unfairly reduce the purity metric because prototype has less than k similar image patches. You could consider reducing k for prototypes set()\n"
     ]
    },
    {
     "name": "stderr",
     "output_type": "stream",
     "text": [
      "\n",
      "Collecting top-k patch coordinates CUB:   0% 0/5 [00:00<?, ?it/s]"
     ]
    },
    {
     "name": "stdout",
     "output_type": "stream",
     "text": [
      "Writing CSV file with top k image patches..\n"
     ]
    },
    {
     "name": "stderr",
     "output_type": "stream",
     "text": [
      "Collecting top-k patch coordinates CUB: 100% 5/5 [00:00<00:00, 321.27it/s]"
     ]
    },
    {
     "name": "stdout",
     "output_type": "stream",
     "text": [
      "Warning: image patches included in topk, but similarity < 0.1! This might unfairly reduce the purity metric because prototype has less than k similar image patches. You could consider reducing k for prototypes set()\n"
     ]
    },
    {
     "name": "stderr",
     "output_type": "stream",
     "text": [
      "\n",
      "Collecting top-k patch coordinates CUB:   0% 0/6 [00:00<?, ?it/s]"
     ]
    },
    {
     "name": "stdout",
     "output_type": "stream",
     "text": [
      "Writing CSV file with top k image patches..\n"
     ]
    },
    {
     "name": "stderr",
     "output_type": "stream",
     "text": [
      "Collecting top-k patch coordinates CUB: 100% 6/6 [00:00<00:00, 231.55it/s]"
     ]
    },
    {
     "name": "stdout",
     "output_type": "stream",
     "text": [
      "Warning: image patches included in topk, but similarity < 0.1! This might unfairly reduce the purity metric because prototype has less than k similar image patches. You could consider reducing k for prototypes set()\n"
     ]
    },
    {
     "name": "stderr",
     "output_type": "stream",
     "text": [
      "\n",
      "Collecting top-k patch coordinates CUB:   0% 0/4 [00:00<?, ?it/s]"
     ]
    },
    {
     "name": "stdout",
     "output_type": "stream",
     "text": [
      "Writing CSV file with top k image patches..\n"
     ]
    },
    {
     "name": "stderr",
     "output_type": "stream",
     "text": [
      "Collecting top-k patch coordinates CUB: 100% 4/4 [00:00<00:00, 316.74it/s]"
     ]
    },
    {
     "name": "stdout",
     "output_type": "stream",
     "text": [
      "Warning: image patches included in topk, but similarity < 0.1! This might unfairly reduce the purity metric because prototype has less than k similar image patches. You could consider reducing k for prototypes set()\n"
     ]
    },
    {
     "name": "stderr",
     "output_type": "stream",
     "text": [
      "\n",
      "Collecting top-k patch coordinates CUB:   0% 0/4 [00:00<?, ?it/s]"
     ]
    },
    {
     "name": "stdout",
     "output_type": "stream",
     "text": [
      "Writing CSV file with top k image patches..\n"
     ]
    },
    {
     "name": "stderr",
     "output_type": "stream",
     "text": [
      "Collecting top-k patch coordinates CUB: 100% 4/4 [00:00<00:00, 220.43it/s]"
     ]
    },
    {
     "name": "stdout",
     "output_type": "stream",
     "text": [
      "Warning: image patches included in topk, but similarity < 0.1! This might unfairly reduce the purity metric because prototype has less than k similar image patches. You could consider reducing k for prototypes set()\n"
     ]
    },
    {
     "name": "stderr",
     "output_type": "stream",
     "text": [
      "\n",
      "Collecting top-k patch coordinates CUB:   0% 0/8 [00:00<?, ?it/s]"
     ]
    },
    {
     "name": "stdout",
     "output_type": "stream",
     "text": [
      "Writing CSV file with top k image patches..\n"
     ]
    },
    {
     "name": "stderr",
     "output_type": "stream",
     "text": [
      "Collecting top-k patch coordinates CUB: 100% 8/8 [00:00<00:00,  9.43it/s]"
     ]
    },
    {
     "name": "stdout",
     "output_type": "stream",
     "text": [
      "Warning: image patches included in topk, but similarity < 0.1! This might unfairly reduce the purity metric because prototype has less than k similar image patches. You could consider reducing k for prototypes {19}\n"
     ]
    },
    {
     "name": "stderr",
     "output_type": "stream",
     "text": [
      "\n",
      "Collecting top-k patch coordinates CUB:   0% 0/6 [00:00<?, ?it/s]"
     ]
    },
    {
     "name": "stdout",
     "output_type": "stream",
     "text": [
      "Writing CSV file with top k image patches..\n"
     ]
    },
    {
     "name": "stderr",
     "output_type": "stream",
     "text": [
      "Collecting top-k patch coordinates CUB: 100% 6/6 [00:00<00:00, 152.29it/s]"
     ]
    },
    {
     "name": "stdout",
     "output_type": "stream",
     "text": [
      "Warning: image patches included in topk, but similarity < 0.1! This might unfairly reduce the purity metric because prototype has less than k similar image patches. You could consider reducing k for prototypes set()\n"
     ]
    },
    {
     "name": "stderr",
     "output_type": "stream",
     "text": [
      "\n",
      "Collecting top-k patch coordinates CUB:   0% 0/10 [00:00<?, ?it/s]"
     ]
    },
    {
     "name": "stdout",
     "output_type": "stream",
     "text": [
      "Writing CSV file with top k image patches..\n"
     ]
    },
    {
     "name": "stderr",
     "output_type": "stream",
     "text": [
      "Collecting top-k patch coordinates CUB: 100% 10/10 [00:00<00:00, 62.46it/s]"
     ]
    },
    {
     "name": "stdout",
     "output_type": "stream",
     "text": [
      "Warning: image patches included in topk, but similarity < 0.1! This might unfairly reduce the purity metric because prototype has less than k similar image patches. You could consider reducing k for prototypes {19}\n"
     ]
    },
    {
     "name": "stderr",
     "output_type": "stream",
     "text": [
      "\n",
      "Collecting top-k patch coordinates CUB:   0% 0/9 [00:00<?, ?it/s]"
     ]
    },
    {
     "name": "stdout",
     "output_type": "stream",
     "text": [
      "Writing CSV file with top k image patches..\n"
     ]
    },
    {
     "name": "stderr",
     "output_type": "stream",
     "text": [
      "Collecting top-k patch coordinates CUB: 100% 9/9 [00:00<00:00, 103.33it/s]"
     ]
    },
    {
     "name": "stdout",
     "output_type": "stream",
     "text": [
      "Warning: image patches included in topk, but similarity < 0.1! This might unfairly reduce the purity metric because prototype has less than k similar image patches. You could consider reducing k for prototypes set()\n"
     ]
    },
    {
     "name": "stderr",
     "output_type": "stream",
     "text": [
      "\n",
      "Collecting top-k patch coordinates CUB:   0% 0/5 [00:00<?, ?it/s]"
     ]
    },
    {
     "name": "stdout",
     "output_type": "stream",
     "text": [
      "Writing CSV file with top k image patches..\n"
     ]
    },
    {
     "name": "stderr",
     "output_type": "stream",
     "text": [
      "Collecting top-k patch coordinates CUB: 100% 5/5 [00:00<00:00, 213.35it/s]"
     ]
    },
    {
     "name": "stdout",
     "output_type": "stream",
     "text": [
      "Warning: image patches included in topk, but similarity < 0.1! This might unfairly reduce the purity metric because prototype has less than k similar image patches. You could consider reducing k for prototypes set()\n"
     ]
    },
    {
     "name": "stderr",
     "output_type": "stream",
     "text": [
      "\n",
      "Collecting top-k patch coordinates CUB:   0% 0/5 [00:00<?, ?it/s]"
     ]
    },
    {
     "name": "stdout",
     "output_type": "stream",
     "text": [
      "Writing CSV file with top k image patches..\n"
     ]
    },
    {
     "name": "stderr",
     "output_type": "stream",
     "text": [
      "Collecting top-k patch coordinates CUB: 100% 5/5 [00:00<00:00, 324.17it/s]"
     ]
    },
    {
     "name": "stdout",
     "output_type": "stream",
     "text": [
      "Warning: image patches included in topk, but similarity < 0.1! This might unfairly reduce the purity metric because prototype has less than k similar image patches. You could consider reducing k for prototypes set()\n"
     ]
    },
    {
     "name": "stderr",
     "output_type": "stream",
     "text": [
      "\n",
      "Collecting top-k patch coordinates CUB:   0% 0/5 [00:00<?, ?it/s]"
     ]
    },
    {
     "name": "stdout",
     "output_type": "stream",
     "text": [
      "Writing CSV file with top k image patches..\n"
     ]
    },
    {
     "name": "stderr",
     "output_type": "stream",
     "text": [
      "Collecting top-k patch coordinates CUB: 100% 5/5 [00:00<00:00, 317.65it/s]"
     ]
    },
    {
     "name": "stdout",
     "output_type": "stream",
     "text": [
      "Warning: image patches included in topk, but similarity < 0.1! This might unfairly reduce the purity metric because prototype has less than k similar image patches. You could consider reducing k for prototypes set()\n"
     ]
    },
    {
     "name": "stderr",
     "output_type": "stream",
     "text": [
      "\n",
      "Collecting top-k patch coordinates CUB:   0% 0/4 [00:00<?, ?it/s]"
     ]
    },
    {
     "name": "stdout",
     "output_type": "stream",
     "text": [
      "Writing CSV file with top k image patches..\n"
     ]
    },
    {
     "name": "stderr",
     "output_type": "stream",
     "text": [
      "Collecting top-k patch coordinates CUB: 100% 4/4 [00:00<00:00, 304.14it/s]"
     ]
    },
    {
     "name": "stdout",
     "output_type": "stream",
     "text": [
      "Warning: image patches included in topk, but similarity < 0.1! This might unfairly reduce the purity metric because prototype has less than k similar image patches. You could consider reducing k for prototypes set()\n"
     ]
    },
    {
     "name": "stderr",
     "output_type": "stream",
     "text": [
      "\n",
      "Collecting top-k patch coordinates CUB:   0% 0/6 [00:00<?, ?it/s]"
     ]
    },
    {
     "name": "stdout",
     "output_type": "stream",
     "text": [
      "Writing CSV file with top k image patches..\n"
     ]
    },
    {
     "name": "stderr",
     "output_type": "stream",
     "text": [
      "Collecting top-k patch coordinates CUB: 100% 6/6 [00:00<00:00, 149.97it/s]"
     ]
    },
    {
     "name": "stdout",
     "output_type": "stream",
     "text": [
      "Warning: image patches included in topk, but similarity < 0.1! This might unfairly reduce the purity metric because prototype has less than k similar image patches. You could consider reducing k for prototypes set()\n"
     ]
    },
    {
     "name": "stderr",
     "output_type": "stream",
     "text": [
      "\n",
      "Collecting top-k patch coordinates CUB:   0% 0/6 [00:00<?, ?it/s]"
     ]
    },
    {
     "name": "stdout",
     "output_type": "stream",
     "text": [
      "Writing CSV file with top k image patches..\n"
     ]
    },
    {
     "name": "stderr",
     "output_type": "stream",
     "text": [
      "Collecting top-k patch coordinates CUB: 100% 6/6 [00:00<00:00, 172.46it/s]"
     ]
    },
    {
     "name": "stdout",
     "output_type": "stream",
     "text": [
      "Warning: image patches included in topk, but similarity < 0.1! This might unfairly reduce the purity metric because prototype has less than k similar image patches. You could consider reducing k for prototypes set()\n"
     ]
    },
    {
     "name": "stderr",
     "output_type": "stream",
     "text": [
      "\n",
      "Collecting top-k patch coordinates CUB:   0% 0/4 [00:00<?, ?it/s]"
     ]
    },
    {
     "name": "stdout",
     "output_type": "stream",
     "text": [
      "Writing CSV file with top k image patches..\n"
     ]
    },
    {
     "name": "stderr",
     "output_type": "stream",
     "text": [
      "Collecting top-k patch coordinates CUB: 100% 4/4 [00:00<00:00, 311.03it/s]"
     ]
    },
    {
     "name": "stdout",
     "output_type": "stream",
     "text": [
      "Warning: image patches included in topk, but similarity < 0.1! This might unfairly reduce the purity metric because prototype has less than k similar image patches. You could consider reducing k for prototypes set()\n"
     ]
    },
    {
     "name": "stderr",
     "output_type": "stream",
     "text": [
      "\n",
      "Collecting top-k patch coordinates CUB:   0% 0/4 [00:00<?, ?it/s]"
     ]
    },
    {
     "name": "stdout",
     "output_type": "stream",
     "text": [
      "Writing CSV file with top k image patches..\n"
     ]
    },
    {
     "name": "stderr",
     "output_type": "stream",
     "text": [
      "Collecting top-k patch coordinates CUB: 100% 4/4 [00:00<00:00, 308.99it/s]"
     ]
    },
    {
     "name": "stdout",
     "output_type": "stream",
     "text": [
      "Warning: image patches included in topk, but similarity < 0.1! This might unfairly reduce the purity metric because prototype has less than k similar image patches. You could consider reducing k for prototypes set()\n"
     ]
    },
    {
     "name": "stderr",
     "output_type": "stream",
     "text": [
      "\n",
      "Collecting top-k patch coordinates CUB:   0% 0/3 [00:00<?, ?it/s]"
     ]
    },
    {
     "name": "stdout",
     "output_type": "stream",
     "text": [
      "Writing CSV file with top k image patches..\n"
     ]
    },
    {
     "name": "stderr",
     "output_type": "stream",
     "text": [
      "Collecting top-k patch coordinates CUB: 100% 3/3 [00:00<00:00, 287.12it/s]"
     ]
    },
    {
     "name": "stdout",
     "output_type": "stream",
     "text": [
      "Warning: image patches included in topk, but similarity < 0.1! This might unfairly reduce the purity metric because prototype has less than k similar image patches. You could consider reducing k for prototypes set()\n"
     ]
    },
    {
     "name": "stderr",
     "output_type": "stream",
     "text": [
      "\n",
      "Collecting top-k patch coordinates CUB:   0% 0/7 [00:00<?, ?it/s]"
     ]
    },
    {
     "name": "stdout",
     "output_type": "stream",
     "text": [
      "Writing CSV file with top k image patches..\n"
     ]
    },
    {
     "name": "stderr",
     "output_type": "stream",
     "text": [
      "Collecting top-k patch coordinates CUB: 100% 7/7 [00:00<00:00, 15.67it/s]"
     ]
    },
    {
     "name": "stdout",
     "output_type": "stream",
     "text": [
      "Warning: image patches included in topk, but similarity < 0.1! This might unfairly reduce the purity metric because prototype has less than k similar image patches. You could consider reducing k for prototypes {19}\n"
     ]
    },
    {
     "name": "stderr",
     "output_type": "stream",
     "text": [
      "\n",
      "Collecting top-k patch coordinates CUB:   0% 0/12 [00:00<?, ?it/s]"
     ]
    },
    {
     "name": "stdout",
     "output_type": "stream",
     "text": [
      "Writing CSV file with top k image patches..\n"
     ]
    },
    {
     "name": "stderr",
     "output_type": "stream",
     "text": [
      "Collecting top-k patch coordinates CUB: 100% 12/12 [00:00<00:00, 44.70it/s]"
     ]
    },
    {
     "name": "stdout",
     "output_type": "stream",
     "text": [
      "Warning: image patches included in topk, but similarity < 0.1! This might unfairly reduce the purity metric because prototype has less than k similar image patches. You could consider reducing k for prototypes set()\n"
     ]
    },
    {
     "name": "stderr",
     "output_type": "stream",
     "text": [
      "\n",
      "Collecting top-k patch coordinates CUB:   0% 0/5 [00:00<?, ?it/s]"
     ]
    },
    {
     "name": "stdout",
     "output_type": "stream",
     "text": [
      "Writing CSV file with top k image patches..\n"
     ]
    },
    {
     "name": "stderr",
     "output_type": "stream",
     "text": [
      "Collecting top-k patch coordinates CUB: 100% 5/5 [00:00<00:00, 211.85it/s]"
     ]
    },
    {
     "name": "stdout",
     "output_type": "stream",
     "text": [
      "Warning: image patches included in topk, but similarity < 0.1! This might unfairly reduce the purity metric because prototype has less than k similar image patches. You could consider reducing k for prototypes set()\n"
     ]
    },
    {
     "name": "stderr",
     "output_type": "stream",
     "text": [
      "\n",
      "Collecting top-k patch coordinates CUB:   0% 0/9 [00:00<?, ?it/s]"
     ]
    },
    {
     "name": "stdout",
     "output_type": "stream",
     "text": [
      "Writing CSV file with top k image patches..\n"
     ]
    },
    {
     "name": "stderr",
     "output_type": "stream",
     "text": [
      "Collecting top-k patch coordinates CUB: 100% 9/9 [00:00<00:00, 92.62it/s]"
     ]
    },
    {
     "name": "stdout",
     "output_type": "stream",
     "text": [
      "Warning: image patches included in topk, but similarity < 0.1! This might unfairly reduce the purity metric because prototype has less than k similar image patches. You could consider reducing k for prototypes set()\n"
     ]
    },
    {
     "name": "stderr",
     "output_type": "stream",
     "text": [
      "\n",
      "Collecting top-k patch coordinates CUB:   0% 0/4 [00:00<?, ?it/s]"
     ]
    },
    {
     "name": "stdout",
     "output_type": "stream",
     "text": [
      "Writing CSV file with top k image patches..\n"
     ]
    },
    {
     "name": "stderr",
     "output_type": "stream",
     "text": [
      "Collecting top-k patch coordinates CUB: 100% 4/4 [00:00<00:00, 308.03it/s]"
     ]
    },
    {
     "name": "stdout",
     "output_type": "stream",
     "text": [
      "Warning: image patches included in topk, but similarity < 0.1! This might unfairly reduce the purity metric because prototype has less than k similar image patches. You could consider reducing k for prototypes set()\n"
     ]
    },
    {
     "name": "stderr",
     "output_type": "stream",
     "text": [
      "\n",
      "Collecting top-k patch coordinates CUB:   0% 0/6 [00:00<?, ?it/s]"
     ]
    },
    {
     "name": "stdout",
     "output_type": "stream",
     "text": [
      "Writing CSV file with top k image patches..\n"
     ]
    },
    {
     "name": "stderr",
     "output_type": "stream",
     "text": [
      "Collecting top-k patch coordinates CUB: 100% 6/6 [00:00<00:00, 177.36it/s]"
     ]
    },
    {
     "name": "stdout",
     "output_type": "stream",
     "text": [
      "Warning: image patches included in topk, but similarity < 0.1! This might unfairly reduce the purity metric because prototype has less than k similar image patches. You could consider reducing k for prototypes set()\n"
     ]
    },
    {
     "name": "stderr",
     "output_type": "stream",
     "text": [
      "\n",
      "Collecting top-k patch coordinates CUB:   0% 0/5 [00:00<?, ?it/s]"
     ]
    },
    {
     "name": "stdout",
     "output_type": "stream",
     "text": [
      "Writing CSV file with top k image patches..\n"
     ]
    },
    {
     "name": "stderr",
     "output_type": "stream",
     "text": [
      "Collecting top-k patch coordinates CUB: 100% 5/5 [00:00<00:00, 211.74it/s]"
     ]
    },
    {
     "name": "stdout",
     "output_type": "stream",
     "text": [
      "Warning: image patches included in topk, but similarity < 0.1! This might unfairly reduce the purity metric because prototype has less than k similar image patches. You could consider reducing k for prototypes set()\n"
     ]
    },
    {
     "name": "stderr",
     "output_type": "stream",
     "text": [
      "\n",
      "Collecting top-k patch coordinates CUB:   0% 0/5 [00:00<?, ?it/s]"
     ]
    },
    {
     "name": "stdout",
     "output_type": "stream",
     "text": [
      "Writing CSV file with top k image patches..\n"
     ]
    },
    {
     "name": "stderr",
     "output_type": "stream",
     "text": [
      "Collecting top-k patch coordinates CUB: 100% 5/5 [00:00<00:00, 322.23it/s]"
     ]
    },
    {
     "name": "stdout",
     "output_type": "stream",
     "text": [
      "Warning: image patches included in topk, but similarity < 0.1! This might unfairly reduce the purity metric because prototype has less than k similar image patches. You could consider reducing k for prototypes set()\n"
     ]
    },
    {
     "name": "stderr",
     "output_type": "stream",
     "text": [
      "\n",
      "Collecting top-k patch coordinates CUB:   0% 0/6 [00:00<?, ?it/s]"
     ]
    },
    {
     "name": "stdout",
     "output_type": "stream",
     "text": [
      "Writing CSV file with top k image patches..\n"
     ]
    },
    {
     "name": "stderr",
     "output_type": "stream",
     "text": [
      "Collecting top-k patch coordinates CUB: 100% 6/6 [00:00<00:00, 231.28it/s]"
     ]
    },
    {
     "name": "stdout",
     "output_type": "stream",
     "text": [
      "Warning: image patches included in topk, but similarity < 0.1! This might unfairly reduce the purity metric because prototype has less than k similar image patches. You could consider reducing k for prototypes set()\n"
     ]
    },
    {
     "name": "stderr",
     "output_type": "stream",
     "text": [
      "\n",
      "Collecting top-k patch coordinates CUB:   0% 0/5 [00:00<?, ?it/s]"
     ]
    },
    {
     "name": "stdout",
     "output_type": "stream",
     "text": [
      "Writing CSV file with top k image patches..\n"
     ]
    },
    {
     "name": "stderr",
     "output_type": "stream",
     "text": [
      "Collecting top-k patch coordinates CUB: 100% 5/5 [00:00<00:00, 213.67it/s]"
     ]
    },
    {
     "name": "stdout",
     "output_type": "stream",
     "text": [
      "Warning: image patches included in topk, but similarity < 0.1! This might unfairly reduce the purity metric because prototype has less than k similar image patches. You could consider reducing k for prototypes set()\n"
     ]
    },
    {
     "name": "stderr",
     "output_type": "stream",
     "text": [
      "\n",
      "Collecting top-k patch coordinates CUB:   0% 0/11 [00:00<?, ?it/s]"
     ]
    },
    {
     "name": "stdout",
     "output_type": "stream",
     "text": [
      "Writing CSV file with top k image patches..\n"
     ]
    },
    {
     "name": "stderr",
     "output_type": "stream",
     "text": [
      "Collecting top-k patch coordinates CUB: 100% 11/11 [00:01<00:00,  7.38it/s]"
     ]
    },
    {
     "name": "stdout",
     "output_type": "stream",
     "text": [
      "Warning: image patches included in topk, but similarity < 0.1! This might unfairly reduce the purity metric because prototype has less than k similar image patches. You could consider reducing k for prototypes {19}\n"
     ]
    },
    {
     "name": "stderr",
     "output_type": "stream",
     "text": [
      "\n",
      "Collecting top-k patch coordinates CUB:   0% 0/9 [00:00<?, ?it/s]"
     ]
    },
    {
     "name": "stdout",
     "output_type": "stream",
     "text": [
      "Writing CSV file with top k image patches..\n"
     ]
    },
    {
     "name": "stderr",
     "output_type": "stream",
     "text": [
      "Collecting top-k patch coordinates CUB: 100% 9/9 [00:00<00:00, 55.04it/s]"
     ]
    },
    {
     "name": "stdout",
     "output_type": "stream",
     "text": [
      "Warning: image patches included in topk, but similarity < 0.1! This might unfairly reduce the purity metric because prototype has less than k similar image patches. You could consider reducing k for prototypes set()\n"
     ]
    },
    {
     "name": "stderr",
     "output_type": "stream",
     "text": [
      "\n",
      "Collecting top-k patch coordinates CUB:   0% 0/5 [00:00<?, ?it/s]"
     ]
    },
    {
     "name": "stdout",
     "output_type": "stream",
     "text": [
      "Writing CSV file with top k image patches..\n"
     ]
    },
    {
     "name": "stderr",
     "output_type": "stream",
     "text": [
      "Collecting top-k patch coordinates CUB: 100% 5/5 [00:00<00:00, 320.53it/s]"
     ]
    },
    {
     "name": "stdout",
     "output_type": "stream",
     "text": [
      "Warning: image patches included in topk, but similarity < 0.1! This might unfairly reduce the purity metric because prototype has less than k similar image patches. You could consider reducing k for prototypes set()\n"
     ]
    },
    {
     "name": "stderr",
     "output_type": "stream",
     "text": [
      "\n",
      "Collecting top-k patch coordinates CUB:   0% 0/4 [00:00<?, ?it/s]"
     ]
    },
    {
     "name": "stdout",
     "output_type": "stream",
     "text": [
      "Writing CSV file with top k image patches..\n"
     ]
    },
    {
     "name": "stderr",
     "output_type": "stream",
     "text": [
      "Collecting top-k patch coordinates CUB: 100% 4/4 [00:00<00:00, 309.31it/s]"
     ]
    },
    {
     "name": "stdout",
     "output_type": "stream",
     "text": [
      "Warning: image patches included in topk, but similarity < 0.1! This might unfairly reduce the purity metric because prototype has less than k similar image patches. You could consider reducing k for prototypes set()\n"
     ]
    },
    {
     "name": "stderr",
     "output_type": "stream",
     "text": [
      "\n",
      "Collecting top-k patch coordinates CUB:   0% 0/8 [00:00<?, ?it/s]"
     ]
    },
    {
     "name": "stdout",
     "output_type": "stream",
     "text": [
      "Writing CSV file with top k image patches..\n"
     ]
    },
    {
     "name": "stderr",
     "output_type": "stream",
     "text": [
      "Collecting top-k patch coordinates CUB: 100% 8/8 [00:00<00:00, 126.91it/s]"
     ]
    },
    {
     "name": "stdout",
     "output_type": "stream",
     "text": [
      "Warning: image patches included in topk, but similarity < 0.1! This might unfairly reduce the purity metric because prototype has less than k similar image patches. You could consider reducing k for prototypes set()\n"
     ]
    },
    {
     "name": "stderr",
     "output_type": "stream",
     "text": [
      "\n",
      "Collecting top-k patch coordinates CUB:   0% 0/5 [00:00<?, ?it/s]"
     ]
    },
    {
     "name": "stdout",
     "output_type": "stream",
     "text": [
      "Writing CSV file with top k image patches..\n"
     ]
    },
    {
     "name": "stderr",
     "output_type": "stream",
     "text": [
      "Collecting top-k patch coordinates CUB: 100% 5/5 [00:00<00:00, 317.22it/s]"
     ]
    },
    {
     "name": "stdout",
     "output_type": "stream",
     "text": [
      "Warning: image patches included in topk, but similarity < 0.1! This might unfairly reduce the purity metric because prototype has less than k similar image patches. You could consider reducing k for prototypes set()\n"
     ]
    },
    {
     "name": "stderr",
     "output_type": "stream",
     "text": [
      "\n",
      "Collecting top-k patch coordinates CUB:   0% 0/5 [00:00<?, ?it/s]"
     ]
    },
    {
     "name": "stdout",
     "output_type": "stream",
     "text": [
      "Writing CSV file with top k image patches..\n"
     ]
    },
    {
     "name": "stderr",
     "output_type": "stream",
     "text": [
      "Collecting top-k patch coordinates CUB: 100% 5/5 [00:00<00:00, 325.61it/s]"
     ]
    },
    {
     "name": "stdout",
     "output_type": "stream",
     "text": [
      "Warning: image patches included in topk, but similarity < 0.1! This might unfairly reduce the purity metric because prototype has less than k similar image patches. You could consider reducing k for prototypes set()\n"
     ]
    },
    {
     "name": "stderr",
     "output_type": "stream",
     "text": [
      "\n",
      "Collecting top-k patch coordinates CUB:   0% 0/5 [00:00<?, ?it/s]"
     ]
    },
    {
     "name": "stdout",
     "output_type": "stream",
     "text": [
      "Writing CSV file with top k image patches..\n"
     ]
    },
    {
     "name": "stderr",
     "output_type": "stream",
     "text": [
      "Collecting top-k patch coordinates CUB: 100% 5/5 [00:00<00:00, 321.58it/s]"
     ]
    },
    {
     "name": "stdout",
     "output_type": "stream",
     "text": [
      "Warning: image patches included in topk, but similarity < 0.1! This might unfairly reduce the purity metric because prototype has less than k similar image patches. You could consider reducing k for prototypes set()\n"
     ]
    },
    {
     "name": "stderr",
     "output_type": "stream",
     "text": [
      "\n",
      "Collecting top-k patch coordinates CUB:   0% 0/5 [00:00<?, ?it/s]"
     ]
    },
    {
     "name": "stdout",
     "output_type": "stream",
     "text": [
      "Writing CSV file with top k image patches..\n"
     ]
    },
    {
     "name": "stderr",
     "output_type": "stream",
     "text": [
      "Collecting top-k patch coordinates CUB: 100% 5/5 [00:00<00:00, 326.25it/s]"
     ]
    },
    {
     "name": "stdout",
     "output_type": "stream",
     "text": [
      "Warning: image patches included in topk, but similarity < 0.1! This might unfairly reduce the purity metric because prototype has less than k similar image patches. You could consider reducing k for prototypes set()\n"
     ]
    },
    {
     "name": "stderr",
     "output_type": "stream",
     "text": [
      "\n",
      "Collecting top-k patch coordinates CUB:   0% 0/4 [00:00<?, ?it/s]"
     ]
    },
    {
     "name": "stdout",
     "output_type": "stream",
     "text": [
      "Writing CSV file with top k image patches..\n"
     ]
    },
    {
     "name": "stderr",
     "output_type": "stream",
     "text": [
      "Collecting top-k patch coordinates CUB: 100% 4/4 [00:00<00:00, 302.38it/s]"
     ]
    },
    {
     "name": "stdout",
     "output_type": "stream",
     "text": [
      "Warning: image patches included in topk, but similarity < 0.1! This might unfairly reduce the purity metric because prototype has less than k similar image patches. You could consider reducing k for prototypes set()\n"
     ]
    },
    {
     "name": "stderr",
     "output_type": "stream",
     "text": [
      "\n",
      "Collecting top-k patch coordinates CUB:   0% 0/5 [00:00<?, ?it/s]"
     ]
    },
    {
     "name": "stdout",
     "output_type": "stream",
     "text": [
      "Writing CSV file with top k image patches..\n"
     ]
    },
    {
     "name": "stderr",
     "output_type": "stream",
     "text": [
      "Collecting top-k patch coordinates CUB: 100% 5/5 [00:00<00:00, 319.17it/s]"
     ]
    },
    {
     "name": "stdout",
     "output_type": "stream",
     "text": [
      "Warning: image patches included in topk, but similarity < 0.1! This might unfairly reduce the purity metric because prototype has less than k similar image patches. You could consider reducing k for prototypes set()\n"
     ]
    },
    {
     "name": "stderr",
     "output_type": "stream",
     "text": [
      "\n",
      "Collecting top-k patch coordinates CUB:   0% 0/12 [00:00<?, ?it/s]"
     ]
    },
    {
     "name": "stdout",
     "output_type": "stream",
     "text": [
      "Writing CSV file with top k image patches..\n"
     ]
    },
    {
     "name": "stderr",
     "output_type": "stream",
     "text": [
      "Collecting top-k patch coordinates CUB: 100% 12/12 [00:01<00:00,  7.42it/s]"
     ]
    },
    {
     "name": "stdout",
     "output_type": "stream",
     "text": [
      "Warning: image patches included in topk, but similarity < 0.1! This might unfairly reduce the purity metric because prototype has less than k similar image patches. You could consider reducing k for prototypes {19}\n"
     ]
    },
    {
     "name": "stderr",
     "output_type": "stream",
     "text": [
      "\n",
      "Collecting top-k patch coordinates CUB:   0% 0/7 [00:00<?, ?it/s]"
     ]
    },
    {
     "name": "stdout",
     "output_type": "stream",
     "text": [
      "Writing CSV file with top k image patches..\n"
     ]
    },
    {
     "name": "stderr",
     "output_type": "stream",
     "text": [
      "Collecting top-k patch coordinates CUB: 100% 7/7 [00:00<00:00, 91.71it/s]"
     ]
    },
    {
     "name": "stdout",
     "output_type": "stream",
     "text": [
      "Warning: image patches included in topk, but similarity < 0.1! This might unfairly reduce the purity metric because prototype has less than k similar image patches. You could consider reducing k for prototypes set()\n"
     ]
    },
    {
     "name": "stderr",
     "output_type": "stream",
     "text": [
      "\n",
      "Collecting top-k patch coordinates CUB:   0% 0/6 [00:00<?, ?it/s]"
     ]
    },
    {
     "name": "stdout",
     "output_type": "stream",
     "text": [
      "Writing CSV file with top k image patches..\n"
     ]
    },
    {
     "name": "stderr",
     "output_type": "stream",
     "text": [
      "Collecting top-k patch coordinates CUB: 100% 6/6 [00:00<00:00, 153.62it/s]"
     ]
    },
    {
     "name": "stdout",
     "output_type": "stream",
     "text": [
      "Warning: image patches included in topk, but similarity < 0.1! This might unfairly reduce the purity metric because prototype has less than k similar image patches. You could consider reducing k for prototypes set()\n"
     ]
    },
    {
     "name": "stderr",
     "output_type": "stream",
     "text": [
      "\n",
      "Collecting top-k patch coordinates CUB:   0% 0/5 [00:00<?, ?it/s]"
     ]
    },
    {
     "name": "stdout",
     "output_type": "stream",
     "text": [
      "Writing CSV file with top k image patches..\n"
     ]
    },
    {
     "name": "stderr",
     "output_type": "stream",
     "text": [
      "Collecting top-k patch coordinates CUB: 100% 5/5 [00:00<00:00, 194.20it/s]"
     ]
    },
    {
     "name": "stdout",
     "output_type": "stream",
     "text": [
      "Warning: image patches included in topk, but similarity < 0.1! This might unfairly reduce the purity metric because prototype has less than k similar image patches. You could consider reducing k for prototypes set()\n"
     ]
    },
    {
     "name": "stderr",
     "output_type": "stream",
     "text": [
      "\n",
      "Collecting top-k patch coordinates CUB:   0% 0/8 [00:00<?, ?it/s]"
     ]
    },
    {
     "name": "stdout",
     "output_type": "stream",
     "text": [
      "Writing CSV file with top k image patches..\n"
     ]
    },
    {
     "name": "stderr",
     "output_type": "stream",
     "text": [
      "Collecting top-k patch coordinates CUB: 100% 8/8 [00:01<00:00,  7.40it/s]"
     ]
    },
    {
     "name": "stdout",
     "output_type": "stream",
     "text": [
      "Warning: image patches included in topk, but similarity < 0.1! This might unfairly reduce the purity metric because prototype has less than k similar image patches. You could consider reducing k for prototypes {19}\n"
     ]
    },
    {
     "name": "stderr",
     "output_type": "stream",
     "text": [
      "\n",
      "Collecting top-k patch coordinates CUB:   0% 0/7 [00:00<?, ?it/s]"
     ]
    },
    {
     "name": "stdout",
     "output_type": "stream",
     "text": [
      "Writing CSV file with top k image patches..\n"
     ]
    },
    {
     "name": "stderr",
     "output_type": "stream",
     "text": [
      "Collecting top-k patch coordinates CUB: 100% 7/7 [00:00<00:00, 95.62it/s]"
     ]
    },
    {
     "name": "stdout",
     "output_type": "stream",
     "text": [
      "Warning: image patches included in topk, but similarity < 0.1! This might unfairly reduce the purity metric because prototype has less than k similar image patches. You could consider reducing k for prototypes set()\n"
     ]
    },
    {
     "name": "stderr",
     "output_type": "stream",
     "text": [
      "\n",
      "Collecting top-k patch coordinates CUB:   0% 0/8 [00:00<?, ?it/s]"
     ]
    },
    {
     "name": "stdout",
     "output_type": "stream",
     "text": [
      "Writing CSV file with top k image patches..\n"
     ]
    },
    {
     "name": "stderr",
     "output_type": "stream",
     "text": [
      "Collecting top-k patch coordinates CUB: 100% 8/8 [00:00<00:00, 78.40it/s]"
     ]
    },
    {
     "name": "stdout",
     "output_type": "stream",
     "text": [
      "Warning: image patches included in topk, but similarity < 0.1! This might unfairly reduce the purity metric because prototype has less than k similar image patches. You could consider reducing k for prototypes set()\n"
     ]
    },
    {
     "name": "stderr",
     "output_type": "stream",
     "text": [
      "\n",
      "Collecting top-k patch coordinates CUB:   0% 0/6 [00:00<?, ?it/s]"
     ]
    },
    {
     "name": "stdout",
     "output_type": "stream",
     "text": [
      "Writing CSV file with top k image patches..\n"
     ]
    },
    {
     "name": "stderr",
     "output_type": "stream",
     "text": [
      "Collecting top-k patch coordinates CUB: 100% 6/6 [00:00<00:00, 211.85it/s]"
     ]
    },
    {
     "name": "stdout",
     "output_type": "stream",
     "text": [
      "Warning: image patches included in topk, but similarity < 0.1! This might unfairly reduce the purity metric because prototype has less than k similar image patches. You could consider reducing k for prototypes set()\n"
     ]
    },
    {
     "name": "stderr",
     "output_type": "stream",
     "text": [
      "\n",
      "Collecting top-k patch coordinates CUB:   0% 0/5 [00:00<?, ?it/s]"
     ]
    },
    {
     "name": "stdout",
     "output_type": "stream",
     "text": [
      "Writing CSV file with top k image patches..\n"
     ]
    },
    {
     "name": "stderr",
     "output_type": "stream",
     "text": [
      "Collecting top-k patch coordinates CUB: 100% 5/5 [00:00<00:00, 215.06it/s]"
     ]
    },
    {
     "name": "stdout",
     "output_type": "stream",
     "text": [
      "Warning: image patches included in topk, but similarity < 0.1! This might unfairly reduce the purity metric because prototype has less than k similar image patches. You could consider reducing k for prototypes set()\n"
     ]
    },
    {
     "name": "stderr",
     "output_type": "stream",
     "text": [
      "\n",
      "Collecting top-k patch coordinates CUB:   0% 0/11 [00:00<?, ?it/s]"
     ]
    },
    {
     "name": "stdout",
     "output_type": "stream",
     "text": [
      "Writing CSV file with top k image patches..\n"
     ]
    },
    {
     "name": "stderr",
     "output_type": "stream",
     "text": [
      "Collecting top-k patch coordinates CUB: 100% 11/11 [00:00<00:00, 11.10it/s]"
     ]
    },
    {
     "name": "stdout",
     "output_type": "stream",
     "text": [
      "Warning: image patches included in topk, but similarity < 0.1! This might unfairly reduce the purity metric because prototype has less than k similar image patches. You could consider reducing k for prototypes {19}\n"
     ]
    },
    {
     "name": "stderr",
     "output_type": "stream",
     "text": [
      "\n",
      "Collecting top-k patch coordinates CUB:   0% 0/8 [00:00<?, ?it/s]"
     ]
    },
    {
     "name": "stdout",
     "output_type": "stream",
     "text": [
      "Writing CSV file with top k image patches..\n"
     ]
    },
    {
     "name": "stderr",
     "output_type": "stream",
     "text": [
      "Collecting top-k patch coordinates CUB: 100% 8/8 [00:00<00:00, 82.33it/s]"
     ]
    },
    {
     "name": "stdout",
     "output_type": "stream",
     "text": [
      "Warning: image patches included in topk, but similarity < 0.1! This might unfairly reduce the purity metric because prototype has less than k similar image patches. You could consider reducing k for prototypes set()\n"
     ]
    },
    {
     "name": "stderr",
     "output_type": "stream",
     "text": [
      "\n",
      "Collecting top-k patch coordinates CUB:   0% 0/6 [00:00<?, ?it/s]"
     ]
    },
    {
     "name": "stdout",
     "output_type": "stream",
     "text": [
      "Writing CSV file with top k image patches..\n"
     ]
    },
    {
     "name": "stderr",
     "output_type": "stream",
     "text": [
      "Collecting top-k patch coordinates CUB: 100% 6/6 [00:00<00:00, 144.43it/s]"
     ]
    },
    {
     "name": "stdout",
     "output_type": "stream",
     "text": [
      "Warning: image patches included in topk, but similarity < 0.1! This might unfairly reduce the purity metric because prototype has less than k similar image patches. You could consider reducing k for prototypes set()\n"
     ]
    },
    {
     "name": "stderr",
     "output_type": "stream",
     "text": [
      "\n",
      "Collecting top-k patch coordinates CUB:   0% 0/10 [00:00<?, ?it/s]"
     ]
    },
    {
     "name": "stdout",
     "output_type": "stream",
     "text": [
      "Writing CSV file with top k image patches..\n"
     ]
    },
    {
     "name": "stderr",
     "output_type": "stream",
     "text": [
      "Collecting top-k patch coordinates CUB: 100% 10/10 [00:00<00:00, 92.89it/s]"
     ]
    },
    {
     "name": "stdout",
     "output_type": "stream",
     "text": [
      "Warning: image patches included in topk, but similarity < 0.1! This might unfairly reduce the purity metric because prototype has less than k similar image patches. You could consider reducing k for prototypes set()\n"
     ]
    },
    {
     "name": "stderr",
     "output_type": "stream",
     "text": [
      "\n",
      "Collecting top-k patch coordinates CUB:   0% 0/5 [00:00<?, ?it/s]"
     ]
    },
    {
     "name": "stdout",
     "output_type": "stream",
     "text": [
      "Writing CSV file with top k image patches..\n"
     ]
    },
    {
     "name": "stderr",
     "output_type": "stream",
     "text": [
      "Collecting top-k patch coordinates CUB: 100% 5/5 [00:00<00:00, 310.65it/s]"
     ]
    },
    {
     "name": "stdout",
     "output_type": "stream",
     "text": [
      "Warning: image patches included in topk, but similarity < 0.1! This might unfairly reduce the purity metric because prototype has less than k similar image patches. You could consider reducing k for prototypes set()\n"
     ]
    },
    {
     "name": "stderr",
     "output_type": "stream",
     "text": [
      "\n",
      "Collecting top-k patch coordinates CUB:   0% 0/5 [00:00<?, ?it/s]"
     ]
    },
    {
     "name": "stdout",
     "output_type": "stream",
     "text": [
      "Writing CSV file with top k image patches..\n"
     ]
    },
    {
     "name": "stderr",
     "output_type": "stream",
     "text": [
      "Collecting top-k patch coordinates CUB: 100% 5/5 [00:00<00:00, 319.09it/s]"
     ]
    },
    {
     "name": "stdout",
     "output_type": "stream",
     "text": [
      "Warning: image patches included in topk, but similarity < 0.1! This might unfairly reduce the purity metric because prototype has less than k similar image patches. You could consider reducing k for prototypes set()\n"
     ]
    },
    {
     "name": "stderr",
     "output_type": "stream",
     "text": [
      "\n",
      "Collecting top-k patch coordinates CUB:   0% 0/13 [00:00<?, ?it/s]"
     ]
    },
    {
     "name": "stdout",
     "output_type": "stream",
     "text": [
      "Writing CSV file with top k image patches..\n"
     ]
    },
    {
     "name": "stderr",
     "output_type": "stream",
     "text": [
      "Collecting top-k patch coordinates CUB: 100% 13/13 [00:00<00:00, 20.68it/s]"
     ]
    },
    {
     "name": "stdout",
     "output_type": "stream",
     "text": [
      "Warning: image patches included in topk, but similarity < 0.1! This might unfairly reduce the purity metric because prototype has less than k similar image patches. You could consider reducing k for prototypes {19}\n"
     ]
    },
    {
     "name": "stderr",
     "output_type": "stream",
     "text": [
      "\n",
      "Collecting top-k patch coordinates CUB:   0% 0/11 [00:00<?, ?it/s]"
     ]
    },
    {
     "name": "stdout",
     "output_type": "stream",
     "text": [
      "Writing CSV file with top k image patches..\n"
     ]
    },
    {
     "name": "stderr",
     "output_type": "stream",
     "text": [
      "Collecting top-k patch coordinates CUB: 100% 11/11 [00:00<00:00, 17.84it/s]"
     ]
    },
    {
     "name": "stdout",
     "output_type": "stream",
     "text": [
      "Warning: image patches included in topk, but similarity < 0.1! This might unfairly reduce the purity metric because prototype has less than k similar image patches. You could consider reducing k for prototypes set()\n"
     ]
    },
    {
     "name": "stderr",
     "output_type": "stream",
     "text": [
      "\n",
      "Collecting top-k patch coordinates CUB:   0% 0/7 [00:00<?, ?it/s]"
     ]
    },
    {
     "name": "stdout",
     "output_type": "stream",
     "text": [
      "Writing CSV file with top k image patches..\n"
     ]
    },
    {
     "name": "stderr",
     "output_type": "stream",
     "text": [
      "Collecting top-k patch coordinates CUB: 100% 7/7 [00:00<00:00, 115.81it/s]"
     ]
    },
    {
     "name": "stdout",
     "output_type": "stream",
     "text": [
      "Warning: image patches included in topk, but similarity < 0.1! This might unfairly reduce the purity metric because prototype has less than k similar image patches. You could consider reducing k for prototypes set()\n"
     ]
    },
    {
     "name": "stderr",
     "output_type": "stream",
     "text": [
      "\n",
      "Collecting top-k patch coordinates CUB:   0% 0/5 [00:00<?, ?it/s]"
     ]
    },
    {
     "name": "stdout",
     "output_type": "stream",
     "text": [
      "Writing CSV file with top k image patches..\n"
     ]
    },
    {
     "name": "stderr",
     "output_type": "stream",
     "text": [
      "Collecting top-k patch coordinates CUB: 100% 5/5 [00:00<00:00, 213.24it/s]"
     ]
    },
    {
     "name": "stdout",
     "output_type": "stream",
     "text": [
      "Warning: image patches included in topk, but similarity < 0.1! This might unfairly reduce the purity metric because prototype has less than k similar image patches. You could consider reducing k for prototypes set()\n"
     ]
    },
    {
     "name": "stderr",
     "output_type": "stream",
     "text": [
      "\n",
      "Collecting top-k patch coordinates CUB:   0% 0/6 [00:00<?, ?it/s]"
     ]
    },
    {
     "name": "stdout",
     "output_type": "stream",
     "text": [
      "Writing CSV file with top k image patches..\n"
     ]
    },
    {
     "name": "stderr",
     "output_type": "stream",
     "text": [
      "Collecting top-k patch coordinates CUB: 100% 6/6 [00:00<00:00, 210.53it/s]"
     ]
    },
    {
     "name": "stdout",
     "output_type": "stream",
     "text": [
      "Warning: image patches included in topk, but similarity < 0.1! This might unfairly reduce the purity metric because prototype has less than k similar image patches. You could consider reducing k for prototypes set()\n"
     ]
    },
    {
     "name": "stderr",
     "output_type": "stream",
     "text": [
      "\n",
      "Collecting top-k patch coordinates CUB:   0% 0/4 [00:00<?, ?it/s]"
     ]
    },
    {
     "name": "stdout",
     "output_type": "stream",
     "text": [
      "Writing CSV file with top k image patches..\n"
     ]
    },
    {
     "name": "stderr",
     "output_type": "stream",
     "text": [
      "Collecting top-k patch coordinates CUB: 100% 4/4 [00:00<00:00, 314.10it/s]"
     ]
    },
    {
     "name": "stdout",
     "output_type": "stream",
     "text": [
      "Warning: image patches included in topk, but similarity < 0.1! This might unfairly reduce the purity metric because prototype has less than k similar image patches. You could consider reducing k for prototypes set()\n"
     ]
    },
    {
     "name": "stderr",
     "output_type": "stream",
     "text": [
      "\n",
      "Collecting top-k patch coordinates CUB:   0% 0/10 [00:00<?, ?it/s]"
     ]
    },
    {
     "name": "stdout",
     "output_type": "stream",
     "text": [
      "Writing CSV file with top k image patches..\n"
     ]
    },
    {
     "name": "stderr",
     "output_type": "stream",
     "text": [
      "Collecting top-k patch coordinates CUB: 100% 10/10 [00:00<00:00, 109.54it/s]"
     ]
    },
    {
     "name": "stdout",
     "output_type": "stream",
     "text": [
      "Warning: image patches included in topk, but similarity < 0.1! This might unfairly reduce the purity metric because prototype has less than k similar image patches. You could consider reducing k for prototypes set()\n"
     ]
    },
    {
     "name": "stderr",
     "output_type": "stream",
     "text": [
      "\n",
      "Collecting top-k patch coordinates CUB:   0% 0/9 [00:00<?, ?it/s]"
     ]
    },
    {
     "name": "stdout",
     "output_type": "stream",
     "text": [
      "Writing CSV file with top k image patches..\n"
     ]
    },
    {
     "name": "stderr",
     "output_type": "stream",
     "text": [
      "Collecting top-k patch coordinates CUB: 100% 9/9 [00:00<00:00, 25.34it/s]"
     ]
    },
    {
     "name": "stdout",
     "output_type": "stream",
     "text": [
      "Warning: image patches included in topk, but similarity < 0.1! This might unfairly reduce the purity metric because prototype has less than k similar image patches. You could consider reducing k for prototypes set()\n"
     ]
    },
    {
     "name": "stderr",
     "output_type": "stream",
     "text": [
      "\n",
      "Collecting top-k patch coordinates CUB:   0% 0/11 [00:00<?, ?it/s]"
     ]
    },
    {
     "name": "stdout",
     "output_type": "stream",
     "text": [
      "Writing CSV file with top k image patches..\n"
     ]
    },
    {
     "name": "stderr",
     "output_type": "stream",
     "text": [
      "Collecting top-k patch coordinates CUB: 100% 11/11 [00:00<00:00, 50.88it/s]"
     ]
    },
    {
     "name": "stdout",
     "output_type": "stream",
     "text": [
      "Warning: image patches included in topk, but similarity < 0.1! This might unfairly reduce the purity metric because prototype has less than k similar image patches. You could consider reducing k for prototypes set()\n"
     ]
    },
    {
     "name": "stderr",
     "output_type": "stream",
     "text": [
      "\n",
      "Collecting top-k patch coordinates CUB:   0% 0/8 [00:00<?, ?it/s]"
     ]
    },
    {
     "name": "stdout",
     "output_type": "stream",
     "text": [
      "Writing CSV file with top k image patches..\n"
     ]
    },
    {
     "name": "stderr",
     "output_type": "stream",
     "text": [
      "Collecting top-k patch coordinates CUB: 100% 8/8 [00:00<00:00, 17.92it/s]"
     ]
    },
    {
     "name": "stdout",
     "output_type": "stream",
     "text": [
      "Warning: image patches included in topk, but similarity < 0.1! This might unfairly reduce the purity metric because prototype has less than k similar image patches. You could consider reducing k for prototypes set()\n"
     ]
    },
    {
     "name": "stderr",
     "output_type": "stream",
     "text": [
      "\n",
      "Collecting top-k patch coordinates CUB:   0% 0/6 [00:00<?, ?it/s]"
     ]
    },
    {
     "name": "stdout",
     "output_type": "stream",
     "text": [
      "Writing CSV file with top k image patches..\n"
     ]
    },
    {
     "name": "stderr",
     "output_type": "stream",
     "text": [
      "Collecting top-k patch coordinates CUB: 100% 6/6 [00:00<00:00, 176.83it/s]"
     ]
    },
    {
     "name": "stdout",
     "output_type": "stream",
     "text": [
      "Warning: image patches included in topk, but similarity < 0.1! This might unfairly reduce the purity metric because prototype has less than k similar image patches. You could consider reducing k for prototypes set()\n"
     ]
    },
    {
     "name": "stderr",
     "output_type": "stream",
     "text": [
      "\n",
      "Collecting top-k patch coordinates CUB:   0% 0/7 [00:00<?, ?it/s]"
     ]
    },
    {
     "name": "stdout",
     "output_type": "stream",
     "text": [
      "Writing CSV file with top k image patches..\n"
     ]
    },
    {
     "name": "stderr",
     "output_type": "stream",
     "text": [
      "Collecting top-k patch coordinates CUB: 100% 7/7 [00:00<00:00, 339.93it/s]"
     ]
    },
    {
     "name": "stdout",
     "output_type": "stream",
     "text": [
      "Warning: image patches included in topk, but similarity < 0.1! This might unfairly reduce the purity metric because prototype has less than k similar image patches. You could consider reducing k for prototypes set()\n"
     ]
    },
    {
     "name": "stderr",
     "output_type": "stream",
     "text": [
      "\n",
      "Collecting top-k patch coordinates CUB:   0% 0/4 [00:00<?, ?it/s]"
     ]
    },
    {
     "name": "stdout",
     "output_type": "stream",
     "text": [
      "Writing CSV file with top k image patches..\n"
     ]
    },
    {
     "name": "stderr",
     "output_type": "stream",
     "text": [
      "Collecting top-k patch coordinates CUB: 100% 4/4 [00:00<00:00, 317.06it/s]"
     ]
    },
    {
     "name": "stdout",
     "output_type": "stream",
     "text": [
      "Warning: image patches included in topk, but similarity < 0.1! This might unfairly reduce the purity metric because prototype has less than k similar image patches. You could consider reducing k for prototypes set()\n"
     ]
    },
    {
     "name": "stderr",
     "output_type": "stream",
     "text": [
      "\n",
      "Collecting top-k patch coordinates CUB:   0% 0/8 [00:00<?, ?it/s]"
     ]
    },
    {
     "name": "stdout",
     "output_type": "stream",
     "text": [
      "Writing CSV file with top k image patches..\n"
     ]
    },
    {
     "name": "stderr",
     "output_type": "stream",
     "text": [
      "Collecting top-k patch coordinates CUB: 100% 8/8 [00:00<00:00, 140.65it/s]"
     ]
    },
    {
     "name": "stdout",
     "output_type": "stream",
     "text": [
      "Warning: image patches included in topk, but similarity < 0.1! This might unfairly reduce the purity metric because prototype has less than k similar image patches. You could consider reducing k for prototypes set()\n"
     ]
    },
    {
     "name": "stderr",
     "output_type": "stream",
     "text": [
      "\n",
      "Collecting top-k patch coordinates CUB:   0% 0/11 [00:00<?, ?it/s]"
     ]
    },
    {
     "name": "stdout",
     "output_type": "stream",
     "text": [
      "Writing CSV file with top k image patches..\n"
     ]
    },
    {
     "name": "stderr",
     "output_type": "stream",
     "text": [
      "Collecting top-k patch coordinates CUB: 100% 11/11 [00:00<00:00, 33.00it/s]"
     ]
    },
    {
     "name": "stdout",
     "output_type": "stream",
     "text": [
      "Warning: image patches included in topk, but similarity < 0.1! This might unfairly reduce the purity metric because prototype has less than k similar image patches. You could consider reducing k for prototypes {19}\n"
     ]
    },
    {
     "name": "stderr",
     "output_type": "stream",
     "text": [
      "\n",
      "Collecting top-k patch coordinates CUB:   0% 0/9 [00:00<?, ?it/s]"
     ]
    },
    {
     "name": "stdout",
     "output_type": "stream",
     "text": [
      "Writing CSV file with top k image patches..\n"
     ]
    },
    {
     "name": "stderr",
     "output_type": "stream",
     "text": [
      "Collecting top-k patch coordinates CUB: 100% 9/9 [00:00<00:00, 73.57it/s]"
     ]
    },
    {
     "name": "stdout",
     "output_type": "stream",
     "text": [
      "Warning: image patches included in topk, but similarity < 0.1! This might unfairly reduce the purity metric because prototype has less than k similar image patches. You could consider reducing k for prototypes set()\n"
     ]
    },
    {
     "name": "stderr",
     "output_type": "stream",
     "text": [
      "\n",
      "Collecting top-k patch coordinates CUB:   0% 0/5 [00:00<?, ?it/s]"
     ]
    },
    {
     "name": "stdout",
     "output_type": "stream",
     "text": [
      "Writing CSV file with top k image patches..\n"
     ]
    },
    {
     "name": "stderr",
     "output_type": "stream",
     "text": [
      "Collecting top-k patch coordinates CUB: 100% 5/5 [00:00<00:00, 216.44it/s]"
     ]
    },
    {
     "name": "stdout",
     "output_type": "stream",
     "text": [
      "Warning: image patches included in topk, but similarity < 0.1! This might unfairly reduce the purity metric because prototype has less than k similar image patches. You could consider reducing k for prototypes set()\n"
     ]
    },
    {
     "name": "stderr",
     "output_type": "stream",
     "text": [
      "\n",
      "Collecting top-k patch coordinates CUB:   0% 0/8 [00:00<?, ?it/s]"
     ]
    },
    {
     "name": "stdout",
     "output_type": "stream",
     "text": [
      "Writing CSV file with top k image patches..\n"
     ]
    },
    {
     "name": "stderr",
     "output_type": "stream",
     "text": [
      "Collecting top-k patch coordinates CUB: 100% 8/8 [00:00<00:00, 18.52it/s]"
     ]
    },
    {
     "name": "stdout",
     "output_type": "stream",
     "text": [
      "Warning: image patches included in topk, but similarity < 0.1! This might unfairly reduce the purity metric because prototype has less than k similar image patches. You could consider reducing k for prototypes set()\n"
     ]
    },
    {
     "name": "stderr",
     "output_type": "stream",
     "text": [
      "\n",
      "Collecting top-k patch coordinates CUB:   0% 0/6 [00:00<?, ?it/s]"
     ]
    },
    {
     "name": "stdout",
     "output_type": "stream",
     "text": [
      "Writing CSV file with top k image patches..\n"
     ]
    },
    {
     "name": "stderr",
     "output_type": "stream",
     "text": [
      "Collecting top-k patch coordinates CUB: 100% 6/6 [00:00<00:00, 210.42it/s]"
     ]
    },
    {
     "name": "stdout",
     "output_type": "stream",
     "text": [
      "Warning: image patches included in topk, but similarity < 0.1! This might unfairly reduce the purity metric because prototype has less than k similar image patches. You could consider reducing k for prototypes set()\n"
     ]
    },
    {
     "name": "stderr",
     "output_type": "stream",
     "text": [
      "\n",
      "Collecting top-k patch coordinates CUB:   0% 0/4 [00:00<?, ?it/s]"
     ]
    },
    {
     "name": "stdout",
     "output_type": "stream",
     "text": [
      "Writing CSV file with top k image patches..\n"
     ]
    },
    {
     "name": "stderr",
     "output_type": "stream",
     "text": [
      "Collecting top-k patch coordinates CUB: 100% 4/4 [00:00<00:00, 190.70it/s]"
     ]
    },
    {
     "name": "stdout",
     "output_type": "stream",
     "text": [
      "Warning: image patches included in topk, but similarity < 0.1! This might unfairly reduce the purity metric because prototype has less than k similar image patches. You could consider reducing k for prototypes set()\n"
     ]
    },
    {
     "name": "stderr",
     "output_type": "stream",
     "text": [
      "\n",
      "Collecting top-k patch coordinates CUB:   0% 0/5 [00:00<?, ?it/s]"
     ]
    },
    {
     "name": "stdout",
     "output_type": "stream",
     "text": [
      "Writing CSV file with top k image patches..\n"
     ]
    },
    {
     "name": "stderr",
     "output_type": "stream",
     "text": [
      "Collecting top-k patch coordinates CUB: 100% 5/5 [00:00<00:00, 327.00it/s]"
     ]
    },
    {
     "name": "stdout",
     "output_type": "stream",
     "text": [
      "Warning: image patches included in topk, but similarity < 0.1! This might unfairly reduce the purity metric because prototype has less than k similar image patches. You could consider reducing k for prototypes set()\n"
     ]
    },
    {
     "name": "stderr",
     "output_type": "stream",
     "text": [
      "\n",
      "Collecting top-k patch coordinates CUB:   0% 0/10 [00:00<?, ?it/s]"
     ]
    },
    {
     "name": "stdout",
     "output_type": "stream",
     "text": [
      "Writing CSV file with top k image patches..\n"
     ]
    },
    {
     "name": "stderr",
     "output_type": "stream",
     "text": [
      "Collecting top-k patch coordinates CUB: 100% 10/10 [00:00<00:00, 44.48it/s]"
     ]
    },
    {
     "name": "stdout",
     "output_type": "stream",
     "text": [
      "Warning: image patches included in topk, but similarity < 0.1! This might unfairly reduce the purity metric because prototype has less than k similar image patches. You could consider reducing k for prototypes {19}\n"
     ]
    },
    {
     "name": "stderr",
     "output_type": "stream",
     "text": [
      "\n",
      "Collecting top-k patch coordinates CUB:   0% 0/7 [00:00<?, ?it/s]"
     ]
    },
    {
     "name": "stdout",
     "output_type": "stream",
     "text": [
      "Writing CSV file with top k image patches..\n"
     ]
    },
    {
     "name": "stderr",
     "output_type": "stream",
     "text": [
      "Collecting top-k patch coordinates CUB: 100% 7/7 [00:00<00:00, 115.72it/s]"
     ]
    },
    {
     "name": "stdout",
     "output_type": "stream",
     "text": [
      "Warning: image patches included in topk, but similarity < 0.1! This might unfairly reduce the purity metric because prototype has less than k similar image patches. You could consider reducing k for prototypes set()\n"
     ]
    },
    {
     "name": "stderr",
     "output_type": "stream",
     "text": [
      "\n",
      "Collecting top-k patch coordinates CUB:   0% 0/6 [00:00<?, ?it/s]"
     ]
    },
    {
     "name": "stdout",
     "output_type": "stream",
     "text": [
      "Writing CSV file with top k image patches..\n"
     ]
    },
    {
     "name": "stderr",
     "output_type": "stream",
     "text": [
      "Collecting top-k patch coordinates CUB: 100% 6/6 [00:00<00:00, 121.86it/s]"
     ]
    },
    {
     "name": "stdout",
     "output_type": "stream",
     "text": [
      "Warning: image patches included in topk, but similarity < 0.1! This might unfairly reduce the purity metric because prototype has less than k similar image patches. You could consider reducing k for prototypes set()\n"
     ]
    },
    {
     "name": "stderr",
     "output_type": "stream",
     "text": [
      "\n",
      "Collecting top-k patch coordinates CUB:   0% 0/6 [00:00<?, ?it/s]"
     ]
    },
    {
     "name": "stdout",
     "output_type": "stream",
     "text": [
      "Writing CSV file with top k image patches..\n"
     ]
    },
    {
     "name": "stderr",
     "output_type": "stream",
     "text": [
      "Collecting top-k patch coordinates CUB: 100% 6/6 [00:00<00:00, 178.56it/s]"
     ]
    },
    {
     "name": "stdout",
     "output_type": "stream",
     "text": [
      "Warning: image patches included in topk, but similarity < 0.1! This might unfairly reduce the purity metric because prototype has less than k similar image patches. You could consider reducing k for prototypes set()\n"
     ]
    },
    {
     "name": "stderr",
     "output_type": "stream",
     "text": [
      "\n",
      "Collecting top-k patch coordinates CUB:   0% 0/6 [00:00<?, ?it/s]"
     ]
    },
    {
     "name": "stdout",
     "output_type": "stream",
     "text": [
      "Writing CSV file with top k image patches..\n"
     ]
    },
    {
     "name": "stderr",
     "output_type": "stream",
     "text": [
      "Collecting top-k patch coordinates CUB: 100% 6/6 [00:00<00:00, 329.35it/s]"
     ]
    },
    {
     "name": "stdout",
     "output_type": "stream",
     "text": [
      "Warning: image patches included in topk, but similarity < 0.1! This might unfairly reduce the purity metric because prototype has less than k similar image patches. You could consider reducing k for prototypes set()\n"
     ]
    },
    {
     "name": "stderr",
     "output_type": "stream",
     "text": [
      "\n",
      "Collecting top-k patch coordinates CUB:   0% 0/14 [00:00<?, ?it/s]"
     ]
    },
    {
     "name": "stdout",
     "output_type": "stream",
     "text": [
      "Writing CSV file with top k image patches..\n"
     ]
    },
    {
     "name": "stderr",
     "output_type": "stream",
     "text": [
      "Collecting top-k patch coordinates CUB: 100% 14/14 [00:00<00:00, 66.08it/s]"
     ]
    },
    {
     "name": "stdout",
     "output_type": "stream",
     "text": [
      "Warning: image patches included in topk, but similarity < 0.1! This might unfairly reduce the purity metric because prototype has less than k similar image patches. You could consider reducing k for prototypes {19}\n"
     ]
    },
    {
     "name": "stderr",
     "output_type": "stream",
     "text": [
      "\n",
      "Collecting top-k patch coordinates CUB:   0% 0/6 [00:00<?, ?it/s]"
     ]
    },
    {
     "name": "stdout",
     "output_type": "stream",
     "text": [
      "Writing CSV file with top k image patches..\n"
     ]
    },
    {
     "name": "stderr",
     "output_type": "stream",
     "text": [
      "Collecting top-k patch coordinates CUB: 100% 6/6 [00:00<00:00, 332.02it/s]"
     ]
    },
    {
     "name": "stdout",
     "output_type": "stream",
     "text": [
      "Warning: image patches included in topk, but similarity < 0.1! This might unfairly reduce the purity metric because prototype has less than k similar image patches. You could consider reducing k for prototypes set()\n"
     ]
    },
    {
     "name": "stderr",
     "output_type": "stream",
     "text": [
      "\n",
      "Collecting top-k patch coordinates CUB:   0% 0/6 [00:00<?, ?it/s]"
     ]
    },
    {
     "name": "stdout",
     "output_type": "stream",
     "text": [
      "Writing CSV file with top k image patches..\n"
     ]
    },
    {
     "name": "stderr",
     "output_type": "stream",
     "text": [
      "Collecting top-k patch coordinates CUB: 100% 6/6 [00:00<00:00, 330.53it/s]"
     ]
    },
    {
     "name": "stdout",
     "output_type": "stream",
     "text": [
      "Warning: image patches included in topk, but similarity < 0.1! This might unfairly reduce the purity metric because prototype has less than k similar image patches. You could consider reducing k for prototypes set()\n"
     ]
    },
    {
     "name": "stderr",
     "output_type": "stream",
     "text": [
      "\n",
      "Collecting top-k patch coordinates CUB:   0% 0/10 [00:00<?, ?it/s]"
     ]
    },
    {
     "name": "stdout",
     "output_type": "stream",
     "text": [
      "Writing CSV file with top k image patches..\n"
     ]
    },
    {
     "name": "stderr",
     "output_type": "stream",
     "text": [
      "Collecting top-k patch coordinates CUB: 100% 10/10 [00:00<00:00, 55.07it/s]"
     ]
    },
    {
     "name": "stdout",
     "output_type": "stream",
     "text": [
      "Warning: image patches included in topk, but similarity < 0.1! This might unfairly reduce the purity metric because prototype has less than k similar image patches. You could consider reducing k for prototypes set()\n"
     ]
    },
    {
     "name": "stderr",
     "output_type": "stream",
     "text": [
      "\n",
      "Collecting top-k patch coordinates CUB:   0% 0/7 [00:00<?, ?it/s]"
     ]
    },
    {
     "name": "stdout",
     "output_type": "stream",
     "text": [
      "Writing CSV file with top k image patches..\n"
     ]
    },
    {
     "name": "stderr",
     "output_type": "stream",
     "text": [
      "Collecting top-k patch coordinates CUB: 100% 7/7 [00:00<00:00, 128.09it/s]"
     ]
    },
    {
     "name": "stdout",
     "output_type": "stream",
     "text": [
      "Warning: image patches included in topk, but similarity < 0.1! This might unfairly reduce the purity metric because prototype has less than k similar image patches. You could consider reducing k for prototypes set()\n"
     ]
    },
    {
     "name": "stderr",
     "output_type": "stream",
     "text": [
      "\n",
      "Collecting top-k patch coordinates CUB:   0% 0/7 [00:00<?, ?it/s]"
     ]
    },
    {
     "name": "stdout",
     "output_type": "stream",
     "text": [
      "Writing CSV file with top k image patches..\n"
     ]
    },
    {
     "name": "stderr",
     "output_type": "stream",
     "text": [
      "Collecting top-k patch coordinates CUB: 100% 7/7 [00:00<00:00, 178.93it/s]"
     ]
    },
    {
     "name": "stdout",
     "output_type": "stream",
     "text": [
      "Warning: image patches included in topk, but similarity < 0.1! This might unfairly reduce the purity metric because prototype has less than k similar image patches. You could consider reducing k for prototypes set()\n"
     ]
    },
    {
     "name": "stderr",
     "output_type": "stream",
     "text": [
      "\n",
      "Collecting top-k patch coordinates CUB:   0% 0/5 [00:00<?, ?it/s]"
     ]
    },
    {
     "name": "stdout",
     "output_type": "stream",
     "text": [
      "Writing CSV file with top k image patches..\n"
     ]
    },
    {
     "name": "stderr",
     "output_type": "stream",
     "text": [
      "Collecting top-k patch coordinates CUB: 100% 5/5 [00:00<00:00, 213.16it/s]"
     ]
    },
    {
     "name": "stdout",
     "output_type": "stream",
     "text": [
      "Warning: image patches included in topk, but similarity < 0.1! This might unfairly reduce the purity metric because prototype has less than k similar image patches. You could consider reducing k for prototypes set()\n"
     ]
    },
    {
     "name": "stderr",
     "output_type": "stream",
     "text": [
      "\n",
      "Collecting top-k patch coordinates CUB:   0% 0/5 [00:00<?, ?it/s]"
     ]
    },
    {
     "name": "stdout",
     "output_type": "stream",
     "text": [
      "Writing CSV file with top k image patches..\n"
     ]
    },
    {
     "name": "stderr",
     "output_type": "stream",
     "text": [
      "Collecting top-k patch coordinates CUB: 100% 5/5 [00:00<00:00, 211.40it/s]"
     ]
    },
    {
     "name": "stdout",
     "output_type": "stream",
     "text": [
      "Warning: image patches included in topk, but similarity < 0.1! This might unfairly reduce the purity metric because prototype has less than k similar image patches. You could consider reducing k for prototypes set()\n"
     ]
    },
    {
     "name": "stderr",
     "output_type": "stream",
     "text": [
      "\n",
      "Collecting top-k patch coordinates CUB:   0% 0/5 [00:00<?, ?it/s]"
     ]
    },
    {
     "name": "stdout",
     "output_type": "stream",
     "text": [
      "Writing CSV file with top k image patches..\n"
     ]
    },
    {
     "name": "stderr",
     "output_type": "stream",
     "text": [
      "Collecting top-k patch coordinates CUB: 100% 5/5 [00:00<00:00, 321.39it/s]"
     ]
    },
    {
     "name": "stdout",
     "output_type": "stream",
     "text": [
      "Warning: image patches included in topk, but similarity < 0.1! This might unfairly reduce the purity metric because prototype has less than k similar image patches. You could consider reducing k for prototypes set()\n"
     ]
    },
    {
     "name": "stderr",
     "output_type": "stream",
     "text": [
      "\n",
      "Collecting top-k patch coordinates CUB:   0% 0/5 [00:00<?, ?it/s]"
     ]
    },
    {
     "name": "stdout",
     "output_type": "stream",
     "text": [
      "Writing CSV file with top k image patches..\n"
     ]
    },
    {
     "name": "stderr",
     "output_type": "stream",
     "text": [
      "Collecting top-k patch coordinates CUB: 100% 5/5 [00:00<00:00, 326.43it/s]"
     ]
    },
    {
     "name": "stdout",
     "output_type": "stream",
     "text": [
      "Warning: image patches included in topk, but similarity < 0.1! This might unfairly reduce the purity metric because prototype has less than k similar image patches. You could consider reducing k for prototypes set()\n"
     ]
    },
    {
     "name": "stderr",
     "output_type": "stream",
     "text": [
      "\n",
      "Collecting top-k patch coordinates CUB:   0% 0/10 [00:00<?, ?it/s]"
     ]
    },
    {
     "name": "stdout",
     "output_type": "stream",
     "text": [
      "Writing CSV file with top k image patches..\n"
     ]
    },
    {
     "name": "stderr",
     "output_type": "stream",
     "text": [
      "Collecting top-k patch coordinates CUB: 100% 10/10 [00:00<00:00, 41.81it/s]"
     ]
    },
    {
     "name": "stdout",
     "output_type": "stream",
     "text": [
      "Warning: image patches included in topk, but similarity < 0.1! This might unfairly reduce the purity metric because prototype has less than k similar image patches. You could consider reducing k for prototypes {19}\n"
     ]
    },
    {
     "name": "stderr",
     "output_type": "stream",
     "text": [
      "\n",
      "Collecting top-k patch coordinates CUB:   0% 0/7 [00:00<?, ?it/s]"
     ]
    },
    {
     "name": "stdout",
     "output_type": "stream",
     "text": [
      "Writing CSV file with top k image patches..\n"
     ]
    },
    {
     "name": "stderr",
     "output_type": "stream",
     "text": [
      "Collecting top-k patch coordinates CUB: 100% 7/7 [00:00<00:00, 141.08it/s]"
     ]
    },
    {
     "name": "stdout",
     "output_type": "stream",
     "text": [
      "Warning: image patches included in topk, but similarity < 0.1! This might unfairly reduce the purity metric because prototype has less than k similar image patches. You could consider reducing k for prototypes set()\n"
     ]
    },
    {
     "name": "stderr",
     "output_type": "stream",
     "text": [
      "\n",
      "Collecting top-k patch coordinates CUB:   0% 0/9 [00:00<?, ?it/s]"
     ]
    },
    {
     "name": "stdout",
     "output_type": "stream",
     "text": [
      "Writing CSV file with top k image patches..\n"
     ]
    },
    {
     "name": "stderr",
     "output_type": "stream",
     "text": [
      "Collecting top-k patch coordinates CUB: 100% 9/9 [00:00<00:00, 137.38it/s]"
     ]
    },
    {
     "name": "stdout",
     "output_type": "stream",
     "text": [
      "Warning: image patches included in topk, but similarity < 0.1! This might unfairly reduce the purity metric because prototype has less than k similar image patches. You could consider reducing k for prototypes set()\n"
     ]
    },
    {
     "name": "stderr",
     "output_type": "stream",
     "text": [
      "\n",
      "Collecting top-k patch coordinates CUB:   0% 0/5 [00:00<?, ?it/s]"
     ]
    },
    {
     "name": "stdout",
     "output_type": "stream",
     "text": [
      "Writing CSV file with top k image patches..\n"
     ]
    },
    {
     "name": "stderr",
     "output_type": "stream",
     "text": [
      "Collecting top-k patch coordinates CUB: 100% 5/5 [00:00<00:00, 213.94it/s]"
     ]
    },
    {
     "name": "stdout",
     "output_type": "stream",
     "text": [
      "Warning: image patches included in topk, but similarity < 0.1! This might unfairly reduce the purity metric because prototype has less than k similar image patches. You could consider reducing k for prototypes set()\n"
     ]
    },
    {
     "name": "stderr",
     "output_type": "stream",
     "text": [
      "\n",
      "Collecting top-k patch coordinates CUB:   0% 0/8 [00:00<?, ?it/s]"
     ]
    },
    {
     "name": "stdout",
     "output_type": "stream",
     "text": [
      "Writing CSV file with top k image patches..\n"
     ]
    },
    {
     "name": "stderr",
     "output_type": "stream",
     "text": [
      "Collecting top-k patch coordinates CUB: 100% 8/8 [00:00<00:00, 82.60it/s]\n"
     ]
    },
    {
     "name": "stdout",
     "output_type": "stream",
     "text": [
      "Warning: image patches included in topk, but similarity < 0.1! This might unfairly reduce the purity metric because prototype has less than k similar image patches. You could consider reducing k for prototypes set()\n"
     ]
    },
    {
     "name": "stderr",
     "output_type": "stream",
     "text": [
      "Collecting top-k patch coordinates CUB:   0% 0/4 [00:00<?, ?it/s]"
     ]
    },
    {
     "name": "stdout",
     "output_type": "stream",
     "text": [
      "Writing CSV file with top k image patches..\n"
     ]
    },
    {
     "name": "stderr",
     "output_type": "stream",
     "text": [
      "Collecting top-k patch coordinates CUB: 100% 4/4 [00:00<00:00, 308.77it/s]"
     ]
    },
    {
     "name": "stdout",
     "output_type": "stream",
     "text": [
      "Warning: image patches included in topk, but similarity < 0.1! This might unfairly reduce the purity metric because prototype has less than k similar image patches. You could consider reducing k for prototypes set()\n"
     ]
    },
    {
     "name": "stderr",
     "output_type": "stream",
     "text": [
      "\n",
      "Collecting top-k patch coordinates CUB:   0% 0/5 [00:00<?, ?it/s]"
     ]
    },
    {
     "name": "stdout",
     "output_type": "stream",
     "text": [
      "Writing CSV file with top k image patches..\n"
     ]
    },
    {
     "name": "stderr",
     "output_type": "stream",
     "text": [
      "Collecting top-k patch coordinates CUB: 100% 5/5 [00:00<00:00, 158.21it/s]"
     ]
    },
    {
     "name": "stdout",
     "output_type": "stream",
     "text": [
      "Warning: image patches included in topk, but similarity < 0.1! This might unfairly reduce the purity metric because prototype has less than k similar image patches. You could consider reducing k for prototypes set()\n"
     ]
    },
    {
     "name": "stderr",
     "output_type": "stream",
     "text": [
      "\n",
      "Collecting top-k patch coordinates CUB:   0% 0/5 [00:00<?, ?it/s]"
     ]
    },
    {
     "name": "stdout",
     "output_type": "stream",
     "text": [
      "Writing CSV file with top k image patches..\n"
     ]
    },
    {
     "name": "stderr",
     "output_type": "stream",
     "text": [
      "Collecting top-k patch coordinates CUB: 100% 5/5 [00:00<00:00, 322.56it/s]"
     ]
    },
    {
     "name": "stdout",
     "output_type": "stream",
     "text": [
      "Warning: image patches included in topk, but similarity < 0.1! This might unfairly reduce the purity metric because prototype has less than k similar image patches. You could consider reducing k for prototypes set()\n"
     ]
    },
    {
     "name": "stderr",
     "output_type": "stream",
     "text": [
      "\n",
      "Collecting top-k patch coordinates CUB:   0% 0/5 [00:00<?, ?it/s]"
     ]
    },
    {
     "name": "stdout",
     "output_type": "stream",
     "text": [
      "Writing CSV file with top k image patches..\n"
     ]
    },
    {
     "name": "stderr",
     "output_type": "stream",
     "text": [
      "Collecting top-k patch coordinates CUB: 100% 5/5 [00:00<00:00, 322.00it/s]"
     ]
    },
    {
     "name": "stdout",
     "output_type": "stream",
     "text": [
      "Warning: image patches included in topk, but similarity < 0.1! This might unfairly reduce the purity metric because prototype has less than k similar image patches. You could consider reducing k for prototypes set()\n"
     ]
    },
    {
     "name": "stderr",
     "output_type": "stream",
     "text": [
      "\n",
      "Collecting top-k patch coordinates CUB:   0% 0/6 [00:00<?, ?it/s]"
     ]
    },
    {
     "name": "stdout",
     "output_type": "stream",
     "text": [
      "Writing CSV file with top k image patches..\n"
     ]
    },
    {
     "name": "stderr",
     "output_type": "stream",
     "text": [
      "Collecting top-k patch coordinates CUB: 100% 6/6 [00:00<00:00, 333.68it/s]"
     ]
    },
    {
     "name": "stdout",
     "output_type": "stream",
     "text": [
      "Warning: image patches included in topk, but similarity < 0.1! This might unfairly reduce the purity metric because prototype has less than k similar image patches. You could consider reducing k for prototypes set()\n"
     ]
    },
    {
     "name": "stderr",
     "output_type": "stream",
     "text": [
      "\n",
      "Collecting top-k patch coordinates CUB:   0% 0/4 [00:00<?, ?it/s]"
     ]
    },
    {
     "name": "stdout",
     "output_type": "stream",
     "text": [
      "Writing CSV file with top k image patches..\n"
     ]
    },
    {
     "name": "stderr",
     "output_type": "stream",
     "text": [
      "Collecting top-k patch coordinates CUB: 100% 4/4 [00:00<00:00, 302.67it/s]"
     ]
    },
    {
     "name": "stdout",
     "output_type": "stream",
     "text": [
      "Warning: image patches included in topk, but similarity < 0.1! This might unfairly reduce the purity metric because prototype has less than k similar image patches. You could consider reducing k for prototypes set()\n"
     ]
    },
    {
     "name": "stderr",
     "output_type": "stream",
     "text": [
      "\n",
      "Collecting top-k patch coordinates CUB:   0% 0/5 [00:00<?, ?it/s]"
     ]
    },
    {
     "name": "stdout",
     "output_type": "stream",
     "text": [
      "Writing CSV file with top k image patches..\n"
     ]
    },
    {
     "name": "stderr",
     "output_type": "stream",
     "text": [
      "Collecting top-k patch coordinates CUB: 100% 5/5 [00:00<00:00, 319.05it/s]"
     ]
    },
    {
     "name": "stdout",
     "output_type": "stream",
     "text": [
      "Warning: image patches included in topk, but similarity < 0.1! This might unfairly reduce the purity metric because prototype has less than k similar image patches. You could consider reducing k for prototypes set()\n"
     ]
    },
    {
     "name": "stderr",
     "output_type": "stream",
     "text": [
      "\n",
      "Collecting top-k patch coordinates CUB:   0% 0/8 [00:00<?, ?it/s]"
     ]
    },
    {
     "name": "stdout",
     "output_type": "stream",
     "text": [
      "Writing CSV file with top k image patches..\n"
     ]
    },
    {
     "name": "stderr",
     "output_type": "stream",
     "text": [
      "Collecting top-k patch coordinates CUB: 100% 8/8 [00:00<00:00, 51.94it/s]"
     ]
    },
    {
     "name": "stdout",
     "output_type": "stream",
     "text": [
      "Warning: image patches included in topk, but similarity < 0.1! This might unfairly reduce the purity metric because prototype has less than k similar image patches. You could consider reducing k for prototypes {19}\n"
     ]
    },
    {
     "name": "stderr",
     "output_type": "stream",
     "text": [
      "\n",
      "Collecting top-k patch coordinates CUB:   0% 0/6 [00:00<?, ?it/s]"
     ]
    },
    {
     "name": "stdout",
     "output_type": "stream",
     "text": [
      "Writing CSV file with top k image patches..\n"
     ]
    },
    {
     "name": "stderr",
     "output_type": "stream",
     "text": [
      "Collecting top-k patch coordinates CUB: 100% 6/6 [00:00<00:00, 328.72it/s]"
     ]
    },
    {
     "name": "stdout",
     "output_type": "stream",
     "text": [
      "Warning: image patches included in topk, but similarity < 0.1! This might unfairly reduce the purity metric because prototype has less than k similar image patches. You could consider reducing k for prototypes set()\n"
     ]
    },
    {
     "name": "stderr",
     "output_type": "stream",
     "text": [
      "\n",
      "Collecting top-k patch coordinates CUB:   0% 0/6 [00:00<?, ?it/s]"
     ]
    },
    {
     "name": "stdout",
     "output_type": "stream",
     "text": [
      "Writing CSV file with top k image patches..\n"
     ]
    },
    {
     "name": "stderr",
     "output_type": "stream",
     "text": [
      "Collecting top-k patch coordinates CUB: 100% 6/6 [00:00<00:00, 231.17it/s]"
     ]
    },
    {
     "name": "stdout",
     "output_type": "stream",
     "text": [
      "Warning: image patches included in topk, but similarity < 0.1! This might unfairly reduce the purity metric because prototype has less than k similar image patches. You could consider reducing k for prototypes set()\n"
     ]
    },
    {
     "name": "stderr",
     "output_type": "stream",
     "text": [
      "\n",
      "Collecting top-k patch coordinates CUB:   0% 0/4 [00:00<?, ?it/s]"
     ]
    },
    {
     "name": "stdout",
     "output_type": "stream",
     "text": [
      "Writing CSV file with top k image patches..\n"
     ]
    },
    {
     "name": "stderr",
     "output_type": "stream",
     "text": [
      "Collecting top-k patch coordinates CUB: 100% 4/4 [00:00<00:00, 312.22it/s]"
     ]
    },
    {
     "name": "stdout",
     "output_type": "stream",
     "text": [
      "Warning: image patches included in topk, but similarity < 0.1! This might unfairly reduce the purity metric because prototype has less than k similar image patches. You could consider reducing k for prototypes set()\n"
     ]
    },
    {
     "name": "stderr",
     "output_type": "stream",
     "text": [
      "\n",
      "Collecting top-k patch coordinates CUB:   0% 0/5 [00:00<?, ?it/s]"
     ]
    },
    {
     "name": "stdout",
     "output_type": "stream",
     "text": [
      "Writing CSV file with top k image patches..\n"
     ]
    },
    {
     "name": "stderr",
     "output_type": "stream",
     "text": [
      "Collecting top-k patch coordinates CUB: 100% 5/5 [00:00<00:00, 215.61it/s]"
     ]
    },
    {
     "name": "stdout",
     "output_type": "stream",
     "text": [
      "Warning: image patches included in topk, but similarity < 0.1! This might unfairly reduce the purity metric because prototype has less than k similar image patches. You could consider reducing k for prototypes set()\n"
     ]
    },
    {
     "name": "stderr",
     "output_type": "stream",
     "text": [
      "\n",
      "Collecting top-k patch coordinates CUB:   0% 0/6 [00:00<?, ?it/s]"
     ]
    },
    {
     "name": "stdout",
     "output_type": "stream",
     "text": [
      "Writing CSV file with top k image patches..\n"
     ]
    },
    {
     "name": "stderr",
     "output_type": "stream",
     "text": [
      "Collecting top-k patch coordinates CUB: 100% 6/6 [00:00<00:00, 331.34it/s]"
     ]
    },
    {
     "name": "stdout",
     "output_type": "stream",
     "text": [
      "Warning: image patches included in topk, but similarity < 0.1! This might unfairly reduce the purity metric because prototype has less than k similar image patches. You could consider reducing k for prototypes set()\n"
     ]
    },
    {
     "name": "stderr",
     "output_type": "stream",
     "text": [
      "\n",
      "Collecting top-k patch coordinates CUB:   0% 0/5 [00:00<?, ?it/s]"
     ]
    },
    {
     "name": "stdout",
     "output_type": "stream",
     "text": [
      "Writing CSV file with top k image patches..\n"
     ]
    },
    {
     "name": "stderr",
     "output_type": "stream",
     "text": [
      "Collecting top-k patch coordinates CUB: 100% 5/5 [00:00<00:00, 322.02it/s]"
     ]
    },
    {
     "name": "stdout",
     "output_type": "stream",
     "text": [
      "Warning: image patches included in topk, but similarity < 0.1! This might unfairly reduce the purity metric because prototype has less than k similar image patches. You could consider reducing k for prototypes set()\n"
     ]
    },
    {
     "name": "stderr",
     "output_type": "stream",
     "text": [
      "\n",
      "Collecting top-k patch coordinates CUB:   0% 0/6 [00:00<?, ?it/s]"
     ]
    },
    {
     "name": "stdout",
     "output_type": "stream",
     "text": [
      "Writing CSV file with top k image patches..\n"
     ]
    },
    {
     "name": "stderr",
     "output_type": "stream",
     "text": [
      "Collecting top-k patch coordinates CUB: 100% 6/6 [00:00<00:00, 121.21it/s]"
     ]
    },
    {
     "name": "stdout",
     "output_type": "stream",
     "text": [
      "Warning: image patches included in topk, but similarity < 0.1! This might unfairly reduce the purity metric because prototype has less than k similar image patches. You could consider reducing k for prototypes set()\n"
     ]
    },
    {
     "name": "stderr",
     "output_type": "stream",
     "text": [
      "\n",
      "Collecting top-k patch coordinates CUB:   0% 0/5 [00:00<?, ?it/s]"
     ]
    },
    {
     "name": "stdout",
     "output_type": "stream",
     "text": [
      "Writing CSV file with top k image patches..\n"
     ]
    },
    {
     "name": "stderr",
     "output_type": "stream",
     "text": [
      "Collecting top-k patch coordinates CUB: 100% 5/5 [00:00<00:00, 137.06it/s]"
     ]
    },
    {
     "name": "stdout",
     "output_type": "stream",
     "text": [
      "Warning: image patches included in topk, but similarity < 0.1! This might unfairly reduce the purity metric because prototype has less than k similar image patches. You could consider reducing k for prototypes set()\n"
     ]
    },
    {
     "name": "stderr",
     "output_type": "stream",
     "text": [
      "\n",
      "Collecting top-k patch coordinates CUB:   0% 0/6 [00:00<?, ?it/s]"
     ]
    },
    {
     "name": "stdout",
     "output_type": "stream",
     "text": [
      "Writing CSV file with top k image patches..\n"
     ]
    },
    {
     "name": "stderr",
     "output_type": "stream",
     "text": [
      "Collecting top-k patch coordinates CUB: 100% 6/6 [00:00<00:00, 207.89it/s]"
     ]
    },
    {
     "name": "stdout",
     "output_type": "stream",
     "text": [
      "Warning: image patches included in topk, but similarity < 0.1! This might unfairly reduce the purity metric because prototype has less than k similar image patches. You could consider reducing k for prototypes set()\n"
     ]
    },
    {
     "name": "stderr",
     "output_type": "stream",
     "text": [
      "\n",
      "Collecting top-k patch coordinates CUB:   0% 0/8 [00:00<?, ?it/s]"
     ]
    },
    {
     "name": "stdout",
     "output_type": "stream",
     "text": [
      "Writing CSV file with top k image patches..\n"
     ]
    },
    {
     "name": "stderr",
     "output_type": "stream",
     "text": [
      "Collecting top-k patch coordinates CUB: 100% 8/8 [00:00<00:00, 56.54it/s]"
     ]
    },
    {
     "name": "stdout",
     "output_type": "stream",
     "text": [
      "Warning: image patches included in topk, but similarity < 0.1! This might unfairly reduce the purity metric because prototype has less than k similar image patches. You could consider reducing k for prototypes set()\n"
     ]
    },
    {
     "name": "stderr",
     "output_type": "stream",
     "text": [
      "\n",
      "Collecting top-k patch coordinates CUB:   0% 0/5 [00:00<?, ?it/s]"
     ]
    },
    {
     "name": "stdout",
     "output_type": "stream",
     "text": [
      "Writing CSV file with top k image patches..\n"
     ]
    },
    {
     "name": "stderr",
     "output_type": "stream",
     "text": [
      "Collecting top-k patch coordinates CUB: 100% 5/5 [00:00<00:00, 327.85it/s]"
     ]
    },
    {
     "name": "stdout",
     "output_type": "stream",
     "text": [
      "Warning: image patches included in topk, but similarity < 0.1! This might unfairly reduce the purity metric because prototype has less than k similar image patches. You could consider reducing k for prototypes set()\n"
     ]
    },
    {
     "name": "stderr",
     "output_type": "stream",
     "text": [
      "\n",
      "Collecting top-k patch coordinates CUB:   0% 0/7 [00:00<?, ?it/s]"
     ]
    },
    {
     "name": "stdout",
     "output_type": "stream",
     "text": [
      "Writing CSV file with top k image patches..\n"
     ]
    },
    {
     "name": "stderr",
     "output_type": "stream",
     "text": [
      "Collecting top-k patch coordinates CUB: 100% 7/7 [00:00<00:00, 338.95it/s]"
     ]
    },
    {
     "name": "stdout",
     "output_type": "stream",
     "text": [
      "Warning: image patches included in topk, but similarity < 0.1! This might unfairly reduce the purity metric because prototype has less than k similar image patches. You could consider reducing k for prototypes set()\n"
     ]
    },
    {
     "name": "stderr",
     "output_type": "stream",
     "text": [
      "\n",
      "Collecting top-k patch coordinates CUB:   0% 0/7 [00:00<?, ?it/s]"
     ]
    },
    {
     "name": "stdout",
     "output_type": "stream",
     "text": [
      "Writing CSV file with top k image patches..\n"
     ]
    },
    {
     "name": "stderr",
     "output_type": "stream",
     "text": [
      "Collecting top-k patch coordinates CUB: 100% 7/7 [00:00<00:00, 178.12it/s]"
     ]
    },
    {
     "name": "stdout",
     "output_type": "stream",
     "text": [
      "Warning: image patches included in topk, but similarity < 0.1! This might unfairly reduce the purity metric because prototype has less than k similar image patches. You could consider reducing k for prototypes set()\n"
     ]
    },
    {
     "name": "stderr",
     "output_type": "stream",
     "text": [
      "\n",
      "Collecting top-k patch coordinates CUB:   0% 0/5 [00:00<?, ?it/s]"
     ]
    },
    {
     "name": "stdout",
     "output_type": "stream",
     "text": [
      "Writing CSV file with top k image patches..\n"
     ]
    },
    {
     "name": "stderr",
     "output_type": "stream",
     "text": [
      "Collecting top-k patch coordinates CUB: 100% 5/5 [00:00<00:00, 195.72it/s]"
     ]
    },
    {
     "name": "stdout",
     "output_type": "stream",
     "text": [
      "Warning: image patches included in topk, but similarity < 0.1! This might unfairly reduce the purity metric because prototype has less than k similar image patches. You could consider reducing k for prototypes set()\n"
     ]
    },
    {
     "name": "stderr",
     "output_type": "stream",
     "text": [
      "\n",
      "Collecting top-k patch coordinates CUB:   0% 0/6 [00:00<?, ?it/s]"
     ]
    },
    {
     "name": "stdout",
     "output_type": "stream",
     "text": [
      "Writing CSV file with top k image patches..\n"
     ]
    },
    {
     "name": "stderr",
     "output_type": "stream",
     "text": [
      "Collecting top-k patch coordinates CUB: 100% 6/6 [00:00<00:00, 337.44it/s]"
     ]
    },
    {
     "name": "stdout",
     "output_type": "stream",
     "text": [
      "Warning: image patches included in topk, but similarity < 0.1! This might unfairly reduce the purity metric because prototype has less than k similar image patches. You could consider reducing k for prototypes set()\n"
     ]
    },
    {
     "name": "stderr",
     "output_type": "stream",
     "text": [
      "\n",
      "Collecting top-k patch coordinates CUB:   0% 0/10 [00:00<?, ?it/s]"
     ]
    },
    {
     "name": "stdout",
     "output_type": "stream",
     "text": [
      "Writing CSV file with top k image patches..\n"
     ]
    },
    {
     "name": "stderr",
     "output_type": "stream",
     "text": [
      "Collecting top-k patch coordinates CUB: 100% 10/10 [00:00<00:00, 106.29it/s]"
     ]
    },
    {
     "name": "stdout",
     "output_type": "stream",
     "text": [
      "Warning: image patches included in topk, but similarity < 0.1! This might unfairly reduce the purity metric because prototype has less than k similar image patches. You could consider reducing k for prototypes set()\n"
     ]
    },
    {
     "name": "stderr",
     "output_type": "stream",
     "text": [
      "\n",
      "Collecting top-k patch coordinates CUB:   0% 0/6 [00:00<?, ?it/s]"
     ]
    },
    {
     "name": "stdout",
     "output_type": "stream",
     "text": [
      "Writing CSV file with top k image patches..\n"
     ]
    },
    {
     "name": "stderr",
     "output_type": "stream",
     "text": [
      "Collecting top-k patch coordinates CUB: 100% 6/6 [00:00<00:00, 319.62it/s]"
     ]
    },
    {
     "name": "stdout",
     "output_type": "stream",
     "text": [
      "Warning: image patches included in topk, but similarity < 0.1! This might unfairly reduce the purity metric because prototype has less than k similar image patches. You could consider reducing k for prototypes set()\n"
     ]
    },
    {
     "name": "stderr",
     "output_type": "stream",
     "text": [
      "\n",
      "Collecting top-k patch coordinates CUB:   0% 0/6 [00:00<?, ?it/s]"
     ]
    },
    {
     "name": "stdout",
     "output_type": "stream",
     "text": [
      "Writing CSV file with top k image patches..\n"
     ]
    },
    {
     "name": "stderr",
     "output_type": "stream",
     "text": [
      "Collecting top-k patch coordinates CUB: 100% 6/6 [00:00<00:00, 331.06it/s]"
     ]
    },
    {
     "name": "stdout",
     "output_type": "stream",
     "text": [
      "Warning: image patches included in topk, but similarity < 0.1! This might unfairly reduce the purity metric because prototype has less than k similar image patches. You could consider reducing k for prototypes set()\n"
     ]
    },
    {
     "name": "stderr",
     "output_type": "stream",
     "text": [
      "\n",
      "Collecting top-k patch coordinates CUB:   0% 0/4 [00:00<?, ?it/s]"
     ]
    },
    {
     "name": "stdout",
     "output_type": "stream",
     "text": [
      "Writing CSV file with top k image patches..\n"
     ]
    },
    {
     "name": "stderr",
     "output_type": "stream",
     "text": [
      "Collecting top-k patch coordinates CUB: 100% 4/4 [00:00<00:00, 312.60it/s]"
     ]
    },
    {
     "name": "stdout",
     "output_type": "stream",
     "text": [
      "Warning: image patches included in topk, but similarity < 0.1! This might unfairly reduce the purity metric because prototype has less than k similar image patches. You could consider reducing k for prototypes set()\n"
     ]
    },
    {
     "name": "stderr",
     "output_type": "stream",
     "text": [
      "\n",
      "Collecting top-k patch coordinates CUB:   0% 0/8 [00:00<?, ?it/s]"
     ]
    },
    {
     "name": "stdout",
     "output_type": "stream",
     "text": [
      "Writing CSV file with top k image patches..\n"
     ]
    },
    {
     "name": "stderr",
     "output_type": "stream",
     "text": [
      "Collecting top-k patch coordinates CUB: 100% 8/8 [00:00<00:00, 140.17it/s]"
     ]
    },
    {
     "name": "stdout",
     "output_type": "stream",
     "text": [
      "Warning: image patches included in topk, but similarity < 0.1! This might unfairly reduce the purity metric because prototype has less than k similar image patches. You could consider reducing k for prototypes set()\n"
     ]
    },
    {
     "name": "stderr",
     "output_type": "stream",
     "text": [
      "\n",
      "Collecting top-k patch coordinates CUB:   0% 0/7 [00:00<?, ?it/s]"
     ]
    },
    {
     "name": "stdout",
     "output_type": "stream",
     "text": [
      "Writing CSV file with top k image patches..\n"
     ]
    },
    {
     "name": "stderr",
     "output_type": "stream",
     "text": [
      "Collecting top-k patch coordinates CUB: 100% 7/7 [00:00<00:00, 274.35it/s]"
     ]
    },
    {
     "name": "stdout",
     "output_type": "stream",
     "text": [
      "Warning: image patches included in topk, but similarity < 0.1! This might unfairly reduce the purity metric because prototype has less than k similar image patches. You could consider reducing k for prototypes set()\n"
     ]
    },
    {
     "name": "stderr",
     "output_type": "stream",
     "text": [
      "\n",
      "Collecting top-k patch coordinates CUB:   0% 0/5 [00:00<?, ?it/s]"
     ]
    },
    {
     "name": "stdout",
     "output_type": "stream",
     "text": [
      "Writing CSV file with top k image patches..\n"
     ]
    },
    {
     "name": "stderr",
     "output_type": "stream",
     "text": [
      "Collecting top-k patch coordinates CUB: 100% 5/5 [00:00<00:00, 216.92it/s]"
     ]
    },
    {
     "name": "stdout",
     "output_type": "stream",
     "text": [
      "Warning: image patches included in topk, but similarity < 0.1! This might unfairly reduce the purity metric because prototype has less than k similar image patches. You could consider reducing k for prototypes set()\n"
     ]
    },
    {
     "name": "stderr",
     "output_type": "stream",
     "text": [
      "\n",
      "Collecting top-k patch coordinates CUB:   0% 0/5 [00:00<?, ?it/s]"
     ]
    },
    {
     "name": "stdout",
     "output_type": "stream",
     "text": [
      "Writing CSV file with top k image patches..\n"
     ]
    },
    {
     "name": "stderr",
     "output_type": "stream",
     "text": [
      "Collecting top-k patch coordinates CUB: 100% 5/5 [00:00<00:00, 326.15it/s]"
     ]
    },
    {
     "name": "stdout",
     "output_type": "stream",
     "text": [
      "Warning: image patches included in topk, but similarity < 0.1! This might unfairly reduce the purity metric because prototype has less than k similar image patches. You could consider reducing k for prototypes set()\n"
     ]
    },
    {
     "name": "stderr",
     "output_type": "stream",
     "text": [
      "\n",
      "Collecting top-k patch coordinates CUB:   0% 0/6 [00:00<?, ?it/s]"
     ]
    },
    {
     "name": "stdout",
     "output_type": "stream",
     "text": [
      "Writing CSV file with top k image patches..\n"
     ]
    },
    {
     "name": "stderr",
     "output_type": "stream",
     "text": [
      "Collecting top-k patch coordinates CUB: 100% 6/6 [00:00<00:00, 331.17it/s]"
     ]
    },
    {
     "name": "stdout",
     "output_type": "stream",
     "text": [
      "Warning: image patches included in topk, but similarity < 0.1! This might unfairly reduce the purity metric because prototype has less than k similar image patches. You could consider reducing k for prototypes set()\n"
     ]
    },
    {
     "name": "stderr",
     "output_type": "stream",
     "text": [
      "\n",
      "Collecting top-k patch coordinates CUB:   0% 0/4 [00:00<?, ?it/s]"
     ]
    },
    {
     "name": "stdout",
     "output_type": "stream",
     "text": [
      "Writing CSV file with top k image patches..\n"
     ]
    },
    {
     "name": "stderr",
     "output_type": "stream",
     "text": [
      "Collecting top-k patch coordinates CUB: 100% 4/4 [00:00<00:00, 311.69it/s]"
     ]
    },
    {
     "name": "stdout",
     "output_type": "stream",
     "text": [
      "Warning: image patches included in topk, but similarity < 0.1! This might unfairly reduce the purity metric because prototype has less than k similar image patches. You could consider reducing k for prototypes set()\n"
     ]
    },
    {
     "name": "stderr",
     "output_type": "stream",
     "text": [
      "\n"
     ]
    }
   ],
   "source": [
    "# projectloader.dataset.class_to_idx\n",
    "# projectloader.class_to_idx\n",
    "# projectloader.dataset.imgs\n",
    "\n",
    "list_csvfile_topk, list_node_wise_df, dict_node_wise_df = get_topk_cub_nodewise(net, root, maindataloader, \\\n",
    "                                                                                 TOPK, 'projectloader_'+str(epoch), device, args)"
   ]
  },
  {
   "cell_type": "code",
   "execution_count": 14,
   "id": "41f52b8e",
   "metadata": {},
   "outputs": [],
   "source": [
    "# imgs_id_path = os.path.join(dataset_path, 'images_cub.txt')\n",
    "\n",
    "# list_csvfile_topk = []\n",
    "# list_node_wise_df = []\n",
    "# dict_node_wise_df = {}\n",
    "# for node in root.nodes_with_children():\n",
    "# #     if node.name != '003+002':\n",
    "# #         continue\n",
    "#     # df = get_topk_cub_nodewise(net, node, projectloader, \\\n",
    "#     #                                      10, 'projectloader_'+str(epoch), device, args)\n",
    "#     # break\n",
    "#     pdb.set_trace()\n",
    "#     node_wise_df, csvfile_topk = get_topk_cub_nodewise(net, node, projectloader, \\\n",
    "#                                          10, 'projectloader_'+str(epoch), device, args)\n",
    "#     list_node_wise_df.append(node_wise_df)\n",
    "#     dict_node_wise_df[node.name] = node_wise_df\n",
    "#     list_csvfile_topk.append(csvfile_topk)\n",
    "\n"
   ]
  },
  {
   "cell_type": "code",
   "execution_count": 15,
   "id": "df38cf4f-3f75-4b13-ac37-156a9702bd0c",
   "metadata": {
    "scrolled": true
   },
   "outputs": [
    {
     "name": "stdout",
     "output_type": "stream",
     "text": [
      "Number of prototypes in parts_presences:  10\n",
      "Part-related (purity>0.5): 2\n",
      "Node: root | Child: 129+024+067 | Purity: 0.27685185185185185 | Num desc: 186 | Num protos: 6\n",
      "\tProto: 7 0.0\n",
      "\tProto: 6 0.1111111111111111\n",
      "\tProto: 5 0.3\n",
      "\tProto: 8 0.0\n",
      "\tProto: 0 0.75\n",
      "\tProto: 9 0.5\n",
      "Node: root | Child: 089+046 | Purity: 0.35000000000000003 | Num desc: 4 | Num protos: 4\n",
      "\tProto: 15 0.5\n",
      "\tProto: 14 0.6\n",
      "\tProto: 16 0.1\n",
      "\tProto: 12 0.2\n",
      "Number of prototypes in parts_presences:  6\n",
      "Part-related (purity>0.5): 2\n",
      "Node: 129+024+067 | Child: 024+051 | Purity: 0.3333333333333333 | Num desc: 18 | Num protos: 3\n",
      "\tProto: 8 0.6\n",
      "\tProto: 9 0.4\n",
      "\tProto: 11 0.0\n",
      "Node: 129+024+067 | Child: 129+065 | Purity: 0.2222222222222222 | Num desc: 164 | Num protos: 1\n",
      "\tProto: 2 0.2222222222222222\n",
      "Node: 129+024+067 | Child: 067+070 | Purity: 0.39999999999999997 | Num desc: 4 | Num protos: 2\n",
      "\tProto: 15 0.1\n",
      "\tProto: 18 0.7\n",
      "Number of prototypes in parts_presences:  7\n",
      "Part-related (purity>0.5): 7\n",
      "Node: 089+046 | Child: 046+087 | Purity: 0.95 | Num desc: 2 | Num protos: 4\n",
      "\tProto: 15 0.9\n",
      "\tProto: 14 1.0\n",
      "\tProto: 19 1.0\n",
      "\tProto: 10 0.9\n",
      "Node: 089+046 | Child: 089+090 | Purity: 0.8000000000000002 | Num desc: 2 | Num protos: 3\n",
      "\tProto: 9 0.8\n",
      "\tProto: 8 0.9\n",
      "\tProto: 4 0.7\n",
      "Number of prototypes in parts_presences:  7\n",
      "Part-related (purity>0.5): 1\n",
      "Node: 129+065 | Child: 065+006 | Purity: 0.18888888888888888 | Num desc: 24 | Num protos: 4\n",
      "\tProto: 19 0.2\n",
      "\tProto: 14 0.0\n",
      "\tProto: 16 0.0\n",
      "\tProto: 12 0.5555555555555556\n",
      "Node: 129+065 | Child: 129+192 | Purity: 0.06666666666666667 | Num desc: 140 | Num protos: 3\n",
      "\tProto: 5 0.0\n",
      "\tProto: 8 0.2\n",
      "\tProto: 0 0.0\n",
      "Number of prototypes in parts_presences:  10\n",
      "Part-related (purity>0.5): 5\n",
      "Node: 024+051 | Child: 024+031 | Purity: 0.19444444444444442 | Num desc: 14 | Num protos: 6\n",
      "\tProto: 3 0.6666666666666666\n",
      "\tProto: 6 0.0\n",
      "\tProto: 8 0.0\n",
      "\tProto: 2 0.0\n",
      "\tProto: 0 0.5\n",
      "\tProto: 9 0.0\n",
      "Node: 024+051 | Child: 051+052 | Purity: 0.875 | Num desc: 4 | Num protos: 4\n",
      "\tProto: 13 0.9\n",
      "\tProto: 19 0.8\n",
      "\tProto: 17 0.9\n",
      "\tProto: 10 0.9\n",
      "Number of prototypes in parts_presences:  7\n",
      "Part-related (purity>0.5): 7\n",
      "Node: 067+070 | Child: 067+068 | Purity: 0.8400000000000001 | Num desc: 3 | Num protos: 5\n",
      "\tProto: 3 0.8\n",
      "\tProto: 7 0.8\n",
      "\tProto: 6 0.8\n",
      "\tProto: 4 0.9\n",
      "\tProto: 8 0.9\n",
      "Node: 067+070 | Child: cub_070_Green_Violetear | Purity: 1.0 | Num desc: 1 | Num protos: 2\n",
      "\tProto: 14 1.0\n",
      "\tProto: 12 1.0\n",
      "Number of prototypes in parts_presences:  5\n",
      "Part-related (purity>0.5): 5\n",
      "Node: 089+090 | Child: cub_089_Hooded_Merganser | Purity: 0.95 | Num desc: 1 | Num protos: 2\n",
      "\tProto: 3 1.0\n",
      "\tProto: 2 0.9\n",
      "Node: 089+090 | Child: cub_090_Red_breasted_Merganser | Purity: 1.0 | Num desc: 1 | Num protos: 3\n",
      "\tProto: 14 1.0\n",
      "\tProto: 19 1.0\n",
      "\tProto: 10 1.0\n",
      "Number of prototypes in parts_presences:  4\n",
      "Part-related (purity>0.5): 4\n",
      "Node: 046+087 | Child: cub_046_Gadwall | Purity: 0.95 | Num desc: 1 | Num protos: 2\n",
      "\tProto: 2 0.9\n",
      "\tProto: 9 1.0\n",
      "Node: 046+087 | Child: cub_087_Mallard | Purity: 0.9 | Num desc: 1 | Num protos: 2\n",
      "\tProto: 18 1.0\n",
      "\tProto: 12 0.8\n",
      "Number of prototypes in parts_presences:  8\n",
      "Part-related (purity>0.5): 3\n",
      "Node: 129+192 | Child: 129+043 | Purity: 0.54375 | Num desc: 128 | Num protos: 4\n",
      "\tProto: 9 0.2\n",
      "\tProto: 0 0.5\n",
      "\tProto: 2 0.6\n",
      "\tProto: 4 0.875\n",
      "Node: 129+192 | Child: 192+081 | Purity: 0.3 | Num desc: 12 | Num protos: 4\n",
      "\tProto: 19 0.1\n",
      "\tProto: 13 0.0\n",
      "\tProto: 12 0.7\n",
      "\tProto: 11 0.4\n",
      "Number of prototypes in parts_presences:  12\n",
      "Part-related (purity>0.5): 6\n",
      "Node: 065+006 | Child: 006+071 | Purity: 0.125 | Num desc: 8 | Num protos: 4\n",
      "\tProto: 15 0.0\n",
      "\tProto: 14 0.4\n",
      "\tProto: 17 0.0\n",
      "\tProto: 19 0.1\n",
      "Node: 065+006 | Child: 065+144 | Purity: 0.6305555555555555 | Num desc: 16 | Num protos: 8\n",
      "\tProto: 3 0.8\n",
      "\tProto: 7 0.5\n",
      "\tProto: 4 0.8888888888888888\n",
      "\tProto: 5 0.0\n",
      "\tProto: 8 0.6\n",
      "\tProto: 2 0.8\n",
      "\tProto: 0 0.9\n",
      "\tProto: 9 0.5555555555555556\n",
      "Number of prototypes in parts_presences:  9\n",
      "Part-related (purity>0.5): 5\n",
      "Node: 024+031 | Child: 024+086 | Purity: 0.4800000000000001 | Num desc: 10 | Num protos: 5\n",
      "\tProto: 3 0.5\n",
      "\tProto: 7 0.6\n",
      "\tProto: 5 0.5\n",
      "\tProto: 8 0.0\n",
      "\tProto: 9 0.8\n",
      "Node: 024+031 | Child: 031+004 | Purity: 0.5750000000000001 | Num desc: 4 | Num protos: 4\n",
      "\tProto: 15 0.0\n",
      "\tProto: 14 0.9\n",
      "\tProto: 13 0.8\n",
      "\tProto: 10 0.6\n",
      "Number of prototypes in parts_presences:  7\n",
      "Part-related (purity>0.5): 7\n",
      "Node: 051+052 | Child: 051+053 | Purity: 0.8500000000000001 | Num desc: 3 | Num protos: 4\n",
      "\tProto: 7 0.9\n",
      "\tProto: 5 0.9\n",
      "\tProto: 2 0.9\n",
      "\tProto: 9 0.7\n",
      "Node: 051+052 | Child: cub_052_Pied_billed_Grebe | Purity: 0.8333333333333334 | Num desc: 1 | Num protos: 3\n",
      "\tProto: 17 0.9\n",
      "\tProto: 16 0.7\n",
      "\tProto: 10 0.9\n",
      "Number of prototypes in parts_presences:  6\n",
      "Part-related (purity>0.5): 6\n",
      "Node: 067+068 | Child: 067+069 | Purity: 0.7499999999999999 | Num desc: 2 | Num protos: 4\n",
      "\tProto: 6 0.8\n",
      "\tProto: 5 0.6\n",
      "\tProto: 8 0.7\n",
      "\tProto: 4 0.9\n",
      "Node: 067+068 | Child: cub_068_Ruby_throated_Hummingbird | Purity: 1.0 | Num desc: 1 | Num protos: 2\n",
      "\tProto: 18 1.0\n",
      "\tProto: 10 1.0\n",
      "Number of prototypes in parts_presences:  8\n",
      "Part-related (purity>0.5): 2\n",
      "Node: 129+043 | Child: 129+018 | Purity: 0.4444444444444445 | Num desc: 118 | Num protos: 5\n",
      "\tProto: 7 0.5\n",
      "\tProto: 4 0.0\n",
      "\tProto: 5 0.4444444444444444\n",
      "\tProto: 8 0.7777777777777778\n",
      "\tProto: 2 0.5\n",
      "Node: 129+043 | Child: 043+078 | Purity: 0.3333333333333333 | Num desc: 10 | Num protos: 3\n",
      "\tProto: 14 0.3\n",
      "\tProto: 17 0.1\n",
      "\tProto: 11 0.6\n",
      "Number of prototypes in parts_presences:  10\n",
      "Part-related (purity>0.5): 6\n",
      "Node: 192+081 | Child: 192+036 | Purity: 0.7777777777777778 | Num desc: 7 | Num protos: 5\n",
      "\tProto: 3 0.4\n",
      "\tProto: 7 0.9\n",
      "\tProto: 6 0.8888888888888888\n",
      "\tProto: 8 0.8\n",
      "\tProto: 9 0.9\n",
      "Node: 192+081 | Child: 081+083 | Purity: 0.568888888888889 | Num desc: 5 | Num protos: 5\n",
      "\tProto: 17 0.2\n",
      "\tProto: 11 0.9\n",
      "\tProto: 18 0.8\n",
      "\tProto: 15 0.5\n",
      "\tProto: 10 0.4444444444444444\n",
      "Number of prototypes in parts_presences:  12\n",
      "Part-related (purity>0.5): 8\n",
      "Node: 065+144 | Child: 065+084 | Purity: 0.6814814814814815 | Num desc: 9 | Num protos: 6\n",
      "\tProto: 3 0.8888888888888888\n",
      "\tProto: 7 0.1\n",
      "\tProto: 1 0.2\n",
      "\tProto: 5 0.9\n",
      "\tProto: 2 1.0\n",
      "\tProto: 0 1.0\n",
      "Node: 065+144 | Child: 144+147 | Purity: 0.5851851851851851 | Num desc: 7 | Num protos: 6\n",
      "\tProto: 17 0.7\n",
      "\tProto: 16 0.9\n",
      "\tProto: 11 0.0\n",
      "\tProto: 18 0.6666666666666666\n",
      "\tProto: 14 0.8\n",
      "\tProto: 10 0.4444444444444444\n",
      "Number of prototypes in parts_presences:  9\n",
      "Part-related (purity>0.5): 5\n",
      "Node: 006+071 | Child: 006+058 | Purity: 0.6383333333333334 | Num desc: 6 | Num protos: 5\n",
      "\tProto: 7 0.6666666666666666\n",
      "\tProto: 6 0.7\n",
      "\tProto: 4 0.75\n",
      "\tProto: 2 0.875\n",
      "\tProto: 9 0.2\n",
      "Node: 006+071 | Child: 071+072 | Purity: 0.2857142857142857 | Num desc: 2 | Num protos: 4\n",
      "\tProto: 14 1.0\n",
      "\tProto: 17 0.14285714285714285\n",
      "\tProto: 16 0.0\n",
      "\tProto: 11 0.0\n",
      "Number of prototypes in parts_presences:  11\n",
      "Part-related (purity>0.5): 4\n",
      "Node: 024+086 | Child: 024+001 | Purity: 0.37142857142857144 | Num desc: 9 | Num protos: 7\n",
      "\tProto: 7 0.0\n",
      "\tProto: 4 0.0\n",
      "\tProto: 5 0.4\n",
      "\tProto: 8 0.8\n",
      "\tProto: 2 0.9\n",
      "\tProto: 0 0.5\n",
      "\tProto: 9 0.0\n",
      "Node: 024+086 | Child: cub_086_Pacific_Loon | Purity: 0.5357142857142857 | Num desc: 1 | Num protos: 4\n",
      "\tProto: 11 0.0\n",
      "\tProto: 15 1.0\n",
      "\tProto: 18 1.0\n",
      "\tProto: 10 0.14285714285714285\n",
      "Number of prototypes in parts_presences:  7\n",
      "Part-related (purity>0.5): 7\n",
      "Node: 031+004 | Child: cub_004_Groove_billed_Ani | Purity: 0.9 | Num desc: 1 | Num protos: 2\n",
      "\tProto: 15 0.8\n",
      "\tProto: 14 1.0\n",
      "Node: 031+004 | Child: 031+032 | Purity: 0.915 | Num desc: 3 | Num protos: 5\n",
      "\tProto: 7 1.0\n",
      "\tProto: 6 0.875\n",
      "\tProto: 4 0.9\n",
      "\tProto: 8 0.8\n",
      "\tProto: 9 1.0\n",
      "Number of prototypes in parts_presences:  5\n",
      "Part-related (purity>0.5): 5\n",
      "Node: 051+053 | Child: 051+050 | Purity: 0.9333333333333332 | Num desc: 2 | Num protos: 3\n",
      "\tProto: 0 0.9\n",
      "\tProto: 2 0.9\n",
      "\tProto: 4 1.0\n",
      "Node: 051+053 | Child: cub_053_Western_Grebe | Purity: 1.0 | Num desc: 1 | Num protos: 2\n",
      "\tProto: 13 1.0\n",
      "\tProto: 17 1.0\n",
      "Number of prototypes in parts_presences:  5\n",
      "Part-related (purity>0.5): 5\n",
      "Node: 067+069 | Child: cub_067_Anna_Hummingbird | Purity: 0.8306878306878307 | Num desc: 1 | Num protos: 3\n",
      "\tProto: 3 0.7777777777777778\n",
      "\tProto: 1 1.0\n",
      "\tProto: 4 0.7142857142857143\n",
      "Node: 067+069 | Child: cub_069_Rufous_Hummingbird | Purity: 0.7569444444444444 | Num desc: 1 | Num protos: 2\n",
      "\tProto: 18 0.625\n",
      "\tProto: 13 0.8888888888888888\n",
      "Number of prototypes in parts_presences:  9\n",
      "Part-related (purity>0.5): 4\n",
      "Node: 129+018 | Child: 129+107 | Purity: 0.6455555555555555 | Num desc: 117 | Num protos: 5\n",
      "\tProto: 1 0.5\n",
      "\tProto: 6 0.5\n",
      "\tProto: 4 0.7777777777777778\n",
      "\tProto: 5 0.7\n",
      "\tProto: 0 0.75\n",
      "Node: 129+018 | Child: cub_018_Spotted_Catbird | Purity: 0.3305555555555556 | Num desc: 1 | Num protos: 4\n",
      "\tProto: 15 0.1111111111111111\n",
      "\tProto: 14 0.1111111111111111\n",
      "\tProto: 17 1.0\n",
      "\tProto: 10 0.1\n",
      "Number of prototypes in parts_presences:  8\n",
      "Part-related (purity>0.5): 6\n",
      "Node: 043+078 | Child: 043+042 | Purity: 0.5416666666666667 | Num desc: 6 | Num protos: 4\n",
      "\tProto: 3 0.6666666666666666\n",
      "\tProto: 6 0.1\n",
      "\tProto: 4 0.6\n",
      "\tProto: 9 0.8\n",
      "Node: 043+078 | Child: 078+038 | Purity: 0.7166666666666667 | Num desc: 4 | Num protos: 4\n",
      "\tProto: 14 0.8\n",
      "\tProto: 13 0.5\n",
      "\tProto: 12 0.9\n",
      "\tProto: 11 0.6666666666666666\n",
      "Number of prototypes in parts_presences:  9\n",
      "Part-related (purity>0.5): 9\n",
      "Node: 192+036 | Child: 036+188 | Purity: 0.875 | Num desc: 2 | Num protos: 4\n",
      "\tProto: 11 0.9\n",
      "\tProto: 15 0.8\n",
      "\tProto: 16 0.9\n",
      "\tProto: 10 0.9\n",
      "Node: 192+036 | Child: 192+191 | Purity: 0.9200000000000002 | Num desc: 5 | Num protos: 5\n",
      "\tProto: 3 1.0\n",
      "\tProto: 4 0.7\n",
      "\tProto: 5 1.0\n",
      "\tProto: 8 1.0\n",
      "\tProto: 0 0.9\n",
      "Number of prototypes in parts_presences:  7\n",
      "Part-related (purity>0.5): 6\n",
      "Node: 081+083 | Child: 081+082 | Purity: 0.64 | Num desc: 4 | Num protos: 5\n",
      "\tProto: 3 0.8\n",
      "\tProto: 4 0.9\n",
      "\tProto: 5 0.7\n",
      "\tProto: 8 0.0\n",
      "\tProto: 0 0.8\n",
      "Node: 081+083 | Child: cub_083_White_breasted_Kingfisher | Purity: 0.85 | Num desc: 1 | Num protos: 2\n",
      "\tProto: 18 0.7\n",
      "\tProto: 11 1.0\n",
      "Number of prototypes in parts_presences:  7\n",
      "Part-related (purity>0.5): 6\n",
      "Node: 065+084 | Child: 065+061 | Purity: 0.7933333333333332 | Num desc: 7 | Num protos: 5\n",
      "\tProto: 1 0.5\n",
      "\tProto: 4 0.9\n",
      "\tProto: 5 0.7777777777777778\n",
      "\tProto: 2 0.9\n",
      "\tProto: 0 0.8888888888888888\n",
      "Node: 065+084 | Child: 084+063 | Purity: 0.7875 | Num desc: 2 | Num protos: 2\n",
      "\tProto: 15 0.7\n",
      "\tProto: 19 0.875\n",
      "Number of prototypes in parts_presences:  10\n",
      "Part-related (purity>0.5): 8\n",
      "Node: 144+147 | Child: 144+143 | Purity: 0.6537037037037038 | Num desc: 6 | Num protos: 6\n",
      "\tProto: 7 0.2222222222222222\n",
      "\tProto: 1 0.8\n",
      "\tProto: 6 0.4\n",
      "\tProto: 2 0.8\n",
      "\tProto: 0 0.9\n",
      "\tProto: 9 0.8\n",
      "Node: 144+147 | Child: cub_147_Least_Tern | Purity: 0.8916666666666666 | Num desc: 1 | Num protos: 4\n",
      "\tProto: 15 0.6666666666666666\n",
      "\tProto: 14 1.0\n",
      "\tProto: 17 0.9\n",
      "\tProto: 19 1.0\n",
      "Number of prototypes in parts_presences:  10\n",
      "Part-related (purity>0.5): 7\n",
      "Node: 006+058 | Child: 006+008 | Purity: 0.5046296296296297 | Num desc: 5 | Num protos: 6\n",
      "\tProto: 3 0.1\n",
      "\tProto: 7 0.5\n",
      "\tProto: 6 0.7\n",
      "\tProto: 5 0.75\n",
      "\tProto: 8 0.7777777777777778\n",
      "\tProto: 0 0.2\n",
      "Node: 006+058 | Child: cub_058_Pigeon_Guillemot | Purity: 0.825 | Num desc: 1 | Num protos: 4\n",
      "\tProto: 14 1.0\n",
      "\tProto: 17 0.7\n",
      "\tProto: 16 0.8\n",
      "\tProto: 11 0.8\n",
      "Number of prototypes in parts_presences:  5\n",
      "Part-related (purity>0.5): 5\n",
      "Node: 071+072 | Child: cub_071_Long_tailed_Jaeger | Purity: 0.8518518518518517 | Num desc: 1 | Num protos: 3\n",
      "\tProto: 9 0.8888888888888888\n",
      "\tProto: 1 1.0\n",
      "\tProto: 4 0.6666666666666666\n",
      "Node: 071+072 | Child: cub_072_Pomarine_Jaeger | Purity: 1.0 | Num desc: 1 | Num protos: 2\n",
      "\tProto: 13 1.0\n",
      "\tProto: 19 1.0\n",
      "Number of prototypes in parts_presences:  8\n",
      "Part-related (purity>0.5): 6\n",
      "Node: 024+001 | Child: 001+045 | Purity: 0.9 | Num desc: 4 | Num protos: 3\n",
      "\tProto: 15 0.9\n",
      "\tProto: 19 1.0\n",
      "\tProto: 12 0.8\n",
      "Node: 024+001 | Child: 024+100 | Purity: 0.5444444444444445 | Num desc: 5 | Num protos: 5\n",
      "\tProto: 7 0.7\n",
      "\tProto: 4 0.2222222222222222\n",
      "\tProto: 5 1.0\n",
      "\tProto: 8 0.8\n",
      "\tProto: 2 0.0\n",
      "Number of prototypes in parts_presences:  4\n",
      "Part-related (purity>0.5): 4\n",
      "Node: 031+032 | Child: 031+033 | Purity: 0.7 | Num desc: 2 | Num protos: 2\n",
      "\tProto: 3 0.8\n",
      "\tProto: 5 0.6\n",
      "Node: 031+032 | Child: cub_032_Mangrove_Cuckoo | Purity: 0.8 | Num desc: 1 | Num protos: 2\n",
      "\tProto: 16 0.6\n",
      "\tProto: 12 1.0\n",
      "Number of prototypes in parts_presences:  6\n",
      "Part-related (purity>0.5): 6\n",
      "Node: 051+050 | Child: cub_050_Eared_Grebe | Purity: 1.0 | Num desc: 1 | Num protos: 3\n",
      "\tProto: 14 1.0\n",
      "\tProto: 18 1.0\n",
      "\tProto: 11 1.0\n",
      "Node: 051+050 | Child: cub_051_Horned_Grebe | Purity: 1.0 | Num desc: 1 | Num protos: 3\n",
      "\tProto: 5 1.0\n",
      "\tProto: 0 1.0\n",
      "\tProto: 7 1.0\n",
      "Number of prototypes in parts_presences:  10\n",
      "Part-related (purity>0.5): 3\n",
      "Node: 129+107 | Child: 129+136 | Purity: 0.3961904761904762 | Num desc: 101 | Num protos: 5\n",
      "\tProto: 3 0.5555555555555556\n",
      "\tProto: 7 0.0\n",
      "\tProto: 1 0.6\n",
      "\tProto: 6 0.1111111111111111\n",
      "\tProto: 4 0.7142857142857143\n",
      "Node: 129+107 | Child: 107+151 | Purity: 0.2 | Num desc: 16 | Num protos: 5\n",
      "\tProto: 13 0.0\n",
      "\tProto: 16 0.5\n",
      "\tProto: 11 0.5\n",
      "\tProto: 18 0.0\n",
      "\tProto: 15 0.0\n",
      "Number of prototypes in parts_presences:  7\n",
      "Part-related (purity>0.5): 6\n",
      "Node: 043+042 | Child: 043+040 | Purity: 0.68 | Num desc: 5 | Num protos: 5\n",
      "\tProto: 3 0.6\n",
      "\tProto: 7 0.9\n",
      "\tProto: 6 0.7\n",
      "\tProto: 0 0.7\n",
      "\tProto: 9 0.5\n",
      "Node: 043+042 | Child: cub_042_Vermilion_Flycatcher | Purity: 0.85 | Num desc: 1 | Num protos: 2\n",
      "\tProto: 15 1.0\n",
      "\tProto: 12 0.7\n",
      "Number of prototypes in parts_presences:  6\n",
      "Part-related (purity>0.5): 6\n",
      "Node: 078+038 | Child: cub_038_Great_Crested_Flycatcher | Purity: 0.95 | Num desc: 1 | Num protos: 2\n",
      "\tProto: 13 1.0\n",
      "\tProto: 19 0.9\n",
      "Node: 078+038 | Child: 078+041 | Purity: 0.925 | Num desc: 3 | Num protos: 4\n",
      "\tProto: 3 0.8\n",
      "\tProto: 7 0.9\n",
      "\tProto: 6 1.0\n",
      "\tProto: 9 1.0\n",
      "Number of prototypes in parts_presences:  7\n",
      "Part-related (purity>0.5): 6\n",
      "Node: 192+191 | Child: 192+187 | Purity: 0.7861111111111112 | Num desc: 3 | Num protos: 4\n",
      "\tProto: 9 0.4444444444444444\n",
      "\tProto: 5 1.0\n",
      "\tProto: 7 0.9\n",
      "\tProto: 1 0.8\n",
      "Node: 192+191 | Child: 191+189 | Purity: 0.8000000000000002 | Num desc: 2 | Num protos: 3\n",
      "\tProto: 11 0.9\n",
      "\tProto: 17 0.8\n",
      "\tProto: 10 0.7\n",
      "Number of prototypes in parts_presences:  5\n",
      "Part-related (purity>0.5): 5\n",
      "Node: 036+188 | Child: cub_036_Northern_Flicker | Purity: 0.75 | Num desc: 1 | Num protos: 2\n",
      "\tProto: 2 0.9\n",
      "\tProto: 9 0.6\n",
      "Node: 036+188 | Child: cub_188_Pileated_Woodpecker | Purity: 0.8333333333333334 | Num desc: 1 | Num protos: 3\n",
      "\tProto: 14 0.7\n",
      "\tProto: 12 1.0\n",
      "\tProto: 11 0.8\n",
      "Number of prototypes in parts_presences:  6\n",
      "Part-related (purity>0.5): 5\n",
      "Node: 081+082 | Child: 082+079 | Purity: 0.8333333333333334 | Num desc: 2 | Num protos: 3\n",
      "\tProto: 15 1.0\n",
      "\tProto: 19 0.6\n",
      "\tProto: 12 0.9\n",
      "Node: 081+082 | Child: 081+080 | Purity: 0.6666666666666666 | Num desc: 2 | Num protos: 3\n",
      "\tProto: 8 0.8\n",
      "\tProto: 0 0.5\n",
      "\tProto: 7 0.7\n",
      "Number of prototypes in parts_presences:  8\n",
      "Part-related (purity>0.5): 6\n",
      "Node: 065+061 | Child: 065+066 | Purity: 0.8105555555555556 | Num desc: 5 | Num protos: 5\n",
      "\tProto: 1 0.9\n",
      "\tProto: 4 1.0\n",
      "\tProto: 2 0.875\n",
      "\tProto: 0 0.5\n",
      "\tProto: 9 0.7777777777777778\n",
      "Node: 065+061 | Child: 061+064 | Purity: 0.6333333333333333 | Num desc: 2 | Num protos: 3\n",
      "\tProto: 18 0.3\n",
      "\tProto: 16 0.9\n",
      "\tProto: 19 0.7\n",
      "Number of prototypes in parts_presences:  4\n",
      "Part-related (purity>0.5): 1\n",
      "Node: 084+063 | Child: cub_063_Ivory_Gull | Purity: 0.5 | Num desc: 1 | Num protos: 2\n",
      "\tProto: 17 1.0\n",
      "\tProto: 10 0.0\n",
      "Node: 084+063 | Child: cub_084_Red_legged_Kittiwake | Purity: 0.05 | Num desc: 1 | Num protos: 2\n",
      "\tProto: 8 0.0\n",
      "\tProto: 4 0.1\n",
      "Number of prototypes in parts_presences:  7\n",
      "Part-related (purity>0.5): 3\n",
      "Node: 144+143 | Child: 144+142 | Purity: 0.2 | Num desc: 5 | Num protos: 4\n",
      "\tProto: 7 0.0\n",
      "\tProto: 5 0.8\n",
      "\tProto: 8 0.0\n",
      "\tProto: 2 0.0\n",
      "Node: 144+143 | Child: cub_143_Caspian_Tern | Purity: 0.75 | Num desc: 1 | Num protos: 3\n",
      "\tProto: 11 0.25\n",
      "\tProto: 13 1.0\n",
      "\tProto: 10 1.0\n",
      "Number of prototypes in parts_presences:  8\n",
      "Part-related (purity>0.5): 6\n",
      "Node: 006+008 | Child: 006+005 | Purity: 0.76 | Num desc: 3 | Num protos: 5\n",
      "\tProto: 3 0.8\n",
      "\tProto: 7 0.8\n",
      "\tProto: 4 0.6\n",
      "\tProto: 5 0.7\n",
      "\tProto: 2 0.9\n",
      "Node: 006+008 | Child: 008+106 | Purity: 0.5925925925925926 | Num desc: 2 | Num protos: 3\n",
      "\tProto: 15 0.7777777777777778\n",
      "\tProto: 16 0.5\n",
      "\tProto: 19 0.5\n",
      "Number of prototypes in parts_presences:  8\n",
      "Part-related (purity>0.5): 7\n",
      "Node: 024+100 | Child: 024+023 | Purity: 0.74 | Num desc: 3 | Num protos: 5\n",
      "\tProto: 7 1.0\n",
      "\tProto: 4 0.7\n",
      "\tProto: 5 1.0\n",
      "\tProto: 0 0.4\n",
      "\tProto: 9 0.6\n",
      "Node: 024+100 | Child: 100+101 | Purity: 0.7999999999999999 | Num desc: 2 | Num protos: 3\n",
      "\tProto: 17 0.9\n",
      "\tProto: 16 0.6\n",
      "\tProto: 11 0.9\n",
      "Number of prototypes in parts_presences:  6\n",
      "Part-related (purity>0.5): 6\n",
      "Node: 001+045 | Child: 001+003 | Purity: 0.825 | Num desc: 3 | Num protos: 4\n",
      "\tProto: 9 0.9\n",
      "\tProto: 5 0.8\n",
      "\tProto: 2 0.8\n",
      "\tProto: 1 0.8\n",
      "Node: 001+045 | Child: cub_045_Northern_Fulmar | Purity: 0.95 | Num desc: 1 | Num protos: 2\n",
      "\tProto: 18 1.0\n",
      "\tProto: 10 0.9\n",
      "Number of prototypes in parts_presences:  5\n",
      "Part-related (purity>0.5): 5\n",
      "Node: 031+033 | Child: cub_031_Black_billed_Cuckoo | Purity: 0.9666666666666667 | Num desc: 1 | Num protos: 3\n",
      "\tProto: 0 1.0\n",
      "\tProto: 2 1.0\n",
      "\tProto: 1 0.9\n",
      "Node: 031+033 | Child: cub_033_Yellow_billed_Cuckoo | Purity: 1.0 | Num desc: 1 | Num protos: 2\n",
      "\tProto: 17 1.0\n",
      "\tProto: 11 1.0\n",
      "Number of prototypes in parts_presences:  12\n",
      "Part-related (purity>0.5): 4\n",
      "Node: 129+136 | Child: 129+199 | Purity: 0.4714285714285715 | Num desc: 97 | Num protos: 7\n",
      "\tProto: 3 0.5\n",
      "\tProto: 1 0.7\n",
      "\tProto: 6 0.7\n",
      "\tProto: 8 0.4\n",
      "\tProto: 2 0.2\n",
      "\tProto: 0 0.6\n",
      "\tProto: 9 0.2\n",
      "Node: 129+136 | Child: 136+085 | Purity: 0.18 | Num desc: 4 | Num protos: 5\n",
      "\tProto: 11 0.0\n",
      "\tProto: 12 0.0\n",
      "\tProto: 14 0.0\n",
      "\tProto: 19 0.0\n",
      "\tProto: 10 0.9\n",
      "Number of prototypes in parts_presences:  12\n",
      "Part-related (purity>0.5): 6\n",
      "Node: 107+151 | Child: 107+111 | Purity: 0.5296296296296297 | Num desc: 9 | Num protos: 6\n",
      "\tProto: 3 0.6\n",
      "\tProto: 7 0.1\n",
      "\tProto: 1 0.3\n",
      "\tProto: 2 0.6\n",
      "\tProto: 0 0.7777777777777778\n",
      "\tProto: 9 0.8\n",
      "Node: 107+151 | Child: 151+153 | Purity: 0.22962962962962963 | Num desc: 7 | Num protos: 6\n",
      "\tProto: 13 0.1111111111111111\n",
      "\tProto: 17 0.6666666666666666\n",
      "\tProto: 18 0.0\n",
      "\tProto: 12 0.6\n",
      "\tProto: 15 0.0\n",
      "\tProto: 19 0.0\n",
      "Number of prototypes in parts_presences:  8\n",
      "Part-related (purity>0.5): 7\n",
      "Node: 043+040 | Child: 043+037 | Purity: 0.875 | Num desc: 3 | Num protos: 4\n",
      "\tProto: 9 1.0\n",
      "\tProto: 5 0.9\n",
      "\tProto: 8 0.6\n",
      "\tProto: 4 1.0\n",
      "Node: 043+040 | Child: 040+102 | Purity: 0.7 | Num desc: 2 | Num protos: 4\n",
      "\tProto: 19 0.1111111111111111\n",
      "\tProto: 13 1.0\n",
      "\tProto: 12 0.8\n",
      "\tProto: 17 0.8888888888888888\n",
      "Number of prototypes in parts_presences:  7\n",
      "Part-related (purity>0.5): 5\n",
      "Node: 078+041 | Child: cub_041_Scissor_tailed_Flycatcher | Purity: 0.7999999999999999 | Num desc: 1 | Num protos: 3\n",
      "\tProto: 13 0.9\n",
      "\tProto: 19 0.5\n",
      "\tProto: 17 1.0\n",
      "Node: 078+041 | Child: 078+077 | Purity: 0.6694444444444445 | Num desc: 2 | Num protos: 4\n",
      "\tProto: 6 0.7777777777777778\n",
      "\tProto: 5 0.9\n",
      "\tProto: 0 1.0\n",
      "\tProto: 2 0.0\n",
      "Number of prototypes in parts_presences:  4\n",
      "Part-related (purity>0.5): 4\n",
      "Node: 192+187 | Child: cub_187_American_Three_toed_Woodpecker | Purity: 0.9 | Num desc: 1 | Num protos: 2\n",
      "\tProto: 19 1.0\n",
      "\tProto: 10 0.8\n",
      "Node: 192+187 | Child: 192+190 | Purity: 0.8500000000000001 | Num desc: 2 | Num protos: 2\n",
      "\tProto: 1 0.9\n",
      "\tProto: 4 0.8\n",
      "Number of prototypes in parts_presences:  4\n",
      "Part-related (purity>0.5): 4\n",
      "Node: 191+189 | Child: cub_189_Red_bellied_Woodpecker | Purity: 1.0 | Num desc: 1 | Num protos: 2\n",
      "\tProto: 13 1.0\n",
      "\tProto: 16 1.0\n",
      "Node: 191+189 | Child: cub_191_Red_headed_Woodpecker | Purity: 0.95 | Num desc: 1 | Num protos: 2\n",
      "\tProto: 8 0.9\n",
      "\tProto: 0 1.0\n",
      "Number of prototypes in parts_presences:  4\n",
      "Part-related (purity>0.5): 4\n",
      "Node: 081+080 | Child: cub_080_Green_Kingfisher | Purity: 0.8500000000000001 | Num desc: 1 | Num protos: 2\n",
      "\tProto: 18 0.9\n",
      "\tProto: 17 0.8\n",
      "Node: 081+080 | Child: cub_081_Pied_Kingfisher | Purity: 0.95 | Num desc: 1 | Num protos: 2\n",
      "\tProto: 8 0.9\n",
      "\tProto: 1 1.0\n",
      "Number of prototypes in parts_presences:  5\n",
      "Part-related (purity>0.5): 3\n",
      "Node: 082+079 | Child: cub_079_Belted_Kingfisher | Purity: 0.6111111111111112 | Num desc: 1 | Num protos: 3\n",
      "\tProto: 18 0.9\n",
      "\tProto: 17 0.3333333333333333\n",
      "\tProto: 16 0.6\n",
      "Node: 082+079 | Child: cub_082_Ringed_Kingfisher | Purity: 0.5611111111111111 | Num desc: 1 | Num protos: 2\n",
      "\tProto: 8 0.9\n",
      "\tProto: 9 0.2222222222222222\n",
      "Number of prototypes in parts_presences:  9\n",
      "Part-related (purity>0.5): 7\n",
      "Node: 065+066 | Child: 065+062 | Purity: 0.7177777777777777 | Num desc: 4 | Num protos: 5\n",
      "\tProto: 3 0.2222222222222222\n",
      "\tProto: 1 0.6666666666666666\n",
      "\tProto: 6 0.9\n",
      "\tProto: 0 1.0\n",
      "\tProto: 9 0.8\n",
      "Node: 065+066 | Child: cub_066_Western_Gull | Purity: 0.7 | Num desc: 1 | Num protos: 4\n",
      "\tProto: 14 0.9\n",
      "\tProto: 13 0.9\n",
      "\tProto: 16 0.0\n",
      "\tProto: 17 1.0\n",
      "Number of prototypes in parts_presences:  6\n",
      "Part-related (purity>0.5): 6\n",
      "Node: 061+064 | Child: cub_061_Heermann_Gull | Purity: 0.9 | Num desc: 1 | Num protos: 3\n",
      "\tProto: 6 0.7\n",
      "\tProto: 1 1.0\n",
      "\tProto: 4 1.0\n",
      "Node: 061+064 | Child: cub_064_Ring_billed_Gull | Purity: 0.9 | Num desc: 1 | Num protos: 3\n",
      "\tProto: 17 0.7\n",
      "\tProto: 16 1.0\n",
      "\tProto: 11 1.0\n",
      "Number of prototypes in parts_presences:  7\n",
      "Part-related (purity>0.5): 7\n",
      "Node: 144+142 | Child: 144+145 | Purity: 0.7711111111111112 | Num desc: 4 | Num protos: 5\n",
      "\tProto: 7 0.8\n",
      "\tProto: 1 0.8\n",
      "\tProto: 6 0.8\n",
      "\tProto: 4 0.9\n",
      "\tProto: 9 0.5555555555555556\n",
      "Node: 144+142 | Child: cub_142_Black_Tern | Purity: 0.9 | Num desc: 1 | Num protos: 2\n",
      "\tProto: 18 0.8\n",
      "\tProto: 11 1.0\n",
      "Number of prototypes in parts_presences:  5\n",
      "Part-related (purity>0.5): 4\n",
      "Node: 006+005 | Child: cub_005_Crested_Auklet | Purity: 0.95 | Num desc: 1 | Num protos: 2\n",
      "\tProto: 14 0.9\n",
      "\tProto: 10 1.0\n",
      "Node: 006+005 | Child: 006+007 | Purity: 0.5666666666666667 | Num desc: 2 | Num protos: 3\n",
      "\tProto: 3 0.8\n",
      "\tProto: 8 0.2\n",
      "\tProto: 7 0.7\n",
      "Number of prototypes in parts_presences:  5\n",
      "Part-related (purity>0.5): 3\n",
      "Node: 008+106 | Child: cub_008_Rhinoceros_Auklet | Purity: 0.6 | Num desc: 1 | Num protos: 3\n",
      "\tProto: 3 0.7\n",
      "\tProto: 7 0.5\n",
      "\tProto: 1 0.6\n",
      "Node: 008+106 | Child: cub_106_Horned_Puffin | Purity: 0.65 | Num desc: 1 | Num protos: 2\n",
      "\tProto: 17 0.3\n",
      "\tProto: 16 1.0\n",
      "Number of prototypes in parts_presences:  6\n",
      "Part-related (purity>0.5): 6\n",
      "Node: 024+023 | Child: cub_023_Brandt_Cormorant | Purity: 0.8666666666666667 | Num desc: 1 | Num protos: 3\n",
      "\tProto: 15 0.8\n",
      "\tProto: 18 0.8\n",
      "\tProto: 17 1.0\n",
      "Node: 024+023 | Child: 024+025 | Purity: 0.8962962962962964 | Num desc: 2 | Num protos: 3\n",
      "\tProto: 8 0.8\n",
      "\tProto: 7 1.0\n",
      "\tProto: 1 0.8888888888888888\n",
      "Number of prototypes in parts_presences:  4\n",
      "Part-related (purity>0.5): 3\n",
      "Node: 100+101 | Child: cub_100_Brown_Pelican | Purity: 0.5 | Num desc: 1 | Num protos: 2\n",
      "\tProto: 0 0.0\n",
      "\tProto: 1 1.0\n",
      "Node: 100+101 | Child: cub_101_White_Pelican | Purity: 0.95 | Num desc: 1 | Num protos: 2\n",
      "\tProto: 11 0.9\n",
      "\tProto: 10 1.0\n",
      "Number of prototypes in parts_presences:  4\n",
      "Part-related (purity>0.5): 4\n",
      "Node: 001+003 | Child: 001+002 | Purity: 1.0 | Num desc: 2 | Num protos: 2\n",
      "\tProto: 8 1.0\n",
      "\tProto: 7 1.0\n",
      "Node: 001+003 | Child: cub_003_Sooty_Albatross | Purity: 1.0 | Num desc: 1 | Num protos: 2\n",
      "\tProto: 13 1.0\n",
      "\tProto: 12 1.0\n",
      "Number of prototypes in parts_presences:  8\n",
      "Part-related (purity>0.5): 3\n",
      "Node: 129+199 | Child: 129+118 | Purity: 0.6259259259259259 | Num desc: 82 | Num protos: 3\n",
      "\tProto: 5 0.5\n",
      "\tProto: 2 0.6\n",
      "\tProto: 9 0.7777777777777778\n",
      "Node: 129+199 | Child: 199+186 | Purity: 0.34 | Num desc: 15 | Num protos: 5\n",
      "\tProto: 11 0.6\n",
      "\tProto: 18 0.2\n",
      "\tProto: 14 0.0\n",
      "\tProto: 15 0.4\n",
      "\tProto: 10 0.5\n",
      "Number of prototypes in parts_presences:  6\n",
      "Part-related (purity>0.5): 4\n",
      "Node: 136+085 | Child: cub_085_Horned_Lark | Purity: 0.5055555555555555 | Num desc: 1 | Num protos: 2\n",
      "\tProto: 17 0.9\n",
      "\tProto: 19 0.1111111111111111\n",
      "Node: 136+085 | Child: 136+138 | Purity: 0.7 | Num desc: 3 | Num protos: 4\n",
      "\tProto: 3 0.9\n",
      "\tProto: 5 0.9\n",
      "\tProto: 8 1.0\n",
      "\tProto: 7 0.0\n",
      "Number of prototypes in parts_presences:  10\n",
      "Part-related (purity>0.5): 7\n",
      "Node: 107+111 | Child: 107+073 | Purity: 0.5 | Num desc: 7 | Num protos: 8\n",
      "\tProto: 1 0.8\n",
      "\tProto: 6 0.7\n",
      "\tProto: 4 0.0\n",
      "\tProto: 5 0.6\n",
      "\tProto: 8 0.4\n",
      "\tProto: 2 0.7\n",
      "\tProto: 0 0.0\n",
      "\tProto: 9 0.8\n",
      "Node: 107+111 | Child: 111+112 | Purity: 0.9444444444444444 | Num desc: 2 | Num protos: 2\n",
      "\tProto: 13 0.8888888888888888\n",
      "\tProto: 10 1.0\n",
      "Number of prototypes in parts_presences:  9\n",
      "Part-related (purity>0.5): 9\n",
      "Node: 151+153 | Child: 151+157 | Purity: 0.8555555555555555 | Num desc: 4 | Num protos: 5\n",
      "\tProto: 3 0.8\n",
      "\tProto: 7 0.8\n",
      "\tProto: 6 0.7777777777777778\n",
      "\tProto: 5 1.0\n",
      "\tProto: 8 0.9\n",
      "Node: 151+153 | Child: 153+154 | Purity: 0.8916666666666666 | Num desc: 3 | Num protos: 4\n",
      "\tProto: 19 0.7777777777777778\n",
      "\tProto: 18 0.9\n",
      "\tProto: 16 0.8888888888888888\n",
      "\tProto: 12 1.0\n",
      "Number of prototypes in parts_presences:  5\n",
      "Part-related (purity>0.5): 4\n",
      "Node: 043+037 | Child: cub_037_Acadian_Flycatcher | Purity: 0.5 | Num desc: 1 | Num protos: 2\n",
      "\tProto: 16 0.0\n",
      "\tProto: 11 1.0\n",
      "Node: 043+037 | Child: 043+039 | Purity: 0.8546296296296297 | Num desc: 2 | Num protos: 3\n",
      "\tProto: 9 0.8\n",
      "\tProto: 0 0.8888888888888888\n",
      "\tProto: 1 0.875\n",
      "Number of prototypes in parts_presences:  5\n",
      "Part-related (purity>0.5): 5\n",
      "Node: 040+102 | Child: cub_040_Olive_sided_Flycatcher | Purity: 0.9296296296296296 | Num desc: 1 | Num protos: 3\n",
      "\tProto: 6 0.8888888888888888\n",
      "\tProto: 5 0.9\n",
      "\tProto: 4 1.0\n",
      "Node: 040+102 | Child: cub_102_Western_Wood_Pewee | Purity: 0.95 | Num desc: 1 | Num protos: 2\n",
      "\tProto: 18 0.9\n",
      "\tProto: 16 1.0\n",
      "Number of prototypes in parts_presences:  5\n",
      "Part-related (purity>0.5): 4\n",
      "Node: 078+077 | Child: cub_077_Tropical_Kingbird | Purity: 0.5888888888888889 | Num desc: 1 | Num protos: 2\n",
      "\tProto: 13 0.4\n",
      "\tProto: 17 0.7777777777777778\n",
      "Node: 078+077 | Child: cub_078_Gray_Kingbird | Purity: 0.762962962962963 | Num desc: 1 | Num protos: 3\n",
      "\tProto: 6 0.8888888888888888\n",
      "\tProto: 0 0.6\n",
      "\tProto: 1 0.8\n",
      "Number of prototypes in parts_presences:  4\n",
      "Part-related (purity>0.5): 4\n",
      "Node: 192+190 | Child: cub_190_Red_cockaded_Woodpecker | Purity: 0.9 | Num desc: 1 | Num protos: 2\n",
      "\tProto: 15 0.8\n",
      "\tProto: 13 1.0\n",
      "Node: 192+190 | Child: cub_192_Downy_Woodpecker | Purity: 0.75 | Num desc: 1 | Num protos: 2\n",
      "\tProto: 7 0.6\n",
      "\tProto: 4 0.9\n",
      "Number of prototypes in parts_presences:  6\n",
      "Part-related (purity>0.5): 3\n",
      "Node: 065+062 | Child: 065+059 | Purity: 0.586111111111111 | Num desc: 3 | Num protos: 4\n",
      "\tProto: 3 1.0\n",
      "\tProto: 6 0.2\n",
      "\tProto: 8 0.7\n",
      "\tProto: 2 0.4444444444444444\n",
      "Node: 065+062 | Child: cub_062_Herring_Gull | Purity: 0.5944444444444444 | Num desc: 1 | Num protos: 2\n",
      "\tProto: 13 0.3\n",
      "\tProto: 12 0.8888888888888888\n",
      "Number of prototypes in parts_presences:  6\n",
      "Part-related (purity>0.5): 3\n",
      "Node: 144+145 | Child: 144+146 | Purity: 0.5370370370370371 | Num desc: 3 | Num protos: 3\n",
      "\tProto: 5 0.5\n",
      "\tProto: 7 0.8888888888888888\n",
      "\tProto: 1 0.2222222222222222\n",
      "Node: 144+145 | Child: cub_145_Elegant_Tern | Purity: 0.6666666666666666 | Num desc: 1 | Num protos: 3\n",
      "\tProto: 18 1.0\n",
      "\tProto: 13 0.9\n",
      "\tProto: 10 0.1\n",
      "Number of prototypes in parts_presences:  4\n",
      "Part-related (purity>0.5): 4\n",
      "Node: 006+007 | Child: cub_006_Least_Auklet | Purity: 0.95 | Num desc: 1 | Num protos: 2\n",
      "\tProto: 3 1.0\n",
      "\tProto: 5 0.9\n",
      "Node: 006+007 | Child: cub_007_Parakeet_Auklet | Purity: 1.0 | Num desc: 1 | Num protos: 2\n",
      "\tProto: 13 1.0\n",
      "\tProto: 16 1.0\n",
      "Number of prototypes in parts_presences:  4\n",
      "Part-related (purity>0.5): 4\n",
      "Node: 024+025 | Child: cub_024_Red_faced_Cormorant | Purity: 1.0 | Num desc: 1 | Num protos: 2\n",
      "\tProto: 5 1.0\n",
      "\tProto: 7 1.0\n",
      "Node: 024+025 | Child: cub_025_Pelagic_Cormorant | Purity: 0.9 | Num desc: 1 | Num protos: 2\n",
      "\tProto: 16 0.9\n",
      "\tProto: 12 0.9\n",
      "Number of prototypes in parts_presences:  3\n",
      "Part-related (purity>0.5): 3\n",
      "Node: 001+002 | Child: cub_001_Black_footed_Albatross | Purity: 1.0 | Num desc: 1 | Num protos: 1\n",
      "\tProto: 9 1.0\n",
      "Node: 001+002 | Child: cub_002_Laysan_Albatross | Purity: 0.85 | Num desc: 1 | Num protos: 2\n",
      "\tProto: 15 0.7\n",
      "\tProto: 17 1.0\n",
      "Number of prototypes in parts_presences:  7\n",
      "Part-related (purity>0.5): 2\n",
      "Node: 129+118 | Child: 129+104 | Purity: 0.39999999999999997 | Num desc: 81 | Num protos: 2\n",
      "\tProto: 3 0.1\n",
      "\tProto: 9 0.7\n",
      "Node: 129+118 | Child: cub_118_House_Sparrow | Purity: 0.28500000000000003 | Num desc: 1 | Num protos: 5\n",
      "\tProto: 13 0.2\n",
      "\tProto: 16 0.9\n",
      "\tProto: 17 0.2\n",
      "\tProto: 18 0.0\n",
      "\tProto: 19 0.125\n",
      "Number of prototypes in parts_presences:  12\n",
      "Part-related (purity>0.5): 8\n",
      "Node: 199+186 | Child: 199+150 | Purity: 0.5714285714285714 | Num desc: 13 | Num protos: 7\n",
      "\tProto: 3 0.4\n",
      "\tProto: 7 0.5\n",
      "\tProto: 1 0.1\n",
      "\tProto: 5 0.8\n",
      "\tProto: 2 0.5\n",
      "\tProto: 0 0.8\n",
      "\tProto: 9 0.9\n",
      "Node: 199+186 | Child: 186+185 | Purity: 0.8400000000000001 | Num desc: 2 | Num protos: 5\n",
      "\tProto: 13 0.9\n",
      "\tProto: 14 0.9\n",
      "\tProto: 15 0.8\n",
      "\tProto: 19 1.0\n",
      "\tProto: 10 0.6\n",
      "Number of prototypes in parts_presences:  5\n",
      "Part-related (purity>0.5): 5\n",
      "Node: 136+138 | Child: 136+137 | Purity: 0.9296296296296296 | Num desc: 2 | Num protos: 3\n",
      "\tProto: 3 0.9\n",
      "\tProto: 5 0.8888888888888888\n",
      "\tProto: 0 1.0\n",
      "Node: 136+138 | Child: cub_138_Tree_Swallow | Purity: 1.0 | Num desc: 1 | Num protos: 2\n",
      "\tProto: 15 1.0\n",
      "\tProto: 19 1.0\n",
      "Number of prototypes in parts_presences:  9\n",
      "Part-related (purity>0.5): 8\n",
      "Node: 107+073 | Child: 107+093 | Purity: 0.75 | Num desc: 5 | Num protos: 6\n",
      "\tProto: 3 0.8\n",
      "\tProto: 1 0.9\n",
      "\tProto: 5 0.9\n",
      "\tProto: 8 0.9\n",
      "\tProto: 2 0.1\n",
      "\tProto: 0 0.9\n",
      "Node: 107+073 | Child: 073+074 | Purity: 0.7666666666666666 | Num desc: 2 | Num protos: 3\n",
      "\tProto: 15 0.6\n",
      "\tProto: 14 0.9\n",
      "\tProto: 19 0.8\n",
      "Number of prototypes in parts_presences:  4\n",
      "Part-related (purity>0.5): 1\n",
      "Node: 111+112 | Child: cub_111_Loggerhead_Shrike | Purity: 0.45 | Num desc: 1 | Num protos: 2\n",
      "\tProto: 5 0.8\n",
      "\tProto: 0 0.1\n",
      "Node: 111+112 | Child: cub_112_Great_Grey_Shrike | Purity: 0.15 | Num desc: 1 | Num protos: 2\n",
      "\tProto: 13 0.3\n",
      "\tProto: 17 0.0\n",
      "Number of prototypes in parts_presences:  6\n",
      "Part-related (purity>0.5): 6\n",
      "Node: 151+157 | Child: 151+156 | Purity: 0.7925925925925926 | Num desc: 2 | Num protos: 3\n",
      "\tProto: 3 0.7\n",
      "\tProto: 6 0.7777777777777778\n",
      "\tProto: 4 0.9\n",
      "Node: 151+157 | Child: 157+152 | Purity: 0.9333333333333332 | Num desc: 2 | Num protos: 3\n",
      "\tProto: 13 1.0\n",
      "\tProto: 19 0.8\n",
      "\tProto: 11 1.0\n",
      "Number of prototypes in parts_presences:  5\n",
      "Part-related (purity>0.5): 2\n",
      "Node: 153+154 | Child: 153+155 | Purity: 0.46666666666666673 | Num desc: 2 | Num protos: 3\n",
      "\tProto: 3 0.9\n",
      "\tProto: 5 0.2\n",
      "\tProto: 9 0.3\n",
      "Node: 153+154 | Child: cub_154_Red_eyed_Vireo | Purity: 0.6000000000000001 | Num desc: 1 | Num protos: 2\n",
      "\tProto: 19 0.8\n",
      "\tProto: 10 0.4\n",
      "Number of prototypes in parts_presences:  5\n",
      "Part-related (purity>0.5): 5\n",
      "Node: 043+039 | Child: cub_039_Least_Flycatcher | Purity: 0.8500000000000001 | Num desc: 1 | Num protos: 2\n",
      "\tProto: 15 0.9\n",
      "\tProto: 18 0.8\n",
      "Node: 043+039 | Child: cub_043_Yellow_bellied_Flycatcher | Purity: 0.9 | Num desc: 1 | Num protos: 3\n",
      "\tProto: 3 1.0\n",
      "\tProto: 8 0.8\n",
      "\tProto: 2 0.9\n",
      "Number of prototypes in parts_presences:  6\n",
      "Part-related (purity>0.5): 4\n",
      "Node: 065+059 | Child: cub_059_California_Gull | Purity: 0.7666666666666666 | Num desc: 1 | Num protos: 3\n",
      "\tProto: 13 1.0\n",
      "\tProto: 16 0.9\n",
      "\tProto: 17 0.4\n",
      "Node: 065+059 | Child: 065+060 | Purity: 0.5666666666666667 | Num desc: 2 | Num protos: 3\n",
      "\tProto: 3 0.1\n",
      "\tProto: 5 0.6\n",
      "\tProto: 2 1.0\n",
      "Number of prototypes in parts_presences:  5\n",
      "Part-related (purity>0.5): 5\n",
      "Node: 144+146 | Child: 144+141 | Purity: 0.8666666666666667 | Num desc: 2 | Num protos: 3\n",
      "\tProto: 8 0.8\n",
      "\tProto: 0 0.9\n",
      "\tProto: 1 0.9\n",
      "Node: 144+146 | Child: cub_146_Forsters_Tern | Purity: 0.95 | Num desc: 1 | Num protos: 2\n",
      "\tProto: 12 1.0\n",
      "\tProto: 11 0.9\n",
      "Number of prototypes in parts_presences:  11\n",
      "Part-related (purity>0.5): 8\n",
      "Node: 129+104 | Child: 129+035 | Purity: 0.4746031746031746 | Num desc: 80 | Num protos: 7\n",
      "\tProto: 3 0.7\n",
      "\tProto: 4 0.1111111111111111\n",
      "\tProto: 5 0.4444444444444444\n",
      "\tProto: 8 0.8\n",
      "\tProto: 2 0.6\n",
      "\tProto: 0 0.1111111111111111\n",
      "\tProto: 9 0.5555555555555556\n",
      "Node: 129+104 | Child: cub_104_American_Pipit | Purity: 0.7000000000000001 | Num desc: 1 | Num protos: 4\n",
      "\tProto: 11 0.6\n",
      "\tProto: 18 1.0\n",
      "\tProto: 19 0.6\n",
      "\tProto: 10 0.6\n",
      "Number of prototypes in parts_presences:  9\n",
      "Part-related (purity>0.5): 7\n",
      "Node: 199+150 | Child: 150+019 | Purity: 0.7222222222222222 | Num desc: 4 | Num protos: 4\n",
      "\tProto: 13 0.5\n",
      "\tProto: 19 0.6\n",
      "\tProto: 17 0.8888888888888888\n",
      "\tProto: 11 0.9\n",
      "Node: 199+150 | Child: 199+094 | Purity: 0.64 | Num desc: 9 | Num protos: 5\n",
      "\tProto: 3 0.9\n",
      "\tProto: 7 0.8\n",
      "\tProto: 4 0.0\n",
      "\tProto: 5 0.7\n",
      "\tProto: 0 0.8\n",
      "Number of prototypes in parts_presences:  5\n",
      "Part-related (purity>0.5): 4\n",
      "Node: 186+185 | Child: cub_185_Bohemian_Waxwing | Purity: 0.65 | Num desc: 1 | Num protos: 2\n",
      "\tProto: 14 0.8\n",
      "\tProto: 17 0.5\n",
      "Node: 186+185 | Child: cub_186_Cedar_Waxwing | Purity: 0.8518518518518517 | Num desc: 1 | Num protos: 3\n",
      "\tProto: 8 1.0\n",
      "\tProto: 0 1.0\n",
      "\tProto: 2 0.5555555555555556\n",
      "Number of prototypes in parts_presences:  4\n",
      "Part-related (purity>0.5): 3\n",
      "Node: 136+137 | Child: cub_136_Barn_Swallow | Purity: 0.8333333333333333 | Num desc: 1 | Num protos: 2\n",
      "\tProto: 7 0.6666666666666666\n",
      "\tProto: 4 1.0\n",
      "Node: 136+137 | Child: cub_137_Cliff_Swallow | Purity: 0.75 | Num desc: 1 | Num protos: 2\n",
      "\tProto: 13 0.5\n",
      "\tProto: 16 1.0\n",
      "Number of prototypes in parts_presences:  8\n",
      "Part-related (purity>0.5): 8\n",
      "Node: 107+093 | Child: 107+030 | Purity: 0.8955555555555555 | Num desc: 4 | Num protos: 5\n",
      "\tProto: 7 1.0\n",
      "\tProto: 1 1.0\n",
      "\tProto: 4 0.9\n",
      "\tProto: 5 0.7777777777777778\n",
      "\tProto: 9 0.8\n",
      "Node: 107+093 | Child: cub_093_Clark_Nutcracker | Purity: 0.8666666666666667 | Num desc: 1 | Num protos: 3\n",
      "\tProto: 15 0.7\n",
      "\tProto: 13 1.0\n",
      "\tProto: 10 0.9\n",
      "Number of prototypes in parts_presences:  5\n",
      "Part-related (purity>0.5): 5\n",
      "Node: 073+074 | Child: cub_073_Blue_Jay | Purity: 0.8666666666666666 | Num desc: 1 | Num protos: 3\n",
      "\tProto: 6 0.9\n",
      "\tProto: 0 1.0\n",
      "\tProto: 7 0.7\n",
      "Node: 073+074 | Child: cub_074_Florida_Jay | Purity: 1.0 | Num desc: 1 | Num protos: 2\n",
      "\tProto: 18 1.0\n",
      "\tProto: 11 1.0\n",
      "Number of prototypes in parts_presences:  5\n",
      "Part-related (purity>0.5): 5\n",
      "Node: 151+156 | Child: cub_151_Black_capped_Vireo | Purity: 0.8888888888888888 | Num desc: 1 | Num protos: 2\n",
      "\tProto: 7 0.7777777777777778\n",
      "\tProto: 4 1.0\n",
      "Node: 151+156 | Child: cub_156_White_eyed_Vireo | Purity: 0.9333333333333332 | Num desc: 1 | Num protos: 3\n",
      "\tProto: 15 1.0\n",
      "\tProto: 13 0.9\n",
      "\tProto: 12 0.9\n",
      "Number of prototypes in parts_presences:  5\n",
      "Part-related (purity>0.5): 5\n",
      "Node: 157+152 | Child: cub_152_Blue_headed_Vireo | Purity: 0.8875 | Num desc: 1 | Num protos: 2\n",
      "\tProto: 17 0.9\n",
      "\tProto: 11 0.875\n",
      "Node: 157+152 | Child: cub_157_Yellow_throated_Vireo | Purity: 0.9296296296296296 | Num desc: 1 | Num protos: 3\n",
      "\tProto: 5 0.9\n",
      "\tProto: 1 1.0\n",
      "\tProto: 4 0.8888888888888888\n",
      "Number of prototypes in parts_presences:  5\n",
      "Part-related (purity>0.5): 5\n",
      "Node: 153+155 | Child: cub_153_Philadelphia_Vireo | Purity: 0.9333333333333332 | Num desc: 1 | Num protos: 3\n",
      "\tProto: 5 1.0\n",
      "\tProto: 0 1.0\n",
      "\tProto: 2 0.8\n",
      "Node: 153+155 | Child: cub_155_Warbling_Vireo | Purity: 0.9444444444444444 | Num desc: 1 | Num protos: 2\n",
      "\tProto: 16 1.0\n",
      "\tProto: 19 0.8888888888888888\n",
      "Number of prototypes in parts_presences:  4\n",
      "Part-related (purity>0.5): 2\n",
      "Node: 065+060 | Child: cub_060_Glaucous_winged_Gull | Purity: 0.9 | Num desc: 1 | Num protos: 2\n",
      "\tProto: 14 0.9\n",
      "\tProto: 12 0.9\n",
      "Node: 065+060 | Child: cub_065_Slaty_backed_Gull | Purity: 0.15555555555555556 | Num desc: 1 | Num protos: 2\n",
      "\tProto: 9 0.2\n",
      "\tProto: 1 0.1111111111111111\n",
      "Number of prototypes in parts_presences:  5\n",
      "Part-related (purity>0.5): 5\n",
      "Node: 144+141 | Child: cub_141_Artic_Tern | Purity: 0.9444444444444444 | Num desc: 1 | Num protos: 2\n",
      "\tProto: 19 1.0\n",
      "\tProto: 12 0.8888888888888888\n",
      "Node: 144+141 | Child: cub_144_Common_Tern | Purity: 0.9 | Num desc: 1 | Num protos: 3\n",
      "\tProto: 7 0.8\n",
      "\tProto: 2 1.0\n",
      "\tProto: 1 0.9\n",
      "Number of prototypes in parts_presences:  12\n",
      "Part-related (purity>0.5): 5\n",
      "Node: 129+035 | Child: 129+054 | Purity: 0.4 | Num desc: 74 | Num protos: 8\n",
      "\tProto: 3 0.7\n",
      "\tProto: 7 0.1\n",
      "\tProto: 1 0.0\n",
      "\tProto: 6 0.7\n",
      "\tProto: 8 0.5\n",
      "\tProto: 2 0.6\n",
      "\tProto: 0 0.2\n",
      "\tProto: 9 0.4\n",
      "Node: 129+035 | Child: 035+055 | Purity: 0.4 | Num desc: 6 | Num protos: 4\n",
      "\tProto: 17 0.0\n",
      "\tProto: 16 0.9\n",
      "\tProto: 19 0.0\n",
      "\tProto: 11 0.7\n",
      "Number of prototypes in parts_presences:  7\n",
      "Part-related (purity>0.5): 6\n",
      "Node: 199+094 | Child: 199+028 | Purity: 0.6666666666666666 | Num desc: 8 | Num protos: 3\n",
      "\tProto: 3 0.2\n",
      "\tProto: 5 0.9\n",
      "\tProto: 0 0.9\n",
      "Node: 199+094 | Child: cub_094_White_breasted_Nuthatch | Purity: 0.7750000000000001 | Num desc: 1 | Num protos: 4\n",
      "\tProto: 11 0.9\n",
      "\tProto: 13 0.7\n",
      "\tProto: 16 0.8\n",
      "\tProto: 10 0.7\n",
      "Number of prototypes in parts_presences:  6\n",
      "Part-related (purity>0.5): 6\n",
      "Node: 150+019 | Child: cub_019_Gray_Catbird | Purity: 1.0 | Num desc: 1 | Num protos: 2\n",
      "\tProto: 12 1.0\n",
      "\tProto: 10 1.0\n",
      "Node: 150+019 | Child: 150+149 | Purity: 0.9 | Num desc: 3 | Num protos: 4\n",
      "\tProto: 3 0.9\n",
      "\tProto: 8 0.9\n",
      "\tProto: 7 0.9\n",
      "\tProto: 4 0.9\n",
      "Number of prototypes in parts_presences:  5\n",
      "Part-related (purity>0.5): 5\n",
      "Node: 107+030 | Child: 107+029 | Purity: 0.8444444444444444 | Num desc: 3 | Num protos: 2\n",
      "\tProto: 5 0.8888888888888888\n",
      "\tProto: 2 0.8\n",
      "Node: 107+030 | Child: cub_030_Fish_Crow | Purity: 0.8666666666666667 | Num desc: 1 | Num protos: 3\n",
      "\tProto: 15 0.7\n",
      "\tProto: 13 1.0\n",
      "\tProto: 12 0.9\n",
      "Number of prototypes in parts_presences:  8\n",
      "Part-related (purity>0.5): 3\n",
      "Node: 129+054 | Child: 129+175 | Purity: 0.5407407407407406 | Num desc: 66 | Num protos: 6\n",
      "\tProto: 1 0.6\n",
      "\tProto: 6 0.5\n",
      "\tProto: 4 0.6666666666666666\n",
      "\tProto: 5 0.3\n",
      "\tProto: 8 0.4\n",
      "\tProto: 2 0.7777777777777778\n",
      "Node: 129+054 | Child: 054+140 | Purity: 0.1 | Num desc: 8 | Num protos: 2\n",
      "\tProto: 15 0.2\n",
      "\tProto: 16 0.0\n",
      "Number of prototypes in parts_presences:  7\n",
      "Part-related (purity>0.5): 5\n",
      "Node: 035+055 | Child: 035+048 | Purity: 0.5599999999999999 | Num desc: 5 | Num protos: 5\n",
      "\tProto: 7 0.6\n",
      "\tProto: 4 0.4\n",
      "\tProto: 5 0.7\n",
      "\tProto: 0 0.4\n",
      "\tProto: 9 0.7\n",
      "Node: 035+055 | Child: cub_055_Evening_Grosbeak | Purity: 1.0 | Num desc: 1 | Num protos: 2\n",
      "\tProto: 15 1.0\n",
      "\tProto: 19 1.0\n",
      "Number of prototypes in parts_presences:  8\n",
      "Part-related (purity>0.5): 4\n",
      "Node: 199+028 | Child: cub_028_Brown_Creeper | Purity: 0.5 | Num desc: 1 | Num protos: 3\n",
      "\tProto: 14 0.3\n",
      "\tProto: 18 0.3\n",
      "\tProto: 16 0.9\n",
      "Node: 199+028 | Child: 199+198 | Purity: 0.6399999999999999 | Num desc: 7 | Num protos: 5\n",
      "\tProto: 7 0.2\n",
      "\tProto: 1 0.9\n",
      "\tProto: 5 0.4\n",
      "\tProto: 2 0.8\n",
      "\tProto: 0 0.9\n",
      "Number of prototypes in parts_presences:  6\n",
      "Part-related (purity>0.5): 5\n",
      "Node: 150+149 | Child: 150+091 | Purity: 0.75 | Num desc: 2 | Num protos: 4\n",
      "\tProto: 3 0.3\n",
      "\tProto: 8 1.0\n",
      "\tProto: 1 0.9\n",
      "\tProto: 9 0.8\n",
      "Node: 150+149 | Child: cub_149_Brown_Thrasher | Purity: 1.0 | Num desc: 1 | Num protos: 2\n",
      "\tProto: 15 1.0\n",
      "\tProto: 12 1.0\n",
      "Number of prototypes in parts_presences:  5\n",
      "Part-related (purity>0.5): 4\n",
      "Node: 107+029 | Child: cub_029_American_Crow | Purity: 0.8500000000000001 | Num desc: 1 | Num protos: 2\n",
      "\tProto: 13 0.9\n",
      "\tProto: 12 0.8\n",
      "Node: 107+029 | Child: 107+108 | Purity: 0.49259259259259264 | Num desc: 2 | Num protos: 3\n",
      "\tProto: 6 0.0\n",
      "\tProto: 0 0.7777777777777778\n",
      "\tProto: 2 0.7\n",
      "Number of prototypes in parts_presences:  11\n",
      "Part-related (purity>0.5): 4\n",
      "Node: 129+175 | Child: 129+011 | Purity: 0.24305555555555555 | Num desc: 36 | Num protos: 8\n",
      "\tProto: 3 0.0\n",
      "\tProto: 1 0.2\n",
      "\tProto: 6 0.5\n",
      "\tProto: 4 0.0\n",
      "\tProto: 5 0.0\n",
      "\tProto: 2 0.4444444444444444\n",
      "\tProto: 0 0.0\n",
      "\tProto: 9 0.8\n",
      "Node: 129+175 | Child: 175+020 | Purity: 0.6555555555555554 | Num desc: 30 | Num protos: 3\n",
      "\tProto: 15 0.7\n",
      "\tProto: 14 0.6\n",
      "\tProto: 16 0.6666666666666666\n",
      "Number of prototypes in parts_presences:  8\n",
      "Part-related (purity>0.5): 7\n",
      "Node: 054+140 | Child: 054+057 | Purity: 0.6425925925925926 | Num desc: 5 | Num protos: 6\n",
      "\tProto: 7 0.5555555555555556\n",
      "\tProto: 1 0.8\n",
      "\tProto: 6 0.9\n",
      "\tProto: 4 0.6\n",
      "\tProto: 5 0.6\n",
      "\tProto: 2 0.4\n",
      "Node: 054+140 | Child: 140+017 | Purity: 0.8500000000000001 | Num desc: 3 | Num protos: 2\n",
      "\tProto: 18 0.9\n",
      "\tProto: 13 0.8\n",
      "Number of prototypes in parts_presences:  6\n",
      "Part-related (purity>0.5): 5\n",
      "Node: 035+048 | Child: 035+056 | Purity: 0.6999999999999998 | Num desc: 3 | Num protos: 3\n",
      "\tProto: 3 0.5\n",
      "\tProto: 5 0.9\n",
      "\tProto: 7 0.7\n",
      "Node: 035+048 | Child: 048+047 | Purity: 0.7333333333333334 | Num desc: 2 | Num protos: 3\n",
      "\tProto: 16 0.7\n",
      "\tProto: 19 0.9\n",
      "\tProto: 11 0.6\n",
      "Number of prototypes in parts_presences:  10\n",
      "Part-related (purity>0.5): 6\n",
      "Node: 199+198 | Child: 199+194 | Purity: 0.43333333333333335 | Num desc: 6 | Num protos: 6\n",
      "\tProto: 3 0.8\n",
      "\tProto: 1 0.6\n",
      "\tProto: 6 0.8\n",
      "\tProto: 4 0.1\n",
      "\tProto: 5 0.0\n",
      "\tProto: 9 0.3\n",
      "Node: 199+198 | Child: cub_198_Rock_Wren | Purity: 0.65 | Num desc: 1 | Num protos: 4\n",
      "\tProto: 18 1.0\n",
      "\tProto: 13 1.0\n",
      "\tProto: 19 0.0\n",
      "\tProto: 11 0.6\n",
      "Number of prototypes in parts_presences:  5\n",
      "Part-related (purity>0.5): 5\n",
      "Node: 150+091 | Child: cub_091_Mockingbird | Purity: 0.95 | Num desc: 1 | Num protos: 2\n",
      "\tProto: 12 1.0\n",
      "\tProto: 10 0.9\n",
      "Node: 150+091 | Child: cub_150_Sage_Thrasher | Purity: 0.9666666666666667 | Num desc: 1 | Num protos: 3\n",
      "\tProto: 3 1.0\n",
      "\tProto: 7 1.0\n",
      "\tProto: 6 0.9\n",
      "Number of prototypes in parts_presences:  5\n",
      "Part-related (purity>0.5): 5\n",
      "Node: 107+108 | Child: cub_107_Common_Raven | Purity: 0.8333333333333334 | Num desc: 1 | Num protos: 3\n",
      "\tProto: 3 1.0\n",
      "\tProto: 6 0.7\n",
      "\tProto: 1 0.8\n",
      "Node: 107+108 | Child: cub_108_White_necked_Raven | Purity: 0.8571428571428572 | Num desc: 1 | Num protos: 2\n",
      "\tProto: 16 1.0\n",
      "\tProto: 19 0.7142857142857143\n",
      "Number of prototypes in parts_presences:  13\n",
      "Part-related (purity>0.5): 6\n",
      "Node: 129+011 | Child: 011+013 | Purity: 0.4810185185185185 | Num desc: 13 | Num protos: 6\n",
      "\tProto: 17 0.2\n",
      "\tProto: 16 0.3\n",
      "\tProto: 18 0.8\n",
      "\tProto: 12 0.875\n",
      "\tProto: 15 0.1111111111111111\n",
      "\tProto: 10 0.6\n",
      "Node: 129+011 | Child: 129+121 | Purity: 0.40158730158730155 | Num desc: 23 | Num protos: 7\n",
      "\tProto: 3 0.4\n",
      "\tProto: 7 0.2\n",
      "\tProto: 1 0.6\n",
      "\tProto: 4 0.8\n",
      "\tProto: 5 0.1111111111111111\n",
      "\tProto: 0 0.0\n",
      "\tProto: 9 0.7\n",
      "Number of prototypes in parts_presences:  11\n",
      "Part-related (purity>0.5): 8\n",
      "Node: 175+020 | Child: cub_020_Yellow_breasted_Chat | Purity: 0.9 | Num desc: 1 | Num protos: 3\n",
      "\tProto: 18 0.8\n",
      "\tProto: 17 0.9\n",
      "\tProto: 19 1.0\n",
      "Node: 175+020 | Child: 175+099 | Purity: 0.575 | Num desc: 29 | Num protos: 8\n",
      "\tProto: 3 0.5\n",
      "\tProto: 7 0.8\n",
      "\tProto: 6 0.5\n",
      "\tProto: 4 0.3\n",
      "\tProto: 5 0.6\n",
      "\tProto: 2 0.7\n",
      "\tProto: 0 0.6\n",
      "\tProto: 9 0.6\n",
      "Number of prototypes in parts_presences:  7\n",
      "Part-related (purity>0.5): 7\n",
      "Node: 054+057 | Child: 054+014 | Purity: 0.8133333333333332 | Num desc: 4 | Num protos: 5\n",
      "\tProto: 1 0.8\n",
      "\tProto: 6 0.6666666666666666\n",
      "\tProto: 4 0.8\n",
      "\tProto: 8 1.0\n",
      "\tProto: 2 0.8\n",
      "Node: 054+057 | Child: cub_057_Rose_breasted_Grosbeak | Purity: 0.85 | Num desc: 1 | Num protos: 2\n",
      "\tProto: 15 1.0\n",
      "\tProto: 10 0.7\n",
      "Number of prototypes in parts_presences:  5\n",
      "Part-related (purity>0.5): 4\n",
      "Node: 140+017 | Child: cub_017_Cardinal | Purity: 0.75 | Num desc: 1 | Num protos: 2\n",
      "\tProto: 16 0.9\n",
      "\tProto: 12 0.6\n",
      "Node: 140+017 | Child: 140+139 | Purity: 0.7333333333333334 | Num desc: 2 | Num protos: 3\n",
      "\tProto: 5 1.0\n",
      "\tProto: 8 0.5\n",
      "\tProto: 4 0.7\n",
      "Number of prototypes in parts_presences:  6\n",
      "Part-related (purity>0.5): 6\n",
      "Node: 035+056 | Child: 035+034 | Purity: 0.8 | Num desc: 2 | Num protos: 4\n",
      "\tProto: 3 0.6\n",
      "\tProto: 7 0.8\n",
      "\tProto: 1 1.0\n",
      "\tProto: 9 0.8\n",
      "Node: 035+056 | Child: cub_056_Pine_Grosbeak | Purity: 0.85 | Num desc: 1 | Num protos: 2\n",
      "\tProto: 13 0.7\n",
      "\tProto: 10 1.0\n",
      "Number of prototypes in parts_presences:  4\n",
      "Part-related (purity>0.5): 4\n",
      "Node: 048+047 | Child: cub_047_American_Goldfinch | Purity: 1.0 | Num desc: 1 | Num protos: 2\n",
      "\tProto: 13 1.0\n",
      "\tProto: 10 1.0\n",
      "Node: 048+047 | Child: cub_048_European_Goldfinch | Purity: 1.0 | Num desc: 1 | Num protos: 2\n",
      "\tProto: 7 1.0\n",
      "\tProto: 2 1.0\n",
      "Number of prototypes in parts_presences:  10\n",
      "Part-related (purity>0.5): 9\n",
      "Node: 199+194 | Child: 199+193 | Purity: 0.8166666666666668 | Num desc: 5 | Num protos: 6\n",
      "\tProto: 3 1.0\n",
      "\tProto: 7 0.6\n",
      "\tProto: 1 0.7\n",
      "\tProto: 4 0.9\n",
      "\tProto: 8 0.8\n",
      "\tProto: 0 0.9\n",
      "Node: 199+194 | Child: cub_194_Cactus_Wren | Purity: 0.85 | Num desc: 1 | Num protos: 4\n",
      "\tProto: 15 0.9\n",
      "\tProto: 14 1.0\n",
      "\tProto: 17 1.0\n",
      "\tProto: 12 0.5\n",
      "Number of prototypes in parts_presences:  9\n",
      "Part-related (purity>0.5): 8\n",
      "Node: 129+121 | Child: 129+117 | Purity: 0.7333333333333334 | Num desc: 22 | Num protos: 6\n",
      "\tProto: 3 0.8\n",
      "\tProto: 1 0.8\n",
      "\tProto: 6 0.8\n",
      "\tProto: 4 0.9\n",
      "\tProto: 5 0.4\n",
      "\tProto: 9 0.7\n",
      "Node: 129+121 | Child: cub_121_Grasshopper_Sparrow | Purity: 1.0 | Num desc: 1 | Num protos: 3\n",
      "\tProto: 18 1.0\n",
      "\tProto: 16 1.0\n",
      "\tProto: 11 1.0\n",
      "Number of prototypes in parts_presences:  11\n",
      "Part-related (purity>0.5): 6\n",
      "Node: 011+013 | Child: 011+095 | Purity: 0.5571428571428572 | Num desc: 10 | Num protos: 7\n",
      "\tProto: 7 0.9\n",
      "\tProto: 1 0.0\n",
      "\tProto: 6 0.7\n",
      "\tProto: 4 0.6\n",
      "\tProto: 5 0.7\n",
      "\tProto: 8 0.4\n",
      "\tProto: 0 0.6\n",
      "Node: 011+013 | Child: 013+088 | Purity: 0.4625 | Num desc: 3 | Num protos: 4\n",
      "\tProto: 17 0.2\n",
      "\tProto: 16 0.4\n",
      "\tProto: 12 0.25\n",
      "\tProto: 10 1.0\n",
      "Number of prototypes in parts_presences:  8\n",
      "Part-related (purity>0.5): 7\n",
      "Node: 175+099 | Child: cub_099_Ovenbird | Purity: 1.0 | Num desc: 1 | Num protos: 2\n",
      "\tProto: 17 1.0\n",
      "\tProto: 16 1.0\n",
      "Node: 175+099 | Child: 175+181 | Purity: 0.5833333333333334 | Num desc: 28 | Num protos: 6\n",
      "\tProto: 7 0.7777777777777778\n",
      "\tProto: 1 0.0\n",
      "\tProto: 6 0.7\n",
      "\tProto: 5 0.6666666666666666\n",
      "\tProto: 8 0.8\n",
      "\tProto: 0 0.5555555555555556\n",
      "Number of prototypes in parts_presences:  6\n",
      "Part-related (purity>0.5): 4\n",
      "Node: 054+014 | Child: cub_014_Indigo_Bunting | Purity: 0.7000000000000001 | Num desc: 1 | Num protos: 3\n",
      "\tProto: 14 0.7\n",
      "\tProto: 17 0.4\n",
      "\tProto: 12 1.0\n",
      "Node: 054+014 | Child: 054+016 | Purity: 0.7777777777777778 | Num desc: 3 | Num protos: 3\n",
      "\tProto: 6 1.0\n",
      "\tProto: 0 1.0\n",
      "\tProto: 1 0.3333333333333333\n",
      "Number of prototypes in parts_presences:  7\n",
      "Part-related (purity>0.5): 5\n",
      "Node: 140+139 | Child: cub_139_Scarlet_Tanager | Purity: 0.5333333333333333 | Num desc: 1 | Num protos: 3\n",
      "\tProto: 14 0.9\n",
      "\tProto: 18 0.6\n",
      "\tProto: 16 0.1\n",
      "Node: 140+139 | Child: cub_140_Summer_Tanager | Purity: 0.7694444444444444 | Num desc: 1 | Num protos: 4\n",
      "\tProto: 3 0.3\n",
      "\tProto: 5 1.0\n",
      "\tProto: 0 1.0\n",
      "\tProto: 2 0.7777777777777778\n",
      "Number of prototypes in parts_presences:  4\n",
      "Part-related (purity>0.5): 4\n",
      "Node: 035+034 | Child: cub_034_Gray_crowned_Rosy_Finch | Purity: 1.0 | Num desc: 1 | Num protos: 2\n",
      "\tProto: 12 1.0\n",
      "\tProto: 10 1.0\n",
      "Node: 035+034 | Child: cub_035_Purple_Finch | Purity: 1.0 | Num desc: 1 | Num protos: 2\n",
      "\tProto: 3 1.0\n",
      "\tProto: 0 1.0\n",
      "Number of prototypes in parts_presences:  8\n",
      "Part-related (purity>0.5): 8\n",
      "Node: 199+193 | Child: 193+195 | Purity: 0.9 | Num desc: 2 | Num protos: 3\n",
      "\tProto: 15 0.9\n",
      "\tProto: 12 1.0\n",
      "\tProto: 10 0.8\n",
      "Node: 199+193 | Child: 199+197 | Purity: 0.9 | Num desc: 3 | Num protos: 5\n",
      "\tProto: 7 0.8\n",
      "\tProto: 4 0.9\n",
      "\tProto: 5 1.0\n",
      "\tProto: 2 0.9\n",
      "\tProto: 0 0.9\n",
      "Number of prototypes in parts_presences:  11\n",
      "Part-related (purity>0.5): 3\n",
      "Node: 129+117 | Child: 129+133 | Purity: 0.2333333333333333 | Num desc: 17 | Num protos: 6\n",
      "\tProto: 3 0.0\n",
      "\tProto: 7 0.2\n",
      "\tProto: 1 0.0\n",
      "\tProto: 4 0.7\n",
      "\tProto: 8 0.5\n",
      "\tProto: 0 0.0\n",
      "Node: 129+117 | Child: 117+114 | Purity: 0.4 | Num desc: 5 | Num protos: 5\n",
      "\tProto: 13 0.7\n",
      "\tProto: 17 0.0\n",
      "\tProto: 15 0.5\n",
      "\tProto: 19 0.0\n",
      "\tProto: 10 0.8\n",
      "Number of prototypes in parts_presences:  9\n",
      "Part-related (purity>0.5): 3\n",
      "Node: 011+095 | Child: 011+026 | Purity: 0.2533333333333333 | Num desc: 6 | Num protos: 5\n",
      "\tProto: 3 0.6666666666666666\n",
      "\tProto: 1 0.5\n",
      "\tProto: 4 0.1\n",
      "\tProto: 5 0.0\n",
      "\tProto: 2 0.0\n",
      "Node: 011+095 | Child: 095+096 | Purity: 0.5333333333333333 | Num desc: 4 | Num protos: 4\n",
      "\tProto: 14 0.4444444444444444\n",
      "\tProto: 13 0.7\n",
      "\tProto: 16 0.8888888888888888\n",
      "\tProto: 11 0.1\n",
      "Number of prototypes in parts_presences:  5\n",
      "Part-related (purity>0.5): 5\n",
      "Node: 013+088 | Child: 013+012 | Purity: 0.9 | Num desc: 2 | Num protos: 3\n",
      "\tProto: 8 0.9\n",
      "\tProto: 7 0.9\n",
      "\tProto: 4 0.9\n",
      "Node: 013+088 | Child: cub_088_Western_Meadowlark | Purity: 0.95 | Num desc: 1 | Num protos: 2\n",
      "\tProto: 13 0.9\n",
      "\tProto: 16 1.0\n",
      "Number of prototypes in parts_presences:  8\n",
      "Part-related (purity>0.5): 7\n",
      "Node: 175+181 | Child: 175+168+173+183 | Purity: 0.7685185185185185 | Num desc: 27 | Num protos: 6\n",
      "\tProto: 3 0.7777777777777778\n",
      "\tProto: 1 0.8888888888888888\n",
      "\tProto: 6 0.8888888888888888\n",
      "\tProto: 4 0.6666666666666666\n",
      "\tProto: 8 0.5\n",
      "\tProto: 9 0.8888888888888888\n",
      "Node: 175+181 | Child: cub_181_Worm_eating_Warbler | Purity: 1.0 | Num desc: 1 | Num protos: 2\n",
      "\tProto: 19 1.0\n",
      "\tProto: 12 1.0\n",
      "Number of prototypes in parts_presences:  6\n",
      "Part-related (purity>0.5): 6\n",
      "Node: 054+016 | Child: 054+015 | Purity: 0.9249999999999999 | Num desc: 2 | Num protos: 4\n",
      "\tProto: 6 1.0\n",
      "\tProto: 0 0.8\n",
      "\tProto: 2 1.0\n",
      "\tProto: 7 0.9\n",
      "Node: 054+016 | Child: cub_016_Painted_Bunting | Purity: 0.8333333333333333 | Num desc: 1 | Num protos: 2\n",
      "\tProto: 16 0.7777777777777778\n",
      "\tProto: 19 0.8888888888888888\n",
      "Number of prototypes in parts_presences:  4\n",
      "Part-related (purity>0.5): 4\n",
      "Node: 199+197 | Child: 199+196 | Purity: 0.9296296296296296 | Num desc: 2 | Num protos: 3\n",
      "\tProto: 8 0.8888888888888888\n",
      "\tProto: 0 0.9\n",
      "\tProto: 1 1.0\n",
      "Node: 199+197 | Child: cub_197_Marsh_Wren | Purity: 1.0 | Num desc: 1 | Num protos: 1\n",
      "\tProto: 19 1.0\n",
      "Number of prototypes in parts_presences:  5\n",
      "Part-related (purity>0.5): 4\n",
      "Node: 193+195 | Child: cub_193_Bewick_Wren | Purity: 0.8944444444444444 | Num desc: 1 | Num protos: 2\n",
      "\tProto: 6 0.8888888888888888\n",
      "\tProto: 1 0.9\n",
      "Node: 193+195 | Child: cub_195_Carolina_Wren | Purity: 0.7666666666666666 | Num desc: 1 | Num protos: 3\n",
      "\tProto: 15 0.8\n",
      "\tProto: 14 0.5\n",
      "\tProto: 19 1.0\n",
      "Number of prototypes in parts_presences:  10\n",
      "Part-related (purity>0.5): 5\n",
      "Node: 129+133 | Child: 129+021 | Purity: 0.6644444444444444 | Num desc: 11 | Num protos: 5\n",
      "\tProto: 7 1.0\n",
      "\tProto: 1 0.7\n",
      "\tProto: 8 0.6\n",
      "\tProto: 2 0.8\n",
      "\tProto: 0 0.2222222222222222\n",
      "Node: 129+133 | Child: 133+130 | Purity: 0.45999999999999996 | Num desc: 6 | Num protos: 5\n",
      "\tProto: 13 0.4\n",
      "\tProto: 16 0.9\n",
      "\tProto: 12 0.5\n",
      "\tProto: 14 0.5\n",
      "\tProto: 10 0.0\n",
      "Number of prototypes in parts_presences:  7\n",
      "Part-related (purity>0.5): 6\n",
      "Node: 117+114 | Child: cub_114_Black_throated_Sparrow | Purity: 0.6 | Num desc: 1 | Num protos: 2\n",
      "\tProto: 15 0.6\n",
      "\tProto: 17 0.6\n",
      "Node: 117+114 | Child: 117+115 | Purity: 0.7155555555555555 | Num desc: 4 | Num protos: 5\n",
      "\tProto: 3 0.8\n",
      "\tProto: 7 0.9\n",
      "\tProto: 1 0.7777777777777778\n",
      "\tProto: 8 0.3\n",
      "\tProto: 9 0.8\n",
      "Number of prototypes in parts_presences:  6\n",
      "Part-related (purity>0.5): 5\n",
      "Node: 011+026 | Child: 011+049 | Purity: 0.9629629629629629 | Num desc: 3 | Num protos: 3\n",
      "\tProto: 9 0.8888888888888888\n",
      "\tProto: 8 1.0\n",
      "\tProto: 1 1.0\n",
      "Node: 011+026 | Child: 026+010 | Purity: 0.6037037037037037 | Num desc: 3 | Num protos: 3\n",
      "\tProto: 14 0.8\n",
      "\tProto: 18 0.9\n",
      "\tProto: 19 0.1111111111111111\n",
      "Number of prototypes in parts_presences:  6\n",
      "Part-related (purity>0.5): 3\n",
      "Node: 095+096 | Child: 095+098 | Purity: 0.5333333333333333 | Num desc: 2 | Num protos: 3\n",
      "\tProto: 6 0.4\n",
      "\tProto: 7 0.7\n",
      "\tProto: 4 0.5\n",
      "Node: 095+096 | Child: 096+097 | Purity: 0.6666666666666666 | Num desc: 2 | Num protos: 3\n",
      "\tProto: 15 0.6\n",
      "\tProto: 14 0.4\n",
      "\tProto: 12 1.0\n",
      "Number of prototypes in parts_presences:  6\n",
      "Part-related (purity>0.5): 6\n",
      "Node: 013+012 | Child: cub_012_Yellow_headed_Blackbird | Purity: 1.0 | Num desc: 1 | Num protos: 3\n",
      "\tProto: 11 1.0\n",
      "\tProto: 15 1.0\n",
      "\tProto: 10 1.0\n",
      "Node: 013+012 | Child: cub_013_Bobolink | Purity: 0.8333333333333334 | Num desc: 1 | Num protos: 3\n",
      "\tProto: 5 0.7\n",
      "\tProto: 0 0.8\n",
      "\tProto: 9 1.0\n",
      "Number of prototypes in parts_presences:  14\n",
      "Part-related (purity>0.5): 8\n",
      "Node: 175+168+173+183 | Child: 175+162 | Purity: 0.4 | Num desc: 14 | Num protos: 2\n",
      "\tProto: 3 0.8\n",
      "\tProto: 1 0.0\n",
      "Node: 175+168+173+183 | Child: 183+159 | Purity: 0.75 | Num desc: 3 | Num protos: 4\n",
      "\tProto: 15 0.8\n",
      "\tProto: 18 1.0\n",
      "\tProto: 17 0.8\n",
      "\tProto: 19 0.4\n",
      "Node: 175+168+173+183 | Child: 173+161 | Purity: 0.5035714285714286 | Num desc: 5 | Num protos: 4\n",
      "\tProto: 11 0.7142857142857143\n",
      "\tProto: 14 0.0\n",
      "\tProto: 12 1.0\n",
      "\tProto: 10 0.3\n",
      "Node: 175+168+173+183 | Child: 168+177 | Purity: 0.538888888888889 | Num desc: 5 | Num protos: 4\n",
      "\tProto: 5 0.6\n",
      "\tProto: 8 1.0\n",
      "\tProto: 7 0.1111111111111111\n",
      "\tProto: 9 0.4444444444444444\n",
      "Number of prototypes in parts_presences:  6\n",
      "Part-related (purity>0.5): 6\n",
      "Node: 054+015 | Child: cub_015_Lazuli_Bunting | Purity: 0.8185185185185185 | Num desc: 1 | Num protos: 3\n",
      "\tProto: 14 1.0\n",
      "\tProto: 13 0.9\n",
      "\tProto: 16 0.5555555555555556\n",
      "Node: 054+015 | Child: cub_054_Blue_Grosbeak | Purity: 1.0 | Num desc: 1 | Num protos: 3\n",
      "\tProto: 6 1.0\n",
      "\tProto: 7 1.0\n",
      "\tProto: 1 1.0\n",
      "Number of prototypes in parts_presences:  6\n",
      "Part-related (purity>0.5): 6\n",
      "Node: 199+196 | Child: cub_196_House_Wren | Purity: 0.9333333333333332 | Num desc: 1 | Num protos: 3\n",
      "\tProto: 19 0.9\n",
      "\tProto: 12 1.0\n",
      "\tProto: 11 0.9\n",
      "Node: 199+196 | Child: cub_199_Winter_Wren | Purity: 0.9333333333333332 | Num desc: 1 | Num protos: 3\n",
      "\tProto: 5 0.9\n",
      "\tProto: 0 0.9\n",
      "\tProto: 7 1.0\n",
      "Number of prototypes in parts_presences:  10\n",
      "Part-related (purity>0.5): 7\n",
      "Node: 129+021 | Child: 021+148 | Purity: 0.7000000000000001 | Num desc: 2 | Num protos: 3\n",
      "\tProto: 18 0.8\n",
      "\tProto: 19 0.9\n",
      "\tProto: 10 0.4\n",
      "Node: 129+021 | Child: 129+128 | Purity: 0.6079365079365079 | Num desc: 9 | Num protos: 7\n",
      "\tProto: 7 0.5555555555555556\n",
      "\tProto: 1 0.5\n",
      "\tProto: 6 0.5\n",
      "\tProto: 4 0.6\n",
      "\tProto: 2 0.6\n",
      "\tProto: 0 0.7\n",
      "\tProto: 9 0.8\n",
      "Number of prototypes in parts_presences:  7\n",
      "Part-related (purity>0.5): 5\n",
      "Node: 133+130 | Child: 133+076 | Purity: 0.8666666666666667 | Num desc: 4 | Num protos: 3\n",
      "\tProto: 5 0.7\n",
      "\tProto: 0 1.0\n",
      "\tProto: 2 0.9\n",
      "Node: 133+130 | Child: 130+120 | Purity: 0.625 | Num desc: 2 | Num protos: 4\n",
      "\tProto: 11 0.3\n",
      "\tProto: 14 0.8\n",
      "\tProto: 18 0.9\n",
      "\tProto: 10 0.5\n",
      "Number of prototypes in parts_presences:  7\n",
      "Part-related (purity>0.5): 7\n",
      "Node: 117+115 | Child: 115+119 | Purity: 0.9249999999999999 | Num desc: 2 | Num protos: 3\n",
      "\tProto: 18 0.9\n",
      "\tProto: 16 1.0\n",
      "\tProto: 11 0.875\n",
      "Node: 117+115 | Child: 117+116 | Purity: 0.8138888888888889 | Num desc: 2 | Num protos: 4\n",
      "\tProto: 6 0.9\n",
      "\tProto: 5 1.0\n",
      "\tProto: 1 0.8\n",
      "\tProto: 9 0.5555555555555556\n",
      "Number of prototypes in parts_presences:  5\n",
      "Part-related (purity>0.5): 5\n",
      "Node: 011+049 | Child: 011+009 | Purity: 0.9 | Num desc: 2 | Num protos: 3\n",
      "\tProto: 3 0.8\n",
      "\tProto: 5 1.0\n",
      "\tProto: 6 0.9\n",
      "Node: 011+049 | Child: cub_049_Boat_tailed_Grackle | Purity: 0.9 | Num desc: 1 | Num protos: 2\n",
      "\tProto: 15 0.9\n",
      "\tProto: 14 0.9\n",
      "Number of prototypes in parts_presences:  5\n",
      "Part-related (purity>0.5): 5\n",
      "Node: 026+010 | Child: cub_010_Red_winged_Blackbird | Purity: 0.6 | Num desc: 1 | Num protos: 2\n",
      "\tProto: 14 0.6\n",
      "\tProto: 17 0.6\n",
      "Node: 026+010 | Child: 026+027 | Purity: 0.8000000000000002 | Num desc: 2 | Num protos: 3\n",
      "\tProto: 3 0.6\n",
      "\tProto: 5 1.0\n",
      "\tProto: 2 0.8\n",
      "Number of prototypes in parts_presences:  5\n",
      "Part-related (purity>0.5): 3\n",
      "Node: 095+098 | Child: cub_095_Baltimore_Oriole | Purity: 0.5 | Num desc: 1 | Num protos: 2\n",
      "\tProto: 2 0.5\n",
      "\tProto: 4 0.5\n",
      "Node: 095+098 | Child: cub_098_Scott_Oriole | Purity: 0.7666666666666666 | Num desc: 1 | Num protos: 3\n",
      "\tProto: 17 0.9\n",
      "\tProto: 16 0.7\n",
      "\tProto: 10 0.7\n",
      "Number of prototypes in parts_presences:  5\n",
      "Part-related (purity>0.5): 5\n",
      "Node: 096+097 | Child: cub_096_Hooded_Oriole | Purity: 0.9666666666666667 | Num desc: 1 | Num protos: 3\n",
      "\tProto: 6 1.0\n",
      "\tProto: 4 1.0\n",
      "\tProto: 9 0.9\n",
      "Node: 096+097 | Child: cub_097_Orchard_Oriole | Purity: 0.8944444444444444 | Num desc: 1 | Num protos: 2\n",
      "\tProto: 14 0.8888888888888888\n",
      "\tProto: 17 0.9\n",
      "Number of prototypes in parts_presences:  10\n",
      "Part-related (purity>0.5): 10\n",
      "Node: 175+162 | Child: 175+167 | Purity: 0.734920634920635 | Num desc: 12 | Num protos: 7\n",
      "\tProto: 3 0.8\n",
      "\tProto: 7 0.7\n",
      "\tProto: 1 0.6\n",
      "\tProto: 4 0.7777777777777778\n",
      "\tProto: 5 0.7\n",
      "\tProto: 8 0.6666666666666666\n",
      "\tProto: 2 0.9\n",
      "Node: 175+162 | Child: 162+180 | Purity: 0.7999999999999999 | Num desc: 2 | Num protos: 3\n",
      "\tProto: 14 0.9\n",
      "\tProto: 16 0.6\n",
      "\tProto: 12 0.9\n",
      "Number of prototypes in parts_presences:  7\n",
      "Part-related (purity>0.5): 6\n",
      "Node: 168+177 | Child: 168+200 | Purity: 0.8444444444444444 | Num desc: 3 | Num protos: 4\n",
      "\tProto: 3 0.9\n",
      "\tProto: 8 0.8888888888888888\n",
      "\tProto: 7 0.7\n",
      "\tProto: 2 0.8888888888888888\n",
      "Node: 168+177 | Child: 177+178 | Purity: 0.6333333333333333 | Num desc: 2 | Num protos: 3\n",
      "\tProto: 15 1.0\n",
      "\tProto: 13 0.0\n",
      "\tProto: 10 0.9\n",
      "Number of prototypes in parts_presences:  9\n",
      "Part-related (purity>0.5): 8\n",
      "Node: 173+161 | Child: 161+166 | Purity: 0.7851851851851852 | Num desc: 2 | Num protos: 3\n",
      "\tProto: 14 0.5555555555555556\n",
      "\tProto: 13 1.0\n",
      "\tProto: 16 0.8\n",
      "Node: 173+161 | Child: 173+179 | Purity: 0.7333333333333334 | Num desc: 3 | Num protos: 6\n",
      "\tProto: 3 0.8\n",
      "\tProto: 7 0.9\n",
      "\tProto: 6 0.3\n",
      "\tProto: 4 0.9\n",
      "\tProto: 5 0.8\n",
      "\tProto: 9 0.7\n",
      "Number of prototypes in parts_presences:  5\n",
      "Part-related (purity>0.5): 5\n",
      "Node: 183+159 | Child: cub_159_Black_and_white_Warbler | Purity: 0.95 | Num desc: 1 | Num protos: 2\n",
      "\tProto: 13 0.9\n",
      "\tProto: 17 1.0\n",
      "Node: 183+159 | Child: 183+184 | Purity: 0.9333333333333332 | Num desc: 2 | Num protos: 3\n",
      "\tProto: 9 0.8\n",
      "\tProto: 2 1.0\n",
      "\tProto: 1 1.0\n",
      "Number of prototypes in parts_presences:  8\n",
      "Part-related (purity>0.5): 6\n",
      "Node: 129+128 | Child: 129+127 | Purity: 0.825 | Num desc: 5 | Num protos: 4\n",
      "\tProto: 7 1.0\n",
      "\tProto: 5 1.0\n",
      "\tProto: 2 0.6\n",
      "\tProto: 9 0.7\n",
      "Node: 129+128 | Child: 128+131 | Purity: 0.46875 | Num desc: 4 | Num protos: 4\n",
      "\tProto: 15 0.0\n",
      "\tProto: 16 0.9\n",
      "\tProto: 19 0.875\n",
      "\tProto: 11 0.1\n",
      "Number of prototypes in parts_presences:  4\n",
      "Part-related (purity>0.5): 3\n",
      "Node: 021+148 | Child: cub_021_Eastern_Towhee | Purity: 0.75 | Num desc: 1 | Num protos: 2\n",
      "\tProto: 5 0.7\n",
      "\tProto: 7 0.8\n",
      "Node: 021+148 | Child: cub_148_Green_tailed_Towhee | Purity: 0.7 | Num desc: 1 | Num protos: 2\n",
      "\tProto: 19 0.4\n",
      "\tProto: 10 1.0\n",
      "Number of prototypes in parts_presences:  5\n",
      "Part-related (purity>0.5): 4\n",
      "Node: 133+076 | Child: cub_076_Dark_eyed_Junco | Purity: 0.95 | Num desc: 1 | Num protos: 2\n",
      "\tProto: 19 1.0\n",
      "\tProto: 10 0.9\n",
      "Node: 133+076 | Child: 133+132 | Purity: 0.662962962962963 | Num desc: 3 | Num protos: 3\n",
      "\tProto: 6 0.3\n",
      "\tProto: 2 0.8\n",
      "\tProto: 1 0.8888888888888888\n",
      "Number of prototypes in parts_presences:  5\n",
      "Part-related (purity>0.5): 5\n",
      "Node: 130+120 | Child: cub_120_Fox_Sparrow | Purity: 1.0 | Num desc: 1 | Num protos: 2\n",
      "\tProto: 18 1.0\n",
      "\tProto: 12 1.0\n",
      "Node: 130+120 | Child: cub_130_Tree_Sparrow | Purity: 0.9 | Num desc: 1 | Num protos: 3\n",
      "\tProto: 0 1.0\n",
      "\tProto: 2 0.7\n",
      "\tProto: 1 1.0\n",
      "Number of prototypes in parts_presences:  5\n",
      "Part-related (purity>0.5): 4\n",
      "Node: 117+116 | Child: cub_116_Chipping_Sparrow | Purity: 0.8 | Num desc: 1 | Num protos: 2\n",
      "\tProto: 18 0.6\n",
      "\tProto: 16 1.0\n",
      "Node: 117+116 | Child: cub_117_Clay_colored_Sparrow | Purity: 0.8333333333333334 | Num desc: 1 | Num protos: 3\n",
      "\tProto: 3 1.0\n",
      "\tProto: 8 0.5\n",
      "\tProto: 4 1.0\n",
      "Number of prototypes in parts_presences:  6\n",
      "Part-related (purity>0.5): 4\n",
      "Node: 115+119 | Child: cub_115_Brewer_Sparrow | Purity: 0.9333333333333332 | Num desc: 1 | Num protos: 3\n",
      "\tProto: 5 0.8\n",
      "\tProto: 0 1.0\n",
      "\tProto: 1 1.0\n",
      "Node: 115+119 | Child: cub_119_Field_Sparrow | Purity: 0.6333333333333333 | Num desc: 1 | Num protos: 3\n",
      "\tProto: 15 1.0\n",
      "\tProto: 18 0.4\n",
      "\tProto: 12 0.5\n",
      "Number of prototypes in parts_presences:  4\n",
      "Part-related (purity>0.5): 2\n",
      "Node: 011+009 | Child: cub_009_Brewer_Blackbird | Purity: 0.55 | Num desc: 1 | Num protos: 2\n",
      "\tProto: 15 0.8\n",
      "\tProto: 10 0.3\n",
      "Node: 011+009 | Child: cub_011_Rusty_Blackbird | Purity: 0.6 | Num desc: 1 | Num protos: 2\n",
      "\tProto: 8 1.0\n",
      "\tProto: 9 0.2\n",
      "Number of prototypes in parts_presences:  5\n",
      "Part-related (purity>0.5): 5\n",
      "Node: 026+027 | Child: cub_026_Bronzed_Cowbird | Purity: 0.9 | Num desc: 1 | Num protos: 2\n",
      "\tProto: 3 0.8\n",
      "\tProto: 4 1.0\n",
      "Node: 026+027 | Child: cub_027_Shiny_Cowbird | Purity: 0.9666666666666667 | Num desc: 1 | Num protos: 3\n",
      "\tProto: 15 1.0\n",
      "\tProto: 16 0.9\n",
      "\tProto: 19 1.0\n",
      "Number of prototypes in parts_presences:  8\n",
      "Part-related (purity>0.5): 7\n",
      "Node: 175+167 | Child: 175+169 | Purity: 0.671111111111111 | Num desc: 11 | Num protos: 5\n",
      "\tProto: 3 0.8888888888888888\n",
      "\tProto: 4 0.0\n",
      "\tProto: 8 0.7777777777777778\n",
      "\tProto: 2 0.8888888888888888\n",
      "\tProto: 9 0.8\n",
      "Node: 175+167 | Child: cub_167_Hooded_Warbler | Purity: 1.0 | Num desc: 1 | Num protos: 3\n",
      "\tProto: 18 1.0\n",
      "\tProto: 13 1.0\n",
      "\tProto: 12 1.0\n",
      "Number of prototypes in parts_presences:  6\n",
      "Part-related (purity>0.5): 5\n",
      "Node: 162+180 | Child: cub_162_Canada_Warbler | Purity: 0.7518518518518519 | Num desc: 1 | Num protos: 3\n",
      "\tProto: 6 0.9\n",
      "\tProto: 5 0.5555555555555556\n",
      "\tProto: 0 0.8\n",
      "Node: 162+180 | Child: cub_180_Wilson_Warbler | Purity: 0.7333333333333334 | Num desc: 1 | Num protos: 3\n",
      "\tProto: 14 0.9\n",
      "\tProto: 17 0.9\n",
      "\tProto: 16 0.4\n",
      "Number of prototypes in parts_presences:  6\n",
      "Part-related (purity>0.5): 6\n",
      "Node: 168+200 | Child: 168+170 | Purity: 0.9296296296296296 | Num desc: 2 | Num protos: 3\n",
      "\tProto: 8 0.9\n",
      "\tProto: 0 1.0\n",
      "\tProto: 4 0.8888888888888888\n",
      "Node: 168+200 | Child: cub_200_Common_Yellowthroat | Purity: 0.9 | Num desc: 1 | Num protos: 3\n",
      "\tProto: 14 0.8\n",
      "\tProto: 13 1.0\n",
      "\tProto: 17 0.9\n",
      "Number of prototypes in parts_presences:  4\n",
      "Part-related (purity>0.5): 4\n",
      "Node: 177+178 | Child: cub_177_Prothonotary_Warbler | Purity: 0.9 | Num desc: 1 | Num protos: 2\n",
      "\tProto: 6 0.8\n",
      "\tProto: 7 1.0\n",
      "Node: 177+178 | Child: cub_178_Swainson_Warbler | Purity: 0.8 | Num desc: 1 | Num protos: 2\n",
      "\tProto: 15 0.7\n",
      "\tProto: 18 0.9\n",
      "Number of prototypes in parts_presences:  5\n",
      "Part-related (purity>0.5): 4\n",
      "Node: 173+179 | Child: 173+172 | Purity: 0.7333333333333334 | Num desc: 2 | Num protos: 3\n",
      "\tProto: 3 0.5\n",
      "\tProto: 5 0.8\n",
      "\tProto: 0 0.9\n",
      "Node: 173+179 | Child: cub_179_Tennessee_Warbler | Purity: 0.6 | Num desc: 1 | Num protos: 2\n",
      "\tProto: 13 0.6\n",
      "\tProto: 17 0.6\n",
      "Number of prototypes in parts_presences:  6\n",
      "Part-related (purity>0.5): 5\n",
      "Node: 161+166 | Child: cub_161_Blue_winged_Warbler | Purity: 0.8592592592592593 | Num desc: 1 | Num protos: 3\n",
      "\tProto: 5 0.9\n",
      "\tProto: 7 0.7777777777777778\n",
      "\tProto: 1 0.9\n",
      "Node: 161+166 | Child: cub_166_Golden_winged_Warbler | Purity: 0.7333333333333334 | Num desc: 1 | Num protos: 3\n",
      "\tProto: 11 0.9\n",
      "\tProto: 12 0.5\n",
      "\tProto: 10 0.8\n",
      "Number of prototypes in parts_presences:  5\n",
      "Part-related (purity>0.5): 5\n",
      "Node: 183+184 | Child: cub_183_Northern_Waterthrush | Purity: 0.8 | Num desc: 1 | Num protos: 2\n",
      "\tProto: 8 0.8\n",
      "\tProto: 2 0.8\n",
      "Node: 183+184 | Child: cub_184_Louisiana_Waterthrush | Purity: 0.9333333333333332 | Num desc: 1 | Num protos: 3\n",
      "\tProto: 14 1.0\n",
      "\tProto: 13 0.9\n",
      "\tProto: 17 0.9\n",
      "Number of prototypes in parts_presences:  6\n",
      "Part-related (purity>0.5): 6\n",
      "Node: 129+127 | Child: 129+123 | Purity: 0.9 | Num desc: 4 | Num protos: 4\n",
      "\tProto: 5 0.9\n",
      "\tProto: 8 0.9\n",
      "\tProto: 0 0.8\n",
      "\tProto: 4 1.0\n",
      "Node: 129+127 | Child: cub_127_Savannah_Sparrow | Purity: 0.95 | Num desc: 1 | Num protos: 2\n",
      "\tProto: 13 0.9\n",
      "\tProto: 12 1.0\n",
      "Number of prototypes in parts_presences:  5\n",
      "Part-related (purity>0.5): 5\n",
      "Node: 128+131 | Child: 128+124 | Purity: 0.8722222222222222 | Num desc: 3 | Num protos: 4\n",
      "\tProto: 3 0.8\n",
      "\tProto: 5 0.8888888888888888\n",
      "\tProto: 6 0.8\n",
      "\tProto: 9 1.0\n",
      "Node: 128+131 | Child: cub_131_Vesper_Sparrow | Purity: 1.0 | Num desc: 1 | Num protos: 1\n",
      "\tProto: 17 1.0\n",
      "Number of prototypes in parts_presences:  6\n",
      "Part-related (purity>0.5): 4\n",
      "Node: 133+132 | Child: 133+122 | Purity: 0.65 | Num desc: 2 | Num protos: 4\n",
      "\tProto: 3 0.9\n",
      "\tProto: 7 0.4\n",
      "\tProto: 4 0.5\n",
      "\tProto: 9 0.8\n",
      "Node: 133+132 | Child: cub_132_White_crowned_Sparrow | Purity: 0.95 | Num desc: 1 | Num protos: 2\n",
      "\tProto: 16 0.9\n",
      "\tProto: 12 1.0\n",
      "Number of prototypes in parts_presences:  8\n",
      "Part-related (purity>0.5): 8\n",
      "Node: 175+169 | Child: 175+165+182 | Purity: 0.7177777777777777 | Num desc: 10 | Num protos: 5\n",
      "\tProto: 3 0.7\n",
      "\tProto: 5 0.8888888888888888\n",
      "\tProto: 2 0.6666666666666666\n",
      "\tProto: 0 0.6666666666666666\n",
      "\tProto: 9 0.6666666666666666\n",
      "Node: 175+169 | Child: cub_169_Magnolia_Warbler | Purity: 0.9333333333333332 | Num desc: 1 | Num protos: 3\n",
      "\tProto: 15 1.0\n",
      "\tProto: 17 1.0\n",
      "\tProto: 16 0.8\n",
      "Number of prototypes in parts_presences:  5\n",
      "Part-related (purity>0.5): 4\n",
      "Node: 168+170 | Child: cub_168_Kentucky_Warbler | Purity: 0.7 | Num desc: 1 | Num protos: 2\n",
      "\tProto: 6 0.6\n",
      "\tProto: 0 0.8\n",
      "Node: 168+170 | Child: cub_170_Mourning_Warbler | Purity: 0.6333333333333334 | Num desc: 1 | Num protos: 3\n",
      "\tProto: 13 0.4\n",
      "\tProto: 12 0.7\n",
      "\tProto: 17 0.8\n",
      "Number of prototypes in parts_presences:  7\n",
      "Part-related (purity>0.5): 7\n",
      "Node: 173+172 | Child: cub_172_Nashville_Warbler | Purity: 0.9 | Num desc: 1 | Num protos: 3\n",
      "\tProto: 14 1.0\n",
      "\tProto: 19 0.7\n",
      "\tProto: 10 1.0\n",
      "Node: 173+172 | Child: cub_173_Orange_crowned_Warbler | Purity: 0.975 | Num desc: 1 | Num protos: 4\n",
      "\tProto: 6 0.9\n",
      "\tProto: 9 1.0\n",
      "\tProto: 1 1.0\n",
      "\tProto: 4 1.0\n",
      "Number of prototypes in parts_presences:  7\n",
      "Part-related (purity>0.5): 7\n",
      "Node: 129+123 | Child: 123+113 | Purity: 0.9666666666666667 | Num desc: 2 | Num protos: 3\n",
      "\tProto: 15 1.0\n",
      "\tProto: 18 0.9\n",
      "\tProto: 10 1.0\n",
      "Node: 129+123 | Child: 129+125 | Purity: 0.85 | Num desc: 2 | Num protos: 4\n",
      "\tProto: 9 0.8\n",
      "\tProto: 5 0.9\n",
      "\tProto: 0 0.8\n",
      "\tProto: 4 0.9\n",
      "Number of prototypes in parts_presences:  5\n",
      "Part-related (purity>0.5): 5\n",
      "Node: 128+124 | Child: cub_124_Le_Conte_Sparrow | Purity: 0.9 | Num desc: 1 | Num protos: 1\n",
      "\tProto: 14 0.9\n",
      "Node: 128+124 | Child: 128+126 | Purity: 0.7749999999999999 | Num desc: 2 | Num protos: 4\n",
      "\tProto: 7 0.6\n",
      "\tProto: 2 0.7\n",
      "\tProto: 1 0.9\n",
      "\tProto: 4 0.9\n",
      "Number of prototypes in parts_presences:  6\n",
      "Part-related (purity>0.5): 3\n",
      "Node: 133+122 | Child: cub_122_Harris_Sparrow | Purity: 0.725 | Num desc: 1 | Num protos: 4\n",
      "\tProto: 14 1.0\n",
      "\tProto: 16 1.0\n",
      "\tProto: 12 0.4\n",
      "\tProto: 10 0.5\n",
      "Node: 133+122 | Child: cub_133_White_throated_Sparrow | Purity: 0.55 | Num desc: 1 | Num protos: 2\n",
      "\tProto: 3 0.8\n",
      "\tProto: 9 0.3\n",
      "Number of prototypes in parts_presences:  10\n",
      "Part-related (purity>0.5): 6\n",
      "Node: 175+165+182 | Child: 175+160 | Purity: 0.55 | Num desc: 5 | Num protos: 4\n",
      "\tProto: 6 0.5\n",
      "\tProto: 2 0.2\n",
      "\tProto: 1 0.7\n",
      "\tProto: 4 0.8\n",
      "Node: 175+165+182 | Child: 165+164+163 | Purity: 0.4666666666666666 | Num desc: 4 | Num protos: 3\n",
      "\tProto: 13 0.9\n",
      "\tProto: 12 0.1\n",
      "\tProto: 11 0.4\n",
      "Node: 175+165+182 | Child: cub_182_Yellow_Warbler | Purity: 0.9 | Num desc: 1 | Num protos: 3\n",
      "\tProto: 14 1.0\n",
      "\tProto: 18 1.0\n",
      "\tProto: 19 0.7\n",
      "Number of prototypes in parts_presences:  6\n",
      "Part-related (purity>0.5): 6\n",
      "Node: 129+125 | Child: cub_125_Lincoln_Sparrow | Purity: 0.9666666666666667 | Num desc: 1 | Num protos: 3\n",
      "\tProto: 18 0.9\n",
      "\tProto: 17 1.0\n",
      "\tProto: 16 1.0\n",
      "Node: 129+125 | Child: cub_129_Song_Sparrow | Purity: 0.9333333333333332 | Num desc: 1 | Num protos: 3\n",
      "\tProto: 3 0.9\n",
      "\tProto: 2 0.9\n",
      "\tProto: 4 1.0\n",
      "Number of prototypes in parts_presences:  6\n",
      "Part-related (purity>0.5): 4\n",
      "Node: 123+113 | Child: cub_113_Baird_Sparrow | Purity: 0.7666666666666666 | Num desc: 1 | Num protos: 3\n",
      "\tProto: 19 0.8\n",
      "\tProto: 14 0.5\n",
      "\tProto: 12 1.0\n",
      "Node: 123+113 | Child: cub_123_Henslow_Sparrow | Purity: 0.7333333333333334 | Num desc: 1 | Num protos: 3\n",
      "\tProto: 6 0.3\n",
      "\tProto: 0 0.9\n",
      "\tProto: 9 1.0\n",
      "Number of prototypes in parts_presences:  4\n",
      "Part-related (purity>0.5): 4\n",
      "Node: 128+126 | Child: cub_126_Nelson_Sharp_tailed_Sparrow | Purity: 0.95 | Num desc: 1 | Num protos: 2\n",
      "\tProto: 17 1.0\n",
      "\tProto: 19 0.9\n",
      "Node: 128+126 | Child: cub_128_Seaside_Sparrow | Purity: 0.95 | Num desc: 1 | Num protos: 2\n",
      "\tProto: 8 1.0\n",
      "\tProto: 9 0.9\n",
      "Number of prototypes in parts_presences:  8\n",
      "Part-related (purity>0.5): 8\n",
      "Node: 175+160 | Child: 160+109 | Purity: 0.9 | Num desc: 2 | Num protos: 3\n",
      "\tProto: 18 0.9\n",
      "\tProto: 13 0.8\n",
      "\tProto: 11 1.0\n",
      "Node: 175+160 | Child: 175+176 | Purity: 0.8705555555555555 | Num desc: 3 | Num protos: 5\n",
      "\tProto: 7 0.8\n",
      "\tProto: 1 0.875\n",
      "\tProto: 4 0.9\n",
      "\tProto: 8 1.0\n",
      "\tProto: 0 0.7777777777777778\n",
      "Number of prototypes in parts_presences:  7\n",
      "Part-related (purity>0.5): 6\n",
      "Node: 165+164+163 | Child: 165+158 | Purity: 0.8888888888888888 | Num desc: 2 | Num protos: 2\n",
      "\tProto: 0 0.7777777777777778\n",
      "\tProto: 2 1.0\n",
      "Node: 165+164+163 | Child: cub_163_Cape_May_Warbler | Purity: 0.7333333333333334 | Num desc: 1 | Num protos: 3\n",
      "\tProto: 17 0.8\n",
      "\tProto: 16 0.5\n",
      "\tProto: 19 0.9\n",
      "Node: 165+164+163 | Child: cub_164_Cerulean_Warbler | Purity: 0.95 | Num desc: 1 | Num protos: 2\n",
      "\tProto: 11 0.9\n",
      "\tProto: 10 1.0\n",
      "Number of prototypes in parts_presences:  5\n",
      "Part-related (purity>0.5): 5\n",
      "Node: 175+176 | Child: 175+174 | Purity: 0.8592592592592592 | Num desc: 2 | Num protos: 3\n",
      "\tProto: 6 0.7777777777777778\n",
      "\tProto: 5 1.0\n",
      "\tProto: 2 0.8\n",
      "Node: 175+176 | Child: cub_176_Prairie_Warbler | Purity: 0.9 | Num desc: 1 | Num protos: 2\n",
      "\tProto: 18 1.0\n",
      "\tProto: 10 0.8\n",
      "Number of prototypes in parts_presences:  5\n",
      "Part-related (purity>0.5): 4\n",
      "Node: 160+109 | Child: cub_109_American_Redstart | Purity: 0.7333333333333334 | Num desc: 1 | Num protos: 3\n",
      "\tProto: 13 0.5\n",
      "\tProto: 19 0.7\n",
      "\tProto: 10 1.0\n",
      "Node: 160+109 | Child: cub_160_Black_throated_Blue_Warbler | Purity: 0.8 | Num desc: 1 | Num protos: 2\n",
      "\tProto: 0 0.6\n",
      "\tProto: 1 1.0\n",
      "Number of prototypes in parts_presences:  6\n",
      "Part-related (purity>0.5): 5\n",
      "Node: 165+158 | Child: cub_158_Bay_breasted_Warbler | Purity: 0.9333333333333332 | Num desc: 1 | Num protos: 3\n",
      "\tProto: 15 1.0\n",
      "\tProto: 16 0.8\n",
      "\tProto: 12 1.0\n",
      "Node: 165+158 | Child: cub_165_Chestnut_sided_Warbler | Purity: 0.7666666666666666 | Num desc: 1 | Num protos: 3\n",
      "\tProto: 6 1.0\n",
      "\tProto: 0 0.5\n",
      "\tProto: 7 0.8\n",
      "Number of prototypes in parts_presences:  4\n",
      "Part-related (purity>0.5): 4\n",
      "Node: 175+174 | Child: cub_174_Palm_Warbler | Purity: 0.95 | Num desc: 1 | Num protos: 2\n",
      "\tProto: 15 0.9\n",
      "\tProto: 16 1.0\n",
      "Node: 175+174 | Child: cub_175_Pine_Warbler | Purity: 0.8500000000000001 | Num desc: 1 | Num protos: 2\n",
      "\tProto: 7 0.9\n",
      "\tProto: 2 0.8\n"
     ]
    }
   ],
   "source": [
    "node_wise_purity = []\n",
    "for csvfile_topk, node in zip(list_csvfile_topk, root.nodes_with_children()):\n",
    "    # node_purity = eval_prototypes_cub_parts_csv_nodewise(node, csvfile_topk, part_locs_file, parts_name_path, \\\n",
    "    #                           imgs_id_path, 'projectloader_topk_'+str(epoch), args, desc_threshold=0.2)\n",
    "    node_purity, max_presence_purity = eval_prototypes_cub_parts_csv_nodewise_maxmin(node, csvfile_topk, part_locs_file, parts_name_path, \\\n",
    "                              imgs_id_path, 'projectloader_topk_'+str(epoch), args, desc_threshold=0.2)\n",
    "    node_wise_purity.append(node_purity)\n"
   ]
  },
  {
   "cell_type": "code",
   "execution_count": 16,
   "id": "27c6ee4c-9bc1-4897-aab8-ebda17fe5780",
   "metadata": {},
   "outputs": [
    {
     "name": "stdout",
     "output_type": "stream",
     "text": [
      "0.7394154809035761\n",
      "0.18443974398145516\n"
     ]
    }
   ],
   "source": [
    "print(np.mean(node_wise_purity))\n",
    "print(np.std(node_wise_purity))"
   ]
  },
  {
   "cell_type": "code",
   "execution_count": 14,
   "id": "03591379-002b-4f60-b622-e599c67087b7",
   "metadata": {
    "scrolled": true
   },
   "outputs": [
    {
     "name": "stdout",
     "output_type": "stream",
     "text": [
      "Number of prototypes in parts_presences:  10\n",
      "Part-related (purity>0.5): 2\n",
      "Node: root | Child: 129+024+067 | Purity: 0.27685185185185185 | Num desc: 186 | Num protos: 6\n",
      "\tProto: 9 0.5\n",
      "\tProto: 0 0.75\n",
      "\tProto: 7 0.0\n",
      "\tProto: 8 0.0\n",
      "\tProto: 6 0.1111111111111111\n",
      "\tProto: 5 0.3\n",
      "Node: root | Child: 089+046 | Purity: 0.35 | Num desc: 4 | Num protos: 4\n",
      "\tProto: 15 0.5\n",
      "\tProto: 12 0.2\n",
      "\tProto: 16 0.1\n",
      "\tProto: 14 0.6\n",
      "Number of prototypes in parts_presences:  6\n",
      "Part-related (purity>0.5): 2\n",
      "Node: 129+024+067 | Child: 024+051 | Purity: 0.3333333333333333 | Num desc: 18 | Num protos: 3\n",
      "\tProto: 8 0.6\n",
      "\tProto: 9 0.4\n",
      "\tProto: 11 0.0\n",
      "Node: 129+024+067 | Child: 129+065 | Purity: 0.2222222222222222 | Num desc: 164 | Num protos: 1\n",
      "\tProto: 2 0.2222222222222222\n",
      "Node: 129+024+067 | Child: 067+070 | Purity: 0.39999999999999997 | Num desc: 4 | Num protos: 2\n",
      "\tProto: 15 0.1\n",
      "\tProto: 18 0.7\n",
      "Number of prototypes in parts_presences:  7\n",
      "Part-related (purity>0.5): 7\n",
      "Node: 089+046 | Child: 046+087 | Purity: 0.95 | Num desc: 2 | Num protos: 4\n",
      "\tProto: 15 0.9\n",
      "\tProto: 19 1.0\n",
      "\tProto: 10 0.9\n",
      "\tProto: 14 1.0\n",
      "Node: 089+046 | Child: 089+090 | Purity: 0.8000000000000002 | Num desc: 2 | Num protos: 3\n",
      "\tProto: 8 0.9\n",
      "\tProto: 9 0.8\n",
      "\tProto: 4 0.7\n"
     ]
    },
    {
     "name": "stderr",
     "output_type": "stream",
     "text": [
      "/home/harishbabu/.conda/envs/hpnet4/lib/python3.9/site-packages/numpy/core/fromnumeric.py:3504: RuntimeWarning: Mean of empty slice.\n",
      "  return _methods._mean(a, axis=axis, dtype=dtype,\n",
      "/home/harishbabu/.conda/envs/hpnet4/lib/python3.9/site-packages/numpy/core/_methods.py:129: RuntimeWarning: invalid value encountered in scalar divide\n",
      "  ret = ret.dtype.type(ret / rcount)\n"
     ]
    },
    {
     "name": "stdout",
     "output_type": "stream",
     "text": [
      "Number of prototypes in parts_presences:  7\n",
      "Part-related (purity>0.5): 1\n",
      "Node: 129+065 | Child: 065+006 | Purity: 0.18888888888888888 | Num desc: 24 | Num protos: 4\n",
      "\tProto: 16 0.0\n",
      "\tProto: 12 0.5555555555555556\n",
      "\tProto: 19 0.2\n",
      "\tProto: 14 0.0\n",
      "Node: 129+065 | Child: 129+192 | Purity: 0.06666666666666667 | Num desc: 140 | Num protos: 3\n",
      "\tProto: 5 0.0\n",
      "\tProto: 8 0.2\n",
      "\tProto: 0 0.0\n",
      "Number of prototypes in parts_presences:  10\n",
      "Part-related (purity>0.5): 5\n",
      "Node: 024+051 | Child: 024+031 | Purity: 0.19444444444444442 | Num desc: 14 | Num protos: 6\n",
      "\tProto: 9 0.0\n",
      "\tProto: 0 0.5\n",
      "\tProto: 8 0.0\n",
      "\tProto: 3 0.6666666666666666\n",
      "\tProto: 6 0.0\n",
      "\tProto: 2 0.0\n",
      "Node: 024+051 | Child: 051+052 | Purity: 0.875 | Num desc: 4 | Num protos: 4\n",
      "\tProto: 17 0.9\n",
      "\tProto: 19 0.8\n",
      "\tProto: 13 0.9\n",
      "\tProto: 10 0.9\n",
      "Number of prototypes in parts_presences:  7\n",
      "Part-related (purity>0.5): 7\n",
      "Node: 067+070 | Child: 067+068 | Purity: 0.8400000000000001 | Num desc: 3 | Num protos: 5\n",
      "\tProto: 7 0.8\n",
      "\tProto: 8 0.9\n",
      "\tProto: 3 0.8\n",
      "\tProto: 4 0.9\n",
      "\tProto: 6 0.8\n",
      "Node: 067+070 | Child: cub_070_Green_Violetear | Purity: 1.0 | Num desc: 1 | Num protos: 2\n",
      "\tProto: 12 1.0\n",
      "\tProto: 14 1.0\n",
      "Number of prototypes in parts_presences:  5\n",
      "Part-related (purity>0.5): 5\n",
      "Node: 089+090 | Child: cub_089_Hooded_Merganser | Purity: 0.95 | Num desc: 1 | Num protos: 2\n",
      "\tProto: 3 1.0\n",
      "\tProto: 2 0.9\n",
      "Node: 089+090 | Child: cub_090_Red_breasted_Merganser | Purity: 1.0 | Num desc: 1 | Num protos: 3\n",
      "\tProto: 19 1.0\n",
      "\tProto: 10 1.0\n",
      "\tProto: 14 1.0\n",
      "Number of prototypes in parts_presences:  4\n",
      "Part-related (purity>0.5): 4\n",
      "Node: 046+087 | Child: cub_046_Gadwall | Purity: 0.95 | Num desc: 1 | Num protos: 2\n",
      "\tProto: 9 1.0\n",
      "\tProto: 2 0.9\n",
      "Node: 046+087 | Child: cub_087_Mallard | Purity: 0.9 | Num desc: 1 | Num protos: 2\n",
      "\tProto: 12 0.8\n",
      "\tProto: 18 1.0\n",
      "Number of prototypes in parts_presences:  8\n",
      "Part-related (purity>0.5): 3\n",
      "Node: 129+192 | Child: 129+043 | Purity: 0.54375 | Num desc: 128 | Num protos: 4\n",
      "\tProto: 9 0.2\n",
      "\tProto: 4 0.875\n",
      "\tProto: 2 0.6\n",
      "\tProto: 0 0.5\n",
      "Node: 129+192 | Child: 192+081 | Purity: 0.3 | Num desc: 12 | Num protos: 4\n",
      "\tProto: 12 0.7\n",
      "\tProto: 19 0.1\n",
      "\tProto: 13 0.0\n",
      "\tProto: 11 0.4\n",
      "Number of prototypes in parts_presences:  12\n",
      "Part-related (purity>0.5): 6\n",
      "Node: 065+006 | Child: 006+071 | Purity: 0.125 | Num desc: 8 | Num protos: 4\n",
      "\tProto: 17 0.0\n",
      "\tProto: 15 0.0\n",
      "\tProto: 19 0.1\n",
      "\tProto: 14 0.4\n",
      "Node: 065+006 | Child: 065+144 | Purity: 0.6305555555555555 | Num desc: 16 | Num protos: 8\n",
      "\tProto: 9 0.5555555555555556\n",
      "\tProto: 0 0.9\n",
      "\tProto: 7 0.5\n",
      "\tProto: 8 0.6\n",
      "\tProto: 3 0.8\n",
      "\tProto: 4 0.8888888888888888\n",
      "\tProto: 2 0.8\n",
      "\tProto: 5 0.0\n",
      "Number of prototypes in parts_presences:  9\n",
      "Part-related (purity>0.5): 5\n",
      "Node: 024+031 | Child: 024+086 | Purity: 0.48 | Num desc: 10 | Num protos: 5\n",
      "\tProto: 9 0.8\n",
      "\tProto: 7 0.6\n",
      "\tProto: 8 0.0\n",
      "\tProto: 3 0.5\n",
      "\tProto: 5 0.5\n",
      "Node: 024+031 | Child: 031+004 | Purity: 0.575 | Num desc: 4 | Num protos: 4\n",
      "\tProto: 15 0.0\n",
      "\tProto: 13 0.8\n",
      "\tProto: 10 0.6\n",
      "\tProto: 14 0.9\n",
      "Number of prototypes in parts_presences:  7\n",
      "Part-related (purity>0.5): 7\n",
      "Node: 051+052 | Child: 051+053 | Purity: 0.85 | Num desc: 3 | Num protos: 4\n",
      "\tProto: 9 0.7\n",
      "\tProto: 2 0.9\n",
      "\tProto: 5 0.9\n",
      "\tProto: 7 0.9\n",
      "Node: 051+052 | Child: cub_052_Pied_billed_Grebe | Purity: 0.8333333333333334 | Num desc: 1 | Num protos: 3\n",
      "\tProto: 17 0.9\n",
      "\tProto: 10 0.9\n",
      "\tProto: 16 0.7\n",
      "Number of prototypes in parts_presences:  6\n",
      "Part-related (purity>0.5): 6\n",
      "Node: 067+068 | Child: 067+069 | Purity: 0.7499999999999999 | Num desc: 2 | Num protos: 4\n",
      "\tProto: 5 0.6\n",
      "\tProto: 6 0.8\n",
      "\tProto: 8 0.7\n",
      "\tProto: 4 0.9\n",
      "Node: 067+068 | Child: cub_068_Ruby_throated_Hummingbird | Purity: 1.0 | Num desc: 1 | Num protos: 2\n",
      "\tProto: 10 1.0\n",
      "\tProto: 18 1.0\n",
      "Number of prototypes in parts_presences:  8\n",
      "Part-related (purity>0.5): 2\n",
      "Node: 129+043 | Child: 129+018 | Purity: 0.4444444444444445 | Num desc: 118 | Num protos: 5\n",
      "\tProto: 7 0.5\n",
      "\tProto: 8 0.7777777777777778\n",
      "\tProto: 4 0.0\n",
      "\tProto: 2 0.5\n",
      "\tProto: 5 0.4444444444444444\n",
      "Node: 129+043 | Child: 043+078 | Purity: 0.3333333333333333 | Num desc: 10 | Num protos: 3\n",
      "\tProto: 17 0.1\n",
      "\tProto: 14 0.3\n",
      "\tProto: 11 0.6\n",
      "Number of prototypes in parts_presences:  10\n",
      "Part-related (purity>0.5): 6\n",
      "Node: 192+081 | Child: 192+036 | Purity: 0.7777777777777778 | Num desc: 7 | Num protos: 5\n",
      "\tProto: 9 0.9\n",
      "\tProto: 7 0.9\n",
      "\tProto: 8 0.8\n",
      "\tProto: 3 0.4\n",
      "\tProto: 6 0.8888888888888888\n",
      "Node: 192+081 | Child: 081+083 | Purity: 0.5688888888888889 | Num desc: 5 | Num protos: 5\n",
      "\tProto: 17 0.2\n",
      "\tProto: 15 0.5\n",
      "\tProto: 18 0.8\n",
      "\tProto: 10 0.4444444444444444\n",
      "\tProto: 11 0.9\n",
      "Number of prototypes in parts_presences:  12\n",
      "Part-related (purity>0.5): 8\n",
      "Node: 065+144 | Child: 065+084 | Purity: 0.6814814814814816 | Num desc: 9 | Num protos: 6\n",
      "\tProto: 0 1.0\n",
      "\tProto: 7 0.1\n",
      "\tProto: 1 0.2\n",
      "\tProto: 3 0.8888888888888888\n",
      "\tProto: 2 1.0\n",
      "\tProto: 5 0.9\n",
      "Node: 065+144 | Child: 144+147 | Purity: 0.5851851851851851 | Num desc: 7 | Num protos: 6\n",
      "\tProto: 17 0.7\n",
      "\tProto: 18 0.6666666666666666\n",
      "\tProto: 11 0.0\n",
      "\tProto: 10 0.4444444444444444\n",
      "\tProto: 16 0.9\n",
      "\tProto: 14 0.8\n",
      "Number of prototypes in parts_presences:  9\n",
      "Part-related (purity>0.5): 5\n",
      "Node: 006+071 | Child: 006+058 | Purity: 0.6383333333333333 | Num desc: 6 | Num protos: 5\n",
      "\tProto: 9 0.2\n",
      "\tProto: 7 0.6666666666666666\n",
      "\tProto: 4 0.75\n",
      "\tProto: 6 0.7\n",
      "\tProto: 2 0.875\n",
      "Node: 006+071 | Child: 071+072 | Purity: 0.2857142857142857 | Num desc: 2 | Num protos: 4\n",
      "\tProto: 17 0.14285714285714285\n",
      "\tProto: 16 0.0\n",
      "\tProto: 14 1.0\n",
      "\tProto: 11 0.0\n",
      "Number of prototypes in parts_presences:  11\n",
      "Part-related (purity>0.5): 4\n",
      "Node: 024+086 | Child: 024+001 | Purity: 0.37142857142857144 | Num desc: 9 | Num protos: 7\n",
      "\tProto: 9 0.0\n",
      "\tProto: 0 0.5\n",
      "\tProto: 7 0.0\n",
      "\tProto: 8 0.8\n",
      "\tProto: 4 0.0\n",
      "\tProto: 2 0.9\n",
      "\tProto: 5 0.4\n",
      "Node: 024+086 | Child: cub_086_Pacific_Loon | Purity: 0.5357142857142857 | Num desc: 1 | Num protos: 4\n",
      "\tProto: 15 1.0\n",
      "\tProto: 18 1.0\n",
      "\tProto: 10 0.14285714285714285\n",
      "\tProto: 11 0.0\n",
      "Number of prototypes in parts_presences:  7\n",
      "Part-related (purity>0.5): 7\n",
      "Node: 031+004 | Child: cub_004_Groove_billed_Ani | Purity: 0.9 | Num desc: 1 | Num protos: 2\n",
      "\tProto: 15 0.8\n",
      "\tProto: 14 1.0\n",
      "Node: 031+004 | Child: 031+032 | Purity: 0.9149999999999998 | Num desc: 3 | Num protos: 5\n",
      "\tProto: 9 1.0\n",
      "\tProto: 7 1.0\n",
      "\tProto: 8 0.8\n",
      "\tProto: 4 0.9\n",
      "\tProto: 6 0.875\n",
      "Number of prototypes in parts_presences:  5\n",
      "Part-related (purity>0.5): 5\n",
      "Node: 051+053 | Child: 051+050 | Purity: 0.9333333333333332 | Num desc: 2 | Num protos: 3\n",
      "\tProto: 4 1.0\n",
      "\tProto: 2 0.9\n",
      "\tProto: 0 0.9\n",
      "Node: 051+053 | Child: cub_053_Western_Grebe | Purity: 1.0 | Num desc: 1 | Num protos: 2\n",
      "\tProto: 17 1.0\n",
      "\tProto: 13 1.0\n",
      "Number of prototypes in parts_presences:  5\n",
      "Part-related (purity>0.5): 5\n",
      "Node: 067+069 | Child: cub_067_Anna_Hummingbird | Purity: 0.8306878306878307 | Num desc: 1 | Num protos: 3\n",
      "\tProto: 1 1.0\n",
      "\tProto: 3 0.7777777777777778\n",
      "\tProto: 4 0.7142857142857143\n",
      "Node: 067+069 | Child: cub_069_Rufous_Hummingbird | Purity: 0.7569444444444444 | Num desc: 1 | Num protos: 2\n",
      "\tProto: 13 0.8888888888888888\n",
      "\tProto: 18 0.625\n",
      "Number of prototypes in parts_presences:  9\n",
      "Part-related (purity>0.5): 4\n",
      "Node: 129+018 | Child: 129+107 | Purity: 0.6455555555555555 | Num desc: 117 | Num protos: 5\n",
      "\tProto: 0 0.75\n",
      "\tProto: 1 0.5\n",
      "\tProto: 4 0.7777777777777778\n",
      "\tProto: 6 0.5\n",
      "\tProto: 5 0.7\n",
      "Node: 129+018 | Child: cub_018_Spotted_Catbird | Purity: 0.3305555555555556 | Num desc: 1 | Num protos: 4\n",
      "\tProto: 17 1.0\n",
      "\tProto: 15 0.1111111111111111\n",
      "\tProto: 10 0.1\n",
      "\tProto: 14 0.1111111111111111\n",
      "Number of prototypes in parts_presences:  8\n",
      "Part-related (purity>0.5): 6\n",
      "Node: 043+078 | Child: 043+042 | Purity: 0.5416666666666667 | Num desc: 6 | Num protos: 4\n",
      "\tProto: 6 0.1\n",
      "\tProto: 3 0.6666666666666666\n",
      "\tProto: 4 0.6\n",
      "\tProto: 9 0.8\n",
      "Node: 043+078 | Child: 078+038 | Purity: 0.7166666666666667 | Num desc: 4 | Num protos: 4\n",
      "\tProto: 14 0.8\n",
      "\tProto: 12 0.9\n",
      "\tProto: 13 0.5\n",
      "\tProto: 11 0.6666666666666666\n",
      "Number of prototypes in parts_presences:  9\n",
      "Part-related (purity>0.5): 9\n",
      "Node: 192+036 | Child: 036+188 | Purity: 0.875 | Num desc: 2 | Num protos: 4\n",
      "\tProto: 15 0.8\n",
      "\tProto: 16 0.9\n",
      "\tProto: 10 0.9\n",
      "\tProto: 11 0.9\n",
      "Node: 192+036 | Child: 192+191 | Purity: 0.9199999999999999 | Num desc: 5 | Num protos: 5\n",
      "\tProto: 0 0.9\n",
      "\tProto: 8 1.0\n",
      "\tProto: 3 1.0\n",
      "\tProto: 4 0.7\n",
      "\tProto: 5 1.0\n",
      "Number of prototypes in parts_presences:  7\n",
      "Part-related (purity>0.5): 6\n",
      "Node: 081+083 | Child: 081+082 | Purity: 0.64 | Num desc: 4 | Num protos: 5\n",
      "\tProto: 0 0.8\n",
      "\tProto: 8 0.0\n",
      "\tProto: 3 0.8\n",
      "\tProto: 4 0.9\n",
      "\tProto: 5 0.7\n",
      "Node: 081+083 | Child: cub_083_White_breasted_Kingfisher | Purity: 0.85 | Num desc: 1 | Num protos: 2\n",
      "\tProto: 18 0.7\n",
      "\tProto: 11 1.0\n",
      "Number of prototypes in parts_presences:  7\n",
      "Part-related (purity>0.5): 6\n",
      "Node: 065+084 | Child: 065+061 | Purity: 0.7933333333333332 | Num desc: 7 | Num protos: 5\n",
      "\tProto: 0 0.8888888888888888\n",
      "\tProto: 1 0.5\n",
      "\tProto: 4 0.9\n",
      "\tProto: 2 0.9\n",
      "\tProto: 5 0.7777777777777778\n",
      "Node: 065+084 | Child: 084+063 | Purity: 0.7875 | Num desc: 2 | Num protos: 2\n",
      "\tProto: 15 0.7\n",
      "\tProto: 19 0.875\n",
      "Number of prototypes in parts_presences:  10\n",
      "Part-related (purity>0.5): 8\n",
      "Node: 144+147 | Child: 144+143 | Purity: 0.6537037037037038 | Num desc: 6 | Num protos: 6\n",
      "\tProto: 9 0.8\n",
      "\tProto: 0 0.9\n",
      "\tProto: 7 0.2222222222222222\n",
      "\tProto: 1 0.8\n",
      "\tProto: 6 0.4\n",
      "\tProto: 2 0.8\n",
      "Node: 144+147 | Child: cub_147_Least_Tern | Purity: 0.8916666666666666 | Num desc: 1 | Num protos: 4\n",
      "\tProto: 17 0.9\n",
      "\tProto: 15 0.6666666666666666\n",
      "\tProto: 19 1.0\n",
      "\tProto: 14 1.0\n",
      "Number of prototypes in parts_presences:  10\n",
      "Part-related (purity>0.5): 7\n",
      "Node: 006+058 | Child: 006+008 | Purity: 0.5046296296296297 | Num desc: 5 | Num protos: 6\n",
      "\tProto: 0 0.2\n",
      "\tProto: 7 0.5\n",
      "\tProto: 8 0.7777777777777778\n",
      "\tProto: 3 0.1\n",
      "\tProto: 6 0.7\n",
      "\tProto: 5 0.75\n",
      "Node: 006+058 | Child: cub_058_Pigeon_Guillemot | Purity: 0.825 | Num desc: 1 | Num protos: 4\n",
      "\tProto: 17 0.7\n",
      "\tProto: 16 0.8\n",
      "\tProto: 14 1.0\n",
      "\tProto: 11 0.8\n",
      "Number of prototypes in parts_presences:  5\n",
      "Part-related (purity>0.5): 5\n",
      "Node: 071+072 | Child: cub_071_Long_tailed_Jaeger | Purity: 0.8518518518518517 | Num desc: 1 | Num protos: 3\n",
      "\tProto: 9 0.8888888888888888\n",
      "\tProto: 1 1.0\n",
      "\tProto: 4 0.6666666666666666\n",
      "Node: 071+072 | Child: cub_072_Pomarine_Jaeger | Purity: 1.0 | Num desc: 1 | Num protos: 2\n",
      "\tProto: 19 1.0\n",
      "\tProto: 13 1.0\n",
      "Number of prototypes in parts_presences:  8\n",
      "Part-related (purity>0.5): 6\n",
      "Node: 024+001 | Child: 001+045 | Purity: 0.9 | Num desc: 4 | Num protos: 3\n",
      "\tProto: 15 0.9\n",
      "\tProto: 12 0.8\n",
      "\tProto: 19 1.0\n",
      "Node: 024+001 | Child: 024+100 | Purity: 0.5444444444444445 | Num desc: 5 | Num protos: 5\n",
      "\tProto: 7 0.7\n",
      "\tProto: 8 0.8\n",
      "\tProto: 4 0.2222222222222222\n",
      "\tProto: 2 0.0\n",
      "\tProto: 5 1.0\n",
      "Number of prototypes in parts_presences:  4\n",
      "Part-related (purity>0.5): 4\n",
      "Node: 031+032 | Child: 031+033 | Purity: 0.7 | Num desc: 2 | Num protos: 2\n",
      "\tProto: 3 0.8\n",
      "\tProto: 5 0.6\n",
      "Node: 031+032 | Child: cub_032_Mangrove_Cuckoo | Purity: 0.8 | Num desc: 1 | Num protos: 2\n",
      "\tProto: 12 1.0\n",
      "\tProto: 16 0.6\n",
      "Number of prototypes in parts_presences:  6\n",
      "Part-related (purity>0.5): 6\n",
      "Node: 051+050 | Child: cub_050_Eared_Grebe | Purity: 1.0 | Num desc: 1 | Num protos: 3\n",
      "\tProto: 14 1.0\n",
      "\tProto: 18 1.0\n",
      "\tProto: 11 1.0\n",
      "Node: 051+050 | Child: cub_051_Horned_Grebe | Purity: 1.0 | Num desc: 1 | Num protos: 3\n",
      "\tProto: 5 1.0\n",
      "\tProto: 0 1.0\n",
      "\tProto: 7 1.0\n",
      "Number of prototypes in parts_presences:  10\n",
      "Part-related (purity>0.5): 3\n",
      "Node: 129+107 | Child: 129+136 | Purity: 0.3961904761904762 | Num desc: 101 | Num protos: 5\n",
      "\tProto: 7 0.0\n",
      "\tProto: 1 0.6\n",
      "\tProto: 3 0.5555555555555556\n",
      "\tProto: 4 0.7142857142857143\n",
      "\tProto: 6 0.1111111111111111\n",
      "Node: 129+107 | Child: 107+151 | Purity: 0.2 | Num desc: 16 | Num protos: 5\n",
      "\tProto: 15 0.0\n",
      "\tProto: 18 0.0\n",
      "\tProto: 13 0.0\n",
      "\tProto: 16 0.5\n",
      "\tProto: 11 0.5\n",
      "Number of prototypes in parts_presences:  7\n",
      "Part-related (purity>0.5): 6\n",
      "Node: 043+042 | Child: 043+040 | Purity: 0.68 | Num desc: 5 | Num protos: 5\n",
      "\tProto: 9 0.5\n",
      "\tProto: 0 0.7\n",
      "\tProto: 7 0.9\n",
      "\tProto: 3 0.6\n",
      "\tProto: 6 0.7\n",
      "Node: 043+042 | Child: cub_042_Vermilion_Flycatcher | Purity: 0.85 | Num desc: 1 | Num protos: 2\n",
      "\tProto: 15 1.0\n",
      "\tProto: 12 0.7\n",
      "Number of prototypes in parts_presences:  6\n",
      "Part-related (purity>0.5): 6\n",
      "Node: 078+038 | Child: cub_038_Great_Crested_Flycatcher | Purity: 0.95 | Num desc: 1 | Num protos: 2\n",
      "\tProto: 19 0.9\n",
      "\tProto: 13 1.0\n",
      "Node: 078+038 | Child: 078+041 | Purity: 0.9249999999999999 | Num desc: 3 | Num protos: 4\n",
      "\tProto: 6 1.0\n",
      "\tProto: 3 0.8\n",
      "\tProto: 9 1.0\n",
      "\tProto: 7 0.9\n",
      "Number of prototypes in parts_presences:  7\n",
      "Part-related (purity>0.5): 6\n",
      "Node: 192+191 | Child: 192+187 | Purity: 0.7861111111111111 | Num desc: 3 | Num protos: 4\n",
      "\tProto: 9 0.4444444444444444\n",
      "\tProto: 1 0.8\n",
      "\tProto: 5 1.0\n",
      "\tProto: 7 0.9\n",
      "Node: 192+191 | Child: 191+189 | Purity: 0.7999999999999999 | Num desc: 2 | Num protos: 3\n",
      "\tProto: 17 0.8\n",
      "\tProto: 10 0.7\n",
      "\tProto: 11 0.9\n",
      "Number of prototypes in parts_presences:  5\n",
      "Part-related (purity>0.5): 5\n",
      "Node: 036+188 | Child: cub_036_Northern_Flicker | Purity: 0.75 | Num desc: 1 | Num protos: 2\n",
      "\tProto: 9 0.6\n",
      "\tProto: 2 0.9\n",
      "Node: 036+188 | Child: cub_188_Pileated_Woodpecker | Purity: 0.8333333333333334 | Num desc: 1 | Num protos: 3\n",
      "\tProto: 14 0.7\n",
      "\tProto: 12 1.0\n",
      "\tProto: 11 0.8\n",
      "Number of prototypes in parts_presences:  6\n",
      "Part-related (purity>0.5): 5\n",
      "Node: 081+082 | Child: 082+079 | Purity: 0.8333333333333334 | Num desc: 2 | Num protos: 3\n",
      "\tProto: 15 1.0\n",
      "\tProto: 12 0.9\n",
      "\tProto: 19 0.6\n",
      "Node: 081+082 | Child: 081+080 | Purity: 0.6666666666666666 | Num desc: 2 | Num protos: 3\n",
      "\tProto: 8 0.8\n",
      "\tProto: 0 0.5\n",
      "\tProto: 7 0.7\n",
      "Number of prototypes in parts_presences:  8\n",
      "Part-related (purity>0.5): 6\n",
      "Node: 065+061 | Child: 065+066 | Purity: 0.8105555555555555 | Num desc: 5 | Num protos: 5\n",
      "\tProto: 9 0.7777777777777778\n",
      "\tProto: 0 0.5\n",
      "\tProto: 1 0.9\n",
      "\tProto: 4 1.0\n",
      "\tProto: 2 0.875\n",
      "Node: 065+061 | Child: 061+064 | Purity: 0.6333333333333333 | Num desc: 2 | Num protos: 3\n",
      "\tProto: 19 0.7\n",
      "\tProto: 18 0.3\n",
      "\tProto: 16 0.9\n",
      "Number of prototypes in parts_presences:  4\n",
      "Part-related (purity>0.5): 1\n",
      "Node: 084+063 | Child: cub_063_Ivory_Gull | Purity: 0.5 | Num desc: 1 | Num protos: 2\n",
      "\tProto: 17 1.0\n",
      "\tProto: 10 0.0\n",
      "Node: 084+063 | Child: cub_084_Red_legged_Kittiwake | Purity: 0.05 | Num desc: 1 | Num protos: 2\n",
      "\tProto: 8 0.0\n",
      "\tProto: 4 0.1\n",
      "Number of prototypes in parts_presences:  7\n",
      "Part-related (purity>0.5): 3\n",
      "Node: 144+143 | Child: 144+142 | Purity: 0.2 | Num desc: 5 | Num protos: 4\n",
      "\tProto: 8 0.0\n",
      "\tProto: 2 0.0\n",
      "\tProto: 5 0.8\n",
      "\tProto: 7 0.0\n",
      "Node: 144+143 | Child: cub_143_Caspian_Tern | Purity: 0.75 | Num desc: 1 | Num protos: 3\n",
      "\tProto: 13 1.0\n",
      "\tProto: 10 1.0\n",
      "\tProto: 11 0.25\n",
      "Number of prototypes in parts_presences:  8\n",
      "Part-related (purity>0.5): 6\n",
      "Node: 006+008 | Child: 006+005 | Purity: 0.76 | Num desc: 3 | Num protos: 5\n",
      "\tProto: 7 0.8\n",
      "\tProto: 3 0.8\n",
      "\tProto: 4 0.6\n",
      "\tProto: 2 0.9\n",
      "\tProto: 5 0.7\n",
      "Node: 006+008 | Child: 008+106 | Purity: 0.5925925925925926 | Num desc: 2 | Num protos: 3\n",
      "\tProto: 15 0.7777777777777778\n",
      "\tProto: 19 0.5\n",
      "\tProto: 16 0.5\n",
      "Number of prototypes in parts_presences:  8\n",
      "Part-related (purity>0.5): 7\n",
      "Node: 024+100 | Child: 024+023 | Purity: 0.74 | Num desc: 3 | Num protos: 5\n",
      "\tProto: 9 0.6\n",
      "\tProto: 0 0.4\n",
      "\tProto: 7 1.0\n",
      "\tProto: 4 0.7\n",
      "\tProto: 5 1.0\n",
      "Node: 024+100 | Child: 100+101 | Purity: 0.7999999999999999 | Num desc: 2 | Num protos: 3\n",
      "\tProto: 17 0.9\n",
      "\tProto: 16 0.6\n",
      "\tProto: 11 0.9\n",
      "Number of prototypes in parts_presences:  6\n",
      "Part-related (purity>0.5): 6\n",
      "Node: 001+045 | Child: 001+003 | Purity: 0.825 | Num desc: 3 | Num protos: 4\n",
      "\tProto: 9 0.9\n",
      "\tProto: 1 0.8\n",
      "\tProto: 2 0.8\n",
      "\tProto: 5 0.8\n",
      "Node: 001+045 | Child: cub_045_Northern_Fulmar | Purity: 0.95 | Num desc: 1 | Num protos: 2\n",
      "\tProto: 10 0.9\n",
      "\tProto: 18 1.0\n",
      "Number of prototypes in parts_presences:  5\n",
      "Part-related (purity>0.5): 5\n",
      "Node: 031+033 | Child: cub_031_Black_billed_Cuckoo | Purity: 0.9666666666666667 | Num desc: 1 | Num protos: 3\n",
      "\tProto: 1 0.9\n",
      "\tProto: 2 1.0\n",
      "\tProto: 0 1.0\n",
      "Node: 031+033 | Child: cub_033_Yellow_billed_Cuckoo | Purity: 1.0 | Num desc: 1 | Num protos: 2\n",
      "\tProto: 17 1.0\n",
      "\tProto: 11 1.0\n",
      "Number of prototypes in parts_presences:  12\n",
      "Part-related (purity>0.5): 4\n",
      "Node: 129+136 | Child: 129+199 | Purity: 0.47142857142857153 | Num desc: 97 | Num protos: 7\n",
      "\tProto: 9 0.2\n",
      "\tProto: 0 0.6\n",
      "\tProto: 8 0.4\n",
      "\tProto: 1 0.7\n",
      "\tProto: 3 0.5\n",
      "\tProto: 6 0.7\n",
      "\tProto: 2 0.2\n",
      "Node: 129+136 | Child: 136+085 | Purity: 0.18 | Num desc: 4 | Num protos: 5\n",
      "\tProto: 12 0.0\n",
      "\tProto: 11 0.0\n",
      "\tProto: 10 0.9\n",
      "\tProto: 19 0.0\n",
      "\tProto: 14 0.0\n",
      "Number of prototypes in parts_presences:  12\n",
      "Part-related (purity>0.5): 6\n",
      "Node: 107+151 | Child: 107+111 | Purity: 0.5296296296296297 | Num desc: 9 | Num protos: 6\n",
      "\tProto: 9 0.8\n",
      "\tProto: 0 0.7777777777777778\n",
      "\tProto: 7 0.1\n",
      "\tProto: 1 0.3\n",
      "\tProto: 3 0.6\n",
      "\tProto: 2 0.6\n",
      "Node: 107+151 | Child: 151+153 | Purity: 0.22962962962962963 | Num desc: 7 | Num protos: 6\n",
      "\tProto: 17 0.6666666666666666\n",
      "\tProto: 15 0.0\n",
      "\tProto: 12 0.6\n",
      "\tProto: 18 0.0\n",
      "\tProto: 13 0.1111111111111111\n",
      "\tProto: 19 0.0\n",
      "Number of prototypes in parts_presences:  8\n",
      "Part-related (purity>0.5): 7\n",
      "Node: 043+040 | Child: 043+037 | Purity: 0.875 | Num desc: 3 | Num protos: 4\n",
      "\tProto: 5 0.9\n",
      "\tProto: 9 1.0\n",
      "\tProto: 8 0.6\n",
      "\tProto: 4 1.0\n",
      "Node: 043+040 | Child: 040+102 | Purity: 0.7 | Num desc: 2 | Num protos: 4\n",
      "\tProto: 17 0.8888888888888888\n",
      "\tProto: 12 0.8\n",
      "\tProto: 19 0.1111111111111111\n",
      "\tProto: 13 1.0\n",
      "Number of prototypes in parts_presences:  7\n",
      "Part-related (purity>0.5): 5\n",
      "Node: 078+041 | Child: cub_041_Scissor_tailed_Flycatcher | Purity: 0.7999999999999999 | Num desc: 1 | Num protos: 3\n",
      "\tProto: 17 1.0\n",
      "\tProto: 19 0.5\n",
      "\tProto: 13 0.9\n",
      "Node: 078+041 | Child: 078+077 | Purity: 0.6694444444444445 | Num desc: 2 | Num protos: 4\n",
      "\tProto: 5 0.9\n",
      "\tProto: 6 0.7777777777777778\n",
      "\tProto: 2 0.0\n",
      "\tProto: 0 1.0\n",
      "Number of prototypes in parts_presences:  4\n",
      "Part-related (purity>0.5): 4\n",
      "Node: 192+187 | Child: cub_187_American_Three_toed_Woodpecker | Purity: 0.9 | Num desc: 1 | Num protos: 2\n",
      "\tProto: 19 1.0\n",
      "\tProto: 10 0.8\n",
      "Node: 192+187 | Child: 192+190 | Purity: 0.8500000000000001 | Num desc: 2 | Num protos: 2\n",
      "\tProto: 1 0.9\n",
      "\tProto: 4 0.8\n",
      "Number of prototypes in parts_presences:  4\n",
      "Part-related (purity>0.5): 4\n",
      "Node: 191+189 | Child: cub_189_Red_bellied_Woodpecker | Purity: 1.0 | Num desc: 1 | Num protos: 2\n",
      "\tProto: 13 1.0\n",
      "\tProto: 16 1.0\n",
      "Node: 191+189 | Child: cub_191_Red_headed_Woodpecker | Purity: 0.95 | Num desc: 1 | Num protos: 2\n",
      "\tProto: 8 0.9\n",
      "\tProto: 0 1.0\n",
      "Number of prototypes in parts_presences:  4\n",
      "Part-related (purity>0.5): 4\n",
      "Node: 081+080 | Child: cub_080_Green_Kingfisher | Purity: 0.8500000000000001 | Num desc: 1 | Num protos: 2\n",
      "\tProto: 17 0.8\n",
      "\tProto: 18 0.9\n",
      "Node: 081+080 | Child: cub_081_Pied_Kingfisher | Purity: 0.95 | Num desc: 1 | Num protos: 2\n",
      "\tProto: 8 0.9\n",
      "\tProto: 1 1.0\n",
      "Number of prototypes in parts_presences:  5\n",
      "Part-related (purity>0.5): 3\n",
      "Node: 082+079 | Child: cub_079_Belted_Kingfisher | Purity: 0.6111111111111112 | Num desc: 1 | Num protos: 3\n",
      "\tProto: 17 0.3333333333333333\n",
      "\tProto: 18 0.9\n",
      "\tProto: 16 0.6\n",
      "Node: 082+079 | Child: cub_082_Ringed_Kingfisher | Purity: 0.5611111111111111 | Num desc: 1 | Num protos: 2\n",
      "\tProto: 8 0.9\n",
      "\tProto: 9 0.2222222222222222\n",
      "Number of prototypes in parts_presences:  9\n",
      "Part-related (purity>0.5): 7\n",
      "Node: 065+066 | Child: 065+062 | Purity: 0.7177777777777778 | Num desc: 4 | Num protos: 5\n",
      "\tProto: 9 0.8\n",
      "\tProto: 0 1.0\n",
      "\tProto: 1 0.6666666666666666\n",
      "\tProto: 3 0.2222222222222222\n",
      "\tProto: 6 0.9\n",
      "Node: 065+066 | Child: cub_066_Western_Gull | Purity: 0.7 | Num desc: 1 | Num protos: 4\n",
      "\tProto: 17 1.0\n",
      "\tProto: 16 0.0\n",
      "\tProto: 13 0.9\n",
      "\tProto: 14 0.9\n",
      "Number of prototypes in parts_presences:  6\n",
      "Part-related (purity>0.5): 6\n",
      "Node: 061+064 | Child: cub_061_Heermann_Gull | Purity: 0.9 | Num desc: 1 | Num protos: 3\n",
      "\tProto: 6 0.7\n",
      "\tProto: 1 1.0\n",
      "\tProto: 4 1.0\n",
      "Node: 061+064 | Child: cub_064_Ring_billed_Gull | Purity: 0.9 | Num desc: 1 | Num protos: 3\n",
      "\tProto: 17 0.7\n",
      "\tProto: 16 1.0\n",
      "\tProto: 11 1.0\n",
      "Number of prototypes in parts_presences:  7\n",
      "Part-related (purity>0.5): 7\n",
      "Node: 144+142 | Child: 144+145 | Purity: 0.7711111111111112 | Num desc: 4 | Num protos: 5\n",
      "\tProto: 9 0.5555555555555556\n",
      "\tProto: 7 0.8\n",
      "\tProto: 1 0.8\n",
      "\tProto: 4 0.9\n",
      "\tProto: 6 0.8\n",
      "Node: 144+142 | Child: cub_142_Black_Tern | Purity: 0.9 | Num desc: 1 | Num protos: 2\n",
      "\tProto: 18 0.8\n",
      "\tProto: 11 1.0\n",
      "Number of prototypes in parts_presences:  5\n",
      "Part-related (purity>0.5): 4\n",
      "Node: 006+005 | Child: cub_005_Crested_Auklet | Purity: 0.95 | Num desc: 1 | Num protos: 2\n",
      "\tProto: 10 1.0\n",
      "\tProto: 14 0.9\n",
      "Node: 006+005 | Child: 006+007 | Purity: 0.5666666666666667 | Num desc: 2 | Num protos: 3\n",
      "\tProto: 8 0.2\n",
      "\tProto: 3 0.8\n",
      "\tProto: 7 0.7\n",
      "Number of prototypes in parts_presences:  5\n",
      "Part-related (purity>0.5): 3\n",
      "Node: 008+106 | Child: cub_008_Rhinoceros_Auklet | Purity: 0.6 | Num desc: 1 | Num protos: 3\n",
      "\tProto: 1 0.6\n",
      "\tProto: 3 0.7\n",
      "\tProto: 7 0.5\n",
      "Node: 008+106 | Child: cub_106_Horned_Puffin | Purity: 0.65 | Num desc: 1 | Num protos: 2\n",
      "\tProto: 17 0.3\n",
      "\tProto: 16 1.0\n",
      "Number of prototypes in parts_presences:  6\n",
      "Part-related (purity>0.5): 6\n",
      "Node: 024+023 | Child: cub_023_Brandt_Cormorant | Purity: 0.8666666666666667 | Num desc: 1 | Num protos: 3\n",
      "\tProto: 17 1.0\n",
      "\tProto: 15 0.8\n",
      "\tProto: 18 0.8\n",
      "Node: 024+023 | Child: 024+025 | Purity: 0.8962962962962964 | Num desc: 2 | Num protos: 3\n",
      "\tProto: 8 0.8\n",
      "\tProto: 1 0.8888888888888888\n",
      "\tProto: 7 1.0\n",
      "Number of prototypes in parts_presences:  4\n",
      "Part-related (purity>0.5): 3\n",
      "Node: 100+101 | Child: cub_100_Brown_Pelican | Purity: 0.5 | Num desc: 1 | Num protos: 2\n",
      "\tProto: 1 1.0\n",
      "\tProto: 0 0.0\n",
      "Node: 100+101 | Child: cub_101_White_Pelican | Purity: 0.95 | Num desc: 1 | Num protos: 2\n",
      "\tProto: 10 1.0\n",
      "\tProto: 11 0.9\n",
      "Number of prototypes in parts_presences:  4\n",
      "Part-related (purity>0.5): 4\n",
      "Node: 001+003 | Child: 001+002 | Purity: 1.0 | Num desc: 2 | Num protos: 2\n",
      "\tProto: 8 1.0\n",
      "\tProto: 7 1.0\n",
      "Node: 001+003 | Child: cub_003_Sooty_Albatross | Purity: 1.0 | Num desc: 1 | Num protos: 2\n",
      "\tProto: 12 1.0\n",
      "\tProto: 13 1.0\n",
      "Number of prototypes in parts_presences:  8\n",
      "Part-related (purity>0.5): 3\n",
      "Node: 129+199 | Child: 129+118 | Purity: 0.6259259259259259 | Num desc: 82 | Num protos: 3\n",
      "\tProto: 9 0.7777777777777778\n",
      "\tProto: 2 0.6\n",
      "\tProto: 5 0.5\n",
      "Node: 129+199 | Child: 199+186 | Purity: 0.34 | Num desc: 15 | Num protos: 5\n",
      "\tProto: 15 0.4\n",
      "\tProto: 18 0.2\n",
      "\tProto: 11 0.6\n",
      "\tProto: 10 0.5\n",
      "\tProto: 14 0.0\n",
      "Number of prototypes in parts_presences:  6\n",
      "Part-related (purity>0.5): 4\n",
      "Node: 136+085 | Child: cub_085_Horned_Lark | Purity: 0.5055555555555555 | Num desc: 1 | Num protos: 2\n",
      "\tProto: 17 0.9\n",
      "\tProto: 19 0.1111111111111111\n",
      "Node: 136+085 | Child: 136+138 | Purity: 0.7 | Num desc: 3 | Num protos: 4\n",
      "\tProto: 8 1.0\n",
      "\tProto: 3 0.9\n",
      "\tProto: 5 0.9\n",
      "\tProto: 7 0.0\n",
      "Number of prototypes in parts_presences:  10\n",
      "Part-related (purity>0.5): 7\n",
      "Node: 107+111 | Child: 107+073 | Purity: 0.5 | Num desc: 7 | Num protos: 8\n",
      "\tProto: 9 0.8\n",
      "\tProto: 0 0.0\n",
      "\tProto: 8 0.4\n",
      "\tProto: 1 0.8\n",
      "\tProto: 4 0.0\n",
      "\tProto: 6 0.7\n",
      "\tProto: 2 0.7\n",
      "\tProto: 5 0.6\n",
      "Node: 107+111 | Child: 111+112 | Purity: 0.9444444444444444 | Num desc: 2 | Num protos: 2\n",
      "\tProto: 13 0.8888888888888888\n",
      "\tProto: 10 1.0\n",
      "Number of prototypes in parts_presences:  9\n",
      "Part-related (purity>0.5): 9\n",
      "Node: 151+153 | Child: 151+157 | Purity: 0.8555555555555555 | Num desc: 4 | Num protos: 5\n",
      "\tProto: 7 0.8\n",
      "\tProto: 8 0.9\n",
      "\tProto: 3 0.8\n",
      "\tProto: 6 0.7777777777777778\n",
      "\tProto: 5 1.0\n",
      "Node: 151+153 | Child: 153+154 | Purity: 0.8916666666666666 | Num desc: 3 | Num protos: 4\n",
      "\tProto: 12 1.0\n",
      "\tProto: 18 0.9\n",
      "\tProto: 19 0.7777777777777778\n",
      "\tProto: 16 0.8888888888888888\n",
      "Number of prototypes in parts_presences:  5\n",
      "Part-related (purity>0.5): 4\n",
      "Node: 043+037 | Child: cub_037_Acadian_Flycatcher | Purity: 0.5 | Num desc: 1 | Num protos: 2\n",
      "\tProto: 16 0.0\n",
      "\tProto: 11 1.0\n",
      "Node: 043+037 | Child: 043+039 | Purity: 0.8546296296296297 | Num desc: 2 | Num protos: 3\n",
      "\tProto: 9 0.8\n",
      "\tProto: 1 0.875\n",
      "\tProto: 0 0.8888888888888888\n",
      "Number of prototypes in parts_presences:  5\n",
      "Part-related (purity>0.5): 5\n",
      "Node: 040+102 | Child: cub_040_Olive_sided_Flycatcher | Purity: 0.9296296296296296 | Num desc: 1 | Num protos: 3\n",
      "\tProto: 5 0.9\n",
      "\tProto: 6 0.8888888888888888\n",
      "\tProto: 4 1.0\n",
      "Node: 040+102 | Child: cub_102_Western_Wood_Pewee | Purity: 0.95 | Num desc: 1 | Num protos: 2\n",
      "\tProto: 18 0.9\n",
      "\tProto: 16 1.0\n",
      "Number of prototypes in parts_presences:  5\n",
      "Part-related (purity>0.5): 4\n",
      "Node: 078+077 | Child: cub_077_Tropical_Kingbird | Purity: 0.5888888888888889 | Num desc: 1 | Num protos: 2\n",
      "\tProto: 17 0.7777777777777778\n",
      "\tProto: 13 0.4\n",
      "Node: 078+077 | Child: cub_078_Gray_Kingbird | Purity: 0.762962962962963 | Num desc: 1 | Num protos: 3\n",
      "\tProto: 6 0.8888888888888888\n",
      "\tProto: 1 0.8\n",
      "\tProto: 0 0.6\n",
      "Number of prototypes in parts_presences:  4\n",
      "Part-related (purity>0.5): 4\n",
      "Node: 192+190 | Child: cub_190_Red_cockaded_Woodpecker | Purity: 0.9 | Num desc: 1 | Num protos: 2\n",
      "\tProto: 15 0.8\n",
      "\tProto: 13 1.0\n",
      "Node: 192+190 | Child: cub_192_Downy_Woodpecker | Purity: 0.75 | Num desc: 1 | Num protos: 2\n",
      "\tProto: 4 0.9\n",
      "\tProto: 7 0.6\n",
      "Number of prototypes in parts_presences:  6\n",
      "Part-related (purity>0.5): 3\n",
      "Node: 065+062 | Child: 065+059 | Purity: 0.586111111111111 | Num desc: 3 | Num protos: 4\n",
      "\tProto: 8 0.7\n",
      "\tProto: 6 0.2\n",
      "\tProto: 3 1.0\n",
      "\tProto: 2 0.4444444444444444\n",
      "Node: 065+062 | Child: cub_062_Herring_Gull | Purity: 0.5944444444444444 | Num desc: 1 | Num protos: 2\n",
      "\tProto: 12 0.8888888888888888\n",
      "\tProto: 13 0.3\n",
      "Number of prototypes in parts_presences:  6\n",
      "Part-related (purity>0.5): 3\n",
      "Node: 144+145 | Child: 144+146 | Purity: 0.5370370370370371 | Num desc: 3 | Num protos: 3\n",
      "\tProto: 1 0.2222222222222222\n",
      "\tProto: 5 0.5\n",
      "\tProto: 7 0.8888888888888888\n",
      "Node: 144+145 | Child: cub_145_Elegant_Tern | Purity: 0.6666666666666666 | Num desc: 1 | Num protos: 3\n",
      "\tProto: 13 0.9\n",
      "\tProto: 10 0.1\n",
      "\tProto: 18 1.0\n",
      "Number of prototypes in parts_presences:  4\n",
      "Part-related (purity>0.5): 4\n",
      "Node: 006+007 | Child: cub_006_Least_Auklet | Purity: 0.95 | Num desc: 1 | Num protos: 2\n",
      "\tProto: 3 1.0\n",
      "\tProto: 5 0.9\n",
      "Node: 006+007 | Child: cub_007_Parakeet_Auklet | Purity: 1.0 | Num desc: 1 | Num protos: 2\n",
      "\tProto: 13 1.0\n",
      "\tProto: 16 1.0\n",
      "Number of prototypes in parts_presences:  4\n",
      "Part-related (purity>0.5): 4\n",
      "Node: 024+025 | Child: cub_024_Red_faced_Cormorant | Purity: 1.0 | Num desc: 1 | Num protos: 2\n",
      "\tProto: 5 1.0\n",
      "\tProto: 7 1.0\n",
      "Node: 024+025 | Child: cub_025_Pelagic_Cormorant | Purity: 0.9 | Num desc: 1 | Num protos: 2\n",
      "\tProto: 12 0.9\n",
      "\tProto: 16 0.9\n",
      "Number of prototypes in parts_presences:  3\n",
      "Part-related (purity>0.5): 3\n",
      "Node: 001+002 | Child: cub_001_Black_footed_Albatross | Purity: 1.0 | Num desc: 1 | Num protos: 1\n",
      "\tProto: 9 1.0\n",
      "Node: 001+002 | Child: cub_002_Laysan_Albatross | Purity: 0.85 | Num desc: 1 | Num protos: 2\n",
      "\tProto: 17 1.0\n",
      "\tProto: 15 0.7\n",
      "Number of prototypes in parts_presences:  7\n",
      "Part-related (purity>0.5): 2\n",
      "Node: 129+118 | Child: 129+104 | Purity: 0.39999999999999997 | Num desc: 81 | Num protos: 2\n",
      "\tProto: 9 0.7\n",
      "\tProto: 3 0.1\n",
      "Node: 129+118 | Child: cub_118_House_Sparrow | Purity: 0.28500000000000003 | Num desc: 1 | Num protos: 5\n",
      "\tProto: 17 0.2\n",
      "\tProto: 18 0.0\n",
      "\tProto: 13 0.2\n",
      "\tProto: 16 0.9\n",
      "\tProto: 19 0.125\n",
      "Number of prototypes in parts_presences:  12\n",
      "Part-related (purity>0.5): 8\n",
      "Node: 199+186 | Child: 199+150 | Purity: 0.5714285714285714 | Num desc: 13 | Num protos: 7\n",
      "\tProto: 9 0.9\n",
      "\tProto: 0 0.8\n",
      "\tProto: 7 0.5\n",
      "\tProto: 1 0.1\n",
      "\tProto: 3 0.4\n",
      "\tProto: 2 0.5\n",
      "\tProto: 5 0.8\n",
      "Node: 199+186 | Child: 186+185 | Purity: 0.8400000000000001 | Num desc: 2 | Num protos: 5\n",
      "\tProto: 15 0.8\n",
      "\tProto: 10 0.6\n",
      "\tProto: 13 0.9\n",
      "\tProto: 19 1.0\n",
      "\tProto: 14 0.9\n",
      "Number of prototypes in parts_presences:  5\n",
      "Part-related (purity>0.5): 5\n",
      "Node: 136+138 | Child: 136+137 | Purity: 0.9296296296296296 | Num desc: 2 | Num protos: 3\n",
      "\tProto: 5 0.8888888888888888\n",
      "\tProto: 3 0.9\n",
      "\tProto: 0 1.0\n",
      "Node: 136+138 | Child: cub_138_Tree_Swallow | Purity: 1.0 | Num desc: 1 | Num protos: 2\n",
      "\tProto: 15 1.0\n",
      "\tProto: 19 1.0\n",
      "Number of prototypes in parts_presences:  9\n",
      "Part-related (purity>0.5): 8\n",
      "Node: 107+073 | Child: 107+093 | Purity: 0.75 | Num desc: 5 | Num protos: 6\n",
      "\tProto: 0 0.9\n",
      "\tProto: 8 0.9\n",
      "\tProto: 1 0.9\n",
      "\tProto: 3 0.8\n",
      "\tProto: 2 0.1\n",
      "\tProto: 5 0.9\n",
      "Node: 107+073 | Child: 073+074 | Purity: 0.7666666666666666 | Num desc: 2 | Num protos: 3\n",
      "\tProto: 15 0.6\n",
      "\tProto: 19 0.8\n",
      "\tProto: 14 0.9\n",
      "Number of prototypes in parts_presences:  4\n",
      "Part-related (purity>0.5): 1\n",
      "Node: 111+112 | Child: cub_111_Loggerhead_Shrike | Purity: 0.45 | Num desc: 1 | Num protos: 2\n",
      "\tProto: 5 0.8\n",
      "\tProto: 0 0.1\n",
      "Node: 111+112 | Child: cub_112_Great_Grey_Shrike | Purity: 0.15 | Num desc: 1 | Num protos: 2\n",
      "\tProto: 17 0.0\n",
      "\tProto: 13 0.3\n",
      "Number of prototypes in parts_presences:  6\n",
      "Part-related (purity>0.5): 6\n",
      "Node: 151+157 | Child: 151+156 | Purity: 0.7925925925925926 | Num desc: 2 | Num protos: 3\n",
      "\tProto: 6 0.7777777777777778\n",
      "\tProto: 3 0.7\n",
      "\tProto: 4 0.9\n",
      "Node: 151+157 | Child: 157+152 | Purity: 0.9333333333333332 | Num desc: 2 | Num protos: 3\n",
      "\tProto: 19 0.8\n",
      "\tProto: 13 1.0\n",
      "\tProto: 11 1.0\n",
      "Number of prototypes in parts_presences:  5\n",
      "Part-related (purity>0.5): 2\n",
      "Node: 153+154 | Child: 153+155 | Purity: 0.4666666666666666 | Num desc: 2 | Num protos: 3\n",
      "\tProto: 9 0.3\n",
      "\tProto: 3 0.9\n",
      "\tProto: 5 0.2\n",
      "Node: 153+154 | Child: cub_154_Red_eyed_Vireo | Purity: 0.6000000000000001 | Num desc: 1 | Num protos: 2\n",
      "\tProto: 19 0.8\n",
      "\tProto: 10 0.4\n",
      "Number of prototypes in parts_presences:  5\n",
      "Part-related (purity>0.5): 5\n",
      "Node: 043+039 | Child: cub_039_Least_Flycatcher | Purity: 0.8500000000000001 | Num desc: 1 | Num protos: 2\n",
      "\tProto: 15 0.9\n",
      "\tProto: 18 0.8\n",
      "Node: 043+039 | Child: cub_043_Yellow_bellied_Flycatcher | Purity: 0.9 | Num desc: 1 | Num protos: 3\n",
      "\tProto: 8 0.8\n",
      "\tProto: 3 1.0\n",
      "\tProto: 2 0.9\n",
      "Number of prototypes in parts_presences:  6\n",
      "Part-related (purity>0.5): 4\n",
      "Node: 065+059 | Child: cub_059_California_Gull | Purity: 0.7666666666666666 | Num desc: 1 | Num protos: 3\n",
      "\tProto: 17 0.4\n",
      "\tProto: 13 1.0\n",
      "\tProto: 16 0.9\n",
      "Node: 065+059 | Child: 065+060 | Purity: 0.5666666666666668 | Num desc: 2 | Num protos: 3\n",
      "\tProto: 3 0.1\n",
      "\tProto: 2 1.0\n",
      "\tProto: 5 0.6\n",
      "Number of prototypes in parts_presences:  5\n",
      "Part-related (purity>0.5): 5\n",
      "Node: 144+146 | Child: 144+141 | Purity: 0.8666666666666667 | Num desc: 2 | Num protos: 3\n",
      "\tProto: 8 0.8\n",
      "\tProto: 1 0.9\n",
      "\tProto: 0 0.9\n",
      "Node: 144+146 | Child: cub_146_Forsters_Tern | Purity: 0.95 | Num desc: 1 | Num protos: 2\n",
      "\tProto: 12 1.0\n",
      "\tProto: 11 0.9\n",
      "Number of prototypes in parts_presences:  11\n",
      "Part-related (purity>0.5): 8\n",
      "Node: 129+104 | Child: 129+035 | Purity: 0.4746031746031747 | Num desc: 80 | Num protos: 7\n",
      "\tProto: 9 0.5555555555555556\n",
      "\tProto: 0 0.1111111111111111\n",
      "\tProto: 8 0.8\n",
      "\tProto: 3 0.7\n",
      "\tProto: 4 0.1111111111111111\n",
      "\tProto: 2 0.6\n",
      "\tProto: 5 0.4444444444444444\n",
      "Node: 129+104 | Child: cub_104_American_Pipit | Purity: 0.7000000000000001 | Num desc: 1 | Num protos: 4\n",
      "\tProto: 19 0.6\n",
      "\tProto: 18 1.0\n",
      "\tProto: 10 0.6\n",
      "\tProto: 11 0.6\n",
      "Number of prototypes in parts_presences:  9\n",
      "Part-related (purity>0.5): 7\n",
      "Node: 199+150 | Child: 150+019 | Purity: 0.7222222222222222 | Num desc: 4 | Num protos: 4\n",
      "\tProto: 17 0.8888888888888888\n",
      "\tProto: 19 0.6\n",
      "\tProto: 13 0.5\n",
      "\tProto: 11 0.9\n",
      "Node: 199+150 | Child: 199+094 | Purity: 0.64 | Num desc: 9 | Num protos: 5\n",
      "\tProto: 0 0.8\n",
      "\tProto: 7 0.8\n",
      "\tProto: 3 0.9\n",
      "\tProto: 4 0.0\n",
      "\tProto: 5 0.7\n",
      "Number of prototypes in parts_presences:  5\n",
      "Part-related (purity>0.5): 4\n",
      "Node: 186+185 | Child: cub_185_Bohemian_Waxwing | Purity: 0.65 | Num desc: 1 | Num protos: 2\n",
      "\tProto: 17 0.5\n",
      "\tProto: 14 0.8\n",
      "Node: 186+185 | Child: cub_186_Cedar_Waxwing | Purity: 0.8518518518518517 | Num desc: 1 | Num protos: 3\n",
      "\tProto: 8 1.0\n",
      "\tProto: 2 0.5555555555555556\n",
      "\tProto: 0 1.0\n",
      "Number of prototypes in parts_presences:  4\n",
      "Part-related (purity>0.5): 3\n",
      "Node: 136+137 | Child: cub_136_Barn_Swallow | Purity: 0.8333333333333333 | Num desc: 1 | Num protos: 2\n",
      "\tProto: 4 1.0\n",
      "\tProto: 7 0.6666666666666666\n",
      "Node: 136+137 | Child: cub_137_Cliff_Swallow | Purity: 0.75 | Num desc: 1 | Num protos: 2\n",
      "\tProto: 13 0.5\n",
      "\tProto: 16 1.0\n",
      "Number of prototypes in parts_presences:  8\n",
      "Part-related (purity>0.5): 8\n",
      "Node: 107+093 | Child: 107+030 | Purity: 0.8955555555555555 | Num desc: 4 | Num protos: 5\n",
      "\tProto: 9 0.8\n",
      "\tProto: 7 1.0\n",
      "\tProto: 1 1.0\n",
      "\tProto: 4 0.9\n",
      "\tProto: 5 0.7777777777777778\n",
      "Node: 107+093 | Child: cub_093_Clark_Nutcracker | Purity: 0.8666666666666667 | Num desc: 1 | Num protos: 3\n",
      "\tProto: 15 0.7\n",
      "\tProto: 13 1.0\n",
      "\tProto: 10 0.9\n",
      "Number of prototypes in parts_presences:  5\n",
      "Part-related (purity>0.5): 5\n",
      "Node: 073+074 | Child: cub_073_Blue_Jay | Purity: 0.8666666666666666 | Num desc: 1 | Num protos: 3\n",
      "\tProto: 6 0.9\n",
      "\tProto: 0 1.0\n",
      "\tProto: 7 0.7\n",
      "Node: 073+074 | Child: cub_074_Florida_Jay | Purity: 1.0 | Num desc: 1 | Num protos: 2\n",
      "\tProto: 18 1.0\n",
      "\tProto: 11 1.0\n",
      "Number of prototypes in parts_presences:  5\n",
      "Part-related (purity>0.5): 5\n",
      "Node: 151+156 | Child: cub_151_Black_capped_Vireo | Purity: 0.8888888888888888 | Num desc: 1 | Num protos: 2\n",
      "\tProto: 4 1.0\n",
      "\tProto: 7 0.7777777777777778\n",
      "Node: 151+156 | Child: cub_156_White_eyed_Vireo | Purity: 0.9333333333333332 | Num desc: 1 | Num protos: 3\n",
      "\tProto: 15 1.0\n",
      "\tProto: 12 0.9\n",
      "\tProto: 13 0.9\n",
      "Number of prototypes in parts_presences:  5\n",
      "Part-related (purity>0.5): 5\n",
      "Node: 157+152 | Child: cub_152_Blue_headed_Vireo | Purity: 0.8875 | Num desc: 1 | Num protos: 2\n",
      "\tProto: 17 0.9\n",
      "\tProto: 11 0.875\n",
      "Node: 157+152 | Child: cub_157_Yellow_throated_Vireo | Purity: 0.9296296296296296 | Num desc: 1 | Num protos: 3\n",
      "\tProto: 5 0.9\n",
      "\tProto: 1 1.0\n",
      "\tProto: 4 0.8888888888888888\n",
      "Number of prototypes in parts_presences:  5\n",
      "Part-related (purity>0.5): 5\n",
      "Node: 153+155 | Child: cub_153_Philadelphia_Vireo | Purity: 0.9333333333333332 | Num desc: 1 | Num protos: 3\n",
      "\tProto: 5 1.0\n",
      "\tProto: 2 0.8\n",
      "\tProto: 0 1.0\n",
      "Node: 153+155 | Child: cub_155_Warbling_Vireo | Purity: 0.9444444444444444 | Num desc: 1 | Num protos: 2\n",
      "\tProto: 19 0.8888888888888888\n",
      "\tProto: 16 1.0\n",
      "Number of prototypes in parts_presences:  4\n",
      "Part-related (purity>0.5): 2\n",
      "Node: 065+060 | Child: cub_060_Glaucous_winged_Gull | Purity: 0.9 | Num desc: 1 | Num protos: 2\n",
      "\tProto: 12 0.9\n",
      "\tProto: 14 0.9\n",
      "Node: 065+060 | Child: cub_065_Slaty_backed_Gull | Purity: 0.15555555555555556 | Num desc: 1 | Num protos: 2\n",
      "\tProto: 9 0.2\n",
      "\tProto: 1 0.1111111111111111\n",
      "Number of prototypes in parts_presences:  5\n",
      "Part-related (purity>0.5): 5\n",
      "Node: 144+141 | Child: cub_141_Artic_Tern | Purity: 0.9444444444444444 | Num desc: 1 | Num protos: 2\n",
      "\tProto: 12 0.8888888888888888\n",
      "\tProto: 19 1.0\n",
      "Node: 144+141 | Child: cub_144_Common_Tern | Purity: 0.9 | Num desc: 1 | Num protos: 3\n",
      "\tProto: 1 0.9\n",
      "\tProto: 2 1.0\n",
      "\tProto: 7 0.8\n",
      "Number of prototypes in parts_presences:  12\n",
      "Part-related (purity>0.5): 5\n",
      "Node: 129+035 | Child: 129+054 | Purity: 0.4 | Num desc: 74 | Num protos: 8\n",
      "\tProto: 9 0.4\n",
      "\tProto: 0 0.2\n",
      "\tProto: 7 0.1\n",
      "\tProto: 8 0.5\n",
      "\tProto: 1 0.0\n",
      "\tProto: 3 0.7\n",
      "\tProto: 6 0.7\n",
      "\tProto: 2 0.6\n",
      "Node: 129+035 | Child: 035+055 | Purity: 0.4 | Num desc: 6 | Num protos: 4\n",
      "\tProto: 17 0.0\n",
      "\tProto: 16 0.9\n",
      "\tProto: 19 0.0\n",
      "\tProto: 11 0.7\n",
      "Number of prototypes in parts_presences:  7\n",
      "Part-related (purity>0.5): 6\n",
      "Node: 199+094 | Child: 199+028 | Purity: 0.6666666666666666 | Num desc: 8 | Num protos: 3\n",
      "\tProto: 5 0.9\n",
      "\tProto: 3 0.2\n",
      "\tProto: 0 0.9\n",
      "Node: 199+094 | Child: cub_094_White_breasted_Nuthatch | Purity: 0.775 | Num desc: 1 | Num protos: 4\n",
      "\tProto: 16 0.8\n",
      "\tProto: 13 0.7\n",
      "\tProto: 10 0.7\n",
      "\tProto: 11 0.9\n",
      "Number of prototypes in parts_presences:  6\n",
      "Part-related (purity>0.5): 6\n",
      "Node: 150+019 | Child: cub_019_Gray_Catbird | Purity: 1.0 | Num desc: 1 | Num protos: 2\n",
      "\tProto: 12 1.0\n",
      "\tProto: 10 1.0\n",
      "Node: 150+019 | Child: 150+149 | Purity: 0.9 | Num desc: 3 | Num protos: 4\n",
      "\tProto: 8 0.9\n",
      "\tProto: 3 0.9\n",
      "\tProto: 4 0.9\n",
      "\tProto: 7 0.9\n",
      "Number of prototypes in parts_presences:  5\n",
      "Part-related (purity>0.5): 5\n",
      "Node: 107+030 | Child: 107+029 | Purity: 0.8444444444444444 | Num desc: 3 | Num protos: 2\n",
      "\tProto: 2 0.8\n",
      "\tProto: 5 0.8888888888888888\n",
      "Node: 107+030 | Child: cub_030_Fish_Crow | Purity: 0.8666666666666667 | Num desc: 1 | Num protos: 3\n",
      "\tProto: 15 0.7\n",
      "\tProto: 12 0.9\n",
      "\tProto: 13 1.0\n",
      "Number of prototypes in parts_presences:  8\n",
      "Part-related (purity>0.5): 3\n",
      "Node: 129+054 | Child: 129+175 | Purity: 0.5407407407407406 | Num desc: 66 | Num protos: 6\n",
      "\tProto: 8 0.4\n",
      "\tProto: 1 0.6\n",
      "\tProto: 4 0.6666666666666666\n",
      "\tProto: 6 0.5\n",
      "\tProto: 2 0.7777777777777778\n",
      "\tProto: 5 0.3\n",
      "Node: 129+054 | Child: 054+140 | Purity: 0.1 | Num desc: 8 | Num protos: 2\n",
      "\tProto: 15 0.2\n",
      "\tProto: 16 0.0\n",
      "Number of prototypes in parts_presences:  7\n",
      "Part-related (purity>0.5): 5\n",
      "Node: 035+055 | Child: 035+048 | Purity: 0.5599999999999999 | Num desc: 5 | Num protos: 5\n",
      "\tProto: 9 0.7\n",
      "\tProto: 0 0.4\n",
      "\tProto: 7 0.6\n",
      "\tProto: 4 0.4\n",
      "\tProto: 5 0.7\n",
      "Node: 035+055 | Child: cub_055_Evening_Grosbeak | Purity: 1.0 | Num desc: 1 | Num protos: 2\n",
      "\tProto: 15 1.0\n",
      "\tProto: 19 1.0\n",
      "Number of prototypes in parts_presences:  8\n",
      "Part-related (purity>0.5): 4\n",
      "Node: 199+028 | Child: cub_028_Brown_Creeper | Purity: 0.5 | Num desc: 1 | Num protos: 3\n",
      "\tProto: 16 0.9\n",
      "\tProto: 18 0.3\n",
      "\tProto: 14 0.3\n",
      "Node: 199+028 | Child: 199+198 | Purity: 0.6399999999999999 | Num desc: 7 | Num protos: 5\n",
      "\tProto: 0 0.9\n",
      "\tProto: 7 0.2\n",
      "\tProto: 1 0.9\n",
      "\tProto: 2 0.8\n",
      "\tProto: 5 0.4\n",
      "Number of prototypes in parts_presences:  6\n",
      "Part-related (purity>0.5): 5\n",
      "Node: 150+149 | Child: 150+091 | Purity: 0.75 | Num desc: 2 | Num protos: 4\n",
      "\tProto: 8 1.0\n",
      "\tProto: 9 0.8\n",
      "\tProto: 1 0.9\n",
      "\tProto: 3 0.3\n",
      "Node: 150+149 | Child: cub_149_Brown_Thrasher | Purity: 1.0 | Num desc: 1 | Num protos: 2\n",
      "\tProto: 15 1.0\n",
      "\tProto: 12 1.0\n",
      "Number of prototypes in parts_presences:  5\n",
      "Part-related (purity>0.5): 4\n",
      "Node: 107+029 | Child: cub_029_American_Crow | Purity: 0.8500000000000001 | Num desc: 1 | Num protos: 2\n",
      "\tProto: 12 0.8\n",
      "\tProto: 13 0.9\n",
      "Node: 107+029 | Child: 107+108 | Purity: 0.49259259259259264 | Num desc: 2 | Num protos: 3\n",
      "\tProto: 6 0.0\n",
      "\tProto: 2 0.7\n",
      "\tProto: 0 0.7777777777777778\n",
      "Number of prototypes in parts_presences:  11\n",
      "Part-related (purity>0.5): 4\n",
      "Node: 129+175 | Child: 129+011 | Purity: 0.24305555555555555 | Num desc: 36 | Num protos: 8\n",
      "\tProto: 9 0.8\n",
      "\tProto: 0 0.0\n",
      "\tProto: 1 0.2\n",
      "\tProto: 3 0.0\n",
      "\tProto: 4 0.0\n",
      "\tProto: 6 0.5\n",
      "\tProto: 2 0.4444444444444444\n",
      "\tProto: 5 0.0\n",
      "Node: 129+175 | Child: 175+020 | Purity: 0.6555555555555556 | Num desc: 30 | Num protos: 3\n",
      "\tProto: 15 0.7\n",
      "\tProto: 16 0.6666666666666666\n",
      "\tProto: 14 0.6\n",
      "Number of prototypes in parts_presences:  8\n",
      "Part-related (purity>0.5): 7\n",
      "Node: 054+140 | Child: 054+057 | Purity: 0.6425925925925926 | Num desc: 5 | Num protos: 6\n",
      "\tProto: 7 0.5555555555555556\n",
      "\tProto: 1 0.8\n",
      "\tProto: 4 0.6\n",
      "\tProto: 6 0.9\n",
      "\tProto: 2 0.4\n",
      "\tProto: 5 0.6\n",
      "Node: 054+140 | Child: 140+017 | Purity: 0.8500000000000001 | Num desc: 3 | Num protos: 2\n",
      "\tProto: 13 0.8\n",
      "\tProto: 18 0.9\n",
      "Number of prototypes in parts_presences:  6\n",
      "Part-related (purity>0.5): 5\n",
      "Node: 035+048 | Child: 035+056 | Purity: 0.6999999999999998 | Num desc: 3 | Num protos: 3\n",
      "\tProto: 3 0.5\n",
      "\tProto: 5 0.9\n",
      "\tProto: 7 0.7\n",
      "Node: 035+048 | Child: 048+047 | Purity: 0.7333333333333334 | Num desc: 2 | Num protos: 3\n",
      "\tProto: 16 0.7\n",
      "\tProto: 19 0.9\n",
      "\tProto: 11 0.6\n",
      "Number of prototypes in parts_presences:  10\n",
      "Part-related (purity>0.5): 6\n",
      "Node: 199+198 | Child: 199+194 | Purity: 0.43333333333333335 | Num desc: 6 | Num protos: 6\n",
      "\tProto: 9 0.3\n",
      "\tProto: 1 0.6\n",
      "\tProto: 3 0.8\n",
      "\tProto: 4 0.1\n",
      "\tProto: 6 0.8\n",
      "\tProto: 5 0.0\n",
      "Node: 199+198 | Child: cub_198_Rock_Wren | Purity: 0.65 | Num desc: 1 | Num protos: 4\n",
      "\tProto: 19 0.0\n",
      "\tProto: 18 1.0\n",
      "\tProto: 13 1.0\n",
      "\tProto: 11 0.6\n",
      "Number of prototypes in parts_presences:  5\n",
      "Part-related (purity>0.5): 5\n",
      "Node: 150+091 | Child: cub_091_Mockingbird | Purity: 0.95 | Num desc: 1 | Num protos: 2\n",
      "\tProto: 12 1.0\n",
      "\tProto: 10 0.9\n",
      "Node: 150+091 | Child: cub_150_Sage_Thrasher | Purity: 0.9666666666666667 | Num desc: 1 | Num protos: 3\n",
      "\tProto: 6 0.9\n",
      "\tProto: 3 1.0\n",
      "\tProto: 7 1.0\n",
      "Number of prototypes in parts_presences:  5\n",
      "Part-related (purity>0.5): 5\n",
      "Node: 107+108 | Child: cub_107_Common_Raven | Purity: 0.8333333333333334 | Num desc: 1 | Num protos: 3\n",
      "\tProto: 6 0.7\n",
      "\tProto: 1 0.8\n",
      "\tProto: 3 1.0\n",
      "Node: 107+108 | Child: cub_108_White_necked_Raven | Purity: 0.8571428571428572 | Num desc: 1 | Num protos: 2\n",
      "\tProto: 19 0.7142857142857143\n",
      "\tProto: 16 1.0\n",
      "Number of prototypes in parts_presences:  13\n",
      "Part-related (purity>0.5): 6\n",
      "Node: 129+011 | Child: 011+013 | Purity: 0.4810185185185185 | Num desc: 13 | Num protos: 6\n",
      "\tProto: 17 0.2\n",
      "\tProto: 15 0.1111111111111111\n",
      "\tProto: 12 0.875\n",
      "\tProto: 18 0.8\n",
      "\tProto: 10 0.6\n",
      "\tProto: 16 0.3\n",
      "Node: 129+011 | Child: 129+121 | Purity: 0.4015873015873016 | Num desc: 23 | Num protos: 7\n",
      "\tProto: 9 0.7\n",
      "\tProto: 0 0.0\n",
      "\tProto: 7 0.2\n",
      "\tProto: 1 0.6\n",
      "\tProto: 3 0.4\n",
      "\tProto: 4 0.8\n",
      "\tProto: 5 0.1111111111111111\n",
      "Number of prototypes in parts_presences:  11\n",
      "Part-related (purity>0.5): 8\n",
      "Node: 175+020 | Child: cub_020_Yellow_breasted_Chat | Purity: 0.9 | Num desc: 1 | Num protos: 3\n",
      "\tProto: 17 0.9\n",
      "\tProto: 19 1.0\n",
      "\tProto: 18 0.8\n",
      "Node: 175+020 | Child: 175+099 | Purity: 0.575 | Num desc: 29 | Num protos: 8\n",
      "\tProto: 9 0.6\n",
      "\tProto: 0 0.6\n",
      "\tProto: 7 0.8\n",
      "\tProto: 3 0.5\n",
      "\tProto: 4 0.3\n",
      "\tProto: 6 0.5\n",
      "\tProto: 2 0.7\n",
      "\tProto: 5 0.6\n",
      "Number of prototypes in parts_presences:  7\n",
      "Part-related (purity>0.5): 7\n",
      "Node: 054+057 | Child: 054+014 | Purity: 0.8133333333333332 | Num desc: 4 | Num protos: 5\n",
      "\tProto: 8 1.0\n",
      "\tProto: 1 0.8\n",
      "\tProto: 4 0.8\n",
      "\tProto: 6 0.6666666666666666\n",
      "\tProto: 2 0.8\n",
      "Node: 054+057 | Child: cub_057_Rose_breasted_Grosbeak | Purity: 0.85 | Num desc: 1 | Num protos: 2\n",
      "\tProto: 15 1.0\n",
      "\tProto: 10 0.7\n",
      "Number of prototypes in parts_presences:  5\n",
      "Part-related (purity>0.5): 4\n",
      "Node: 140+017 | Child: cub_017_Cardinal | Purity: 0.75 | Num desc: 1 | Num protos: 2\n",
      "\tProto: 12 0.6\n",
      "\tProto: 16 0.9\n",
      "Node: 140+017 | Child: 140+139 | Purity: 0.7333333333333334 | Num desc: 2 | Num protos: 3\n",
      "\tProto: 5 1.0\n",
      "\tProto: 8 0.5\n",
      "\tProto: 4 0.7\n",
      "Number of prototypes in parts_presences:  6\n",
      "Part-related (purity>0.5): 6\n",
      "Node: 035+056 | Child: 035+034 | Purity: 0.8 | Num desc: 2 | Num protos: 4\n",
      "\tProto: 9 0.8\n",
      "\tProto: 1 1.0\n",
      "\tProto: 3 0.6\n",
      "\tProto: 7 0.8\n",
      "Node: 035+056 | Child: cub_056_Pine_Grosbeak | Purity: 0.85 | Num desc: 1 | Num protos: 2\n",
      "\tProto: 13 0.7\n",
      "\tProto: 10 1.0\n",
      "Number of prototypes in parts_presences:  4\n",
      "Part-related (purity>0.5): 4\n",
      "Node: 048+047 | Child: cub_047_American_Goldfinch | Purity: 1.0 | Num desc: 1 | Num protos: 2\n",
      "\tProto: 13 1.0\n",
      "\tProto: 10 1.0\n",
      "Node: 048+047 | Child: cub_048_European_Goldfinch | Purity: 1.0 | Num desc: 1 | Num protos: 2\n",
      "\tProto: 2 1.0\n",
      "\tProto: 7 1.0\n",
      "Number of prototypes in parts_presences:  10\n",
      "Part-related (purity>0.5): 9\n",
      "Node: 199+194 | Child: 199+193 | Purity: 0.8166666666666668 | Num desc: 5 | Num protos: 6\n",
      "\tProto: 0 0.9\n",
      "\tProto: 7 0.6\n",
      "\tProto: 8 0.8\n",
      "\tProto: 1 0.7\n",
      "\tProto: 3 1.0\n",
      "\tProto: 4 0.9\n",
      "Node: 199+194 | Child: cub_194_Cactus_Wren | Purity: 0.85 | Num desc: 1 | Num protos: 4\n",
      "\tProto: 17 1.0\n",
      "\tProto: 15 0.9\n",
      "\tProto: 12 0.5\n",
      "\tProto: 14 1.0\n",
      "Number of prototypes in parts_presences:  9\n",
      "Part-related (purity>0.5): 8\n",
      "Node: 129+121 | Child: 129+117 | Purity: 0.7333333333333334 | Num desc: 22 | Num protos: 6\n",
      "\tProto: 9 0.7\n",
      "\tProto: 1 0.8\n",
      "\tProto: 3 0.8\n",
      "\tProto: 4 0.9\n",
      "\tProto: 6 0.8\n",
      "\tProto: 5 0.4\n",
      "Node: 129+121 | Child: cub_121_Grasshopper_Sparrow | Purity: 1.0 | Num desc: 1 | Num protos: 3\n",
      "\tProto: 16 1.0\n",
      "\tProto: 18 1.0\n",
      "\tProto: 11 1.0\n",
      "Number of prototypes in parts_presences:  11\n",
      "Part-related (purity>0.5): 6\n",
      "Node: 011+013 | Child: 011+095 | Purity: 0.5571428571428572 | Num desc: 10 | Num protos: 7\n",
      "\tProto: 0 0.6\n",
      "\tProto: 7 0.9\n",
      "\tProto: 8 0.4\n",
      "\tProto: 1 0.0\n",
      "\tProto: 4 0.6\n",
      "\tProto: 6 0.7\n",
      "\tProto: 5 0.7\n",
      "Node: 011+013 | Child: 013+088 | Purity: 0.4625 | Num desc: 3 | Num protos: 4\n",
      "\tProto: 17 0.2\n",
      "\tProto: 12 0.25\n",
      "\tProto: 10 1.0\n",
      "\tProto: 16 0.4\n",
      "Number of prototypes in parts_presences:  8\n",
      "Part-related (purity>0.5): 7\n",
      "Node: 175+099 | Child: cub_099_Ovenbird | Purity: 1.0 | Num desc: 1 | Num protos: 2\n",
      "\tProto: 17 1.0\n",
      "\tProto: 16 1.0\n",
      "Node: 175+099 | Child: 175+181 | Purity: 0.5833333333333334 | Num desc: 28 | Num protos: 6\n",
      "\tProto: 0 0.5555555555555556\n",
      "\tProto: 7 0.7777777777777778\n",
      "\tProto: 8 0.8\n",
      "\tProto: 1 0.0\n",
      "\tProto: 6 0.7\n",
      "\tProto: 5 0.6666666666666666\n",
      "Number of prototypes in parts_presences:  6\n",
      "Part-related (purity>0.5): 4\n",
      "Node: 054+014 | Child: cub_014_Indigo_Bunting | Purity: 0.6999999999999998 | Num desc: 1 | Num protos: 3\n",
      "\tProto: 17 0.4\n",
      "\tProto: 12 1.0\n",
      "\tProto: 14 0.7\n",
      "Node: 054+014 | Child: 054+016 | Purity: 0.7777777777777777 | Num desc: 3 | Num protos: 3\n",
      "\tProto: 6 1.0\n",
      "\tProto: 1 0.3333333333333333\n",
      "\tProto: 0 1.0\n",
      "Number of prototypes in parts_presences:  7\n",
      "Part-related (purity>0.5): 5\n",
      "Node: 140+139 | Child: cub_139_Scarlet_Tanager | Purity: 0.5333333333333333 | Num desc: 1 | Num protos: 3\n",
      "\tProto: 16 0.1\n",
      "\tProto: 18 0.6\n",
      "\tProto: 14 0.9\n",
      "Node: 140+139 | Child: cub_140_Summer_Tanager | Purity: 0.7694444444444445 | Num desc: 1 | Num protos: 4\n",
      "\tProto: 5 1.0\n",
      "\tProto: 3 0.3\n",
      "\tProto: 2 0.7777777777777778\n",
      "\tProto: 0 1.0\n",
      "Number of prototypes in parts_presences:  4\n",
      "Part-related (purity>0.5): 4\n",
      "Node: 035+034 | Child: cub_034_Gray_crowned_Rosy_Finch | Purity: 1.0 | Num desc: 1 | Num protos: 2\n",
      "\tProto: 12 1.0\n",
      "\tProto: 10 1.0\n",
      "Node: 035+034 | Child: cub_035_Purple_Finch | Purity: 1.0 | Num desc: 1 | Num protos: 2\n",
      "\tProto: 3 1.0\n",
      "\tProto: 0 1.0\n",
      "Number of prototypes in parts_presences:  8\n",
      "Part-related (purity>0.5): 8\n",
      "Node: 199+193 | Child: 193+195 | Purity: 0.9 | Num desc: 2 | Num protos: 3\n",
      "\tProto: 15 0.9\n",
      "\tProto: 12 1.0\n",
      "\tProto: 10 0.8\n",
      "Node: 199+193 | Child: 199+197 | Purity: 0.9 | Num desc: 3 | Num protos: 5\n",
      "\tProto: 0 0.9\n",
      "\tProto: 7 0.8\n",
      "\tProto: 4 0.9\n",
      "\tProto: 2 0.9\n",
      "\tProto: 5 1.0\n",
      "Number of prototypes in parts_presences:  11\n",
      "Part-related (purity>0.5): 3\n",
      "Node: 129+117 | Child: 129+133 | Purity: 0.2333333333333333 | Num desc: 17 | Num protos: 6\n",
      "\tProto: 0 0.0\n",
      "\tProto: 7 0.2\n",
      "\tProto: 8 0.5\n",
      "\tProto: 1 0.0\n",
      "\tProto: 3 0.0\n",
      "\tProto: 4 0.7\n",
      "Node: 129+117 | Child: 117+114 | Purity: 0.4 | Num desc: 5 | Num protos: 5\n",
      "\tProto: 17 0.0\n",
      "\tProto: 15 0.5\n",
      "\tProto: 10 0.8\n",
      "\tProto: 13 0.7\n",
      "\tProto: 19 0.0\n",
      "Number of prototypes in parts_presences:  9\n",
      "Part-related (purity>0.5): 3\n",
      "Node: 011+095 | Child: 011+026 | Purity: 0.2533333333333333 | Num desc: 6 | Num protos: 5\n",
      "\tProto: 1 0.5\n",
      "\tProto: 3 0.6666666666666666\n",
      "\tProto: 4 0.1\n",
      "\tProto: 2 0.0\n",
      "\tProto: 5 0.0\n",
      "Node: 011+095 | Child: 095+096 | Purity: 0.5333333333333333 | Num desc: 4 | Num protos: 4\n",
      "\tProto: 16 0.8888888888888888\n",
      "\tProto: 14 0.4444444444444444\n",
      "\tProto: 13 0.7\n",
      "\tProto: 11 0.1\n",
      "Number of prototypes in parts_presences:  5\n",
      "Part-related (purity>0.5): 5\n",
      "Node: 013+088 | Child: 013+012 | Purity: 0.9 | Num desc: 2 | Num protos: 3\n",
      "\tProto: 8 0.9\n",
      "\tProto: 4 0.9\n",
      "\tProto: 7 0.9\n",
      "Node: 013+088 | Child: cub_088_Western_Meadowlark | Purity: 0.95 | Num desc: 1 | Num protos: 2\n",
      "\tProto: 13 0.9\n",
      "\tProto: 16 1.0\n",
      "Number of prototypes in parts_presences:  8\n",
      "Part-related (purity>0.5): 7\n",
      "Node: 175+181 | Child: 175+168+173+183 | Purity: 0.7685185185185185 | Num desc: 27 | Num protos: 6\n",
      "\tProto: 9 0.8888888888888888\n",
      "\tProto: 8 0.5\n",
      "\tProto: 1 0.8888888888888888\n",
      "\tProto: 3 0.7777777777777778\n",
      "\tProto: 4 0.6666666666666666\n",
      "\tProto: 6 0.8888888888888888\n",
      "Node: 175+181 | Child: cub_181_Worm_eating_Warbler | Purity: 1.0 | Num desc: 1 | Num protos: 2\n",
      "\tProto: 12 1.0\n",
      "\tProto: 19 1.0\n",
      "Number of prototypes in parts_presences:  6\n",
      "Part-related (purity>0.5): 6\n",
      "Node: 054+016 | Child: 054+015 | Purity: 0.9249999999999999 | Num desc: 2 | Num protos: 4\n",
      "\tProto: 6 1.0\n",
      "\tProto: 2 1.0\n",
      "\tProto: 0 0.8\n",
      "\tProto: 7 0.9\n",
      "Node: 054+016 | Child: cub_016_Painted_Bunting | Purity: 0.8333333333333333 | Num desc: 1 | Num protos: 2\n",
      "\tProto: 19 0.8888888888888888\n",
      "\tProto: 16 0.7777777777777778\n",
      "Number of prototypes in parts_presences:  4\n",
      "Part-related (purity>0.5): 4\n",
      "Node: 199+197 | Child: 199+196 | Purity: 0.9296296296296296 | Num desc: 2 | Num protos: 3\n",
      "\tProto: 8 0.8888888888888888\n",
      "\tProto: 1 1.0\n",
      "\tProto: 0 0.9\n",
      "Node: 199+197 | Child: cub_197_Marsh_Wren | Purity: 1.0 | Num desc: 1 | Num protos: 1\n",
      "\tProto: 19 1.0\n",
      "Number of prototypes in parts_presences:  5\n",
      "Part-related (purity>0.5): 4\n",
      "Node: 193+195 | Child: cub_193_Bewick_Wren | Purity: 0.8944444444444444 | Num desc: 1 | Num protos: 2\n",
      "\tProto: 6 0.8888888888888888\n",
      "\tProto: 1 0.9\n",
      "Node: 193+195 | Child: cub_195_Carolina_Wren | Purity: 0.7666666666666666 | Num desc: 1 | Num protos: 3\n",
      "\tProto: 15 0.8\n",
      "\tProto: 19 1.0\n",
      "\tProto: 14 0.5\n",
      "Number of prototypes in parts_presences:  10\n",
      "Part-related (purity>0.5): 5\n",
      "Node: 129+133 | Child: 129+021 | Purity: 0.6644444444444444 | Num desc: 11 | Num protos: 5\n",
      "\tProto: 0 0.2222222222222222\n",
      "\tProto: 7 1.0\n",
      "\tProto: 8 0.6\n",
      "\tProto: 1 0.7\n",
      "\tProto: 2 0.8\n",
      "Node: 129+133 | Child: 133+130 | Purity: 0.45999999999999996 | Num desc: 6 | Num protos: 5\n",
      "\tProto: 12 0.5\n",
      "\tProto: 10 0.0\n",
      "\tProto: 13 0.4\n",
      "\tProto: 16 0.9\n",
      "\tProto: 14 0.5\n",
      "Number of prototypes in parts_presences:  7\n",
      "Part-related (purity>0.5): 6\n",
      "Node: 117+114 | Child: cub_114_Black_throated_Sparrow | Purity: 0.6 | Num desc: 1 | Num protos: 2\n",
      "\tProto: 17 0.6\n",
      "\tProto: 15 0.6\n",
      "Node: 117+114 | Child: 117+115 | Purity: 0.7155555555555555 | Num desc: 4 | Num protos: 5\n",
      "\tProto: 9 0.8\n",
      "\tProto: 7 0.9\n",
      "\tProto: 8 0.3\n",
      "\tProto: 1 0.7777777777777778\n",
      "\tProto: 3 0.8\n",
      "Number of prototypes in parts_presences:  6\n",
      "Part-related (purity>0.5): 5\n",
      "Node: 011+026 | Child: 011+049 | Purity: 0.9629629629629629 | Num desc: 3 | Num protos: 3\n",
      "\tProto: 8 1.0\n",
      "\tProto: 9 0.8888888888888888\n",
      "\tProto: 1 1.0\n",
      "Node: 011+026 | Child: 026+010 | Purity: 0.6037037037037037 | Num desc: 3 | Num protos: 3\n",
      "\tProto: 19 0.1111111111111111\n",
      "\tProto: 18 0.9\n",
      "\tProto: 14 0.8\n",
      "Number of prototypes in parts_presences:  6\n",
      "Part-related (purity>0.5): 3\n",
      "Node: 095+096 | Child: 095+098 | Purity: 0.5333333333333333 | Num desc: 2 | Num protos: 3\n",
      "\tProto: 6 0.4\n",
      "\tProto: 4 0.5\n",
      "\tProto: 7 0.7\n",
      "Node: 095+096 | Child: 096+097 | Purity: 0.6666666666666666 | Num desc: 2 | Num protos: 3\n",
      "\tProto: 15 0.6\n",
      "\tProto: 12 1.0\n",
      "\tProto: 14 0.4\n",
      "Number of prototypes in parts_presences:  6\n",
      "Part-related (purity>0.5): 6\n",
      "Node: 013+012 | Child: cub_012_Yellow_headed_Blackbird | Purity: 1.0 | Num desc: 1 | Num protos: 3\n",
      "\tProto: 15 1.0\n",
      "\tProto: 10 1.0\n",
      "\tProto: 11 1.0\n",
      "Node: 013+012 | Child: cub_013_Bobolink | Purity: 0.8333333333333334 | Num desc: 1 | Num protos: 3\n",
      "\tProto: 5 0.7\n",
      "\tProto: 9 1.0\n",
      "\tProto: 0 0.8\n",
      "Number of prototypes in parts_presences:  14\n",
      "Part-related (purity>0.5): 8\n",
      "Node: 175+168+173+183 | Child: 175+162 | Purity: 0.4 | Num desc: 14 | Num protos: 2\n",
      "\tProto: 1 0.0\n",
      "\tProto: 3 0.8\n",
      "Node: 175+168+173+183 | Child: 183+159 | Purity: 0.75 | Num desc: 3 | Num protos: 4\n",
      "\tProto: 17 0.8\n",
      "\tProto: 15 0.8\n",
      "\tProto: 19 0.4\n",
      "\tProto: 18 1.0\n",
      "Node: 175+168+173+183 | Child: 173+161 | Purity: 0.5035714285714286 | Num desc: 5 | Num protos: 4\n",
      "\tProto: 14 0.0\n",
      "\tProto: 12 1.0\n",
      "\tProto: 10 0.3\n",
      "\tProto: 11 0.7142857142857143\n",
      "Node: 175+168+173+183 | Child: 168+177 | Purity: 0.5388888888888889 | Num desc: 5 | Num protos: 4\n",
      "\tProto: 8 1.0\n",
      "\tProto: 9 0.4444444444444444\n",
      "\tProto: 5 0.6\n",
      "\tProto: 7 0.1111111111111111\n",
      "Number of prototypes in parts_presences:  6\n",
      "Part-related (purity>0.5): 6\n",
      "Node: 054+015 | Child: cub_015_Lazuli_Bunting | Purity: 0.8185185185185185 | Num desc: 1 | Num protos: 3\n",
      "\tProto: 16 0.5555555555555556\n",
      "\tProto: 13 0.9\n",
      "\tProto: 14 1.0\n",
      "Node: 054+015 | Child: cub_054_Blue_Grosbeak | Purity: 1.0 | Num desc: 1 | Num protos: 3\n",
      "\tProto: 6 1.0\n",
      "\tProto: 1 1.0\n",
      "\tProto: 7 1.0\n",
      "Number of prototypes in parts_presences:  6\n",
      "Part-related (purity>0.5): 6\n",
      "Node: 199+196 | Child: cub_196_House_Wren | Purity: 0.9333333333333332 | Num desc: 1 | Num protos: 3\n",
      "\tProto: 12 1.0\n",
      "\tProto: 19 0.9\n",
      "\tProto: 11 0.9\n",
      "Node: 199+196 | Child: cub_199_Winter_Wren | Purity: 0.9333333333333332 | Num desc: 1 | Num protos: 3\n",
      "\tProto: 5 0.9\n",
      "\tProto: 0 0.9\n",
      "\tProto: 7 1.0\n",
      "Number of prototypes in parts_presences:  10\n",
      "Part-related (purity>0.5): 7\n",
      "Node: 129+021 | Child: 021+148 | Purity: 0.7000000000000001 | Num desc: 2 | Num protos: 3\n",
      "\tProto: 19 0.9\n",
      "\tProto: 10 0.4\n",
      "\tProto: 18 0.8\n",
      "Node: 129+021 | Child: 129+128 | Purity: 0.6079365079365079 | Num desc: 9 | Num protos: 7\n",
      "\tProto: 9 0.8\n",
      "\tProto: 0 0.7\n",
      "\tProto: 7 0.5555555555555556\n",
      "\tProto: 1 0.5\n",
      "\tProto: 4 0.6\n",
      "\tProto: 6 0.5\n",
      "\tProto: 2 0.6\n",
      "Number of prototypes in parts_presences:  7\n",
      "Part-related (purity>0.5): 5\n",
      "Node: 133+130 | Child: 133+076 | Purity: 0.8666666666666667 | Num desc: 4 | Num protos: 3\n",
      "\tProto: 5 0.7\n",
      "\tProto: 2 0.9\n",
      "\tProto: 0 1.0\n",
      "Node: 133+130 | Child: 130+120 | Purity: 0.625 | Num desc: 2 | Num protos: 4\n",
      "\tProto: 14 0.8\n",
      "\tProto: 18 0.9\n",
      "\tProto: 10 0.5\n",
      "\tProto: 11 0.3\n",
      "Number of prototypes in parts_presences:  7\n",
      "Part-related (purity>0.5): 7\n",
      "Node: 117+115 | Child: 115+119 | Purity: 0.9249999999999999 | Num desc: 2 | Num protos: 3\n",
      "\tProto: 16 1.0\n",
      "\tProto: 18 0.9\n",
      "\tProto: 11 0.875\n",
      "Node: 117+115 | Child: 117+116 | Purity: 0.8138888888888889 | Num desc: 2 | Num protos: 4\n",
      "\tProto: 6 0.9\n",
      "\tProto: 1 0.8\n",
      "\tProto: 5 1.0\n",
      "\tProto: 9 0.5555555555555556\n",
      "Number of prototypes in parts_presences:  5\n",
      "Part-related (purity>0.5): 5\n",
      "Node: 011+049 | Child: 011+009 | Purity: 0.9 | Num desc: 2 | Num protos: 3\n",
      "\tProto: 6 0.9\n",
      "\tProto: 3 0.8\n",
      "\tProto: 5 1.0\n",
      "Node: 011+049 | Child: cub_049_Boat_tailed_Grackle | Purity: 0.9 | Num desc: 1 | Num protos: 2\n",
      "\tProto: 15 0.9\n",
      "\tProto: 14 0.9\n",
      "Number of prototypes in parts_presences:  5\n",
      "Part-related (purity>0.5): 5\n",
      "Node: 026+010 | Child: cub_010_Red_winged_Blackbird | Purity: 0.6 | Num desc: 1 | Num protos: 2\n",
      "\tProto: 17 0.6\n",
      "\tProto: 14 0.6\n",
      "Node: 026+010 | Child: 026+027 | Purity: 0.7999999999999999 | Num desc: 2 | Num protos: 3\n",
      "\tProto: 3 0.6\n",
      "\tProto: 2 0.8\n",
      "\tProto: 5 1.0\n",
      "Number of prototypes in parts_presences:  5\n",
      "Part-related (purity>0.5): 3\n",
      "Node: 095+098 | Child: cub_095_Baltimore_Oriole | Purity: 0.5 | Num desc: 1 | Num protos: 2\n",
      "\tProto: 2 0.5\n",
      "\tProto: 4 0.5\n",
      "Node: 095+098 | Child: cub_098_Scott_Oriole | Purity: 0.7666666666666666 | Num desc: 1 | Num protos: 3\n",
      "\tProto: 17 0.9\n",
      "\tProto: 10 0.7\n",
      "\tProto: 16 0.7\n",
      "Number of prototypes in parts_presences:  5\n",
      "Part-related (purity>0.5): 5\n",
      "Node: 096+097 | Child: cub_096_Hooded_Oriole | Purity: 0.9666666666666667 | Num desc: 1 | Num protos: 3\n",
      "\tProto: 6 1.0\n",
      "\tProto: 4 1.0\n",
      "\tProto: 9 0.9\n",
      "Node: 096+097 | Child: cub_097_Orchard_Oriole | Purity: 0.8944444444444444 | Num desc: 1 | Num protos: 2\n",
      "\tProto: 17 0.9\n",
      "\tProto: 14 0.8888888888888888\n",
      "Number of prototypes in parts_presences:  10\n",
      "Part-related (purity>0.5): 10\n",
      "Node: 175+162 | Child: 175+167 | Purity: 0.734920634920635 | Num desc: 12 | Num protos: 7\n",
      "\tProto: 7 0.7\n",
      "\tProto: 8 0.6666666666666666\n",
      "\tProto: 1 0.6\n",
      "\tProto: 3 0.8\n",
      "\tProto: 4 0.7777777777777778\n",
      "\tProto: 2 0.9\n",
      "\tProto: 5 0.7\n",
      "Node: 175+162 | Child: 162+180 | Purity: 0.7999999999999999 | Num desc: 2 | Num protos: 3\n",
      "\tProto: 16 0.6\n",
      "\tProto: 12 0.9\n",
      "\tProto: 14 0.9\n",
      "Number of prototypes in parts_presences:  7\n",
      "Part-related (purity>0.5): 6\n",
      "Node: 168+177 | Child: 168+200 | Purity: 0.8444444444444443 | Num desc: 3 | Num protos: 4\n",
      "\tProto: 8 0.8888888888888888\n",
      "\tProto: 3 0.9\n",
      "\tProto: 2 0.8888888888888888\n",
      "\tProto: 7 0.7\n",
      "Node: 168+177 | Child: 177+178 | Purity: 0.6333333333333333 | Num desc: 2 | Num protos: 3\n",
      "\tProto: 15 1.0\n",
      "\tProto: 13 0.0\n",
      "\tProto: 10 0.9\n",
      "Number of prototypes in parts_presences:  9\n",
      "Part-related (purity>0.5): 8\n",
      "Node: 173+161 | Child: 161+166 | Purity: 0.7851851851851852 | Num desc: 2 | Num protos: 3\n",
      "\tProto: 16 0.8\n",
      "\tProto: 13 1.0\n",
      "\tProto: 14 0.5555555555555556\n",
      "Node: 173+161 | Child: 173+179 | Purity: 0.7333333333333334 | Num desc: 3 | Num protos: 6\n",
      "\tProto: 9 0.7\n",
      "\tProto: 7 0.9\n",
      "\tProto: 3 0.8\n",
      "\tProto: 4 0.9\n",
      "\tProto: 6 0.3\n",
      "\tProto: 5 0.8\n",
      "Number of prototypes in parts_presences:  5\n",
      "Part-related (purity>0.5): 5\n",
      "Node: 183+159 | Child: cub_159_Black_and_white_Warbler | Purity: 0.95 | Num desc: 1 | Num protos: 2\n",
      "\tProto: 17 1.0\n",
      "\tProto: 13 0.9\n",
      "Node: 183+159 | Child: 183+184 | Purity: 0.9333333333333332 | Num desc: 2 | Num protos: 3\n",
      "\tProto: 9 0.8\n",
      "\tProto: 1 1.0\n",
      "\tProto: 2 1.0\n",
      "Number of prototypes in parts_presences:  8\n",
      "Part-related (purity>0.5): 6\n",
      "Node: 129+128 | Child: 129+127 | Purity: 0.825 | Num desc: 5 | Num protos: 4\n",
      "\tProto: 9 0.7\n",
      "\tProto: 2 0.6\n",
      "\tProto: 5 1.0\n",
      "\tProto: 7 1.0\n",
      "Node: 129+128 | Child: 128+131 | Purity: 0.46875 | Num desc: 4 | Num protos: 4\n",
      "\tProto: 15 0.0\n",
      "\tProto: 16 0.9\n",
      "\tProto: 19 0.875\n",
      "\tProto: 11 0.1\n",
      "Number of prototypes in parts_presences:  4\n",
      "Part-related (purity>0.5): 3\n",
      "Node: 021+148 | Child: cub_021_Eastern_Towhee | Purity: 0.75 | Num desc: 1 | Num protos: 2\n",
      "\tProto: 5 0.7\n",
      "\tProto: 7 0.8\n",
      "Node: 021+148 | Child: cub_148_Green_tailed_Towhee | Purity: 0.7 | Num desc: 1 | Num protos: 2\n",
      "\tProto: 19 0.4\n",
      "\tProto: 10 1.0\n",
      "Number of prototypes in parts_presences:  5\n",
      "Part-related (purity>0.5): 4\n",
      "Node: 133+076 | Child: cub_076_Dark_eyed_Junco | Purity: 0.95 | Num desc: 1 | Num protos: 2\n",
      "\tProto: 19 1.0\n",
      "\tProto: 10 0.9\n",
      "Node: 133+076 | Child: 133+132 | Purity: 0.662962962962963 | Num desc: 3 | Num protos: 3\n",
      "\tProto: 6 0.3\n",
      "\tProto: 1 0.8888888888888888\n",
      "\tProto: 2 0.8\n",
      "Number of prototypes in parts_presences:  5\n",
      "Part-related (purity>0.5): 5\n",
      "Node: 130+120 | Child: cub_120_Fox_Sparrow | Purity: 1.0 | Num desc: 1 | Num protos: 2\n",
      "\tProto: 12 1.0\n",
      "\tProto: 18 1.0\n",
      "Node: 130+120 | Child: cub_130_Tree_Sparrow | Purity: 0.9 | Num desc: 1 | Num protos: 3\n",
      "\tProto: 1 1.0\n",
      "\tProto: 2 0.7\n",
      "\tProto: 0 1.0\n",
      "Number of prototypes in parts_presences:  5\n",
      "Part-related (purity>0.5): 4\n",
      "Node: 117+116 | Child: cub_116_Chipping_Sparrow | Purity: 0.8 | Num desc: 1 | Num protos: 2\n",
      "\tProto: 18 0.6\n",
      "\tProto: 16 1.0\n",
      "Node: 117+116 | Child: cub_117_Clay_colored_Sparrow | Purity: 0.8333333333333334 | Num desc: 1 | Num protos: 3\n",
      "\tProto: 8 0.5\n",
      "\tProto: 3 1.0\n",
      "\tProto: 4 1.0\n",
      "Number of prototypes in parts_presences:  6\n",
      "Part-related (purity>0.5): 4\n",
      "Node: 115+119 | Child: cub_115_Brewer_Sparrow | Purity: 0.9333333333333332 | Num desc: 1 | Num protos: 3\n",
      "\tProto: 5 0.8\n",
      "\tProto: 1 1.0\n",
      "\tProto: 0 1.0\n",
      "Node: 115+119 | Child: cub_119_Field_Sparrow | Purity: 0.6333333333333333 | Num desc: 1 | Num protos: 3\n",
      "\tProto: 15 1.0\n",
      "\tProto: 12 0.5\n",
      "\tProto: 18 0.4\n",
      "Number of prototypes in parts_presences:  4\n",
      "Part-related (purity>0.5): 2\n",
      "Node: 011+009 | Child: cub_009_Brewer_Blackbird | Purity: 0.55 | Num desc: 1 | Num protos: 2\n",
      "\tProto: 15 0.8\n",
      "\tProto: 10 0.3\n",
      "Node: 011+009 | Child: cub_011_Rusty_Blackbird | Purity: 0.6 | Num desc: 1 | Num protos: 2\n",
      "\tProto: 8 1.0\n",
      "\tProto: 9 0.2\n",
      "Number of prototypes in parts_presences:  5\n",
      "Part-related (purity>0.5): 5\n",
      "Node: 026+027 | Child: cub_026_Bronzed_Cowbird | Purity: 0.9 | Num desc: 1 | Num protos: 2\n",
      "\tProto: 3 0.8\n",
      "\tProto: 4 1.0\n",
      "Node: 026+027 | Child: cub_027_Shiny_Cowbird | Purity: 0.9666666666666667 | Num desc: 1 | Num protos: 3\n",
      "\tProto: 15 1.0\n",
      "\tProto: 19 1.0\n",
      "\tProto: 16 0.9\n",
      "Number of prototypes in parts_presences:  8\n",
      "Part-related (purity>0.5): 7\n",
      "Node: 175+167 | Child: 175+169 | Purity: 0.6711111111111111 | Num desc: 11 | Num protos: 5\n",
      "\tProto: 9 0.8\n",
      "\tProto: 8 0.7777777777777778\n",
      "\tProto: 3 0.8888888888888888\n",
      "\tProto: 4 0.0\n",
      "\tProto: 2 0.8888888888888888\n",
      "Node: 175+167 | Child: cub_167_Hooded_Warbler | Purity: 1.0 | Num desc: 1 | Num protos: 3\n",
      "\tProto: 12 1.0\n",
      "\tProto: 13 1.0\n",
      "\tProto: 18 1.0\n",
      "Number of prototypes in parts_presences:  6\n",
      "Part-related (purity>0.5): 5\n",
      "Node: 162+180 | Child: cub_162_Canada_Warbler | Purity: 0.7518518518518519 | Num desc: 1 | Num protos: 3\n",
      "\tProto: 5 0.5555555555555556\n",
      "\tProto: 6 0.9\n",
      "\tProto: 0 0.8\n",
      "Node: 162+180 | Child: cub_180_Wilson_Warbler | Purity: 0.7333333333333334 | Num desc: 1 | Num protos: 3\n",
      "\tProto: 17 0.9\n",
      "\tProto: 16 0.4\n",
      "\tProto: 14 0.9\n",
      "Number of prototypes in parts_presences:  6\n",
      "Part-related (purity>0.5): 6\n",
      "Node: 168+200 | Child: 168+170 | Purity: 0.9296296296296296 | Num desc: 2 | Num protos: 3\n",
      "\tProto: 8 0.9\n",
      "\tProto: 4 0.8888888888888888\n",
      "\tProto: 0 1.0\n",
      "Node: 168+200 | Child: cub_200_Common_Yellowthroat | Purity: 0.9 | Num desc: 1 | Num protos: 3\n",
      "\tProto: 17 0.9\n",
      "\tProto: 13 1.0\n",
      "\tProto: 14 0.8\n",
      "Number of prototypes in parts_presences:  4\n",
      "Part-related (purity>0.5): 4\n",
      "Node: 177+178 | Child: cub_177_Prothonotary_Warbler | Purity: 0.9 | Num desc: 1 | Num protos: 2\n",
      "\tProto: 6 0.8\n",
      "\tProto: 7 1.0\n",
      "Node: 177+178 | Child: cub_178_Swainson_Warbler | Purity: 0.8 | Num desc: 1 | Num protos: 2\n",
      "\tProto: 15 0.7\n",
      "\tProto: 18 0.9\n",
      "Number of prototypes in parts_presences:  5\n",
      "Part-related (purity>0.5): 4\n",
      "Node: 173+179 | Child: 173+172 | Purity: 0.7333333333333334 | Num desc: 2 | Num protos: 3\n",
      "\tProto: 5 0.8\n",
      "\tProto: 3 0.5\n",
      "\tProto: 0 0.9\n",
      "Node: 173+179 | Child: cub_179_Tennessee_Warbler | Purity: 0.6 | Num desc: 1 | Num protos: 2\n",
      "\tProto: 17 0.6\n",
      "\tProto: 13 0.6\n",
      "Number of prototypes in parts_presences:  6\n",
      "Part-related (purity>0.5): 5\n",
      "Node: 161+166 | Child: cub_161_Blue_winged_Warbler | Purity: 0.8592592592592593 | Num desc: 1 | Num protos: 3\n",
      "\tProto: 1 0.9\n",
      "\tProto: 5 0.9\n",
      "\tProto: 7 0.7777777777777778\n",
      "Node: 161+166 | Child: cub_166_Golden_winged_Warbler | Purity: 0.7333333333333334 | Num desc: 1 | Num protos: 3\n",
      "\tProto: 12 0.5\n",
      "\tProto: 10 0.8\n",
      "\tProto: 11 0.9\n",
      "Number of prototypes in parts_presences:  5\n",
      "Part-related (purity>0.5): 5\n",
      "Node: 183+184 | Child: cub_183_Northern_Waterthrush | Purity: 0.8 | Num desc: 1 | Num protos: 2\n",
      "\tProto: 8 0.8\n",
      "\tProto: 2 0.8\n",
      "Node: 183+184 | Child: cub_184_Louisiana_Waterthrush | Purity: 0.9333333333333332 | Num desc: 1 | Num protos: 3\n",
      "\tProto: 17 0.9\n",
      "\tProto: 13 0.9\n",
      "\tProto: 14 1.0\n",
      "Number of prototypes in parts_presences:  6\n",
      "Part-related (purity>0.5): 6\n",
      "Node: 129+127 | Child: 129+123 | Purity: 0.8999999999999999 | Num desc: 4 | Num protos: 4\n",
      "\tProto: 5 0.9\n",
      "\tProto: 4 1.0\n",
      "\tProto: 8 0.9\n",
      "\tProto: 0 0.8\n",
      "Node: 129+127 | Child: cub_127_Savannah_Sparrow | Purity: 0.95 | Num desc: 1 | Num protos: 2\n",
      "\tProto: 12 1.0\n",
      "\tProto: 13 0.9\n",
      "Number of prototypes in parts_presences:  5\n",
      "Part-related (purity>0.5): 5\n",
      "Node: 128+131 | Child: 128+124 | Purity: 0.8722222222222222 | Num desc: 3 | Num protos: 4\n",
      "\tProto: 6 0.8\n",
      "\tProto: 3 0.8\n",
      "\tProto: 5 0.8888888888888888\n",
      "\tProto: 9 1.0\n",
      "Node: 128+131 | Child: cub_131_Vesper_Sparrow | Purity: 1.0 | Num desc: 1 | Num protos: 1\n",
      "\tProto: 17 1.0\n",
      "Number of prototypes in parts_presences:  6\n",
      "Part-related (purity>0.5): 4\n",
      "Node: 133+132 | Child: 133+122 | Purity: 0.65 | Num desc: 2 | Num protos: 4\n",
      "\tProto: 9 0.8\n",
      "\tProto: 3 0.9\n",
      "\tProto: 4 0.5\n",
      "\tProto: 7 0.4\n",
      "Node: 133+132 | Child: cub_132_White_crowned_Sparrow | Purity: 0.95 | Num desc: 1 | Num protos: 2\n",
      "\tProto: 12 1.0\n",
      "\tProto: 16 0.9\n",
      "Number of prototypes in parts_presences:  8\n",
      "Part-related (purity>0.5): 8\n",
      "Node: 175+169 | Child: 175+165+182 | Purity: 0.7177777777777777 | Num desc: 10 | Num protos: 5\n",
      "\tProto: 9 0.6666666666666666\n",
      "\tProto: 0 0.6666666666666666\n",
      "\tProto: 3 0.7\n",
      "\tProto: 2 0.6666666666666666\n",
      "\tProto: 5 0.8888888888888888\n",
      "Node: 175+169 | Child: cub_169_Magnolia_Warbler | Purity: 0.9333333333333332 | Num desc: 1 | Num protos: 3\n",
      "\tProto: 17 1.0\n",
      "\tProto: 15 1.0\n",
      "\tProto: 16 0.8\n",
      "Number of prototypes in parts_presences:  5\n",
      "Part-related (purity>0.5): 4\n",
      "Node: 168+170 | Child: cub_168_Kentucky_Warbler | Purity: 0.7 | Num desc: 1 | Num protos: 2\n",
      "\tProto: 6 0.6\n",
      "\tProto: 0 0.8\n",
      "Node: 168+170 | Child: cub_170_Mourning_Warbler | Purity: 0.6333333333333333 | Num desc: 1 | Num protos: 3\n",
      "\tProto: 17 0.8\n",
      "\tProto: 12 0.7\n",
      "\tProto: 13 0.4\n",
      "Number of prototypes in parts_presences:  7\n",
      "Part-related (purity>0.5): 7\n",
      "Node: 173+172 | Child: cub_172_Nashville_Warbler | Purity: 0.9 | Num desc: 1 | Num protos: 3\n",
      "\tProto: 19 0.7\n",
      "\tProto: 10 1.0\n",
      "\tProto: 14 1.0\n",
      "Node: 173+172 | Child: cub_173_Orange_crowned_Warbler | Purity: 0.975 | Num desc: 1 | Num protos: 4\n",
      "\tProto: 6 0.9\n",
      "\tProto: 1 1.0\n",
      "\tProto: 4 1.0\n",
      "\tProto: 9 1.0\n",
      "Number of prototypes in parts_presences:  7\n",
      "Part-related (purity>0.5): 7\n",
      "Node: 129+123 | Child: 123+113 | Purity: 0.9666666666666667 | Num desc: 2 | Num protos: 3\n",
      "\tProto: 15 1.0\n",
      "\tProto: 10 1.0\n",
      "\tProto: 18 0.9\n",
      "Node: 129+123 | Child: 129+125 | Purity: 0.8500000000000001 | Num desc: 2 | Num protos: 4\n",
      "\tProto: 5 0.9\n",
      "\tProto: 9 0.8\n",
      "\tProto: 4 0.9\n",
      "\tProto: 0 0.8\n",
      "Number of prototypes in parts_presences:  5\n",
      "Part-related (purity>0.5): 5\n",
      "Node: 128+124 | Child: cub_124_Le_Conte_Sparrow | Purity: 0.9 | Num desc: 1 | Num protos: 1\n",
      "\tProto: 14 0.9\n",
      "Node: 128+124 | Child: 128+126 | Purity: 0.775 | Num desc: 2 | Num protos: 4\n",
      "\tProto: 1 0.9\n",
      "\tProto: 2 0.7\n",
      "\tProto: 4 0.9\n",
      "\tProto: 7 0.6\n",
      "Number of prototypes in parts_presences:  6\n",
      "Part-related (purity>0.5): 3\n",
      "Node: 133+122 | Child: cub_122_Harris_Sparrow | Purity: 0.725 | Num desc: 1 | Num protos: 4\n",
      "\tProto: 16 1.0\n",
      "\tProto: 12 0.4\n",
      "\tProto: 10 0.5\n",
      "\tProto: 14 1.0\n",
      "Node: 133+122 | Child: cub_133_White_throated_Sparrow | Purity: 0.55 | Num desc: 1 | Num protos: 2\n",
      "\tProto: 9 0.3\n",
      "\tProto: 3 0.8\n",
      "Number of prototypes in parts_presences:  10\n",
      "Part-related (purity>0.5): 6\n",
      "Node: 175+165+182 | Child: 175+160 | Purity: 0.55 | Num desc: 5 | Num protos: 4\n",
      "\tProto: 6 0.5\n",
      "\tProto: 1 0.7\n",
      "\tProto: 2 0.2\n",
      "\tProto: 4 0.8\n",
      "Node: 175+165+182 | Child: 165+164+163 | Purity: 0.4666666666666666 | Num desc: 4 | Num protos: 3\n",
      "\tProto: 12 0.1\n",
      "\tProto: 13 0.9\n",
      "\tProto: 11 0.4\n",
      "Node: 175+165+182 | Child: cub_182_Yellow_Warbler | Purity: 0.9 | Num desc: 1 | Num protos: 3\n",
      "\tProto: 19 0.7\n",
      "\tProto: 18 1.0\n",
      "\tProto: 14 1.0\n",
      "Number of prototypes in parts_presences:  6\n",
      "Part-related (purity>0.5): 6\n",
      "Node: 129+125 | Child: cub_125_Lincoln_Sparrow | Purity: 0.9666666666666667 | Num desc: 1 | Num protos: 3\n",
      "\tProto: 17 1.0\n",
      "\tProto: 18 0.9\n",
      "\tProto: 16 1.0\n",
      "Node: 129+125 | Child: cub_129_Song_Sparrow | Purity: 0.9333333333333332 | Num desc: 1 | Num protos: 3\n",
      "\tProto: 3 0.9\n",
      "\tProto: 2 0.9\n",
      "\tProto: 4 1.0\n",
      "Number of prototypes in parts_presences:  6\n",
      "Part-related (purity>0.5): 4\n",
      "Node: 123+113 | Child: cub_113_Baird_Sparrow | Purity: 0.7666666666666666 | Num desc: 1 | Num protos: 3\n",
      "\tProto: 12 1.0\n",
      "\tProto: 19 0.8\n",
      "\tProto: 14 0.5\n",
      "Node: 123+113 | Child: cub_123_Henslow_Sparrow | Purity: 0.7333333333333334 | Num desc: 1 | Num protos: 3\n",
      "\tProto: 6 0.3\n",
      "\tProto: 0 0.9\n",
      "\tProto: 9 1.0\n",
      "Number of prototypes in parts_presences:  4\n",
      "Part-related (purity>0.5): 4\n",
      "Node: 128+126 | Child: cub_126_Nelson_Sharp_tailed_Sparrow | Purity: 0.95 | Num desc: 1 | Num protos: 2\n",
      "\tProto: 17 1.0\n",
      "\tProto: 19 0.9\n",
      "Node: 128+126 | Child: cub_128_Seaside_Sparrow | Purity: 0.95 | Num desc: 1 | Num protos: 2\n",
      "\tProto: 8 1.0\n",
      "\tProto: 9 0.9\n",
      "Number of prototypes in parts_presences:  8\n",
      "Part-related (purity>0.5): 8\n",
      "Node: 175+160 | Child: 160+109 | Purity: 0.9 | Num desc: 2 | Num protos: 3\n",
      "\tProto: 18 0.9\n",
      "\tProto: 13 0.8\n",
      "\tProto: 11 1.0\n",
      "Node: 175+160 | Child: 175+176 | Purity: 0.8705555555555555 | Num desc: 3 | Num protos: 5\n",
      "\tProto: 0 0.7777777777777778\n",
      "\tProto: 7 0.8\n",
      "\tProto: 8 1.0\n",
      "\tProto: 1 0.875\n",
      "\tProto: 4 0.9\n",
      "Number of prototypes in parts_presences:  7\n",
      "Part-related (purity>0.5): 6\n",
      "Node: 165+164+163 | Child: 165+158 | Purity: 0.8888888888888888 | Num desc: 2 | Num protos: 2\n",
      "\tProto: 2 1.0\n",
      "\tProto: 0 0.7777777777777778\n",
      "Node: 165+164+163 | Child: cub_163_Cape_May_Warbler | Purity: 0.7333333333333334 | Num desc: 1 | Num protos: 3\n",
      "\tProto: 17 0.8\n",
      "\tProto: 19 0.9\n",
      "\tProto: 16 0.5\n",
      "Node: 165+164+163 | Child: cub_164_Cerulean_Warbler | Purity: 0.95 | Num desc: 1 | Num protos: 2\n",
      "\tProto: 10 1.0\n",
      "\tProto: 11 0.9\n",
      "Number of prototypes in parts_presences:  5\n",
      "Part-related (purity>0.5): 5\n",
      "Node: 175+176 | Child: 175+174 | Purity: 0.8592592592592593 | Num desc: 2 | Num protos: 3\n",
      "\tProto: 6 0.7777777777777778\n",
      "\tProto: 2 0.8\n",
      "\tProto: 5 1.0\n",
      "Node: 175+176 | Child: cub_176_Prairie_Warbler | Purity: 0.9 | Num desc: 1 | Num protos: 2\n",
      "\tProto: 10 0.8\n",
      "\tProto: 18 1.0\n",
      "Number of prototypes in parts_presences:  5\n",
      "Part-related (purity>0.5): 4\n",
      "Node: 160+109 | Child: cub_109_American_Redstart | Purity: 0.7333333333333334 | Num desc: 1 | Num protos: 3\n",
      "\tProto: 19 0.7\n",
      "\tProto: 13 0.5\n",
      "\tProto: 10 1.0\n",
      "Node: 160+109 | Child: cub_160_Black_throated_Blue_Warbler | Purity: 0.8 | Num desc: 1 | Num protos: 2\n",
      "\tProto: 1 1.0\n",
      "\tProto: 0 0.6\n",
      "Number of prototypes in parts_presences:  6\n",
      "Part-related (purity>0.5): 5\n",
      "Node: 165+158 | Child: cub_158_Bay_breasted_Warbler | Purity: 0.9333333333333332 | Num desc: 1 | Num protos: 3\n",
      "\tProto: 15 1.0\n",
      "\tProto: 12 1.0\n",
      "\tProto: 16 0.8\n",
      "Node: 165+158 | Child: cub_165_Chestnut_sided_Warbler | Purity: 0.7666666666666666 | Num desc: 1 | Num protos: 3\n",
      "\tProto: 6 1.0\n",
      "\tProto: 0 0.5\n",
      "\tProto: 7 0.8\n",
      "Number of prototypes in parts_presences:  4\n",
      "Part-related (purity>0.5): 4\n",
      "Node: 175+174 | Child: cub_174_Palm_Warbler | Purity: 0.95 | Num desc: 1 | Num protos: 2\n",
      "\tProto: 15 0.9\n",
      "\tProto: 16 1.0\n",
      "Node: 175+174 | Child: cub_175_Pine_Warbler | Purity: 0.8500000000000001 | Num desc: 1 | Num protos: 2\n",
      "\tProto: 2 0.8\n",
      "\tProto: 7 0.9\n"
     ]
    }
   ],
   "source": [
    "node_wise_purity = []\n",
    "node_wise_purity_of_unmasked = []\n",
    "node_wise_purity_of_masked = []\n",
    "for csvfile_topk, node in zip(list_csvfile_topk, root.nodes_with_children()):\n",
    "    # node_purity = eval_prototypes_cub_parts_csv_nodewise(node, csvfile_topk, part_locs_file, parts_name_path, \\\n",
    "    #                           imgs_id_path, 'projectloader_topk_'+str(epoch), args, desc_threshold=0.2)\n",
    "    node_purity, max_presence_purity = eval_prototypes_cub_parts_csv_nodewise_maxmin(node, csvfile_topk, part_locs_file, parts_name_path, \\\n",
    "                              imgs_id_path, 'projectloader_topk_'+str(epoch), args, desc_threshold=0.2)\n",
    "    node_wise_purity.append(node_purity)\n",
    "    proto_presence = getattr(net.module, '_'+node.name+'_proto_presence')\n",
    "    node_wise_purity_of_unmasked.append(np.mean([max_presence_purity[p] for p in max_presence_purity if (proto_presence[int(p), 0] < proto_presence[int(p), 1])]))\n",
    "    node_wise_purity_of_masked.append(np.mean([max_presence_purity[p] for p in max_presence_purity if (proto_presence[int(p), 0] > proto_presence[int(p), 1])]))"
   ]
  },
  {
   "cell_type": "code",
   "execution_count": 15,
   "id": "364390d0-62f7-4a6a-880e-1290302d98a5",
   "metadata": {},
   "outputs": [
    {
     "name": "stdout",
     "output_type": "stream",
     "text": [
      "Before masking\n",
      "0.7394154809035761\n",
      "0.18443974398145516\n",
      "0.7394154809035761\n",
      "0.18443974398145516\n"
     ]
    }
   ],
   "source": [
    "print('Before masking')\n",
    "print(np.mean(node_wise_purity))\n",
    "print(np.std(node_wise_purity))\n",
    "print(np.nanmean(node_wise_purity))\n",
    "print(np.nanstd(node_wise_purity))"
   ]
  },
  {
   "cell_type": "code",
   "execution_count": 16,
   "id": "cf9b1664-25c9-4a4d-ba3c-2f90baff26c3",
   "metadata": {},
   "outputs": [
    {
     "name": "stdout",
     "output_type": "stream",
     "text": [
      "After masking (of unmasked protos)\n",
      "nan\n",
      "nan\n",
      "0.7691395771744554\n",
      "0.16759868586673782\n"
     ]
    }
   ],
   "source": [
    "print('After masking (of unmasked protos)')\n",
    "print(np.mean(node_wise_purity_of_unmasked))\n",
    "print(np.std(node_wise_purity_of_unmasked))\n",
    "print(np.nanmean(node_wise_purity_of_unmasked))\n",
    "print(np.nanstd(node_wise_purity_of_unmasked))"
   ]
  },
  {
   "cell_type": "code",
   "execution_count": 17,
   "id": "cb71c786-5576-463c-9369-08aee15d14a9",
   "metadata": {},
   "outputs": [
    {
     "name": "stdout",
     "output_type": "stream",
     "text": [
      "Of masked protos\n",
      "nan\n",
      "nan\n",
      "0.34846350735870946\n",
      "0.22441596004976067\n"
     ]
    }
   ],
   "source": [
    "print('Of masked protos')\n",
    "print(np.mean(node_wise_purity_of_masked))\n",
    "print(np.std(node_wise_purity_of_masked))\n",
    "print(np.nanmean(node_wise_purity_of_masked))\n",
    "print(np.nanstd(node_wise_purity_of_masked))"
   ]
  },
  {
   "cell_type": "markdown",
   "id": "d90f0f21-39ea-4e25-97ba-b92db527fcff",
   "metadata": {},
   "source": [
    "# After masking out prototypes"
   ]
  },
  {
   "cell_type": "code",
   "execution_count": 18,
   "id": "33583a06-af6e-4fe7-bcc9-c59e38bea6b9",
   "metadata": {
    "scrolled": true
   },
   "outputs": [
    {
     "name": "stderr",
     "output_type": "stream",
     "text": [
      "Collecting top-k Prototypes CUB parts: 100% 5695/5695 [04:11<00:00, 22.64it/s]\n",
      "Collecting top-k patch coordinates CUB:   0% 0/2 [00:00<?, ?it/s]"
     ]
    },
    {
     "name": "stdout",
     "output_type": "stream",
     "text": [
      "Writing CSV file with top k image patches..\n"
     ]
    },
    {
     "name": "stderr",
     "output_type": "stream",
     "text": [
      "Collecting top-k patch coordinates CUB: 100% 2/2 [00:00<00:00, 75.27it/s]"
     ]
    },
    {
     "name": "stdout",
     "output_type": "stream",
     "text": [
      "Warning: image patches included in topk, but similarity < 0.1! This might unfairly reduce the purity metric because prototype has less than k similar image patches. You could consider reducing k for prototypes set()\n"
     ]
    },
    {
     "name": "stderr",
     "output_type": "stream",
     "text": [
      "\n",
      "Collecting top-k patch coordinates CUB:   0% 0/1 [00:00<?, ?it/s]"
     ]
    },
    {
     "name": "stdout",
     "output_type": "stream",
     "text": [
      "Writing CSV file with top k image patches..\n"
     ]
    },
    {
     "name": "stderr",
     "output_type": "stream",
     "text": [
      "Collecting top-k patch coordinates CUB: 100% 1/1 [00:00<00:00, 74.38it/s]"
     ]
    },
    {
     "name": "stdout",
     "output_type": "stream",
     "text": [
      "Warning: image patches included in topk, but similarity < 0.1! This might unfairly reduce the purity metric because prototype has less than k similar image patches. You could consider reducing k for prototypes set()\n"
     ]
    },
    {
     "name": "stderr",
     "output_type": "stream",
     "text": [
      "\n",
      "Collecting top-k patch coordinates CUB:   0% 0/7 [00:00<?, ?it/s]"
     ]
    },
    {
     "name": "stdout",
     "output_type": "stream",
     "text": [
      "Writing CSV file with top k image patches..\n"
     ]
    },
    {
     "name": "stderr",
     "output_type": "stream",
     "text": [
      "Collecting top-k patch coordinates CUB: 100% 7/7 [00:00<00:00, 177.02it/s]"
     ]
    },
    {
     "name": "stdout",
     "output_type": "stream",
     "text": [
      "Warning: image patches included in topk, but similarity < 0.1! This might unfairly reduce the purity metric because prototype has less than k similar image patches. You could consider reducing k for prototypes set()\n"
     ]
    },
    {
     "name": "stderr",
     "output_type": "stream",
     "text": [
      "\n",
      "Collecting top-k patch coordinates CUB: 0it [00:00, ?it/s]"
     ]
    },
    {
     "name": "stdout",
     "output_type": "stream",
     "text": [
      "Writing CSV file with top k image patches..\n"
     ]
    },
    {
     "name": "stderr",
     "output_type": "stream",
     "text": [
      "Collecting top-k patch coordinates CUB: 0it [00:00, ?it/s]"
     ]
    },
    {
     "name": "stdout",
     "output_type": "stream",
     "text": [
      "Warning: image patches included in topk, but similarity < 0.1! This might unfairly reduce the purity metric because prototype has less than k similar image patches. You could consider reducing k for prototypes set()\n"
     ]
    },
    {
     "name": "stderr",
     "output_type": "stream",
     "text": [
      "\n",
      "Collecting top-k patch coordinates CUB:   0% 0/4 [00:00<?, ?it/s]"
     ]
    },
    {
     "name": "stdout",
     "output_type": "stream",
     "text": [
      "Writing CSV file with top k image patches..\n"
     ]
    },
    {
     "name": "stderr",
     "output_type": "stream",
     "text": [
      "Collecting top-k patch coordinates CUB: 100% 4/4 [00:00<00:00, 88.61it/s]"
     ]
    },
    {
     "name": "stdout",
     "output_type": "stream",
     "text": [
      "Warning: image patches included in topk, but similarity < 0.1! This might unfairly reduce the purity metric because prototype has less than k similar image patches. You could consider reducing k for prototypes set()\n"
     ]
    },
    {
     "name": "stderr",
     "output_type": "stream",
     "text": [
      "\n",
      "Collecting top-k patch coordinates CUB:   0% 0/7 [00:00<?, ?it/s]"
     ]
    },
    {
     "name": "stdout",
     "output_type": "stream",
     "text": [
      "Writing CSV file with top k image patches..\n"
     ]
    },
    {
     "name": "stderr",
     "output_type": "stream",
     "text": [
      "Collecting top-k patch coordinates CUB: 100% 7/7 [00:00<00:00, 147.36it/s]"
     ]
    },
    {
     "name": "stdout",
     "output_type": "stream",
     "text": [
      "Warning: image patches included in topk, but similarity < 0.1! This might unfairly reduce the purity metric because prototype has less than k similar image patches. You could consider reducing k for prototypes set()\n"
     ]
    },
    {
     "name": "stderr",
     "output_type": "stream",
     "text": [
      "\n",
      "Collecting top-k patch coordinates CUB:   0% 0/5 [00:00<?, ?it/s]"
     ]
    },
    {
     "name": "stdout",
     "output_type": "stream",
     "text": [
      "Writing CSV file with top k image patches..\n"
     ]
    },
    {
     "name": "stderr",
     "output_type": "stream",
     "text": [
      "Collecting top-k patch coordinates CUB: 100% 5/5 [00:00<00:00, 322.56it/s]"
     ]
    },
    {
     "name": "stdout",
     "output_type": "stream",
     "text": [
      "Warning: image patches included in topk, but similarity < 0.1! This might unfairly reduce the purity metric because prototype has less than k similar image patches. You could consider reducing k for prototypes set()\n"
     ]
    },
    {
     "name": "stderr",
     "output_type": "stream",
     "text": [
      "\n",
      "Collecting top-k patch coordinates CUB:   0% 0/4 [00:00<?, ?it/s]"
     ]
    },
    {
     "name": "stdout",
     "output_type": "stream",
     "text": [
      "Writing CSV file with top k image patches..\n"
     ]
    },
    {
     "name": "stderr",
     "output_type": "stream",
     "text": [
      "Collecting top-k patch coordinates CUB: 100% 4/4 [00:00<00:00, 309.99it/s]"
     ]
    },
    {
     "name": "stdout",
     "output_type": "stream",
     "text": [
      "Warning: image patches included in topk, but similarity < 0.1! This might unfairly reduce the purity metric because prototype has less than k similar image patches. You could consider reducing k for prototypes set()\n"
     ]
    },
    {
     "name": "stderr",
     "output_type": "stream",
     "text": [
      "\n",
      "Collecting top-k patch coordinates CUB: 0it [00:00, ?it/s]"
     ]
    },
    {
     "name": "stdout",
     "output_type": "stream",
     "text": [
      "Writing CSV file with top k image patches..\n"
     ]
    },
    {
     "name": "stderr",
     "output_type": "stream",
     "text": [
      "Collecting top-k patch coordinates CUB: 0it [00:00, ?it/s]"
     ]
    },
    {
     "name": "stdout",
     "output_type": "stream",
     "text": [
      "Warning: image patches included in topk, but similarity < 0.1! This might unfairly reduce the purity metric because prototype has less than k similar image patches. You could consider reducing k for prototypes set()\n"
     ]
    },
    {
     "name": "stderr",
     "output_type": "stream",
     "text": [
      "\n",
      "Collecting top-k patch coordinates CUB:   0% 0/2 [00:00<?, ?it/s]"
     ]
    },
    {
     "name": "stdout",
     "output_type": "stream",
     "text": [
      "Writing CSV file with top k image patches..\n"
     ]
    },
    {
     "name": "stderr",
     "output_type": "stream",
     "text": [
      "Collecting top-k patch coordinates CUB: 100% 2/2 [00:00<00:00, 44.19it/s]\n"
     ]
    },
    {
     "name": "stdout",
     "output_type": "stream",
     "text": [
      "Warning: image patches included in topk, but similarity < 0.1! This might unfairly reduce the purity metric because prototype has less than k similar image patches. You could consider reducing k for prototypes {19}\n"
     ]
    },
    {
     "name": "stderr",
     "output_type": "stream",
     "text": [
      "Collecting top-k patch coordinates CUB:   0% 0/7 [00:00<?, ?it/s]"
     ]
    },
    {
     "name": "stdout",
     "output_type": "stream",
     "text": [
      "Writing CSV file with top k image patches..\n"
     ]
    },
    {
     "name": "stderr",
     "output_type": "stream",
     "text": [
      "Collecting top-k patch coordinates CUB: 100% 7/7 [00:00<00:00, 56.22it/s]\n"
     ]
    },
    {
     "name": "stdout",
     "output_type": "stream",
     "text": [
      "Warning: image patches included in topk, but similarity < 0.1! This might unfairly reduce the purity metric because prototype has less than k similar image patches. You could consider reducing k for prototypes set()\n"
     ]
    },
    {
     "name": "stderr",
     "output_type": "stream",
     "text": [
      "Collecting top-k patch coordinates CUB:   0% 0/7 [00:00<?, ?it/s]"
     ]
    },
    {
     "name": "stdout",
     "output_type": "stream",
     "text": [
      "Writing CSV file with top k image patches..\n"
     ]
    },
    {
     "name": "stderr",
     "output_type": "stream",
     "text": [
      "Collecting top-k patch coordinates CUB: 100% 7/7 [00:00<00:00, 165.72it/s]"
     ]
    },
    {
     "name": "stdout",
     "output_type": "stream",
     "text": [
      "Warning: image patches included in topk, but similarity < 0.1! This might unfairly reduce the purity metric because prototype has less than k similar image patches. You could consider reducing k for prototypes set()\n"
     ]
    },
    {
     "name": "stderr",
     "output_type": "stream",
     "text": [
      "\n",
      "Collecting top-k patch coordinates CUB:   0% 0/6 [00:00<?, ?it/s]"
     ]
    },
    {
     "name": "stdout",
     "output_type": "stream",
     "text": [
      "Writing CSV file with top k image patches..\n"
     ]
    },
    {
     "name": "stderr",
     "output_type": "stream",
     "text": [
      "Collecting top-k patch coordinates CUB: 100% 6/6 [00:00<00:00, 206.48it/s]"
     ]
    },
    {
     "name": "stdout",
     "output_type": "stream",
     "text": [
      "Warning: image patches included in topk, but similarity < 0.1! This might unfairly reduce the purity metric because prototype has less than k similar image patches. You could consider reducing k for prototypes set()\n"
     ]
    },
    {
     "name": "stderr",
     "output_type": "stream",
     "text": [
      "\n",
      "Collecting top-k patch coordinates CUB: 0it [00:00, ?it/s]"
     ]
    },
    {
     "name": "stdout",
     "output_type": "stream",
     "text": [
      "Writing CSV file with top k image patches..\n"
     ]
    },
    {
     "name": "stderr",
     "output_type": "stream",
     "text": [
      "Collecting top-k patch coordinates CUB: 0it [00:00, ?it/s]"
     ]
    },
    {
     "name": "stdout",
     "output_type": "stream",
     "text": [
      "Warning: image patches included in topk, but similarity < 0.1! This might unfairly reduce the purity metric because prototype has less than k similar image patches. You could consider reducing k for prototypes set()\n"
     ]
    },
    {
     "name": "stderr",
     "output_type": "stream",
     "text": [
      "\n",
      "Collecting top-k patch coordinates CUB:   0% 0/10 [00:00<?, ?it/s]"
     ]
    },
    {
     "name": "stdout",
     "output_type": "stream",
     "text": [
      "Writing CSV file with top k image patches..\n"
     ]
    },
    {
     "name": "stderr",
     "output_type": "stream",
     "text": [
      "Collecting top-k patch coordinates CUB: 100% 10/10 [00:00<00:00, 62.12it/s]\n"
     ]
    },
    {
     "name": "stdout",
     "output_type": "stream",
     "text": [
      "Warning: image patches included in topk, but similarity < 0.1! This might unfairly reduce the purity metric because prototype has less than k similar image patches. You could consider reducing k for prototypes set()\n"
     ]
    },
    {
     "name": "stderr",
     "output_type": "stream",
     "text": [
      "Collecting top-k patch coordinates CUB:   0% 0/10 [00:00<?, ?it/s]"
     ]
    },
    {
     "name": "stdout",
     "output_type": "stream",
     "text": [
      "Writing CSV file with top k image patches..\n"
     ]
    },
    {
     "name": "stderr",
     "output_type": "stream",
     "text": [
      "Collecting top-k patch coordinates CUB: 100% 10/10 [00:00<00:00, 48.00it/s]"
     ]
    },
    {
     "name": "stdout",
     "output_type": "stream",
     "text": [
      "Warning: image patches included in topk, but similarity < 0.1! This might unfairly reduce the purity metric because prototype has less than k similar image patches. You could consider reducing k for prototypes set()\n"
     ]
    },
    {
     "name": "stderr",
     "output_type": "stream",
     "text": [
      "\n",
      "Collecting top-k patch coordinates CUB:   0% 0/9 [00:00<?, ?it/s]"
     ]
    },
    {
     "name": "stdout",
     "output_type": "stream",
     "text": [
      "Writing CSV file with top k image patches..\n"
     ]
    },
    {
     "name": "stderr",
     "output_type": "stream",
     "text": [
      "Collecting top-k patch coordinates CUB: 100% 9/9 [00:00<00:00, 87.97it/s]"
     ]
    },
    {
     "name": "stdout",
     "output_type": "stream",
     "text": [
      "Warning: image patches included in topk, but similarity < 0.1! This might unfairly reduce the purity metric because prototype has less than k similar image patches. You could consider reducing k for prototypes set()\n"
     ]
    },
    {
     "name": "stderr",
     "output_type": "stream",
     "text": [
      "\n",
      "Collecting top-k patch coordinates CUB:   0% 0/9 [00:00<?, ?it/s]"
     ]
    },
    {
     "name": "stdout",
     "output_type": "stream",
     "text": [
      "Writing CSV file with top k image patches..\n"
     ]
    },
    {
     "name": "stderr",
     "output_type": "stream",
     "text": [
      "Collecting top-k patch coordinates CUB: 100% 9/9 [00:00<00:00, 68.82it/s]"
     ]
    },
    {
     "name": "stdout",
     "output_type": "stream",
     "text": [
      "Warning: image patches included in topk, but similarity < 0.1! This might unfairly reduce the purity metric because prototype has less than k similar image patches. You could consider reducing k for prototypes set()\n"
     ]
    },
    {
     "name": "stderr",
     "output_type": "stream",
     "text": [
      "\n",
      "Collecting top-k patch coordinates CUB:   0% 0/7 [00:00<?, ?it/s]"
     ]
    },
    {
     "name": "stdout",
     "output_type": "stream",
     "text": [
      "Writing CSV file with top k image patches..\n"
     ]
    },
    {
     "name": "stderr",
     "output_type": "stream",
     "text": [
      "Collecting top-k patch coordinates CUB: 100% 7/7 [00:00<00:00, 146.91it/s]"
     ]
    },
    {
     "name": "stdout",
     "output_type": "stream",
     "text": [
      "Warning: image patches included in topk, but similarity < 0.1! This might unfairly reduce the purity metric because prototype has less than k similar image patches. You could consider reducing k for prototypes set()\n"
     ]
    },
    {
     "name": "stderr",
     "output_type": "stream",
     "text": [
      "\n",
      "Collecting top-k patch coordinates CUB:   0% 0/5 [00:00<?, ?it/s]"
     ]
    },
    {
     "name": "stdout",
     "output_type": "stream",
     "text": [
      "Writing CSV file with top k image patches..\n"
     ]
    },
    {
     "name": "stderr",
     "output_type": "stream",
     "text": [
      "Collecting top-k patch coordinates CUB: 100% 5/5 [00:00<00:00, 213.88it/s]"
     ]
    },
    {
     "name": "stdout",
     "output_type": "stream",
     "text": [
      "Warning: image patches included in topk, but similarity < 0.1! This might unfairly reduce the purity metric because prototype has less than k similar image patches. You could consider reducing k for prototypes set()\n"
     ]
    },
    {
     "name": "stderr",
     "output_type": "stream",
     "text": [
      "\n",
      "Collecting top-k patch coordinates CUB:   0% 0/5 [00:00<?, ?it/s]"
     ]
    },
    {
     "name": "stdout",
     "output_type": "stream",
     "text": [
      "Writing CSV file with top k image patches..\n"
     ]
    },
    {
     "name": "stderr",
     "output_type": "stream",
     "text": [
      "Collecting top-k patch coordinates CUB: 100% 5/5 [00:00<00:00, 325.08it/s]"
     ]
    },
    {
     "name": "stdout",
     "output_type": "stream",
     "text": [
      "Warning: image patches included in topk, but similarity < 0.1! This might unfairly reduce the purity metric because prototype has less than k similar image patches. You could consider reducing k for prototypes set()\n"
     ]
    },
    {
     "name": "stderr",
     "output_type": "stream",
     "text": [
      "\n",
      "Collecting top-k patch coordinates CUB:   0% 0/4 [00:00<?, ?it/s]"
     ]
    },
    {
     "name": "stdout",
     "output_type": "stream",
     "text": [
      "Writing CSV file with top k image patches..\n"
     ]
    },
    {
     "name": "stderr",
     "output_type": "stream",
     "text": [
      "Collecting top-k patch coordinates CUB: 100% 4/4 [00:00<00:00, 306.72it/s]"
     ]
    },
    {
     "name": "stdout",
     "output_type": "stream",
     "text": [
      "Warning: image patches included in topk, but similarity < 0.1! This might unfairly reduce the purity metric because prototype has less than k similar image patches. You could consider reducing k for prototypes {19}\n"
     ]
    },
    {
     "name": "stderr",
     "output_type": "stream",
     "text": [
      "\n",
      "Collecting top-k patch coordinates CUB:   0% 0/8 [00:00<?, ?it/s]"
     ]
    },
    {
     "name": "stdout",
     "output_type": "stream",
     "text": [
      "Writing CSV file with top k image patches..\n"
     ]
    },
    {
     "name": "stderr",
     "output_type": "stream",
     "text": [
      "Collecting top-k patch coordinates CUB: 100% 8/8 [00:00<00:00, 74.24it/s]"
     ]
    },
    {
     "name": "stdout",
     "output_type": "stream",
     "text": [
      "Warning: image patches included in topk, but similarity < 0.1! This might unfairly reduce the purity metric because prototype has less than k similar image patches. You could consider reducing k for prototypes set()\n"
     ]
    },
    {
     "name": "stderr",
     "output_type": "stream",
     "text": [
      "\n",
      "Collecting top-k patch coordinates CUB:   0% 0/9 [00:00<?, ?it/s]"
     ]
    },
    {
     "name": "stdout",
     "output_type": "stream",
     "text": [
      "Writing CSV file with top k image patches..\n"
     ]
    },
    {
     "name": "stderr",
     "output_type": "stream",
     "text": [
      "Collecting top-k patch coordinates CUB: 100% 9/9 [00:00<00:00, 98.76it/s]"
     ]
    },
    {
     "name": "stdout",
     "output_type": "stream",
     "text": [
      "Warning: image patches included in topk, but similarity < 0.1! This might unfairly reduce the purity metric because prototype has less than k similar image patches. You could consider reducing k for prototypes set()\n"
     ]
    },
    {
     "name": "stderr",
     "output_type": "stream",
     "text": [
      "\n",
      "Collecting top-k patch coordinates CUB:   0% 0/7 [00:00<?, ?it/s]"
     ]
    },
    {
     "name": "stdout",
     "output_type": "stream",
     "text": [
      "Writing CSV file with top k image patches..\n"
     ]
    },
    {
     "name": "stderr",
     "output_type": "stream",
     "text": [
      "Collecting top-k patch coordinates CUB: 100% 7/7 [00:00<00:00, 116.86it/s]"
     ]
    },
    {
     "name": "stdout",
     "output_type": "stream",
     "text": [
      "Warning: image patches included in topk, but similarity < 0.1! This might unfairly reduce the purity metric because prototype has less than k similar image patches. You could consider reducing k for prototypes set()\n"
     ]
    },
    {
     "name": "stderr",
     "output_type": "stream",
     "text": [
      "\n",
      "Collecting top-k patch coordinates CUB:   0% 0/7 [00:00<?, ?it/s]"
     ]
    },
    {
     "name": "stdout",
     "output_type": "stream",
     "text": [
      "Writing CSV file with top k image patches..\n"
     ]
    },
    {
     "name": "stderr",
     "output_type": "stream",
     "text": [
      "Collecting top-k patch coordinates CUB: 100% 7/7 [00:00<00:00, 66.16it/s]"
     ]
    },
    {
     "name": "stdout",
     "output_type": "stream",
     "text": [
      "Warning: image patches included in topk, but similarity < 0.1! This might unfairly reduce the purity metric because prototype has less than k similar image patches. You could consider reducing k for prototypes set()\n"
     ]
    },
    {
     "name": "stderr",
     "output_type": "stream",
     "text": [
      "\n",
      "Collecting top-k patch coordinates CUB:   0% 0/10 [00:00<?, ?it/s]"
     ]
    },
    {
     "name": "stdout",
     "output_type": "stream",
     "text": [
      "Writing CSV file with top k image patches..\n"
     ]
    },
    {
     "name": "stderr",
     "output_type": "stream",
     "text": [
      "Collecting top-k patch coordinates CUB: 100% 10/10 [00:00<00:00, 92.60it/s]"
     ]
    },
    {
     "name": "stdout",
     "output_type": "stream",
     "text": [
      "Warning: image patches included in topk, but similarity < 0.1! This might unfairly reduce the purity metric because prototype has less than k similar image patches. You could consider reducing k for prototypes set()\n"
     ]
    },
    {
     "name": "stderr",
     "output_type": "stream",
     "text": [
      "\n",
      "Collecting top-k patch coordinates CUB:   0% 0/10 [00:00<?, ?it/s]"
     ]
    },
    {
     "name": "stdout",
     "output_type": "stream",
     "text": [
      "Writing CSV file with top k image patches..\n"
     ]
    },
    {
     "name": "stderr",
     "output_type": "stream",
     "text": [
      "Collecting top-k patch coordinates CUB: 100% 10/10 [00:00<00:00, 108.62it/s]"
     ]
    },
    {
     "name": "stdout",
     "output_type": "stream",
     "text": [
      "Warning: image patches included in topk, but similarity < 0.1! This might unfairly reduce the purity metric because prototype has less than k similar image patches. You could consider reducing k for prototypes set()\n"
     ]
    },
    {
     "name": "stderr",
     "output_type": "stream",
     "text": [
      "\n",
      "Collecting top-k patch coordinates CUB:   0% 0/5 [00:00<?, ?it/s]"
     ]
    },
    {
     "name": "stdout",
     "output_type": "stream",
     "text": [
      "Writing CSV file with top k image patches..\n"
     ]
    },
    {
     "name": "stderr",
     "output_type": "stream",
     "text": [
      "Collecting top-k patch coordinates CUB: 100% 5/5 [00:00<00:00, 323.05it/s]"
     ]
    },
    {
     "name": "stdout",
     "output_type": "stream",
     "text": [
      "Warning: image patches included in topk, but similarity < 0.1! This might unfairly reduce the purity metric because prototype has less than k similar image patches. You could consider reducing k for prototypes set()\n"
     ]
    },
    {
     "name": "stderr",
     "output_type": "stream",
     "text": [
      "\n",
      "Collecting top-k patch coordinates CUB:   0% 0/8 [00:00<?, ?it/s]"
     ]
    },
    {
     "name": "stdout",
     "output_type": "stream",
     "text": [
      "Writing CSV file with top k image patches..\n"
     ]
    },
    {
     "name": "stderr",
     "output_type": "stream",
     "text": [
      "Collecting top-k patch coordinates CUB: 100% 8/8 [00:00<00:00, 79.85it/s]"
     ]
    },
    {
     "name": "stdout",
     "output_type": "stream",
     "text": [
      "Warning: image patches included in topk, but similarity < 0.1! This might unfairly reduce the purity metric because prototype has less than k similar image patches. You could consider reducing k for prototypes set()\n"
     ]
    },
    {
     "name": "stderr",
     "output_type": "stream",
     "text": [
      "\n",
      "Collecting top-k patch coordinates CUB:   0% 0/4 [00:00<?, ?it/s]"
     ]
    },
    {
     "name": "stdout",
     "output_type": "stream",
     "text": [
      "Writing CSV file with top k image patches..\n"
     ]
    },
    {
     "name": "stderr",
     "output_type": "stream",
     "text": [
      "Collecting top-k patch coordinates CUB: 100% 4/4 [00:00<00:00, 219.08it/s]"
     ]
    },
    {
     "name": "stdout",
     "output_type": "stream",
     "text": [
      "Warning: image patches included in topk, but similarity < 0.1! This might unfairly reduce the purity metric because prototype has less than k similar image patches. You could consider reducing k for prototypes set()\n"
     ]
    },
    {
     "name": "stderr",
     "output_type": "stream",
     "text": [
      "\n",
      "Collecting top-k patch coordinates CUB:   0% 0/6 [00:00<?, ?it/s]"
     ]
    },
    {
     "name": "stdout",
     "output_type": "stream",
     "text": [
      "Writing CSV file with top k image patches..\n"
     ]
    },
    {
     "name": "stderr",
     "output_type": "stream",
     "text": [
      "Collecting top-k patch coordinates CUB: 100% 6/6 [00:00<00:00, 328.76it/s]"
     ]
    },
    {
     "name": "stdout",
     "output_type": "stream",
     "text": [
      "Warning: image patches included in topk, but similarity < 0.1! This might unfairly reduce the purity metric because prototype has less than k similar image patches. You could consider reducing k for prototypes set()\n"
     ]
    },
    {
     "name": "stderr",
     "output_type": "stream",
     "text": [
      "\n",
      "Collecting top-k patch coordinates CUB: 0it [00:00, ?it/s]"
     ]
    },
    {
     "name": "stdout",
     "output_type": "stream",
     "text": [
      "Writing CSV file with top k image patches..\n"
     ]
    },
    {
     "name": "stderr",
     "output_type": "stream",
     "text": [
      "Collecting top-k patch coordinates CUB: 0it [00:00, ?it/s]"
     ]
    },
    {
     "name": "stdout",
     "output_type": "stream",
     "text": [
      "Warning: image patches included in topk, but similarity < 0.1! This might unfairly reduce the purity metric because prototype has less than k similar image patches. You could consider reducing k for prototypes set()\n"
     ]
    },
    {
     "name": "stderr",
     "output_type": "stream",
     "text": [
      "\n",
      "Collecting top-k patch coordinates CUB:   0% 0/7 [00:00<?, ?it/s]"
     ]
    },
    {
     "name": "stdout",
     "output_type": "stream",
     "text": [
      "Writing CSV file with top k image patches..\n"
     ]
    },
    {
     "name": "stderr",
     "output_type": "stream",
     "text": [
      "Collecting top-k patch coordinates CUB: 100% 7/7 [00:00<00:00, 95.47it/s]"
     ]
    },
    {
     "name": "stdout",
     "output_type": "stream",
     "text": [
      "Warning: image patches included in topk, but similarity < 0.1! This might unfairly reduce the purity metric because prototype has less than k similar image patches. You could consider reducing k for prototypes set()\n"
     ]
    },
    {
     "name": "stderr",
     "output_type": "stream",
     "text": [
      "\n",
      "Collecting top-k patch coordinates CUB:   0% 0/6 [00:00<?, ?it/s]"
     ]
    },
    {
     "name": "stdout",
     "output_type": "stream",
     "text": [
      "Writing CSV file with top k image patches..\n"
     ]
    },
    {
     "name": "stderr",
     "output_type": "stream",
     "text": [
      "Collecting top-k patch coordinates CUB: 100% 6/6 [00:00<00:00, 153.53it/s]"
     ]
    },
    {
     "name": "stdout",
     "output_type": "stream",
     "text": [
      "Warning: image patches included in topk, but similarity < 0.1! This might unfairly reduce the purity metric because prototype has less than k similar image patches. You could consider reducing k for prototypes set()\n"
     ]
    },
    {
     "name": "stderr",
     "output_type": "stream",
     "text": [
      "\n",
      "Collecting top-k patch coordinates CUB:   0% 0/7 [00:00<?, ?it/s]"
     ]
    },
    {
     "name": "stdout",
     "output_type": "stream",
     "text": [
      "Writing CSV file with top k image patches..\n"
     ]
    },
    {
     "name": "stderr",
     "output_type": "stream",
     "text": [
      "Collecting top-k patch coordinates CUB: 100% 7/7 [00:00<00:00, 139.10it/s]"
     ]
    },
    {
     "name": "stdout",
     "output_type": "stream",
     "text": [
      "Warning: image patches included in topk, but similarity < 0.1! This might unfairly reduce the purity metric because prototype has less than k similar image patches. You could consider reducing k for prototypes set()\n"
     ]
    },
    {
     "name": "stderr",
     "output_type": "stream",
     "text": [
      "\n",
      "Collecting top-k patch coordinates CUB:   0% 0/5 [00:00<?, ?it/s]"
     ]
    },
    {
     "name": "stdout",
     "output_type": "stream",
     "text": [
      "Writing CSV file with top k image patches..\n"
     ]
    },
    {
     "name": "stderr",
     "output_type": "stream",
     "text": [
      "Collecting top-k patch coordinates CUB: 100% 5/5 [00:00<00:00, 323.56it/s]"
     ]
    },
    {
     "name": "stdout",
     "output_type": "stream",
     "text": [
      "Warning: image patches included in topk, but similarity < 0.1! This might unfairly reduce the purity metric because prototype has less than k similar image patches. You could consider reducing k for prototypes set()\n"
     ]
    },
    {
     "name": "stderr",
     "output_type": "stream",
     "text": [
      "\n",
      "Collecting top-k patch coordinates CUB:   0% 0/6 [00:00<?, ?it/s]"
     ]
    },
    {
     "name": "stdout",
     "output_type": "stream",
     "text": [
      "Writing CSV file with top k image patches..\n"
     ]
    },
    {
     "name": "stderr",
     "output_type": "stream",
     "text": [
      "Collecting top-k patch coordinates CUB: 100% 6/6 [00:00<00:00, 176.62it/s]"
     ]
    },
    {
     "name": "stdout",
     "output_type": "stream",
     "text": [
      "Warning: image patches included in topk, but similarity < 0.1! This might unfairly reduce the purity metric because prototype has less than k similar image patches. You could consider reducing k for prototypes set()\n"
     ]
    },
    {
     "name": "stderr",
     "output_type": "stream",
     "text": [
      "\n",
      "Collecting top-k patch coordinates CUB:   0% 0/8 [00:00<?, ?it/s]"
     ]
    },
    {
     "name": "stdout",
     "output_type": "stream",
     "text": [
      "Writing CSV file with top k image patches..\n"
     ]
    },
    {
     "name": "stderr",
     "output_type": "stream",
     "text": [
      "Collecting top-k patch coordinates CUB: 100% 8/8 [00:00<00:00, 95.24it/s]"
     ]
    },
    {
     "name": "stdout",
     "output_type": "stream",
     "text": [
      "Warning: image patches included in topk, but similarity < 0.1! This might unfairly reduce the purity metric because prototype has less than k similar image patches. You could consider reducing k for prototypes set()\n"
     ]
    },
    {
     "name": "stderr",
     "output_type": "stream",
     "text": [
      "\n",
      "Collecting top-k patch coordinates CUB:   0% 0/4 [00:00<?, ?it/s]"
     ]
    },
    {
     "name": "stdout",
     "output_type": "stream",
     "text": [
      "Writing CSV file with top k image patches..\n"
     ]
    },
    {
     "name": "stderr",
     "output_type": "stream",
     "text": [
      "Collecting top-k patch coordinates CUB: 100% 4/4 [00:00<00:00, 304.38it/s]"
     ]
    },
    {
     "name": "stdout",
     "output_type": "stream",
     "text": [
      "Warning: image patches included in topk, but similarity < 0.1! This might unfairly reduce the purity metric because prototype has less than k similar image patches. You could consider reducing k for prototypes set()\n"
     ]
    },
    {
     "name": "stderr",
     "output_type": "stream",
     "text": [
      "\n",
      "Collecting top-k patch coordinates CUB:   0% 0/7 [00:00<?, ?it/s]"
     ]
    },
    {
     "name": "stdout",
     "output_type": "stream",
     "text": [
      "Writing CSV file with top k image patches..\n"
     ]
    },
    {
     "name": "stderr",
     "output_type": "stream",
     "text": [
      "Collecting top-k patch coordinates CUB: 100% 7/7 [00:00<00:00, 111.09it/s]"
     ]
    },
    {
     "name": "stdout",
     "output_type": "stream",
     "text": [
      "Warning: image patches included in topk, but similarity < 0.1! This might unfairly reduce the purity metric because prototype has less than k similar image patches. You could consider reducing k for prototypes set()\n"
     ]
    },
    {
     "name": "stderr",
     "output_type": "stream",
     "text": [
      "\n",
      "Collecting top-k patch coordinates CUB:   0% 0/8 [00:00<?, ?it/s]"
     ]
    },
    {
     "name": "stdout",
     "output_type": "stream",
     "text": [
      "Writing CSV file with top k image patches..\n"
     ]
    },
    {
     "name": "stderr",
     "output_type": "stream",
     "text": [
      "Collecting top-k patch coordinates CUB: 100% 8/8 [00:00<00:00, 139.34it/s]"
     ]
    },
    {
     "name": "stdout",
     "output_type": "stream",
     "text": [
      "Warning: image patches included in topk, but similarity < 0.1! This might unfairly reduce the purity metric because prototype has less than k similar image patches. You could consider reducing k for prototypes set()\n"
     ]
    },
    {
     "name": "stderr",
     "output_type": "stream",
     "text": [
      "\n",
      "Collecting top-k patch coordinates CUB:   0% 0/8 [00:00<?, ?it/s]"
     ]
    },
    {
     "name": "stdout",
     "output_type": "stream",
     "text": [
      "Writing CSV file with top k image patches..\n"
     ]
    },
    {
     "name": "stderr",
     "output_type": "stream",
     "text": [
      "Collecting top-k patch coordinates CUB: 100% 8/8 [00:00<00:00, 139.10it/s]"
     ]
    },
    {
     "name": "stdout",
     "output_type": "stream",
     "text": [
      "Warning: image patches included in topk, but similarity < 0.1! This might unfairly reduce the purity metric because prototype has less than k similar image patches. You could consider reducing k for prototypes set()\n"
     ]
    },
    {
     "name": "stderr",
     "output_type": "stream",
     "text": [
      "\n",
      "Collecting top-k patch coordinates CUB:   0% 0/6 [00:00<?, ?it/s]"
     ]
    },
    {
     "name": "stdout",
     "output_type": "stream",
     "text": [
      "Writing CSV file with top k image patches..\n"
     ]
    },
    {
     "name": "stderr",
     "output_type": "stream",
     "text": [
      "Collecting top-k patch coordinates CUB: 100% 6/6 [00:00<00:00, 153.37it/s]"
     ]
    },
    {
     "name": "stdout",
     "output_type": "stream",
     "text": [
      "Warning: image patches included in topk, but similarity < 0.1! This might unfairly reduce the purity metric because prototype has less than k similar image patches. You could consider reducing k for prototypes set()\n"
     ]
    },
    {
     "name": "stderr",
     "output_type": "stream",
     "text": [
      "\n",
      "Collecting top-k patch coordinates CUB:   0% 0/5 [00:00<?, ?it/s]"
     ]
    },
    {
     "name": "stdout",
     "output_type": "stream",
     "text": [
      "Writing CSV file with top k image patches..\n"
     ]
    },
    {
     "name": "stderr",
     "output_type": "stream",
     "text": [
      "Collecting top-k patch coordinates CUB: 100% 5/5 [00:00<00:00, 325.64it/s]"
     ]
    },
    {
     "name": "stdout",
     "output_type": "stream",
     "text": [
      "Warning: image patches included in topk, but similarity < 0.1! This might unfairly reduce the purity metric because prototype has less than k similar image patches. You could consider reducing k for prototypes set()\n"
     ]
    },
    {
     "name": "stderr",
     "output_type": "stream",
     "text": [
      "\n",
      "Collecting top-k patch coordinates CUB:   0% 0/1 [00:00<?, ?it/s]"
     ]
    },
    {
     "name": "stdout",
     "output_type": "stream",
     "text": [
      "Writing CSV file with top k image patches..\n"
     ]
    },
    {
     "name": "stderr",
     "output_type": "stream",
     "text": [
      "Collecting top-k patch coordinates CUB: 100% 1/1 [00:00<00:00, 78.85it/s]"
     ]
    },
    {
     "name": "stdout",
     "output_type": "stream",
     "text": [
      "Warning: image patches included in topk, but similarity < 0.1! This might unfairly reduce the purity metric because prototype has less than k similar image patches. You could consider reducing k for prototypes set()\n"
     ]
    },
    {
     "name": "stderr",
     "output_type": "stream",
     "text": [
      "\n",
      "Collecting top-k patch coordinates CUB:   0% 0/9 [00:00<?, ?it/s]"
     ]
    },
    {
     "name": "stdout",
     "output_type": "stream",
     "text": [
      "Writing CSV file with top k image patches..\n"
     ]
    },
    {
     "name": "stderr",
     "output_type": "stream",
     "text": [
      "Collecting top-k patch coordinates CUB: 100% 9/9 [00:00<00:00, 46.13it/s]"
     ]
    },
    {
     "name": "stdout",
     "output_type": "stream",
     "text": [
      "Warning: image patches included in topk, but similarity < 0.1! This might unfairly reduce the purity metric because prototype has less than k similar image patches. You could consider reducing k for prototypes {19}\n"
     ]
    },
    {
     "name": "stderr",
     "output_type": "stream",
     "text": [
      "\n",
      "Collecting top-k patch coordinates CUB:   0% 0/8 [00:00<?, ?it/s]"
     ]
    },
    {
     "name": "stdout",
     "output_type": "stream",
     "text": [
      "Writing CSV file with top k image patches..\n"
     ]
    },
    {
     "name": "stderr",
     "output_type": "stream",
     "text": [
      "Collecting top-k patch coordinates CUB: 100% 8/8 [00:00<00:00, 146.35it/s]"
     ]
    },
    {
     "name": "stdout",
     "output_type": "stream",
     "text": [
      "Warning: image patches included in topk, but similarity < 0.1! This might unfairly reduce the purity metric because prototype has less than k similar image patches. You could consider reducing k for prototypes set()\n"
     ]
    },
    {
     "name": "stderr",
     "output_type": "stream",
     "text": [
      "\n",
      "Collecting top-k patch coordinates CUB:   0% 0/7 [00:00<?, ?it/s]"
     ]
    },
    {
     "name": "stdout",
     "output_type": "stream",
     "text": [
      "Writing CSV file with top k image patches..\n"
     ]
    },
    {
     "name": "stderr",
     "output_type": "stream",
     "text": [
      "Collecting top-k patch coordinates CUB: 100% 7/7 [00:00<00:00, 224.94it/s]"
     ]
    },
    {
     "name": "stdout",
     "output_type": "stream",
     "text": [
      "Warning: image patches included in topk, but similarity < 0.1! This might unfairly reduce the purity metric because prototype has less than k similar image patches. You could consider reducing k for prototypes set()\n"
     ]
    },
    {
     "name": "stderr",
     "output_type": "stream",
     "text": [
      "\n",
      "Collecting top-k patch coordinates CUB:   0% 0/4 [00:00<?, ?it/s]"
     ]
    },
    {
     "name": "stdout",
     "output_type": "stream",
     "text": [
      "Writing CSV file with top k image patches..\n"
     ]
    },
    {
     "name": "stderr",
     "output_type": "stream",
     "text": [
      "Collecting top-k patch coordinates CUB: 100% 4/4 [00:00<00:00, 220.73it/s]"
     ]
    },
    {
     "name": "stdout",
     "output_type": "stream",
     "text": [
      "Warning: image patches included in topk, but similarity < 0.1! This might unfairly reduce the purity metric because prototype has less than k similar image patches. You could consider reducing k for prototypes set()\n"
     ]
    },
    {
     "name": "stderr",
     "output_type": "stream",
     "text": [
      "\n",
      "Collecting top-k patch coordinates CUB:   0% 0/4 [00:00<?, ?it/s]"
     ]
    },
    {
     "name": "stdout",
     "output_type": "stream",
     "text": [
      "Writing CSV file with top k image patches..\n"
     ]
    },
    {
     "name": "stderr",
     "output_type": "stream",
     "text": [
      "Collecting top-k patch coordinates CUB: 100% 4/4 [00:00<00:00, 315.94it/s]"
     ]
    },
    {
     "name": "stdout",
     "output_type": "stream",
     "text": [
      "Warning: image patches included in topk, but similarity < 0.1! This might unfairly reduce the purity metric because prototype has less than k similar image patches. You could consider reducing k for prototypes set()\n"
     ]
    },
    {
     "name": "stderr",
     "output_type": "stream",
     "text": [
      "\n",
      "Collecting top-k patch coordinates CUB:   0% 0/4 [00:00<?, ?it/s]"
     ]
    },
    {
     "name": "stdout",
     "output_type": "stream",
     "text": [
      "Writing CSV file with top k image patches..\n"
     ]
    },
    {
     "name": "stderr",
     "output_type": "stream",
     "text": [
      "Collecting top-k patch coordinates CUB: 100% 4/4 [00:00<00:00, 311.15it/s]"
     ]
    },
    {
     "name": "stdout",
     "output_type": "stream",
     "text": [
      "Warning: image patches included in topk, but similarity < 0.1! This might unfairly reduce the purity metric because prototype has less than k similar image patches. You could consider reducing k for prototypes set()\n"
     ]
    },
    {
     "name": "stderr",
     "output_type": "stream",
     "text": [
      "\n",
      "Collecting top-k patch coordinates CUB:   0% 0/5 [00:00<?, ?it/s]"
     ]
    },
    {
     "name": "stdout",
     "output_type": "stream",
     "text": [
      "Writing CSV file with top k image patches..\n"
     ]
    },
    {
     "name": "stderr",
     "output_type": "stream",
     "text": [
      "Collecting top-k patch coordinates CUB: 100% 5/5 [00:00<00:00, 326.22it/s]"
     ]
    },
    {
     "name": "stdout",
     "output_type": "stream",
     "text": [
      "Warning: image patches included in topk, but similarity < 0.1! This might unfairly reduce the purity metric because prototype has less than k similar image patches. You could consider reducing k for prototypes set()\n"
     ]
    },
    {
     "name": "stderr",
     "output_type": "stream",
     "text": [
      "\n",
      "Collecting top-k patch coordinates CUB:   0% 0/9 [00:00<?, ?it/s]"
     ]
    },
    {
     "name": "stdout",
     "output_type": "stream",
     "text": [
      "Writing CSV file with top k image patches..\n"
     ]
    },
    {
     "name": "stderr",
     "output_type": "stream",
     "text": [
      "Collecting top-k patch coordinates CUB: 100% 9/9 [00:00<00:00, 137.26it/s]"
     ]
    },
    {
     "name": "stdout",
     "output_type": "stream",
     "text": [
      "Warning: image patches included in topk, but similarity < 0.1! This might unfairly reduce the purity metric because prototype has less than k similar image patches. You could consider reducing k for prototypes set()\n"
     ]
    },
    {
     "name": "stderr",
     "output_type": "stream",
     "text": [
      "\n",
      "Collecting top-k patch coordinates CUB:   0% 0/6 [00:00<?, ?it/s]"
     ]
    },
    {
     "name": "stdout",
     "output_type": "stream",
     "text": [
      "Writing CSV file with top k image patches..\n"
     ]
    },
    {
     "name": "stderr",
     "output_type": "stream",
     "text": [
      "Collecting top-k patch coordinates CUB: 100% 6/6 [00:00<00:00, 330.94it/s]"
     ]
    },
    {
     "name": "stdout",
     "output_type": "stream",
     "text": [
      "Warning: image patches included in topk, but similarity < 0.1! This might unfairly reduce the purity metric because prototype has less than k similar image patches. You could consider reducing k for prototypes set()\n"
     ]
    },
    {
     "name": "stderr",
     "output_type": "stream",
     "text": [
      "\n",
      "Collecting top-k patch coordinates CUB:   0% 0/7 [00:00<?, ?it/s]"
     ]
    },
    {
     "name": "stdout",
     "output_type": "stream",
     "text": [
      "Writing CSV file with top k image patches..\n"
     ]
    },
    {
     "name": "stderr",
     "output_type": "stream",
     "text": [
      "Collecting top-k patch coordinates CUB: 100% 7/7 [00:00<00:00, 117.23it/s]"
     ]
    },
    {
     "name": "stdout",
     "output_type": "stream",
     "text": [
      "Warning: image patches included in topk, but similarity < 0.1! This might unfairly reduce the purity metric because prototype has less than k similar image patches. You could consider reducing k for prototypes set()\n"
     ]
    },
    {
     "name": "stderr",
     "output_type": "stream",
     "text": [
      "\n",
      "Collecting top-k patch coordinates CUB:   0% 0/5 [00:00<?, ?it/s]"
     ]
    },
    {
     "name": "stdout",
     "output_type": "stream",
     "text": [
      "Writing CSV file with top k image patches..\n"
     ]
    },
    {
     "name": "stderr",
     "output_type": "stream",
     "text": [
      "Collecting top-k patch coordinates CUB: 100% 5/5 [00:00<00:00, 208.94it/s]"
     ]
    },
    {
     "name": "stdout",
     "output_type": "stream",
     "text": [
      "Warning: image patches included in topk, but similarity < 0.1! This might unfairly reduce the purity metric because prototype has less than k similar image patches. You could consider reducing k for prototypes set()\n"
     ]
    },
    {
     "name": "stderr",
     "output_type": "stream",
     "text": [
      "\n",
      "Collecting top-k patch coordinates CUB:   0% 0/5 [00:00<?, ?it/s]"
     ]
    },
    {
     "name": "stdout",
     "output_type": "stream",
     "text": [
      "Writing CSV file with top k image patches..\n"
     ]
    },
    {
     "name": "stderr",
     "output_type": "stream",
     "text": [
      "Collecting top-k patch coordinates CUB: 100% 5/5 [00:00<00:00, 321.26it/s]"
     ]
    },
    {
     "name": "stdout",
     "output_type": "stream",
     "text": [
      "Warning: image patches included in topk, but similarity < 0.1! This might unfairly reduce the purity metric because prototype has less than k similar image patches. You could consider reducing k for prototypes set()\n"
     ]
    },
    {
     "name": "stderr",
     "output_type": "stream",
     "text": [
      "\n",
      "Collecting top-k patch coordinates CUB:   0% 0/6 [00:00<?, ?it/s]"
     ]
    },
    {
     "name": "stdout",
     "output_type": "stream",
     "text": [
      "Writing CSV file with top k image patches..\n"
     ]
    },
    {
     "name": "stderr",
     "output_type": "stream",
     "text": [
      "Collecting top-k patch coordinates CUB: 100% 6/6 [00:00<00:00, 232.54it/s]"
     ]
    },
    {
     "name": "stdout",
     "output_type": "stream",
     "text": [
      "Warning: image patches included in topk, but similarity < 0.1! This might unfairly reduce the purity metric because prototype has less than k similar image patches. You could consider reducing k for prototypes set()\n"
     ]
    },
    {
     "name": "stderr",
     "output_type": "stream",
     "text": [
      "\n",
      "Collecting top-k patch coordinates CUB:   0% 0/4 [00:00<?, ?it/s]"
     ]
    },
    {
     "name": "stdout",
     "output_type": "stream",
     "text": [
      "Writing CSV file with top k image patches..\n"
     ]
    },
    {
     "name": "stderr",
     "output_type": "stream",
     "text": [
      "Collecting top-k patch coordinates CUB: 100% 4/4 [00:00<00:00, 314.76it/s]"
     ]
    },
    {
     "name": "stdout",
     "output_type": "stream",
     "text": [
      "Warning: image patches included in topk, but similarity < 0.1! This might unfairly reduce the purity metric because prototype has less than k similar image patches. You could consider reducing k for prototypes set()\n"
     ]
    },
    {
     "name": "stderr",
     "output_type": "stream",
     "text": [
      "\n",
      "Collecting top-k patch coordinates CUB:   0% 0/4 [00:00<?, ?it/s]"
     ]
    },
    {
     "name": "stdout",
     "output_type": "stream",
     "text": [
      "Writing CSV file with top k image patches..\n"
     ]
    },
    {
     "name": "stderr",
     "output_type": "stream",
     "text": [
      "Collecting top-k patch coordinates CUB: 100% 4/4 [00:00<00:00, 223.94it/s]"
     ]
    },
    {
     "name": "stdout",
     "output_type": "stream",
     "text": [
      "Warning: image patches included in topk, but similarity < 0.1! This might unfairly reduce the purity metric because prototype has less than k similar image patches. You could consider reducing k for prototypes set()\n"
     ]
    },
    {
     "name": "stderr",
     "output_type": "stream",
     "text": [
      "\n",
      "Collecting top-k patch coordinates CUB:   0% 0/1 [00:00<?, ?it/s]"
     ]
    },
    {
     "name": "stdout",
     "output_type": "stream",
     "text": [
      "Writing CSV file with top k image patches..\n"
     ]
    },
    {
     "name": "stderr",
     "output_type": "stream",
     "text": [
      "Collecting top-k patch coordinates CUB: 100% 1/1 [00:00<00:00, 23.72it/s]"
     ]
    },
    {
     "name": "stdout",
     "output_type": "stream",
     "text": [
      "Warning: image patches included in topk, but similarity < 0.1! This might unfairly reduce the purity metric because prototype has less than k similar image patches. You could consider reducing k for prototypes set()\n"
     ]
    },
    {
     "name": "stderr",
     "output_type": "stream",
     "text": [
      "\n",
      "Collecting top-k patch coordinates CUB:   0% 0/6 [00:00<?, ?it/s]"
     ]
    },
    {
     "name": "stdout",
     "output_type": "stream",
     "text": [
      "Writing CSV file with top k image patches..\n"
     ]
    },
    {
     "name": "stderr",
     "output_type": "stream",
     "text": [
      "Collecting top-k patch coordinates CUB: 100% 6/6 [00:00<00:00, 150.31it/s]"
     ]
    },
    {
     "name": "stdout",
     "output_type": "stream",
     "text": [
      "Warning: image patches included in topk, but similarity < 0.1! This might unfairly reduce the purity metric because prototype has less than k similar image patches. You could consider reducing k for prototypes set()\n"
     ]
    },
    {
     "name": "stderr",
     "output_type": "stream",
     "text": [
      "\n",
      "Collecting top-k patch coordinates CUB:   0% 0/9 [00:00<?, ?it/s]"
     ]
    },
    {
     "name": "stdout",
     "output_type": "stream",
     "text": [
      "Writing CSV file with top k image patches..\n"
     ]
    },
    {
     "name": "stderr",
     "output_type": "stream",
     "text": [
      "Collecting top-k patch coordinates CUB: 100% 9/9 [00:00<00:00, 63.10it/s]"
     ]
    },
    {
     "name": "stdout",
     "output_type": "stream",
     "text": [
      "Warning: image patches included in topk, but similarity < 0.1! This might unfairly reduce the purity metric because prototype has less than k similar image patches. You could consider reducing k for prototypes {19}\n"
     ]
    },
    {
     "name": "stderr",
     "output_type": "stream",
     "text": [
      "\n",
      "Collecting top-k patch coordinates CUB:   0% 0/9 [00:00<?, ?it/s]"
     ]
    },
    {
     "name": "stdout",
     "output_type": "stream",
     "text": [
      "Writing CSV file with top k image patches..\n"
     ]
    },
    {
     "name": "stderr",
     "output_type": "stream",
     "text": [
      "Collecting top-k patch coordinates CUB: 100% 9/9 [00:00<00:00, 103.40it/s]"
     ]
    },
    {
     "name": "stdout",
     "output_type": "stream",
     "text": [
      "Warning: image patches included in topk, but similarity < 0.1! This might unfairly reduce the purity metric because prototype has less than k similar image patches. You could consider reducing k for prototypes set()\n"
     ]
    },
    {
     "name": "stderr",
     "output_type": "stream",
     "text": [
      "\n",
      "Collecting top-k patch coordinates CUB:   0% 0/5 [00:00<?, ?it/s]"
     ]
    },
    {
     "name": "stdout",
     "output_type": "stream",
     "text": [
      "Writing CSV file with top k image patches..\n"
     ]
    },
    {
     "name": "stderr",
     "output_type": "stream",
     "text": [
      "Collecting top-k patch coordinates CUB: 100% 5/5 [00:00<00:00, 214.89it/s]"
     ]
    },
    {
     "name": "stdout",
     "output_type": "stream",
     "text": [
      "Warning: image patches included in topk, but similarity < 0.1! This might unfairly reduce the purity metric because prototype has less than k similar image patches. You could consider reducing k for prototypes set()\n"
     ]
    },
    {
     "name": "stderr",
     "output_type": "stream",
     "text": [
      "\n",
      "Collecting top-k patch coordinates CUB:   0% 0/5 [00:00<?, ?it/s]"
     ]
    },
    {
     "name": "stdout",
     "output_type": "stream",
     "text": [
      "Writing CSV file with top k image patches..\n"
     ]
    },
    {
     "name": "stderr",
     "output_type": "stream",
     "text": [
      "Collecting top-k patch coordinates CUB: 100% 5/5 [00:00<00:00, 324.41it/s]"
     ]
    },
    {
     "name": "stdout",
     "output_type": "stream",
     "text": [
      "Warning: image patches included in topk, but similarity < 0.1! This might unfairly reduce the purity metric because prototype has less than k similar image patches. You could consider reducing k for prototypes set()\n"
     ]
    },
    {
     "name": "stderr",
     "output_type": "stream",
     "text": [
      "\n",
      "Collecting top-k patch coordinates CUB:   0% 0/5 [00:00<?, ?it/s]"
     ]
    },
    {
     "name": "stdout",
     "output_type": "stream",
     "text": [
      "Writing CSV file with top k image patches..\n"
     ]
    },
    {
     "name": "stderr",
     "output_type": "stream",
     "text": [
      "Collecting top-k patch coordinates CUB: 100% 5/5 [00:00<00:00, 327.80it/s]"
     ]
    },
    {
     "name": "stdout",
     "output_type": "stream",
     "text": [
      "Warning: image patches included in topk, but similarity < 0.1! This might unfairly reduce the purity metric because prototype has less than k similar image patches. You could consider reducing k for prototypes set()\n"
     ]
    },
    {
     "name": "stderr",
     "output_type": "stream",
     "text": [
      "\n",
      "Collecting top-k patch coordinates CUB:   0% 0/4 [00:00<?, ?it/s]"
     ]
    },
    {
     "name": "stdout",
     "output_type": "stream",
     "text": [
      "Writing CSV file with top k image patches..\n"
     ]
    },
    {
     "name": "stderr",
     "output_type": "stream",
     "text": [
      "Collecting top-k patch coordinates CUB: 100% 4/4 [00:00<00:00, 313.03it/s]"
     ]
    },
    {
     "name": "stdout",
     "output_type": "stream",
     "text": [
      "Warning: image patches included in topk, but similarity < 0.1! This might unfairly reduce the purity metric because prototype has less than k similar image patches. You could consider reducing k for prototypes set()\n"
     ]
    },
    {
     "name": "stderr",
     "output_type": "stream",
     "text": [
      "\n",
      "Collecting top-k patch coordinates CUB:   0% 0/6 [00:00<?, ?it/s]"
     ]
    },
    {
     "name": "stdout",
     "output_type": "stream",
     "text": [
      "Writing CSV file with top k image patches..\n"
     ]
    },
    {
     "name": "stderr",
     "output_type": "stream",
     "text": [
      "Collecting top-k patch coordinates CUB: 100% 6/6 [00:00<00:00, 153.76it/s]"
     ]
    },
    {
     "name": "stdout",
     "output_type": "stream",
     "text": [
      "Warning: image patches included in topk, but similarity < 0.1! This might unfairly reduce the purity metric because prototype has less than k similar image patches. You could consider reducing k for prototypes set()\n"
     ]
    },
    {
     "name": "stderr",
     "output_type": "stream",
     "text": [
      "\n",
      "Collecting top-k patch coordinates CUB:   0% 0/6 [00:00<?, ?it/s]"
     ]
    },
    {
     "name": "stdout",
     "output_type": "stream",
     "text": [
      "Writing CSV file with top k image patches..\n"
     ]
    },
    {
     "name": "stderr",
     "output_type": "stream",
     "text": [
      "Collecting top-k patch coordinates CUB: 100% 6/6 [00:00<00:00, 177.75it/s]"
     ]
    },
    {
     "name": "stdout",
     "output_type": "stream",
     "text": [
      "Warning: image patches included in topk, but similarity < 0.1! This might unfairly reduce the purity metric because prototype has less than k similar image patches. You could consider reducing k for prototypes set()\n"
     ]
    },
    {
     "name": "stderr",
     "output_type": "stream",
     "text": [
      "\n",
      "Collecting top-k patch coordinates CUB:   0% 0/4 [00:00<?, ?it/s]"
     ]
    },
    {
     "name": "stdout",
     "output_type": "stream",
     "text": [
      "Writing CSV file with top k image patches..\n"
     ]
    },
    {
     "name": "stderr",
     "output_type": "stream",
     "text": [
      "Collecting top-k patch coordinates CUB: 100% 4/4 [00:00<00:00, 301.53it/s]"
     ]
    },
    {
     "name": "stdout",
     "output_type": "stream",
     "text": [
      "Warning: image patches included in topk, but similarity < 0.1! This might unfairly reduce the purity metric because prototype has less than k similar image patches. You could consider reducing k for prototypes set()\n"
     ]
    },
    {
     "name": "stderr",
     "output_type": "stream",
     "text": [
      "\n",
      "Collecting top-k patch coordinates CUB:   0% 0/4 [00:00<?, ?it/s]"
     ]
    },
    {
     "name": "stdout",
     "output_type": "stream",
     "text": [
      "Writing CSV file with top k image patches..\n"
     ]
    },
    {
     "name": "stderr",
     "output_type": "stream",
     "text": [
      "Collecting top-k patch coordinates CUB: 100% 4/4 [00:00<00:00, 307.21it/s]"
     ]
    },
    {
     "name": "stdout",
     "output_type": "stream",
     "text": [
      "Warning: image patches included in topk, but similarity < 0.1! This might unfairly reduce the purity metric because prototype has less than k similar image patches. You could consider reducing k for prototypes set()\n"
     ]
    },
    {
     "name": "stderr",
     "output_type": "stream",
     "text": [
      "\n",
      "Collecting top-k patch coordinates CUB:   0% 0/3 [00:00<?, ?it/s]"
     ]
    },
    {
     "name": "stdout",
     "output_type": "stream",
     "text": [
      "Writing CSV file with top k image patches..\n"
     ]
    },
    {
     "name": "stderr",
     "output_type": "stream",
     "text": [
      "Collecting top-k patch coordinates CUB: 100% 3/3 [00:00<00:00, 291.67it/s]"
     ]
    },
    {
     "name": "stdout",
     "output_type": "stream",
     "text": [
      "Warning: image patches included in topk, but similarity < 0.1! This might unfairly reduce the purity metric because prototype has less than k similar image patches. You could consider reducing k for prototypes set()\n"
     ]
    },
    {
     "name": "stderr",
     "output_type": "stream",
     "text": [
      "\n",
      "Collecting top-k patch coordinates CUB:   0% 0/5 [00:00<?, ?it/s]"
     ]
    },
    {
     "name": "stdout",
     "output_type": "stream",
     "text": [
      "Writing CSV file with top k image patches..\n"
     ]
    },
    {
     "name": "stderr",
     "output_type": "stream",
     "text": [
      "Collecting top-k patch coordinates CUB: 100% 5/5 [00:00<00:00, 316.12it/s]"
     ]
    },
    {
     "name": "stdout",
     "output_type": "stream",
     "text": [
      "Warning: image patches included in topk, but similarity < 0.1! This might unfairly reduce the purity metric because prototype has less than k similar image patches. You could consider reducing k for prototypes {19}\n"
     ]
    },
    {
     "name": "stderr",
     "output_type": "stream",
     "text": [
      "\n",
      "Collecting top-k patch coordinates CUB:   0% 0/11 [00:00<?, ?it/s]"
     ]
    },
    {
     "name": "stdout",
     "output_type": "stream",
     "text": [
      "Writing CSV file with top k image patches..\n"
     ]
    },
    {
     "name": "stderr",
     "output_type": "stream",
     "text": [
      "Collecting top-k patch coordinates CUB: 100% 11/11 [00:00<00:00, 47.03it/s]"
     ]
    },
    {
     "name": "stdout",
     "output_type": "stream",
     "text": [
      "Warning: image patches included in topk, but similarity < 0.1! This might unfairly reduce the purity metric because prototype has less than k similar image patches. You could consider reducing k for prototypes set()\n"
     ]
    },
    {
     "name": "stderr",
     "output_type": "stream",
     "text": [
      "\n",
      "Collecting top-k patch coordinates CUB:   0% 0/5 [00:00<?, ?it/s]"
     ]
    },
    {
     "name": "stdout",
     "output_type": "stream",
     "text": [
      "Writing CSV file with top k image patches..\n"
     ]
    },
    {
     "name": "stderr",
     "output_type": "stream",
     "text": [
      "Collecting top-k patch coordinates CUB: 100% 5/5 [00:00<00:00, 212.01it/s]"
     ]
    },
    {
     "name": "stdout",
     "output_type": "stream",
     "text": [
      "Warning: image patches included in topk, but similarity < 0.1! This might unfairly reduce the purity metric because prototype has less than k similar image patches. You could consider reducing k for prototypes set()\n"
     ]
    },
    {
     "name": "stderr",
     "output_type": "stream",
     "text": [
      "\n",
      "Collecting top-k patch coordinates CUB:   0% 0/9 [00:00<?, ?it/s]"
     ]
    },
    {
     "name": "stdout",
     "output_type": "stream",
     "text": [
      "Writing CSV file with top k image patches..\n"
     ]
    },
    {
     "name": "stderr",
     "output_type": "stream",
     "text": [
      "Collecting top-k patch coordinates CUB: 100% 9/9 [00:00<00:00, 93.62it/s]"
     ]
    },
    {
     "name": "stdout",
     "output_type": "stream",
     "text": [
      "Warning: image patches included in topk, but similarity < 0.1! This might unfairly reduce the purity metric because prototype has less than k similar image patches. You could consider reducing k for prototypes set()\n"
     ]
    },
    {
     "name": "stderr",
     "output_type": "stream",
     "text": [
      "\n",
      "Collecting top-k patch coordinates CUB:   0% 0/4 [00:00<?, ?it/s]"
     ]
    },
    {
     "name": "stdout",
     "output_type": "stream",
     "text": [
      "Writing CSV file with top k image patches..\n"
     ]
    },
    {
     "name": "stderr",
     "output_type": "stream",
     "text": [
      "Collecting top-k patch coordinates CUB: 100% 4/4 [00:00<00:00, 313.71it/s]"
     ]
    },
    {
     "name": "stdout",
     "output_type": "stream",
     "text": [
      "Warning: image patches included in topk, but similarity < 0.1! This might unfairly reduce the purity metric because prototype has less than k similar image patches. You could consider reducing k for prototypes set()\n"
     ]
    },
    {
     "name": "stderr",
     "output_type": "stream",
     "text": [
      "\n",
      "Collecting top-k patch coordinates CUB:   0% 0/6 [00:00<?, ?it/s]"
     ]
    },
    {
     "name": "stdout",
     "output_type": "stream",
     "text": [
      "Writing CSV file with top k image patches..\n"
     ]
    },
    {
     "name": "stderr",
     "output_type": "stream",
     "text": [
      "Collecting top-k patch coordinates CUB: 100% 6/6 [00:00<00:00, 177.18it/s]"
     ]
    },
    {
     "name": "stdout",
     "output_type": "stream",
     "text": [
      "Warning: image patches included in topk, but similarity < 0.1! This might unfairly reduce the purity metric because prototype has less than k similar image patches. You could consider reducing k for prototypes set()\n"
     ]
    },
    {
     "name": "stderr",
     "output_type": "stream",
     "text": [
      "\n",
      "Collecting top-k patch coordinates CUB:   0% 0/5 [00:00<?, ?it/s]"
     ]
    },
    {
     "name": "stdout",
     "output_type": "stream",
     "text": [
      "Writing CSV file with top k image patches..\n"
     ]
    },
    {
     "name": "stderr",
     "output_type": "stream",
     "text": [
      "Collecting top-k patch coordinates CUB: 100% 5/5 [00:00<00:00, 213.74it/s]"
     ]
    },
    {
     "name": "stdout",
     "output_type": "stream",
     "text": [
      "Warning: image patches included in topk, but similarity < 0.1! This might unfairly reduce the purity metric because prototype has less than k similar image patches. You could consider reducing k for prototypes set()\n"
     ]
    },
    {
     "name": "stderr",
     "output_type": "stream",
     "text": [
      "\n",
      "Collecting top-k patch coordinates CUB:   0% 0/5 [00:00<?, ?it/s]"
     ]
    },
    {
     "name": "stdout",
     "output_type": "stream",
     "text": [
      "Writing CSV file with top k image patches..\n"
     ]
    },
    {
     "name": "stderr",
     "output_type": "stream",
     "text": [
      "Collecting top-k patch coordinates CUB: 100% 5/5 [00:00<00:00, 321.28it/s]"
     ]
    },
    {
     "name": "stdout",
     "output_type": "stream",
     "text": [
      "Warning: image patches included in topk, but similarity < 0.1! This might unfairly reduce the purity metric because prototype has less than k similar image patches. You could consider reducing k for prototypes set()\n"
     ]
    },
    {
     "name": "stderr",
     "output_type": "stream",
     "text": [
      "\n",
      "Collecting top-k patch coordinates CUB:   0% 0/6 [00:00<?, ?it/s]"
     ]
    },
    {
     "name": "stdout",
     "output_type": "stream",
     "text": [
      "Writing CSV file with top k image patches..\n"
     ]
    },
    {
     "name": "stderr",
     "output_type": "stream",
     "text": [
      "Collecting top-k patch coordinates CUB: 100% 6/6 [00:00<00:00, 228.12it/s]"
     ]
    },
    {
     "name": "stdout",
     "output_type": "stream",
     "text": [
      "Warning: image patches included in topk, but similarity < 0.1! This might unfairly reduce the purity metric because prototype has less than k similar image patches. You could consider reducing k for prototypes set()\n"
     ]
    },
    {
     "name": "stderr",
     "output_type": "stream",
     "text": [
      "\n",
      "Collecting top-k patch coordinates CUB:   0% 0/5 [00:00<?, ?it/s]"
     ]
    },
    {
     "name": "stdout",
     "output_type": "stream",
     "text": [
      "Writing CSV file with top k image patches..\n"
     ]
    },
    {
     "name": "stderr",
     "output_type": "stream",
     "text": [
      "Collecting top-k patch coordinates CUB: 100% 5/5 [00:00<00:00, 211.56it/s]"
     ]
    },
    {
     "name": "stdout",
     "output_type": "stream",
     "text": [
      "Warning: image patches included in topk, but similarity < 0.1! This might unfairly reduce the purity metric because prototype has less than k similar image patches. You could consider reducing k for prototypes set()\n"
     ]
    },
    {
     "name": "stderr",
     "output_type": "stream",
     "text": [
      "\n",
      "Collecting top-k patch coordinates CUB:   0% 0/4 [00:00<?, ?it/s]"
     ]
    },
    {
     "name": "stdout",
     "output_type": "stream",
     "text": [
      "Writing CSV file with top k image patches..\n"
     ]
    },
    {
     "name": "stderr",
     "output_type": "stream",
     "text": [
      "Collecting top-k patch coordinates CUB: 100% 4/4 [00:00<00:00, 313.02it/s]"
     ]
    },
    {
     "name": "stdout",
     "output_type": "stream",
     "text": [
      "Warning: image patches included in topk, but similarity < 0.1! This might unfairly reduce the purity metric because prototype has less than k similar image patches. You could consider reducing k for prototypes {19}\n"
     ]
    },
    {
     "name": "stderr",
     "output_type": "stream",
     "text": [
      "\n",
      "Collecting top-k patch coordinates CUB:   0% 0/9 [00:00<?, ?it/s]"
     ]
    },
    {
     "name": "stdout",
     "output_type": "stream",
     "text": [
      "Writing CSV file with top k image patches..\n"
     ]
    },
    {
     "name": "stderr",
     "output_type": "stream",
     "text": [
      "Collecting top-k patch coordinates CUB: 100% 9/9 [00:00<00:00, 55.54it/s]"
     ]
    },
    {
     "name": "stdout",
     "output_type": "stream",
     "text": [
      "Warning: image patches included in topk, but similarity < 0.1! This might unfairly reduce the purity metric because prototype has less than k similar image patches. You could consider reducing k for prototypes set()\n"
     ]
    },
    {
     "name": "stderr",
     "output_type": "stream",
     "text": [
      "\n",
      "Collecting top-k patch coordinates CUB:   0% 0/5 [00:00<?, ?it/s]"
     ]
    },
    {
     "name": "stdout",
     "output_type": "stream",
     "text": [
      "Writing CSV file with top k image patches..\n"
     ]
    },
    {
     "name": "stderr",
     "output_type": "stream",
     "text": [
      "Collecting top-k patch coordinates CUB: 100% 5/5 [00:00<00:00, 317.74it/s]"
     ]
    },
    {
     "name": "stdout",
     "output_type": "stream",
     "text": [
      "Warning: image patches included in topk, but similarity < 0.1! This might unfairly reduce the purity metric because prototype has less than k similar image patches. You could consider reducing k for prototypes set()\n"
     ]
    },
    {
     "name": "stderr",
     "output_type": "stream",
     "text": [
      "\n",
      "Collecting top-k patch coordinates CUB:   0% 0/4 [00:00<?, ?it/s]"
     ]
    },
    {
     "name": "stdout",
     "output_type": "stream",
     "text": [
      "Writing CSV file with top k image patches..\n"
     ]
    },
    {
     "name": "stderr",
     "output_type": "stream",
     "text": [
      "Collecting top-k patch coordinates CUB: 100% 4/4 [00:00<00:00, 272.47it/s]"
     ]
    },
    {
     "name": "stdout",
     "output_type": "stream",
     "text": [
      "Warning: image patches included in topk, but similarity < 0.1! This might unfairly reduce the purity metric because prototype has less than k similar image patches. You could consider reducing k for prototypes set()\n"
     ]
    },
    {
     "name": "stderr",
     "output_type": "stream",
     "text": [
      "\n",
      "Collecting top-k patch coordinates CUB:   0% 0/8 [00:00<?, ?it/s]"
     ]
    },
    {
     "name": "stdout",
     "output_type": "stream",
     "text": [
      "Writing CSV file with top k image patches..\n"
     ]
    },
    {
     "name": "stderr",
     "output_type": "stream",
     "text": [
      "Collecting top-k patch coordinates CUB: 100% 8/8 [00:00<00:00, 127.97it/s]"
     ]
    },
    {
     "name": "stdout",
     "output_type": "stream",
     "text": [
      "Warning: image patches included in topk, but similarity < 0.1! This might unfairly reduce the purity metric because prototype has less than k similar image patches. You could consider reducing k for prototypes set()\n"
     ]
    },
    {
     "name": "stderr",
     "output_type": "stream",
     "text": [
      "\n",
      "Collecting top-k patch coordinates CUB:   0% 0/5 [00:00<?, ?it/s]"
     ]
    },
    {
     "name": "stdout",
     "output_type": "stream",
     "text": [
      "Writing CSV file with top k image patches..\n"
     ]
    },
    {
     "name": "stderr",
     "output_type": "stream",
     "text": [
      "Collecting top-k patch coordinates CUB: 100% 5/5 [00:00<00:00, 322.18it/s]"
     ]
    },
    {
     "name": "stdout",
     "output_type": "stream",
     "text": [
      "Warning: image patches included in topk, but similarity < 0.1! This might unfairly reduce the purity metric because prototype has less than k similar image patches. You could consider reducing k for prototypes set()\n"
     ]
    },
    {
     "name": "stderr",
     "output_type": "stream",
     "text": [
      "\n",
      "Collecting top-k patch coordinates CUB:   0% 0/5 [00:00<?, ?it/s]"
     ]
    },
    {
     "name": "stdout",
     "output_type": "stream",
     "text": [
      "Writing CSV file with top k image patches..\n"
     ]
    },
    {
     "name": "stderr",
     "output_type": "stream",
     "text": [
      "Collecting top-k patch coordinates CUB: 100% 5/5 [00:00<00:00, 319.87it/s]"
     ]
    },
    {
     "name": "stdout",
     "output_type": "stream",
     "text": [
      "Warning: image patches included in topk, but similarity < 0.1! This might unfairly reduce the purity metric because prototype has less than k similar image patches. You could consider reducing k for prototypes set()\n"
     ]
    },
    {
     "name": "stderr",
     "output_type": "stream",
     "text": [
      "\n",
      "Collecting top-k patch coordinates CUB:   0% 0/5 [00:00<?, ?it/s]"
     ]
    },
    {
     "name": "stdout",
     "output_type": "stream",
     "text": [
      "Writing CSV file with top k image patches..\n"
     ]
    },
    {
     "name": "stderr",
     "output_type": "stream",
     "text": [
      "Collecting top-k patch coordinates CUB: 100% 5/5 [00:00<00:00, 317.02it/s]"
     ]
    },
    {
     "name": "stdout",
     "output_type": "stream",
     "text": [
      "Warning: image patches included in topk, but similarity < 0.1! This might unfairly reduce the purity metric because prototype has less than k similar image patches. You could consider reducing k for prototypes set()\n"
     ]
    },
    {
     "name": "stderr",
     "output_type": "stream",
     "text": [
      "\n",
      "Collecting top-k patch coordinates CUB:   0% 0/5 [00:00<?, ?it/s]"
     ]
    },
    {
     "name": "stdout",
     "output_type": "stream",
     "text": [
      "Writing CSV file with top k image patches..\n"
     ]
    },
    {
     "name": "stderr",
     "output_type": "stream",
     "text": [
      "Collecting top-k patch coordinates CUB: 100% 5/5 [00:00<00:00, 323.93it/s]"
     ]
    },
    {
     "name": "stdout",
     "output_type": "stream",
     "text": [
      "Warning: image patches included in topk, but similarity < 0.1! This might unfairly reduce the purity metric because prototype has less than k similar image patches. You could consider reducing k for prototypes set()\n"
     ]
    },
    {
     "name": "stderr",
     "output_type": "stream",
     "text": [
      "\n",
      "Collecting top-k patch coordinates CUB:   0% 0/4 [00:00<?, ?it/s]"
     ]
    },
    {
     "name": "stdout",
     "output_type": "stream",
     "text": [
      "Writing CSV file with top k image patches..\n"
     ]
    },
    {
     "name": "stderr",
     "output_type": "stream",
     "text": [
      "Collecting top-k patch coordinates CUB: 100% 4/4 [00:00<00:00, 306.51it/s]"
     ]
    },
    {
     "name": "stdout",
     "output_type": "stream",
     "text": [
      "Warning: image patches included in topk, but similarity < 0.1! This might unfairly reduce the purity metric because prototype has less than k similar image patches. You could consider reducing k for prototypes set()\n"
     ]
    },
    {
     "name": "stderr",
     "output_type": "stream",
     "text": [
      "\n",
      "Collecting top-k patch coordinates CUB:   0% 0/5 [00:00<?, ?it/s]"
     ]
    },
    {
     "name": "stdout",
     "output_type": "stream",
     "text": [
      "Writing CSV file with top k image patches..\n"
     ]
    },
    {
     "name": "stderr",
     "output_type": "stream",
     "text": [
      "Collecting top-k patch coordinates CUB: 100% 5/5 [00:00<00:00, 322.36it/s]"
     ]
    },
    {
     "name": "stdout",
     "output_type": "stream",
     "text": [
      "Warning: image patches included in topk, but similarity < 0.1! This might unfairly reduce the purity metric because prototype has less than k similar image patches. You could consider reducing k for prototypes set()\n"
     ]
    },
    {
     "name": "stderr",
     "output_type": "stream",
     "text": [
      "\n",
      "Collecting top-k patch coordinates CUB:   0% 0/1 [00:00<?, ?it/s]"
     ]
    },
    {
     "name": "stdout",
     "output_type": "stream",
     "text": [
      "Writing CSV file with top k image patches..\n"
     ]
    },
    {
     "name": "stderr",
     "output_type": "stream",
     "text": [
      "Collecting top-k patch coordinates CUB: 100% 1/1 [00:00<00:00, 55.16it/s]"
     ]
    },
    {
     "name": "stdout",
     "output_type": "stream",
     "text": [
      "Warning: image patches included in topk, but similarity < 0.1! This might unfairly reduce the purity metric because prototype has less than k similar image patches. You could consider reducing k for prototypes set()\n"
     ]
    },
    {
     "name": "stderr",
     "output_type": "stream",
     "text": [
      "\n",
      "Collecting top-k patch coordinates CUB:   0% 0/7 [00:00<?, ?it/s]"
     ]
    },
    {
     "name": "stdout",
     "output_type": "stream",
     "text": [
      "Writing CSV file with top k image patches..\n"
     ]
    },
    {
     "name": "stderr",
     "output_type": "stream",
     "text": [
      "Collecting top-k patch coordinates CUB: 100% 7/7 [00:00<00:00, 92.00it/s]"
     ]
    },
    {
     "name": "stdout",
     "output_type": "stream",
     "text": [
      "Warning: image patches included in topk, but similarity < 0.1! This might unfairly reduce the purity metric because prototype has less than k similar image patches. You could consider reducing k for prototypes set()\n"
     ]
    },
    {
     "name": "stderr",
     "output_type": "stream",
     "text": [
      "\n",
      "Collecting top-k patch coordinates CUB:   0% 0/6 [00:00<?, ?it/s]"
     ]
    },
    {
     "name": "stdout",
     "output_type": "stream",
     "text": [
      "Writing CSV file with top k image patches..\n"
     ]
    },
    {
     "name": "stderr",
     "output_type": "stream",
     "text": [
      "Collecting top-k patch coordinates CUB: 100% 6/6 [00:00<00:00, 153.16it/s]"
     ]
    },
    {
     "name": "stdout",
     "output_type": "stream",
     "text": [
      "Warning: image patches included in topk, but similarity < 0.1! This might unfairly reduce the purity metric because prototype has less than k similar image patches. You could consider reducing k for prototypes set()\n"
     ]
    },
    {
     "name": "stderr",
     "output_type": "stream",
     "text": [
      "\n",
      "Collecting top-k patch coordinates CUB:   0% 0/5 [00:00<?, ?it/s]"
     ]
    },
    {
     "name": "stdout",
     "output_type": "stream",
     "text": [
      "Writing CSV file with top k image patches..\n"
     ]
    },
    {
     "name": "stderr",
     "output_type": "stream",
     "text": [
      "Collecting top-k patch coordinates CUB: 100% 5/5 [00:00<00:00, 188.71it/s]"
     ]
    },
    {
     "name": "stdout",
     "output_type": "stream",
     "text": [
      "Warning: image patches included in topk, but similarity < 0.1! This might unfairly reduce the purity metric because prototype has less than k similar image patches. You could consider reducing k for prototypes set()\n"
     ]
    },
    {
     "name": "stderr",
     "output_type": "stream",
     "text": [
      "\n",
      "Collecting top-k patch coordinates CUB:   0% 0/1 [00:00<?, ?it/s]"
     ]
    },
    {
     "name": "stdout",
     "output_type": "stream",
     "text": [
      "Writing CSV file with top k image patches..\n"
     ]
    },
    {
     "name": "stderr",
     "output_type": "stream",
     "text": [
      "Collecting top-k patch coordinates CUB: 100% 1/1 [00:00<00:00, 41.59it/s]"
     ]
    },
    {
     "name": "stdout",
     "output_type": "stream",
     "text": [
      "Warning: image patches included in topk, but similarity < 0.1! This might unfairly reduce the purity metric because prototype has less than k similar image patches. You could consider reducing k for prototypes set()\n"
     ]
    },
    {
     "name": "stderr",
     "output_type": "stream",
     "text": [
      "\n",
      "Collecting top-k patch coordinates CUB:   0% 0/7 [00:00<?, ?it/s]"
     ]
    },
    {
     "name": "stdout",
     "output_type": "stream",
     "text": [
      "Writing CSV file with top k image patches..\n"
     ]
    },
    {
     "name": "stderr",
     "output_type": "stream",
     "text": [
      "Collecting top-k patch coordinates CUB: 100% 7/7 [00:00<00:00, 95.02it/s]"
     ]
    },
    {
     "name": "stdout",
     "output_type": "stream",
     "text": [
      "Warning: image patches included in topk, but similarity < 0.1! This might unfairly reduce the purity metric because prototype has less than k similar image patches. You could consider reducing k for prototypes set()\n"
     ]
    },
    {
     "name": "stderr",
     "output_type": "stream",
     "text": [
      "\n",
      "Collecting top-k patch coordinates CUB:   0% 0/8 [00:00<?, ?it/s]"
     ]
    },
    {
     "name": "stdout",
     "output_type": "stream",
     "text": [
      "Writing CSV file with top k image patches..\n"
     ]
    },
    {
     "name": "stderr",
     "output_type": "stream",
     "text": [
      "Collecting top-k patch coordinates CUB: 100% 8/8 [00:00<00:00, 78.30it/s]"
     ]
    },
    {
     "name": "stdout",
     "output_type": "stream",
     "text": [
      "Warning: image patches included in topk, but similarity < 0.1! This might unfairly reduce the purity metric because prototype has less than k similar image patches. You could consider reducing k for prototypes set()\n"
     ]
    },
    {
     "name": "stderr",
     "output_type": "stream",
     "text": [
      "\n",
      "Collecting top-k patch coordinates CUB:   0% 0/6 [00:00<?, ?it/s]"
     ]
    },
    {
     "name": "stdout",
     "output_type": "stream",
     "text": [
      "Writing CSV file with top k image patches..\n"
     ]
    },
    {
     "name": "stderr",
     "output_type": "stream",
     "text": [
      "Collecting top-k patch coordinates CUB: 100% 6/6 [00:00<00:00, 208.93it/s]"
     ]
    },
    {
     "name": "stdout",
     "output_type": "stream",
     "text": [
      "Warning: image patches included in topk, but similarity < 0.1! This might unfairly reduce the purity metric because prototype has less than k similar image patches. You could consider reducing k for prototypes set()\n"
     ]
    },
    {
     "name": "stderr",
     "output_type": "stream",
     "text": [
      "\n",
      "Collecting top-k patch coordinates CUB:   0% 0/5 [00:00<?, ?it/s]"
     ]
    },
    {
     "name": "stdout",
     "output_type": "stream",
     "text": [
      "Writing CSV file with top k image patches..\n"
     ]
    },
    {
     "name": "stderr",
     "output_type": "stream",
     "text": [
      "Collecting top-k patch coordinates CUB: 100% 5/5 [00:00<00:00, 212.34it/s]"
     ]
    },
    {
     "name": "stdout",
     "output_type": "stream",
     "text": [
      "Warning: image patches included in topk, but similarity < 0.1! This might unfairly reduce the purity metric because prototype has less than k similar image patches. You could consider reducing k for prototypes set()\n"
     ]
    },
    {
     "name": "stderr",
     "output_type": "stream",
     "text": [
      "\n",
      "Collecting top-k patch coordinates CUB: 0it [00:00, ?it/s]"
     ]
    },
    {
     "name": "stdout",
     "output_type": "stream",
     "text": [
      "Writing CSV file with top k image patches..\n"
     ]
    },
    {
     "name": "stderr",
     "output_type": "stream",
     "text": [
      "Collecting top-k patch coordinates CUB: 0it [00:00, ?it/s]"
     ]
    },
    {
     "name": "stdout",
     "output_type": "stream",
     "text": [
      "Warning: image patches included in topk, but similarity < 0.1! This might unfairly reduce the purity metric because prototype has less than k similar image patches. You could consider reducing k for prototypes set()\n"
     ]
    },
    {
     "name": "stderr",
     "output_type": "stream",
     "text": [
      "\n",
      "Collecting top-k patch coordinates CUB:   0% 0/8 [00:00<?, ?it/s]"
     ]
    },
    {
     "name": "stdout",
     "output_type": "stream",
     "text": [
      "Writing CSV file with top k image patches..\n"
     ]
    },
    {
     "name": "stderr",
     "output_type": "stream",
     "text": [
      "Collecting top-k patch coordinates CUB: 100% 8/8 [00:00<00:00, 82.11it/s]"
     ]
    },
    {
     "name": "stdout",
     "output_type": "stream",
     "text": [
      "Warning: image patches included in topk, but similarity < 0.1! This might unfairly reduce the purity metric because prototype has less than k similar image patches. You could consider reducing k for prototypes set()\n"
     ]
    },
    {
     "name": "stderr",
     "output_type": "stream",
     "text": [
      "\n",
      "Collecting top-k patch coordinates CUB:   0% 0/6 [00:00<?, ?it/s]"
     ]
    },
    {
     "name": "stdout",
     "output_type": "stream",
     "text": [
      "Writing CSV file with top k image patches..\n"
     ]
    },
    {
     "name": "stderr",
     "output_type": "stream",
     "text": [
      "Collecting top-k patch coordinates CUB: 100% 6/6 [00:00<00:00, 142.54it/s]"
     ]
    },
    {
     "name": "stdout",
     "output_type": "stream",
     "text": [
      "Warning: image patches included in topk, but similarity < 0.1! This might unfairly reduce the purity metric because prototype has less than k similar image patches. You could consider reducing k for prototypes set()\n"
     ]
    },
    {
     "name": "stderr",
     "output_type": "stream",
     "text": [
      "\n",
      "Collecting top-k patch coordinates CUB:   0% 0/10 [00:00<?, ?it/s]"
     ]
    },
    {
     "name": "stdout",
     "output_type": "stream",
     "text": [
      "Writing CSV file with top k image patches..\n"
     ]
    },
    {
     "name": "stderr",
     "output_type": "stream",
     "text": [
      "Collecting top-k patch coordinates CUB: 100% 10/10 [00:00<00:00, 93.26it/s]"
     ]
    },
    {
     "name": "stdout",
     "output_type": "stream",
     "text": [
      "Warning: image patches included in topk, but similarity < 0.1! This might unfairly reduce the purity metric because prototype has less than k similar image patches. You could consider reducing k for prototypes set()\n"
     ]
    },
    {
     "name": "stderr",
     "output_type": "stream",
     "text": [
      "\n",
      "Collecting top-k patch coordinates CUB:   0% 0/5 [00:00<?, ?it/s]"
     ]
    },
    {
     "name": "stdout",
     "output_type": "stream",
     "text": [
      "Writing CSV file with top k image patches..\n"
     ]
    },
    {
     "name": "stderr",
     "output_type": "stream",
     "text": [
      "Collecting top-k patch coordinates CUB: 100% 5/5 [00:00<00:00, 316.84it/s]"
     ]
    },
    {
     "name": "stdout",
     "output_type": "stream",
     "text": [
      "Warning: image patches included in topk, but similarity < 0.1! This might unfairly reduce the purity metric because prototype has less than k similar image patches. You could consider reducing k for prototypes set()\n"
     ]
    },
    {
     "name": "stderr",
     "output_type": "stream",
     "text": [
      "\n",
      "Collecting top-k patch coordinates CUB:   0% 0/5 [00:00<?, ?it/s]"
     ]
    },
    {
     "name": "stdout",
     "output_type": "stream",
     "text": [
      "Writing CSV file with top k image patches..\n"
     ]
    },
    {
     "name": "stderr",
     "output_type": "stream",
     "text": [
      "Collecting top-k patch coordinates CUB: 100% 5/5 [00:00<00:00, 323.87it/s]"
     ]
    },
    {
     "name": "stdout",
     "output_type": "stream",
     "text": [
      "Warning: image patches included in topk, but similarity < 0.1! This might unfairly reduce the purity metric because prototype has less than k similar image patches. You could consider reducing k for prototypes set()\n"
     ]
    },
    {
     "name": "stderr",
     "output_type": "stream",
     "text": [
      "\n",
      "Collecting top-k patch coordinates CUB: 0it [00:00, ?it/s]"
     ]
    },
    {
     "name": "stdout",
     "output_type": "stream",
     "text": [
      "Writing CSV file with top k image patches..\n"
     ]
    },
    {
     "name": "stderr",
     "output_type": "stream",
     "text": [
      "Collecting top-k patch coordinates CUB: 0it [00:00, ?it/s]"
     ]
    },
    {
     "name": "stdout",
     "output_type": "stream",
     "text": [
      "Warning: image patches included in topk, but similarity < 0.1! This might unfairly reduce the purity metric because prototype has less than k similar image patches. You could consider reducing k for prototypes set()\n"
     ]
    },
    {
     "name": "stderr",
     "output_type": "stream",
     "text": [
      "\n",
      "Collecting top-k patch coordinates CUB:   0% 0/3 [00:00<?, ?it/s]"
     ]
    },
    {
     "name": "stdout",
     "output_type": "stream",
     "text": [
      "Writing CSV file with top k image patches..\n"
     ]
    },
    {
     "name": "stderr",
     "output_type": "stream",
     "text": [
      "Collecting top-k patch coordinates CUB: 100% 3/3 [00:00<00:00, 291.83it/s]"
     ]
    },
    {
     "name": "stdout",
     "output_type": "stream",
     "text": [
      "Warning: image patches included in topk, but similarity < 0.1! This might unfairly reduce the purity metric because prototype has less than k similar image patches. You could consider reducing k for prototypes set()\n"
     ]
    },
    {
     "name": "stderr",
     "output_type": "stream",
     "text": [
      "\n",
      "Collecting top-k patch coordinates CUB:   0% 0/7 [00:00<?, ?it/s]"
     ]
    },
    {
     "name": "stdout",
     "output_type": "stream",
     "text": [
      "Writing CSV file with top k image patches..\n"
     ]
    },
    {
     "name": "stderr",
     "output_type": "stream",
     "text": [
      "Collecting top-k patch coordinates CUB: 100% 7/7 [00:00<00:00, 115.79it/s]"
     ]
    },
    {
     "name": "stdout",
     "output_type": "stream",
     "text": [
      "Warning: image patches included in topk, but similarity < 0.1! This might unfairly reduce the purity metric because prototype has less than k similar image patches. You could consider reducing k for prototypes set()\n"
     ]
    },
    {
     "name": "stderr",
     "output_type": "stream",
     "text": [
      "\n",
      "Collecting top-k patch coordinates CUB:   0% 0/5 [00:00<?, ?it/s]"
     ]
    },
    {
     "name": "stdout",
     "output_type": "stream",
     "text": [
      "Writing CSV file with top k image patches..\n"
     ]
    },
    {
     "name": "stderr",
     "output_type": "stream",
     "text": [
      "Collecting top-k patch coordinates CUB: 100% 5/5 [00:00<00:00, 211.75it/s]"
     ]
    },
    {
     "name": "stdout",
     "output_type": "stream",
     "text": [
      "Warning: image patches included in topk, but similarity < 0.1! This might unfairly reduce the purity metric because prototype has less than k similar image patches. You could consider reducing k for prototypes set()\n"
     ]
    },
    {
     "name": "stderr",
     "output_type": "stream",
     "text": [
      "\n",
      "Collecting top-k patch coordinates CUB:   0% 0/6 [00:00<?, ?it/s]"
     ]
    },
    {
     "name": "stdout",
     "output_type": "stream",
     "text": [
      "Writing CSV file with top k image patches..\n"
     ]
    },
    {
     "name": "stderr",
     "output_type": "stream",
     "text": [
      "Collecting top-k patch coordinates CUB: 100% 6/6 [00:00<00:00, 210.23it/s]"
     ]
    },
    {
     "name": "stdout",
     "output_type": "stream",
     "text": [
      "Warning: image patches included in topk, but similarity < 0.1! This might unfairly reduce the purity metric because prototype has less than k similar image patches. You could consider reducing k for prototypes set()\n"
     ]
    },
    {
     "name": "stderr",
     "output_type": "stream",
     "text": [
      "\n",
      "Collecting top-k patch coordinates CUB:   0% 0/4 [00:00<?, ?it/s]"
     ]
    },
    {
     "name": "stdout",
     "output_type": "stream",
     "text": [
      "Writing CSV file with top k image patches..\n"
     ]
    },
    {
     "name": "stderr",
     "output_type": "stream",
     "text": [
      "Collecting top-k patch coordinates CUB: 100% 4/4 [00:00<00:00, 307.44it/s]"
     ]
    },
    {
     "name": "stdout",
     "output_type": "stream",
     "text": [
      "Warning: image patches included in topk, but similarity < 0.1! This might unfairly reduce the purity metric because prototype has less than k similar image patches. You could consider reducing k for prototypes set()\n"
     ]
    },
    {
     "name": "stderr",
     "output_type": "stream",
     "text": [
      "\n",
      "Collecting top-k patch coordinates CUB:   0% 0/10 [00:00<?, ?it/s]"
     ]
    },
    {
     "name": "stdout",
     "output_type": "stream",
     "text": [
      "Writing CSV file with top k image patches..\n"
     ]
    },
    {
     "name": "stderr",
     "output_type": "stream",
     "text": [
      "Collecting top-k patch coordinates CUB: 100% 10/10 [00:00<00:00, 109.26it/s]"
     ]
    },
    {
     "name": "stdout",
     "output_type": "stream",
     "text": [
      "Warning: image patches included in topk, but similarity < 0.1! This might unfairly reduce the purity metric because prototype has less than k similar image patches. You could consider reducing k for prototypes set()\n"
     ]
    },
    {
     "name": "stderr",
     "output_type": "stream",
     "text": [
      "\n",
      "Collecting top-k patch coordinates CUB:   0% 0/3 [00:00<?, ?it/s]"
     ]
    },
    {
     "name": "stdout",
     "output_type": "stream",
     "text": [
      "Writing CSV file with top k image patches..\n"
     ]
    },
    {
     "name": "stderr",
     "output_type": "stream",
     "text": [
      "Collecting top-k patch coordinates CUB: 100% 3/3 [00:00<00:00, 292.91it/s]"
     ]
    },
    {
     "name": "stdout",
     "output_type": "stream",
     "text": [
      "Warning: image patches included in topk, but similarity < 0.1! This might unfairly reduce the purity metric because prototype has less than k similar image patches. You could consider reducing k for prototypes set()\n"
     ]
    },
    {
     "name": "stderr",
     "output_type": "stream",
     "text": [
      "\n",
      "Collecting top-k patch coordinates CUB:   0% 0/10 [00:00<?, ?it/s]"
     ]
    },
    {
     "name": "stdout",
     "output_type": "stream",
     "text": [
      "Writing CSV file with top k image patches..\n"
     ]
    },
    {
     "name": "stderr",
     "output_type": "stream",
     "text": [
      "Collecting top-k patch coordinates CUB: 100% 10/10 [00:00<00:00, 51.97it/s]"
     ]
    },
    {
     "name": "stdout",
     "output_type": "stream",
     "text": [
      "Warning: image patches included in topk, but similarity < 0.1! This might unfairly reduce the purity metric because prototype has less than k similar image patches. You could consider reducing k for prototypes set()\n"
     ]
    },
    {
     "name": "stderr",
     "output_type": "stream",
     "text": [
      "\n",
      "Collecting top-k patch coordinates CUB:   0% 0/4 [00:00<?, ?it/s]"
     ]
    },
    {
     "name": "stdout",
     "output_type": "stream",
     "text": [
      "Writing CSV file with top k image patches..\n"
     ]
    },
    {
     "name": "stderr",
     "output_type": "stream",
     "text": [
      "Collecting top-k patch coordinates CUB: 100% 4/4 [00:00<00:00, 25.80it/s]"
     ]
    },
    {
     "name": "stdout",
     "output_type": "stream",
     "text": [
      "Warning: image patches included in topk, but similarity < 0.1! This might unfairly reduce the purity metric because prototype has less than k similar image patches. You could consider reducing k for prototypes set()\n"
     ]
    },
    {
     "name": "stderr",
     "output_type": "stream",
     "text": [
      "\n",
      "Collecting top-k patch coordinates CUB:   0% 0/6 [00:00<?, ?it/s]"
     ]
    },
    {
     "name": "stdout",
     "output_type": "stream",
     "text": [
      "Writing CSV file with top k image patches..\n"
     ]
    },
    {
     "name": "stderr",
     "output_type": "stream",
     "text": [
      "Collecting top-k patch coordinates CUB: 100% 6/6 [00:00<00:00, 176.83it/s]"
     ]
    },
    {
     "name": "stdout",
     "output_type": "stream",
     "text": [
      "Warning: image patches included in topk, but similarity < 0.1! This might unfairly reduce the purity metric because prototype has less than k similar image patches. You could consider reducing k for prototypes set()\n"
     ]
    },
    {
     "name": "stderr",
     "output_type": "stream",
     "text": [
      "\n",
      "Collecting top-k patch coordinates CUB:   0% 0/7 [00:00<?, ?it/s]"
     ]
    },
    {
     "name": "stdout",
     "output_type": "stream",
     "text": [
      "Writing CSV file with top k image patches..\n"
     ]
    },
    {
     "name": "stderr",
     "output_type": "stream",
     "text": [
      "Collecting top-k patch coordinates CUB: 100% 7/7 [00:00<00:00, 336.09it/s]"
     ]
    },
    {
     "name": "stdout",
     "output_type": "stream",
     "text": [
      "Warning: image patches included in topk, but similarity < 0.1! This might unfairly reduce the purity metric because prototype has less than k similar image patches. You could consider reducing k for prototypes set()\n"
     ]
    },
    {
     "name": "stderr",
     "output_type": "stream",
     "text": [
      "\n",
      "Collecting top-k patch coordinates CUB:   0% 0/4 [00:00<?, ?it/s]"
     ]
    },
    {
     "name": "stdout",
     "output_type": "stream",
     "text": [
      "Writing CSV file with top k image patches..\n"
     ]
    },
    {
     "name": "stderr",
     "output_type": "stream",
     "text": [
      "Collecting top-k patch coordinates CUB: 100% 4/4 [00:00<00:00, 305.91it/s]"
     ]
    },
    {
     "name": "stdout",
     "output_type": "stream",
     "text": [
      "Warning: image patches included in topk, but similarity < 0.1! This might unfairly reduce the purity metric because prototype has less than k similar image patches. You could consider reducing k for prototypes set()\n"
     ]
    },
    {
     "name": "stderr",
     "output_type": "stream",
     "text": [
      "\n",
      "Collecting top-k patch coordinates CUB:   0% 0/8 [00:00<?, ?it/s]"
     ]
    },
    {
     "name": "stdout",
     "output_type": "stream",
     "text": [
      "Writing CSV file with top k image patches..\n"
     ]
    },
    {
     "name": "stderr",
     "output_type": "stream",
     "text": [
      "Collecting top-k patch coordinates CUB: 100% 8/8 [00:00<00:00, 139.57it/s]"
     ]
    },
    {
     "name": "stdout",
     "output_type": "stream",
     "text": [
      "Warning: image patches included in topk, but similarity < 0.1! This might unfairly reduce the purity metric because prototype has less than k similar image patches. You could consider reducing k for prototypes set()\n"
     ]
    },
    {
     "name": "stderr",
     "output_type": "stream",
     "text": [
      "\n",
      "Collecting top-k patch coordinates CUB:   0% 0/4 [00:00<?, ?it/s]"
     ]
    },
    {
     "name": "stdout",
     "output_type": "stream",
     "text": [
      "Writing CSV file with top k image patches..\n"
     ]
    },
    {
     "name": "stderr",
     "output_type": "stream",
     "text": [
      "Collecting top-k patch coordinates CUB: 100% 4/4 [00:00<00:00, 72.44it/s]"
     ]
    },
    {
     "name": "stdout",
     "output_type": "stream",
     "text": [
      "Warning: image patches included in topk, but similarity < 0.1! This might unfairly reduce the purity metric because prototype has less than k similar image patches. You could consider reducing k for prototypes set()\n"
     ]
    },
    {
     "name": "stderr",
     "output_type": "stream",
     "text": [
      "\n",
      "Collecting top-k patch coordinates CUB:   0% 0/9 [00:00<?, ?it/s]"
     ]
    },
    {
     "name": "stdout",
     "output_type": "stream",
     "text": [
      "Writing CSV file with top k image patches..\n"
     ]
    },
    {
     "name": "stderr",
     "output_type": "stream",
     "text": [
      "Collecting top-k patch coordinates CUB: 100% 9/9 [00:00<00:00, 72.63it/s]"
     ]
    },
    {
     "name": "stdout",
     "output_type": "stream",
     "text": [
      "Warning: image patches included in topk, but similarity < 0.1! This might unfairly reduce the purity metric because prototype has less than k similar image patches. You could consider reducing k for prototypes set()\n"
     ]
    },
    {
     "name": "stderr",
     "output_type": "stream",
     "text": [
      "\n",
      "Collecting top-k patch coordinates CUB:   0% 0/5 [00:00<?, ?it/s]"
     ]
    },
    {
     "name": "stdout",
     "output_type": "stream",
     "text": [
      "Writing CSV file with top k image patches..\n"
     ]
    },
    {
     "name": "stderr",
     "output_type": "stream",
     "text": [
      "Collecting top-k patch coordinates CUB: 100% 5/5 [00:00<00:00, 212.30it/s]"
     ]
    },
    {
     "name": "stdout",
     "output_type": "stream",
     "text": [
      "Warning: image patches included in topk, but similarity < 0.1! This might unfairly reduce the purity metric because prototype has less than k similar image patches. You could consider reducing k for prototypes set()\n"
     ]
    },
    {
     "name": "stderr",
     "output_type": "stream",
     "text": [
      "\n",
      "Collecting top-k patch coordinates CUB:   0% 0/3 [00:00<?, ?it/s]"
     ]
    },
    {
     "name": "stdout",
     "output_type": "stream",
     "text": [
      "Writing CSV file with top k image patches..\n"
     ]
    },
    {
     "name": "stderr",
     "output_type": "stream",
     "text": [
      "Collecting top-k patch coordinates CUB: 100% 3/3 [00:00<00:00, 38.22it/s]"
     ]
    },
    {
     "name": "stdout",
     "output_type": "stream",
     "text": [
      "Warning: image patches included in topk, but similarity < 0.1! This might unfairly reduce the purity metric because prototype has less than k similar image patches. You could consider reducing k for prototypes set()\n"
     ]
    },
    {
     "name": "stderr",
     "output_type": "stream",
     "text": [
      "\n",
      "Collecting top-k patch coordinates CUB:   0% 0/6 [00:00<?, ?it/s]"
     ]
    },
    {
     "name": "stdout",
     "output_type": "stream",
     "text": [
      "Writing CSV file with top k image patches..\n"
     ]
    },
    {
     "name": "stderr",
     "output_type": "stream",
     "text": [
      "Collecting top-k patch coordinates CUB: 100% 6/6 [00:00<00:00, 209.05it/s]"
     ]
    },
    {
     "name": "stdout",
     "output_type": "stream",
     "text": [
      "Warning: image patches included in topk, but similarity < 0.1! This might unfairly reduce the purity metric because prototype has less than k similar image patches. You could consider reducing k for prototypes set()\n"
     ]
    },
    {
     "name": "stderr",
     "output_type": "stream",
     "text": [
      "\n",
      "Collecting top-k patch coordinates CUB:   0% 0/4 [00:00<?, ?it/s]"
     ]
    },
    {
     "name": "stdout",
     "output_type": "stream",
     "text": [
      "Writing CSV file with top k image patches..\n"
     ]
    },
    {
     "name": "stderr",
     "output_type": "stream",
     "text": [
      "Collecting top-k patch coordinates CUB: 100% 4/4 [00:00<00:00, 189.98it/s]"
     ]
    },
    {
     "name": "stdout",
     "output_type": "stream",
     "text": [
      "Warning: image patches included in topk, but similarity < 0.1! This might unfairly reduce the purity metric because prototype has less than k similar image patches. You could consider reducing k for prototypes set()\n"
     ]
    },
    {
     "name": "stderr",
     "output_type": "stream",
     "text": [
      "\n",
      "Collecting top-k patch coordinates CUB:   0% 0/5 [00:00<?, ?it/s]"
     ]
    },
    {
     "name": "stdout",
     "output_type": "stream",
     "text": [
      "Writing CSV file with top k image patches..\n"
     ]
    },
    {
     "name": "stderr",
     "output_type": "stream",
     "text": [
      "Collecting top-k patch coordinates CUB: 100% 5/5 [00:00<00:00, 324.21it/s]"
     ]
    },
    {
     "name": "stdout",
     "output_type": "stream",
     "text": [
      "Warning: image patches included in topk, but similarity < 0.1! This might unfairly reduce the purity metric because prototype has less than k similar image patches. You could consider reducing k for prototypes set()\n"
     ]
    },
    {
     "name": "stderr",
     "output_type": "stream",
     "text": [
      "\n",
      "Collecting top-k patch coordinates CUB:   0% 0/6 [00:00<?, ?it/s]"
     ]
    },
    {
     "name": "stdout",
     "output_type": "stream",
     "text": [
      "Writing CSV file with top k image patches..\n"
     ]
    },
    {
     "name": "stderr",
     "output_type": "stream",
     "text": [
      "Collecting top-k patch coordinates CUB: 100% 6/6 [00:00<00:00, 43.38it/s]"
     ]
    },
    {
     "name": "stdout",
     "output_type": "stream",
     "text": [
      "Warning: image patches included in topk, but similarity < 0.1! This might unfairly reduce the purity metric because prototype has less than k similar image patches. You could consider reducing k for prototypes set()\n"
     ]
    },
    {
     "name": "stderr",
     "output_type": "stream",
     "text": [
      "\n",
      "Collecting top-k patch coordinates CUB:   0% 0/7 [00:00<?, ?it/s]"
     ]
    },
    {
     "name": "stdout",
     "output_type": "stream",
     "text": [
      "Writing CSV file with top k image patches..\n"
     ]
    },
    {
     "name": "stderr",
     "output_type": "stream",
     "text": [
      "Collecting top-k patch coordinates CUB: 100% 7/7 [00:00<00:00, 114.82it/s]"
     ]
    },
    {
     "name": "stdout",
     "output_type": "stream",
     "text": [
      "Warning: image patches included in topk, but similarity < 0.1! This might unfairly reduce the purity metric because prototype has less than k similar image patches. You could consider reducing k for prototypes set()\n"
     ]
    },
    {
     "name": "stderr",
     "output_type": "stream",
     "text": [
      "\n",
      "Collecting top-k patch coordinates CUB:   0% 0/6 [00:00<?, ?it/s]"
     ]
    },
    {
     "name": "stdout",
     "output_type": "stream",
     "text": [
      "Writing CSV file with top k image patches..\n"
     ]
    },
    {
     "name": "stderr",
     "output_type": "stream",
     "text": [
      "Collecting top-k patch coordinates CUB: 100% 6/6 [00:00<00:00, 120.24it/s]"
     ]
    },
    {
     "name": "stdout",
     "output_type": "stream",
     "text": [
      "Warning: image patches included in topk, but similarity < 0.1! This might unfairly reduce the purity metric because prototype has less than k similar image patches. You could consider reducing k for prototypes set()\n"
     ]
    },
    {
     "name": "stderr",
     "output_type": "stream",
     "text": [
      "\n",
      "Collecting top-k patch coordinates CUB:   0% 0/6 [00:00<?, ?it/s]"
     ]
    },
    {
     "name": "stdout",
     "output_type": "stream",
     "text": [
      "Writing CSV file with top k image patches..\n"
     ]
    },
    {
     "name": "stderr",
     "output_type": "stream",
     "text": [
      "Collecting top-k patch coordinates CUB: 100% 6/6 [00:00<00:00, 176.49it/s]"
     ]
    },
    {
     "name": "stdout",
     "output_type": "stream",
     "text": [
      "Warning: image patches included in topk, but similarity < 0.1! This might unfairly reduce the purity metric because prototype has less than k similar image patches. You could consider reducing k for prototypes set()\n"
     ]
    },
    {
     "name": "stderr",
     "output_type": "stream",
     "text": [
      "\n",
      "Collecting top-k patch coordinates CUB:   0% 0/6 [00:00<?, ?it/s]"
     ]
    },
    {
     "name": "stdout",
     "output_type": "stream",
     "text": [
      "Writing CSV file with top k image patches..\n"
     ]
    },
    {
     "name": "stderr",
     "output_type": "stream",
     "text": [
      "Collecting top-k patch coordinates CUB: 100% 6/6 [00:00<00:00, 333.64it/s]"
     ]
    },
    {
     "name": "stdout",
     "output_type": "stream",
     "text": [
      "Warning: image patches included in topk, but similarity < 0.1! This might unfairly reduce the purity metric because prototype has less than k similar image patches. You could consider reducing k for prototypes set()\n"
     ]
    },
    {
     "name": "stderr",
     "output_type": "stream",
     "text": [
      "\n",
      "Collecting top-k patch coordinates CUB:   0% 0/10 [00:00<?, ?it/s]"
     ]
    },
    {
     "name": "stdout",
     "output_type": "stream",
     "text": [
      "Writing CSV file with top k image patches..\n"
     ]
    },
    {
     "name": "stderr",
     "output_type": "stream",
     "text": [
      "Collecting top-k patch coordinates CUB: 100% 10/10 [00:00<00:00, 72.75it/s]"
     ]
    },
    {
     "name": "stdout",
     "output_type": "stream",
     "text": [
      "Warning: image patches included in topk, but similarity < 0.1! This might unfairly reduce the purity metric because prototype has less than k similar image patches. You could consider reducing k for prototypes set()\n"
     ]
    },
    {
     "name": "stderr",
     "output_type": "stream",
     "text": [
      "\n",
      "Collecting top-k patch coordinates CUB:   0% 0/6 [00:00<?, ?it/s]"
     ]
    },
    {
     "name": "stdout",
     "output_type": "stream",
     "text": [
      "Writing CSV file with top k image patches..\n"
     ]
    },
    {
     "name": "stderr",
     "output_type": "stream",
     "text": [
      "Collecting top-k patch coordinates CUB: 100% 6/6 [00:00<00:00, 326.32it/s]"
     ]
    },
    {
     "name": "stdout",
     "output_type": "stream",
     "text": [
      "Warning: image patches included in topk, but similarity < 0.1! This might unfairly reduce the purity metric because prototype has less than k similar image patches. You could consider reducing k for prototypes set()\n"
     ]
    },
    {
     "name": "stderr",
     "output_type": "stream",
     "text": [
      "\n",
      "Collecting top-k patch coordinates CUB:   0% 0/6 [00:00<?, ?it/s]"
     ]
    },
    {
     "name": "stdout",
     "output_type": "stream",
     "text": [
      "Writing CSV file with top k image patches..\n"
     ]
    },
    {
     "name": "stderr",
     "output_type": "stream",
     "text": [
      "Collecting top-k patch coordinates CUB: 100% 6/6 [00:00<00:00, 332.30it/s]"
     ]
    },
    {
     "name": "stdout",
     "output_type": "stream",
     "text": [
      "Warning: image patches included in topk, but similarity < 0.1! This might unfairly reduce the purity metric because prototype has less than k similar image patches. You could consider reducing k for prototypes set()\n"
     ]
    },
    {
     "name": "stderr",
     "output_type": "stream",
     "text": [
      "\n",
      "Collecting top-k patch coordinates CUB:   0% 0/10 [00:00<?, ?it/s]"
     ]
    },
    {
     "name": "stdout",
     "output_type": "stream",
     "text": [
      "Writing CSV file with top k image patches..\n"
     ]
    },
    {
     "name": "stderr",
     "output_type": "stream",
     "text": [
      "Collecting top-k patch coordinates CUB: 100% 10/10 [00:00<00:00, 54.24it/s]"
     ]
    },
    {
     "name": "stdout",
     "output_type": "stream",
     "text": [
      "Warning: image patches included in topk, but similarity < 0.1! This might unfairly reduce the purity metric because prototype has less than k similar image patches. You could consider reducing k for prototypes set()\n"
     ]
    },
    {
     "name": "stderr",
     "output_type": "stream",
     "text": [
      "\n",
      "Collecting top-k patch coordinates CUB:   0% 0/7 [00:00<?, ?it/s]"
     ]
    },
    {
     "name": "stdout",
     "output_type": "stream",
     "text": [
      "Writing CSV file with top k image patches..\n"
     ]
    },
    {
     "name": "stderr",
     "output_type": "stream",
     "text": [
      "Collecting top-k patch coordinates CUB: 100% 7/7 [00:00<00:00, 126.13it/s]"
     ]
    },
    {
     "name": "stdout",
     "output_type": "stream",
     "text": [
      "Warning: image patches included in topk, but similarity < 0.1! This might unfairly reduce the purity metric because prototype has less than k similar image patches. You could consider reducing k for prototypes set()\n"
     ]
    },
    {
     "name": "stderr",
     "output_type": "stream",
     "text": [
      "\n",
      "Collecting top-k patch coordinates CUB:   0% 0/7 [00:00<?, ?it/s]"
     ]
    },
    {
     "name": "stdout",
     "output_type": "stream",
     "text": [
      "Writing CSV file with top k image patches..\n"
     ]
    },
    {
     "name": "stderr",
     "output_type": "stream",
     "text": [
      "Collecting top-k patch coordinates CUB: 100% 7/7 [00:00<00:00, 177.21it/s]"
     ]
    },
    {
     "name": "stdout",
     "output_type": "stream",
     "text": [
      "Warning: image patches included in topk, but similarity < 0.1! This might unfairly reduce the purity metric because prototype has less than k similar image patches. You could consider reducing k for prototypes set()\n"
     ]
    },
    {
     "name": "stderr",
     "output_type": "stream",
     "text": [
      "\n",
      "Collecting top-k patch coordinates CUB:   0% 0/5 [00:00<?, ?it/s]"
     ]
    },
    {
     "name": "stdout",
     "output_type": "stream",
     "text": [
      "Writing CSV file with top k image patches..\n"
     ]
    },
    {
     "name": "stderr",
     "output_type": "stream",
     "text": [
      "Collecting top-k patch coordinates CUB: 100% 5/5 [00:00<00:00, 212.68it/s]"
     ]
    },
    {
     "name": "stdout",
     "output_type": "stream",
     "text": [
      "Warning: image patches included in topk, but similarity < 0.1! This might unfairly reduce the purity metric because prototype has less than k similar image patches. You could consider reducing k for prototypes set()\n"
     ]
    },
    {
     "name": "stderr",
     "output_type": "stream",
     "text": [
      "\n",
      "Collecting top-k patch coordinates CUB:   0% 0/5 [00:00<?, ?it/s]"
     ]
    },
    {
     "name": "stdout",
     "output_type": "stream",
     "text": [
      "Writing CSV file with top k image patches..\n"
     ]
    },
    {
     "name": "stderr",
     "output_type": "stream",
     "text": [
      "Collecting top-k patch coordinates CUB: 100% 5/5 [00:00<00:00, 213.61it/s]"
     ]
    },
    {
     "name": "stdout",
     "output_type": "stream",
     "text": [
      "Warning: image patches included in topk, but similarity < 0.1! This might unfairly reduce the purity metric because prototype has less than k similar image patches. You could consider reducing k for prototypes set()\n"
     ]
    },
    {
     "name": "stderr",
     "output_type": "stream",
     "text": [
      "\n",
      "Collecting top-k patch coordinates CUB:   0% 0/5 [00:00<?, ?it/s]"
     ]
    },
    {
     "name": "stdout",
     "output_type": "stream",
     "text": [
      "Writing CSV file with top k image patches..\n"
     ]
    },
    {
     "name": "stderr",
     "output_type": "stream",
     "text": [
      "Collecting top-k patch coordinates CUB: 100% 5/5 [00:00<00:00, 321.71it/s]"
     ]
    },
    {
     "name": "stdout",
     "output_type": "stream",
     "text": [
      "Warning: image patches included in topk, but similarity < 0.1! This might unfairly reduce the purity metric because prototype has less than k similar image patches. You could consider reducing k for prototypes set()\n"
     ]
    },
    {
     "name": "stderr",
     "output_type": "stream",
     "text": [
      "\n",
      "Collecting top-k patch coordinates CUB:   0% 0/5 [00:00<?, ?it/s]"
     ]
    },
    {
     "name": "stdout",
     "output_type": "stream",
     "text": [
      "Writing CSV file with top k image patches..\n"
     ]
    },
    {
     "name": "stderr",
     "output_type": "stream",
     "text": [
      "Collecting top-k patch coordinates CUB: 100% 5/5 [00:00<00:00, 320.81it/s]"
     ]
    },
    {
     "name": "stdout",
     "output_type": "stream",
     "text": [
      "Warning: image patches included in topk, but similarity < 0.1! This might unfairly reduce the purity metric because prototype has less than k similar image patches. You could consider reducing k for prototypes set()\n"
     ]
    },
    {
     "name": "stderr",
     "output_type": "stream",
     "text": [
      "\n",
      "Collecting top-k patch coordinates CUB:   0% 0/9 [00:00<?, ?it/s]"
     ]
    },
    {
     "name": "stdout",
     "output_type": "stream",
     "text": [
      "Writing CSV file with top k image patches..\n"
     ]
    },
    {
     "name": "stderr",
     "output_type": "stream",
     "text": [
      "Collecting top-k patch coordinates CUB: 100% 9/9 [00:00<00:00, 43.15it/s]"
     ]
    },
    {
     "name": "stdout",
     "output_type": "stream",
     "text": [
      "Warning: image patches included in topk, but similarity < 0.1! This might unfairly reduce the purity metric because prototype has less than k similar image patches. You could consider reducing k for prototypes set()\n"
     ]
    },
    {
     "name": "stderr",
     "output_type": "stream",
     "text": [
      "\n",
      "Collecting top-k patch coordinates CUB:   0% 0/7 [00:00<?, ?it/s]"
     ]
    },
    {
     "name": "stdout",
     "output_type": "stream",
     "text": [
      "Writing CSV file with top k image patches..\n"
     ]
    },
    {
     "name": "stderr",
     "output_type": "stream",
     "text": [
      "Collecting top-k patch coordinates CUB: 100% 7/7 [00:00<00:00, 140.84it/s]"
     ]
    },
    {
     "name": "stdout",
     "output_type": "stream",
     "text": [
      "Warning: image patches included in topk, but similarity < 0.1! This might unfairly reduce the purity metric because prototype has less than k similar image patches. You could consider reducing k for prototypes set()\n"
     ]
    },
    {
     "name": "stderr",
     "output_type": "stream",
     "text": [
      "\n",
      "Collecting top-k patch coordinates CUB:   0% 0/9 [00:00<?, ?it/s]"
     ]
    },
    {
     "name": "stdout",
     "output_type": "stream",
     "text": [
      "Writing CSV file with top k image patches..\n"
     ]
    },
    {
     "name": "stderr",
     "output_type": "stream",
     "text": [
      "Collecting top-k patch coordinates CUB: 100% 9/9 [00:00<00:00, 137.20it/s]"
     ]
    },
    {
     "name": "stdout",
     "output_type": "stream",
     "text": [
      "Warning: image patches included in topk, but similarity < 0.1! This might unfairly reduce the purity metric because prototype has less than k similar image patches. You could consider reducing k for prototypes set()\n"
     ]
    },
    {
     "name": "stderr",
     "output_type": "stream",
     "text": [
      "\n",
      "Collecting top-k patch coordinates CUB:   0% 0/5 [00:00<?, ?it/s]"
     ]
    },
    {
     "name": "stdout",
     "output_type": "stream",
     "text": [
      "Writing CSV file with top k image patches..\n"
     ]
    },
    {
     "name": "stderr",
     "output_type": "stream",
     "text": [
      "Collecting top-k patch coordinates CUB: 100% 5/5 [00:00<00:00, 209.16it/s]"
     ]
    },
    {
     "name": "stdout",
     "output_type": "stream",
     "text": [
      "Warning: image patches included in topk, but similarity < 0.1! This might unfairly reduce the purity metric because prototype has less than k similar image patches. You could consider reducing k for prototypes set()\n"
     ]
    },
    {
     "name": "stderr",
     "output_type": "stream",
     "text": [
      "\n",
      "Collecting top-k patch coordinates CUB:   0% 0/8 [00:00<?, ?it/s]"
     ]
    },
    {
     "name": "stdout",
     "output_type": "stream",
     "text": [
      "Writing CSV file with top k image patches..\n"
     ]
    },
    {
     "name": "stderr",
     "output_type": "stream",
     "text": [
      "Collecting top-k patch coordinates CUB: 100% 8/8 [00:00<00:00, 82.14it/s]"
     ]
    },
    {
     "name": "stdout",
     "output_type": "stream",
     "text": [
      "Warning: image patches included in topk, but similarity < 0.1! This might unfairly reduce the purity metric because prototype has less than k similar image patches. You could consider reducing k for prototypes set()\n"
     ]
    },
    {
     "name": "stderr",
     "output_type": "stream",
     "text": [
      "\n",
      "Collecting top-k patch coordinates CUB:   0% 0/4 [00:00<?, ?it/s]"
     ]
    },
    {
     "name": "stdout",
     "output_type": "stream",
     "text": [
      "Writing CSV file with top k image patches..\n"
     ]
    },
    {
     "name": "stderr",
     "output_type": "stream",
     "text": [
      "Collecting top-k patch coordinates CUB: 100% 4/4 [00:00<00:00, 308.71it/s]"
     ]
    },
    {
     "name": "stdout",
     "output_type": "stream",
     "text": [
      "Warning: image patches included in topk, but similarity < 0.1! This might unfairly reduce the purity metric because prototype has less than k similar image patches. You could consider reducing k for prototypes set()\n"
     ]
    },
    {
     "name": "stderr",
     "output_type": "stream",
     "text": [
      "\n",
      "Collecting top-k patch coordinates CUB:   0% 0/5 [00:00<?, ?it/s]"
     ]
    },
    {
     "name": "stdout",
     "output_type": "stream",
     "text": [
      "Writing CSV file with top k image patches..\n"
     ]
    },
    {
     "name": "stderr",
     "output_type": "stream",
     "text": [
      "Collecting top-k patch coordinates CUB: 100% 5/5 [00:00<00:00, 159.20it/s]"
     ]
    },
    {
     "name": "stdout",
     "output_type": "stream",
     "text": [
      "Warning: image patches included in topk, but similarity < 0.1! This might unfairly reduce the purity metric because prototype has less than k similar image patches. You could consider reducing k for prototypes set()\n"
     ]
    },
    {
     "name": "stderr",
     "output_type": "stream",
     "text": [
      "\n",
      "Collecting top-k patch coordinates CUB:   0% 0/5 [00:00<?, ?it/s]"
     ]
    },
    {
     "name": "stdout",
     "output_type": "stream",
     "text": [
      "Writing CSV file with top k image patches..\n"
     ]
    },
    {
     "name": "stderr",
     "output_type": "stream",
     "text": [
      "Collecting top-k patch coordinates CUB: 100% 5/5 [00:00<00:00, 324.55it/s]"
     ]
    },
    {
     "name": "stdout",
     "output_type": "stream",
     "text": [
      "Warning: image patches included in topk, but similarity < 0.1! This might unfairly reduce the purity metric because prototype has less than k similar image patches. You could consider reducing k for prototypes set()\n"
     ]
    },
    {
     "name": "stderr",
     "output_type": "stream",
     "text": [
      "\n",
      "Collecting top-k patch coordinates CUB:   0% 0/5 [00:00<?, ?it/s]"
     ]
    },
    {
     "name": "stdout",
     "output_type": "stream",
     "text": [
      "Writing CSV file with top k image patches..\n"
     ]
    },
    {
     "name": "stderr",
     "output_type": "stream",
     "text": [
      "Collecting top-k patch coordinates CUB: 100% 5/5 [00:00<00:00, 325.02it/s]"
     ]
    },
    {
     "name": "stdout",
     "output_type": "stream",
     "text": [
      "Warning: image patches included in topk, but similarity < 0.1! This might unfairly reduce the purity metric because prototype has less than k similar image patches. You could consider reducing k for prototypes set()\n"
     ]
    },
    {
     "name": "stderr",
     "output_type": "stream",
     "text": [
      "\n",
      "Collecting top-k patch coordinates CUB:   0% 0/6 [00:00<?, ?it/s]"
     ]
    },
    {
     "name": "stdout",
     "output_type": "stream",
     "text": [
      "Writing CSV file with top k image patches..\n"
     ]
    },
    {
     "name": "stderr",
     "output_type": "stream",
     "text": [
      "Collecting top-k patch coordinates CUB: 100% 6/6 [00:00<00:00, 334.85it/s]"
     ]
    },
    {
     "name": "stdout",
     "output_type": "stream",
     "text": [
      "Warning: image patches included in topk, but similarity < 0.1! This might unfairly reduce the purity metric because prototype has less than k similar image patches. You could consider reducing k for prototypes set()\n"
     ]
    },
    {
     "name": "stderr",
     "output_type": "stream",
     "text": [
      "\n",
      "Collecting top-k patch coordinates CUB:   0% 0/4 [00:00<?, ?it/s]"
     ]
    },
    {
     "name": "stdout",
     "output_type": "stream",
     "text": [
      "Writing CSV file with top k image patches..\n"
     ]
    },
    {
     "name": "stderr",
     "output_type": "stream",
     "text": [
      "Collecting top-k patch coordinates CUB: 100% 4/4 [00:00<00:00, 304.15it/s]"
     ]
    },
    {
     "name": "stdout",
     "output_type": "stream",
     "text": [
      "Warning: image patches included in topk, but similarity < 0.1! This might unfairly reduce the purity metric because prototype has less than k similar image patches. You could consider reducing k for prototypes set()\n"
     ]
    },
    {
     "name": "stderr",
     "output_type": "stream",
     "text": [
      "\n",
      "Collecting top-k patch coordinates CUB:   0% 0/5 [00:00<?, ?it/s]"
     ]
    },
    {
     "name": "stdout",
     "output_type": "stream",
     "text": [
      "Writing CSV file with top k image patches..\n"
     ]
    },
    {
     "name": "stderr",
     "output_type": "stream",
     "text": [
      "Collecting top-k patch coordinates CUB: 100% 5/5 [00:00<00:00, 326.10it/s]"
     ]
    },
    {
     "name": "stdout",
     "output_type": "stream",
     "text": [
      "Warning: image patches included in topk, but similarity < 0.1! This might unfairly reduce the purity metric because prototype has less than k similar image patches. You could consider reducing k for prototypes set()\n"
     ]
    },
    {
     "name": "stderr",
     "output_type": "stream",
     "text": [
      "\n",
      "Collecting top-k patch coordinates CUB:   0% 0/7 [00:00<?, ?it/s]"
     ]
    },
    {
     "name": "stdout",
     "output_type": "stream",
     "text": [
      "Writing CSV file with top k image patches..\n"
     ]
    },
    {
     "name": "stderr",
     "output_type": "stream",
     "text": [
      "Collecting top-k patch coordinates CUB: 100% 7/7 [00:00<00:00, 55.11it/s]"
     ]
    },
    {
     "name": "stdout",
     "output_type": "stream",
     "text": [
      "Warning: image patches included in topk, but similarity < 0.1! This might unfairly reduce the purity metric because prototype has less than k similar image patches. You could consider reducing k for prototypes {19}\n"
     ]
    },
    {
     "name": "stderr",
     "output_type": "stream",
     "text": [
      "\n",
      "Collecting top-k patch coordinates CUB:   0% 0/6 [00:00<?, ?it/s]"
     ]
    },
    {
     "name": "stdout",
     "output_type": "stream",
     "text": [
      "Writing CSV file with top k image patches..\n"
     ]
    },
    {
     "name": "stderr",
     "output_type": "stream",
     "text": [
      "Collecting top-k patch coordinates CUB: 100% 6/6 [00:00<00:00, 323.88it/s]"
     ]
    },
    {
     "name": "stdout",
     "output_type": "stream",
     "text": [
      "Warning: image patches included in topk, but similarity < 0.1! This might unfairly reduce the purity metric because prototype has less than k similar image patches. You could consider reducing k for prototypes set()\n"
     ]
    },
    {
     "name": "stderr",
     "output_type": "stream",
     "text": [
      "\n",
      "Collecting top-k patch coordinates CUB:   0% 0/6 [00:00<?, ?it/s]"
     ]
    },
    {
     "name": "stdout",
     "output_type": "stream",
     "text": [
      "Writing CSV file with top k image patches..\n"
     ]
    },
    {
     "name": "stderr",
     "output_type": "stream",
     "text": [
      "Collecting top-k patch coordinates CUB: 100% 6/6 [00:00<00:00, 229.06it/s]"
     ]
    },
    {
     "name": "stdout",
     "output_type": "stream",
     "text": [
      "Warning: image patches included in topk, but similarity < 0.1! This might unfairly reduce the purity metric because prototype has less than k similar image patches. You could consider reducing k for prototypes set()\n"
     ]
    },
    {
     "name": "stderr",
     "output_type": "stream",
     "text": [
      "\n",
      "Collecting top-k patch coordinates CUB:   0% 0/4 [00:00<?, ?it/s]"
     ]
    },
    {
     "name": "stdout",
     "output_type": "stream",
     "text": [
      "Writing CSV file with top k image patches..\n"
     ]
    },
    {
     "name": "stderr",
     "output_type": "stream",
     "text": [
      "Collecting top-k patch coordinates CUB: 100% 4/4 [00:00<00:00, 305.00it/s]"
     ]
    },
    {
     "name": "stdout",
     "output_type": "stream",
     "text": [
      "Warning: image patches included in topk, but similarity < 0.1! This might unfairly reduce the purity metric because prototype has less than k similar image patches. You could consider reducing k for prototypes set()\n"
     ]
    },
    {
     "name": "stderr",
     "output_type": "stream",
     "text": [
      "\n",
      "Collecting top-k patch coordinates CUB:   0% 0/5 [00:00<?, ?it/s]"
     ]
    },
    {
     "name": "stdout",
     "output_type": "stream",
     "text": [
      "Writing CSV file with top k image patches..\n"
     ]
    },
    {
     "name": "stderr",
     "output_type": "stream",
     "text": [
      "Collecting top-k patch coordinates CUB: 100% 5/5 [00:00<00:00, 213.24it/s]"
     ]
    },
    {
     "name": "stdout",
     "output_type": "stream",
     "text": [
      "Warning: image patches included in topk, but similarity < 0.1! This might unfairly reduce the purity metric because prototype has less than k similar image patches. You could consider reducing k for prototypes set()\n"
     ]
    },
    {
     "name": "stderr",
     "output_type": "stream",
     "text": [
      "\n",
      "Collecting top-k patch coordinates CUB:   0% 0/6 [00:00<?, ?it/s]"
     ]
    },
    {
     "name": "stdout",
     "output_type": "stream",
     "text": [
      "Writing CSV file with top k image patches..\n"
     ]
    },
    {
     "name": "stderr",
     "output_type": "stream",
     "text": [
      "Collecting top-k patch coordinates CUB: 100% 6/6 [00:00<00:00, 333.89it/s]"
     ]
    },
    {
     "name": "stdout",
     "output_type": "stream",
     "text": [
      "Warning: image patches included in topk, but similarity < 0.1! This might unfairly reduce the purity metric because prototype has less than k similar image patches. You could consider reducing k for prototypes set()\n"
     ]
    },
    {
     "name": "stderr",
     "output_type": "stream",
     "text": [
      "\n",
      "Collecting top-k patch coordinates CUB:   0% 0/5 [00:00<?, ?it/s]"
     ]
    },
    {
     "name": "stdout",
     "output_type": "stream",
     "text": [
      "Writing CSV file with top k image patches..\n"
     ]
    },
    {
     "name": "stderr",
     "output_type": "stream",
     "text": [
      "Collecting top-k patch coordinates CUB: 100% 5/5 [00:00<00:00, 323.26it/s]"
     ]
    },
    {
     "name": "stdout",
     "output_type": "stream",
     "text": [
      "Warning: image patches included in topk, but similarity < 0.1! This might unfairly reduce the purity metric because prototype has less than k similar image patches. You could consider reducing k for prototypes set()\n"
     ]
    },
    {
     "name": "stderr",
     "output_type": "stream",
     "text": [
      "\n",
      "Collecting top-k patch coordinates CUB:   0% 0/6 [00:00<?, ?it/s]"
     ]
    },
    {
     "name": "stdout",
     "output_type": "stream",
     "text": [
      "Writing CSV file with top k image patches..\n"
     ]
    },
    {
     "name": "stderr",
     "output_type": "stream",
     "text": [
      "Collecting top-k patch coordinates CUB: 100% 6/6 [00:00<00:00, 118.42it/s]"
     ]
    },
    {
     "name": "stdout",
     "output_type": "stream",
     "text": [
      "Warning: image patches included in topk, but similarity < 0.1! This might unfairly reduce the purity metric because prototype has less than k similar image patches. You could consider reducing k for prototypes set()\n"
     ]
    },
    {
     "name": "stderr",
     "output_type": "stream",
     "text": [
      "\n",
      "Collecting top-k patch coordinates CUB:   0% 0/5 [00:00<?, ?it/s]"
     ]
    },
    {
     "name": "stdout",
     "output_type": "stream",
     "text": [
      "Writing CSV file with top k image patches..\n"
     ]
    },
    {
     "name": "stderr",
     "output_type": "stream",
     "text": [
      "Collecting top-k patch coordinates CUB: 100% 5/5 [00:00<00:00, 136.82it/s]"
     ]
    },
    {
     "name": "stdout",
     "output_type": "stream",
     "text": [
      "Warning: image patches included in topk, but similarity < 0.1! This might unfairly reduce the purity metric because prototype has less than k similar image patches. You could consider reducing k for prototypes set()\n"
     ]
    },
    {
     "name": "stderr",
     "output_type": "stream",
     "text": [
      "\n",
      "Collecting top-k patch coordinates CUB:   0% 0/6 [00:00<?, ?it/s]"
     ]
    },
    {
     "name": "stdout",
     "output_type": "stream",
     "text": [
      "Writing CSV file with top k image patches..\n"
     ]
    },
    {
     "name": "stderr",
     "output_type": "stream",
     "text": [
      "Collecting top-k patch coordinates CUB: 100% 6/6 [00:00<00:00, 208.13it/s]"
     ]
    },
    {
     "name": "stdout",
     "output_type": "stream",
     "text": [
      "Warning: image patches included in topk, but similarity < 0.1! This might unfairly reduce the purity metric because prototype has less than k similar image patches. You could consider reducing k for prototypes set()\n"
     ]
    },
    {
     "name": "stderr",
     "output_type": "stream",
     "text": [
      "\n",
      "Collecting top-k patch coordinates CUB:   0% 0/8 [00:00<?, ?it/s]"
     ]
    },
    {
     "name": "stdout",
     "output_type": "stream",
     "text": [
      "Writing CSV file with top k image patches..\n"
     ]
    },
    {
     "name": "stderr",
     "output_type": "stream",
     "text": [
      "Collecting top-k patch coordinates CUB: 100% 8/8 [00:00<00:00, 56.17it/s]"
     ]
    },
    {
     "name": "stdout",
     "output_type": "stream",
     "text": [
      "Warning: image patches included in topk, but similarity < 0.1! This might unfairly reduce the purity metric because prototype has less than k similar image patches. You could consider reducing k for prototypes set()\n"
     ]
    },
    {
     "name": "stderr",
     "output_type": "stream",
     "text": [
      "\n",
      "Collecting top-k patch coordinates CUB:   0% 0/5 [00:00<?, ?it/s]"
     ]
    },
    {
     "name": "stdout",
     "output_type": "stream",
     "text": [
      "Writing CSV file with top k image patches..\n"
     ]
    },
    {
     "name": "stderr",
     "output_type": "stream",
     "text": [
      "Collecting top-k patch coordinates CUB: 100% 5/5 [00:00<00:00, 315.03it/s]"
     ]
    },
    {
     "name": "stdout",
     "output_type": "stream",
     "text": [
      "Warning: image patches included in topk, but similarity < 0.1! This might unfairly reduce the purity metric because prototype has less than k similar image patches. You could consider reducing k for prototypes set()\n"
     ]
    },
    {
     "name": "stderr",
     "output_type": "stream",
     "text": [
      "\n",
      "Collecting top-k patch coordinates CUB:   0% 0/7 [00:00<?, ?it/s]"
     ]
    },
    {
     "name": "stdout",
     "output_type": "stream",
     "text": [
      "Writing CSV file with top k image patches..\n"
     ]
    },
    {
     "name": "stderr",
     "output_type": "stream",
     "text": [
      "Collecting top-k patch coordinates CUB: 100% 7/7 [00:00<00:00, 335.18it/s]"
     ]
    },
    {
     "name": "stdout",
     "output_type": "stream",
     "text": [
      "Warning: image patches included in topk, but similarity < 0.1! This might unfairly reduce the purity metric because prototype has less than k similar image patches. You could consider reducing k for prototypes set()\n"
     ]
    },
    {
     "name": "stderr",
     "output_type": "stream",
     "text": [
      "\n",
      "Collecting top-k patch coordinates CUB:   0% 0/7 [00:00<?, ?it/s]"
     ]
    },
    {
     "name": "stdout",
     "output_type": "stream",
     "text": [
      "Writing CSV file with top k image patches..\n"
     ]
    },
    {
     "name": "stderr",
     "output_type": "stream",
     "text": [
      "Collecting top-k patch coordinates CUB: 100% 7/7 [00:00<00:00, 177.63it/s]"
     ]
    },
    {
     "name": "stdout",
     "output_type": "stream",
     "text": [
      "Warning: image patches included in topk, but similarity < 0.1! This might unfairly reduce the purity metric because prototype has less than k similar image patches. You could consider reducing k for prototypes set()\n"
     ]
    },
    {
     "name": "stderr",
     "output_type": "stream",
     "text": [
      "\n",
      "Collecting top-k patch coordinates CUB:   0% 0/5 [00:00<?, ?it/s]"
     ]
    },
    {
     "name": "stdout",
     "output_type": "stream",
     "text": [
      "Writing CSV file with top k image patches..\n"
     ]
    },
    {
     "name": "stderr",
     "output_type": "stream",
     "text": [
      "Collecting top-k patch coordinates CUB: 100% 5/5 [00:00<00:00, 190.81it/s]"
     ]
    },
    {
     "name": "stdout",
     "output_type": "stream",
     "text": [
      "Warning: image patches included in topk, but similarity < 0.1! This might unfairly reduce the purity metric because prototype has less than k similar image patches. You could consider reducing k for prototypes set()\n"
     ]
    },
    {
     "name": "stderr",
     "output_type": "stream",
     "text": [
      "\n",
      "Collecting top-k patch coordinates CUB:   0% 0/6 [00:00<?, ?it/s]"
     ]
    },
    {
     "name": "stdout",
     "output_type": "stream",
     "text": [
      "Writing CSV file with top k image patches..\n"
     ]
    },
    {
     "name": "stderr",
     "output_type": "stream",
     "text": [
      "Collecting top-k patch coordinates CUB: 100% 6/6 [00:00<00:00, 328.75it/s]"
     ]
    },
    {
     "name": "stdout",
     "output_type": "stream",
     "text": [
      "Warning: image patches included in topk, but similarity < 0.1! This might unfairly reduce the purity metric because prototype has less than k similar image patches. You could consider reducing k for prototypes set()\n"
     ]
    },
    {
     "name": "stderr",
     "output_type": "stream",
     "text": [
      "\n",
      "Collecting top-k patch coordinates CUB:   0% 0/10 [00:00<?, ?it/s]"
     ]
    },
    {
     "name": "stdout",
     "output_type": "stream",
     "text": [
      "Writing CSV file with top k image patches..\n"
     ]
    },
    {
     "name": "stderr",
     "output_type": "stream",
     "text": [
      "Collecting top-k patch coordinates CUB: 100% 10/10 [00:00<00:00, 105.86it/s]"
     ]
    },
    {
     "name": "stdout",
     "output_type": "stream",
     "text": [
      "Warning: image patches included in topk, but similarity < 0.1! This might unfairly reduce the purity metric because prototype has less than k similar image patches. You could consider reducing k for prototypes set()\n"
     ]
    },
    {
     "name": "stderr",
     "output_type": "stream",
     "text": [
      "\n",
      "Collecting top-k patch coordinates CUB:   0% 0/6 [00:00<?, ?it/s]"
     ]
    },
    {
     "name": "stdout",
     "output_type": "stream",
     "text": [
      "Writing CSV file with top k image patches..\n"
     ]
    },
    {
     "name": "stderr",
     "output_type": "stream",
     "text": [
      "Collecting top-k patch coordinates CUB: 100% 6/6 [00:00<00:00, 329.20it/s]"
     ]
    },
    {
     "name": "stdout",
     "output_type": "stream",
     "text": [
      "Warning: image patches included in topk, but similarity < 0.1! This might unfairly reduce the purity metric because prototype has less than k similar image patches. You could consider reducing k for prototypes set()\n"
     ]
    },
    {
     "name": "stderr",
     "output_type": "stream",
     "text": [
      "\n",
      "Collecting top-k patch coordinates CUB:   0% 0/6 [00:00<?, ?it/s]"
     ]
    },
    {
     "name": "stdout",
     "output_type": "stream",
     "text": [
      "Writing CSV file with top k image patches..\n"
     ]
    },
    {
     "name": "stderr",
     "output_type": "stream",
     "text": [
      "Collecting top-k patch coordinates CUB: 100% 6/6 [00:00<00:00, 330.53it/s]"
     ]
    },
    {
     "name": "stdout",
     "output_type": "stream",
     "text": [
      "Warning: image patches included in topk, but similarity < 0.1! This might unfairly reduce the purity metric because prototype has less than k similar image patches. You could consider reducing k for prototypes set()\n"
     ]
    },
    {
     "name": "stderr",
     "output_type": "stream",
     "text": [
      "\n",
      "Collecting top-k patch coordinates CUB:   0% 0/4 [00:00<?, ?it/s]"
     ]
    },
    {
     "name": "stdout",
     "output_type": "stream",
     "text": [
      "Writing CSV file with top k image patches..\n"
     ]
    },
    {
     "name": "stderr",
     "output_type": "stream",
     "text": [
      "Collecting top-k patch coordinates CUB: 100% 4/4 [00:00<00:00, 318.58it/s]"
     ]
    },
    {
     "name": "stdout",
     "output_type": "stream",
     "text": [
      "Warning: image patches included in topk, but similarity < 0.1! This might unfairly reduce the purity metric because prototype has less than k similar image patches. You could consider reducing k for prototypes set()\n"
     ]
    },
    {
     "name": "stderr",
     "output_type": "stream",
     "text": [
      "\n",
      "Collecting top-k patch coordinates CUB:   0% 0/8 [00:00<?, ?it/s]"
     ]
    },
    {
     "name": "stdout",
     "output_type": "stream",
     "text": [
      "Writing CSV file with top k image patches..\n"
     ]
    },
    {
     "name": "stderr",
     "output_type": "stream",
     "text": [
      "Collecting top-k patch coordinates CUB: 100% 8/8 [00:00<00:00, 138.84it/s]"
     ]
    },
    {
     "name": "stdout",
     "output_type": "stream",
     "text": [
      "Warning: image patches included in topk, but similarity < 0.1! This might unfairly reduce the purity metric because prototype has less than k similar image patches. You could consider reducing k for prototypes set()\n"
     ]
    },
    {
     "name": "stderr",
     "output_type": "stream",
     "text": [
      "\n",
      "Collecting top-k patch coordinates CUB:   0% 0/7 [00:00<?, ?it/s]"
     ]
    },
    {
     "name": "stdout",
     "output_type": "stream",
     "text": [
      "Writing CSV file with top k image patches..\n"
     ]
    },
    {
     "name": "stderr",
     "output_type": "stream",
     "text": [
      "Collecting top-k patch coordinates CUB: 100% 7/7 [00:00<00:00, 268.67it/s]"
     ]
    },
    {
     "name": "stdout",
     "output_type": "stream",
     "text": [
      "Warning: image patches included in topk, but similarity < 0.1! This might unfairly reduce the purity metric because prototype has less than k similar image patches. You could consider reducing k for prototypes set()\n"
     ]
    },
    {
     "name": "stderr",
     "output_type": "stream",
     "text": [
      "\n",
      "Collecting top-k patch coordinates CUB:   0% 0/5 [00:00<?, ?it/s]"
     ]
    },
    {
     "name": "stdout",
     "output_type": "stream",
     "text": [
      "Writing CSV file with top k image patches..\n"
     ]
    },
    {
     "name": "stderr",
     "output_type": "stream",
     "text": [
      "Collecting top-k patch coordinates CUB: 100% 5/5 [00:00<00:00, 212.83it/s]"
     ]
    },
    {
     "name": "stdout",
     "output_type": "stream",
     "text": [
      "Warning: image patches included in topk, but similarity < 0.1! This might unfairly reduce the purity metric because prototype has less than k similar image patches. You could consider reducing k for prototypes set()\n"
     ]
    },
    {
     "name": "stderr",
     "output_type": "stream",
     "text": [
      "\n",
      "Collecting top-k patch coordinates CUB:   0% 0/5 [00:00<?, ?it/s]"
     ]
    },
    {
     "name": "stdout",
     "output_type": "stream",
     "text": [
      "Writing CSV file with top k image patches..\n"
     ]
    },
    {
     "name": "stderr",
     "output_type": "stream",
     "text": [
      "Collecting top-k patch coordinates CUB: 100% 5/5 [00:00<00:00, 317.18it/s]"
     ]
    },
    {
     "name": "stdout",
     "output_type": "stream",
     "text": [
      "Warning: image patches included in topk, but similarity < 0.1! This might unfairly reduce the purity metric because prototype has less than k similar image patches. You could consider reducing k for prototypes set()\n"
     ]
    },
    {
     "name": "stderr",
     "output_type": "stream",
     "text": [
      "\n",
      "Collecting top-k patch coordinates CUB:   0% 0/6 [00:00<?, ?it/s]"
     ]
    },
    {
     "name": "stdout",
     "output_type": "stream",
     "text": [
      "Writing CSV file with top k image patches..\n"
     ]
    },
    {
     "name": "stderr",
     "output_type": "stream",
     "text": [
      "Collecting top-k patch coordinates CUB: 100% 6/6 [00:00<00:00, 329.24it/s]"
     ]
    },
    {
     "name": "stdout",
     "output_type": "stream",
     "text": [
      "Warning: image patches included in topk, but similarity < 0.1! This might unfairly reduce the purity metric because prototype has less than k similar image patches. You could consider reducing k for prototypes set()\n"
     ]
    },
    {
     "name": "stderr",
     "output_type": "stream",
     "text": [
      "\n",
      "Collecting top-k patch coordinates CUB:   0% 0/4 [00:00<?, ?it/s]"
     ]
    },
    {
     "name": "stdout",
     "output_type": "stream",
     "text": [
      "Writing CSV file with top k image patches..\n"
     ]
    },
    {
     "name": "stderr",
     "output_type": "stream",
     "text": [
      "Collecting top-k patch coordinates CUB: 100% 4/4 [00:00<00:00, 318.08it/s]\n"
     ]
    },
    {
     "name": "stdout",
     "output_type": "stream",
     "text": [
      "Warning: image patches included in topk, but similarity < 0.1! This might unfairly reduce the purity metric because prototype has less than k similar image patches. You could consider reducing k for prototypes set()\n"
     ]
    }
   ],
   "source": [
    "import torch.nn.functional as F\n",
    "import copy\n",
    "\n",
    "masked_net = copy.deepcopy(net)\n",
    "\n",
    "with torch.no_grad():\n",
    "    for node in root.nodes_with_children():\n",
    "        classification_weights = getattr(masked_net.module, '_'+node.name+'_classification').weight\n",
    "        proto_presence = getattr(masked_net.module, '_'+node.name+'_proto_presence')\n",
    "        proto_presence = F.gumbel_softmax(proto_presence, tau=0.5, hard=True, dim=-1)\n",
    "        masked_classification_weights = proto_presence[:, 1].unsqueeze(0) * classification_weights\n",
    "        getattr(masked_net.module, '_'+node.name+'_classification').weight = torch.nn.Parameter(masked_classification_weights)\n",
    "\n",
    "list_csvfile_topk, list_node_wise_df, dict_node_wise_df = get_topk_cub_nodewise(masked_net, root, maindataloader, \\\n",
    "                                                                                 TOPK, 'postmasking_projectloader_'+str(epoch), device, args)"
   ]
  },
  {
   "cell_type": "code",
   "execution_count": 19,
   "id": "7dab9247-d648-4139-a994-5862571c24aa",
   "metadata": {},
   "outputs": [],
   "source": [
    "# # with torch.no_grad():\n",
    "# #     for node in root.nodes_with_children():\n",
    "# #         net.module._root_proto_presence\n",
    "# #         proto_presence = getattr(net.module, '_'+node.name+'_proto_presence')\n",
    "# #         reversed_proto_presence = torch.cat([proto_presence[:, 1].unsqueeze(-1), proto_presence[:, 0].unsqueeze(-1)], dim=-1)\n",
    "# #         setattr(net.module, '_'+node.name+'_proto_presence', \\\n",
    "# #                 nn.Parameter(reversed_proto_presence))\n",
    "\n",
    "# import torch.nn.functional as F\n",
    "\n",
    "# with torch.no_grad():\n",
    "#     for node in root.nodes_with_children():\n",
    "#         classification_weights = getattr(net.module, '_'+node.name+'_classification').weight\n",
    "#         proto_presence = getattr(net.module, '_'+node.name+'_proto_presence')\n",
    "#         proto_presence = F.gumbel_softmax(proto_presence, tau=0.5, hard=True, dim=-1)\n",
    "#         masked_classification_weights = proto_presence[:, 1].unsqueeze(0) * classification_weights\n",
    "#         getattr(net.module, '_'+node.name+'_classification').weight = torch.nn.Parameter(masked_classification_weights)\n",
    "\n",
    "# list_csvfile_topk = []\n",
    "# list_node_wise_df = []\n",
    "# dict_node_wise_df = {}\n",
    "# for node in root.nodes_with_children():\n",
    "#     node_wise_df, csvfile_topk = get_topk_cub_nodewise(net, node, projectloader, \\\n",
    "#                                          10, 'projectloader_'+str(epoch), device, args)\n",
    "#     list_node_wise_df.append(node_wise_df)\n",
    "#     dict_node_wise_df[node.name] = node_wise_df\n",
    "#     list_csvfile_topk.append(csvfile_topk)\n"
   ]
  },
  {
   "cell_type": "code",
   "execution_count": 20,
   "id": "c78d07d9-c2da-410c-af9e-fa634cb4df68",
   "metadata": {},
   "outputs": [
    {
     "name": "stdout",
     "output_type": "stream",
     "text": [
      "Number of prototypes in parts_presences:  2\n",
      "Part-related (purity>0.5): 1\n",
      "Node: root | Child: 089+046 | Purity: 0.35 | Num desc: 4 | Num protos: 2\n",
      "\tProto: 16 0.1\n",
      "\tProto: 14 0.6\n",
      "Number of prototypes in parts_presences:  1\n",
      "Part-related (purity>0.5): 1\n",
      "Node: 129+024+067 | Child: 067+070 | Purity: 0.7 | Num desc: 4 | Num protos: 1\n",
      "\tProto: 18 0.7\n",
      "Number of prototypes in parts_presences:  7\n",
      "Part-related (purity>0.5): 7\n",
      "Node: 089+046 | Child: 046+087 | Purity: 0.95 | Num desc: 2 | Num protos: 4\n",
      "\tProto: 15 0.9\n",
      "\tProto: 19 1.0\n",
      "\tProto: 10 0.9\n",
      "\tProto: 14 1.0\n",
      "Node: 089+046 | Child: 089+090 | Purity: 0.8000000000000002 | Num desc: 2 | Num protos: 3\n",
      "\tProto: 8 0.9\n",
      "\tProto: 9 0.8\n",
      "\tProto: 4 0.7\n",
      "Number of prototypes in parts_presences:  0\n",
      "Part-related (purity>0.5): 0\n"
     ]
    },
    {
     "name": "stderr",
     "output_type": "stream",
     "text": [
      "/home/harishbabu/.conda/envs/hpnet4/lib/python3.9/site-packages/numpy/core/fromnumeric.py:3504: RuntimeWarning: Mean of empty slice.\n",
      "  return _methods._mean(a, axis=axis, dtype=dtype,\n",
      "/home/harishbabu/.conda/envs/hpnet4/lib/python3.9/site-packages/numpy/core/_methods.py:129: RuntimeWarning: invalid value encountered in scalar divide\n",
      "  ret = ret.dtype.type(ret / rcount)\n"
     ]
    },
    {
     "name": "stdout",
     "output_type": "stream",
     "text": [
      "Number of prototypes in parts_presences:  4\n",
      "Part-related (purity>0.5): 4\n",
      "Node: 024+051 | Child: 051+052 | Purity: 0.875 | Num desc: 4 | Num protos: 4\n",
      "\tProto: 17 0.9\n",
      "\tProto: 19 0.8\n",
      "\tProto: 13 0.9\n",
      "\tProto: 10 0.9\n",
      "Number of prototypes in parts_presences:  7\n",
      "Part-related (purity>0.5): 7\n",
      "Node: 067+070 | Child: 067+068 | Purity: 0.8400000000000001 | Num desc: 3 | Num protos: 5\n",
      "\tProto: 7 0.8\n",
      "\tProto: 8 0.9\n",
      "\tProto: 3 0.8\n",
      "\tProto: 4 0.9\n",
      "\tProto: 6 0.8\n",
      "Node: 067+070 | Child: cub_070_Green_Violetear | Purity: 1.0 | Num desc: 1 | Num protos: 2\n",
      "\tProto: 12 1.0\n",
      "\tProto: 14 1.0\n",
      "Number of prototypes in parts_presences:  5\n",
      "Part-related (purity>0.5): 5\n",
      "Node: 089+090 | Child: cub_089_Hooded_Merganser | Purity: 0.95 | Num desc: 1 | Num protos: 2\n",
      "\tProto: 3 1.0\n",
      "\tProto: 2 0.9\n",
      "Node: 089+090 | Child: cub_090_Red_breasted_Merganser | Purity: 1.0 | Num desc: 1 | Num protos: 3\n",
      "\tProto: 19 1.0\n",
      "\tProto: 10 1.0\n",
      "\tProto: 14 1.0\n",
      "Number of prototypes in parts_presences:  4\n",
      "Part-related (purity>0.5): 4\n",
      "Node: 046+087 | Child: cub_046_Gadwall | Purity: 0.95 | Num desc: 1 | Num protos: 2\n",
      "\tProto: 9 1.0\n",
      "\tProto: 2 0.9\n",
      "Node: 046+087 | Child: cub_087_Mallard | Purity: 0.9 | Num desc: 1 | Num protos: 2\n",
      "\tProto: 12 0.8\n",
      "\tProto: 18 1.0\n",
      "Number of prototypes in parts_presences:  0\n",
      "Part-related (purity>0.5): 0\n",
      "Number of prototypes in parts_presences:  2\n",
      "Part-related (purity>0.5): 0\n",
      "Node: 065+006 | Child: 006+071 | Purity: 0.25 | Num desc: 8 | Num protos: 2\n",
      "\tProto: 19 0.1\n",
      "\tProto: 14 0.4\n",
      "Number of prototypes in parts_presences:  7\n",
      "Part-related (purity>0.5): 4\n",
      "Node: 024+031 | Child: 024+086 | Purity: 0.5333333333333333 | Num desc: 10 | Num protos: 3\n",
      "\tProto: 3 0.5\n",
      "\tProto: 5 0.5\n",
      "\tProto: 7 0.6\n",
      "Node: 024+031 | Child: 031+004 | Purity: 0.575 | Num desc: 4 | Num protos: 4\n",
      "\tProto: 15 0.0\n",
      "\tProto: 13 0.8\n",
      "\tProto: 10 0.6\n",
      "\tProto: 14 0.9\n",
      "Number of prototypes in parts_presences:  7\n",
      "Part-related (purity>0.5): 7\n",
      "Node: 051+052 | Child: 051+053 | Purity: 0.85 | Num desc: 3 | Num protos: 4\n",
      "\tProto: 9 0.7\n",
      "\tProto: 2 0.9\n",
      "\tProto: 5 0.9\n",
      "\tProto: 7 0.9\n",
      "Node: 051+052 | Child: cub_052_Pied_billed_Grebe | Purity: 0.8333333333333334 | Num desc: 1 | Num protos: 3\n",
      "\tProto: 17 0.9\n",
      "\tProto: 10 0.9\n",
      "\tProto: 16 0.7\n",
      "Number of prototypes in parts_presences:  6\n",
      "Part-related (purity>0.5): 6\n",
      "Node: 067+068 | Child: 067+069 | Purity: 0.7499999999999999 | Num desc: 2 | Num protos: 4\n",
      "\tProto: 5 0.6\n",
      "\tProto: 6 0.8\n",
      "\tProto: 8 0.7\n",
      "\tProto: 4 0.9\n",
      "Node: 067+068 | Child: cub_068_Ruby_throated_Hummingbird | Purity: 1.0 | Num desc: 1 | Num protos: 2\n",
      "\tProto: 10 1.0\n",
      "\tProto: 18 1.0\n",
      "Number of prototypes in parts_presences:  0\n",
      "Part-related (purity>0.5): 0\n",
      "Number of prototypes in parts_presences:  10\n",
      "Part-related (purity>0.5): 6\n",
      "Node: 192+081 | Child: 192+036 | Purity: 0.7777777777777778 | Num desc: 7 | Num protos: 5\n",
      "\tProto: 9 0.9\n",
      "\tProto: 7 0.9\n",
      "\tProto: 8 0.8\n",
      "\tProto: 3 0.4\n",
      "\tProto: 6 0.8888888888888888\n",
      "Node: 192+081 | Child: 081+083 | Purity: 0.5688888888888889 | Num desc: 5 | Num protos: 5\n",
      "\tProto: 17 0.2\n",
      "\tProto: 15 0.5\n",
      "\tProto: 18 0.8\n",
      "\tProto: 10 0.4444444444444444\n",
      "\tProto: 11 0.9\n",
      "Number of prototypes in parts_presences:  10\n",
      "Part-related (purity>0.5): 8\n",
      "Node: 065+144 | Child: 065+084 | Purity: 0.9472222222222222 | Num desc: 9 | Num protos: 4\n",
      "\tProto: 5 0.9\n",
      "\tProto: 3 0.8888888888888888\n",
      "\tProto: 2 1.0\n",
      "\tProto: 0 1.0\n",
      "Node: 065+144 | Child: 144+147 | Purity: 0.5851851851851851 | Num desc: 7 | Num protos: 6\n",
      "\tProto: 17 0.7\n",
      "\tProto: 18 0.6666666666666666\n",
      "\tProto: 11 0.0\n",
      "\tProto: 10 0.4444444444444444\n",
      "\tProto: 16 0.9\n",
      "\tProto: 14 0.8\n",
      "Number of prototypes in parts_presences:  9\n",
      "Part-related (purity>0.5): 5\n",
      "Node: 006+071 | Child: 006+058 | Purity: 0.6383333333333333 | Num desc: 6 | Num protos: 5\n",
      "\tProto: 9 0.2\n",
      "\tProto: 7 0.6666666666666666\n",
      "\tProto: 4 0.75\n",
      "\tProto: 6 0.7\n",
      "\tProto: 2 0.875\n",
      "Node: 006+071 | Child: 071+072 | Purity: 0.2857142857142857 | Num desc: 2 | Num protos: 4\n",
      "\tProto: 17 0.14285714285714285\n",
      "\tProto: 16 0.0\n",
      "\tProto: 14 1.0\n",
      "\tProto: 11 0.0\n",
      "Number of prototypes in parts_presences:  9\n",
      "Part-related (purity>0.5): 4\n",
      "Node: 024+086 | Child: 024+001 | Purity: 0.52 | Num desc: 9 | Num protos: 5\n",
      "\tProto: 0 0.5\n",
      "\tProto: 7 0.0\n",
      "\tProto: 8 0.8\n",
      "\tProto: 2 0.9\n",
      "\tProto: 5 0.4\n",
      "Node: 024+086 | Child: cub_086_Pacific_Loon | Purity: 0.5357142857142857 | Num desc: 1 | Num protos: 4\n",
      "\tProto: 15 1.0\n",
      "\tProto: 18 1.0\n",
      "\tProto: 10 0.14285714285714285\n",
      "\tProto: 11 0.0\n",
      "Number of prototypes in parts_presences:  7\n",
      "Part-related (purity>0.5): 7\n",
      "Node: 031+004 | Child: cub_004_Groove_billed_Ani | Purity: 0.9 | Num desc: 1 | Num protos: 2\n",
      "\tProto: 15 0.8\n",
      "\tProto: 14 1.0\n",
      "Node: 031+004 | Child: 031+032 | Purity: 0.9149999999999998 | Num desc: 3 | Num protos: 5\n",
      "\tProto: 9 1.0\n",
      "\tProto: 7 1.0\n",
      "\tProto: 8 0.8\n",
      "\tProto: 4 0.9\n",
      "\tProto: 6 0.875\n",
      "Number of prototypes in parts_presences:  5\n",
      "Part-related (purity>0.5): 5\n",
      "Node: 051+053 | Child: 051+050 | Purity: 0.9333333333333332 | Num desc: 2 | Num protos: 3\n",
      "\tProto: 4 1.0\n",
      "\tProto: 2 0.9\n",
      "\tProto: 0 0.9\n",
      "Node: 051+053 | Child: cub_053_Western_Grebe | Purity: 1.0 | Num desc: 1 | Num protos: 2\n",
      "\tProto: 17 1.0\n",
      "\tProto: 13 1.0\n",
      "Number of prototypes in parts_presences:  5\n",
      "Part-related (purity>0.5): 5\n",
      "Node: 067+069 | Child: cub_067_Anna_Hummingbird | Purity: 0.8306878306878307 | Num desc: 1 | Num protos: 3\n",
      "\tProto: 1 1.0\n",
      "\tProto: 3 0.7777777777777778\n",
      "\tProto: 4 0.7142857142857143\n",
      "Node: 067+069 | Child: cub_069_Rufous_Hummingbird | Purity: 0.7569444444444444 | Num desc: 1 | Num protos: 2\n",
      "\tProto: 13 0.8888888888888888\n",
      "\tProto: 18 0.625\n",
      "Number of prototypes in parts_presences:  4\n",
      "Part-related (purity>0.5): 1\n",
      "Node: 129+018 | Child: cub_018_Spotted_Catbird | Purity: 0.3305555555555556 | Num desc: 1 | Num protos: 4\n",
      "\tProto: 17 1.0\n",
      "\tProto: 15 0.1111111111111111\n",
      "\tProto: 10 0.1\n",
      "\tProto: 14 0.1111111111111111\n",
      "Number of prototypes in parts_presences:  8\n",
      "Part-related (purity>0.5): 6\n",
      "Node: 043+078 | Child: 043+042 | Purity: 0.5416666666666667 | Num desc: 6 | Num protos: 4\n",
      "\tProto: 6 0.1\n",
      "\tProto: 3 0.6666666666666666\n",
      "\tProto: 4 0.6\n",
      "\tProto: 9 0.8\n",
      "Node: 043+078 | Child: 078+038 | Purity: 0.7166666666666667 | Num desc: 4 | Num protos: 4\n",
      "\tProto: 14 0.8\n",
      "\tProto: 12 0.9\n",
      "\tProto: 13 0.5\n",
      "\tProto: 11 0.6666666666666666\n",
      "Number of prototypes in parts_presences:  9\n",
      "Part-related (purity>0.5): 9\n",
      "Node: 192+036 | Child: 036+188 | Purity: 0.875 | Num desc: 2 | Num protos: 4\n",
      "\tProto: 15 0.8\n",
      "\tProto: 16 0.9\n",
      "\tProto: 10 0.9\n",
      "\tProto: 11 0.9\n",
      "Node: 192+036 | Child: 192+191 | Purity: 0.9199999999999999 | Num desc: 5 | Num protos: 5\n",
      "\tProto: 0 0.9\n",
      "\tProto: 8 1.0\n",
      "\tProto: 3 1.0\n",
      "\tProto: 4 0.7\n",
      "\tProto: 5 1.0\n",
      "Number of prototypes in parts_presences:  7\n",
      "Part-related (purity>0.5): 6\n",
      "Node: 081+083 | Child: 081+082 | Purity: 0.64 | Num desc: 4 | Num protos: 5\n",
      "\tProto: 0 0.8\n",
      "\tProto: 8 0.0\n",
      "\tProto: 3 0.8\n",
      "\tProto: 4 0.9\n",
      "\tProto: 5 0.7\n",
      "Node: 081+083 | Child: cub_083_White_breasted_Kingfisher | Purity: 0.85 | Num desc: 1 | Num protos: 2\n",
      "\tProto: 18 0.7\n",
      "\tProto: 11 1.0\n",
      "Number of prototypes in parts_presences:  7\n",
      "Part-related (purity>0.5): 6\n",
      "Node: 065+084 | Child: 065+061 | Purity: 0.7933333333333332 | Num desc: 7 | Num protos: 5\n",
      "\tProto: 0 0.8888888888888888\n",
      "\tProto: 1 0.5\n",
      "\tProto: 4 0.9\n",
      "\tProto: 2 0.9\n",
      "\tProto: 5 0.7777777777777778\n",
      "Node: 065+084 | Child: 084+063 | Purity: 0.7875 | Num desc: 2 | Num protos: 2\n",
      "\tProto: 15 0.7\n",
      "\tProto: 19 0.875\n",
      "Number of prototypes in parts_presences:  10\n",
      "Part-related (purity>0.5): 8\n",
      "Node: 144+147 | Child: 144+143 | Purity: 0.6537037037037038 | Num desc: 6 | Num protos: 6\n",
      "\tProto: 9 0.8\n",
      "\tProto: 0 0.9\n",
      "\tProto: 7 0.2222222222222222\n",
      "\tProto: 1 0.8\n",
      "\tProto: 6 0.4\n",
      "\tProto: 2 0.8\n",
      "Node: 144+147 | Child: cub_147_Least_Tern | Purity: 0.8916666666666666 | Num desc: 1 | Num protos: 4\n",
      "\tProto: 17 0.9\n",
      "\tProto: 15 0.6666666666666666\n",
      "\tProto: 19 1.0\n",
      "\tProto: 14 1.0\n",
      "Number of prototypes in parts_presences:  10\n",
      "Part-related (purity>0.5): 7\n",
      "Node: 006+058 | Child: 006+008 | Purity: 0.5046296296296297 | Num desc: 5 | Num protos: 6\n",
      "\tProto: 0 0.2\n",
      "\tProto: 7 0.5\n",
      "\tProto: 8 0.7777777777777778\n",
      "\tProto: 3 0.1\n",
      "\tProto: 6 0.7\n",
      "\tProto: 5 0.75\n",
      "Node: 006+058 | Child: cub_058_Pigeon_Guillemot | Purity: 0.825 | Num desc: 1 | Num protos: 4\n",
      "\tProto: 17 0.7\n",
      "\tProto: 16 0.8\n",
      "\tProto: 14 1.0\n",
      "\tProto: 11 0.8\n",
      "Number of prototypes in parts_presences:  5\n",
      "Part-related (purity>0.5): 5\n",
      "Node: 071+072 | Child: cub_071_Long_tailed_Jaeger | Purity: 0.8518518518518517 | Num desc: 1 | Num protos: 3\n",
      "\tProto: 9 0.8888888888888888\n",
      "\tProto: 1 1.0\n",
      "\tProto: 4 0.6666666666666666\n",
      "Node: 071+072 | Child: cub_072_Pomarine_Jaeger | Purity: 1.0 | Num desc: 1 | Num protos: 2\n",
      "\tProto: 19 1.0\n",
      "\tProto: 13 1.0\n",
      "Number of prototypes in parts_presences:  8\n",
      "Part-related (purity>0.5): 6\n",
      "Node: 024+001 | Child: 001+045 | Purity: 0.9 | Num desc: 4 | Num protos: 3\n",
      "\tProto: 15 0.9\n",
      "\tProto: 12 0.8\n",
      "\tProto: 19 1.0\n",
      "Node: 024+001 | Child: 024+100 | Purity: 0.5444444444444445 | Num desc: 5 | Num protos: 5\n",
      "\tProto: 7 0.7\n",
      "\tProto: 8 0.8\n",
      "\tProto: 4 0.2222222222222222\n",
      "\tProto: 2 0.0\n",
      "\tProto: 5 1.0\n",
      "Number of prototypes in parts_presences:  4\n",
      "Part-related (purity>0.5): 4\n",
      "Node: 031+032 | Child: 031+033 | Purity: 0.7 | Num desc: 2 | Num protos: 2\n",
      "\tProto: 3 0.8\n",
      "\tProto: 5 0.6\n",
      "Node: 031+032 | Child: cub_032_Mangrove_Cuckoo | Purity: 0.8 | Num desc: 1 | Num protos: 2\n",
      "\tProto: 12 1.0\n",
      "\tProto: 16 0.6\n",
      "Number of prototypes in parts_presences:  6\n",
      "Part-related (purity>0.5): 6\n",
      "Node: 051+050 | Child: cub_050_Eared_Grebe | Purity: 1.0 | Num desc: 1 | Num protos: 3\n",
      "\tProto: 14 1.0\n",
      "\tProto: 18 1.0\n",
      "\tProto: 11 1.0\n",
      "Node: 051+050 | Child: cub_051_Horned_Grebe | Purity: 1.0 | Num desc: 1 | Num protos: 3\n",
      "\tProto: 5 1.0\n",
      "\tProto: 0 1.0\n",
      "\tProto: 7 1.0\n",
      "Number of prototypes in parts_presences:  0\n",
      "Part-related (purity>0.5): 0\n",
      "Number of prototypes in parts_presences:  7\n",
      "Part-related (purity>0.5): 6\n",
      "Node: 043+042 | Child: 043+040 | Purity: 0.68 | Num desc: 5 | Num protos: 5\n",
      "\tProto: 9 0.5\n",
      "\tProto: 0 0.7\n",
      "\tProto: 7 0.9\n",
      "\tProto: 3 0.6\n",
      "\tProto: 6 0.7\n",
      "Node: 043+042 | Child: cub_042_Vermilion_Flycatcher | Purity: 0.85 | Num desc: 1 | Num protos: 2\n",
      "\tProto: 15 1.0\n",
      "\tProto: 12 0.7\n",
      "Number of prototypes in parts_presences:  6\n",
      "Part-related (purity>0.5): 6\n",
      "Node: 078+038 | Child: cub_038_Great_Crested_Flycatcher | Purity: 0.95 | Num desc: 1 | Num protos: 2\n",
      "\tProto: 19 0.9\n",
      "\tProto: 13 1.0\n",
      "Node: 078+038 | Child: 078+041 | Purity: 0.9249999999999999 | Num desc: 3 | Num protos: 4\n",
      "\tProto: 6 1.0\n",
      "\tProto: 3 0.8\n",
      "\tProto: 9 1.0\n",
      "\tProto: 7 0.9\n",
      "Number of prototypes in parts_presences:  7\n",
      "Part-related (purity>0.5): 6\n",
      "Node: 192+191 | Child: 192+187 | Purity: 0.7861111111111111 | Num desc: 3 | Num protos: 4\n",
      "\tProto: 9 0.4444444444444444\n",
      "\tProto: 1 0.8\n",
      "\tProto: 5 1.0\n",
      "\tProto: 7 0.9\n",
      "Node: 192+191 | Child: 191+189 | Purity: 0.7999999999999999 | Num desc: 2 | Num protos: 3\n",
      "\tProto: 17 0.8\n",
      "\tProto: 10 0.7\n",
      "\tProto: 11 0.9\n",
      "Number of prototypes in parts_presences:  5\n",
      "Part-related (purity>0.5): 5\n",
      "Node: 036+188 | Child: cub_036_Northern_Flicker | Purity: 0.75 | Num desc: 1 | Num protos: 2\n",
      "\tProto: 9 0.6\n",
      "\tProto: 2 0.9\n",
      "Node: 036+188 | Child: cub_188_Pileated_Woodpecker | Purity: 0.8333333333333334 | Num desc: 1 | Num protos: 3\n",
      "\tProto: 14 0.7\n",
      "\tProto: 12 1.0\n",
      "\tProto: 11 0.8\n",
      "Number of prototypes in parts_presences:  6\n",
      "Part-related (purity>0.5): 5\n",
      "Node: 081+082 | Child: 082+079 | Purity: 0.8333333333333334 | Num desc: 2 | Num protos: 3\n",
      "\tProto: 15 1.0\n",
      "\tProto: 12 0.9\n",
      "\tProto: 19 0.6\n",
      "Node: 081+082 | Child: 081+080 | Purity: 0.6666666666666666 | Num desc: 2 | Num protos: 3\n",
      "\tProto: 8 0.8\n",
      "\tProto: 0 0.5\n",
      "\tProto: 7 0.7\n",
      "Number of prototypes in parts_presences:  8\n",
      "Part-related (purity>0.5): 6\n",
      "Node: 065+061 | Child: 065+066 | Purity: 0.8105555555555555 | Num desc: 5 | Num protos: 5\n",
      "\tProto: 9 0.7777777777777778\n",
      "\tProto: 0 0.5\n",
      "\tProto: 1 0.9\n",
      "\tProto: 4 1.0\n",
      "\tProto: 2 0.875\n",
      "Node: 065+061 | Child: 061+064 | Purity: 0.6333333333333333 | Num desc: 2 | Num protos: 3\n",
      "\tProto: 19 0.7\n",
      "\tProto: 18 0.3\n",
      "\tProto: 16 0.9\n",
      "Number of prototypes in parts_presences:  4\n",
      "Part-related (purity>0.5): 1\n",
      "Node: 084+063 | Child: cub_063_Ivory_Gull | Purity: 0.5 | Num desc: 1 | Num protos: 2\n",
      "\tProto: 17 1.0\n",
      "\tProto: 10 0.0\n",
      "Node: 084+063 | Child: cub_084_Red_legged_Kittiwake | Purity: 0.05 | Num desc: 1 | Num protos: 2\n",
      "\tProto: 8 0.0\n",
      "\tProto: 4 0.1\n",
      "Number of prototypes in parts_presences:  7\n",
      "Part-related (purity>0.5): 3\n",
      "Node: 144+143 | Child: 144+142 | Purity: 0.2 | Num desc: 5 | Num protos: 4\n",
      "\tProto: 8 0.0\n",
      "\tProto: 2 0.0\n",
      "\tProto: 5 0.8\n",
      "\tProto: 7 0.0\n",
      "Node: 144+143 | Child: cub_143_Caspian_Tern | Purity: 0.75 | Num desc: 1 | Num protos: 3\n",
      "\tProto: 13 1.0\n",
      "\tProto: 10 1.0\n",
      "\tProto: 11 0.25\n",
      "Number of prototypes in parts_presences:  8\n",
      "Part-related (purity>0.5): 6\n",
      "Node: 006+008 | Child: 006+005 | Purity: 0.76 | Num desc: 3 | Num protos: 5\n",
      "\tProto: 7 0.8\n",
      "\tProto: 3 0.8\n",
      "\tProto: 4 0.6\n",
      "\tProto: 2 0.9\n",
      "\tProto: 5 0.7\n",
      "Node: 006+008 | Child: 008+106 | Purity: 0.5925925925925926 | Num desc: 2 | Num protos: 3\n",
      "\tProto: 15 0.7777777777777778\n",
      "\tProto: 19 0.5\n",
      "\tProto: 16 0.5\n",
      "Number of prototypes in parts_presences:  8\n",
      "Part-related (purity>0.5): 7\n",
      "Node: 024+100 | Child: 024+023 | Purity: 0.74 | Num desc: 3 | Num protos: 5\n",
      "\tProto: 9 0.6\n",
      "\tProto: 0 0.4\n",
      "\tProto: 7 1.0\n",
      "\tProto: 4 0.7\n",
      "\tProto: 5 1.0\n",
      "Node: 024+100 | Child: 100+101 | Purity: 0.7999999999999999 | Num desc: 2 | Num protos: 3\n",
      "\tProto: 17 0.9\n",
      "\tProto: 16 0.6\n",
      "\tProto: 11 0.9\n",
      "Number of prototypes in parts_presences:  6\n",
      "Part-related (purity>0.5): 6\n",
      "Node: 001+045 | Child: 001+003 | Purity: 0.825 | Num desc: 3 | Num protos: 4\n",
      "\tProto: 9 0.9\n",
      "\tProto: 1 0.8\n",
      "\tProto: 2 0.8\n",
      "\tProto: 5 0.8\n",
      "Node: 001+045 | Child: cub_045_Northern_Fulmar | Purity: 0.95 | Num desc: 1 | Num protos: 2\n",
      "\tProto: 10 0.9\n",
      "\tProto: 18 1.0\n",
      "Number of prototypes in parts_presences:  5\n",
      "Part-related (purity>0.5): 5\n",
      "Node: 031+033 | Child: cub_031_Black_billed_Cuckoo | Purity: 0.9666666666666667 | Num desc: 1 | Num protos: 3\n",
      "\tProto: 1 0.9\n",
      "\tProto: 2 1.0\n",
      "\tProto: 0 1.0\n",
      "Node: 031+033 | Child: cub_033_Yellow_billed_Cuckoo | Purity: 1.0 | Num desc: 1 | Num protos: 2\n",
      "\tProto: 17 1.0\n",
      "\tProto: 11 1.0\n",
      "Number of prototypes in parts_presences:  1\n",
      "Part-related (purity>0.5): 1\n",
      "Node: 129+136 | Child: 136+085 | Purity: 0.9 | Num desc: 4 | Num protos: 1\n",
      "\tProto: 10 0.9\n",
      "Number of prototypes in parts_presences:  9\n",
      "Part-related (purity>0.5): 7\n",
      "Node: 107+151 | Child: 107+111 | Purity: 0.7755555555555554 | Num desc: 9 | Num protos: 5\n",
      "\tProto: 9 1.0\n",
      "\tProto: 0 0.7777777777777778\n",
      "\tProto: 1 0.8\n",
      "\tProto: 3 0.6\n",
      "\tProto: 2 0.7\n",
      "Node: 107+151 | Child: 151+153 | Purity: 0.4444444444444444 | Num desc: 7 | Num protos: 4\n",
      "\tProto: 17 0.6666666666666666\n",
      "\tProto: 15 0.0\n",
      "\tProto: 12 1.0\n",
      "\tProto: 13 0.1111111111111111\n",
      "Number of prototypes in parts_presences:  8\n",
      "Part-related (purity>0.5): 7\n",
      "Node: 043+040 | Child: 043+037 | Purity: 0.875 | Num desc: 3 | Num protos: 4\n",
      "\tProto: 5 0.9\n",
      "\tProto: 9 1.0\n",
      "\tProto: 8 0.6\n",
      "\tProto: 4 1.0\n",
      "Node: 043+040 | Child: 040+102 | Purity: 0.7 | Num desc: 2 | Num protos: 4\n",
      "\tProto: 17 0.8888888888888888\n",
      "\tProto: 12 0.8\n",
      "\tProto: 19 0.1111111111111111\n",
      "\tProto: 13 1.0\n",
      "Number of prototypes in parts_presences:  7\n",
      "Part-related (purity>0.5): 5\n",
      "Node: 078+041 | Child: cub_041_Scissor_tailed_Flycatcher | Purity: 0.7999999999999999 | Num desc: 1 | Num protos: 3\n",
      "\tProto: 17 1.0\n",
      "\tProto: 19 0.5\n",
      "\tProto: 13 0.9\n",
      "Node: 078+041 | Child: 078+077 | Purity: 0.6694444444444445 | Num desc: 2 | Num protos: 4\n",
      "\tProto: 5 0.9\n",
      "\tProto: 6 0.7777777777777778\n",
      "\tProto: 2 0.0\n",
      "\tProto: 0 1.0\n",
      "Number of prototypes in parts_presences:  4\n",
      "Part-related (purity>0.5): 4\n",
      "Node: 192+187 | Child: cub_187_American_Three_toed_Woodpecker | Purity: 0.9 | Num desc: 1 | Num protos: 2\n",
      "\tProto: 19 1.0\n",
      "\tProto: 10 0.8\n",
      "Node: 192+187 | Child: 192+190 | Purity: 0.8500000000000001 | Num desc: 2 | Num protos: 2\n",
      "\tProto: 1 0.9\n",
      "\tProto: 4 0.8\n",
      "Number of prototypes in parts_presences:  4\n",
      "Part-related (purity>0.5): 4\n",
      "Node: 191+189 | Child: cub_189_Red_bellied_Woodpecker | Purity: 1.0 | Num desc: 1 | Num protos: 2\n",
      "\tProto: 13 1.0\n",
      "\tProto: 16 1.0\n",
      "Node: 191+189 | Child: cub_191_Red_headed_Woodpecker | Purity: 0.95 | Num desc: 1 | Num protos: 2\n",
      "\tProto: 8 0.9\n",
      "\tProto: 0 1.0\n",
      "Number of prototypes in parts_presences:  4\n",
      "Part-related (purity>0.5): 4\n",
      "Node: 081+080 | Child: cub_080_Green_Kingfisher | Purity: 0.8500000000000001 | Num desc: 1 | Num protos: 2\n",
      "\tProto: 17 0.8\n",
      "\tProto: 18 0.9\n",
      "Node: 081+080 | Child: cub_081_Pied_Kingfisher | Purity: 0.95 | Num desc: 1 | Num protos: 2\n",
      "\tProto: 8 0.9\n",
      "\tProto: 1 1.0\n",
      "Number of prototypes in parts_presences:  5\n",
      "Part-related (purity>0.5): 3\n",
      "Node: 082+079 | Child: cub_079_Belted_Kingfisher | Purity: 0.6111111111111112 | Num desc: 1 | Num protos: 3\n",
      "\tProto: 17 0.3333333333333333\n",
      "\tProto: 18 0.9\n",
      "\tProto: 16 0.6\n",
      "Node: 082+079 | Child: cub_082_Ringed_Kingfisher | Purity: 0.5611111111111111 | Num desc: 1 | Num protos: 2\n",
      "\tProto: 8 0.9\n",
      "\tProto: 9 0.2222222222222222\n",
      "Number of prototypes in parts_presences:  9\n",
      "Part-related (purity>0.5): 7\n",
      "Node: 065+066 | Child: 065+062 | Purity: 0.7177777777777778 | Num desc: 4 | Num protos: 5\n",
      "\tProto: 9 0.8\n",
      "\tProto: 0 1.0\n",
      "\tProto: 1 0.6666666666666666\n",
      "\tProto: 3 0.2222222222222222\n",
      "\tProto: 6 0.9\n",
      "Node: 065+066 | Child: cub_066_Western_Gull | Purity: 0.7 | Num desc: 1 | Num protos: 4\n",
      "\tProto: 17 1.0\n",
      "\tProto: 16 0.0\n",
      "\tProto: 13 0.9\n",
      "\tProto: 14 0.9\n",
      "Number of prototypes in parts_presences:  6\n",
      "Part-related (purity>0.5): 6\n",
      "Node: 061+064 | Child: cub_061_Heermann_Gull | Purity: 0.9 | Num desc: 1 | Num protos: 3\n",
      "\tProto: 6 0.7\n",
      "\tProto: 1 1.0\n",
      "\tProto: 4 1.0\n",
      "Node: 061+064 | Child: cub_064_Ring_billed_Gull | Purity: 0.9 | Num desc: 1 | Num protos: 3\n",
      "\tProto: 17 0.7\n",
      "\tProto: 16 1.0\n",
      "\tProto: 11 1.0\n",
      "Number of prototypes in parts_presences:  7\n",
      "Part-related (purity>0.5): 7\n",
      "Node: 144+142 | Child: 144+145 | Purity: 0.7711111111111112 | Num desc: 4 | Num protos: 5\n",
      "\tProto: 9 0.5555555555555556\n",
      "\tProto: 7 0.8\n",
      "\tProto: 1 0.8\n",
      "\tProto: 4 0.9\n",
      "\tProto: 6 0.8\n",
      "Node: 144+142 | Child: cub_142_Black_Tern | Purity: 0.9 | Num desc: 1 | Num protos: 2\n",
      "\tProto: 18 0.8\n",
      "\tProto: 11 1.0\n",
      "Number of prototypes in parts_presences:  5\n",
      "Part-related (purity>0.5): 4\n",
      "Node: 006+005 | Child: cub_005_Crested_Auklet | Purity: 0.95 | Num desc: 1 | Num protos: 2\n",
      "\tProto: 10 1.0\n",
      "\tProto: 14 0.9\n",
      "Node: 006+005 | Child: 006+007 | Purity: 0.5666666666666667 | Num desc: 2 | Num protos: 3\n",
      "\tProto: 8 0.2\n",
      "\tProto: 3 0.8\n",
      "\tProto: 7 0.7\n",
      "Number of prototypes in parts_presences:  5\n",
      "Part-related (purity>0.5): 3\n",
      "Node: 008+106 | Child: cub_008_Rhinoceros_Auklet | Purity: 0.6 | Num desc: 1 | Num protos: 3\n",
      "\tProto: 1 0.6\n",
      "\tProto: 3 0.7\n",
      "\tProto: 7 0.5\n",
      "Node: 008+106 | Child: cub_106_Horned_Puffin | Purity: 0.65 | Num desc: 1 | Num protos: 2\n",
      "\tProto: 17 0.3\n",
      "\tProto: 16 1.0\n",
      "Number of prototypes in parts_presences:  6\n",
      "Part-related (purity>0.5): 6\n",
      "Node: 024+023 | Child: cub_023_Brandt_Cormorant | Purity: 0.8666666666666667 | Num desc: 1 | Num protos: 3\n",
      "\tProto: 17 1.0\n",
      "\tProto: 15 0.8\n",
      "\tProto: 18 0.8\n",
      "Node: 024+023 | Child: 024+025 | Purity: 0.8962962962962964 | Num desc: 2 | Num protos: 3\n",
      "\tProto: 8 0.8\n",
      "\tProto: 1 0.8888888888888888\n",
      "\tProto: 7 1.0\n",
      "Number of prototypes in parts_presences:  4\n",
      "Part-related (purity>0.5): 3\n",
      "Node: 100+101 | Child: cub_100_Brown_Pelican | Purity: 0.5 | Num desc: 1 | Num protos: 2\n",
      "\tProto: 1 1.0\n",
      "\tProto: 0 0.0\n",
      "Node: 100+101 | Child: cub_101_White_Pelican | Purity: 0.95 | Num desc: 1 | Num protos: 2\n",
      "\tProto: 10 1.0\n",
      "\tProto: 11 0.9\n",
      "Number of prototypes in parts_presences:  4\n",
      "Part-related (purity>0.5): 4\n",
      "Node: 001+003 | Child: 001+002 | Purity: 1.0 | Num desc: 2 | Num protos: 2\n",
      "\tProto: 8 1.0\n",
      "\tProto: 7 1.0\n",
      "Node: 001+003 | Child: cub_003_Sooty_Albatross | Purity: 1.0 | Num desc: 1 | Num protos: 2\n",
      "\tProto: 12 1.0\n",
      "\tProto: 13 1.0\n",
      "Number of prototypes in parts_presences:  1\n",
      "Part-related (purity>0.5): 1\n",
      "Node: 129+199 | Child: 199+186 | Purity: 0.6 | Num desc: 15 | Num protos: 1\n",
      "\tProto: 11 0.6\n",
      "Number of prototypes in parts_presences:  6\n",
      "Part-related (purity>0.5): 4\n",
      "Node: 136+085 | Child: cub_085_Horned_Lark | Purity: 0.5055555555555555 | Num desc: 1 | Num protos: 2\n",
      "\tProto: 17 0.9\n",
      "\tProto: 19 0.1111111111111111\n",
      "Node: 136+085 | Child: 136+138 | Purity: 0.7 | Num desc: 3 | Num protos: 4\n",
      "\tProto: 8 1.0\n",
      "\tProto: 3 0.9\n",
      "\tProto: 5 0.9\n",
      "\tProto: 7 0.0\n",
      "Number of prototypes in parts_presences:  9\n",
      "Part-related (purity>0.5): 7\n",
      "Node: 107+111 | Child: 107+073 | Purity: 0.5714285714285714 | Num desc: 7 | Num protos: 7\n",
      "\tProto: 9 0.8\n",
      "\tProto: 8 0.4\n",
      "\tProto: 1 0.8\n",
      "\tProto: 4 0.0\n",
      "\tProto: 6 0.7\n",
      "\tProto: 2 0.7\n",
      "\tProto: 5 0.6\n",
      "Node: 107+111 | Child: 111+112 | Purity: 0.9444444444444444 | Num desc: 2 | Num protos: 2\n",
      "\tProto: 13 0.8888888888888888\n",
      "\tProto: 10 1.0\n",
      "Number of prototypes in parts_presences:  9\n",
      "Part-related (purity>0.5): 9\n",
      "Node: 151+153 | Child: 151+157 | Purity: 0.8555555555555555 | Num desc: 4 | Num protos: 5\n",
      "\tProto: 7 0.8\n",
      "\tProto: 8 0.9\n",
      "\tProto: 3 0.8\n",
      "\tProto: 6 0.7777777777777778\n",
      "\tProto: 5 1.0\n",
      "Node: 151+153 | Child: 153+154 | Purity: 0.8916666666666666 | Num desc: 3 | Num protos: 4\n",
      "\tProto: 12 1.0\n",
      "\tProto: 18 0.9\n",
      "\tProto: 19 0.7777777777777778\n",
      "\tProto: 16 0.8888888888888888\n",
      "Number of prototypes in parts_presences:  5\n",
      "Part-related (purity>0.5): 4\n",
      "Node: 043+037 | Child: cub_037_Acadian_Flycatcher | Purity: 0.5 | Num desc: 1 | Num protos: 2\n",
      "\tProto: 16 0.0\n",
      "\tProto: 11 1.0\n",
      "Node: 043+037 | Child: 043+039 | Purity: 0.8546296296296297 | Num desc: 2 | Num protos: 3\n",
      "\tProto: 9 0.8\n",
      "\tProto: 1 0.875\n",
      "\tProto: 0 0.8888888888888888\n",
      "Number of prototypes in parts_presences:  5\n",
      "Part-related (purity>0.5): 5\n",
      "Node: 040+102 | Child: cub_040_Olive_sided_Flycatcher | Purity: 0.9296296296296296 | Num desc: 1 | Num protos: 3\n",
      "\tProto: 5 0.9\n",
      "\tProto: 6 0.8888888888888888\n",
      "\tProto: 4 1.0\n",
      "Node: 040+102 | Child: cub_102_Western_Wood_Pewee | Purity: 0.95 | Num desc: 1 | Num protos: 2\n",
      "\tProto: 18 0.9\n",
      "\tProto: 16 1.0\n",
      "Number of prototypes in parts_presences:  5\n",
      "Part-related (purity>0.5): 4\n",
      "Node: 078+077 | Child: cub_077_Tropical_Kingbird | Purity: 0.5888888888888889 | Num desc: 1 | Num protos: 2\n",
      "\tProto: 17 0.7777777777777778\n",
      "\tProto: 13 0.4\n",
      "Node: 078+077 | Child: cub_078_Gray_Kingbird | Purity: 0.762962962962963 | Num desc: 1 | Num protos: 3\n",
      "\tProto: 6 0.8888888888888888\n",
      "\tProto: 1 0.8\n",
      "\tProto: 0 0.6\n",
      "Number of prototypes in parts_presences:  4\n",
      "Part-related (purity>0.5): 4\n",
      "Node: 192+190 | Child: cub_190_Red_cockaded_Woodpecker | Purity: 0.9 | Num desc: 1 | Num protos: 2\n",
      "\tProto: 15 0.8\n",
      "\tProto: 13 1.0\n",
      "Node: 192+190 | Child: cub_192_Downy_Woodpecker | Purity: 0.75 | Num desc: 1 | Num protos: 2\n",
      "\tProto: 4 0.9\n",
      "\tProto: 7 0.6\n",
      "Number of prototypes in parts_presences:  6\n",
      "Part-related (purity>0.5): 3\n",
      "Node: 065+062 | Child: 065+059 | Purity: 0.586111111111111 | Num desc: 3 | Num protos: 4\n",
      "\tProto: 8 0.7\n",
      "\tProto: 6 0.2\n",
      "\tProto: 3 1.0\n",
      "\tProto: 2 0.4444444444444444\n",
      "Node: 065+062 | Child: cub_062_Herring_Gull | Purity: 0.5944444444444444 | Num desc: 1 | Num protos: 2\n",
      "\tProto: 12 0.8888888888888888\n",
      "\tProto: 13 0.3\n",
      "Number of prototypes in parts_presences:  6\n",
      "Part-related (purity>0.5): 3\n",
      "Node: 144+145 | Child: 144+146 | Purity: 0.5370370370370371 | Num desc: 3 | Num protos: 3\n",
      "\tProto: 1 0.2222222222222222\n",
      "\tProto: 5 0.5\n",
      "\tProto: 7 0.8888888888888888\n",
      "Node: 144+145 | Child: cub_145_Elegant_Tern | Purity: 0.6666666666666666 | Num desc: 1 | Num protos: 3\n",
      "\tProto: 13 0.9\n",
      "\tProto: 10 0.1\n",
      "\tProto: 18 1.0\n",
      "Number of prototypes in parts_presences:  4\n",
      "Part-related (purity>0.5): 4\n",
      "Node: 006+007 | Child: cub_006_Least_Auklet | Purity: 0.95 | Num desc: 1 | Num protos: 2\n",
      "\tProto: 3 1.0\n",
      "\tProto: 5 0.9\n",
      "Node: 006+007 | Child: cub_007_Parakeet_Auklet | Purity: 1.0 | Num desc: 1 | Num protos: 2\n",
      "\tProto: 13 1.0\n",
      "\tProto: 16 1.0\n",
      "Number of prototypes in parts_presences:  4\n",
      "Part-related (purity>0.5): 4\n",
      "Node: 024+025 | Child: cub_024_Red_faced_Cormorant | Purity: 1.0 | Num desc: 1 | Num protos: 2\n",
      "\tProto: 5 1.0\n",
      "\tProto: 7 1.0\n",
      "Node: 024+025 | Child: cub_025_Pelagic_Cormorant | Purity: 0.9 | Num desc: 1 | Num protos: 2\n",
      "\tProto: 12 0.9\n",
      "\tProto: 16 0.9\n",
      "Number of prototypes in parts_presences:  3\n",
      "Part-related (purity>0.5): 3\n",
      "Node: 001+002 | Child: cub_001_Black_footed_Albatross | Purity: 1.0 | Num desc: 1 | Num protos: 1\n",
      "\tProto: 9 1.0\n",
      "Node: 001+002 | Child: cub_002_Laysan_Albatross | Purity: 0.85 | Num desc: 1 | Num protos: 2\n",
      "\tProto: 17 1.0\n",
      "\tProto: 15 0.7\n",
      "Number of prototypes in parts_presences:  5\n",
      "Part-related (purity>0.5): 1\n",
      "Node: 129+118 | Child: cub_118_House_Sparrow | Purity: 0.28500000000000003 | Num desc: 1 | Num protos: 5\n",
      "\tProto: 17 0.2\n",
      "\tProto: 18 0.0\n",
      "\tProto: 13 0.2\n",
      "\tProto: 16 0.9\n",
      "\tProto: 19 0.125\n",
      "Number of prototypes in parts_presences:  11\n",
      "Part-related (purity>0.5): 8\n",
      "Node: 199+186 | Child: 199+150 | Purity: 0.65 | Num desc: 13 | Num protos: 6\n",
      "\tProto: 9 0.9\n",
      "\tProto: 0 0.8\n",
      "\tProto: 7 0.5\n",
      "\tProto: 3 0.4\n",
      "\tProto: 2 0.5\n",
      "\tProto: 5 0.8\n",
      "Node: 199+186 | Child: 186+185 | Purity: 0.8400000000000001 | Num desc: 2 | Num protos: 5\n",
      "\tProto: 15 0.8\n",
      "\tProto: 10 0.6\n",
      "\tProto: 13 0.9\n",
      "\tProto: 19 1.0\n",
      "\tProto: 14 0.9\n",
      "Number of prototypes in parts_presences:  5\n",
      "Part-related (purity>0.5): 5\n",
      "Node: 136+138 | Child: 136+137 | Purity: 0.9296296296296296 | Num desc: 2 | Num protos: 3\n",
      "\tProto: 5 0.8888888888888888\n",
      "\tProto: 3 0.9\n",
      "\tProto: 0 1.0\n",
      "Node: 136+138 | Child: cub_138_Tree_Swallow | Purity: 1.0 | Num desc: 1 | Num protos: 2\n",
      "\tProto: 15 1.0\n",
      "\tProto: 19 1.0\n",
      "Number of prototypes in parts_presences:  9\n",
      "Part-related (purity>0.5): 8\n",
      "Node: 107+073 | Child: 107+093 | Purity: 0.75 | Num desc: 5 | Num protos: 6\n",
      "\tProto: 0 0.9\n",
      "\tProto: 8 0.9\n",
      "\tProto: 1 0.9\n",
      "\tProto: 3 0.8\n",
      "\tProto: 2 0.1\n",
      "\tProto: 5 0.9\n",
      "Node: 107+073 | Child: 073+074 | Purity: 0.7666666666666666 | Num desc: 2 | Num protos: 3\n",
      "\tProto: 15 0.6\n",
      "\tProto: 19 0.8\n",
      "\tProto: 14 0.9\n",
      "Number of prototypes in parts_presences:  4\n",
      "Part-related (purity>0.5): 1\n",
      "Node: 111+112 | Child: cub_111_Loggerhead_Shrike | Purity: 0.45 | Num desc: 1 | Num protos: 2\n",
      "\tProto: 5 0.8\n",
      "\tProto: 0 0.1\n",
      "Node: 111+112 | Child: cub_112_Great_Grey_Shrike | Purity: 0.15 | Num desc: 1 | Num protos: 2\n",
      "\tProto: 17 0.0\n",
      "\tProto: 13 0.3\n",
      "Number of prototypes in parts_presences:  6\n",
      "Part-related (purity>0.5): 6\n",
      "Node: 151+157 | Child: 151+156 | Purity: 0.7925925925925926 | Num desc: 2 | Num protos: 3\n",
      "\tProto: 6 0.7777777777777778\n",
      "\tProto: 3 0.7\n",
      "\tProto: 4 0.9\n",
      "Node: 151+157 | Child: 157+152 | Purity: 0.9333333333333332 | Num desc: 2 | Num protos: 3\n",
      "\tProto: 19 0.8\n",
      "\tProto: 13 1.0\n",
      "\tProto: 11 1.0\n",
      "Number of prototypes in parts_presences:  5\n",
      "Part-related (purity>0.5): 2\n",
      "Node: 153+154 | Child: 153+155 | Purity: 0.4666666666666666 | Num desc: 2 | Num protos: 3\n",
      "\tProto: 9 0.3\n",
      "\tProto: 3 0.9\n",
      "\tProto: 5 0.2\n",
      "Node: 153+154 | Child: cub_154_Red_eyed_Vireo | Purity: 0.6000000000000001 | Num desc: 1 | Num protos: 2\n",
      "\tProto: 19 0.8\n",
      "\tProto: 10 0.4\n",
      "Number of prototypes in parts_presences:  5\n",
      "Part-related (purity>0.5): 5\n",
      "Node: 043+039 | Child: cub_039_Least_Flycatcher | Purity: 0.8500000000000001 | Num desc: 1 | Num protos: 2\n",
      "\tProto: 15 0.9\n",
      "\tProto: 18 0.8\n",
      "Node: 043+039 | Child: cub_043_Yellow_bellied_Flycatcher | Purity: 0.9 | Num desc: 1 | Num protos: 3\n",
      "\tProto: 8 0.8\n",
      "\tProto: 3 1.0\n",
      "\tProto: 2 0.9\n",
      "Number of prototypes in parts_presences:  6\n",
      "Part-related (purity>0.5): 4\n",
      "Node: 065+059 | Child: cub_059_California_Gull | Purity: 0.7666666666666666 | Num desc: 1 | Num protos: 3\n",
      "\tProto: 17 0.4\n",
      "\tProto: 13 1.0\n",
      "\tProto: 16 0.9\n",
      "Node: 065+059 | Child: 065+060 | Purity: 0.5666666666666668 | Num desc: 2 | Num protos: 3\n",
      "\tProto: 3 0.1\n",
      "\tProto: 2 1.0\n",
      "\tProto: 5 0.6\n",
      "Number of prototypes in parts_presences:  5\n",
      "Part-related (purity>0.5): 5\n",
      "Node: 144+146 | Child: 144+141 | Purity: 0.8666666666666667 | Num desc: 2 | Num protos: 3\n",
      "\tProto: 8 0.8\n",
      "\tProto: 1 0.9\n",
      "\tProto: 0 0.9\n",
      "Node: 144+146 | Child: cub_146_Forsters_Tern | Purity: 0.95 | Num desc: 1 | Num protos: 2\n",
      "\tProto: 12 1.0\n",
      "\tProto: 11 0.9\n",
      "Number of prototypes in parts_presences:  4\n",
      "Part-related (purity>0.5): 4\n",
      "Node: 129+104 | Child: cub_104_American_Pipit | Purity: 0.7000000000000001 | Num desc: 1 | Num protos: 4\n",
      "\tProto: 19 0.6\n",
      "\tProto: 18 1.0\n",
      "\tProto: 10 0.6\n",
      "\tProto: 11 0.6\n",
      "Number of prototypes in parts_presences:  9\n",
      "Part-related (purity>0.5): 7\n",
      "Node: 199+150 | Child: 150+019 | Purity: 0.7222222222222222 | Num desc: 4 | Num protos: 4\n",
      "\tProto: 17 0.8888888888888888\n",
      "\tProto: 19 0.6\n",
      "\tProto: 13 0.5\n",
      "\tProto: 11 0.9\n",
      "Node: 199+150 | Child: 199+094 | Purity: 0.64 | Num desc: 9 | Num protos: 5\n",
      "\tProto: 0 0.8\n",
      "\tProto: 7 0.8\n",
      "\tProto: 3 0.9\n",
      "\tProto: 4 0.0\n",
      "\tProto: 5 0.7\n",
      "Number of prototypes in parts_presences:  5\n",
      "Part-related (purity>0.5): 4\n",
      "Node: 186+185 | Child: cub_185_Bohemian_Waxwing | Purity: 0.65 | Num desc: 1 | Num protos: 2\n",
      "\tProto: 17 0.5\n",
      "\tProto: 14 0.8\n",
      "Node: 186+185 | Child: cub_186_Cedar_Waxwing | Purity: 0.8518518518518517 | Num desc: 1 | Num protos: 3\n",
      "\tProto: 8 1.0\n",
      "\tProto: 2 0.5555555555555556\n",
      "\tProto: 0 1.0\n",
      "Number of prototypes in parts_presences:  4\n",
      "Part-related (purity>0.5): 3\n",
      "Node: 136+137 | Child: cub_136_Barn_Swallow | Purity: 0.8333333333333333 | Num desc: 1 | Num protos: 2\n",
      "\tProto: 4 1.0\n",
      "\tProto: 7 0.6666666666666666\n",
      "Node: 136+137 | Child: cub_137_Cliff_Swallow | Purity: 0.75 | Num desc: 1 | Num protos: 2\n",
      "\tProto: 13 0.5\n",
      "\tProto: 16 1.0\n",
      "Number of prototypes in parts_presences:  8\n",
      "Part-related (purity>0.5): 8\n",
      "Node: 107+093 | Child: 107+030 | Purity: 0.8955555555555555 | Num desc: 4 | Num protos: 5\n",
      "\tProto: 9 0.8\n",
      "\tProto: 7 1.0\n",
      "\tProto: 1 1.0\n",
      "\tProto: 4 0.9\n",
      "\tProto: 5 0.7777777777777778\n",
      "Node: 107+093 | Child: cub_093_Clark_Nutcracker | Purity: 0.8666666666666667 | Num desc: 1 | Num protos: 3\n",
      "\tProto: 15 0.7\n",
      "\tProto: 13 1.0\n",
      "\tProto: 10 0.9\n",
      "Number of prototypes in parts_presences:  5\n",
      "Part-related (purity>0.5): 5\n",
      "Node: 073+074 | Child: cub_073_Blue_Jay | Purity: 0.8666666666666666 | Num desc: 1 | Num protos: 3\n",
      "\tProto: 6 0.9\n",
      "\tProto: 0 1.0\n",
      "\tProto: 7 0.7\n",
      "Node: 073+074 | Child: cub_074_Florida_Jay | Purity: 1.0 | Num desc: 1 | Num protos: 2\n",
      "\tProto: 18 1.0\n",
      "\tProto: 11 1.0\n",
      "Number of prototypes in parts_presences:  5\n",
      "Part-related (purity>0.5): 5\n",
      "Node: 151+156 | Child: cub_151_Black_capped_Vireo | Purity: 0.8888888888888888 | Num desc: 1 | Num protos: 2\n",
      "\tProto: 4 1.0\n",
      "\tProto: 7 0.7777777777777778\n",
      "Node: 151+156 | Child: cub_156_White_eyed_Vireo | Purity: 0.9333333333333332 | Num desc: 1 | Num protos: 3\n",
      "\tProto: 15 1.0\n",
      "\tProto: 12 0.9\n",
      "\tProto: 13 0.9\n",
      "Number of prototypes in parts_presences:  5\n",
      "Part-related (purity>0.5): 5\n",
      "Node: 157+152 | Child: cub_152_Blue_headed_Vireo | Purity: 0.8875 | Num desc: 1 | Num protos: 2\n",
      "\tProto: 17 0.9\n",
      "\tProto: 11 0.875\n",
      "Node: 157+152 | Child: cub_157_Yellow_throated_Vireo | Purity: 0.9296296296296296 | Num desc: 1 | Num protos: 3\n",
      "\tProto: 5 0.9\n",
      "\tProto: 1 1.0\n",
      "\tProto: 4 0.8888888888888888\n",
      "Number of prototypes in parts_presences:  5\n",
      "Part-related (purity>0.5): 5\n",
      "Node: 153+155 | Child: cub_153_Philadelphia_Vireo | Purity: 0.9333333333333332 | Num desc: 1 | Num protos: 3\n",
      "\tProto: 5 1.0\n",
      "\tProto: 2 0.8\n",
      "\tProto: 0 1.0\n",
      "Node: 153+155 | Child: cub_155_Warbling_Vireo | Purity: 0.9444444444444444 | Num desc: 1 | Num protos: 2\n",
      "\tProto: 19 0.8888888888888888\n",
      "\tProto: 16 1.0\n",
      "Number of prototypes in parts_presences:  4\n",
      "Part-related (purity>0.5): 2\n",
      "Node: 065+060 | Child: cub_060_Glaucous_winged_Gull | Purity: 0.9 | Num desc: 1 | Num protos: 2\n",
      "\tProto: 12 0.9\n",
      "\tProto: 14 0.9\n",
      "Node: 065+060 | Child: cub_065_Slaty_backed_Gull | Purity: 0.15555555555555556 | Num desc: 1 | Num protos: 2\n",
      "\tProto: 9 0.2\n",
      "\tProto: 1 0.1111111111111111\n",
      "Number of prototypes in parts_presences:  5\n",
      "Part-related (purity>0.5): 5\n",
      "Node: 144+141 | Child: cub_141_Artic_Tern | Purity: 0.9444444444444444 | Num desc: 1 | Num protos: 2\n",
      "\tProto: 12 0.8888888888888888\n",
      "\tProto: 19 1.0\n",
      "Node: 144+141 | Child: cub_144_Common_Tern | Purity: 0.9 | Num desc: 1 | Num protos: 3\n",
      "\tProto: 1 0.9\n",
      "\tProto: 2 1.0\n",
      "\tProto: 7 0.8\n",
      "Number of prototypes in parts_presences:  1\n",
      "Part-related (purity>0.5): 1\n",
      "Node: 129+035 | Child: 035+055 | Purity: 0.9 | Num desc: 6 | Num protos: 1\n",
      "\tProto: 16 0.9\n",
      "Number of prototypes in parts_presences:  7\n",
      "Part-related (purity>0.5): 6\n",
      "Node: 199+094 | Child: 199+028 | Purity: 0.6666666666666666 | Num desc: 8 | Num protos: 3\n",
      "\tProto: 5 0.9\n",
      "\tProto: 3 0.2\n",
      "\tProto: 0 0.9\n",
      "Node: 199+094 | Child: cub_094_White_breasted_Nuthatch | Purity: 0.775 | Num desc: 1 | Num protos: 4\n",
      "\tProto: 16 0.8\n",
      "\tProto: 13 0.7\n",
      "\tProto: 10 0.7\n",
      "\tProto: 11 0.9\n",
      "Number of prototypes in parts_presences:  6\n",
      "Part-related (purity>0.5): 6\n",
      "Node: 150+019 | Child: cub_019_Gray_Catbird | Purity: 1.0 | Num desc: 1 | Num protos: 2\n",
      "\tProto: 12 1.0\n",
      "\tProto: 10 1.0\n",
      "Node: 150+019 | Child: 150+149 | Purity: 0.9 | Num desc: 3 | Num protos: 4\n",
      "\tProto: 8 0.9\n",
      "\tProto: 3 0.9\n",
      "\tProto: 4 0.9\n",
      "\tProto: 7 0.9\n",
      "Number of prototypes in parts_presences:  5\n",
      "Part-related (purity>0.5): 5\n",
      "Node: 107+030 | Child: 107+029 | Purity: 0.8444444444444444 | Num desc: 3 | Num protos: 2\n",
      "\tProto: 2 0.8\n",
      "\tProto: 5 0.8888888888888888\n",
      "Node: 107+030 | Child: cub_030_Fish_Crow | Purity: 0.8666666666666667 | Num desc: 1 | Num protos: 3\n",
      "\tProto: 15 0.7\n",
      "\tProto: 12 0.9\n",
      "\tProto: 13 1.0\n",
      "Number of prototypes in parts_presences:  1\n",
      "Part-related (purity>0.5): 0\n",
      "Node: 129+054 | Child: 054+140 | Purity: 0.2 | Num desc: 8 | Num protos: 1\n",
      "\tProto: 15 0.2\n",
      "Number of prototypes in parts_presences:  7\n",
      "Part-related (purity>0.5): 5\n",
      "Node: 035+055 | Child: 035+048 | Purity: 0.5599999999999999 | Num desc: 5 | Num protos: 5\n",
      "\tProto: 9 0.7\n",
      "\tProto: 0 0.4\n",
      "\tProto: 7 0.6\n",
      "\tProto: 4 0.4\n",
      "\tProto: 5 0.7\n",
      "Node: 035+055 | Child: cub_055_Evening_Grosbeak | Purity: 1.0 | Num desc: 1 | Num protos: 2\n",
      "\tProto: 15 1.0\n",
      "\tProto: 19 1.0\n",
      "Number of prototypes in parts_presences:  8\n",
      "Part-related (purity>0.5): 4\n",
      "Node: 199+028 | Child: cub_028_Brown_Creeper | Purity: 0.5 | Num desc: 1 | Num protos: 3\n",
      "\tProto: 16 0.9\n",
      "\tProto: 18 0.3\n",
      "\tProto: 14 0.3\n",
      "Node: 199+028 | Child: 199+198 | Purity: 0.6399999999999999 | Num desc: 7 | Num protos: 5\n",
      "\tProto: 0 0.9\n",
      "\tProto: 7 0.2\n",
      "\tProto: 1 0.9\n",
      "\tProto: 2 0.8\n",
      "\tProto: 5 0.4\n",
      "Number of prototypes in parts_presences:  6\n",
      "Part-related (purity>0.5): 5\n",
      "Node: 150+149 | Child: 150+091 | Purity: 0.75 | Num desc: 2 | Num protos: 4\n",
      "\tProto: 8 1.0\n",
      "\tProto: 9 0.8\n",
      "\tProto: 1 0.9\n",
      "\tProto: 3 0.3\n",
      "Node: 150+149 | Child: cub_149_Brown_Thrasher | Purity: 1.0 | Num desc: 1 | Num protos: 2\n",
      "\tProto: 15 1.0\n",
      "\tProto: 12 1.0\n",
      "Number of prototypes in parts_presences:  5\n",
      "Part-related (purity>0.5): 4\n",
      "Node: 107+029 | Child: cub_029_American_Crow | Purity: 0.8500000000000001 | Num desc: 1 | Num protos: 2\n",
      "\tProto: 12 0.8\n",
      "\tProto: 13 0.9\n",
      "Node: 107+029 | Child: 107+108 | Purity: 0.49259259259259264 | Num desc: 2 | Num protos: 3\n",
      "\tProto: 6 0.0\n",
      "\tProto: 2 0.7\n",
      "\tProto: 0 0.7777777777777778\n",
      "Number of prototypes in parts_presences:  0\n",
      "Part-related (purity>0.5): 0\n",
      "Number of prototypes in parts_presences:  8\n",
      "Part-related (purity>0.5): 7\n",
      "Node: 054+140 | Child: 054+057 | Purity: 0.6425925925925926 | Num desc: 5 | Num protos: 6\n",
      "\tProto: 7 0.5555555555555556\n",
      "\tProto: 1 0.8\n",
      "\tProto: 4 0.6\n",
      "\tProto: 6 0.9\n",
      "\tProto: 2 0.4\n",
      "\tProto: 5 0.6\n",
      "Node: 054+140 | Child: 140+017 | Purity: 0.8500000000000001 | Num desc: 3 | Num protos: 2\n",
      "\tProto: 13 0.8\n",
      "\tProto: 18 0.9\n",
      "Number of prototypes in parts_presences:  6\n",
      "Part-related (purity>0.5): 5\n",
      "Node: 035+048 | Child: 035+056 | Purity: 0.6999999999999998 | Num desc: 3 | Num protos: 3\n",
      "\tProto: 3 0.5\n",
      "\tProto: 5 0.9\n",
      "\tProto: 7 0.7\n",
      "Node: 035+048 | Child: 048+047 | Purity: 0.7333333333333334 | Num desc: 2 | Num protos: 3\n",
      "\tProto: 16 0.7\n",
      "\tProto: 19 0.9\n",
      "\tProto: 11 0.6\n",
      "Number of prototypes in parts_presences:  10\n",
      "Part-related (purity>0.5): 6\n",
      "Node: 199+198 | Child: 199+194 | Purity: 0.43333333333333335 | Num desc: 6 | Num protos: 6\n",
      "\tProto: 9 0.3\n",
      "\tProto: 1 0.6\n",
      "\tProto: 3 0.8\n",
      "\tProto: 4 0.1\n",
      "\tProto: 6 0.8\n",
      "\tProto: 5 0.0\n",
      "Node: 199+198 | Child: cub_198_Rock_Wren | Purity: 0.65 | Num desc: 1 | Num protos: 4\n",
      "\tProto: 19 0.0\n",
      "\tProto: 18 1.0\n",
      "\tProto: 13 1.0\n",
      "\tProto: 11 0.6\n",
      "Number of prototypes in parts_presences:  5\n",
      "Part-related (purity>0.5): 5\n",
      "Node: 150+091 | Child: cub_091_Mockingbird | Purity: 0.95 | Num desc: 1 | Num protos: 2\n",
      "\tProto: 12 1.0\n",
      "\tProto: 10 0.9\n",
      "Node: 150+091 | Child: cub_150_Sage_Thrasher | Purity: 0.9666666666666667 | Num desc: 1 | Num protos: 3\n",
      "\tProto: 6 0.9\n",
      "\tProto: 3 1.0\n",
      "\tProto: 7 1.0\n",
      "Number of prototypes in parts_presences:  5\n",
      "Part-related (purity>0.5): 5\n",
      "Node: 107+108 | Child: cub_107_Common_Raven | Purity: 0.8333333333333334 | Num desc: 1 | Num protos: 3\n",
      "\tProto: 6 0.7\n",
      "\tProto: 1 0.8\n",
      "\tProto: 3 1.0\n",
      "Node: 107+108 | Child: cub_108_White_necked_Raven | Purity: 0.8571428571428572 | Num desc: 1 | Num protos: 2\n",
      "\tProto: 19 0.7142857142857143\n",
      "\tProto: 16 1.0\n",
      "Number of prototypes in parts_presences:  0\n",
      "Part-related (purity>0.5): 0\n",
      "Number of prototypes in parts_presences:  3\n",
      "Part-related (purity>0.5): 3\n",
      "Node: 175+020 | Child: cub_020_Yellow_breasted_Chat | Purity: 0.9333333333333332 | Num desc: 1 | Num protos: 3\n",
      "\tProto: 17 1.0\n",
      "\tProto: 19 1.0\n",
      "\tProto: 18 0.8\n",
      "Number of prototypes in parts_presences:  7\n",
      "Part-related (purity>0.5): 7\n",
      "Node: 054+057 | Child: 054+014 | Purity: 0.8133333333333332 | Num desc: 4 | Num protos: 5\n",
      "\tProto: 8 1.0\n",
      "\tProto: 1 0.8\n",
      "\tProto: 4 0.8\n",
      "\tProto: 6 0.6666666666666666\n",
      "\tProto: 2 0.8\n",
      "Node: 054+057 | Child: cub_057_Rose_breasted_Grosbeak | Purity: 0.85 | Num desc: 1 | Num protos: 2\n",
      "\tProto: 15 1.0\n",
      "\tProto: 10 0.7\n",
      "Number of prototypes in parts_presences:  5\n",
      "Part-related (purity>0.5): 4\n",
      "Node: 140+017 | Child: cub_017_Cardinal | Purity: 0.75 | Num desc: 1 | Num protos: 2\n",
      "\tProto: 12 0.6\n",
      "\tProto: 16 0.9\n",
      "Node: 140+017 | Child: 140+139 | Purity: 0.7333333333333334 | Num desc: 2 | Num protos: 3\n",
      "\tProto: 5 1.0\n",
      "\tProto: 8 0.5\n",
      "\tProto: 4 0.7\n",
      "Number of prototypes in parts_presences:  6\n",
      "Part-related (purity>0.5): 6\n",
      "Node: 035+056 | Child: 035+034 | Purity: 0.8 | Num desc: 2 | Num protos: 4\n",
      "\tProto: 9 0.8\n",
      "\tProto: 1 1.0\n",
      "\tProto: 3 0.6\n",
      "\tProto: 7 0.8\n",
      "Node: 035+056 | Child: cub_056_Pine_Grosbeak | Purity: 0.85 | Num desc: 1 | Num protos: 2\n",
      "\tProto: 13 0.7\n",
      "\tProto: 10 1.0\n",
      "Number of prototypes in parts_presences:  4\n",
      "Part-related (purity>0.5): 4\n",
      "Node: 048+047 | Child: cub_047_American_Goldfinch | Purity: 1.0 | Num desc: 1 | Num protos: 2\n",
      "\tProto: 13 1.0\n",
      "\tProto: 10 1.0\n",
      "Node: 048+047 | Child: cub_048_European_Goldfinch | Purity: 1.0 | Num desc: 1 | Num protos: 2\n",
      "\tProto: 2 1.0\n",
      "\tProto: 7 1.0\n",
      "Number of prototypes in parts_presences:  10\n",
      "Part-related (purity>0.5): 9\n",
      "Node: 199+194 | Child: 199+193 | Purity: 0.8166666666666668 | Num desc: 5 | Num protos: 6\n",
      "\tProto: 0 0.9\n",
      "\tProto: 7 0.6\n",
      "\tProto: 8 0.8\n",
      "\tProto: 1 0.7\n",
      "\tProto: 3 1.0\n",
      "\tProto: 4 0.9\n",
      "Node: 199+194 | Child: cub_194_Cactus_Wren | Purity: 0.85 | Num desc: 1 | Num protos: 4\n",
      "\tProto: 17 1.0\n",
      "\tProto: 15 0.9\n",
      "\tProto: 12 0.5\n",
      "\tProto: 14 1.0\n",
      "Number of prototypes in parts_presences:  3\n",
      "Part-related (purity>0.5): 3\n",
      "Node: 129+121 | Child: cub_121_Grasshopper_Sparrow | Purity: 1.0 | Num desc: 1 | Num protos: 3\n",
      "\tProto: 16 1.0\n",
      "\tProto: 18 1.0\n",
      "\tProto: 11 1.0\n",
      "Number of prototypes in parts_presences:  10\n",
      "Part-related (purity>0.5): 6\n",
      "Node: 011+013 | Child: 011+095 | Purity: 0.65 | Num desc: 10 | Num protos: 6\n",
      "\tProto: 0 0.6\n",
      "\tProto: 7 0.9\n",
      "\tProto: 8 0.4\n",
      "\tProto: 4 0.6\n",
      "\tProto: 6 0.7\n",
      "\tProto: 5 0.7\n",
      "Node: 011+013 | Child: 013+088 | Purity: 0.4625 | Num desc: 3 | Num protos: 4\n",
      "\tProto: 17 0.2\n",
      "\tProto: 12 0.25\n",
      "\tProto: 10 1.0\n",
      "\tProto: 16 0.4\n",
      "Number of prototypes in parts_presences:  4\n",
      "Part-related (purity>0.5): 4\n",
      "Node: 175+099 | Child: cub_099_Ovenbird | Purity: 1.0 | Num desc: 1 | Num protos: 2\n",
      "\tProto: 17 1.0\n",
      "\tProto: 16 1.0\n",
      "Node: 175+099 | Child: 175+181 | Purity: 0.7388888888888889 | Num desc: 28 | Num protos: 2\n",
      "\tProto: 6 0.7\n",
      "\tProto: 7 0.7777777777777778\n",
      "Number of prototypes in parts_presences:  6\n",
      "Part-related (purity>0.5): 4\n",
      "Node: 054+014 | Child: cub_014_Indigo_Bunting | Purity: 0.6999999999999998 | Num desc: 1 | Num protos: 3\n",
      "\tProto: 17 0.4\n",
      "\tProto: 12 1.0\n",
      "\tProto: 14 0.7\n",
      "Node: 054+014 | Child: 054+016 | Purity: 0.7777777777777777 | Num desc: 3 | Num protos: 3\n",
      "\tProto: 6 1.0\n",
      "\tProto: 1 0.3333333333333333\n",
      "\tProto: 0 1.0\n",
      "Number of prototypes in parts_presences:  7\n",
      "Part-related (purity>0.5): 5\n",
      "Node: 140+139 | Child: cub_139_Scarlet_Tanager | Purity: 0.5333333333333333 | Num desc: 1 | Num protos: 3\n",
      "\tProto: 16 0.1\n",
      "\tProto: 18 0.6\n",
      "\tProto: 14 0.9\n",
      "Node: 140+139 | Child: cub_140_Summer_Tanager | Purity: 0.7694444444444445 | Num desc: 1 | Num protos: 4\n",
      "\tProto: 5 1.0\n",
      "\tProto: 3 0.3\n",
      "\tProto: 2 0.7777777777777778\n",
      "\tProto: 0 1.0\n",
      "Number of prototypes in parts_presences:  4\n",
      "Part-related (purity>0.5): 4\n",
      "Node: 035+034 | Child: cub_034_Gray_crowned_Rosy_Finch | Purity: 1.0 | Num desc: 1 | Num protos: 2\n",
      "\tProto: 12 1.0\n",
      "\tProto: 10 1.0\n",
      "Node: 035+034 | Child: cub_035_Purple_Finch | Purity: 1.0 | Num desc: 1 | Num protos: 2\n",
      "\tProto: 3 1.0\n",
      "\tProto: 0 1.0\n",
      "Number of prototypes in parts_presences:  8\n",
      "Part-related (purity>0.5): 8\n",
      "Node: 199+193 | Child: 193+195 | Purity: 0.9 | Num desc: 2 | Num protos: 3\n",
      "\tProto: 15 0.9\n",
      "\tProto: 12 1.0\n",
      "\tProto: 10 0.8\n",
      "Node: 199+193 | Child: 199+197 | Purity: 0.9 | Num desc: 3 | Num protos: 5\n",
      "\tProto: 0 0.9\n",
      "\tProto: 7 0.8\n",
      "\tProto: 4 0.9\n",
      "\tProto: 2 0.9\n",
      "\tProto: 5 1.0\n",
      "Number of prototypes in parts_presences:  4\n",
      "Part-related (purity>0.5): 2\n",
      "Node: 129+117 | Child: 117+114 | Purity: 0.5 | Num desc: 5 | Num protos: 4\n",
      "\tProto: 15 0.5\n",
      "\tProto: 19 0.0\n",
      "\tProto: 13 0.7\n",
      "\tProto: 10 0.8\n",
      "Number of prototypes in parts_presences:  9\n",
      "Part-related (purity>0.5): 3\n",
      "Node: 011+095 | Child: 011+026 | Purity: 0.2533333333333333 | Num desc: 6 | Num protos: 5\n",
      "\tProto: 1 0.5\n",
      "\tProto: 3 0.6666666666666666\n",
      "\tProto: 4 0.1\n",
      "\tProto: 2 0.0\n",
      "\tProto: 5 0.0\n",
      "Node: 011+095 | Child: 095+096 | Purity: 0.5333333333333333 | Num desc: 4 | Num protos: 4\n",
      "\tProto: 16 0.8888888888888888\n",
      "\tProto: 14 0.4444444444444444\n",
      "\tProto: 13 0.7\n",
      "\tProto: 11 0.1\n",
      "Number of prototypes in parts_presences:  5\n",
      "Part-related (purity>0.5): 5\n",
      "Node: 013+088 | Child: 013+012 | Purity: 0.9 | Num desc: 2 | Num protos: 3\n",
      "\tProto: 8 0.9\n",
      "\tProto: 4 0.9\n",
      "\tProto: 7 0.9\n",
      "Node: 013+088 | Child: cub_088_Western_Meadowlark | Purity: 0.95 | Num desc: 1 | Num protos: 2\n",
      "\tProto: 13 0.9\n",
      "\tProto: 16 1.0\n",
      "Number of prototypes in parts_presences:  3\n",
      "Part-related (purity>0.5): 2\n",
      "Node: 175+181 | Child: 175+168+173+183 | Purity: 0.5 | Num desc: 27 | Num protos: 1\n",
      "\tProto: 8 0.5\n",
      "Node: 175+181 | Child: cub_181_Worm_eating_Warbler | Purity: 1.0 | Num desc: 1 | Num protos: 2\n",
      "\tProto: 12 1.0\n",
      "\tProto: 19 1.0\n",
      "Number of prototypes in parts_presences:  6\n",
      "Part-related (purity>0.5): 6\n",
      "Node: 054+016 | Child: 054+015 | Purity: 0.9249999999999999 | Num desc: 2 | Num protos: 4\n",
      "\tProto: 6 1.0\n",
      "\tProto: 2 1.0\n",
      "\tProto: 0 0.8\n",
      "\tProto: 7 0.9\n",
      "Node: 054+016 | Child: cub_016_Painted_Bunting | Purity: 0.8333333333333333 | Num desc: 1 | Num protos: 2\n",
      "\tProto: 19 0.8888888888888888\n",
      "\tProto: 16 0.7777777777777778\n",
      "Number of prototypes in parts_presences:  4\n",
      "Part-related (purity>0.5): 4\n",
      "Node: 199+197 | Child: 199+196 | Purity: 0.9296296296296296 | Num desc: 2 | Num protos: 3\n",
      "\tProto: 8 0.8888888888888888\n",
      "\tProto: 1 1.0\n",
      "\tProto: 0 0.9\n",
      "Node: 199+197 | Child: cub_197_Marsh_Wren | Purity: 1.0 | Num desc: 1 | Num protos: 1\n",
      "\tProto: 19 1.0\n",
      "Number of prototypes in parts_presences:  5\n",
      "Part-related (purity>0.5): 4\n",
      "Node: 193+195 | Child: cub_193_Bewick_Wren | Purity: 0.8944444444444444 | Num desc: 1 | Num protos: 2\n",
      "\tProto: 6 0.8888888888888888\n",
      "\tProto: 1 0.9\n",
      "Node: 193+195 | Child: cub_195_Carolina_Wren | Purity: 0.7666666666666666 | Num desc: 1 | Num protos: 3\n",
      "\tProto: 15 0.8\n",
      "\tProto: 19 1.0\n",
      "\tProto: 14 0.5\n",
      "Number of prototypes in parts_presences:  6\n",
      "Part-related (purity>0.5): 3\n",
      "Node: 129+133 | Child: 129+021 | Purity: 0.7999999999999999 | Num desc: 11 | Num protos: 3\n",
      "\tProto: 8 0.6\n",
      "\tProto: 2 0.8\n",
      "\tProto: 7 1.0\n",
      "Node: 129+133 | Child: 133+130 | Purity: 0.4666666666666666 | Num desc: 6 | Num protos: 3\n",
      "\tProto: 12 0.5\n",
      "\tProto: 13 0.4\n",
      "\tProto: 14 0.5\n",
      "Number of prototypes in parts_presences:  7\n",
      "Part-related (purity>0.5): 6\n",
      "Node: 117+114 | Child: cub_114_Black_throated_Sparrow | Purity: 0.6 | Num desc: 1 | Num protos: 2\n",
      "\tProto: 17 0.6\n",
      "\tProto: 15 0.6\n",
      "Node: 117+114 | Child: 117+115 | Purity: 0.7155555555555555 | Num desc: 4 | Num protos: 5\n",
      "\tProto: 9 0.8\n",
      "\tProto: 7 0.9\n",
      "\tProto: 8 0.3\n",
      "\tProto: 1 0.7777777777777778\n",
      "\tProto: 3 0.8\n",
      "Number of prototypes in parts_presences:  6\n",
      "Part-related (purity>0.5): 5\n",
      "Node: 011+026 | Child: 011+049 | Purity: 0.9629629629629629 | Num desc: 3 | Num protos: 3\n",
      "\tProto: 8 1.0\n",
      "\tProto: 9 0.8888888888888888\n",
      "\tProto: 1 1.0\n",
      "Node: 011+026 | Child: 026+010 | Purity: 0.6037037037037037 | Num desc: 3 | Num protos: 3\n",
      "\tProto: 19 0.1111111111111111\n",
      "\tProto: 18 0.9\n",
      "\tProto: 14 0.8\n",
      "Number of prototypes in parts_presences:  6\n",
      "Part-related (purity>0.5): 3\n",
      "Node: 095+096 | Child: 095+098 | Purity: 0.5333333333333333 | Num desc: 2 | Num protos: 3\n",
      "\tProto: 6 0.4\n",
      "\tProto: 4 0.5\n",
      "\tProto: 7 0.7\n",
      "Node: 095+096 | Child: 096+097 | Purity: 0.6666666666666666 | Num desc: 2 | Num protos: 3\n",
      "\tProto: 15 0.6\n",
      "\tProto: 12 1.0\n",
      "\tProto: 14 0.4\n",
      "Number of prototypes in parts_presences:  6\n",
      "Part-related (purity>0.5): 6\n",
      "Node: 013+012 | Child: cub_012_Yellow_headed_Blackbird | Purity: 1.0 | Num desc: 1 | Num protos: 3\n",
      "\tProto: 15 1.0\n",
      "\tProto: 10 1.0\n",
      "\tProto: 11 1.0\n",
      "Node: 013+012 | Child: cub_013_Bobolink | Purity: 0.8333333333333334 | Num desc: 1 | Num protos: 3\n",
      "\tProto: 5 0.7\n",
      "\tProto: 9 1.0\n",
      "\tProto: 0 0.8\n",
      "Number of prototypes in parts_presences:  10\n",
      "Part-related (purity>0.5): 7\n",
      "Node: 175+168+173+183 | Child: 175+162 | Purity: 0.8 | Num desc: 14 | Num protos: 1\n",
      "\tProto: 3 0.8\n",
      "Node: 175+168+173+183 | Child: 183+159 | Purity: 0.75 | Num desc: 3 | Num protos: 4\n",
      "\tProto: 17 0.8\n",
      "\tProto: 15 0.8\n",
      "\tProto: 19 0.4\n",
      "\tProto: 18 1.0\n",
      "Node: 175+168+173+183 | Child: 173+161 | Purity: 0.65 | Num desc: 5 | Num protos: 2\n",
      "\tProto: 12 1.0\n",
      "\tProto: 10 0.3\n",
      "Node: 175+168+173+183 | Child: 168+177 | Purity: 0.6814814814814815 | Num desc: 5 | Num protos: 3\n",
      "\tProto: 8 1.0\n",
      "\tProto: 9 0.4444444444444444\n",
      "\tProto: 5 0.6\n",
      "Number of prototypes in parts_presences:  6\n",
      "Part-related (purity>0.5): 6\n",
      "Node: 054+015 | Child: cub_015_Lazuli_Bunting | Purity: 0.8185185185185185 | Num desc: 1 | Num protos: 3\n",
      "\tProto: 16 0.5555555555555556\n",
      "\tProto: 13 0.9\n",
      "\tProto: 14 1.0\n",
      "Node: 054+015 | Child: cub_054_Blue_Grosbeak | Purity: 1.0 | Num desc: 1 | Num protos: 3\n",
      "\tProto: 6 1.0\n",
      "\tProto: 1 1.0\n",
      "\tProto: 7 1.0\n",
      "Number of prototypes in parts_presences:  6\n",
      "Part-related (purity>0.5): 6\n",
      "Node: 199+196 | Child: cub_196_House_Wren | Purity: 0.9333333333333332 | Num desc: 1 | Num protos: 3\n",
      "\tProto: 12 1.0\n",
      "\tProto: 19 0.9\n",
      "\tProto: 11 0.9\n",
      "Node: 199+196 | Child: cub_199_Winter_Wren | Purity: 0.9333333333333332 | Num desc: 1 | Num protos: 3\n",
      "\tProto: 5 0.9\n",
      "\tProto: 0 0.9\n",
      "\tProto: 7 1.0\n",
      "Number of prototypes in parts_presences:  10\n",
      "Part-related (purity>0.5): 7\n",
      "Node: 129+021 | Child: 021+148 | Purity: 0.7000000000000001 | Num desc: 2 | Num protos: 3\n",
      "\tProto: 19 0.9\n",
      "\tProto: 10 0.4\n",
      "\tProto: 18 0.8\n",
      "Node: 129+021 | Child: 129+128 | Purity: 0.6079365079365079 | Num desc: 9 | Num protos: 7\n",
      "\tProto: 9 0.8\n",
      "\tProto: 0 0.7\n",
      "\tProto: 7 0.5555555555555556\n",
      "\tProto: 1 0.5\n",
      "\tProto: 4 0.6\n",
      "\tProto: 6 0.5\n",
      "\tProto: 2 0.6\n",
      "Number of prototypes in parts_presences:  7\n",
      "Part-related (purity>0.5): 5\n",
      "Node: 133+130 | Child: 133+076 | Purity: 0.8666666666666667 | Num desc: 4 | Num protos: 3\n",
      "\tProto: 5 0.7\n",
      "\tProto: 2 0.9\n",
      "\tProto: 0 1.0\n",
      "Node: 133+130 | Child: 130+120 | Purity: 0.625 | Num desc: 2 | Num protos: 4\n",
      "\tProto: 14 0.8\n",
      "\tProto: 18 0.9\n",
      "\tProto: 10 0.5\n",
      "\tProto: 11 0.3\n",
      "Number of prototypes in parts_presences:  7\n",
      "Part-related (purity>0.5): 7\n",
      "Node: 117+115 | Child: 115+119 | Purity: 0.9249999999999999 | Num desc: 2 | Num protos: 3\n",
      "\tProto: 16 1.0\n",
      "\tProto: 18 0.9\n",
      "\tProto: 11 0.875\n",
      "Node: 117+115 | Child: 117+116 | Purity: 0.8138888888888889 | Num desc: 2 | Num protos: 4\n",
      "\tProto: 6 0.9\n",
      "\tProto: 1 0.8\n",
      "\tProto: 5 1.0\n",
      "\tProto: 9 0.5555555555555556\n",
      "Number of prototypes in parts_presences:  5\n",
      "Part-related (purity>0.5): 5\n",
      "Node: 011+049 | Child: 011+009 | Purity: 0.9 | Num desc: 2 | Num protos: 3\n",
      "\tProto: 6 0.9\n",
      "\tProto: 3 0.8\n",
      "\tProto: 5 1.0\n",
      "Node: 011+049 | Child: cub_049_Boat_tailed_Grackle | Purity: 0.9 | Num desc: 1 | Num protos: 2\n",
      "\tProto: 15 0.9\n",
      "\tProto: 14 0.9\n",
      "Number of prototypes in parts_presences:  5\n",
      "Part-related (purity>0.5): 5\n",
      "Node: 026+010 | Child: cub_010_Red_winged_Blackbird | Purity: 0.6 | Num desc: 1 | Num protos: 2\n",
      "\tProto: 17 0.6\n",
      "\tProto: 14 0.6\n",
      "Node: 026+010 | Child: 026+027 | Purity: 0.7999999999999999 | Num desc: 2 | Num protos: 3\n",
      "\tProto: 3 0.6\n",
      "\tProto: 2 0.8\n",
      "\tProto: 5 1.0\n",
      "Number of prototypes in parts_presences:  5\n",
      "Part-related (purity>0.5): 3\n",
      "Node: 095+098 | Child: cub_095_Baltimore_Oriole | Purity: 0.5 | Num desc: 1 | Num protos: 2\n",
      "\tProto: 2 0.5\n",
      "\tProto: 4 0.5\n",
      "Node: 095+098 | Child: cub_098_Scott_Oriole | Purity: 0.7666666666666666 | Num desc: 1 | Num protos: 3\n",
      "\tProto: 17 0.9\n",
      "\tProto: 10 0.7\n",
      "\tProto: 16 0.7\n",
      "Number of prototypes in parts_presences:  5\n",
      "Part-related (purity>0.5): 5\n",
      "Node: 096+097 | Child: cub_096_Hooded_Oriole | Purity: 0.9666666666666667 | Num desc: 1 | Num protos: 3\n",
      "\tProto: 6 1.0\n",
      "\tProto: 4 1.0\n",
      "\tProto: 9 0.9\n",
      "Node: 096+097 | Child: cub_097_Orchard_Oriole | Purity: 0.8944444444444444 | Num desc: 1 | Num protos: 2\n",
      "\tProto: 17 0.9\n",
      "\tProto: 14 0.8888888888888888\n",
      "Number of prototypes in parts_presences:  9\n",
      "Part-related (purity>0.5): 9\n",
      "Node: 175+162 | Child: 175+167 | Purity: 0.7277777777777777 | Num desc: 12 | Num protos: 6\n",
      "\tProto: 7 0.7\n",
      "\tProto: 8 0.6666666666666666\n",
      "\tProto: 1 0.6\n",
      "\tProto: 3 0.8\n",
      "\tProto: 2 0.9\n",
      "\tProto: 5 0.7\n",
      "Node: 175+162 | Child: 162+180 | Purity: 0.7999999999999999 | Num desc: 2 | Num protos: 3\n",
      "\tProto: 16 0.6\n",
      "\tProto: 12 0.9\n",
      "\tProto: 14 0.9\n",
      "Number of prototypes in parts_presences:  7\n",
      "Part-related (purity>0.5): 6\n",
      "Node: 168+177 | Child: 168+200 | Purity: 0.8444444444444443 | Num desc: 3 | Num protos: 4\n",
      "\tProto: 8 0.8888888888888888\n",
      "\tProto: 3 0.9\n",
      "\tProto: 2 0.8888888888888888\n",
      "\tProto: 7 0.7\n",
      "Node: 168+177 | Child: 177+178 | Purity: 0.6333333333333333 | Num desc: 2 | Num protos: 3\n",
      "\tProto: 15 1.0\n",
      "\tProto: 13 0.0\n",
      "\tProto: 10 0.9\n",
      "Number of prototypes in parts_presences:  9\n",
      "Part-related (purity>0.5): 8\n",
      "Node: 173+161 | Child: 161+166 | Purity: 0.7851851851851852 | Num desc: 2 | Num protos: 3\n",
      "\tProto: 16 0.8\n",
      "\tProto: 13 1.0\n",
      "\tProto: 14 0.5555555555555556\n",
      "Node: 173+161 | Child: 173+179 | Purity: 0.7333333333333334 | Num desc: 3 | Num protos: 6\n",
      "\tProto: 9 0.7\n",
      "\tProto: 7 0.9\n",
      "\tProto: 3 0.8\n",
      "\tProto: 4 0.9\n",
      "\tProto: 6 0.3\n",
      "\tProto: 5 0.8\n",
      "Number of prototypes in parts_presences:  5\n",
      "Part-related (purity>0.5): 5\n",
      "Node: 183+159 | Child: cub_159_Black_and_white_Warbler | Purity: 0.95 | Num desc: 1 | Num protos: 2\n",
      "\tProto: 17 1.0\n",
      "\tProto: 13 0.9\n",
      "Node: 183+159 | Child: 183+184 | Purity: 0.9333333333333332 | Num desc: 2 | Num protos: 3\n",
      "\tProto: 9 0.8\n",
      "\tProto: 1 1.0\n",
      "\tProto: 2 1.0\n",
      "Number of prototypes in parts_presences:  8\n",
      "Part-related (purity>0.5): 6\n",
      "Node: 129+128 | Child: 129+127 | Purity: 0.825 | Num desc: 5 | Num protos: 4\n",
      "\tProto: 9 0.7\n",
      "\tProto: 2 0.6\n",
      "\tProto: 5 1.0\n",
      "\tProto: 7 1.0\n",
      "Node: 129+128 | Child: 128+131 | Purity: 0.46875 | Num desc: 4 | Num protos: 4\n",
      "\tProto: 15 0.0\n",
      "\tProto: 16 0.9\n",
      "\tProto: 19 0.875\n",
      "\tProto: 11 0.1\n",
      "Number of prototypes in parts_presences:  4\n",
      "Part-related (purity>0.5): 3\n",
      "Node: 021+148 | Child: cub_021_Eastern_Towhee | Purity: 0.75 | Num desc: 1 | Num protos: 2\n",
      "\tProto: 5 0.7\n",
      "\tProto: 7 0.8\n",
      "Node: 021+148 | Child: cub_148_Green_tailed_Towhee | Purity: 0.7 | Num desc: 1 | Num protos: 2\n",
      "\tProto: 19 0.4\n",
      "\tProto: 10 1.0\n",
      "Number of prototypes in parts_presences:  5\n",
      "Part-related (purity>0.5): 4\n",
      "Node: 133+076 | Child: cub_076_Dark_eyed_Junco | Purity: 0.95 | Num desc: 1 | Num protos: 2\n",
      "\tProto: 19 1.0\n",
      "\tProto: 10 0.9\n",
      "Node: 133+076 | Child: 133+132 | Purity: 0.662962962962963 | Num desc: 3 | Num protos: 3\n",
      "\tProto: 6 0.3\n",
      "\tProto: 1 0.8888888888888888\n",
      "\tProto: 2 0.8\n",
      "Number of prototypes in parts_presences:  5\n",
      "Part-related (purity>0.5): 5\n",
      "Node: 130+120 | Child: cub_120_Fox_Sparrow | Purity: 1.0 | Num desc: 1 | Num protos: 2\n",
      "\tProto: 12 1.0\n",
      "\tProto: 18 1.0\n",
      "Node: 130+120 | Child: cub_130_Tree_Sparrow | Purity: 0.9 | Num desc: 1 | Num protos: 3\n",
      "\tProto: 1 1.0\n",
      "\tProto: 2 0.7\n",
      "\tProto: 0 1.0\n",
      "Number of prototypes in parts_presences:  5\n",
      "Part-related (purity>0.5): 4\n",
      "Node: 117+116 | Child: cub_116_Chipping_Sparrow | Purity: 0.8 | Num desc: 1 | Num protos: 2\n",
      "\tProto: 18 0.6\n",
      "\tProto: 16 1.0\n",
      "Node: 117+116 | Child: cub_117_Clay_colored_Sparrow | Purity: 0.8333333333333334 | Num desc: 1 | Num protos: 3\n",
      "\tProto: 8 0.5\n",
      "\tProto: 3 1.0\n",
      "\tProto: 4 1.0\n",
      "Number of prototypes in parts_presences:  6\n",
      "Part-related (purity>0.5): 4\n",
      "Node: 115+119 | Child: cub_115_Brewer_Sparrow | Purity: 0.9333333333333332 | Num desc: 1 | Num protos: 3\n",
      "\tProto: 5 0.8\n",
      "\tProto: 1 1.0\n",
      "\tProto: 0 1.0\n",
      "Node: 115+119 | Child: cub_119_Field_Sparrow | Purity: 0.6333333333333333 | Num desc: 1 | Num protos: 3\n",
      "\tProto: 15 1.0\n",
      "\tProto: 12 0.5\n",
      "\tProto: 18 0.4\n",
      "Number of prototypes in parts_presences:  4\n",
      "Part-related (purity>0.5): 2\n",
      "Node: 011+009 | Child: cub_009_Brewer_Blackbird | Purity: 0.55 | Num desc: 1 | Num protos: 2\n",
      "\tProto: 15 0.8\n",
      "\tProto: 10 0.3\n",
      "Node: 011+009 | Child: cub_011_Rusty_Blackbird | Purity: 0.6 | Num desc: 1 | Num protos: 2\n",
      "\tProto: 8 1.0\n",
      "\tProto: 9 0.2\n",
      "Number of prototypes in parts_presences:  5\n",
      "Part-related (purity>0.5): 5\n",
      "Node: 026+027 | Child: cub_026_Bronzed_Cowbird | Purity: 0.9 | Num desc: 1 | Num protos: 2\n",
      "\tProto: 3 0.8\n",
      "\tProto: 4 1.0\n",
      "Node: 026+027 | Child: cub_027_Shiny_Cowbird | Purity: 0.9666666666666667 | Num desc: 1 | Num protos: 3\n",
      "\tProto: 15 1.0\n",
      "\tProto: 19 1.0\n",
      "\tProto: 16 0.9\n",
      "Number of prototypes in parts_presences:  7\n",
      "Part-related (purity>0.5): 7\n",
      "Node: 175+167 | Child: 175+169 | Purity: 0.8388888888888889 | Num desc: 11 | Num protos: 4\n",
      "\tProto: 8 0.7777777777777778\n",
      "\tProto: 9 0.8\n",
      "\tProto: 3 0.8888888888888888\n",
      "\tProto: 2 0.8888888888888888\n",
      "Node: 175+167 | Child: cub_167_Hooded_Warbler | Purity: 1.0 | Num desc: 1 | Num protos: 3\n",
      "\tProto: 12 1.0\n",
      "\tProto: 13 1.0\n",
      "\tProto: 18 1.0\n",
      "Number of prototypes in parts_presences:  6\n",
      "Part-related (purity>0.5): 5\n",
      "Node: 162+180 | Child: cub_162_Canada_Warbler | Purity: 0.7518518518518519 | Num desc: 1 | Num protos: 3\n",
      "\tProto: 5 0.5555555555555556\n",
      "\tProto: 6 0.9\n",
      "\tProto: 0 0.8\n",
      "Node: 162+180 | Child: cub_180_Wilson_Warbler | Purity: 0.7333333333333334 | Num desc: 1 | Num protos: 3\n",
      "\tProto: 17 0.9\n",
      "\tProto: 16 0.4\n",
      "\tProto: 14 0.9\n",
      "Number of prototypes in parts_presences:  6\n",
      "Part-related (purity>0.5): 6\n",
      "Node: 168+200 | Child: 168+170 | Purity: 0.9296296296296296 | Num desc: 2 | Num protos: 3\n",
      "\tProto: 8 0.9\n",
      "\tProto: 4 0.8888888888888888\n",
      "\tProto: 0 1.0\n",
      "Node: 168+200 | Child: cub_200_Common_Yellowthroat | Purity: 0.9 | Num desc: 1 | Num protos: 3\n",
      "\tProto: 17 0.9\n",
      "\tProto: 13 1.0\n",
      "\tProto: 14 0.8\n",
      "Number of prototypes in parts_presences:  4\n",
      "Part-related (purity>0.5): 4\n",
      "Node: 177+178 | Child: cub_177_Prothonotary_Warbler | Purity: 0.9 | Num desc: 1 | Num protos: 2\n",
      "\tProto: 6 0.8\n",
      "\tProto: 7 1.0\n",
      "Node: 177+178 | Child: cub_178_Swainson_Warbler | Purity: 0.8 | Num desc: 1 | Num protos: 2\n",
      "\tProto: 15 0.7\n",
      "\tProto: 18 0.9\n",
      "Number of prototypes in parts_presences:  5\n",
      "Part-related (purity>0.5): 4\n",
      "Node: 173+179 | Child: 173+172 | Purity: 0.7333333333333334 | Num desc: 2 | Num protos: 3\n",
      "\tProto: 5 0.8\n",
      "\tProto: 3 0.5\n",
      "\tProto: 0 0.9\n",
      "Node: 173+179 | Child: cub_179_Tennessee_Warbler | Purity: 0.6 | Num desc: 1 | Num protos: 2\n",
      "\tProto: 17 0.6\n",
      "\tProto: 13 0.6\n",
      "Number of prototypes in parts_presences:  6\n",
      "Part-related (purity>0.5): 5\n",
      "Node: 161+166 | Child: cub_161_Blue_winged_Warbler | Purity: 0.8592592592592593 | Num desc: 1 | Num protos: 3\n",
      "\tProto: 1 0.9\n",
      "\tProto: 5 0.9\n",
      "\tProto: 7 0.7777777777777778\n",
      "Node: 161+166 | Child: cub_166_Golden_winged_Warbler | Purity: 0.7333333333333334 | Num desc: 1 | Num protos: 3\n",
      "\tProto: 12 0.5\n",
      "\tProto: 10 0.8\n",
      "\tProto: 11 0.9\n",
      "Number of prototypes in parts_presences:  5\n",
      "Part-related (purity>0.5): 5\n",
      "Node: 183+184 | Child: cub_183_Northern_Waterthrush | Purity: 0.8 | Num desc: 1 | Num protos: 2\n",
      "\tProto: 8 0.8\n",
      "\tProto: 2 0.8\n",
      "Node: 183+184 | Child: cub_184_Louisiana_Waterthrush | Purity: 0.9333333333333332 | Num desc: 1 | Num protos: 3\n",
      "\tProto: 17 0.9\n",
      "\tProto: 13 0.9\n",
      "\tProto: 14 1.0\n",
      "Number of prototypes in parts_presences:  6\n",
      "Part-related (purity>0.5): 6\n",
      "Node: 129+127 | Child: 129+123 | Purity: 0.8999999999999999 | Num desc: 4 | Num protos: 4\n",
      "\tProto: 5 0.9\n",
      "\tProto: 4 1.0\n",
      "\tProto: 8 0.9\n",
      "\tProto: 0 0.8\n",
      "Node: 129+127 | Child: cub_127_Savannah_Sparrow | Purity: 0.95 | Num desc: 1 | Num protos: 2\n",
      "\tProto: 12 1.0\n",
      "\tProto: 13 0.9\n",
      "Number of prototypes in parts_presences:  5\n",
      "Part-related (purity>0.5): 5\n",
      "Node: 128+131 | Child: 128+124 | Purity: 0.8722222222222222 | Num desc: 3 | Num protos: 4\n",
      "\tProto: 6 0.8\n",
      "\tProto: 3 0.8\n",
      "\tProto: 5 0.8888888888888888\n",
      "\tProto: 9 1.0\n",
      "Node: 128+131 | Child: cub_131_Vesper_Sparrow | Purity: 1.0 | Num desc: 1 | Num protos: 1\n",
      "\tProto: 17 1.0\n",
      "Number of prototypes in parts_presences:  6\n",
      "Part-related (purity>0.5): 4\n",
      "Node: 133+132 | Child: 133+122 | Purity: 0.65 | Num desc: 2 | Num protos: 4\n",
      "\tProto: 9 0.8\n",
      "\tProto: 3 0.9\n",
      "\tProto: 4 0.5\n",
      "\tProto: 7 0.4\n",
      "Node: 133+132 | Child: cub_132_White_crowned_Sparrow | Purity: 0.95 | Num desc: 1 | Num protos: 2\n",
      "\tProto: 12 1.0\n",
      "\tProto: 16 0.9\n",
      "Number of prototypes in parts_presences:  8\n",
      "Part-related (purity>0.5): 8\n",
      "Node: 175+169 | Child: 175+165+182 | Purity: 0.7177777777777777 | Num desc: 10 | Num protos: 5\n",
      "\tProto: 9 0.6666666666666666\n",
      "\tProto: 0 0.6666666666666666\n",
      "\tProto: 3 0.7\n",
      "\tProto: 2 0.6666666666666666\n",
      "\tProto: 5 0.8888888888888888\n",
      "Node: 175+169 | Child: cub_169_Magnolia_Warbler | Purity: 0.9333333333333332 | Num desc: 1 | Num protos: 3\n",
      "\tProto: 17 1.0\n",
      "\tProto: 15 1.0\n",
      "\tProto: 16 0.8\n",
      "Number of prototypes in parts_presences:  5\n",
      "Part-related (purity>0.5): 4\n",
      "Node: 168+170 | Child: cub_168_Kentucky_Warbler | Purity: 0.7 | Num desc: 1 | Num protos: 2\n",
      "\tProto: 6 0.6\n",
      "\tProto: 0 0.8\n",
      "Node: 168+170 | Child: cub_170_Mourning_Warbler | Purity: 0.6333333333333333 | Num desc: 1 | Num protos: 3\n",
      "\tProto: 17 0.8\n",
      "\tProto: 12 0.7\n",
      "\tProto: 13 0.4\n",
      "Number of prototypes in parts_presences:  7\n",
      "Part-related (purity>0.5): 7\n",
      "Node: 173+172 | Child: cub_172_Nashville_Warbler | Purity: 0.9 | Num desc: 1 | Num protos: 3\n",
      "\tProto: 19 0.7\n",
      "\tProto: 10 1.0\n",
      "\tProto: 14 1.0\n",
      "Node: 173+172 | Child: cub_173_Orange_crowned_Warbler | Purity: 0.975 | Num desc: 1 | Num protos: 4\n",
      "\tProto: 6 0.9\n",
      "\tProto: 1 1.0\n",
      "\tProto: 4 1.0\n",
      "\tProto: 9 1.0\n",
      "Number of prototypes in parts_presences:  7\n",
      "Part-related (purity>0.5): 7\n",
      "Node: 129+123 | Child: 123+113 | Purity: 0.9666666666666667 | Num desc: 2 | Num protos: 3\n",
      "\tProto: 15 1.0\n",
      "\tProto: 10 1.0\n",
      "\tProto: 18 0.9\n",
      "Node: 129+123 | Child: 129+125 | Purity: 0.8500000000000001 | Num desc: 2 | Num protos: 4\n",
      "\tProto: 5 0.9\n",
      "\tProto: 9 0.8\n",
      "\tProto: 4 0.9\n",
      "\tProto: 0 0.8\n",
      "Number of prototypes in parts_presences:  5\n",
      "Part-related (purity>0.5): 5\n",
      "Node: 128+124 | Child: cub_124_Le_Conte_Sparrow | Purity: 0.9 | Num desc: 1 | Num protos: 1\n",
      "\tProto: 14 0.9\n",
      "Node: 128+124 | Child: 128+126 | Purity: 0.775 | Num desc: 2 | Num protos: 4\n",
      "\tProto: 1 0.9\n",
      "\tProto: 2 0.7\n",
      "\tProto: 4 0.9\n",
      "\tProto: 7 0.6\n",
      "Number of prototypes in parts_presences:  6\n",
      "Part-related (purity>0.5): 3\n",
      "Node: 133+122 | Child: cub_122_Harris_Sparrow | Purity: 0.725 | Num desc: 1 | Num protos: 4\n",
      "\tProto: 16 1.0\n",
      "\tProto: 12 0.4\n",
      "\tProto: 10 0.5\n",
      "\tProto: 14 1.0\n",
      "Node: 133+122 | Child: cub_133_White_throated_Sparrow | Purity: 0.55 | Num desc: 1 | Num protos: 2\n",
      "\tProto: 9 0.3\n",
      "\tProto: 3 0.8\n",
      "Number of prototypes in parts_presences:  10\n",
      "Part-related (purity>0.5): 6\n",
      "Node: 175+165+182 | Child: 175+160 | Purity: 0.55 | Num desc: 5 | Num protos: 4\n",
      "\tProto: 6 0.5\n",
      "\tProto: 1 0.7\n",
      "\tProto: 2 0.2\n",
      "\tProto: 4 0.8\n",
      "Node: 175+165+182 | Child: 165+164+163 | Purity: 0.4666666666666666 | Num desc: 4 | Num protos: 3\n",
      "\tProto: 12 0.1\n",
      "\tProto: 13 0.9\n",
      "\tProto: 11 0.4\n",
      "Node: 175+165+182 | Child: cub_182_Yellow_Warbler | Purity: 0.9 | Num desc: 1 | Num protos: 3\n",
      "\tProto: 19 0.7\n",
      "\tProto: 18 1.0\n",
      "\tProto: 14 1.0\n",
      "Number of prototypes in parts_presences:  6\n",
      "Part-related (purity>0.5): 6\n",
      "Node: 129+125 | Child: cub_125_Lincoln_Sparrow | Purity: 0.9666666666666667 | Num desc: 1 | Num protos: 3\n",
      "\tProto: 17 1.0\n",
      "\tProto: 18 0.9\n",
      "\tProto: 16 1.0\n",
      "Node: 129+125 | Child: cub_129_Song_Sparrow | Purity: 0.9333333333333332 | Num desc: 1 | Num protos: 3\n",
      "\tProto: 3 0.9\n",
      "\tProto: 2 0.9\n",
      "\tProto: 4 1.0\n",
      "Number of prototypes in parts_presences:  6\n",
      "Part-related (purity>0.5): 4\n",
      "Node: 123+113 | Child: cub_113_Baird_Sparrow | Purity: 0.7666666666666666 | Num desc: 1 | Num protos: 3\n",
      "\tProto: 12 1.0\n",
      "\tProto: 19 0.8\n",
      "\tProto: 14 0.5\n",
      "Node: 123+113 | Child: cub_123_Henslow_Sparrow | Purity: 0.7333333333333334 | Num desc: 1 | Num protos: 3\n",
      "\tProto: 6 0.3\n",
      "\tProto: 0 0.9\n",
      "\tProto: 9 1.0\n",
      "Number of prototypes in parts_presences:  4\n",
      "Part-related (purity>0.5): 4\n",
      "Node: 128+126 | Child: cub_126_Nelson_Sharp_tailed_Sparrow | Purity: 0.95 | Num desc: 1 | Num protos: 2\n",
      "\tProto: 17 1.0\n",
      "\tProto: 19 0.9\n",
      "Node: 128+126 | Child: cub_128_Seaside_Sparrow | Purity: 0.95 | Num desc: 1 | Num protos: 2\n",
      "\tProto: 8 1.0\n",
      "\tProto: 9 0.9\n",
      "Number of prototypes in parts_presences:  8\n",
      "Part-related (purity>0.5): 8\n",
      "Node: 175+160 | Child: 160+109 | Purity: 0.9 | Num desc: 2 | Num protos: 3\n",
      "\tProto: 18 0.9\n",
      "\tProto: 13 0.8\n",
      "\tProto: 11 1.0\n",
      "Node: 175+160 | Child: 175+176 | Purity: 0.8705555555555555 | Num desc: 3 | Num protos: 5\n",
      "\tProto: 0 0.7777777777777778\n",
      "\tProto: 7 0.8\n",
      "\tProto: 8 1.0\n",
      "\tProto: 1 0.875\n",
      "\tProto: 4 0.9\n",
      "Number of prototypes in parts_presences:  7\n",
      "Part-related (purity>0.5): 6\n",
      "Node: 165+164+163 | Child: 165+158 | Purity: 0.8888888888888888 | Num desc: 2 | Num protos: 2\n",
      "\tProto: 2 1.0\n",
      "\tProto: 0 0.7777777777777778\n",
      "Node: 165+164+163 | Child: cub_163_Cape_May_Warbler | Purity: 0.7333333333333334 | Num desc: 1 | Num protos: 3\n",
      "\tProto: 17 0.8\n",
      "\tProto: 19 0.9\n",
      "\tProto: 16 0.5\n",
      "Node: 165+164+163 | Child: cub_164_Cerulean_Warbler | Purity: 0.95 | Num desc: 1 | Num protos: 2\n",
      "\tProto: 10 1.0\n",
      "\tProto: 11 0.9\n",
      "Number of prototypes in parts_presences:  5\n",
      "Part-related (purity>0.5): 5\n",
      "Node: 175+176 | Child: 175+174 | Purity: 0.8592592592592593 | Num desc: 2 | Num protos: 3\n",
      "\tProto: 6 0.7777777777777778\n",
      "\tProto: 2 0.8\n",
      "\tProto: 5 1.0\n",
      "Node: 175+176 | Child: cub_176_Prairie_Warbler | Purity: 0.9 | Num desc: 1 | Num protos: 2\n",
      "\tProto: 10 0.8\n",
      "\tProto: 18 1.0\n",
      "Number of prototypes in parts_presences:  5\n",
      "Part-related (purity>0.5): 4\n",
      "Node: 160+109 | Child: cub_109_American_Redstart | Purity: 0.7333333333333334 | Num desc: 1 | Num protos: 3\n",
      "\tProto: 19 0.7\n",
      "\tProto: 13 0.5\n",
      "\tProto: 10 1.0\n",
      "Node: 160+109 | Child: cub_160_Black_throated_Blue_Warbler | Purity: 0.8 | Num desc: 1 | Num protos: 2\n",
      "\tProto: 1 1.0\n",
      "\tProto: 0 0.6\n",
      "Number of prototypes in parts_presences:  6\n",
      "Part-related (purity>0.5): 5\n",
      "Node: 165+158 | Child: cub_158_Bay_breasted_Warbler | Purity: 0.9333333333333332 | Num desc: 1 | Num protos: 3\n",
      "\tProto: 15 1.0\n",
      "\tProto: 12 1.0\n",
      "\tProto: 16 0.8\n",
      "Node: 165+158 | Child: cub_165_Chestnut_sided_Warbler | Purity: 0.7666666666666666 | Num desc: 1 | Num protos: 3\n",
      "\tProto: 6 1.0\n",
      "\tProto: 0 0.5\n",
      "\tProto: 7 0.8\n",
      "Number of prototypes in parts_presences:  4\n",
      "Part-related (purity>0.5): 4\n",
      "Node: 175+174 | Child: cub_174_Palm_Warbler | Purity: 0.95 | Num desc: 1 | Num protos: 2\n",
      "\tProto: 15 0.9\n",
      "\tProto: 16 1.0\n",
      "Node: 175+174 | Child: cub_175_Pine_Warbler | Purity: 0.8500000000000001 | Num desc: 1 | Num protos: 2\n",
      "\tProto: 2 0.8\n",
      "\tProto: 7 0.9\n"
     ]
    }
   ],
   "source": [
    "node_wise_purity = []\n",
    "for csvfile_topk, node in zip(list_csvfile_topk, root.nodes_with_children()):\n",
    "    # node_purity = eval_prototypes_cub_parts_csv_nodewise(node, csvfile_topk, part_locs_file, parts_name_path, \\\n",
    "    #                           imgs_id_path, 'projectloader_topk_'+str(epoch), args, desc_threshold=0.2)\n",
    "    node_purity, max_presence_purity = eval_prototypes_cub_parts_csv_nodewise_maxmin(node, csvfile_topk, part_locs_file, parts_name_path, \\\n",
    "                              imgs_id_path, 'projectloader_topk_'+str(epoch), args, desc_threshold=0.2)\n",
    "    node_wise_purity.append(node_purity)\n"
   ]
  },
  {
   "cell_type": "code",
   "execution_count": 21,
   "id": "0d1a6040-5d79-4266-a9f0-ce81121de105",
   "metadata": {},
   "outputs": [
    {
     "name": "stdout",
     "output_type": "stream",
     "text": [
      "nan\n",
      "nan\n",
      "0.7714140068646155\n",
      "0.16296411154045756\n"
     ]
    }
   ],
   "source": [
    "print(np.mean(node_wise_purity))\n",
    "print(np.std(node_wise_purity))\n",
    "\n",
    "print(np.nanmean(node_wise_purity))\n",
    "print(np.nanstd(node_wise_purity))"
   ]
  },
  {
   "cell_type": "markdown",
   "id": "e006c62c-793f-4250-a08f-73e6296e3264",
   "metadata": {},
   "source": [
    "# Ratio of good protos / Total protos"
   ]
  },
  {
   "cell_type": "code",
   "execution_count": 17,
   "id": "3b42fb9b-b99c-4800-a94b-8b5d8893a01d",
   "metadata": {},
   "outputs": [
    {
     "name": "stdout",
     "output_type": "stream",
     "text": [
      "root 129+024+067 Good/Total: 0/4 Good proto idxs: tensor([], device='cuda:0', dtype=torch.int64)\n",
      "root 089+046 Good/Total: 2/5 Good proto idxs: tensor([16, 19], device='cuda:0')\n",
      "129+024+067 129+065 Good/Total: 0/1 Good proto idxs: tensor([], device='cuda:0', dtype=torch.int64)\n",
      "129+024+067 024+051 Good/Total: 0/2 Good proto idxs: tensor([], device='cuda:0', dtype=torch.int64)\n",
      "129+024+067 067+070 Good/Total: 1/2 Good proto idxs: tensor([15], device='cuda:0')\n",
      "089+046 089+090 Good/Total: 4/4 Good proto idxs: tensor([2, 7, 8, 9], device='cuda:0')\n",
      "089+046 046+087 Good/Total: 5/5 Good proto idxs: tensor([11, 13, 14, 15, 18], device='cuda:0')\n",
      "129+065 129+192 Good/Total: 0/3 Good proto idxs: tensor([], device='cuda:0', dtype=torch.int64)\n",
      "129+065 065+006 Good/Total: 0/5 Good proto idxs: tensor([], device='cuda:0', dtype=torch.int64)\n",
      "024+051 024+031 Good/Total: 0/6 Good proto idxs: tensor([], device='cuda:0', dtype=torch.int64)\n",
      "024+051 051+052 Good/Total: 5/5 Good proto idxs: tensor([13, 16, 17, 18, 19], device='cuda:0')\n",
      "067+070 067+068 Good/Total: 4/4 Good proto idxs: tensor([0, 2, 4, 9], device='cuda:0')\n",
      "067+070 cub_070_Green_Violetear Good/Total: 2/2 Good proto idxs: tensor([14, 15], device='cuda:0')\n",
      "089+090 cub_089_Hooded_Merganser Good/Total: 2/2 Good proto idxs: tensor([2, 4], device='cuda:0')\n",
      "089+090 cub_090_Red_breasted_Merganser Good/Total: 3/3 Good proto idxs: tensor([10, 16, 18], device='cuda:0')\n",
      "046+087 cub_046_Gadwall Good/Total: 2/2 Good proto idxs: tensor([3, 6], device='cuda:0')\n",
      "046+087 cub_087_Mallard Good/Total: 2/2 Good proto idxs: tensor([18, 19], device='cuda:0')\n",
      "129+192 129+043 Good/Total: 0/5 Good proto idxs: tensor([], device='cuda:0', dtype=torch.int64)\n",
      "129+192 192+081 Good/Total: 0/7 Good proto idxs: tensor([], device='cuda:0', dtype=torch.int64)\n",
      "065+006 065+144 Good/Total: 0/7 Good proto idxs: tensor([], device='cuda:0', dtype=torch.int64)\n",
      "065+006 006+071 Good/Total: 1/5 Good proto idxs: tensor([19], device='cuda:0')\n",
      "024+031 024+086 Good/Total: 3/7 Good proto idxs: tensor([3, 5, 9], device='cuda:0')\n",
      "024+031 031+004 Good/Total: 5/5 Good proto idxs: tensor([13, 14, 15, 16, 18], device='cuda:0')\n",
      "051+052 051+053 Good/Total: 4/4 Good proto idxs: tensor([3, 5, 7, 9], device='cuda:0')\n",
      "051+052 cub_052_Pied_billed_Grebe Good/Total: 3/3 Good proto idxs: tensor([11, 16, 18], device='cuda:0')\n",
      "067+068 067+069 Good/Total: 4/4 Good proto idxs: tensor([3, 5, 6, 8], device='cuda:0')\n",
      "067+068 cub_068_Ruby_throated_Hummingbird Good/Total: 2/2 Good proto idxs: tensor([11, 18], device='cuda:0')\n",
      "129+043 129+018 Good/Total: 0/3 Good proto idxs: tensor([], device='cuda:0', dtype=torch.int64)\n",
      "129+043 043+078 Good/Total: 0/4 Good proto idxs: tensor([], device='cuda:0', dtype=torch.int64)\n",
      "192+081 192+036 Good/Total: 5/6 Good proto idxs: tensor([1, 6, 7, 8, 9], device='cuda:0')\n",
      "192+081 081+083 Good/Total: 6/6 Good proto idxs: tensor([10, 11, 12, 15, 18, 19], device='cuda:0')\n",
      "065+144 065+084 Good/Total: 5/6 Good proto idxs: tensor([0, 1, 2, 3, 7], device='cuda:0')\n",
      "065+144 144+147 Good/Total: 4/4 Good proto idxs: tensor([10, 12, 14, 19], device='cuda:0')\n",
      "006+071 006+058 Good/Total: 5/5 Good proto idxs: tensor([2, 6, 7, 8, 9], device='cuda:0')\n",
      "006+071 071+072 Good/Total: 4/4 Good proto idxs: tensor([11, 13, 14, 17], device='cuda:0')\n",
      "024+086 024+001 Good/Total: 2/8 Good proto idxs: tensor([3, 5], device='cuda:0')\n",
      "024+086 cub_086_Pacific_Loon Good/Total: 5/5 Good proto idxs: tensor([10, 12, 13, 15, 19], device='cuda:0')\n",
      "031+004 031+032 Good/Total: 5/5 Good proto idxs: tensor([0, 2, 4, 7, 9], device='cuda:0')\n",
      "031+004 cub_004_Groove_billed_Ani Good/Total: 2/2 Good proto idxs: tensor([13, 19], device='cuda:0')\n",
      "051+053 051+050 Good/Total: 3/3 Good proto idxs: tensor([2, 4, 8], device='cuda:0')\n",
      "051+053 cub_053_Western_Grebe Good/Total: 2/2 Good proto idxs: tensor([12, 17], device='cuda:0')\n",
      "067+069 cub_067_Anna_Hummingbird Good/Total: 3/3 Good proto idxs: tensor([3, 4, 9], device='cuda:0')\n",
      "067+069 cub_069_Rufous_Hummingbird Good/Total: 2/2 Good proto idxs: tensor([12, 18], device='cuda:0')\n",
      "129+018 129+107 Good/Total: 0/6 Good proto idxs: tensor([], device='cuda:0', dtype=torch.int64)\n",
      "129+018 cub_018_Spotted_Catbird Good/Total: 6/6 Good proto idxs: tensor([10, 11, 12, 14, 17, 19], device='cuda:0')\n",
      "043+078 043+042 Good/Total: 4/4 Good proto idxs: tensor([0, 3, 4, 9], device='cuda:0')\n",
      "043+078 078+038 Good/Total: 4/4 Good proto idxs: tensor([11, 14, 18, 19], device='cuda:0')\n",
      "192+036 192+191 Good/Total: 4/4 Good proto idxs: tensor([0, 1, 3, 7], device='cuda:0')\n",
      "192+036 036+188 Good/Total: 3/3 Good proto idxs: tensor([11, 16, 19], device='cuda:0')\n",
      "081+083 081+082 Good/Total: 5/5 Good proto idxs: tensor([0, 3, 4, 5, 6], device='cuda:0')\n",
      "081+083 cub_083_White_breasted_Kingfisher Good/Total: 2/2 Good proto idxs: tensor([14, 15], device='cuda:0')\n",
      "065+084 065+061 Good/Total: 4/4 Good proto idxs: tensor([1, 2, 4, 9], device='cuda:0')\n",
      "065+084 084+063 Good/Total: 2/2 Good proto idxs: tensor([12, 15], device='cuda:0')\n",
      "144+147 144+143 Good/Total: 4/5 Good proto idxs: tensor([0, 1, 3, 7], device='cuda:0')\n",
      "144+147 cub_147_Least_Tern Good/Total: 4/4 Good proto idxs: tensor([12, 17, 18, 19], device='cuda:0')\n",
      "006+058 006+008 Good/Total: 6/6 Good proto idxs: tensor([0, 1, 2, 5, 6, 8], device='cuda:0')\n",
      "006+058 cub_058_Pigeon_Guillemot Good/Total: 3/3 Good proto idxs: tensor([14, 16, 17], device='cuda:0')\n",
      "071+072 cub_071_Long_tailed_Jaeger Good/Total: 2/2 Good proto idxs: tensor([1, 9], device='cuda:0')\n",
      "071+072 cub_072_Pomarine_Jaeger Good/Total: 2/2 Good proto idxs: tensor([10, 14], device='cuda:0')\n",
      "024+001 024+100 Good/Total: 6/6 Good proto idxs: tensor([1, 2, 4, 5, 6, 7], device='cuda:0')\n",
      "024+001 001+045 Good/Total: 4/4 Good proto idxs: tensor([11, 13, 15, 19], device='cuda:0')\n",
      "031+032 031+033 Good/Total: 3/3 Good proto idxs: tensor([3, 5, 7], device='cuda:0')\n",
      "031+032 cub_032_Mangrove_Cuckoo Good/Total: 2/2 Good proto idxs: tensor([12, 15], device='cuda:0')\n",
      "051+050 cub_051_Horned_Grebe Good/Total: 3/3 Good proto idxs: tensor([2, 4, 7], device='cuda:0')\n",
      "051+050 cub_050_Eared_Grebe Good/Total: 3/3 Good proto idxs: tensor([11, 18, 19], device='cuda:0')\n",
      "129+107 129+136 Good/Total: 0/4 Good proto idxs: tensor([], device='cuda:0', dtype=torch.int64)\n",
      "129+107 107+151 Good/Total: 0/4 Good proto idxs: tensor([], device='cuda:0', dtype=torch.int64)\n",
      "043+042 043+040 Good/Total: 6/6 Good proto idxs: tensor([0, 1, 2, 3, 6, 9], device='cuda:0')\n",
      "043+042 cub_042_Vermilion_Flycatcher Good/Total: 2/2 Good proto idxs: tensor([10, 15], device='cuda:0')\n",
      "078+038 078+041 Good/Total: 4/4 Good proto idxs: tensor([3, 6, 7, 9], device='cuda:0')\n",
      "078+038 cub_038_Great_Crested_Flycatcher Good/Total: 2/2 Good proto idxs: tensor([12, 19], device='cuda:0')\n",
      "192+191 192+187 Good/Total: 4/4 Good proto idxs: tensor([1, 5, 6, 7], device='cuda:0')\n",
      "192+191 191+189 Good/Total: 3/3 Good proto idxs: tensor([13, 17, 18], device='cuda:0')\n",
      "036+188 cub_036_Northern_Flicker Good/Total: 2/2 Good proto idxs: tensor([2, 6], device='cuda:0')\n",
      "036+188 cub_188_Pileated_Woodpecker Good/Total: 2/2 Good proto idxs: tensor([13, 14], device='cuda:0')\n",
      "081+082 081+080 Good/Total: 4/4 Good proto idxs: tensor([0, 2, 5, 8], device='cuda:0')\n",
      "081+082 082+079 Good/Total: 4/4 Good proto idxs: tensor([12, 13, 14, 15], device='cuda:0')\n",
      "065+061 065+066 Good/Total: 5/5 Good proto idxs: tensor([3, 4, 5, 8, 9], device='cuda:0')\n",
      "065+061 061+064 Good/Total: 4/4 Good proto idxs: tensor([10, 14, 17, 19], device='cuda:0')\n",
      "084+063 cub_084_Red_legged_Kittiwake Good/Total: 3/3 Good proto idxs: tensor([5, 6, 8], device='cuda:0')\n",
      "084+063 cub_063_Ivory_Gull Good/Total: 3/3 Good proto idxs: tensor([13, 15, 18], device='cuda:0')\n",
      "144+143 144+142 Good/Total: 6/6 Good proto idxs: tensor([3, 4, 5, 6, 7, 9], device='cuda:0')\n",
      "144+143 cub_143_Caspian_Tern Good/Total: 3/3 Good proto idxs: tensor([10, 12, 13], device='cuda:0')\n",
      "006+008 006+005 Good/Total: 4/4 Good proto idxs: tensor([1, 2, 4, 7], device='cuda:0')\n",
      "006+008 008+106 Good/Total: 2/2 Good proto idxs: tensor([16, 18], device='cuda:0')\n",
      "024+100 024+023 Good/Total: 5/5 Good proto idxs: tensor([4, 5, 7, 8, 9], device='cuda:0')\n",
      "024+100 100+101 Good/Total: 4/4 Good proto idxs: tensor([10, 13, 16, 19], device='cuda:0')\n",
      "001+045 001+003 Good/Total: 5/5 Good proto idxs: tensor([3, 4, 5, 7, 8], device='cuda:0')\n",
      "001+045 cub_045_Northern_Fulmar Good/Total: 3/3 Good proto idxs: tensor([12, 16, 17], device='cuda:0')\n",
      "031+033 cub_031_Black_billed_Cuckoo Good/Total: 2/2 Good proto idxs: tensor([0, 1], device='cuda:0')\n",
      "031+033 cub_033_Yellow_billed_Cuckoo Good/Total: 2/2 Good proto idxs: tensor([14, 15], device='cuda:0')\n",
      "129+136 129+199 Good/Total: 0/4 Good proto idxs: tensor([], device='cuda:0', dtype=torch.int64)\n",
      "129+136 136+085 Good/Total: 0/4 Good proto idxs: tensor([], device='cuda:0', dtype=torch.int64)\n",
      "107+151 107+111 Good/Total: 5/7 Good proto idxs: tensor([2, 3, 7, 8, 9], device='cuda:0')\n",
      "107+151 151+153 Good/Total: 5/5 Good proto idxs: tensor([10, 12, 13, 18, 19], device='cuda:0')\n",
      "043+040 043+037 Good/Total: 6/6 Good proto idxs: tensor([0, 2, 4, 5, 8, 9], device='cuda:0')\n",
      "043+040 040+102 Good/Total: 3/3 Good proto idxs: tensor([11, 17, 18], device='cuda:0')\n",
      "078+041 078+077 Good/Total: 4/4 Good proto idxs: tensor([0, 3, 7, 8], device='cuda:0')\n",
      "078+041 cub_041_Scissor_tailed_Flycatcher Good/Total: 2/2 Good proto idxs: tensor([13, 16], device='cuda:0')\n",
      "192+187 192+190 Good/Total: 2/2 Good proto idxs: tensor([0, 7], device='cuda:0')\n",
      "192+187 cub_187_American_Three_toed_Woodpecker Good/Total: 2/2 Good proto idxs: tensor([18, 19], device='cuda:0')\n",
      "191+189 cub_191_Red_headed_Woodpecker Good/Total: 2/2 Good proto idxs: tensor([0, 1], device='cuda:0')\n",
      "191+189 cub_189_Red_bellied_Woodpecker Good/Total: 2/2 Good proto idxs: tensor([11, 17], device='cuda:0')\n",
      "081+080 cub_081_Pied_Kingfisher Good/Total: 2/2 Good proto idxs: tensor([1, 8], device='cuda:0')\n",
      "081+080 cub_080_Green_Kingfisher Good/Total: 2/2 Good proto idxs: tensor([10, 18], device='cuda:0')\n",
      "082+079 cub_082_Ringed_Kingfisher Good/Total: 3/3 Good proto idxs: tensor([1, 7, 8], device='cuda:0')\n",
      "082+079 cub_079_Belted_Kingfisher Good/Total: 2/2 Good proto idxs: tensor([14, 16], device='cuda:0')\n",
      "065+066 065+062 Good/Total: 5/5 Good proto idxs: tensor([0, 3, 5, 6, 9], device='cuda:0')\n",
      "065+066 cub_066_Western_Gull Good/Total: 3/3 Good proto idxs: tensor([15, 16, 17], device='cuda:0')\n",
      "061+064 cub_061_Heermann_Gull Good/Total: 2/2 Good proto idxs: tensor([4, 8], device='cuda:0')\n",
      "061+064 cub_064_Ring_billed_Gull Good/Total: 2/2 Good proto idxs: tensor([11, 12], device='cuda:0')\n",
      "144+142 144+145 Good/Total: 5/5 Good proto idxs: tensor([2, 4, 5, 7, 9], device='cuda:0')\n",
      "144+142 cub_142_Black_Tern Good/Total: 3/3 Good proto idxs: tensor([12, 14, 17], device='cuda:0')\n",
      "006+005 006+007 Good/Total: 2/2 Good proto idxs: tensor([5, 8], device='cuda:0')\n",
      "006+005 cub_005_Crested_Auklet Good/Total: 2/2 Good proto idxs: tensor([13, 15], device='cuda:0')\n",
      "008+106 cub_008_Rhinoceros_Auklet Good/Total: 3/3 Good proto idxs: tensor([3, 7, 8], device='cuda:0')\n",
      "008+106 cub_106_Horned_Puffin Good/Total: 2/2 Good proto idxs: tensor([15, 16], device='cuda:0')\n",
      "024+023 024+025 Good/Total: 4/4 Good proto idxs: tensor([1, 4, 7, 9], device='cuda:0')\n",
      "024+023 cub_023_Brandt_Cormorant Good/Total: 3/3 Good proto idxs: tensor([11, 18, 19], device='cuda:0')\n",
      "100+101 cub_100_Brown_Pelican Good/Total: 2/2 Good proto idxs: tensor([0, 5], device='cuda:0')\n",
      "100+101 cub_101_White_Pelican Good/Total: 2/2 Good proto idxs: tensor([11, 19], device='cuda:0')\n",
      "001+003 001+002 Good/Total: 4/4 Good proto idxs: tensor([0, 4, 5, 7], device='cuda:0')\n",
      "001+003 cub_003_Sooty_Albatross Good/Total: 1/1 Good proto idxs: tensor([13], device='cuda:0')\n",
      "129+199 129+118 Good/Total: 0/2 Good proto idxs: tensor([], device='cuda:0', dtype=torch.int64)\n",
      "129+199 199+186 Good/Total: 0/6 Good proto idxs: tensor([], device='cuda:0', dtype=torch.int64)\n",
      "136+085 136+138 Good/Total: 3/3 Good proto idxs: tensor([1, 3, 8], device='cuda:0')\n",
      "136+085 cub_085_Horned_Lark Good/Total: 3/3 Good proto idxs: tensor([14, 15, 17], device='cuda:0')\n",
      "107+111 107+073 Good/Total: 7/7 Good proto idxs: tensor([0, 1, 5, 6, 7, 8, 9], device='cuda:0')\n",
      "107+111 111+112 Good/Total: 3/3 Good proto idxs: tensor([10, 11, 12], device='cuda:0')\n",
      "151+153 151+157 Good/Total: 4/4 Good proto idxs: tensor([1, 3, 5, 9], device='cuda:0')\n",
      "151+153 153+154 Good/Total: 4/4 Good proto idxs: tensor([12, 16, 18, 19], device='cuda:0')\n",
      "043+037 043+039 Good/Total: 3/3 Good proto idxs: tensor([0, 1, 7], device='cuda:0')\n",
      "043+037 cub_037_Acadian_Flycatcher Good/Total: 3/3 Good proto idxs: tensor([11, 12, 16], device='cuda:0')\n",
      "040+102 cub_040_Olive_sided_Flycatcher Good/Total: 3/3 Good proto idxs: tensor([2, 4, 9], device='cuda:0')\n",
      "040+102 cub_102_Western_Wood_Pewee Good/Total: 3/3 Good proto idxs: tensor([10, 13, 19], device='cuda:0')\n",
      "078+077 cub_078_Gray_Kingbird Good/Total: 2/2 Good proto idxs: tensor([0, 1], device='cuda:0')\n",
      "078+077 cub_077_Tropical_Kingbird Good/Total: 3/3 Good proto idxs: tensor([10, 13, 18], device='cuda:0')\n",
      "192+190 cub_192_Downy_Woodpecker Good/Total: 2/2 Good proto idxs: tensor([3, 4], device='cuda:0')\n",
      "192+190 cub_190_Red_cockaded_Woodpecker Good/Total: 3/3 Good proto idxs: tensor([11, 12, 17], device='cuda:0')\n",
      "065+062 065+059 Good/Total: 4/4 Good proto idxs: tensor([2, 5, 7, 8], device='cuda:0')\n",
      "065+062 cub_062_Herring_Gull Good/Total: 2/2 Good proto idxs: tensor([10, 13], device='cuda:0')\n",
      "144+145 144+146 Good/Total: 3/3 Good proto idxs: tensor([0, 1, 4], device='cuda:0')\n",
      "144+145 cub_145_Elegant_Tern Good/Total: 3/3 Good proto idxs: tensor([11, 12, 18], device='cuda:0')\n",
      "006+007 cub_006_Least_Auklet Good/Total: 3/3 Good proto idxs: tensor([1, 7, 9], device='cuda:0')\n",
      "006+007 cub_007_Parakeet_Auklet Good/Total: 3/3 Good proto idxs: tensor([12, 14, 16], device='cuda:0')\n",
      "024+025 cub_024_Red_faced_Cormorant Good/Total: 2/2 Good proto idxs: tensor([8, 9], device='cuda:0')\n",
      "024+025 cub_025_Pelagic_Cormorant Good/Total: 2/2 Good proto idxs: tensor([10, 16], device='cuda:0')\n",
      "001+002 cub_001_Black_footed_Albatross Good/Total: 2/2 Good proto idxs: tensor([4, 9], device='cuda:0')\n",
      "001+002 cub_002_Laysan_Albatross Good/Total: 2/2 Good proto idxs: tensor([15, 17], device='cuda:0')\n",
      "129+118 129+104 Good/Total: 0/3 Good proto idxs: tensor([], device='cuda:0', dtype=torch.int64)\n",
      "129+118 cub_118_House_Sparrow Good/Total: 4/4 Good proto idxs: tensor([11, 13, 14, 16], device='cuda:0')\n",
      "199+186 199+150 Good/Total: 4/6 Good proto idxs: tensor([2, 3, 5, 6], device='cuda:0')\n",
      "199+186 186+185 Good/Total: 4/4 Good proto idxs: tensor([11, 14, 15, 19], device='cuda:0')\n",
      "136+138 136+137 Good/Total: 3/3 Good proto idxs: tensor([3, 5, 6], device='cuda:0')\n",
      "136+138 cub_138_Tree_Swallow Good/Total: 2/2 Good proto idxs: tensor([15, 19], device='cuda:0')\n",
      "107+073 107+093 Good/Total: 6/6 Good proto idxs: tensor([2, 3, 5, 7, 8, 9], device='cuda:0')\n",
      "107+073 073+074 Good/Total: 3/3 Good proto idxs: tensor([16, 17, 19], device='cuda:0')\n",
      "111+112 cub_111_Loggerhead_Shrike Good/Total: 2/2 Good proto idxs: tensor([0, 4], device='cuda:0')\n",
      "111+112 cub_112_Great_Grey_Shrike Good/Total: 3/3 Good proto idxs: tensor([10, 18, 19], device='cuda:0')\n",
      "151+157 151+156 Good/Total: 3/3 Good proto idxs: tensor([2, 4, 5], device='cuda:0')\n",
      "151+157 157+152 Good/Total: 3/3 Good proto idxs: tensor([11, 12, 13], device='cuda:0')\n",
      "153+154 153+155 Good/Total: 3/3 Good proto idxs: tensor([3, 5, 9], device='cuda:0')\n",
      "153+154 cub_154_Red_eyed_Vireo Good/Total: 3/3 Good proto idxs: tensor([11, 15, 19], device='cuda:0')\n",
      "043+039 cub_043_Yellow_bellied_Flycatcher Good/Total: 3/3 Good proto idxs: tensor([2, 3, 4], device='cuda:0')\n",
      "043+039 cub_039_Least_Flycatcher Good/Total: 2/2 Good proto idxs: tensor([11, 18], device='cuda:0')\n",
      "065+059 065+060 Good/Total: 3/3 Good proto idxs: tensor([3, 5, 6], device='cuda:0')\n",
      "065+059 cub_059_California_Gull Good/Total: 3/3 Good proto idxs: tensor([13, 15, 17], device='cuda:0')\n",
      "144+146 144+141 Good/Total: 2/2 Good proto idxs: tensor([1, 5], device='cuda:0')\n",
      "144+146 cub_146_Forsters_Tern Good/Total: 2/2 Good proto idxs: tensor([12, 19], device='cuda:0')\n",
      "129+104 129+035 Good/Total: 0/5 Good proto idxs: tensor([], device='cuda:0', dtype=torch.int64)\n",
      "129+104 cub_104_American_Pipit Good/Total: 2/2 Good proto idxs: tensor([10, 18], device='cuda:0')\n",
      "199+150 199+094 Good/Total: 4/6 Good proto idxs: tensor([0, 2, 7, 9], device='cuda:0')\n",
      "199+150 150+019 Good/Total: 4/4 Good proto idxs: tensor([12, 13, 14, 16], device='cuda:0')\n",
      "186+185 cub_186_Cedar_Waxwing Good/Total: 4/4 Good proto idxs: tensor([0, 3, 4, 6], device='cuda:0')\n",
      "186+185 cub_185_Bohemian_Waxwing Good/Total: 3/3 Good proto idxs: tensor([12, 13, 17], device='cuda:0')\n",
      "136+137 cub_136_Barn_Swallow Good/Total: 2/2 Good proto idxs: tensor([6, 7], device='cuda:0')\n",
      "136+137 cub_137_Cliff_Swallow Good/Total: 3/3 Good proto idxs: tensor([13, 16, 19], device='cuda:0')\n",
      "107+093 107+030 Good/Total: 5/5 Good proto idxs: tensor([3, 5, 7, 8, 9], device='cuda:0')\n",
      "107+093 cub_093_Clark_Nutcracker Good/Total: 2/2 Good proto idxs: tensor([15, 17], device='cuda:0')\n",
      "073+074 cub_073_Blue_Jay Good/Total: 3/3 Good proto idxs: tensor([0, 6, 7], device='cuda:0')\n",
      "073+074 cub_074_Florida_Jay Good/Total: 2/2 Good proto idxs: tensor([15, 18], device='cuda:0')\n",
      "151+156 cub_151_Black_capped_Vireo Good/Total: 3/3 Good proto idxs: tensor([1, 4, 7], device='cuda:0')\n",
      "151+156 cub_156_White_eyed_Vireo Good/Total: 3/3 Good proto idxs: tensor([13, 14, 15], device='cuda:0')\n",
      "157+152 cub_157_Yellow_throated_Vireo Good/Total: 2/2 Good proto idxs: tensor([1, 4], device='cuda:0')\n",
      "157+152 cub_152_Blue_headed_Vireo Good/Total: 2/2 Good proto idxs: tensor([12, 17], device='cuda:0')\n",
      "153+155 cub_153_Philadelphia_Vireo Good/Total: 2/2 Good proto idxs: tensor([5, 6], device='cuda:0')\n",
      "153+155 cub_155_Warbling_Vireo Good/Total: 2/2 Good proto idxs: tensor([16, 19], device='cuda:0')\n",
      "065+060 cub_065_Slaty_backed_Gull Good/Total: 3/3 Good proto idxs: tensor([1, 2, 6], device='cuda:0')\n",
      "065+060 cub_060_Glaucous_winged_Gull Good/Total: 3/3 Good proto idxs: tensor([11, 14, 17], device='cuda:0')\n",
      "144+141 cub_144_Common_Tern Good/Total: 2/2 Good proto idxs: tensor([1, 2], device='cuda:0')\n",
      "144+141 cub_141_Artic_Tern Good/Total: 3/3 Good proto idxs: tensor([10, 11, 12], device='cuda:0')\n",
      "129+035 129+054 Good/Total: 0/7 Good proto idxs: tensor([], device='cuda:0', dtype=torch.int64)\n",
      "129+035 035+055 Good/Total: 1/4 Good proto idxs: tensor([11], device='cuda:0')\n",
      "199+094 199+028 Good/Total: 6/6 Good proto idxs: tensor([1, 2, 3, 5, 8, 9], device='cuda:0')\n",
      "199+094 cub_094_White_breasted_Nuthatch Good/Total: 3/3 Good proto idxs: tensor([11, 14, 15], device='cuda:0')\n",
      "150+019 150+149 Good/Total: 4/4 Good proto idxs: tensor([3, 7, 8, 9], device='cuda:0')\n",
      "150+019 cub_019_Gray_Catbird Good/Total: 2/2 Good proto idxs: tensor([10, 14], device='cuda:0')\n",
      "107+030 107+029 Good/Total: 4/4 Good proto idxs: tensor([0, 1, 2, 3], device='cuda:0')\n",
      "107+030 cub_030_Fish_Crow Good/Total: 4/4 Good proto idxs: tensor([11, 13, 15, 16], device='cuda:0')\n",
      "129+054 129+175 Good/Total: 0/7 Good proto idxs: tensor([], device='cuda:0', dtype=torch.int64)\n",
      "129+054 054+140 Good/Total: 0/5 Good proto idxs: tensor([], device='cuda:0', dtype=torch.int64)\n",
      "035+055 035+048 Good/Total: 5/5 Good proto idxs: tensor([0, 1, 6, 7, 9], device='cuda:0')\n",
      "035+055 cub_055_Evening_Grosbeak Good/Total: 3/3 Good proto idxs: tensor([13, 16, 19], device='cuda:0')\n",
      "199+028 199+198 Good/Total: 7/7 Good proto idxs: tensor([0, 1, 2, 3, 4, 6, 9], device='cuda:0')\n",
      "199+028 cub_028_Brown_Creeper Good/Total: 4/4 Good proto idxs: tensor([11, 12, 13, 14], device='cuda:0')\n",
      "150+149 150+091 Good/Total: 4/4 Good proto idxs: tensor([1, 3, 6, 9], device='cuda:0')\n",
      "150+149 cub_149_Brown_Thrasher Good/Total: 2/2 Good proto idxs: tensor([11, 13], device='cuda:0')\n",
      "107+029 107+108 Good/Total: 3/3 Good proto idxs: tensor([0, 4, 6], device='cuda:0')\n",
      "107+029 cub_029_American_Crow Good/Total: 3/3 Good proto idxs: tensor([12, 13, 19], device='cuda:0')\n",
      "129+175 129+011 Good/Total: 0/8 Good proto idxs: tensor([], device='cuda:0', dtype=torch.int64)\n",
      "129+175 175+020 Good/Total: 0/5 Good proto idxs: tensor([], device='cuda:0', dtype=torch.int64)\n",
      "054+140 054+057 Good/Total: 5/5 Good proto idxs: tensor([0, 3, 6, 7, 9], device='cuda:0')\n",
      "054+140 140+017 Good/Total: 4/4 Good proto idxs: tensor([13, 16, 17, 18], device='cuda:0')\n",
      "035+048 035+056 Good/Total: 3/3 Good proto idxs: tensor([3, 4, 8], device='cuda:0')\n",
      "035+048 048+047 Good/Total: 4/4 Good proto idxs: tensor([10, 15, 18, 19], device='cuda:0')\n",
      "199+198 199+194 Good/Total: 6/6 Good proto idxs: tensor([0, 3, 4, 5, 6, 9], device='cuda:0')\n",
      "199+198 cub_198_Rock_Wren Good/Total: 4/4 Good proto idxs: tensor([13, 15, 16, 19], device='cuda:0')\n",
      "150+091 cub_150_Sage_Thrasher Good/Total: 3/3 Good proto idxs: tensor([0, 3, 6], device='cuda:0')\n",
      "150+091 cub_091_Mockingbird Good/Total: 3/3 Good proto idxs: tensor([11, 13, 16], device='cuda:0')\n",
      "107+108 cub_107_Common_Raven Good/Total: 2/2 Good proto idxs: tensor([1, 6], device='cuda:0')\n",
      "107+108 cub_108_White_necked_Raven Good/Total: 2/2 Good proto idxs: tensor([11, 18], device='cuda:0')\n",
      "129+011 129+121 Good/Total: 0/6 Good proto idxs: tensor([], device='cuda:0', dtype=torch.int64)\n",
      "129+011 011+013 Good/Total: 0/5 Good proto idxs: tensor([], device='cuda:0', dtype=torch.int64)\n",
      "175+020 175+099 Good/Total: 0/9 Good proto idxs: tensor([], device='cuda:0', dtype=torch.int64)\n",
      "175+020 cub_020_Yellow_breasted_Chat Good/Total: 3/3 Good proto idxs: tensor([14, 16, 17], device='cuda:0')\n",
      "054+057 054+014 Good/Total: 5/5 Good proto idxs: tensor([0, 1, 4, 6, 8], device='cuda:0')\n",
      "054+057 cub_057_Rose_breasted_Grosbeak Good/Total: 2/2 Good proto idxs: tensor([17, 18], device='cuda:0')\n",
      "140+017 140+139 Good/Total: 4/4 Good proto idxs: tensor([4, 5, 7, 8], device='cuda:0')\n",
      "140+017 cub_017_Cardinal Good/Total: 2/2 Good proto idxs: tensor([12, 17], device='cuda:0')\n",
      "035+056 035+034 Good/Total: 5/5 Good proto idxs: tensor([0, 1, 3, 6, 9], device='cuda:0')\n",
      "035+056 cub_056_Pine_Grosbeak Good/Total: 3/3 Good proto idxs: tensor([13, 15, 16], device='cuda:0')\n",
      "048+047 cub_048_European_Goldfinch Good/Total: 3/3 Good proto idxs: tensor([2, 6, 7], device='cuda:0')\n",
      "048+047 cub_047_American_Goldfinch Good/Total: 2/2 Good proto idxs: tensor([10, 15], device='cuda:0')\n",
      "199+194 199+193 Good/Total: 6/6 Good proto idxs: tensor([0, 1, 5, 6, 7, 8], device='cuda:0')\n",
      "199+194 cub_194_Cactus_Wren Good/Total: 4/4 Good proto idxs: tensor([12, 15, 17, 19], device='cuda:0')\n",
      "129+121 129+117 Good/Total: 0/5 Good proto idxs: tensor([], device='cuda:0', dtype=torch.int64)\n",
      "129+121 cub_121_Grasshopper_Sparrow Good/Total: 2/2 Good proto idxs: tensor([14, 19], device='cuda:0')\n",
      "011+013 011+095 Good/Total: 4/7 Good proto idxs: tensor([0, 3, 5, 7], device='cuda:0')\n",
      "011+013 013+088 Good/Total: 3/3 Good proto idxs: tensor([10, 15, 16], device='cuda:0')\n",
      "175+099 175+181 Good/Total: 0/4 Good proto idxs: tensor([], device='cuda:0', dtype=torch.int64)\n",
      "175+099 cub_099_Ovenbird Good/Total: 4/4 Good proto idxs: tensor([11, 12, 18, 19], device='cuda:0')\n",
      "054+014 054+016 Good/Total: 4/4 Good proto idxs: tensor([1, 6, 7, 8], device='cuda:0')\n",
      "054+014 cub_014_Indigo_Bunting Good/Total: 2/2 Good proto idxs: tensor([12, 17], device='cuda:0')\n",
      "140+139 cub_140_Summer_Tanager Good/Total: 3/3 Good proto idxs: tensor([2, 3, 5], device='cuda:0')\n",
      "140+139 cub_139_Scarlet_Tanager Good/Total: 3/3 Good proto idxs: tensor([16, 18, 19], device='cuda:0')\n",
      "035+034 cub_035_Purple_Finch Good/Total: 3/3 Good proto idxs: tensor([3, 5, 6], device='cuda:0')\n",
      "035+034 cub_034_Gray_crowned_Rosy_Finch Good/Total: 2/2 Good proto idxs: tensor([12, 17], device='cuda:0')\n",
      "199+193 199+197 Good/Total: 3/3 Good proto idxs: tensor([5, 6, 9], device='cuda:0')\n",
      "199+193 193+195 Good/Total: 4/4 Good proto idxs: tensor([13, 14, 15, 18], device='cuda:0')\n",
      "129+117 129+133 Good/Total: 0/6 Good proto idxs: tensor([], device='cuda:0', dtype=torch.int64)\n",
      "129+117 117+114 Good/Total: 2/5 Good proto idxs: tensor([10, 17], device='cuda:0')\n",
      "011+095 011+026 Good/Total: 6/6 Good proto idxs: tensor([0, 2, 4, 6, 7, 8], device='cuda:0')\n",
      "011+095 095+096 Good/Total: 4/4 Good proto idxs: tensor([10, 12, 14, 16], device='cuda:0')\n",
      "013+088 013+012 Good/Total: 3/3 Good proto idxs: tensor([1, 4, 7], device='cuda:0')\n",
      "013+088 cub_088_Western_Meadowlark Good/Total: 2/2 Good proto idxs: tensor([13, 17], device='cuda:0')\n",
      "175+181 175+168+173+183 Good/Total: 0/6 Good proto idxs: tensor([], device='cuda:0', dtype=torch.int64)\n",
      "175+181 cub_181_Worm_eating_Warbler Good/Total: 3/3 Good proto idxs: tensor([15, 16, 19], device='cuda:0')\n",
      "054+016 054+015 Good/Total: 3/3 Good proto idxs: tensor([0, 2, 7], device='cuda:0')\n",
      "054+016 cub_016_Painted_Bunting Good/Total: 2/2 Good proto idxs: tensor([15, 16], device='cuda:0')\n",
      "199+197 199+196 Good/Total: 3/3 Good proto idxs: tensor([1, 5, 6], device='cuda:0')\n",
      "199+197 cub_197_Marsh_Wren Good/Total: 2/2 Good proto idxs: tensor([10, 19], device='cuda:0')\n",
      "193+195 cub_193_Bewick_Wren Good/Total: 2/2 Good proto idxs: tensor([2, 6], device='cuda:0')\n",
      "193+195 cub_195_Carolina_Wren Good/Total: 2/2 Good proto idxs: tensor([13, 15], device='cuda:0')\n",
      "129+133 129+021 Good/Total: 1/6 Good proto idxs: tensor([7], device='cuda:0')\n",
      "129+133 133+130 Good/Total: 4/6 Good proto idxs: tensor([10, 13, 14, 15], device='cuda:0')\n",
      "117+114 117+115 Good/Total: 6/6 Good proto idxs: tensor([0, 1, 3, 7, 8, 9], device='cuda:0')\n",
      "117+114 cub_114_Black_throated_Sparrow Good/Total: 3/3 Good proto idxs: tensor([14, 16, 19], device='cuda:0')\n",
      "011+026 011+049 Good/Total: 3/3 Good proto idxs: tensor([1, 2, 8], device='cuda:0')\n",
      "011+026 026+010 Good/Total: 3/3 Good proto idxs: tensor([13, 18, 19], device='cuda:0')\n",
      "095+096 095+098 Good/Total: 3/3 Good proto idxs: tensor([1, 6, 7], device='cuda:0')\n",
      "095+096 096+097 Good/Total: 3/3 Good proto idxs: tensor([14, 15, 16], device='cuda:0')\n",
      "013+012 cub_013_Bobolink Good/Total: 2/2 Good proto idxs: tensor([5, 8], device='cuda:0')\n",
      "013+012 cub_012_Yellow_headed_Blackbird Good/Total: 2/2 Good proto idxs: tensor([14, 15], device='cuda:0')\n",
      "175+168+173+183 175+162 Good/Total: 1/2 Good proto idxs: tensor([0], device='cuda:0')\n",
      "175+168+173+183 168+177 Good/Total: 3/3 Good proto idxs: tensor([5, 8, 9], device='cuda:0')\n",
      "175+168+173+183 173+161 Good/Total: 2/3 Good proto idxs: tensor([11, 13], device='cuda:0')\n",
      "175+168+173+183 183+159 Good/Total: 4/4 Good proto idxs: tensor([16, 17, 18, 19], device='cuda:0')\n",
      "054+015 cub_054_Blue_Grosbeak Good/Total: 3/3 Good proto idxs: tensor([0, 1, 7], device='cuda:0')\n",
      "054+015 cub_015_Lazuli_Bunting Good/Total: 2/2 Good proto idxs: tensor([13, 19], device='cuda:0')\n",
      "199+196 cub_199_Winter_Wren Good/Total: 2/2 Good proto idxs: tensor([0, 1], device='cuda:0')\n",
      "199+196 cub_196_House_Wren Good/Total: 3/3 Good proto idxs: tensor([12, 13, 18], device='cuda:0')\n",
      "129+021 129+128 Good/Total: 5/5 Good proto idxs: tensor([0, 1, 4, 6, 9], device='cuda:0')\n",
      "129+021 021+148 Good/Total: 4/4 Good proto idxs: tensor([12, 14, 16, 19], device='cuda:0')\n",
      "133+130 133+076 Good/Total: 4/4 Good proto idxs: tensor([0, 1, 5, 7], device='cuda:0')\n",
      "133+130 130+120 Good/Total: 2/3 Good proto idxs: tensor([12, 19], device='cuda:0')\n",
      "117+115 117+116 Good/Total: 4/4 Good proto idxs: tensor([1, 5, 6, 9], device='cuda:0')\n",
      "117+115 115+119 Good/Total: 5/5 Good proto idxs: tensor([10, 11, 16, 17, 18], device='cuda:0')\n",
      "011+049 011+009 Good/Total: 3/3 Good proto idxs: tensor([0, 1, 9], device='cuda:0')\n",
      "011+049 cub_049_Boat_tailed_Grackle Good/Total: 3/3 Good proto idxs: tensor([14, 15, 16], device='cuda:0')\n",
      "026+010 026+027 Good/Total: 3/3 Good proto idxs: tensor([3, 4, 5], device='cuda:0')\n",
      "026+010 cub_010_Red_winged_Blackbird Good/Total: 2/2 Good proto idxs: tensor([14, 18], device='cuda:0')\n",
      "095+098 cub_095_Baltimore_Oriole Good/Total: 2/2 Good proto idxs: tensor([8, 9], device='cuda:0')\n",
      "095+098 cub_098_Scott_Oriole Good/Total: 3/3 Good proto idxs: tensor([10, 16, 19], device='cuda:0')\n",
      "096+097 cub_096_Hooded_Oriole Good/Total: 2/2 Good proto idxs: tensor([0, 4], device='cuda:0')\n",
      "096+097 cub_097_Orchard_Oriole Good/Total: 3/3 Good proto idxs: tensor([14, 15, 17], device='cuda:0')\n",
      "175+162 175+167 Good/Total: 4/9 Good proto idxs: tensor([0, 5, 7, 8], device='cuda:0')\n",
      "175+162 162+180 Good/Total: 4/4 Good proto idxs: tensor([10, 12, 15, 17], device='cuda:0')\n",
      "168+177 168+200 Good/Total: 4/4 Good proto idxs: tensor([1, 3, 7, 9], device='cuda:0')\n",
      "168+177 177+178 Good/Total: 4/4 Good proto idxs: tensor([10, 11, 13, 18], device='cuda:0')\n",
      "173+161 173+179 Good/Total: 4/4 Good proto idxs: tensor([2, 4, 5, 6], device='cuda:0')\n",
      "173+161 161+166 Good/Total: 3/3 Good proto idxs: tensor([13, 16, 18], device='cuda:0')\n",
      "183+159 183+184 Good/Total: 3/3 Good proto idxs: tensor([1, 2, 4], device='cuda:0')\n",
      "183+159 cub_159_Black_and_white_Warbler Good/Total: 2/2 Good proto idxs: tensor([13, 17], device='cuda:0')\n",
      "129+128 129+127 Good/Total: 3/4 Good proto idxs: tensor([0, 5, 9], device='cuda:0')\n",
      "129+128 128+131 Good/Total: 5/5 Good proto idxs: tensor([11, 13, 15, 16, 18], device='cuda:0')\n",
      "021+148 cub_021_Eastern_Towhee Good/Total: 2/2 Good proto idxs: tensor([0, 9], device='cuda:0')\n",
      "021+148 cub_148_Green_tailed_Towhee Good/Total: 2/2 Good proto idxs: tensor([16, 19], device='cuda:0')\n",
      "133+076 133+132 Good/Total: 3/3 Good proto idxs: tensor([1, 7, 9], device='cuda:0')\n",
      "133+076 cub_076_Dark_eyed_Junco Good/Total: 2/2 Good proto idxs: tensor([12, 15], device='cuda:0')\n",
      "130+120 cub_130_Tree_Sparrow Good/Total: 2/2 Good proto idxs: tensor([4, 9], device='cuda:0')\n",
      "130+120 cub_120_Fox_Sparrow Good/Total: 2/2 Good proto idxs: tensor([12, 15], device='cuda:0')\n",
      "117+116 cub_117_Clay_colored_Sparrow Good/Total: 2/2 Good proto idxs: tensor([4, 8], device='cuda:0')\n",
      "117+116 cub_116_Chipping_Sparrow Good/Total: 3/3 Good proto idxs: tensor([11, 16, 18], device='cuda:0')\n",
      "115+119 cub_115_Brewer_Sparrow Good/Total: 2/2 Good proto idxs: tensor([1, 5], device='cuda:0')\n",
      "115+119 cub_119_Field_Sparrow Good/Total: 3/3 Good proto idxs: tensor([15, 18, 19], device='cuda:0')\n",
      "011+009 cub_011_Rusty_Blackbird Good/Total: 3/3 Good proto idxs: tensor([1, 7, 8], device='cuda:0')\n",
      "011+009 cub_009_Brewer_Blackbird Good/Total: 2/2 Good proto idxs: tensor([11, 13], device='cuda:0')\n",
      "026+027 cub_026_Bronzed_Cowbird Good/Total: 2/2 Good proto idxs: tensor([2, 6], device='cuda:0')\n",
      "026+027 cub_027_Shiny_Cowbird Good/Total: 3/3 Good proto idxs: tensor([14, 18, 19], device='cuda:0')\n",
      "175+167 175+169 Good/Total: 6/7 Good proto idxs: tensor([1, 2, 4, 5, 8, 9], device='cuda:0')\n",
      "175+167 cub_167_Hooded_Warbler Good/Total: 4/4 Good proto idxs: tensor([12, 13, 15, 16], device='cuda:0')\n",
      "162+180 cub_162_Canada_Warbler Good/Total: 2/2 Good proto idxs: tensor([8, 9], device='cuda:0')\n",
      "162+180 cub_180_Wilson_Warbler Good/Total: 2/2 Good proto idxs: tensor([16, 17], device='cuda:0')\n",
      "168+200 168+170 Good/Total: 3/3 Good proto idxs: tensor([0, 2, 7], device='cuda:0')\n",
      "168+200 cub_200_Common_Yellowthroat Good/Total: 3/3 Good proto idxs: tensor([10, 14, 17], device='cuda:0')\n",
      "177+178 cub_177_Prothonotary_Warbler Good/Total: 2/2 Good proto idxs: tensor([6, 9], device='cuda:0')\n",
      "177+178 cub_178_Swainson_Warbler Good/Total: 2/2 Good proto idxs: tensor([10, 15], device='cuda:0')\n",
      "173+179 173+172 Good/Total: 4/4 Good proto idxs: tensor([0, 3, 5, 9], device='cuda:0')\n",
      "173+179 cub_179_Tennessee_Warbler Good/Total: 2/2 Good proto idxs: tensor([11, 17], device='cuda:0')\n",
      "161+166 cub_161_Blue_winged_Warbler Good/Total: 2/2 Good proto idxs: tensor([0, 2], device='cuda:0')\n",
      "161+166 cub_166_Golden_winged_Warbler Good/Total: 2/2 Good proto idxs: tensor([17, 19], device='cuda:0')\n",
      "183+184 cub_183_Northern_Waterthrush Good/Total: 2/2 Good proto idxs: tensor([8, 9], device='cuda:0')\n",
      "183+184 cub_184_Louisiana_Waterthrush Good/Total: 3/3 Good proto idxs: tensor([10, 13, 16], device='cuda:0')\n",
      "129+127 129+123 Good/Total: 5/5 Good proto idxs: tensor([0, 1, 5, 6, 8], device='cuda:0')\n",
      "129+127 cub_127_Savannah_Sparrow Good/Total: 2/2 Good proto idxs: tensor([12, 19], device='cuda:0')\n",
      "128+131 128+124 Good/Total: 3/3 Good proto idxs: tensor([5, 6, 9], device='cuda:0')\n",
      "128+131 cub_131_Vesper_Sparrow Good/Total: 2/2 Good proto idxs: tensor([10, 17], device='cuda:0')\n",
      "133+132 133+122 Good/Total: 3/3 Good proto idxs: tensor([0, 1, 8], device='cuda:0')\n",
      "133+132 cub_132_White_crowned_Sparrow Good/Total: 2/2 Good proto idxs: tensor([12, 16], device='cuda:0')\n",
      "175+169 175+165+182 Good/Total: 7/7 Good proto idxs: tensor([0, 3, 5, 6, 7, 8, 9], device='cuda:0')\n",
      "175+169 cub_169_Magnolia_Warbler Good/Total: 3/3 Good proto idxs: tensor([10, 13, 17], device='cuda:0')\n",
      "168+170 cub_168_Kentucky_Warbler Good/Total: 2/2 Good proto idxs: tensor([2, 9], device='cuda:0')\n",
      "168+170 cub_170_Mourning_Warbler Good/Total: 4/4 Good proto idxs: tensor([11, 16, 17, 18], device='cuda:0')\n",
      "173+172 cub_173_Orange_crowned_Warbler Good/Total: 3/3 Good proto idxs: tensor([1, 8, 9], device='cuda:0')\n",
      "173+172 cub_172_Nashville_Warbler Good/Total: 3/3 Good proto idxs: tensor([12, 14, 19], device='cuda:0')\n",
      "129+123 129+125 Good/Total: 2/2 Good proto idxs: tensor([0, 6], device='cuda:0')\n",
      "129+123 123+113 Good/Total: 4/4 Good proto idxs: tensor([10, 13, 15, 18], device='cuda:0')\n",
      "128+124 128+126 Good/Total: 2/2 Good proto idxs: tensor([1, 4], device='cuda:0')\n",
      "128+124 cub_124_Le_Conte_Sparrow Good/Total: 1/1 Good proto idxs: tensor([14], device='cuda:0')\n",
      "133+122 cub_133_White_throated_Sparrow Good/Total: 2/2 Good proto idxs: tensor([5, 7], device='cuda:0')\n",
      "133+122 cub_122_Harris_Sparrow Good/Total: 3/3 Good proto idxs: tensor([10, 12, 16], device='cuda:0')\n",
      "175+165+182 175+160 Good/Total: 3/3 Good proto idxs: tensor([1, 4, 6], device='cuda:0')\n",
      "175+165+182 165+164+163 Good/Total: 4/4 Good proto idxs: tensor([ 7,  8, 11, 13], device='cuda:0')\n",
      "175+165+182 cub_182_Yellow_Warbler Good/Total: 3/3 Good proto idxs: tensor([15, 17, 18], device='cuda:0')\n",
      "129+125 cub_129_Song_Sparrow Good/Total: 3/3 Good proto idxs: tensor([3, 4, 5], device='cuda:0')\n",
      "129+125 cub_125_Lincoln_Sparrow Good/Total: 3/3 Good proto idxs: tensor([13, 16, 17], device='cuda:0')\n",
      "123+113 cub_123_Henslow_Sparrow Good/Total: 2/2 Good proto idxs: tensor([1, 9], device='cuda:0')\n",
      "123+113 cub_113_Baird_Sparrow Good/Total: 3/3 Good proto idxs: tensor([12, 15, 18], device='cuda:0')\n",
      "128+126 cub_128_Seaside_Sparrow Good/Total: 3/3 Good proto idxs: tensor([3, 8, 9], device='cuda:0')\n",
      "128+126 cub_126_Nelson_Sharp_tailed_Sparrow Good/Total: 2/2 Good proto idxs: tensor([16, 17], device='cuda:0')\n",
      "175+160 175+176 Good/Total: 4/4 Good proto idxs: tensor([0, 1, 4, 6], device='cuda:0')\n",
      "175+160 160+109 Good/Total: 3/3 Good proto idxs: tensor([10, 11, 13], device='cuda:0')\n",
      "165+164+163 165+158 Good/Total: 2/2 Good proto idxs: tensor([0, 2], device='cuda:0')\n",
      "165+164+163 cub_164_Cerulean_Warbler Good/Total: 2/2 Good proto idxs: tensor([11, 13], device='cuda:0')\n",
      "165+164+163 cub_163_Cape_May_Warbler Good/Total: 3/3 Good proto idxs: tensor([14, 15, 19], device='cuda:0')\n",
      "175+176 175+174 Good/Total: 4/4 Good proto idxs: tensor([2, 3, 5, 6], device='cuda:0')\n",
      "175+176 cub_176_Prairie_Warbler Good/Total: 3/3 Good proto idxs: tensor([16, 17, 18], device='cuda:0')\n",
      "160+109 cub_160_Black_throated_Blue_Warbler Good/Total: 3/3 Good proto idxs: tensor([1, 2, 9], device='cuda:0')\n",
      "160+109 cub_109_American_Redstart Good/Total: 3/3 Good proto idxs: tensor([13, 17, 18], device='cuda:0')\n",
      "165+158 cub_165_Chestnut_sided_Warbler Good/Total: 1/1 Good proto idxs: tensor([7], device='cuda:0')\n",
      "165+158 cub_158_Bay_breasted_Warbler Good/Total: 2/2 Good proto idxs: tensor([12, 19], device='cuda:0')\n",
      "175+174 cub_175_Pine_Warbler Good/Total: 2/2 Good proto idxs: tensor([2, 8], device='cuda:0')\n",
      "175+174 cub_174_Palm_Warbler Good/Total: 2/2 Good proto idxs: tensor([16, 17], device='cuda:0')\n",
      "Total protos: 1271.0 Total good protos: 1060.0 Ratio: 0.8339889850511408\n"
     ]
    }
   ],
   "source": [
    "import torch.nn.functional as F\n",
    "\n",
    "total_relevant_protos = 0.\n",
    "total_good_protos = 0.\n",
    "\n",
    "with torch.no_grad():\n",
    "    for node in root.nodes_with_children():\n",
    "        label_to_children = {v: k for k, v in node.children_to_labels.items()}\n",
    "        classification_weights = getattr(net.module, '_'+node.name+'_classification').weight\n",
    "        proto_presence = getattr(net.module, '_'+node.name+'_proto_presence')\n",
    "        proto_presence = F.gumbel_softmax(proto_presence, tau=0.5, hard=True, dim=-1)\n",
    "        masked_classification_weights = proto_presence[:, 1].unsqueeze(0) * classification_weights\n",
    "        all_protos_masked = False\n",
    "        for class_idx in range(masked_classification_weights.shape[0]):\n",
    "            # print(node.name, label_to_children[class_idx], 'relevant:', (classification_weights[class_idx, :] > 1e-3).sum().item(), \\\n",
    "            #       'Good ones:', (masked_classification_weights[class_idx, :] > 1e-3).sum().item(), \\\n",
    "            #       'Good proto idxs:', torch.nonzero(masked_classification_weights[class_idx, :] > 1e-3).reshape(-1))\n",
    "            print(node.name, label_to_children[class_idx], 'Good/Total:', f'{(masked_classification_weights[class_idx, :] > 1e-3).sum().item()}/{(classification_weights[class_idx, :] > 1e-3).sum().item()}', \\\n",
    "                 'Good proto idxs:', torch.nonzero(masked_classification_weights[class_idx, :] > 1e-3).reshape(-1))\n",
    "            total_relevant_protos += (classification_weights[class_idx, :] > 1e-3).sum().item()\n",
    "            total_good_protos += (masked_classification_weights[class_idx, :] > 1e-3).sum().item()\n",
    "\n",
    "print('Total protos:', total_relevant_protos, 'Total good protos:', total_good_protos, 'Ratio:', total_good_protos/total_relevant_protos)"
   ]
  },
  {
   "cell_type": "markdown",
   "id": "95e596e3-663a-493a-af21-c92bf10f2ec5",
   "metadata": {},
   "source": [
    "# Visualizing part locations"
   ]
  },
  {
   "cell_type": "code",
   "execution_count": 14,
   "id": "3ee3cc23-6f4b-4f3f-9c33-9e6f5d4623b4",
   "metadata": {},
   "outputs": [
    {
     "name": "stdout",
     "output_type": "stream",
     "text": [
      "./runs/154-PruningNaiveHPIPNet_cnext13_CUB-18-imgnet-224_with-equalize-aug_img=224_nprotos=20/node_wise_top10/root_prototypes_top10_projectloader_last.csv\n",
      "Index(['node', 'child', 'leaf', 'prototype', 'img name', 'h_min_224',\n",
      "       'h_max_224', 'w_min_224', 'w_max_224', 'scores'],\n",
      "      dtype='object')\n"
     ]
    }
   ],
   "source": [
    "# proto_parts_presences['17']\n",
    "\n",
    "import pandas as pd\n",
    "# df = pd.read_csv(list_csvfile_topk[0])\n",
    "# df = pd.read_csv('/home/harishbabu/projects/PIPNet/runs/154-PruningNaiveHPIPNet_cnext13_CUB-18-imgnet-224_with-equalize-aug_img=224_nprotos=20/node_wise_top10/004+032_prototypes_top10_projectloader_last.csv')\n",
    "df = pd.read_csv('/home/harishbabu/projects/PIPNet/runs/154-PruningNaiveHPIPNet_cnext13_CUB-18-imgnet-224_with-equalize-aug_img=224_nprotos=20/node_wise_top10/root_prototypes_top10_projectloader_last.csv')\n",
    "print(list_csvfile_topk[0])\n",
    "print(df.columns)"
   ]
  },
  {
   "cell_type": "code",
   "execution_count": 17,
   "id": "e53d4e80-4b4a-4b6d-b842-516de8a9607c",
   "metadata": {},
   "outputs": [
    {
     "data": {
      "image/png": "[encoded data removed]",
      "text/plain": [
       "<Figure size 1500x1000 with 10 Axes>"
      ]
     },
     "metadata": {},
     "output_type": "display_data"
    }
   ],
   "source": [
    "import os\n",
    "import random\n",
    "from PIL import Image, ImageDraw\n",
    "import matplotlib.pyplot as plt\n",
    "import matplotlib.patches as patches\n",
    "\n",
    "part_color_map = {\n",
    "    1: 'red',\n",
    "    2: 'blue',\n",
    "    3: 'green',\n",
    "    4: 'yellow',\n",
    "    5: 'orange',\n",
    "    6: 'purple',\n",
    "    7: 'pink',\n",
    "    8: 'brown',\n",
    "    9: 'black',\n",
    "    10: 'white',\n",
    "    11: 'gray',\n",
    "    12: 'cyan',\n",
    "    13: 'magenta',\n",
    "    14: 'lime',\n",
    "    15: 'navy'\n",
    "}\n",
    "\n",
    "# Function to draw parts on an image\n",
    "def draw_parts(img, part_locs):\n",
    "    draw = ImageDraw.Draw(img)\n",
    "    img_width, img_height = img.size\n",
    "    for part_id, x_norm, y_norm, visible in part_locs:\n",
    "        if visible:\n",
    "            x = int(x_norm * img_width)\n",
    "            y = int(y_norm * img_height)\n",
    "            draw.ellipse((x - 2, y - 2, x + 2, y + 2), outline=\"red\", fill=part_color_map[part_id])\n",
    "    return img\n",
    "\n",
    "def add_heatmap(latent_activation, input_image):\n",
    "    \"\"\"\n",
    "    latent_activation -> np array of shape (H, W)\n",
    "    input_image -> PIL image of size (H, W)\n",
    "    \"\"\"\n",
    "#     pdb.set_trace()\n",
    "    \n",
    "    image_a = latent_activation#.cpu().numpy()\n",
    "    image_a = (image_a - image_a.min()) / (image_a.max() - image_a.min())\n",
    "    \n",
    "    input_image = np.array(input_image)\n",
    "    image_b = (input_image - input_image.min()) / (input_image.max() - input_image.min())\n",
    "#     image_b = input_image.permute(1, 2, 0).cpu().numpy()\n",
    "    \n",
    "    reshaped_image_a = np.array(Image.fromarray((image_a * 255).astype('uint8'))\\\n",
    "                                .resize((input_image.shape[0], input_image.shape[1])))\n",
    "    normalized_heatmap = (reshaped_image_a - np.min(reshaped_image_a)) / (np.max(reshaped_image_a) - np.min(reshaped_image_a))\n",
    "    \n",
    "    heatmap_colormap = plt.get_cmap('jet')\n",
    "    heatmap_colored = heatmap_colormap(normalized_heatmap)\n",
    "    \n",
    "    heatmap_colored_uint8 = (heatmap_colored[:, :, :3] * 255).astype(np.uint8)\n",
    "    image_a_heatmap_pillow = Image.fromarray(heatmap_colored_uint8)\n",
    "    image_b_pillow = Image.fromarray((image_b * 255).astype('uint8'))\n",
    "#     pdb.set_trace()\n",
    "    result_image = Image.blend(image_b_pillow, image_a_heatmap_pillow, alpha=0.3)\n",
    "    \n",
    "    return result_image\n",
    "\n",
    "# Function to display images in a Jupyter notebook\n",
    "def display_images(images, titles=None, bboxes=None):\n",
    "    plt.figure(figsize=(15, 10))\n",
    "    for i, img in enumerate(images, 1):\n",
    "        plt.subplot(4, 5, i)\n",
    "        plt.imshow(img)\n",
    "\n",
    "        if bboxes:\n",
    "            h_min_224, h_max_224, w_min_224, w_max_224 = bboxes[i-1]\n",
    "            rect = patches.Rectangle((w_min_224, h_min_224), w_max_224 - w_min_224, h_max_224 - h_min_224,\n",
    "                                 linewidth=1, edgecolor='r', facecolor='none')\n",
    "            ax = plt.gca()\n",
    "            ax.add_patch(rect)\n",
    "        if titles:\n",
    "            plt.title(titles[i-1])\n",
    "        # plt.axis('off')\n",
    "        \n",
    "    plt.show()\n",
    "    \n",
    "# Randomly sample 10 images\n",
    "sampled_images = random.sample((dict_node_wise_df['052+053'][(dict_node_wise_df['052+053']['prototype'] == 12) & (dict_node_wise_df['052+053']['leaf'] == '050')][[\"node\", \"prototype\", 'img name', 'scores', 'h_min_224', 'h_max_224', 'w_min_224', 'w_max_224', 'latent_activation']].values).tolist(), 10)\n",
    "sampled_images = sorted(sampled_images, key=lambda x: x[3])[::-1]\n",
    "# sampled_images = random.sample((df[(df['prototype'] == 10) & (df['leaf'] == '001')][[\"node\", \"prototype\", 'img name', 'scores', 'h_min_224', 'h_max_224', 'w_min_224', 'w_max_224', 'latent_activation']].values).tolist(), 10)\n",
    "# sampled_images = random.sample((df[df['max_part_activation'] > 0.7][['img_filename', 'img_path', 'activation']].values).tolist(), 1)\n",
    "# sampled_images = random.sample((df[['img_filename', 'img_path', 'activation']].values).tolist(), 1)\n",
    "# print(sampled_images)\n",
    "\n",
    "\n",
    "# Draw parts or heatmap on the images\n",
    "sampled_images_with_parts = []\n",
    "sampled_images_bboxes = []\n",
    "sampled_images_titles = []\n",
    "for node_name, prototype_idx, img_path, score, h_min_224, h_max_224, w_min_224, w_max_224, latent_activation in sampled_images:\n",
    "    # image_path = os.path.join(img_path)\n",
    "    img_filename = ntpath.basename(img_path)\n",
    "    img_index = img_filename_to_index[img_filename]\n",
    "    image = Image.open(img_path)\n",
    "    # pdb.set_trace()\n",
    "    image = add_heatmap(latent_activation.clone().detach().cpu().numpy(), image)\n",
    "    image = draw_parts(image, image_part_locs[img_index])\n",
    "    sampled_images_with_parts.append(image)\n",
    "    sampled_images_bboxes.append((h_min_224, h_max_224, w_min_224, w_max_224))\n",
    "    sampled_images_titles.append(f'{round(score)}, N:{node_name}, P:{prototype_idx}')\n",
    "\n",
    "\n",
    "# # Randomly sample 10 images\n",
    "# sampled_images = random.sample((df[[\"node\", \"prototype\", 'img name', 'scores', 'h_min_224', 'h_max_224', 'w_min_224', 'w_max_224']].values).tolist(), 10)\n",
    "# # sampled_images = random.sample((df[(df['prototype'] == 10) & (df['leaf'] == '001')][[\"node\", \"prototype\", 'img name', 'scores', 'h_min_224', 'h_max_224', 'w_min_224', 'w_max_224']].values).tolist(), 10)\n",
    "# # sampled_images = random.sample((df[df['max_part_activation'] > 0.7][['img_filename', 'img_path', 'activation']].values).tolist(), 1)\n",
    "# # sampled_images = random.sample((df[['img_filename', 'img_path', 'activation']].values).tolist(), 1)\n",
    "# # print(sampled_images)\n",
    "\n",
    "\n",
    "# # Draw parts or heatmap on the images\n",
    "# sampled_images_with_parts = []\n",
    "# sampled_images_bboxes = []\n",
    "# sampled_images_titles = []\n",
    "# for node_name, prototype_idx, img_path, score, h_min_224, h_max_224, w_min_224, w_max_224 in sampled_images:\n",
    "#     # image_path = os.path.join(img_path)\n",
    "#     img_filename = ntpath.basename(img_path)\n",
    "#     img_index = img_filename_to_index[img_filename]\n",
    "#     image = Image.open(img_path)\n",
    "#     # pdb.set_trace()\n",
    "#     # image = add_heatmap(latent_activation.clone().detach().cpu().numpy(), image)\n",
    "#     image = draw_parts(image, image_part_locs[img_index])\n",
    "#     sampled_images_with_parts.append(image)\n",
    "#     sampled_images_bboxes.append((h_min_224, h_max_224, w_min_224, w_max_224))\n",
    "#     sampled_images_titles.append(f'{round(score)}, N:{node_name}, P:{prototype_idx}')\n",
    "\n",
    "# Display the images with parts\n",
    "display_images(sampled_images_with_parts, titles=sampled_images_titles, bboxes=sampled_images_bboxes)\n",
    "\n"
   ]
  },
  {
   "cell_type": "markdown",
   "id": "fb8c199e-bea2-4e43-bb7f-3475c18758cb",
   "metadata": {},
   "source": [
    "# HPnet"
   ]
  },
  {
   "cell_type": "code",
   "execution_count": 63,
   "id": "6d67194e-fe61-4472-86e0-3b613f4d02b2",
   "metadata": {},
   "outputs": [],
   "source": [
    "run_path = \"/home/harishbabu/projects/HPnet_lambda/saved_models/024_vgg19-14_cub18-224-prop-resized_10protos_kaiming-normal_batch=80_push-every=5_joint-eps=50_with-pretraining_CEDA=True\""
   ]
  },
  {
   "cell_type": "code",
   "execution_count": 64,
   "id": "370a5484-11e8-400d-9925-ccaee79e9c00",
   "metadata": {},
   "outputs": [
    {
     "name": "stdout",
     "output_type": "stream",
     "text": [
      "/projects/ml4science/harishbabu/data/CUB_18_hpnet_224/dataset_imgnet_hpnet_bb_crop/valid/cub_033_Yellow_billed_Cuckoo/Yellow_Billed_Cuckoo_0043_26492.jpg\n"
     ]
    }
   ],
   "source": [
    "csv_folder_path = os.path.join(run_path, 'node_wise_top10')\n",
    "sample_csv_file = os.listdir(csv_folder_path)[0]\n",
    "sample_image_path = pd.read_csv(os.path.join(csv_folder_path, sample_csv_file))['img name'][0]\n",
    "print(sample_image_path)"
   ]
  },
  {
   "cell_type": "code",
   "execution_count": 65,
   "id": "1d4fc469-3df3-4607-963c-a6f37b652bc5",
   "metadata": {},
   "outputs": [],
   "source": [
    "parts_name_path = '/projects/ml4science/harishbabu/data/CUB_200_2011/parts/parts.txt'\n",
    "imgs_id_path = '/projects/ml4science/harishbabu/data/CUB_200_2011/images_cub.txt'"
   ]
  },
  {
   "cell_type": "code",
   "execution_count": 66,
   "id": "2e38a0e8-414e-4bbf-b896-9636bf01c3d4",
   "metadata": {},
   "outputs": [
    {
     "name": "stdout",
     "output_type": "stream",
     "text": [
      "{'cropped': True, 'padded': True, 'segmented': True, 'imagenet_background': True, 'sample_class_name': 'cub_001_Black_footed_Albatross'}\n"
     ]
    }
   ],
   "source": [
    "image_meta_file_base_path = os.path.dirname(os.path.dirname(sample_image_path))\n",
    "image_meta_filepath = os.path.join(image_meta_file_base_path, 'image_meta_file.json')\n",
    "\n",
    "import json\n",
    "\n",
    "with open(image_meta_filepath, 'r') as file:\n",
    "    image_meta = json.load(file)    \n",
    "print(image_meta)"
   ]
  },
  {
   "cell_type": "code",
   "execution_count": 67,
   "id": "216b79ff-cacf-4261-9018-fbaa70edd78d",
   "metadata": {},
   "outputs": [
    {
     "name": "stdout",
     "output_type": "stream",
     "text": [
      "*-*-*-*-*-*-*-*-*-*-*-*-*-*-*-*-*-*-*-*-*-*-*-*-*-*-*-*-*-*-*-*-*-*-*-*-*-*-*-*-\n",
      "\t\t\tIMPORTANT: Using CROPPED and PADDED part locations\n",
      "*-*-*-*-*-*-*-*-*-*-*-*-*-*-*-*-*-*-*-*-*-*-*-*-*-*-*-*-*-*-*-*-*-*-*-*-*-*-*-*-\n"
     ]
    }
   ],
   "source": [
    "dataset_path = '/projects/ml4science/harishbabu/data/CUB_200_2011/'  # part locs are loaded from here\n",
    "\n",
    "if image_meta['cropped'] and image_meta['padded']:\n",
    "    part_locs_file = os.path.join(dataset_path, 'parts', 'part_locs_normalized_after_cropped_after_padded.txt') \n",
    "    print('*-'*40)\n",
    "    print('\\t\\t\\tIMPORTANT: Using CROPPED and PADDED part locations')\n",
    "    print('*-'*40)\n",
    "elif not image_meta['cropped'] and image_meta['padded']:\n",
    "    part_locs_file = os.path.join(dataset_path, 'parts', 'part_locs_normalized_after_padded.txt') \n",
    "    print('*-'*40)\n",
    "    print('\\t\\t\\tIMPORTANT: Using NOT CROPPED and PADDED part locations')\n",
    "    print('*-'*40)\n",
    "elif image_meta['cropped'] and not image_meta['padded']:\n",
    "    part_locs_file = os.path.join(dataset_path, 'parts', 'part_locs_normalized_after_cropped.txt') \n",
    "    print('*-'*40)\n",
    "    print('\\t\\t\\tIMPORTANT: Using CROPPED and NOT PADDED part locations')\n",
    "    print('*-'*40)\n",
    "elif not image_meta['cropped'] and not image_meta['padded']:\n",
    "    part_locs_file = os.path.join(dataset_path, 'parts', 'part_locs_normalized.txt') \n",
    "    print('*-'*40)\n",
    "    print('\\t\\t\\tIMPORTANT: Using NOT CROPPED and NOT PADDED part locations')\n",
    "    print('*-'*40)"
   ]
  },
  {
   "cell_type": "code",
   "execution_count": 68,
   "id": "d3079f58-6bab-4828-a0bb-679166af0b8c",
   "metadata": {},
   "outputs": [],
   "source": [
    "import ntpath\n",
    "NUM_PARTS = 15\n",
    "images_file = os.path.join(dataset_path, 'images_cub.txt')\n",
    "\n",
    "# Read the image index to filename mapping\n",
    "img_filename_to_index = {} # image filename to image index\n",
    "with open(images_file, 'r') as file:\n",
    "    for line in file:\n",
    "        index, filename = line.strip().split()\n",
    "        img_filename = ntpath.basename(filename)\n",
    "        img_filename_to_index[img_filename] = int(index)\n",
    "\n",
    "# Load part locations\n",
    "image_part_locs = defaultdict(list)\n",
    "with open(part_locs_file, 'r') as file:\n",
    "    for line in file:\n",
    "        parts = line.strip().split()\n",
    "        image_index, part_id, x, y, visible = int(parts[0]), int(parts[1]), float(parts[2]), float(parts[3]), bool(float(parts[4]))\n",
    "        image_part_locs[image_index].append((part_id, x, y, visible))"
   ]
  },
  {
   "cell_type": "code",
   "execution_count": 49,
   "id": "d9c771d3-e385-4811-989a-7f1aaae9ae4c",
   "metadata": {},
   "outputs": [],
   "source": [
    "# def unshuffle_dataloader(dataloader):\n",
    "#     if type(dataloader.dataset) == ImageFolder:\n",
    "#         dataset = dataloader.dataset\n",
    "#     else:\n",
    "#         dataset = dataloader.dataset.dataset.dataset\n",
    "#     new_dataloader = DataLoader(\n",
    "#         dataset=dataset,\n",
    "#         batch_size=dataloader.batch_size,\n",
    "#         shuffle=False,\n",
    "#         num_workers=dataloader.num_workers,\n",
    "#         pin_memory=dataloader.pin_memory,\n",
    "#         drop_last=dataloader.drop_last,\n",
    "#         timeout=dataloader.timeout,\n",
    "#         worker_init_fn=dataloader.worker_init_fn,\n",
    "#         multiprocessing_context=dataloader.multiprocessing_context,\n",
    "#         generator=dataloader.generator,\n",
    "#         prefetch_factor=dataloader.prefetch_factor,'\n",
    "#         persistent_workers=dataloader.persistent_workers\n",
    "#     )\n",
    "#     return new_dataloader\n",
    "\n",
    "# projectloader = unshuffle_dataloader(projectloader)\n",
    "# print(projectloader.batch_size)"
   ]
  },
  {
   "cell_type": "code",
   "execution_count": 69,
   "id": "e9c67f8a-0863-41f1-80e1-7897b1277c0b",
   "metadata": {},
   "outputs": [
    {
     "name": "stdout",
     "output_type": "stream",
     "text": [
      "Number of prototypes in parts_presences:  20\n",
      "Part-related (purity>0.5): 1\n",
      "Node: 033+031 | Child: cub_033_Yellow_billed_Cuckoo | Purity: 0.3167857142857143 | Num desc: 1 | Num protos: 10\n",
      "\tProto: 1 0.3333333333333333\n",
      "\tProto: 9 0.5\n",
      "\tProto: 6 0.125\n",
      "\tProto: 7 0.375\n",
      "\tProto: 0 0.4\n",
      "\tProto: 8 0.4\n",
      "\tProto: 4 0.125\n",
      "\tProto: 3 0.1\n",
      "\tProto: 5 0.6666666666666666\n",
      "\tProto: 2 0.14285714285714285\n",
      "Node: 033+031 | Child: cub_031_Black_billed_Cuckoo | Purity: 0.21297619047619049 | Num desc: 1 | Num protos: 10\n",
      "\tProto: 14 0.2\n",
      "\tProto: 11 0.2222222222222222\n",
      "\tProto: 17 0.2857142857142857\n",
      "\tProto: 15 0.0\n",
      "\tProto: 12 0.2857142857142857\n",
      "\tProto: 10 0.2222222222222222\n",
      "\tProto: 16 0.125\n",
      "\tProto: 19 0.2222222222222222\n",
      "\tProto: 13 0.16666666666666666\n",
      "\tProto: 18 0.4\n",
      "Number of prototypes in parts_presences:  20\n",
      "Part-related (purity>0.5): 0\n",
      "Node: 053+050 | Child: cub_053_Western_Grebe | Purity: 0.18222222222222223 | Num desc: 1 | Num protos: 10\n",
      "\tProto: 1 0.2\n",
      "\tProto: 9 0.0\n",
      "\tProto: 6 0.1\n",
      "\tProto: 7 0.2\n",
      "\tProto: 0 0.1111111111111111\n",
      "\tProto: 8 0.5\n",
      "\tProto: 4 0.2\n",
      "\tProto: 3 0.1\n",
      "\tProto: 5 0.1111111111111111\n",
      "\tProto: 2 0.3\n",
      "Node: 053+050 | Child: 050+051 | Purity: 0.20853383458646618 | Num desc: 2 | Num protos: 10\n",
      "\tProto: 14 0.5\n",
      "\tProto: 11 0.2631578947368421\n",
      "\tProto: 17 0.07142857142857142\n",
      "\tProto: 15 0.15789473684210525\n",
      "\tProto: 12 0.0\n",
      "\tProto: 10 0.07142857142857142\n",
      "\tProto: 16 0.3\n",
      "\tProto: 19 0.15\n",
      "\tProto: 13 0.5\n",
      "\tProto: 18 0.07142857142857142\n",
      "Number of prototypes in parts_presences:  20\n",
      "Part-related (purity>0.5): 0\n",
      "Node: 002+001 | Child: cub_002_Laysan_Albatross | Purity: 0.21666666666666665 | Num desc: 1 | Num protos: 10\n",
      "\tProto: 1 0.4\n",
      "\tProto: 9 0.3\n",
      "\tProto: 6 0.2\n",
      "\tProto: 7 0.1\n",
      "\tProto: 0 0.2222222222222222\n",
      "\tProto: 8 0.2222222222222222\n",
      "\tProto: 4 0.1\n",
      "\tProto: 3 0.1\n",
      "\tProto: 5 0.3\n",
      "\tProto: 2 0.2222222222222222\n",
      "Node: 002+001 | Child: cub_001_Black_footed_Albatross | Purity: 0.22039682539682542 | Num desc: 1 | Num protos: 10\n",
      "\tProto: 14 0.1111111111111111\n",
      "\tProto: 11 0.5\n",
      "\tProto: 17 0.14285714285714285\n",
      "\tProto: 15 0.3333333333333333\n",
      "\tProto: 12 0.25\n",
      "\tProto: 10 0.3333333333333333\n",
      "\tProto: 16 0.1111111111111111\n",
      "\tProto: 19 0.1111111111111111\n",
      "\tProto: 13 0.1111111111111111\n",
      "\tProto: 18 0.2\n",
      "Number of prototypes in parts_presences:  20\n",
      "Part-related (purity>0.5): 2\n",
      "Node: 101+100 | Child: cub_101_White_Pelican | Purity: 0.23535714285714288 | Num desc: 1 | Num protos: 10\n",
      "\tProto: 1 0.125\n",
      "\tProto: 9 0.0\n",
      "\tProto: 6 0.2\n",
      "\tProto: 7 0.3\n",
      "\tProto: 0 0.42857142857142855\n",
      "\tProto: 8 0.2\n",
      "\tProto: 4 0.2\n",
      "\tProto: 3 0.2\n",
      "\tProto: 5 0.2\n",
      "\tProto: 2 0.5\n",
      "Node: 101+100 | Child: cub_100_Brown_Pelican | Purity: 0.25055555555555553 | Num desc: 1 | Num protos: 10\n",
      "\tProto: 14 0.2222222222222222\n",
      "\tProto: 11 0.0\n",
      "\tProto: 17 0.375\n",
      "\tProto: 15 0.375\n",
      "\tProto: 12 0.0\n",
      "\tProto: 10 0.2\n",
      "\tProto: 16 0.0\n",
      "\tProto: 19 0.2222222222222222\n",
      "\tProto: 13 0.5555555555555556\n",
      "\tProto: 18 0.5555555555555556\n",
      "Number of prototypes in parts_presences:  20\n",
      "Part-related (purity>0.5): 0\n",
      "Node: 003+002 | Child: cub_003_Sooty_Albatross | Purity: 0.21305555555555555 | Num desc: 1 | Num protos: 10\n",
      "\tProto: 1 0.0\n",
      "\tProto: 9 0.125\n",
      "\tProto: 6 0.1\n",
      "\tProto: 7 0.5\n",
      "\tProto: 0 0.4444444444444444\n",
      "\tProto: 8 0.0\n",
      "\tProto: 4 0.5\n",
      "\tProto: 3 0.1111111111111111\n",
      "\tProto: 5 0.25\n",
      "\tProto: 2 0.1\n",
      "Node: 003+002 | Child: 002+001 | Purity: 0.2397523219814241 | Num desc: 2 | Num protos: 10\n",
      "\tProto: 14 0.3\n",
      "\tProto: 11 0.2\n",
      "\tProto: 17 0.17647058823529413\n",
      "\tProto: 15 0.42105263157894735\n",
      "\tProto: 12 0.1\n",
      "\tProto: 10 0.3\n",
      "\tProto: 16 0.2\n",
      "\tProto: 19 0.1\n",
      "\tProto: 13 0.3\n",
      "\tProto: 18 0.3\n",
      "Number of prototypes in parts_presences:  20\n",
      "Part-related (purity>0.5): 0\n",
      "Node: 032+033 | Child: cub_032_Mangrove_Cuckoo | Purity: 0.2767857142857143 | Num desc: 1 | Num protos: 10\n",
      "\tProto: 1 0.2222222222222222\n",
      "\tProto: 9 0.5\n",
      "\tProto: 6 0.14285714285714285\n",
      "\tProto: 7 0.0\n",
      "\tProto: 0 0.125\n",
      "\tProto: 8 0.0\n",
      "\tProto: 4 0.3333333333333333\n",
      "\tProto: 3 0.5\n",
      "\tProto: 5 0.5\n",
      "\tProto: 2 0.4444444444444444\n",
      "Node: 032+033 | Child: 033+031 | Purity: 0.18724326842747893 | Num desc: 2 | Num protos: 10\n",
      "\tProto: 14 0.125\n",
      "\tProto: 11 0.47368421052631576\n",
      "\tProto: 17 0.05\n",
      "\tProto: 15 0.5\n",
      "\tProto: 12 0.0\n",
      "\tProto: 10 0.05\n",
      "\tProto: 16 0.07692307692307693\n",
      "\tProto: 19 0.1111111111111111\n",
      "\tProto: 13 0.2857142857142857\n",
      "\tProto: 18 0.2\n",
      "Number of prototypes in parts_presences:  20\n",
      "Part-related (purity>0.5): 2\n",
      "Node: 025+024 | Child: cub_025_Pelagic_Cormorant | Purity: 0.29583333333333334 | Num desc: 1 | Num protos: 10\n",
      "\tProto: 1 0.1111111111111111\n",
      "\tProto: 9 0.4\n",
      "\tProto: 6 0.3\n",
      "\tProto: 7 0.625\n",
      "\tProto: 0 0.2\n",
      "\tProto: 8 0.2\n",
      "\tProto: 4 0.1111111111111111\n",
      "\tProto: 3 0.4\n",
      "\tProto: 5 0.5\n",
      "\tProto: 2 0.1111111111111111\n",
      "Node: 025+024 | Child: cub_024_Red_faced_Cormorant | Purity: 0.20249999999999999 | Num desc: 1 | Num protos: 10\n",
      "\tProto: 14 0.375\n",
      "\tProto: 11 0.0\n",
      "\tProto: 17 0.5\n",
      "\tProto: 15 0.1\n",
      "\tProto: 12 0.0\n",
      "\tProto: 10 0.25\n",
      "\tProto: 16 0.0\n",
      "\tProto: 19 0.6\n",
      "\tProto: 13 0.1\n",
      "\tProto: 18 0.1\n",
      "Number of prototypes in parts_presences:  20\n",
      "Part-related (purity>0.5): 0\n",
      "Node: 101+023 | Child: 101+100 | Purity: 0.22969834087481145 | Num desc: 2 | Num protos: 10\n",
      "\tProto: 1 0.25\n",
      "\tProto: 9 0.25\n",
      "\tProto: 6 0.17647058823529413\n",
      "\tProto: 7 0.07692307692307693\n",
      "\tProto: 0 0.3333333333333333\n",
      "\tProto: 8 0.3333333333333333\n",
      "\tProto: 4 0.3333333333333333\n",
      "\tProto: 3 0.3333333333333333\n",
      "\tProto: 5 0.13333333333333333\n",
      "\tProto: 2 0.07692307692307693\n",
      "Node: 101+023 | Child: 023+025 | Purity: 0.1613684130157144 | Num desc: 3 | Num protos: 10\n",
      "\tProto: 14 0.06896551724137931\n",
      "\tProto: 11 0.3125\n",
      "\tProto: 17 0.1\n",
      "\tProto: 15 0.1111111111111111\n",
      "\tProto: 12 0.125\n",
      "\tProto: 10 0.30434782608695654\n",
      "\tProto: 16 0.037037037037037035\n",
      "\tProto: 19 0.06896551724137931\n",
      "\tProto: 13 0.34782608695652173\n",
      "\tProto: 18 0.13793103448275862\n",
      "Number of prototypes in parts_presences:  20\n",
      "Part-related (purity>0.5): 2\n",
      "Node: root | Child: 052+053 | Purity: 0.2868927125506073 | Num desc: 4 | Num protos: 10\n",
      "\tProto: 1 0.175\n",
      "\tProto: 9 0.0\n",
      "\tProto: 6 0.2631578947368421\n",
      "\tProto: 7 0.07692307692307693\n",
      "\tProto: 0 0.05\n",
      "\tProto: 8 0.02564102564102564\n",
      "\tProto: 4 1.0\n",
      "\tProto: 3 0.1282051282051282\n",
      "\tProto: 5 1.0\n",
      "\tProto: 2 0.15\n",
      "Node: root | Child: 004+086 | Purity: 0.1389552019450796 | Num desc: 14 | Num protos: 10\n",
      "\tProto: 14 0.08421052631578947\n",
      "\tProto: 11 0.09782608695652174\n",
      "\tProto: 17 0.1259259259259259\n",
      "\tProto: 15 0.1111111111111111\n",
      "\tProto: 12 0.2625\n",
      "\tProto: 10 0.17045454545454544\n",
      "\tProto: 16 0.14492753623188406\n",
      "\tProto: 19 0.1889763779527559\n",
      "\tProto: 13 0.11538461538461539\n",
      "\tProto: 18 0.08823529411764706\n",
      "Number of prototypes in parts_presences:  20\n",
      "Part-related (purity>0.5): 0\n",
      "Node: 045+101 | Child: 045+003 | Purity: 0.13033184138447296 | Num desc: 4 | Num protos: 10\n",
      "\tProto: 1 0.1\n",
      "\tProto: 9 0.21052631578947367\n",
      "\tProto: 6 0.05405405405405406\n",
      "\tProto: 7 0.21052631578947367\n",
      "\tProto: 0 0.027777777777777776\n",
      "\tProto: 8 0.2857142857142857\n",
      "\tProto: 4 0.10714285714285714\n",
      "\tProto: 3 0.08108108108108109\n",
      "\tProto: 5 0.11538461538461539\n",
      "\tProto: 2 0.1111111111111111\n",
      "Node: 045+101 | Child: 101+023 | Purity: 0.16643131988400534 | Num desc: 5 | Num protos: 10\n",
      "\tProto: 14 0.10810810810810811\n",
      "\tProto: 11 0.19047619047619047\n",
      "\tProto: 17 0.11764705882352941\n",
      "\tProto: 15 0.2\n",
      "\tProto: 12 0.13043478260869565\n",
      "\tProto: 10 0.4\n",
      "\tProto: 16 0.11764705882352941\n",
      "\tProto: 19 0.2\n",
      "\tProto: 13 0.1\n",
      "\tProto: 18 0.1\n",
      "Number of prototypes in parts_presences:  20\n",
      "Part-related (purity>0.5): 1\n",
      "Node: 045+003 | Child: cub_045_Northern_Fulmar | Purity: 0.3094444444444444 | Num desc: 1 | Num protos: 10\n",
      "\tProto: 1 0.2222222222222222\n",
      "\tProto: 9 0.25\n",
      "\tProto: 6 0.5\n",
      "\tProto: 7 0.2222222222222222\n",
      "\tProto: 0 0.3\n",
      "\tProto: 8 0.6\n",
      "\tProto: 4 0.25\n",
      "\tProto: 3 0.5\n",
      "\tProto: 5 0.25\n",
      "\tProto: 2 0.0\n",
      "Node: 045+003 | Child: 003+002 | Purity: 0.18573199150785358 | Num desc: 3 | Num protos: 10\n",
      "\tProto: 14 0.3448275862068966\n",
      "\tProto: 11 0.18518518518518517\n",
      "\tProto: 17 0.23333333333333334\n",
      "\tProto: 15 0.041666666666666664\n",
      "\tProto: 12 0.3448275862068966\n",
      "\tProto: 10 0.2\n",
      "\tProto: 16 0.18181818181818182\n",
      "\tProto: 19 0.18518518518518517\n",
      "\tProto: 13 0.03333333333333333\n",
      "\tProto: 18 0.10714285714285714\n",
      "Number of prototypes in parts_presences:  20\n",
      "Part-related (purity>0.5): 2\n",
      "Node: 052+053 | Child: cub_052_Pied_billed_Grebe | Purity: 0.24 | Num desc: 1 | Num protos: 10\n",
      "\tProto: 1 0.1\n",
      "\tProto: 9 0.6\n",
      "\tProto: 6 0.0\n",
      "\tProto: 7 0.1\n",
      "\tProto: 0 0.2\n",
      "\tProto: 8 0.3\n",
      "\tProto: 4 0.2\n",
      "\tProto: 3 0.0\n",
      "\tProto: 5 0.6\n",
      "\tProto: 2 0.3\n",
      "Node: 052+053 | Child: 053+050 | Purity: 0.20515804597701148 | Num desc: 3 | Num protos: 10\n",
      "\tProto: 14 0.26666666666666666\n",
      "\tProto: 11 0.3125\n",
      "\tProto: 17 0.3333333333333333\n",
      "\tProto: 15 0.0\n",
      "\tProto: 12 0.10344827586206896\n",
      "\tProto: 10 0.03333333333333333\n",
      "\tProto: 16 0.13333333333333333\n",
      "\tProto: 19 0.06896551724137931\n",
      "\tProto: 13 0.4\n",
      "\tProto: 18 0.4\n",
      "Number of prototypes in parts_presences:  20\n",
      "Part-related (purity>0.5): 0\n",
      "Node: 086+045 | Child: cub_086_Pacific_Loon | Purity: 0.2674603174603175 | Num desc: 1 | Num protos: 10\n",
      "\tProto: 1 0.2857142857142857\n",
      "\tProto: 9 0.4\n",
      "\tProto: 6 0.3\n",
      "\tProto: 7 0.2222222222222222\n",
      "\tProto: 0 0.3\n",
      "\tProto: 8 0.3333333333333333\n",
      "\tProto: 4 0.16666666666666666\n",
      "\tProto: 3 0.1111111111111111\n",
      "\tProto: 5 0.3333333333333333\n",
      "\tProto: 2 0.2222222222222222\n",
      "Node: 086+045 | Child: 045+101 | Purity: 0.15226158886822527 | Num desc: 9 | Num protos: 10\n",
      "\tProto: 14 0.08333333333333333\n",
      "\tProto: 11 0.12790697674418605\n",
      "\tProto: 17 0.37209302325581395\n",
      "\tProto: 15 0.13414634146341464\n",
      "\tProto: 12 0.11428571428571428\n",
      "\tProto: 10 0.08108108108108109\n",
      "\tProto: 16 0.10465116279069768\n",
      "\tProto: 19 0.10227272727272728\n",
      "\tProto: 13 0.18333333333333332\n",
      "\tProto: 18 0.21951219512195122\n",
      "Number of prototypes in parts_presences:  20\n",
      "Part-related (purity>0.5): 0\n",
      "Node: 023+025 | Child: cub_023_Brandt_Cormorant | Purity: 0.2011111111111111 | Num desc: 1 | Num protos: 10\n",
      "\tProto: 1 0.3333333333333333\n",
      "\tProto: 9 0.1111111111111111\n",
      "\tProto: 6 0.3333333333333333\n",
      "\tProto: 7 0.3333333333333333\n",
      "\tProto: 0 0.1\n",
      "\tProto: 8 0.1\n",
      "\tProto: 4 0.5\n",
      "\tProto: 3 0.1\n",
      "\tProto: 5 0.0\n",
      "\tProto: 2 0.1\n",
      "Node: 023+025 | Child: 025+024 | Purity: 0.2361356209150327 | Num desc: 2 | Num protos: 10\n",
      "\tProto: 14 0.23529411764705882\n",
      "\tProto: 11 0.0\n",
      "\tProto: 17 0.2222222222222222\n",
      "\tProto: 15 0.125\n",
      "\tProto: 12 0.35\n",
      "\tProto: 10 0.35\n",
      "\tProto: 16 0.29411764705882354\n",
      "\tProto: 19 0.25\n",
      "\tProto: 13 0.3125\n",
      "\tProto: 18 0.2222222222222222\n",
      "Number of prototypes in parts_presences:  20\n",
      "Part-related (purity>0.5): 0\n",
      "Node: 004+086 | Child: 004+032 | Purity: 0.10923898594951227 | Num desc: 4 | Num protos: 10\n",
      "\tProto: 1 0.0\n",
      "\tProto: 9 0.10810810810810811\n",
      "\tProto: 6 0.225\n",
      "\tProto: 7 0.1\n",
      "\tProto: 0 0.07692307692307693\n",
      "\tProto: 8 0.05\n",
      "\tProto: 4 0.14814814814814814\n",
      "\tProto: 3 0.2\n",
      "\tProto: 5 0.05263157894736842\n",
      "\tProto: 2 0.13157894736842105\n",
      "Node: 004+086 | Child: 086+045 | Purity: 0.15951809528519706 | Num desc: 10 | Num protos: 10\n",
      "\tProto: 14 0.13513513513513514\n",
      "\tProto: 11 0.14\n",
      "\tProto: 17 0.2087912087912088\n",
      "\tProto: 15 0.16176470588235295\n",
      "\tProto: 12 0.16853932584269662\n",
      "\tProto: 10 0.14285714285714285\n",
      "\tProto: 16 0.21\n",
      "\tProto: 19 0.10101010101010101\n",
      "\tProto: 13 0.23958333333333334\n",
      "\tProto: 18 0.0875\n",
      "Number of prototypes in parts_presences:  20\n",
      "Part-related (purity>0.5): 3\n",
      "Node: 004+032 | Child: cub_004_Groove_billed_Ani | Purity: 0.375 | Num desc: 1 | Num protos: 10\n",
      "\tProto: 1 0.5\n",
      "\tProto: 9 0.2\n",
      "\tProto: 6 0.6\n",
      "\tProto: 7 0.6\n",
      "\tProto: 0 0.75\n",
      "\tProto: 8 0.2\n",
      "\tProto: 4 0.1\n",
      "\tProto: 3 0.2\n",
      "\tProto: 5 0.1\n",
      "\tProto: 2 0.5\n",
      "Node: 004+032 | Child: 032+033 | Purity: 0.13155233655233653 | Num desc: 3 | Num protos: 10\n",
      "\tProto: 14 0.36666666666666664\n",
      "\tProto: 11 0.03571428571428571\n",
      "\tProto: 17 0.09090909090909091\n",
      "\tProto: 15 0.1111111111111111\n",
      "\tProto: 12 0.07692307692307693\n",
      "\tProto: 10 0.09090909090909091\n",
      "\tProto: 16 0.03571428571428571\n",
      "\tProto: 19 0.36666666666666664\n",
      "\tProto: 13 0.05\n",
      "\tProto: 18 0.09090909090909091\n",
      "Number of prototypes in parts_presences:  20\n",
      "Part-related (purity>0.5): 6\n",
      "Node: 050+051 | Child: cub_050_Eared_Grebe | Purity: 0.45861111111111114 | Num desc: 1 | Num protos: 10\n",
      "\tProto: 1 0.1111111111111111\n",
      "\tProto: 9 0.1\n",
      "\tProto: 6 0.125\n",
      "\tProto: 7 0.125\n",
      "\tProto: 0 1.0\n",
      "\tProto: 8 0.2\n",
      "\tProto: 4 0.9\n",
      "\tProto: 3 0.125\n",
      "\tProto: 5 1.0\n",
      "\tProto: 2 0.9\n",
      "Node: 050+051 | Child: cub_051_Horned_Grebe | Purity: 0.35 | Num desc: 1 | Num protos: 10\n",
      "\tProto: 14 0.5\n",
      "\tProto: 11 0.6\n",
      "\tProto: 17 0.2\n",
      "\tProto: 15 0.2\n",
      "\tProto: 12 0.5\n",
      "\tProto: 10 0.2\n",
      "\tProto: 16 0.6\n",
      "\tProto: 19 0.0\n",
      "\tProto: 13 0.5\n",
      "\tProto: 18 0.2\n"
     ]
    }
   ],
   "source": [
    "list_csvfile_topk = []\n",
    "list_node_wise_df = []\n",
    "dict_node_wise_df = {}\n",
    "\n",
    "node_wise_purity = []\n",
    "for csvfile_topk in os.listdir(csv_folder_path):\n",
    "    node_name = csvfile_topk.split('_')[0]\n",
    "    node = root.get_node(node_name)\n",
    "    csvfile_topk = os.path.join(csv_folder_path, csvfile_topk)\n",
    "    list_csvfile_topk.append(csvfile_topk)\n",
    "    dict_node_wise_df[node.name] = pd.read_csv(csvfile_topk)\n",
    "    # node_purity = eval_prototypes_cub_parts_csv_nodewise(node, csvfile_topk, part_locs_file, parts_name_path, \\\n",
    "    #                           imgs_id_path, 'projectloader_topk_'+str(epoch), args, desc_threshold=0.2)\n",
    "    node_purity = eval_prototypes_cub_parts_csv_nodewise_maxmin(node, csvfile_topk, part_locs_file, parts_name_path, \\\n",
    "                              imgs_id_path, 'projectloader_topk_'+str(epoch), args, desc_threshold=0.2)\n",
    "    node_wise_purity.append(node_purity)"
   ]
  },
  {
   "cell_type": "code",
   "execution_count": 70,
   "id": "1babdc11-0117-42b0-876b-fdd533614a6e",
   "metadata": {},
   "outputs": [
    {
     "name": "stdout",
     "output_type": "stream",
     "text": [
      "0.22804605366079805\n"
     ]
    }
   ],
   "source": [
    "print(np.mean(node_wise_purity))"
   ]
  },
  {
   "cell_type": "code",
   "execution_count": 52,
   "id": "5d35309c-a528-4090-bf6e-cb0111b7489e",
   "metadata": {},
   "outputs": [
    {
     "data": {
      "text/plain": [
       "[0.21484126984126983,\n",
       " 0.1227777777777778,\n",
       " 0.17950396825396825,\n",
       " 0.17972222222222223,\n",
       " 0.1865277777777778,\n",
       " 0.19394841269841273,\n",
       " 0.19041666666666668,\n",
       " 0.0314484126984127,\n",
       " 0.11111111111111112,\n",
       " 0.017361111111111112,\n",
       " 0.13444444444444445,\n",
       " 0.13999999999999999,\n",
       " 0.12166666666666666,\n",
       " 0.14666666666666667,\n",
       " 0.0,\n",
       " 0.13428571428571429,\n",
       " 0.24930555555555559]"
      ]
     },
     "execution_count": 52,
     "metadata": {},
     "output_type": "execute_result"
    }
   ],
   "source": [
    "node_wise_purity"
   ]
  },
  {
   "cell_type": "code",
   "execution_count": null,
   "id": "9f7e9d92-5d33-40d6-89ec-21b5ce32c115",
   "metadata": {},
   "outputs": [],
   "source": []
  }
 ],
 "metadata": {
  "kernelspec": {
   "display_name": "Python 3 (ipykernel)",
   "language": "python",
   "name": "python3"
  },
  "language_info": {
   "codemirror_mode": {
    "name": "ipython",
    "version": 3
   },
   "file_extension": ".py",
   "mimetype": "text/x-python",
   "name": "python",
   "nbconvert_exporter": "python",
   "pygments_lexer": "ipython3",
   "version": "3.9.18"
  }
 },
 "nbformat": 4,
 "nbformat_minor": 5
}
