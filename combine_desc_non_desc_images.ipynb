{
 "cells": [
  {
   "cell_type": "code",
   "execution_count": 2,
   "id": "36b618cc-fde3-47d8-99f4-14f1433844f8",
   "metadata": {},
   "outputs": [
    {
     "name": "stdout",
     "output_type": "stream",
     "text": [
      "Image processing completed.\n"
     ]
    }
   ],
   "source": [
    "import os\n",
    "from PIL import Image\n",
    "\n",
    "# run_path = \"/home/harishbabu/projects/PIPNet/runs/150-ConciseProtoPNetNoProtoPoolWithKO=0.5WithTanhDesc_Dinov2VitS4_CUB-29-imgnet-224_with-equalize-aug_img=224_nprotos=20\"\n",
    "# run_path = \"/home/harishbabu/projects/PIPNet/runs/152-ConciseProtoPNetNoProtoPoolWithKO=0.5WithTanhDescWithAntConc=0.1_Dinov2VitS4_CUB-29-imgnet-224_with-equalize-aug_img=224_nprotos=20\"\n",
    "# run_path = \"/home/harishbabu/projects/PIPNet/runs/148-ConciseProtoPNetNoProtoPoolWithKO=0.5WithTanhDesc_cnext13_CUB-18-imgnet-224_with-equalize-aug_img=224_nprotos=20\"\n",
    "run_path = \"/home/harishbabu/projects/PIPNet/runs/138-NaiveHPIPNetwithTanhDesc_cnext26_CUB-18-imgnet-224_with-equalize-aug_img=224_nprotos=20\"\n",
    "# run_path = \"/home/harishbabu/projects/PIPNet/runs/162-PruningNaiveHPIPNetMaskL1=0.5MaskTrainExtra=15epsEps=60_cnext13_CUB-18-imgnet-224_with-equalize-aug_img=224_nprotos=20\"\n",
    "\n",
    "# Define the paths\n",
    "desc_path = \"descendent_specific_topk_heatmap_testloader_ep=last\"\n",
    "non_desc_path = \"non_\" + desc_path\n",
    "folder_a_path = os.path.join(run_path, desc_path)\n",
    "folder_b_path = os.path.join(run_path, non_desc_path)\n",
    "output_folder_path = os.path.join(run_path, \"combined_\" + desc_path)\n",
    "\n",
    "# Create the output folder if it doesn't exist\n",
    "os.makedirs(output_folder_path, exist_ok=True)\n",
    "\n",
    "def combine_images_horizontally(image_paths):\n",
    "    images = [Image.open(img_path) for img_path in image_paths]\n",
    "    widths, heights = zip(*(i.size for i in images))\n",
    "\n",
    "    total_width = sum(widths)\n",
    "    max_height = max(heights)\n",
    "\n",
    "    new_im = Image.new('RGB', (total_width, max_height))\n",
    "\n",
    "    x_offset = 0\n",
    "    for im in images:\n",
    "        new_im.paste(im, (x_offset, 0))\n",
    "        x_offset += im.size[0]\n",
    "\n",
    "    return new_im\n",
    "\n",
    "for subdir, dirs, files in os.walk(folder_a_path):\n",
    "    for dirname in dirs:\n",
    "        subfolder_a = os.path.join(folder_a_path, dirname)\n",
    "        subfolder_b = os.path.join(folder_b_path, dirname)\n",
    "        output_subfolder = os.path.join(output_folder_path, dirname)\n",
    "\n",
    "        # Create subfolder in output folder\n",
    "        os.makedirs(output_subfolder, exist_ok=True)\n",
    "\n",
    "        # Iterate over images in subfolder_a and find corresponding image in subfolder_b\n",
    "        for image_name in os.listdir(subfolder_a):\n",
    "            image_a_path = os.path.join(subfolder_a, image_name)\n",
    "            image_b_path = os.path.join(subfolder_b, image_name)\n",
    "\n",
    "            if os.path.exists(image_b_path):  # Check if the corresponding image exists in folder B\n",
    "                combined_image = combine_images_horizontally([image_a_path, image_b_path])\n",
    "                combined_image_path = os.path.join(output_subfolder, image_name)\n",
    "                combined_image.save(combined_image_path)\n",
    "\n",
    "print(\"Image processing completed.\")\n"
   ]
  },
  {
   "cell_type": "code",
   "execution_count": 2,
   "id": "285778be-80eb-42ba-85ff-1458bf739425",
   "metadata": {},
   "outputs": [],
   "source": [
    "import numpy as np"
   ]
  },
  {
   "cell_type": "code",
   "execution_count": 4,
   "id": "ec888697-8316-4f02-ad92-6bad44f52cad",
   "metadata": {},
   "outputs": [
    {
     "data": {
      "text/plain": [
       "1.3887943864964021e-11"
      ]
     },
     "execution_count": 4,
     "metadata": {},
     "output_type": "execute_result"
    }
   ],
   "source": [
    "np.exp(-25)"
   ]
  },
  {
   "cell_type": "code",
   "execution_count": null,
   "id": "30e5eadd-42fe-41f6-8deb-b4a0e7fac5e8",
   "metadata": {},
   "outputs": [],
   "source": []
  }
 ],
 "metadata": {
  "kernelspec": {
   "display_name": "Python 3 (ipykernel)",
   "language": "python",
   "name": "python3"
  },
  "language_info": {
   "codemirror_mode": {
    "name": "ipython",
    "version": 3
   },
   "file_extension": ".py",
   "mimetype": "text/x-python",
   "name": "python",
   "nbconvert_exporter": "python",
   "pygments_lexer": "ipython3",
   "version": "3.9.18"
  }
 },
 "nbformat": 4,
 "nbformat_minor": 5
}
