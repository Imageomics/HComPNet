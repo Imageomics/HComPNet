{
 "cells": [
  {
   "cell_type": "code",
   "execution_count": 1,
   "metadata": {},
   "outputs": [
    {
     "name": "stdout",
     "output_type": "stream",
     "text": [
      "Heatmaps showing where a prototype is found will not be generated because OpenCV is not installed.\n"
     ]
    }
   ],
   "source": [
    "from pipnet.pipnet import PIPNet, get_network\n",
    "from util.log import Log\n",
    "import torch.nn as nn\n",
    "from util.args import get_args, save_args, get_optimizer_nn\n",
    "from util.data import get_dataloaders\n",
    "from util.func import init_weights_xavier\n",
    "from pipnet.train import train_pipnet, test_pipnet\n",
    "# from pipnet.test import eval_pipnet, get_thresholds, eval_ood\n",
    "from util.eval_cub_csv import eval_prototypes_cub_parts_csv, get_topk_cub, get_proto_patches_cub\n",
    "import torch\n",
    "from util.vis_pipnet import visualize, visualize_topk\n",
    "from util.visualize_prediction import vis_pred, vis_pred_experiments\n",
    "import sys, os\n",
    "import random\n",
    "import numpy as np\n",
    "from shutil import copy\n",
    "import matplotlib.pyplot as plt\n",
    "from copy import deepcopy\n",
    "\n",
    "from omegaconf import OmegaConf\n",
    "from util.node import Node\n",
    "import shutil\n",
    "from util.phylo_utils import construct_phylo_tree, construct_discretized_phylo_tree\n",
    "import pickle\n",
    "from util.func import get_patch_size\n",
    "import random\n",
    "from util.data import ModifiedLabelLoader\n",
    "from tqdm import tqdm"
   ]
  },
  {
   "cell_type": "code",
   "execution_count": 2,
   "metadata": {},
   "outputs": [
    {
     "name": "stdout",
     "output_type": "stream",
     "text": [
      "------------------------- No discretization -------------------------\n"
     ]
    }
   ],
   "source": [
    "# run_path = '/home/harishbabu/projects/PIPNet/runs/010-CUB-27-imgnet_OOD_cnext26_img=224_nprotos=20'\n",
    "# run_path = '/home/harishbabu/projects/PIPNet/runs/031-CUB-18-imgnet_cnext26_img=224_nprotos=20_orth-on-rel'\n",
    "# run_path = '/home/harishbabu/projects/PIPNet/runs/032-CUB-18-imgnet_cnext26_img=224_nprotos=20_orth-on-rel'\n",
    "run_path = '/home/harishbabu/projects/PIPNet/runs/035-CUB-18-imgnet_OOD_cnext26_img=224_nprotos=20_orth-on-rel'\n",
    "args_file = open(os.path.join(run_path, 'metadata', 'args.pickle'), 'rb')\n",
    "args = pickle.load(args_file)\n",
    "\n",
    "if args.phylo_config:\n",
    "    phylo_config = OmegaConf.load(args.phylo_config)\n",
    "\n",
    "if args.phylo_config:\n",
    "    # construct the phylo tree\n",
    "    if phylo_config.phyloDistances_string == 'None':\n",
    "        if '031' in run_path: # this run uses a different phylogeny file that had an extra root node which is a mistake\n",
    "            root = construct_phylo_tree('/home/harishbabu/data/phlyogenyCUB/18Species-with-extra-root-node/1_tree-consensus-Hacket-18Species-modified_cub-names_v1.phy')\n",
    "        else:\n",
    "            root = construct_phylo_tree(phylo_config.phylogeny_path)\n",
    "        print('-'*25 + ' No discretization ' + '-'*25)\n",
    "    else:\n",
    "        root = construct_discretized_phylo_tree(phylo_config.phylogeny_path, phylo_config.phyloDistances_string)\n",
    "        print('-'*25 + ' Discretized ' + '-'*25)\n",
    "else:\n",
    "    # construct the tree (original hierarchy as described in the paper)\n",
    "    root = Node(\"root\")\n",
    "    root.add_children(['animal','vehicle','everyday_object','weapon','scuba_diver'])\n",
    "    root.add_children_to('animal',['non_primate','primate'])\n",
    "    root.add_children_to('non_primate',['African_elephant','giant_panda','lion'])\n",
    "    root.add_children_to('primate',['capuchin','gibbon','orangutan'])\n",
    "    root.add_children_to('vehicle',['ambulance','pickup','sports_car'])\n",
    "    root.add_children_to('everyday_object',['laptop','sandal','wine_bottle'])\n",
    "    root.add_children_to('weapon',['assault_rifle','rifle'])\n",
    "    # flat root\n",
    "    # root.add_children(['scuba_diver','African_elephant','giant_panda','lion','capuchin','gibbon','orangutan','ambulance','pickup','sports_car','laptop','sandal','wine_bottle','assault_rifle','rifle'])\n",
    "root.assign_all_descendents()"
   ]
  },
  {
   "cell_type": "code",
   "execution_count": 3,
   "metadata": {},
   "outputs": [
    {
     "name": "stdout",
     "output_type": "stream",
     "text": [
      "root\n",
      "\t052+053\n",
      "\t\tcub_052_Pied_billed_Grebe\n",
      "\t\t053+050\n",
      "\t\t\tcub_053_Western_Grebe\n",
      "\t\t\t050+051\n",
      "\t\t\t\tcub_050_Eared_Grebe\n",
      "\t\t\t\tcub_051_Horned_Grebe\n",
      "\t004+086\n",
      "\t\t004+032\n",
      "\t\t\tcub_004_Groove_billed_Ani\n",
      "\t\t\t032+033\n",
      "\t\t\t\tcub_032_Mangrove_Cuckoo\n",
      "\t\t\t\t033+031\n",
      "\t\t\t\t\tcub_033_Yellow_billed_Cuckoo\n",
      "\t\t\t\t\tcub_031_Black_billed_Cuckoo\n",
      "\t\t086+045\n",
      "\t\t\tcub_086_Pacific_Loon\n",
      "\t\t\t045+101\n",
      "\t\t\t\t045+003\n",
      "\t\t\t\t\tcub_045_Northern_Fulmar\n",
      "\t\t\t\t\t003+002\n",
      "\t\t\t\t\t\tcub_003_Sooty_Albatross\n",
      "\t\t\t\t\t\t002+001\n",
      "\t\t\t\t\t\t\tcub_002_Laysan_Albatross\n",
      "\t\t\t\t\t\t\tcub_001_Black_footed_Albatross\n",
      "\t\t\t\t101+023\n",
      "\t\t\t\t\t101+100\n",
      "\t\t\t\t\t\tcub_101_White_Pelican\n",
      "\t\t\t\t\t\tcub_100_Brown_Pelican\n",
      "\t\t\t\t\t023+025\n",
      "\t\t\t\t\t\tcub_023_Brandt_Cormorant\n",
      "\t\t\t\t\t\t025+024\n",
      "\t\t\t\t\t\t\tcub_025_Pelagic_Cormorant\n",
      "\t\t\t\t\t\t\tcub_024_Red_faced_Cormorant\n",
      "\n"
     ]
    }
   ],
   "source": [
    "print(root)"
   ]
  },
  {
   "cell_type": "code",
   "execution_count": 4,
   "metadata": {},
   "outputs": [
    {
     "name": "stdout",
     "output_type": "stream",
     "text": [
      "Num classes (k) =  18 ['cub_001_Black_footed_Albatross', 'cub_002_Laysan_Albatross', 'cub_003_Sooty_Albatross', 'cub_004_Groove_billed_Ani', 'cub_023_Brandt_Cormorant'] etc.\n",
      "Classes:  {'cub_001_Black_footed_Albatross': 0, 'cub_002_Laysan_Albatross': 1, 'cub_003_Sooty_Albatross': 2, 'cub_004_Groove_billed_Ani': 3, 'cub_023_Brandt_Cormorant': 4, 'cub_024_Red_faced_Cormorant': 5, 'cub_025_Pelagic_Cormorant': 6, 'cub_031_Black_billed_Cuckoo': 7, 'cub_032_Mangrove_Cuckoo': 8, 'cub_033_Yellow_billed_Cuckoo': 9, 'cub_045_Northern_Fulmar': 10, 'cub_050_Eared_Grebe': 11, 'cub_051_Horned_Grebe': 12, 'cub_052_Pied_billed_Grebe': 13, 'cub_053_Western_Grebe': 14, 'cub_086_Pacific_Loon': 15, 'cub_100_Brown_Pelican': 16, 'cub_101_White_Pelican': 17}\n",
      "Number of prototypes:  20\n"
     ]
    }
   ],
   "source": [
    "if torch.cuda.is_available():\n",
    "    device = torch.device('cuda')\n",
    "    device_ids = [torch.cuda.current_device()]\n",
    "else:\n",
    "    device = torch.device('cpu')\n",
    "    device_ids = []\n",
    "\n",
    "args_file = open(os.path.join(run_path, 'metadata', 'args.pickle'), 'rb')\n",
    "args = pickle.load(args_file)\n",
    "\n",
    "ckpt_path = os.path.join(run_path, 'checkpoints', 'net_trained_last')\n",
    "checkpoint = torch.load(ckpt_path, map_location=device)\n",
    "\n",
    "# Obtain the dataset and dataloaders\n",
    "trainloader, trainloader_pretraining, trainloader_normal, trainloader_normal_augment, projectloader, testloader, test_projectloader, classes = get_dataloaders(args, device)\n",
    "if len(classes)<=20:\n",
    "    if args.validation_size == 0.:\n",
    "        print(\"Classes: \", testloader.dataset.class_to_idx, flush=True)\n",
    "    else:\n",
    "        print(\"Classes: \", str(classes), flush=True)\n",
    "\n",
    "# Create a convolutional network based on arguments and add 1x1 conv layer\n",
    "feature_net, add_on_layers, pool_layer, classification_layers, num_prototypes = get_network(len(classes), args, root=root)\n",
    "   \n",
    "# Create a PIP-Net\n",
    "net = PIPNet(num_classes=len(classes),\n",
    "                    num_prototypes=num_prototypes,\n",
    "                    feature_net = feature_net,\n",
    "                    args = args,\n",
    "                    add_on_layers = add_on_layers,\n",
    "                    pool_layer = pool_layer,\n",
    "                    classification_layers = classification_layers,\n",
    "                    num_parent_nodes = len(root.nodes_with_children()),\n",
    "                    root = root\n",
    "                    )\n",
    "net = net.to(device=device)\n",
    "net = nn.DataParallel(net, device_ids = device_ids)    \n",
    "net.load_state_dict(checkpoint['model_state_dict'],strict=True)\n",
    "net.eval()\n",
    "criterion = nn.NLLLoss(reduction='mean').to(device)\n",
    "\n",
    "# Forward one batch through the backbone to get the latent output size\n",
    "# with torch.no_grad():\n",
    "#     xs1, _, _ = next(iter(trainloader))\n",
    "#     xs1 = xs1.to(device)\n",
    "#     proto_features, _, _ = net(xs1)\n",
    "#     wshape = proto_features['root'].shape[-1]\n",
    "#     args.wshape = wshape #needed for calculating image patch size\n",
    "#     print(\"Output shape: \", proto_features['root'].shape, flush=True)\n",
    "    \n",
    "args.wshape = 26"
   ]
  },
  {
   "cell_type": "code",
   "execution_count": 20,
   "metadata": {},
   "outputs": [
    {
     "name": "stderr",
     "output_type": "stream",
     "text": [
      "Collecting topk: 540it [00:14, 37.33it/s]\n"
     ]
    },
    {
     "name": "stdout",
     "output_type": "stream",
     "text": [
      "052+004\n",
      "\t 052+053\n",
      "\t\tProto:0 053+051:0.42/90 cub_052_Pied_billed_Grebe:0.0/30 \n",
      "\t\tProto:36 053+051:0.08/90 cub_052_Pied_billed_Grebe:0.29/30 \n",
      "\t\tProto:5 053+051:0.17/90 cub_052_Pied_billed_Grebe:0.16/30 \n",
      "\t\tProto:43 053+051:0.32/90 cub_052_Pied_billed_Grebe:0.37/30 \n",
      "\t\tProto:13 053+051:0.38/90 cub_052_Pied_billed_Grebe:0.49/30 \n",
      "\t\tProto:46 053+051:0.47/90 cub_052_Pied_billed_Grebe:0.01/30 \n",
      "\t\tProto:16 053+051:0.46/90 cub_052_Pied_billed_Grebe:0.0/30 \n",
      "\t\tProto:17 053+051:0.34/90 cub_052_Pied_billed_Grebe:0.03/30 \n",
      "\t\tProto:23 053+051:0.03/90 cub_052_Pied_billed_Grebe:0.46/30 \n",
      "\t\tProto:31 053+051:0.2/90 cub_052_Pied_billed_Grebe:0.06/30 \n",
      "\t 004+086\n",
      "\t\tProto:2 086+045:0.18/300 004+032:0.12/120 \n",
      "\t\tProto:3 086+045:0.19/300 004+032:0.16/120 \n",
      "\t\tProto:4 086+045:0.32/300 004+032:0.18/120 \n",
      "\t\tProto:7 086+045:0.19/300 004+032:0.35/120 \n",
      "\t\tProto:8 086+045:0.12/300 004+032:0.24/120 \n",
      "\t\tProto:10 086+045:0.0/300 004+032:0.51/120 \n",
      "\t\tProto:11 086+045:0.27/300 004+032:0.06/120 \n",
      "\t\tProto:12 086+045:0.03/300 004+032:0.35/120 \n",
      "\t\tProto:14 086+045:0.31/300 004+032:0.01/120 \n",
      "\t\tProto:15 086+045:0.07/300 004+032:0.03/120 \n",
      "\t\tProto:18 086+045:0.13/300 004+032:0.18/120 \n",
      "\t\tProto:19 086+045:0.26/300 004+032:0.03/120 \n",
      "\t\tProto:22 086+045:0.09/300 004+032:0.16/120 \n",
      "\t\tProto:24 086+045:0.11/300 004+032:0.14/120 \n",
      "\t\tProto:26 086+045:0.13/300 004+032:0.32/120 \n",
      "\t\tProto:27 086+045:0.21/300 004+032:0.38/120 \n",
      "\t\tProto:28 086+045:0.03/300 004+032:0.13/120 \n",
      "\t\tProto:30 086+045:0.12/300 004+032:0.17/120 \n",
      "\t\tProto:32 086+045:0.22/300 004+032:0.13/120 \n",
      "\t\tProto:33 086+045:0.25/300 004+032:0.04/120 \n",
      "\t\tProto:34 086+045:0.16/300 004+032:0.11/120 \n",
      "\t\tProto:35 086+045:0.11/300 004+032:0.13/120 \n",
      "\t\tProto:37 086+045:0.23/300 004+032:0.01/120 \n",
      "\t\tProto:39 086+045:0.32/300 004+032:0.01/120 \n",
      "\t\tProto:40 086+045:0.11/300 004+032:0.16/120 \n",
      "\t\tProto:41 086+045:0.11/300 004+032:0.17/120 \n",
      "\t\tProto:44 086+045:0.01/300 004+032:0.55/120 \n",
      "\t\tProto:47 086+045:0.13/300 004+032:0.09/120 \n",
      "\t\tProto:48 086+045:0.12/300 004+032:0.18/120 \n",
      "\t\tProto:49 086+045:0.06/300 004+032:0.22/120 \n"
     ]
    },
    {
     "name": "stderr",
     "output_type": "stream",
     "text": [
      "Collecting topk: 120it [00:03, 36.07it/s]  \n"
     ]
    },
    {
     "name": "stdout",
     "output_type": "stream",
     "text": [
      "052+053\n",
      "\t 053+051\n",
      "\t\tProto:2 051+050:0.49/60 cub_053_Western_Grebe:0.06/30 \n",
      "\t\tProto:4 051+050:0.26/60 cub_053_Western_Grebe:0.39/30 \n",
      "\t\tProto:5 051+050:0.11/60 cub_053_Western_Grebe:0.1/30 \n",
      "\t\tProto:6 051+050:0.38/60 cub_053_Western_Grebe:0.72/30 \n",
      "\t\tProto:7 051+050:0.17/60 cub_053_Western_Grebe:0.63/30 \n",
      "\t\tProto:9 051+050:0.42/60 cub_053_Western_Grebe:0.83/30 \n",
      "\t\tProto:10 051+050:0.14/60 cub_053_Western_Grebe:0.74/30 \n",
      "\t\tProto:11 051+050:0.69/60 cub_053_Western_Grebe:0.67/30 \n",
      "\t\tProto:15 051+050:0.4/60 cub_053_Western_Grebe:0.9/30 \n",
      "\t\tProto:16 051+050:0.52/60 cub_053_Western_Grebe:0.43/30 \n",
      "\t\tProto:17 051+050:0.74/60 cub_053_Western_Grebe:0.46/30 \n",
      "\t\tProto:18 051+050:0.47/60 cub_053_Western_Grebe:0.24/30 \n",
      "\t\tProto:20 051+050:0.18/60 cub_053_Western_Grebe:0.62/30 \n",
      "\t\tProto:21 051+050:0.19/60 cub_053_Western_Grebe:0.26/30 \n",
      "\t\tProto:22 051+050:0.35/60 cub_053_Western_Grebe:0.07/30 \n",
      "\t\tProto:23 051+050:0.31/60 cub_053_Western_Grebe:0.01/30 \n",
      "\t\tProto:24 051+050:0.41/60 cub_053_Western_Grebe:0.58/30 \n",
      "\t\tProto:26 051+050:0.32/60 cub_053_Western_Grebe:0.41/30 \n",
      "\t\tProto:27 051+050:0.37/60 cub_053_Western_Grebe:0.53/30 \n",
      "\t\tProto:34 051+050:0.46/60 cub_053_Western_Grebe:0.2/30 \n",
      "\t\tProto:36 051+050:0.47/60 cub_053_Western_Grebe:0.83/30 \n",
      "\t\tProto:38 051+050:0.12/60 cub_053_Western_Grebe:0.76/30 \n",
      "\t\tProto:39 051+050:0.56/60 cub_053_Western_Grebe:0.08/30 \n",
      "\t\tProto:43 051+050:0.44/60 cub_053_Western_Grebe:0.19/30 \n",
      "\t\tProto:45 051+050:0.68/60 cub_053_Western_Grebe:0.6/30 \n",
      "\t\tProto:46 051+050:0.67/60 cub_053_Western_Grebe:0.03/30 \n",
      "\t\tProto:48 051+050:0.28/60 cub_053_Western_Grebe:0.0/30 \n",
      "\t\tProto:49 051+050:0.34/60 cub_053_Western_Grebe:0.0/30 \n"
     ]
    },
    {
     "name": "stderr",
     "output_type": "stream",
     "text": [
      "Collecting topk: 420it [00:11, 36.52it/s]\n"
     ]
    },
    {
     "name": "stdout",
     "output_type": "stream",
     "text": [
      "004+086\n",
      "\t 086+045\n",
      "\t\tProto:1 045+100:0.18/270 cub_086_Pacific_Loon:0.48/30 \n",
      "\t\tProto:4 045+100:0.4/270 cub_086_Pacific_Loon:0.33/30 \n",
      "\t\tProto:5 045+100:0.13/270 cub_086_Pacific_Loon:0.0/30 \n",
      "\t\tProto:10 045+100:0.46/270 cub_086_Pacific_Loon:0.53/30 \n",
      "\t\tProto:11 045+100:0.31/270 cub_086_Pacific_Loon:0.01/30 \n",
      "\t\tProto:13 045+100:0.31/270 cub_086_Pacific_Loon:0.0/30 \n",
      "\t\tProto:14 045+100:0.16/270 cub_086_Pacific_Loon:0.27/30 \n",
      "\t\tProto:17 045+100:0.45/270 cub_086_Pacific_Loon:0.08/30 \n",
      "\t\tProto:19 045+100:0.24/270 cub_086_Pacific_Loon:0.0/30 \n",
      "\t\tProto:21 045+100:0.12/270 cub_086_Pacific_Loon:0.25/30 \n",
      "\t\tProto:28 045+100:0.23/270 cub_086_Pacific_Loon:0.35/30 \n",
      "\t\tProto:29 045+100:0.15/270 cub_086_Pacific_Loon:0.28/30 \n",
      "\t\tProto:32 045+100:0.32/270 cub_086_Pacific_Loon:0.6/30 \n",
      "\t\tProto:38 045+100:0.21/270 cub_086_Pacific_Loon:0.01/30 \n",
      "\t\tProto:39 045+100:0.29/270 cub_086_Pacific_Loon:0.03/30 \n",
      "\t\tProto:40 045+100:0.16/270 cub_086_Pacific_Loon:0.2/30 \n",
      "\t\tProto:41 045+100:0.15/270 cub_086_Pacific_Loon:0.28/30 \n",
      "\t\tProto:42 045+100:0.2/270 cub_086_Pacific_Loon:0.11/30 \n",
      "\t\tProto:43 045+100:0.22/270 cub_086_Pacific_Loon:0.07/30 \n",
      "\t\tProto:45 045+100:0.19/270 cub_086_Pacific_Loon:0.54/30 \n",
      "\t\tProto:46 045+100:0.16/270 cub_086_Pacific_Loon:0.01/30 \n",
      "\t\tProto:48 045+100:0.15/270 cub_086_Pacific_Loon:0.38/30 \n",
      "\t\tProto:49 045+100:0.11/270 cub_086_Pacific_Loon:0.06/30 \n",
      "\t 004+032\n",
      "\t\tProto:33 cub_004_Groove_billed_Ani:0.0/30 032+031:0.34/90 \n",
      "\t\tProto:35 cub_004_Groove_billed_Ani:0.0/30 032+031:0.41/90 \n",
      "\t\tProto:36 cub_004_Groove_billed_Ani:0.53/30 032+031:0.03/90 \n",
      "\t\tProto:6 cub_004_Groove_billed_Ani:0.25/30 032+031:0.21/90 \n",
      "\t\tProto:7 cub_004_Groove_billed_Ani:0.0/30 032+031:0.47/90 \n",
      "\t\tProto:8 cub_004_Groove_billed_Ani:0.0/30 032+031:0.72/90 \n",
      "\t\tProto:9 cub_004_Groove_billed_Ani:0.63/30 032+031:0.68/90 \n",
      "\t\tProto:12 cub_004_Groove_billed_Ani:0.0/30 032+031:0.28/90 \n",
      "\t\tProto:15 cub_004_Groove_billed_Ani:0.32/30 032+031:0.31/90 \n",
      "\t\tProto:22 cub_004_Groove_billed_Ani:0.24/30 032+031:0.37/90 \n",
      "\t\tProto:23 cub_004_Groove_billed_Ani:0.12/30 032+031:0.19/90 \n",
      "\t\tProto:24 cub_004_Groove_billed_Ani:0.2/30 032+031:0.66/90 \n",
      "\t\tProto:25 cub_004_Groove_billed_Ani:0.11/30 032+031:0.18/90 \n",
      "\t\tProto:27 cub_004_Groove_billed_Ani:0.19/30 032+031:0.39/90 \n"
     ]
    },
    {
     "name": "stderr",
     "output_type": "stream",
     "text": [
      "Collecting topk: 90it [00:02, 35.97it/s]   \n"
     ]
    },
    {
     "name": "stdout",
     "output_type": "stream",
     "text": [
      "053+051\n",
      "\t 051+050\n",
      "\t\tProto:3 cub_050_Eared_Grebe:0.21/30 cub_051_Horned_Grebe:0.4/30 \n",
      "\t\tProto:5 cub_050_Eared_Grebe:0.05/30 cub_051_Horned_Grebe:0.2/30 \n",
      "\t\tProto:8 cub_050_Eared_Grebe:0.11/30 cub_051_Horned_Grebe:0.23/30 \n",
      "\t\tProto:9 cub_050_Eared_Grebe:0.57/30 cub_051_Horned_Grebe:0.6/30 \n",
      "\t\tProto:10 cub_050_Eared_Grebe:0.46/30 cub_051_Horned_Grebe:0.62/30 \n",
      "\t\tProto:11 cub_050_Eared_Grebe:0.41/30 cub_051_Horned_Grebe:0.5/30 \n",
      "\t\tProto:12 cub_050_Eared_Grebe:0.74/30 cub_051_Horned_Grebe:0.73/30 \n",
      "\t\tProto:13 cub_050_Eared_Grebe:0.58/30 cub_051_Horned_Grebe:0.58/30 \n",
      "\t\tProto:16 cub_050_Eared_Grebe:0.55/30 cub_051_Horned_Grebe:0.39/30 \n",
      "\t\tProto:17 cub_050_Eared_Grebe:0.5/30 cub_051_Horned_Grebe:0.63/30 \n",
      "\t\tProto:18 cub_050_Eared_Grebe:0.22/30 cub_051_Horned_Grebe:0.45/30 \n",
      "\t\tProto:20 cub_050_Eared_Grebe:0.16/30 cub_051_Horned_Grebe:0.3/30 \n",
      "\t\tProto:25 cub_050_Eared_Grebe:0.27/30 cub_051_Horned_Grebe:0.47/30 \n",
      "\t\tProto:32 cub_050_Eared_Grebe:0.33/30 cub_051_Horned_Grebe:0.34/30 \n",
      "\t\tProto:36 cub_050_Eared_Grebe:0.44/30 cub_051_Horned_Grebe:0.5/30 \n",
      "\t\tProto:38 cub_050_Eared_Grebe:0.31/30 cub_051_Horned_Grebe:0.51/30 \n",
      "\t\tProto:42 cub_050_Eared_Grebe:0.41/30 cub_051_Horned_Grebe:0.38/30 \n",
      "\t\tProto:43 cub_050_Eared_Grebe:0.35/30 cub_051_Horned_Grebe:0.37/30 \n",
      "\t\tProto:45 cub_050_Eared_Grebe:0.22/30 cub_051_Horned_Grebe:0.48/30 \n",
      "\t\tProto:47 cub_050_Eared_Grebe:0.53/30 cub_051_Horned_Grebe:0.57/30 \n",
      "\t\tProto:48 cub_050_Eared_Grebe:0.25/30 cub_051_Horned_Grebe:0.33/30 \n",
      "\t\tProto:49 cub_050_Eared_Grebe:0.54/30 cub_051_Horned_Grebe:0.61/30 \n"
     ]
    },
    {
     "name": "stderr",
     "output_type": "stream",
     "text": [
      "Collecting topk: 120it [00:03, 38.02it/s]  \n"
     ]
    },
    {
     "name": "stdout",
     "output_type": "stream",
     "text": [
      "004+032\n",
      "\t 032+031\n",
      "\t\tProto:0 031+033:0.2/60 cub_032_Mangrove_Cuckoo:0.69/30 \n",
      "\t\tProto:1 031+033:0.62/60 cub_032_Mangrove_Cuckoo:0.51/30 \n",
      "\t\tProto:4 031+033:0.5/60 cub_032_Mangrove_Cuckoo:0.13/30 \n",
      "\t\tProto:5 031+033:0.56/60 cub_032_Mangrove_Cuckoo:0.57/30 \n",
      "\t\tProto:6 031+033:0.52/60 cub_032_Mangrove_Cuckoo:0.39/30 \n",
      "\t\tProto:7 031+033:0.31/60 cub_032_Mangrove_Cuckoo:0.35/30 \n",
      "\t\tProto:9 031+033:0.6/60 cub_032_Mangrove_Cuckoo:0.4/30 \n",
      "\t\tProto:12 031+033:0.64/60 cub_032_Mangrove_Cuckoo:0.61/30 \n",
      "\t\tProto:16 031+033:0.35/60 cub_032_Mangrove_Cuckoo:0.72/30 \n",
      "\t\tProto:17 031+033:0.32/60 cub_032_Mangrove_Cuckoo:0.23/30 \n",
      "\t\tProto:18 031+033:0.58/60 cub_032_Mangrove_Cuckoo:0.14/30 \n",
      "\t\tProto:19 031+033:0.36/60 cub_032_Mangrove_Cuckoo:0.41/30 \n",
      "\t\tProto:20 031+033:0.48/60 cub_032_Mangrove_Cuckoo:0.37/30 \n",
      "\t\tProto:22 031+033:0.54/60 cub_032_Mangrove_Cuckoo:0.22/30 \n",
      "\t\tProto:27 031+033:0.42/60 cub_032_Mangrove_Cuckoo:0.44/30 \n",
      "\t\tProto:30 031+033:0.07/60 cub_032_Mangrove_Cuckoo:0.14/30 \n",
      "\t\tProto:31 031+033:0.31/60 cub_032_Mangrove_Cuckoo:0.37/30 \n",
      "\t\tProto:32 031+033:0.68/60 cub_032_Mangrove_Cuckoo:0.39/30 \n",
      "\t\tProto:36 031+033:0.37/60 cub_032_Mangrove_Cuckoo:0.07/30 \n",
      "\t\tProto:37 031+033:0.38/60 cub_032_Mangrove_Cuckoo:0.25/30 \n",
      "\t\tProto:38 031+033:0.46/60 cub_032_Mangrove_Cuckoo:0.47/30 \n",
      "\t\tProto:40 031+033:0.47/60 cub_032_Mangrove_Cuckoo:0.47/30 \n",
      "\t\tProto:45 031+033:0.32/60 cub_032_Mangrove_Cuckoo:0.45/30 \n",
      "\t\tProto:49 031+033:0.38/60 cub_032_Mangrove_Cuckoo:0.36/30 \n"
     ]
    },
    {
     "name": "stderr",
     "output_type": "stream",
     "text": [
      "Collecting topk: 300it [00:08, 37.36it/s]  \n"
     ]
    },
    {
     "name": "stdout",
     "output_type": "stream",
     "text": [
      "086+045\n",
      "\t 045+100\n",
      "\t\tProto:2 045+003:0.02/120 100+023:0.37/150 \n",
      "\t\tProto:3 045+003:0.07/120 100+023:0.27/150 \n",
      "\t\tProto:5 045+003:0.24/120 100+023:0.12/150 \n",
      "\t\tProto:6 045+003:0.14/120 100+023:0.25/150 \n",
      "\t\tProto:7 045+003:0.05/120 100+023:0.16/150 \n",
      "\t\tProto:9 045+003:0.15/120 100+023:0.14/150 \n",
      "\t\tProto:10 045+003:0.14/120 100+023:0.18/150 \n",
      "\t\tProto:11 045+003:0.22/120 100+023:0.13/150 \n",
      "\t\tProto:12 045+003:0.1/120 100+023:0.24/150 \n",
      "\t\tProto:14 045+003:0.22/120 100+023:0.1/150 \n",
      "\t\tProto:17 045+003:0.15/120 100+023:0.09/150 \n",
      "\t\tProto:18 045+003:0.22/120 100+023:0.17/150 \n",
      "\t\tProto:19 045+003:0.19/120 100+023:0.22/150 \n",
      "\t\tProto:20 045+003:0.47/120 100+023:0.01/150 \n",
      "\t\tProto:21 045+003:0.47/120 100+023:0.02/150 \n",
      "\t\tProto:23 045+003:0.05/120 100+023:0.14/150 \n",
      "\t\tProto:24 045+003:0.23/120 100+023:0.15/150 \n",
      "\t\tProto:25 045+003:0.1/120 100+023:0.16/150 \n",
      "\t\tProto:26 045+003:0.05/120 100+023:0.26/150 \n",
      "\t\tProto:27 045+003:0.16/120 100+023:0.14/150 \n",
      "\t\tProto:29 045+003:0.14/120 100+023:0.34/150 \n",
      "\t\tProto:30 045+003:0.07/120 100+023:0.34/150 \n",
      "\t\tProto:31 045+003:0.37/120 100+023:0.02/150 \n",
      "\t\tProto:32 045+003:0.22/120 100+023:0.05/150 \n",
      "\t\tProto:33 045+003:0.01/120 100+023:0.28/150 \n",
      "\t\tProto:34 045+003:0.03/120 100+023:0.35/150 \n",
      "\t\tProto:35 045+003:0.17/120 100+023:0.29/150 \n",
      "\t\tProto:36 045+003:0.31/120 100+023:0.12/150 \n",
      "\t\tProto:41 045+003:0.1/120 100+023:0.19/150 \n",
      "\t\tProto:42 045+003:0.18/120 100+023:0.15/150 \n",
      "\t\tProto:43 045+003:0.12/120 100+023:0.19/150 \n",
      "\t\tProto:44 045+003:0.17/120 100+023:0.3/150 \n",
      "\t\tProto:45 045+003:0.24/120 100+023:0.12/150 \n",
      "\t\tProto:46 045+003:0.27/120 100+023:0.11/150 \n",
      "\t\tProto:47 045+003:0.2/120 100+023:0.06/150 \n",
      "\t\tProto:48 045+003:0.26/120 100+023:0.24/150 \n",
      "\t\tProto:49 045+003:0.11/120 100+023:0.27/150 \n"
     ]
    },
    {
     "name": "stderr",
     "output_type": "stream",
     "text": [
      "Collecting topk: 90it [00:02, 36.15it/s]   \n"
     ]
    },
    {
     "name": "stdout",
     "output_type": "stream",
     "text": [
      "032+031\n",
      "\t 031+033\n",
      "\t\tProto:1 cub_031_Black_billed_Cuckoo:0.28/30 cub_033_Yellow_billed_Cuckoo:0.44/30 \n",
      "\t\tProto:33 cub_031_Black_billed_Cuckoo:0.39/30 cub_033_Yellow_billed_Cuckoo:0.7/30 \n",
      "\t\tProto:35 cub_031_Black_billed_Cuckoo:0.67/30 cub_033_Yellow_billed_Cuckoo:0.51/30 \n",
      "\t\tProto:4 cub_031_Black_billed_Cuckoo:0.85/30 cub_033_Yellow_billed_Cuckoo:0.3/30 \n",
      "\t\tProto:36 cub_031_Black_billed_Cuckoo:0.67/30 cub_033_Yellow_billed_Cuckoo:0.48/30 \n",
      "\t\tProto:37 cub_031_Black_billed_Cuckoo:0.39/30 cub_033_Yellow_billed_Cuckoo:0.35/30 \n",
      "\t\tProto:43 cub_031_Black_billed_Cuckoo:0.64/30 cub_033_Yellow_billed_Cuckoo:0.39/30 \n",
      "\t\tProto:13 cub_031_Black_billed_Cuckoo:0.55/30 cub_033_Yellow_billed_Cuckoo:0.44/30 \n",
      "\t\tProto:14 cub_031_Black_billed_Cuckoo:0.8/30 cub_033_Yellow_billed_Cuckoo:0.54/30 \n",
      "\t\tProto:15 cub_031_Black_billed_Cuckoo:0.59/30 cub_033_Yellow_billed_Cuckoo:0.46/30 \n",
      "\t\tProto:46 cub_031_Black_billed_Cuckoo:0.61/30 cub_033_Yellow_billed_Cuckoo:0.43/30 \n",
      "\t\tProto:47 cub_031_Black_billed_Cuckoo:0.36/30 cub_033_Yellow_billed_Cuckoo:0.24/30 \n",
      "\t\tProto:24 cub_031_Black_billed_Cuckoo:0.73/30 cub_033_Yellow_billed_Cuckoo:0.33/30 \n",
      "\t\tProto:28 cub_031_Black_billed_Cuckoo:0.68/30 cub_033_Yellow_billed_Cuckoo:0.63/30 \n"
     ]
    },
    {
     "name": "stderr",
     "output_type": "stream",
     "text": [
      "Collecting topk: 270it [00:07, 35.65it/s]\n"
     ]
    },
    {
     "name": "stdout",
     "output_type": "stream",
     "text": [
      "045+100\n",
      "\t 100+023\n",
      "\t\tProto:32 023+024:0.1/90 100+101:0.6/60 \n",
      "\t\tProto:2 023+024:0.56/90 100+101:0.03/60 \n",
      "\t\tProto:35 023+024:0.03/90 100+101:0.81/60 \n",
      "\t\tProto:6 023+024:0.22/90 100+101:0.4/60 \n",
      "\t\tProto:7 023+024:0.68/90 100+101:0.01/60 \n",
      "\t\tProto:8 023+024:0.36/90 100+101:0.01/60 \n",
      "\t\tProto:40 023+024:0.49/90 100+101:0.21/60 \n",
      "\t\tProto:41 023+024:0.21/90 100+101:0.3/60 \n",
      "\t\tProto:11 023+024:0.29/90 100+101:0.14/60 \n",
      "\t\tProto:44 023+024:0.49/90 100+101:0.0/60 \n",
      "\t\tProto:14 023+024:0.25/90 100+101:0.05/60 \n",
      "\t\tProto:46 023+024:0.3/90 100+101:0.18/60 \n",
      "\t\tProto:19 023+024:0.26/90 100+101:0.19/60 \n",
      "\t\tProto:22 023+024:0.4/90 100+101:0.57/60 \n",
      "\t\tProto:25 023+024:0.42/90 100+101:0.03/60 \n",
      "\t\tProto:27 023+024:0.38/90 100+101:0.68/60 \n",
      "\t 045+003\n",
      "\t\tProto:33 003+001:0.25/90 cub_045_Northern_Fulmar:0.46/30 \n",
      "\t\tProto:34 003+001:0.13/90 cub_045_Northern_Fulmar:0.27/30 \n",
      "\t\tProto:3 003+001:0.23/90 cub_045_Northern_Fulmar:0.47/30 \n",
      "\t\tProto:36 003+001:0.5/90 cub_045_Northern_Fulmar:0.53/30 \n",
      "\t\tProto:5 003+001:0.39/90 cub_045_Northern_Fulmar:0.51/30 \n",
      "\t\tProto:37 003+001:0.2/90 cub_045_Northern_Fulmar:0.15/30 \n",
      "\t\tProto:39 003+001:0.42/90 cub_045_Northern_Fulmar:0.57/30 \n",
      "\t\tProto:9 003+001:0.69/90 cub_045_Northern_Fulmar:0.47/30 \n",
      "\t\tProto:10 003+001:0.43/90 cub_045_Northern_Fulmar:0.34/30 \n",
      "\t\tProto:13 003+001:0.42/90 cub_045_Northern_Fulmar:0.28/30 \n",
      "\t\tProto:16 003+001:0.6/90 cub_045_Northern_Fulmar:0.49/30 \n",
      "\t\tProto:49 003+001:0.45/90 cub_045_Northern_Fulmar:0.05/30 \n",
      "\t\tProto:18 003+001:0.17/90 cub_045_Northern_Fulmar:0.22/30 \n",
      "\t\tProto:24 003+001:0.41/90 cub_045_Northern_Fulmar:0.37/30 \n",
      "\t\tProto:28 003+001:0.52/90 cub_045_Northern_Fulmar:0.1/30 \n"
     ]
    },
    {
     "name": "stderr",
     "output_type": "stream",
     "text": [
      "Collecting topk: 120it [00:03, 36.57it/s]  \n"
     ]
    },
    {
     "name": "stdout",
     "output_type": "stream",
     "text": [
      "045+003\n",
      "\t 003+001\n",
      "\t\tProto:0 001+002:0.57/60 cub_003_Sooty_Albatross:0.4/30 \n",
      "\t\tProto:1 001+002:0.7/60 cub_003_Sooty_Albatross:0.24/30 \n",
      "\t\tProto:6 001+002:0.25/60 cub_003_Sooty_Albatross:0.73/30 \n",
      "\t\tProto:8 001+002:0.31/60 cub_003_Sooty_Albatross:0.46/30 \n",
      "\t\tProto:10 001+002:0.62/60 cub_003_Sooty_Albatross:0.38/30 \n",
      "\t\tProto:13 001+002:0.37/60 cub_003_Sooty_Albatross:0.51/30 \n",
      "\t\tProto:14 001+002:0.34/60 cub_003_Sooty_Albatross:0.49/30 \n",
      "\t\tProto:17 001+002:0.58/60 cub_003_Sooty_Albatross:0.35/30 \n",
      "\t\tProto:21 001+002:0.32/60 cub_003_Sooty_Albatross:0.67/30 \n",
      "\t\tProto:24 001+002:0.31/60 cub_003_Sooty_Albatross:0.51/30 \n",
      "\t\tProto:27 001+002:0.52/60 cub_003_Sooty_Albatross:0.34/30 \n",
      "\t\tProto:28 001+002:0.65/60 cub_003_Sooty_Albatross:0.3/30 \n",
      "\t\tProto:29 001+002:0.4/60 cub_003_Sooty_Albatross:0.17/30 \n",
      "\t\tProto:30 001+002:0.71/60 cub_003_Sooty_Albatross:0.41/30 \n",
      "\t\tProto:31 001+002:0.49/60 cub_003_Sooty_Albatross:0.28/30 \n",
      "\t\tProto:37 001+002:0.43/60 cub_003_Sooty_Albatross:0.32/30 \n",
      "\t\tProto:40 001+002:0.48/60 cub_003_Sooty_Albatross:0.34/30 \n",
      "\t\tProto:41 001+002:0.61/60 cub_003_Sooty_Albatross:0.2/30 \n",
      "\t\tProto:46 001+002:0.48/60 cub_003_Sooty_Albatross:0.15/30 \n",
      "\t\tProto:47 001+002:0.44/60 cub_003_Sooty_Albatross:0.14/30 \n"
     ]
    },
    {
     "name": "stderr",
     "output_type": "stream",
     "text": [
      "Collecting topk: 150it [00:04, 32.36it/s]\n"
     ]
    },
    {
     "name": "stdout",
     "output_type": "stream",
     "text": [
      "100+023\n",
      "\t 023+024\n",
      "\t\tProto:0 cub_023_Brandt_Cormorant:0.11/30 024+025:0.62/60 \n",
      "\t\tProto:2 cub_023_Brandt_Cormorant:0.56/30 024+025:0.55/60 \n",
      "\t\tProto:3 cub_023_Brandt_Cormorant:0.51/30 024+025:0.62/60 \n",
      "\t\tProto:4 cub_023_Brandt_Cormorant:0.5/30 024+025:0.58/60 \n",
      "\t\tProto:35 cub_023_Brandt_Cormorant:0.27/30 024+025:0.66/60 \n",
      "\t\tProto:7 cub_023_Brandt_Cormorant:0.56/30 024+025:0.71/60 \n",
      "\t\tProto:41 cub_023_Brandt_Cormorant:0.47/30 024+025:0.57/60 \n",
      "\t\tProto:42 cub_023_Brandt_Cormorant:0.13/30 024+025:0.54/60 \n",
      "\t\tProto:43 cub_023_Brandt_Cormorant:0.47/30 024+025:0.52/60 \n",
      "\t\tProto:12 cub_023_Brandt_Cormorant:0.32/30 024+025:0.32/60 \n",
      "\t\tProto:46 cub_023_Brandt_Cormorant:0.39/30 024+025:0.54/60 \n",
      "\t\tProto:16 cub_023_Brandt_Cormorant:0.51/30 024+025:0.53/60 \n",
      "\t\tProto:48 cub_023_Brandt_Cormorant:0.4/30 024+025:0.46/60 \n",
      "\t\tProto:18 cub_023_Brandt_Cormorant:0.27/30 024+025:0.31/60 \n",
      "\t\tProto:20 cub_023_Brandt_Cormorant:0.56/30 024+025:0.49/60 \n",
      "\t\tProto:24 cub_023_Brandt_Cormorant:0.67/30 024+025:0.4/60 \n",
      "\t\tProto:28 cub_023_Brandt_Cormorant:0.3/30 024+025:0.48/60 \n",
      "\t\tProto:31 cub_023_Brandt_Cormorant:0.7/30 024+025:0.5/60 \n",
      "\t 100+101\n",
      "\t\tProto:1 cub_100_Brown_Pelican:0.6/30 cub_101_White_Pelican:0.5/30 \n",
      "\t\tProto:33 cub_100_Brown_Pelican:0.49/30 cub_101_White_Pelican:0.43/30 \n",
      "\t\tProto:36 cub_100_Brown_Pelican:0.78/30 cub_101_White_Pelican:0.53/30 \n",
      "\t\tProto:6 cub_100_Brown_Pelican:0.53/30 cub_101_White_Pelican:0.51/30 \n",
      "\t\tProto:8 cub_100_Brown_Pelican:0.82/30 cub_101_White_Pelican:0.75/30 \n",
      "\t\tProto:40 cub_100_Brown_Pelican:0.53/30 cub_101_White_Pelican:0.71/30 \n",
      "\t\tProto:10 cub_100_Brown_Pelican:0.63/30 cub_101_White_Pelican:0.59/30 \n",
      "\t\tProto:13 cub_100_Brown_Pelican:0.9/30 cub_101_White_Pelican:0.77/30 \n",
      "\t\tProto:45 cub_100_Brown_Pelican:0.54/30 cub_101_White_Pelican:0.68/30 \n",
      "\t\tProto:15 cub_100_Brown_Pelican:0.43/30 cub_101_White_Pelican:0.56/30 \n",
      "\t\tProto:26 cub_100_Brown_Pelican:0.53/30 cub_101_White_Pelican:0.72/30 \n"
     ]
    },
    {
     "name": "stderr",
     "output_type": "stream",
     "text": [
      "Collecting topk: 90it [00:02, 37.36it/s]   \n"
     ]
    },
    {
     "name": "stdout",
     "output_type": "stream",
     "text": [
      "003+001\n",
      "\t 001+002\n",
      "\t\tProto:0 cub_001_Black_footed_Albatross:0.71/30 cub_002_Laysan_Albatross:0.68/30 \n",
      "\t\tProto:33 cub_001_Black_footed_Albatross:0.55/30 cub_002_Laysan_Albatross:0.42/30 \n",
      "\t\tProto:3 cub_001_Black_footed_Albatross:0.46/30 cub_002_Laysan_Albatross:0.54/30 \n",
      "\t\tProto:36 cub_001_Black_footed_Albatross:0.66/30 cub_002_Laysan_Albatross:0.43/30 \n",
      "\t\tProto:6 cub_001_Black_footed_Albatross:0.47/30 cub_002_Laysan_Albatross:0.52/30 \n",
      "\t\tProto:7 cub_001_Black_footed_Albatross:0.46/30 cub_002_Laysan_Albatross:0.63/30 \n",
      "\t\tProto:40 cub_001_Black_footed_Albatross:0.37/30 cub_002_Laysan_Albatross:0.63/30 \n",
      "\t\tProto:9 cub_001_Black_footed_Albatross:0.57/30 cub_002_Laysan_Albatross:0.65/30 \n",
      "\t\tProto:42 cub_001_Black_footed_Albatross:0.68/30 cub_002_Laysan_Albatross:0.46/30 \n",
      "\t\tProto:12 cub_001_Black_footed_Albatross:0.76/30 cub_002_Laysan_Albatross:0.78/30 \n",
      "\t\tProto:17 cub_001_Black_footed_Albatross:0.8/30 cub_002_Laysan_Albatross:0.57/30 \n",
      "\t\tProto:24 cub_001_Black_footed_Albatross:0.64/30 cub_002_Laysan_Albatross:0.56/30 \n",
      "\t\tProto:25 cub_001_Black_footed_Albatross:0.47/30 cub_002_Laysan_Albatross:0.4/30 \n",
      "\t\tProto:30 cub_001_Black_footed_Albatross:0.54/30 cub_002_Laysan_Albatross:0.58/30 \n",
      "\t\tProto:31 cub_001_Black_footed_Albatross:0.65/30 cub_002_Laysan_Albatross:0.72/30 \n"
     ]
    },
    {
     "name": "stderr",
     "output_type": "stream",
     "text": [
      "Collecting topk: 90it [00:02, 36.45it/s]   "
     ]
    },
    {
     "name": "stdout",
     "output_type": "stream",
     "text": [
      "023+024\n",
      "\t 024+025\n",
      "\t\tProto:33 cub_024_Red_faced_Cormorant:0.64/30 cub_025_Pelagic_Cormorant:0.31/30 \n",
      "\t\tProto:35 cub_024_Red_faced_Cormorant:0.32/30 cub_025_Pelagic_Cormorant:0.48/30 \n",
      "\t\tProto:37 cub_024_Red_faced_Cormorant:0.67/30 cub_025_Pelagic_Cormorant:0.52/30 \n",
      "\t\tProto:38 cub_024_Red_faced_Cormorant:0.69/30 cub_025_Pelagic_Cormorant:0.41/30 \n",
      "\t\tProto:7 cub_024_Red_faced_Cormorant:0.84/30 cub_025_Pelagic_Cormorant:0.32/30 \n",
      "\t\tProto:9 cub_024_Red_faced_Cormorant:0.85/30 cub_025_Pelagic_Cormorant:0.15/30 \n",
      "\t\tProto:10 cub_024_Red_faced_Cormorant:0.48/30 cub_025_Pelagic_Cormorant:0.44/30 \n",
      "\t\tProto:12 cub_024_Red_faced_Cormorant:0.84/30 cub_025_Pelagic_Cormorant:0.5/30 \n",
      "\t\tProto:13 cub_024_Red_faced_Cormorant:0.48/30 cub_025_Pelagic_Cormorant:0.26/30 \n",
      "\t\tProto:14 cub_024_Red_faced_Cormorant:0.45/30 cub_025_Pelagic_Cormorant:0.55/30 \n",
      "\t\tProto:47 cub_024_Red_faced_Cormorant:0.5/30 cub_025_Pelagic_Cormorant:0.32/30 \n",
      "\t\tProto:18 cub_024_Red_faced_Cormorant:0.76/30 cub_025_Pelagic_Cormorant:0.26/30 \n",
      "\t\tProto:26 cub_024_Red_faced_Cormorant:0.44/30 cub_025_Pelagic_Cormorant:0.54/30 \n",
      "\t\tProto:27 cub_024_Red_faced_Cormorant:0.36/30 cub_025_Pelagic_Cormorant:0.28/30 \n",
      "\t\tProto:31 cub_024_Red_faced_Cormorant:0.55/30 cub_025_Pelagic_Cormorant:0.18/30 \n"
     ]
    },
    {
     "name": "stderr",
     "output_type": "stream",
     "text": [
      "\n"
     ]
    }
   ],
   "source": [
    "# Proto activations on Grand children\n",
    "\n",
    "from util.data import ModifiedLabelLoader\n",
    "from collections import defaultdict\n",
    "import pdb\n",
    "\n",
    "for node in root.nodes_with_children():\n",
    "    if node.name == 'root':\n",
    "        continue\n",
    "    non_leaf_children_names = [child.name for child in node.children if not child.is_leaf()]\n",
    "    if len(non_leaf_children_names) == 0: # if all the children are leaf nodes then skip this node\n",
    "        continue\n",
    "\n",
    "    name2label = projectloader.dataset.class_to_idx\n",
    "    label2name = {label:name for name, label in name2label.items()}\n",
    "    modifiedLabelLoader = ModifiedLabelLoader(projectloader, node)\n",
    "    coarse_label2name = modifiedLabelLoader.modifiedlabel2name\n",
    "    node_label_to_children = {label: name for name, label in node.children_to_labels.items()}\n",
    "\n",
    "    img_iter = tqdm(enumerate(modifiedLabelLoader),\n",
    "                    total=len(modifiedLabelLoader),\n",
    "                    mininterval=50.,\n",
    "                    desc='Collecting topk',\n",
    "                    ncols=0)\n",
    "\n",
    "    \n",
    "\n",
    "    classification_weights = getattr(net.module, '_'+node.name+'_classification').weight\n",
    "    \n",
    "    # maps proto_number -> grand_child_name (or descendant leaf name) -> (mean_activation, num_images)\n",
    "    proto_mean_activations = defaultdict(lambda: defaultdict(lambda: [0, 0]))\n",
    "\n",
    "    # maps class names to the prototypes that belong to that\n",
    "    class_and_prototypes = defaultdict(set)\n",
    "\n",
    "    for i, (xs, orig_y, ys) in img_iter:\n",
    "        if coarse_label2name[ys.item()] not in non_leaf_children_names:\n",
    "            continue\n",
    "\n",
    "        xs, ys = xs.to(device), ys.to(device)\n",
    "\n",
    "        with torch.no_grad():\n",
    "            pfs, pooled, _ = net(xs, inference=True)\n",
    "            pooled = pooled[node.name].squeeze(0) \n",
    "            pfs = pfs[node.name].squeeze(0)\n",
    "\n",
    "            \n",
    "\n",
    "            for p in range(pooled.shape[0]): # pooled.shape -> [768] (== num of prototypes)\n",
    "                c_weight = torch.max(classification_weights[:,p]) # classification_weights[:,p].shape -> [200] (== num of classes)\n",
    "                relevant_proto_classes = torch.nonzero(classification_weights[:, p] > 1e-3)\n",
    "                relevant_proto_class_names = [node_label_to_children[class_idx.item()] for class_idx in relevant_proto_classes]\n",
    "\n",
    "                if len(relevant_proto_class_names) == 0:\n",
    "                    continue\n",
    "                \n",
    "                if (len(relevant_proto_class_names) == 1) and (relevant_proto_class_names[0] not in non_leaf_children_names):\n",
    "                    continue\n",
    "                \n",
    "                if (len(relevant_proto_class_names) == 1) and (coarse_label2name[ys.item()] in relevant_proto_class_names):\n",
    "                    child_node = root.get_node(coarse_label2name[ys.item()])\n",
    "                    grand_child = child_node.closest_descendent_for(label2name[orig_y.item()])\n",
    "                    proto_mean_activations[p][grand_child.name][0] = ((proto_mean_activations[p][grand_child.name][0] * \\\n",
    "                                                                      proto_mean_activations[p][grand_child.name][1]) + pooled[p]) / (proto_mean_activations[p][grand_child.name][1] + 1)\n",
    "                    proto_mean_activations[p][grand_child.name][1] += 1\n",
    "\n",
    "                if (len(relevant_proto_class_names) > 1) and (coarse_label2name[ys.item()] in relevant_proto_class_names):\n",
    "                    child_node = root.get_node(coarse_label2name[ys.item()])\n",
    "                    if child_node.is_leaf():\n",
    "                        proto_mean_activations[p][child_node.name][0] = ((proto_mean_activations[p][child_node.name][0] * \\\n",
    "                                                                            proto_mean_activations[p][child_node.name][1]) + pooled[p]) / (proto_mean_activations[p][child_node.name][1] + 1)\n",
    "                        proto_mean_activations[p][child_node.name][1] += 1\n",
    "                    else:\n",
    "                        grand_child = child_node.closest_descendent_for(label2name[orig_y.item()])\n",
    "                        proto_mean_activations[p][grand_child.name][0] = ((proto_mean_activations[p][grand_child.name][0] * \\\n",
    "                                                                            proto_mean_activations[p][grand_child.name][1]) + pooled[p]) / (proto_mean_activations[p][grand_child.name][1] + 1)\n",
    "                        proto_mean_activations[p][grand_child.name][1] += 1\n",
    "                \n",
    "\n",
    "                class_and_prototypes[', '.join(relevant_proto_class_names)].add(p)\n",
    "\n",
    "            # class_and_prototypes = defaultdict(list)\n",
    "            # for p in range(pooled.shape[0]):\n",
    "            #     class_and_prototypes[', '.join(list(proto_mean_activations[p].keys()))].append(p)\n",
    "    \n",
    "    print('Node', node.name)\n",
    "    for child_classname in class_and_prototypes:\n",
    "        print('\\t'*1, 'Child:', child_classname)\n",
    "        for p in class_and_prototypes[child_classname]:\n",
    "            logstr = '\\t'*2 + f'Proto:{p} '\n",
    "            for grand_child_name in proto_mean_activations[p]:\n",
    "                mean_activation = round(proto_mean_activations[p][grand_child_name][0].item(), 2)\n",
    "                num_images = proto_mean_activations[p][grand_child_name][1]\n",
    "                logstr += f'{grand_child_name}:{mean_activation}/{num_images} '\n",
    "            print(logstr)\n"
   ]
  },
  {
   "cell_type": "code",
   "execution_count": 24,
   "metadata": {},
   "outputs": [
    {
     "name": "stderr",
     "output_type": "stream",
     "text": [
      "Collecting topk: 540it [00:14, 37.54it/s]\n"
     ]
    },
    {
     "name": "stdout",
     "output_type": "stream",
     "text": [
      "Node 052+004\n",
      "\t Child: 052+053\n",
      "\t\tProto:0 050:(0.23) 051:(0.57) 052:(0.0) 053:(0.45) \n",
      "\t\tProto:36 050:(0.16) 051:(0.15) 052:(0.31) 053:(0.0) \n",
      "\t\tProto:5 050:(0.12) 051:(0.4) 052:(0.14) 053:(0.0) \n",
      "\t\tProto:43 050:(0.2) 051:(0.52) 052:(0.35) 053:(0.18) \n",
      "\t\tProto:13 050:(0.36) 051:(0.46) 052:(0.54) 053:(0.3) \n",
      "\t\tProto:46 050:(0.43) 051:(0.46) 052:(0.02) 053:(0.49) \n",
      "\t\tProto:16 050:(0.17) 051:(0.52) 052:(0.0) 053:(0.64) \n",
      "\t\tProto:17 050:(0.12) 051:(0.44) 052:(0.03) 053:(0.48) \n",
      "\t\tProto:23 050:(0.01) 051:(0.04) 052:(0.42) 053:(0.06) \n",
      "\t\tProto:31 050:(0.16) 051:(0.38) 052:(0.06) 053:(0.0) \n",
      "\t Child: 004+086\n",
      "\t\tProto:2 001:(0.15) 002:(0.27) 003:(0.23) 004:(0.23) 023:(0.16) 024:(0.18) 025:(0.34) 031:(0.13) 032:(0.07) 033:(0.06) 045:(0.11) 086:(0.12) 100:(0.11) 101:(0.11) \n",
      "\t\tProto:3 001:(0.2) 002:(0.47) 003:(0.64) 004:(0.03) 023:(0.0) 024:(0.01) 025:(0.03) 031:(0.34) 032:(0.07) 033:(0.28) 045:(0.43) 086:(0.01) 100:(0.03) 101:(0.09) \n",
      "\t\tProto:4 001:(0.66) 002:(0.03) 003:(0.31) 004:(0.03) 023:(0.56) 024:(0.13) 025:(0.48) 031:(0.54) 032:(0.0) 033:(0.12) 045:(0.08) 086:(0.69) 100:(0.19) 101:(0.02) \n",
      "\t\tProto:7 001:(0.36) 002:(0.18) 003:(0.3) 004:(0.34) 023:(0.24) 024:(0.04) 025:(0.28) 031:(0.23) 032:(0.49) 033:(0.36) 045:(0.25) 086:(0.15) 100:(0.0) 101:(0.02) \n",
      "\t\tProto:8 001:(0.01) 002:(0.0) 003:(0.01) 004:(0.0) 023:(0.57) 024:(0.0) 025:(0.11) 031:(0.06) 032:(0.66) 033:(0.29) 045:(0.01) 086:(0.41) 100:(0.0) 101:(0.0) \n",
      "\t\tProto:10 001:(0.0) 002:(0.0) 003:(0.0) 004:(0.0) 023:(0.01) 024:(0.0) 025:(0.0) 031:(0.68) 032:(0.76) 033:(0.61) 045:(0.0) 086:(0.04) 100:(0.0) 101:(0.0) \n",
      "\t\tProto:11 001:(0.88) 002:(0.58) 003:(0.25) 004:(0.0) 023:(0.05) 024:(0.15) 025:(0.14) 031:(0.19) 032:(0.0) 033:(0.07) 045:(0.22) 086:(0.15) 100:(0.15) 101:(0.05) \n",
      "\t\tProto:12 001:(0.12) 002:(0.05) 003:(0.0) 004:(0.0) 023:(0.0) 024:(0.0) 025:(0.02) 031:(0.63) 032:(0.3) 033:(0.41) 045:(0.0) 086:(0.06) 100:(0.0) 101:(0.0) \n",
      "\t\tProto:14 001:(0.41) 002:(0.6) 003:(0.44) 004:(0.01) 023:(0.02) 024:(0.0) 025:(0.05) 031:(0.01) 032:(0.0) 033:(0.03) 045:(0.08) 086:(0.07) 100:(0.76) 101:(0.65) \n",
      "\t\tProto:15 001:(0.15) 002:(0.17) 003:(0.15) 004:(0.03) 023:(0.06) 024:(0.0) 025:(0.01) 031:(0.0) 032:(0.06) 033:(0.01) 045:(0.03) 086:(0.02) 100:(0.02) 101:(0.03) \n",
      "\t\tProto:18 001:(0.54) 002:(0.03) 003:(0.1) 004:(0.0) 023:(0.04) 024:(0.0) 025:(0.01) 031:(0.5) 032:(0.0) 033:(0.22) 045:(0.05) 086:(0.41) 100:(0.0) 101:(0.0) \n",
      "\t\tProto:19 001:(0.0) 002:(0.33) 003:(0.0) 004:(0.04) 023:(0.04) 024:(0.92) 025:(0.04) 031:(0.0) 032:(0.03) 033:(0.02) 045:(0.4) 086:(0.0) 100:(0.17) 101:(0.67) \n",
      "\t\tProto:22 001:(0.03) 002:(0.01) 003:(0.03) 004:(0.32) 023:(0.02) 024:(0.3) 025:(0.39) 031:(0.23) 032:(0.07) 033:(0.08) 045:(0.02) 086:(0.0) 100:(0.03) 101:(0.01) \n",
      "\t\tProto:24 001:(0.11) 002:(0.08) 003:(0.09) 004:(0.07) 023:(0.01) 024:(0.02) 025:(0.04) 031:(0.25) 032:(0.13) 033:(0.15) 045:(0.53) 086:(0.01) 100:(0.02) 101:(0.08) \n",
      "\t\tProto:26 001:(0.15) 002:(0.11) 003:(0.12) 004:(0.22) 023:(0.29) 024:(0.2) 025:(0.09) 031:(0.51) 032:(0.21) 033:(0.33) 045:(0.04) 086:(0.01) 100:(0.1) 101:(0.08) \n",
      "\t\tProto:27 001:(0.07) 002:(0.15) 003:(0.03) 004:(0.0) 023:(0.45) 024:(0.44) 025:(0.41) 031:(0.22) 032:(0.52) 033:(0.84) 045:(0.04) 086:(0.35) 100:(0.0) 101:(0.07) \n",
      "\t\tProto:28 001:(0.01) 002:(0.01) 003:(0.01) 004:(0.13) 023:(0.01) 024:(0.05) 025:(0.01) 031:(0.0) 032:(0.36) 033:(0.04) 045:(0.08) 086:(0.03) 100:(0.01) 101:(0.06) \n",
      "\t\tProto:30 001:(0.05) 002:(0.09) 003:(0.17) 004:(0.08) 023:(0.07) 024:(0.05) 025:(0.02) 031:(0.31) 032:(0.16) 033:(0.1) 045:(0.03) 086:(0.0) 100:(0.37) 101:(0.17) \n",
      "\t\tProto:32 001:(0.0) 002:(0.02) 003:(0.01) 004:(0.48) 023:(0.57) 024:(0.89) 025:(0.65) 031:(0.0) 032:(0.0) 033:(0.0) 045:(0.0) 086:(0.17) 100:(0.0) 101:(0.0) \n",
      "\t\tProto:33 001:(0.07) 002:(0.52) 003:(0.08) 004:(0.0) 023:(0.05) 024:(0.1) 025:(0.0) 031:(0.03) 032:(0.08) 033:(0.1) 045:(0.13) 086:(0.05) 100:(0.72) 101:(0.81) \n",
      "\t\tProto:34 001:(0.03) 002:(0.02) 003:(0.38) 004:(0.25) 023:(0.25) 024:(0.03) 025:(0.48) 031:(0.12) 032:(0.03) 033:(0.02) 045:(0.05) 086:(0.29) 100:(0.06) 101:(0.0) \n",
      "\t\tProto:35 001:(0.06) 002:(0.09) 003:(0.25) 004:(0.44) 023:(0.04) 024:(0.0) 025:(0.01) 031:(0.07) 032:(0.0) 033:(0.01) 045:(0.45) 086:(0.18) 100:(0.0) 101:(0.03) \n",
      "\t\tProto:37 001:(0.29) 002:(0.53) 003:(0.06) 004:(0.0) 023:(0.0) 024:(0.05) 025:(0.0) 031:(0.03) 032:(0.0) 033:(0.03) 045:(0.02) 086:(0.0) 100:(0.7) 101:(0.79) \n",
      "\t\tProto:39 001:(0.77) 002:(0.79) 003:(0.11) 004:(0.0) 023:(0.01) 024:(0.07) 025:(0.01) 031:(0.01) 032:(0.0) 033:(0.05) 045:(0.16) 086:(0.05) 100:(0.68) 101:(0.66) \n",
      "\t\tProto:40 001:(0.03) 002:(0.05) 003:(0.1) 004:(0.54) 023:(0.04) 024:(0.31) 025:(0.09) 031:(0.0) 032:(0.0) 033:(0.0) 045:(0.48) 086:(0.07) 100:(0.05) 101:(0.04) \n",
      "\t\tProto:41 001:(0.04) 002:(0.02) 003:(0.17) 004:(0.37) 023:(0.14) 024:(0.22) 025:(0.3) 031:(0.09) 032:(0.16) 033:(0.11) 045:(0.01) 086:(0.02) 100:(0.18) 101:(0.08) \n",
      "\t\tProto:44 001:(0.0) 002:(0.03) 003:(0.0) 004:(0.0) 023:(0.0) 024:(0.0) 025:(0.0) 031:(0.72) 032:(0.64) 033:(0.83) 045:(0.02) 086:(0.01) 100:(0.0) 101:(0.0) \n",
      "\t\tProto:47 001:(0.05) 002:(0.05) 003:(0.14) 004:(0.11) 023:(0.31) 024:(0.09) 025:(0.08) 031:(0.1) 032:(0.11) 033:(0.06) 045:(0.02) 086:(0.17) 100:(0.24) 101:(0.01) \n",
      "\t\tProto:48 001:(0.0) 002:(0.01) 003:(0.0) 004:(0.0) 023:(0.09) 024:(0.84) 025:(0.26) 031:(0.01) 032:(0.28) 033:(0.52) 045:(0.0) 086:(0.01) 100:(0.0) 101:(0.02) \n",
      "\t\tProto:49 001:(0.05) 002:(0.33) 003:(0.0) 004:(0.01) 023:(0.0) 024:(0.0) 025:(0.0) 031:(0.61) 032:(0.0) 033:(0.25) 045:(0.16) 086:(0.01) 100:(0.0) 101:(0.0) \n"
     ]
    },
    {
     "name": "stderr",
     "output_type": "stream",
     "text": [
      "Collecting topk: 120it [00:03, 35.92it/s]  \n"
     ]
    },
    {
     "name": "stdout",
     "output_type": "stream",
     "text": [
      "Node 052+053\n",
      "\t Child: 053+051\n",
      "\t\tProto:2 050:(0.5) 051:(0.54) 053:(0.04) \n",
      "\t\tProto:4 050:(0.17) 051:(0.33) 053:(0.36) \n",
      "\t\tProto:5 050:(0.08) 051:(0.12) 053:(0.1) \n",
      "\t\tProto:6 050:(0.35) 051:(0.34) 053:(0.7) \n",
      "\t\tProto:7 050:(0.01) 051:(0.31) 053:(0.66) \n",
      "\t\tProto:9 050:(0.38) 051:(0.44) 053:(0.81) \n",
      "\t\tProto:10 050:(0.12) 051:(0.21) 053:(0.68) \n",
      "\t\tProto:11 050:(0.68) 051:(0.71) 053:(0.62) \n",
      "\t\tProto:15 050:(0.49) 051:(0.3) 053:(0.87) \n",
      "\t\tProto:16 050:(0.52) 051:(0.54) 053:(0.36) \n",
      "\t\tProto:17 050:(0.72) 051:(0.8) 053:(0.38) \n",
      "\t\tProto:18 050:(0.39) 051:(0.47) 053:(0.22) \n",
      "\t\tProto:20 050:(0.01) 051:(0.35) 053:(0.57) \n",
      "\t\tProto:21 050:(0.23) 051:(0.16) 053:(0.22) \n",
      "\t\tProto:22 050:(0.36) 051:(0.4) 053:(0.08) \n",
      "\t\tProto:23 050:(0.18) 051:(0.41) 053:(0.01) \n",
      "\t\tProto:24 050:(0.4) 051:(0.44) 053:(0.55) \n",
      "\t\tProto:26 050:(0.31) 051:(0.39) 053:(0.45) \n",
      "\t\tProto:27 050:(0.35) 051:(0.46) 053:(0.5) \n",
      "\t\tProto:34 050:(0.43) 051:(0.47) 053:(0.18) \n",
      "\t\tProto:36 050:(0.5) 051:(0.44) 053:(0.77) \n",
      "\t\tProto:38 050:(0.01) 051:(0.24) 053:(0.69) \n",
      "\t\tProto:39 050:(0.46) 051:(0.6) 053:(0.1) \n",
      "\t\tProto:43 050:(0.41) 051:(0.45) 053:(0.19) \n",
      "\t\tProto:45 050:(0.66) 051:(0.7) 053:(0.58) \n",
      "\t\tProto:46 050:(0.65) 051:(0.62) 053:(0.04) \n",
      "\t\tProto:48 050:(0.2) 051:(0.38) 053:(0.0) \n",
      "\t\tProto:49 050:(0.32) 051:(0.39) 053:(0.0) \n"
     ]
    },
    {
     "name": "stderr",
     "output_type": "stream",
     "text": [
      "Collecting topk: 420it [00:11, 37.97it/s]\n"
     ]
    },
    {
     "name": "stdout",
     "output_type": "stream",
     "text": [
      "Node 004+086\n",
      "\t Child: 086+045\n",
      "\t\tProto:1 001:(0.0) 002:(0.0) 003:(0.05) 023:(0.59) 024:(0.12) 025:(0.47) 045:(0.0) 086:(0.51) 100:(0.26) 101:(0.02) \n",
      "\t\tProto:4 001:(0.49) 002:(0.65) 003:(0.23) 023:(0.15) 024:(0.74) 025:(0.23) 045:(0.04) 086:(0.31) 100:(0.49) 101:(0.71) \n",
      "\t\tProto:5 001:(0.04) 002:(0.0) 003:(0.14) 023:(0.11) 024:(0.59) 025:(0.18) 045:(0.0) 086:(0.0) 100:(0.05) 101:(0.0) \n",
      "\t\tProto:10 001:(0.49) 002:(0.68) 003:(0.25) 023:(0.39) 024:(0.56) 025:(0.32) 045:(0.01) 086:(0.41) 100:(0.64) 101:(0.6) \n",
      "\t\tProto:11 001:(0.3) 002:(0.66) 003:(0.3) 023:(0.08) 024:(0.12) 025:(0.15) 045:(0.36) 086:(0.01) 100:(0.07) 101:(0.59) \n",
      "\t\tProto:13 001:(0.06) 002:(0.55) 003:(0.06) 023:(0.02) 024:(0.38) 025:(0.0) 045:(0.28) 086:(0.0) 100:(0.66) 101:(0.75) \n",
      "\t\tProto:14 001:(0.24) 002:(0.13) 003:(0.33) 023:(0.3) 024:(0.15) 025:(0.19) 045:(0.03) 086:(0.32) 100:(0.0) 101:(0.0) \n",
      "\t\tProto:17 001:(0.17) 002:(0.69) 003:(0.11) 023:(0.17) 024:(0.84) 025:(0.21) 045:(0.48) 086:(0.08) 100:(0.81) 101:(0.66) \n",
      "\t\tProto:19 001:(0.7) 002:(0.4) 003:(0.39) 023:(0.03) 024:(0.0) 025:(0.05) 045:(0.61) 086:(0.03) 100:(0.0) 101:(0.0) \n",
      "\t\tProto:21 001:(0.03) 002:(0.03) 003:(0.52) 023:(0.1) 024:(0.05) 025:(0.19) 045:(0.07) 086:(0.26) 100:(0.01) 101:(0.03) \n",
      "\t\tProto:28 001:(0.3) 002:(0.03) 003:(0.13) 023:(0.38) 024:(0.71) 025:(0.5) 045:(0.01) 086:(0.35) 100:(0.01) 101:(0.0) \n",
      "\t\tProto:29 001:(0.15) 002:(0.06) 003:(0.33) 023:(0.15) 024:(0.11) 025:(0.32) 045:(0.13) 086:(0.29) 100:(0.03) 101:(0.0) \n",
      "\t\tProto:32 001:(0.27) 002:(0.13) 003:(0.27) 023:(0.51) 024:(0.46) 025:(0.5) 045:(0.27) 086:(0.6) 100:(0.36) 101:(0.32) \n",
      "\t\tProto:38 001:(0.16) 002:(0.5) 003:(0.55) 023:(0.0) 024:(0.0) 025:(0.0) 045:(0.58) 086:(0.0) 100:(0.0) 101:(0.0) \n",
      "\t\tProto:39 001:(0.0) 002:(0.12) 003:(0.29) 023:(0.34) 024:(0.92) 025:(0.37) 045:(0.0) 086:(0.05) 100:(0.25) 101:(0.23) \n",
      "\t\tProto:40 001:(0.11) 002:(0.34) 003:(0.13) 023:(0.03) 024:(0.02) 025:(0.06) 045:(0.34) 086:(0.2) 100:(0.08) 101:(0.17) \n",
      "\t\tProto:41 001:(0.86) 002:(0.15) 003:(0.1) 023:(0.14) 024:(0.01) 025:(0.06) 045:(0.02) 086:(0.27) 100:(0.08) 101:(0.0) \n",
      "\t\tProto:42 001:(0.25) 002:(0.11) 003:(0.16) 023:(0.16) 024:(0.45) 025:(0.23) 045:(0.2) 086:(0.19) 100:(0.01) 101:(0.2) \n",
      "\t\tProto:43 001:(0.05) 002:(0.34) 003:(0.07) 023:(0.02) 024:(0.04) 025:(0.01) 045:(0.13) 086:(0.08) 100:(0.62) 101:(0.69) \n",
      "\t\tProto:45 001:(0.16) 002:(0.16) 003:(0.18) 023:(0.66) 024:(0.06) 025:(0.31) 045:(0.11) 086:(0.55) 100:(0.03) 101:(0.03) \n",
      "\t\tProto:46 001:(0.0) 002:(0.56) 003:(0.0) 023:(0.0) 024:(0.0) 025:(0.0) 045:(0.34) 086:(0.0) 100:(0.12) 101:(0.34) \n",
      "\t\tProto:48 001:(0.16) 002:(0.04) 003:(0.53) 023:(0.09) 024:(0.0) 025:(0.0) 045:(0.37) 086:(0.36) 100:(0.02) 101:(0.01) \n",
      "\t\tProto:49 001:(0.08) 002:(0.05) 003:(0.07) 023:(0.13) 024:(0.1) 025:(0.19) 045:(0.16) 086:(0.06) 100:(0.1) 101:(0.14) \n",
      "\t Child: 004+032\n",
      "\t\tProto:33 004:(0.0) 031:(0.75) 032:(0.0) 033:(0.27) \n",
      "\t\tProto:35 004:(0.0) 031:(0.02) 032:(0.74) 033:(0.48) \n",
      "\t\tProto:36 004:(0.54) 031:(0.03) 032:(0.03) 033:(0.06) \n",
      "\t\tProto:6 004:(0.24) 031:(0.28) 032:(0.19) 033:(0.21) \n",
      "\t\tProto:7 004:(0.0) 031:(0.03) 032:(0.63) 033:(0.78) \n",
      "\t\tProto:8 004:(0.0) 031:(0.88) 032:(0.58) 033:(0.73) \n",
      "\t\tProto:9 004:(0.56) 031:(0.67) 032:(0.74) 033:(0.6) \n",
      "\t\tProto:12 004:(0.0) 031:(0.63) 032:(0.0) 033:(0.18) \n",
      "\t\tProto:15 004:(0.34) 031:(0.29) 032:(0.24) 033:(0.48) \n",
      "\t\tProto:22 004:(0.27) 031:(0.3) 032:(0.49) 033:(0.3) \n",
      "\t\tProto:23 004:(0.12) 031:(0.22) 032:(0.2) 033:(0.13) \n",
      "\t\tProto:24 004:(0.29) 031:(0.77) 032:(0.49) 033:(0.76) \n",
      "\t\tProto:25 004:(0.13) 031:(0.02) 032:(0.17) 033:(0.38) \n",
      "\t\tProto:27 004:(0.23) 031:(0.02) 032:(0.46) 033:(0.73) \n"
     ]
    },
    {
     "name": "stderr",
     "output_type": "stream",
     "text": [
      "Collecting topk: 90it [00:02, 37.27it/s]   \n"
     ]
    },
    {
     "name": "stdout",
     "output_type": "stream",
     "text": [
      "Node 053+051\n",
      "\t Child: 051+050\n",
      "\t\tProto:3 050:(0.19) 051:(0.38) \n",
      "\t\tProto:5 050:(0.06) 051:(0.22) \n",
      "\t\tProto:8 050:(0.09) 051:(0.25) \n",
      "\t\tProto:9 050:(0.55) 051:(0.62) \n",
      "\t\tProto:10 050:(0.46) 051:(0.59) \n",
      "\t\tProto:11 050:(0.38) 051:(0.49) \n",
      "\t\tProto:12 050:(0.73) 051:(0.73) \n",
      "\t\tProto:13 050:(0.59) 051:(0.58) \n",
      "\t\tProto:16 050:(0.56) 051:(0.35) \n",
      "\t\tProto:17 050:(0.46) 051:(0.61) \n",
      "\t\tProto:18 050:(0.28) 051:(0.45) \n",
      "\t\tProto:20 050:(0.17) 051:(0.28) \n",
      "\t\tProto:25 050:(0.26) 051:(0.46) \n",
      "\t\tProto:32 050:(0.32) 051:(0.32) \n",
      "\t\tProto:36 050:(0.39) 051:(0.48) \n",
      "\t\tProto:38 050:(0.37) 051:(0.47) \n",
      "\t\tProto:42 050:(0.39) 051:(0.35) \n",
      "\t\tProto:43 050:(0.36) 051:(0.41) \n",
      "\t\tProto:45 050:(0.2) 051:(0.45) \n",
      "\t\tProto:47 050:(0.51) 051:(0.62) \n",
      "\t\tProto:48 050:(0.29) 051:(0.34) \n",
      "\t\tProto:49 050:(0.57) 051:(0.64) \n"
     ]
    },
    {
     "name": "stderr",
     "output_type": "stream",
     "text": [
      "Collecting topk: 120it [00:03, 35.69it/s]  \n"
     ]
    },
    {
     "name": "stdout",
     "output_type": "stream",
     "text": [
      "Node 004+032\n",
      "\t Child: 032+031\n",
      "\t\tProto:0 031:(0.28) 032:(0.65) 033:(0.22) \n",
      "\t\tProto:1 031:(0.77) 032:(0.49) 033:(0.52) \n",
      "\t\tProto:4 031:(0.48) 032:(0.13) 033:(0.54) \n",
      "\t\tProto:5 031:(0.36) 032:(0.49) 033:(0.75) \n",
      "\t\tProto:6 031:(0.52) 032:(0.38) 033:(0.5) \n",
      "\t\tProto:7 031:(0.0) 032:(0.36) 033:(0.67) \n",
      "\t\tProto:9 031:(0.61) 032:(0.4) 033:(0.62) \n",
      "\t\tProto:12 031:(0.34) 032:(0.59) 033:(0.82) \n",
      "\t\tProto:16 031:(0.21) 032:(0.72) 033:(0.54) \n",
      "\t\tProto:17 031:(0.38) 032:(0.23) 033:(0.24) \n",
      "\t\tProto:18 031:(0.69) 032:(0.16) 033:(0.52) \n",
      "\t\tProto:19 031:(0.43) 032:(0.4) 033:(0.3) \n",
      "\t\tProto:20 031:(0.44) 032:(0.36) 033:(0.46) \n",
      "\t\tProto:22 031:(0.65) 032:(0.23) 033:(0.46) \n",
      "\t\tProto:27 031:(0.39) 032:(0.41) 033:(0.4) \n",
      "\t\tProto:30 031:(0.13) 032:(0.12) 033:(0.09) \n",
      "\t\tProto:31 031:(0.2) 032:(0.34) 033:(0.4) \n",
      "\t\tProto:32 031:(0.73) 032:(0.39) 033:(0.63) \n",
      "\t\tProto:36 031:(0.46) 032:(0.08) 033:(0.35) \n",
      "\t\tProto:37 031:(0.12) 032:(0.27) 033:(0.63) \n",
      "\t\tProto:38 031:(0.42) 032:(0.51) 033:(0.46) \n",
      "\t\tProto:40 031:(0.88) 032:(0.43) 033:(0.07) \n",
      "\t\tProto:45 031:(0.01) 032:(0.42) 033:(0.65) \n",
      "\t\tProto:49 031:(0.31) 032:(0.34) 033:(0.41) \n"
     ]
    },
    {
     "name": "stderr",
     "output_type": "stream",
     "text": [
      "Collecting topk: 300it [00:07, 37.71it/s]  \n"
     ]
    },
    {
     "name": "stdout",
     "output_type": "stream",
     "text": [
      "Node 086+045\n",
      "\t Child: 045+100\n",
      "\t\tProto:2 001:(0.02) 002:(0.03) 003:(0.02) 023:(0.71) 024:(0.73) 025:(0.37) 045:(0.0) 100:(0.02) 101:(0.02) \n",
      "\t\tProto:3 001:(0.12) 002:(0.08) 003:(0.08) 023:(0.11) 024:(0.84) 025:(0.27) 045:(0.04) 100:(0.01) 101:(0.05) \n",
      "\t\tProto:5 001:(0.17) 002:(0.24) 003:(0.09) 023:(0.04) 024:(0.22) 025:(0.21) 045:(0.43) 100:(0.02) 101:(0.12) \n",
      "\t\tProto:6 001:(0.18) 002:(0.32) 003:(0.1) 023:(0.0) 024:(0.01) 025:(0.01) 045:(0.04) 100:(0.87) 101:(0.4) \n",
      "\t\tProto:7 001:(0.04) 002:(0.02) 003:(0.03) 023:(0.1) 024:(0.28) 025:(0.3) 045:(0.09) 100:(0.12) 101:(0.06) \n",
      "\t\tProto:9 001:(0.22) 002:(0.26) 003:(0.17) 023:(0.11) 024:(0.06) 025:(0.09) 045:(0.02) 100:(0.25) 101:(0.28) \n",
      "\t\tProto:10 001:(0.22) 002:(0.16) 003:(0.18) 023:(0.09) 024:(0.33) 025:(0.42) 045:(0.04) 100:(0.01) 101:(0.03) \n",
      "\t\tProto:11 001:(0.02) 002:(0.4) 003:(0.0) 023:(0.02) 024:(0.22) 025:(0.0) 045:(0.42) 100:(0.01) 101:(0.48) \n",
      "\t\tProto:12 001:(0.06) 002:(0.21) 003:(0.12) 023:(0.0) 024:(0.08) 025:(0.03) 045:(0.02) 100:(0.55) 101:(0.56) \n",
      "\t\tProto:14 001:(0.2) 002:(0.24) 003:(0.25) 023:(0.2) 024:(0.13) 025:(0.13) 045:(0.1) 100:(0.05) 101:(0.0) \n",
      "\t\tProto:17 001:(0.27) 002:(0.06) 003:(0.09) 023:(0.24) 024:(0.07) 025:(0.08) 045:(0.23) 100:(0.07) 101:(0.04) \n",
      "\t\tProto:18 001:(0.47) 002:(0.12) 003:(0.27) 023:(0.19) 024:(0.18) 025:(0.4) 045:(0.08) 100:(0.01) 101:(0.01) \n",
      "\t\tProto:19 001:(0.31) 002:(0.22) 003:(0.14) 023:(0.19) 024:(0.19) 025:(0.24) 045:(0.16) 100:(0.4) 101:(0.07) \n",
      "\t\tProto:20 001:(0.08) 002:(0.6) 003:(0.61) 023:(0.0) 024:(0.01) 025:(0.01) 045:(0.6) 100:(0.0) 101:(0.05) \n",
      "\t\tProto:21 001:(0.71) 002:(0.27) 003:(0.46) 023:(0.03) 024:(0.0) 025:(0.08) 045:(0.39) 100:(0.0) 101:(0.0) \n",
      "\t\tProto:23 001:(0.09) 002:(0.02) 003:(0.05) 023:(0.19) 024:(0.1) 025:(0.11) 045:(0.06) 100:(0.2) 101:(0.07) \n",
      "\t\tProto:24 001:(0.34) 002:(0.3) 003:(0.21) 023:(0.34) 024:(0.16) 025:(0.16) 045:(0.06) 100:(0.1) 101:(0.0) \n",
      "\t\tProto:25 001:(0.07) 002:(0.08) 003:(0.14) 023:(0.01) 024:(0.69) 025:(0.08) 045:(0.11) 100:(0.03) 101:(0.0) \n",
      "\t\tProto:26 001:(0.04) 002:(0.05) 003:(0.03) 023:(0.03) 024:(0.84) 025:(0.06) 045:(0.09) 100:(0.1) 101:(0.32) \n",
      "\t\tProto:27 001:(0.26) 002:(0.15) 003:(0.19) 023:(0.18) 024:(0.12) 025:(0.15) 045:(0.05) 100:(0.17) 101:(0.05) \n",
      "\t\tProto:29 001:(0.09) 002:(0.42) 003:(0.01) 023:(0.12) 024:(0.62) 025:(0.17) 045:(0.04) 100:(0.06) 101:(0.6) \n",
      "\t\tProto:30 001:(0.07) 002:(0.01) 003:(0.15) 023:(0.41) 024:(0.65) 025:(0.59) 045:(0.02) 100:(0.0) 101:(0.01) \n",
      "\t\tProto:31 001:(0.61) 002:(0.31) 003:(0.11) 023:(0.04) 024:(0.04) 025:(0.01) 045:(0.39) 100:(0.03) 101:(0.01) \n",
      "\t\tProto:32 001:(0.22) 002:(0.07) 003:(0.49) 023:(0.16) 024:(0.03) 025:(0.01) 045:(0.03) 100:(0.07) 101:(0.0) \n",
      "\t\tProto:33 001:(0.01) 002:(0.01) 003:(0.02) 023:(0.57) 024:(0.09) 025:(0.58) 045:(0.01) 100:(0.09) 101:(0.01) \n",
      "\t\tProto:34 001:(0.01) 002:(0.04) 003:(0.04) 023:(0.51) 024:(0.53) 025:(0.57) 045:(0.0) 100:(0.01) 101:(0.0) \n",
      "\t\tProto:35 001:(0.55) 002:(0.02) 003:(0.07) 023:(0.37) 024:(0.2) 025:(0.55) 045:(0.0) 100:(0.24) 101:(0.08) \n",
      "\t\tProto:36 001:(0.26) 002:(0.2) 003:(0.55) 023:(0.04) 024:(0.03) 025:(0.01) 045:(0.3) 100:(0.35) 101:(0.14) \n",
      "\t\tProto:41 001:(0.06) 002:(0.1) 003:(0.16) 023:(0.03) 024:(0.06) 025:(0.04) 045:(0.07) 100:(0.4) 101:(0.41) \n",
      "\t\tProto:42 001:(0.24) 002:(0.4) 003:(0.01) 023:(0.0) 024:(0.0) 025:(0.0) 045:(0.07) 100:(0.26) 101:(0.46) \n",
      "\t\tProto:43 001:(0.17) 002:(0.11) 003:(0.07) 023:(0.56) 024:(0.02) 025:(0.34) 045:(0.13) 100:(0.04) 101:(0.01) \n",
      "\t\tProto:44 001:(0.08) 002:(0.47) 003:(0.01) 023:(0.01) 024:(0.72) 025:(0.01) 045:(0.14) 100:(0.29) 101:(0.51) \n",
      "\t\tProto:45 001:(0.36) 002:(0.16) 003:(0.23) 023:(0.06) 024:(0.04) 025:(0.12) 045:(0.11) 100:(0.25) 101:(0.12) \n",
      "\t\tProto:46 001:(0.01) 002:(0.49) 003:(0.02) 023:(0.0) 024:(0.0) 025:(0.0) 045:(0.58) 100:(0.15) 101:(0.4) \n",
      "\t\tProto:47 001:(0.05) 002:(0.05) 003:(0.11) 023:(0.0) 024:(0.08) 025:(0.11) 045:(0.54) 100:(0.03) 101:(0.07) \n",
      "\t\tProto:48 001:(0.58) 002:(0.3) 003:(0.05) 023:(0.01) 024:(0.0) 025:(0.02) 045:(0.06) 100:(0.83) 101:(0.31) \n",
      "\t\tProto:49 001:(0.14) 002:(0.25) 003:(0.04) 023:(0.0) 024:(0.04) 025:(0.0) 045:(0.01) 100:(0.73) 101:(0.56) \n"
     ]
    },
    {
     "name": "stderr",
     "output_type": "stream",
     "text": [
      "Collecting topk: 90it [00:02, 36.41it/s]   \n"
     ]
    },
    {
     "name": "stdout",
     "output_type": "stream",
     "text": [
      "Node 032+031\n",
      "\t Child: 031+033\n",
      "\t\tProto:1 031:(0.33) 033:(0.48) \n",
      "\t\tProto:33 031:(0.47) 033:(0.71) \n",
      "\t\tProto:35 031:(0.67) 033:(0.54) \n",
      "\t\tProto:4 031:(0.85) 033:(0.32) \n",
      "\t\tProto:36 031:(0.75) 033:(0.53) \n",
      "\t\tProto:37 031:(0.37) 033:(0.37) \n",
      "\t\tProto:43 031:(0.69) 033:(0.4) \n",
      "\t\tProto:13 031:(0.61) 033:(0.43) \n",
      "\t\tProto:14 031:(0.85) 033:(0.57) \n",
      "\t\tProto:15 031:(0.63) 033:(0.42) \n",
      "\t\tProto:46 031:(0.62) 033:(0.48) \n",
      "\t\tProto:47 031:(0.39) 033:(0.25) \n",
      "\t\tProto:24 031:(0.79) 033:(0.31) \n",
      "\t\tProto:28 031:(0.74) 033:(0.64) \n"
     ]
    },
    {
     "name": "stderr",
     "output_type": "stream",
     "text": [
      "Collecting topk: 270it [00:07, 35.88it/s]\n"
     ]
    },
    {
     "name": "stdout",
     "output_type": "stream",
     "text": [
      "Node 045+100\n",
      "\t Child: 100+023\n",
      "\t\tProto:32 023:(0.01) 024:(0.16) 025:(0.08) 100:(0.63) 101:(0.6) \n",
      "\t\tProto:2 023:(0.4) 024:(0.83) 025:(0.43) 100:(0.02) 101:(0.04) \n",
      "\t\tProto:35 023:(0.03) 024:(0.0) 025:(0.05) 100:(0.85) 101:(0.81) \n",
      "\t\tProto:6 023:(0.0) 024:(0.69) 025:(0.02) 100:(0.44) 101:(0.4) \n",
      "\t\tProto:7 023:(0.67) 024:(0.74) 025:(0.64) 100:(0.01) 101:(0.02) \n",
      "\t\tProto:8 023:(0.31) 024:(0.41) 025:(0.35) 100:(0.06) 101:(0.0) \n",
      "\t\tProto:40 023:(0.24) 024:(0.77) 025:(0.5) 100:(0.2) 101:(0.17) \n",
      "\t\tProto:41 023:(0.0) 024:(0.57) 025:(0.08) 100:(0.09) 101:(0.5) \n",
      "\t\tProto:11 023:(0.04) 024:(0.81) 025:(0.0) 100:(0.08) 101:(0.17) \n",
      "\t\tProto:44 023:(0.61) 024:(0.63) 025:(0.2) 100:(0.02) 101:(0.0) \n",
      "\t\tProto:14 023:(0.45) 024:(0.18) 025:(0.11) 100:(0.12) 101:(0.0) \n",
      "\t\tProto:46 023:(0.45) 024:(0.04) 025:(0.46) 100:(0.4) 101:(0.03) \n",
      "\t\tProto:19 023:(0.01) 024:(0.73) 025:(0.04) 100:(0.07) 101:(0.31) \n",
      "\t\tProto:22 023:(0.47) 024:(0.24) 025:(0.52) 100:(0.42) 101:(0.72) \n",
      "\t\tProto:25 023:(0.18) 024:(0.38) 025:(0.7) 100:(0.01) 101:(0.03) \n",
      "\t\tProto:27 023:(0.58) 024:(0.18) 025:(0.34) 100:(0.71) 101:(0.7) \n",
      "\t Child: 045+003\n",
      "\t\tProto:33 001:(0.21) 002:(0.42) 003:(0.27) 045:(0.56) \n",
      "\t\tProto:34 001:(0.09) 002:(0.27) 003:(0.02) 045:(0.28) \n",
      "\t\tProto:3 001:(0.39) 002:(0.16) 003:(0.19) 045:(0.43) \n",
      "\t\tProto:36 001:(0.53) 002:(0.36) 003:(0.66) 045:(0.49) \n",
      "\t\tProto:5 001:(0.27) 002:(0.23) 003:(0.62) 045:(0.61) \n",
      "\t\tProto:37 001:(0.12) 002:(0.29) 003:(0.23) 045:(0.18) \n",
      "\t\tProto:39 001:(0.5) 002:(0.64) 003:(0.12) 045:(0.64) \n",
      "\t\tProto:9 001:(0.57) 002:(0.66) 003:(0.82) 045:(0.48) \n",
      "\t\tProto:10 001:(0.62) 002:(0.32) 003:(0.35) 045:(0.4) \n",
      "\t\tProto:13 001:(0.4) 002:(0.51) 003:(0.28) 045:(0.32) \n",
      "\t\tProto:16 001:(0.71) 002:(0.73) 003:(0.38) 045:(0.5) \n",
      "\t\tProto:49 001:(0.57) 002:(0.24) 003:(0.51) 045:(0.06) \n",
      "\t\tProto:18 001:(0.15) 002:(0.16) 003:(0.21) 045:(0.23) \n",
      "\t\tProto:24 001:(0.63) 002:(0.55) 003:(0.1) 045:(0.37) \n",
      "\t\tProto:28 001:(0.66) 002:(0.72) 003:(0.18) 045:(0.12) \n"
     ]
    },
    {
     "name": "stderr",
     "output_type": "stream",
     "text": [
      "Collecting topk: 120it [00:03, 37.70it/s]  \n"
     ]
    },
    {
     "name": "stdout",
     "output_type": "stream",
     "text": [
      "Node 045+003\n",
      "\t Child: 003+001\n",
      "\t\tProto:0 001:(0.64) 002:(0.51) 003:(0.45) \n",
      "\t\tProto:1 001:(0.73) 002:(0.6) 003:(0.29) \n",
      "\t\tProto:6 001:(0.18) 002:(0.23) 003:(0.81) \n",
      "\t\tProto:8 001:(0.39) 002:(0.29) 003:(0.44) \n",
      "\t\tProto:10 001:(0.53) 002:(0.6) 003:(0.34) \n",
      "\t\tProto:13 001:(0.35) 002:(0.32) 003:(0.55) \n",
      "\t\tProto:14 001:(0.45) 002:(0.18) 003:(0.44) \n",
      "\t\tProto:17 001:(0.62) 002:(0.55) 003:(0.33) \n",
      "\t\tProto:21 001:(0.12) 002:(0.59) 003:(0.67) \n",
      "\t\tProto:24 001:(0.25) 002:(0.34) 003:(0.46) \n",
      "\t\tProto:27 001:(0.57) 002:(0.49) 003:(0.33) \n",
      "\t\tProto:28 001:(0.46) 002:(0.75) 003:(0.34) \n",
      "\t\tProto:29 001:(0.36) 002:(0.36) 003:(0.2) \n",
      "\t\tProto:30 001:(0.77) 002:(0.62) 003:(0.34) \n",
      "\t\tProto:31 001:(0.42) 002:(0.52) 003:(0.27) \n",
      "\t\tProto:37 001:(0.38) 002:(0.45) 003:(0.34) \n",
      "\t\tProto:40 001:(0.45) 002:(0.55) 003:(0.33) \n",
      "\t\tProto:41 001:(0.3) 002:(0.83) 003:(0.22) \n",
      "\t\tProto:46 001:(0.43) 002:(0.54) 003:(0.13) \n",
      "\t\tProto:47 001:(0.71) 002:(0.16) 003:(0.13) \n"
     ]
    },
    {
     "name": "stderr",
     "output_type": "stream",
     "text": [
      "Collecting topk: 150it [00:04, 33.28it/s]\n"
     ]
    },
    {
     "name": "stdout",
     "output_type": "stream",
     "text": [
      "Node 100+023\n",
      "\t Child: 023+024\n",
      "\t\tProto:0 023:(0.09) 024:(0.8) 025:(0.35) \n",
      "\t\tProto:2 023:(0.54) 024:(0.54) 025:(0.56) \n",
      "\t\tProto:3 023:(0.49) 024:(0.67) 025:(0.6) \n",
      "\t\tProto:4 023:(0.47) 024:(0.52) 025:(0.6) \n",
      "\t\tProto:35 023:(0.29) 024:(0.8) 025:(0.49) \n",
      "\t\tProto:7 023:(0.58) 024:(0.9) 025:(0.56) \n",
      "\t\tProto:41 023:(0.44) 024:(0.62) 025:(0.49) \n",
      "\t\tProto:42 023:(0.13) 024:(0.51) 025:(0.55) \n",
      "\t\tProto:43 023:(0.46) 024:(0.47) 025:(0.53) \n",
      "\t\tProto:12 023:(0.32) 024:(0.58) 025:(0.07) \n",
      "\t\tProto:46 023:(0.37) 024:(0.6) 025:(0.5) \n",
      "\t\tProto:16 023:(0.48) 024:(0.83) 025:(0.27) \n",
      "\t\tProto:48 023:(0.43) 024:(0.36) 025:(0.58) \n",
      "\t\tProto:18 023:(0.24) 024:(0.43) 025:(0.21) \n",
      "\t\tProto:20 023:(0.56) 024:(0.37) 025:(0.61) \n",
      "\t\tProto:24 023:(0.64) 024:(0.37) 025:(0.47) \n",
      "\t\tProto:28 023:(0.3) 024:(0.65) 025:(0.32) \n",
      "\t\tProto:31 023:(0.67) 024:(0.73) 025:(0.3) \n",
      "\t Child: 100+101\n",
      "\t\tProto:1 100:(0.57) 101:(0.49) \n",
      "\t\tProto:33 100:(0.47) 101:(0.51) \n",
      "\t\tProto:36 100:(0.78) 101:(0.6) \n",
      "\t\tProto:6 100:(0.56) 101:(0.54) \n",
      "\t\tProto:8 100:(0.81) 101:(0.75) \n",
      "\t\tProto:40 100:(0.55) 101:(0.72) \n",
      "\t\tProto:10 100:(0.67) 101:(0.66) \n",
      "\t\tProto:13 100:(0.88) 101:(0.81) \n",
      "\t\tProto:45 100:(0.56) 101:(0.71) \n",
      "\t\tProto:15 100:(0.47) 101:(0.64) \n",
      "\t\tProto:26 100:(0.58) 101:(0.75) \n"
     ]
    },
    {
     "name": "stderr",
     "output_type": "stream",
     "text": [
      "Collecting topk: 90it [00:02, 38.94it/s]   \n"
     ]
    },
    {
     "name": "stdout",
     "output_type": "stream",
     "text": [
      "Node 003+001\n",
      "\t Child: 001+002\n",
      "\t\tProto:0 001:(0.71) 002:(0.65) \n",
      "\t\tProto:33 001:(0.56) 002:(0.48) \n",
      "\t\tProto:3 001:(0.46) 002:(0.59) \n",
      "\t\tProto:36 001:(0.66) 002:(0.42) \n",
      "\t\tProto:6 001:(0.5) 002:(0.5) \n",
      "\t\tProto:7 001:(0.43) 002:(0.66) \n",
      "\t\tProto:40 001:(0.35) 002:(0.66) \n",
      "\t\tProto:9 001:(0.54) 002:(0.65) \n",
      "\t\tProto:42 001:(0.6) 002:(0.45) \n",
      "\t\tProto:12 001:(0.77) 002:(0.81) \n",
      "\t\tProto:17 001:(0.78) 002:(0.58) \n",
      "\t\tProto:24 001:(0.6) 002:(0.61) \n",
      "\t\tProto:25 001:(0.47) 002:(0.35) \n",
      "\t\tProto:30 001:(0.55) 002:(0.56) \n",
      "\t\tProto:31 001:(0.67) 002:(0.65) \n"
     ]
    },
    {
     "name": "stderr",
     "output_type": "stream",
     "text": [
      "Collecting topk: 90it [00:02, 36.78it/s]   "
     ]
    },
    {
     "name": "stdout",
     "output_type": "stream",
     "text": [
      "Node 023+024\n",
      "\t Child: 024+025\n",
      "\t\tProto:33 024:(0.61) 025:(0.29) \n",
      "\t\tProto:35 024:(0.28) 025:(0.47) \n",
      "\t\tProto:37 024:(0.68) 025:(0.47) \n",
      "\t\tProto:38 024:(0.63) 025:(0.44) \n",
      "\t\tProto:7 024:(0.78) 025:(0.28) \n",
      "\t\tProto:9 024:(0.81) 025:(0.17) \n",
      "\t\tProto:10 024:(0.51) 025:(0.41) \n",
      "\t\tProto:12 024:(0.83) 025:(0.49) \n",
      "\t\tProto:13 024:(0.45) 025:(0.3) \n",
      "\t\tProto:14 024:(0.46) 025:(0.57) \n",
      "\t\tProto:47 024:(0.48) 025:(0.32) \n",
      "\t\tProto:18 024:(0.77) 025:(0.25) \n",
      "\t\tProto:26 024:(0.44) 025:(0.52) \n",
      "\t\tProto:27 024:(0.35) 025:(0.27) \n",
      "\t\tProto:31 024:(0.51) 025:(0.19) \n"
     ]
    },
    {
     "name": "stderr",
     "output_type": "stream",
     "text": [
      "\n"
     ]
    }
   ],
   "source": [
    "# Proto activations on leaf descendents - all image-activations\n",
    "\n",
    "from util.data import ModifiedLabelLoader\n",
    "from collections import defaultdict\n",
    "import heapq\n",
    "import pdb\n",
    "\n",
    "\n",
    "for node in root.nodes_with_children():\n",
    "    if node.name == 'root':\n",
    "        continue\n",
    "    non_leaf_children_names = [child.name for child in node.children if not child.is_leaf()]\n",
    "    if len(non_leaf_children_names) == 0: # if all the children are leaf nodes then skip this node\n",
    "        continue\n",
    "\n",
    "    name2label = projectloader.dataset.class_to_idx\n",
    "    label2name = {label:name for name, label in name2label.items()}\n",
    "    modifiedLabelLoader = ModifiedLabelLoader(projectloader, node)\n",
    "    coarse_label2name = modifiedLabelLoader.modifiedlabel2name\n",
    "    node_label_to_children = {label: name for name, label in node.children_to_labels.items()}\n",
    "\n",
    "    img_iter = tqdm(enumerate(modifiedLabelLoader),\n",
    "                    total=len(modifiedLabelLoader),\n",
    "                    mininterval=50.,\n",
    "                    desc='Collecting topk',\n",
    "                    ncols=0)\n",
    "\n",
    "    \n",
    "\n",
    "    classification_weights = getattr(net.module, '_'+node.name+'_classification').weight\n",
    "    \n",
    "    # maps proto_number -> grand_child_name (or descendant leaf name) -> (mean_activation, num_images)\n",
    "    proto_mean_activations = defaultdict(lambda: defaultdict(lambda: [0, 0]))\n",
    "\n",
    "    # maps class names to the prototypes that belong to that\n",
    "    class_and_prototypes = defaultdict(set)\n",
    "\n",
    "    for i, (xs, orig_y, ys) in img_iter:\n",
    "        if coarse_label2name[ys.item()] not in non_leaf_children_names:\n",
    "            continue\n",
    "\n",
    "        xs, ys = xs.to(device), ys.to(device)\n",
    "\n",
    "        with torch.no_grad():\n",
    "            pfs, pooled, _ = net(xs, inference=True)\n",
    "            pooled = pooled[node.name].squeeze(0) \n",
    "            pfs = pfs[node.name].squeeze(0)\n",
    "\n",
    "            for p in range(pooled.shape[0]): # pooled.shape -> [768] (== num of prototypes)\n",
    "                c_weight = torch.max(classification_weights[:,p]) # classification_weights[:,p].shape -> [200] (== num of classes)\n",
    "                relevant_proto_classes = torch.nonzero(classification_weights[:, p] > 1e-3)\n",
    "                relevant_proto_class_names = [node_label_to_children[class_idx.item()] for class_idx in relevant_proto_classes]\n",
    "\n",
    "                if len(relevant_proto_class_names) == 0:\n",
    "                    continue\n",
    "                \n",
    "                if (len(relevant_proto_class_names) == 1) and (relevant_proto_class_names[0] not in non_leaf_children_names):\n",
    "                    continue\n",
    "                \n",
    "                if (coarse_label2name[ys.item()] in relevant_proto_class_names):\n",
    "                    child_node = root.get_node(coarse_label2name[ys.item()])\n",
    "                    leaf_descendent = label2name[orig_y.item()][4:7]\n",
    "                    proto_mean_activations[p][leaf_descendent][0] = ((proto_mean_activations[p][leaf_descendent][0] * \\\n",
    "                                                                      proto_mean_activations[p][leaf_descendent][1]) + pooled[p]) / (proto_mean_activations[p][leaf_descendent][1] + 1)\n",
    "                    proto_mean_activations[p][leaf_descendent][1] += 1                \n",
    "\n",
    "                class_and_prototypes[', '.join(relevant_proto_class_names)].add(p)\n",
    "\n",
    "    \n",
    "    print('Node', node.name)\n",
    "    for child_classname in class_and_prototypes:\n",
    "        print('\\t'*1, 'Child:', child_classname)\n",
    "        for p in class_and_prototypes[child_classname]:\n",
    "            logstr = '\\t'*2 + f'Proto:{p} '\n",
    "            for leaf_descendent in proto_mean_activations[p]:\n",
    "                mean_activation = round(proto_mean_activations[p][leaf_descendent][0].item(), 2)\n",
    "#                 num_images = proto_mean_activations[p][leaf_descendent][1]\n",
    "#                 logstr += f'{leaf_descendent}:{mean_activation}/{num_images} '\n",
    "                num_images = proto_mean_activations[p][leaf_descendent][1]\n",
    "                logstr += f'{leaf_descendent}:({mean_activation}) '\n",
    "            print(logstr)\n"
   ]
  },
  {
   "cell_type": "code",
   "execution_count": 24,
   "metadata": {},
   "outputs": [
    {
     "name": "stderr",
     "output_type": "stream",
     "text": [
      "Collecting topk: 120it [00:04, 27.80it/s]  \n"
     ]
    },
    {
     "name": "stdout",
     "output_type": "stream",
     "text": [
      "Node 052+053\n",
      "\t Child: 053+050\n",
      "\t\tProto:2 050:(0.9812) 051:(0.9933) 053:(0.6588) \n",
      "\t\tProto:3 050:(0.9053) 051:(0.9843) 053:(0.9648) \n",
      "\t\tProto:4 050:(0.9931) 051:(0.9978) 053:(0.9978) \n",
      "\t\tProto:6 050:(0.8988) 051:(0.9403) 053:(0.4896) \n",
      "\t\tProto:7 050:(0.8993) 051:(0.9874) 053:(0.9988) \n",
      "\t\tProto:9 050:(0.8468) 051:(0.9909) 053:(0.0168) \n",
      "\t\tProto:10 050:(0.9056) 051:(0.9806) 053:(0.8222) \n",
      "\t\tProto:12 050:(0.7841) 051:(0.8298) 053:(0.9349) \n",
      "\t\tProto:13 050:(0.9223) 051:(0.9959) 053:(0.8779) \n",
      "\t\tProto:14 050:(0.8708) 051:(0.9791) 053:(0.6037) \n",
      "\t\tProto:16 050:(0.9934) 051:(0.9977) 053:(0.9877) \n",
      "\t\tProto:17 050:(0.0105) 051:(0.8373) 053:(0.9993) \n",
      "\t\tProto:19 050:(0.9081) 051:(0.9834) 053:(0.9472) \n"
     ]
    },
    {
     "name": "stderr",
     "output_type": "stream",
     "text": [
      "Collecting topk: 420it [00:09, 45.18it/s]\n"
     ]
    },
    {
     "name": "stdout",
     "output_type": "stream",
     "text": [
      "Node 004+086\n",
      "\t Child: 086+045\n",
      "\t\tProto:0 001:(0.2513) 002:(0.872) 003:(0.9815) 023:(0.0043) 024:(0.0563) 025:(0.0958) 045:(0.9137) 086:(0.0388) 100:(0.002) 101:(0.0415) \n",
      "\t\tProto:1 001:(0.997) 002:(0.9983) 003:(0.9886) 023:(0.9976) 024:(0.9997) 025:(0.9988) 045:(0.9967) 086:(0.7949) 100:(0.9998) 101:(0.9998) \n",
      "\t\tProto:2 001:(0.6493) 002:(0.3787) 003:(0.6034) 023:(0.604) 024:(0.2477) 025:(0.6089) 045:(0.427) 086:(0.0314) 100:(0.6685) 101:(0.5068) \n",
      "\t\tProto:7 001:(0.1635) 002:(0.1849) 003:(0.0658) 023:(0.959) 024:(0.9885) 025:(0.9941) 045:(0.0094) 086:(0.1931) 100:(0.0586) 101:(0.0265) \n",
      "\t\tProto:10 001:(0.148) 002:(0.2155) 003:(0.1924) 023:(0.9361) 024:(0.7214) 025:(0.9685) 045:(0.0453) 086:(0.0569) 100:(0.0128) 101:(0.0163) \n",
      "\t\tProto:11 001:(0.9187) 002:(0.8502) 003:(0.8027) 023:(0.9992) 024:(0.9982) 025:(0.9962) 045:(0.3905) 086:(0.9992) 100:(0.0569) 101:(0.1555) \n",
      "\t\tProto:15 001:(0.8459) 002:(0.9892) 003:(0.933) 023:(0.3663) 024:(0.2743) 025:(0.7468) 045:(0.8844) 086:(0.5302) 100:(0.4635) 101:(0.9978) \n",
      "\t\tProto:17 001:(0.994) 002:(0.9994) 003:(0.9959) 023:(0.7831) 024:(0.093) 025:(0.3625) 045:(0.9992) 086:(0.9997) 100:(0.9425) 101:(0.9995) \n",
      "\t\tProto:18 001:(0.9677) 002:(0.4826) 003:(0.7992) 023:(0.937) 024:(0.8992) 025:(0.8129) 045:(0.1071) 086:(0.9834) 100:(0.9442) 101:(0.0893) \n",
      "\t\tProto:19 001:(0.1321) 002:(0.6939) 003:(0.1967) 023:(0.285) 024:(0.9903) 025:(0.2809) 045:(0.0159) 086:(0.0471) 100:(0.9377) 101:(0.9981) \n",
      "\t Child: 004+032\n",
      "\t\tProto:6 004:(0.5656) 031:(0.8714) 032:(0.5334) 033:(0.9165) \n",
      "\t\tProto:8 004:(0.0047) 031:(0.2739) 032:(0.9997) 033:(0.9984) \n",
      "\t\tProto:9 004:(0.9935) 031:(0.9968) 032:(0.9988) 033:(0.9984) \n",
      "\t\tProto:12 004:(0.014) 031:(0.9669) 032:(0.9924) 033:(0.9583) \n",
      "\t\tProto:14 004:(0.9919) 031:(0.9972) 032:(0.6266) 033:(0.9967) \n"
     ]
    },
    {
     "name": "stderr",
     "output_type": "stream",
     "text": [
      "Collecting topk: 90it [00:03, 25.69it/s]   \n"
     ]
    },
    {
     "name": "stdout",
     "output_type": "stream",
     "text": [
      "Node 053+050\n",
      "\t Child: 050+051\n",
      "\t\tProto:0 050:(0.521) 051:(0.683) \n",
      "\t\tProto:1 050:(0.9178) 051:(0.9853) \n",
      "\t\tProto:3 050:(0.9916) 051:(0.9992) \n",
      "\t\tProto:6 050:(0.9391) 051:(0.9883) \n",
      "\t\tProto:12 050:(0.9874) 051:(0.9838) \n",
      "\t\tProto:13 050:(0.9458) 051:(0.975) \n",
      "\t\tProto:16 050:(0.6865) 051:(0.9197) \n",
      "\t\tProto:17 050:(0.7028) 051:(0.9495) \n",
      "\t\tProto:18 050:(0.1909) 051:(0.9628) \n",
      "\t\tProto:19 050:(0.9987) 051:(0.9997) \n"
     ]
    },
    {
     "name": "stderr",
     "output_type": "stream",
     "text": [
      "Collecting topk: 120it [00:04, 29.96it/s]  \n"
     ]
    },
    {
     "name": "stdout",
     "output_type": "stream",
     "text": [
      "Node 004+032\n",
      "\t Child: 032+033\n",
      "\t\tProto:0 031:(0.64) 032:(0.9861) 033:(0.9767) \n",
      "\t\tProto:1 031:(0.955) 032:(0.9973) 033:(0.9998) \n",
      "\t\tProto:2 031:(0.9066) 032:(0.6783) 033:(0.6539) \n",
      "\t\tProto:4 031:(0.9999) 032:(0.9999) 033:(0.9947) \n",
      "\t\tProto:6 031:(0.9708) 032:(0.9904) 033:(0.997) \n",
      "\t\tProto:7 031:(0.9678) 032:(0.9882) 033:(0.9882) \n",
      "\t\tProto:8 031:(0.8236) 032:(0.9993) 033:(0.994) \n",
      "\t\tProto:10 031:(0.6821) 032:(0.429) 033:(0.5492) \n",
      "\t\tProto:12 031:(0.1021) 032:(0.9885) 033:(0.9915) \n",
      "\t\tProto:17 031:(0.9986) 032:(0.4277) 033:(0.7704) \n",
      "\t\tProto:18 031:(0.9996) 032:(0.884) 033:(0.9976) \n",
      "\t\tProto:19 031:(0.9998) 032:(0.3546) 033:(0.9992) \n"
     ]
    },
    {
     "name": "stderr",
     "output_type": "stream",
     "text": [
      "Collecting topk: 300it [00:06, 43.00it/s]  \n"
     ]
    },
    {
     "name": "stdout",
     "output_type": "stream",
     "text": [
      "Node 086+045\n",
      "\t Child: 045+101\n",
      "\t\tProto:1 001:(0.9327) 002:(0.941) 003:(0.6165) 023:(0.1006) 024:(0.0545) 025:(0.1164) 045:(0.0277) 100:(0.9982) 101:(0.9943) \n",
      "\t\tProto:3 001:(0.9871) 002:(0.9961) 003:(0.9793) 023:(0.006) 024:(0.0688) 025:(0.0848) 045:(0.9348) 100:(0.1786) 101:(0.5683) \n",
      "\t\tProto:4 001:(0.2581) 002:(0.1579) 003:(0.0572) 023:(0.9996) 024:(1.0) 025:(0.9996) 045:(0.0904) 100:(0.8984) 101:(0.9998) \n",
      "\t\tProto:5 001:(0.9754) 002:(0.5064) 003:(0.0269) 023:(0.8366) 024:(0.9513) 025:(0.2006) 045:(0.1196) 100:(0.6982) 101:(0.9986) \n",
      "\t\tProto:6 001:(0.8895) 002:(0.8011) 003:(0.6659) 023:(0.9614) 024:(0.9995) 025:(0.9979) 045:(0.446) 100:(0.0988) 101:(0.1436) \n",
      "\t\tProto:7 001:(0.6331) 002:(0.1676) 003:(0.1906) 023:(0.8305) 024:(0.9333) 025:(0.9915) 045:(0.2363) 100:(0.0119) 101:(0.0267) \n",
      "\t\tProto:8 001:(0.44) 002:(0.6423) 003:(0.9982) 023:(0.08) 024:(0.0763) 025:(0.2964) 045:(0.9822) 100:(0.0187) 101:(0.1119) \n",
      "\t\tProto:10 001:(0.984) 002:(0.7038) 003:(0.827) 023:(0.1629) 024:(0.0555) 025:(0.1373) 045:(0.4367) 100:(0.9297) 101:(0.908) \n",
      "\t\tProto:12 001:(0.9548) 002:(0.8434) 003:(0.9546) 023:(0.9209) 024:(0.6231) 025:(0.6304) 045:(0.7392) 100:(0.6956) 101:(0.5209) \n",
      "\t\tProto:13 001:(0.0741) 002:(0.1265) 003:(0.1622) 023:(0.9828) 024:(0.9946) 025:(0.9939) 045:(0.0334) 100:(0.2586) 101:(0.0807) \n",
      "\t\tProto:14 001:(0.9905) 002:(0.9957) 003:(0.5297) 023:(0.1434) 024:(0.0821) 025:(0.3413) 045:(0.402) 100:(0.9965) 101:(0.9962) \n",
      "\t\tProto:15 001:(0.7566) 002:(0.9995) 003:(0.4178) 023:(0.0129) 024:(0.0367) 025:(0.0503) 045:(0.9611) 100:(0.9751) 101:(0.8966) \n",
      "\t\tProto:16 001:(0.0436) 002:(0.7709) 003:(0.9952) 023:(0.3687) 024:(0.0444) 025:(0.0237) 045:(0.997) 100:(0.0193) 101:(0.2638) \n",
      "\t\tProto:17 001:(0.9259) 002:(0.8788) 003:(0.134) 023:(0.0339) 024:(0.9792) 025:(0.0586) 045:(0.7367) 100:(0.0168) 101:(0.1748) \n",
      "\t\tProto:18 001:(0.1447) 002:(0.207) 003:(0.3254) 023:(0.1415) 024:(0.5348) 025:(0.8657) 045:(0.0453) 100:(0.1473) 101:(0.046) \n",
      "\t\tProto:19 001:(0.2008) 002:(0.2042) 003:(0.0192) 023:(0.9863) 024:(0.86) 025:(0.9497) 045:(0.0355) 100:(0.7805) 101:(0.0589) \n"
     ]
    },
    {
     "name": "stderr",
     "output_type": "stream",
     "text": [
      "Collecting topk: 90it [00:03, 25.70it/s]   \n"
     ]
    },
    {
     "name": "stdout",
     "output_type": "stream",
     "text": [
      "Node 032+033\n",
      "\t Child: 033+031\n",
      "\t\tProto:0 031:(0.9866) 033:(0.9539) \n",
      "\t\tProto:1 031:(0.9551) 033:(0.9908) \n",
      "\t\tProto:3 031:(0.9999) 033:(0.9987) \n",
      "\t\tProto:6 031:(0.9949) 033:(0.9947) \n",
      "\t\tProto:15 031:(0.9619) 033:(0.9306) \n",
      "\t\tProto:17 031:(0.9817) 033:(0.9623) \n",
      "\t\tProto:18 031:(0.8603) 033:(0.6436) \n",
      "\t\tProto:19 031:(0.9826) 033:(0.9972) \n"
     ]
    },
    {
     "name": "stderr",
     "output_type": "stream",
     "text": [
      "Collecting topk: 270it [00:06, 38.99it/s]\n"
     ]
    },
    {
     "name": "stdout",
     "output_type": "stream",
     "text": [
      "Node 045+101\n",
      "\t Child: 101+023\n",
      "\t\tProto:0 023:(0.0884) 024:(0.1109) 025:(0.1002) 100:(0.9923) 101:(1.0) \n",
      "\t\tProto:1 023:(0.9936) 024:(0.9795) 025:(0.9858) 100:(0.7331) 101:(0.0788) \n",
      "\t\tProto:2 023:(0.5907) 024:(0.0124) 025:(0.2712) 100:(0.9996) 101:(0.9977) \n",
      "\t\tProto:3 023:(0.9828) 024:(0.9984) 025:(0.9839) 100:(0.0434) 101:(0.1284) \n",
      "\t\tProto:4 023:(0.7218) 024:(0.936) 025:(0.944) 100:(0.0027) 101:(0.0117) \n",
      "\t\tProto:6 023:(0.5329) 024:(0.9976) 025:(0.1815) 100:(0.9976) 101:(0.9987) \n",
      "\t\tProto:7 023:(0.9738) 024:(0.9996) 025:(0.9996) 100:(0.0839) 101:(0.0534) \n",
      "\t\tProto:8 023:(0.9964) 024:(0.9385) 025:(0.977) 100:(0.9199) 101:(0.9903) \n",
      "\t\tProto:17 023:(0.9531) 024:(0.9808) 025:(0.9845) 100:(0.4185) 101:(0.0421) \n",
      "\t\tProto:19 023:(0.9837) 024:(0.7099) 025:(0.9314) 100:(0.1956) 101:(0.6811) \n",
      "\t Child: 045+003\n",
      "\t\tProto:5 001:(0.9969) 002:(0.9802) 003:(0.9992) 045:(0.9575) \n",
      "\t\tProto:9 001:(0.9813) 002:(0.973) 003:(0.5236) 045:(0.7514) \n",
      "\t\tProto:10 001:(0.5372) 002:(0.9549) 003:(0.9987) 045:(0.9757) \n",
      "\t\tProto:11 001:(0.9957) 002:(0.6432) 003:(0.0556) 045:(0.8602) \n",
      "\t\tProto:13 001:(0.9174) 002:(0.9847) 003:(0.9907) 045:(0.8501) \n",
      "\t\tProto:16 001:(0.9875) 002:(0.9973) 003:(0.1844) 045:(0.8729) \n",
      "\t\tProto:18 001:(0.9903) 002:(0.8374) 003:(0.9986) 045:(0.975) \n"
     ]
    },
    {
     "name": "stderr",
     "output_type": "stream",
     "text": [
      "Collecting topk: 120it [00:03, 30.15it/s]  \n"
     ]
    },
    {
     "name": "stdout",
     "output_type": "stream",
     "text": [
      "Node 045+003\n",
      "\t Child: 003+002\n",
      "\t\tProto:1 001:(0.9996) 002:(0.9999) 003:(0.9901) \n",
      "\t\tProto:2 001:(0.9988) 002:(0.3342) 003:(0.9992) \n",
      "\t\tProto:6 001:(0.9782) 002:(0.9997) 003:(0.5232) \n",
      "\t\tProto:8 001:(0.9862) 002:(0.9897) 003:(0.7589) \n",
      "\t\tProto:9 001:(0.9983) 002:(0.9504) 003:(0.9744) \n",
      "\t\tProto:10 001:(0.8371) 002:(0.769) 003:(0.8623) \n",
      "\t\tProto:12 001:(0.4241) 002:(0.9991) 003:(0.9808) \n",
      "\t\tProto:13 001:(0.9967) 002:(0.9814) 003:(0.8451) \n",
      "\t\tProto:17 001:(0.951) 002:(0.8812) 003:(0.989) \n",
      "\t\tProto:18 001:(0.9991) 002:(0.9703) 003:(0.9935) \n",
      "\t\tProto:19 001:(0.5967) 002:(0.9663) 003:(0.8627) \n"
     ]
    },
    {
     "name": "stderr",
     "output_type": "stream",
     "text": [
      "Collecting topk: 150it [00:04, 30.04it/s]\n"
     ]
    },
    {
     "name": "stdout",
     "output_type": "stream",
     "text": [
      "Node 101+023\n",
      "\t Child: 023+025\n",
      "\t\tProto:2 023:(0.9925) 024:(0.9999) 025:(0.994) \n",
      "\t\tProto:4 023:(0.6459) 024:(0.9943) 025:(0.9398) \n",
      "\t\tProto:9 023:(0.9866) 024:(0.9997) 025:(0.9869) \n",
      "\t\tProto:10 023:(0.9657) 024:(0.8642) 025:(0.999) \n",
      "\t\tProto:11 023:(0.9872) 024:(0.9962) 025:(0.9848) \n",
      "\t\tProto:13 023:(0.9906) 024:(0.998) 025:(0.9948) \n",
      "\t\tProto:16 023:(0.9859) 024:(0.9008) 025:(0.9961) \n",
      "\t\tProto:17 023:(0.9868) 024:(0.9455) 025:(0.9972) \n",
      "\t\tProto:18 023:(0.9992) 024:(0.9999) 025:(0.9904) \n",
      "\t\tProto:19 023:(0.9889) 024:(0.9981) 025:(0.983) \n",
      "\t Child: 101+100\n",
      "\t\tProto:5 100:(0.9682) 101:(0.963) \n",
      "\t\tProto:6 100:(0.9994) 101:(0.9997) \n",
      "\t\tProto:7 100:(0.9998) 101:(0.9992) \n",
      "\t\tProto:14 100:(0.9957) 101:(0.9989) \n",
      "\t\tProto:15 100:(0.973) 101:(1.0) \n"
     ]
    },
    {
     "name": "stderr",
     "output_type": "stream",
     "text": [
      "Collecting topk: 90it [00:03, 25.72it/s]   \n"
     ]
    },
    {
     "name": "stdout",
     "output_type": "stream",
     "text": [
      "Node 003+002\n",
      "\t Child: 002+001\n",
      "\t\tProto:0 001:(0.9997) 002:(0.9968) \n",
      "\t\tProto:3 001:(0.9994) 002:(0.9977) \n",
      "\t\tProto:8 001:(0.9884) 002:(0.9832) \n",
      "\t\tProto:9 001:(0.9913) 002:(0.9616) \n",
      "\t\tProto:12 001:(0.9986) 002:(0.9928) \n",
      "\t\tProto:13 001:(0.9929) 002:(0.9881) \n",
      "\t\tProto:17 001:(0.9883) 002:(0.9697) \n",
      "\t\tProto:18 001:(0.967) 002:(0.9936) \n"
     ]
    },
    {
     "name": "stderr",
     "output_type": "stream",
     "text": [
      "Collecting topk: 90it [00:03, 25.78it/s]   "
     ]
    },
    {
     "name": "stdout",
     "output_type": "stream",
     "text": [
      "Node 023+025\n",
      "\t Child: 025+024\n",
      "\t\tProto:5 024:(0.8877) 025:(0.9721) \n",
      "\t\tProto:7 024:(0.9997) 025:(0.9806) \n",
      "\t\tProto:9 024:(0.9961) 025:(0.9071) \n",
      "\t\tProto:10 024:(0.9947) 025:(0.9869) \n",
      "\t\tProto:14 024:(0.9997) 025:(0.9982) \n",
      "\t\tProto:15 024:(0.9834) 025:(0.8558) \n",
      "\t\tProto:16 024:(0.9996) 025:(0.9967) \n"
     ]
    },
    {
     "name": "stderr",
     "output_type": "stream",
     "text": [
      "\n"
     ]
    }
   ],
   "source": [
    "# Proto activations on leaf descendents - topk image-activations\n",
    "\n",
    "from util.data import ModifiedLabelLoader\n",
    "from collections import defaultdict\n",
    "import heapq\n",
    "import pdb\n",
    "\n",
    "topk = 10\n",
    "\n",
    "def get_heap():\n",
    "    list_ = []\n",
    "    heapq.heapify(list_)\n",
    "    return list_\n",
    "\n",
    "\n",
    "for node in root.nodes_with_children():\n",
    "    if node.name == 'root':\n",
    "        continue\n",
    "    non_leaf_children_names = [child.name for child in node.children if not child.is_leaf()]\n",
    "    if len(non_leaf_children_names) == 0: # if all the children are leaf nodes then skip this node\n",
    "        continue\n",
    "\n",
    "    name2label = projectloader.dataset.class_to_idx\n",
    "    label2name = {label:name for name, label in name2label.items()}\n",
    "    modifiedLabelLoader = ModifiedLabelLoader(projectloader, node)\n",
    "    coarse_label2name = modifiedLabelLoader.modifiedlabel2name\n",
    "    node_label_to_children = {label: name for name, label in node.children_to_labels.items()}\n",
    "\n",
    "    img_iter = tqdm(enumerate(modifiedLabelLoader),\n",
    "                    total=len(modifiedLabelLoader),\n",
    "                    mininterval=50.,\n",
    "                    desc='Collecting topk',\n",
    "                    ncols=0)\n",
    "\n",
    "    classification_weights = getattr(net.module, '_'+node.name+'_classification').weight\n",
    "    \n",
    "    # maps proto_number -> grand_child_name (or descendant leaf name) -> list of top-k activations\n",
    "    proto_mean_activations = defaultdict(lambda: defaultdict(get_heap))\n",
    "\n",
    "    # maps class names to the prototypes that belong to that\n",
    "    class_and_prototypes = defaultdict(set)\n",
    "\n",
    "    for i, (xs, orig_y, ys) in img_iter:\n",
    "        if coarse_label2name[ys.item()] not in non_leaf_children_names:\n",
    "            continue\n",
    "\n",
    "        xs, ys = xs.to(device), ys.to(device)\n",
    "\n",
    "        with torch.no_grad():\n",
    "            pfs, pooled, _ = net(xs, inference=False)\n",
    "            pooled = pooled[node.name].squeeze(0) \n",
    "            pfs = pfs[node.name].squeeze(0)\n",
    "\n",
    "            for p in range(pooled.shape[0]): # pooled.shape -> [768] (== num of prototypes)\n",
    "                c_weight = torch.max(classification_weights[:,p]) # classification_weights[:,p].shape -> [200] (== num of classes)\n",
    "                relevant_proto_classes = torch.nonzero(classification_weights[:, p] > 1e-3)\n",
    "                relevant_proto_class_names = [node_label_to_children[class_idx.item()] for class_idx in relevant_proto_classes]\n",
    "\n",
    "                if len(relevant_proto_class_names) == 0:\n",
    "                    continue\n",
    "                \n",
    "                if (len(relevant_proto_class_names) == 1) and (relevant_proto_class_names[0] not in non_leaf_children_names):\n",
    "                    continue\n",
    "                \n",
    "                if (coarse_label2name[ys.item()] in relevant_proto_class_names):\n",
    "                    child_node = root.get_node(coarse_label2name[ys.item()])\n",
    "                    leaf_descendent = label2name[orig_y.item()][4:7]\n",
    "                    if topk and (len(proto_mean_activations[p][leaf_descendent]) > topk):\n",
    "                        heapq.heappushpop(proto_mean_activations[p][leaf_descendent], pooled[p].item())\n",
    "                    else:\n",
    "                        heapq.heappush(proto_mean_activations[p][leaf_descendent], pooled[p].item())\n",
    "\n",
    "                class_and_prototypes[', '.join(relevant_proto_class_names)].add(p)\n",
    "\n",
    "    \n",
    "    print('Node', node.name)\n",
    "    for child_classname in class_and_prototypes:\n",
    "        print('\\t'*1, 'Child:', child_classname)\n",
    "        for p in class_and_prototypes[child_classname]:\n",
    "            logstr = '\\t'*2 + f'Proto:{p} '\n",
    "            for leaf_descendent in proto_mean_activations[p]:\n",
    "                mean_activation = round(np.mean(proto_mean_activations[p][leaf_descendent]), 4)\n",
    "                num_images = len(proto_mean_activations[p][leaf_descendent])\n",
    "                logstr += f'{leaf_descendent}:({mean_activation}) '\n",
    "            print(logstr)\n"
   ]
  },
  {
   "cell_type": "code",
   "execution_count": 5,
   "metadata": {},
   "outputs": [
    {
     "name": "stderr",
     "output_type": "stream",
     "text": [
      "Collecting topk: 120it [00:06, 18.45it/s]  \n"
     ]
    },
    {
     "name": "stdout",
     "output_type": "stream",
     "text": [
      "Node 052+053\n",
      "\t Child: 053+050\n",
      "\t\tProto:3 050:(0.3464) 051:(0.6158) 053:(0.9803) \n",
      "\t\tProto:4 050:(0.4718) 051:(0.9664) 053:(0.7302) \n",
      "\t\tProto:9 050:(0.9336) 051:(0.9558) 053:(0.869) \n",
      "\t\tProto:13 050:(0.8444) 051:(0.8137) 053:(0.9754) \n",
      "\t\tProto:16 050:(0.5757) 051:(0.9762) 053:(0.3438) \n",
      "\t\tProto:17 050:(0.3427) 051:(0.6701) 053:(0.9977) \n",
      "\t\tProto:19 050:(0.8315) 051:(0.9786) 053:(0.9491) \n"
     ]
    },
    {
     "name": "stderr",
     "output_type": "stream",
     "text": [
      "Collecting topk: 420it [00:07, 52.73it/s]\n"
     ]
    },
    {
     "name": "stdout",
     "output_type": "stream",
     "text": [
      "Node 004+086\n",
      "\t Child: 086+045\n",
      "\t\tProto:1 001:(0.997) 002:(0.9861) 003:(0.9936) 023:(0.9999) 024:(0.9999) 025:(0.9987) 045:(0.2214) 086:(0.9653) 100:(0.9999) 101:(0.9995) \n",
      "\t\tProto:18 001:(0.9511) 002:(0.9459) 003:(0.8654) 023:(0.0904) 024:(0.9998) 025:(0.061) 045:(0.9785) 086:(0.1054) 100:(0.247) 101:(0.9468) \n",
      "\t\tProto:11 001:(0.8843) 002:(0.9048) 003:(0.7592) 023:(0.9984) 024:(0.9844) 025:(0.9582) 045:(0.0544) 086:(0.9767) 100:(0.9973) 101:(0.9909) \n",
      "\t\tProto:17 001:(0.9986) 002:(0.9951) 003:(0.9996) 023:(0.995) 024:(0.9408) 025:(0.9991) 045:(0.9894) 086:(0.999) 100:(0.9932) 101:(0.9898) \n",
      "\t Child: 004+032\n",
      "\t\tProto:3 004:(0.936) 031:(0.9947) 032:(0.9794) 033:(0.9955) \n",
      "\t\tProto:6 004:(0.0015) 031:(0.9117) 032:(0.0052) 033:(0.5998) \n",
      "\t\tProto:8 004:(0.297) 031:(0.9245) 032:(0.9603) 033:(0.9758) \n",
      "\t\tProto:9 004:(0.8504) 031:(0.9794) 032:(0.996) 033:(0.9823) \n",
      "\t\tProto:14 004:(0.0786) 031:(0.8891) 032:(0.8984) 033:(0.8614) \n"
     ]
    },
    {
     "name": "stderr",
     "output_type": "stream",
     "text": [
      "Collecting topk: 90it [00:01, 48.00it/s]   \n"
     ]
    },
    {
     "name": "stdout",
     "output_type": "stream",
     "text": [
      "Node 053+050\n",
      "\t Child: 050+051\n",
      "\t\tProto:0 050:(0.5434) 051:(0.8272) \n",
      "\t\tProto:3 050:(0.6736) 051:(0.8731) \n",
      "\t\tProto:6 050:(0.9505) 051:(0.9439) \n",
      "\t\tProto:16 050:(0.4022) 051:(0.7834) \n",
      "\t\tProto:18 050:(0.8933) 051:(0.9742) \n",
      "\t\tProto:19 050:(0.64) 051:(0.9804) \n"
     ]
    },
    {
     "name": "stderr",
     "output_type": "stream",
     "text": [
      "Collecting topk: 120it [00:02, 49.93it/s]  \n"
     ]
    },
    {
     "name": "stdout",
     "output_type": "stream",
     "text": [
      "Node 004+032\n",
      "\t Child: 032+033\n",
      "\t\tProto:0 031:(0.9946) 032:(0.2255) 033:(0.9786) \n",
      "\t\tProto:2 031:(0.6317) 032:(0.921) 033:(0.891) \n",
      "\t\tProto:4 031:(0.3886) 032:(0.9971) 033:(0.9556) \n",
      "\t\tProto:6 031:(0.9643) 032:(0.9706) 033:(0.9453) \n",
      "\t\tProto:8 031:(0.9422) 032:(0.9908) 033:(0.5566) \n",
      "\t\tProto:12 031:(0.9926) 032:(0.2122) 033:(0.9493) \n",
      "\t\tProto:18 031:(0.999) 032:(0.9799) 033:(0.9909) \n",
      "\t\tProto:19 031:(0.9511) 032:(0.9913) 033:(0.994) \n"
     ]
    },
    {
     "name": "stderr",
     "output_type": "stream",
     "text": [
      "Collecting topk: 300it [00:05, 55.90it/s]  \n"
     ]
    },
    {
     "name": "stdout",
     "output_type": "stream",
     "text": [
      "Node 086+045\n",
      "\t Child: 045+101\n",
      "\t\tProto:1 001:(0.9694) 002:(0.9954) 003:(0.4557) 023:(0.1847) 024:(0.1629) 025:(0.1749) 045:(0.0118) 100:(0.9997) 101:(0.9998) \n",
      "\t\tProto:3 001:(0.9738) 002:(0.6426) 003:(0.8052) 023:(0.0736) 024:(0.0238) 025:(0.3743) 045:(0.9203) 100:(0.0617) 101:(0.1105) \n",
      "\t\tProto:5 001:(0.9981) 002:(0.9853) 003:(0.9952) 023:(0.0175) 024:(0.0031) 025:(0.019) 045:(0.9933) 100:(0.1009) 101:(0.0401) \n",
      "\t\tProto:7 001:(0.1498) 002:(0.7044) 003:(0.2562) 023:(0.0846) 024:(0.0271) 025:(0.0557) 045:(0.1921) 100:(0.9525) 101:(0.9796) \n",
      "\t\tProto:8 001:(0.4193) 002:(0.3736) 003:(0.5577) 023:(0.981) 024:(0.9617) 025:(0.9983) 045:(0.2218) 100:(0.1905) 101:(0.0393) \n",
      "\t\tProto:10 001:(0.0179) 002:(0.0211) 003:(0.114) 023:(0.9985) 024:(0.9984) 025:(0.9936) 045:(0.0038) 100:(0.8938) 101:(0.1344) \n",
      "\t\tProto:12 001:(0.9929) 002:(0.986) 003:(0.9208) 023:(0.8328) 024:(0.4864) 025:(0.7231) 045:(0.1525) 100:(0.2511) 101:(0.0645) \n",
      "\t\tProto:13 001:(0.1469) 002:(0.019) 003:(0.0366) 023:(0.9996) 024:(0.9982) 025:(0.9976) 045:(0.0014) 100:(0.2073) 101:(0.0562) \n",
      "\t\tProto:14 001:(0.1653) 002:(0.0033) 003:(0.0104) 023:(0.0935) 024:(0.0803) 025:(0.1875) 045:(0.0558) 100:(0.9919) 101:(0.9947) \n",
      "\t\tProto:15 001:(0.5072) 002:(0.9338) 003:(0.1737) 023:(0.1329) 024:(0.3461) 025:(0.2578) 045:(0.0105) 100:(0.9962) 101:(0.9993) \n",
      "\t\tProto:16 001:(0.7519) 002:(0.2614) 003:(0.7874) 023:(0.0544) 024:(0.8813) 025:(0.0982) 045:(0.1164) 100:(0.8978) 101:(0.5895) \n",
      "\t\tProto:18 001:(0.9229) 002:(0.8493) 003:(0.9989) 023:(0.0205) 024:(0.006) 025:(0.0209) 045:(0.8169) 100:(0.0131) 101:(0.0077) \n",
      "\t\tProto:19 001:(0.5218) 002:(0.9378) 003:(0.1075) 023:(0.0769) 024:(0.9996) 025:(0.0351) 045:(0.7655) 100:(0.1308) 101:(0.9615) \n"
     ]
    },
    {
     "name": "stderr",
     "output_type": "stream",
     "text": [
      "Collecting topk: 90it [00:01, 47.84it/s]   \n"
     ]
    },
    {
     "name": "stdout",
     "output_type": "stream",
     "text": [
      "Node 032+033\n",
      "\t Child: 033+031\n",
      "\t\tProto:0 031:(0.9944) 033:(0.9712) \n",
      "\t\tProto:1 031:(0.9883) 033:(0.9595) \n",
      "\t\tProto:3 031:(0.9997) 033:(0.9985) \n",
      "\t\tProto:19 031:(0.9955) 033:(0.9681) \n"
     ]
    },
    {
     "name": "stderr",
     "output_type": "stream",
     "text": [
      "Collecting topk: 270it [00:05, 52.25it/s]\n"
     ]
    },
    {
     "name": "stdout",
     "output_type": "stream",
     "text": [
      "Node 045+101\n",
      "\t Child: 101+023\n",
      "\t\tProto:1 023:(0.9774) 024:(0.9969) 025:(0.9851) 100:(0.9916) 101:(0.9987) \n",
      "\t\tProto:2 023:(0.206) 024:(0.0357) 025:(0.4072) 100:(0.9885) 101:(0.9857) \n",
      "\t\tProto:6 023:(0.9972) 024:(0.9954) 025:(0.9729) 100:(0.9892) 101:(0.997) \n",
      "\t\tProto:7 023:(0.0921) 024:(0.1993) 025:(0.087) 100:(0.9921) 101:(0.9981) \n",
      "\t\tProto:8 023:(0.9961) 024:(0.9862) 025:(0.9989) 100:(0.9986) 101:(0.9994) \n",
      "\t\tProto:19 023:(0.9874) 024:(0.9995) 025:(0.9948) 100:(0.0276) 101:(0.0021) \n",
      "\t Child: 045+003\n",
      "\t\tProto:5 001:(0.9985) 002:(0.9964) 003:(0.9994) 045:(0.992) \n",
      "\t\tProto:9 001:(0.9865) 002:(0.7353) 003:(0.9954) 045:(0.9459) \n",
      "\t\tProto:10 001:(0.979) 002:(0.9684) 003:(0.9944) 045:(0.8819) \n",
      "\t\tProto:13 001:(0.9649) 002:(0.9965) 003:(0.9903) 045:(0.9912) \n",
      "\t\tProto:16 001:(0.9965) 002:(0.9996) 003:(0.915) 045:(0.7945) \n"
     ]
    },
    {
     "name": "stderr",
     "output_type": "stream",
     "text": [
      "Collecting topk: 120it [00:02, 49.16it/s]  \n"
     ]
    },
    {
     "name": "stdout",
     "output_type": "stream",
     "text": [
      "Node 045+003\n",
      "\t Child: 003+002\n",
      "\t\tProto:1 001:(0.8833) 002:(0.9829) 003:(0.9798) \n",
      "\t\tProto:2 001:(0.9785) 002:(0.8876) 003:(0.8433) \n",
      "\t\tProto:6 001:(0.7035) 002:(0.8692) 003:(0.8956) \n",
      "\t\tProto:7 001:(0.8719) 002:(0.9192) 003:(0.7222) \n",
      "\t\tProto:9 001:(0.9802) 002:(0.9616) 003:(0.8611) \n",
      "\t\tProto:11 001:(0.7903) 002:(0.8737) 003:(0.9919) \n",
      "\t\tProto:13 001:(0.9946) 002:(0.6873) 003:(0.912) \n",
      "\t\tProto:17 001:(0.9968) 002:(0.9975) 003:(0.9804) \n",
      "\t\tProto:18 001:(0.9768) 002:(0.9807) 003:(0.9698) \n"
     ]
    },
    {
     "name": "stderr",
     "output_type": "stream",
     "text": [
      "Collecting topk: 150it [00:03, 43.42it/s]\n"
     ]
    },
    {
     "name": "stdout",
     "output_type": "stream",
     "text": [
      "Node 101+023\n",
      "\t Child: 023+025\n",
      "\t\tProto:4 023:(0.9786) 024:(0.9956) 025:(0.9881) \n",
      "\t\tProto:9 023:(0.9653) 024:(0.9989) 025:(0.9683) \n",
      "\t\tProto:10 023:(0.9862) 024:(0.9992) 025:(0.9704) \n",
      "\t\tProto:11 023:(0.9759) 024:(0.9829) 025:(0.9649) \n",
      "\t\tProto:12 023:(0.87) 024:(0.8798) 025:(0.9419) \n",
      "\t\tProto:13 023:(0.9865) 024:(0.9798) 025:(0.9961) \n",
      "\t\tProto:18 023:(0.9989) 024:(0.9985) 025:(0.9949) \n",
      "\t Child: 101+100\n",
      "\t\tProto:15 100:(0.9955) 101:(0.999) \n",
      "\t\tProto:5 100:(0.9992) 101:(0.9994) \n",
      "\t\tProto:6 100:(0.9998) 101:(1.0) \n",
      "\t\tProto:7 100:(0.9996) 101:(0.9992) \n"
     ]
    },
    {
     "name": "stderr",
     "output_type": "stream",
     "text": [
      "Collecting topk: 90it [00:01, 48.76it/s]   \n"
     ]
    },
    {
     "name": "stdout",
     "output_type": "stream",
     "text": [
      "Node 003+002\n",
      "\t Child: 002+001\n",
      "\t\tProto:0 001:(0.9903) 002:(0.9978) \n",
      "\t\tProto:9 001:(0.9635) 002:(0.9451) \n",
      "\t\tProto:12 001:(0.9817) 002:(0.9971) \n",
      "\t\tProto:13 001:(0.9974) 002:(0.9977) \n",
      "\t\tProto:17 001:(0.9991) 002:(0.9098) \n"
     ]
    },
    {
     "name": "stderr",
     "output_type": "stream",
     "text": [
      "Collecting topk: 90it [00:01, 47.20it/s]   \n"
     ]
    },
    {
     "name": "stdout",
     "output_type": "stream",
     "text": [
      "Node 023+025\n",
      "\t Child: 025+024\n",
      "\t\tProto:0 024:(0.9801) 025:(0.9024) \n",
      "\t\tProto:6 024:(0.9964) 025:(0.9902) \n",
      "\t\tProto:7 024:(0.9901) 025:(0.8848) \n",
      "\t\tProto:9 024:(0.9991) 025:(0.9839) \n",
      "\t\tProto:10 024:(0.9988) 025:(0.7854) \n",
      "\t\tProto:11 024:(0.9925) 025:(0.9013) \n",
      "\t\tProto:14 024:(0.9985) 025:(0.9131) \n"
     ]
    }
   ],
   "source": [
    "# Proto activations on leaf descendents - topk images\n",
    "\n",
    "from util.data import ModifiedLabelLoader\n",
    "from collections import defaultdict\n",
    "import heapq\n",
    "import pdb\n",
    "from util.vis_pipnet import get_img_coordinates\n",
    "import torchvision.transforms as transforms\n",
    "from PIL import Image, ImageDraw as D\n",
    "import torchvision\n",
    "\n",
    "topk = 10\n",
    "save_images = True\n",
    "\n",
    "def get_heap():\n",
    "    list_ = []\n",
    "    heapq.heapify(list_)\n",
    "    return list_\n",
    "\n",
    "patchsize, skip = get_patch_size(args)\n",
    "\n",
    "for node in root.nodes_with_children():\n",
    "    if node.name == 'root':\n",
    "        continue\n",
    "    non_leaf_children_names = [child.name for child in node.children if not child.is_leaf()]\n",
    "    if len(non_leaf_children_names) == 0: # if all the children are leaf nodes then skip this node\n",
    "        continue\n",
    "\n",
    "    name2label = projectloader.dataset.class_to_idx\n",
    "    label2name = {label:name for name, label in name2label.items()}\n",
    "    modifiedLabelLoader = ModifiedLabelLoader(projectloader, node)\n",
    "    coarse_label2name = modifiedLabelLoader.modifiedlabel2name\n",
    "    node_label_to_children = {label: name for name, label in node.children_to_labels.items()}\n",
    "    \n",
    "    imgs = modifiedLabelLoader.filtered_imgs\n",
    "\n",
    "    img_iter = tqdm(enumerate(modifiedLabelLoader),\n",
    "                    total=len(modifiedLabelLoader),\n",
    "                    mininterval=50.,\n",
    "                    desc='Collecting topk',\n",
    "                    ncols=0)\n",
    "\n",
    "    classification_weights = getattr(net.module, '_'+node.name+'_classification').weight\n",
    "    \n",
    "    # maps proto_number -> grand_child_name (or descendant leaf name) -> list of top-k activations\n",
    "    proto_mean_activations = defaultdict(lambda: defaultdict(get_heap))\n",
    "\n",
    "    # maps class names to the prototypes that belong to that\n",
    "    class_and_prototypes = defaultdict(set)\n",
    "\n",
    "    for i, (xs, orig_y, ys) in img_iter:\n",
    "        if coarse_label2name[ys.item()] not in non_leaf_children_names:\n",
    "            continue\n",
    "\n",
    "        xs, ys = xs.to(device), ys.to(device)\n",
    "\n",
    "        with torch.no_grad():\n",
    "            softmaxes, pooled, _ = net(xs, inference=False)\n",
    "            pooled = pooled[node.name].squeeze(0) \n",
    "            softmaxes = softmaxes[node.name]#.squeeze(0)\n",
    "\n",
    "            for p in range(pooled.shape[0]): # pooled.shape -> [768] (== num of prototypes)\n",
    "                c_weight = torch.max(classification_weights[:,p]) # classification_weights[:,p].shape -> [200] (== num of classes)\n",
    "                relevant_proto_classes = torch.nonzero(classification_weights[:, p] > 1e-3)\n",
    "                relevant_proto_class_names = [node_label_to_children[class_idx.item()] for class_idx in relevant_proto_classes]\n",
    "                \n",
    "                # Take the max per prototype.                             \n",
    "                max_per_prototype, max_idx_per_prototype = torch.max(softmaxes, dim=0)\n",
    "                max_per_prototype_h, max_idx_per_prototype_h = torch.max(max_per_prototype, dim=1)\n",
    "                max_per_prototype_w, max_idx_per_prototype_w = torch.max(max_per_prototype_h, dim=1) #shape (num_prototypes)\n",
    "                \n",
    "                h_idx = max_idx_per_prototype_h[p, max_idx_per_prototype_w[p]]\n",
    "                w_idx = max_idx_per_prototype_w[p]\n",
    "\n",
    "                if len(relevant_proto_class_names) == 0:\n",
    "                    continue\n",
    "                \n",
    "                if (len(relevant_proto_class_names) == 1) and (relevant_proto_class_names[0] not in non_leaf_children_names):\n",
    "                    continue\n",
    "                    \n",
    "                h_coor_min, h_coor_max, w_coor_min, w_coor_max = get_img_coordinates(args.image_size, softmaxes.shape, patchsize, skip, h_idx, w_idx)\n",
    "                \n",
    "                if (coarse_label2name[ys.item()] in relevant_proto_class_names):\n",
    "                    child_node = root.get_node(coarse_label2name[ys.item()])\n",
    "                    leaf_descendent = label2name[orig_y.item()][4:7]\n",
    "                    img_to_open = imgs[i][0] # it is a tuple of (path to image, lable)\n",
    "                    if topk and (len(proto_mean_activations[p][leaf_descendent]) > topk):\n",
    "                        heapq.heappushpop(proto_mean_activations[p][leaf_descendent], (pooled[p].item(), img_to_open, (h_coor_min, h_coor_max, w_coor_min, w_coor_max)))\n",
    "                    else:\n",
    "                        heapq.heappush(proto_mean_activations[p][leaf_descendent], (pooled[p].item(), img_to_open, (h_coor_min, h_coor_max, w_coor_min, w_coor_max)))\n",
    "\n",
    "                class_and_prototypes[', '.join(relevant_proto_class_names)].add(p)\n",
    "\n",
    "    \n",
    "    print('Node', node.name)\n",
    "    for child_classname in class_and_prototypes:\n",
    "        \n",
    "        print('\\t'*1, 'Child:', child_classname)\n",
    "        for p in class_and_prototypes[child_classname]:\n",
    "            \n",
    "            logstr = '\\t'*2 + f'Proto:{p} '\n",
    "            for leaf_descendent in proto_mean_activations[p]:\n",
    "                mean_activation = round(np.mean([activation for activation, *_ in proto_mean_activations[p][leaf_descendent]]), 4)\n",
    "                num_images = len(proto_mean_activations[p][leaf_descendent])\n",
    "                logstr += f'{leaf_descendent}:({mean_activation}) '\n",
    "            print(logstr)\n",
    "            \n",
    "            if save_images:\n",
    "                patches = []\n",
    "                right_descriptions = []\n",
    "                text_region_width = 7 # 7x the width of a patch\n",
    "                for leaf_descendent, heap in proto_mean_activations[p].items():\n",
    "                    heap = sorted(heap)[::-1]\n",
    "                    mean_activation = round(np.mean([activation for activation, *_ in proto_mean_activations[p][leaf_descendent]]), 4)\n",
    "                    for ele in heap:\n",
    "                        activation, img_to_open, (h_coor_min, h_coor_max, w_coor_min, w_coor_max) = ele\n",
    "                        image = transforms.Resize(size=(args.image_size, args.image_size))(Image.open(img_to_open))\n",
    "                        img_tensor = transforms.ToTensor()(image)#.unsqueeze_(0) #shape (1, 3, h, w)\n",
    "                        img_tensor_patch = img_tensor[:, h_coor_min:h_coor_max, w_coor_min:w_coor_max]\n",
    "                        patches.append(img_tensor_patch)\n",
    "\n",
    "                    # description on the right hand side\n",
    "                    text = f'{mean_activation}, {leaf_descendent}'\n",
    "                    txtimage = Image.new(\"RGB\", (patches[0].shape[-2]*text_region_width,patches[0].shape[-1]), (0, 0, 0))\n",
    "                    draw = D.Draw(txtimage)\n",
    "                    draw.text((5, patches[0].shape[1]//2), text, anchor='mm', fill=\"white\")\n",
    "                    txttensor = transforms.ToTensor()(txtimage)#.unsqueeze_(0)\n",
    "                    right_descriptions.append(txttensor)\n",
    "\n",
    "                grid = torchvision.utils.make_grid(patches, nrow=topk+1, padding=1)\n",
    "                grid_right_descriptions = torchvision.utils.make_grid(right_descriptions, nrow=1, padding=1)\n",
    "\n",
    "                # merging right description with the grid of images\n",
    "                grid = torch.cat([grid, grid_right_descriptions], dim=-1)\n",
    "\n",
    "                # description on the top\n",
    "                text = f'Node:{node.name}, p{p}, Child:{child_classname}'\n",
    "                txtimage = Image.new(\"RGB\", (grid.shape[-1], args.wshape), (0, 0, 0))\n",
    "                draw = D.Draw(txtimage)\n",
    "                draw.text((5, patches[0].shape[1]//2), text, anchor='mm', fill=\"white\")\n",
    "                txttensor = transforms.ToTensor()(txtimage)#.unsqueeze_(0)\n",
    "\n",
    "                # merging top description with the grid of images\n",
    "                grid = torch.cat([grid, txttensor], dim=1)\n",
    "\n",
    "                os.makedirs(os.path.join(run_path, 'descendent_specific_topk', node.name), exist_ok=True)\n",
    "                torchvision.utils.save_image(grid, os.path.join(run_path, 'descendent_specific_topk', node.name, f'{child_classname}-p{p}.png'))\n",
    "            "
   ]
  },
  {
   "cell_type": "code",
   "execution_count": 6,
   "metadata": {},
   "outputs": [
    {
     "name": "stderr",
     "output_type": "stream",
     "text": [
      "Collecting topk: 120it [00:02, 50.00it/s]  \n"
     ]
    },
    {
     "name": "stdout",
     "output_type": "stream",
     "text": [
      "Node 052+053\n",
      "\t Child: 053+050\n",
      "\t\tProto:3 050:(0.9529) 051:(1.6938) 053:(2.6966) \n",
      "\t\tProto:4 050:(0.967) 051:(1.9807) 053:(1.4966) \n",
      "\t\tProto:9 050:(2.6367) 051:(2.6995) 053:(2.4543) \n",
      "\t\tProto:13 050:(1.4765) 051:(1.4228) 053:(1.7056) \n",
      "\t\tProto:16 050:(1.8832) 051:(3.1936) 053:(1.1246) \n",
      "\t\tProto:17 050:(0.4404) 051:(0.8612) 053:(1.2822) \n",
      "\t\tProto:19 050:(3.4319) 051:(4.0389) 053:(3.9173) \n"
     ]
    },
    {
     "name": "stderr",
     "output_type": "stream",
     "text": [
      "Collecting topk: 420it [00:07, 54.07it/s]\n"
     ]
    },
    {
     "name": "stdout",
     "output_type": "stream",
     "text": [
      "Node 004+086\n",
      "\t Child: 086+045\n",
      "\t\tProto:1 001:(4.3188) 002:(4.2716) 003:(4.3041) 023:(4.3316) 024:(4.3317) 025:(4.3261) 045:(0.9593) 086:(4.1818) 100:(4.3315) 101:(4.3298) \n",
      "\t\tProto:18 001:(2.3883) 002:(2.3751) 003:(2.1731) 023:(0.227) 024:(2.5106) 025:(0.1532) 045:(2.4572) 086:(0.2646) 100:(0.6201) 101:(2.3774) \n",
      "\t\tProto:11 001:(2.9054) 002:(2.9728) 003:(2.4945) 023:(3.2803) 024:(3.2345) 025:(3.1484) 045:(0.1788) 086:(3.209) 100:(3.2767) 101:(3.2558) \n",
      "\t\tProto:17 001:(4.8714) 002:(4.8543) 003:(4.8761) 023:(4.854) 024:(4.5893) 025:(4.8736) 045:(4.8267) 086:(4.8735) 100:(4.8449) 101:(4.8283) \n",
      "\t Child: 004+032\n",
      "\t\tProto:3 004:(2.9379) 031:(3.1223) 032:(3.0742) 033:(3.1248) \n",
      "\t\tProto:6 004:(0.0001) 031:(0.0526) 032:(0.0003) 033:(0.0346) \n",
      "\t\tProto:8 004:(0.076) 031:(0.2366) 032:(0.2457) 033:(0.2497) \n",
      "\t\tProto:9 004:(3.3763) 031:(3.8886) 032:(3.9546) 033:(3.9003) \n",
      "\t\tProto:14 004:(0.2145) 031:(2.4269) 032:(2.4523) 033:(2.3512) \n"
     ]
    },
    {
     "name": "stderr",
     "output_type": "stream",
     "text": [
      "Collecting topk: 90it [00:01, 47.21it/s]   \n"
     ]
    },
    {
     "name": "stdout",
     "output_type": "stream",
     "text": [
      "Node 053+050\n",
      "\t Child: 050+051\n",
      "\t\tProto:0 050:(1.2862) 051:(1.9582) \n",
      "\t\tProto:3 050:(2.0965) 051:(2.7172) \n",
      "\t\tProto:6 050:(3.141) 051:(3.1193) \n",
      "\t\tProto:16 050:(0.9455) 051:(1.8418) \n",
      "\t\tProto:18 050:(0.1036) 051:(0.113) \n",
      "\t\tProto:19 050:(2.3963) 051:(3.6708) \n"
     ]
    },
    {
     "name": "stderr",
     "output_type": "stream",
     "text": [
      "Collecting topk: 120it [00:02, 43.39it/s]  \n"
     ]
    },
    {
     "name": "stdout",
     "output_type": "stream",
     "text": [
      "Node 004+032\n",
      "\t Child: 032+033\n",
      "\t\tProto:0 031:(1.0536) 032:(0.2389) 033:(1.0367) \n",
      "\t\tProto:2 031:(0.4491) 032:(0.6548) 033:(0.6335) \n",
      "\t\tProto:4 031:(1.3148) 032:(3.3738) 033:(3.2335) \n",
      "\t\tProto:6 031:(3.3762) 032:(3.3981) 033:(3.3096) \n",
      "\t\tProto:8 031:(1.38) 032:(1.4513) 033:(0.8152) \n",
      "\t\tProto:12 031:(2.8455) 032:(0.6083) 033:(2.7214) \n",
      "\t\tProto:18 031:(2.7017) 032:(2.6501) 033:(2.6797) \n",
      "\t\tProto:19 031:(3.3279) 032:(3.4688) 033:(3.478) \n"
     ]
    },
    {
     "name": "stderr",
     "output_type": "stream",
     "text": [
      "Collecting topk: 300it [00:05, 53.96it/s]  \n"
     ]
    },
    {
     "name": "stdout",
     "output_type": "stream",
     "text": [
      "Node 086+045\n",
      "\t Child: 045+101\n",
      "\t\tProto:1 001:(2.2838) 002:(2.3451) 003:(1.0736) 023:(0.435) 024:(0.3838) 025:(0.412) 045:(0.0277) 100:(2.3552) 101:(2.3553) \n",
      "\t\tProto:3 001:(2.532) 002:(1.6709) 003:(2.0938) 023:(0.1914) 024:(0.0619) 025:(0.9732) 045:(2.3931) 100:(0.1605) 101:(0.2872) \n",
      "\t\tProto:5 001:(3.9396) 002:(3.8892) 003:(3.9283) 023:(0.0693) 024:(0.0122) 025:(0.075) 045:(3.9209) 100:(0.3982) 101:(0.1584) \n",
      "\t\tProto:7 001:(0.151) 002:(0.7098) 003:(0.2582) 023:(0.0852) 024:(0.0273) 025:(0.0562) 045:(0.1936) 100:(0.9599) 101:(0.9871) \n",
      "\t\tProto:8 001:(1.3479) 002:(1.201) 003:(1.7929) 023:(3.1537) 024:(3.0916) 025:(3.2093) 045:(0.7131) 100:(0.6123) 101:(0.1263) \n",
      "\t\tProto:10 001:(0.0676) 002:(0.0797) 003:(0.4305) 023:(3.7718) 024:(3.7714) 025:(3.7531) 045:(0.0143) 100:(3.3761) 101:(0.5077) \n",
      "\t\tProto:12 001:(2.1831) 002:(2.1678) 003:(2.0246) 023:(1.831) 024:(1.0694) 025:(1.5898) 045:(0.3354) 100:(0.5522) 101:(0.1418) \n",
      "\t\tProto:13 001:(0.4457) 002:(0.0577) 003:(0.1112) 023:(3.0335) 024:(3.0292) 025:(3.0272) 045:(0.0042) 100:(0.6291) 101:(0.1705) \n",
      "\t\tProto:14 001:(0.5362) 002:(0.0106) 003:(0.0337) 023:(0.3032) 024:(0.2606) 025:(0.6083) 045:(0.181) 100:(3.2178) 101:(3.2271) \n",
      "\t\tProto:15 001:(1.6124) 002:(2.9687) 003:(0.552) 023:(0.4224) 024:(1.1003) 025:(0.8194) 045:(0.0335) 100:(3.167) 101:(3.1767) \n",
      "\t\tProto:16 001:(1.717) 002:(0.5969) 003:(1.798) 023:(0.1242) 024:(2.0125) 025:(0.2243) 045:(0.2659) 100:(2.0501) 101:(1.3462) \n",
      "\t\tProto:18 001:(2.2976) 002:(2.1144) 003:(2.4868) 023:(0.051) 024:(0.015) 025:(0.0519) 045:(2.0337) 100:(0.0325) 101:(0.0191) \n",
      "\t\tProto:19 001:(1.4578) 002:(2.6199) 003:(0.3002) 023:(0.2148) 024:(2.7924) 025:(0.0981) 045:(2.1387) 100:(0.3654) 101:(2.686) \n"
     ]
    },
    {
     "name": "stderr",
     "output_type": "stream",
     "text": [
      "Collecting topk: 90it [00:01, 46.99it/s]   \n"
     ]
    },
    {
     "name": "stdout",
     "output_type": "stream",
     "text": [
      "Node 032+033\n",
      "\t Child: 033+031\n",
      "\t\tProto:0 031:(2.9883) 033:(2.9185) \n",
      "\t\tProto:1 031:(1.2407) 033:(1.2046) \n",
      "\t\tProto:3 031:(3.8938) 033:(3.8892) \n",
      "\t\tProto:19 031:(2.1762) 033:(2.1162) \n"
     ]
    },
    {
     "name": "stderr",
     "output_type": "stream",
     "text": [
      "Collecting topk: 270it [00:05, 50.67it/s]\n"
     ]
    },
    {
     "name": "stdout",
     "output_type": "stream",
     "text": [
      "Node 045+101\n",
      "\t Child: 101+023\n",
      "\t\tProto:1 023:(3.1222) 024:(3.1844) 025:(3.1468) 100:(3.1675) 101:(3.1903) \n",
      "\t\tProto:2 023:(0.4542) 024:(0.0787) 025:(0.8978) 100:(2.1796) 101:(2.1735) \n",
      "\t\tProto:6 023:(3.6944) 024:(3.6878) 025:(3.6042) 100:(3.6648) 101:(3.6934) \n",
      "\t\tProto:7 023:(0.0184) 024:(0.0398) 025:(0.0174) 100:(0.1979) 101:(0.1991) \n",
      "\t\tProto:8 023:(3.2148) 024:(3.1827) 025:(3.2237) 100:(3.223) 101:(3.2253) \n",
      "\t\tProto:19 023:(1.4577) 024:(1.4756) 025:(1.4686) 100:(0.0408) 101:(0.0031) \n",
      "\t Child: 045+003\n",
      "\t\tProto:5 001:(3.222) 002:(3.2153) 003:(3.2248) 045:(3.2009) \n",
      "\t\tProto:9 001:(2.2476) 002:(1.6751) 003:(2.2679) 045:(2.1549) \n",
      "\t\tProto:10 001:(2.4256) 002:(2.3993) 003:(2.4638) 045:(2.1852) \n",
      "\t\tProto:13 001:(3.008) 002:(3.1065) 003:(3.0871) 045:(3.0902) \n",
      "\t\tProto:16 001:(1.4014) 002:(1.4057) 003:(1.2867) 045:(1.1173) \n"
     ]
    },
    {
     "name": "stderr",
     "output_type": "stream",
     "text": [
      "Collecting topk: 120it [00:02, 48.80it/s]  \n"
     ]
    },
    {
     "name": "stdout",
     "output_type": "stream",
     "text": [
      "Node 045+003\n",
      "\t Child: 003+002\n",
      "\t\tProto:1 001:(1.487) 002:(1.6546) 003:(1.6494) \n",
      "\t\tProto:2 001:(1.7784) 002:(1.6133) 003:(1.5328) \n",
      "\t\tProto:6 001:(0.3732) 002:(0.4611) 003:(0.4751) \n",
      "\t\tProto:7 001:(0.1149) 002:(0.1212) 003:(0.0952) \n",
      "\t\tProto:9 001:(2.0008) 002:(1.9628) 003:(1.7577) \n",
      "\t\tProto:11 001:(1.625) 002:(1.7965) 003:(2.0395) \n",
      "\t\tProto:13 001:(2.5494) 002:(1.7616) 003:(2.3377) \n",
      "\t\tProto:17 001:(4.3339) 002:(4.337) 003:(4.2627) \n",
      "\t\tProto:18 001:(2.5026) 002:(2.5126) 003:(2.4846) \n"
     ]
    },
    {
     "name": "stderr",
     "output_type": "stream",
     "text": [
      "Collecting topk: 150it [00:03, 42.30it/s]\n"
     ]
    },
    {
     "name": "stdout",
     "output_type": "stream",
     "text": [
      "Node 101+023\n",
      "\t Child: 023+025\n",
      "\t\tProto:4 023:(1.9598) 024:(1.9939) 025:(1.9788) \n",
      "\t\tProto:9 023:(1.4488) 024:(1.4992) 025:(1.4533) \n",
      "\t\tProto:10 023:(1.4015) 024:(1.4199) 025:(1.379) \n",
      "\t\tProto:11 023:(2.6012) 024:(2.6199) 025:(2.5719) \n",
      "\t\tProto:12 023:(0.1511) 024:(0.1528) 025:(0.1636) \n",
      "\t\tProto:13 023:(2.9055) 024:(2.8857) 025:(2.9337) \n",
      "\t\tProto:18 023:(3.3207) 024:(3.3193) 025:(3.3072) \n",
      "\t Child: 101+100\n",
      "\t\tProto:15 100:(2.0381) 101:(2.0453) \n",
      "\t\tProto:5 100:(1.4792) 101:(1.4796) \n",
      "\t\tProto:6 100:(3.6827) 101:(3.6832) \n",
      "\t\tProto:7 100:(3.7665) 101:(3.7648) \n"
     ]
    },
    {
     "name": "stderr",
     "output_type": "stream",
     "text": [
      "Collecting topk: 90it [00:01, 48.18it/s]   \n"
     ]
    },
    {
     "name": "stdout",
     "output_type": "stream",
     "text": [
      "Node 003+002\n",
      "\t Child: 002+001\n",
      "\t\tProto:0 001:(3.1762) 002:(3.2003) \n",
      "\t\tProto:9 001:(0.1948) 002:(0.1911) \n",
      "\t\tProto:12 001:(3.589) 002:(3.6451) \n",
      "\t\tProto:13 001:(3.5498) 002:(3.551) \n",
      "\t\tProto:17 001:(2.4816) 002:(2.26) \n"
     ]
    },
    {
     "name": "stderr",
     "output_type": "stream",
     "text": [
      "Collecting topk: 90it [00:01, 46.66it/s]   \n"
     ]
    },
    {
     "name": "stdout",
     "output_type": "stream",
     "text": [
      "Node 023+025\n",
      "\t Child: 025+024\n",
      "\t\tProto:0 024:(0.8611) 025:(0.7929) \n",
      "\t\tProto:6 024:(0.5784) 025:(0.5748) \n",
      "\t\tProto:7 024:(2.3964) 025:(2.1413) \n",
      "\t\tProto:9 024:(2.9654) 025:(2.9203) \n",
      "\t\tProto:10 024:(1.6659) 025:(1.31) \n",
      "\t\tProto:11 024:(1.7408) 025:(1.5809) \n",
      "\t\tProto:14 024:(2.679) 025:(2.4499) \n"
     ]
    }
   ],
   "source": [
    "# Proto activations on leaf descendents - topk images\n",
    "\n",
    "from util.data import ModifiedLabelLoader\n",
    "from collections import defaultdict\n",
    "import heapq\n",
    "import pdb\n",
    "from util.vis_pipnet import get_img_coordinates\n",
    "import torchvision.transforms as transforms\n",
    "from PIL import Image, ImageDraw as D\n",
    "import torchvision\n",
    "\n",
    "topk = 10\n",
    "save_images = True\n",
    "\n",
    "def get_heap():\n",
    "    list_ = []\n",
    "    heapq.heapify(list_)\n",
    "    return list_\n",
    "\n",
    "patchsize, skip = get_patch_size(args)\n",
    "\n",
    "for node in root.nodes_with_children():\n",
    "    if node.name == 'root':\n",
    "        continue\n",
    "    non_leaf_children_names = [child.name for child in node.children if not child.is_leaf()]\n",
    "    if len(non_leaf_children_names) == 0: # if all the children are leaf nodes then skip this node\n",
    "        continue\n",
    "\n",
    "    name2label = projectloader.dataset.class_to_idx\n",
    "    label2name = {label:name for name, label in name2label.items()}\n",
    "    modifiedLabelLoader = ModifiedLabelLoader(projectloader, node)\n",
    "    coarse_label2name = modifiedLabelLoader.modifiedlabel2name\n",
    "    node_label_to_children = {label: name for name, label in node.children_to_labels.items()}\n",
    "    \n",
    "    imgs = modifiedLabelLoader.filtered_imgs\n",
    "\n",
    "    img_iter = tqdm(enumerate(modifiedLabelLoader),\n",
    "                    total=len(modifiedLabelLoader),\n",
    "                    mininterval=50.,\n",
    "                    desc='Collecting topk',\n",
    "                    ncols=0)\n",
    "\n",
    "    classification_weights = getattr(net.module, '_'+node.name+'_classification').weight\n",
    "    \n",
    "    # maps proto_number -> grand_child_name (or descendant leaf name) -> list of top-k activations\n",
    "    proto_mean_activations = defaultdict(lambda: defaultdict(get_heap))\n",
    "\n",
    "    # maps class names to the prototypes that belong to that\n",
    "    class_and_prototypes = defaultdict(set)\n",
    "\n",
    "    for i, (xs, orig_y, ys) in img_iter:\n",
    "        if coarse_label2name[ys.item()] not in non_leaf_children_names:\n",
    "            continue\n",
    "\n",
    "        xs, ys = xs.to(device), ys.to(device)\n",
    "\n",
    "        with torch.no_grad():\n",
    "            softmaxes, pooled, _ = net(xs, inference=False)\n",
    "            pooled = pooled[node.name].squeeze(0) \n",
    "            softmaxes = softmaxes[node.name]#.squeeze(0)\n",
    "\n",
    "            for p in range(pooled.shape[0]): # pooled.shape -> [768] (== num of prototypes)\n",
    "                c_weight = torch.max(classification_weights[:,p]) # classification_weights[:,p].shape -> [200] (== num of classes)\n",
    "                relevant_proto_classes = torch.nonzero(classification_weights[:, p] > 1e-3)\n",
    "                relevant_proto_class_names = [node_label_to_children[class_idx.item()] for class_idx in relevant_proto_classes]\n",
    "                relevant_class_weight = classification_weights[:, p][classification_weights[:, p] > 1e-3]\n",
    "                \n",
    "                if len(relevant_proto_class_names) == 0:\n",
    "                    continue\n",
    "                \n",
    "                if (len(relevant_proto_class_names) == 1) and (relevant_proto_class_names[0] not in non_leaf_children_names):\n",
    "                    continue\n",
    "                \n",
    "                if len(relevant_proto_class_names) > 1:\n",
    "                    raise Exception(f\"P{p} of node {node.name} is relevant to more than one class {relevant_proto_class_names}\")\n",
    "                \n",
    "                relevant_class_weight = relevant_class_weight.item()\n",
    "                \n",
    "                # Take the max per prototype.                             \n",
    "                max_per_prototype, max_idx_per_prototype = torch.max(softmaxes, dim=0)\n",
    "                max_per_prototype_h, max_idx_per_prototype_h = torch.max(max_per_prototype, dim=1)\n",
    "                max_per_prototype_w, max_idx_per_prototype_w = torch.max(max_per_prototype_h, dim=1) #shape (num_prototypes)\n",
    "                \n",
    "                h_idx = max_idx_per_prototype_h[p, max_idx_per_prototype_w[p]]\n",
    "                w_idx = max_idx_per_prototype_w[p]\n",
    "\n",
    "                \n",
    "                    \n",
    "                h_coor_min, h_coor_max, w_coor_min, w_coor_max = get_img_coordinates(args.image_size, softmaxes.shape, patchsize, skip, h_idx, w_idx)\n",
    "                \n",
    "                if (coarse_label2name[ys.item()] in relevant_proto_class_names):\n",
    "                    child_node = root.get_node(coarse_label2name[ys.item()])\n",
    "                    leaf_descendent = label2name[orig_y.item()][4:7]\n",
    "                    img_to_open = imgs[i][0] # it is a tuple of (path to image, lable)\n",
    "                    if topk and (len(proto_mean_activations[p][leaf_descendent]) > topk):\n",
    "                        heapq.heappushpop(proto_mean_activations[p][leaf_descendent], (pooled[p].item()*relevant_class_weight, img_to_open, (h_coor_min, h_coor_max, w_coor_min, w_coor_max)))\n",
    "                    else:\n",
    "                        heapq.heappush(proto_mean_activations[p][leaf_descendent], (pooled[p].item()*relevant_class_weight, img_to_open, (h_coor_min, h_coor_max, w_coor_min, w_coor_max)))\n",
    "\n",
    "                class_and_prototypes[', '.join(relevant_proto_class_names)].add(p)\n",
    "\n",
    "    \n",
    "    print('Node', node.name)\n",
    "    for child_classname in class_and_prototypes:\n",
    "        \n",
    "        print('\\t'*1, 'Child:', child_classname)\n",
    "        for p in class_and_prototypes[child_classname]:\n",
    "            \n",
    "            logstr = '\\t'*2 + f'Proto:{p} '\n",
    "            for leaf_descendent in proto_mean_activations[p]:\n",
    "                mean_activation = round(np.mean([activation for activation, *_ in proto_mean_activations[p][leaf_descendent]]), 4)\n",
    "                num_images = len(proto_mean_activations[p][leaf_descendent])\n",
    "                logstr += f'{leaf_descendent}:({mean_activation}) '\n",
    "            print(logstr)\n",
    "            \n",
    "            if save_images:\n",
    "                patches = []\n",
    "                right_descriptions = []\n",
    "                text_region_width = 7 # 7x the width of a patch\n",
    "                for leaf_descendent, heap in proto_mean_activations[p].items():\n",
    "                    heap = sorted(heap)[::-1]\n",
    "                    mean_activation = round(np.mean([activation for activation, *_ in proto_mean_activations[p][leaf_descendent]]), 4)\n",
    "                    for ele in heap:\n",
    "                        activation, img_to_open, (h_coor_min, h_coor_max, w_coor_min, w_coor_max) = ele\n",
    "                        image = transforms.Resize(size=(args.image_size, args.image_size))(Image.open(img_to_open))\n",
    "                        img_tensor = transforms.ToTensor()(image)#.unsqueeze_(0) #shape (1, 3, h, w)\n",
    "                        img_tensor_patch = img_tensor[:, h_coor_min:h_coor_max, w_coor_min:w_coor_max]\n",
    "                        patches.append(img_tensor_patch)\n",
    "\n",
    "                    # description on the right hand side\n",
    "                    text = f'{mean_activation}, {leaf_descendent}'\n",
    "                    txtimage = Image.new(\"RGB\", (patches[0].shape[-2]*text_region_width,patches[0].shape[-1]), (0, 0, 0))\n",
    "                    draw = D.Draw(txtimage)\n",
    "                    draw.text((5, patches[0].shape[1]//2), text, anchor='mm', fill=\"white\")\n",
    "                    txttensor = transforms.ToTensor()(txtimage)#.unsqueeze_(0)\n",
    "                    right_descriptions.append(txttensor)\n",
    "\n",
    "                grid = torchvision.utils.make_grid(patches, nrow=topk+1, padding=1)\n",
    "                grid_right_descriptions = torchvision.utils.make_grid(right_descriptions, nrow=1, padding=1)\n",
    "\n",
    "                # merging right description with the grid of images\n",
    "                grid = torch.cat([grid, grid_right_descriptions], dim=-1)\n",
    "\n",
    "                # description on the top\n",
    "                text = f'Node:{node.name}, p{p}, Child:{child_classname}'\n",
    "                txtimage = Image.new(\"RGB\", (grid.shape[-1], args.wshape), (0, 0, 0))\n",
    "                draw = D.Draw(txtimage)\n",
    "                draw.text((5, patches[0].shape[1]//2), text, anchor='mm', fill=\"white\")\n",
    "                txttensor = transforms.ToTensor()(txtimage)#.unsqueeze_(0)\n",
    "\n",
    "                # merging top description with the grid of images\n",
    "                grid = torch.cat([grid, txttensor], dim=1)\n",
    "\n",
    "                os.makedirs(os.path.join(run_path, 'descendent_specific_topk_scores', node.name), exist_ok=True)\n",
    "                torchvision.utils.save_image(grid, os.path.join(run_path, 'descendent_specific_topk_scores', node.name, f'{child_classname}-p{p}.png'))\n",
    "            "
   ]
  },
  {
   "cell_type": "code",
   "execution_count": null,
   "metadata": {},
   "outputs": [],
   "source": []
  }
 ],
 "metadata": {
  "kernelspec": {
   "display_name": "Python 3 (ipykernel)",
   "language": "python",
   "name": "python3"
  },
  "language_info": {
   "codemirror_mode": {
    "name": "ipython",
    "version": 3
   },
   "file_extension": ".py",
   "mimetype": "text/x-python",
   "name": "python",
   "nbconvert_exporter": "python",
   "pygments_lexer": "ipython3",
   "version": "3.8.5"
  }
 },
 "nbformat": 4,
 "nbformat_minor": 2
}
