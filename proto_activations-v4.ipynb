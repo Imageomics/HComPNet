{
 "cells": [
  {
   "cell_type": "code",
   "execution_count": 1,
   "metadata": {},
   "outputs": [],
   "source": [
    "import sys, os"
   ]
  },
  {
   "cell_type": "code",
   "execution_count": 2,
   "metadata": {},
   "outputs": [],
   "source": [
    "# run_path = \"/home/harishbabu/projects/PIPNet/runs/154-PruningNaiveHPIPNet_cnext13_CUB-18-imgnet-224_with-equalize-aug_img=224_nprotos=20\"\n",
    "\n",
    "# run_path = \"/home/harishbabu/projects/PIPNet/runs/158-PruningNaiveHPIPNetExpWeightPruning_cnext13_CUB-18-imgnet-224_with-equalize-aug_img=224_nprotos=20\"\n",
    "\n",
    "# run_path = \"/home/harishbabu/projects/PIPNet/runs/159-PruningNaiveHPIPNetMaskL1=1.0_cnext13_CUB-18-imgnet-224_with-equalize-aug_img=224_nprotos=20\"\n",
    "\n",
    "# run_path = \"/home/harishbabu/projects/PIPNet/runs/160-PruningNaiveHPIPNetMaskL1=0.5_cnext13_CUB-18-imgnet-224_with-equalize-aug_img=224_nprotos=20\"\n",
    "\n",
    "# run_path = \"/home/harishbabu/projects/PIPNet/runs/161-PruningNaiveHPIPNetMaskL1=0.5MaskTrainExtra=15eps_cnext13_CUB-18-imgnet-224_with-equalize-aug_img=224_nprotos=20\"\n",
    "\n",
    "# run_path = \"/projects/ml4science/harishbabu/projects/PIPNet/162-PruningNaiveHPIPNetMaskL1=0.5MaskTrainExtra=15epsEps=60_cnext13_CUB-18-imgnet-224_with-equalize-aug_img=224_nprotos=20\"\n",
    "\n",
    "# run_path = \"/home/harishbabu/projects/PIPNet/runs/163-PruningNaiveHPIPNetMaskL1=0.5MaskTrainExtra=15epsEps=60TanhDesc=0.2MinCont=0.1_cnext13_CUB-18-imgnet-224_with-equalize-aug_img=224_nprotos=20\"\n",
    "\n",
    "# run_path = \"/projects/ml4science/harishbabu/projects/PIPNet/164-PruningNaiveHPIPNetMaskL1=0.5MaskTrainExtra=15epsEps=60TanhDesc=0.05MinCont=0.1_cnext13_CUB-18-imgnet-224_with-equalize-aug_img=224_nprotos=20\"\n",
    "\n",
    "# run_path = \"/home/harishbabu/projects/PIPNet/runs/167-PruningNaiveHPIPNetMaskL1=0.5MaskTrainExtra=15epsEps=60TanhDesc=0.05MinCont=0.1_cnext26_CUB-18-imgnet-224_with-equalize-aug_img=224_nprotos=20\"\n",
    "\n",
    "# run_path = \"/home/harishbabu/projects/PIPNet/runs/178-PruningNaiveHPIPNetMaskL1=0.5MaskTrainExtra=15epsEps=60TanhDesc=0.05MinCont=0.1_cnext26_CUB-190-imgnet-224_WeightedCE_with-equalize-aug_img=224_nprotos=20\"\n",
    "\n",
    "run_path = \"/home/harishbabu/projects/PIPNet/runs/202-PruningBF=1.1NaiveHPIPNetMaskL1=0.5MaskTrainExtra=05epsEps=60Cl=2.0TanhDesc=0.05MinCont=0.1_cnext13_CUB-190-imgnet-224_WeightedCE_with-equalize-aug_img=224_nprotos=10pc\"\n",
    "\n",
    "try:\n",
    "    sys.path.remove('/home/harishbabu/projects/PIPNet')\n",
    "except:\n",
    "    pass\n",
    "sys.path.insert(0, os.path.join(run_path, 'source_clone'))\n"
   ]
  },
  {
   "cell_type": "code",
   "execution_count": 3,
   "metadata": {},
   "outputs": [
    {
     "name": "stdout",
     "output_type": "stream",
     "text": [
      "/home/harishbabu/projects/PIPNet/runs/202-PruningBF=1.1NaiveHPIPNetMaskL1=0.5MaskTrainExtra=05epsEps=60Cl=2.0TanhDesc=0.05MinCont=0.1_cnext13_CUB-190-imgnet-224_WeightedCE_with-equalize-aug_img=224_nprotos=10pc\n"
     ]
    }
   ],
   "source": [
    "print(run_path)"
   ]
  },
  {
   "cell_type": "code",
   "execution_count": 4,
   "metadata": {},
   "outputs": [],
   "source": [
    "import torch.nn as nn\n",
    "import torch\n",
    "\n",
    "import sys, os\n",
    "import random\n",
    "import numpy as np\n",
    "from shutil import copy\n",
    "import matplotlib.pyplot as plt\n",
    "from copy import deepcopy\n",
    "\n",
    "from omegaconf import OmegaConf\n",
    "import shutil\n",
    "import pickle\n",
    "import random\n",
    "from tqdm import tqdm\n",
    "\n",
    "from torchvision.datasets.folder import ImageFolder\n",
    "from torch.utils.data import DataLoader\n",
    "import torch.nn.functional as F\n",
    "# from skimage.filters import threshold_local, gaussian\n",
    "import ntpath"
   ]
  },
  {
   "cell_type": "code",
   "execution_count": 5,
   "metadata": {},
   "outputs": [
    {
     "name": "stdout",
     "output_type": "stream",
     "text": [
      "/home/harishbabu/projects/PIPNet/runs/202-PruningBF=1.1NaiveHPIPNetMaskL1=0.5MaskTrainExtra=05epsEps=60Cl=2.0TanhDesc=0.05MinCont=0.1_cnext13_CUB-190-imgnet-224_WeightedCE_with-equalize-aug_img=224_nprotos=10pc/source_clone\n"
     ]
    }
   ],
   "source": [
    "print(sys.path[0])"
   ]
  },
  {
   "cell_type": "code",
   "execution_count": 6,
   "metadata": {},
   "outputs": [
    {
     "name": "stdout",
     "output_type": "stream",
     "text": [
      "/home/harishbabu/projects/PIPNet/runs/202-PruningBF=1.1NaiveHPIPNetMaskL1=0.5MaskTrainExtra=05epsEps=60Cl=2.0TanhDesc=0.05MinCont=0.1_cnext13_CUB-190-imgnet-224_WeightedCE_with-equalize-aug_img=224_nprotos=10pc/source_clone/util/node.py\n"
     ]
    }
   ],
   "source": [
    "# import pipnet.pipnet\n",
    "# from pipnet.pipnet import PIPNet, get_network\n",
    "# # from pipnet import pipnet\n",
    "# print(pipnet.__file__)\n",
    "from util import node\n",
    "print(node.__file__)"
   ]
  },
  {
   "cell_type": "code",
   "execution_count": 7,
   "metadata": {},
   "outputs": [
    {
     "name": "stdout",
     "output_type": "stream",
     "text": [
      "Heatmaps showing where a prototype is found will not be generated because OpenCV is not installed.\n"
     ]
    }
   ],
   "source": [
    "from pipnet.pipnet import PIPNet, get_network\n",
    "from util.log import Log\n",
    "from util.args import get_args, save_args, get_optimizer_nn\n",
    "from util.data import get_dataloaders\n",
    "from util.func import init_weights_xavier\n",
    "from pipnet.train import train_pipnet, test_pipnet\n",
    "# from pipnet.test import eval_pipnet, get_thresholds, eval_ood\n",
    "from util.eval_cub_csv import eval_prototypes_cub_parts_csv, get_topk_cub, get_proto_patches_cub\n",
    "from util.vis_pipnet import visualize, visualize_topk\n",
    "from util.visualize_prediction import vis_pred, vis_pred_experiments\n",
    "from util.node import Node\n",
    "from util.phylo_utils import construct_phylo_tree, construct_discretized_phylo_tree\n",
    "from util.func import get_patch_size\n",
    "from util.data import ModifiedLabelLoader"
   ]
  },
  {
   "cell_type": "code",
   "execution_count": 8,
   "metadata": {},
   "outputs": [],
   "source": [
    "from PIL import Image\n",
    "import numpy as np\n",
    "import pdb\n",
    "\n",
    "def get_heatmap(latent_activation, input_image):\n",
    "    image_a = latent_activation.cpu().numpy()\n",
    "    image_a = (image_a - image_a.min()) / (image_a.max() - image_a.min())\n",
    "\n",
    "    input_image = (input_image - input_image.min()) / (input_image.max() - input_image.min())\n",
    "    image_b = input_image.permute(1, 2, 0).cpu().numpy()\n",
    "    \n",
    "    reshaped_image_a = np.array(Image.fromarray((image_a[0] * 255).astype('uint8')).resize((input_image.shape[-1], input_image.shape[-1])))\n",
    "    normalized_heatmap = (reshaped_image_a - np.min(reshaped_image_a)) / (np.max(reshaped_image_a) - np.min(reshaped_image_a))\n",
    "    \n",
    "    heatmap_colormap = plt.get_cmap('jet')\n",
    "    heatmap_colored = heatmap_colormap(normalized_heatmap)\n",
    "    \n",
    "    heatmap_colored_uint8 = (heatmap_colored[:, :, :3] * 255).astype(np.uint8)\n",
    "    image_a_heatmap_pillow = Image.fromarray(heatmap_colored_uint8)\n",
    "    image_b_pillow = Image.fromarray((image_b * 255).astype('uint8'))\n",
    "    \n",
    "    result_image = Image.blend(image_b_pillow, image_a_heatmap_pillow, alpha=0.3)\n",
    "    \n",
    "    return np.array(result_image)\n",
    "\n",
    "\n",
    "def get_heatmap_uninterpolated(latent_activation, input_image):\n",
    "    image_a = latent_activation.cpu().numpy()\n",
    "    image_a = (image_a - image_a.min()) / (image_a.max() - image_a.min())\n",
    "\n",
    "    input_image = (input_image - input_image.min()) / (input_image.max() - input_image.min())\n",
    "    image_b = input_image.permute(1, 2, 0).cpu().numpy()\n",
    "    \n",
    "    reshaped_image_a = np.array(Image.fromarray((image_a[0] * 255).astype('uint8')).resize((input_image.shape[-1], input_image.shape[-1]), \\\n",
    "                                                                                          resample=Image.NEAREST ))\n",
    "    normalized_heatmap = (reshaped_image_a - np.min(reshaped_image_a)) / (np.max(reshaped_image_a) - np.min(reshaped_image_a))\n",
    "    \n",
    "    heatmap_colormap = plt.get_cmap('jet')\n",
    "    heatmap_colored = heatmap_colormap(normalized_heatmap)\n",
    "    \n",
    "    heatmap_colored_uint8 = (heatmap_colored[:, :, :3] * 255).astype(np.uint8)\n",
    "    image_a_heatmap_pillow = Image.fromarray(heatmap_colored_uint8)\n",
    "    image_b_pillow = Image.fromarray((image_b * 255).astype('uint8'))\n",
    "    \n",
    "    result_image = Image.blend(image_b_pillow, image_a_heatmap_pillow, alpha=0.3)\n",
    "    \n",
    "    return np.array(result_image)\n",
    "\n",
    "def get_bb_gaussian_threshold(latent_activation, sigma=1.0, percentile=97, extend_h=0, extend_w=0):\n",
    "    # latent_activation -> []\n",
    "    upscaled_similarity = get_upscaled_activation_uninterpolated(latent_activation, \\\n",
    "                                                                 image_size=(args.image_size, args.image_size))\n",
    "    upscaled_similarity = minmaxscale(upscaled_similarity)\n",
    "    upscaled_similarity = gaussian(upscaled_similarity, sigma=sigma)\n",
    "    upscaled_similarity = threshold_local(upscaled_similarity, block_size=15, method='mean')\n",
    "    h_min, h_max, w_min, w_max = find_top_percentile_bbox(upscaled_similarity ,percentile=97)\n",
    "    h_min = max(0, h_min-extend_h)\n",
    "    h_max = min(upscaled_similarity.shape[0], h_max+extend_h)\n",
    "    w_min = max(0, w_min-extend_w)\n",
    "    w_max = min(upscaled_similarity.shape[1], w_max+extend_w)\n",
    "    return h_min, h_max, w_min, w_max\n",
    "\n",
    "\n",
    "def minmaxscale(tensor):\n",
    "    return (tensor - tensor.min()) / (tensor.max() - tensor.min())\n",
    "\n",
    "from torch.utils.data import DataLoader, SequentialSampler\n",
    "from torch.utils.data import DataLoader\n",
    "\n",
    "def unshuffle_dataloader(dataloader):\n",
    "    if type(dataloader.dataset) == ImageFolder:\n",
    "        dataset = dataloader.dataset\n",
    "    else:\n",
    "        dataset = dataloader.dataset.dataset.dataset\n",
    "    new_dataloader = DataLoader(\n",
    "        dataset=dataset,\n",
    "        batch_size=dataloader.batch_size,\n",
    "        shuffle=False,\n",
    "        num_workers=dataloader.num_workers,\n",
    "        pin_memory=dataloader.pin_memory,\n",
    "        drop_last=dataloader.drop_last,\n",
    "        timeout=dataloader.timeout,\n",
    "        worker_init_fn=dataloader.worker_init_fn,\n",
    "        multiprocessing_context=dataloader.multiprocessing_context,\n",
    "        generator=dataloader.generator,\n",
    "        prefetch_factor=dataloader.prefetch_factor,\n",
    "        persistent_workers=dataloader.persistent_workers\n",
    "    )\n",
    "    return new_dataloader"
   ]
  },
  {
   "cell_type": "markdown",
   "metadata": {},
   "source": [
    "## Load Model"
   ]
  },
  {
   "cell_type": "code",
   "execution_count": 11,
   "metadata": {},
   "outputs": [
    {
     "name": "stdout",
     "output_type": "stream",
     "text": [
      "------------------------- No discretization -------------------------\n"
     ]
    }
   ],
   "source": [
    "args_file = open(os.path.join(run_path, 'metadata', 'args.pickle'), 'rb')\n",
    "args = pickle.load(args_file)\n",
    "\n",
    "if args.phylo_config:\n",
    "    phylo_config = OmegaConf.load(args.phylo_config)\n",
    "\n",
    "if args.phylo_config:\n",
    "    # construct the phylo tree\n",
    "    if phylo_config.phyloDistances_string == 'None':\n",
    "        if '031' in run_path: # this run uses a different phylogeny file that had an extra root node which is a mistake\n",
    "            root = construct_phylo_tree('/home/harishbabu/data/phlyogenyCUB/18Species-with-extra-root-node/1_tree-consensus-Hacket-18Species-modified_cub-names_v1.phy')\n",
    "        else:\n",
    "            root = construct_phylo_tree(phylo_config.phylogeny_path)\n",
    "        print('-'*25 + ' No discretization ' + '-'*25)\n",
    "    else:\n",
    "        root = construct_discretized_phylo_tree(phylo_config.phylogeny_path, phylo_config.phyloDistances_string)\n",
    "        print('-'*25 + ' Discretized ' + '-'*25)\n",
    "else:\n",
    "    # construct the tree (original hierarchy as described in the paper)\n",
    "    root = Node(\"root\")\n",
    "    root.add_children(['animal','vehicle','everyday_object','weapon','scuba_diver'])\n",
    "    root.add_children_to('animal',['non_primate','primate'])\n",
    "    root.add_children_to('non_primate',['African_elephant','giant_panda','lion'])\n",
    "    root.add_children_to('primate',['capuchin','gibbon','orangutan'])\n",
    "    root.add_children_to('vehicle',['ambulance','pickup','sports_car'])\n",
    "    root.add_children_to('everyday_object',['laptop','sandal','wine_bottle'])\n",
    "    root.add_children_to('weapon',['assault_rifle','rifle'])\n",
    "    # flat root\n",
    "    # root.add_children(['scuba_diver','African_elephant','giant_panda','lion','capuchin','gibbon','orangutan','ambulance','pickup','sports_car','laptop','sandal','wine_bottle','assault_rifle','rifle'])\n",
    "root.assign_all_descendents()\n",
    "\n",
    "exp_no = int(os.path.basename(run_path)[:3])\n",
    "\n",
    "if exp_no < 77:\n",
    "    if ('num_protos_per_descendant' in args) and (args.num_protos_per_descendant > 0):\n",
    "        for node in root.nodes_with_children():\n",
    "            node.set_num_protos(args.num_protos_per_descendant)\n",
    "if exp_no == 77:\n",
    "    # update num of protos per node based on num_protos_per_descendant\n",
    "    if args.num_features == 0 and args.num_protos_per_descendant == 0:\n",
    "        raise Exception('Either of num_features or num_protos_per_descendant must be greater than zero')\n",
    "    for node in root.nodes_with_children():\n",
    "        node.set_num_protos(num_protos_per_descendant=args.num_protos_per_descendant,\\\n",
    "                                                            min_protos=args.num_features)\n",
    "else:\n",
    "    if ('num_protos_per_child' in args) and ('num_protos_per_descendant' in args):\n",
    "        if args.num_features == 0 and args.num_protos_per_descendant == 0 and args.num_protos_per_child == 0:\n",
    "            raise Exception('Either of num_features or num_protos_per_descendant or num_protos_per_child must be greater than zero')\n",
    "        for node in root.nodes_with_children():\n",
    "            node.set_num_protos(num_protos_per_descendant=args.num_protos_per_descendant,\\\n",
    "                                num_protos_per_child=args.num_protos_per_child,\\\n",
    "                                min_protos=args.num_features,\\\n",
    "                                split_protos=('protopool' in args) and (args.protopool == 'n'))\n",
    "    elif ('num_protos_per_descendant' in args):\n",
    "        # update num of protos per node based on num_protos_per_descendant\n",
    "        if args.num_features == 0 and args.num_protos_per_descendant == 0 and args.num_protos_per_child == 0:\n",
    "            raise Exception('Either of num_features or num_protos_per_descendant or num_protos_per_child must be greater than zero')\n",
    "        for node in root.nodes_with_children():\n",
    "            node.set_num_protos(num_protos_per_descendant=args.num_protos_per_descendant,\\\n",
    "                                min_protos=args.num_features,\\\n",
    "                                split_protos=('protopool' in args) and (args.protopool == 'n'))"
   ]
  },
  {
   "cell_type": "code",
   "execution_count": 12,
   "metadata": {},
   "outputs": [
    {
     "name": "stdout",
     "output_type": "stream",
     "text": [
      "/home/harishbabu/.conda/envs/hpnet4/bin/python\n"
     ]
    }
   ],
   "source": [
    "!which python"
   ]
  },
  {
   "cell_type": "code",
   "execution_count": 13,
   "metadata": {},
   "outputs": [
    {
     "name": "stdout",
     "output_type": "stream",
     "text": [
      "1\n",
      "CUB-190-imgnet-224\n"
     ]
    }
   ],
   "source": [
    "args.batch_size = 1\n",
    "\n",
    "print(args.batch_size)\n",
    "print(args.dataset)"
   ]
  },
  {
   "cell_type": "code",
   "execution_count": null,
   "metadata": {},
   "outputs": [],
   "source": []
  },
  {
   "cell_type": "code",
   "execution_count": 14,
   "metadata": {
    "scrolled": true
   },
   "outputs": [
    {
     "name": "stdout",
     "output_type": "stream",
     "text": [
      "Dropping 0 samples from trainloader\n",
      "Dropping 0 samples from trainloader_normal\n",
      "Dropping 0 samples from trainloader_normal_augment\n",
      "Num classes (k) =  190 ['cub_001_Black_footed_Albatross', 'cub_002_Laysan_Albatross', 'cub_003_Sooty_Albatross', 'cub_004_Groove_billed_Ani', 'cub_005_Crested_Auklet'] etc.\n",
      "1 1\n",
      "Number of prototypes:  768\n",
      "----------Prototypes per descendant: 0----------\n",
      "Assigned 20 protos to node root\n",
      "Assigned 30 protos to node 129+024+067\n",
      "Assigned 20 protos to node 089+046\n",
      "Assigned 20 protos to node 129+065\n",
      "Assigned 20 protos to node 024+051\n",
      "Assigned 20 protos to node 067+070\n",
      "Assigned 20 protos to node 089+090\n",
      "Assigned 20 protos to node 046+087\n",
      "Assigned 20 protos to node 129+192\n",
      "Assigned 20 protos to node 065+006\n",
      "Assigned 20 protos to node 024+031\n",
      "Assigned 20 protos to node 051+052\n",
      "Assigned 20 protos to node 067+068\n",
      "Assigned 20 protos to node 129+043\n",
      "Assigned 20 protos to node 192+081\n",
      "Assigned 20 protos to node 065+144\n",
      "Assigned 20 protos to node 006+071\n",
      "Assigned 20 protos to node 024+086\n",
      "Assigned 20 protos to node 031+004\n",
      "Assigned 20 protos to node 051+053\n",
      "Assigned 20 protos to node 067+069\n",
      "Assigned 20 protos to node 129+018\n",
      "Assigned 20 protos to node 043+078\n",
      "Assigned 20 protos to node 192+036\n",
      "Assigned 20 protos to node 081+083\n",
      "Assigned 20 protos to node 065+084\n",
      "Assigned 20 protos to node 144+147\n",
      "Assigned 20 protos to node 006+058\n",
      "Assigned 20 protos to node 071+072\n",
      "Assigned 20 protos to node 024+001\n",
      "Assigned 20 protos to node 031+032\n",
      "Assigned 20 protos to node 051+050\n",
      "Assigned 20 protos to node 129+107\n",
      "Assigned 20 protos to node 043+042\n",
      "Assigned 20 protos to node 078+038\n",
      "Assigned 20 protos to node 192+191\n",
      "Assigned 20 protos to node 036+188\n",
      "Assigned 20 protos to node 081+082\n",
      "Assigned 20 protos to node 065+061\n",
      "Assigned 20 protos to node 084+063\n",
      "Assigned 20 protos to node 144+143\n",
      "Assigned 20 protos to node 006+008\n",
      "Assigned 20 protos to node 024+100\n",
      "Assigned 20 protos to node 001+045\n",
      "Assigned 20 protos to node 031+033\n",
      "Assigned 20 protos to node 129+136\n",
      "Assigned 20 protos to node 107+151\n",
      "Assigned 20 protos to node 043+040\n",
      "Assigned 20 protos to node 078+041\n",
      "Assigned 20 protos to node 192+187\n",
      "Assigned 20 protos to node 191+189\n",
      "Assigned 20 protos to node 081+080\n",
      "Assigned 20 protos to node 082+079\n",
      "Assigned 20 protos to node 065+066\n",
      "Assigned 20 protos to node 061+064\n",
      "Assigned 20 protos to node 144+142\n",
      "Assigned 20 protos to node 006+005\n",
      "Assigned 20 protos to node 008+106\n",
      "Assigned 20 protos to node 024+023\n",
      "Assigned 20 protos to node 100+101\n",
      "Assigned 20 protos to node 001+003\n",
      "Assigned 20 protos to node 129+199\n",
      "Assigned 20 protos to node 136+085\n",
      "Assigned 20 protos to node 107+111\n",
      "Assigned 20 protos to node 151+153\n",
      "Assigned 20 protos to node 043+037\n",
      "Assigned 20 protos to node 040+102\n",
      "Assigned 20 protos to node 078+077\n",
      "Assigned 20 protos to node 192+190\n",
      "Assigned 20 protos to node 065+062\n",
      "Assigned 20 protos to node 144+145\n",
      "Assigned 20 protos to node 006+007\n",
      "Assigned 20 protos to node 024+025\n",
      "Assigned 20 protos to node 001+002\n",
      "Assigned 20 protos to node 129+118\n",
      "Assigned 20 protos to node 199+186\n",
      "Assigned 20 protos to node 136+138\n",
      "Assigned 20 protos to node 107+073\n",
      "Assigned 20 protos to node 111+112\n",
      "Assigned 20 protos to node 151+157\n",
      "Assigned 20 protos to node 153+154\n",
      "Assigned 20 protos to node 043+039\n",
      "Assigned 20 protos to node 065+059\n",
      "Assigned 20 protos to node 144+146\n",
      "Assigned 20 protos to node 129+104\n",
      "Assigned 20 protos to node 199+150\n",
      "Assigned 20 protos to node 186+185\n",
      "Assigned 20 protos to node 136+137\n",
      "Assigned 20 protos to node 107+093\n",
      "Assigned 20 protos to node 073+074\n",
      "Assigned 20 protos to node 151+156\n",
      "Assigned 20 protos to node 157+152\n",
      "Assigned 20 protos to node 153+155\n",
      "Assigned 20 protos to node 065+060\n",
      "Assigned 20 protos to node 144+141\n",
      "Assigned 20 protos to node 129+035\n",
      "Assigned 20 protos to node 199+094\n",
      "Assigned 20 protos to node 150+019\n",
      "Assigned 20 protos to node 107+030\n",
      "Assigned 20 protos to node 129+054\n",
      "Assigned 20 protos to node 035+055\n",
      "Assigned 20 protos to node 199+028\n",
      "Assigned 20 protos to node 150+149\n",
      "Assigned 20 protos to node 107+029\n",
      "Assigned 20 protos to node 129+175\n",
      "Assigned 20 protos to node 054+140\n",
      "Assigned 20 protos to node 035+048\n",
      "Assigned 20 protos to node 199+198\n",
      "Assigned 20 protos to node 150+091\n",
      "Assigned 20 protos to node 107+108\n",
      "Assigned 20 protos to node 129+011\n",
      "Assigned 20 protos to node 175+020\n",
      "Assigned 20 protos to node 054+057\n",
      "Assigned 20 protos to node 140+017\n",
      "Assigned 20 protos to node 035+056\n",
      "Assigned 20 protos to node 048+047\n",
      "Assigned 20 protos to node 199+194\n",
      "Assigned 20 protos to node 129+121\n",
      "Assigned 20 protos to node 011+013\n",
      "Assigned 20 protos to node 175+099\n",
      "Assigned 20 protos to node 054+014\n",
      "Assigned 20 protos to node 140+139\n",
      "Assigned 20 protos to node 035+034\n",
      "Assigned 20 protos to node 199+193\n",
      "Assigned 20 protos to node 129+117\n",
      "Assigned 20 protos to node 011+095\n",
      "Assigned 20 protos to node 013+088\n",
      "Assigned 20 protos to node 175+181\n",
      "Assigned 20 protos to node 054+016\n",
      "Assigned 20 protos to node 199+197\n",
      "Assigned 20 protos to node 193+195\n",
      "Assigned 20 protos to node 129+133\n",
      "Assigned 20 protos to node 117+114\n",
      "Assigned 20 protos to node 011+026\n",
      "Assigned 20 protos to node 095+096\n",
      "Assigned 20 protos to node 013+012\n",
      "Assigned 40 protos to node 175+168+173+183\n",
      "Assigned 20 protos to node 054+015\n",
      "Assigned 20 protos to node 199+196\n",
      "Assigned 20 protos to node 129+021\n",
      "Assigned 20 protos to node 133+130\n",
      "Assigned 20 protos to node 117+115\n",
      "Assigned 20 protos to node 011+049\n",
      "Assigned 20 protos to node 026+010\n",
      "Assigned 20 protos to node 095+098\n",
      "Assigned 20 protos to node 096+097\n",
      "Assigned 20 protos to node 175+162\n",
      "Assigned 20 protos to node 168+177\n",
      "Assigned 20 protos to node 173+161\n",
      "Assigned 20 protos to node 183+159\n",
      "Assigned 20 protos to node 129+128\n",
      "Assigned 20 protos to node 021+148\n",
      "Assigned 20 protos to node 133+076\n",
      "Assigned 20 protos to node 130+120\n",
      "Assigned 20 protos to node 117+116\n",
      "Assigned 20 protos to node 115+119\n",
      "Assigned 20 protos to node 011+009\n",
      "Assigned 20 protos to node 026+027\n",
      "Assigned 20 protos to node 175+167\n",
      "Assigned 20 protos to node 162+180\n",
      "Assigned 20 protos to node 168+200\n",
      "Assigned 20 protos to node 177+178\n",
      "Assigned 20 protos to node 173+179\n",
      "Assigned 20 protos to node 161+166\n",
      "Assigned 20 protos to node 183+184\n",
      "Assigned 20 protos to node 129+127\n",
      "Assigned 20 protos to node 128+131\n",
      "Assigned 20 protos to node 133+132\n",
      "Assigned 20 protos to node 175+169\n",
      "Assigned 20 protos to node 168+170\n",
      "Assigned 20 protos to node 173+172\n",
      "Assigned 20 protos to node 129+123\n",
      "Assigned 20 protos to node 128+124\n",
      "Assigned 20 protos to node 133+122\n",
      "Assigned 30 protos to node 175+165+182\n",
      "Assigned 20 protos to node 129+125\n",
      "Assigned 20 protos to node 123+113\n",
      "Assigned 20 protos to node 128+126\n",
      "Assigned 20 protos to node 175+160\n",
      "Assigned 30 protos to node 165+164+163\n",
      "Assigned 20 protos to node 175+176\n",
      "Assigned 20 protos to node 160+109\n",
      "Assigned 20 protos to node 165+158\n",
      "Assigned 20 protos to node 175+174\n",
      "Output shape:  torch.Size([1, 20, 13, 13])\n",
      "13\n"
     ]
    }
   ],
   "source": [
    "if torch.cuda.is_available():\n",
    "    device = torch.device('cuda')\n",
    "    device_ids = [torch.cuda.current_device()]\n",
    "else:\n",
    "    device = torch.device('cpu')\n",
    "    device_ids = []\n",
    "\n",
    "# args_file = open(os.path.join(run_path, 'metadata', 'args.pickle'), 'rb')\n",
    "# args = pickle.load(args_file)\n",
    "\n",
    "# ckpt_file_name = 'net_overspecific_pruned_replaced_thresh=0.5_last'\n",
    "# ckpt_file_name = 'net_trained_30'\n",
    "# ckpt_file_name = 'net_trained_10'\n",
    "# ckpt_file_name = 'net_pretrained'\n",
    "ckpt_file_name = 'net_trained_last'\n",
    "epoch = ckpt_file_name.split('_')[-1]\n",
    "\n",
    "ckpt_path = os.path.join(run_path, 'checkpoints', ckpt_file_name)\n",
    "checkpoint = torch.load(ckpt_path, map_location=device)\n",
    "\n",
    "if ckpt_file_name != 'net_trained_last':\n",
    "    print('\\n', (10*'-')+'WARNING: Not using the final trained model'+(10*'-'), '\\n')\n",
    "\n",
    "# Obtain the dataset and dataloaders\n",
    "trainloader, trainloader_pretraining, trainloader_normal, trainloader_normal_augment, projectloader, testloader, test_projectloader, classes = get_dataloaders(args, device)\n",
    "\n",
    "print(args.batch_size, trainloader.batch_size)\n",
    "\n",
    "if len(classes)<=20:\n",
    "    if args.validation_size == 0.:\n",
    "        print(\"Classes: \", testloader.dataset.class_to_idx, flush=True)\n",
    "    else:\n",
    "        print(\"Classes: \", str(classes), flush=True)\n",
    "\n",
    "# Create a convolutional network based on arguments and add 1x1 conv layer\n",
    "feature_net, add_on_layers, pool_layer, classification_layers, num_prototypes = get_network(len(classes), args, root=root)\n",
    "   \n",
    "# Create a PIP-Net\n",
    "net = PIPNet(num_classes=len(classes),\n",
    "                    num_prototypes=num_prototypes,\n",
    "                    feature_net = feature_net,\n",
    "                    args = args,\n",
    "                    add_on_layers = add_on_layers,\n",
    "                    pool_layer = pool_layer,\n",
    "                    classification_layers = classification_layers,\n",
    "                    num_parent_nodes = len(root.nodes_with_children()),\n",
    "                    root = root\n",
    "                    )\n",
    "\n",
    "# Create a PIP-Net\n",
    "if ('byol' in args) and (args.byol == 'y'):\n",
    "    from pipnet.pipnet import PIPNetBYOL\n",
    "    net = PIPNetBYOL(num_classes=len(classes),\n",
    "                        num_prototypes=num_prototypes,\n",
    "                        feature_net = feature_net,\n",
    "                        args = args,\n",
    "                        add_on_layers = add_on_layers,\n",
    "                        pool_layer = pool_layer,\n",
    "                        classification_layers = classification_layers,\n",
    "                        num_parent_nodes = len(root.nodes_with_children()),\n",
    "                        root = root\n",
    "                        )\n",
    "else:\n",
    "    net = PIPNet(num_classes=len(classes),\n",
    "                    num_prototypes=num_prototypes,\n",
    "                    feature_net = feature_net,\n",
    "                    args = args,\n",
    "                    add_on_layers = add_on_layers,\n",
    "                    pool_layer = pool_layer,\n",
    "                    classification_layers = classification_layers,\n",
    "                    num_parent_nodes = len(root.nodes_with_children()),\n",
    "                    root = root\n",
    "                    )\n",
    "        \n",
    "net = net.to(device=device)\n",
    "net = nn.DataParallel(net, device_ids = device_ids)    \n",
    "net.load_state_dict(checkpoint['model_state_dict'],strict=True)\n",
    "# print(net.eval())\n",
    "criterion = nn.NLLLoss(reduction='mean').to(device)\n",
    "\n",
    "# Forward one batch through the backbone to get the latent output size\n",
    "with torch.no_grad():\n",
    "    xs1, _, _ = next(iter(trainloader))\n",
    "    xs1 = xs1.to(device)\n",
    "    _, proto_features, _, _ = net(xs1)\n",
    "    wshape = proto_features['root'].shape[-1]\n",
    "    args.wshape = wshape #needed for calculating image patch size\n",
    "    print(\"Output shape: \", proto_features['root'].shape, flush=True)\n",
    "    \n",
    "print(args.wshape)"
   ]
  },
  {
   "cell_type": "code",
   "execution_count": 15,
   "metadata": {},
   "outputs": [
    {
     "data": {
      "text/plain": [
       "Parameter containing:\n",
       "tensor([[12.6544,  4.0893,  3.8068,  0.7668,  0.0000,  5.7815,  0.0000,  0.0000,\n",
       "          0.0000,  0.0000,  0.0000,  0.0000,  0.0000,  0.0000,  0.0000,  0.0000,\n",
       "          0.0000,  0.0000,  0.0000,  0.0000],\n",
       "        [ 0.0000,  0.0000,  0.0000,  0.0000,  0.0000,  0.0000,  0.0000,  0.0000,\n",
       "          0.0000,  0.0000,  1.0376,  0.0000,  0.0000,  0.0000,  0.0000,  1.2150,\n",
       "          6.6424,  0.0000,  0.0000,  1.4139]], device='cuda:0',\n",
       "       requires_grad=True)"
      ]
     },
     "execution_count": 15,
     "metadata": {},
     "output_type": "execute_result"
    }
   ],
   "source": [
    "net.module._root_classification.weight"
   ]
  },
  {
   "cell_type": "markdown",
   "metadata": {},
   "source": [
    "# Find subtree root - only for finding does not affect the run, use the value found here in the visualization block"
   ]
  },
  {
   "cell_type": "code",
   "execution_count": 16,
   "metadata": {},
   "outputs": [
    {
     "name": "stdout",
     "output_type": "stream",
     "text": [
      "024+051\n"
     ]
    }
   ],
   "source": [
    "leaf_descendents = set(['cub_052_Pied_billed_Grebe', 'cub_004_Groove_billed_Ani'])\n",
    "subtree_root = root\n",
    "for node in root.nodes_with_children():\n",
    "    if leaf_descendents.issubset(node.leaf_descendents) and (len(node.leaf_descendents) < len(subtree_root.leaf_descendents)):\n",
    "        subtree_root = node\n",
    "\n",
    "# root.get_node('053+004')\n",
    "\n",
    "print(subtree_root.name)"
   ]
  },
  {
   "cell_type": "markdown",
   "metadata": {},
   "source": [
    "# Proto activations on leaf descendents - topk images using  NAIVE-HPIPNET with HEATMAP"
   ]
  },
  {
   "cell_type": "code",
   "execution_count": 15,
   "metadata": {},
   "outputs": [
    {
     "name": "stdout",
     "output_type": "stream",
     "text": [
      "Skipping node root\n"
     ]
    },
    {
     "name": "stderr",
     "output_type": "stream",
     "text": [
      "Collecting topk: 120it [00:02, 41.97it/s]  \n"
     ]
    },
    {
     "name": "stdout",
     "output_type": "stream",
     "text": [
      "Node 052+053\n",
      "\t Child: cub_052_Pied_billed_Grebe\n",
      "\t\tProto:0 052:(1.0) \n",
      "\t\tProto:1 052:(0.9999) \n",
      "\t\tProto:3 052:(0.9941) \n",
      "\t\tProto:5 052:(1.0) \n",
      "\t\tProto:8 052:(0.9999) \n",
      "\t\tProto:9 052:(0.9999) \n",
      "\t Child: 053+050\n",
      "\t\tProto:11 050:(0.9742) 051:(0.9487) 053:(0.9999) \n",
      "\t\tProto:12 050:(0.9914) 051:(0.9665) 053:(0.9934) \n",
      "\t\tProto:13 050:(0.9979) 051:(0.996) 053:(0.9683) \n",
      "\t\tProto:14 050:(0.9423) 051:(0.9799) 053:(0.9611) \n",
      "\t\tProto:15 050:(0.9994) 051:(0.9998) 053:(0.9997) \n",
      "\t\tProto:16 050:(0.9657) 051:(0.9985) 053:(0.9991) \n",
      "\t\tProto:17 050:(0.9813) 051:(0.9835) 053:(0.9991) \n",
      "\t\tProto:18 050:(0.9997) 051:(1.0) 053:(0.9997) \n",
      "\t\tProto:19 050:(0.9999) 051:(0.9983) 053:(0.9854) \n"
     ]
    },
    {
     "name": "stderr",
     "output_type": "stream",
     "text": [
      "Collecting topk: 391it [00:06, 58.23it/s]\n"
     ]
    },
    {
     "name": "stdout",
     "output_type": "stream",
     "text": [
      "Node 004+086\n",
      "\t Child: 004+032\n",
      "\t\tProto:2 004:(0.276) 031:(0.9932) 032:(0.9893) 033:(0.9859) \n",
      "\t\tProto:3 004:(0.999) 031:(0.9944) 032:(0.9942) 033:(0.995) \n",
      "\t\tProto:5 004:(0.9996) 031:(0.9976) 032:(0.9997) 033:(0.9996) \n",
      "\t\tProto:6 004:(0.9618) 031:(0.9996) 032:(0.9956) 033:(0.9987) \n",
      "\t\tProto:8 004:(0.9998) 031:(0.9965) 032:(0.9985) 033:(0.9819) \n",
      "\t Child: 086+045\n",
      "\t\tProto:10 001:(0.9717) 002:(0.9774) 003:(0.9002) 023:(0.7999) 024:(0.7553) 025:(0.8124) 045:(0.9369) 086:(0.8811) 100:(0.8805) 101:(0.9553) \n",
      "\t\tProto:11 001:(0.9929) 002:(0.9669) 003:(0.9773) 023:(0.999) 024:(0.9991) 025:(0.9997) 045:(0.9843) 086:(0.9989) 100:(0.9977) 101:(0.9644) \n",
      "\t\tProto:12 001:(0.9814) 002:(0.9951) 003:(0.8337) 023:(0.9356) 024:(0.9046) 025:(0.8427) 045:(0.8591) 086:(0.9624) 100:(0.9883) 101:(0.7244) \n",
      "\t\tProto:13 001:(0.9669) 002:(0.8866) 003:(0.9298) 023:(0.798) 024:(0.3903) 025:(0.8725) 045:(0.7464) 086:(0.9415) 100:(0.779) 101:(0.7211) \n",
      "\t\tProto:14 001:(0.9973) 002:(0.9963) 003:(0.9966) 023:(0.9998) 024:(0.9991) 025:(0.9994) 045:(0.9795) 086:(0.9952) 100:(1.0) 101:(0.9995) \n",
      "\t\tProto:15 001:(0.9962) 002:(0.9773) 003:(0.9981) 023:(0.5761) 024:(0.4098) 025:(0.735) 045:(0.7397) 086:(0.7888) 100:(0.6718) 101:(0.4469) \n",
      "\t\tProto:16 001:(0.6655) 002:(0.7205) 003:(0.8241) 023:(0.8295) 024:(0.6831) 025:(0.6474) 045:(0.628) 086:(0.6476) 100:(0.7824) 101:(0.6656) \n",
      "\t\tProto:17 001:(0.9993) 002:(0.9999) 003:(0.9996) 023:(0.9994) 024:(0.9956) 025:(0.9901) 045:(0.9991) 086:(0.9962) 100:(0.9991) 101:(0.9988) \n",
      "\t\tProto:18 001:(0.941) 002:(0.9549) 003:(0.9117) 023:(0.8577) 024:(0.9583) 025:(0.9495) 045:(0.5271) 086:(0.9001) 100:(0.9439) 101:(0.9829) \n"
     ]
    },
    {
     "name": "stderr",
     "output_type": "stream",
     "text": [
      "Collecting topk: 90it [00:02, 40.59it/s]   \n"
     ]
    },
    {
     "name": "stdout",
     "output_type": "stream",
     "text": [
      "Node 053+050\n",
      "\t Child: cub_053_Western_Grebe\n",
      "\t\tProto:0 053:(0.9998) \n",
      "\t\tProto:4 053:(0.9999) \n",
      "\t\tProto:5 053:(1.0) \n",
      "\t\tProto:7 053:(1.0) \n",
      "\t\tProto:8 053:(0.9999) \n",
      "\t\tProto:9 053:(0.9999) \n",
      "\t Child: 050+051\n",
      "\t\tProto:10 050:(0.9951) 051:(0.9949) \n",
      "\t\tProto:11 050:(0.9993) 051:(0.9519) \n",
      "\t\tProto:13 050:(0.9997) 051:(0.9998) \n",
      "\t\tProto:14 050:(0.9996) 051:(0.9961) \n",
      "\t\tProto:15 050:(0.9995) 051:(0.9969) \n",
      "\t\tProto:16 050:(0.9987) 051:(0.9951) \n",
      "\t\tProto:17 050:(0.9999) 051:(0.9997) \n",
      "\t\tProto:18 050:(0.9844) 051:(0.9969) \n",
      "\t\tProto:19 050:(0.9998) 051:(0.9999) \n"
     ]
    },
    {
     "name": "stderr",
     "output_type": "stream",
     "text": [
      "Collecting topk: 112it [00:02, 41.99it/s]  \n"
     ]
    },
    {
     "name": "stdout",
     "output_type": "stream",
     "text": [
      "Node 004+032\n",
      "\t Child: cub_004_Groove_billed_Ani\n",
      "\t\tProto:0 004:(0.9976) \n",
      "\t\tProto:3 004:(0.9998) \n",
      "\t\tProto:4 004:(0.9988) \n",
      "\t\tProto:5 004:(1.0) \n",
      "\t\tProto:6 004:(1.0) \n",
      "\t Child: 032+033\n",
      "\t\tProto:10 031:(0.9991) 032:(0.997) 033:(0.9995) \n",
      "\t\tProto:11 031:(0.9993) 032:(0.9444) 033:(0.9611) \n",
      "\t\tProto:12 031:(0.9996) 032:(0.9744) 033:(0.9949) \n",
      "\t\tProto:13 031:(0.9965) 032:(0.9987) 033:(0.9998) \n",
      "\t\tProto:14 031:(0.9988) 032:(0.9981) 033:(0.9999) \n",
      "\t\tProto:15 031:(0.9848) 032:(0.9998) 033:(1.0) \n",
      "\t\tProto:16 031:(0.9968) 032:(0.9899) 033:(0.8485) \n",
      "\t\tProto:17 031:(0.9675) 032:(0.7277) 033:(0.823) \n",
      "\t\tProto:18 031:(0.9958) 032:(0.9926) 033:(0.9994) \n",
      "\t\tProto:19 031:(0.9975) 032:(0.9476) 033:(0.9987) \n"
     ]
    },
    {
     "name": "stderr",
     "output_type": "stream",
     "text": [
      "Collecting topk: 279it [00:05, 52.56it/s]  \n"
     ]
    },
    {
     "name": "stdout",
     "output_type": "stream",
     "text": [
      "Node 086+045\n",
      "\t Child: cub_086_Pacific_Loon\n",
      "\t\tProto:9 086:(0.9955) \n",
      "\t\tProto:2 086:(0.9995) \n",
      "\t\tProto:6 086:(0.9989) \n",
      "\t\tProto:7 086:(0.9993) \n",
      "\t Child: 045+101\n",
      "\t\tProto:10 001:(0.4477) 002:(0.8593) 003:(0.8521) 023:(0.9649) 024:(0.7236) 025:(0.981) 045:(0.8766) 100:(0.7389) 101:(0.5672) \n",
      "\t\tProto:11 001:(0.99) 002:(0.9906) 003:(0.993) 023:(0.5569) 024:(0.8512) 025:(0.4961) 045:(0.9518) 100:(0.9619) 101:(0.944) \n",
      "\t\tProto:12 001:(0.9453) 002:(0.9941) 003:(0.9738) 023:(0.6233) 024:(0.9291) 025:(0.4428) 045:(0.9889) 100:(0.602) 101:(0.8334) \n",
      "\t\tProto:13 001:(0.9833) 002:(0.9911) 003:(0.9203) 023:(0.9788) 024:(0.9972) 025:(0.9984) 045:(0.9684) 100:(0.9644) 101:(0.9518) \n",
      "\t\tProto:14 001:(0.9978) 002:(0.9813) 003:(0.9857) 023:(0.8979) 024:(0.7089) 025:(0.9848) 045:(0.9455) 100:(0.7716) 101:(0.1763) \n",
      "\t\tProto:15 001:(0.7639) 002:(0.8437) 003:(0.855) 023:(0.9787) 024:(0.8192) 025:(0.5535) 045:(0.654) 100:(0.9916) 101:(0.9907) \n",
      "\t\tProto:16 001:(0.9945) 002:(0.992) 003:(0.9168) 023:(0.8806) 024:(0.993) 025:(0.9814) 045:(0.9476) 100:(0.9878) 101:(0.9986) \n",
      "\t\tProto:17 001:(0.869) 002:(0.8328) 003:(0.7051) 023:(0.8968) 024:(0.9757) 025:(0.969) 045:(0.9825) 100:(0.8305) 101:(0.6936) \n",
      "\t\tProto:18 001:(0.9557) 002:(0.9952) 003:(0.9986) 023:(0.9858) 024:(0.9932) 025:(0.9673) 045:(0.7338) 100:(0.9986) 101:(0.9917) \n",
      "\t\tProto:19 001:(0.9968) 002:(0.9984) 003:(0.8806) 023:(0.8323) 024:(0.7796) 025:(0.8404) 045:(0.9994) 100:(0.4516) 101:(0.7509) \n"
     ]
    },
    {
     "name": "stderr",
     "output_type": "stream",
     "text": [
      "Collecting topk: 100% 60/60 [00:01<00:00, 31.66it/s]\n"
     ]
    },
    {
     "name": "stdout",
     "output_type": "stream",
     "text": [
      "Node 050+051\n",
      "\t Child: cub_050_Eared_Grebe\n",
      "\t\tProto:0 050:(0.9992) \n",
      "\t\tProto:2 050:(0.9999) \n",
      "\t\tProto:3 050:(0.9976) \n",
      "\t\tProto:4 050:(0.9979) \n",
      "\t\tProto:7 050:(0.9999) \n",
      "\t\tProto:9 050:(0.9994) \n",
      "\t Child: cub_051_Horned_Grebe\n",
      "\t\tProto:11 051:(1.0) \n",
      "\t\tProto:13 051:(0.9953) \n",
      "\t\tProto:15 051:(1.0) \n",
      "\t\tProto:16 051:(0.9995) \n",
      "\t\tProto:17 051:(1.0) \n",
      "\t\tProto:18 051:(0.9733) \n",
      "\t\tProto:19 051:(0.9939) \n"
     ]
    },
    {
     "name": "stderr",
     "output_type": "stream",
     "text": [
      "Collecting topk: 82it [00:02, 40.14it/s]   \n"
     ]
    },
    {
     "name": "stdout",
     "output_type": "stream",
     "text": [
      "Node 032+033\n",
      "\t Child: cub_032_Mangrove_Cuckoo\n",
      "\t\tProto:3 032:(0.9827) \n",
      "\t\tProto:4 032:(0.9995) \n",
      "\t\tProto:5 032:(0.9999) \n",
      "\t\tProto:6 032:(1.0) \n",
      "\t\tProto:7 032:(1.0) \n",
      "\t\tProto:8 032:(0.9978) \n",
      "\t Child: 033+031\n",
      "\t\tProto:10 031:(0.9996) 033:(0.9843) \n",
      "\t\tProto:11 031:(0.9996) 033:(0.9737) \n",
      "\t\tProto:12 031:(0.9999) 033:(0.983) \n",
      "\t\tProto:13 031:(0.9922) 033:(0.9607) \n",
      "\t\tProto:15 031:(1.0) 033:(0.999) \n",
      "\t\tProto:16 031:(0.9998) 033:(0.9926) \n",
      "\t\tProto:17 031:(0.9987) 033:(0.9993) \n",
      "\t\tProto:18 031:(0.9999) 033:(0.9929) \n",
      "\t\tProto:19 031:(1.0) 033:(0.999) \n"
     ]
    },
    {
     "name": "stderr",
     "output_type": "stream",
     "text": [
      "Collecting topk: 249it [00:04, 54.17it/s]\n"
     ]
    },
    {
     "name": "stdout",
     "output_type": "stream",
     "text": [
      "Node 045+101\n",
      "\t Child: 045+003\n",
      "\t\tProto:2 001:(0.9115) 002:(0.9308) 003:(0.9942) 045:(0.9892) \n",
      "\t\tProto:3 001:(0.7015) 002:(0.5192) 003:(0.9305) 045:(0.9413) \n",
      "\t\tProto:6 001:(0.9973) 002:(0.9988) 003:(0.9998) 045:(0.9974) \n",
      "\t\tProto:7 001:(0.9993) 002:(0.9986) 003:(0.997) 045:(0.9966) \n",
      "\t\tProto:9 001:(1.0) 002:(1.0) 003:(0.9997) 045:(0.9999) \n",
      "\t Child: 101+023\n",
      "\t\tProto:18 023:(0.9997) 024:(0.9992) 025:(0.9989) 100:(0.9993) 101:(0.9992) \n",
      "\t\tProto:11 023:(0.9803) 024:(0.991) 025:(0.9984) 100:(0.9124) 101:(0.9421) \n",
      "\t\tProto:12 023:(0.932) 024:(0.9261) 025:(0.9708) 100:(0.9781) 101:(0.6788) \n",
      "\t\tProto:14 023:(0.9995) 024:(0.997) 025:(0.9936) 100:(0.999) 101:(0.9957) \n"
     ]
    },
    {
     "name": "stderr",
     "output_type": "stream",
     "text": [
      "Collecting topk: 100% 59/59 [00:01<00:00, 31.93it/s]\n"
     ]
    },
    {
     "name": "stdout",
     "output_type": "stream",
     "text": [
      "Node 033+031\n",
      "\t Child: cub_033_Yellow_billed_Cuckoo\n",
      "\t\tProto:1 033:(0.9999) \n",
      "\t\tProto:2 033:(1.0) \n",
      "\t\tProto:3 033:(0.9999) \n",
      "\t\tProto:4 033:(0.999) \n",
      "\t\tProto:5 033:(0.9977) \n",
      "\t\tProto:6 033:(1.0) \n",
      "\t\tProto:9 033:(1.0) \n",
      "\t Child: cub_031_Black_billed_Cuckoo\n",
      "\t\tProto:10 031:(0.9566) \n",
      "\t\tProto:11 031:(0.9973) \n",
      "\t\tProto:14 031:(0.985) \n",
      "\t\tProto:15 031:(0.9998) \n",
      "\t\tProto:16 031:(0.9992) \n",
      "\t\tProto:18 031:(0.9994) \n",
      "\t\tProto:19 031:(0.9889) \n"
     ]
    },
    {
     "name": "stderr",
     "output_type": "stream",
     "text": [
      "Collecting topk: 118it [00:02, 44.04it/s]  \n"
     ]
    },
    {
     "name": "stdout",
     "output_type": "stream",
     "text": [
      "Node 045+003\n",
      "\t Child: cub_045_Northern_Fulmar\n",
      "\t\tProto:1 045:(0.9997) \n",
      "\t\tProto:3 045:(1.0) \n",
      "\t\tProto:4 045:(0.9995) \n",
      "\t\tProto:6 045:(0.9975) \n",
      "\t\tProto:7 045:(0.9989) \n",
      "\t\tProto:8 045:(0.9971) \n",
      "\t\tProto:9 045:(0.9991) \n",
      "\t Child: 003+002\n",
      "\t\tProto:10 001:(0.9641) 002:(0.8363) 003:(0.7883) \n",
      "\t\tProto:11 001:(0.9989) 002:(0.974) 003:(0.9989) \n",
      "\t\tProto:12 001:(0.9869) 002:(0.9993) 003:(0.9988) \n",
      "\t\tProto:13 001:(0.9891) 002:(0.9967) 003:(0.9834) \n",
      "\t\tProto:14 001:(0.9961) 002:(0.9988) 003:(0.9944) \n",
      "\t\tProto:15 001:(1.0) 002:(0.9999) 003:(0.9999) \n",
      "\t\tProto:16 001:(0.9959) 002:(0.9624) 003:(0.9986) \n",
      "\t\tProto:17 001:(0.9996) 002:(1.0) 003:(0.9999) \n",
      "\t\tProto:18 001:(0.9998) 002:(1.0) 003:(0.9993) \n",
      "\t\tProto:19 001:(0.9901) 002:(0.9855) 003:(0.9656) \n"
     ]
    },
    {
     "name": "stderr",
     "output_type": "stream",
     "text": [
      "Collecting topk: 131it [00:02, 46.70it/s]\n"
     ]
    },
    {
     "name": "stdout",
     "output_type": "stream",
     "text": [
      "Node 101+023\n",
      "\t Child: 101+100\n",
      "\t\tProto:1 100:(0.9947) 101:(0.9979) \n",
      "\t\tProto:3 100:(0.9995) 101:(0.9852) \n",
      "\t\tProto:4 100:(0.9998) 101:(0.9998) \n",
      "\t\tProto:5 100:(0.9999) 101:(0.9995) \n",
      "\t\tProto:6 100:(0.9985) 101:(0.9907) \n",
      "\t\tProto:7 100:(0.9999) 101:(0.9999) \n",
      "\t\tProto:8 100:(0.9878) 101:(0.9802) \n",
      "\t\tProto:9 100:(0.9967) 101:(0.9979) \n",
      "\t Child: 023+025\n",
      "\t\tProto:10 023:(0.9993) 024:(0.9999) 025:(0.9998) \n",
      "\t\tProto:11 023:(0.9993) 024:(0.9969) 025:(0.9982) \n",
      "\t\tProto:13 023:(0.9866) 024:(0.969) 025:(0.9994) \n",
      "\t\tProto:14 023:(0.997) 024:(0.9867) 025:(0.998) \n",
      "\t\tProto:15 023:(0.9997) 024:(1.0) 025:(1.0) \n",
      "\t\tProto:16 023:(0.9994) 024:(0.9999) 025:(0.9999) \n",
      "\t\tProto:19 023:(0.9994) 024:(0.9993) 025:(0.9997) \n"
     ]
    },
    {
     "name": "stderr",
     "output_type": "stream",
     "text": [
      "Collecting topk: 88it [00:02, 38.71it/s]   \n"
     ]
    },
    {
     "name": "stdout",
     "output_type": "stream",
     "text": [
      "Node 003+002\n",
      "\t Child: cub_003_Sooty_Albatross\n",
      "\t\tProto:3 003:(1.0) \n",
      "\t\tProto:5 003:(0.9994) \n",
      "\t\tProto:6 003:(0.9999) \n",
      "\t\tProto:7 003:(0.9993) \n",
      "\t\tProto:8 003:(0.9998) \n",
      "\t\tProto:9 003:(0.9991) \n",
      "\t Child: 002+001\n",
      "\t\tProto:10 001:(0.996) 002:(0.9984) \n",
      "\t\tProto:11 001:(0.9852) 002:(0.9971) \n",
      "\t\tProto:12 001:(0.9959) 002:(0.9878) \n",
      "\t\tProto:13 001:(0.9956) 002:(0.9934) \n",
      "\t\tProto:14 001:(0.9947) 002:(0.9996) \n",
      "\t\tProto:15 001:(0.9971) 002:(0.9999) \n",
      "\t\tProto:16 001:(0.9994) 002:(0.997) \n",
      "\t\tProto:17 001:(0.9999) 002:(0.9999) \n",
      "\t\tProto:18 001:(0.9997) 002:(0.9997) \n",
      "\t\tProto:19 001:(0.9995) 002:(0.9999) \n"
     ]
    },
    {
     "name": "stderr",
     "output_type": "stream",
     "text": [
      "Collecting topk: 100% 50/50 [00:01<00:00, 31.19it/s]\n"
     ]
    },
    {
     "name": "stdout",
     "output_type": "stream",
     "text": [
      "Node 101+100\n",
      "\t Child: cub_101_White_Pelican\n",
      "\t\tProto:0 101:(1.0) \n",
      "\t\tProto:1 101:(0.9979) \n",
      "\t\tProto:2 101:(0.9971) \n",
      "\t\tProto:4 101:(0.9986) \n",
      "\t\tProto:5 101:(0.9961) \n",
      "\t\tProto:6 101:(0.9978) \n",
      "\t\tProto:8 101:(0.9977) \n",
      "\t\tProto:9 101:(0.9999) \n",
      "\t Child: cub_100_Brown_Pelican\n",
      "\t\tProto:10 100:(0.9997) \n",
      "\t\tProto:11 100:(0.9998) \n",
      "\t\tProto:12 100:(1.0) \n",
      "\t\tProto:13 100:(1.0) \n",
      "\t\tProto:16 100:(0.9999) \n",
      "\t\tProto:17 100:(1.0) \n",
      "\t\tProto:19 100:(1.0) \n"
     ]
    },
    {
     "name": "stderr",
     "output_type": "stream",
     "text": [
      "Collecting topk: 81it [00:02, 37.33it/s]   \n"
     ]
    },
    {
     "name": "stdout",
     "output_type": "stream",
     "text": [
      "Node 023+025\n",
      "\t Child: cub_023_Brandt_Cormorant\n",
      "\t\tProto:0 023:(1.0) \n",
      "\t\tProto:1 023:(0.9966) \n",
      "\t\tProto:2 023:(0.9979) \n",
      "\t\tProto:6 023:(0.9996) \n",
      "\t\tProto:8 023:(1.0) \n",
      "\t Child: 025+024\n",
      "\t\tProto:10 024:(0.9956) 025:(0.9989) \n",
      "\t\tProto:11 024:(0.94) 025:(0.9976) \n",
      "\t\tProto:12 024:(0.9961) 025:(0.9926) \n",
      "\t\tProto:13 024:(0.985) 025:(0.9993) \n",
      "\t\tProto:14 024:(0.9924) 025:(0.9983) \n",
      "\t\tProto:15 024:(0.9992) 025:(0.9996) \n",
      "\t\tProto:16 024:(0.9967) 025:(0.8939) \n",
      "\t\tProto:17 024:(0.9306) 025:(0.9962) \n",
      "\t\tProto:18 024:(0.998) 025:(0.9962) \n",
      "\t\tProto:19 024:(0.986) 025:(0.9249) \n"
     ]
    },
    {
     "name": "stderr",
     "output_type": "stream",
     "text": [
      "Collecting topk: 100% 60/60 [00:01<00:00, 34.18it/s]\n"
     ]
    },
    {
     "name": "stdout",
     "output_type": "stream",
     "text": [
      "Node 002+001\n",
      "\t Child: cub_002_Laysan_Albatross\n",
      "\t\tProto:0 002:(1.0) \n",
      "\t\tProto:1 002:(0.9984) \n",
      "\t\tProto:2 002:(0.9961) \n",
      "\t\tProto:3 002:(0.9999) \n",
      "\t\tProto:6 002:(0.9992) \n",
      "\t\tProto:7 002:(0.9996) \n",
      "\t Child: cub_001_Black_footed_Albatross\n",
      "\t\tProto:10 001:(0.9999) \n",
      "\t\tProto:12 001:(0.9996) \n",
      "\t\tProto:13 001:(0.9999) \n",
      "\t\tProto:15 001:(0.9969) \n",
      "\t\tProto:17 001:(0.9998) \n"
     ]
    },
    {
     "name": "stderr",
     "output_type": "stream",
     "text": [
      "Collecting topk: 100% 52/52 [00:01<00:00, 31.47it/s]"
     ]
    },
    {
     "name": "stdout",
     "output_type": "stream",
     "text": [
      "Node 025+024\n",
      "\t Child: cub_025_Pelagic_Cormorant\n",
      "\t\tProto:1 025:(0.9998) \n",
      "\t\tProto:3 025:(0.9999) \n",
      "\t\tProto:4 025:(0.9471) \n",
      "\t\tProto:8 025:(1.0) \n",
      "\t\tProto:9 025:(0.9961) \n",
      "\t Child: cub_024_Red_faced_Cormorant\n",
      "\t\tProto:10 024:(0.999) \n",
      "\t\tProto:15 024:(0.9986) \n",
      "\t\tProto:16 024:(0.9994) \n",
      "\t\tProto:17 024:(0.9996) \n",
      "\t\tProto:18 024:(1.0) \n",
      "\t\tProto:19 024:(0.999) \n",
      "Done !!!\n"
     ]
    },
    {
     "name": "stderr",
     "output_type": "stream",
     "text": [
      "\n"
     ]
    }
   ],
   "source": [
    "# Proto activations on leaf descendents - topk images\n",
    "\n",
    "def get_heatmap_uninterpolated(latent_activation, input_image):\n",
    "    image_a = latent_activation.cpu().numpy()\n",
    "    image_a = (image_a - image_a.min()) / (image_a.max() - image_a.min())\n",
    "\n",
    "    input_image = (input_image - input_image.min()) / (input_image.max() - input_image.min())\n",
    "    image_b = input_image.permute(1, 2, 0).cpu().numpy()\n",
    "    \n",
    "    reshaped_image_a = np.array(Image.fromarray((image_a[0] * 255).astype('uint8')).resize((input_image.shape[-1], input_image.shape[-1]), \\\n",
    "                                                                                          resample=Image.NEAREST ))\n",
    "    normalized_heatmap = (reshaped_image_a - np.min(reshaped_image_a)) / (np.max(reshaped_image_a) - np.min(reshaped_image_a))\n",
    "    \n",
    "    heatmap_colormap = plt.get_cmap('jet')\n",
    "    heatmap_colored = heatmap_colormap(normalized_heatmap)\n",
    "    \n",
    "    heatmap_colored_uint8 = (heatmap_colored[:, :, :3] * 255).astype(np.uint8)\n",
    "    image_a_heatmap_pillow = Image.fromarray(heatmap_colored_uint8)\n",
    "    image_b_pillow = Image.fromarray((image_b * 255).astype('uint8'))\n",
    "    \n",
    "    result_image = Image.blend(image_b_pillow, image_a_heatmap_pillow, alpha=0.3)\n",
    "    \n",
    "    return np.array(result_image)\n",
    "\n",
    "from util.data import ModifiedLabelLoader\n",
    "from collections import defaultdict\n",
    "import heapq\n",
    "import pdb\n",
    "from util.vis_pipnet import get_img_coordinates\n",
    "import torchvision.transforms as transforms\n",
    "from PIL import ImageFont, Image, ImageDraw as D\n",
    "import torchvision\n",
    "from datetime import datetime\n",
    "txt_file = open(os.path.join(run_path, \"num_proto_details_\"+datetime.now().strftime(\"%m:%d:%H:%M:%S\")+\".txt\"), \"a\")\n",
    "txt_file.write('\\n')\n",
    "\n",
    "vizloader_name = 'testloader' # projectloader\n",
    "find_non_descendants = False # True, False # param\n",
    "topk = 6\n",
    "save_images = False # True, False\n",
    "font = ImageFont.truetype(\"arial.ttf\", 50)\n",
    "save_activation_as_npy_path = None # 'activation_as_npy'\n",
    "if (save_activation_as_npy_path is not None):\n",
    "    save_activation_as_npy_path = '_'.join(['activation_as_npy', vizloader_name])  # activation_as_npy, added for NUMPY SAVING\n",
    "if find_non_descendants and (save_activation_as_npy_path is not None):\n",
    "    save_activation_as_npy_path = save_activation_as_npy_path + '_non_desc'\n",
    "plot_overspecificity_score = True\n",
    "subtree_root = root.get_node('024+051')\n",
    "\n",
    "from datetime import datetime\n",
    "txt_file = open(os.path.join(run_path, \"num_proto_details_\"+datetime.now().strftime(\"%m:%d:%H:%M:%S\")+\".txt\"), \"a\")\n",
    "txt_file.write('\\n')\n",
    "\n",
    "def write_num_proto_details(proto_mean_activations, node_name, net, threshold, txt_file, args):\n",
    "    \n",
    "    rand_input = torch.randn((1, 3, args.image_size, args.image_size))\n",
    "    with torch.no_grad():\n",
    "        *_, pooled, out = net(rand_input)\n",
    "    num_protos = pooled[node_name].shape[1]\n",
    "    used_protos = len(proto_mean_activations)\n",
    "    non_overspecific = 0\n",
    "    for p in proto_mean_activations:\n",
    "        logstr = '\\t'*2 + f'Proto:{p} '\n",
    "        protos_mean_for_all_leaf_descedants = []\n",
    "        for leaf_descendent in proto_mean_activations[p]:\n",
    "            mean_activation = round(np.mean([activation for activation, *_ in proto_mean_activations[p][leaf_descendent]]), 4)\n",
    "            protos_mean_for_all_leaf_descedants.append(mean_activation)\n",
    "            \n",
    "        if all([(mean_activation>0.2) for mean_activation in protos_mean_for_all_leaf_descedants]):\n",
    "            non_overspecific += 1\n",
    "            \n",
    "    txt_file.write(f\"Node:{node_name},Total:{num_protos},Used:{used_protos},Good:{non_overspecific},threshold={threshold}\\n\")\n",
    "\n",
    "\n",
    "def get_heap():\n",
    "    list_ = []\n",
    "    heapq.heapify(list_)\n",
    "    return list_\n",
    "\n",
    "patchsize, skip = get_patch_size(args)\n",
    "\n",
    "\n",
    "vizloader_dict = {'trainloader': trainloader,\n",
    "                 'projectloader': projectloader,\n",
    "                 'testloader': testloader,\n",
    "                 'test_projectloader': test_projectloader}\n",
    "vizloader_dict[vizloader_name] = unshuffle_dataloader(vizloader_dict[vizloader_name])\n",
    "\n",
    "\n",
    "if type(vizloader_dict[vizloader_name].dataset) == ImageFolder:\n",
    "    name2label = vizloader_dict[vizloader_name].dataset.class_to_idx\n",
    "    label2name = {label:name for name, label in name2label.items()}\n",
    "else:\n",
    "    name2label = vizloader_dict[vizloader_name].dataset.dataset.dataset.class_to_idx\n",
    "    label2name = {label:name for name, label in name2label.items()}\n",
    "    \n",
    "overspecificity_score_and_proto_mask = []\n",
    "\n",
    "for node in root.nodes_with_children():\n",
    "#     if node.name == 'root':\n",
    "#         continue\n",
    "#     non_leaf_children_names = [child.name for child in node.children if not child.is_leaf()]\n",
    "#     if len(non_leaf_children_names) == 0: # if all the children are leaf nodes then skip this node\n",
    "#         continue\n",
    "\n",
    "    if node.name not in subtree_root.descendents:\n",
    "        print('Skipping node', node.name)\n",
    "        continue\n",
    "        \n",
    "    name2label = vizloader_dict[vizloader_name].dataset.class_to_idx\n",
    "    label2name = {label:name for name, label in name2label.items()}\n",
    "    modifiedLabelLoader = ModifiedLabelLoader(vizloader_dict[vizloader_name], node)\n",
    "    coarse_label2name = modifiedLabelLoader.modifiedlabel2name\n",
    "    node_label_to_children = {label: name for name, label in node.children_to_labels.items()}\n",
    "    \n",
    "    imgs = modifiedLabelLoader.filtered_imgs\n",
    "\n",
    "    img_iter = tqdm(enumerate(modifiedLabelLoader),\n",
    "                    total=len(modifiedLabelLoader),\n",
    "                    mininterval=50.,\n",
    "                    desc='Collecting topk',\n",
    "                    ncols=0)\n",
    "\n",
    "    classification_weights = getattr(net.module, '_'+node.name+'_classification').weight\n",
    "    \n",
    "    # maps proto_number -> grand_child_name (or descendant leaf name) -> list of top-k activations\n",
    "    proto_mean_activations = defaultdict(lambda: defaultdict(get_heap))\n",
    "\n",
    "    # maps class names to the prototypes that belong to that\n",
    "    class_and_prototypes = defaultdict(set)\n",
    "\n",
    "    for i, (xs, orig_y, ys) in img_iter:\n",
    "#         if coarse_label2name[ys.item()] not in non_leaf_children_names:\n",
    "#             continue\n",
    "\n",
    "        xs, ys = xs.to(device), ys.to(device)\n",
    "\n",
    "        with torch.no_grad():\n",
    "            model_output = net(xs, inference=False)\n",
    "            if len(model_output) == 3:\n",
    "                softmaxes, pooled, _ = model_output\n",
    "            elif len(model_output) == 4:\n",
    "                _, softmaxes, pooled, _ = model_output\n",
    "            pooled = pooled[node.name].squeeze(0) \n",
    "            softmaxes = softmaxes[node.name]#.squeeze(0)\n",
    "\n",
    "            for p in range(pooled.shape[0]): # pooled.shape -> [768] (== num of prototypes)\n",
    "                c_weight = torch.max(classification_weights[:,p]) # classification_weights[:,p].shape -> [200] (== num of classes)\n",
    "                relevant_proto_classes = torch.nonzero(classification_weights[:, p] > 1e-3)\n",
    "                relevant_proto_class_names = [node_label_to_children[class_idx.item()] for class_idx in relevant_proto_classes]\n",
    "                \n",
    "                # Take the max per prototype.                             \n",
    "                max_per_prototype, max_idx_per_prototype = torch.max(softmaxes, dim=0)\n",
    "                max_per_prototype_h, max_idx_per_prototype_h = torch.max(max_per_prototype, dim=1)\n",
    "                max_per_prototype_w, max_idx_per_prototype_w = torch.max(max_per_prototype_h, dim=1) #shape (num_prototypes)\n",
    "                \n",
    "                h_idx = max_idx_per_prototype_h[p, max_idx_per_prototype_w[p]]\n",
    "                w_idx = max_idx_per_prototype_w[p]\n",
    "\n",
    "                if len(relevant_proto_class_names) == 0:\n",
    "                    continue\n",
    "                \n",
    "#                 if (len(relevant_proto_class_names) == 1) and (relevant_proto_class_names[0] not in non_leaf_children_names):\n",
    "#                     continue\n",
    "                \n",
    "                h_coor_min, h_coor_max, w_coor_min, w_coor_max = get_img_coordinates(args.image_size, softmaxes.shape, patchsize, skip, h_idx, w_idx)\n",
    "                latent_activation = softmaxes[:, p, :, :]\n",
    "                \n",
    "                if not find_non_descendants:\n",
    "                    if (coarse_label2name[ys.item()] in relevant_proto_class_names):\n",
    "                        child_node = root.get_node(coarse_label2name[ys.item()])\n",
    "                        leaf_descendent = label2name[orig_y.item()][4:7]\n",
    "                        img_to_open = imgs[i][0] # it is a tuple of (path to image, lable)\n",
    "                        if topk and (len(proto_mean_activations[p][leaf_descendent]) >= topk):\n",
    "                            heapq.heappushpop(proto_mean_activations[p][leaf_descendent],\\\n",
    "                                              (pooled[p].item(), img_to_open,\\\n",
    "                                               (h_coor_min, h_coor_max, w_coor_min, w_coor_max), latent_activation))\n",
    "                        else:\n",
    "                            heapq.heappush(proto_mean_activations[p][leaf_descendent],\\\n",
    "                                           (pooled[p].item(), img_to_open,\\\n",
    "                                            (h_coor_min, h_coor_max, w_coor_min, w_coor_max), latent_activation))\n",
    "                else:\n",
    "                    if (coarse_label2name[ys.item()] not in relevant_proto_class_names):\n",
    "                        child_node = root.get_node(coarse_label2name[ys.item()])\n",
    "                        leaf_descendent = label2name[orig_y.item()][4:7]\n",
    "                        img_to_open = imgs[i][0] # it is a tuple of (path to image, lable)\n",
    "                        if topk and (len(proto_mean_activations[p][leaf_descendent]) >= topk):\n",
    "                            heapq.heappushpop(proto_mean_activations[p][leaf_descendent],\\\n",
    "                                              (pooled[p].item(), img_to_open,\\\n",
    "                                               (h_coor_min, h_coor_max, w_coor_min, w_coor_max), latent_activation))\n",
    "                        else:\n",
    "                            heapq.heappush(proto_mean_activations[p][leaf_descendent],\\\n",
    "                                           (pooled[p].item(), img_to_open,\\\n",
    "                                            (h_coor_min, h_coor_max, w_coor_min, w_coor_max), latent_activation))\n",
    "\n",
    "                class_and_prototypes[', '.join(relevant_proto_class_names)].add(p)\n",
    "\n",
    "    # write_num_proto_details(proto_mean_activations, node.name, net, threshold=0.2, txt_file=txt_file, args=args)\n",
    "\n",
    "    if plot_overspecificity_score:\n",
    "        for child_classname in class_and_prototypes:\n",
    "            for p in class_and_prototypes[child_classname]:\n",
    "                mean_activation_of_every_leaf = []\n",
    "                for leaf_descendent in proto_mean_activations[p]:\n",
    "                    mean_activation = round(np.mean([activation for activation, *_ in proto_mean_activations[p][leaf_descendent]]), 4)\n",
    "                    mean_activation_of_every_leaf.append(mean_activation)\n",
    "\n",
    "                overspecificity_score = 1\n",
    "                for mean_act in mean_activation_of_every_leaf:\n",
    "                    overspecificity_score *= mean_act * 1.0\n",
    "                proto_presence = getattr(net.module, '_'+node.name+'_proto_presence')\n",
    "                proto_presence = F.gumbel_softmax(proto_presence, tau=0.5, hard=True, dim=-1)\n",
    "                proto_mask = proto_presence[p, 1].item()\n",
    "                overspecificity_score_and_proto_mask.append((overspecificity_score, len(mean_activation_of_every_leaf), proto_mask))\n",
    "\n",
    "    print('Node', node.name)\n",
    "    for child_classname in class_and_prototypes:\n",
    "        \n",
    "        print('\\t'*1, 'Child:', child_classname)\n",
    "        for p in class_and_prototypes[child_classname]:\n",
    "            \n",
    "            logstr = '\\t'*2 + f'Proto:{p} '\n",
    "            mean_activation_of_every_leaf = []\n",
    "            for leaf_descendent in proto_mean_activations[p]:\n",
    "                mean_activation = round(np.mean([activation for activation, *_ in proto_mean_activations[p][leaf_descendent]]), 4)\n",
    "                num_images = len(proto_mean_activations[p][leaf_descendent])\n",
    "                logstr += f'{leaf_descendent}:({mean_activation}) '\n",
    "                mean_activation_of_every_leaf.append(mean_activation)\n",
    "            print(logstr)\n",
    "            \n",
    "            # # if the mean_activation is less for all leaf descendants skip the node\n",
    "            # if all([mean_act < 0.2 for mean_act in mean_activation_of_every_leaf]):\n",
    "            #     if find_non_descendants:\n",
    "            #         print('\\t'*2 + f'Not skipping proto {p} of {node.name} coz of find_non_descendants')\n",
    "            #     else:\n",
    "            #         print('\\t'*2 + f'Skipping proto {p} of {node.name}')\n",
    "            #         continue\n",
    "            \n",
    "            # have this for NON descendants\n",
    "            if len(proto_mean_activations[p]) == 0:\n",
    "                continue\n",
    "            \n",
    "            if save_images or save_activation_as_npy_path:\n",
    "                patches = []\n",
    "                right_descriptions = []\n",
    "                text_region_width = 3 # 3x the width of a patch\n",
    "                for leaf_descendent, heap in proto_mean_activations[p].items():\n",
    "                    heap = sorted(heap)[::-1]\n",
    "                    mean_activation = round(np.mean([activation for activation, *_ in proto_mean_activations[p][leaf_descendent]]), 4)\n",
    "                    for rank, ele in enumerate(heap):\n",
    "                        activation, img_to_open, (h_coor_min, h_coor_max, w_coor_min, w_coor_max), latent_activation = ele\n",
    "                        image = transforms.Resize(size=(args.image_size, args.image_size))(Image.open(img_to_open))\n",
    "                        img_tensor = transforms.ToTensor()(image)#.unsqueeze_(0) #shape (1, 3, h, w)\n",
    "                        img_tensor_patch = img_tensor[:, h_coor_min:h_coor_max, w_coor_min:w_coor_max]\n",
    "                        overlayed_image_np = get_heatmap(latent_activation, img_tensor)\n",
    "                        overlayed_image = torch.tensor(overlayed_image_np).permute(2, 0, 1).float() / 255.\n",
    "                        patches.append(overlayed_image)\n",
    "                        \n",
    "                        # added for NUMPY SAVING\n",
    "                        \n",
    "                        if save_activation_as_npy_path:\n",
    "#                             upscaled_similarity_interpolated = get_upscaled_activation_interpolated(latent_activation,\n",
    "#                                                                                        image_size=(args.image_size, args.image_size))\n",
    "                            latent_activation_npy = latent_activation.squeeze().cpu().numpy()\n",
    "                            data = {'node_name': node.name,\n",
    "                                    'proto_num': p,\n",
    "                                    'child_name': child_classname,\n",
    "                                    'leaf_desc': leaf_descendent,\n",
    "                                     'rank': rank,\n",
    "                                     'img_path': img_to_open,\n",
    "                                     'img_filename': ntpath.basename(img_to_open),\n",
    "                                     'activation': latent_activation_npy,\n",
    "                                     'max_activation': activation,\n",
    "                                     'model_type': 'NAIVE-HPIPNET'}\n",
    "                            filename = str(rank)+ '-' + ntpath.basename(img_to_open) + '.npy'\n",
    "                            save_path = os.path.join(run_path, save_activation_as_npy_path, \\\n",
    "                                                     node.name, str(p), leaf_descendent,\n",
    "                                                     filename)\n",
    "                            os.makedirs(os.path.dirname(save_path), exist_ok=True)\n",
    "                            np.save(save_path, data, allow_pickle=True)\n",
    "\n",
    "                    # description on the right hand side\n",
    "                    text = f'{mean_activation}, {leaf_descendent}'\n",
    "                    txtimage = Image.new(\"RGB\", (patches[0].shape[-2]*text_region_width,patches[0].shape[-1]), (0, 0, 0))\n",
    "                    draw = D.Draw(txtimage)\n",
    "                    draw.text((150, patches[0].shape[1]//2), text, anchor='mm', fill=\"white\", font=font)\n",
    "                    txttensor = transforms.ToTensor()(txtimage)#.unsqueeze_(0)\n",
    "                    right_descriptions.append(txttensor)\n",
    "                    \n",
    "                # weird thing padding should be zero for non descendants else it raises some error # change\n",
    "                if find_non_descendants or (len(patches) == topk): # (len(patches) == topk) means there is only one leaf descendant\n",
    "                    padding = 0\n",
    "                else:\n",
    "                    padding = 1\n",
    "\n",
    "                grid = torchvision.utils.make_grid(patches, nrow=topk, padding=padding)\n",
    "                grid_right_descriptions = torchvision.utils.make_grid(right_descriptions, nrow=1, padding=padding)\n",
    "\n",
    "                # merging right description with the grid of images\n",
    "                grid = torch.cat([grid, grid_right_descriptions], dim=-1)\n",
    "\n",
    "                # description on the top\n",
    "                text = f'Node:{node.name}, p{p}, Child:{child_classname}'\n",
    "                txtimage = Image.new(\"RGB\", (grid.shape[-1], args.wshape), (0, 0, 0))\n",
    "                draw = D.Draw(txtimage)\n",
    "                draw.text((150, patches[0].shape[1]//2), text, anchor='mm', fill=\"white\", font=font)\n",
    "                txttensor = transforms.ToTensor()(txtimage)#.unsqueeze_(0)\n",
    "\n",
    "                # merging top description with the grid of images\n",
    "                grid = torch.cat([grid, txttensor], dim=1)\n",
    "                \n",
    "                if save_images:\n",
    "                    prefix = 'non_' if find_non_descendants else ''\n",
    "                    os.makedirs(os.path.join(run_path, prefix+f'descendent_specific_topk_heatmap_ep={epoch}', node.name), exist_ok=True)\n",
    "                    torchvision.utils.save_image(grid, os.path.join(run_path, prefix+f'descendent_specific_topk_heatmap_ep={epoch}', node.name, f'{child_classname}-p{p}.png'))\n",
    "\n",
    "txt_file.write('\\n')\n",
    "txt_file.close()\n",
    "print('Done !!!')"
   ]
  },
  {
   "cell_type": "markdown",
   "metadata": {},
   "source": [
    "# Proto activations on leaf descendents - topk images using  NAIVE-HPIPNET with HEATMAP (clean visualization)"
   ]
  },
  {
   "cell_type": "code",
   "execution_count": 17,
   "metadata": {
    "scrolled": true
   },
   "outputs": [
    {
     "name": "stdout",
     "output_type": "stream",
     "text": [
      "Skipping node root\n"
     ]
    },
    {
     "name": "stderr",
     "output_type": "stream",
     "text": [
      "Collecting topk: 5392it [05:18, 16.93it/s]\n"
     ]
    },
    {
     "name": "stdout",
     "output_type": "stream",
     "text": [
      "Node 129+024+067\n",
      "\t Child: 129+065\n",
      "\t\tProto:6 cub_005_Crested_Auklet:(0.9174) cub_006_Least_Auklet:(0.8956) cub_007_Parakeet_Auklet:(0.9772) cub_008_Rhinoceros_Auklet:(0.915) cub_009_Brewer_Blackbird:(0.978) cub_010_Red_winged_Blackbird:(0.9484) cub_011_Rusty_Blackbird:(0.9702) cub_012_Yellow_headed_Blackbird:(0.997) cub_013_Bobolink:(0.9887) cub_014_Indigo_Bunting:(0.9836) cub_015_Lazuli_Bunting:(0.9931) cub_016_Painted_Bunting:(0.9962) cub_017_Cardinal:(0.9807) cub_018_Spotted_Catbird:(0.9255) cub_019_Gray_Catbird:(0.9847) cub_020_Yellow_breasted_Chat:(0.9839) cub_021_Eastern_Towhee:(0.9881) cub_026_Bronzed_Cowbird:(0.9488) cub_027_Shiny_Cowbird:(0.9729) cub_028_Brown_Creeper:(0.9612) cub_029_American_Crow:(0.9386) cub_030_Fish_Crow:(0.9465) cub_034_Gray_crowned_Rosy_Finch:(0.9746) cub_035_Purple_Finch:(0.9717) cub_036_Northern_Flicker:(0.9537) cub_037_Acadian_Flycatcher:(0.9865) cub_038_Great_Crested_Flycatcher:(0.983) cub_039_Least_Flycatcher:(0.9833) cub_040_Olive_sided_Flycatcher:(0.95) cub_041_Scissor_tailed_Flycatcher:(0.9246) cub_042_Vermilion_Flycatcher:(0.9845) cub_043_Yellow_bellied_Flycatcher:(0.996) cub_047_American_Goldfinch:(0.9957) cub_048_European_Goldfinch:(0.9935) cub_049_Boat_tailed_Grackle:(0.9622) cub_054_Blue_Grosbeak:(0.9863) cub_055_Evening_Grosbeak:(0.991) cub_056_Pine_Grosbeak:(0.9727) cub_057_Rose_breasted_Grosbeak:(0.9903) cub_058_Pigeon_Guillemot:(0.9011) cub_059_California_Gull:(0.9169) cub_060_Glaucous_winged_Gull:(0.9415) cub_061_Heermann_Gull:(0.9794) cub_062_Herring_Gull:(0.9251) cub_063_Ivory_Gull:(0.8304) cub_064_Ring_billed_Gull:(0.9574) cub_065_Slaty_backed_Gull:(0.85) cub_066_Western_Gull:(0.9062) cub_071_Long_tailed_Jaeger:(0.7533) cub_072_Pomarine_Jaeger:(0.6689) cub_073_Blue_Jay:(0.9977) cub_074_Florida_Jay:(0.991) cub_076_Dark_eyed_Junco:(0.9873) cub_077_Tropical_Kingbird:(0.964) cub_078_Gray_Kingbird:(0.9238) cub_079_Belted_Kingfisher:(0.9782) cub_080_Green_Kingfisher:(0.9212) cub_081_Pied_Kingfisher:(0.9819) cub_082_Ringed_Kingfisher:(0.9427) cub_083_White_breasted_Kingfisher:(0.9291) cub_084_Red_legged_Kittiwake:(0.9111) cub_085_Horned_Lark:(0.9975) cub_088_Western_Meadowlark:(0.9877) cub_091_Mockingbird:(0.9799) cub_093_Clark_Nutcracker:(0.9436) cub_094_White_breasted_Nuthatch:(0.9583) cub_095_Baltimore_Oriole:(0.9943) cub_096_Hooded_Oriole:(0.9916) cub_097_Orchard_Oriole:(0.9893) cub_098_Scott_Oriole:(0.9898) cub_099_Ovenbird:(0.9914) cub_102_Western_Wood_Pewee:(0.9709) cub_104_American_Pipit:(0.9918) cub_106_Horned_Puffin:(0.9515) cub_107_Common_Raven:(0.9725) cub_108_White_necked_Raven:(0.936) cub_109_American_Redstart:(0.9938) cub_111_Loggerhead_Shrike:(0.9865) cub_112_Great_Grey_Shrike:(0.9847) cub_113_Baird_Sparrow:(0.9895) cub_114_Black_throated_Sparrow:(0.9988) cub_115_Brewer_Sparrow:(0.9909) cub_116_Chipping_Sparrow:(0.9976) cub_117_Clay_colored_Sparrow:(0.9916) cub_118_House_Sparrow:(0.9944) cub_119_Field_Sparrow:(0.9937) cub_120_Fox_Sparrow:(0.9913) cub_121_Grasshopper_Sparrow:(0.9952) cub_122_Harris_Sparrow:(0.9819) cub_123_Henslow_Sparrow:(0.9993) cub_124_Le_Conte_Sparrow:(0.9908) cub_125_Lincoln_Sparrow:(0.9959) cub_126_Nelson_Sharp_tailed_Sparrow:(0.994) cub_127_Savannah_Sparrow:(0.9977) cub_128_Seaside_Sparrow:(0.9889) cub_129_Song_Sparrow:(0.9966) cub_130_Tree_Sparrow:(0.9911) cub_131_Vesper_Sparrow:(0.9912) cub_132_White_crowned_Sparrow:(0.9984) cub_133_White_throated_Sparrow:(0.9968) cub_136_Barn_Swallow:(0.9654) cub_137_Cliff_Swallow:(0.9698) cub_138_Tree_Swallow:(0.9564) cub_139_Scarlet_Tanager:(0.9934) cub_140_Summer_Tanager:(0.9929) cub_141_Artic_Tern:(0.8867) cub_142_Black_Tern:(0.9698) cub_143_Caspian_Tern:(0.9519) cub_144_Common_Tern:(0.9412) cub_145_Elegant_Tern:(0.9635) cub_146_Forsters_Tern:(0.9232) cub_147_Least_Tern:(0.9418) cub_148_Green_tailed_Towhee:(0.9825) cub_149_Brown_Thrasher:(0.9766) cub_150_Sage_Thrasher:(0.9908) cub_151_Black_capped_Vireo:(0.9768) cub_152_Blue_headed_Vireo:(0.9916) cub_153_Philadelphia_Vireo:(0.9911) cub_154_Red_eyed_Vireo:(0.9835) cub_155_Warbling_Vireo:(0.9855) cub_156_White_eyed_Vireo:(0.99) cub_157_Yellow_throated_Vireo:(0.999) cub_158_Bay_breasted_Warbler:(0.9864) cub_159_Black_and_white_Warbler:(0.9954) cub_160_Black_throated_Blue_Warbler:(0.9945) cub_161_Blue_winged_Warbler:(0.9991) cub_162_Canada_Warbler:(0.9942) cub_163_Cape_May_Warbler:(0.9965) cub_164_Cerulean_Warbler:(0.9924) cub_165_Chestnut_sided_Warbler:(0.9973) cub_166_Golden_winged_Warbler:(0.9994) cub_167_Hooded_Warbler:(0.9911) cub_168_Kentucky_Warbler:(0.9915) cub_169_Magnolia_Warbler:(0.9985) cub_170_Mourning_Warbler:(0.9876) cub_172_Nashville_Warbler:(0.9898) cub_173_Orange_crowned_Warbler:(0.9983) cub_174_Palm_Warbler:(0.9967) cub_175_Pine_Warbler:(0.9972) cub_176_Prairie_Warbler:(0.9981) cub_177_Prothonotary_Warbler:(0.9953) cub_178_Swainson_Warbler:(0.9846) cub_179_Tennessee_Warbler:(0.9954) cub_180_Wilson_Warbler:(0.9942) cub_181_Worm_eating_Warbler:(0.9966) cub_182_Yellow_Warbler:(0.9962) cub_183_Northern_Waterthrush:(0.9966) cub_184_Louisiana_Waterthrush:(0.9975) cub_185_Bohemian_Waxwing:(0.99) cub_186_Cedar_Waxwing:(0.9886) cub_187_American_Three_toed_Woodpecker:(0.9909) cub_188_Pileated_Woodpecker:(0.9789) cub_189_Red_bellied_Woodpecker:(0.9479) cub_190_Red_cockaded_Woodpecker:(0.983) cub_191_Red_headed_Woodpecker:(0.9886) cub_192_Downy_Woodpecker:(0.999) cub_193_Bewick_Wren:(0.9907) cub_194_Cactus_Wren:(0.9916) cub_195_Carolina_Wren:(0.9817) cub_196_House_Wren:(0.9656) cub_197_Marsh_Wren:(0.9783) cub_198_Rock_Wren:(0.9685) cub_199_Winter_Wren:(0.9532) cub_200_Common_Yellowthroat:(0.9897) \n",
      "\t Child: 024+051\n",
      "\t\tProto:16 cub_001_Black_footed_Albatross:(0.7871) cub_002_Laysan_Albatross:(0.6784) cub_003_Sooty_Albatross:(0.6245) cub_004_Groove_billed_Ani:(0.4122) cub_023_Brandt_Cormorant:(0.6457) cub_024_Red_faced_Cormorant:(0.593) cub_025_Pelagic_Cormorant:(0.5691) cub_031_Black_billed_Cuckoo:(0.7026) cub_032_Mangrove_Cuckoo:(0.5077) cub_033_Yellow_billed_Cuckoo:(0.7191) cub_045_Northern_Fulmar:(0.4494) cub_050_Eared_Grebe:(0.8722) cub_051_Horned_Grebe:(0.8349) cub_052_Pied_billed_Grebe:(0.8524) cub_053_Western_Grebe:(0.8444) cub_086_Pacific_Loon:(0.8492) cub_100_Brown_Pelican:(0.9465) cub_101_White_Pelican:(0.8021) \n",
      "\t\tProto:17 cub_001_Black_footed_Albatross:(0.0849) cub_002_Laysan_Albatross:(0.0619) cub_003_Sooty_Albatross:(0.0769) cub_004_Groove_billed_Ani:(0.0451) cub_023_Brandt_Cormorant:(0.0666) cub_024_Red_faced_Cormorant:(0.0356) cub_025_Pelagic_Cormorant:(0.0709) cub_031_Black_billed_Cuckoo:(0.0702) cub_032_Mangrove_Cuckoo:(0.0389) cub_033_Yellow_billed_Cuckoo:(0.0587) cub_045_Northern_Fulmar:(0.0431) cub_050_Eared_Grebe:(0.1067) cub_051_Horned_Grebe:(0.1027) cub_052_Pied_billed_Grebe:(0.0702) cub_053_Western_Grebe:(0.1049) cub_086_Pacific_Loon:(0.0655) cub_100_Brown_Pelican:(0.0733) cub_101_White_Pelican:(0.0469) \n",
      "\t\tProto:18 cub_001_Black_footed_Albatross:(0.069) cub_002_Laysan_Albatross:(0.0654) cub_003_Sooty_Albatross:(0.0847) cub_004_Groove_billed_Ani:(0.0521) cub_023_Brandt_Cormorant:(0.0425) cub_024_Red_faced_Cormorant:(0.0353) cub_025_Pelagic_Cormorant:(0.0574) cub_031_Black_billed_Cuckoo:(0.0408) cub_032_Mangrove_Cuckoo:(0.0292) cub_033_Yellow_billed_Cuckoo:(0.0339) cub_045_Northern_Fulmar:(0.0525) cub_050_Eared_Grebe:(0.0769) cub_051_Horned_Grebe:(0.0814) cub_052_Pied_billed_Grebe:(0.0516) cub_053_Western_Grebe:(0.0808) cub_086_Pacific_Loon:(0.0491) cub_100_Brown_Pelican:(0.1371) cub_101_White_Pelican:(0.0836) \n",
      "\t\tProto:11 cub_001_Black_footed_Albatross:(0.0861) cub_002_Laysan_Albatross:(0.0629) cub_003_Sooty_Albatross:(0.0877) cub_004_Groove_billed_Ani:(0.0455) cub_023_Brandt_Cormorant:(0.0664) cub_024_Red_faced_Cormorant:(0.0329) cub_025_Pelagic_Cormorant:(0.0984) cub_031_Black_billed_Cuckoo:(0.0764) cub_032_Mangrove_Cuckoo:(0.0326) cub_033_Yellow_billed_Cuckoo:(0.0591) cub_045_Northern_Fulmar:(0.0506) cub_050_Eared_Grebe:(0.1155) cub_051_Horned_Grebe:(0.096) cub_052_Pied_billed_Grebe:(0.0738) cub_053_Western_Grebe:(0.1259) cub_086_Pacific_Loon:(0.0839) cub_100_Brown_Pelican:(0.0864) cub_101_White_Pelican:(0.0394) \n",
      "\t Child: 067+070\n",
      "\t\tProto:24 cub_067_Anna_Hummingbird:(0.9629) cub_068_Ruby_throated_Hummingbird:(0.9601) cub_069_Rufous_Hummingbird:(0.9841) cub_070_Green_Violetear:(0.9668) \n"
     ]
    },
    {
     "name": "stderr",
     "output_type": "stream",
     "text": [
      "Collecting topk: 120it [00:11, 10.29it/s]\n"
     ]
    },
    {
     "name": "stdout",
     "output_type": "stream",
     "text": [
      "Node 089+046\n",
      "\t Child: 089+090\n",
      "\t\tProto:3 cub_089_Hooded_Merganser:(0.9998) cub_090_Red_breasted_Merganser:(1.0) \n",
      "\t\tProto:7 cub_089_Hooded_Merganser:(0.9999) cub_090_Red_breasted_Merganser:(1.0) \n",
      "\t Child: 046+087\n",
      "\t\tProto:19 cub_046_Gadwall:(0.9998) cub_087_Mallard:(0.9998) \n",
      "\t\tProto:15 cub_046_Gadwall:(0.9998) cub_087_Mallard:(1.0) \n"
     ]
    },
    {
     "name": "stderr",
     "output_type": "stream",
     "text": [
      "Collecting topk: 4761it [03:39, 21.70it/s]\n"
     ]
    },
    {
     "name": "stdout",
     "output_type": "stream",
     "text": [
      "Node 129+065\n",
      "\t Child: 129+192\n",
      "\t\tProto:4 cub_009_Brewer_Blackbird:(0.9058) cub_010_Red_winged_Blackbird:(0.9983) cub_011_Rusty_Blackbird:(0.986) cub_012_Yellow_headed_Blackbird:(0.9998) cub_013_Bobolink:(0.9995) cub_014_Indigo_Bunting:(0.9993) cub_015_Lazuli_Bunting:(1.0) cub_016_Painted_Bunting:(1.0) cub_017_Cardinal:(0.9996) cub_018_Spotted_Catbird:(0.9999) cub_019_Gray_Catbird:(0.9883) cub_020_Yellow_breasted_Chat:(1.0) cub_021_Eastern_Towhee:(0.9999) cub_026_Bronzed_Cowbird:(0.9964) cub_027_Shiny_Cowbird:(0.9872) cub_028_Brown_Creeper:(0.9971) cub_029_American_Crow:(0.9654) cub_030_Fish_Crow:(0.9558) cub_034_Gray_crowned_Rosy_Finch:(0.9991) cub_035_Purple_Finch:(0.9998) cub_036_Northern_Flicker:(0.9942) cub_037_Acadian_Flycatcher:(1.0) cub_038_Great_Crested_Flycatcher:(1.0) cub_039_Least_Flycatcher:(0.9999) cub_040_Olive_sided_Flycatcher:(0.9991) cub_041_Scissor_tailed_Flycatcher:(0.9965) cub_042_Vermilion_Flycatcher:(1.0) cub_043_Yellow_bellied_Flycatcher:(1.0) cub_047_American_Goldfinch:(1.0) cub_048_European_Goldfinch:(1.0) cub_049_Boat_tailed_Grackle:(0.9922) cub_054_Blue_Grosbeak:(0.9999) cub_055_Evening_Grosbeak:(1.0) cub_056_Pine_Grosbeak:(0.9998) cub_057_Rose_breasted_Grosbeak:(0.999) cub_073_Blue_Jay:(0.9939) cub_074_Florida_Jay:(0.9983) cub_076_Dark_eyed_Junco:(0.9917) cub_077_Tropical_Kingbird:(1.0) cub_078_Gray_Kingbird:(0.9994) cub_079_Belted_Kingfisher:(0.9891) cub_080_Green_Kingfisher:(0.9992) cub_081_Pied_Kingfisher:(0.8597) cub_082_Ringed_Kingfisher:(0.9996) cub_083_White_breasted_Kingfisher:(0.9994) cub_085_Horned_Lark:(0.9945) cub_088_Western_Meadowlark:(1.0) cub_091_Mockingbird:(0.9989) cub_093_Clark_Nutcracker:(0.9862) cub_094_White_breasted_Nuthatch:(0.985) cub_095_Baltimore_Oriole:(1.0) cub_096_Hooded_Oriole:(1.0) cub_097_Orchard_Oriole:(1.0) cub_098_Scott_Oriole:(1.0) cub_099_Ovenbird:(0.9994) cub_102_Western_Wood_Pewee:(0.9997) cub_104_American_Pipit:(0.9996) cub_107_Common_Raven:(0.9491) cub_108_White_necked_Raven:(0.9769) cub_109_American_Redstart:(1.0) cub_111_Loggerhead_Shrike:(0.9985) cub_112_Great_Grey_Shrike:(0.9949) cub_113_Baird_Sparrow:(0.9977) cub_114_Black_throated_Sparrow:(0.9998) cub_115_Brewer_Sparrow:(0.9993) cub_116_Chipping_Sparrow:(0.9989) cub_117_Clay_colored_Sparrow:(0.9993) cub_118_House_Sparrow:(0.9997) cub_119_Field_Sparrow:(0.9998) cub_120_Fox_Sparrow:(0.998) cub_121_Grasshopper_Sparrow:(0.9997) cub_122_Harris_Sparrow:(0.9905) cub_123_Henslow_Sparrow:(1.0) cub_124_Le_Conte_Sparrow:(0.9995) cub_125_Lincoln_Sparrow:(0.9986) cub_126_Nelson_Sharp_tailed_Sparrow:(0.9999) cub_127_Savannah_Sparrow:(0.9998) cub_128_Seaside_Sparrow:(0.9995) cub_129_Song_Sparrow:(0.9999) cub_130_Tree_Sparrow:(0.9995) cub_131_Vesper_Sparrow:(0.9998) cub_132_White_crowned_Sparrow:(0.9983) cub_133_White_throated_Sparrow:(0.9958) cub_136_Barn_Swallow:(0.9988) cub_137_Cliff_Swallow:(0.9919) cub_138_Tree_Swallow:(0.9899) cub_139_Scarlet_Tanager:(1.0) cub_140_Summer_Tanager:(1.0) cub_148_Green_tailed_Towhee:(0.9995) cub_149_Brown_Thrasher:(0.9999) cub_150_Sage_Thrasher:(0.9998) cub_151_Black_capped_Vireo:(0.9983) cub_152_Blue_headed_Vireo:(1.0) cub_153_Philadelphia_Vireo:(1.0) cub_154_Red_eyed_Vireo:(0.9997) cub_155_Warbling_Vireo:(1.0) cub_156_White_eyed_Vireo:(1.0) cub_157_Yellow_throated_Vireo:(1.0) cub_158_Bay_breasted_Warbler:(1.0) cub_159_Black_and_white_Warbler:(0.9923) cub_160_Black_throated_Blue_Warbler:(0.9885) cub_161_Blue_winged_Warbler:(1.0) cub_162_Canada_Warbler:(1.0) cub_163_Cape_May_Warbler:(1.0) cub_164_Cerulean_Warbler:(0.9956) cub_165_Chestnut_sided_Warbler:(0.9999) cub_166_Golden_winged_Warbler:(0.9993) cub_167_Hooded_Warbler:(1.0) cub_168_Kentucky_Warbler:(1.0) cub_169_Magnolia_Warbler:(1.0) cub_170_Mourning_Warbler:(1.0) cub_172_Nashville_Warbler:(1.0) cub_173_Orange_crowned_Warbler:(1.0) cub_174_Palm_Warbler:(1.0) cub_175_Pine_Warbler:(1.0) cub_176_Prairie_Warbler:(1.0) cub_177_Prothonotary_Warbler:(1.0) cub_178_Swainson_Warbler:(0.9988) cub_179_Tennessee_Warbler:(0.9999) cub_180_Wilson_Warbler:(1.0) cub_181_Worm_eating_Warbler:(0.999) cub_182_Yellow_Warbler:(1.0) cub_183_Northern_Waterthrush:(0.9982) cub_184_Louisiana_Waterthrush:(0.9958) cub_185_Bohemian_Waxwing:(0.9805) cub_186_Cedar_Waxwing:(1.0) cub_187_American_Three_toed_Woodpecker:(0.8502) cub_188_Pileated_Woodpecker:(0.9662) cub_189_Red_bellied_Woodpecker:(0.9975) cub_190_Red_cockaded_Woodpecker:(0.9881) cub_191_Red_headed_Woodpecker:(0.9528) cub_192_Downy_Woodpecker:(0.9957) cub_193_Bewick_Wren:(0.9976) cub_194_Cactus_Wren:(0.9997) cub_195_Carolina_Wren:(1.0) cub_196_House_Wren:(0.995) cub_197_Marsh_Wren:(0.999) cub_198_Rock_Wren:(0.9995) cub_199_Winter_Wren:(0.9821) cub_200_Common_Yellowthroat:(1.0) \n",
      "\t Child: 065+006\n",
      "\t\tProto:18 cub_005_Crested_Auklet:(0.1016) cub_006_Least_Auklet:(0.0321) cub_007_Parakeet_Auklet:(0.2476) cub_008_Rhinoceros_Auklet:(0.0397) cub_058_Pigeon_Guillemot:(0.1223) cub_059_California_Gull:(0.6133) cub_060_Glaucous_winged_Gull:(0.7666) cub_061_Heermann_Gull:(0.6945) cub_062_Herring_Gull:(0.6402) cub_063_Ivory_Gull:(0.3765) cub_064_Ring_billed_Gull:(0.4519) cub_065_Slaty_backed_Gull:(0.4251) cub_066_Western_Gull:(0.8842) cub_071_Long_tailed_Jaeger:(0.0636) cub_072_Pomarine_Jaeger:(0.0828) cub_084_Red_legged_Kittiwake:(0.5472) cub_106_Horned_Puffin:(0.0586) cub_141_Artic_Tern:(0.318) cub_142_Black_Tern:(0.075) cub_143_Caspian_Tern:(0.304) cub_144_Common_Tern:(0.2832) cub_145_Elegant_Tern:(0.3318) cub_146_Forsters_Tern:(0.4727) cub_147_Least_Tern:(0.5414) \n",
      "\t\tProto:19 cub_005_Crested_Auklet:(0.9371) cub_006_Least_Auklet:(0.8197) cub_007_Parakeet_Auklet:(0.9946) cub_008_Rhinoceros_Auklet:(0.8977) cub_058_Pigeon_Guillemot:(0.9464) cub_059_California_Gull:(0.9943) cub_060_Glaucous_winged_Gull:(0.9948) cub_061_Heermann_Gull:(0.966) cub_062_Herring_Gull:(0.9939) cub_063_Ivory_Gull:(0.9229) cub_064_Ring_billed_Gull:(0.9832) cub_065_Slaty_backed_Gull:(0.9871) cub_066_Western_Gull:(0.9944) cub_071_Long_tailed_Jaeger:(0.9151) cub_072_Pomarine_Jaeger:(0.8572) cub_084_Red_legged_Kittiwake:(0.9593) cub_106_Horned_Puffin:(0.9921) cub_141_Artic_Tern:(0.9681) cub_142_Black_Tern:(0.7973) cub_143_Caspian_Tern:(0.9743) cub_144_Common_Tern:(0.9802) cub_145_Elegant_Tern:(0.9787) cub_146_Forsters_Tern:(0.9848) cub_147_Least_Tern:(0.9911) \n"
     ]
    },
    {
     "name": "stderr",
     "output_type": "stream",
     "text": [
      "Collecting topk: 511it [00:27, 18.74it/s]\n"
     ]
    },
    {
     "name": "stdout",
     "output_type": "stream",
     "text": [
      "Node 024+051\n",
      "\t Child: 024+031\n",
      "\t\tProto:1 cub_001_Black_footed_Albatross:(0.999) cub_002_Laysan_Albatross:(0.994) cub_003_Sooty_Albatross:(0.9924) cub_004_Groove_billed_Ani:(1.0) cub_023_Brandt_Cormorant:(0.9798) cub_024_Red_faced_Cormorant:(0.9927) cub_025_Pelagic_Cormorant:(0.9975) cub_031_Black_billed_Cuckoo:(1.0) cub_032_Mangrove_Cuckoo:(1.0) cub_033_Yellow_billed_Cuckoo:(1.0) cub_045_Northern_Fulmar:(0.98) cub_086_Pacific_Loon:(0.9582) cub_100_Brown_Pelican:(0.9933) cub_101_White_Pelican:(0.9821) \n",
      "\t\tProto:3 cub_001_Black_footed_Albatross:(0.9856) cub_002_Laysan_Albatross:(0.9797) cub_003_Sooty_Albatross:(0.7222) cub_004_Groove_billed_Ani:(0.9775) cub_023_Brandt_Cormorant:(0.9966) cub_024_Red_faced_Cormorant:(0.9962) cub_025_Pelagic_Cormorant:(0.995) cub_031_Black_billed_Cuckoo:(0.9938) cub_032_Mangrove_Cuckoo:(0.9746) cub_033_Yellow_billed_Cuckoo:(0.9863) cub_045_Northern_Fulmar:(0.9922) cub_086_Pacific_Loon:(0.9583) cub_100_Brown_Pelican:(0.6559) cub_101_White_Pelican:(0.9648) \n",
      "\t\tProto:4 cub_001_Black_footed_Albatross:(0.9641) cub_002_Laysan_Albatross:(0.9641) cub_003_Sooty_Albatross:(0.9815) cub_004_Groove_billed_Ani:(0.9553) cub_023_Brandt_Cormorant:(0.9189) cub_024_Red_faced_Cormorant:(0.8139) cub_025_Pelagic_Cormorant:(0.9773) cub_031_Black_billed_Cuckoo:(0.871) cub_032_Mangrove_Cuckoo:(0.4921) cub_033_Yellow_billed_Cuckoo:(0.7352) cub_045_Northern_Fulmar:(0.9738) cub_086_Pacific_Loon:(0.8072) cub_100_Brown_Pelican:(0.9987) cub_101_White_Pelican:(0.8086) \n",
      "\t\tProto:7 cub_001_Black_footed_Albatross:(0.9124) cub_002_Laysan_Albatross:(0.9267) cub_003_Sooty_Albatross:(0.9566) cub_004_Groove_billed_Ani:(0.9977) cub_023_Brandt_Cormorant:(0.9653) cub_024_Red_faced_Cormorant:(0.9621) cub_025_Pelagic_Cormorant:(0.9974) cub_031_Black_billed_Cuckoo:(0.9991) cub_032_Mangrove_Cuckoo:(0.9983) cub_033_Yellow_billed_Cuckoo:(0.999) cub_045_Northern_Fulmar:(0.961) cub_086_Pacific_Loon:(0.8201) cub_100_Brown_Pelican:(0.9773) cub_101_White_Pelican:(0.7512) \n",
      "\t\tProto:8 cub_001_Black_footed_Albatross:(0.9379) cub_002_Laysan_Albatross:(0.9332) cub_003_Sooty_Albatross:(0.9641) cub_004_Groove_billed_Ani:(0.9999) cub_023_Brandt_Cormorant:(0.9718) cub_024_Red_faced_Cormorant:(0.9697) cub_025_Pelagic_Cormorant:(0.9996) cub_031_Black_billed_Cuckoo:(1.0) cub_032_Mangrove_Cuckoo:(1.0) cub_033_Yellow_billed_Cuckoo:(1.0) cub_045_Northern_Fulmar:(0.9447) cub_086_Pacific_Loon:(0.7133) cub_100_Brown_Pelican:(0.9701) cub_101_White_Pelican:(0.7797) \n",
      "\t Child: 051+052\n",
      "\t\tProto:10 cub_050_Eared_Grebe:(0.9996) cub_051_Horned_Grebe:(0.9994) cub_052_Pied_billed_Grebe:(0.9986) cub_053_Western_Grebe:(0.9983) \n",
      "\t\tProto:19 cub_050_Eared_Grebe:(0.9972) cub_051_Horned_Grebe:(0.9936) cub_052_Pied_billed_Grebe:(0.9953) cub_053_Western_Grebe:(0.9914) \n"
     ]
    },
    {
     "name": "stderr",
     "output_type": "stream",
     "text": [
      "Collecting topk: 120it [00:11, 10.91it/s]  \n"
     ]
    },
    {
     "name": "stdout",
     "output_type": "stream",
     "text": [
      "Node 067+070\n",
      "\t Child: 067+068\n",
      "\t\tProto:4 cub_067_Anna_Hummingbird:(0.9998) cub_068_Ruby_throated_Hummingbird:(1.0) cub_069_Rufous_Hummingbird:(1.0) \n",
      "\t\tProto:6 cub_067_Anna_Hummingbird:(0.9996) cub_068_Ruby_throated_Hummingbird:(0.9993) cub_069_Rufous_Hummingbird:(0.9992) \n",
      "\t Child: cub_070_Green_Violetear\n",
      "\t\tProto:11 cub_070_Green_Violetear:(1.0) \n"
     ]
    },
    {
     "name": "stderr",
     "output_type": "stream",
     "text": [
      "Collecting topk: 100% 60/60 [00:08<00:00,  7.19it/s]\n"
     ]
    },
    {
     "name": "stdout",
     "output_type": "stream",
     "text": [
      "Node 089+090\n",
      "\t Child: cub_089_Hooded_Merganser\n",
      "\t\tProto:1 cub_089_Hooded_Merganser:(1.0) \n",
      "\t Child: cub_090_Red_breasted_Merganser\n",
      "\t\tProto:16 cub_090_Red_breasted_Merganser:(0.9999) \n",
      "\t\tProto:11 cub_090_Red_breasted_Merganser:(1.0) \n"
     ]
    },
    {
     "name": "stderr",
     "output_type": "stream",
     "text": [
      "Collecting topk: 100% 60/60 [00:08<00:00,  7.30it/s]\n"
     ]
    },
    {
     "name": "stdout",
     "output_type": "stream",
     "text": [
      "Node 046+087\n",
      "\t Child: cub_046_Gadwall\n",
      "\t\tProto:0 cub_046_Gadwall:(1.0) \n",
      "\t\tProto:4 cub_046_Gadwall:(0.9999) \n",
      "\t Child: cub_087_Mallard\n",
      "\t\tProto:16 cub_087_Mallard:(1.0) \n",
      "\t\tProto:17 cub_087_Mallard:(1.0) \n"
     ]
    },
    {
     "name": "stderr",
     "output_type": "stream",
     "text": [
      "Collecting topk: 4116it [03:00, 22.79it/s]\n"
     ]
    },
    {
     "name": "stdout",
     "output_type": "stream",
     "text": [
      "Node 129+192\n",
      "\t Child: 129+043\n",
      "\t\tProto:3 cub_009_Brewer_Blackbird:(0.9956) cub_010_Red_winged_Blackbird:(0.99) cub_011_Rusty_Blackbird:(0.998) cub_012_Yellow_headed_Blackbird:(0.9995) cub_013_Bobolink:(0.9675) cub_014_Indigo_Bunting:(0.9994) cub_015_Lazuli_Bunting:(0.9994) cub_016_Painted_Bunting:(0.9974) cub_017_Cardinal:(0.9969) cub_018_Spotted_Catbird:(0.8514) cub_019_Gray_Catbird:(0.9994) cub_020_Yellow_breasted_Chat:(0.9997) cub_021_Eastern_Towhee:(0.9998) cub_026_Bronzed_Cowbird:(0.9944) cub_027_Shiny_Cowbird:(0.9997) cub_028_Brown_Creeper:(0.7878) cub_029_American_Crow:(0.9989) cub_030_Fish_Crow:(0.9961) cub_034_Gray_crowned_Rosy_Finch:(0.9989) cub_035_Purple_Finch:(0.9983) cub_037_Acadian_Flycatcher:(0.9979) cub_038_Great_Crested_Flycatcher:(0.9932) cub_039_Least_Flycatcher:(0.9968) cub_040_Olive_sided_Flycatcher:(0.9893) cub_041_Scissor_tailed_Flycatcher:(0.9549) cub_042_Vermilion_Flycatcher:(0.981) cub_043_Yellow_bellied_Flycatcher:(0.9996) cub_047_American_Goldfinch:(1.0) cub_048_European_Goldfinch:(0.9417) cub_049_Boat_tailed_Grackle:(0.9894) cub_054_Blue_Grosbeak:(0.9992) cub_055_Evening_Grosbeak:(0.9997) cub_056_Pine_Grosbeak:(0.9836) cub_057_Rose_breasted_Grosbeak:(0.9963) cub_073_Blue_Jay:(0.9625) cub_074_Florida_Jay:(0.9988) cub_076_Dark_eyed_Junco:(0.9997) cub_077_Tropical_Kingbird:(0.9975) cub_078_Gray_Kingbird:(0.9912) cub_085_Horned_Lark:(0.9969) cub_088_Western_Meadowlark:(0.9905) cub_091_Mockingbird:(0.9996) cub_093_Clark_Nutcracker:(0.9953) cub_094_White_breasted_Nuthatch:(0.9884) cub_095_Baltimore_Oriole:(0.999) cub_096_Hooded_Oriole:(0.9985) cub_097_Orchard_Oriole:(0.9978) cub_098_Scott_Oriole:(0.9984) cub_099_Ovenbird:(0.9938) cub_102_Western_Wood_Pewee:(0.9958) cub_104_American_Pipit:(0.9993) cub_107_Common_Raven:(0.9968) cub_108_White_necked_Raven:(0.9874) cub_109_American_Redstart:(0.9996) cub_111_Loggerhead_Shrike:(0.9972) cub_112_Great_Grey_Shrike:(0.9982) cub_113_Baird_Sparrow:(0.9986) cub_114_Black_throated_Sparrow:(0.9963) cub_115_Brewer_Sparrow:(0.9987) cub_116_Chipping_Sparrow:(0.9893) cub_117_Clay_colored_Sparrow:(0.9978) cub_118_House_Sparrow:(0.999) cub_119_Field_Sparrow:(0.9994) cub_120_Fox_Sparrow:(0.9979) cub_121_Grasshopper_Sparrow:(0.9991) cub_122_Harris_Sparrow:(0.9716) cub_123_Henslow_Sparrow:(0.9997) cub_124_Le_Conte_Sparrow:(0.9945) cub_125_Lincoln_Sparrow:(0.9996) cub_126_Nelson_Sharp_tailed_Sparrow:(0.9986) cub_127_Savannah_Sparrow:(0.9994) cub_128_Seaside_Sparrow:(0.9953) cub_129_Song_Sparrow:(0.9993) cub_130_Tree_Sparrow:(0.9937) cub_131_Vesper_Sparrow:(0.9994) cub_132_White_crowned_Sparrow:(0.9812) cub_133_White_throated_Sparrow:(0.9968) cub_136_Barn_Swallow:(0.9906) cub_137_Cliff_Swallow:(0.9803) cub_138_Tree_Swallow:(0.9945) cub_139_Scarlet_Tanager:(0.9356) cub_140_Summer_Tanager:(0.995) cub_148_Green_tailed_Towhee:(0.9898) cub_149_Brown_Thrasher:(0.9791) cub_150_Sage_Thrasher:(0.9974) cub_151_Black_capped_Vireo:(0.9833) cub_152_Blue_headed_Vireo:(0.9998) cub_153_Philadelphia_Vireo:(1.0) cub_154_Red_eyed_Vireo:(0.9971) cub_155_Warbling_Vireo:(0.9981) cub_156_White_eyed_Vireo:(0.9973) cub_157_Yellow_throated_Vireo:(0.9999) cub_158_Bay_breasted_Warbler:(0.9984) cub_159_Black_and_white_Warbler:(0.985) cub_160_Black_throated_Blue_Warbler:(0.9998) cub_161_Blue_winged_Warbler:(0.9999) cub_162_Canada_Warbler:(0.9997) cub_163_Cape_May_Warbler:(0.9992) cub_164_Cerulean_Warbler:(0.9972) cub_165_Chestnut_sided_Warbler:(0.9877) cub_166_Golden_winged_Warbler:(0.9957) cub_167_Hooded_Warbler:(0.9997) cub_168_Kentucky_Warbler:(0.9998) cub_169_Magnolia_Warbler:(0.9997) cub_170_Mourning_Warbler:(0.9992) cub_172_Nashville_Warbler:(0.9999) cub_173_Orange_crowned_Warbler:(0.9998) cub_174_Palm_Warbler:(0.9999) cub_175_Pine_Warbler:(0.9999) cub_176_Prairie_Warbler:(0.9995) cub_177_Prothonotary_Warbler:(0.9998) cub_178_Swainson_Warbler:(0.9971) cub_179_Tennessee_Warbler:(0.9998) cub_180_Wilson_Warbler:(1.0) cub_181_Worm_eating_Warbler:(0.9908) cub_182_Yellow_Warbler:(0.9996) cub_183_Northern_Waterthrush:(0.9984) cub_184_Louisiana_Waterthrush:(0.999) cub_185_Bohemian_Waxwing:(0.9885) cub_186_Cedar_Waxwing:(0.9997) cub_193_Bewick_Wren:(0.9906) cub_194_Cactus_Wren:(0.9885) cub_195_Carolina_Wren:(0.9976) cub_196_House_Wren:(0.9977) cub_197_Marsh_Wren:(0.9925) cub_198_Rock_Wren:(0.9977) cub_199_Winter_Wren:(0.9973) cub_200_Common_Yellowthroat:(1.0) \n",
      "\t Child: 192+081\n",
      "\t\tProto:19 cub_036_Northern_Flicker:(0.0921) cub_079_Belted_Kingfisher:(0.2777) cub_080_Green_Kingfisher:(0.3122) cub_081_Pied_Kingfisher:(0.2291) cub_082_Ringed_Kingfisher:(0.2402) cub_083_White_breasted_Kingfisher:(0.3107) cub_187_American_Three_toed_Woodpecker:(0.1168) cub_188_Pileated_Woodpecker:(0.1227) cub_189_Red_bellied_Woodpecker:(0.1153) cub_190_Red_cockaded_Woodpecker:(0.2601) cub_191_Red_headed_Woodpecker:(0.1546) cub_192_Downy_Woodpecker:(0.1454) \n",
      "\t\tProto:17 cub_036_Northern_Flicker:(0.058) cub_079_Belted_Kingfisher:(0.1558) cub_080_Green_Kingfisher:(0.1523) cub_081_Pied_Kingfisher:(0.1247) cub_082_Ringed_Kingfisher:(0.1719) cub_083_White_breasted_Kingfisher:(0.3734) cub_187_American_Three_toed_Woodpecker:(0.105) cub_188_Pileated_Woodpecker:(0.135) cub_189_Red_bellied_Woodpecker:(0.0729) cub_190_Red_cockaded_Woodpecker:(0.1247) cub_191_Red_headed_Woodpecker:(0.1134) cub_192_Downy_Woodpecker:(0.1503) \n",
      "\t\tProto:11 cub_036_Northern_Flicker:(0.8021) cub_079_Belted_Kingfisher:(0.8759) cub_080_Green_Kingfisher:(0.8557) cub_081_Pied_Kingfisher:(0.6549) cub_082_Ringed_Kingfisher:(0.9016) cub_083_White_breasted_Kingfisher:(0.5061) cub_187_American_Three_toed_Woodpecker:(0.4173) cub_188_Pileated_Woodpecker:(0.7981) cub_189_Red_bellied_Woodpecker:(0.9629) cub_190_Red_cockaded_Woodpecker:(0.9381) cub_191_Red_headed_Woodpecker:(0.6554) cub_192_Downy_Woodpecker:(0.6905) \n",
      "\t\tProto:14 cub_036_Northern_Flicker:(0.0449) cub_079_Belted_Kingfisher:(0.3867) cub_080_Green_Kingfisher:(0.3691) cub_081_Pied_Kingfisher:(0.3518) cub_082_Ringed_Kingfisher:(0.5341) cub_083_White_breasted_Kingfisher:(0.7774) cub_187_American_Three_toed_Woodpecker:(0.5002) cub_188_Pileated_Woodpecker:(0.4037) cub_189_Red_bellied_Woodpecker:(0.1927) cub_190_Red_cockaded_Woodpecker:(0.0771) cub_191_Red_headed_Woodpecker:(0.3005) cub_192_Downy_Woodpecker:(0.3314) \n"
     ]
    },
    {
     "name": "stderr",
     "output_type": "stream",
     "text": [
      "Collecting topk: 645it [00:33, 19.21it/s]\n"
     ]
    },
    {
     "name": "stdout",
     "output_type": "stream",
     "text": [
      "Node 065+006\n",
      "\t Child: 065+144\n",
      "\t\tProto:3 cub_059_California_Gull:(1.0) cub_060_Glaucous_winged_Gull:(1.0) cub_061_Heermann_Gull:(0.9998) cub_062_Herring_Gull:(0.9997) cub_063_Ivory_Gull:(0.9987) cub_064_Ring_billed_Gull:(0.9995) cub_065_Slaty_backed_Gull:(0.9992) cub_066_Western_Gull:(1.0) cub_084_Red_legged_Kittiwake:(0.9998) cub_141_Artic_Tern:(0.9983) cub_142_Black_Tern:(0.7096) cub_143_Caspian_Tern:(0.999) cub_144_Common_Tern:(0.9966) cub_145_Elegant_Tern:(0.9994) cub_146_Forsters_Tern:(0.9992) cub_147_Least_Tern:(0.9978) \n",
      "\t\tProto:7 cub_059_California_Gull:(0.6198) cub_060_Glaucous_winged_Gull:(0.8744) cub_061_Heermann_Gull:(0.526) cub_062_Herring_Gull:(0.8965) cub_063_Ivory_Gull:(0.9252) cub_064_Ring_billed_Gull:(0.786) cub_065_Slaty_backed_Gull:(0.5311) cub_066_Western_Gull:(0.6809) cub_084_Red_legged_Kittiwake:(0.7124) cub_141_Artic_Tern:(0.9211) cub_142_Black_Tern:(0.8566) cub_143_Caspian_Tern:(0.6736) cub_144_Common_Tern:(0.9501) cub_145_Elegant_Tern:(0.8848) cub_146_Forsters_Tern:(0.953) cub_147_Least_Tern:(0.8132) \n",
      "\t Child: 006+071\n",
      "\t\tProto:16 cub_005_Crested_Auklet:(0.9706) cub_006_Least_Auklet:(0.6196) cub_007_Parakeet_Auklet:(0.991) cub_008_Rhinoceros_Auklet:(0.9144) cub_058_Pigeon_Guillemot:(0.9841) cub_071_Long_tailed_Jaeger:(0.5216) cub_072_Pomarine_Jaeger:(0.6193) cub_106_Horned_Puffin:(0.9974) \n",
      "\t\tProto:13 cub_005_Crested_Auklet:(0.8014) cub_006_Least_Auklet:(0.9407) cub_007_Parakeet_Auklet:(0.9982) cub_008_Rhinoceros_Auklet:(0.6612) cub_058_Pigeon_Guillemot:(0.7825) cub_071_Long_tailed_Jaeger:(0.8626) cub_072_Pomarine_Jaeger:(0.9503) cub_106_Horned_Puffin:(0.9785) \n",
      "\t\tProto:14 cub_005_Crested_Auklet:(0.8908) cub_006_Least_Auklet:(0.9166) cub_007_Parakeet_Auklet:(0.9947) cub_008_Rhinoceros_Auklet:(0.92) cub_058_Pigeon_Guillemot:(0.7139) cub_071_Long_tailed_Jaeger:(0.2657) cub_072_Pomarine_Jaeger:(0.5652) cub_106_Horned_Puffin:(0.9956) \n",
      "\t\tProto:15 cub_005_Crested_Auklet:(0.4138) cub_006_Least_Auklet:(0.5628) cub_007_Parakeet_Auklet:(0.6377) cub_008_Rhinoceros_Auklet:(0.756) cub_058_Pigeon_Guillemot:(0.7037) cub_071_Long_tailed_Jaeger:(0.3185) cub_072_Pomarine_Jaeger:(0.3055) cub_106_Horned_Puffin:(0.5885) \n"
     ]
    },
    {
     "name": "stderr",
     "output_type": "stream",
     "text": [
      "Collecting topk: 391it [00:22, 17.34it/s]\n"
     ]
    },
    {
     "name": "stdout",
     "output_type": "stream",
     "text": [
      "Node 024+031\n",
      "\t Child: 024+086\n",
      "\t\tProto:8 cub_001_Black_footed_Albatross:(0.87) cub_002_Laysan_Albatross:(0.9893) cub_003_Sooty_Albatross:(0.9968) cub_023_Brandt_Cormorant:(0.9326) cub_024_Red_faced_Cormorant:(0.4126) cub_025_Pelagic_Cormorant:(0.9023) cub_045_Northern_Fulmar:(0.9885) cub_086_Pacific_Loon:(0.9659) cub_100_Brown_Pelican:(0.9561) cub_101_White_Pelican:(0.8141) \n",
      "\t\tProto:1 cub_001_Black_footed_Albatross:(0.9762) cub_002_Laysan_Albatross:(0.9883) cub_003_Sooty_Albatross:(0.9947) cub_023_Brandt_Cormorant:(0.9889) cub_024_Red_faced_Cormorant:(0.5456) cub_025_Pelagic_Cormorant:(0.8078) cub_045_Northern_Fulmar:(0.9553) cub_086_Pacific_Loon:(0.9983) cub_100_Brown_Pelican:(0.9898) cub_101_White_Pelican:(0.951) \n",
      "\t\tProto:2 cub_001_Black_footed_Albatross:(0.9977) cub_002_Laysan_Albatross:(0.9981) cub_003_Sooty_Albatross:(0.9956) cub_023_Brandt_Cormorant:(0.9978) cub_024_Red_faced_Cormorant:(0.9983) cub_025_Pelagic_Cormorant:(0.9985) cub_045_Northern_Fulmar:(0.9907) cub_086_Pacific_Loon:(0.9997) cub_100_Brown_Pelican:(0.9853) cub_101_White_Pelican:(0.9996) \n",
      "\t\tProto:6 cub_001_Black_footed_Albatross:(0.9976) cub_002_Laysan_Albatross:(0.9977) cub_003_Sooty_Albatross:(0.9996) cub_023_Brandt_Cormorant:(0.969) cub_024_Red_faced_Cormorant:(0.9512) cub_025_Pelagic_Cormorant:(0.9626) cub_045_Northern_Fulmar:(0.5818) cub_086_Pacific_Loon:(0.9995) cub_100_Brown_Pelican:(0.972) cub_101_White_Pelican:(0.9706) \n",
      "\t Child: 031+004\n",
      "\t\tProto:10 cub_004_Groove_billed_Ani:(0.9999) cub_031_Black_billed_Cuckoo:(0.9992) cub_032_Mangrove_Cuckoo:(0.9988) cub_033_Yellow_billed_Cuckoo:(0.9964) \n",
      "\t\tProto:18 cub_004_Groove_billed_Ani:(0.8607) cub_031_Black_billed_Cuckoo:(0.9278) cub_032_Mangrove_Cuckoo:(0.8977) cub_033_Yellow_billed_Cuckoo:(0.9039) \n"
     ]
    },
    {
     "name": "stderr",
     "output_type": "stream",
     "text": [
      "Collecting topk: 120it [00:10, 10.99it/s]  \n"
     ]
    },
    {
     "name": "stdout",
     "output_type": "stream",
     "text": [
      "Node 051+052\n",
      "\t Child: 051+053\n",
      "\t\tProto:0 cub_050_Eared_Grebe:(0.9996) cub_051_Horned_Grebe:(1.0) cub_053_Western_Grebe:(0.9998) \n",
      "\t\tProto:5 cub_050_Eared_Grebe:(1.0) cub_051_Horned_Grebe:(0.9999) cub_053_Western_Grebe:(1.0) \n",
      "\t Child: cub_052_Pied_billed_Grebe\n",
      "\t\tProto:16 cub_052_Pied_billed_Grebe:(0.9993) \n",
      "\t\tProto:13 cub_052_Pied_billed_Grebe:(0.9998) \n",
      "\t\tProto:15 cub_052_Pied_billed_Grebe:(1.0) \n"
     ]
    },
    {
     "name": "stderr",
     "output_type": "stream",
     "text": [
      "Collecting topk: 90it [00:09,  9.32it/s]   \n"
     ]
    },
    {
     "name": "stdout",
     "output_type": "stream",
     "text": [
      "Node 067+068\n",
      "\t Child: 067+069\n",
      "\t\tProto:1 cub_067_Anna_Hummingbird:(1.0) cub_069_Rufous_Hummingbird:(1.0) \n",
      "\t Child: cub_068_Ruby_throated_Hummingbird\n",
      "\t\tProto:13 cub_068_Ruby_throated_Hummingbird:(0.9996) \n"
     ]
    },
    {
     "name": "stderr",
     "output_type": "stream",
     "text": [
      "Collecting topk: 3767it [02:45, 22.70it/s]\n"
     ]
    },
    {
     "name": "stdout",
     "output_type": "stream",
     "text": [
      "Node 129+043\n",
      "\t Child: 129+018\n",
      "\t\tProto:3 cub_009_Brewer_Blackbird:(0.9933) cub_010_Red_winged_Blackbird:(0.9731) cub_011_Rusty_Blackbird:(0.9838) cub_012_Yellow_headed_Blackbird:(0.985) cub_013_Bobolink:(0.9939) cub_014_Indigo_Bunting:(0.9849) cub_015_Lazuli_Bunting:(0.9506) cub_016_Painted_Bunting:(0.9494) cub_017_Cardinal:(0.7742) cub_018_Spotted_Catbird:(0.9456) cub_019_Gray_Catbird:(0.7857) cub_020_Yellow_breasted_Chat:(0.92) cub_021_Eastern_Towhee:(0.9719) cub_026_Bronzed_Cowbird:(0.9899) cub_027_Shiny_Cowbird:(0.9808) cub_028_Brown_Creeper:(0.9093) cub_029_American_Crow:(0.9796) cub_030_Fish_Crow:(0.9776) cub_034_Gray_crowned_Rosy_Finch:(0.9867) cub_035_Purple_Finch:(0.8963) cub_047_American_Goldfinch:(0.944) cub_048_European_Goldfinch:(0.9349) cub_049_Boat_tailed_Grackle:(0.9805) cub_054_Blue_Grosbeak:(0.986) cub_055_Evening_Grosbeak:(0.9644) cub_056_Pine_Grosbeak:(0.8754) cub_057_Rose_breasted_Grosbeak:(0.9804) cub_073_Blue_Jay:(0.9718) cub_074_Florida_Jay:(0.9111) cub_076_Dark_eyed_Junco:(0.8533) cub_085_Horned_Lark:(0.9954) cub_088_Western_Meadowlark:(0.9937) cub_091_Mockingbird:(0.5512) cub_093_Clark_Nutcracker:(0.8321) cub_094_White_breasted_Nuthatch:(0.8123) cub_095_Baltimore_Oriole:(0.965) cub_096_Hooded_Oriole:(0.9982) cub_097_Orchard_Oriole:(0.9745) cub_098_Scott_Oriole:(0.9896) cub_099_Ovenbird:(0.9702) cub_104_American_Pipit:(0.9142) cub_107_Common_Raven:(0.9751) cub_108_White_necked_Raven:(0.9868) cub_109_American_Redstart:(0.9313) cub_111_Loggerhead_Shrike:(0.5679) cub_112_Great_Grey_Shrike:(0.7357) cub_113_Baird_Sparrow:(0.9932) cub_114_Black_throated_Sparrow:(0.9797) cub_115_Brewer_Sparrow:(0.9676) cub_116_Chipping_Sparrow:(0.9327) cub_117_Clay_colored_Sparrow:(0.9807) cub_118_House_Sparrow:(0.917) cub_119_Field_Sparrow:(0.9321) cub_120_Fox_Sparrow:(0.8762) cub_121_Grasshopper_Sparrow:(0.9776) cub_122_Harris_Sparrow:(0.9936) cub_123_Henslow_Sparrow:(0.9955) cub_124_Le_Conte_Sparrow:(0.9937) cub_125_Lincoln_Sparrow:(0.9953) cub_126_Nelson_Sharp_tailed_Sparrow:(0.9717) cub_127_Savannah_Sparrow:(0.982) cub_128_Seaside_Sparrow:(0.9604) cub_129_Song_Sparrow:(0.9699) cub_130_Tree_Sparrow:(0.9537) cub_131_Vesper_Sparrow:(0.9784) cub_132_White_crowned_Sparrow:(0.9854) cub_133_White_throated_Sparrow:(0.9755) cub_136_Barn_Swallow:(0.8826) cub_137_Cliff_Swallow:(0.9407) cub_138_Tree_Swallow:(0.852) cub_139_Scarlet_Tanager:(0.9702) cub_140_Summer_Tanager:(0.8537) cub_148_Green_tailed_Towhee:(0.8704) cub_149_Brown_Thrasher:(0.9662) cub_150_Sage_Thrasher:(0.9869) cub_151_Black_capped_Vireo:(0.9792) cub_152_Blue_headed_Vireo:(0.8365) cub_153_Philadelphia_Vireo:(0.7292) cub_154_Red_eyed_Vireo:(0.8033) cub_155_Warbling_Vireo:(0.6961) cub_156_White_eyed_Vireo:(0.8193) cub_157_Yellow_throated_Vireo:(0.898) cub_158_Bay_breasted_Warbler:(0.9008) cub_159_Black_and_white_Warbler:(0.99) cub_160_Black_throated_Blue_Warbler:(0.9883) cub_161_Blue_winged_Warbler:(0.927) cub_162_Canada_Warbler:(0.9886) cub_163_Cape_May_Warbler:(0.9911) cub_164_Cerulean_Warbler:(0.9145) cub_165_Chestnut_sided_Warbler:(0.9304) cub_166_Golden_winged_Warbler:(0.9699) cub_167_Hooded_Warbler:(0.9968) cub_168_Kentucky_Warbler:(0.9945) cub_169_Magnolia_Warbler:(0.9935) cub_170_Mourning_Warbler:(0.8504) cub_172_Nashville_Warbler:(0.8011) cub_173_Orange_crowned_Warbler:(0.5706) cub_174_Palm_Warbler:(0.9093) cub_175_Pine_Warbler:(0.9404) cub_176_Prairie_Warbler:(0.9905) cub_177_Prothonotary_Warbler:(0.9929) cub_178_Swainson_Warbler:(0.7913) cub_179_Tennessee_Warbler:(0.7988) cub_180_Wilson_Warbler:(0.8987) cub_181_Worm_eating_Warbler:(0.9662) cub_182_Yellow_Warbler:(0.9642) cub_183_Northern_Waterthrush:(0.9497) cub_184_Louisiana_Waterthrush:(0.8672) cub_185_Bohemian_Waxwing:(0.9036) cub_186_Cedar_Waxwing:(0.6301) cub_193_Bewick_Wren:(0.962) cub_194_Cactus_Wren:(0.9958) cub_195_Carolina_Wren:(0.9775) cub_196_House_Wren:(0.8278) cub_197_Marsh_Wren:(0.9553) cub_198_Rock_Wren:(0.8783) cub_199_Winter_Wren:(0.9568) cub_200_Common_Yellowthroat:(0.9881) \n",
      "\t\tProto:4 cub_009_Brewer_Blackbird:(0.9788) cub_010_Red_winged_Blackbird:(0.9929) cub_011_Rusty_Blackbird:(0.9704) cub_012_Yellow_headed_Blackbird:(0.9949) cub_013_Bobolink:(0.9872) cub_014_Indigo_Bunting:(0.9952) cub_015_Lazuli_Bunting:(0.9944) cub_016_Painted_Bunting:(0.9843) cub_017_Cardinal:(0.9427) cub_018_Spotted_Catbird:(0.97) cub_019_Gray_Catbird:(0.9277) cub_020_Yellow_breasted_Chat:(0.9824) cub_021_Eastern_Towhee:(0.9926) cub_026_Bronzed_Cowbird:(0.9976) cub_027_Shiny_Cowbird:(0.9924) cub_028_Brown_Creeper:(0.8707) cub_029_American_Crow:(0.9835) cub_030_Fish_Crow:(0.972) cub_034_Gray_crowned_Rosy_Finch:(0.9955) cub_035_Purple_Finch:(0.9905) cub_047_American_Goldfinch:(0.9929) cub_048_European_Goldfinch:(0.9964) cub_049_Boat_tailed_Grackle:(0.9704) cub_054_Blue_Grosbeak:(0.9923) cub_055_Evening_Grosbeak:(0.9994) cub_056_Pine_Grosbeak:(0.906) cub_057_Rose_breasted_Grosbeak:(0.999) cub_073_Blue_Jay:(0.997) cub_074_Florida_Jay:(0.9279) cub_076_Dark_eyed_Junco:(0.977) cub_085_Horned_Lark:(0.9994) cub_088_Western_Meadowlark:(0.994) cub_091_Mockingbird:(0.7714) cub_093_Clark_Nutcracker:(0.9546) cub_094_White_breasted_Nuthatch:(0.9462) cub_095_Baltimore_Oriole:(0.9765) cub_096_Hooded_Oriole:(0.9924) cub_097_Orchard_Oriole:(0.9887) cub_098_Scott_Oriole:(0.9695) cub_099_Ovenbird:(0.9325) cub_104_American_Pipit:(0.9704) cub_107_Common_Raven:(0.9782) cub_108_White_necked_Raven:(0.969) cub_109_American_Redstart:(0.9904) cub_111_Loggerhead_Shrike:(0.8557) cub_112_Great_Grey_Shrike:(0.8844) cub_113_Baird_Sparrow:(0.9925) cub_114_Black_throated_Sparrow:(0.9967) cub_115_Brewer_Sparrow:(0.9491) cub_116_Chipping_Sparrow:(0.9862) cub_117_Clay_colored_Sparrow:(0.9818) cub_118_House_Sparrow:(0.983) cub_119_Field_Sparrow:(0.9769) cub_120_Fox_Sparrow:(0.9789) cub_121_Grasshopper_Sparrow:(0.9856) cub_122_Harris_Sparrow:(0.9636) cub_123_Henslow_Sparrow:(0.9953) cub_124_Le_Conte_Sparrow:(0.9947) cub_125_Lincoln_Sparrow:(0.9956) cub_126_Nelson_Sharp_tailed_Sparrow:(0.9731) cub_127_Savannah_Sparrow:(0.9962) cub_128_Seaside_Sparrow:(0.9732) cub_129_Song_Sparrow:(0.9926) cub_130_Tree_Sparrow:(0.9883) cub_131_Vesper_Sparrow:(0.9876) cub_132_White_crowned_Sparrow:(0.9902) cub_133_White_throated_Sparrow:(0.9987) cub_136_Barn_Swallow:(0.9551) cub_137_Cliff_Swallow:(0.9743) cub_138_Tree_Swallow:(0.9579) cub_139_Scarlet_Tanager:(0.9708) cub_140_Summer_Tanager:(0.9607) cub_148_Green_tailed_Towhee:(0.9211) cub_149_Brown_Thrasher:(0.9506) cub_150_Sage_Thrasher:(0.9886) cub_151_Black_capped_Vireo:(0.9776) cub_152_Blue_headed_Vireo:(0.9768) cub_153_Philadelphia_Vireo:(0.982) cub_154_Red_eyed_Vireo:(0.9509) cub_155_Warbling_Vireo:(0.9483) cub_156_White_eyed_Vireo:(0.9459) cub_157_Yellow_throated_Vireo:(0.9556) cub_158_Bay_breasted_Warbler:(0.9321) cub_159_Black_and_white_Warbler:(0.9676) cub_160_Black_throated_Blue_Warbler:(0.9849) cub_161_Blue_winged_Warbler:(0.9677) cub_162_Canada_Warbler:(0.9958) cub_163_Cape_May_Warbler:(0.9829) cub_164_Cerulean_Warbler:(0.9669) cub_165_Chestnut_sided_Warbler:(0.9932) cub_166_Golden_winged_Warbler:(0.9944) cub_167_Hooded_Warbler:(0.9902) cub_168_Kentucky_Warbler:(0.995) cub_169_Magnolia_Warbler:(0.9919) cub_170_Mourning_Warbler:(0.9178) cub_172_Nashville_Warbler:(0.9915) cub_173_Orange_crowned_Warbler:(0.8712) cub_174_Palm_Warbler:(0.9903) cub_175_Pine_Warbler:(0.9739) cub_176_Prairie_Warbler:(0.9952) cub_177_Prothonotary_Warbler:(0.9867) cub_178_Swainson_Warbler:(0.982) cub_179_Tennessee_Warbler:(0.9712) cub_180_Wilson_Warbler:(0.9908) cub_181_Worm_eating_Warbler:(0.9926) cub_182_Yellow_Warbler:(0.9761) cub_183_Northern_Waterthrush:(0.9859) cub_184_Louisiana_Waterthrush:(0.9782) cub_185_Bohemian_Waxwing:(0.9836) cub_186_Cedar_Waxwing:(0.992) cub_193_Bewick_Wren:(0.9816) cub_194_Cactus_Wren:(0.9684) cub_195_Carolina_Wren:(0.9829) cub_196_House_Wren:(0.8802) cub_197_Marsh_Wren:(0.8435) cub_198_Rock_Wren:(0.9168) cub_199_Winter_Wren:(0.9155) cub_200_Common_Yellowthroat:(0.9918) \n",
      "\t Child: 043+078\n",
      "\t\tProto:19 cub_037_Acadian_Flycatcher:(0.9922) cub_038_Great_Crested_Flycatcher:(0.966) cub_039_Least_Flycatcher:(0.9778) cub_040_Olive_sided_Flycatcher:(0.9904) cub_041_Scissor_tailed_Flycatcher:(0.9661) cub_042_Vermilion_Flycatcher:(0.9752) cub_043_Yellow_bellied_Flycatcher:(0.9805) cub_077_Tropical_Kingbird:(0.9796) cub_078_Gray_Kingbird:(0.9832) cub_102_Western_Wood_Pewee:(0.9878) \n",
      "\t\tProto:11 cub_037_Acadian_Flycatcher:(0.0706) cub_038_Great_Crested_Flycatcher:(0.056) cub_039_Least_Flycatcher:(0.0835) cub_040_Olive_sided_Flycatcher:(0.0937) cub_041_Scissor_tailed_Flycatcher:(0.0669) cub_042_Vermilion_Flycatcher:(0.0834) cub_043_Yellow_bellied_Flycatcher:(0.0626) cub_077_Tropical_Kingbird:(0.0472) cub_078_Gray_Kingbird:(0.0459) cub_102_Western_Wood_Pewee:(0.1003) \n",
      "\t\tProto:13 cub_037_Acadian_Flycatcher:(0.0677) cub_038_Great_Crested_Flycatcher:(0.0533) cub_039_Least_Flycatcher:(0.0868) cub_040_Olive_sided_Flycatcher:(0.1005) cub_041_Scissor_tailed_Flycatcher:(0.1405) cub_042_Vermilion_Flycatcher:(0.0537) cub_043_Yellow_bellied_Flycatcher:(0.0682) cub_077_Tropical_Kingbird:(0.053) cub_078_Gray_Kingbird:(0.0599) cub_102_Western_Wood_Pewee:(0.1044) \n"
     ]
    },
    {
     "name": "stderr",
     "output_type": "stream",
     "text": [
      "Collecting topk: 349it [00:20, 16.89it/s]\n"
     ]
    },
    {
     "name": "stdout",
     "output_type": "stream",
     "text": [
      "Node 192+081\n",
      "\t Child: 192+036\n",
      "\t\tProto:0 cub_036_Northern_Flicker:(0.9988) cub_187_American_Three_toed_Woodpecker:(0.9779) cub_188_Pileated_Woodpecker:(0.9768) cub_189_Red_bellied_Woodpecker:(0.9945) cub_190_Red_cockaded_Woodpecker:(0.8517) cub_191_Red_headed_Woodpecker:(0.9962) cub_192_Downy_Woodpecker:(0.9393) \n",
      "\t\tProto:9 cub_036_Northern_Flicker:(0.9986) cub_187_American_Three_toed_Woodpecker:(0.9926) cub_188_Pileated_Woodpecker:(0.9922) cub_189_Red_bellied_Woodpecker:(0.9998) cub_190_Red_cockaded_Woodpecker:(0.9972) cub_191_Red_headed_Woodpecker:(0.9993) cub_192_Downy_Woodpecker:(0.9948) \n",
      "\t\tProto:2 cub_036_Northern_Flicker:(0.9994) cub_187_American_Three_toed_Woodpecker:(0.9999) cub_188_Pileated_Woodpecker:(0.9999) cub_189_Red_bellied_Woodpecker:(0.9984) cub_190_Red_cockaded_Woodpecker:(0.9997) cub_191_Red_headed_Woodpecker:(0.9998) cub_192_Downy_Woodpecker:(0.9999) \n",
      "\t\tProto:7 cub_036_Northern_Flicker:(0.9995) cub_187_American_Three_toed_Woodpecker:(0.9839) cub_188_Pileated_Woodpecker:(0.9874) cub_189_Red_bellied_Woodpecker:(0.9972) cub_190_Red_cockaded_Woodpecker:(0.9921) cub_191_Red_headed_Woodpecker:(0.992) cub_192_Downy_Woodpecker:(0.9954) \n",
      "\t Child: 081+083\n",
      "\t\tProto:11 cub_079_Belted_Kingfisher:(0.9964) cub_080_Green_Kingfisher:(0.9979) cub_081_Pied_Kingfisher:(0.9979) cub_082_Ringed_Kingfisher:(0.9976) cub_083_White_breasted_Kingfisher:(0.9906) \n",
      "\t\tProto:12 cub_079_Belted_Kingfisher:(0.9687) cub_080_Green_Kingfisher:(0.985) cub_081_Pied_Kingfisher:(0.9762) cub_082_Ringed_Kingfisher:(0.9398) cub_083_White_breasted_Kingfisher:(0.9393) \n",
      "\t\tProto:14 cub_079_Belted_Kingfisher:(0.9966) cub_080_Green_Kingfisher:(0.9996) cub_081_Pied_Kingfisher:(0.9969) cub_082_Ringed_Kingfisher:(0.9959) cub_083_White_breasted_Kingfisher:(0.9931) \n",
      "\t\tProto:15 cub_079_Belted_Kingfisher:(0.9998) cub_080_Green_Kingfisher:(1.0) cub_081_Pied_Kingfisher:(1.0) cub_082_Ringed_Kingfisher:(0.9984) cub_083_White_breasted_Kingfisher:(0.9997) \n",
      "\t\tProto:16 cub_079_Belted_Kingfisher:(0.9999) cub_080_Green_Kingfisher:(0.9995) cub_081_Pied_Kingfisher:(0.9951) cub_082_Ringed_Kingfisher:(0.9997) cub_083_White_breasted_Kingfisher:(0.9994) \n"
     ]
    },
    {
     "name": "stderr",
     "output_type": "stream",
     "text": [
      "Collecting topk: 461it [00:25, 18.02it/s]\n"
     ]
    },
    {
     "name": "stdout",
     "output_type": "stream",
     "text": [
      "Node 065+144\n",
      "\t Child: 065+084\n",
      "\t\tProto:0 cub_059_California_Gull:(0.9992) cub_060_Glaucous_winged_Gull:(0.9942) cub_061_Heermann_Gull:(0.996) cub_062_Herring_Gull:(0.9995) cub_063_Ivory_Gull:(0.9319) cub_064_Ring_billed_Gull:(0.9893) cub_065_Slaty_backed_Gull:(0.9837) cub_066_Western_Gull:(1.0) cub_084_Red_legged_Kittiwake:(0.8952) \n",
      "\t\tProto:3 cub_059_California_Gull:(0.9999) cub_060_Glaucous_winged_Gull:(0.9996) cub_061_Heermann_Gull:(0.9988) cub_062_Herring_Gull:(0.9996) cub_063_Ivory_Gull:(0.9978) cub_064_Ring_billed_Gull:(0.9957) cub_065_Slaty_backed_Gull:(0.9995) cub_066_Western_Gull:(0.9998) cub_084_Red_legged_Kittiwake:(0.9867) \n",
      "\t\tProto:5 cub_059_California_Gull:(0.9516) cub_060_Glaucous_winged_Gull:(0.9613) cub_061_Heermann_Gull:(0.8935) cub_062_Herring_Gull:(0.8917) cub_063_Ivory_Gull:(0.9527) cub_064_Ring_billed_Gull:(0.9381) cub_065_Slaty_backed_Gull:(0.6641) cub_066_Western_Gull:(0.9485) cub_084_Red_legged_Kittiwake:(0.96) \n",
      "\t\tProto:6 cub_059_California_Gull:(0.9935) cub_060_Glaucous_winged_Gull:(0.9979) cub_061_Heermann_Gull:(0.9861) cub_062_Herring_Gull:(0.9971) cub_063_Ivory_Gull:(0.9888) cub_064_Ring_billed_Gull:(0.99) cub_065_Slaty_backed_Gull:(0.9605) cub_066_Western_Gull:(0.9966) cub_084_Red_legged_Kittiwake:(0.9961) \n",
      "\t\tProto:7 cub_059_California_Gull:(0.9977) cub_060_Glaucous_winged_Gull:(0.9817) cub_061_Heermann_Gull:(0.9234) cub_062_Herring_Gull:(0.9918) cub_063_Ivory_Gull:(0.9786) cub_064_Ring_billed_Gull:(0.9567) cub_065_Slaty_backed_Gull:(0.887) cub_066_Western_Gull:(0.9926) cub_084_Red_legged_Kittiwake:(0.9248) \n",
      "\t Child: 144+147\n",
      "\t\tProto:16 cub_141_Artic_Tern:(0.9999) cub_142_Black_Tern:(0.9198) cub_143_Caspian_Tern:(1.0) cub_144_Common_Tern:(0.9999) cub_145_Elegant_Tern:(0.9998) cub_146_Forsters_Tern:(0.9999) cub_147_Least_Tern:(0.9999) \n",
      "\t\tProto:19 cub_141_Artic_Tern:(0.9774) cub_142_Black_Tern:(0.9669) cub_143_Caspian_Tern:(0.9985) cub_144_Common_Tern:(0.987) cub_145_Elegant_Tern:(0.9687) cub_146_Forsters_Tern:(0.9859) cub_147_Least_Tern:(0.976) \n",
      "\t\tProto:11 cub_141_Artic_Tern:(0.9531) cub_142_Black_Tern:(0.9863) cub_143_Caspian_Tern:(0.9016) cub_144_Common_Tern:(0.9929) cub_145_Elegant_Tern:(0.9277) cub_146_Forsters_Tern:(0.9546) cub_147_Least_Tern:(0.9777) \n"
     ]
    },
    {
     "name": "stderr",
     "output_type": "stream",
     "text": [
      "Collecting topk: 184it [00:13, 13.57it/s]\n"
     ]
    },
    {
     "name": "stdout",
     "output_type": "stream",
     "text": [
      "Node 006+071\n",
      "\t Child: 006+058\n",
      "\t\tProto:9 cub_005_Crested_Auklet:(0.9874) cub_006_Least_Auklet:(0.9734) cub_007_Parakeet_Auklet:(0.9997) cub_008_Rhinoceros_Auklet:(0.997) cub_058_Pigeon_Guillemot:(0.9997) cub_106_Horned_Puffin:(0.9998) \n",
      "\t\tProto:4 cub_005_Crested_Auklet:(0.9981) cub_006_Least_Auklet:(0.975) cub_007_Parakeet_Auklet:(1.0) cub_008_Rhinoceros_Auklet:(0.9996) cub_058_Pigeon_Guillemot:(0.9989) cub_106_Horned_Puffin:(0.9998) \n",
      "\t\tProto:6 cub_005_Crested_Auklet:(0.9524) cub_006_Least_Auklet:(0.9999) cub_007_Parakeet_Auklet:(1.0) cub_008_Rhinoceros_Auklet:(0.9995) cub_058_Pigeon_Guillemot:(0.9992) cub_106_Horned_Puffin:(0.9999) \n",
      "\t\tProto:7 cub_005_Crested_Auklet:(0.851) cub_006_Least_Auklet:(0.9994) cub_007_Parakeet_Auklet:(0.9997) cub_008_Rhinoceros_Auklet:(0.9819) cub_058_Pigeon_Guillemot:(0.9991) cub_106_Horned_Puffin:(0.9946) \n",
      "\t Child: 071+072\n",
      "\t\tProto:11 cub_071_Long_tailed_Jaeger:(0.9996) cub_072_Pomarine_Jaeger:(0.9997) \n",
      "\t\tProto:15 cub_071_Long_tailed_Jaeger:(1.0) cub_072_Pomarine_Jaeger:(1.0) \n"
     ]
    },
    {
     "name": "stderr",
     "output_type": "stream",
     "text": [
      "Collecting topk: 279it [00:17, 16.16it/s]  \n"
     ]
    },
    {
     "name": "stdout",
     "output_type": "stream",
     "text": [
      "Node 024+086\n",
      "\t Child: 024+001\n",
      "\t\tProto:8 cub_001_Black_footed_Albatross:(0.9999) cub_002_Laysan_Albatross:(0.9998) cub_003_Sooty_Albatross:(0.9991) cub_023_Brandt_Cormorant:(1.0) cub_024_Red_faced_Cormorant:(0.9999) cub_025_Pelagic_Cormorant:(1.0) cub_045_Northern_Fulmar:(0.9937) cub_100_Brown_Pelican:(1.0) cub_101_White_Pelican:(0.9493) \n",
      "\t\tProto:5 cub_001_Black_footed_Albatross:(0.9997) cub_002_Laysan_Albatross:(0.9949) cub_003_Sooty_Albatross:(0.9989) cub_023_Brandt_Cormorant:(0.9963) cub_024_Red_faced_Cormorant:(0.9993) cub_025_Pelagic_Cormorant:(0.9999) cub_045_Northern_Fulmar:(0.9921) cub_100_Brown_Pelican:(0.9952) cub_101_White_Pelican:(0.9793) \n",
      "\t\tProto:7 cub_001_Black_footed_Albatross:(0.999) cub_002_Laysan_Albatross:(0.9997) cub_003_Sooty_Albatross:(0.9983) cub_023_Brandt_Cormorant:(0.9952) cub_024_Red_faced_Cormorant:(0.9996) cub_025_Pelagic_Cormorant:(0.9983) cub_045_Northern_Fulmar:(0.9991) cub_100_Brown_Pelican:(1.0) cub_101_White_Pelican:(0.9983) \n",
      "\t Child: cub_086_Pacific_Loon\n",
      "\t\tProto:12 cub_086_Pacific_Loon:(0.956) \n",
      "\t\tProto:14 cub_086_Pacific_Loon:(0.9946) \n"
     ]
    },
    {
     "name": "stderr",
     "output_type": "stream",
     "text": [
      "Collecting topk: 112it [00:11,  9.95it/s]  \n"
     ]
    },
    {
     "name": "stdout",
     "output_type": "stream",
     "text": [
      "Node 031+004\n",
      "\t Child: 031+032\n",
      "\t\tProto:0 cub_031_Black_billed_Cuckoo:(0.9999) cub_032_Mangrove_Cuckoo:(0.9988) cub_033_Yellow_billed_Cuckoo:(0.9999) \n",
      "\t\tProto:2 cub_031_Black_billed_Cuckoo:(1.0) cub_032_Mangrove_Cuckoo:(1.0) cub_033_Yellow_billed_Cuckoo:(1.0) \n",
      "\t\tProto:5 cub_031_Black_billed_Cuckoo:(0.9937) cub_032_Mangrove_Cuckoo:(0.9589) cub_033_Yellow_billed_Cuckoo:(0.9805) \n",
      "\t Child: cub_004_Groove_billed_Ani\n",
      "\t\tProto:13 cub_004_Groove_billed_Ani:(1.0) \n"
     ]
    },
    {
     "name": "stderr",
     "output_type": "stream",
     "text": [
      "Collecting topk: 90it [00:09,  9.47it/s]   \n"
     ]
    },
    {
     "name": "stdout",
     "output_type": "stream",
     "text": [
      "Node 051+053\n",
      "\t Child: 051+050\n",
      "\t\tProto:1 cub_050_Eared_Grebe:(1.0) cub_051_Horned_Grebe:(1.0) \n",
      "\t\tProto:7 cub_050_Eared_Grebe:(1.0) cub_051_Horned_Grebe:(1.0) \n",
      "\t Child: cub_053_Western_Grebe\n",
      "\t\tProto:16 cub_053_Western_Grebe:(1.0) \n"
     ]
    },
    {
     "name": "stderr",
     "output_type": "stream",
     "text": [
      "Collecting topk: 100% 60/60 [00:08<00:00,  7.49it/s]\n"
     ]
    },
    {
     "name": "stdout",
     "output_type": "stream",
     "text": [
      "Node 067+069\n",
      "\t Child: cub_067_Anna_Hummingbird\n",
      "\t\tProto:1 cub_067_Anna_Hummingbird:(1.0) \n",
      "\t Child: cub_069_Rufous_Hummingbird\n",
      "\t\tProto:12 cub_069_Rufous_Hummingbird:(1.0) \n",
      "\t\tProto:15 cub_069_Rufous_Hummingbird:(1.0) \n"
     ]
    },
    {
     "name": "stderr",
     "output_type": "stream",
     "text": [
      "Collecting topk: 3471it [02:32, 22.74it/s] \n"
     ]
    },
    {
     "name": "stdout",
     "output_type": "stream",
     "text": [
      "Node 129+018\n",
      "\t Child: 129+107\n",
      "\t\tProto:6 cub_009_Brewer_Blackbird:(1.0) cub_010_Red_winged_Blackbird:(0.9998) cub_011_Rusty_Blackbird:(0.9999) cub_012_Yellow_headed_Blackbird:(1.0) cub_013_Bobolink:(1.0) cub_014_Indigo_Bunting:(0.9999) cub_015_Lazuli_Bunting:(1.0) cub_016_Painted_Bunting:(0.9998) cub_017_Cardinal:(0.9994) cub_019_Gray_Catbird:(0.9999) cub_020_Yellow_breasted_Chat:(0.9996) cub_021_Eastern_Towhee:(1.0) cub_026_Bronzed_Cowbird:(0.9997) cub_027_Shiny_Cowbird:(0.9999) cub_028_Brown_Creeper:(0.9955) cub_029_American_Crow:(0.9997) cub_030_Fish_Crow:(0.9997) cub_034_Gray_crowned_Rosy_Finch:(0.9999) cub_035_Purple_Finch:(0.9999) cub_047_American_Goldfinch:(0.9999) cub_048_European_Goldfinch:(0.9999) cub_049_Boat_tailed_Grackle:(0.9996) cub_054_Blue_Grosbeak:(0.9999) cub_055_Evening_Grosbeak:(0.9999) cub_056_Pine_Grosbeak:(1.0) cub_057_Rose_breasted_Grosbeak:(1.0) cub_073_Blue_Jay:(0.9999) cub_074_Florida_Jay:(1.0) cub_076_Dark_eyed_Junco:(1.0) cub_085_Horned_Lark:(0.9988) cub_088_Western_Meadowlark:(0.9972) cub_091_Mockingbird:(0.9999) cub_093_Clark_Nutcracker:(1.0) cub_094_White_breasted_Nuthatch:(0.9992) cub_095_Baltimore_Oriole:(1.0) cub_096_Hooded_Oriole:(1.0) cub_097_Orchard_Oriole:(0.9998) cub_098_Scott_Oriole:(0.9997) cub_099_Ovenbird:(0.9993) cub_104_American_Pipit:(0.9998) cub_107_Common_Raven:(0.9999) cub_108_White_necked_Raven:(0.9998) cub_109_American_Redstart:(1.0) cub_111_Loggerhead_Shrike:(1.0) cub_112_Great_Grey_Shrike:(1.0) cub_113_Baird_Sparrow:(0.996) cub_114_Black_throated_Sparrow:(0.9999) cub_115_Brewer_Sparrow:(0.9998) cub_116_Chipping_Sparrow:(1.0) cub_117_Clay_colored_Sparrow:(0.9995) cub_118_House_Sparrow:(0.9997) cub_119_Field_Sparrow:(1.0) cub_120_Fox_Sparrow:(0.9996) cub_121_Grasshopper_Sparrow:(0.9984) cub_122_Harris_Sparrow:(0.9991) cub_123_Henslow_Sparrow:(0.9971) cub_124_Le_Conte_Sparrow:(0.9999) cub_125_Lincoln_Sparrow:(0.9998) cub_126_Nelson_Sharp_tailed_Sparrow:(0.9999) cub_127_Savannah_Sparrow:(0.9997) cub_128_Seaside_Sparrow:(0.9998) cub_129_Song_Sparrow:(0.9996) cub_130_Tree_Sparrow:(1.0) cub_131_Vesper_Sparrow:(0.9989) cub_132_White_crowned_Sparrow:(1.0) cub_133_White_throated_Sparrow:(1.0) cub_136_Barn_Swallow:(0.9999) cub_137_Cliff_Swallow:(0.9999) cub_138_Tree_Swallow:(1.0) cub_139_Scarlet_Tanager:(1.0) cub_140_Summer_Tanager:(1.0) cub_148_Green_tailed_Towhee:(0.9998) cub_149_Brown_Thrasher:(0.9995) cub_150_Sage_Thrasher:(0.9998) cub_151_Black_capped_Vireo:(0.9998) cub_152_Blue_headed_Vireo:(0.9999) cub_153_Philadelphia_Vireo:(0.9997) cub_154_Red_eyed_Vireo:(0.9998) cub_155_Warbling_Vireo:(0.9996) cub_156_White_eyed_Vireo:(1.0) cub_157_Yellow_throated_Vireo:(0.9999) cub_158_Bay_breasted_Warbler:(1.0) cub_159_Black_and_white_Warbler:(0.9995) cub_160_Black_throated_Blue_Warbler:(1.0) cub_161_Blue_winged_Warbler:(1.0) cub_162_Canada_Warbler:(0.9992) cub_163_Cape_May_Warbler:(0.9999) cub_164_Cerulean_Warbler:(1.0) cub_165_Chestnut_sided_Warbler:(1.0) cub_166_Golden_winged_Warbler:(1.0) cub_167_Hooded_Warbler:(1.0) cub_168_Kentucky_Warbler:(0.9991) cub_169_Magnolia_Warbler:(0.9998) cub_170_Mourning_Warbler:(0.9998) cub_172_Nashville_Warbler:(0.9999) cub_173_Orange_crowned_Warbler:(0.9998) cub_174_Palm_Warbler:(1.0) cub_175_Pine_Warbler:(1.0) cub_176_Prairie_Warbler:(0.9999) cub_177_Prothonotary_Warbler:(1.0) cub_178_Swainson_Warbler:(0.9999) cub_179_Tennessee_Warbler:(0.9999) cub_180_Wilson_Warbler:(0.9999) cub_181_Worm_eating_Warbler:(0.9992) cub_182_Yellow_Warbler:(1.0) cub_183_Northern_Waterthrush:(0.9996) cub_184_Louisiana_Waterthrush:(0.9997) cub_185_Bohemian_Waxwing:(0.9979) cub_186_Cedar_Waxwing:(1.0) cub_193_Bewick_Wren:(0.9999) cub_194_Cactus_Wren:(0.9892) cub_195_Carolina_Wren:(0.9995) cub_196_House_Wren:(0.9997) cub_197_Marsh_Wren:(0.9981) cub_198_Rock_Wren:(0.9997) cub_199_Winter_Wren:(0.9946) cub_200_Common_Yellowthroat:(1.0) \n",
      "\t Child: cub_018_Spotted_Catbird\n",
      "\t\tProto:13 cub_018_Spotted_Catbird:(0.0343) \n",
      "\t\tProto:15 cub_018_Spotted_Catbird:(0.036) \n",
      "\t\tProto:16 cub_018_Spotted_Catbird:(0.04) \n",
      "\t\tProto:17 cub_018_Spotted_Catbird:(0.0383) \n",
      "\t\tProto:19 cub_018_Spotted_Catbird:(0.9233) \n"
     ]
    },
    {
     "name": "stderr",
     "output_type": "stream",
     "text": [
      "Collecting topk: 296it [00:18, 16.02it/s]\n"
     ]
    },
    {
     "name": "stdout",
     "output_type": "stream",
     "text": [
      "Node 043+078\n",
      "\t Child: 043+042\n",
      "\t\tProto:8 cub_037_Acadian_Flycatcher:(0.9987) cub_039_Least_Flycatcher:(0.9994) cub_040_Olive_sided_Flycatcher:(0.9981) cub_042_Vermilion_Flycatcher:(0.9993) cub_043_Yellow_bellied_Flycatcher:(0.9997) cub_102_Western_Wood_Pewee:(0.9994) \n",
      "\t\tProto:2 cub_037_Acadian_Flycatcher:(0.9996) cub_039_Least_Flycatcher:(0.9999) cub_040_Olive_sided_Flycatcher:(0.9959) cub_042_Vermilion_Flycatcher:(0.9999) cub_043_Yellow_bellied_Flycatcher:(0.9999) cub_102_Western_Wood_Pewee:(0.9992) \n",
      "\t\tProto:5 cub_037_Acadian_Flycatcher:(0.9972) cub_039_Least_Flycatcher:(0.9967) cub_040_Olive_sided_Flycatcher:(0.9225) cub_042_Vermilion_Flycatcher:(0.9964) cub_043_Yellow_bellied_Flycatcher:(0.9815) cub_102_Western_Wood_Pewee:(0.9971) \n",
      "\t Child: 078+038\n",
      "\t\tProto:16 cub_038_Great_Crested_Flycatcher:(0.9493) cub_041_Scissor_tailed_Flycatcher:(0.9967) cub_077_Tropical_Kingbird:(0.9996) cub_078_Gray_Kingbird:(0.997) \n",
      "\t\tProto:18 cub_038_Great_Crested_Flycatcher:(0.9957) cub_041_Scissor_tailed_Flycatcher:(0.9993) cub_077_Tropical_Kingbird:(1.0) cub_078_Gray_Kingbird:(1.0) \n",
      "\t\tProto:14 cub_038_Great_Crested_Flycatcher:(0.9986) cub_041_Scissor_tailed_Flycatcher:(0.9966) cub_077_Tropical_Kingbird:(0.9995) cub_078_Gray_Kingbird:(0.9996) \n"
     ]
    },
    {
     "name": "stderr",
     "output_type": "stream",
     "text": [
      "Collecting topk: 199it [00:13, 14.26it/s]\n"
     ]
    },
    {
     "name": "stdout",
     "output_type": "stream",
     "text": [
      "Node 192+036\n",
      "\t Child: 192+191\n",
      "\t\tProto:9 cub_187_American_Three_toed_Woodpecker:(0.979) cub_189_Red_bellied_Woodpecker:(0.9717) cub_190_Red_cockaded_Woodpecker:(0.9807) cub_191_Red_headed_Woodpecker:(0.9898) cub_192_Downy_Woodpecker:(0.9814) \n",
      "\t\tProto:2 cub_187_American_Three_toed_Woodpecker:(0.9992) cub_189_Red_bellied_Woodpecker:(0.9976) cub_190_Red_cockaded_Woodpecker:(0.9981) cub_191_Red_headed_Woodpecker:(0.9999) cub_192_Downy_Woodpecker:(0.9998) \n",
      "\t Child: 036+188\n",
      "\t\tProto:10 cub_036_Northern_Flicker:(0.9937) cub_188_Pileated_Woodpecker:(0.9995) \n",
      "\t\tProto:14 cub_036_Northern_Flicker:(0.9995) cub_188_Pileated_Woodpecker:(0.9989) \n"
     ]
    },
    {
     "name": "stderr",
     "output_type": "stream",
     "text": [
      "Collecting topk: 150it [00:11, 12.95it/s]  \n"
     ]
    },
    {
     "name": "stdout",
     "output_type": "stream",
     "text": [
      "Node 081+083\n",
      "\t Child: 081+082\n",
      "\t\tProto:2 cub_079_Belted_Kingfisher:(0.9998) cub_080_Green_Kingfisher:(0.9999) cub_081_Pied_Kingfisher:(0.9998) cub_082_Ringed_Kingfisher:(0.9998) \n",
      "\t\tProto:4 cub_079_Belted_Kingfisher:(1.0) cub_080_Green_Kingfisher:(0.9997) cub_081_Pied_Kingfisher:(0.9999) cub_082_Ringed_Kingfisher:(0.9997) \n",
      "\t Child: cub_083_White_breasted_Kingfisher\n",
      "\t\tProto:12 cub_083_White_breasted_Kingfisher:(0.9995) \n",
      "\t\tProto:15 cub_083_White_breasted_Kingfisher:(1.0) \n"
     ]
    },
    {
     "name": "stderr",
     "output_type": "stream",
     "text": [
      "Collecting topk: 252it [00:16, 15.19it/s]\n"
     ]
    },
    {
     "name": "stdout",
     "output_type": "stream",
     "text": [
      "Node 065+084\n",
      "\t Child: 065+061\n",
      "\t\tProto:0 cub_059_California_Gull:(0.9885) cub_060_Glaucous_winged_Gull:(0.9981) cub_061_Heermann_Gull:(0.9948) cub_062_Herring_Gull:(0.9955) cub_064_Ring_billed_Gull:(0.9642) cub_065_Slaty_backed_Gull:(0.9307) cub_066_Western_Gull:(0.9969) \n",
      "\t\tProto:2 cub_059_California_Gull:(0.9989) cub_060_Glaucous_winged_Gull:(0.9993) cub_061_Heermann_Gull:(0.9974) cub_062_Herring_Gull:(0.9982) cub_064_Ring_billed_Gull:(0.9866) cub_065_Slaty_backed_Gull:(0.9924) cub_066_Western_Gull:(0.9999) \n",
      "\t\tProto:3 cub_059_California_Gull:(0.9996) cub_060_Glaucous_winged_Gull:(0.9994) cub_061_Heermann_Gull:(0.9995) cub_062_Herring_Gull:(0.9997) cub_064_Ring_billed_Gull:(0.9929) cub_065_Slaty_backed_Gull:(0.9976) cub_066_Western_Gull:(0.9998) \n",
      "\t\tProto:5 cub_059_California_Gull:(0.9998) cub_060_Glaucous_winged_Gull:(0.7543) cub_061_Heermann_Gull:(0.9994) cub_062_Herring_Gull:(0.9982) cub_064_Ring_billed_Gull:(0.9474) cub_065_Slaty_backed_Gull:(0.9984) cub_066_Western_Gull:(0.9999) \n",
      "\t\tProto:8 cub_059_California_Gull:(0.9986) cub_060_Glaucous_winged_Gull:(0.9992) cub_061_Heermann_Gull:(0.9875) cub_062_Herring_Gull:(0.9997) cub_064_Ring_billed_Gull:(0.9215) cub_065_Slaty_backed_Gull:(0.9981) cub_066_Western_Gull:(0.9999) \n",
      "\t Child: 084+063\n",
      "\t\tProto:10 cub_063_Ivory_Gull:(0.9983) cub_084_Red_legged_Kittiwake:(0.9997) \n",
      "\t\tProto:15 cub_063_Ivory_Gull:(0.9957) cub_084_Red_legged_Kittiwake:(0.9987) \n"
     ]
    },
    {
     "name": "stderr",
     "output_type": "stream",
     "text": [
      "Collecting topk: 209it [00:14, 14.35it/s]  \n"
     ]
    },
    {
     "name": "stdout",
     "output_type": "stream",
     "text": [
      "Node 144+147\n",
      "\t Child: 144+143\n",
      "\t\tProto:3 cub_141_Artic_Tern:(0.9995) cub_142_Black_Tern:(0.9949) cub_143_Caspian_Tern:(1.0) cub_144_Common_Tern:(0.9998) cub_145_Elegant_Tern:(0.9998) cub_146_Forsters_Tern:(0.9994) \n",
      "\t Child: cub_147_Least_Tern\n",
      "\t\tProto:10 cub_147_Least_Tern:(0.9945) \n",
      "\t\tProto:18 cub_147_Least_Tern:(0.9995) \n"
     ]
    },
    {
     "name": "stderr",
     "output_type": "stream",
     "text": [
      "Collecting topk: 124it [00:11, 11.26it/s]  \n"
     ]
    },
    {
     "name": "stdout",
     "output_type": "stream",
     "text": [
      "Node 006+058\n",
      "\t Child: 006+008\n",
      "\t\tProto:0 cub_005_Crested_Auklet:(0.9355) cub_006_Least_Auklet:(0.9647) cub_007_Parakeet_Auklet:(0.9998) cub_008_Rhinoceros_Auklet:(0.9868) cub_106_Horned_Puffin:(0.9972) \n",
      "\t\tProto:1 cub_005_Crested_Auklet:(0.9991) cub_006_Least_Auklet:(0.8879) cub_007_Parakeet_Auklet:(1.0) cub_008_Rhinoceros_Auklet:(1.0) cub_106_Horned_Puffin:(1.0) \n",
      "\t\tProto:7 cub_005_Crested_Auklet:(0.9994) cub_006_Least_Auklet:(0.9079) cub_007_Parakeet_Auklet:(0.9991) cub_008_Rhinoceros_Auklet:(0.98) cub_106_Horned_Puffin:(1.0) \n",
      "\t Child: cub_058_Pigeon_Guillemot\n",
      "\t\tProto:11 cub_058_Pigeon_Guillemot:(1.0) \n",
      "\t\tProto:14 cub_058_Pigeon_Guillemot:(0.9999) \n"
     ]
    },
    {
     "name": "stderr",
     "output_type": "stream",
     "text": [
      "Collecting topk: 100% 60/60 [00:08<00:00,  7.22it/s]\n"
     ]
    },
    {
     "name": "stdout",
     "output_type": "stream",
     "text": [
      "Node 071+072\n",
      "\t Child: cub_071_Long_tailed_Jaeger\n",
      "\t\tProto:5 cub_071_Long_tailed_Jaeger:(1.0) \n",
      "\t\tProto:6 cub_071_Long_tailed_Jaeger:(1.0) \n",
      "\t Child: cub_072_Pomarine_Jaeger\n",
      "\t\tProto:18 cub_072_Pomarine_Jaeger:(0.9373) \n",
      "\t\tProto:12 cub_072_Pomarine_Jaeger:(0.9661) \n"
     ]
    },
    {
     "name": "stderr",
     "output_type": "stream",
     "text": [
      "Collecting topk: 249it [00:16, 15.00it/s]\n"
     ]
    },
    {
     "name": "stdout",
     "output_type": "stream",
     "text": [
      "Node 024+001\n",
      "\t Child: 024+100\n",
      "\t\tProto:4 cub_023_Brandt_Cormorant:(0.9982) cub_024_Red_faced_Cormorant:(0.9995) cub_025_Pelagic_Cormorant:(0.9983) cub_100_Brown_Pelican:(0.993) cub_101_White_Pelican:(0.9956) \n",
      "\t\tProto:5 cub_023_Brandt_Cormorant:(0.9994) cub_024_Red_faced_Cormorant:(0.9998) cub_025_Pelagic_Cormorant:(0.9997) cub_100_Brown_Pelican:(0.9962) cub_101_White_Pelican:(0.9922) \n",
      "\t Child: 001+045\n",
      "\t\tProto:19 cub_001_Black_footed_Albatross:(0.9997) cub_002_Laysan_Albatross:(0.9994) cub_003_Sooty_Albatross:(1.0) cub_045_Northern_Fulmar:(0.9992) \n",
      "\t\tProto:14 cub_001_Black_footed_Albatross:(0.9997) cub_002_Laysan_Albatross:(0.9989) cub_003_Sooty_Albatross:(0.9997) cub_045_Northern_Fulmar:(0.999) \n"
     ]
    },
    {
     "name": "stderr",
     "output_type": "stream",
     "text": [
      "Collecting topk: 82it [00:09,  8.88it/s]   \n"
     ]
    },
    {
     "name": "stdout",
     "output_type": "stream",
     "text": [
      "Node 031+032\n",
      "\t Child: 031+033\n",
      "\t\tProto:3 cub_031_Black_billed_Cuckoo:(1.0) cub_033_Yellow_billed_Cuckoo:(1.0) \n",
      "\t Child: cub_032_Mangrove_Cuckoo\n",
      "\t\tProto:15 cub_032_Mangrove_Cuckoo:(1.0) \n"
     ]
    },
    {
     "name": "stderr",
     "output_type": "stream",
     "text": [
      "Collecting topk: 100% 60/60 [00:08<00:00,  7.29it/s]\n"
     ]
    },
    {
     "name": "stdout",
     "output_type": "stream",
     "text": [
      "Node 051+050\n",
      "\t Child: cub_051_Horned_Grebe\n",
      "\t\tProto:4 cub_051_Horned_Grebe:(1.0) \n",
      "\t\tProto:7 cub_051_Horned_Grebe:(1.0) \n",
      "\t Child: cub_050_Eared_Grebe\n",
      "\t\tProto:19 cub_050_Eared_Grebe:(0.9999) \n",
      "\t\tProto:11 cub_050_Eared_Grebe:(0.9999) \n"
     ]
    },
    {
     "name": "stderr",
     "output_type": "stream",
     "text": [
      "Collecting topk: 3456it [02:34, 22.32it/s]\n"
     ]
    },
    {
     "name": "stdout",
     "output_type": "stream",
     "text": [
      "Node 129+107\n",
      "\t Child: 129+136\n",
      "\t\tProto:0 cub_009_Brewer_Blackbird:(0.5554) cub_010_Red_winged_Blackbird:(0.4267) cub_011_Rusty_Blackbird:(0.9656) cub_012_Yellow_headed_Blackbird:(0.9951) cub_013_Bobolink:(0.3132) cub_014_Indigo_Bunting:(0.065) cub_015_Lazuli_Bunting:(0.2795) cub_016_Painted_Bunting:(0.2672) cub_017_Cardinal:(0.9932) cub_019_Gray_Catbird:(0.1499) cub_020_Yellow_breasted_Chat:(0.3595) cub_021_Eastern_Towhee:(0.4202) cub_026_Bronzed_Cowbird:(0.9251) cub_027_Shiny_Cowbird:(0.1179) cub_028_Brown_Creeper:(0.8431) cub_034_Gray_crowned_Rosy_Finch:(0.9819) cub_035_Purple_Finch:(0.9957) cub_047_American_Goldfinch:(0.9852) cub_048_European_Goldfinch:(0.9916) cub_049_Boat_tailed_Grackle:(0.4545) cub_054_Blue_Grosbeak:(0.0773) cub_055_Evening_Grosbeak:(0.9452) cub_056_Pine_Grosbeak:(0.9955) cub_057_Rose_breasted_Grosbeak:(0.2766) cub_076_Dark_eyed_Junco:(0.2008) cub_085_Horned_Lark:(0.9977) cub_088_Western_Meadowlark:(0.9538) cub_091_Mockingbird:(0.3475) cub_094_White_breasted_Nuthatch:(0.1066) cub_095_Baltimore_Oriole:(0.429) cub_096_Hooded_Oriole:(0.9894) cub_097_Orchard_Oriole:(0.8391) cub_098_Scott_Oriole:(0.1985) cub_099_Ovenbird:(0.9687) cub_104_American_Pipit:(0.9749) cub_109_American_Redstart:(0.1673) cub_113_Baird_Sparrow:(0.7121) cub_114_Black_throated_Sparrow:(0.9812) cub_115_Brewer_Sparrow:(0.8046) cub_116_Chipping_Sparrow:(0.9984) cub_117_Clay_colored_Sparrow:(0.8055) cub_118_House_Sparrow:(0.99) cub_119_Field_Sparrow:(0.9871) cub_120_Fox_Sparrow:(0.9925) cub_121_Grasshopper_Sparrow:(0.9333) cub_122_Harris_Sparrow:(0.9228) cub_123_Henslow_Sparrow:(0.9688) cub_124_Le_Conte_Sparrow:(0.9887) cub_125_Lincoln_Sparrow:(0.9506) cub_126_Nelson_Sharp_tailed_Sparrow:(0.9913) cub_127_Savannah_Sparrow:(0.9798) cub_128_Seaside_Sparrow:(0.9882) cub_129_Song_Sparrow:(0.9876) cub_130_Tree_Sparrow:(0.9894) cub_131_Vesper_Sparrow:(0.957) cub_132_White_crowned_Sparrow:(0.9599) cub_133_White_throated_Sparrow:(0.994) cub_136_Barn_Swallow:(0.8176) cub_137_Cliff_Swallow:(0.9856) cub_138_Tree_Swallow:(0.0467) cub_139_Scarlet_Tanager:(0.9941) cub_140_Summer_Tanager:(0.9887) cub_148_Green_tailed_Towhee:(0.9821) cub_149_Brown_Thrasher:(0.9957) cub_150_Sage_Thrasher:(0.9923) cub_158_Bay_breasted_Warbler:(0.9914) cub_159_Black_and_white_Warbler:(0.9005) cub_160_Black_throated_Blue_Warbler:(0.0685) cub_161_Blue_winged_Warbler:(0.9877) cub_162_Canada_Warbler:(0.6484) cub_163_Cape_May_Warbler:(0.9863) cub_164_Cerulean_Warbler:(0.0439) cub_165_Chestnut_sided_Warbler:(0.9645) cub_166_Golden_winged_Warbler:(0.9862) cub_167_Hooded_Warbler:(0.9602) cub_168_Kentucky_Warbler:(0.9636) cub_169_Magnolia_Warbler:(0.7359) cub_170_Mourning_Warbler:(0.0855) cub_172_Nashville_Warbler:(0.1226) cub_173_Orange_crowned_Warbler:(0.6454) cub_174_Palm_Warbler:(0.996) cub_175_Pine_Warbler:(0.5677) cub_176_Prairie_Warbler:(0.9723) cub_177_Prothonotary_Warbler:(0.9571) cub_178_Swainson_Warbler:(0.9704) cub_179_Tennessee_Warbler:(0.8342) cub_180_Wilson_Warbler:(0.9168) cub_181_Worm_eating_Warbler:(0.988) cub_182_Yellow_Warbler:(0.9229) cub_183_Northern_Waterthrush:(0.9937) cub_184_Louisiana_Waterthrush:(0.9897) cub_185_Bohemian_Waxwing:(0.9844) cub_186_Cedar_Waxwing:(0.9494) cub_193_Bewick_Wren:(0.9929) cub_194_Cactus_Wren:(0.988) cub_195_Carolina_Wren:(0.9962) cub_196_House_Wren:(0.9537) cub_197_Marsh_Wren:(0.9697) cub_198_Rock_Wren:(0.9568) cub_199_Winter_Wren:(0.9902) cub_200_Common_Yellowthroat:(0.8709) \n",
      "\t\tProto:4 cub_009_Brewer_Blackbird:(0.1278) cub_010_Red_winged_Blackbird:(0.2387) cub_011_Rusty_Blackbird:(0.173) cub_012_Yellow_headed_Blackbird:(0.1944) cub_013_Bobolink:(0.1324) cub_014_Indigo_Bunting:(0.1791) cub_015_Lazuli_Bunting:(0.2013) cub_016_Painted_Bunting:(0.234) cub_017_Cardinal:(0.2323) cub_019_Gray_Catbird:(0.1205) cub_020_Yellow_breasted_Chat:(0.2353) cub_021_Eastern_Towhee:(0.1954) cub_026_Bronzed_Cowbird:(0.2299) cub_027_Shiny_Cowbird:(0.1163) cub_028_Brown_Creeper:(0.1275) cub_034_Gray_crowned_Rosy_Finch:(0.2307) cub_035_Purple_Finch:(0.2) cub_047_American_Goldfinch:(0.198) cub_048_European_Goldfinch:(0.238) cub_049_Boat_tailed_Grackle:(0.0814) cub_054_Blue_Grosbeak:(0.1884) cub_055_Evening_Grosbeak:(0.2375) cub_056_Pine_Grosbeak:(0.2084) cub_057_Rose_breasted_Grosbeak:(0.2019) cub_076_Dark_eyed_Junco:(0.1655) cub_085_Horned_Lark:(0.2024) cub_088_Western_Meadowlark:(0.2) cub_091_Mockingbird:(0.1352) cub_094_White_breasted_Nuthatch:(0.1188) cub_095_Baltimore_Oriole:(0.2964) cub_096_Hooded_Oriole:(0.1823) cub_097_Orchard_Oriole:(0.2896) cub_098_Scott_Oriole:(0.218) cub_099_Ovenbird:(0.217) cub_104_American_Pipit:(0.3) cub_109_American_Redstart:(0.2851) cub_113_Baird_Sparrow:(0.1925) cub_114_Black_throated_Sparrow:(0.2128) cub_115_Brewer_Sparrow:(0.1797) cub_116_Chipping_Sparrow:(0.226) cub_117_Clay_colored_Sparrow:(0.2183) cub_118_House_Sparrow:(0.2417) cub_119_Field_Sparrow:(0.2338) cub_120_Fox_Sparrow:(0.3436) cub_121_Grasshopper_Sparrow:(0.1979) cub_122_Harris_Sparrow:(0.271) cub_123_Henslow_Sparrow:(0.1684) cub_124_Le_Conte_Sparrow:(0.2498) cub_125_Lincoln_Sparrow:(0.1816) cub_126_Nelson_Sharp_tailed_Sparrow:(0.2487) cub_127_Savannah_Sparrow:(0.2255) cub_128_Seaside_Sparrow:(0.2136) cub_129_Song_Sparrow:(0.2921) cub_130_Tree_Sparrow:(0.2446) cub_131_Vesper_Sparrow:(0.2755) cub_132_White_crowned_Sparrow:(0.221) cub_133_White_throated_Sparrow:(0.2595) cub_136_Barn_Swallow:(0.3421) cub_137_Cliff_Swallow:(0.2223) cub_138_Tree_Swallow:(0.1219) cub_139_Scarlet_Tanager:(0.1969) cub_140_Summer_Tanager:(0.2694) cub_148_Green_tailed_Towhee:(0.2483) cub_149_Brown_Thrasher:(0.2168) cub_150_Sage_Thrasher:(0.3503) cub_158_Bay_breasted_Warbler:(0.3078) cub_159_Black_and_white_Warbler:(0.2491) cub_160_Black_throated_Blue_Warbler:(0.1529) cub_161_Blue_winged_Warbler:(0.1656) cub_162_Canada_Warbler:(0.1998) cub_163_Cape_May_Warbler:(0.2514) cub_164_Cerulean_Warbler:(0.2078) cub_165_Chestnut_sided_Warbler:(0.2451) cub_166_Golden_winged_Warbler:(0.2214) cub_167_Hooded_Warbler:(0.157) cub_168_Kentucky_Warbler:(0.1721) cub_169_Magnolia_Warbler:(0.2453) cub_170_Mourning_Warbler:(0.1877) cub_172_Nashville_Warbler:(0.2462) cub_173_Orange_crowned_Warbler:(0.1642) cub_174_Palm_Warbler:(0.2458) cub_175_Pine_Warbler:(0.1903) cub_176_Prairie_Warbler:(0.1738) cub_177_Prothonotary_Warbler:(0.1978) cub_178_Swainson_Warbler:(0.1403) cub_179_Tennessee_Warbler:(0.2024) cub_180_Wilson_Warbler:(0.1805) cub_181_Worm_eating_Warbler:(0.1398) cub_182_Yellow_Warbler:(0.202) cub_183_Northern_Waterthrush:(0.2151) cub_184_Louisiana_Waterthrush:(0.2176) cub_185_Bohemian_Waxwing:(0.2466) cub_186_Cedar_Waxwing:(0.1371) cub_193_Bewick_Wren:(0.2476) cub_194_Cactus_Wren:(0.2902) cub_195_Carolina_Wren:(0.2198) cub_196_House_Wren:(0.1916) cub_197_Marsh_Wren:(0.2124) cub_198_Rock_Wren:(0.1836) cub_199_Winter_Wren:(0.2015) cub_200_Common_Yellowthroat:(0.2396) \n",
      "\t\tProto:6 cub_009_Brewer_Blackbird:(0.2351) cub_010_Red_winged_Blackbird:(0.1928) cub_011_Rusty_Blackbird:(0.2398) cub_012_Yellow_headed_Blackbird:(0.1041) cub_013_Bobolink:(0.1531) cub_014_Indigo_Bunting:(0.6082) cub_015_Lazuli_Bunting:(0.8582) cub_016_Painted_Bunting:(0.6147) cub_017_Cardinal:(0.1204) cub_019_Gray_Catbird:(0.1084) cub_020_Yellow_breasted_Chat:(0.9498) cub_021_Eastern_Towhee:(0.2554) cub_026_Bronzed_Cowbird:(0.1124) cub_027_Shiny_Cowbird:(0.0682) cub_028_Brown_Creeper:(0.2248) cub_034_Gray_crowned_Rosy_Finch:(0.2823) cub_035_Purple_Finch:(0.2173) cub_047_American_Goldfinch:(0.1503) cub_048_European_Goldfinch:(0.1125) cub_049_Boat_tailed_Grackle:(0.1881) cub_054_Blue_Grosbeak:(0.3031) cub_055_Evening_Grosbeak:(0.2587) cub_056_Pine_Grosbeak:(0.1297) cub_057_Rose_breasted_Grosbeak:(0.1956) cub_076_Dark_eyed_Junco:(0.2201) cub_085_Horned_Lark:(0.0952) cub_088_Western_Meadowlark:(0.6503) cub_091_Mockingbird:(0.0735) cub_094_White_breasted_Nuthatch:(0.0821) cub_095_Baltimore_Oriole:(0.9584) cub_096_Hooded_Oriole:(0.2066) cub_097_Orchard_Oriole:(0.3597) cub_098_Scott_Oriole:(0.6717) cub_099_Ovenbird:(0.3046) cub_104_American_Pipit:(0.2322) cub_109_American_Redstart:(0.5367) cub_113_Baird_Sparrow:(0.5225) cub_114_Black_throated_Sparrow:(0.0847) cub_115_Brewer_Sparrow:(0.3374) cub_116_Chipping_Sparrow:(0.1969) cub_117_Clay_colored_Sparrow:(0.421) cub_118_House_Sparrow:(0.2338) cub_119_Field_Sparrow:(0.2773) cub_120_Fox_Sparrow:(0.4332) cub_121_Grasshopper_Sparrow:(0.4114) cub_122_Harris_Sparrow:(0.275) cub_123_Henslow_Sparrow:(0.3278) cub_124_Le_Conte_Sparrow:(0.3128) cub_125_Lincoln_Sparrow:(0.4511) cub_126_Nelson_Sharp_tailed_Sparrow:(0.1485) cub_127_Savannah_Sparrow:(0.4657) cub_128_Seaside_Sparrow:(0.2601) cub_129_Song_Sparrow:(0.485) cub_130_Tree_Sparrow:(0.2029) cub_131_Vesper_Sparrow:(0.3123) cub_132_White_crowned_Sparrow:(0.1974) cub_133_White_throated_Sparrow:(0.1293) cub_136_Barn_Swallow:(0.4032) cub_137_Cliff_Swallow:(0.1276) cub_138_Tree_Swallow:(0.7559) cub_139_Scarlet_Tanager:(0.1338) cub_140_Summer_Tanager:(0.2864) cub_148_Green_tailed_Towhee:(0.1968) cub_149_Brown_Thrasher:(0.5293) cub_150_Sage_Thrasher:(0.336) cub_158_Bay_breasted_Warbler:(0.106) cub_159_Black_and_white_Warbler:(0.1737) cub_160_Black_throated_Blue_Warbler:(0.2683) cub_161_Blue_winged_Warbler:(0.1028) cub_162_Canada_Warbler:(0.9393) cub_163_Cape_May_Warbler:(0.4282) cub_164_Cerulean_Warbler:(0.3694) cub_165_Chestnut_sided_Warbler:(0.1917) cub_166_Golden_winged_Warbler:(0.1048) cub_167_Hooded_Warbler:(0.3086) cub_168_Kentucky_Warbler:(0.5065) cub_169_Magnolia_Warbler:(0.9502) cub_170_Mourning_Warbler:(0.885) cub_172_Nashville_Warbler:(0.986) cub_173_Orange_crowned_Warbler:(0.244) cub_174_Palm_Warbler:(0.2134) cub_175_Pine_Warbler:(0.2105) cub_176_Prairie_Warbler:(0.4117) cub_177_Prothonotary_Warbler:(0.3003) cub_178_Swainson_Warbler:(0.0806) cub_179_Tennessee_Warbler:(0.1078) cub_180_Wilson_Warbler:(0.3143) cub_181_Worm_eating_Warbler:(0.1096) cub_182_Yellow_Warbler:(0.3943) cub_183_Northern_Waterthrush:(0.2103) cub_184_Louisiana_Waterthrush:(0.1286) cub_185_Bohemian_Waxwing:(0.0943) cub_186_Cedar_Waxwing:(0.0658) cub_193_Bewick_Wren:(0.1328) cub_194_Cactus_Wren:(0.3012) cub_195_Carolina_Wren:(0.1522) cub_196_House_Wren:(0.3945) cub_197_Marsh_Wren:(0.1511) cub_198_Rock_Wren:(0.3694) cub_199_Winter_Wren:(0.2431) cub_200_Common_Yellowthroat:(0.9408) \n",
      "\t\tProto:7 cub_009_Brewer_Blackbird:(0.4336) cub_010_Red_winged_Blackbird:(0.321) cub_011_Rusty_Blackbird:(0.4166) cub_012_Yellow_headed_Blackbird:(0.5283) cub_013_Bobolink:(0.3153) cub_014_Indigo_Bunting:(0.7825) cub_015_Lazuli_Bunting:(0.5824) cub_016_Painted_Bunting:(0.582) cub_017_Cardinal:(0.543) cub_019_Gray_Catbird:(0.3426) cub_020_Yellow_breasted_Chat:(0.2354) cub_021_Eastern_Towhee:(0.5283) cub_026_Bronzed_Cowbird:(0.6823) cub_027_Shiny_Cowbird:(0.3887) cub_028_Brown_Creeper:(0.1426) cub_034_Gray_crowned_Rosy_Finch:(0.5714) cub_035_Purple_Finch:(0.6895) cub_047_American_Goldfinch:(0.6484) cub_048_European_Goldfinch:(0.7039) cub_049_Boat_tailed_Grackle:(0.1569) cub_054_Blue_Grosbeak:(0.5146) cub_055_Evening_Grosbeak:(0.5381) cub_056_Pine_Grosbeak:(0.5262) cub_057_Rose_breasted_Grosbeak:(0.723) cub_076_Dark_eyed_Junco:(0.6928) cub_085_Horned_Lark:(0.2681) cub_088_Western_Meadowlark:(0.6049) cub_091_Mockingbird:(0.1831) cub_094_White_breasted_Nuthatch:(0.134) cub_095_Baltimore_Oriole:(0.3894) cub_096_Hooded_Oriole:(0.5376) cub_097_Orchard_Oriole:(0.4415) cub_098_Scott_Oriole:(0.4786) cub_099_Ovenbird:(0.6861) cub_104_American_Pipit:(0.6147) cub_109_American_Redstart:(0.5067) cub_113_Baird_Sparrow:(0.6394) cub_114_Black_throated_Sparrow:(0.2805) cub_115_Brewer_Sparrow:(0.5562) cub_116_Chipping_Sparrow:(0.4785) cub_117_Clay_colored_Sparrow:(0.4899) cub_118_House_Sparrow:(0.5191) cub_119_Field_Sparrow:(0.5989) cub_120_Fox_Sparrow:(0.6094) cub_121_Grasshopper_Sparrow:(0.6477) cub_122_Harris_Sparrow:(0.6578) cub_123_Henslow_Sparrow:(0.7534) cub_124_Le_Conte_Sparrow:(0.5177) cub_125_Lincoln_Sparrow:(0.6795) cub_126_Nelson_Sharp_tailed_Sparrow:(0.6044) cub_127_Savannah_Sparrow:(0.7545) cub_128_Seaside_Sparrow:(0.6059) cub_129_Song_Sparrow:(0.569) cub_130_Tree_Sparrow:(0.5445) cub_131_Vesper_Sparrow:(0.66) cub_132_White_crowned_Sparrow:(0.3821) cub_133_White_throated_Sparrow:(0.5665) cub_136_Barn_Swallow:(0.3837) cub_137_Cliff_Swallow:(0.3836) cub_138_Tree_Swallow:(0.4058) cub_139_Scarlet_Tanager:(0.6772) cub_140_Summer_Tanager:(0.575) cub_148_Green_tailed_Towhee:(0.5729) cub_149_Brown_Thrasher:(0.4295) cub_150_Sage_Thrasher:(0.6464) cub_158_Bay_breasted_Warbler:(0.4268) cub_159_Black_and_white_Warbler:(0.4847) cub_160_Black_throated_Blue_Warbler:(0.5513) cub_161_Blue_winged_Warbler:(0.269) cub_162_Canada_Warbler:(0.5938) cub_163_Cape_May_Warbler:(0.4868) cub_164_Cerulean_Warbler:(0.515) cub_165_Chestnut_sided_Warbler:(0.3185) cub_166_Golden_winged_Warbler:(0.2863) cub_167_Hooded_Warbler:(0.3317) cub_168_Kentucky_Warbler:(0.3199) cub_169_Magnolia_Warbler:(0.4783) cub_170_Mourning_Warbler:(0.5767) cub_172_Nashville_Warbler:(0.4393) cub_173_Orange_crowned_Warbler:(0.4867) cub_174_Palm_Warbler:(0.5951) cub_175_Pine_Warbler:(0.3923) cub_176_Prairie_Warbler:(0.4335) cub_177_Prothonotary_Warbler:(0.5024) cub_178_Swainson_Warbler:(0.2568) cub_179_Tennessee_Warbler:(0.4143) cub_180_Wilson_Warbler:(0.7554) cub_181_Worm_eating_Warbler:(0.1748) cub_182_Yellow_Warbler:(0.5583) cub_183_Northern_Waterthrush:(0.6082) cub_184_Louisiana_Waterthrush:(0.4823) cub_185_Bohemian_Waxwing:(0.4816) cub_186_Cedar_Waxwing:(0.1675) cub_193_Bewick_Wren:(0.427) cub_194_Cactus_Wren:(0.5434) cub_195_Carolina_Wren:(0.3661) cub_196_House_Wren:(0.6669) cub_197_Marsh_Wren:(0.5085) cub_198_Rock_Wren:(0.6483) cub_199_Winter_Wren:(0.5501) cub_200_Common_Yellowthroat:(0.4741) \n",
      "\t\tProto:8 cub_009_Brewer_Blackbird:(0.1309) cub_010_Red_winged_Blackbird:(0.9591) cub_011_Rusty_Blackbird:(0.1243) cub_012_Yellow_headed_Blackbird:(0.1175) cub_013_Bobolink:(0.983) cub_014_Indigo_Bunting:(0.6335) cub_015_Lazuli_Bunting:(0.5658) cub_016_Painted_Bunting:(0.928) cub_017_Cardinal:(0.1855) cub_019_Gray_Catbird:(0.1346) cub_020_Yellow_breasted_Chat:(0.0986) cub_021_Eastern_Towhee:(0.9955) cub_026_Bronzed_Cowbird:(0.2029) cub_027_Shiny_Cowbird:(0.065) cub_028_Brown_Creeper:(0.7597) cub_034_Gray_crowned_Rosy_Finch:(0.1153) cub_035_Purple_Finch:(0.1078) cub_047_American_Goldfinch:(0.0909) cub_048_European_Goldfinch:(0.1348) cub_049_Boat_tailed_Grackle:(0.0902) cub_054_Blue_Grosbeak:(0.7817) cub_055_Evening_Grosbeak:(0.4344) cub_056_Pine_Grosbeak:(0.0844) cub_057_Rose_breasted_Grosbeak:(0.9943) cub_076_Dark_eyed_Junco:(0.9603) cub_085_Horned_Lark:(0.0469) cub_088_Western_Meadowlark:(0.7642) cub_091_Mockingbird:(0.0763) cub_094_White_breasted_Nuthatch:(0.1346) cub_095_Baltimore_Oriole:(0.5509) cub_096_Hooded_Oriole:(0.325) cub_097_Orchard_Oriole:(0.9121) cub_098_Scott_Oriole:(0.9562) cub_099_Ovenbird:(0.6361) cub_104_American_Pipit:(0.3197) cub_109_American_Redstart:(0.9952) cub_113_Baird_Sparrow:(0.8) cub_114_Black_throated_Sparrow:(0.1975) cub_115_Brewer_Sparrow:(0.7165) cub_116_Chipping_Sparrow:(0.1893) cub_117_Clay_colored_Sparrow:(0.547) cub_118_House_Sparrow:(0.1314) cub_119_Field_Sparrow:(0.224) cub_120_Fox_Sparrow:(0.1475) cub_121_Grasshopper_Sparrow:(0.5079) cub_122_Harris_Sparrow:(0.8503) cub_123_Henslow_Sparrow:(0.8109) cub_124_Le_Conte_Sparrow:(0.6291) cub_125_Lincoln_Sparrow:(0.5329) cub_126_Nelson_Sharp_tailed_Sparrow:(0.1924) cub_127_Savannah_Sparrow:(0.4843) cub_128_Seaside_Sparrow:(0.2479) cub_129_Song_Sparrow:(0.3834) cub_130_Tree_Sparrow:(0.1175) cub_131_Vesper_Sparrow:(0.462) cub_132_White_crowned_Sparrow:(0.0484) cub_133_White_throated_Sparrow:(0.1112) cub_136_Barn_Swallow:(0.5865) cub_137_Cliff_Swallow:(0.2655) cub_138_Tree_Swallow:(0.2859) cub_139_Scarlet_Tanager:(0.1836) cub_140_Summer_Tanager:(0.1261) cub_148_Green_tailed_Towhee:(0.1746) cub_149_Brown_Thrasher:(0.2389) cub_150_Sage_Thrasher:(0.1177) cub_158_Bay_breasted_Warbler:(0.1858) cub_159_Black_and_white_Warbler:(0.586) cub_160_Black_throated_Blue_Warbler:(0.8351) cub_161_Blue_winged_Warbler:(0.1376) cub_162_Canada_Warbler:(0.3798) cub_163_Cape_May_Warbler:(0.2708) cub_164_Cerulean_Warbler:(0.0971) cub_165_Chestnut_sided_Warbler:(0.2692) cub_166_Golden_winged_Warbler:(0.1985) cub_167_Hooded_Warbler:(0.4222) cub_168_Kentucky_Warbler:(0.1313) cub_169_Magnolia_Warbler:(0.2618) cub_170_Mourning_Warbler:(0.725) cub_172_Nashville_Warbler:(0.1639) cub_173_Orange_crowned_Warbler:(0.3768) cub_174_Palm_Warbler:(0.1099) cub_175_Pine_Warbler:(0.258) cub_176_Prairie_Warbler:(0.2904) cub_177_Prothonotary_Warbler:(0.1099) cub_178_Swainson_Warbler:(0.1339) cub_179_Tennessee_Warbler:(0.2053) cub_180_Wilson_Warbler:(0.1781) cub_181_Worm_eating_Warbler:(0.1494) cub_182_Yellow_Warbler:(0.3943) cub_183_Northern_Waterthrush:(0.2054) cub_184_Louisiana_Waterthrush:(0.1164) cub_185_Bohemian_Waxwing:(0.2785) cub_186_Cedar_Waxwing:(0.0742) cub_193_Bewick_Wren:(0.185) cub_194_Cactus_Wren:(0.1807) cub_195_Carolina_Wren:(0.2301) cub_196_House_Wren:(0.4147) cub_197_Marsh_Wren:(0.2334) cub_198_Rock_Wren:(0.3538) cub_199_Winter_Wren:(0.4761) cub_200_Common_Yellowthroat:(0.0877) \n",
      "\t Child: 107+151\n",
      "\t\tProto:18 cub_029_American_Crow:(0.0813) cub_030_Fish_Crow:(0.0792) cub_073_Blue_Jay:(0.1811) cub_074_Florida_Jay:(0.1174) cub_093_Clark_Nutcracker:(0.1977) cub_107_Common_Raven:(0.1396) cub_108_White_necked_Raven:(0.0976) cub_111_Loggerhead_Shrike:(0.1402) cub_112_Great_Grey_Shrike:(0.1624) cub_151_Black_capped_Vireo:(0.2206) cub_152_Blue_headed_Vireo:(0.0999) cub_153_Philadelphia_Vireo:(0.0802) cub_154_Red_eyed_Vireo:(0.1129) cub_155_Warbling_Vireo:(0.116) cub_156_White_eyed_Vireo:(0.1324) cub_157_Yellow_throated_Vireo:(0.0686) \n",
      "\t\tProto:19 cub_029_American_Crow:(0.9434) cub_030_Fish_Crow:(0.9299) cub_073_Blue_Jay:(0.9607) cub_074_Florida_Jay:(0.9382) cub_093_Clark_Nutcracker:(0.9419) cub_107_Common_Raven:(0.9875) cub_108_White_necked_Raven:(0.9581) cub_111_Loggerhead_Shrike:(0.9656) cub_112_Great_Grey_Shrike:(0.9872) cub_151_Black_capped_Vireo:(0.9514) cub_152_Blue_headed_Vireo:(0.9452) cub_153_Philadelphia_Vireo:(0.9321) cub_154_Red_eyed_Vireo:(0.9195) cub_155_Warbling_Vireo:(0.8808) cub_156_White_eyed_Vireo:(0.9829) cub_157_Yellow_throated_Vireo:(0.9274) \n",
      "\t\tProto:14 cub_029_American_Crow:(0.0916) cub_030_Fish_Crow:(0.0869) cub_073_Blue_Jay:(0.1484) cub_074_Florida_Jay:(0.1298) cub_093_Clark_Nutcracker:(0.1976) cub_107_Common_Raven:(0.1362) cub_108_White_necked_Raven:(0.0925) cub_111_Loggerhead_Shrike:(0.1726) cub_112_Great_Grey_Shrike:(0.135) cub_151_Black_capped_Vireo:(0.0803) cub_152_Blue_headed_Vireo:(0.0837) cub_153_Philadelphia_Vireo:(0.0751) cub_154_Red_eyed_Vireo:(0.0854) cub_155_Warbling_Vireo:(0.0921) cub_156_White_eyed_Vireo:(0.0992) cub_157_Yellow_throated_Vireo:(0.0837) \n"
     ]
    },
    {
     "name": "stderr",
     "output_type": "stream",
     "text": [
      "Collecting topk: 177it [00:13, 13.43it/s]  \n"
     ]
    },
    {
     "name": "stdout",
     "output_type": "stream",
     "text": [
      "Node 043+042\n",
      "\t Child: 043+040\n",
      "\t\tProto:2 cub_037_Acadian_Flycatcher:(1.0) cub_039_Least_Flycatcher:(1.0) cub_040_Olive_sided_Flycatcher:(0.9997) cub_043_Yellow_bellied_Flycatcher:(0.9999) cub_102_Western_Wood_Pewee:(0.9999) \n",
      "\t\tProto:4 cub_037_Acadian_Flycatcher:(1.0) cub_039_Least_Flycatcher:(1.0) cub_040_Olive_sided_Flycatcher:(0.9989) cub_043_Yellow_bellied_Flycatcher:(0.9999) cub_102_Western_Wood_Pewee:(0.9999) \n",
      "\t Child: cub_042_Vermilion_Flycatcher\n",
      "\t\tProto:19 cub_042_Vermilion_Flycatcher:(0.9999) \n"
     ]
    },
    {
     "name": "stderr",
     "output_type": "stream",
     "text": [
      "Collecting topk: 119it [00:10, 11.18it/s]  \n"
     ]
    },
    {
     "name": "stdout",
     "output_type": "stream",
     "text": [
      "Node 078+038\n",
      "\t Child: 078+041\n",
      "\t\tProto:1 cub_041_Scissor_tailed_Flycatcher:(0.9998) cub_077_Tropical_Kingbird:(0.9993) cub_078_Gray_Kingbird:(1.0) \n",
      "\t\tProto:7 cub_041_Scissor_tailed_Flycatcher:(1.0) cub_077_Tropical_Kingbird:(1.0) cub_078_Gray_Kingbird:(1.0) \n",
      "\t Child: cub_038_Great_Crested_Flycatcher\n",
      "\t\tProto:10 cub_038_Great_Crested_Flycatcher:(1.0) \n",
      "\t\tProto:13 cub_038_Great_Crested_Flycatcher:(0.9993) \n"
     ]
    },
    {
     "name": "stderr",
     "output_type": "stream",
     "text": [
      "Collecting topk: 139it [00:11, 11.88it/s]\n"
     ]
    },
    {
     "name": "stdout",
     "output_type": "stream",
     "text": [
      "Node 192+191\n",
      "\t Child: 192+187\n",
      "\t\tProto:8 cub_187_American_Three_toed_Woodpecker:(0.9921) cub_190_Red_cockaded_Woodpecker:(0.998) cub_192_Downy_Woodpecker:(0.999) \n",
      "\t\tProto:5 cub_187_American_Three_toed_Woodpecker:(1.0) cub_190_Red_cockaded_Woodpecker:(1.0) cub_192_Downy_Woodpecker:(1.0) \n",
      "\t\tProto:6 cub_187_American_Three_toed_Woodpecker:(0.9999) cub_190_Red_cockaded_Woodpecker:(1.0) cub_192_Downy_Woodpecker:(1.0) \n",
      "\t Child: 191+189\n",
      "\t\tProto:17 cub_189_Red_bellied_Woodpecker:(0.9991) cub_191_Red_headed_Woodpecker:(0.9998) \n",
      "\t\tProto:13 cub_189_Red_bellied_Woodpecker:(1.0) cub_191_Red_headed_Woodpecker:(1.0) \n",
      "\t\tProto:14 cub_189_Red_bellied_Woodpecker:(1.0) cub_191_Red_headed_Woodpecker:(1.0) \n"
     ]
    },
    {
     "name": "stderr",
     "output_type": "stream",
     "text": [
      "Collecting topk: 100% 60/60 [00:07<00:00,  7.59it/s]\n"
     ]
    },
    {
     "name": "stdout",
     "output_type": "stream",
     "text": [
      "Node 036+188\n",
      "\t Child: cub_036_Northern_Flicker\n",
      "\t\tProto:2 cub_036_Northern_Flicker:(1.0) \n",
      "\t Child: cub_188_Pileated_Woodpecker\n",
      "\t\tProto:11 cub_188_Pileated_Woodpecker:(1.0) \n",
      "\t\tProto:12 cub_188_Pileated_Woodpecker:(0.9999) \n"
     ]
    },
    {
     "name": "stderr",
     "output_type": "stream",
     "text": [
      "Collecting topk: 120it [00:10, 11.59it/s]\n"
     ]
    },
    {
     "name": "stdout",
     "output_type": "stream",
     "text": [
      "Node 081+082\n",
      "\t Child: 081+080\n",
      "\t\tProto:0 cub_080_Green_Kingfisher:(1.0) cub_081_Pied_Kingfisher:(1.0) \n",
      "\t Child: 082+079\n",
      "\t\tProto:12 cub_079_Belted_Kingfisher:(0.9999) cub_082_Ringed_Kingfisher:(0.9991) \n",
      "\t\tProto:13 cub_079_Belted_Kingfisher:(0.9996) cub_082_Ringed_Kingfisher:(0.9986) \n"
     ]
    },
    {
     "name": "stderr",
     "output_type": "stream",
     "text": [
      "Collecting topk: 199it [00:14, 14.12it/s]\n"
     ]
    },
    {
     "name": "stdout",
     "output_type": "stream",
     "text": [
      "Node 065+061\n",
      "\t Child: 065+066\n",
      "\t\tProto:2 cub_059_California_Gull:(0.9958) cub_060_Glaucous_winged_Gull:(0.993) cub_062_Herring_Gull:(0.9861) cub_065_Slaty_backed_Gull:(0.9903) cub_066_Western_Gull:(0.9977) \n",
      "\t\tProto:5 cub_059_California_Gull:(0.9999) cub_060_Glaucous_winged_Gull:(0.9999) cub_062_Herring_Gull:(0.9999) cub_065_Slaty_backed_Gull:(0.9521) cub_066_Western_Gull:(0.9999) \n",
      "\t\tProto:6 cub_059_California_Gull:(0.9993) cub_060_Glaucous_winged_Gull:(0.9999) cub_062_Herring_Gull:(0.9994) cub_065_Slaty_backed_Gull:(0.9983) cub_066_Western_Gull:(0.9999) \n",
      "\t Child: 061+064\n",
      "\t\tProto:18 cub_061_Heermann_Gull:(1.0) cub_064_Ring_billed_Gull:(0.9978) \n",
      "\t\tProto:19 cub_061_Heermann_Gull:(0.9996) cub_064_Ring_billed_Gull:(0.9995) \n"
     ]
    },
    {
     "name": "stderr",
     "output_type": "stream",
     "text": [
      "Collecting topk: 100% 53/53 [00:07<00:00,  6.64it/s]\n"
     ]
    },
    {
     "name": "stdout",
     "output_type": "stream",
     "text": [
      "Node 084+063\n",
      "\t Child: cub_084_Red_legged_Kittiwake\n",
      "\t\tProto:8 cub_084_Red_legged_Kittiwake:(1.0) \n",
      "\t Child: cub_063_Ivory_Gull\n",
      "\t\tProto:16 cub_063_Ivory_Gull:(1.0) \n"
     ]
    },
    {
     "name": "stderr",
     "output_type": "stream",
     "text": [
      "Collecting topk: 179it [00:12, 13.85it/s]  \n"
     ]
    },
    {
     "name": "stdout",
     "output_type": "stream",
     "text": [
      "Node 144+143\n",
      "\t Child: 144+142\n",
      "\t\tProto:5 cub_141_Artic_Tern:(0.9991) cub_142_Black_Tern:(0.9994) cub_144_Common_Tern:(0.997) cub_145_Elegant_Tern:(0.9383) cub_146_Forsters_Tern:(0.9995) \n",
      "\t Child: cub_143_Caspian_Tern\n",
      "\t\tProto:18 cub_143_Caspian_Tern:(0.9999) \n"
     ]
    },
    {
     "name": "stderr",
     "output_type": "stream",
     "text": [
      "Collecting topk: 96it [00:09,  9.82it/s]\n"
     ]
    },
    {
     "name": "stdout",
     "output_type": "stream",
     "text": [
      "Node 006+008\n",
      "\t Child: 006+005\n",
      "\t\tProto:9 cub_005_Crested_Auklet:(0.9932) cub_006_Least_Auklet:(0.9984) cub_007_Parakeet_Auklet:(1.0) \n",
      "\t\tProto:2 cub_005_Crested_Auklet:(0.9995) cub_006_Least_Auklet:(0.9978) cub_007_Parakeet_Auklet:(1.0) \n",
      "\t Child: 008+106\n",
      "\t\tProto:18 cub_008_Rhinoceros_Auklet:(1.0) cub_106_Horned_Puffin:(1.0) \n"
     ]
    },
    {
     "name": "stderr",
     "output_type": "stream",
     "text": [
      "Collecting topk: 131it [00:11, 11.66it/s]\n"
     ]
    },
    {
     "name": "stdout",
     "output_type": "stream",
     "text": [
      "Node 024+100\n",
      "\t Child: 024+023\n",
      "\t\tProto:0 cub_023_Brandt_Cormorant:(0.9991) cub_024_Red_faced_Cormorant:(0.9999) cub_025_Pelagic_Cormorant:(1.0) \n",
      "\t\tProto:1 cub_023_Brandt_Cormorant:(0.9985) cub_024_Red_faced_Cormorant:(0.9988) cub_025_Pelagic_Cormorant:(0.9996) \n",
      "\t\tProto:6 cub_023_Brandt_Cormorant:(0.9969) cub_024_Red_faced_Cormorant:(0.9979) cub_025_Pelagic_Cormorant:(0.9998) \n",
      "\t Child: 100+101\n",
      "\t\tProto:13 cub_100_Brown_Pelican:(1.0) cub_101_White_Pelican:(1.0) \n"
     ]
    },
    {
     "name": "stderr",
     "output_type": "stream",
     "text": [
      "Collecting topk: 118it [00:10, 11.32it/s]  \n"
     ]
    },
    {
     "name": "stdout",
     "output_type": "stream",
     "text": [
      "Node 001+045\n",
      "\t Child: 001+003\n",
      "\t\tProto:8 cub_001_Black_footed_Albatross:(1.0) cub_002_Laysan_Albatross:(0.9996) cub_003_Sooty_Albatross:(1.0) \n",
      "\t\tProto:9 cub_001_Black_footed_Albatross:(0.9977) cub_002_Laysan_Albatross:(0.9991) cub_003_Sooty_Albatross:(0.9998) \n",
      "\t Child: cub_045_Northern_Fulmar\n",
      "\t\tProto:10 cub_045_Northern_Fulmar:(1.0) \n"
     ]
    },
    {
     "name": "stderr",
     "output_type": "stream",
     "text": [
      "Collecting topk: 100% 59/59 [00:08<00:00,  6.88it/s]\n"
     ]
    },
    {
     "name": "stdout",
     "output_type": "stream",
     "text": [
      "Node 031+033\n",
      "\t Child: cub_031_Black_billed_Cuckoo\n",
      "\t\tProto:0 cub_031_Black_billed_Cuckoo:(1.0) \n",
      "\t\tProto:7 cub_031_Black_billed_Cuckoo:(0.9962) \n",
      "\t Child: cub_033_Yellow_billed_Cuckoo\n",
      "\t\tProto:11 cub_033_Yellow_billed_Cuckoo:(1.0) \n",
      "\t\tProto:15 cub_033_Yellow_billed_Cuckoo:(0.9998) \n"
     ]
    },
    {
     "name": "stderr",
     "output_type": "stream",
     "text": [
      "Collecting topk: 2987it [02:12, 22.47it/s]\n"
     ]
    },
    {
     "name": "stdout",
     "output_type": "stream",
     "text": [
      "Node 129+136\n",
      "\t Child: 129+199\n",
      "\t\tProto:8 cub_009_Brewer_Blackbird:(0.9972) cub_010_Red_winged_Blackbird:(0.9631) cub_011_Rusty_Blackbird:(0.999) cub_012_Yellow_headed_Blackbird:(0.9933) cub_013_Bobolink:(0.9983) cub_014_Indigo_Bunting:(0.9958) cub_015_Lazuli_Bunting:(0.9541) cub_016_Painted_Bunting:(0.9978) cub_017_Cardinal:(0.8272) cub_019_Gray_Catbird:(0.9974) cub_020_Yellow_breasted_Chat:(0.9979) cub_021_Eastern_Towhee:(0.9978) cub_026_Bronzed_Cowbird:(0.9987) cub_027_Shiny_Cowbird:(0.9975) cub_028_Brown_Creeper:(0.9055) cub_034_Gray_crowned_Rosy_Finch:(0.9091) cub_035_Purple_Finch:(0.9963) cub_047_American_Goldfinch:(0.9989) cub_048_European_Goldfinch:(0.9777) cub_049_Boat_tailed_Grackle:(0.95) cub_054_Blue_Grosbeak:(0.959) cub_055_Evening_Grosbeak:(0.9864) cub_056_Pine_Grosbeak:(0.9792) cub_057_Rose_breasted_Grosbeak:(0.9897) cub_076_Dark_eyed_Junco:(0.9703) cub_088_Western_Meadowlark:(0.9985) cub_091_Mockingbird:(0.9576) cub_094_White_breasted_Nuthatch:(0.9923) cub_095_Baltimore_Oriole:(0.9995) cub_096_Hooded_Oriole:(0.9967) cub_097_Orchard_Oriole:(0.9975) cub_098_Scott_Oriole:(0.9999) cub_099_Ovenbird:(1.0) cub_104_American_Pipit:(1.0) cub_109_American_Redstart:(0.9993) cub_113_Baird_Sparrow:(0.9997) cub_114_Black_throated_Sparrow:(0.9793) cub_115_Brewer_Sparrow:(0.9989) cub_116_Chipping_Sparrow:(0.9974) cub_117_Clay_colored_Sparrow:(0.9947) cub_118_House_Sparrow:(0.9975) cub_119_Field_Sparrow:(0.9989) cub_120_Fox_Sparrow:(0.9987) cub_121_Grasshopper_Sparrow:(0.9995) cub_122_Harris_Sparrow:(0.9808) cub_123_Henslow_Sparrow:(0.9999) cub_124_Le_Conte_Sparrow:(0.998) cub_125_Lincoln_Sparrow:(0.9995) cub_126_Nelson_Sharp_tailed_Sparrow:(0.9968) cub_127_Savannah_Sparrow:(0.9999) cub_128_Seaside_Sparrow:(0.9977) cub_129_Song_Sparrow:(0.9927) cub_130_Tree_Sparrow:(0.991) cub_131_Vesper_Sparrow:(0.9991) cub_132_White_crowned_Sparrow:(0.9551) cub_133_White_throated_Sparrow:(0.9244) cub_139_Scarlet_Tanager:(0.9987) cub_140_Summer_Tanager:(0.9996) cub_148_Green_tailed_Towhee:(0.9968) cub_149_Brown_Thrasher:(0.9981) cub_150_Sage_Thrasher:(0.9999) cub_158_Bay_breasted_Warbler:(0.9269) cub_159_Black_and_white_Warbler:(0.9996) cub_160_Black_throated_Blue_Warbler:(0.9835) cub_161_Blue_winged_Warbler:(0.9995) cub_162_Canada_Warbler:(0.9997) cub_163_Cape_May_Warbler:(0.9981) cub_164_Cerulean_Warbler:(0.9965) cub_165_Chestnut_sided_Warbler:(0.9971) cub_166_Golden_winged_Warbler:(0.9938) cub_167_Hooded_Warbler:(0.999) cub_168_Kentucky_Warbler:(0.9762) cub_169_Magnolia_Warbler:(0.9987) cub_170_Mourning_Warbler:(0.9985) cub_172_Nashville_Warbler:(0.9999) cub_173_Orange_crowned_Warbler:(0.9998) cub_174_Palm_Warbler:(0.9999) cub_175_Pine_Warbler:(0.9998) cub_176_Prairie_Warbler:(0.9997) cub_177_Prothonotary_Warbler:(1.0) cub_178_Swainson_Warbler:(0.9963) cub_179_Tennessee_Warbler:(0.9997) cub_180_Wilson_Warbler:(0.9999) cub_181_Worm_eating_Warbler:(0.9538) cub_182_Yellow_Warbler:(1.0) cub_183_Northern_Waterthrush:(0.9981) cub_184_Louisiana_Waterthrush:(0.9998) cub_185_Bohemian_Waxwing:(0.8127) cub_186_Cedar_Waxwing:(0.9226) cub_193_Bewick_Wren:(0.9985) cub_194_Cactus_Wren:(0.9995) cub_195_Carolina_Wren:(0.9993) cub_196_House_Wren:(0.9999) cub_197_Marsh_Wren:(0.997) cub_198_Rock_Wren:(0.9999) cub_199_Winter_Wren:(0.9996) cub_200_Common_Yellowthroat:(0.9989) \n",
      "\t\tProto:9 cub_009_Brewer_Blackbird:(0.9923) cub_010_Red_winged_Blackbird:(0.9942) cub_011_Rusty_Blackbird:(0.9586) cub_012_Yellow_headed_Blackbird:(0.9852) cub_013_Bobolink:(0.9973) cub_014_Indigo_Bunting:(0.9877) cub_015_Lazuli_Bunting:(0.9869) cub_016_Painted_Bunting:(0.9925) cub_017_Cardinal:(0.9864) cub_019_Gray_Catbird:(0.9975) cub_020_Yellow_breasted_Chat:(0.9982) cub_021_Eastern_Towhee:(0.9989) cub_026_Bronzed_Cowbird:(0.9895) cub_027_Shiny_Cowbird:(0.997) cub_028_Brown_Creeper:(0.9895) cub_034_Gray_crowned_Rosy_Finch:(0.9959) cub_035_Purple_Finch:(0.9985) cub_047_American_Goldfinch:(0.9987) cub_048_European_Goldfinch:(0.9797) cub_049_Boat_tailed_Grackle:(0.9434) cub_054_Blue_Grosbeak:(0.9962) cub_055_Evening_Grosbeak:(0.9976) cub_056_Pine_Grosbeak:(0.9841) cub_057_Rose_breasted_Grosbeak:(0.9988) cub_076_Dark_eyed_Junco:(0.9976) cub_088_Western_Meadowlark:(0.9998) cub_091_Mockingbird:(0.8969) cub_094_White_breasted_Nuthatch:(0.9959) cub_095_Baltimore_Oriole:(0.9984) cub_096_Hooded_Oriole:(0.9951) cub_097_Orchard_Oriole:(0.9915) cub_098_Scott_Oriole:(0.999) cub_099_Ovenbird:(0.9973) cub_104_American_Pipit:(0.9975) cub_109_American_Redstart:(0.9981) cub_113_Baird_Sparrow:(0.9984) cub_114_Black_throated_Sparrow:(0.9902) cub_115_Brewer_Sparrow:(0.9973) cub_116_Chipping_Sparrow:(0.998) cub_117_Clay_colored_Sparrow:(0.9934) cub_118_House_Sparrow:(0.9953) cub_119_Field_Sparrow:(0.9987) cub_120_Fox_Sparrow:(0.9973) cub_121_Grasshopper_Sparrow:(0.9995) cub_122_Harris_Sparrow:(0.9849) cub_123_Henslow_Sparrow:(0.9999) cub_124_Le_Conte_Sparrow:(0.9995) cub_125_Lincoln_Sparrow:(0.9995) cub_126_Nelson_Sharp_tailed_Sparrow:(0.9985) cub_127_Savannah_Sparrow:(0.9998) cub_128_Seaside_Sparrow:(0.9941) cub_129_Song_Sparrow:(0.9974) cub_130_Tree_Sparrow:(0.9923) cub_131_Vesper_Sparrow:(0.9994) cub_132_White_crowned_Sparrow:(0.9942) cub_133_White_throated_Sparrow:(0.998) cub_139_Scarlet_Tanager:(0.9963) cub_140_Summer_Tanager:(0.9997) cub_148_Green_tailed_Towhee:(0.9955) cub_149_Brown_Thrasher:(0.9985) cub_150_Sage_Thrasher:(0.9996) cub_158_Bay_breasted_Warbler:(0.9944) cub_159_Black_and_white_Warbler:(0.9971) cub_160_Black_throated_Blue_Warbler:(0.9971) cub_161_Blue_winged_Warbler:(0.9983) cub_162_Canada_Warbler:(0.9999) cub_163_Cape_May_Warbler:(0.9989) cub_164_Cerulean_Warbler:(0.9433) cub_165_Chestnut_sided_Warbler:(0.998) cub_166_Golden_winged_Warbler:(0.9958) cub_167_Hooded_Warbler:(0.9923) cub_168_Kentucky_Warbler:(0.9925) cub_169_Magnolia_Warbler:(0.9989) cub_170_Mourning_Warbler:(0.9997) cub_172_Nashville_Warbler:(0.9998) cub_173_Orange_crowned_Warbler:(0.9995) cub_174_Palm_Warbler:(0.9997) cub_175_Pine_Warbler:(0.9999) cub_176_Prairie_Warbler:(0.9978) cub_177_Prothonotary_Warbler:(0.9978) cub_178_Swainson_Warbler:(0.9988) cub_179_Tennessee_Warbler:(0.9986) cub_180_Wilson_Warbler:(1.0) cub_181_Worm_eating_Warbler:(0.993) cub_182_Yellow_Warbler:(0.9987) cub_183_Northern_Waterthrush:(0.9996) cub_184_Louisiana_Waterthrush:(0.9998) cub_185_Bohemian_Waxwing:(0.968) cub_186_Cedar_Waxwing:(0.9424) cub_193_Bewick_Wren:(0.9959) cub_194_Cactus_Wren:(0.9979) cub_195_Carolina_Wren:(0.998) cub_196_House_Wren:(0.9996) cub_197_Marsh_Wren:(0.989) cub_198_Rock_Wren:(0.9988) cub_199_Winter_Wren:(0.9974) cub_200_Common_Yellowthroat:(0.994) \n",
      "\t Child: 136+085\n",
      "\t\tProto:17 cub_085_Horned_Lark:(0.0493) cub_136_Barn_Swallow:(0.0608) cub_137_Cliff_Swallow:(0.0595) cub_138_Tree_Swallow:(0.0643) \n",
      "\t\tProto:12 cub_085_Horned_Lark:(0.9741) cub_136_Barn_Swallow:(0.9097) cub_137_Cliff_Swallow:(0.8988) cub_138_Tree_Swallow:(0.9489) \n",
      "\t\tProto:14 cub_085_Horned_Lark:(0.0611) cub_136_Barn_Swallow:(0.068) cub_137_Cliff_Swallow:(0.0704) cub_138_Tree_Swallow:(0.0688) \n"
     ]
    },
    {
     "name": "stderr",
     "output_type": "stream",
     "text": [
      "Collecting topk: 469it [00:25, 18.52it/s]\n"
     ]
    },
    {
     "name": "stdout",
     "output_type": "stream",
     "text": [
      "Node 107+151\n",
      "\t Child: 107+111\n",
      "\t\tProto:1 cub_029_American_Crow:(1.0) cub_030_Fish_Crow:(1.0) cub_073_Blue_Jay:(0.9994) cub_074_Florida_Jay:(0.9999) cub_093_Clark_Nutcracker:(0.9999) cub_107_Common_Raven:(1.0) cub_108_White_necked_Raven:(1.0) cub_111_Loggerhead_Shrike:(0.9998) cub_112_Great_Grey_Shrike:(0.9993) \n",
      "\t\tProto:3 cub_029_American_Crow:(0.9981) cub_030_Fish_Crow:(0.9959) cub_073_Blue_Jay:(0.9681) cub_074_Florida_Jay:(0.9838) cub_093_Clark_Nutcracker:(0.9977) cub_107_Common_Raven:(0.9978) cub_108_White_necked_Raven:(0.9974) cub_111_Loggerhead_Shrike:(0.9472) cub_112_Great_Grey_Shrike:(0.9885) \n",
      "\t Child: 151+153\n",
      "\t\tProto:16 cub_151_Black_capped_Vireo:(0.9961) cub_152_Blue_headed_Vireo:(0.9994) cub_153_Philadelphia_Vireo:(0.9993) cub_154_Red_eyed_Vireo:(0.9996) cub_155_Warbling_Vireo:(0.9995) cub_156_White_eyed_Vireo:(0.9977) cub_157_Yellow_throated_Vireo:(0.9971) \n",
      "\t\tProto:10 cub_151_Black_capped_Vireo:(0.9943) cub_152_Blue_headed_Vireo:(0.9969) cub_153_Philadelphia_Vireo:(0.9989) cub_154_Red_eyed_Vireo:(0.9909) cub_155_Warbling_Vireo:(0.9793) cub_156_White_eyed_Vireo:(0.9995) cub_157_Yellow_throated_Vireo:(0.9998) \n",
      "\t\tProto:11 cub_151_Black_capped_Vireo:(0.9967) cub_152_Blue_headed_Vireo:(0.9999) cub_153_Philadelphia_Vireo:(1.0) cub_154_Red_eyed_Vireo:(0.9911) cub_155_Warbling_Vireo:(0.9979) cub_156_White_eyed_Vireo:(0.9999) cub_157_Yellow_throated_Vireo:(0.9991) \n"
     ]
    },
    {
     "name": "stderr",
     "output_type": "stream",
     "text": [
      "Collecting topk: 147it [00:12, 12.08it/s]\n"
     ]
    },
    {
     "name": "stdout",
     "output_type": "stream",
     "text": [
      "Node 043+040\n",
      "\t Child: 043+037\n",
      "\t\tProto:0 cub_037_Acadian_Flycatcher:(1.0) cub_039_Least_Flycatcher:(1.0) cub_043_Yellow_bellied_Flycatcher:(1.0) \n",
      "\t\tProto:6 cub_037_Acadian_Flycatcher:(1.0) cub_039_Least_Flycatcher:(1.0) cub_043_Yellow_bellied_Flycatcher:(1.0) \n",
      "\t Child: 040+102\n",
      "\t\tProto:15 cub_040_Olive_sided_Flycatcher:(1.0) cub_102_Western_Wood_Pewee:(0.9997) \n"
     ]
    },
    {
     "name": "stderr",
     "output_type": "stream",
     "text": [
      "Collecting topk: 89it [00:09,  9.33it/s]   \n"
     ]
    },
    {
     "name": "stdout",
     "output_type": "stream",
     "text": [
      "Node 078+041\n",
      "\t Child: 078+077\n",
      "\t\tProto:1 cub_077_Tropical_Kingbird:(0.9999) cub_078_Gray_Kingbird:(0.9999) \n",
      "\t\tProto:3 cub_077_Tropical_Kingbird:(1.0) cub_078_Gray_Kingbird:(1.0) \n",
      "\t Child: cub_041_Scissor_tailed_Flycatcher\n",
      "\t\tProto:13 cub_041_Scissor_tailed_Flycatcher:(1.0) \n"
     ]
    },
    {
     "name": "stderr",
     "output_type": "stream",
     "text": [
      "Collecting topk: 79it [00:08,  8.92it/s]   \n"
     ]
    },
    {
     "name": "stdout",
     "output_type": "stream",
     "text": [
      "Node 192+187\n",
      "\t Child: 192+190\n",
      "\t\tProto:2 cub_190_Red_cockaded_Woodpecker:(1.0) cub_192_Downy_Woodpecker:(1.0) \n",
      "\t Child: cub_187_American_Three_toed_Woodpecker\n",
      "\t\tProto:13 cub_187_American_Three_toed_Woodpecker:(1.0) \n"
     ]
    },
    {
     "name": "stderr",
     "output_type": "stream",
     "text": [
      "Collecting topk: 100% 60/60 [00:08<00:00,  7.08it/s]\n"
     ]
    },
    {
     "name": "stdout",
     "output_type": "stream",
     "text": [
      "Node 191+189\n",
      "\t Child: cub_191_Red_headed_Woodpecker\n",
      "\t\tProto:0 cub_191_Red_headed_Woodpecker:(1.0) \n",
      "\t\tProto:5 cub_191_Red_headed_Woodpecker:(1.0) \n",
      "\t Child: cub_189_Red_bellied_Woodpecker\n",
      "\t\tProto:19 cub_189_Red_bellied_Woodpecker:(1.0) \n",
      "\t\tProto:12 cub_189_Red_bellied_Woodpecker:(1.0) \n"
     ]
    },
    {
     "name": "stderr",
     "output_type": "stream",
     "text": [
      "Collecting topk: 100% 60/60 [00:08<00:00,  6.92it/s]\n"
     ]
    },
    {
     "name": "stdout",
     "output_type": "stream",
     "text": [
      "Node 081+080\n",
      "\t Child: cub_081_Pied_Kingfisher\n",
      "\t\tProto:7 cub_081_Pied_Kingfisher:(1.0) \n",
      "\t Child: cub_080_Green_Kingfisher\n",
      "\t\tProto:17 cub_080_Green_Kingfisher:(1.0) \n"
     ]
    },
    {
     "name": "stderr",
     "output_type": "stream",
     "text": [
      "Collecting topk: 100% 60/60 [00:08<00:00,  7.12it/s]\n"
     ]
    },
    {
     "name": "stdout",
     "output_type": "stream",
     "text": [
      "Node 082+079\n",
      "\t Child: cub_082_Ringed_Kingfisher\n",
      "\t\tProto:6 cub_082_Ringed_Kingfisher:(0.9998) \n",
      "\t Child: cub_079_Belted_Kingfisher\n",
      "\t\tProto:12 cub_079_Belted_Kingfisher:(0.9999) \n"
     ]
    },
    {
     "name": "stderr",
     "output_type": "stream",
     "text": [
      "Collecting topk: 139it [00:11, 12.15it/s]  \n"
     ]
    },
    {
     "name": "stdout",
     "output_type": "stream",
     "text": [
      "Node 065+066\n",
      "\t Child: 065+062\n",
      "\t\tProto:2 cub_059_California_Gull:(0.9991) cub_060_Glaucous_winged_Gull:(0.9942) cub_062_Herring_Gull:(0.9997) cub_065_Slaty_backed_Gull:(0.9919) \n",
      "\t Child: cub_066_Western_Gull\n",
      "\t\tProto:19 cub_066_Western_Gull:(1.0) \n"
     ]
    },
    {
     "name": "stderr",
     "output_type": "stream",
     "text": [
      "Collecting topk: 100% 60/60 [00:08<00:00,  7.28it/s]\n"
     ]
    },
    {
     "name": "stdout",
     "output_type": "stream",
     "text": [
      "Node 061+064\n",
      "\t Child: cub_061_Heermann_Gull\n",
      "\t\tProto:9 cub_061_Heermann_Gull:(1.0) \n",
      "\t\tProto:3 cub_061_Heermann_Gull:(0.9999) \n",
      "\t Child: cub_064_Ring_billed_Gull\n",
      "\t\tProto:13 cub_064_Ring_billed_Gull:(1.0) \n"
     ]
    },
    {
     "name": "stderr",
     "output_type": "stream",
     "text": [
      "Collecting topk: 149it [00:11, 12.48it/s]  \n"
     ]
    },
    {
     "name": "stdout",
     "output_type": "stream",
     "text": [
      "Node 144+142\n",
      "\t Child: 144+145\n",
      "\t\tProto:9 cub_141_Artic_Tern:(1.0) cub_144_Common_Tern:(1.0) cub_145_Elegant_Tern:(1.0) cub_146_Forsters_Tern:(1.0) \n",
      "\t Child: cub_142_Black_Tern\n",
      "\t\tProto:18 cub_142_Black_Tern:(0.9935) \n",
      "\t\tProto:14 cub_142_Black_Tern:(0.9988) \n"
     ]
    },
    {
     "name": "stderr",
     "output_type": "stream",
     "text": [
      "Collecting topk: 48it [00:07,  6.40it/s]   \n"
     ]
    },
    {
     "name": "stdout",
     "output_type": "stream",
     "text": [
      "Node 006+005\n",
      "\t Child: 006+007\n",
      "\t\tProto:8 cub_006_Least_Auklet:(0.9848) cub_007_Parakeet_Auklet:(1.0) \n",
      "\t\tProto:3 cub_006_Least_Auklet:(0.9964) cub_007_Parakeet_Auklet:(0.9999) \n",
      "\t Child: cub_005_Crested_Auklet\n",
      "\t\tProto:12 cub_005_Crested_Auklet:(1.0) \n"
     ]
    },
    {
     "name": "stderr",
     "output_type": "stream",
     "text": [
      "Collecting topk: 100% 48/48 [00:07<00:00,  6.10it/s]\n"
     ]
    },
    {
     "name": "stdout",
     "output_type": "stream",
     "text": [
      "Node 008+106\n",
      "\t Child: cub_008_Rhinoceros_Auklet\n",
      "\t\tProto:0 cub_008_Rhinoceros_Auklet:(0.9992) \n",
      "\t\tProto:3 cub_008_Rhinoceros_Auklet:(0.9999) \n",
      "\t Child: cub_106_Horned_Puffin\n",
      "\t\tProto:14 cub_106_Horned_Puffin:(1.0) \n",
      "\t\tProto:15 cub_106_Horned_Puffin:(1.0) \n"
     ]
    },
    {
     "name": "stderr",
     "output_type": "stream",
     "text": [
      "Collecting topk: 81it [00:09,  8.71it/s]   \n"
     ]
    },
    {
     "name": "stdout",
     "output_type": "stream",
     "text": [
      "Node 024+023\n",
      "\t Child: 024+025\n",
      "\t\tProto:1 cub_024_Red_faced_Cormorant:(1.0) cub_025_Pelagic_Cormorant:(0.9998) \n",
      "\t Child: cub_023_Brandt_Cormorant\n",
      "\t\tProto:17 cub_023_Brandt_Cormorant:(1.0) \n"
     ]
    },
    {
     "name": "stderr",
     "output_type": "stream",
     "text": [
      "Collecting topk: 100% 50/50 [00:07<00:00,  6.40it/s]\n"
     ]
    },
    {
     "name": "stdout",
     "output_type": "stream",
     "text": [
      "Node 100+101\n",
      "\t Child: cub_100_Brown_Pelican\n",
      "\t\tProto:2 cub_100_Brown_Pelican:(1.0) \n",
      "\t\tProto:6 cub_100_Brown_Pelican:(1.0) \n",
      "\t Child: cub_101_White_Pelican\n",
      "\t\tProto:17 cub_101_White_Pelican:(0.9534) \n",
      "\t\tProto:19 cub_101_White_Pelican:(1.0) \n"
     ]
    },
    {
     "name": "stderr",
     "output_type": "stream",
     "text": [
      "Collecting topk: 88it [00:09,  9.65it/s]   \n"
     ]
    },
    {
     "name": "stdout",
     "output_type": "stream",
     "text": [
      "Node 001+003\n",
      "\t Child: 001+002\n",
      "\t\tProto:8 cub_001_Black_footed_Albatross:(1.0) cub_002_Laysan_Albatross:(0.9999) \n",
      "\t Child: cub_003_Sooty_Albatross\n",
      "\t\tProto:18 cub_003_Sooty_Albatross:(1.0) \n",
      "\t\tProto:13 cub_003_Sooty_Albatross:(0.9999) \n"
     ]
    },
    {
     "name": "stderr",
     "output_type": "stream",
     "text": [
      "Collecting topk: 2867it [02:08, 22.27it/s]\n"
     ]
    },
    {
     "name": "stdout",
     "output_type": "stream",
     "text": [
      "Node 129+199\n",
      "\t Child: 129+118\n",
      "\t\tProto:0 cub_009_Brewer_Blackbird:(0.6347) cub_010_Red_winged_Blackbird:(0.9678) cub_011_Rusty_Blackbird:(0.5558) cub_012_Yellow_headed_Blackbird:(0.9681) cub_013_Bobolink:(0.9949) cub_014_Indigo_Bunting:(0.8154) cub_015_Lazuli_Bunting:(0.9383) cub_016_Painted_Bunting:(0.951) cub_017_Cardinal:(0.8479) cub_020_Yellow_breasted_Chat:(0.9855) cub_021_Eastern_Towhee:(0.9305) cub_026_Bronzed_Cowbird:(0.9378) cub_027_Shiny_Cowbird:(0.7728) cub_034_Gray_crowned_Rosy_Finch:(0.7869) cub_035_Purple_Finch:(0.8919) cub_047_American_Goldfinch:(0.9882) cub_048_European_Goldfinch:(0.9965) cub_049_Boat_tailed_Grackle:(0.6398) cub_054_Blue_Grosbeak:(0.8532) cub_055_Evening_Grosbeak:(0.9852) cub_056_Pine_Grosbeak:(0.6619) cub_057_Rose_breasted_Grosbeak:(0.9965) cub_076_Dark_eyed_Junco:(0.9097) cub_088_Western_Meadowlark:(0.8417) cub_095_Baltimore_Oriole:(0.9719) cub_096_Hooded_Oriole:(0.9237) cub_097_Orchard_Oriole:(0.9583) cub_098_Scott_Oriole:(0.9858) cub_099_Ovenbird:(0.7772) cub_104_American_Pipit:(0.2543) cub_109_American_Redstart:(0.97) cub_113_Baird_Sparrow:(0.9073) cub_114_Black_throated_Sparrow:(0.965) cub_115_Brewer_Sparrow:(0.6979) cub_116_Chipping_Sparrow:(0.7428) cub_117_Clay_colored_Sparrow:(0.8969) cub_118_House_Sparrow:(0.8274) cub_119_Field_Sparrow:(0.6871) cub_120_Fox_Sparrow:(0.7013) cub_121_Grasshopper_Sparrow:(0.7847) cub_122_Harris_Sparrow:(0.9744) cub_123_Henslow_Sparrow:(0.9769) cub_124_Le_Conte_Sparrow:(0.8829) cub_125_Lincoln_Sparrow:(0.7879) cub_126_Nelson_Sharp_tailed_Sparrow:(0.7825) cub_127_Savannah_Sparrow:(0.8972) cub_128_Seaside_Sparrow:(0.7005) cub_129_Song_Sparrow:(0.6301) cub_130_Tree_Sparrow:(0.8642) cub_131_Vesper_Sparrow:(0.5516) cub_132_White_crowned_Sparrow:(0.8671) cub_133_White_throated_Sparrow:(0.948) cub_139_Scarlet_Tanager:(0.9867) cub_140_Summer_Tanager:(0.8964) cub_148_Green_tailed_Towhee:(0.6272) cub_158_Bay_breasted_Warbler:(0.8828) cub_159_Black_and_white_Warbler:(0.8531) cub_160_Black_throated_Blue_Warbler:(0.9757) cub_161_Blue_winged_Warbler:(0.9549) cub_162_Canada_Warbler:(0.9937) cub_163_Cape_May_Warbler:(0.9708) cub_164_Cerulean_Warbler:(0.8066) cub_165_Chestnut_sided_Warbler:(0.9599) cub_166_Golden_winged_Warbler:(0.9549) cub_167_Hooded_Warbler:(0.9958) cub_168_Kentucky_Warbler:(0.9747) cub_169_Magnolia_Warbler:(0.9853) cub_170_Mourning_Warbler:(0.8405) cub_172_Nashville_Warbler:(0.926) cub_173_Orange_crowned_Warbler:(0.7395) cub_174_Palm_Warbler:(0.8794) cub_175_Pine_Warbler:(0.9673) cub_176_Prairie_Warbler:(0.9918) cub_177_Prothonotary_Warbler:(0.9828) cub_178_Swainson_Warbler:(0.0541) cub_179_Tennessee_Warbler:(0.6251) cub_180_Wilson_Warbler:(0.9897) cub_181_Worm_eating_Warbler:(0.42) cub_182_Yellow_Warbler:(0.9174) cub_183_Northern_Waterthrush:(0.1831) cub_184_Louisiana_Waterthrush:(0.2731) cub_200_Common_Yellowthroat:(0.9925) \n",
      "\t\tProto:2 cub_009_Brewer_Blackbird:(0.997) cub_010_Red_winged_Blackbird:(0.9784) cub_011_Rusty_Blackbird:(0.8674) cub_012_Yellow_headed_Blackbird:(0.9456) cub_013_Bobolink:(0.9962) cub_014_Indigo_Bunting:(0.9942) cub_015_Lazuli_Bunting:(0.857) cub_016_Painted_Bunting:(0.9607) cub_017_Cardinal:(0.9681) cub_020_Yellow_breasted_Chat:(0.8954) cub_021_Eastern_Towhee:(0.9715) cub_026_Bronzed_Cowbird:(0.9829) cub_027_Shiny_Cowbird:(0.992) cub_034_Gray_crowned_Rosy_Finch:(0.9808) cub_035_Purple_Finch:(0.9854) cub_047_American_Goldfinch:(0.975) cub_048_European_Goldfinch:(0.9845) cub_049_Boat_tailed_Grackle:(0.9771) cub_054_Blue_Grosbeak:(0.9898) cub_055_Evening_Grosbeak:(0.9456) cub_056_Pine_Grosbeak:(0.7456) cub_057_Rose_breasted_Grosbeak:(0.9567) cub_076_Dark_eyed_Junco:(0.9825) cub_088_Western_Meadowlark:(0.9187) cub_095_Baltimore_Oriole:(0.9638) cub_096_Hooded_Oriole:(0.9608) cub_097_Orchard_Oriole:(0.9835) cub_098_Scott_Oriole:(0.9822) cub_099_Ovenbird:(0.3184) cub_104_American_Pipit:(0.1321) cub_109_American_Redstart:(0.9106) cub_113_Baird_Sparrow:(0.3523) cub_114_Black_throated_Sparrow:(0.9685) cub_115_Brewer_Sparrow:(0.2245) cub_116_Chipping_Sparrow:(0.6953) cub_117_Clay_colored_Sparrow:(0.3463) cub_118_House_Sparrow:(0.9818) cub_119_Field_Sparrow:(0.4074) cub_120_Fox_Sparrow:(0.8428) cub_121_Grasshopper_Sparrow:(0.4696) cub_122_Harris_Sparrow:(0.969) cub_123_Henslow_Sparrow:(0.747) cub_124_Le_Conte_Sparrow:(0.7354) cub_125_Lincoln_Sparrow:(0.6867) cub_126_Nelson_Sharp_tailed_Sparrow:(0.8473) cub_127_Savannah_Sparrow:(0.6915) cub_128_Seaside_Sparrow:(0.8392) cub_129_Song_Sparrow:(0.7468) cub_130_Tree_Sparrow:(0.9456) cub_131_Vesper_Sparrow:(0.3659) cub_132_White_crowned_Sparrow:(0.3688) cub_133_White_throated_Sparrow:(0.9463) cub_139_Scarlet_Tanager:(0.9062) cub_140_Summer_Tanager:(0.8539) cub_148_Green_tailed_Towhee:(0.8775) cub_158_Bay_breasted_Warbler:(0.9346) cub_159_Black_and_white_Warbler:(0.2615) cub_160_Black_throated_Blue_Warbler:(0.9623) cub_161_Blue_winged_Warbler:(0.7901) cub_162_Canada_Warbler:(0.9729) cub_163_Cape_May_Warbler:(0.9287) cub_164_Cerulean_Warbler:(0.7632) cub_165_Chestnut_sided_Warbler:(0.911) cub_166_Golden_winged_Warbler:(0.8694) cub_167_Hooded_Warbler:(0.9314) cub_168_Kentucky_Warbler:(0.8931) cub_169_Magnolia_Warbler:(0.8581) cub_170_Mourning_Warbler:(0.8959) cub_172_Nashville_Warbler:(0.7235) cub_173_Orange_crowned_Warbler:(0.7463) cub_174_Palm_Warbler:(0.4568) cub_175_Pine_Warbler:(0.874) cub_176_Prairie_Warbler:(0.8165) cub_177_Prothonotary_Warbler:(0.8811) cub_178_Swainson_Warbler:(0.025) cub_179_Tennessee_Warbler:(0.2615) cub_180_Wilson_Warbler:(0.8845) cub_181_Worm_eating_Warbler:(0.1014) cub_182_Yellow_Warbler:(0.8292) cub_183_Northern_Waterthrush:(0.2292) cub_184_Louisiana_Waterthrush:(0.1568) cub_200_Common_Yellowthroat:(0.9476) \n",
      "\t\tProto:7 cub_009_Brewer_Blackbird:(0.1701) cub_010_Red_winged_Blackbird:(0.7373) cub_011_Rusty_Blackbird:(0.2453) cub_012_Yellow_headed_Blackbird:(0.9891) cub_013_Bobolink:(0.5488) cub_014_Indigo_Bunting:(0.1503) cub_015_Lazuli_Bunting:(0.6917) cub_016_Painted_Bunting:(0.7574) cub_017_Cardinal:(0.5565) cub_020_Yellow_breasted_Chat:(0.794) cub_021_Eastern_Towhee:(0.6719) cub_026_Bronzed_Cowbird:(0.5987) cub_027_Shiny_Cowbird:(0.1682) cub_034_Gray_crowned_Rosy_Finch:(0.2699) cub_035_Purple_Finch:(0.5454) cub_047_American_Goldfinch:(0.9302) cub_048_European_Goldfinch:(0.8774) cub_049_Boat_tailed_Grackle:(0.2339) cub_054_Blue_Grosbeak:(0.3431) cub_055_Evening_Grosbeak:(0.9235) cub_056_Pine_Grosbeak:(0.8181) cub_057_Rose_breasted_Grosbeak:(0.9158) cub_076_Dark_eyed_Junco:(0.3415) cub_088_Western_Meadowlark:(0.8996) cub_095_Baltimore_Oriole:(0.8609) cub_096_Hooded_Oriole:(0.9389) cub_097_Orchard_Oriole:(0.4676) cub_098_Scott_Oriole:(0.6064) cub_099_Ovenbird:(0.8825) cub_104_American_Pipit:(0.8117) cub_109_American_Redstart:(0.7085) cub_113_Baird_Sparrow:(0.8898) cub_114_Black_throated_Sparrow:(0.7047) cub_115_Brewer_Sparrow:(0.7992) cub_116_Chipping_Sparrow:(0.7959) cub_117_Clay_colored_Sparrow:(0.878) cub_118_House_Sparrow:(0.4149) cub_119_Field_Sparrow:(0.88) cub_120_Fox_Sparrow:(0.3211) cub_121_Grasshopper_Sparrow:(0.8484) cub_122_Harris_Sparrow:(0.5912) cub_123_Henslow_Sparrow:(0.886) cub_124_Le_Conte_Sparrow:(0.8933) cub_125_Lincoln_Sparrow:(0.83) cub_126_Nelson_Sharp_tailed_Sparrow:(0.7366) cub_127_Savannah_Sparrow:(0.7823) cub_128_Seaside_Sparrow:(0.3587) cub_129_Song_Sparrow:(0.7274) cub_130_Tree_Sparrow:(0.5431) cub_131_Vesper_Sparrow:(0.8076) cub_132_White_crowned_Sparrow:(0.893) cub_133_White_throated_Sparrow:(0.8028) cub_139_Scarlet_Tanager:(0.9376) cub_140_Summer_Tanager:(0.7331) cub_148_Green_tailed_Towhee:(0.7521) cub_158_Bay_breasted_Warbler:(0.6753) cub_159_Black_and_white_Warbler:(0.9386) cub_160_Black_throated_Blue_Warbler:(0.7078) cub_161_Blue_winged_Warbler:(0.9311) cub_162_Canada_Warbler:(0.8428) cub_163_Cape_May_Warbler:(0.9603) cub_164_Cerulean_Warbler:(0.7367) cub_165_Chestnut_sided_Warbler:(0.955) cub_166_Golden_winged_Warbler:(0.8833) cub_167_Hooded_Warbler:(0.9766) cub_168_Kentucky_Warbler:(0.9749) cub_169_Magnolia_Warbler:(0.9507) cub_170_Mourning_Warbler:(0.5248) cub_172_Nashville_Warbler:(0.8041) cub_173_Orange_crowned_Warbler:(0.8952) cub_174_Palm_Warbler:(0.9794) cub_175_Pine_Warbler:(0.9329) cub_176_Prairie_Warbler:(0.961) cub_177_Prothonotary_Warbler:(0.959) cub_178_Swainson_Warbler:(0.9234) cub_179_Tennessee_Warbler:(0.9708) cub_180_Wilson_Warbler:(0.9536) cub_181_Worm_eating_Warbler:(0.9821) cub_182_Yellow_Warbler:(0.9) cub_183_Northern_Waterthrush:(0.9344) cub_184_Louisiana_Waterthrush:(0.9825) cub_200_Common_Yellowthroat:(0.8333) \n",
      "\t Child: 199+186\n",
      "\t\tProto:10 cub_019_Gray_Catbird:(0.1539) cub_028_Brown_Creeper:(0.9772) cub_091_Mockingbird:(0.1787) cub_094_White_breasted_Nuthatch:(0.9636) cub_149_Brown_Thrasher:(0.1212) cub_150_Sage_Thrasher:(0.1108) cub_185_Bohemian_Waxwing:(0.0065) cub_186_Cedar_Waxwing:(0.0091) cub_193_Bewick_Wren:(0.9849) cub_194_Cactus_Wren:(0.9693) cub_195_Carolina_Wren:(0.9781) cub_196_House_Wren:(0.9641) cub_197_Marsh_Wren:(0.9697) cub_198_Rock_Wren:(0.9774) cub_199_Winter_Wren:(0.9793) \n",
      "\t\tProto:14 cub_019_Gray_Catbird:(0.9707) cub_028_Brown_Creeper:(0.0423) cub_091_Mockingbird:(0.8867) cub_094_White_breasted_Nuthatch:(0.273) cub_149_Brown_Thrasher:(0.0081) cub_150_Sage_Thrasher:(0.0897) cub_185_Bohemian_Waxwing:(0.9847) cub_186_Cedar_Waxwing:(0.9811) cub_193_Bewick_Wren:(0.0564) cub_194_Cactus_Wren:(0.0216) cub_195_Carolina_Wren:(0.039) cub_196_House_Wren:(0.071) cub_197_Marsh_Wren:(0.0411) cub_198_Rock_Wren:(0.1096) cub_199_Winter_Wren:(0.05) \n",
      "\t\tProto:15 cub_019_Gray_Catbird:(0.0684) cub_028_Brown_Creeper:(0.1176) cub_091_Mockingbird:(0.0538) cub_094_White_breasted_Nuthatch:(0.0843) cub_149_Brown_Thrasher:(0.2141) cub_150_Sage_Thrasher:(0.1645) cub_185_Bohemian_Waxwing:(0.5019) cub_186_Cedar_Waxwing:(0.4587) cub_193_Bewick_Wren:(0.1637) cub_194_Cactus_Wren:(0.161) cub_195_Carolina_Wren:(0.2283) cub_196_House_Wren:(0.2347) cub_197_Marsh_Wren:(0.1997) cub_198_Rock_Wren:(0.2027) cub_199_Winter_Wren:(0.2401) \n",
      "\t\tProto:17 cub_019_Gray_Catbird:(0.021) cub_028_Brown_Creeper:(0.1493) cub_091_Mockingbird:(0.1342) cub_094_White_breasted_Nuthatch:(0.0584) cub_149_Brown_Thrasher:(0.9678) cub_150_Sage_Thrasher:(0.9554) cub_185_Bohemian_Waxwing:(0.0258) cub_186_Cedar_Waxwing:(0.0171) cub_193_Bewick_Wren:(0.4739) cub_194_Cactus_Wren:(0.2374) cub_195_Carolina_Wren:(0.4984) cub_196_House_Wren:(0.4459) cub_197_Marsh_Wren:(0.3183) cub_198_Rock_Wren:(0.0912) cub_199_Winter_Wren:(0.6927) \n",
      "\t\tProto:19 cub_019_Gray_Catbird:(0.1555) cub_028_Brown_Creeper:(0.3593) cub_091_Mockingbird:(0.1473) cub_094_White_breasted_Nuthatch:(0.2745) cub_149_Brown_Thrasher:(0.16) cub_150_Sage_Thrasher:(0.105) cub_185_Bohemian_Waxwing:(0.0218) cub_186_Cedar_Waxwing:(0.0262) cub_193_Bewick_Wren:(0.3638) cub_194_Cactus_Wren:(0.223) cub_195_Carolina_Wren:(0.2813) cub_196_House_Wren:(0.4525) cub_197_Marsh_Wren:(0.34) cub_198_Rock_Wren:(0.4626) cub_199_Winter_Wren:(0.3191) \n"
     ]
    },
    {
     "name": "stderr",
     "output_type": "stream",
     "text": [
      "Collecting topk: 120it [00:10, 10.93it/s]  \n"
     ]
    },
    {
     "name": "stdout",
     "output_type": "stream",
     "text": [
      "Node 136+085\n",
      "\t Child: 136+138\n",
      "\t\tProto:1 cub_136_Barn_Swallow:(1.0) cub_137_Cliff_Swallow:(1.0) cub_138_Tree_Swallow:(0.9999) \n",
      "\t\tProto:6 cub_136_Barn_Swallow:(1.0) cub_137_Cliff_Swallow:(1.0) cub_138_Tree_Swallow:(1.0) \n",
      "\t Child: cub_085_Horned_Lark\n",
      "\t\tProto:18 cub_085_Horned_Lark:(1.0) \n",
      "\t\tProto:19 cub_085_Horned_Lark:(1.0) \n"
     ]
    },
    {
     "name": "stderr",
     "output_type": "stream",
     "text": [
      "Collecting topk: 270it [00:17, 15.72it/s]\n"
     ]
    },
    {
     "name": "stdout",
     "output_type": "stream",
     "text": [
      "Node 107+111\n",
      "\t Child: 107+073\n",
      "\t\tProto:1 cub_029_American_Crow:(0.9992) cub_030_Fish_Crow:(0.9997) cub_073_Blue_Jay:(0.9992) cub_074_Florida_Jay:(0.9991) cub_093_Clark_Nutcracker:(0.9996) cub_107_Common_Raven:(0.9997) cub_108_White_necked_Raven:(0.9999) \n",
      "\t\tProto:5 cub_029_American_Crow:(0.9991) cub_030_Fish_Crow:(0.9997) cub_073_Blue_Jay:(0.9987) cub_074_Florida_Jay:(0.9979) cub_093_Clark_Nutcracker:(0.9977) cub_107_Common_Raven:(0.9996) cub_108_White_necked_Raven:(0.9992) \n",
      "\t\tProto:6 cub_029_American_Crow:(0.9985) cub_030_Fish_Crow:(0.9999) cub_073_Blue_Jay:(0.9956) cub_074_Florida_Jay:(0.9989) cub_093_Clark_Nutcracker:(0.9998) cub_107_Common_Raven:(0.9999) cub_108_White_necked_Raven:(0.9984) \n",
      "\t\tProto:9 cub_029_American_Crow:(1.0) cub_030_Fish_Crow:(1.0) cub_073_Blue_Jay:(0.9987) cub_074_Florida_Jay:(0.9994) cub_093_Clark_Nutcracker:(0.9996) cub_107_Common_Raven:(1.0) cub_108_White_necked_Raven:(0.9999) \n",
      "\t Child: 111+112\n",
      "\t\tProto:19 cub_111_Loggerhead_Shrike:(0.9999) cub_112_Great_Grey_Shrike:(0.9999) \n",
      "\t\tProto:11 cub_111_Loggerhead_Shrike:(0.9951) cub_112_Great_Grey_Shrike:(0.9929) \n",
      "\t\tProto:12 cub_111_Loggerhead_Shrike:(0.9998) cub_112_Great_Grey_Shrike:(0.9984) \n"
     ]
    },
    {
     "name": "stderr",
     "output_type": "stream",
     "text": [
      "Collecting topk: 199it [00:14, 13.77it/s]\n"
     ]
    },
    {
     "name": "stdout",
     "output_type": "stream",
     "text": [
      "Node 151+153\n",
      "\t Child: 151+157\n",
      "\t\tProto:8 cub_151_Black_capped_Vireo:(0.9995) cub_152_Blue_headed_Vireo:(0.9999) cub_156_White_eyed_Vireo:(0.9998) cub_157_Yellow_throated_Vireo:(0.9996) \n",
      "\t\tProto:9 cub_151_Black_capped_Vireo:(1.0) cub_152_Blue_headed_Vireo:(1.0) cub_156_White_eyed_Vireo:(1.0) cub_157_Yellow_throated_Vireo:(0.9989) \n",
      "\t\tProto:5 cub_151_Black_capped_Vireo:(0.9997) cub_152_Blue_headed_Vireo:(0.9998) cub_156_White_eyed_Vireo:(0.9999) cub_157_Yellow_throated_Vireo:(0.999) \n",
      "\t Child: 153+154\n",
      "\t\tProto:18 cub_153_Philadelphia_Vireo:(0.9999) cub_154_Red_eyed_Vireo:(1.0) cub_155_Warbling_Vireo:(0.9999) \n",
      "\t\tProto:13 cub_153_Philadelphia_Vireo:(0.9999) cub_154_Red_eyed_Vireo:(0.9998) cub_155_Warbling_Vireo:(0.9999) \n"
     ]
    },
    {
     "name": "stderr",
     "output_type": "stream",
     "text": [
      "Collecting topk: 87it [00:09,  9.19it/s]   \n"
     ]
    },
    {
     "name": "stdout",
     "output_type": "stream",
     "text": [
      "Node 043+037\n",
      "\t Child: 043+039\n",
      "\t\tProto:0 cub_039_Least_Flycatcher:(0.9959) cub_043_Yellow_bellied_Flycatcher:(0.9957) \n",
      "\t\tProto:5 cub_039_Least_Flycatcher:(0.9913) cub_043_Yellow_bellied_Flycatcher:(0.9978) \n",
      "\t Child: cub_037_Acadian_Flycatcher\n",
      "\t\tProto:16 cub_037_Acadian_Flycatcher:(0.9996) \n",
      "\t\tProto:11 cub_037_Acadian_Flycatcher:(0.999) \n",
      "\t\tProto:13 cub_037_Acadian_Flycatcher:(1.0) \n"
     ]
    },
    {
     "name": "stderr",
     "output_type": "stream",
     "text": [
      "Collecting topk: 100% 60/60 [00:08<00:00,  7.21it/s]\n"
     ]
    },
    {
     "name": "stdout",
     "output_type": "stream",
     "text": [
      "Node 040+102\n",
      "\t Child: cub_040_Olive_sided_Flycatcher\n",
      "\t\tProto:9 cub_040_Olive_sided_Flycatcher:(1.0) \n",
      "\t Child: cub_102_Western_Wood_Pewee\n",
      "\t\tProto:16 cub_102_Western_Wood_Pewee:(0.9999) \n"
     ]
    },
    {
     "name": "stderr",
     "output_type": "stream",
     "text": [
      "Collecting topk: 100% 59/59 [00:08<00:00,  7.34it/s]\n"
     ]
    },
    {
     "name": "stdout",
     "output_type": "stream",
     "text": [
      "Node 078+077\n",
      "\t Child: cub_078_Gray_Kingbird\n",
      "\t\tProto:3 cub_078_Gray_Kingbird:(0.9999) \n",
      "\t Child: cub_077_Tropical_Kingbird\n",
      "\t\tProto:17 cub_077_Tropical_Kingbird:(1.0) \n"
     ]
    },
    {
     "name": "stderr",
     "output_type": "stream",
     "text": [
      "Collecting topk: 100% 59/59 [00:08<00:00,  7.35it/s]\n"
     ]
    },
    {
     "name": "stdout",
     "output_type": "stream",
     "text": [
      "Node 192+190\n",
      "\t Child: cub_192_Downy_Woodpecker\n",
      "\t\tProto:4 cub_192_Downy_Woodpecker:(1.0) \n",
      "\t Child: cub_190_Red_cockaded_Woodpecker\n",
      "\t\tProto:10 cub_190_Red_cockaded_Woodpecker:(1.0) \n",
      "\t\tProto:18 cub_190_Red_cockaded_Woodpecker:(1.0) \n"
     ]
    },
    {
     "name": "stderr",
     "output_type": "stream",
     "text": [
      "Collecting topk: 109it [00:10, 10.59it/s]  \n"
     ]
    },
    {
     "name": "stdout",
     "output_type": "stream",
     "text": [
      "Node 065+062\n",
      "\t Child: 065+059\n",
      "\t\tProto:9 cub_059_California_Gull:(0.9998) cub_060_Glaucous_winged_Gull:(0.9998) cub_065_Slaty_backed_Gull:(0.9995) \n",
      "\t Child: cub_062_Herring_Gull\n",
      "\t\tProto:18 cub_062_Herring_Gull:(1.0) \n",
      "\t\tProto:19 cub_062_Herring_Gull:(1.0) \n"
     ]
    },
    {
     "name": "stderr",
     "output_type": "stream",
     "text": [
      "Collecting topk: 119it [00:11, 10.81it/s]  \n"
     ]
    },
    {
     "name": "stdout",
     "output_type": "stream",
     "text": [
      "Node 144+145\n",
      "\t Child: 144+146\n",
      "\t\tProto:1 cub_141_Artic_Tern:(0.8991) cub_144_Common_Tern:(0.9792) cub_146_Forsters_Tern:(0.9632) \n",
      "\t\tProto:2 cub_141_Artic_Tern:(1.0) cub_144_Common_Tern:(1.0) cub_146_Forsters_Tern:(1.0) \n",
      "\t Child: cub_145_Elegant_Tern\n",
      "\t\tProto:17 cub_145_Elegant_Tern:(0.9982) \n",
      "\t\tProto:13 cub_145_Elegant_Tern:(0.9994) \n",
      "\t\tProto:15 cub_145_Elegant_Tern:(1.0) \n"
     ]
    },
    {
     "name": "stderr",
     "output_type": "stream",
     "text": [
      "Collecting topk: 100% 34/34 [00:07<00:00,  4.63it/s]\n"
     ]
    },
    {
     "name": "stdout",
     "output_type": "stream",
     "text": [
      "Node 006+007\n",
      "\t Child: cub_006_Least_Auklet\n",
      "\t\tProto:9 cub_006_Least_Auklet:(0.9998) \n",
      "\t\tProto:2 cub_006_Least_Auklet:(0.9981) \n",
      "\t Child: cub_007_Parakeet_Auklet\n",
      "\t\tProto:17 cub_007_Parakeet_Auklet:(1.0) \n"
     ]
    },
    {
     "name": "stderr",
     "output_type": "stream",
     "text": [
      "Collecting topk: 100% 52/52 [00:08<00:00,  5.98it/s]\n"
     ]
    },
    {
     "name": "stdout",
     "output_type": "stream",
     "text": [
      "Node 024+025\n",
      "\t Child: cub_024_Red_faced_Cormorant\n",
      "\t\tProto:9 cub_024_Red_faced_Cormorant:(1.0) \n",
      "\t Child: cub_025_Pelagic_Cormorant\n",
      "\t\tProto:12 cub_025_Pelagic_Cormorant:(0.9998) \n",
      "\t\tProto:13 cub_025_Pelagic_Cormorant:(1.0) \n"
     ]
    },
    {
     "name": "stderr",
     "output_type": "stream",
     "text": [
      "Collecting topk: 100% 60/60 [00:08<00:00,  6.98it/s]\n"
     ]
    },
    {
     "name": "stdout",
     "output_type": "stream",
     "text": [
      "Node 001+002\n",
      "\t Child: cub_001_Black_footed_Albatross\n",
      "\t\tProto:3 cub_001_Black_footed_Albatross:(1.0) \n",
      "\t Child: cub_002_Laysan_Albatross\n",
      "\t\tProto:19 cub_002_Laysan_Albatross:(1.0) \n"
     ]
    },
    {
     "name": "stderr",
     "output_type": "stream",
     "text": [
      "Collecting topk: 2420it [01:49, 22.10it/s] \n"
     ]
    },
    {
     "name": "stdout",
     "output_type": "stream",
     "text": [
      "Node 129+118\n",
      "\t Child: 129+104\n",
      "\t\tProto:1 cub_009_Brewer_Blackbird:(0.9999) cub_010_Red_winged_Blackbird:(0.9997) cub_011_Rusty_Blackbird:(0.9997) cub_012_Yellow_headed_Blackbird:(1.0) cub_013_Bobolink:(0.9995) cub_014_Indigo_Bunting:(0.9999) cub_015_Lazuli_Bunting:(0.9999) cub_016_Painted_Bunting:(1.0) cub_017_Cardinal:(0.9904) cub_020_Yellow_breasted_Chat:(1.0) cub_021_Eastern_Towhee:(0.9999) cub_026_Bronzed_Cowbird:(1.0) cub_027_Shiny_Cowbird:(0.9999) cub_034_Gray_crowned_Rosy_Finch:(0.9991) cub_035_Purple_Finch:(0.999) cub_047_American_Goldfinch:(1.0) cub_048_European_Goldfinch:(0.9926) cub_049_Boat_tailed_Grackle:(0.9995) cub_054_Blue_Grosbeak:(0.9998) cub_055_Evening_Grosbeak:(1.0) cub_056_Pine_Grosbeak:(0.9907) cub_057_Rose_breasted_Grosbeak:(0.9996) cub_076_Dark_eyed_Junco:(0.999) cub_088_Western_Meadowlark:(0.9998) cub_095_Baltimore_Oriole:(1.0) cub_096_Hooded_Oriole:(1.0) cub_097_Orchard_Oriole:(0.9998) cub_098_Scott_Oriole:(0.9999) cub_099_Ovenbird:(0.9999) cub_104_American_Pipit:(0.9998) cub_109_American_Redstart:(1.0) cub_113_Baird_Sparrow:(1.0) cub_114_Black_throated_Sparrow:(0.9955) cub_115_Brewer_Sparrow:(0.9992) cub_116_Chipping_Sparrow:(0.9864) cub_117_Clay_colored_Sparrow:(0.9973) cub_119_Field_Sparrow:(0.992) cub_120_Fox_Sparrow:(0.9999) cub_121_Grasshopper_Sparrow:(0.9999) cub_122_Harris_Sparrow:(0.993) cub_123_Henslow_Sparrow:(1.0) cub_124_Le_Conte_Sparrow:(0.9999) cub_125_Lincoln_Sparrow:(1.0) cub_126_Nelson_Sharp_tailed_Sparrow:(1.0) cub_127_Savannah_Sparrow:(0.9999) cub_128_Seaside_Sparrow:(0.9999) cub_129_Song_Sparrow:(0.9991) cub_130_Tree_Sparrow:(0.7386) cub_131_Vesper_Sparrow:(0.9999) cub_132_White_crowned_Sparrow:(0.9986) cub_133_White_throated_Sparrow:(0.9999) cub_139_Scarlet_Tanager:(0.9999) cub_140_Summer_Tanager:(1.0) cub_148_Green_tailed_Towhee:(0.9945) cub_158_Bay_breasted_Warbler:(0.9965) cub_159_Black_and_white_Warbler:(0.9996) cub_160_Black_throated_Blue_Warbler:(0.9999) cub_161_Blue_winged_Warbler:(0.9994) cub_162_Canada_Warbler:(1.0) cub_163_Cape_May_Warbler:(1.0) cub_164_Cerulean_Warbler:(0.9993) cub_165_Chestnut_sided_Warbler:(0.999) cub_166_Golden_winged_Warbler:(0.9997) cub_167_Hooded_Warbler:(1.0) cub_168_Kentucky_Warbler:(1.0) cub_169_Magnolia_Warbler:(1.0) cub_170_Mourning_Warbler:(0.9998) cub_172_Nashville_Warbler:(0.9999) cub_173_Orange_crowned_Warbler:(0.9997) cub_174_Palm_Warbler:(0.9996) cub_175_Pine_Warbler:(0.9999) cub_176_Prairie_Warbler:(1.0) cub_177_Prothonotary_Warbler:(0.9997) cub_178_Swainson_Warbler:(0.9762) cub_179_Tennessee_Warbler:(0.9992) cub_180_Wilson_Warbler:(0.9999) cub_181_Worm_eating_Warbler:(0.9988) cub_182_Yellow_Warbler:(1.0) cub_183_Northern_Waterthrush:(0.9967) cub_184_Louisiana_Waterthrush:(0.9981) cub_200_Common_Yellowthroat:(1.0) \n",
      "\t\tProto:2 cub_009_Brewer_Blackbird:(0.9995) cub_010_Red_winged_Blackbird:(0.9997) cub_011_Rusty_Blackbird:(0.9989) cub_012_Yellow_headed_Blackbird:(0.9998) cub_013_Bobolink:(0.9986) cub_014_Indigo_Bunting:(0.9984) cub_015_Lazuli_Bunting:(0.9992) cub_016_Painted_Bunting:(1.0) cub_017_Cardinal:(0.9987) cub_020_Yellow_breasted_Chat:(0.9999) cub_021_Eastern_Towhee:(0.9997) cub_026_Bronzed_Cowbird:(0.9997) cub_027_Shiny_Cowbird:(0.9993) cub_034_Gray_crowned_Rosy_Finch:(0.9984) cub_035_Purple_Finch:(0.9965) cub_047_American_Goldfinch:(0.9999) cub_048_European_Goldfinch:(0.9955) cub_049_Boat_tailed_Grackle:(0.999) cub_054_Blue_Grosbeak:(0.9991) cub_055_Evening_Grosbeak:(0.9992) cub_056_Pine_Grosbeak:(0.9905) cub_057_Rose_breasted_Grosbeak:(0.9997) cub_076_Dark_eyed_Junco:(0.9983) cub_088_Western_Meadowlark:(1.0) cub_095_Baltimore_Oriole:(1.0) cub_096_Hooded_Oriole:(0.9998) cub_097_Orchard_Oriole:(0.9998) cub_098_Scott_Oriole:(0.9999) cub_099_Ovenbird:(0.9999) cub_104_American_Pipit:(0.9994) cub_109_American_Redstart:(1.0) cub_113_Baird_Sparrow:(0.9998) cub_114_Black_throated_Sparrow:(0.9964) cub_115_Brewer_Sparrow:(0.9995) cub_116_Chipping_Sparrow:(0.9756) cub_117_Clay_colored_Sparrow:(0.9987) cub_119_Field_Sparrow:(0.9993) cub_120_Fox_Sparrow:(0.9996) cub_121_Grasshopper_Sparrow:(0.9999) cub_122_Harris_Sparrow:(0.9891) cub_123_Henslow_Sparrow:(0.9999) cub_124_Le_Conte_Sparrow:(0.9999) cub_125_Lincoln_Sparrow:(0.9994) cub_126_Nelson_Sharp_tailed_Sparrow:(0.9994) cub_127_Savannah_Sparrow:(0.9999) cub_128_Seaside_Sparrow:(0.9994) cub_129_Song_Sparrow:(0.9978) cub_130_Tree_Sparrow:(0.9024) cub_131_Vesper_Sparrow:(0.9992) cub_132_White_crowned_Sparrow:(0.9984) cub_133_White_throated_Sparrow:(0.9985) cub_139_Scarlet_Tanager:(0.9998) cub_140_Summer_Tanager:(0.9999) cub_148_Green_tailed_Towhee:(0.9792) cub_158_Bay_breasted_Warbler:(0.9956) cub_159_Black_and_white_Warbler:(0.9995) cub_160_Black_throated_Blue_Warbler:(0.9989) cub_161_Blue_winged_Warbler:(0.9999) cub_162_Canada_Warbler:(1.0) cub_163_Cape_May_Warbler:(1.0) cub_164_Cerulean_Warbler:(0.9967) cub_165_Chestnut_sided_Warbler:(0.9921) cub_166_Golden_winged_Warbler:(0.9995) cub_167_Hooded_Warbler:(1.0) cub_168_Kentucky_Warbler:(0.9999) cub_169_Magnolia_Warbler:(0.9998) cub_170_Mourning_Warbler:(0.9996) cub_172_Nashville_Warbler:(0.9998) cub_173_Orange_crowned_Warbler:(0.9997) cub_174_Palm_Warbler:(0.9997) cub_175_Pine_Warbler:(0.9998) cub_176_Prairie_Warbler:(0.9999) cub_177_Prothonotary_Warbler:(0.9997) cub_178_Swainson_Warbler:(0.9718) cub_179_Tennessee_Warbler:(0.9996) cub_180_Wilson_Warbler:(0.9999) cub_181_Worm_eating_Warbler:(0.9991) cub_182_Yellow_Warbler:(0.9999) cub_183_Northern_Waterthrush:(0.9986) cub_184_Louisiana_Waterthrush:(0.9992) cub_200_Common_Yellowthroat:(0.9996) \n",
      "\t Child: cub_118_House_Sparrow\n",
      "\t\tProto:11 cub_118_House_Sparrow:(0.0583) \n",
      "\t\tProto:13 cub_118_House_Sparrow:(0.0833) \n",
      "\t\tProto:14 cub_118_House_Sparrow:(0.0559) \n",
      "\t\tProto:15 cub_118_House_Sparrow:(0.072) \n",
      "\t\tProto:17 cub_118_House_Sparrow:(0.7867) \n",
      "\t\tProto:18 cub_118_House_Sparrow:(1.0) \n"
     ]
    },
    {
     "name": "stderr",
     "output_type": "stream",
     "text": [
      "Collecting topk: 447it [00:25, 17.80it/s]\n"
     ]
    },
    {
     "name": "stdout",
     "output_type": "stream",
     "text": [
      "Node 199+186\n",
      "\t Child: 199+150\n",
      "\t\tProto:0 cub_019_Gray_Catbird:(0.998) cub_028_Brown_Creeper:(0.9374) cub_091_Mockingbird:(0.9939) cub_094_White_breasted_Nuthatch:(0.9955) cub_149_Brown_Thrasher:(0.9997) cub_150_Sage_Thrasher:(0.9999) cub_193_Bewick_Wren:(0.9987) cub_194_Cactus_Wren:(0.9997) cub_195_Carolina_Wren:(0.9997) cub_196_House_Wren:(0.9986) cub_197_Marsh_Wren:(0.9996) cub_198_Rock_Wren:(0.9987) cub_199_Winter_Wren:(0.9984) \n",
      "\t\tProto:1 cub_019_Gray_Catbird:(0.9926) cub_028_Brown_Creeper:(0.9129) cub_091_Mockingbird:(0.9896) cub_094_White_breasted_Nuthatch:(0.9859) cub_149_Brown_Thrasher:(0.9987) cub_150_Sage_Thrasher:(0.9996) cub_193_Bewick_Wren:(0.9804) cub_194_Cactus_Wren:(0.9992) cub_195_Carolina_Wren:(0.9939) cub_196_House_Wren:(0.9986) cub_197_Marsh_Wren:(0.9909) cub_198_Rock_Wren:(0.9991) cub_199_Winter_Wren:(0.995) \n",
      "\t\tProto:4 cub_019_Gray_Catbird:(0.9745) cub_028_Brown_Creeper:(0.9802) cub_091_Mockingbird:(0.9841) cub_094_White_breasted_Nuthatch:(0.9231) cub_149_Brown_Thrasher:(0.9764) cub_150_Sage_Thrasher:(0.973) cub_193_Bewick_Wren:(0.9839) cub_194_Cactus_Wren:(0.9535) cub_195_Carolina_Wren:(0.9846) cub_196_House_Wren:(0.9852) cub_197_Marsh_Wren:(0.9764) cub_198_Rock_Wren:(0.9978) cub_199_Winter_Wren:(0.9618) \n",
      "\t\tProto:5 cub_019_Gray_Catbird:(0.9969) cub_028_Brown_Creeper:(0.8263) cub_091_Mockingbird:(0.9922) cub_094_White_breasted_Nuthatch:(0.9963) cub_149_Brown_Thrasher:(0.9959) cub_150_Sage_Thrasher:(0.9993) cub_193_Bewick_Wren:(0.9997) cub_194_Cactus_Wren:(0.9963) cub_195_Carolina_Wren:(0.9992) cub_196_House_Wren:(0.9996) cub_197_Marsh_Wren:(0.9992) cub_198_Rock_Wren:(0.9998) cub_199_Winter_Wren:(0.9992) \n",
      "\t\tProto:9 cub_019_Gray_Catbird:(0.9947) cub_028_Brown_Creeper:(0.2142) cub_091_Mockingbird:(0.9181) cub_094_White_breasted_Nuthatch:(0.9927) cub_149_Brown_Thrasher:(0.8446) cub_150_Sage_Thrasher:(0.9503) cub_193_Bewick_Wren:(1.0) cub_194_Cactus_Wren:(0.8292) cub_195_Carolina_Wren:(0.9996) cub_196_House_Wren:(0.9988) cub_197_Marsh_Wren:(1.0) cub_198_Rock_Wren:(0.8947) cub_199_Winter_Wren:(0.9999) \n",
      "\t Child: 186+185\n",
      "\t\tProto:17 cub_185_Bohemian_Waxwing:(0.9993) cub_186_Cedar_Waxwing:(0.9996) \n",
      "\t\tProto:12 cub_185_Bohemian_Waxwing:(0.9993) cub_186_Cedar_Waxwing:(0.9989) \n"
     ]
    },
    {
     "name": "stderr",
     "output_type": "stream",
     "text": [
      "Collecting topk: 90it [00:09,  9.22it/s]   \n"
     ]
    },
    {
     "name": "stdout",
     "output_type": "stream",
     "text": [
      "Node 136+138\n",
      "\t Child: 136+137\n",
      "\t\tProto:2 cub_136_Barn_Swallow:(1.0) cub_137_Cliff_Swallow:(1.0) \n",
      "\t Child: cub_138_Tree_Swallow\n",
      "\t\tProto:15 cub_138_Tree_Swallow:(1.0) \n"
     ]
    },
    {
     "name": "stderr",
     "output_type": "stream",
     "text": [
      "Collecting topk: 210it [00:14, 14.79it/s]\n"
     ]
    },
    {
     "name": "stdout",
     "output_type": "stream",
     "text": [
      "Node 107+073\n",
      "\t Child: 107+093\n",
      "\t\tProto:0 cub_029_American_Crow:(0.9999) cub_030_Fish_Crow:(0.9975) cub_093_Clark_Nutcracker:(0.997) cub_107_Common_Raven:(0.9997) cub_108_White_necked_Raven:(1.0) \n",
      "\t\tProto:1 cub_029_American_Crow:(1.0) cub_030_Fish_Crow:(1.0) cub_093_Clark_Nutcracker:(0.9999) cub_107_Common_Raven:(0.9999) cub_108_White_necked_Raven:(1.0) \n",
      "\t\tProto:5 cub_029_American_Crow:(1.0) cub_030_Fish_Crow:(1.0) cub_093_Clark_Nutcracker:(1.0) cub_107_Common_Raven:(0.9998) cub_108_White_necked_Raven:(1.0) \n",
      "\t Child: 073+074\n",
      "\t\tProto:10 cub_073_Blue_Jay:(0.9999) cub_074_Florida_Jay:(0.9997) \n",
      "\t\tProto:19 cub_073_Blue_Jay:(1.0) cub_074_Florida_Jay:(1.0) \n"
     ]
    },
    {
     "name": "stderr",
     "output_type": "stream",
     "text": [
      "Collecting topk: 100% 60/60 [00:08<00:00,  7.00it/s]\n"
     ]
    },
    {
     "name": "stdout",
     "output_type": "stream",
     "text": [
      "Node 111+112\n",
      "\t Child: cub_111_Loggerhead_Shrike\n",
      "\t\tProto:5 cub_111_Loggerhead_Shrike:(0.9999) \n",
      "\t Child: cub_112_Great_Grey_Shrike\n",
      "\t\tProto:13 cub_112_Great_Grey_Shrike:(1.0) \n"
     ]
    },
    {
     "name": "stderr",
     "output_type": "stream",
     "text": [
      "Collecting topk: 110it [00:10, 10.69it/s]\n"
     ]
    },
    {
     "name": "stdout",
     "output_type": "stream",
     "text": [
      "Node 151+157\n",
      "\t Child: 151+156\n",
      "\t\tProto:1 cub_151_Black_capped_Vireo:(1.0) cub_156_White_eyed_Vireo:(1.0) \n",
      "\t\tProto:7 cub_151_Black_capped_Vireo:(1.0) cub_156_White_eyed_Vireo:(0.9999) \n",
      "\t Child: 157+152\n",
      "\t\tProto:14 cub_152_Blue_headed_Vireo:(1.0) cub_157_Yellow_throated_Vireo:(0.9999) \n"
     ]
    },
    {
     "name": "stderr",
     "output_type": "stream",
     "text": [
      "Collecting topk: 89it [00:09,  9.21it/s]   \n"
     ]
    },
    {
     "name": "stdout",
     "output_type": "stream",
     "text": [
      "Node 153+154\n",
      "\t Child: 153+155\n",
      "\t\tProto:9 cub_153_Philadelphia_Vireo:(1.0) cub_155_Warbling_Vireo:(1.0) \n",
      "\t Child: cub_154_Red_eyed_Vireo\n",
      "\t\tProto:13 cub_154_Red_eyed_Vireo:(1.0) \n"
     ]
    },
    {
     "name": "stderr",
     "output_type": "stream",
     "text": [
      "Collecting topk: 100% 58/58 [00:08<00:00,  7.23it/s]\n"
     ]
    },
    {
     "name": "stdout",
     "output_type": "stream",
     "text": [
      "Node 043+039\n",
      "\t Child: cub_043_Yellow_bellied_Flycatcher\n",
      "\t\tProto:3 cub_043_Yellow_bellied_Flycatcher:(1.0) \n",
      "\t Child: cub_039_Least_Flycatcher\n",
      "\t\tProto:17 cub_039_Least_Flycatcher:(1.0) \n"
     ]
    },
    {
     "name": "stderr",
     "output_type": "stream",
     "text": [
      "Collecting topk: 79it [00:09,  8.67it/s]   \n"
     ]
    },
    {
     "name": "stdout",
     "output_type": "stream",
     "text": [
      "Node 065+059\n",
      "\t Child: 065+060\n",
      "\t\tProto:3 cub_060_Glaucous_winged_Gull:(0.9598) cub_065_Slaty_backed_Gull:(0.9957) \n",
      "\t Child: cub_059_California_Gull\n",
      "\t\tProto:15 cub_059_California_Gull:(1.0) \n"
     ]
    },
    {
     "name": "stderr",
     "output_type": "stream",
     "text": [
      "Collecting topk: 89it [00:09,  9.62it/s]   \n"
     ]
    },
    {
     "name": "stdout",
     "output_type": "stream",
     "text": [
      "Node 144+146\n",
      "\t Child: 144+141\n",
      "\t\tProto:4 cub_141_Artic_Tern:(1.0) cub_144_Common_Tern:(1.0) \n",
      "\t\tProto:6 cub_141_Artic_Tern:(1.0) cub_144_Common_Tern:(1.0) \n",
      "\t Child: cub_146_Forsters_Tern\n",
      "\t\tProto:13 cub_146_Forsters_Tern:(1.0) \n"
     ]
    },
    {
     "name": "stderr",
     "output_type": "stream",
     "text": [
      "Collecting topk: 2390it [01:48, 22.08it/s] \n"
     ]
    },
    {
     "name": "stdout",
     "output_type": "stream",
     "text": [
      "Node 129+104\n",
      "\t Child: 129+035\n",
      "\t\tProto:8 cub_009_Brewer_Blackbird:(0.9932) cub_010_Red_winged_Blackbird:(0.9908) cub_011_Rusty_Blackbird:(0.9887) cub_012_Yellow_headed_Blackbird:(0.9987) cub_013_Bobolink:(0.9958) cub_014_Indigo_Bunting:(0.9929) cub_015_Lazuli_Bunting:(0.9953) cub_016_Painted_Bunting:(0.9898) cub_017_Cardinal:(0.9739) cub_020_Yellow_breasted_Chat:(0.9986) cub_021_Eastern_Towhee:(0.9973) cub_026_Bronzed_Cowbird:(0.9899) cub_027_Shiny_Cowbird:(0.9971) cub_034_Gray_crowned_Rosy_Finch:(0.9983) cub_035_Purple_Finch:(0.997) cub_047_American_Goldfinch:(0.9981) cub_048_European_Goldfinch:(0.9967) cub_049_Boat_tailed_Grackle:(0.9938) cub_054_Blue_Grosbeak:(0.9976) cub_055_Evening_Grosbeak:(0.9987) cub_056_Pine_Grosbeak:(0.9914) cub_057_Rose_breasted_Grosbeak:(0.989) cub_076_Dark_eyed_Junco:(0.9935) cub_088_Western_Meadowlark:(0.9916) cub_095_Baltimore_Oriole:(0.9981) cub_096_Hooded_Oriole:(0.9958) cub_097_Orchard_Oriole:(0.9937) cub_098_Scott_Oriole:(0.9979) cub_099_Ovenbird:(0.9449) cub_109_American_Redstart:(0.9983) cub_113_Baird_Sparrow:(0.9817) cub_114_Black_throated_Sparrow:(0.9914) cub_115_Brewer_Sparrow:(0.9677) cub_116_Chipping_Sparrow:(0.9847) cub_117_Clay_colored_Sparrow:(0.9623) cub_119_Field_Sparrow:(0.9758) cub_120_Fox_Sparrow:(0.9453) cub_121_Grasshopper_Sparrow:(0.983) cub_122_Harris_Sparrow:(0.9846) cub_123_Henslow_Sparrow:(0.9932) cub_124_Le_Conte_Sparrow:(0.9953) cub_125_Lincoln_Sparrow:(0.9836) cub_126_Nelson_Sharp_tailed_Sparrow:(0.9941) cub_127_Savannah_Sparrow:(0.9529) cub_128_Seaside_Sparrow:(0.994) cub_129_Song_Sparrow:(0.9767) cub_130_Tree_Sparrow:(0.9915) cub_131_Vesper_Sparrow:(0.8715) cub_132_White_crowned_Sparrow:(0.998) cub_133_White_throated_Sparrow:(0.9988) cub_139_Scarlet_Tanager:(0.9871) cub_140_Summer_Tanager:(0.9875) cub_148_Green_tailed_Towhee:(0.9826) cub_158_Bay_breasted_Warbler:(0.9894) cub_159_Black_and_white_Warbler:(0.9504) cub_160_Black_throated_Blue_Warbler:(0.9906) cub_161_Blue_winged_Warbler:(0.9892) cub_162_Canada_Warbler:(0.9953) cub_163_Cape_May_Warbler:(0.9878) cub_164_Cerulean_Warbler:(0.9846) cub_165_Chestnut_sided_Warbler:(0.9993) cub_166_Golden_winged_Warbler:(0.9964) cub_167_Hooded_Warbler:(0.9961) cub_168_Kentucky_Warbler:(0.9959) cub_169_Magnolia_Warbler:(0.994) cub_170_Mourning_Warbler:(0.9947) cub_172_Nashville_Warbler:(0.9925) cub_173_Orange_crowned_Warbler:(0.9786) cub_174_Palm_Warbler:(0.9834) cub_175_Pine_Warbler:(0.9841) cub_176_Prairie_Warbler:(0.9665) cub_177_Prothonotary_Warbler:(0.9752) cub_178_Swainson_Warbler:(0.9865) cub_179_Tennessee_Warbler:(0.988) cub_180_Wilson_Warbler:(0.9562) cub_181_Worm_eating_Warbler:(0.9707) cub_182_Yellow_Warbler:(0.9758) cub_183_Northern_Waterthrush:(0.9194) cub_184_Louisiana_Waterthrush:(0.9357) cub_200_Common_Yellowthroat:(0.9991) \n",
      "\t\tProto:1 cub_009_Brewer_Blackbird:(0.9423) cub_010_Red_winged_Blackbird:(0.9924) cub_011_Rusty_Blackbird:(0.9553) cub_012_Yellow_headed_Blackbird:(0.9988) cub_013_Bobolink:(0.9983) cub_014_Indigo_Bunting:(0.989) cub_015_Lazuli_Bunting:(0.9953) cub_016_Painted_Bunting:(0.993) cub_017_Cardinal:(0.8449) cub_020_Yellow_breasted_Chat:(0.9828) cub_021_Eastern_Towhee:(0.9958) cub_026_Bronzed_Cowbird:(0.9937) cub_027_Shiny_Cowbird:(0.9839) cub_034_Gray_crowned_Rosy_Finch:(0.97) cub_035_Purple_Finch:(0.9751) cub_047_American_Goldfinch:(0.9975) cub_048_European_Goldfinch:(0.9883) cub_049_Boat_tailed_Grackle:(0.9704) cub_054_Blue_Grosbeak:(0.99) cub_055_Evening_Grosbeak:(0.992) cub_056_Pine_Grosbeak:(0.99) cub_057_Rose_breasted_Grosbeak:(0.9979) cub_076_Dark_eyed_Junco:(0.9438) cub_088_Western_Meadowlark:(0.8997) cub_095_Baltimore_Oriole:(0.9943) cub_096_Hooded_Oriole:(0.9993) cub_097_Orchard_Oriole:(0.9875) cub_098_Scott_Oriole:(0.995) cub_099_Ovenbird:(0.7589) cub_109_American_Redstart:(0.9872) cub_113_Baird_Sparrow:(0.9255) cub_114_Black_throated_Sparrow:(0.9904) cub_115_Brewer_Sparrow:(0.7077) cub_116_Chipping_Sparrow:(0.9715) cub_117_Clay_colored_Sparrow:(0.9502) cub_119_Field_Sparrow:(0.9558) cub_120_Fox_Sparrow:(0.6914) cub_121_Grasshopper_Sparrow:(0.8583) cub_122_Harris_Sparrow:(0.9749) cub_123_Henslow_Sparrow:(0.9807) cub_124_Le_Conte_Sparrow:(0.9972) cub_125_Lincoln_Sparrow:(0.9534) cub_126_Nelson_Sharp_tailed_Sparrow:(0.9977) cub_127_Savannah_Sparrow:(0.929) cub_128_Seaside_Sparrow:(0.9642) cub_129_Song_Sparrow:(0.9205) cub_130_Tree_Sparrow:(0.9032) cub_131_Vesper_Sparrow:(0.6458) cub_132_White_crowned_Sparrow:(0.9596) cub_133_White_throated_Sparrow:(0.9389) cub_139_Scarlet_Tanager:(0.9978) cub_140_Summer_Tanager:(0.9444) cub_148_Green_tailed_Towhee:(0.9805) cub_158_Bay_breasted_Warbler:(0.9911) cub_159_Black_and_white_Warbler:(0.9834) cub_160_Black_throated_Blue_Warbler:(0.9721) cub_161_Blue_winged_Warbler:(0.9728) cub_162_Canada_Warbler:(0.9686) cub_163_Cape_May_Warbler:(0.965) cub_164_Cerulean_Warbler:(0.9704) cub_165_Chestnut_sided_Warbler:(0.9806) cub_166_Golden_winged_Warbler:(0.9867) cub_167_Hooded_Warbler:(0.9898) cub_168_Kentucky_Warbler:(0.9856) cub_169_Magnolia_Warbler:(0.9684) cub_170_Mourning_Warbler:(0.9768) cub_172_Nashville_Warbler:(0.9808) cub_173_Orange_crowned_Warbler:(0.7865) cub_174_Palm_Warbler:(0.8272) cub_175_Pine_Warbler:(0.9618) cub_176_Prairie_Warbler:(0.9872) cub_177_Prothonotary_Warbler:(0.9853) cub_178_Swainson_Warbler:(0.8659) cub_179_Tennessee_Warbler:(0.8735) cub_180_Wilson_Warbler:(0.9328) cub_181_Worm_eating_Warbler:(0.8788) cub_182_Yellow_Warbler:(0.9392) cub_183_Northern_Waterthrush:(0.7868) cub_184_Louisiana_Waterthrush:(0.7513) cub_200_Common_Yellowthroat:(0.9811) \n",
      "\t\tProto:3 cub_009_Brewer_Blackbird:(0.7436) cub_010_Red_winged_Blackbird:(0.9104) cub_011_Rusty_Blackbird:(0.724) cub_012_Yellow_headed_Blackbird:(0.9212) cub_013_Bobolink:(0.9261) cub_014_Indigo_Bunting:(0.9002) cub_015_Lazuli_Bunting:(0.9366) cub_016_Painted_Bunting:(0.9116) cub_017_Cardinal:(0.9018) cub_020_Yellow_breasted_Chat:(0.9173) cub_021_Eastern_Towhee:(0.9196) cub_026_Bronzed_Cowbird:(0.9236) cub_027_Shiny_Cowbird:(0.8542) cub_034_Gray_crowned_Rosy_Finch:(0.8638) cub_035_Purple_Finch:(0.883) cub_047_American_Goldfinch:(0.9364) cub_048_European_Goldfinch:(0.9593) cub_049_Boat_tailed_Grackle:(0.8434) cub_054_Blue_Grosbeak:(0.9213) cub_055_Evening_Grosbeak:(0.9177) cub_056_Pine_Grosbeak:(0.8957) cub_057_Rose_breasted_Grosbeak:(0.9515) cub_076_Dark_eyed_Junco:(0.9256) cub_088_Western_Meadowlark:(0.8567) cub_095_Baltimore_Oriole:(0.9286) cub_096_Hooded_Oriole:(0.9223) cub_097_Orchard_Oriole:(0.882) cub_098_Scott_Oriole:(0.9078) cub_099_Ovenbird:(0.7855) cub_109_American_Redstart:(0.9107) cub_113_Baird_Sparrow:(0.8668) cub_114_Black_throated_Sparrow:(0.9225) cub_115_Brewer_Sparrow:(0.8347) cub_116_Chipping_Sparrow:(0.935) cub_117_Clay_colored_Sparrow:(0.867) cub_119_Field_Sparrow:(0.8782) cub_120_Fox_Sparrow:(0.6995) cub_121_Grasshopper_Sparrow:(0.8718) cub_122_Harris_Sparrow:(0.9323) cub_123_Henslow_Sparrow:(0.9067) cub_124_Le_Conte_Sparrow:(0.9052) cub_125_Lincoln_Sparrow:(0.848) cub_126_Nelson_Sharp_tailed_Sparrow:(0.8757) cub_127_Savannah_Sparrow:(0.8314) cub_128_Seaside_Sparrow:(0.8636) cub_129_Song_Sparrow:(0.8388) cub_130_Tree_Sparrow:(0.9414) cub_131_Vesper_Sparrow:(0.7021) cub_132_White_crowned_Sparrow:(0.8966) cub_133_White_throated_Sparrow:(0.9157) cub_139_Scarlet_Tanager:(0.9302) cub_140_Summer_Tanager:(0.9039) cub_148_Green_tailed_Towhee:(0.9481) cub_158_Bay_breasted_Warbler:(0.9318) cub_159_Black_and_white_Warbler:(0.8724) cub_160_Black_throated_Blue_Warbler:(0.8859) cub_161_Blue_winged_Warbler:(0.918) cub_162_Canada_Warbler:(0.8831) cub_163_Cape_May_Warbler:(0.9147) cub_164_Cerulean_Warbler:(0.8984) cub_165_Chestnut_sided_Warbler:(0.9133) cub_166_Golden_winged_Warbler:(0.9247) cub_167_Hooded_Warbler:(0.9119) cub_168_Kentucky_Warbler:(0.9185) cub_169_Magnolia_Warbler:(0.9057) cub_170_Mourning_Warbler:(0.9087) cub_172_Nashville_Warbler:(0.8848) cub_173_Orange_crowned_Warbler:(0.8801) cub_174_Palm_Warbler:(0.8742) cub_175_Pine_Warbler:(0.9023) cub_176_Prairie_Warbler:(0.9133) cub_177_Prothonotary_Warbler:(0.8809) cub_178_Swainson_Warbler:(0.8061) cub_179_Tennessee_Warbler:(0.8867) cub_180_Wilson_Warbler:(0.8598) cub_181_Worm_eating_Warbler:(0.9048) cub_182_Yellow_Warbler:(0.8561) cub_183_Northern_Waterthrush:(0.8084) cub_184_Louisiana_Waterthrush:(0.8229) cub_200_Common_Yellowthroat:(0.9171) \n",
      "\t\tProto:7 cub_009_Brewer_Blackbird:(0.9219) cub_010_Red_winged_Blackbird:(0.9883) cub_011_Rusty_Blackbird:(0.9318) cub_012_Yellow_headed_Blackbird:(0.9911) cub_013_Bobolink:(0.9993) cub_014_Indigo_Bunting:(0.9914) cub_015_Lazuli_Bunting:(0.9956) cub_016_Painted_Bunting:(0.9947) cub_017_Cardinal:(0.9635) cub_020_Yellow_breasted_Chat:(0.9973) cub_021_Eastern_Towhee:(0.9978) cub_026_Bronzed_Cowbird:(0.9947) cub_027_Shiny_Cowbird:(0.9723) cub_034_Gray_crowned_Rosy_Finch:(0.9924) cub_035_Purple_Finch:(0.9941) cub_047_American_Goldfinch:(0.9984) cub_048_European_Goldfinch:(0.9995) cub_049_Boat_tailed_Grackle:(0.9166) cub_054_Blue_Grosbeak:(0.9893) cub_055_Evening_Grosbeak:(0.9967) cub_056_Pine_Grosbeak:(0.9834) cub_057_Rose_breasted_Grosbeak:(0.9985) cub_076_Dark_eyed_Junco:(0.9958) cub_088_Western_Meadowlark:(0.9883) cub_095_Baltimore_Oriole:(0.9939) cub_096_Hooded_Oriole:(0.9848) cub_097_Orchard_Oriole:(0.998) cub_098_Scott_Oriole:(0.9981) cub_099_Ovenbird:(0.9039) cub_109_American_Redstart:(0.9976) cub_113_Baird_Sparrow:(0.9445) cub_114_Black_throated_Sparrow:(0.9979) cub_115_Brewer_Sparrow:(0.946) cub_116_Chipping_Sparrow:(0.9926) cub_117_Clay_colored_Sparrow:(0.9736) cub_119_Field_Sparrow:(0.9765) cub_120_Fox_Sparrow:(0.8478) cub_121_Grasshopper_Sparrow:(0.9741) cub_122_Harris_Sparrow:(0.9971) cub_123_Henslow_Sparrow:(0.9954) cub_124_Le_Conte_Sparrow:(0.9901) cub_125_Lincoln_Sparrow:(0.9836) cub_126_Nelson_Sharp_tailed_Sparrow:(0.995) cub_127_Savannah_Sparrow:(0.9688) cub_128_Seaside_Sparrow:(0.9868) cub_129_Song_Sparrow:(0.9479) cub_130_Tree_Sparrow:(0.997) cub_131_Vesper_Sparrow:(0.6316) cub_132_White_crowned_Sparrow:(0.9878) cub_133_White_throated_Sparrow:(0.9962) cub_139_Scarlet_Tanager:(0.9932) cub_140_Summer_Tanager:(0.9754) cub_148_Green_tailed_Towhee:(0.9926) cub_158_Bay_breasted_Warbler:(0.996) cub_159_Black_and_white_Warbler:(0.9829) cub_160_Black_throated_Blue_Warbler:(0.9941) cub_161_Blue_winged_Warbler:(0.9972) cub_162_Canada_Warbler:(0.9984) cub_163_Cape_May_Warbler:(0.988) cub_164_Cerulean_Warbler:(0.9985) cub_165_Chestnut_sided_Warbler:(0.9952) cub_166_Golden_winged_Warbler:(0.9977) cub_167_Hooded_Warbler:(0.9972) cub_168_Kentucky_Warbler:(0.9878) cub_169_Magnolia_Warbler:(0.9954) cub_170_Mourning_Warbler:(0.9937) cub_172_Nashville_Warbler:(0.9903) cub_173_Orange_crowned_Warbler:(0.9655) cub_174_Palm_Warbler:(0.9934) cub_175_Pine_Warbler:(0.9798) cub_176_Prairie_Warbler:(0.9862) cub_177_Prothonotary_Warbler:(0.9958) cub_178_Swainson_Warbler:(0.955) cub_179_Tennessee_Warbler:(0.9799) cub_180_Wilson_Warbler:(0.996) cub_181_Worm_eating_Warbler:(0.9702) cub_182_Yellow_Warbler:(0.9911) cub_183_Northern_Waterthrush:(0.9799) cub_184_Louisiana_Waterthrush:(0.9929) cub_200_Common_Yellowthroat:(0.9988) \n",
      "\t Child: cub_104_American_Pipit\n",
      "\t\tProto:16 cub_104_American_Pipit:(0.0753) \n",
      "\t\tProto:11 cub_104_American_Pipit:(0.897) \n",
      "\t\tProto:15 cub_104_American_Pipit:(0.0752) \n"
     ]
    },
    {
     "name": "stderr",
     "output_type": "stream",
     "text": [
      "Collecting topk: 387it [00:22, 17.25it/s]\n"
     ]
    },
    {
     "name": "stdout",
     "output_type": "stream",
     "text": [
      "Node 199+150\n",
      "\t Child: 199+094\n",
      "\t\tProto:4 cub_028_Brown_Creeper:(0.9864) cub_094_White_breasted_Nuthatch:(0.9979) cub_193_Bewick_Wren:(0.998) cub_194_Cactus_Wren:(0.9935) cub_195_Carolina_Wren:(0.9997) cub_196_House_Wren:(0.993) cub_197_Marsh_Wren:(0.9993) cub_198_Rock_Wren:(0.9947) cub_199_Winter_Wren:(0.9996) \n",
      "\t\tProto:5 cub_028_Brown_Creeper:(0.8667) cub_094_White_breasted_Nuthatch:(0.9895) cub_193_Bewick_Wren:(0.9979) cub_194_Cactus_Wren:(0.7307) cub_195_Carolina_Wren:(0.9951) cub_196_House_Wren:(0.9946) cub_197_Marsh_Wren:(0.9874) cub_198_Rock_Wren:(0.9577) cub_199_Winter_Wren:(0.9983) \n",
      "\t\tProto:7 cub_028_Brown_Creeper:(0.9855) cub_094_White_breasted_Nuthatch:(0.9922) cub_193_Bewick_Wren:(0.9991) cub_194_Cactus_Wren:(0.9993) cub_195_Carolina_Wren:(0.9999) cub_196_House_Wren:(0.9997) cub_197_Marsh_Wren:(0.9995) cub_198_Rock_Wren:(0.9999) cub_199_Winter_Wren:(0.9999) \n",
      "\t Child: 150+019\n",
      "\t\tProto:17 cub_019_Gray_Catbird:(0.9829) cub_091_Mockingbird:(0.9964) cub_149_Brown_Thrasher:(0.9991) cub_150_Sage_Thrasher:(0.9988) \n",
      "\t\tProto:10 cub_019_Gray_Catbird:(0.9931) cub_091_Mockingbird:(0.9873) cub_149_Brown_Thrasher:(0.9998) cub_150_Sage_Thrasher:(0.9998) \n",
      "\t\tProto:12 cub_019_Gray_Catbird:(0.9845) cub_091_Mockingbird:(1.0) cub_149_Brown_Thrasher:(0.9997) cub_150_Sage_Thrasher:(0.9998) \n"
     ]
    },
    {
     "name": "stderr",
     "output_type": "stream",
     "text": [
      "Collecting topk: 100% 60/60 [00:08<00:00,  7.18it/s]\n"
     ]
    },
    {
     "name": "stdout",
     "output_type": "stream",
     "text": [
      "Node 186+185\n",
      "\t Child: cub_186_Cedar_Waxwing\n",
      "\t\tProto:1 cub_186_Cedar_Waxwing:(1.0) \n",
      "\t\tProto:6 cub_186_Cedar_Waxwing:(1.0) \n",
      "\t Child: cub_185_Bohemian_Waxwing\n",
      "\t\tProto:10 cub_185_Bohemian_Waxwing:(1.0) \n"
     ]
    },
    {
     "name": "stderr",
     "output_type": "stream",
     "text": [
      "Collecting topk: 100% 60/60 [00:08<00:00,  7.32it/s]\n"
     ]
    },
    {
     "name": "stdout",
     "output_type": "stream",
     "text": [
      "Node 136+137\n",
      "\t Child: cub_136_Barn_Swallow\n",
      "\t\tProto:6 cub_136_Barn_Swallow:(1.0) \n",
      "\t Child: cub_137_Cliff_Swallow\n",
      "\t\tProto:14 cub_137_Cliff_Swallow:(0.9995) \n"
     ]
    },
    {
     "name": "stderr",
     "output_type": "stream",
     "text": [
      "Collecting topk: 150it [00:11, 12.94it/s]  \n"
     ]
    },
    {
     "name": "stdout",
     "output_type": "stream",
     "text": [
      "Node 107+093\n",
      "\t Child: 107+030\n",
      "\t\tProto:1 cub_029_American_Crow:(1.0) cub_030_Fish_Crow:(1.0) cub_107_Common_Raven:(1.0) cub_108_White_necked_Raven:(1.0) \n",
      "\t\tProto:9 cub_029_American_Crow:(1.0) cub_030_Fish_Crow:(1.0) cub_107_Common_Raven:(1.0) cub_108_White_necked_Raven:(1.0) \n",
      "\t Child: cub_093_Clark_Nutcracker\n",
      "\t\tProto:17 cub_093_Clark_Nutcracker:(1.0) \n"
     ]
    },
    {
     "name": "stderr",
     "output_type": "stream",
     "text": [
      "Collecting topk: 100% 60/60 [00:08<00:00,  7.39it/s]\n"
     ]
    },
    {
     "name": "stdout",
     "output_type": "stream",
     "text": [
      "Node 073+074\n",
      "\t Child: cub_073_Blue_Jay\n",
      "\t\tProto:0 cub_073_Blue_Jay:(1.0) \n",
      "\t\tProto:1 cub_073_Blue_Jay:(1.0) \n",
      "\t Child: cub_074_Florida_Jay\n",
      "\t\tProto:13 cub_074_Florida_Jay:(1.0) \n"
     ]
    },
    {
     "name": "stderr",
     "output_type": "stream",
     "text": [
      "Collecting topk: 100% 51/51 [00:07<00:00,  6.64it/s]\n"
     ]
    },
    {
     "name": "stdout",
     "output_type": "stream",
     "text": [
      "Node 151+156\n",
      "\t Child: cub_151_Black_capped_Vireo\n",
      "\t\tProto:6 cub_151_Black_capped_Vireo:(1.0) \n",
      "\t Child: cub_156_White_eyed_Vireo\n",
      "\t\tProto:16 cub_156_White_eyed_Vireo:(1.0) \n"
     ]
    },
    {
     "name": "stderr",
     "output_type": "stream",
     "text": [
      "Collecting topk: 100% 59/59 [00:08<00:00,  7.30it/s]\n"
     ]
    },
    {
     "name": "stdout",
     "output_type": "stream",
     "text": [
      "Node 157+152\n",
      "\t Child: cub_157_Yellow_throated_Vireo\n",
      "\t\tProto:0 cub_157_Yellow_throated_Vireo:(1.0) \n",
      "\t\tProto:1 cub_157_Yellow_throated_Vireo:(1.0) \n",
      "\t Child: cub_152_Blue_headed_Vireo\n",
      "\t\tProto:12 cub_152_Blue_headed_Vireo:(1.0) \n"
     ]
    },
    {
     "name": "stderr",
     "output_type": "stream",
     "text": [
      "Collecting topk: 100% 59/59 [00:08<00:00,  7.10it/s]\n"
     ]
    },
    {
     "name": "stdout",
     "output_type": "stream",
     "text": [
      "Node 153+155\n",
      "\t Child: cub_153_Philadelphia_Vireo\n",
      "\t\tProto:9 cub_153_Philadelphia_Vireo:(0.9991) \n",
      "\t\tProto:2 cub_153_Philadelphia_Vireo:(1.0) \n",
      "\t Child: cub_155_Warbling_Vireo\n",
      "\t\tProto:17 cub_155_Warbling_Vireo:(1.0) \n"
     ]
    },
    {
     "name": "stderr",
     "output_type": "stream",
     "text": [
      "Collecting topk: 100% 49/49 [00:08<00:00,  6.09it/s]\n"
     ]
    },
    {
     "name": "stdout",
     "output_type": "stream",
     "text": [
      "Node 065+060\n",
      "\t Child: cub_065_Slaty_backed_Gull\n",
      "\t\tProto:1 cub_065_Slaty_backed_Gull:(1.0) \n",
      "\t\tProto:2 cub_065_Slaty_backed_Gull:(1.0) \n",
      "\t\tProto:4 cub_065_Slaty_backed_Gull:(1.0) \n",
      "\t\tProto:9 cub_065_Slaty_backed_Gull:(1.0) \n",
      "\t Child: cub_060_Glaucous_winged_Gull\n",
      "\t\tProto:17 cub_060_Glaucous_winged_Gull:(0.9999) \n",
      "\t\tProto:14 cub_060_Glaucous_winged_Gull:(0.9975) \n"
     ]
    },
    {
     "name": "stderr",
     "output_type": "stream",
     "text": [
      "Collecting topk: 100% 59/59 [00:07<00:00,  7.38it/s]\n"
     ]
    },
    {
     "name": "stdout",
     "output_type": "stream",
     "text": [
      "Node 144+141\n",
      "\t Child: cub_144_Common_Tern\n",
      "\t\tProto:5 cub_144_Common_Tern:(0.9951) \n",
      "\t Child: cub_141_Artic_Tern\n",
      "\t\tProto:10 cub_141_Artic_Tern:(1.0) \n"
     ]
    },
    {
     "name": "stderr",
     "output_type": "stream",
     "text": [
      "Collecting topk: 2360it [01:47, 21.92it/s]\n"
     ]
    },
    {
     "name": "stdout",
     "output_type": "stream",
     "text": [
      "Node 129+035\n",
      "\t Child: 129+054\n",
      "\t\tProto:1 cub_009_Brewer_Blackbird:(0.4482) cub_010_Red_winged_Blackbird:(0.5472) cub_011_Rusty_Blackbird:(0.4716) cub_012_Yellow_headed_Blackbird:(0.1594) cub_013_Bobolink:(0.2048) cub_014_Indigo_Bunting:(0.3249) cub_015_Lazuli_Bunting:(0.4999) cub_016_Painted_Bunting:(0.696) cub_017_Cardinal:(0.0982) cub_020_Yellow_breasted_Chat:(0.6899) cub_021_Eastern_Towhee:(0.6509) cub_026_Bronzed_Cowbird:(0.254) cub_027_Shiny_Cowbird:(0.581) cub_049_Boat_tailed_Grackle:(0.4162) cub_054_Blue_Grosbeak:(0.2421) cub_057_Rose_breasted_Grosbeak:(0.6527) cub_076_Dark_eyed_Junco:(0.3794) cub_088_Western_Meadowlark:(0.5899) cub_095_Baltimore_Oriole:(0.549) cub_096_Hooded_Oriole:(0.3669) cub_097_Orchard_Oriole:(0.6036) cub_098_Scott_Oriole:(0.5295) cub_099_Ovenbird:(0.8104) cub_109_American_Redstart:(0.6169) cub_113_Baird_Sparrow:(0.3034) cub_114_Black_throated_Sparrow:(0.5648) cub_115_Brewer_Sparrow:(0.5436) cub_116_Chipping_Sparrow:(0.4359) cub_117_Clay_colored_Sparrow:(0.5853) cub_119_Field_Sparrow:(0.7361) cub_120_Fox_Sparrow:(0.7455) cub_121_Grasshopper_Sparrow:(0.4467) cub_122_Harris_Sparrow:(0.3122) cub_123_Henslow_Sparrow:(0.5751) cub_124_Le_Conte_Sparrow:(0.2474) cub_125_Lincoln_Sparrow:(0.6661) cub_126_Nelson_Sharp_tailed_Sparrow:(0.2656) cub_127_Savannah_Sparrow:(0.5765) cub_128_Seaside_Sparrow:(0.3191) cub_129_Song_Sparrow:(0.7389) cub_130_Tree_Sparrow:(0.5276) cub_131_Vesper_Sparrow:(0.5977) cub_132_White_crowned_Sparrow:(0.3809) cub_133_White_throated_Sparrow:(0.374) cub_139_Scarlet_Tanager:(0.237) cub_140_Summer_Tanager:(0.4316) cub_148_Green_tailed_Towhee:(0.7172) cub_158_Bay_breasted_Warbler:(0.6579) cub_159_Black_and_white_Warbler:(0.7448) cub_160_Black_throated_Blue_Warbler:(0.659) cub_161_Blue_winged_Warbler:(0.2401) cub_162_Canada_Warbler:(0.7894) cub_163_Cape_May_Warbler:(0.5465) cub_164_Cerulean_Warbler:(0.6491) cub_165_Chestnut_sided_Warbler:(0.755) cub_166_Golden_winged_Warbler:(0.6323) cub_167_Hooded_Warbler:(0.5259) cub_168_Kentucky_Warbler:(0.5976) cub_169_Magnolia_Warbler:(0.9293) cub_170_Mourning_Warbler:(0.6744) cub_172_Nashville_Warbler:(0.94) cub_173_Orange_crowned_Warbler:(0.8223) cub_174_Palm_Warbler:(0.7063) cub_175_Pine_Warbler:(0.7984) cub_176_Prairie_Warbler:(0.7432) cub_177_Prothonotary_Warbler:(0.628) cub_178_Swainson_Warbler:(0.6575) cub_179_Tennessee_Warbler:(0.8179) cub_180_Wilson_Warbler:(0.4965) cub_181_Worm_eating_Warbler:(0.6143) cub_182_Yellow_Warbler:(0.824) cub_183_Northern_Waterthrush:(0.7124) cub_184_Louisiana_Waterthrush:(0.7126) cub_200_Common_Yellowthroat:(0.55) \n",
      "\t\tProto:3 cub_009_Brewer_Blackbird:(0.8444) cub_010_Red_winged_Blackbird:(0.8141) cub_011_Rusty_Blackbird:(0.8285) cub_012_Yellow_headed_Blackbird:(0.1438) cub_013_Bobolink:(0.8506) cub_014_Indigo_Bunting:(0.6246) cub_015_Lazuli_Bunting:(0.4959) cub_016_Painted_Bunting:(0.4084) cub_017_Cardinal:(0.4264) cub_020_Yellow_breasted_Chat:(0.8215) cub_021_Eastern_Towhee:(0.8245) cub_026_Bronzed_Cowbird:(0.7698) cub_027_Shiny_Cowbird:(0.8588) cub_049_Boat_tailed_Grackle:(0.7427) cub_054_Blue_Grosbeak:(0.498) cub_057_Rose_breasted_Grosbeak:(0.6646) cub_076_Dark_eyed_Junco:(0.7795) cub_088_Western_Meadowlark:(0.8764) cub_095_Baltimore_Oriole:(0.7039) cub_096_Hooded_Oriole:(0.7321) cub_097_Orchard_Oriole:(0.6306) cub_098_Scott_Oriole:(0.7624) cub_099_Ovenbird:(0.9211) cub_109_American_Redstart:(0.7606) cub_113_Baird_Sparrow:(0.7068) cub_114_Black_throated_Sparrow:(0.6184) cub_115_Brewer_Sparrow:(0.6392) cub_116_Chipping_Sparrow:(0.5457) cub_117_Clay_colored_Sparrow:(0.8983) cub_119_Field_Sparrow:(0.5747) cub_120_Fox_Sparrow:(0.6136) cub_121_Grasshopper_Sparrow:(0.8607) cub_122_Harris_Sparrow:(0.7691) cub_123_Henslow_Sparrow:(0.8587) cub_124_Le_Conte_Sparrow:(0.6683) cub_125_Lincoln_Sparrow:(0.8747) cub_126_Nelson_Sharp_tailed_Sparrow:(0.5963) cub_127_Savannah_Sparrow:(0.8526) cub_128_Seaside_Sparrow:(0.6585) cub_129_Song_Sparrow:(0.8102) cub_130_Tree_Sparrow:(0.5007) cub_131_Vesper_Sparrow:(0.8132) cub_132_White_crowned_Sparrow:(0.836) cub_133_White_throated_Sparrow:(0.7562) cub_139_Scarlet_Tanager:(0.1423) cub_140_Summer_Tanager:(0.4163) cub_148_Green_tailed_Towhee:(0.7267) cub_158_Bay_breasted_Warbler:(0.7857) cub_159_Black_and_white_Warbler:(0.9086) cub_160_Black_throated_Blue_Warbler:(0.944) cub_161_Blue_winged_Warbler:(0.7227) cub_162_Canada_Warbler:(0.9113) cub_163_Cape_May_Warbler:(0.9178) cub_164_Cerulean_Warbler:(0.9467) cub_165_Chestnut_sided_Warbler:(0.9276) cub_166_Golden_winged_Warbler:(0.9589) cub_167_Hooded_Warbler:(0.7947) cub_168_Kentucky_Warbler:(0.9553) cub_169_Magnolia_Warbler:(0.914) cub_170_Mourning_Warbler:(0.884) cub_172_Nashville_Warbler:(0.9434) cub_173_Orange_crowned_Warbler:(0.8676) cub_174_Palm_Warbler:(0.9312) cub_175_Pine_Warbler:(0.8992) cub_176_Prairie_Warbler:(0.9774) cub_177_Prothonotary_Warbler:(0.5386) cub_178_Swainson_Warbler:(0.9183) cub_179_Tennessee_Warbler:(0.8979) cub_180_Wilson_Warbler:(0.8548) cub_181_Worm_eating_Warbler:(0.8982) cub_182_Yellow_Warbler:(0.7798) cub_183_Northern_Waterthrush:(0.9692) cub_184_Louisiana_Waterthrush:(0.9809) cub_200_Common_Yellowthroat:(0.8685) \n",
      "\t\tProto:5 cub_009_Brewer_Blackbird:(0.9754) cub_010_Red_winged_Blackbird:(0.9625) cub_011_Rusty_Blackbird:(0.9745) cub_012_Yellow_headed_Blackbird:(0.5548) cub_013_Bobolink:(0.9597) cub_014_Indigo_Bunting:(0.8246) cub_015_Lazuli_Bunting:(0.6855) cub_016_Painted_Bunting:(0.3465) cub_017_Cardinal:(0.1985) cub_020_Yellow_breasted_Chat:(0.9662) cub_021_Eastern_Towhee:(0.9063) cub_026_Bronzed_Cowbird:(0.9476) cub_027_Shiny_Cowbird:(0.928) cub_049_Boat_tailed_Grackle:(0.9181) cub_054_Blue_Grosbeak:(0.839) cub_057_Rose_breasted_Grosbeak:(0.6798) cub_076_Dark_eyed_Junco:(0.7988) cub_088_Western_Meadowlark:(0.9735) cub_095_Baltimore_Oriole:(0.9558) cub_096_Hooded_Oriole:(0.6993) cub_097_Orchard_Oriole:(0.9443) cub_098_Scott_Oriole:(0.9793) cub_099_Ovenbird:(0.9852) cub_109_American_Redstart:(0.9728) cub_113_Baird_Sparrow:(0.9328) cub_114_Black_throated_Sparrow:(0.9603) cub_115_Brewer_Sparrow:(0.8208) cub_116_Chipping_Sparrow:(0.8187) cub_117_Clay_colored_Sparrow:(0.9218) cub_119_Field_Sparrow:(0.7344) cub_120_Fox_Sparrow:(0.8513) cub_121_Grasshopper_Sparrow:(0.9715) cub_122_Harris_Sparrow:(0.6751) cub_123_Henslow_Sparrow:(0.9943) cub_124_Le_Conte_Sparrow:(0.9203) cub_125_Lincoln_Sparrow:(0.9919) cub_126_Nelson_Sharp_tailed_Sparrow:(0.8058) cub_127_Savannah_Sparrow:(0.8522) cub_128_Seaside_Sparrow:(0.8986) cub_129_Song_Sparrow:(0.8796) cub_130_Tree_Sparrow:(0.5445) cub_131_Vesper_Sparrow:(0.9525) cub_132_White_crowned_Sparrow:(0.8771) cub_133_White_throated_Sparrow:(0.8587) cub_139_Scarlet_Tanager:(0.3298) cub_140_Summer_Tanager:(0.7059) cub_148_Green_tailed_Towhee:(0.8201) cub_158_Bay_breasted_Warbler:(0.9443) cub_159_Black_and_white_Warbler:(0.9858) cub_160_Black_throated_Blue_Warbler:(0.9924) cub_161_Blue_winged_Warbler:(0.9659) cub_162_Canada_Warbler:(0.9954) cub_163_Cape_May_Warbler:(0.9746) cub_164_Cerulean_Warbler:(0.9919) cub_165_Chestnut_sided_Warbler:(0.9735) cub_166_Golden_winged_Warbler:(0.9882) cub_167_Hooded_Warbler:(0.983) cub_168_Kentucky_Warbler:(0.9866) cub_169_Magnolia_Warbler:(0.9928) cub_170_Mourning_Warbler:(0.9862) cub_172_Nashville_Warbler:(0.9719) cub_173_Orange_crowned_Warbler:(0.9247) cub_174_Palm_Warbler:(0.9839) cub_175_Pine_Warbler:(0.9892) cub_176_Prairie_Warbler:(0.9951) cub_177_Prothonotary_Warbler:(0.9766) cub_178_Swainson_Warbler:(0.9686) cub_179_Tennessee_Warbler:(0.9635) cub_180_Wilson_Warbler:(0.988) cub_181_Worm_eating_Warbler:(0.9552) cub_182_Yellow_Warbler:(0.936) cub_183_Northern_Waterthrush:(0.9543) cub_184_Louisiana_Waterthrush:(0.9767) cub_200_Common_Yellowthroat:(0.9715) \n",
      "\t\tProto:7 cub_009_Brewer_Blackbird:(0.6322) cub_010_Red_winged_Blackbird:(0.8633) cub_011_Rusty_Blackbird:(0.5189) cub_012_Yellow_headed_Blackbird:(0.9404) cub_013_Bobolink:(0.9901) cub_014_Indigo_Bunting:(0.8753) cub_015_Lazuli_Bunting:(0.8405) cub_016_Painted_Bunting:(0.5627) cub_017_Cardinal:(0.9731) cub_020_Yellow_breasted_Chat:(0.4804) cub_021_Eastern_Towhee:(0.7554) cub_026_Bronzed_Cowbird:(0.9871) cub_027_Shiny_Cowbird:(0.802) cub_049_Boat_tailed_Grackle:(0.586) cub_054_Blue_Grosbeak:(0.9573) cub_057_Rose_breasted_Grosbeak:(0.9129) cub_076_Dark_eyed_Junco:(0.9188) cub_088_Western_Meadowlark:(0.8406) cub_095_Baltimore_Oriole:(0.7701) cub_096_Hooded_Oriole:(0.6564) cub_097_Orchard_Oriole:(0.6678) cub_098_Scott_Oriole:(0.6642) cub_099_Ovenbird:(0.5493) cub_109_American_Redstart:(0.5963) cub_113_Baird_Sparrow:(0.9749) cub_114_Black_throated_Sparrow:(0.623) cub_115_Brewer_Sparrow:(0.9061) cub_116_Chipping_Sparrow:(0.251) cub_117_Clay_colored_Sparrow:(0.7204) cub_119_Field_Sparrow:(0.4481) cub_120_Fox_Sparrow:(0.6657) cub_121_Grasshopper_Sparrow:(0.8056) cub_122_Harris_Sparrow:(0.9933) cub_123_Henslow_Sparrow:(0.9138) cub_124_Le_Conte_Sparrow:(0.9946) cub_125_Lincoln_Sparrow:(0.9309) cub_126_Nelson_Sharp_tailed_Sparrow:(0.9825) cub_127_Savannah_Sparrow:(0.7646) cub_128_Seaside_Sparrow:(0.7085) cub_129_Song_Sparrow:(0.6794) cub_130_Tree_Sparrow:(0.6193) cub_131_Vesper_Sparrow:(0.7275) cub_132_White_crowned_Sparrow:(0.6788) cub_133_White_throated_Sparrow:(0.3611) cub_139_Scarlet_Tanager:(0.8733) cub_140_Summer_Tanager:(0.1762) cub_148_Green_tailed_Towhee:(0.8775) cub_158_Bay_breasted_Warbler:(0.3707) cub_159_Black_and_white_Warbler:(0.7887) cub_160_Black_throated_Blue_Warbler:(0.6479) cub_161_Blue_winged_Warbler:(0.5474) cub_162_Canada_Warbler:(0.3028) cub_163_Cape_May_Warbler:(0.9596) cub_164_Cerulean_Warbler:(0.6477) cub_165_Chestnut_sided_Warbler:(0.2975) cub_166_Golden_winged_Warbler:(0.2465) cub_167_Hooded_Warbler:(0.6416) cub_168_Kentucky_Warbler:(0.331) cub_169_Magnolia_Warbler:(0.1711) cub_170_Mourning_Warbler:(0.7068) cub_172_Nashville_Warbler:(0.1633) cub_173_Orange_crowned_Warbler:(0.4114) cub_174_Palm_Warbler:(0.3131) cub_175_Pine_Warbler:(0.2376) cub_176_Prairie_Warbler:(0.8203) cub_177_Prothonotary_Warbler:(0.4352) cub_178_Swainson_Warbler:(0.1366) cub_179_Tennessee_Warbler:(0.3265) cub_180_Wilson_Warbler:(0.4814) cub_181_Worm_eating_Warbler:(0.3857) cub_182_Yellow_Warbler:(0.4753) cub_183_Northern_Waterthrush:(0.2008) cub_184_Louisiana_Waterthrush:(0.0976) cub_200_Common_Yellowthroat:(0.3699) \n",
      "\t\tProto:8 cub_009_Brewer_Blackbird:(0.9103) cub_010_Red_winged_Blackbird:(0.898) cub_011_Rusty_Blackbird:(0.9029) cub_012_Yellow_headed_Blackbird:(0.6769) cub_013_Bobolink:(0.5714) cub_014_Indigo_Bunting:(0.8668) cub_015_Lazuli_Bunting:(0.828) cub_016_Painted_Bunting:(0.8777) cub_017_Cardinal:(0.1957) cub_020_Yellow_breasted_Chat:(0.9727) cub_021_Eastern_Towhee:(0.9633) cub_026_Bronzed_Cowbird:(0.9039) cub_027_Shiny_Cowbird:(0.9513) cub_049_Boat_tailed_Grackle:(0.9451) cub_054_Blue_Grosbeak:(0.8797) cub_057_Rose_breasted_Grosbeak:(0.6729) cub_076_Dark_eyed_Junco:(0.7022) cub_088_Western_Meadowlark:(0.9834) cub_095_Baltimore_Oriole:(0.9617) cub_096_Hooded_Oriole:(0.8597) cub_097_Orchard_Oriole:(0.9588) cub_098_Scott_Oriole:(0.9853) cub_099_Ovenbird:(0.9949) cub_109_American_Redstart:(0.9877) cub_113_Baird_Sparrow:(0.9099) cub_114_Black_throated_Sparrow:(0.9699) cub_115_Brewer_Sparrow:(0.9774) cub_116_Chipping_Sparrow:(0.6569) cub_117_Clay_colored_Sparrow:(0.9864) cub_119_Field_Sparrow:(0.9452) cub_120_Fox_Sparrow:(0.8548) cub_121_Grasshopper_Sparrow:(0.9521) cub_122_Harris_Sparrow:(0.6067) cub_123_Henslow_Sparrow:(0.9727) cub_124_Le_Conte_Sparrow:(0.9885) cub_125_Lincoln_Sparrow:(0.9916) cub_126_Nelson_Sharp_tailed_Sparrow:(0.9247) cub_127_Savannah_Sparrow:(0.9636) cub_128_Seaside_Sparrow:(0.973) cub_129_Song_Sparrow:(0.9718) cub_130_Tree_Sparrow:(0.4644) cub_131_Vesper_Sparrow:(0.9776) cub_132_White_crowned_Sparrow:(0.8432) cub_133_White_throated_Sparrow:(0.9249) cub_139_Scarlet_Tanager:(0.6965) cub_140_Summer_Tanager:(0.7378) cub_148_Green_tailed_Towhee:(0.7344) cub_158_Bay_breasted_Warbler:(0.946) cub_159_Black_and_white_Warbler:(0.9895) cub_160_Black_throated_Blue_Warbler:(0.9889) cub_161_Blue_winged_Warbler:(0.9586) cub_162_Canada_Warbler:(0.9805) cub_163_Cape_May_Warbler:(0.9824) cub_164_Cerulean_Warbler:(0.979) cub_165_Chestnut_sided_Warbler:(0.9632) cub_166_Golden_winged_Warbler:(0.9782) cub_167_Hooded_Warbler:(0.9777) cub_168_Kentucky_Warbler:(0.9601) cub_169_Magnolia_Warbler:(0.9898) cub_170_Mourning_Warbler:(0.9801) cub_172_Nashville_Warbler:(0.9706) cub_173_Orange_crowned_Warbler:(0.9684) cub_174_Palm_Warbler:(0.934) cub_175_Pine_Warbler:(0.973) cub_176_Prairie_Warbler:(0.9656) cub_177_Prothonotary_Warbler:(0.987) cub_178_Swainson_Warbler:(0.9862) cub_179_Tennessee_Warbler:(0.97) cub_180_Wilson_Warbler:(0.9816) cub_181_Worm_eating_Warbler:(0.9605) cub_182_Yellow_Warbler:(0.9927) cub_183_Northern_Waterthrush:(0.9786) cub_184_Louisiana_Waterthrush:(0.9858) cub_200_Common_Yellowthroat:(0.977) \n",
      "\t\tProto:9 cub_009_Brewer_Blackbird:(0.9627) cub_010_Red_winged_Blackbird:(0.5576) cub_011_Rusty_Blackbird:(0.8496) cub_012_Yellow_headed_Blackbird:(0.6663) cub_013_Bobolink:(0.7121) cub_014_Indigo_Bunting:(0.8149) cub_015_Lazuli_Bunting:(0.8535) cub_016_Painted_Bunting:(0.784) cub_017_Cardinal:(0.3861) cub_020_Yellow_breasted_Chat:(0.769) cub_021_Eastern_Towhee:(0.6817) cub_026_Bronzed_Cowbird:(0.6376) cub_027_Shiny_Cowbird:(0.8023) cub_049_Boat_tailed_Grackle:(0.7947) cub_054_Blue_Grosbeak:(0.6729) cub_057_Rose_breasted_Grosbeak:(0.6675) cub_076_Dark_eyed_Junco:(0.7757) cub_088_Western_Meadowlark:(0.9131) cub_095_Baltimore_Oriole:(0.8774) cub_096_Hooded_Oriole:(0.8166) cub_097_Orchard_Oriole:(0.5909) cub_098_Scott_Oriole:(0.5853) cub_099_Ovenbird:(0.8485) cub_109_American_Redstart:(0.72) cub_113_Baird_Sparrow:(0.9198) cub_114_Black_throated_Sparrow:(0.9013) cub_115_Brewer_Sparrow:(0.9502) cub_116_Chipping_Sparrow:(0.949) cub_117_Clay_colored_Sparrow:(0.7809) cub_119_Field_Sparrow:(0.9852) cub_120_Fox_Sparrow:(0.8259) cub_121_Grasshopper_Sparrow:(0.8299) cub_122_Harris_Sparrow:(0.3634) cub_123_Henslow_Sparrow:(0.8965) cub_124_Le_Conte_Sparrow:(0.7696) cub_125_Lincoln_Sparrow:(0.9352) cub_126_Nelson_Sharp_tailed_Sparrow:(0.6976) cub_127_Savannah_Sparrow:(0.8701) cub_128_Seaside_Sparrow:(0.8672) cub_129_Song_Sparrow:(0.9309) cub_130_Tree_Sparrow:(0.9698) cub_131_Vesper_Sparrow:(0.8462) cub_132_White_crowned_Sparrow:(0.9372) cub_133_White_throated_Sparrow:(0.8745) cub_139_Scarlet_Tanager:(0.9009) cub_140_Summer_Tanager:(0.9212) cub_148_Green_tailed_Towhee:(0.8448) cub_158_Bay_breasted_Warbler:(0.6167) cub_159_Black_and_white_Warbler:(0.7084) cub_160_Black_throated_Blue_Warbler:(0.7787) cub_161_Blue_winged_Warbler:(0.4677) cub_162_Canada_Warbler:(0.9621) cub_163_Cape_May_Warbler:(0.7624) cub_164_Cerulean_Warbler:(0.881) cub_165_Chestnut_sided_Warbler:(0.7529) cub_166_Golden_winged_Warbler:(0.8186) cub_167_Hooded_Warbler:(0.7844) cub_168_Kentucky_Warbler:(0.844) cub_169_Magnolia_Warbler:(0.69) cub_170_Mourning_Warbler:(0.5999) cub_172_Nashville_Warbler:(0.8246) cub_173_Orange_crowned_Warbler:(0.6036) cub_174_Palm_Warbler:(0.9532) cub_175_Pine_Warbler:(0.6629) cub_176_Prairie_Warbler:(0.7176) cub_177_Prothonotary_Warbler:(0.5568) cub_178_Swainson_Warbler:(0.9372) cub_179_Tennessee_Warbler:(0.8892) cub_180_Wilson_Warbler:(0.8102) cub_181_Worm_eating_Warbler:(0.8917) cub_182_Yellow_Warbler:(0.5768) cub_183_Northern_Waterthrush:(0.922) cub_184_Louisiana_Waterthrush:(0.8902) cub_200_Common_Yellowthroat:(0.8788) \n",
      "\t Child: 035+055\n",
      "\t\tProto:17 cub_034_Gray_crowned_Rosy_Finch:(0.3451) cub_035_Purple_Finch:(0.9932) cub_047_American_Goldfinch:(0.2435) cub_048_European_Goldfinch:(0.1939) cub_055_Evening_Grosbeak:(0.9854) cub_056_Pine_Grosbeak:(0.9383) \n",
      "\t\tProto:18 cub_034_Gray_crowned_Rosy_Finch:(0.0797) cub_035_Purple_Finch:(0.1313) cub_047_American_Goldfinch:(0.0799) cub_048_European_Goldfinch:(0.0866) cub_055_Evening_Grosbeak:(0.1619) cub_056_Pine_Grosbeak:(0.1023) \n",
      "\t\tProto:19 cub_034_Gray_crowned_Rosy_Finch:(0.9948) cub_035_Purple_Finch:(0.022) cub_047_American_Goldfinch:(0.937) cub_048_European_Goldfinch:(0.9945) cub_055_Evening_Grosbeak:(0.0742) cub_056_Pine_Grosbeak:(0.0203) \n",
      "\t\tProto:13 cub_034_Gray_crowned_Rosy_Finch:(0.066) cub_035_Purple_Finch:(0.4976) cub_047_American_Goldfinch:(0.0814) cub_048_European_Goldfinch:(0.063) cub_055_Evening_Grosbeak:(0.0865) cub_056_Pine_Grosbeak:(0.2329) \n"
     ]
    },
    {
     "name": "stderr",
     "output_type": "stream",
     "text": [
      "Collecting topk: 269it [00:17, 15.54it/s]  \n"
     ]
    },
    {
     "name": "stdout",
     "output_type": "stream",
     "text": [
      "Node 199+094\n",
      "\t Child: 199+028\n",
      "\t\tProto:0 cub_028_Brown_Creeper:(0.9945) cub_193_Bewick_Wren:(0.9999) cub_194_Cactus_Wren:(0.9998) cub_195_Carolina_Wren:(0.9995) cub_196_House_Wren:(0.9997) cub_197_Marsh_Wren:(0.9993) cub_198_Rock_Wren:(0.9999) cub_199_Winter_Wren:(0.9989) \n",
      "\t\tProto:1 cub_028_Brown_Creeper:(0.9965) cub_193_Bewick_Wren:(0.9995) cub_194_Cactus_Wren:(1.0) cub_195_Carolina_Wren:(0.998) cub_196_House_Wren:(0.9991) cub_197_Marsh_Wren:(0.9991) cub_198_Rock_Wren:(0.9998) cub_199_Winter_Wren:(0.999) \n",
      "\t\tProto:8 cub_028_Brown_Creeper:(0.8996) cub_193_Bewick_Wren:(0.9992) cub_194_Cactus_Wren:(0.9997) cub_195_Carolina_Wren:(0.9984) cub_196_House_Wren:(0.9987) cub_197_Marsh_Wren:(0.9925) cub_198_Rock_Wren:(0.9991) cub_199_Winter_Wren:(0.9994) \n",
      "\t Child: cub_094_White_breasted_Nuthatch\n",
      "\t\tProto:12 cub_094_White_breasted_Nuthatch:(0.998) \n",
      "\t\tProto:13 cub_094_White_breasted_Nuthatch:(0.9996) \n"
     ]
    },
    {
     "name": "stderr",
     "output_type": "stream",
     "text": [
      "Collecting topk: 118it [00:10, 10.94it/s]  \n"
     ]
    },
    {
     "name": "stdout",
     "output_type": "stream",
     "text": [
      "Node 150+019\n",
      "\t Child: 150+149\n",
      "\t\tProto:9 cub_091_Mockingbird:(0.9998) cub_149_Brown_Thrasher:(1.0) cub_150_Sage_Thrasher:(1.0) \n",
      "\t\tProto:5 cub_091_Mockingbird:(0.9989) cub_149_Brown_Thrasher:(1.0) cub_150_Sage_Thrasher:(0.9998) \n",
      "\t Child: cub_019_Gray_Catbird\n",
      "\t\tProto:14 cub_019_Gray_Catbird:(1.0) \n"
     ]
    },
    {
     "name": "stderr",
     "output_type": "stream",
     "text": [
      "Collecting topk: 120it [00:10, 11.43it/s]  \n"
     ]
    },
    {
     "name": "stdout",
     "output_type": "stream",
     "text": [
      "Node 107+030\n",
      "\t Child: 107+029\n",
      "\t\tProto:9 cub_029_American_Crow:(0.9828) cub_107_Common_Raven:(0.9981) cub_108_White_necked_Raven:(1.0) \n",
      "\t Child: cub_030_Fish_Crow\n",
      "\t\tProto:11 cub_030_Fish_Crow:(0.9943) \n"
     ]
    },
    {
     "name": "stderr",
     "output_type": "stream",
     "text": [
      "Collecting topk: 2181it [01:37, 22.27it/s]\n"
     ]
    },
    {
     "name": "stdout",
     "output_type": "stream",
     "text": [
      "Node 129+054\n",
      "\t Child: 129+175\n",
      "\t\tProto:8 cub_009_Brewer_Blackbird:(0.9962) cub_010_Red_winged_Blackbird:(0.9331) cub_011_Rusty_Blackbird:(0.9807) cub_012_Yellow_headed_Blackbird:(0.9736) cub_013_Bobolink:(0.9914) cub_020_Yellow_breasted_Chat:(0.9938) cub_021_Eastern_Towhee:(0.9013) cub_026_Bronzed_Cowbird:(0.985) cub_027_Shiny_Cowbird:(0.9291) cub_049_Boat_tailed_Grackle:(0.934) cub_076_Dark_eyed_Junco:(0.9713) cub_088_Western_Meadowlark:(0.9993) cub_095_Baltimore_Oriole:(0.9828) cub_096_Hooded_Oriole:(0.9816) cub_097_Orchard_Oriole:(0.9163) cub_098_Scott_Oriole:(0.9939) cub_099_Ovenbird:(0.9979) cub_109_American_Redstart:(0.9742) cub_113_Baird_Sparrow:(0.9971) cub_114_Black_throated_Sparrow:(0.9882) cub_115_Brewer_Sparrow:(0.9965) cub_116_Chipping_Sparrow:(0.9974) cub_117_Clay_colored_Sparrow:(0.9985) cub_119_Field_Sparrow:(0.9966) cub_120_Fox_Sparrow:(0.9969) cub_121_Grasshopper_Sparrow:(0.9963) cub_122_Harris_Sparrow:(0.9585) cub_123_Henslow_Sparrow:(0.9981) cub_124_Le_Conte_Sparrow:(0.9955) cub_125_Lincoln_Sparrow:(0.9947) cub_126_Nelson_Sharp_tailed_Sparrow:(0.9832) cub_127_Savannah_Sparrow:(0.9995) cub_128_Seaside_Sparrow:(0.997) cub_129_Song_Sparrow:(0.9966) cub_130_Tree_Sparrow:(0.9828) cub_131_Vesper_Sparrow:(0.9977) cub_132_White_crowned_Sparrow:(0.9965) cub_133_White_throated_Sparrow:(0.9988) cub_148_Green_tailed_Towhee:(0.9101) cub_158_Bay_breasted_Warbler:(0.9768) cub_159_Black_and_white_Warbler:(0.9986) cub_160_Black_throated_Blue_Warbler:(0.9826) cub_161_Blue_winged_Warbler:(0.9963) cub_162_Canada_Warbler:(0.9993) cub_163_Cape_May_Warbler:(0.9995) cub_164_Cerulean_Warbler:(0.976) cub_165_Chestnut_sided_Warbler:(0.9916) cub_166_Golden_winged_Warbler:(0.9976) cub_167_Hooded_Warbler:(0.9995) cub_168_Kentucky_Warbler:(0.9996) cub_169_Magnolia_Warbler:(0.9996) cub_170_Mourning_Warbler:(0.9628) cub_172_Nashville_Warbler:(0.9952) cub_173_Orange_crowned_Warbler:(0.9733) cub_174_Palm_Warbler:(0.9997) cub_175_Pine_Warbler:(0.9941) cub_176_Prairie_Warbler:(0.999) cub_177_Prothonotary_Warbler:(0.9835) cub_178_Swainson_Warbler:(0.9973) cub_179_Tennessee_Warbler:(0.9916) cub_180_Wilson_Warbler:(0.9957) cub_181_Worm_eating_Warbler:(0.9992) cub_182_Yellow_Warbler:(0.9947) cub_183_Northern_Waterthrush:(0.9992) cub_184_Louisiana_Waterthrush:(0.9993) cub_200_Common_Yellowthroat:(0.9959) \n",
      "\t\tProto:4 cub_009_Brewer_Blackbird:(0.8877) cub_010_Red_winged_Blackbird:(0.7277) cub_011_Rusty_Blackbird:(0.9585) cub_012_Yellow_headed_Blackbird:(0.9534) cub_013_Bobolink:(0.9547) cub_020_Yellow_breasted_Chat:(0.9837) cub_021_Eastern_Towhee:(0.7427) cub_026_Bronzed_Cowbird:(0.9056) cub_027_Shiny_Cowbird:(0.8707) cub_049_Boat_tailed_Grackle:(0.8036) cub_076_Dark_eyed_Junco:(0.3854) cub_088_Western_Meadowlark:(0.9857) cub_095_Baltimore_Oriole:(0.8855) cub_096_Hooded_Oriole:(0.9598) cub_097_Orchard_Oriole:(0.6539) cub_098_Scott_Oriole:(0.9782) cub_099_Ovenbird:(0.9896) cub_109_American_Redstart:(0.905) cub_113_Baird_Sparrow:(0.9773) cub_114_Black_throated_Sparrow:(0.9207) cub_115_Brewer_Sparrow:(0.9582) cub_116_Chipping_Sparrow:(0.9493) cub_117_Clay_colored_Sparrow:(0.9813) cub_119_Field_Sparrow:(0.9087) cub_120_Fox_Sparrow:(0.9251) cub_121_Grasshopper_Sparrow:(0.9792) cub_122_Harris_Sparrow:(0.8414) cub_123_Henslow_Sparrow:(0.9862) cub_124_Le_Conte_Sparrow:(0.8711) cub_125_Lincoln_Sparrow:(0.9531) cub_126_Nelson_Sharp_tailed_Sparrow:(0.9257) cub_127_Savannah_Sparrow:(0.9934) cub_128_Seaside_Sparrow:(0.9787) cub_129_Song_Sparrow:(0.9449) cub_130_Tree_Sparrow:(0.9153) cub_131_Vesper_Sparrow:(0.9666) cub_132_White_crowned_Sparrow:(0.8413) cub_133_White_throated_Sparrow:(0.9724) cub_148_Green_tailed_Towhee:(0.8945) cub_158_Bay_breasted_Warbler:(0.8825) cub_159_Black_and_white_Warbler:(0.9807) cub_160_Black_throated_Blue_Warbler:(0.9439) cub_161_Blue_winged_Warbler:(0.9714) cub_162_Canada_Warbler:(0.9922) cub_163_Cape_May_Warbler:(0.9875) cub_164_Cerulean_Warbler:(0.8761) cub_165_Chestnut_sided_Warbler:(0.9898) cub_166_Golden_winged_Warbler:(0.9927) cub_167_Hooded_Warbler:(0.961) cub_168_Kentucky_Warbler:(0.9854) cub_169_Magnolia_Warbler:(0.981) cub_170_Mourning_Warbler:(0.7979) cub_172_Nashville_Warbler:(0.8881) cub_173_Orange_crowned_Warbler:(0.9059) cub_174_Palm_Warbler:(0.9902) cub_175_Pine_Warbler:(0.9314) cub_176_Prairie_Warbler:(0.9899) cub_177_Prothonotary_Warbler:(0.9371) cub_178_Swainson_Warbler:(0.9668) cub_179_Tennessee_Warbler:(0.9461) cub_180_Wilson_Warbler:(0.9431) cub_181_Worm_eating_Warbler:(0.955) cub_182_Yellow_Warbler:(0.9302) cub_183_Northern_Waterthrush:(0.9953) cub_184_Louisiana_Waterthrush:(0.9966) cub_200_Common_Yellowthroat:(0.9944) \n",
      "\t\tProto:6 cub_009_Brewer_Blackbird:(0.9884) cub_010_Red_winged_Blackbird:(0.9163) cub_011_Rusty_Blackbird:(0.9981) cub_012_Yellow_headed_Blackbird:(0.9921) cub_013_Bobolink:(0.8909) cub_020_Yellow_breasted_Chat:(0.9984) cub_021_Eastern_Towhee:(0.9407) cub_026_Bronzed_Cowbird:(0.9868) cub_027_Shiny_Cowbird:(0.9904) cub_049_Boat_tailed_Grackle:(0.9848) cub_076_Dark_eyed_Junco:(0.7462) cub_088_Western_Meadowlark:(0.9993) cub_095_Baltimore_Oriole:(0.9871) cub_096_Hooded_Oriole:(0.9945) cub_097_Orchard_Oriole:(0.9402) cub_098_Scott_Oriole:(0.9765) cub_099_Ovenbird:(0.9982) cub_109_American_Redstart:(0.9771) cub_113_Baird_Sparrow:(0.9963) cub_114_Black_throated_Sparrow:(0.9937) cub_115_Brewer_Sparrow:(0.9894) cub_116_Chipping_Sparrow:(0.9938) cub_117_Clay_colored_Sparrow:(0.9932) cub_119_Field_Sparrow:(0.9796) cub_120_Fox_Sparrow:(0.9937) cub_121_Grasshopper_Sparrow:(0.9941) cub_122_Harris_Sparrow:(0.9946) cub_123_Henslow_Sparrow:(0.9991) cub_124_Le_Conte_Sparrow:(0.9975) cub_125_Lincoln_Sparrow:(0.9976) cub_126_Nelson_Sharp_tailed_Sparrow:(0.9976) cub_127_Savannah_Sparrow:(0.9983) cub_128_Seaside_Sparrow:(0.9993) cub_129_Song_Sparrow:(0.9936) cub_130_Tree_Sparrow:(0.9965) cub_131_Vesper_Sparrow:(0.9935) cub_132_White_crowned_Sparrow:(0.9975) cub_133_White_throated_Sparrow:(0.9998) cub_148_Green_tailed_Towhee:(0.9919) cub_158_Bay_breasted_Warbler:(0.9963) cub_159_Black_and_white_Warbler:(0.9963) cub_160_Black_throated_Blue_Warbler:(0.987) cub_161_Blue_winged_Warbler:(0.9895) cub_162_Canada_Warbler:(0.997) cub_163_Cape_May_Warbler:(0.9997) cub_164_Cerulean_Warbler:(0.9828) cub_165_Chestnut_sided_Warbler:(0.9987) cub_166_Golden_winged_Warbler:(0.999) cub_167_Hooded_Warbler:(0.9963) cub_168_Kentucky_Warbler:(0.9973) cub_169_Magnolia_Warbler:(0.9983) cub_170_Mourning_Warbler:(0.9773) cub_172_Nashville_Warbler:(0.9882) cub_173_Orange_crowned_Warbler:(0.9904) cub_174_Palm_Warbler:(0.9983) cub_175_Pine_Warbler:(0.9909) cub_176_Prairie_Warbler:(0.9963) cub_177_Prothonotary_Warbler:(0.9804) cub_178_Swainson_Warbler:(0.9944) cub_179_Tennessee_Warbler:(0.9951) cub_180_Wilson_Warbler:(0.962) cub_181_Worm_eating_Warbler:(0.9985) cub_182_Yellow_Warbler:(0.9901) cub_183_Northern_Waterthrush:(0.9938) cub_184_Louisiana_Waterthrush:(0.9983) cub_200_Common_Yellowthroat:(0.9988) \n",
      "\t Child: 054+140\n",
      "\t\tProto:17 cub_014_Indigo_Bunting:(0.9046) cub_015_Lazuli_Bunting:(0.2249) cub_016_Painted_Bunting:(0.9571) cub_017_Cardinal:(0.8601) cub_054_Blue_Grosbeak:(0.7142) cub_057_Rose_breasted_Grosbeak:(0.9735) cub_139_Scarlet_Tanager:(0.9931) cub_140_Summer_Tanager:(0.9961) \n",
      "\t\tProto:11 cub_014_Indigo_Bunting:(0.1974) cub_015_Lazuli_Bunting:(0.1161) cub_016_Painted_Bunting:(0.157) cub_017_Cardinal:(0.1766) cub_054_Blue_Grosbeak:(0.1904) cub_057_Rose_breasted_Grosbeak:(0.1098) cub_139_Scarlet_Tanager:(0.558) cub_140_Summer_Tanager:(0.4276) \n",
      "\t\tProto:13 cub_014_Indigo_Bunting:(0.2163) cub_015_Lazuli_Bunting:(0.139) cub_016_Painted_Bunting:(0.292) cub_017_Cardinal:(0.187) cub_054_Blue_Grosbeak:(0.2359) cub_057_Rose_breasted_Grosbeak:(0.3368) cub_139_Scarlet_Tanager:(0.2239) cub_140_Summer_Tanager:(0.254) \n",
      "\t\tProto:15 cub_014_Indigo_Bunting:(0.9448) cub_015_Lazuli_Bunting:(0.9958) cub_016_Painted_Bunting:(0.9374) cub_017_Cardinal:(0.95) cub_054_Blue_Grosbeak:(0.9472) cub_057_Rose_breasted_Grosbeak:(0.5081) cub_139_Scarlet_Tanager:(0.9819) cub_140_Summer_Tanager:(0.9669) \n"
     ]
    },
    {
     "name": "stderr",
     "output_type": "stream",
     "text": [
      "Collecting topk: 179it [00:13, 13.10it/s]  \n"
     ]
    },
    {
     "name": "stdout",
     "output_type": "stream",
     "text": [
      "Node 035+055\n",
      "\t Child: 035+048\n",
      "\t\tProto:0 cub_034_Gray_crowned_Rosy_Finch:(1.0) cub_035_Purple_Finch:(1.0) cub_047_American_Goldfinch:(1.0) cub_048_European_Goldfinch:(1.0) cub_056_Pine_Grosbeak:(1.0) \n",
      "\t\tProto:1 cub_034_Gray_crowned_Rosy_Finch:(1.0) cub_035_Purple_Finch:(1.0) cub_047_American_Goldfinch:(1.0) cub_048_European_Goldfinch:(1.0) cub_056_Pine_Grosbeak:(1.0) \n",
      "\t Child: cub_055_Evening_Grosbeak\n",
      "\t\tProto:11 cub_055_Evening_Grosbeak:(1.0) \n",
      "\t\tProto:13 cub_055_Evening_Grosbeak:(1.0) \n",
      "\t\tProto:15 cub_055_Evening_Grosbeak:(1.0) \n",
      "\t\tProto:17 cub_055_Evening_Grosbeak:(1.0) \n",
      "\t\tProto:19 cub_055_Evening_Grosbeak:(1.0) \n"
     ]
    },
    {
     "name": "stderr",
     "output_type": "stream",
     "text": [
      "Collecting topk: 239it [00:15, 15.05it/s]  \n"
     ]
    },
    {
     "name": "stdout",
     "output_type": "stream",
     "text": [
      "Node 199+028\n",
      "\t Child: 199+198\n",
      "\t\tProto:0 cub_193_Bewick_Wren:(0.9999) cub_194_Cactus_Wren:(1.0) cub_195_Carolina_Wren:(0.9999) cub_196_House_Wren:(1.0) cub_197_Marsh_Wren:(1.0) cub_198_Rock_Wren:(1.0) cub_199_Winter_Wren:(0.9999) \n",
      "\t\tProto:2 cub_193_Bewick_Wren:(1.0) cub_194_Cactus_Wren:(0.9999) cub_195_Carolina_Wren:(1.0) cub_196_House_Wren:(0.9999) cub_197_Marsh_Wren:(1.0) cub_198_Rock_Wren:(0.9999) cub_199_Winter_Wren:(0.9998) \n",
      "\t\tProto:5 cub_193_Bewick_Wren:(0.9995) cub_194_Cactus_Wren:(0.9985) cub_195_Carolina_Wren:(1.0) cub_196_House_Wren:(0.9997) cub_197_Marsh_Wren:(0.9995) cub_198_Rock_Wren:(0.9999) cub_199_Winter_Wren:(0.9996) \n",
      "\t\tProto:7 cub_193_Bewick_Wren:(0.9999) cub_194_Cactus_Wren:(1.0) cub_195_Carolina_Wren:(1.0) cub_196_House_Wren:(1.0) cub_197_Marsh_Wren:(0.9999) cub_198_Rock_Wren:(1.0) cub_199_Winter_Wren:(1.0) \n",
      "\t Child: cub_028_Brown_Creeper\n",
      "\t\tProto:16 cub_028_Brown_Creeper:(1.0) \n",
      "\t\tProto:17 cub_028_Brown_Creeper:(1.0) \n",
      "\t\tProto:11 cub_028_Brown_Creeper:(1.0) \n",
      "\t\tProto:15 cub_028_Brown_Creeper:(1.0) \n"
     ]
    },
    {
     "name": "stderr",
     "output_type": "stream",
     "text": [
      "Collecting topk: 89it [00:09,  9.55it/s]   \n"
     ]
    },
    {
     "name": "stdout",
     "output_type": "stream",
     "text": [
      "Node 150+149\n",
      "\t Child: 150+091\n",
      "\t\tProto:8 cub_091_Mockingbird:(1.0) cub_150_Sage_Thrasher:(1.0) \n",
      "\t Child: cub_149_Brown_Thrasher\n",
      "\t\tProto:17 cub_149_Brown_Thrasher:(1.0) \n",
      "\t\tProto:12 cub_149_Brown_Thrasher:(0.9978) \n"
     ]
    },
    {
     "name": "stderr",
     "output_type": "stream",
     "text": [
      "Collecting topk: 90it [00:09,  9.32it/s]   \n"
     ]
    },
    {
     "name": "stdout",
     "output_type": "stream",
     "text": [
      "Node 107+029\n",
      "\t Child: 107+108\n",
      "\t\tProto:1 cub_107_Common_Raven:(0.9988) cub_108_White_necked_Raven:(1.0) \n",
      "\t Child: cub_029_American_Crow\n",
      "\t\tProto:11 cub_029_American_Crow:(0.9999) \n",
      "\t\tProto:14 cub_029_American_Crow:(0.9976) \n"
     ]
    },
    {
     "name": "stderr",
     "output_type": "stream",
     "text": [
      "Collecting topk: 1948it [01:29, 21.85it/s]\n"
     ]
    },
    {
     "name": "stdout",
     "output_type": "stream",
     "text": [
      "Node 129+175\n",
      "\t Child: 129+011\n",
      "\t\tProto:0 cub_009_Brewer_Blackbird:(0.9993) cub_010_Red_winged_Blackbird:(0.9915) cub_011_Rusty_Blackbird:(0.996) cub_012_Yellow_headed_Blackbird:(0.9951) cub_013_Bobolink:(0.9539) cub_021_Eastern_Towhee:(0.7178) cub_026_Bronzed_Cowbird:(0.9389) cub_027_Shiny_Cowbird:(0.9992) cub_049_Boat_tailed_Grackle:(0.9948) cub_076_Dark_eyed_Junco:(0.6906) cub_088_Western_Meadowlark:(0.0385) cub_095_Baltimore_Oriole:(0.9977) cub_096_Hooded_Oriole:(0.9934) cub_097_Orchard_Oriole:(0.9854) cub_098_Scott_Oriole:(0.5648) cub_113_Baird_Sparrow:(0.1451) cub_114_Black_throated_Sparrow:(0.9789) cub_115_Brewer_Sparrow:(0.309) cub_116_Chipping_Sparrow:(0.062) cub_117_Clay_colored_Sparrow:(0.0973) cub_119_Field_Sparrow:(0.2401) cub_120_Fox_Sparrow:(0.4549) cub_121_Grasshopper_Sparrow:(0.1074) cub_122_Harris_Sparrow:(0.2367) cub_123_Henslow_Sparrow:(0.026) cub_124_Le_Conte_Sparrow:(0.0371) cub_125_Lincoln_Sparrow:(0.1407) cub_126_Nelson_Sharp_tailed_Sparrow:(0.4235) cub_127_Savannah_Sparrow:(0.1233) cub_128_Seaside_Sparrow:(0.4379) cub_129_Song_Sparrow:(0.3355) cub_130_Tree_Sparrow:(0.19) cub_131_Vesper_Sparrow:(0.6142) cub_132_White_crowned_Sparrow:(0.0565) cub_133_White_throated_Sparrow:(0.0676) cub_148_Green_tailed_Towhee:(0.3396) \n",
      "\t\tProto:1 cub_009_Brewer_Blackbird:(0.4161) cub_010_Red_winged_Blackbird:(0.3111) cub_011_Rusty_Blackbird:(0.41) cub_012_Yellow_headed_Blackbird:(0.1922) cub_013_Bobolink:(0.8465) cub_021_Eastern_Towhee:(0.3868) cub_026_Bronzed_Cowbird:(0.339) cub_027_Shiny_Cowbird:(0.1028) cub_049_Boat_tailed_Grackle:(0.3417) cub_076_Dark_eyed_Junco:(0.1393) cub_088_Western_Meadowlark:(0.9875) cub_095_Baltimore_Oriole:(0.1196) cub_096_Hooded_Oriole:(0.1216) cub_097_Orchard_Oriole:(0.2022) cub_098_Scott_Oriole:(0.9486) cub_113_Baird_Sparrow:(0.5637) cub_114_Black_throated_Sparrow:(0.0413) cub_115_Brewer_Sparrow:(0.5527) cub_116_Chipping_Sparrow:(0.0997) cub_117_Clay_colored_Sparrow:(0.4496) cub_119_Field_Sparrow:(0.4335) cub_120_Fox_Sparrow:(0.1739) cub_121_Grasshopper_Sparrow:(0.8258) cub_122_Harris_Sparrow:(0.9046) cub_123_Henslow_Sparrow:(0.9501) cub_124_Le_Conte_Sparrow:(0.943) cub_125_Lincoln_Sparrow:(0.5348) cub_126_Nelson_Sharp_tailed_Sparrow:(0.8961) cub_127_Savannah_Sparrow:(0.741) cub_128_Seaside_Sparrow:(0.7728) cub_129_Song_Sparrow:(0.3792) cub_130_Tree_Sparrow:(0.1326) cub_131_Vesper_Sparrow:(0.4712) cub_132_White_crowned_Sparrow:(0.0519) cub_133_White_throated_Sparrow:(0.5817) cub_148_Green_tailed_Towhee:(0.0343) \n",
      "\t\tProto:4 cub_009_Brewer_Blackbird:(0.2669) cub_010_Red_winged_Blackbird:(0.3632) cub_011_Rusty_Blackbird:(0.6788) cub_012_Yellow_headed_Blackbird:(0.0427) cub_013_Bobolink:(0.656) cub_021_Eastern_Towhee:(0.8655) cub_026_Bronzed_Cowbird:(0.973) cub_027_Shiny_Cowbird:(0.399) cub_049_Boat_tailed_Grackle:(0.2246) cub_076_Dark_eyed_Junco:(0.9867) cub_088_Western_Meadowlark:(0.9054) cub_095_Baltimore_Oriole:(0.0152) cub_096_Hooded_Oriole:(0.2583) cub_097_Orchard_Oriole:(0.4215) cub_098_Scott_Oriole:(0.3544) cub_113_Baird_Sparrow:(0.9953) cub_114_Black_throated_Sparrow:(0.6659) cub_115_Brewer_Sparrow:(0.997) cub_116_Chipping_Sparrow:(0.9985) cub_117_Clay_colored_Sparrow:(0.9966) cub_119_Field_Sparrow:(0.9966) cub_120_Fox_Sparrow:(0.9988) cub_121_Grasshopper_Sparrow:(0.9804) cub_122_Harris_Sparrow:(0.9983) cub_123_Henslow_Sparrow:(0.8929) cub_124_Le_Conte_Sparrow:(0.9827) cub_125_Lincoln_Sparrow:(0.9962) cub_126_Nelson_Sharp_tailed_Sparrow:(0.9597) cub_127_Savannah_Sparrow:(0.9931) cub_128_Seaside_Sparrow:(0.9948) cub_129_Song_Sparrow:(0.9956) cub_130_Tree_Sparrow:(0.9995) cub_131_Vesper_Sparrow:(0.9938) cub_132_White_crowned_Sparrow:(0.9994) cub_133_White_throated_Sparrow:(0.9995) cub_148_Green_tailed_Towhee:(0.9925) \n",
      "\t Child: 175+020\n",
      "\t\tProto:11 cub_020_Yellow_breasted_Chat:(0.8648) cub_099_Ovenbird:(0.9669) cub_109_American_Redstart:(0.1545) cub_158_Bay_breasted_Warbler:(0.2816) cub_159_Black_and_white_Warbler:(0.6466) cub_160_Black_throated_Blue_Warbler:(0.2738) cub_161_Blue_winged_Warbler:(0.9227) cub_162_Canada_Warbler:(0.8881) cub_163_Cape_May_Warbler:(0.8893) cub_164_Cerulean_Warbler:(0.305) cub_165_Chestnut_sided_Warbler:(0.6707) cub_166_Golden_winged_Warbler:(0.6335) cub_167_Hooded_Warbler:(0.9544) cub_168_Kentucky_Warbler:(0.9733) cub_169_Magnolia_Warbler:(0.7673) cub_170_Mourning_Warbler:(0.4431) cub_172_Nashville_Warbler:(0.7732) cub_173_Orange_crowned_Warbler:(0.8025) cub_174_Palm_Warbler:(0.5881) cub_175_Pine_Warbler:(0.916) cub_176_Prairie_Warbler:(0.9333) cub_177_Prothonotary_Warbler:(0.9686) cub_178_Swainson_Warbler:(0.9808) cub_179_Tennessee_Warbler:(0.9071) cub_180_Wilson_Warbler:(0.9031) cub_181_Worm_eating_Warbler:(0.9393) cub_182_Yellow_Warbler:(0.9103) cub_183_Northern_Waterthrush:(0.8839) cub_184_Louisiana_Waterthrush:(0.9274) cub_200_Common_Yellowthroat:(0.7764) \n",
      "\t\tProto:14 cub_020_Yellow_breasted_Chat:(0.9917) cub_099_Ovenbird:(0.7912) cub_109_American_Redstart:(0.9725) cub_158_Bay_breasted_Warbler:(0.9949) cub_159_Black_and_white_Warbler:(0.9947) cub_160_Black_throated_Blue_Warbler:(0.9983) cub_161_Blue_winged_Warbler:(0.9872) cub_162_Canada_Warbler:(0.9987) cub_163_Cape_May_Warbler:(0.9937) cub_164_Cerulean_Warbler:(0.9995) cub_165_Chestnut_sided_Warbler:(0.9938) cub_166_Golden_winged_Warbler:(0.9926) cub_167_Hooded_Warbler:(0.991) cub_168_Kentucky_Warbler:(0.998) cub_169_Magnolia_Warbler:(0.9995) cub_170_Mourning_Warbler:(0.99) cub_172_Nashville_Warbler:(0.9983) cub_173_Orange_crowned_Warbler:(0.9816) cub_174_Palm_Warbler:(0.9778) cub_175_Pine_Warbler:(0.9948) cub_176_Prairie_Warbler:(0.9973) cub_177_Prothonotary_Warbler:(0.9647) cub_178_Swainson_Warbler:(0.91) cub_179_Tennessee_Warbler:(0.9986) cub_180_Wilson_Warbler:(0.9965) cub_181_Worm_eating_Warbler:(0.9963) cub_182_Yellow_Warbler:(0.9654) cub_183_Northern_Waterthrush:(0.9608) cub_184_Louisiana_Waterthrush:(0.9835) cub_200_Common_Yellowthroat:(0.9959) \n",
      "\t\tProto:15 cub_020_Yellow_breasted_Chat:(0.3944) cub_099_Ovenbird:(0.1692) cub_109_American_Redstart:(0.2807) cub_158_Bay_breasted_Warbler:(0.4926) cub_159_Black_and_white_Warbler:(0.4004) cub_160_Black_throated_Blue_Warbler:(0.3206) cub_161_Blue_winged_Warbler:(0.699) cub_162_Canada_Warbler:(0.6697) cub_163_Cape_May_Warbler:(0.7631) cub_164_Cerulean_Warbler:(0.7822) cub_165_Chestnut_sided_Warbler:(0.4959) cub_166_Golden_winged_Warbler:(0.5685) cub_167_Hooded_Warbler:(0.7456) cub_168_Kentucky_Warbler:(0.9451) cub_169_Magnolia_Warbler:(0.7019) cub_170_Mourning_Warbler:(0.6295) cub_172_Nashville_Warbler:(0.673) cub_173_Orange_crowned_Warbler:(0.6625) cub_174_Palm_Warbler:(0.4333) cub_175_Pine_Warbler:(0.8436) cub_176_Prairie_Warbler:(0.8692) cub_177_Prothonotary_Warbler:(0.6805) cub_178_Swainson_Warbler:(0.3602) cub_179_Tennessee_Warbler:(0.8332) cub_180_Wilson_Warbler:(0.8249) cub_181_Worm_eating_Warbler:(0.2228) cub_182_Yellow_Warbler:(0.5379) cub_183_Northern_Waterthrush:(0.2736) cub_184_Louisiana_Waterthrush:(0.4558) cub_200_Common_Yellowthroat:(0.7128) \n",
      "\t\tProto:16 cub_020_Yellow_breasted_Chat:(0.8253) cub_099_Ovenbird:(0.3675) cub_109_American_Redstart:(0.1379) cub_158_Bay_breasted_Warbler:(0.2182) cub_159_Black_and_white_Warbler:(0.6199) cub_160_Black_throated_Blue_Warbler:(0.3708) cub_161_Blue_winged_Warbler:(0.9657) cub_162_Canada_Warbler:(0.9553) cub_163_Cape_May_Warbler:(0.6949) cub_164_Cerulean_Warbler:(0.7625) cub_165_Chestnut_sided_Warbler:(0.4848) cub_166_Golden_winged_Warbler:(0.6675) cub_167_Hooded_Warbler:(0.9078) cub_168_Kentucky_Warbler:(0.9856) cub_169_Magnolia_Warbler:(0.9457) cub_170_Mourning_Warbler:(0.4982) cub_172_Nashville_Warbler:(0.9775) cub_173_Orange_crowned_Warbler:(0.9631) cub_174_Palm_Warbler:(0.5382) cub_175_Pine_Warbler:(0.8339) cub_176_Prairie_Warbler:(0.9592) cub_177_Prothonotary_Warbler:(0.9046) cub_178_Swainson_Warbler:(0.4757) cub_179_Tennessee_Warbler:(0.952) cub_180_Wilson_Warbler:(0.9304) cub_181_Worm_eating_Warbler:(0.8875) cub_182_Yellow_Warbler:(0.6146) cub_183_Northern_Waterthrush:(0.4597) cub_184_Louisiana_Waterthrush:(0.9099) cub_200_Common_Yellowthroat:(0.9387) \n",
      "\t\tProto:19 cub_020_Yellow_breasted_Chat:(0.2047) cub_099_Ovenbird:(0.3393) cub_109_American_Redstart:(0.3121) cub_158_Bay_breasted_Warbler:(0.4078) cub_159_Black_and_white_Warbler:(0.2109) cub_160_Black_throated_Blue_Warbler:(0.281) cub_161_Blue_winged_Warbler:(0.5461) cub_162_Canada_Warbler:(0.4102) cub_163_Cape_May_Warbler:(0.57) cub_164_Cerulean_Warbler:(0.5048) cub_165_Chestnut_sided_Warbler:(0.4603) cub_166_Golden_winged_Warbler:(0.5033) cub_167_Hooded_Warbler:(0.2581) cub_168_Kentucky_Warbler:(0.5164) cub_169_Magnolia_Warbler:(0.486) cub_170_Mourning_Warbler:(0.479) cub_172_Nashville_Warbler:(0.5696) cub_173_Orange_crowned_Warbler:(0.3909) cub_174_Palm_Warbler:(0.4073) cub_175_Pine_Warbler:(0.2915) cub_176_Prairie_Warbler:(0.2463) cub_177_Prothonotary_Warbler:(0.6314) cub_178_Swainson_Warbler:(0.321) cub_179_Tennessee_Warbler:(0.5528) cub_180_Wilson_Warbler:(0.5077) cub_181_Worm_eating_Warbler:(0.4396) cub_182_Yellow_Warbler:(0.3612) cub_183_Northern_Waterthrush:(0.284) cub_184_Louisiana_Waterthrush:(0.342) cub_200_Common_Yellowthroat:(0.2425) \n"
     ]
    },
    {
     "name": "stderr",
     "output_type": "stream",
     "text": [
      "Collecting topk: 233it [00:15, 14.82it/s]\n"
     ]
    },
    {
     "name": "stdout",
     "output_type": "stream",
     "text": [
      "Node 054+140\n",
      "\t Child: 054+057\n",
      "\t\tProto:0 cub_014_Indigo_Bunting:(1.0) cub_015_Lazuli_Bunting:(1.0) cub_016_Painted_Bunting:(0.9999) cub_054_Blue_Grosbeak:(1.0) cub_057_Rose_breasted_Grosbeak:(1.0) \n",
      "\t\tProto:1 cub_014_Indigo_Bunting:(0.9998) cub_015_Lazuli_Bunting:(0.9986) cub_016_Painted_Bunting:(0.9934) cub_054_Blue_Grosbeak:(0.9999) cub_057_Rose_breasted_Grosbeak:(0.9989) \n",
      "\t\tProto:6 cub_014_Indigo_Bunting:(0.9997) cub_015_Lazuli_Bunting:(0.9999) cub_016_Painted_Bunting:(0.9993) cub_054_Blue_Grosbeak:(1.0) cub_057_Rose_breasted_Grosbeak:(0.9998) \n",
      "\t Child: 140+017\n",
      "\t\tProto:18 cub_017_Cardinal:(0.9999) cub_139_Scarlet_Tanager:(1.0) cub_140_Summer_Tanager:(1.0) \n",
      "\t\tProto:13 cub_017_Cardinal:(1.0) cub_139_Scarlet_Tanager:(1.0) cub_140_Summer_Tanager:(1.0) \n"
     ]
    },
    {
     "name": "stderr",
     "output_type": "stream",
     "text": [
      "Collecting topk: 149it [00:12, 12.15it/s]\n"
     ]
    },
    {
     "name": "stdout",
     "output_type": "stream",
     "text": [
      "Node 035+048\n",
      "\t Child: 035+056\n",
      "\t\tProto:1 cub_034_Gray_crowned_Rosy_Finch:(1.0) cub_035_Purple_Finch:(1.0) cub_056_Pine_Grosbeak:(1.0) \n",
      "\t Child: 048+047\n",
      "\t\tProto:17 cub_047_American_Goldfinch:(0.9999) cub_048_European_Goldfinch:(1.0) \n",
      "\t\tProto:15 cub_047_American_Goldfinch:(0.9999) cub_048_European_Goldfinch:(1.0) \n"
     ]
    },
    {
     "name": "stderr",
     "output_type": "stream",
     "text": [
      "Collecting topk: 210it [00:14, 14.59it/s]  \n"
     ]
    },
    {
     "name": "stdout",
     "output_type": "stream",
     "text": [
      "Node 199+198\n",
      "\t Child: 199+194\n",
      "\t\tProto:8 cub_193_Bewick_Wren:(1.0) cub_194_Cactus_Wren:(1.0) cub_195_Carolina_Wren:(1.0) cub_196_House_Wren:(1.0) cub_197_Marsh_Wren:(1.0) cub_199_Winter_Wren:(1.0) \n",
      "\t\tProto:9 cub_193_Bewick_Wren:(1.0) cub_194_Cactus_Wren:(1.0) cub_195_Carolina_Wren:(1.0) cub_196_House_Wren:(1.0) cub_197_Marsh_Wren:(1.0) cub_199_Winter_Wren:(1.0) \n",
      "\t\tProto:2 cub_193_Bewick_Wren:(1.0) cub_194_Cactus_Wren:(1.0) cub_195_Carolina_Wren:(1.0) cub_196_House_Wren:(1.0) cub_197_Marsh_Wren:(1.0) cub_199_Winter_Wren:(1.0) \n",
      "\t Child: cub_198_Rock_Wren\n",
      "\t\tProto:11 cub_198_Rock_Wren:(0.9997) \n"
     ]
    },
    {
     "name": "stderr",
     "output_type": "stream",
     "text": [
      "Collecting topk: 100% 60/60 [00:08<00:00,  7.31it/s]\n"
     ]
    },
    {
     "name": "stdout",
     "output_type": "stream",
     "text": [
      "Node 150+091\n",
      "\t Child: cub_150_Sage_Thrasher\n",
      "\t\tProto:2 cub_150_Sage_Thrasher:(1.0) \n",
      "\t Child: cub_091_Mockingbird\n",
      "\t\tProto:16 cub_091_Mockingbird:(1.0) \n",
      "\t\tProto:12 cub_091_Mockingbird:(1.0) \n",
      "\t\tProto:15 cub_091_Mockingbird:(1.0) \n"
     ]
    },
    {
     "name": "stderr",
     "output_type": "stream",
     "text": [
      "Collecting topk: 100% 60/60 [00:08<00:00,  7.14it/s]\n"
     ]
    },
    {
     "name": "stdout",
     "output_type": "stream",
     "text": [
      "Node 107+108\n",
      "\t Child: cub_107_Common_Raven\n",
      "\t\tProto:7 cub_107_Common_Raven:(1.0) \n",
      "\t Child: cub_108_White_necked_Raven\n",
      "\t\tProto:11 cub_108_White_necked_Raven:(1.0) \n"
     ]
    },
    {
     "name": "stderr",
     "output_type": "stream",
     "text": [
      "Collecting topk: 1059it [00:51, 20.51it/s]\n"
     ]
    },
    {
     "name": "stdout",
     "output_type": "stream",
     "text": [
      "Node 129+011\n",
      "\t Child: 129+121\n",
      "\t\tProto:1 cub_021_Eastern_Towhee:(0.9945) cub_076_Dark_eyed_Junco:(0.9504) cub_113_Baird_Sparrow:(0.994) cub_114_Black_throated_Sparrow:(0.9934) cub_115_Brewer_Sparrow:(0.9906) cub_116_Chipping_Sparrow:(0.989) cub_117_Clay_colored_Sparrow:(0.9888) cub_119_Field_Sparrow:(0.9988) cub_120_Fox_Sparrow:(0.9929) cub_121_Grasshopper_Sparrow:(0.9802) cub_122_Harris_Sparrow:(0.9867) cub_123_Henslow_Sparrow:(0.995) cub_124_Le_Conte_Sparrow:(0.9966) cub_125_Lincoln_Sparrow:(0.9987) cub_126_Nelson_Sharp_tailed_Sparrow:(0.9845) cub_127_Savannah_Sparrow:(0.9962) cub_128_Seaside_Sparrow:(0.9292) cub_129_Song_Sparrow:(0.9982) cub_130_Tree_Sparrow:(0.9873) cub_131_Vesper_Sparrow:(0.9975) cub_132_White_crowned_Sparrow:(0.934) cub_133_White_throated_Sparrow:(0.9887) cub_148_Green_tailed_Towhee:(0.9843) \n",
      "\t\tProto:2 cub_021_Eastern_Towhee:(0.6671) cub_076_Dark_eyed_Junco:(0.467) cub_113_Baird_Sparrow:(0.6282) cub_114_Black_throated_Sparrow:(0.5567) cub_115_Brewer_Sparrow:(0.847) cub_116_Chipping_Sparrow:(0.9917) cub_117_Clay_colored_Sparrow:(0.9763) cub_119_Field_Sparrow:(0.9374) cub_120_Fox_Sparrow:(0.7701) cub_121_Grasshopper_Sparrow:(0.8975) cub_122_Harris_Sparrow:(0.8517) cub_123_Henslow_Sparrow:(0.8768) cub_124_Le_Conte_Sparrow:(0.8901) cub_125_Lincoln_Sparrow:(0.7992) cub_126_Nelson_Sharp_tailed_Sparrow:(0.8223) cub_127_Savannah_Sparrow:(0.9957) cub_128_Seaside_Sparrow:(0.7285) cub_129_Song_Sparrow:(0.9071) cub_130_Tree_Sparrow:(0.8247) cub_131_Vesper_Sparrow:(0.8751) cub_132_White_crowned_Sparrow:(0.985) cub_133_White_throated_Sparrow:(0.9323) cub_148_Green_tailed_Towhee:(0.8693) \n",
      "\t\tProto:4 cub_021_Eastern_Towhee:(0.3748) cub_076_Dark_eyed_Junco:(0.8931) cub_113_Baird_Sparrow:(0.7808) cub_114_Black_throated_Sparrow:(0.9899) cub_115_Brewer_Sparrow:(0.9043) cub_116_Chipping_Sparrow:(0.9891) cub_117_Clay_colored_Sparrow:(0.9388) cub_119_Field_Sparrow:(0.9803) cub_120_Fox_Sparrow:(0.9776) cub_121_Grasshopper_Sparrow:(0.9601) cub_122_Harris_Sparrow:(0.9693) cub_123_Henslow_Sparrow:(0.9568) cub_124_Le_Conte_Sparrow:(0.7376) cub_125_Lincoln_Sparrow:(0.9308) cub_126_Nelson_Sharp_tailed_Sparrow:(0.6339) cub_127_Savannah_Sparrow:(0.9912) cub_128_Seaside_Sparrow:(0.8868) cub_129_Song_Sparrow:(0.9038) cub_130_Tree_Sparrow:(0.9506) cub_131_Vesper_Sparrow:(0.9034) cub_132_White_crowned_Sparrow:(0.9965) cub_133_White_throated_Sparrow:(0.9942) cub_148_Green_tailed_Towhee:(0.9879) \n",
      "\t\tProto:5 cub_021_Eastern_Towhee:(0.488) cub_076_Dark_eyed_Junco:(0.6844) cub_113_Baird_Sparrow:(0.7052) cub_114_Black_throated_Sparrow:(0.1227) cub_115_Brewer_Sparrow:(0.7731) cub_116_Chipping_Sparrow:(0.4311) cub_117_Clay_colored_Sparrow:(0.799) cub_119_Field_Sparrow:(0.5732) cub_120_Fox_Sparrow:(0.5693) cub_121_Grasshopper_Sparrow:(0.7439) cub_122_Harris_Sparrow:(0.6015) cub_123_Henslow_Sparrow:(0.862) cub_124_Le_Conte_Sparrow:(0.968) cub_125_Lincoln_Sparrow:(0.7793) cub_126_Nelson_Sharp_tailed_Sparrow:(0.9286) cub_127_Savannah_Sparrow:(0.5251) cub_128_Seaside_Sparrow:(0.7112) cub_129_Song_Sparrow:(0.6047) cub_130_Tree_Sparrow:(0.5008) cub_131_Vesper_Sparrow:(0.7079) cub_132_White_crowned_Sparrow:(0.5951) cub_133_White_throated_Sparrow:(0.4322) cub_148_Green_tailed_Towhee:(0.6818) \n",
      "\t Child: 011+013\n",
      "\t\tProto:12 cub_009_Brewer_Blackbird:(0.8685) cub_010_Red_winged_Blackbird:(0.6713) cub_011_Rusty_Blackbird:(0.8142) cub_012_Yellow_headed_Blackbird:(0.9708) cub_013_Bobolink:(0.7943) cub_026_Bronzed_Cowbird:(0.891) cub_027_Shiny_Cowbird:(0.7784) cub_049_Boat_tailed_Grackle:(0.9279) cub_088_Western_Meadowlark:(0.8632) cub_095_Baltimore_Oriole:(0.9364) cub_096_Hooded_Oriole:(0.9445) cub_097_Orchard_Oriole:(0.5645) cub_098_Scott_Oriole:(0.9308) \n",
      "\t\tProto:13 cub_009_Brewer_Blackbird:(0.8745) cub_010_Red_winged_Blackbird:(0.7894) cub_011_Rusty_Blackbird:(0.9827) cub_012_Yellow_headed_Blackbird:(0.8174) cub_013_Bobolink:(0.0784) cub_026_Bronzed_Cowbird:(0.8825) cub_027_Shiny_Cowbird:(0.7812) cub_049_Boat_tailed_Grackle:(0.5982) cub_088_Western_Meadowlark:(0.0021) cub_095_Baltimore_Oriole:(0.6499) cub_096_Hooded_Oriole:(0.8238) cub_097_Orchard_Oriole:(0.994) cub_098_Scott_Oriole:(0.2108) \n",
      "\t\tProto:15 cub_009_Brewer_Blackbird:(0.9587) cub_010_Red_winged_Blackbird:(0.9734) cub_011_Rusty_Blackbird:(0.8289) cub_012_Yellow_headed_Blackbird:(0.94) cub_013_Bobolink:(0.9994) cub_026_Bronzed_Cowbird:(0.9745) cub_027_Shiny_Cowbird:(0.9541) cub_049_Boat_tailed_Grackle:(0.9861) cub_088_Western_Meadowlark:(0.9936) cub_095_Baltimore_Oriole:(0.9775) cub_096_Hooded_Oriole:(0.9267) cub_097_Orchard_Oriole:(0.2717) cub_098_Scott_Oriole:(0.9979) \n",
      "\t\tProto:18 cub_009_Brewer_Blackbird:(0.9002) cub_010_Red_winged_Blackbird:(0.7665) cub_011_Rusty_Blackbird:(0.8429) cub_012_Yellow_headed_Blackbird:(0.8639) cub_013_Bobolink:(0.775) cub_026_Bronzed_Cowbird:(0.2495) cub_027_Shiny_Cowbird:(0.6953) cub_049_Boat_tailed_Grackle:(0.9178) cub_088_Western_Meadowlark:(0.9644) cub_095_Baltimore_Oriole:(0.9734) cub_096_Hooded_Oriole:(0.9422) cub_097_Orchard_Oriole:(0.9321) cub_098_Scott_Oriole:(0.9913) \n",
      "\t\tProto:19 cub_009_Brewer_Blackbird:(0.9115) cub_010_Red_winged_Blackbird:(0.936) cub_011_Rusty_Blackbird:(0.9016) cub_012_Yellow_headed_Blackbird:(0.9778) cub_013_Bobolink:(0.8445) cub_026_Bronzed_Cowbird:(0.9833) cub_027_Shiny_Cowbird:(0.9816) cub_049_Boat_tailed_Grackle:(0.9841) cub_088_Western_Meadowlark:(0.5223) cub_095_Baltimore_Oriole:(0.9995) cub_096_Hooded_Oriole:(0.9883) cub_097_Orchard_Oriole:(0.5592) cub_098_Scott_Oriole:(0.9963) \n"
     ]
    },
    {
     "name": "stderr",
     "output_type": "stream",
     "text": [
      "Collecting topk: 889it [00:43, 20.38it/s]  \n"
     ]
    },
    {
     "name": "stdout",
     "output_type": "stream",
     "text": [
      "Node 175+020\n",
      "\t Child: 175+099\n",
      "\t\tProto:6 cub_099_Ovenbird:(1.0) cub_109_American_Redstart:(0.9982) cub_158_Bay_breasted_Warbler:(0.9997) cub_159_Black_and_white_Warbler:(1.0) cub_160_Black_throated_Blue_Warbler:(1.0) cub_161_Blue_winged_Warbler:(0.9984) cub_162_Canada_Warbler:(0.9994) cub_163_Cape_May_Warbler:(0.9991) cub_164_Cerulean_Warbler:(1.0) cub_165_Chestnut_sided_Warbler:(0.9997) cub_166_Golden_winged_Warbler:(0.9997) cub_167_Hooded_Warbler:(0.9998) cub_168_Kentucky_Warbler:(0.9944) cub_169_Magnolia_Warbler:(0.9935) cub_170_Mourning_Warbler:(0.9993) cub_172_Nashville_Warbler:(0.9929) cub_173_Orange_crowned_Warbler:(0.9998) cub_174_Palm_Warbler:(1.0) cub_175_Pine_Warbler:(0.9998) cub_176_Prairie_Warbler:(1.0) cub_177_Prothonotary_Warbler:(0.9991) cub_178_Swainson_Warbler:(0.9987) cub_179_Tennessee_Warbler:(0.9984) cub_180_Wilson_Warbler:(1.0) cub_181_Worm_eating_Warbler:(0.9941) cub_182_Yellow_Warbler:(0.9999) cub_183_Northern_Waterthrush:(0.9995) cub_184_Louisiana_Waterthrush:(0.9999) cub_200_Common_Yellowthroat:(0.8173) \n",
      "\t\tProto:7 cub_099_Ovenbird:(1.0) cub_109_American_Redstart:(0.9991) cub_158_Bay_breasted_Warbler:(0.9999) cub_159_Black_and_white_Warbler:(0.9999) cub_160_Black_throated_Blue_Warbler:(0.9999) cub_161_Blue_winged_Warbler:(0.9999) cub_162_Canada_Warbler:(0.9999) cub_163_Cape_May_Warbler:(1.0) cub_164_Cerulean_Warbler:(0.9999) cub_165_Chestnut_sided_Warbler:(1.0) cub_166_Golden_winged_Warbler:(1.0) cub_167_Hooded_Warbler:(1.0) cub_168_Kentucky_Warbler:(0.9989) cub_169_Magnolia_Warbler:(0.9997) cub_170_Mourning_Warbler:(0.9999) cub_172_Nashville_Warbler:(0.9948) cub_173_Orange_crowned_Warbler:(0.9998) cub_174_Palm_Warbler:(0.9999) cub_175_Pine_Warbler:(0.999) cub_176_Prairie_Warbler:(1.0) cub_177_Prothonotary_Warbler:(0.9995) cub_178_Swainson_Warbler:(0.9997) cub_179_Tennessee_Warbler:(0.9998) cub_180_Wilson_Warbler:(0.9998) cub_181_Worm_eating_Warbler:(0.9998) cub_182_Yellow_Warbler:(0.9999) cub_183_Northern_Waterthrush:(0.9995) cub_184_Louisiana_Waterthrush:(0.9998) cub_200_Common_Yellowthroat:(0.9898) \n",
      "\t Child: cub_020_Yellow_breasted_Chat\n",
      "\t\tProto:16 cub_020_Yellow_breasted_Chat:(0.529) \n",
      "\t\tProto:13 cub_020_Yellow_breasted_Chat:(0.9894) \n"
     ]
    },
    {
     "name": "stderr",
     "output_type": "stream",
     "text": [
      "Collecting topk: 146it [00:11, 12.40it/s]  \n"
     ]
    },
    {
     "name": "stdout",
     "output_type": "stream",
     "text": [
      "Node 054+057\n",
      "\t Child: 054+014\n",
      "\t\tProto:8 cub_014_Indigo_Bunting:(1.0) cub_015_Lazuli_Bunting:(1.0) cub_016_Painted_Bunting:(1.0) cub_054_Blue_Grosbeak:(1.0) \n",
      "\t Child: cub_057_Rose_breasted_Grosbeak\n",
      "\t\tProto:14 cub_057_Rose_breasted_Grosbeak:(1.0) \n"
     ]
    },
    {
     "name": "stderr",
     "output_type": "stream",
     "text": [
      "Collecting topk: 87it [00:09,  9.10it/s]   \n"
     ]
    },
    {
     "name": "stdout",
     "output_type": "stream",
     "text": [
      "Node 140+017\n",
      "\t Child: 140+139\n",
      "\t\tProto:8 cub_139_Scarlet_Tanager:(1.0) cub_140_Summer_Tanager:(1.0) \n",
      "\t\tProto:2 cub_139_Scarlet_Tanager:(1.0) cub_140_Summer_Tanager:(1.0) \n",
      "\t Child: cub_017_Cardinal\n",
      "\t\tProto:14 cub_017_Cardinal:(1.0) \n"
     ]
    },
    {
     "name": "stderr",
     "output_type": "stream",
     "text": [
      "Collecting topk: 89it [00:09,  9.08it/s]   \n"
     ]
    },
    {
     "name": "stdout",
     "output_type": "stream",
     "text": [
      "Node 035+056\n",
      "\t Child: 035+034\n",
      "\t\tProto:8 cub_034_Gray_crowned_Rosy_Finch:(1.0) cub_035_Purple_Finch:(1.0) \n",
      "\t\tProto:6 cub_034_Gray_crowned_Rosy_Finch:(1.0) cub_035_Purple_Finch:(1.0) \n",
      "\t Child: cub_056_Pine_Grosbeak\n",
      "\t\tProto:14 cub_056_Pine_Grosbeak:(1.0) \n"
     ]
    },
    {
     "name": "stderr",
     "output_type": "stream",
     "text": [
      "Collecting topk: 100% 60/60 [00:08<00:00,  7.19it/s]\n"
     ]
    },
    {
     "name": "stdout",
     "output_type": "stream",
     "text": [
      "Node 048+047\n",
      "\t Child: cub_048_European_Goldfinch\n",
      "\t\tProto:4 cub_048_European_Goldfinch:(1.0) \n",
      "\t Child: cub_047_American_Goldfinch\n",
      "\t\tProto:19 cub_047_American_Goldfinch:(1.0) \n"
     ]
    },
    {
     "name": "stderr",
     "output_type": "stream",
     "text": [
      "Collecting topk: 180it [00:13, 13.32it/s]  \n"
     ]
    },
    {
     "name": "stdout",
     "output_type": "stream",
     "text": [
      "Node 199+194\n",
      "\t Child: 199+193\n",
      "\t\tProto:8 cub_193_Bewick_Wren:(0.9997) cub_195_Carolina_Wren:(1.0) cub_196_House_Wren:(1.0) cub_197_Marsh_Wren:(0.9997) cub_199_Winter_Wren:(0.9996) \n",
      "\t\tProto:9 cub_193_Bewick_Wren:(0.997) cub_195_Carolina_Wren:(0.9998) cub_196_House_Wren:(0.9997) cub_197_Marsh_Wren:(0.9997) cub_199_Winter_Wren:(0.9999) \n",
      "\t\tProto:7 cub_193_Bewick_Wren:(0.9995) cub_195_Carolina_Wren:(0.9996) cub_196_House_Wren:(0.9998) cub_197_Marsh_Wren:(0.9995) cub_199_Winter_Wren:(0.9998) \n",
      "\t Child: cub_194_Cactus_Wren\n",
      "\t\tProto:17 cub_194_Cactus_Wren:(1.0) \n"
     ]
    },
    {
     "name": "stderr",
     "output_type": "stream",
     "text": [
      "Collecting topk: 675it [00:34, 19.59it/s]  \n"
     ]
    },
    {
     "name": "stdout",
     "output_type": "stream",
     "text": [
      "Node 129+121\n",
      "\t Child: 129+117\n",
      "\t\tProto:2 cub_021_Eastern_Towhee:(0.9998) cub_076_Dark_eyed_Junco:(0.9989) cub_113_Baird_Sparrow:(0.9932) cub_114_Black_throated_Sparrow:(1.0) cub_115_Brewer_Sparrow:(0.9995) cub_116_Chipping_Sparrow:(0.9996) cub_117_Clay_colored_Sparrow:(0.9989) cub_119_Field_Sparrow:(0.9993) cub_120_Fox_Sparrow:(0.9997) cub_122_Harris_Sparrow:(0.999) cub_123_Henslow_Sparrow:(0.9989) cub_124_Le_Conte_Sparrow:(0.9977) cub_125_Lincoln_Sparrow:(0.9998) cub_126_Nelson_Sharp_tailed_Sparrow:(1.0) cub_127_Savannah_Sparrow:(0.9994) cub_128_Seaside_Sparrow:(0.9993) cub_129_Song_Sparrow:(0.9998) cub_130_Tree_Sparrow:(0.9999) cub_131_Vesper_Sparrow:(0.9984) cub_132_White_crowned_Sparrow:(0.9992) cub_133_White_throated_Sparrow:(0.9998) cub_148_Green_tailed_Towhee:(0.9986) \n",
      "\t\tProto:3 cub_021_Eastern_Towhee:(0.9995) cub_076_Dark_eyed_Junco:(0.9998) cub_113_Baird_Sparrow:(0.9635) cub_114_Black_throated_Sparrow:(0.9998) cub_115_Brewer_Sparrow:(0.9856) cub_116_Chipping_Sparrow:(0.999) cub_117_Clay_colored_Sparrow:(0.9917) cub_119_Field_Sparrow:(0.9975) cub_120_Fox_Sparrow:(0.9999) cub_122_Harris_Sparrow:(0.9998) cub_123_Henslow_Sparrow:(0.96) cub_124_Le_Conte_Sparrow:(0.9941) cub_125_Lincoln_Sparrow:(0.9999) cub_126_Nelson_Sharp_tailed_Sparrow:(0.9955) cub_127_Savannah_Sparrow:(0.9888) cub_128_Seaside_Sparrow:(0.9968) cub_129_Song_Sparrow:(0.9997) cub_130_Tree_Sparrow:(0.9999) cub_131_Vesper_Sparrow:(0.9986) cub_132_White_crowned_Sparrow:(0.9988) cub_133_White_throated_Sparrow:(0.9988) cub_148_Green_tailed_Towhee:(0.999) \n",
      "\t Child: cub_121_Grasshopper_Sparrow\n",
      "\t\tProto:16 cub_121_Grasshopper_Sparrow:(0.9644) \n"
     ]
    },
    {
     "name": "stderr",
     "output_type": "stream",
     "text": [
      "Collecting topk: 384it [00:22, 17.41it/s]\n"
     ]
    },
    {
     "name": "stdout",
     "output_type": "stream",
     "text": [
      "Node 011+013\n",
      "\t Child: 011+095\n",
      "\t\tProto:0 cub_009_Brewer_Blackbird:(0.9981) cub_010_Red_winged_Blackbird:(0.9958) cub_011_Rusty_Blackbird:(0.9982) cub_026_Bronzed_Cowbird:(0.995) cub_027_Shiny_Cowbird:(0.998) cub_049_Boat_tailed_Grackle:(0.994) cub_095_Baltimore_Oriole:(0.9939) cub_096_Hooded_Oriole:(0.9958) cub_097_Orchard_Oriole:(0.9895) cub_098_Scott_Oriole:(0.9823) \n",
      "\t\tProto:4 cub_009_Brewer_Blackbird:(0.9998) cub_010_Red_winged_Blackbird:(0.9992) cub_011_Rusty_Blackbird:(0.9981) cub_026_Bronzed_Cowbird:(0.9999) cub_027_Shiny_Cowbird:(0.9996) cub_049_Boat_tailed_Grackle:(0.9998) cub_095_Baltimore_Oriole:(0.9997) cub_096_Hooded_Oriole:(0.9815) cub_097_Orchard_Oriole:(0.9998) cub_098_Scott_Oriole:(0.998) \n",
      "\t\tProto:5 cub_009_Brewer_Blackbird:(0.9998) cub_010_Red_winged_Blackbird:(0.9911) cub_011_Rusty_Blackbird:(0.9994) cub_026_Bronzed_Cowbird:(0.9998) cub_027_Shiny_Cowbird:(0.9995) cub_049_Boat_tailed_Grackle:(0.9953) cub_095_Baltimore_Oriole:(0.9981) cub_096_Hooded_Oriole:(0.9994) cub_097_Orchard_Oriole:(0.998) cub_098_Scott_Oriole:(0.9982) \n",
      "\t\tProto:6 cub_009_Brewer_Blackbird:(0.7376) cub_010_Red_winged_Blackbird:(0.805) cub_011_Rusty_Blackbird:(0.6203) cub_026_Bronzed_Cowbird:(0.6381) cub_027_Shiny_Cowbird:(0.7929) cub_049_Boat_tailed_Grackle:(0.7694) cub_095_Baltimore_Oriole:(0.7598) cub_096_Hooded_Oriole:(0.601) cub_097_Orchard_Oriole:(0.7739) cub_098_Scott_Oriole:(0.6285) \n",
      "\t Child: 013+088\n",
      "\t\tProto:16 cub_012_Yellow_headed_Blackbird:(0.8816) cub_013_Bobolink:(0.9254) cub_088_Western_Meadowlark:(0.9666) \n",
      "\t\tProto:13 cub_012_Yellow_headed_Blackbird:(0.9998) cub_013_Bobolink:(0.9999) cub_088_Western_Meadowlark:(0.9993) \n"
     ]
    },
    {
     "name": "stderr",
     "output_type": "stream",
     "text": [
      "Collecting topk: 860it [00:42, 20.42it/s]  \n"
     ]
    },
    {
     "name": "stdout",
     "output_type": "stream",
     "text": [
      "Node 175+099\n",
      "\t Child: 175+181\n",
      "\t\tProto:2 cub_109_American_Redstart:(1.0) cub_158_Bay_breasted_Warbler:(0.9999) cub_159_Black_and_white_Warbler:(0.9906) cub_160_Black_throated_Blue_Warbler:(1.0) cub_161_Blue_winged_Warbler:(1.0) cub_162_Canada_Warbler:(0.9996) cub_163_Cape_May_Warbler:(0.9999) cub_164_Cerulean_Warbler:(1.0) cub_165_Chestnut_sided_Warbler:(0.9999) cub_166_Golden_winged_Warbler:(1.0) cub_167_Hooded_Warbler:(1.0) cub_168_Kentucky_Warbler:(0.9999) cub_169_Magnolia_Warbler:(0.9998) cub_170_Mourning_Warbler:(1.0) cub_172_Nashville_Warbler:(0.9998) cub_173_Orange_crowned_Warbler:(0.9994) cub_174_Palm_Warbler:(0.9995) cub_175_Pine_Warbler:(0.9999) cub_176_Prairie_Warbler:(0.9992) cub_177_Prothonotary_Warbler:(1.0) cub_178_Swainson_Warbler:(0.9981) cub_179_Tennessee_Warbler:(0.9998) cub_180_Wilson_Warbler:(1.0) cub_181_Worm_eating_Warbler:(0.999) cub_182_Yellow_Warbler:(0.998) cub_183_Northern_Waterthrush:(0.992) cub_184_Louisiana_Waterthrush:(0.9991) cub_200_Common_Yellowthroat:(0.9998) \n",
      "\t Child: cub_099_Ovenbird\n",
      "\t\tProto:16 cub_099_Ovenbird:(0.7183) \n",
      "\t\tProto:19 cub_099_Ovenbird:(0.8971) \n",
      "\t\tProto:13 cub_099_Ovenbird:(0.9949) \n"
     ]
    },
    {
     "name": "stderr",
     "output_type": "stream",
     "text": [
      "Collecting topk: 116it [00:10, 10.79it/s]  \n"
     ]
    },
    {
     "name": "stdout",
     "output_type": "stream",
     "text": [
      "Node 054+014\n",
      "\t Child: 054+016\n",
      "\t\tProto:1 cub_015_Lazuli_Bunting:(0.9999) cub_016_Painted_Bunting:(1.0) cub_054_Blue_Grosbeak:(0.9998) \n",
      "\t\tProto:3 cub_015_Lazuli_Bunting:(1.0) cub_016_Painted_Bunting:(1.0) cub_054_Blue_Grosbeak:(0.9996) \n",
      "\t\tProto:4 cub_015_Lazuli_Bunting:(1.0) cub_016_Painted_Bunting:(1.0) cub_054_Blue_Grosbeak:(1.0) \n",
      "\t Child: cub_014_Indigo_Bunting\n",
      "\t\tProto:11 cub_014_Indigo_Bunting:(0.9999) \n"
     ]
    },
    {
     "name": "stderr",
     "output_type": "stream",
     "text": [
      "Collecting topk: 100% 60/60 [00:08<00:00,  7.28it/s]\n"
     ]
    },
    {
     "name": "stdout",
     "output_type": "stream",
     "text": [
      "Node 140+139\n",
      "\t Child: cub_140_Summer_Tanager\n",
      "\t\tProto:0 cub_140_Summer_Tanager:(1.0) \n",
      "\t Child: cub_139_Scarlet_Tanager\n",
      "\t\tProto:17 cub_139_Scarlet_Tanager:(1.0) \n"
     ]
    },
    {
     "name": "stderr",
     "output_type": "stream",
     "text": [
      "Collecting topk: 100% 59/59 [00:08<00:00,  7.20it/s]\n"
     ]
    },
    {
     "name": "stdout",
     "output_type": "stream",
     "text": [
      "Node 035+034\n",
      "\t Child: cub_035_Purple_Finch\n",
      "\t\tProto:8 cub_035_Purple_Finch:(1.0) \n",
      "\t\tProto:4 cub_035_Purple_Finch:(1.0) \n",
      "\t Child: cub_034_Gray_crowned_Rosy_Finch\n",
      "\t\tProto:13 cub_034_Gray_crowned_Rosy_Finch:(1.0) \n"
     ]
    },
    {
     "name": "stderr",
     "output_type": "stream",
     "text": [
      "Collecting topk: 150it [00:12, 12.27it/s]\n"
     ]
    },
    {
     "name": "stdout",
     "output_type": "stream",
     "text": [
      "Node 199+193\n",
      "\t Child: 199+197\n",
      "\t\tProto:9 cub_196_House_Wren:(0.9999) cub_197_Marsh_Wren:(0.9986) cub_199_Winter_Wren:(0.9997) \n",
      "\t\tProto:7 cub_196_House_Wren:(1.0) cub_197_Marsh_Wren:(0.9975) cub_199_Winter_Wren:(0.9999) \n",
      "\t Child: 193+195\n",
      "\t\tProto:10 cub_193_Bewick_Wren:(0.9995) cub_195_Carolina_Wren:(0.9999) \n",
      "\t\tProto:11 cub_193_Bewick_Wren:(0.9998) cub_195_Carolina_Wren:(1.0) \n"
     ]
    },
    {
     "name": "stderr",
     "output_type": "stream",
     "text": [
      "Collecting topk: 645it [00:33, 19.37it/s]\n"
     ]
    },
    {
     "name": "stdout",
     "output_type": "stream",
     "text": [
      "Node 129+117\n",
      "\t Child: 129+133\n",
      "\t\tProto:9 cub_021_Eastern_Towhee:(0.4806) cub_076_Dark_eyed_Junco:(0.2024) cub_113_Baird_Sparrow:(0.775) cub_120_Fox_Sparrow:(0.9912) cub_122_Harris_Sparrow:(0.3822) cub_123_Henslow_Sparrow:(0.6226) cub_124_Le_Conte_Sparrow:(0.2065) cub_125_Lincoln_Sparrow:(0.9848) cub_126_Nelson_Sharp_tailed_Sparrow:(0.4253) cub_127_Savannah_Sparrow:(0.9562) cub_128_Seaside_Sparrow:(0.5834) cub_129_Song_Sparrow:(0.9775) cub_130_Tree_Sparrow:(0.4031) cub_131_Vesper_Sparrow:(0.9739) cub_132_White_crowned_Sparrow:(0.066) cub_133_White_throated_Sparrow:(0.3178) cub_148_Green_tailed_Towhee:(0.0624) \n",
      "\t\tProto:3 cub_021_Eastern_Towhee:(0.9485) cub_076_Dark_eyed_Junco:(0.4015) cub_113_Baird_Sparrow:(0.9701) cub_120_Fox_Sparrow:(0.8853) cub_122_Harris_Sparrow:(0.9922) cub_123_Henslow_Sparrow:(0.9968) cub_124_Le_Conte_Sparrow:(0.9348) cub_125_Lincoln_Sparrow:(0.8682) cub_126_Nelson_Sharp_tailed_Sparrow:(0.9853) cub_127_Savannah_Sparrow:(0.9992) cub_128_Seaside_Sparrow:(0.9954) cub_129_Song_Sparrow:(0.9584) cub_130_Tree_Sparrow:(0.3436) cub_131_Vesper_Sparrow:(0.9534) cub_132_White_crowned_Sparrow:(0.0471) cub_133_White_throated_Sparrow:(0.9703) cub_148_Green_tailed_Towhee:(0.1948) \n",
      "\t\tProto:5 cub_021_Eastern_Towhee:(0.6545) cub_076_Dark_eyed_Junco:(0.9922) cub_113_Baird_Sparrow:(0.475) cub_120_Fox_Sparrow:(0.3522) cub_122_Harris_Sparrow:(0.9853) cub_123_Henslow_Sparrow:(0.766) cub_124_Le_Conte_Sparrow:(0.9978) cub_125_Lincoln_Sparrow:(0.2545) cub_126_Nelson_Sharp_tailed_Sparrow:(0.9678) cub_127_Savannah_Sparrow:(0.3092) cub_128_Seaside_Sparrow:(0.9105) cub_129_Song_Sparrow:(0.1774) cub_130_Tree_Sparrow:(0.1753) cub_131_Vesper_Sparrow:(0.1127) cub_132_White_crowned_Sparrow:(0.9999) cub_133_White_throated_Sparrow:(0.9991) cub_148_Green_tailed_Towhee:(0.3395) \n",
      "\t\tProto:6 cub_021_Eastern_Towhee:(0.996) cub_076_Dark_eyed_Junco:(0.896) cub_113_Baird_Sparrow:(0.6296) cub_120_Fox_Sparrow:(0.968) cub_122_Harris_Sparrow:(0.6688) cub_123_Henslow_Sparrow:(0.9922) cub_124_Le_Conte_Sparrow:(0.8122) cub_125_Lincoln_Sparrow:(0.9966) cub_126_Nelson_Sharp_tailed_Sparrow:(0.9633) cub_127_Savannah_Sparrow:(0.9494) cub_128_Seaside_Sparrow:(0.9626) cub_129_Song_Sparrow:(0.9616) cub_130_Tree_Sparrow:(0.9955) cub_131_Vesper_Sparrow:(0.6363) cub_132_White_crowned_Sparrow:(0.118) cub_133_White_throated_Sparrow:(0.7685) cub_148_Green_tailed_Towhee:(0.9996) \n",
      "\t Child: 117+114\n",
      "\t\tProto:10 cub_114_Black_throated_Sparrow:(0.9996) cub_115_Brewer_Sparrow:(0.9561) cub_116_Chipping_Sparrow:(0.7762) cub_117_Clay_colored_Sparrow:(0.9883) cub_119_Field_Sparrow:(0.9773) \n",
      "\t\tProto:18 cub_114_Black_throated_Sparrow:(0.0417) cub_115_Brewer_Sparrow:(0.9632) cub_116_Chipping_Sparrow:(0.722) cub_117_Clay_colored_Sparrow:(0.996) cub_119_Field_Sparrow:(0.9943) \n"
     ]
    },
    {
     "name": "stderr",
     "output_type": "stream",
     "text": [
      "Collecting topk: 298it [00:18, 16.12it/s]\n"
     ]
    },
    {
     "name": "stdout",
     "output_type": "stream",
     "text": [
      "Node 011+095\n",
      "\t Child: 011+026\n",
      "\t\tProto:8 cub_009_Brewer_Blackbird:(0.998) cub_010_Red_winged_Blackbird:(0.9998) cub_011_Rusty_Blackbird:(0.9999) cub_026_Bronzed_Cowbird:(0.9998) cub_027_Shiny_Cowbird:(0.9999) cub_049_Boat_tailed_Grackle:(0.9941) \n",
      "\t\tProto:4 cub_009_Brewer_Blackbird:(1.0) cub_010_Red_winged_Blackbird:(0.9995) cub_011_Rusty_Blackbird:(1.0) cub_026_Bronzed_Cowbird:(1.0) cub_027_Shiny_Cowbird:(0.9998) cub_049_Boat_tailed_Grackle:(0.9998) \n",
      "\t\tProto:6 cub_009_Brewer_Blackbird:(1.0) cub_010_Red_winged_Blackbird:(1.0) cub_011_Rusty_Blackbird:(1.0) cub_026_Bronzed_Cowbird:(1.0) cub_027_Shiny_Cowbird:(1.0) cub_049_Boat_tailed_Grackle:(1.0) \n",
      "\t Child: 095+096\n",
      "\t\tProto:18 cub_095_Baltimore_Oriole:(1.0) cub_096_Hooded_Oriole:(1.0) cub_097_Orchard_Oriole:(0.9869) cub_098_Scott_Oriole:(0.999) \n",
      "\t\tProto:13 cub_095_Baltimore_Oriole:(1.0) cub_096_Hooded_Oriole:(1.0) cub_097_Orchard_Oriole:(1.0) cub_098_Scott_Oriole:(1.0) \n"
     ]
    },
    {
     "name": "stderr",
     "output_type": "stream",
     "text": [
      "Collecting topk: 86it [00:09,  9.14it/s]   \n"
     ]
    },
    {
     "name": "stdout",
     "output_type": "stream",
     "text": [
      "Node 013+088\n",
      "\t Child: 013+012\n",
      "\t\tProto:0 cub_012_Yellow_headed_Blackbird:(1.0) cub_013_Bobolink:(1.0) \n",
      "\t Child: cub_088_Western_Meadowlark\n",
      "\t\tProto:10 cub_088_Western_Meadowlark:(0.9998) \n",
      "\t\tProto:13 cub_088_Western_Meadowlark:(1.0) \n"
     ]
    },
    {
     "name": "stderr",
     "output_type": "stream",
     "text": [
      "Collecting topk: 830it [00:40, 20.47it/s]  \n"
     ]
    },
    {
     "name": "stdout",
     "output_type": "stream",
     "text": [
      "Node 175+181\n",
      "\t Child: 175+168+173+183\n",
      "\t\tProto:4 cub_109_American_Redstart:(1.0) cub_158_Bay_breasted_Warbler:(1.0) cub_159_Black_and_white_Warbler:(1.0) cub_160_Black_throated_Blue_Warbler:(1.0) cub_161_Blue_winged_Warbler:(1.0) cub_162_Canada_Warbler:(0.9998) cub_163_Cape_May_Warbler:(0.9988) cub_164_Cerulean_Warbler:(1.0) cub_165_Chestnut_sided_Warbler:(1.0) cub_166_Golden_winged_Warbler:(1.0) cub_167_Hooded_Warbler:(0.9999) cub_168_Kentucky_Warbler:(0.9994) cub_169_Magnolia_Warbler:(1.0) cub_170_Mourning_Warbler:(1.0) cub_172_Nashville_Warbler:(1.0) cub_173_Orange_crowned_Warbler:(0.9997) cub_174_Palm_Warbler:(0.9999) cub_175_Pine_Warbler:(0.9999) cub_176_Prairie_Warbler:(0.9999) cub_177_Prothonotary_Warbler:(0.9999) cub_178_Swainson_Warbler:(0.9872) cub_179_Tennessee_Warbler:(0.9989) cub_180_Wilson_Warbler:(0.9999) cub_182_Yellow_Warbler:(1.0) cub_183_Northern_Waterthrush:(0.9994) cub_184_Louisiana_Waterthrush:(0.9996) cub_200_Common_Yellowthroat:(0.9999) \n",
      "\t\tProto:6 cub_109_American_Redstart:(0.9993) cub_158_Bay_breasted_Warbler:(0.9999) cub_159_Black_and_white_Warbler:(0.9998) cub_160_Black_throated_Blue_Warbler:(0.9999) cub_161_Blue_winged_Warbler:(0.9976) cub_162_Canada_Warbler:(0.9998) cub_163_Cape_May_Warbler:(0.9985) cub_164_Cerulean_Warbler:(0.9998) cub_165_Chestnut_sided_Warbler:(0.9999) cub_166_Golden_winged_Warbler:(0.9998) cub_167_Hooded_Warbler:(0.9998) cub_168_Kentucky_Warbler:(0.9976) cub_169_Magnolia_Warbler:(0.9999) cub_170_Mourning_Warbler:(0.9998) cub_172_Nashville_Warbler:(1.0) cub_173_Orange_crowned_Warbler:(0.9995) cub_174_Palm_Warbler:(0.9999) cub_175_Pine_Warbler:(0.9999) cub_176_Prairie_Warbler:(0.9999) cub_177_Prothonotary_Warbler:(0.9999) cub_178_Swainson_Warbler:(0.9918) cub_179_Tennessee_Warbler:(0.9963) cub_180_Wilson_Warbler:(0.9995) cub_182_Yellow_Warbler:(0.9997) cub_183_Northern_Waterthrush:(0.9997) cub_184_Louisiana_Waterthrush:(0.9998) cub_200_Common_Yellowthroat:(0.9991) \n",
      "\t Child: cub_181_Worm_eating_Warbler\n",
      "\t\tProto:12 cub_181_Worm_eating_Warbler:(0.9886) \n",
      "\t\tProto:14 cub_181_Worm_eating_Warbler:(0.9259) \n"
     ]
    },
    {
     "name": "stderr",
     "output_type": "stream",
     "text": [
      "Collecting topk: 86it [00:09,  9.02it/s]   \n"
     ]
    },
    {
     "name": "stdout",
     "output_type": "stream",
     "text": [
      "Node 054+016\n",
      "\t Child: 054+015\n",
      "\t\tProto:0 cub_015_Lazuli_Bunting:(1.0) cub_054_Blue_Grosbeak:(1.0) \n",
      "\t Child: cub_016_Painted_Bunting\n",
      "\t\tProto:19 cub_016_Painted_Bunting:(1.0) \n",
      "\t\tProto:12 cub_016_Painted_Bunting:(1.0) \n"
     ]
    },
    {
     "name": "stderr",
     "output_type": "stream",
     "text": [
      "Collecting topk: 90it [00:09,  9.62it/s]   \n"
     ]
    },
    {
     "name": "stdout",
     "output_type": "stream",
     "text": [
      "Node 199+197\n",
      "\t Child: 199+196\n",
      "\t\tProto:8 cub_196_House_Wren:(0.9999) cub_199_Winter_Wren:(1.0) \n",
      "\t\tProto:9 cub_196_House_Wren:(0.9977) cub_199_Winter_Wren:(1.0) \n",
      "\t Child: cub_197_Marsh_Wren\n",
      "\t\tProto:10 cub_197_Marsh_Wren:(0.9998) \n"
     ]
    },
    {
     "name": "stderr",
     "output_type": "stream",
     "text": [
      "Collecting topk: 100% 60/60 [00:08<00:00,  7.49it/s]\n"
     ]
    },
    {
     "name": "stdout",
     "output_type": "stream",
     "text": [
      "Node 193+195\n",
      "\t Child: cub_193_Bewick_Wren\n",
      "\t\tProto:1 cub_193_Bewick_Wren:(1.0) \n",
      "\t Child: cub_195_Carolina_Wren\n",
      "\t\tProto:17 cub_195_Carolina_Wren:(0.9999) \n",
      "\t\tProto:18 cub_195_Carolina_Wren:(1.0) \n"
     ]
    },
    {
     "name": "stderr",
     "output_type": "stream",
     "text": [
      "Collecting topk: 498it [00:27, 18.33it/s]\n"
     ]
    },
    {
     "name": "stdout",
     "output_type": "stream",
     "text": [
      "Node 129+133\n",
      "\t Child: 129+021\n",
      "\t\tProto:1 cub_021_Eastern_Towhee:(0.999) cub_113_Baird_Sparrow:(0.9957) cub_123_Henslow_Sparrow:(0.9993) cub_124_Le_Conte_Sparrow:(0.9975) cub_125_Lincoln_Sparrow:(0.9992) cub_126_Nelson_Sharp_tailed_Sparrow:(0.9966) cub_127_Savannah_Sparrow:(0.9986) cub_128_Seaside_Sparrow:(0.9978) cub_129_Song_Sparrow:(0.9982) cub_131_Vesper_Sparrow:(0.9931) cub_148_Green_tailed_Towhee:(0.9536) \n",
      "\t\tProto:3 cub_021_Eastern_Towhee:(0.9298) cub_113_Baird_Sparrow:(0.9636) cub_123_Henslow_Sparrow:(0.9997) cub_124_Le_Conte_Sparrow:(0.9933) cub_125_Lincoln_Sparrow:(0.998) cub_126_Nelson_Sharp_tailed_Sparrow:(0.9916) cub_127_Savannah_Sparrow:(0.9882) cub_128_Seaside_Sparrow:(0.987) cub_129_Song_Sparrow:(0.9951) cub_131_Vesper_Sparrow:(0.9939) cub_148_Green_tailed_Towhee:(0.7901) \n",
      "\t\tProto:9 cub_021_Eastern_Towhee:(0.9739) cub_113_Baird_Sparrow:(0.9961) cub_123_Henslow_Sparrow:(0.9999) cub_124_Le_Conte_Sparrow:(0.9996) cub_125_Lincoln_Sparrow:(0.9995) cub_126_Nelson_Sharp_tailed_Sparrow:(0.998) cub_127_Savannah_Sparrow:(0.9997) cub_128_Seaside_Sparrow:(0.9992) cub_129_Song_Sparrow:(0.9934) cub_131_Vesper_Sparrow:(0.9991) cub_148_Green_tailed_Towhee:(0.9887) \n",
      "\t Child: 133+130\n",
      "\t\tProto:16 cub_076_Dark_eyed_Junco:(0.9996) cub_120_Fox_Sparrow:(0.7015) cub_122_Harris_Sparrow:(0.995) cub_130_Tree_Sparrow:(0.6777) cub_132_White_crowned_Sparrow:(0.7941) cub_133_White_throated_Sparrow:(0.7733) \n",
      "\t\tProto:17 cub_076_Dark_eyed_Junco:(0.9976) cub_120_Fox_Sparrow:(0.9951) cub_122_Harris_Sparrow:(0.9993) cub_130_Tree_Sparrow:(0.8796) cub_132_White_crowned_Sparrow:(0.9995) cub_133_White_throated_Sparrow:(0.9741) \n",
      "\t\tProto:19 cub_076_Dark_eyed_Junco:(0.9197) cub_120_Fox_Sparrow:(0.196) cub_122_Harris_Sparrow:(0.9765) cub_130_Tree_Sparrow:(0.9881) cub_132_White_crowned_Sparrow:(0.9821) cub_133_White_throated_Sparrow:(0.9968) \n",
      "\t\tProto:13 cub_076_Dark_eyed_Junco:(0.1326) cub_120_Fox_Sparrow:(0.9829) cub_122_Harris_Sparrow:(0.0644) cub_130_Tree_Sparrow:(0.9991) cub_132_White_crowned_Sparrow:(0.9929) cub_133_White_throated_Sparrow:(0.9966) \n"
     ]
    },
    {
     "name": "stderr",
     "output_type": "stream",
     "text": [
      "Collecting topk: 147it [00:11, 12.82it/s]  \n"
     ]
    },
    {
     "name": "stdout",
     "output_type": "stream",
     "text": [
      "Node 117+114\n",
      "\t Child: 117+115\n",
      "\t\tProto:8 cub_115_Brewer_Sparrow:(0.9998) cub_116_Chipping_Sparrow:(1.0) cub_117_Clay_colored_Sparrow:(1.0) cub_119_Field_Sparrow:(1.0) \n",
      "\t\tProto:7 cub_115_Brewer_Sparrow:(0.9995) cub_116_Chipping_Sparrow:(0.9989) cub_117_Clay_colored_Sparrow:(0.9999) cub_119_Field_Sparrow:(1.0) \n",
      "\t Child: cub_114_Black_throated_Sparrow\n",
      "\t\tProto:19 cub_114_Black_throated_Sparrow:(1.0) \n"
     ]
    },
    {
     "name": "stderr",
     "output_type": "stream",
     "text": [
      "Collecting topk: 179it [00:13, 13.60it/s]\n"
     ]
    },
    {
     "name": "stdout",
     "output_type": "stream",
     "text": [
      "Node 011+026\n",
      "\t Child: 011+049\n",
      "\t\tProto:1 cub_009_Brewer_Blackbird:(0.9919) cub_011_Rusty_Blackbird:(0.9971) cub_049_Boat_tailed_Grackle:(0.9896) \n",
      "\t\tProto:5 cub_009_Brewer_Blackbird:(1.0) cub_011_Rusty_Blackbird:(1.0) cub_049_Boat_tailed_Grackle:(0.9998) \n",
      "\t\tProto:9 cub_009_Brewer_Blackbird:(0.9978) cub_011_Rusty_Blackbird:(0.9999) cub_049_Boat_tailed_Grackle:(0.9965) \n",
      "\t Child: 026+010\n",
      "\t\tProto:16 cub_010_Red_winged_Blackbird:(0.9953) cub_026_Bronzed_Cowbird:(0.9935) cub_027_Shiny_Cowbird:(0.9757) \n",
      "\t\tProto:19 cub_010_Red_winged_Blackbird:(0.9995) cub_026_Bronzed_Cowbird:(1.0) cub_027_Shiny_Cowbird:(0.995) \n",
      "\t\tProto:14 cub_010_Red_winged_Blackbird:(1.0) cub_026_Bronzed_Cowbird:(1.0) cub_027_Shiny_Cowbird:(1.0) \n"
     ]
    },
    {
     "name": "stderr",
     "output_type": "stream",
     "text": [
      "Collecting topk: 119it [00:10, 11.07it/s]\n"
     ]
    },
    {
     "name": "stdout",
     "output_type": "stream",
     "text": [
      "Node 095+096\n",
      "\t Child: 095+098\n",
      "\t\tProto:9 cub_095_Baltimore_Oriole:(1.0) cub_098_Scott_Oriole:(0.9998) \n",
      "\t\tProto:2 cub_095_Baltimore_Oriole:(1.0) cub_098_Scott_Oriole:(0.9998) \n",
      "\t Child: 096+097\n",
      "\t\tProto:11 cub_096_Hooded_Oriole:(1.0) cub_097_Orchard_Oriole:(1.0) \n"
     ]
    },
    {
     "name": "stderr",
     "output_type": "stream",
     "text": [
      "Collecting topk: 100% 56/56 [00:07<00:00,  7.03it/s]\n"
     ]
    },
    {
     "name": "stdout",
     "output_type": "stream",
     "text": [
      "Node 013+012\n",
      "\t Child: cub_013_Bobolink\n",
      "\t\tProto:2 cub_013_Bobolink:(1.0) \n",
      "\t\tProto:7 cub_013_Bobolink:(1.0) \n",
      "\t Child: cub_012_Yellow_headed_Blackbird\n",
      "\t\tProto:11 cub_012_Yellow_headed_Blackbird:(1.0) \n"
     ]
    },
    {
     "name": "stderr",
     "output_type": "stream",
     "text": [
      "Collecting topk: 801it [00:42, 18.66it/s]\n"
     ]
    },
    {
     "name": "stdout",
     "output_type": "stream",
     "text": [
      "Node 175+168+173+183\n",
      "\t Child: 175+162\n",
      "\t\tProto:4 cub_109_American_Redstart:(0.9984) cub_158_Bay_breasted_Warbler:(0.9995) cub_160_Black_throated_Blue_Warbler:(0.997) cub_162_Canada_Warbler:(0.9953) cub_163_Cape_May_Warbler:(0.9986) cub_164_Cerulean_Warbler:(0.9977) cub_165_Chestnut_sided_Warbler:(0.9886) cub_167_Hooded_Warbler:(0.9886) cub_169_Magnolia_Warbler:(0.9904) cub_174_Palm_Warbler:(0.9971) cub_175_Pine_Warbler:(0.9926) cub_176_Prairie_Warbler:(0.9993) cub_180_Wilson_Warbler:(0.9912) cub_182_Yellow_Warbler:(0.9923) \n",
      "\t Child: 168+177\n",
      "\t\tProto:16 cub_168_Kentucky_Warbler:(0.9593) cub_170_Mourning_Warbler:(0.9859) cub_177_Prothonotary_Warbler:(0.0109) cub_178_Swainson_Warbler:(0.9385) cub_200_Common_Yellowthroat:(0.9904) \n",
      "\t\tProto:10 cub_168_Kentucky_Warbler:(0.8237) cub_170_Mourning_Warbler:(0.9812) cub_177_Prothonotary_Warbler:(0.3321) cub_178_Swainson_Warbler:(0.464) cub_200_Common_Yellowthroat:(0.2944) \n",
      "\t\tProto:11 cub_168_Kentucky_Warbler:(0.9441) cub_170_Mourning_Warbler:(0.0195) cub_177_Prothonotary_Warbler:(0.9935) cub_178_Swainson_Warbler:(0.9693) cub_200_Common_Yellowthroat:(0.9799) \n",
      "\t\tProto:12 cub_168_Kentucky_Warbler:(0.5041) cub_170_Mourning_Warbler:(0.0499) cub_177_Prothonotary_Warbler:(0.933) cub_178_Swainson_Warbler:(0.5364) cub_200_Common_Yellowthroat:(0.9633) \n",
      "\t Child: 173+161\n",
      "\t\tProto:25 cub_161_Blue_winged_Warbler:(0.9991) cub_166_Golden_winged_Warbler:(0.9992) cub_172_Nashville_Warbler:(0.9957) cub_173_Orange_crowned_Warbler:(0.992) cub_179_Tennessee_Warbler:(0.9728) \n",
      "\t Child: 183+159\n",
      "\t\tProto:36 cub_159_Black_and_white_Warbler:(0.9835) cub_183_Northern_Waterthrush:(0.9992) cub_184_Louisiana_Waterthrush:(0.9955) \n",
      "\t\tProto:38 cub_159_Black_and_white_Warbler:(0.9933) cub_183_Northern_Waterthrush:(0.9963) cub_184_Louisiana_Waterthrush:(0.9949) \n"
     ]
    },
    {
     "name": "stderr",
     "output_type": "stream",
     "text": [
      "Collecting topk: 100% 58/58 [00:08<00:00,  7.07it/s]\n"
     ]
    },
    {
     "name": "stdout",
     "output_type": "stream",
     "text": [
      "Node 054+015\n",
      "\t Child: cub_054_Blue_Grosbeak\n",
      "\t\tProto:6 cub_054_Blue_Grosbeak:(1.0) \n",
      "\t\tProto:7 cub_054_Blue_Grosbeak:(1.0) \n",
      "\t Child: cub_015_Lazuli_Bunting\n",
      "\t\tProto:18 cub_015_Lazuli_Bunting:(1.0) \n",
      "\t\tProto:11 cub_015_Lazuli_Bunting:(1.0) \n"
     ]
    },
    {
     "name": "stderr",
     "output_type": "stream",
     "text": [
      "Collecting topk: 100% 60/60 [00:08<00:00,  7.12it/s]\n"
     ]
    },
    {
     "name": "stdout",
     "output_type": "stream",
     "text": [
      "Node 199+196\n",
      "\t Child: cub_199_Winter_Wren\n",
      "\t\tProto:6 cub_199_Winter_Wren:(1.0) \n",
      "\t Child: cub_196_House_Wren\n",
      "\t\tProto:11 cub_196_House_Wren:(0.9999) \n",
      "\t\tProto:13 cub_196_House_Wren:(0.9998) \n"
     ]
    },
    {
     "name": "stderr",
     "output_type": "stream",
     "text": [
      "Collecting topk: 318it [00:19, 16.62it/s]\n"
     ]
    },
    {
     "name": "stdout",
     "output_type": "stream",
     "text": [
      "Node 129+021\n",
      "\t Child: 129+128\n",
      "\t\tProto:8 cub_113_Baird_Sparrow:(1.0) cub_123_Henslow_Sparrow:(1.0) cub_124_Le_Conte_Sparrow:(1.0) cub_125_Lincoln_Sparrow:(1.0) cub_126_Nelson_Sharp_tailed_Sparrow:(1.0) cub_127_Savannah_Sparrow:(0.9999) cub_128_Seaside_Sparrow:(0.9999) cub_129_Song_Sparrow:(0.9995) cub_131_Vesper_Sparrow:(1.0) \n",
      "\t\tProto:1 cub_113_Baird_Sparrow:(0.9995) cub_123_Henslow_Sparrow:(1.0) cub_124_Le_Conte_Sparrow:(1.0) cub_125_Lincoln_Sparrow:(1.0) cub_126_Nelson_Sharp_tailed_Sparrow:(0.9999) cub_127_Savannah_Sparrow:(1.0) cub_128_Seaside_Sparrow:(0.9999) cub_129_Song_Sparrow:(0.9998) cub_131_Vesper_Sparrow:(0.9999) \n",
      "\t\tProto:6 cub_113_Baird_Sparrow:(0.9999) cub_123_Henslow_Sparrow:(1.0) cub_124_Le_Conte_Sparrow:(0.9991) cub_125_Lincoln_Sparrow:(1.0) cub_126_Nelson_Sharp_tailed_Sparrow:(0.9999) cub_127_Savannah_Sparrow:(1.0) cub_128_Seaside_Sparrow:(0.9995) cub_129_Song_Sparrow:(0.9968) cub_131_Vesper_Sparrow:(0.9998) \n",
      "\t Child: 021+148\n",
      "\t\tProto:15 cub_021_Eastern_Towhee:(0.9999) cub_148_Green_tailed_Towhee:(0.9997) \n"
     ]
    },
    {
     "name": "stderr",
     "output_type": "stream",
     "text": [
      "Collecting topk: 180it [00:13, 13.58it/s]\n"
     ]
    },
    {
     "name": "stdout",
     "output_type": "stream",
     "text": [
      "Node 133+130\n",
      "\t Child: 133+076\n",
      "\t\tProto:4 cub_076_Dark_eyed_Junco:(0.9997) cub_122_Harris_Sparrow:(1.0) cub_132_White_crowned_Sparrow:(1.0) cub_133_White_throated_Sparrow:(1.0) \n",
      "\t\tProto:5 cub_076_Dark_eyed_Junco:(0.9999) cub_122_Harris_Sparrow:(1.0) cub_132_White_crowned_Sparrow:(1.0) cub_133_White_throated_Sparrow:(0.9999) \n",
      "\t Child: 130+120\n",
      "\t\tProto:11 cub_120_Fox_Sparrow:(1.0) cub_130_Tree_Sparrow:(1.0) \n"
     ]
    },
    {
     "name": "stderr",
     "output_type": "stream",
     "text": [
      "Collecting topk: 117it [00:10, 10.74it/s]\n"
     ]
    },
    {
     "name": "stdout",
     "output_type": "stream",
     "text": [
      "Node 117+115\n",
      "\t Child: 117+116\n",
      "\t\tProto:9 cub_116_Chipping_Sparrow:(0.9994) cub_117_Clay_colored_Sparrow:(0.9989) \n",
      "\t\tProto:4 cub_116_Chipping_Sparrow:(1.0) cub_117_Clay_colored_Sparrow:(1.0) \n",
      "\t Child: 115+119\n",
      "\t\tProto:17 cub_115_Brewer_Sparrow:(1.0) cub_119_Field_Sparrow:(1.0) \n",
      "\t\tProto:11 cub_115_Brewer_Sparrow:(0.9999) cub_119_Field_Sparrow:(1.0) \n"
     ]
    },
    {
     "name": "stderr",
     "output_type": "stream",
     "text": [
      "Collecting topk: 89it [00:09,  9.74it/s]   \n"
     ]
    },
    {
     "name": "stdout",
     "output_type": "stream",
     "text": [
      "Node 011+049\n",
      "\t Child: 011+009\n",
      "\t\tProto:5 cub_009_Brewer_Blackbird:(1.0) cub_011_Rusty_Blackbird:(0.9999) \n",
      "\t Child: cub_049_Boat_tailed_Grackle\n",
      "\t\tProto:13 cub_049_Boat_tailed_Grackle:(1.0) \n"
     ]
    },
    {
     "name": "stderr",
     "output_type": "stream",
     "text": [
      "Collecting topk: 90it [00:09,  9.43it/s]   \n"
     ]
    },
    {
     "name": "stdout",
     "output_type": "stream",
     "text": [
      "Node 026+010\n",
      "\t Child: 026+027\n",
      "\t\tProto:9 cub_026_Bronzed_Cowbird:(1.0) cub_027_Shiny_Cowbird:(1.0) \n",
      "\t Child: cub_010_Red_winged_Blackbird\n",
      "\t\tProto:16 cub_010_Red_winged_Blackbird:(1.0) \n"
     ]
    },
    {
     "name": "stderr",
     "output_type": "stream",
     "text": [
      "Collecting topk: 100% 60/60 [00:08<00:00,  7.04it/s]\n"
     ]
    },
    {
     "name": "stdout",
     "output_type": "stream",
     "text": [
      "Node 095+098\n",
      "\t Child: cub_095_Baltimore_Oriole\n",
      "\t\tProto:8 cub_095_Baltimore_Oriole:(1.0) \n",
      "\t Child: cub_098_Scott_Oriole\n",
      "\t\tProto:18 cub_098_Scott_Oriole:(1.0) \n"
     ]
    },
    {
     "name": "stderr",
     "output_type": "stream",
     "text": [
      "Collecting topk: 100% 59/59 [00:08<00:00,  7.15it/s]\n"
     ]
    },
    {
     "name": "stdout",
     "output_type": "stream",
     "text": [
      "Node 096+097\n",
      "\t Child: cub_096_Hooded_Oriole\n",
      "\t\tProto:2 cub_096_Hooded_Oriole:(1.0) \n",
      "\t\tProto:7 cub_096_Hooded_Oriole:(1.0) \n",
      "\t Child: cub_097_Orchard_Oriole\n",
      "\t\tProto:16 cub_097_Orchard_Oriole:(1.0) \n",
      "\t\tProto:17 cub_097_Orchard_Oriole:(1.0) \n"
     ]
    },
    {
     "name": "stderr",
     "output_type": "stream",
     "text": [
      "Collecting topk: 418it [00:23, 17.89it/s]\n"
     ]
    },
    {
     "name": "stdout",
     "output_type": "stream",
     "text": [
      "Node 175+162\n",
      "\t Child: 175+167\n",
      "\t\tProto:1 cub_109_American_Redstart:(0.9842) cub_158_Bay_breasted_Warbler:(0.9982) cub_160_Black_throated_Blue_Warbler:(0.9984) cub_163_Cape_May_Warbler:(0.9995) cub_164_Cerulean_Warbler:(0.9966) cub_165_Chestnut_sided_Warbler:(0.9999) cub_167_Hooded_Warbler:(0.9993) cub_169_Magnolia_Warbler:(0.9963) cub_174_Palm_Warbler:(0.9985) cub_175_Pine_Warbler:(0.9983) cub_176_Prairie_Warbler:(0.9983) cub_182_Yellow_Warbler:(0.9807) \n",
      "\t\tProto:5 cub_109_American_Redstart:(1.0) cub_158_Bay_breasted_Warbler:(1.0) cub_160_Black_throated_Blue_Warbler:(0.9999) cub_163_Cape_May_Warbler:(0.9997) cub_164_Cerulean_Warbler:(0.9997) cub_165_Chestnut_sided_Warbler:(1.0) cub_167_Hooded_Warbler:(0.9995) cub_169_Magnolia_Warbler:(0.9986) cub_174_Palm_Warbler:(0.9999) cub_175_Pine_Warbler:(0.9992) cub_176_Prairie_Warbler:(0.9998) cub_182_Yellow_Warbler:(0.9979) \n",
      "\t\tProto:6 cub_109_American_Redstart:(1.0) cub_158_Bay_breasted_Warbler:(1.0) cub_160_Black_throated_Blue_Warbler:(1.0) cub_163_Cape_May_Warbler:(0.9993) cub_164_Cerulean_Warbler:(1.0) cub_165_Chestnut_sided_Warbler:(0.9997) cub_167_Hooded_Warbler:(0.9989) cub_169_Magnolia_Warbler:(0.999) cub_174_Palm_Warbler:(1.0) cub_175_Pine_Warbler:(0.9997) cub_176_Prairie_Warbler:(0.9992) cub_182_Yellow_Warbler:(0.9927) \n",
      "\t Child: 162+180\n",
      "\t\tProto:14 cub_162_Canada_Warbler:(0.9999) cub_180_Wilson_Warbler:(1.0) \n"
     ]
    },
    {
     "name": "stderr",
     "output_type": "stream",
     "text": [
      "Collecting topk: 145it [00:12, 12.04it/s]\n"
     ]
    },
    {
     "name": "stdout",
     "output_type": "stream",
     "text": [
      "Node 168+177\n",
      "\t Child: 168+200\n",
      "\t\tProto:0 cub_168_Kentucky_Warbler:(0.9999) cub_170_Mourning_Warbler:(0.9999) cub_200_Common_Yellowthroat:(1.0) \n",
      "\t\tProto:3 cub_168_Kentucky_Warbler:(1.0) cub_170_Mourning_Warbler:(0.9996) cub_200_Common_Yellowthroat:(0.9999) \n",
      "\t Child: 177+178\n",
      "\t\tProto:12 cub_177_Prothonotary_Warbler:(0.9999) cub_178_Swainson_Warbler:(0.9998) \n",
      "\t\tProto:14 cub_177_Prothonotary_Warbler:(1.0) cub_178_Swainson_Warbler:(0.9999) \n"
     ]
    },
    {
     "name": "stderr",
     "output_type": "stream",
     "text": [
      "Collecting topk: 148it [00:12, 12.20it/s]\n"
     ]
    },
    {
     "name": "stdout",
     "output_type": "stream",
     "text": [
      "Node 173+161\n",
      "\t Child: 173+179\n",
      "\t\tProto:8 cub_172_Nashville_Warbler:(1.0) cub_173_Orange_crowned_Warbler:(1.0) cub_179_Tennessee_Warbler:(1.0) \n",
      "\t\tProto:1 cub_172_Nashville_Warbler:(1.0) cub_173_Orange_crowned_Warbler:(0.9999) cub_179_Tennessee_Warbler:(0.9999) \n",
      "\t Child: 161+166\n",
      "\t\tProto:12 cub_161_Blue_winged_Warbler:(1.0) cub_166_Golden_winged_Warbler:(1.0) \n"
     ]
    },
    {
     "name": "stderr",
     "output_type": "stream",
     "text": [
      "Collecting topk: 90it [00:09,  9.29it/s]   \n"
     ]
    },
    {
     "name": "stdout",
     "output_type": "stream",
     "text": [
      "Node 183+159\n",
      "\t Child: 183+184\n",
      "\t\tProto:7 cub_183_Northern_Waterthrush:(1.0) cub_184_Louisiana_Waterthrush:(1.0) \n",
      "\t Child: cub_159_Black_and_white_Warbler\n",
      "\t\tProto:14 cub_159_Black_and_white_Warbler:(1.0) \n"
     ]
    },
    {
     "name": "stderr",
     "output_type": "stream",
     "text": [
      "Collecting topk: 258it [00:16, 15.47it/s]\n"
     ]
    },
    {
     "name": "stdout",
     "output_type": "stream",
     "text": [
      "Node 129+128\n",
      "\t Child: 129+127\n",
      "\t\tProto:8 cub_113_Baird_Sparrow:(0.9995) cub_123_Henslow_Sparrow:(0.9999) cub_125_Lincoln_Sparrow:(1.0) cub_127_Savannah_Sparrow:(0.9995) cub_129_Song_Sparrow:(1.0) \n",
      "\t\tProto:7 cub_113_Baird_Sparrow:(0.999) cub_123_Henslow_Sparrow:(0.9999) cub_125_Lincoln_Sparrow:(0.9995) cub_127_Savannah_Sparrow:(0.9965) cub_129_Song_Sparrow:(0.9993) \n",
      "\t Child: 128+131\n",
      "\t\tProto:12 cub_124_Le_Conte_Sparrow:(1.0) cub_126_Nelson_Sharp_tailed_Sparrow:(1.0) cub_128_Seaside_Sparrow:(1.0) cub_131_Vesper_Sparrow:(0.9996) \n",
      "\t\tProto:13 cub_124_Le_Conte_Sparrow:(1.0) cub_126_Nelson_Sharp_tailed_Sparrow:(1.0) cub_128_Seaside_Sparrow:(0.9999) cub_131_Vesper_Sparrow:(0.9962) \n"
     ]
    },
    {
     "name": "stderr",
     "output_type": "stream",
     "text": [
      "Collecting topk: 100% 60/60 [00:08<00:00,  7.22it/s]\n"
     ]
    },
    {
     "name": "stdout",
     "output_type": "stream",
     "text": [
      "Node 021+148\n",
      "\t Child: cub_021_Eastern_Towhee\n",
      "\t\tProto:8 cub_021_Eastern_Towhee:(1.0) \n",
      "\t\tProto:2 cub_021_Eastern_Towhee:(0.9997) \n",
      "\t Child: cub_148_Green_tailed_Towhee\n",
      "\t\tProto:19 cub_148_Green_tailed_Towhee:(1.0) \n"
     ]
    },
    {
     "name": "stderr",
     "output_type": "stream",
     "text": [
      "Collecting topk: 120it [00:10, 11.16it/s]  \n"
     ]
    },
    {
     "name": "stdout",
     "output_type": "stream",
     "text": [
      "Node 133+076\n",
      "\t Child: 133+132\n",
      "\t\tProto:1 cub_122_Harris_Sparrow:(0.9999) cub_132_White_crowned_Sparrow:(1.0) cub_133_White_throated_Sparrow:(1.0) \n",
      "\t\tProto:3 cub_122_Harris_Sparrow:(1.0) cub_132_White_crowned_Sparrow:(1.0) cub_133_White_throated_Sparrow:(1.0) \n",
      "\t Child: cub_076_Dark_eyed_Junco\n",
      "\t\tProto:12 cub_076_Dark_eyed_Junco:(1.0) \n"
     ]
    },
    {
     "name": "stderr",
     "output_type": "stream",
     "text": [
      "Collecting topk: 100% 60/60 [00:08<00:00,  7.24it/s]\n"
     ]
    },
    {
     "name": "stdout",
     "output_type": "stream",
     "text": [
      "Node 130+120\n",
      "\t Child: cub_130_Tree_Sparrow\n",
      "\t\tProto:1 cub_130_Tree_Sparrow:(0.9999) \n",
      "\t\tProto:4 cub_130_Tree_Sparrow:(1.0) \n",
      "\t Child: cub_120_Fox_Sparrow\n",
      "\t\tProto:18 cub_120_Fox_Sparrow:(1.0) \n",
      "\t\tProto:13 cub_120_Fox_Sparrow:(1.0) \n"
     ]
    },
    {
     "name": "stderr",
     "output_type": "stream",
     "text": [
      "Collecting topk: 100% 59/59 [00:08<00:00,  7.13it/s]\n"
     ]
    },
    {
     "name": "stdout",
     "output_type": "stream",
     "text": [
      "Node 117+116\n",
      "\t Child: cub_117_Clay_colored_Sparrow\n",
      "\t\tProto:8 cub_117_Clay_colored_Sparrow:(1.0) \n",
      "\t\tProto:4 cub_117_Clay_colored_Sparrow:(0.9998) \n",
      "\t Child: cub_116_Chipping_Sparrow\n",
      "\t\tProto:18 cub_116_Chipping_Sparrow:(1.0) \n"
     ]
    },
    {
     "name": "stderr",
     "output_type": "stream",
     "text": [
      "Collecting topk: 100% 58/58 [00:08<00:00,  6.93it/s]\n"
     ]
    },
    {
     "name": "stdout",
     "output_type": "stream",
     "text": [
      "Node 115+119\n",
      "\t Child: cub_115_Brewer_Sparrow\n",
      "\t\tProto:5 cub_115_Brewer_Sparrow:(1.0) \n",
      "\t Child: cub_119_Field_Sparrow\n",
      "\t\tProto:10 cub_119_Field_Sparrow:(1.0) \n",
      "\t\tProto:18 cub_119_Field_Sparrow:(0.9993) \n"
     ]
    },
    {
     "name": "stderr",
     "output_type": "stream",
     "text": [
      "Collecting topk: 100% 59/59 [00:08<00:00,  7.17it/s]\n"
     ]
    },
    {
     "name": "stdout",
     "output_type": "stream",
     "text": [
      "Node 011+009\n",
      "\t Child: cub_011_Rusty_Blackbird\n",
      "\t\tProto:7 cub_011_Rusty_Blackbird:(0.9999) \n",
      "\t Child: cub_009_Brewer_Blackbird\n",
      "\t\tProto:10 cub_009_Brewer_Blackbird:(1.0) \n",
      "\t\tProto:18 cub_009_Brewer_Blackbird:(0.9998) \n"
     ]
    },
    {
     "name": "stderr",
     "output_type": "stream",
     "text": [
      "Collecting topk: 100% 60/60 [00:07<00:00,  7.79it/s]\n"
     ]
    },
    {
     "name": "stdout",
     "output_type": "stream",
     "text": [
      "Node 026+027\n",
      "\t Child: cub_026_Bronzed_Cowbird\n",
      "\t\tProto:2 cub_026_Bronzed_Cowbird:(1.0) \n",
      "\t Child: cub_027_Shiny_Cowbird\n",
      "\t\tProto:14 cub_027_Shiny_Cowbird:(1.0) \n"
     ]
    },
    {
     "name": "stderr",
     "output_type": "stream",
     "text": [
      "Collecting topk: 358it [00:21, 16.97it/s]  \n"
     ]
    },
    {
     "name": "stdout",
     "output_type": "stream",
     "text": [
      "Node 175+167\n",
      "\t Child: 175+169\n",
      "\t\tProto:8 cub_109_American_Redstart:(0.9999) cub_158_Bay_breasted_Warbler:(1.0) cub_160_Black_throated_Blue_Warbler:(1.0) cub_163_Cape_May_Warbler:(1.0) cub_164_Cerulean_Warbler:(0.9999) cub_165_Chestnut_sided_Warbler:(1.0) cub_169_Magnolia_Warbler:(0.9995) cub_174_Palm_Warbler:(1.0) cub_175_Pine_Warbler:(0.9997) cub_176_Prairie_Warbler:(0.9999) cub_182_Yellow_Warbler:(1.0) \n",
      "\t\tProto:7 cub_109_American_Redstart:(0.9997) cub_158_Bay_breasted_Warbler:(0.9998) cub_160_Black_throated_Blue_Warbler:(0.9997) cub_163_Cape_May_Warbler:(0.9998) cub_164_Cerulean_Warbler:(1.0) cub_165_Chestnut_sided_Warbler:(0.9989) cub_169_Magnolia_Warbler:(0.9993) cub_174_Palm_Warbler:(1.0) cub_175_Pine_Warbler:(0.9995) cub_176_Prairie_Warbler:(0.9994) cub_182_Yellow_Warbler:(0.9992) \n",
      "\t Child: cub_167_Hooded_Warbler\n",
      "\t\tProto:18 cub_167_Hooded_Warbler:(0.9993) \n",
      "\t\tProto:12 cub_167_Hooded_Warbler:(0.9954) \n"
     ]
    },
    {
     "name": "stderr",
     "output_type": "stream",
     "text": [
      "Collecting topk: 100% 60/60 [00:08<00:00,  7.39it/s]\n"
     ]
    },
    {
     "name": "stdout",
     "output_type": "stream",
     "text": [
      "Node 162+180\n",
      "\t Child: cub_162_Canada_Warbler\n",
      "\t\tProto:6 cub_162_Canada_Warbler:(1.0) \n",
      "\t Child: cub_180_Wilson_Warbler\n",
      "\t\tProto:10 cub_180_Wilson_Warbler:(1.0) \n"
     ]
    },
    {
     "name": "stderr",
     "output_type": "stream",
     "text": [
      "Collecting topk: 89it [00:09,  9.24it/s]   \n"
     ]
    },
    {
     "name": "stdout",
     "output_type": "stream",
     "text": [
      "Node 168+200\n",
      "\t Child: 168+170\n",
      "\t\tProto:8 cub_168_Kentucky_Warbler:(1.0) cub_170_Mourning_Warbler:(0.9994) \n",
      "\t\tProto:3 cub_168_Kentucky_Warbler:(1.0) cub_170_Mourning_Warbler:(1.0) \n",
      "\t Child: cub_200_Common_Yellowthroat\n",
      "\t\tProto:10 cub_200_Common_Yellowthroat:(1.0) \n",
      "\t\tProto:19 cub_200_Common_Yellowthroat:(1.0) \n"
     ]
    },
    {
     "name": "stderr",
     "output_type": "stream",
     "text": [
      "Collecting topk: 100% 56/56 [00:08<00:00,  6.80it/s]\n"
     ]
    },
    {
     "name": "stdout",
     "output_type": "stream",
     "text": [
      "Node 177+178\n",
      "\t Child: cub_177_Prothonotary_Warbler\n",
      "\t\tProto:2 cub_177_Prothonotary_Warbler:(1.0) \n",
      "\t Child: cub_178_Swainson_Warbler\n",
      "\t\tProto:12 cub_178_Swainson_Warbler:(1.0) \n"
     ]
    },
    {
     "name": "stderr",
     "output_type": "stream",
     "text": [
      "Collecting topk: 89it [00:09,  9.34it/s]   \n"
     ]
    },
    {
     "name": "stdout",
     "output_type": "stream",
     "text": [
      "Node 173+179\n",
      "\t Child: 173+172\n",
      "\t\tProto:0 cub_172_Nashville_Warbler:(0.9999) cub_173_Orange_crowned_Warbler:(0.9988) \n",
      "\t\tProto:1 cub_172_Nashville_Warbler:(1.0) cub_173_Orange_crowned_Warbler:(0.9999) \n",
      "\t Child: cub_179_Tennessee_Warbler\n",
      "\t\tProto:19 cub_179_Tennessee_Warbler:(0.9998) \n",
      "\t\tProto:11 cub_179_Tennessee_Warbler:(0.9938) \n"
     ]
    },
    {
     "name": "stderr",
     "output_type": "stream",
     "text": [
      "Collecting topk: 100% 59/59 [00:08<00:00,  7.05it/s]\n"
     ]
    },
    {
     "name": "stdout",
     "output_type": "stream",
     "text": [
      "Node 161+166\n",
      "\t Child: cub_161_Blue_winged_Warbler\n",
      "\t\tProto:5 cub_161_Blue_winged_Warbler:(1.0) \n",
      "\t Child: cub_166_Golden_winged_Warbler\n",
      "\t\tProto:13 cub_166_Golden_winged_Warbler:(1.0) \n"
     ]
    },
    {
     "name": "stderr",
     "output_type": "stream",
     "text": [
      "Collecting topk: 100% 60/60 [00:08<00:00,  7.32it/s]\n"
     ]
    },
    {
     "name": "stdout",
     "output_type": "stream",
     "text": [
      "Node 183+184\n",
      "\t Child: cub_183_Northern_Waterthrush\n",
      "\t\tProto:7 cub_183_Northern_Waterthrush:(1.0) \n",
      "\t Child: cub_184_Louisiana_Waterthrush\n",
      "\t\tProto:19 cub_184_Louisiana_Waterthrush:(1.0) \n"
     ]
    },
    {
     "name": "stderr",
     "output_type": "stream",
     "text": [
      "Collecting topk: 139it [00:11, 11.60it/s]  \n"
     ]
    },
    {
     "name": "stdout",
     "output_type": "stream",
     "text": [
      "Node 129+127\n",
      "\t Child: 129+123\n",
      "\t\tProto:0 cub_113_Baird_Sparrow:(0.9968) cub_123_Henslow_Sparrow:(0.9999) cub_125_Lincoln_Sparrow:(0.9978) cub_129_Song_Sparrow:(0.9663) \n",
      "\t\tProto:4 cub_113_Baird_Sparrow:(0.9998) cub_123_Henslow_Sparrow:(0.9999) cub_125_Lincoln_Sparrow:(1.0) cub_129_Song_Sparrow:(0.9997) \n",
      "\t Child: cub_127_Savannah_Sparrow\n",
      "\t\tProto:12 cub_127_Savannah_Sparrow:(1.0) \n"
     ]
    },
    {
     "name": "stderr",
     "output_type": "stream",
     "text": [
      "Collecting topk: 119it [00:10, 10.92it/s]  \n"
     ]
    },
    {
     "name": "stdout",
     "output_type": "stream",
     "text": [
      "Node 128+131\n",
      "\t Child: 128+124\n",
      "\t\tProto:9 cub_124_Le_Conte_Sparrow:(1.0) cub_126_Nelson_Sharp_tailed_Sparrow:(1.0) cub_128_Seaside_Sparrow:(1.0) \n",
      "\t Child: cub_131_Vesper_Sparrow\n",
      "\t\tProto:19 cub_131_Vesper_Sparrow:(1.0) \n"
     ]
    },
    {
     "name": "stderr",
     "output_type": "stream",
     "text": [
      "Collecting topk: 90it [00:09,  9.19it/s]   \n"
     ]
    },
    {
     "name": "stdout",
     "output_type": "stream",
     "text": [
      "Node 133+132\n",
      "\t Child: 133+122\n",
      "\t\tProto:0 cub_122_Harris_Sparrow:(1.0) cub_133_White_throated_Sparrow:(1.0) \n",
      "\t Child: cub_132_White_crowned_Sparrow\n",
      "\t\tProto:16 cub_132_White_crowned_Sparrow:(1.0) \n"
     ]
    },
    {
     "name": "stderr",
     "output_type": "stream",
     "text": [
      "Collecting topk: 328it [00:19, 16.40it/s]  \n"
     ]
    },
    {
     "name": "stdout",
     "output_type": "stream",
     "text": [
      "Node 175+169\n",
      "\t Child: 175+165+182\n",
      "\t\tProto:9 cub_109_American_Redstart:(0.9995) cub_158_Bay_breasted_Warbler:(0.9999) cub_160_Black_throated_Blue_Warbler:(0.9996) cub_163_Cape_May_Warbler:(0.9971) cub_164_Cerulean_Warbler:(0.9993) cub_165_Chestnut_sided_Warbler:(0.9987) cub_174_Palm_Warbler:(0.9988) cub_175_Pine_Warbler:(0.9976) cub_176_Prairie_Warbler:(0.9806) cub_182_Yellow_Warbler:(0.9987) \n",
      "\t\tProto:3 cub_109_American_Redstart:(1.0) cub_158_Bay_breasted_Warbler:(0.9999) cub_160_Black_throated_Blue_Warbler:(0.9997) cub_163_Cape_May_Warbler:(0.9994) cub_164_Cerulean_Warbler:(0.9999) cub_165_Chestnut_sided_Warbler:(0.9999) cub_174_Palm_Warbler:(0.9999) cub_175_Pine_Warbler:(0.9982) cub_176_Prairie_Warbler:(0.9996) cub_182_Yellow_Warbler:(0.9997) \n",
      "\t\tProto:5 cub_109_American_Redstart:(0.9895) cub_158_Bay_breasted_Warbler:(0.9964) cub_160_Black_throated_Blue_Warbler:(0.9989) cub_163_Cape_May_Warbler:(0.9863) cub_164_Cerulean_Warbler:(0.9976) cub_165_Chestnut_sided_Warbler:(0.9673) cub_174_Palm_Warbler:(0.9969) cub_175_Pine_Warbler:(0.9892) cub_176_Prairie_Warbler:(0.9852) cub_182_Yellow_Warbler:(0.9923) \n",
      "\t\tProto:6 cub_109_American_Redstart:(0.8673) cub_158_Bay_breasted_Warbler:(0.967) cub_160_Black_throated_Blue_Warbler:(0.9598) cub_163_Cape_May_Warbler:(0.9584) cub_164_Cerulean_Warbler:(0.8275) cub_165_Chestnut_sided_Warbler:(0.7606) cub_174_Palm_Warbler:(0.9124) cub_175_Pine_Warbler:(0.9757) cub_176_Prairie_Warbler:(0.9014) cub_182_Yellow_Warbler:(0.9702) \n",
      "\t Child: cub_169_Magnolia_Warbler\n",
      "\t\tProto:19 cub_169_Magnolia_Warbler:(0.9962) \n",
      "\t\tProto:11 cub_169_Magnolia_Warbler:(0.9966) \n"
     ]
    },
    {
     "name": "stderr",
     "output_type": "stream",
     "text": [
      "Collecting topk: 100% 59/59 [00:08<00:00,  7.04it/s]\n"
     ]
    },
    {
     "name": "stdout",
     "output_type": "stream",
     "text": [
      "Node 168+170\n",
      "\t Child: cub_168_Kentucky_Warbler\n",
      "\t\tProto:1 cub_168_Kentucky_Warbler:(0.9999) \n",
      "\t\tProto:2 cub_168_Kentucky_Warbler:(1.0) \n",
      "\t Child: cub_170_Mourning_Warbler\n",
      "\t\tProto:18 cub_170_Mourning_Warbler:(1.0) \n"
     ]
    },
    {
     "name": "stderr",
     "output_type": "stream",
     "text": [
      "Collecting topk: 100% 60/60 [00:09<00:00,  6.57it/s]\n"
     ]
    },
    {
     "name": "stdout",
     "output_type": "stream",
     "text": [
      "Node 173+172\n",
      "\t Child: cub_173_Orange_crowned_Warbler\n",
      "\t\tProto:8 cub_173_Orange_crowned_Warbler:(0.9998) \n",
      "\t\tProto:9 cub_173_Orange_crowned_Warbler:(1.0) \n",
      "\t Child: cub_172_Nashville_Warbler\n",
      "\t\tProto:15 cub_172_Nashville_Warbler:(1.0) \n"
     ]
    },
    {
     "name": "stderr",
     "output_type": "stream",
     "text": [
      "Collecting topk: 109it [00:10, 10.32it/s]\n"
     ]
    },
    {
     "name": "stdout",
     "output_type": "stream",
     "text": [
      "Node 129+123\n",
      "\t Child: 129+125\n",
      "\t\tProto:1 cub_125_Lincoln_Sparrow:(1.0) cub_129_Song_Sparrow:(1.0) \n",
      "\t\tProto:3 cub_125_Lincoln_Sparrow:(1.0) cub_129_Song_Sparrow:(1.0) \n",
      "\t Child: 123+113\n",
      "\t\tProto:17 cub_113_Baird_Sparrow:(0.9999) cub_123_Henslow_Sparrow:(1.0) \n",
      "\t\tProto:12 cub_113_Baird_Sparrow:(1.0) cub_123_Henslow_Sparrow:(1.0) \n"
     ]
    },
    {
     "name": "stderr",
     "output_type": "stream",
     "text": [
      "Collecting topk: 89it [00:09,  9.66it/s]   \n"
     ]
    },
    {
     "name": "stdout",
     "output_type": "stream",
     "text": [
      "Node 128+124\n",
      "\t Child: 128+126\n",
      "\t\tProto:3 cub_126_Nelson_Sharp_tailed_Sparrow:(1.0) cub_128_Seaside_Sparrow:(1.0) \n",
      "\t Child: cub_124_Le_Conte_Sparrow\n",
      "\t\tProto:11 cub_124_Le_Conte_Sparrow:(1.0) \n",
      "\t\tProto:12 cub_124_Le_Conte_Sparrow:(1.0) \n"
     ]
    },
    {
     "name": "stderr",
     "output_type": "stream",
     "text": [
      "Collecting topk: 100% 60/60 [00:08<00:00,  7.47it/s]\n"
     ]
    },
    {
     "name": "stdout",
     "output_type": "stream",
     "text": [
      "Node 133+122\n",
      "\t Child: cub_133_White_throated_Sparrow\n",
      "\t\tProto:5 cub_133_White_throated_Sparrow:(1.0) \n",
      "\t Child: cub_122_Harris_Sparrow\n",
      "\t\tProto:16 cub_122_Harris_Sparrow:(1.0) \n",
      "\t\tProto:19 cub_122_Harris_Sparrow:(1.0) \n"
     ]
    },
    {
     "name": "stderr",
     "output_type": "stream",
     "text": [
      "Collecting topk: 299it [00:19, 15.62it/s]  \n"
     ]
    },
    {
     "name": "stdout",
     "output_type": "stream",
     "text": [
      "Node 175+165+182\n",
      "\t Child: 175+160\n",
      "\t\tProto:3 cub_109_American_Redstart:(0.9948) cub_160_Black_throated_Blue_Warbler:(0.998) cub_174_Palm_Warbler:(0.9933) cub_175_Pine_Warbler:(0.9514) cub_176_Prairie_Warbler:(0.9791) \n",
      "\t\tProto:7 cub_109_American_Redstart:(0.9998) cub_160_Black_throated_Blue_Warbler:(0.9999) cub_174_Palm_Warbler:(0.9975) cub_175_Pine_Warbler:(0.9841) cub_176_Prairie_Warbler:(0.9926) \n",
      "\t Child: 165+164+163\n",
      "\t\tProto:19 cub_158_Bay_breasted_Warbler:(0.9887) cub_163_Cape_May_Warbler:(0.9849) cub_164_Cerulean_Warbler:(0.9719) cub_165_Chestnut_sided_Warbler:(0.9986) \n",
      "\t\tProto:12 cub_158_Bay_breasted_Warbler:(0.9975) cub_163_Cape_May_Warbler:(0.9987) cub_164_Cerulean_Warbler:(0.9931) cub_165_Chestnut_sided_Warbler:(0.9996) \n",
      "\t\tProto:14 cub_158_Bay_breasted_Warbler:(0.9598) cub_163_Cape_May_Warbler:(0.9325) cub_164_Cerulean_Warbler:(0.9805) cub_165_Chestnut_sided_Warbler:(0.9862) \n",
      "\t Child: cub_182_Yellow_Warbler\n",
      "\t\tProto:26 cub_182_Yellow_Warbler:(0.9999) \n",
      "\t\tProto:29 cub_182_Yellow_Warbler:(0.9999) \n"
     ]
    },
    {
     "name": "stderr",
     "output_type": "stream",
     "text": [
      "Collecting topk: 100% 59/59 [00:08<00:00,  7.02it/s]\n"
     ]
    },
    {
     "name": "stdout",
     "output_type": "stream",
     "text": [
      "Node 129+125\n",
      "\t Child: cub_129_Song_Sparrow\n",
      "\t\tProto:3 cub_129_Song_Sparrow:(1.0) \n",
      "\t Child: cub_125_Lincoln_Sparrow\n",
      "\t\tProto:16 cub_125_Lincoln_Sparrow:(1.0) \n",
      "\t\tProto:18 cub_125_Lincoln_Sparrow:(1.0) \n"
     ]
    },
    {
     "name": "stderr",
     "output_type": "stream",
     "text": [
      "Collecting topk: 100% 50/50 [00:07<00:00,  6.35it/s]\n"
     ]
    },
    {
     "name": "stdout",
     "output_type": "stream",
     "text": [
      "Node 123+113\n",
      "\t Child: cub_123_Henslow_Sparrow\n",
      "\t\tProto:7 cub_123_Henslow_Sparrow:(1.0) \n",
      "\t Child: cub_113_Baird_Sparrow\n",
      "\t\tProto:11 cub_113_Baird_Sparrow:(1.0) \n"
     ]
    },
    {
     "name": "stderr",
     "output_type": "stream",
     "text": [
      "Collecting topk: 100% 60/60 [00:08<00:00,  7.21it/s]\n"
     ]
    },
    {
     "name": "stdout",
     "output_type": "stream",
     "text": [
      "Node 128+126\n",
      "\t Child: cub_128_Seaside_Sparrow\n",
      "\t\tProto:8 cub_128_Seaside_Sparrow:(1.0) \n",
      "\t Child: cub_126_Nelson_Sharp_tailed_Sparrow\n",
      "\t\tProto:16 cub_126_Nelson_Sharp_tailed_Sparrow:(1.0) \n"
     ]
    },
    {
     "name": "stderr",
     "output_type": "stream",
     "text": [
      "Collecting topk: 149it [00:11, 12.55it/s]\n"
     ]
    },
    {
     "name": "stdout",
     "output_type": "stream",
     "text": [
      "Node 175+160\n",
      "\t Child: 175+176\n",
      "\t\tProto:0 cub_174_Palm_Warbler:(1.0) cub_175_Pine_Warbler:(0.9999) cub_176_Prairie_Warbler:(1.0) \n",
      "\t\tProto:8 cub_174_Palm_Warbler:(1.0) cub_175_Pine_Warbler:(0.9999) cub_176_Prairie_Warbler:(1.0) \n",
      "\t\tProto:6 cub_174_Palm_Warbler:(1.0) cub_175_Pine_Warbler:(0.9999) cub_176_Prairie_Warbler:(1.0) \n",
      "\t Child: 160+109\n",
      "\t\tProto:13 cub_109_American_Redstart:(1.0) cub_160_Black_throated_Blue_Warbler:(1.0) \n"
     ]
    },
    {
     "name": "stderr",
     "output_type": "stream",
     "text": [
      "Collecting topk: 120it [00:11, 10.65it/s]  \n"
     ]
    },
    {
     "name": "stdout",
     "output_type": "stream",
     "text": [
      "Node 165+164+163\n",
      "\t Child: 165+158\n",
      "\t\tProto:1 cub_158_Bay_breasted_Warbler:(1.0) cub_165_Chestnut_sided_Warbler:(1.0) \n",
      "\t Child: cub_164_Cerulean_Warbler\n",
      "\t\tProto:13 cub_164_Cerulean_Warbler:(1.0) \n",
      "\t\tProto:14 cub_164_Cerulean_Warbler:(1.0) \n",
      "\t Child: cub_163_Cape_May_Warbler\n",
      "\t\tProto:26 cub_163_Cape_May_Warbler:(1.0) \n",
      "\t\tProto:28 cub_163_Cape_May_Warbler:(1.0) \n"
     ]
    },
    {
     "name": "stderr",
     "output_type": "stream",
     "text": [
      "Collecting topk: 90it [00:09,  9.26it/s]   \n"
     ]
    },
    {
     "name": "stdout",
     "output_type": "stream",
     "text": [
      "Node 175+176\n",
      "\t Child: 175+174\n",
      "\t\tProto:2 cub_174_Palm_Warbler:(1.0) cub_175_Pine_Warbler:(1.0) \n",
      "\t Child: cub_176_Prairie_Warbler\n",
      "\t\tProto:15 cub_176_Prairie_Warbler:(1.0) \n"
     ]
    },
    {
     "name": "stderr",
     "output_type": "stream",
     "text": [
      "Collecting topk: 100% 59/59 [00:08<00:00,  6.81it/s]\n"
     ]
    },
    {
     "name": "stdout",
     "output_type": "stream",
     "text": [
      "Node 160+109\n",
      "\t Child: cub_160_Black_throated_Blue_Warbler\n",
      "\t\tProto:7 cub_160_Black_throated_Blue_Warbler:(1.0) \n",
      "\t Child: cub_109_American_Redstart\n",
      "\t\tProto:16 cub_109_American_Redstart:(1.0) \n"
     ]
    },
    {
     "name": "stderr",
     "output_type": "stream",
     "text": [
      "Collecting topk: 100% 60/60 [00:08<00:00,  6.82it/s]\n"
     ]
    },
    {
     "name": "stdout",
     "output_type": "stream",
     "text": [
      "Node 165+158\n",
      "\t Child: cub_165_Chestnut_sided_Warbler\n",
      "\t\tProto:8 cub_165_Chestnut_sided_Warbler:(1.0) \n",
      "\t Child: cub_158_Bay_breasted_Warbler\n",
      "\t\tProto:11 cub_158_Bay_breasted_Warbler:(1.0) \n",
      "\t\tProto:12 cub_158_Bay_breasted_Warbler:(1.0) \n"
     ]
    },
    {
     "name": "stderr",
     "output_type": "stream",
     "text": [
      "Collecting topk: 100% 60/60 [00:08<00:00,  6.92it/s]\n"
     ]
    },
    {
     "name": "stdout",
     "output_type": "stream",
     "text": [
      "Node 175+174\n",
      "\t Child: cub_175_Pine_Warbler\n",
      "\t\tProto:9 cub_175_Pine_Warbler:(1.0) \n",
      "\t Child: cub_174_Palm_Warbler\n",
      "\t\tProto:19 cub_174_Palm_Warbler:(1.0) \n",
      "Done !!!\n"
     ]
    }
   ],
   "source": [
    "# Proto activations on leaf descendents - topk images\n",
    "\n",
    "def get_heatmap(latent_activation, input_image):\n",
    "    image_a = latent_activation.cpu().numpy()\n",
    "    image_a = (image_a - image_a.min()) / (image_a.max() - image_a.min())\n",
    "\n",
    "    # input_image = (input_image - input_image.min()) / (input_image.max() - input_image.min())\n",
    "    image_b = input_image.permute(1, 2, 0).cpu().numpy()\n",
    "    \n",
    "    reshaped_image_a = np.array(Image.fromarray((image_a[0] * 255).astype('uint8')).resize((input_image.shape[-1], input_image.shape[-1])))\n",
    "    normalized_heatmap = (reshaped_image_a - np.min(reshaped_image_a)) / (np.max(reshaped_image_a) - np.min(reshaped_image_a))\n",
    "    \n",
    "    heatmap_colormap = plt.get_cmap('jet')\n",
    "    heatmap_colored = heatmap_colormap(normalized_heatmap)\n",
    "    \n",
    "    heatmap_colored_uint8 = (heatmap_colored[:, :, :3] * 255).astype(np.uint8)\n",
    "    image_a_heatmap_pillow = Image.fromarray(heatmap_colored_uint8)\n",
    "    image_b_pillow = Image.fromarray((image_b * 255).astype('uint8'))\n",
    "    \n",
    "    result_image = Image.blend(image_b_pillow, image_a_heatmap_pillow, alpha=0.3)\n",
    "    \n",
    "    return np.array(result_image)\n",
    "\n",
    "def get_heatmap_uninterpolated(latent_activation, input_image):\n",
    "    image_a = latent_activation.cpu().numpy()\n",
    "    image_a = (image_a - image_a.min()) / (image_a.max() - image_a.min())\n",
    "\n",
    "    input_image = (input_image - input_image.min()) / (input_image.max() - input_image.min())\n",
    "    image_b = input_image.permute(1, 2, 0).cpu().numpy()\n",
    "    \n",
    "    reshaped_image_a = np.array(Image.fromarray((image_a[0] * 255).astype('uint8')).resize((input_image.shape[-1], input_image.shape[-1]), \\\n",
    "                                                                                          resample=Image.NEAREST ))\n",
    "    normalized_heatmap = (reshaped_image_a - np.min(reshaped_image_a)) / (np.max(reshaped_image_a) - np.min(reshaped_image_a))\n",
    "    \n",
    "    heatmap_colormap = plt.get_cmap('jet')\n",
    "    heatmap_colored = heatmap_colormap(normalized_heatmap)\n",
    "    \n",
    "    heatmap_colored_uint8 = (heatmap_colored[:, :, :3] * 255).astype(np.uint8)\n",
    "    image_a_heatmap_pillow = Image.fromarray(heatmap_colored_uint8)\n",
    "    image_b_pillow = Image.fromarray((image_b * 255).astype('uint8'))\n",
    "    \n",
    "    result_image = Image.blend(image_b_pillow, image_a_heatmap_pillow, alpha=0.3)\n",
    "    \n",
    "    return np.array(result_image)\n",
    "\n",
    "from util.data import ModifiedLabelLoader\n",
    "from collections import defaultdict\n",
    "import heapq\n",
    "import pdb\n",
    "from util.vis_pipnet import get_img_coordinates\n",
    "import torchvision.transforms as transforms\n",
    "from PIL import ImageFont, Image, ImageDraw as D\n",
    "import torchvision\n",
    "from datetime import datetime\n",
    "from PIL import Image, ImageDraw, ImageFont\n",
    "import math\n",
    "# txt_file = open(os.path.join(run_path, \"num_proto_details_\"+datetime.now().strftime(\"%m:%d:%H:%M:%S\")+\".txt\"), \"a\")\n",
    "# txt_file.write('\\n')\n",
    "\n",
    "vizloader_name = 'testloader' # projectloader\n",
    "find_non_descendants = False # True, False # param\n",
    "topk = 10\n",
    "save_images = True # True, False\n",
    "font = ImageFont.truetype(\"arial.ttf\", 50)\n",
    "save_activation_as_npy_path = None # 'activation_as_npy'\n",
    "if (save_activation_as_npy_path is not None):\n",
    "    save_activation_as_npy_path = '_'.join(['activation_as_npy', vizloader_name])  # activation_as_npy, added for NUMPY SAVING\n",
    "if find_non_descendants and (save_activation_as_npy_path is not None):\n",
    "    save_activation_as_npy_path = save_activation_as_npy_path + '_non_desc'\n",
    "plot_overspecificity_score = True\n",
    "subtree_root = root#.get_node('024+051')\n",
    "    \n",
    "from datetime import datetime\n",
    "# txt_file = open(os.path.join(run_path, \"num_proto_details_\"+datetime.now().strftime(\"%m:%d:%H:%M:%S\")+\".txt\"), \"a\")\n",
    "# txt_file.write('\\n')\n",
    "\n",
    "def write_num_proto_details(proto_mean_activations, node_name, net, threshold, txt_file, args):\n",
    "    \n",
    "    rand_input = torch.randn((1, 3, args.image_size, args.image_size))\n",
    "    with torch.no_grad():\n",
    "        *_, pooled, out = net(rand_input)\n",
    "    num_protos = pooled[node_name].shape[1]\n",
    "    used_protos = len(proto_mean_activations)\n",
    "    non_overspecific = 0\n",
    "    for p in proto_mean_activations:\n",
    "        logstr = '\\t'*2 + f'Proto:{p} '\n",
    "        protos_mean_for_all_leaf_descedants = []\n",
    "        for leaf_descendent in proto_mean_activations[p]:\n",
    "            mean_activation = round(np.mean([activation for activation, *_ in proto_mean_activations[p][leaf_descendent]]), 4)\n",
    "            protos_mean_for_all_leaf_descedants.append(mean_activation)\n",
    "            \n",
    "        if all([(mean_activation>0.2) for mean_activation in protos_mean_for_all_leaf_descedants]):\n",
    "            non_overspecific += 1\n",
    "            \n",
    "    txt_file.write(f\"Node:{node_name},Total:{num_protos},Used:{used_protos},Good:{non_overspecific},threshold={threshold}\\n\")\n",
    "\n",
    "\n",
    "def get_heap():\n",
    "    list_ = []\n",
    "    heapq.heapify(list_)\n",
    "    return list_\n",
    "\n",
    "patchsize, skip = get_patch_size(args)\n",
    "\n",
    "\n",
    "vizloader_dict = {'trainloader': trainloader,\n",
    "                 'projectloader': projectloader,\n",
    "                 'testloader': testloader,\n",
    "                 'test_projectloader': test_projectloader}\n",
    "vizloader_dict[vizloader_name] = unshuffle_dataloader(vizloader_dict[vizloader_name])\n",
    "\n",
    "\n",
    "if type(vizloader_dict[vizloader_name].dataset) == ImageFolder:\n",
    "    name2label = vizloader_dict[vizloader_name].dataset.class_to_idx\n",
    "    label2name = {label:name for name, label in name2label.items()}\n",
    "else:\n",
    "    name2label = vizloader_dict[vizloader_name].dataset.dataset.dataset.class_to_idx\n",
    "    label2name = {label:name for name, label in name2label.items()}\n",
    "    \n",
    "overspecificity_score_and_proto_mask = []\n",
    "\n",
    "for node in root.nodes_with_children():\n",
    "#     if node.name == 'root':\n",
    "#         continue\n",
    "#     non_leaf_children_names = [child.name for child in node.children if not child.is_leaf()]\n",
    "#     if len(non_leaf_children_names) == 0: # if all the children are leaf nodes then skip this node\n",
    "#         continue\n",
    "\n",
    "    if node.name not in subtree_root.descendents:\n",
    "        print('Skipping node', node.name)\n",
    "        continue\n",
    "\n",
    "    name2label = vizloader_dict[vizloader_name].dataset.class_to_idx\n",
    "    label2name = {label:name for name, label in name2label.items()}\n",
    "    modifiedLabelLoader = ModifiedLabelLoader(vizloader_dict[vizloader_name], node)\n",
    "    coarse_label2name = modifiedLabelLoader.modifiedlabel2name\n",
    "    node_label_to_children = {label: name for name, label in node.children_to_labels.items()}\n",
    "    \n",
    "    imgs = modifiedLabelLoader.filtered_imgs\n",
    "\n",
    "    img_iter = tqdm(enumerate(modifiedLabelLoader),\n",
    "                    total=len(modifiedLabelLoader),\n",
    "                    mininterval=50.,\n",
    "                    desc='Collecting topk',\n",
    "                    ncols=0)\n",
    "\n",
    "    classification_weights = getattr(net.module, '_'+node.name+'_classification').weight\n",
    "    \n",
    "    # maps proto_number -> grand_child_name (or descendant leaf name) -> list of top-k activations\n",
    "    proto_mean_activations = defaultdict(lambda: defaultdict(get_heap))\n",
    "\n",
    "    # maps class names to the prototypes that belong to that\n",
    "    class_and_prototypes = defaultdict(set)\n",
    "\n",
    "    for i, (xs, orig_y, ys) in img_iter:\n",
    "#         if coarse_label2name[ys.item()] not in non_leaf_children_names:\n",
    "#             continue\n",
    "\n",
    "        xs, ys = xs.to(device), ys.to(device)\n",
    "\n",
    "        with torch.no_grad():\n",
    "            model_output = net(xs, inference=False)\n",
    "            if len(model_output) == 3:\n",
    "                softmaxes, pooled, _ = model_output\n",
    "            elif len(model_output) == 4:\n",
    "                _, softmaxes, pooled, _ = model_output\n",
    "            pooled = pooled[node.name].squeeze(0) \n",
    "            softmaxes = softmaxes[node.name]#.squeeze(0)\n",
    "\n",
    "            for p in range(pooled.shape[0]): # pooled.shape -> [768] (== num of prototypes)\n",
    "                c_weight = torch.max(classification_weights[:,p]) # classification_weights[:,p].shape -> [200] (== num of classes)\n",
    "                relevant_proto_classes = torch.nonzero(classification_weights[:, p] > 1e-3)\n",
    "                relevant_proto_class_names = [node_label_to_children[class_idx.item()] for class_idx in relevant_proto_classes]\n",
    "                \n",
    "                # Take the max per prototype.                             \n",
    "                max_per_prototype, max_idx_per_prototype = torch.max(softmaxes, dim=0)\n",
    "                max_per_prototype_h, max_idx_per_prototype_h = torch.max(max_per_prototype, dim=1)\n",
    "                max_per_prototype_w, max_idx_per_prototype_w = torch.max(max_per_prototype_h, dim=1) #shape (num_prototypes)\n",
    "                \n",
    "                h_idx = max_idx_per_prototype_h[p, max_idx_per_prototype_w[p]]\n",
    "                w_idx = max_idx_per_prototype_w[p]\n",
    "\n",
    "                if len(relevant_proto_class_names) == 0:\n",
    "                    continue\n",
    "                \n",
    "#                 if (len(relevant_proto_class_names) == 1) and (relevant_proto_class_names[0] not in non_leaf_children_names):\n",
    "#                     continue\n",
    "                \n",
    "                h_coor_min, h_coor_max, w_coor_min, w_coor_max = get_img_coordinates(args.image_size, softmaxes.shape, patchsize, skip, h_idx, w_idx)\n",
    "                latent_activation = softmaxes[:, p, :, :]\n",
    "                \n",
    "                if not find_non_descendants:\n",
    "                    if (coarse_label2name[ys.item()] in relevant_proto_class_names):\n",
    "                        child_node = root.get_node(coarse_label2name[ys.item()])\n",
    "                        leaf_descendent = label2name[orig_y.item()]#[4:7]\n",
    "                        img_to_open = imgs[i][0] # it is a tuple of (path to image, lable)\n",
    "                        if topk and (len(proto_mean_activations[p][leaf_descendent]) >= topk):\n",
    "                            heapq.heappushpop(proto_mean_activations[p][leaf_descendent],\\\n",
    "                                              (pooled[p].item(), img_to_open,\\\n",
    "                                               (h_coor_min, h_coor_max, w_coor_min, w_coor_max), latent_activation))\n",
    "                        else:\n",
    "                            heapq.heappush(proto_mean_activations[p][leaf_descendent],\\\n",
    "                                           (pooled[p].item(), img_to_open,\\\n",
    "                                            (h_coor_min, h_coor_max, w_coor_min, w_coor_max), latent_activation))\n",
    "                else:\n",
    "                    if (coarse_label2name[ys.item()] not in relevant_proto_class_names):\n",
    "                        child_node = root.get_node(coarse_label2name[ys.item()])\n",
    "                        leaf_descendent = label2name[orig_y.item()]#[4:7]\n",
    "                        img_to_open = imgs[i][0] # it is a tuple of (path to image, lable)\n",
    "                        if topk and (len(proto_mean_activations[p][leaf_descendent]) >= topk):\n",
    "                            heapq.heappushpop(proto_mean_activations[p][leaf_descendent],\\\n",
    "                                              (pooled[p].item(), img_to_open,\\\n",
    "                                               (h_coor_min, h_coor_max, w_coor_min, w_coor_max), latent_activation))\n",
    "                        else:\n",
    "                            heapq.heappush(proto_mean_activations[p][leaf_descendent],\\\n",
    "                                           (pooled[p].item(), img_to_open,\\\n",
    "                                            (h_coor_min, h_coor_max, w_coor_min, w_coor_max), latent_activation))\n",
    "\n",
    "                class_and_prototypes[', '.join(relevant_proto_class_names)].add(p)\n",
    "\n",
    "    # write_num_proto_details(proto_mean_activations, node.name, net, threshold=0.2, txt_file=txt_file, args=args)\n",
    "\n",
    "    if plot_overspecificity_score:\n",
    "        for child_classname in class_and_prototypes:\n",
    "            for p in class_and_prototypes[child_classname]:\n",
    "                mean_activation_of_every_leaf = []\n",
    "                for leaf_descendent in proto_mean_activations[p]:\n",
    "                    mean_activation = round(np.mean([activation for activation, *_ in proto_mean_activations[p][leaf_descendent]]), 4)\n",
    "                    mean_activation_of_every_leaf.append(mean_activation)\n",
    "\n",
    "                overspecificity_score = 1\n",
    "                for mean_act in mean_activation_of_every_leaf:\n",
    "                    overspecificity_score *= mean_act * 1.0\n",
    "                proto_presence = getattr(net.module, '_'+node.name+'_proto_presence')\n",
    "                proto_presence = F.gumbel_softmax(proto_presence, tau=0.5, hard=True, dim=-1)\n",
    "                proto_mask = proto_presence[p, 1].item()\n",
    "                overspecificity_score_and_proto_mask.append((overspecificity_score, len(mean_activation_of_every_leaf), proto_mask))\n",
    "\n",
    "    print('Node', node.name)\n",
    "    for child_classname in class_and_prototypes:\n",
    "        \n",
    "        print('\\t'*1, 'Child:', child_classname)\n",
    "        for p in class_and_prototypes[child_classname]:\n",
    "            \n",
    "            logstr = '\\t'*2 + f'Proto:{p} '\n",
    "            mean_activation_of_every_leaf = []\n",
    "            for leaf_descendent in proto_mean_activations[p]:\n",
    "                mean_activation = round(np.mean([activation for activation, *_ in proto_mean_activations[p][leaf_descendent]]), 4)\n",
    "                num_images = len(proto_mean_activations[p][leaf_descendent])\n",
    "                logstr += f'{leaf_descendent}:({mean_activation}) '\n",
    "                mean_activation_of_every_leaf.append(mean_activation)\n",
    "            print(logstr)\n",
    "            \n",
    "            # # if the mean_activation is less for all leaf descendants skip the node\n",
    "            # if all([mean_act < 0.2 for mean_act in mean_activation_of_every_leaf]):\n",
    "            #     if find_non_descendants:\n",
    "            #         print('\\t'*2 + f'Not skipping proto {p} of {node.name} coz of find_non_descendants')\n",
    "            #     else:\n",
    "            #         print('\\t'*2 + f'Skipping proto {p} of {node.name}')\n",
    "            #         continue\n",
    "            \n",
    "            # have this for NON descendants\n",
    "            if len(proto_mean_activations[p]) == 0:\n",
    "                continue\n",
    "            \n",
    "            if save_images or save_activation_as_npy_path:\n",
    "                patches = []\n",
    "                right_descriptions = []\n",
    "                text_region_width = 3 # 3x the width of a patch\n",
    "\n",
    "                font_size = 40\n",
    "                fnt = ImageFont.truetype(\"arial.ttf\", font_size)\n",
    "                max_width = ImageDraw.Draw(Image.new(\"RGB\", (100, 100), (255, 0, 0))).textlength('-', font=fnt)\n",
    "                \n",
    "                for leaf_descendent in proto_mean_activations[p]:\n",
    "                    for word in leaf_descendent.split('_')[2:]:\n",
    "                        width_of_word = ImageDraw.Draw(Image.new(\"RGB\", (100, 100), (255, 0, 0))).textlength(word, font=fnt)\n",
    "                        max_width = max(max_width, width_of_word)\n",
    "\n",
    "                for leaf_descendent, heap in proto_mean_activations[p].items():\n",
    "                    species_name = ' '.join(leaf_descendent.split('_')[2:])\n",
    "                    heap = sorted(heap)[::-1]\n",
    "                    mean_activation = round(np.mean([activation for activation, *_ in proto_mean_activations[p][leaf_descendent]]), 4)\n",
    "                    for rank, ele in enumerate(heap):\n",
    "                        activation, img_to_open, (h_coor_min, h_coor_max, w_coor_min, w_coor_max), latent_activation = ele\n",
    "                        image = transforms.Resize(size=(args.image_size, args.image_size))(Image.open(img_to_open))\n",
    "                        img_tensor = transforms.ToTensor()(image)#.unsqueeze_(0) #shape (1, 3, h, w)\n",
    "                        img_tensor_patch = img_tensor[:, h_coor_min:h_coor_max, w_coor_min:w_coor_max]\n",
    "                        # latent_activation[latent_activation < torch.quantile(latent_activation, 0.75).item()] = 0.\n",
    "                        # latent_activation[latent_activation < 1.5] = 0.\n",
    "                        # pdb.set_trace()\n",
    "                        overlayed_image_np = get_heatmap(latent_activation, img_tensor)\n",
    "                        overlayed_image = torch.tensor(overlayed_image_np).permute(2, 0, 1).float() / 255.\n",
    "                        # overlayed_image = img_tensor\n",
    "                        patches.append(overlayed_image)\n",
    "                        \n",
    "                        # added for NUMPY SAVING\n",
    "                        \n",
    "                        if save_activation_as_npy_path:\n",
    "#                             upscaled_similarity_interpolated = get_upscaled_activation_interpolated(latent_activation,\n",
    "#                                                                                        image_size=(args.image_size, args.image_size))\n",
    "                            latent_activation_npy = latent_activation.squeeze().cpu().numpy()\n",
    "                            data = {'node_name': node.name,\n",
    "                                    'proto_num': p,\n",
    "                                    'child_name': child_classname,\n",
    "                                    'leaf_desc': leaf_descendent,\n",
    "                                     'rank': rank,\n",
    "                                     'img_path': img_to_open,\n",
    "                                     'img_filename': ntpath.basename(img_to_open),\n",
    "                                     'activation': latent_activation_npy,\n",
    "                                     'max_activation': activation,\n",
    "                                     'model_type': 'NAIVE-HPIPNET'}\n",
    "                            filename = str(rank)+ '-' + ntpath.basename(img_to_open) + '.npy'\n",
    "                            save_path = os.path.join(run_path, save_activation_as_npy_path, \\\n",
    "                                                     node.name, str(p), leaf_descendent,\n",
    "                                                     filename)\n",
    "                            os.makedirs(os.path.dirname(save_path), exist_ok=True)\n",
    "                            np.save(save_path, data, allow_pickle=True)\n",
    "\n",
    "                    # # description on the right hand side\n",
    "                    # text = f'{mean_activation}, {leaf_descendent}'\n",
    "                    # txtimage = Image.new(\"RGB\", (patches[0].shape[-2]*text_region_width,patches[0].shape[-1]), (255, 255, 255))\n",
    "                    # draw = D.Draw(txtimage)\n",
    "                    # draw.text((150, patches[0].shape[1]//2), text, anchor='mm', fill=\"black\", font=font)\n",
    "                    # pdb.set_trace()\n",
    "                    # txttensor = transforms.ToTensor()(txtimage)#.unsqueeze_(0)\n",
    "                    # right_descriptions.append(txttensor)\n",
    "\n",
    "                    text = '\\n'.join(species_name.split(' '))\n",
    "                    \n",
    "                    image_size = (math.ceil(max_width) + 10, patches[0].shape[-1])\n",
    "                    txtimage = Image.new(\"RGB\", image_size, (255, 255, 255))\n",
    "                    d = ImageDraw.Draw(txtimage)\n",
    "                    d.multiline_text((image_size[0]/2, image_size[1]/2), text, font=fnt, fill=(0, 0, 0), align =\"center\", anchor=\"mm\")\n",
    "                    txttensor = transforms.ToTensor()(txtimage)#.unsqueeze_(0)\n",
    "                    right_descriptions.append(txttensor)\n",
    "                    \n",
    "\n",
    "                padding = 0\n",
    "\n",
    "                # grid = torchvision.utils.make_grid(patches, nrow=topk, padding=padding, border=0)\n",
    "                # grid_right_descriptions = torchvision.utils.make_grid(right_descriptions, nrow=1, padding=padding, border=0)\n",
    "                # grid = torch.cat([grid_right_descriptions, grid], dim=-1)\n",
    "\n",
    "                grid_rows = []\n",
    "                for k in range(len(proto_mean_activations[p])):\n",
    "                    grid_row = torchvision.utils.make_grid(patches[k*topk:(k+1)*topk], nrow=topk, padding=padding, border=0)\n",
    "                    grid_right_description = torchvision.utils.make_grid(right_descriptions[k], nrow=1, padding=padding, border=0)\n",
    "                    grid_row = torch.cat([grid_right_description, grid_row], dim=-1)\n",
    "                    grid_rows.append(grid_row)\n",
    "                # grid = torch.cat(grid_rows, dim=0)\n",
    "                grid = torchvision.utils.make_grid(grid_rows, nrow=1, padding=5, pad_value=1.)\n",
    "                    \n",
    "                # # description on the top\n",
    "                # text = f'Node:{node.name}, p{p}, Child:{child_classname}'\n",
    "                # txtimage = Image.new(\"RGB\", (grid.shape[-1], args.wshape), (0, 0, 0))\n",
    "                # draw = D.Draw(txtimage)\n",
    "                # draw.text((150, patches[0].shape[1]//2), text, anchor='mm', fill=\"white\", font=font)\n",
    "                # txttensor = transforms.ToTensor()(txtimage)#.unsqueeze_(0)\n",
    "\n",
    "                # merging top description with the grid of images\n",
    "                # grid = torch.cat([grid, txttensor], dim=1)\n",
    "                \n",
    "                if save_images:\n",
    "                    prefix = 'non_' if find_non_descendants else ''\n",
    "                    os.makedirs(os.path.join(run_path, prefix+f'descendent_specific_topk_heatmap_clean_ep={epoch}', node.name), exist_ok=True)\n",
    "                    torchvision.utils.save_image(grid, os.path.join(run_path, prefix+f'descendent_specific_topk_heatmap_clean_ep={epoch}', node.name, f'{child_classname}-p{p}.png'), border=0) # , border_color=(255, 255, 255), border=10\n",
    "\n",
    "# txt_file.write('\\n')\n",
    "# txt_file.close()\n",
    "print('Done !!!')"
   ]
  },
  {
   "cell_type": "code",
   "execution_count": 27,
   "metadata": {},
   "outputs": [
    {
     "data": {
      "image/jpeg": "[encoded data removed]",
      "image/png": "[encoded data removed]",
      "text/plain": [
       "<PIL.Image.Image image mode=RGB size=207x224>"
      ]
     },
     "metadata": {},
     "output_type": "display_data"
    }
   ],
   "source": [
    "# from PIL import Image, ImageDraw, ImageFont\n",
    "# import math\n",
    "\n",
    "# text = \"Hello\\nWorld\\nWoWWW\\nWoWWW!!!\"\n",
    "# font_size = 40\n",
    "# fnt = ImageFont.truetype(\"arial.ttf\", font_size)\n",
    "# image_size = (224, 224)\n",
    "# biggest_word = sorted(text.split('\\n'), key = lambda x: len(x))[-1]\n",
    "# max_width = ImageDraw.Draw(Image.new(\"RGB\", (100, 100), (255, 0, 0))).textlength(biggest_word, font=fnt)\n",
    "# image_size = (math.ceil(max_width), 224)\n",
    "# out = Image.new(\"RGB\", image_size, (255, 255, 255))\n",
    "# d = ImageDraw.Draw(out)\n",
    "# d.multiline_text((image_size[0]/2, image_size[1]/2), text, font=fnt, fill=(0, 0, 0), align =\"center\", anchor=\"mm\")\n",
    "\n",
    "# out.show()"
   ]
  },
  {
   "cell_type": "code",
   "execution_count": 18,
   "metadata": {},
   "outputs": [
    {
     "data": {
      "image/png": "[encoded data removed]",
      "text/plain": [
       "<Figure size 640x480 with 1 Axes>"
      ]
     },
     "metadata": {},
     "output_type": "display_data"
    }
   ],
   "source": [
    "import matplotlib.pyplot as plt\n",
    "\n",
    "# Example list of tuples\n",
    "data = overspecificity_score_and_proto_mask\n",
    "\n",
    "# Separate the data based on the second value\n",
    "x_0 = [x for x, y, z in data if z == 0]  # First values where the second value is 0\n",
    "x_1 = [x for x, y, z in data if z == 1]  # First values where the second value is 1\n",
    "\n",
    "# Create a dummy y-axis value since this is a one-dimensional scatter plot\n",
    "# y_0 = [y for x, y, z in data if z == 0]  # Dummy y values for blue points\n",
    "# y_1 = [y for x, y, z in data if z == 1]  # Dummy y values for red points\n",
    "\n",
    "# y_0 = [1]*len(x_0)\n",
    "# y_1 = [1.5]*len(x_1)\n",
    "\n",
    "y_0 = [1]*len(x_0)\n",
    "y_1 = [1]*len(x_1)\n",
    "\n",
    "# Plot the data\n",
    "plt.scatter(x_1, y_1, color='red', label='Value 1', s=4)   # Plot points with second value 1 in red\n",
    "plt.scatter(x_0, y_0, color='blue', label='Value 0', s=4)  # Plot points with second value 0 in blue\n",
    "\n",
    "\n",
    "# Additional plot formatting\n",
    "plt.xlabel('Overspecificity score')\n",
    "# plt.ylabel('Num descendants')  # Hide y-axis ticks since it's a one-dimensional plot\n",
    "plt.yticks([])\n",
    "# plt.legend(loc='best')\n",
    "# plt.title('One-dimensional Scatter Plot')\n",
    "plt.show()\n"
   ]
  },
  {
   "cell_type": "code",
   "execution_count": 15,
   "metadata": {},
   "outputs": [
    {
     "name": "stdout",
     "output_type": "stream",
     "text": [
      "\u001b[33mWARNING: Package(s) not found: cairosvg\u001b[0m\u001b[33m\n",
      "\u001b[0m"
     ]
    }
   ],
   "source": [
    "!pip show cairosvg"
   ]
  },
  {
   "cell_type": "code",
   "execution_count": null,
   "metadata": {},
   "outputs": [],
   "source": []
  }
 ],
 "metadata": {
  "kernelspec": {
   "display_name": "Python 3 (ipykernel)",
   "language": "python",
   "name": "python3"
  },
  "language_info": {
   "codemirror_mode": {
    "name": "ipython",
    "version": 3
   },
   "file_extension": ".py",
   "mimetype": "text/x-python",
   "name": "python",
   "nbconvert_exporter": "python",
   "pygments_lexer": "ipython3",
   "version": "3.9.18"
  }
 },
 "nbformat": 4,
 "nbformat_minor": 4
}
